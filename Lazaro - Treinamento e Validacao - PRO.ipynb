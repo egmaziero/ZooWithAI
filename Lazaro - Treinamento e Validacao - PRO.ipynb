{
 "cells": [
  {
   "cell_type": "markdown",
   "id": "f1803812-f6b5-4d55-9c2f-262f9ae6e455",
   "metadata": {},
   "source": [
    "# PRO"
   ]
  },
  {
   "cell_type": "code",
   "execution_count": 1,
   "id": "e5debc3e-7fac-40e9-8348-df43a0f71a66",
   "metadata": {},
   "outputs": [],
   "source": [
    "import numpy as np\n",
    "import pandas as pd"
   ]
  },
  {
   "cell_type": "markdown",
   "id": "8bbdaa22-f0fa-4ea8-ad42-01e1dab95e65",
   "metadata": {
    "tags": []
   },
   "source": [
    "## Passo 1: Leitura dos dados\n",
    "Leitura dos bancos de dados em DataFrame Pandas. "
   ]
  },
  {
   "cell_type": "code",
   "execution_count": 2,
   "id": "266bf334-70a8-4f5c-82b9-f1ac8ffb8853",
   "metadata": {},
   "outputs": [],
   "source": [
    "caminho_dados_lazaro = 'Datasets/Lazaro/dados_pre_processados_lazaro.csv'"
   ]
  },
  {
   "cell_type": "code",
   "execution_count": 3,
   "id": "be544d64-f642-4ded-9dbb-dad41fd3e819",
   "metadata": {},
   "outputs": [],
   "source": [
    "df = pd.read_csv(caminho_dados_lazaro)"
   ]
  },
  {
   "cell_type": "code",
   "execution_count": 4,
   "id": "f6683cd6-f6a5-4fd8-afab-0f3536910880",
   "metadata": {},
   "outputs": [
    {
     "data": {
      "text/html": [
       "<div>\n",
       "<style scoped>\n",
       "    .dataframe tbody tr th:only-of-type {\n",
       "        vertical-align: middle;\n",
       "    }\n",
       "\n",
       "    .dataframe tbody tr th {\n",
       "        vertical-align: top;\n",
       "    }\n",
       "\n",
       "    .dataframe thead th {\n",
       "        text-align: right;\n",
       "    }\n",
       "</style>\n",
       "<table border=\"1\" class=\"dataframe\">\n",
       "  <thead>\n",
       "    <tr style=\"text-align: right;\">\n",
       "      <th></th>\n",
       "      <th>Piquete</th>\n",
       "      <th>Altura real</th>\n",
       "      <th>Altura esperada</th>\n",
       "      <th>Animal</th>\n",
       "      <th>SensorID</th>\n",
       "      <th>Sensor Name</th>\n",
       "      <th>Date</th>\n",
       "      <th>X</th>\n",
       "      <th>Y</th>\n",
       "      <th>Z</th>\n",
       "      <th>Comportamento</th>\n",
       "      <th>Season_fall</th>\n",
       "      <th>Season_spring</th>\n",
       "      <th>Season_summer</th>\n",
       "      <th>magn</th>\n",
       "      <th>sma</th>\n",
       "      <th>ent</th>\n",
       "      <th>pit</th>\n",
       "      <th>rol</th>\n",
       "      <th>icl</th>\n",
       "    </tr>\n",
       "  </thead>\n",
       "  <tbody>\n",
       "    <tr>\n",
       "      <th>0</th>\n",
       "      <td>11</td>\n",
       "      <td>25.2</td>\n",
       "      <td>25.0</td>\n",
       "      <td>85</td>\n",
       "      <td>434138</td>\n",
       "      <td>Accelerometer - 434138</td>\n",
       "      <td>2019-11-09 09:47:47</td>\n",
       "      <td>-0.132</td>\n",
       "      <td>-0.583</td>\n",
       "      <td>0.712</td>\n",
       "      <td>Ocio</td>\n",
       "      <td>0.0</td>\n",
       "      <td>1.0</td>\n",
       "      <td>0.0</td>\n",
       "      <td>0.929654</td>\n",
       "      <td>1.427</td>\n",
       "      <td>-0.005973</td>\n",
       "      <td>8.162915</td>\n",
       "      <td>129.311311</td>\n",
       "      <td>40.014999</td>\n",
       "    </tr>\n",
       "    <tr>\n",
       "      <th>1</th>\n",
       "      <td>11</td>\n",
       "      <td>25.2</td>\n",
       "      <td>25.0</td>\n",
       "      <td>85</td>\n",
       "      <td>434138</td>\n",
       "      <td>Accelerometer - 434138</td>\n",
       "      <td>2019-11-09 09:47:48</td>\n",
       "      <td>0.021</td>\n",
       "      <td>-0.792</td>\n",
       "      <td>0.574</td>\n",
       "      <td>Ocio</td>\n",
       "      <td>0.0</td>\n",
       "      <td>1.0</td>\n",
       "      <td>0.0</td>\n",
       "      <td>0.978356</td>\n",
       "      <td>1.387</td>\n",
       "      <td>-0.282943</td>\n",
       "      <td>-1.229924</td>\n",
       "      <td>144.067373</td>\n",
       "      <td>54.076939</td>\n",
       "    </tr>\n",
       "    <tr>\n",
       "      <th>2</th>\n",
       "      <td>11</td>\n",
       "      <td>25.2</td>\n",
       "      <td>25.0</td>\n",
       "      <td>85</td>\n",
       "      <td>434138</td>\n",
       "      <td>Accelerometer - 434138</td>\n",
       "      <td>2019-11-09 09:47:50</td>\n",
       "      <td>0.021</td>\n",
       "      <td>-0.792</td>\n",
       "      <td>0.574</td>\n",
       "      <td>Ocio</td>\n",
       "      <td>0.0</td>\n",
       "      <td>1.0</td>\n",
       "      <td>0.0</td>\n",
       "      <td>0.978356</td>\n",
       "      <td>1.387</td>\n",
       "      <td>-0.282943</td>\n",
       "      <td>-1.229924</td>\n",
       "      <td>144.067373</td>\n",
       "      <td>54.076939</td>\n",
       "    </tr>\n",
       "    <tr>\n",
       "      <th>3</th>\n",
       "      <td>11</td>\n",
       "      <td>25.2</td>\n",
       "      <td>25.0</td>\n",
       "      <td>85</td>\n",
       "      <td>434138</td>\n",
       "      <td>Accelerometer - 434138</td>\n",
       "      <td>2019-11-09 09:47:51</td>\n",
       "      <td>0.021</td>\n",
       "      <td>-0.792</td>\n",
       "      <td>0.574</td>\n",
       "      <td>Ocio</td>\n",
       "      <td>0.0</td>\n",
       "      <td>1.0</td>\n",
       "      <td>0.0</td>\n",
       "      <td>0.978356</td>\n",
       "      <td>1.387</td>\n",
       "      <td>-0.282943</td>\n",
       "      <td>-1.229924</td>\n",
       "      <td>144.067373</td>\n",
       "      <td>54.076939</td>\n",
       "    </tr>\n",
       "    <tr>\n",
       "      <th>4</th>\n",
       "      <td>11</td>\n",
       "      <td>25.2</td>\n",
       "      <td>25.0</td>\n",
       "      <td>85</td>\n",
       "      <td>434138</td>\n",
       "      <td>Accelerometer - 434138</td>\n",
       "      <td>2019-11-09 09:47:52</td>\n",
       "      <td>-0.061</td>\n",
       "      <td>-0.870</td>\n",
       "      <td>0.478</td>\n",
       "      <td>Ocio</td>\n",
       "      <td>0.0</td>\n",
       "      <td>1.0</td>\n",
       "      <td>0.0</td>\n",
       "      <td>0.994538</td>\n",
       "      <td>1.409</td>\n",
       "      <td>-0.361029</td>\n",
       "      <td>3.516446</td>\n",
       "      <td>151.214493</td>\n",
       "      <td>61.273746</td>\n",
       "    </tr>\n",
       "  </tbody>\n",
       "</table>\n",
       "</div>"
      ],
      "text/plain": [
       "   Piquete  Altura real  Altura esperada  Animal  SensorID  \\\n",
       "0       11         25.2             25.0      85    434138   \n",
       "1       11         25.2             25.0      85    434138   \n",
       "2       11         25.2             25.0      85    434138   \n",
       "3       11         25.2             25.0      85    434138   \n",
       "4       11         25.2             25.0      85    434138   \n",
       "\n",
       "              Sensor Name                 Date      X      Y      Z  \\\n",
       "0  Accelerometer - 434138  2019-11-09 09:47:47 -0.132 -0.583  0.712   \n",
       "1  Accelerometer - 434138  2019-11-09 09:47:48  0.021 -0.792  0.574   \n",
       "2  Accelerometer - 434138  2019-11-09 09:47:50  0.021 -0.792  0.574   \n",
       "3  Accelerometer - 434138  2019-11-09 09:47:51  0.021 -0.792  0.574   \n",
       "4  Accelerometer - 434138  2019-11-09 09:47:52 -0.061 -0.870  0.478   \n",
       "\n",
       "  Comportamento  Season_fall  Season_spring  Season_summer      magn    sma  \\\n",
       "0          Ocio          0.0            1.0            0.0  0.929654  1.427   \n",
       "1          Ocio          0.0            1.0            0.0  0.978356  1.387   \n",
       "2          Ocio          0.0            1.0            0.0  0.978356  1.387   \n",
       "3          Ocio          0.0            1.0            0.0  0.978356  1.387   \n",
       "4          Ocio          0.0            1.0            0.0  0.994538  1.409   \n",
       "\n",
       "        ent       pit         rol        icl  \n",
       "0 -0.005973  8.162915  129.311311  40.014999  \n",
       "1 -0.282943 -1.229924  144.067373  54.076939  \n",
       "2 -0.282943 -1.229924  144.067373  54.076939  \n",
       "3 -0.282943 -1.229924  144.067373  54.076939  \n",
       "4 -0.361029  3.516446  151.214493  61.273746  "
      ]
     },
     "execution_count": 4,
     "metadata": {},
     "output_type": "execute_result"
    }
   ],
   "source": [
    "df.head()"
   ]
  },
  {
   "cell_type": "code",
   "execution_count": 5,
   "id": "3a143d54-c58b-4182-8302-3fb7897b219f",
   "metadata": {},
   "outputs": [],
   "source": [
    "# Remove as linhas com o sensor 434138\n",
    "df = df[df.SensorID != 434138]"
   ]
  },
  {
   "cell_type": "markdown",
   "id": "35cdcc55-22f7-4ee2-a77b-b111b5b58958",
   "metadata": {
    "tags": []
   },
   "source": [
    "## Passo 2: Treinamento e Validação"
   ]
  },
  {
   "cell_type": "code",
   "execution_count": 6,
   "id": "506ac15e-da6c-47b2-adc4-e09d8890e72b",
   "metadata": {},
   "outputs": [],
   "source": [
    "from sklearn.model_selection import train_test_split\n",
    "from sklearn.metrics import accuracy_score, confusion_matrix, classification_report\n",
    "from sklearn.model_selection import cross_val_score\n",
    "# Para a busca do melhores hiperparêmetros\n",
    "from sklearn.model_selection import RandomizedSearchCV\n",
    "from skopt import gp_minimize"
   ]
  },
  {
   "cell_type": "markdown",
   "id": "cc792402-c4a8-4e76-a021-0361352d498d",
   "metadata": {
    "tags": []
   },
   "source": [
    "### Seleção de colunas aplicáveis"
   ]
  },
  {
   "cell_type": "code",
   "execution_count": 7,
   "id": "52e47438-90af-4920-a577-188200a56338",
   "metadata": {
    "tags": []
   },
   "outputs": [
    {
     "data": {
      "text/plain": [
       "Index(['Piquete', 'Altura real', 'Altura esperada', 'Animal', 'SensorID',\n",
       "       'Sensor Name', 'Date', 'X', 'Y', 'Z', 'Comportamento', 'Season_fall',\n",
       "       'Season_spring', 'Season_summer', 'magn', 'sma', 'ent', 'pit', 'rol',\n",
       "       'icl'],\n",
       "      dtype='object')"
      ]
     },
     "execution_count": 7,
     "metadata": {},
     "output_type": "execute_result"
    }
   ],
   "source": [
    "df.columns"
   ]
  },
  {
   "cell_type": "code",
   "execution_count": 8,
   "id": "0a9e6168-130b-4219-8c3c-290f984fc8fb",
   "metadata": {},
   "outputs": [],
   "source": [
    "# Lista com os atributos aplicáveis\n",
    "features_aplicaveis = ['X', 'Y' ,'Z', 'Comportamento', 'Season_fall', 'Season_spring', 'Season_summer', 'magn', 'sma', 'ent', 'pit', 'rol', 'icl']\n",
    "\n",
    "# Seleciona os abributos correspondentes da lista features_aplicaveis\n",
    "df = df[features_aplicaveis]"
   ]
  },
  {
   "cell_type": "markdown",
   "id": "04f27469-79d0-454a-9c8e-06662cfeef85",
   "metadata": {
    "tags": []
   },
   "source": [
    "#### Divisão entre variáveis preditoras(X) e variáveis de resposta(y)"
   ]
  },
  {
   "cell_type": "code",
   "execution_count": 9,
   "id": "cded3296-542d-477b-83fd-54a5d9ac15bf",
   "metadata": {
    "tags": []
   },
   "outputs": [],
   "source": [
    "y = df.Comportamento\n",
    "X = df.drop('Comportamento', axis=1)\n",
    "\n",
    "# Conjunto de dados PRO: Pastejando x Ruminando x Ócio\n",
    "# Test size = 0.25\n",
    "X_train, X_test, y_train, y_test = train_test_split(X, y, train_size=0.8, random_state = 0, stratify=y)"
   ]
  },
  {
   "cell_type": "code",
   "execution_count": 10,
   "id": "cabb111f-1ba2-460c-bb5b-178b148ed99d",
   "metadata": {},
   "outputs": [],
   "source": [
    "# Para reescalar os dados\n",
    "from sklearn.preprocessing import StandardScaler\n",
    "\n",
    "X_train_season = X_train[['Season_fall', 'Season_spring', 'Season_summer']]\n",
    "X_test_season =  X_test[['Season_fall', 'Season_spring', 'Season_summer']]\n",
    "\n",
    "X_train.drop(['Season_fall', 'Season_spring', 'Season_summer'], axis=1, inplace=True)\n",
    "X_test.drop(['Season_fall', 'Season_spring', 'Season_summer'], axis=1, inplace=True)\n",
    "\n",
    "columns = X_train.columns\n",
    "index_train = X_train.index\n",
    "index_test = X_test.index\n",
    "\n",
    "\n",
    "sc = StandardScaler()\n",
    "X_train = sc.fit_transform(X_train)\n",
    "X_test = sc.transform (X_test)\n",
    "\n",
    "X_train = pd.DataFrame(X_train, columns=columns, index=index_train)\n",
    "X_test = pd.DataFrame(X_test, columns=columns, index=index_test)\n",
    "\n",
    "X_train = pd.concat([X_train, X_train_season], axis=1)\n",
    "X_test = pd.concat([X_test, X_test_season], axis=1)"
   ]
  },
  {
   "cell_type": "code",
   "execution_count": 11,
   "id": "aa678b30-121a-4a57-994c-6505070edd88",
   "metadata": {},
   "outputs": [],
   "source": [
    "del X_test_season\n",
    "del X_train_season"
   ]
  },
  {
   "cell_type": "markdown",
   "id": "4db924e5-5828-4361-943c-0c9d59dd800b",
   "metadata": {
    "tags": []
   },
   "source": [
    "### Função para imprimir e salvar matriz de confusão"
   ]
  },
  {
   "cell_type": "code",
   "execution_count": 12,
   "id": "8e6be2bb-7839-46a4-aab2-70fd76d02340",
   "metadata": {},
   "outputs": [],
   "source": [
    "# Função para imprimir e salvar matriz de confusão\n",
    "def imprimeMatrizDeConfusão(y_test, preds, model, salvarFigura = False):\n",
    "    from sklearn.metrics import confusion_matrix\n",
    "    from sklearn.metrics import ConfusionMatrixDisplay\n",
    "    import matplotlib.pyplot as plt\n",
    "\n",
    "    cm = confusion_matrix(y_test, preds, normalize='true')\n",
    "    disp = ConfusionMatrixDisplay(confusion_matrix=cm, display_labels=model.classes_)\n",
    "    disp.plot(values_format= '.2%', xticks_rotation=60, colorbar=False)\n",
    "    disp.ax_.set_title(\"Matriz de confusão normalizada sobre as condições verdadeiras\")\n",
    "    if(salvarFigura):\n",
    "        plt.savefig(input('Nome da figura a ser salva:' ) + '.png')\n",
    "    plt.show()"
   ]
  },
  {
   "cell_type": "markdown",
   "id": "c9e0e07a-17e0-4132-a1d2-532d39a31f60",
   "metadata": {
    "tags": []
   },
   "source": [
    "### GLM "
   ]
  },
  {
   "cell_type": "code",
   "execution_count": 72,
   "id": "152ef8f8-0695-4da2-aed2-ca2cc9beb810",
   "metadata": {},
   "outputs": [],
   "source": [
    "from patsy import dmatrices\n",
    "import statsmodels.api as sm"
   ]
  },
  {
   "cell_type": "code",
   "execution_count": 73,
   "id": "14f95fee-c18b-42f1-9362-5480c37c47b6",
   "metadata": {},
   "outputs": [],
   "source": [
    "df_train = pd.concat([X_train, y_train], axis=1)"
   ]
  },
  {
   "cell_type": "code",
   "execution_count": 74,
   "id": "fcb7f040-4609-480b-b3a7-ed9919ac2665",
   "metadata": {},
   "outputs": [],
   "source": [
    "y_train, X_train = dmatrices( 'Comportamento ~ X + Y + Z + Season_fall + Season_spring + Season_summer + magn + sma + ent + pit + rol + icl', data=df_train, return_type='dataframe')"
   ]
  },
  {
   "cell_type": "code",
   "execution_count": 75,
   "id": "a29b7daf-5b0a-47e1-a6d2-c44e400fc0f8",
   "metadata": {},
   "outputs": [],
   "source": [
    "glm_model = sm.MNLogit(y_train, X_train) "
   ]
  },
  {
   "cell_type": "code",
   "execution_count": 76,
   "id": "1a6b2159-d017-452a-9b1d-048ae5305aa1",
   "metadata": {},
   "outputs": [
    {
     "name": "stdout",
     "output_type": "stream",
     "text": [
      "Optimization terminated successfully.\n",
      "         Current function value: 0.951639\n",
      "         Iterations 6\n"
     ]
    }
   ],
   "source": [
    "glm_results = glm_model.fit()"
   ]
  },
  {
   "cell_type": "code",
   "execution_count": 77,
   "id": "599919e7-393f-4156-81a9-cc00af93cb10",
   "metadata": {},
   "outputs": [],
   "source": [
    "df_test = pd.concat([X_test, y_test], axis=1)"
   ]
  },
  {
   "cell_type": "code",
   "execution_count": 78,
   "id": "0f78c2d5-6f58-4ff5-811d-c7f5e18c0a2f",
   "metadata": {},
   "outputs": [],
   "source": [
    "y_test, X_test = dmatrices( 'Comportamento ~ X + Y + Z + Season_fall + Season_spring + Season_summer + magn + sma + ent + pit + rol + icl', data=df_test, return_type='dataframe')"
   ]
  },
  {
   "cell_type": "code",
   "execution_count": 79,
   "id": "74820cee-1e53-4fa2-9af4-c8dff6c7c8c3",
   "metadata": {},
   "outputs": [],
   "source": [
    "preds = glm_results.predict(X_test)"
   ]
  },
  {
   "cell_type": "code",
   "execution_count": 80,
   "id": "6eb69986-a736-46a2-b4b3-91c5076a7ce2",
   "metadata": {},
   "outputs": [],
   "source": [
    "preds[3] = preds.median(axis=1)"
   ]
  },
  {
   "cell_type": "code",
   "execution_count": 81,
   "id": "a09b7e2f-d5af-49fa-b6d6-06401741f402",
   "metadata": {},
   "outputs": [],
   "source": [
    "preds = preds.reset_index(drop=True)"
   ]
  },
  {
   "cell_type": "code",
   "execution_count": 82,
   "id": "5c660dd6-e23b-49b0-9c7e-1e56085a307a",
   "metadata": {},
   "outputs": [],
   "source": [
    "b = np.zeros((preds.shape[0], 3))"
   ]
  },
  {
   "cell_type": "code",
   "execution_count": 83,
   "id": "8500631c-6867-4464-a5b6-4f0206ded7dc",
   "metadata": {},
   "outputs": [],
   "source": [
    "for i in range(preds.shape[0]):\n",
    "    for j in range(3):\n",
    "        if preds.loc[i,j] > preds.loc[i,3]:\n",
    "            b[i,j] = 1\n",
    "        else:\n",
    "            b[i,j] = 0"
   ]
  },
  {
   "cell_type": "code",
   "execution_count": 84,
   "id": "3f33977d-8b3e-4d0f-9495-0d95c1133b4d",
   "metadata": {},
   "outputs": [],
   "source": [
    "preds = pd.DataFrame(b, columns=['Ocio', 'Pastejando', 'Ruminando'])"
   ]
  },
  {
   "cell_type": "code",
   "execution_count": 85,
   "id": "3612747a-c5b7-4904-be0e-d59f407c6b9b",
   "metadata": {},
   "outputs": [
    {
     "data": {
      "text/plain": [
       "56.88874248538253"
      ]
     },
     "execution_count": 85,
     "metadata": {},
     "output_type": "execute_result"
    }
   ],
   "source": [
    "accuracy_score(y_test, preds)*100"
   ]
  },
  {
   "cell_type": "code",
   "execution_count": 86,
   "id": "5e202499-8c2c-4518-b176-ea721848c267",
   "metadata": {},
   "outputs": [
    {
     "name": "stdout",
     "output_type": "stream",
     "text": [
      "              precision    recall  f1-score   support\n",
      "\n",
      "           0      0.359     0.101     0.158     24652\n",
      "           1      0.593     0.916     0.720     66502\n",
      "           2      0.484     0.187     0.270     30276\n",
      "\n",
      "   micro avg      0.569     0.569     0.569    121430\n",
      "   macro avg      0.479     0.402     0.383    121430\n",
      "weighted avg      0.518     0.569     0.494    121430\n",
      " samples avg      0.569     0.569     0.569    121430\n",
      "\n"
     ]
    }
   ],
   "source": [
    "print(classification_report(y_test, preds, digits=3))"
   ]
  },
  {
   "cell_type": "code",
   "execution_count": 87,
   "id": "a9929665-5d28-40b4-a8a2-227257eade2a",
   "metadata": {},
   "outputs": [],
   "source": [
    "# Reverso de get_dummies\n",
    "preds = preds.idxmax(axis=1)"
   ]
  },
  {
   "cell_type": "code",
   "execution_count": 88,
   "id": "e1564793-c793-46b8-9ff2-7200ec561fb2",
   "metadata": {},
   "outputs": [],
   "source": [
    "y_test = y_test.rename(columns={\"Comportamento[Ocio]\" : \"Ocio\", \"Comportamento[Pastejando]\" : \"Pastejando\", \"Comportamento[Ruminando]\" : \"Ruminando\"})"
   ]
  },
  {
   "cell_type": "code",
   "execution_count": 89,
   "id": "3f36faba-0f15-4d2d-8da9-1f9ae4498802",
   "metadata": {},
   "outputs": [],
   "source": [
    "y_test = y_test.idxmax(axis=1)"
   ]
  },
  {
   "cell_type": "code",
   "execution_count": 90,
   "id": "ec509a90-620a-4371-8d96-7107fb26af9a",
   "metadata": {},
   "outputs": [
    {
     "data": {
      "image/png": "[encoded data removed]",
      "text/plain": [
       "<Figure size 432x288 with 1 Axes>"
      ]
     },
     "metadata": {
      "needs_background": "light"
     },
     "output_type": "display_data"
    }
   ],
   "source": [
    "from sklearn.metrics import confusion_matrix\n",
    "from sklearn.metrics import ConfusionMatrixDisplay\n",
    "import matplotlib.pyplot as plt\n",
    "\n",
    "cm = confusion_matrix(y_test, preds, normalize='true')\n",
    "disp = ConfusionMatrixDisplay(confusion_matrix=cm)\n",
    "disp.plot(values_format= '.2%', xticks_rotation=60, colorbar=False)\n",
    "disp.ax_.set_title(\"Matriz de confusão normalizada sobre as condições verdadeiras\")\n",
    "plt.show()"
   ]
  },
  {
   "cell_type": "markdown",
   "id": "3ed279a5-56c0-4837-be15-5a42a7194484",
   "metadata": {},
   "source": [
    "### LGBMClassifier"
   ]
  },
  {
   "cell_type": "code",
   "execution_count": 16,
   "id": "b7720fc1-efb2-4333-a44b-72f34d696af2",
   "metadata": {},
   "outputs": [],
   "source": [
    "from lightgbm import LGBMClassifier"
   ]
  },
  {
   "cell_type": "code",
   "execution_count": 212,
   "id": "b504f1dd-6d51-4256-a9bb-7159974baddb",
   "metadata": {},
   "outputs": [
    {
     "data": {
      "text/plain": [
       "77.83414312772791"
      ]
     },
     "execution_count": 212,
     "metadata": {},
     "output_type": "execute_result"
    }
   ],
   "source": [
    "lgb_model = LGBMClassifier(n_jobs=-1, random_state=0)\n",
    "lgb_model.fit(X_train, y_train)\n",
    "\n",
    "lgb_preds = lgb_model.predict(X_test)\n",
    "\n",
    "accuracy_score(y_test, lgb_preds)*100"
   ]
  },
  {
   "cell_type": "code",
   "execution_count": 213,
   "id": "0e88af36-7f21-447e-a75d-98998db0d369",
   "metadata": {},
   "outputs": [
    {
     "data": {
      "image/png": "[encoded data removed]",
      "text/plain": [
       "<Figure size 432x288 with 1 Axes>"
      ]
     },
     "metadata": {
      "needs_background": "light"
     },
     "output_type": "display_data"
    }
   ],
   "source": [
    "imprimeMatrizDeConfusão(y_test, lgb_preds, lgb_model)"
   ]
  },
  {
   "cell_type": "markdown",
   "id": "e24c5f84-5452-4bfb-81a8-ccf9dfeaa39f",
   "metadata": {
    "tags": []
   },
   "source": [
    "#### LGB: Busca de melhores hiper parâmetros"
   ]
  },
  {
   "cell_type": "code",
   "execution_count": 95,
   "id": "434f5228-52fb-4376-a958-5d46ce1c5c61",
   "metadata": {},
   "outputs": [],
   "source": [
    "def tune_lgb(params):\n",
    "    learning_rate = params[0]\n",
    "    num_leaves = params[1]\n",
    "    min_child_samples = params[2]\n",
    "    subsample = params[3]\n",
    "    colsample_bytree = params[4]\n",
    "    \n",
    "    print(params, '\\n')\n",
    "    \n",
    "    lgb_Model = LGBMClassifier(learning_rate=learning_rate, num_leaves=num_leaves, min_child_samples=min_child_samples,\n",
    "                        subsample=subsample, colsample_bytree=colsample_bytree, random_state=0, subsample_freq=1, \n",
    "                         n_estimators=100, n_jobs=-1)\n",
    "    \n",
    "    auc = cross_val_score(lgb_Model, X_train, y_train, cv=3, scoring ='accuracy')\n",
    "    \n",
    "    return -auc.mean()\n",
    "\n",
    "space = [(1e-3, 1e-1, 'log-uniform'), #learning rate\n",
    "         (2, 512), # num_leaves\n",
    "         (1, 500), # min_child_samples\n",
    "         (0.05, 1.0), # subsample\n",
    "         (0.1, 1.0)] # colsample bytree"
   ]
  },
  {
   "cell_type": "code",
   "execution_count": 51,
   "id": "87e75be2-a56c-4622-bfd0-98d7ac66f35b",
   "metadata": {},
   "outputs": [
    {
     "name": "stdout",
     "output_type": "stream",
     "text": [
      "Iteration No: 1 started. Evaluating function at random point.\n",
      "[0.015335192657991574, 433, 429, 0.8548891518449193, 0.6612073271073752] \n",
      "\n",
      "Iteration No: 1 ended. Evaluation done at random point.\n",
      "Time taken: 29.7196\n",
      "Function value obtained: -0.7125\n",
      "Current minimum: -0.7125\n",
      "Iteration No: 2 started. Evaluating function at random point.\n",
      "[0.005871694001325899, 154, 29, 0.30902347985110756, 0.529898605589215] \n",
      "\n",
      "Iteration No: 2 ended. Evaluation done at random point.\n",
      "Time taken: 14.8425\n",
      "Function value obtained: -0.6312\n",
      "Current minimum: -0.7125\n",
      "Iteration No: 3 started. Evaluating function at random point.\n",
      "[0.04210536704211821, 247, 197, 0.8442748253605089, 0.40365654437554166] \n",
      "\n",
      "Iteration No: 3 ended. Evaluation done at random point.\n",
      "Time taken: 18.5394\n",
      "Function value obtained: -0.7245\n",
      "Current minimum: -0.7245\n",
      "Iteration No: 4 started. Evaluating function at random point.\n",
      "[0.01978535031094702, 190, 479, 0.1833332413920129, 0.8830785325225929] \n",
      "\n",
      "Iteration No: 4 ended. Evaluation done at random point.\n",
      "Time taken: 13.9401\n",
      "Function value obtained: -0.6858\n",
      "Current minimum: -0.7245\n",
      "Iteration No: 5 started. Evaluating function at random point.\n",
      "[0.008855561236207114, 410, 261, 0.6949355536130124, 0.7485693892533252] \n",
      "\n",
      "Iteration No: 5 ended. Evaluation done at random point.\n",
      "Time taken: 25.3543\n",
      "Function value obtained: -0.6987\n",
      "Current minimum: -0.7245\n",
      "Iteration No: 6 started. Evaluating function at random point.\n",
      "[0.014589472312361858, 276, 380, 0.15061222682840253, 0.5262403774119918] \n",
      "\n",
      "Iteration No: 6 ended. Evaluation done at random point.\n",
      "Time taken: 11.8666\n",
      "Function value obtained: -0.6704\n",
      "Current minimum: -0.7245\n",
      "Iteration No: 7 started. Evaluating function at random point.\n",
      "[0.002358656440793903, 378, 109, 0.17845726473517948, 0.3917269070138928] \n",
      "\n",
      "Iteration No: 7 ended. Evaluation done at random point.\n",
      "Time taken: 21.1395\n",
      "Function value obtained: -0.5477\n",
      "Current minimum: -0.7245\n",
      "Iteration No: 8 started. Evaluating function at random point.\n",
      "[0.0019922770602188436, 115, 194, 0.9074685517529346, 0.504954990920105] \n",
      "\n",
      "Iteration No: 8 ended. Evaluation done at random point.\n",
      "Time taken: 14.6818\n",
      "Function value obtained: -0.5477\n",
      "Current minimum: -0.7245\n",
      "Iteration No: 9 started. Evaluating function at random point.\n",
      "[0.0168316586809914, 462, 51, 0.9713186143594116, 0.687826032218144] \n",
      "\n",
      "Iteration No: 9 ended. Evaluation done at random point.\n",
      "Time taken: 28.8991\n",
      "Function value obtained: -0.7257\n",
      "Current minimum: -0.7257\n",
      "Iteration No: 10 started. Evaluating function at random point.\n",
      "[0.0021969449275369667, 185, 376, 0.6274391352796945, 0.3925425061075173] \n",
      "\n",
      "Iteration No: 10 ended. Evaluation done at random point.\n",
      "Time taken: 22.8922\n",
      "Function value obtained: -0.5477\n",
      "Current minimum: -0.7257\n",
      "Iteration No: 11 started. Searching for the next optimal point.\n",
      "[0.04152517035539242, 512, 1, 1.0, 1.0] \n",
      "\n",
      "Iteration No: 11 ended. Search finished for the next optimal point.\n",
      "Time taken: 30.1537\n",
      "Function value obtained: -0.7310\n",
      "Current minimum: -0.7310\n",
      "Iteration No: 12 started. Searching for the next optimal point.\n",
      "[0.1, 512, 1, 1.0, 1.0] \n",
      "\n",
      "Iteration No: 12 ended. Search finished for the next optimal point.\n",
      "Time taken: 25.0507\n",
      "Function value obtained: -0.7316\n",
      "Current minimum: -0.7316\n",
      "Iteration No: 13 started. Searching for the next optimal point.\n",
      "[0.1, 512, 1, 0.05, 1.0] \n",
      "\n",
      "Iteration No: 13 ended. Search finished for the next optimal point.\n",
      "Time taken: 29.7018\n",
      "Function value obtained: -0.5548\n",
      "Current minimum: -0.7316\n",
      "Iteration No: 14 started. Searching for the next optimal point.\n",
      "[0.06382001311577044, 2, 500, 1.0, 0.1] \n",
      "\n",
      "Iteration No: 14 ended. Search finished for the next optimal point.\n",
      "Time taken: 5.1039\n",
      "Function value obtained: -0.5907\n",
      "Current minimum: -0.7316\n",
      "Iteration No: 15 started. Searching for the next optimal point.\n",
      "[0.1, 347, 1, 1.0, 1.0] \n",
      "\n",
      "Iteration No: 15 ended. Search finished for the next optimal point.\n",
      "Time taken: 21.3996\n",
      "Function value obtained: -0.7299\n",
      "Current minimum: -0.7316\n",
      "Iteration No: 16 started. Searching for the next optimal point.\n",
      "[0.025654652016450494, 315, 3, 1.0, 0.41261616276271573] \n",
      "\n",
      "Iteration No: 16 ended. Search finished for the next optimal point.\n",
      "Time taken: 23.7534\n",
      "Function value obtained: -0.7218\n",
      "Current minimum: -0.7316\n",
      "Iteration No: 17 started. Searching for the next optimal point.\n",
      "[0.0010307125699909338, 132, 328, 0.8328422619893125, 0.41831776753776884] \n",
      "\n",
      "Iteration No: 17 ended. Search finished for the next optimal point.\n",
      "Time taken: 15.0821\n",
      "Function value obtained: -0.5477\n",
      "Current minimum: -0.7316\n",
      "Iteration No: 18 started. Searching for the next optimal point.\n",
      "[0.02094898001494985, 512, 183, 0.8139714307384595, 0.9534731509588769] \n",
      "\n",
      "Iteration No: 18 ended. Search finished for the next optimal point.\n",
      "Time taken: 33.6163\n",
      "Function value obtained: -0.7256\n",
      "Current minimum: -0.7316\n",
      "Iteration No: 19 started. Searching for the next optimal point.\n",
      "[0.05936867121868703, 512, 93, 1.0, 0.1120527461936336] \n",
      "\n",
      "Iteration No: 19 ended. Search finished for the next optimal point.\n",
      "Time taken: 13.7461\n",
      "Function value obtained: -0.6187\n",
      "Current minimum: -0.7316\n",
      "Iteration No: 20 started. Searching for the next optimal point.\n",
      "[0.1, 512, 1, 1.0, 0.6446300002048094] \n",
      "\n",
      "Iteration No: 20 ended. Search finished for the next optimal point.\n",
      "Time taken: 24.3781\n",
      "Function value obtained: -0.7328\n",
      "Current minimum: -0.7328\n",
      "Iteration No: 21 started. Searching for the next optimal point.\n",
      "[0.038535228916316965, 512, 1, 0.7816850606047989, 0.6648289395154305] \n",
      "\n",
      "Iteration No: 21 ended. Search finished for the next optimal point.\n",
      "Time taken: 34.1644\n",
      "Function value obtained: -0.7318\n",
      "Current minimum: -0.7328\n",
      "Iteration No: 22 started. Searching for the next optimal point.\n",
      "[0.044175100170350035, 512, 1, 1.0, 0.575931563713444] \n",
      "\n",
      "Iteration No: 22 ended. Search finished for the next optimal point.\n",
      "Time taken: 33.9138\n",
      "Function value obtained: -0.7323\n",
      "Current minimum: -0.7328\n",
      "Iteration No: 23 started. Searching for the next optimal point.\n",
      "[0.060043968754359904, 512, 1, 1.0, 0.8294916223819734] \n",
      "\n",
      "Iteration No: 23 ended. Search finished for the next optimal point.\n",
      "Time taken: 30.8087\n",
      "Function value obtained: -0.7326\n",
      "Current minimum: -0.7328\n",
      "Iteration No: 24 started. Searching for the next optimal point.\n",
      "[0.001, 512, 500, 0.05, 1.0] \n",
      "\n",
      "Iteration No: 24 ended. Search finished for the next optimal point.\n",
      "Time taken: 8.3779\n",
      "Function value obtained: -0.5477\n",
      "Current minimum: -0.7328\n",
      "Iteration No: 25 started. Searching for the next optimal point.\n",
      "[0.01204344298474964, 175, 1, 1.0, 1.0] \n",
      "\n",
      "Iteration No: 25 ended. Search finished for the next optimal point.\n",
      "Time taken: 17.8506\n",
      "Function value obtained: -0.7044\n",
      "Current minimum: -0.7328\n",
      "Iteration No: 26 started. Searching for the next optimal point.\n",
      "[0.1, 512, 500, 1.0, 0.8907571533195638] \n",
      "\n",
      "Iteration No: 26 ended. Search finished for the next optimal point.\n",
      "Time taken: 33.6191\n",
      "Function value obtained: -0.7310\n",
      "Current minimum: -0.7328\n",
      "Iteration No: 27 started. Searching for the next optimal point.\n",
      "[0.030858365803716984, 512, 1, 0.6841203152713075, 0.4810966133120873] \n",
      "\n",
      "Iteration No: 27 ended. Search finished for the next optimal point.\n",
      "Time taken: 26.9042\n",
      "Function value obtained: -0.7296\n",
      "Current minimum: -0.7328\n",
      "Iteration No: 28 started. Searching for the next optimal point.\n",
      "[0.1, 501, 1, 0.05, 0.2961608646804801] \n",
      "\n",
      "Iteration No: 28 ended. Search finished for the next optimal point.\n",
      "Time taken: 22.3194\n",
      "Function value obtained: -0.6285\n",
      "Current minimum: -0.7328\n",
      "Iteration No: 29 started. Searching for the next optimal point.\n",
      "[0.01961336069238679, 2, 1, 0.6725925607379013, 0.775039330068006] \n",
      "\n",
      "Iteration No: 29 ended. Search finished for the next optimal point.\n",
      "Time taken: 5.5568\n",
      "Function value obtained: -0.5477\n",
      "Current minimum: -0.7328\n",
      "Iteration No: 30 started. Searching for the next optimal point.\n",
      "[0.09359895898286255, 277, 1, 0.900149273842846, 0.5516254504458544] \n",
      "\n",
      "Iteration No: 30 ended. Search finished for the next optimal point.\n",
      "Time taken: 17.3531\n",
      "Function value obtained: -0.7294\n",
      "Current minimum: -0.7328\n",
      "Iteration No: 31 started. Searching for the next optimal point.\n",
      "[0.02729987239830612, 283, 1, 1.0, 1.0] \n",
      "\n",
      "Iteration No: 31 ended. Search finished for the next optimal point.\n",
      "Time taken: 21.8196\n",
      "Function value obtained: -0.7236\n",
      "Current minimum: -0.7328\n",
      "Iteration No: 32 started. Searching for the next optimal point.\n",
      "[0.1, 303, 1, 0.5324235621287423, 0.3894495641730731] \n",
      "\n",
      "Iteration No: 32 ended. Search finished for the next optimal point.\n",
      "Time taken: 17.7103\n",
      "Function value obtained: -0.7280\n",
      "Current minimum: -0.7328\n",
      "Iteration No: 33 started. Searching for the next optimal point.\n",
      "[0.1, 147, 82, 0.05, 0.17717334783160543] \n",
      "\n",
      "Iteration No: 33 ended. Search finished for the next optimal point.\n",
      "Time taken: 13.2654\n",
      "Function value obtained: -0.6746\n",
      "Current minimum: -0.7328\n",
      "Iteration No: 34 started. Searching for the next optimal point.\n",
      "[0.0013540215888863285, 512, 1, 1.0, 1.0] \n",
      "\n",
      "Iteration No: 34 ended. Search finished for the next optimal point.\n",
      "Time taken: 41.8642\n",
      "Function value obtained: -0.5477\n",
      "Current minimum: -0.7328\n",
      "Iteration No: 35 started. Searching for the next optimal point.\n",
      "[0.1, 408, 1, 1.0, 0.7011113993127891] \n",
      "\n",
      "Iteration No: 35 ended. Search finished for the next optimal point.\n",
      "Time taken: 17.7698\n",
      "Function value obtained: -0.7313\n",
      "Current minimum: -0.7328\n",
      "Iteration No: 36 started. Searching for the next optimal point.\n",
      "[0.010940100965129899, 339, 1, 1.0, 1.0] \n",
      "\n",
      "Iteration No: 36 ended. Search finished for the next optimal point.\n",
      "Time taken: 24.9496\n",
      "Function value obtained: -0.7136\n",
      "Current minimum: -0.7328\n",
      "Iteration No: 37 started. Searching for the next optimal point.\n",
      "[0.1, 253, 1, 1.0, 0.1] \n",
      "\n",
      "Iteration No: 37 ended. Search finished for the next optimal point.\n",
      "Time taken: 13.5345\n",
      "Function value obtained: -0.6266\n",
      "Current minimum: -0.7328\n",
      "Iteration No: 38 started. Searching for the next optimal point.\n",
      "[0.04446286388718111, 316, 1, 0.6936169793206535, 0.5452134078532771] \n",
      "\n",
      "Iteration No: 38 ended. Search finished for the next optimal point.\n",
      "Time taken: 18.8796\n",
      "Function value obtained: -0.7287\n",
      "Current minimum: -0.7328\n",
      "Iteration No: 39 started. Searching for the next optimal point.\n",
      "[0.001, 2, 439, 0.05, 1.0] \n",
      "\n",
      "Iteration No: 39 ended. Search finished for the next optimal point.\n",
      "Time taken: 4.8514\n",
      "Function value obtained: -0.5477\n",
      "Current minimum: -0.7328\n",
      "Iteration No: 40 started. Searching for the next optimal point.\n",
      "[0.02048842942604712, 512, 1, 0.4939056385599997, 1.0] \n",
      "\n",
      "Iteration No: 40 ended. Search finished for the next optimal point.\n",
      "Time taken: 30.0143\n",
      "Function value obtained: -0.7276\n",
      "Current minimum: -0.7328\n",
      "Iteration No: 41 started. Searching for the next optimal point.\n",
      "[0.1, 512, 1, 0.6528008527393371, 1.0] \n",
      "\n",
      "Iteration No: 41 ended. Search finished for the next optimal point.\n",
      "Time taken: 33.2739\n",
      "Function value obtained: -0.7313\n",
      "Current minimum: -0.7328\n",
      "Iteration No: 42 started. Searching for the next optimal point.\n",
      "[0.07786843179619647, 421, 1, 0.6880385401872114, 0.5199760145115623] \n",
      "\n",
      "Iteration No: 42 ended. Search finished for the next optimal point.\n",
      "Time taken: 29.7375\n",
      "Function value obtained: -0.7311\n",
      "Current minimum: -0.7328\n",
      "Iteration No: 43 started. Searching for the next optimal point.\n",
      "[0.029267246269486447, 498, 1, 0.5793261114993676, 0.7373329368314933] \n",
      "\n",
      "Iteration No: 43 ended. Search finished for the next optimal point.\n",
      "Time taken: 32.1029\n",
      "Function value obtained: -0.7302\n",
      "Current minimum: -0.7328\n",
      "Iteration No: 44 started. Searching for the next optimal point.\n",
      "[0.044127362060230685, 336, 1, 0.4281297572717737, 0.1] \n",
      "\n",
      "Iteration No: 44 ended. Search finished for the next optimal point.\n",
      "Time taken: 16.0952\n",
      "Function value obtained: -0.6107\n",
      "Current minimum: -0.7328\n",
      "Iteration No: 45 started. Searching for the next optimal point.\n",
      "[0.03600444784783544, 452, 1, 0.6453424327951299, 1.0] \n",
      "\n",
      "Iteration No: 45 ended. Search finished for the next optimal point.\n",
      "Time taken: 28.1612\n",
      "Function value obtained: -0.7300\n",
      "Current minimum: -0.7328\n",
      "Iteration No: 46 started. Searching for the next optimal point.\n",
      "[0.1, 2, 1, 0.05, 0.5598600297080241] \n",
      "\n",
      "Iteration No: 46 ended. Search finished for the next optimal point.\n",
      "Time taken: 4.9562\n",
      "Function value obtained: -0.6103\n",
      "Current minimum: -0.7328\n",
      "Iteration No: 47 started. Searching for the next optimal point.\n",
      "[0.06361529101720967, 346, 1, 1.0, 0.48275514518838525] \n",
      "\n",
      "Iteration No: 47 ended. Search finished for the next optimal point.\n",
      "Time taken: 20.4535\n",
      "Function value obtained: -0.7302\n",
      "Current minimum: -0.7328\n",
      "Iteration No: 48 started. Searching for the next optimal point.\n",
      "[0.1, 292, 1, 0.7170450650953838, 0.4509790120743026] \n",
      "\n",
      "Iteration No: 48 ended. Search finished for the next optimal point.\n",
      "Time taken: 17.1824\n",
      "Function value obtained: -0.7285\n",
      "Current minimum: -0.7328\n",
      "Iteration No: 49 started. Searching for the next optimal point.\n",
      "[0.041459936807041346, 299, 1, 1.0, 0.5906098727376913] \n",
      "\n",
      "Iteration No: 49 ended. Search finished for the next optimal point.\n",
      "Time taken: 21.0677\n",
      "Function value obtained: -0.7283\n",
      "Current minimum: -0.7328\n",
      "Iteration No: 50 started. Searching for the next optimal point.\n",
      "[0.08407166385985992, 512, 1, 0.8061304036499679, 1.0] \n",
      "\n",
      "Iteration No: 50 ended. Search finished for the next optimal point.\n",
      "Time taken: 26.9869\n",
      "Function value obtained: -0.7320\n",
      "Current minimum: -0.7328\n",
      "CPU times: user 2h 8min 46s, sys: 43.8 s, total: 2h 9min 30s\n",
      "Wall time: 18min 9s\n"
     ]
    }
   ],
   "source": [
    "%%time\n",
    "resultados_lgb = gp_minimize(tune_lgb, space, random_state=0, verbose=1, n_calls=50, n_random_starts=10, n_jobs=-1)"
   ]
  },
  {
   "cell_type": "code",
   "execution_count": 52,
   "id": "40f88dd1-fb21-4671-86e5-1e3fcf533468",
   "metadata": {},
   "outputs": [
    {
     "data": {
      "text/plain": [
       "[0.1, 512, 1, 1.0, 0.6446300002048094]"
      ]
     },
     "execution_count": 52,
     "metadata": {},
     "output_type": "execute_result"
    }
   ],
   "source": [
    "resultados_lgb.x"
   ]
  },
  {
   "cell_type": "code",
   "execution_count": 19,
   "id": "58a60aa7-919a-401c-86f1-eba188c6832f",
   "metadata": {},
   "outputs": [],
   "source": [
    "# Melhores hiper parâmetros para o conjunto PRO: learning_rate=0.1, num_leaves=512, min_child_samples=1, subsample=1.0, colsample_bytree=0.662, random_state=0, subsample_freq=1, n_estimators=100, n_jobs=-1"
   ]
  },
  {
   "cell_type": "code",
   "execution_count": 18,
   "id": "0f74c99d-38fb-4885-a301-e16794c3a827",
   "metadata": {},
   "outputs": [
    {
     "data": {
      "text/plain": [
       "<AxesSubplot:title={'center':'Convergence plot'}, xlabel='Number of calls $n$', ylabel='$\\\\min f(x)$ after $n$ calls'>"
      ]
     },
     "execution_count": 18,
     "metadata": {},
     "output_type": "execute_result"
    },
    {
     "data": {
      "image/png": "[encoded data removed]",
      "text/plain": [
       "<Figure size 432x288 with 1 Axes>"
      ]
     },
     "metadata": {
      "needs_background": "light"
     },
     "output_type": "display_data"
    }
   ],
   "source": [
    "from skopt.plots import plot_convergence\n",
    "plot_convergence(resultados_lgb)"
   ]
  },
  {
   "cell_type": "code",
   "execution_count": 36,
   "id": "c955ced3-7fd5-4923-b596-82514d1962f7",
   "metadata": {},
   "outputs": [],
   "source": [
    "# Melhores hiper parâmetros para o conjunto PNP: learning_rate=0.1, num_leaves=512, min_child_samples=88, subsample=0.729, colsample_bytree=0.671, random_state=0, subsample_freq=1, n_estimators=100, n_jobs=-1"
   ]
  },
  {
   "cell_type": "code",
   "execution_count": 86,
   "id": "0129d8ab-0bd3-45bc-965a-92d2ae17b22e",
   "metadata": {},
   "outputs": [
    {
     "data": {
      "text/plain": [
       "<AxesSubplot:title={'center':'Convergence plot'}, xlabel='Number of calls $n$', ylabel='$\\\\min f(x)$ after $n$ calls'>"
      ]
     },
     "execution_count": 86,
     "metadata": {},
     "output_type": "execute_result"
    },
    {
     "data": {
      "image/png": "[encoded data removed]",
      "text/plain": [
       "<Figure size 432x288 with 1 Axes>"
      ]
     },
     "metadata": {
      "needs_background": "light"
     },
     "output_type": "display_data"
    }
   ],
   "source": [
    "from skopt.plots import plot_convergence\n",
    "plot_convergence(resultados_lgb)"
   ]
  },
  {
   "cell_type": "markdown",
   "id": "e0d5d923-0e6c-435c-a208-93d47d497c8b",
   "metadata": {},
   "source": [
    "#### LGB: Treinamento com os melhores hiper parâmetros"
   ]
  },
  {
   "cell_type": "code",
   "execution_count": 24,
   "id": "48b3bb99-97cb-435d-9d11-1b534df92f17",
   "metadata": {},
   "outputs": [
    {
     "name": "stdout",
     "output_type": "stream",
     "text": [
      "CPU times: user 1min 8s, sys: 351 ms, total: 1min 8s\n",
      "Wall time: 9.28 s\n"
     ]
    },
    {
     "data": {
      "text/plain": [
       "73.50819402124681"
      ]
     },
     "execution_count": 24,
     "metadata": {},
     "output_type": "execute_result"
    }
   ],
   "source": [
    "%%time\n",
    "lgb_model = LGBMClassifier(learning_rate=0.1, num_leaves=512, min_child_samples=88, subsample=0.729, colsample_bytree=0.671, random_state=0, subsample_freq=1, n_estimators=100, n_jobs=-1)\n",
    "lgb_model.fit(X_train, y_train)\n",
    "\n",
    "lgb_preds = lgb_model.predict(X_test)\n",
    "\n",
    "accuracy_score(y_test, lgb_preds)*100"
   ]
  },
  {
   "cell_type": "code",
   "execution_count": 25,
   "id": "101de7f0-be5e-4278-9494-4cd9807b193a",
   "metadata": {},
   "outputs": [
    {
     "name": "stdout",
     "output_type": "stream",
     "text": [
      "              precision    recall  f1-score   support\n",
      "\n",
      "        Ocio      0.638     0.410     0.499     24652\n",
      "  Pastejando      0.769     0.891     0.826     66502\n",
      "   Ruminando      0.696     0.657     0.676     30276\n",
      "\n",
      "    accuracy                          0.735    121430\n",
      "   macro avg      0.701     0.653     0.667    121430\n",
      "weighted avg      0.724     0.735     0.722    121430\n",
      "\n"
     ]
    }
   ],
   "source": [
    "print(classification_report(y_test, lgb_preds, digits=3))"
   ]
  },
  {
   "cell_type": "code",
   "execution_count": 26,
   "id": "fda32d2e-57ea-41b5-ac7d-08e27393ed52",
   "metadata": {},
   "outputs": [
    {
     "data": {
      "image/png": "[encoded data removed]",
      "text/plain": [
       "<Figure size 432x288 with 1 Axes>"
      ]
     },
     "metadata": {
      "needs_background": "light"
     },
     "output_type": "display_data"
    }
   ],
   "source": [
    "imprimeMatrizDeConfusão(y_test, lgb_preds, lgb_model)"
   ]
  },
  {
   "cell_type": "code",
   "execution_count": 20,
   "id": "ed91f118-c28d-4b4e-aab9-f86d6070eda2",
   "metadata": {},
   "outputs": [
    {
     "data": {
      "text/plain": [
       "76.77674380301409"
      ]
     },
     "execution_count": 20,
     "metadata": {},
     "output_type": "execute_result"
    }
   ],
   "source": [
    "lgb_preds = lgb_model.predict(X_train)\n",
    "\n",
    "accuracy_score(y_train, lgb_preds)*100"
   ]
  },
  {
   "cell_type": "markdown",
   "id": "a591d908-5401-45b0-8c2a-c5fcd67d859c",
   "metadata": {
    "tags": []
   },
   "source": [
    "### Random Forest"
   ]
  },
  {
   "cell_type": "code",
   "execution_count": 28,
   "id": "fe1c00f4-d653-43d0-82ea-76a24658d435",
   "metadata": {},
   "outputs": [],
   "source": [
    "from sklearn.ensemble import RandomForestClassifier"
   ]
  },
  {
   "cell_type": "markdown",
   "id": "743f8394-508b-46ab-aab2-fe933f50afc0",
   "metadata": {
    "tags": []
   },
   "source": [
    "#### Com Randomized Search CV"
   ]
  },
  {
   "cell_type": "code",
   "execution_count": 39,
   "id": "b542573e-ac80-4cfd-90d1-d2f62f1d1381",
   "metadata": {},
   "outputs": [],
   "source": [
    "rf_Model = RandomForestClassifier(random_state=0, n_jobs=-1)"
   ]
  },
  {
   "cell_type": "code",
   "execution_count": 40,
   "id": "ff1b316b-878d-4413-b406-2dad5f1af598",
   "metadata": {},
   "outputs": [],
   "source": [
    "# Create the param grid\n",
    "rf_param_grid = {'n_estimators':  np.arange(50, 250, 50),\n",
    "               'max_features': ['auto', 'sqrt'],\n",
    "               'max_depth':[50, 100, 150, None],\n",
    "               'criterion': ['gini', 'entropy'],\n",
    "               'min_samples_split': [2, 5, 10, 30, 50],\n",
    "               'min_samples_leaf': [1, 2],\n",
    "               'bootstrap': [True, False]}"
   ]
  },
  {
   "cell_type": "code",
   "execution_count": 41,
   "id": "350214e8-18c1-4035-8776-9dd99ff77d69",
   "metadata": {},
   "outputs": [],
   "source": [
    "rf_RandomGrid = RandomizedSearchCV(estimator = rf_Model, param_distributions = rf_param_grid, cv = 3, verbose=1, random_state=0)"
   ]
  },
  {
   "cell_type": "code",
   "execution_count": null,
   "id": "65bbf8ae-d2ec-4aae-a1d6-311f8c87efde",
   "metadata": {},
   "outputs": [
    {
     "name": "stdout",
     "output_type": "stream",
     "text": [
      "Fitting 3 folds for each of 10 candidates, totalling 30 fits\n"
     ]
    }
   ],
   "source": [
    "%%time\n",
    "rf_RandomGrid.fit(X_train, y_train)"
   ]
  },
  {
   "cell_type": "code",
   "execution_count": 46,
   "id": "1a185d22-dc76-4b3c-9b0d-c116e1b600ec",
   "metadata": {},
   "outputs": [
    {
     "data": {
      "text/plain": [
       "{'n_estimators': 150,\n",
       " 'min_samples_split': 30,\n",
       " 'min_samples_leaf': 1,\n",
       " 'max_features': 'sqrt',\n",
       " 'max_depth': 100,\n",
       " 'criterion': 'entropy',\n",
       " 'bootstrap': False}"
      ]
     },
     "execution_count": 46,
     "metadata": {},
     "output_type": "execute_result"
    }
   ],
   "source": [
    "rf_RandomGrid.best_params_"
   ]
  },
  {
   "cell_type": "code",
   "execution_count": 48,
   "id": "0aff82cb-0df3-4ae4-aa33-344e57df905e",
   "metadata": {},
   "outputs": [
    {
     "data": {
      "text/plain": [
       "0.7361747363918738"
      ]
     },
     "execution_count": 48,
     "metadata": {},
     "output_type": "execute_result"
    }
   ],
   "source": [
    "rf_RandomGrid.best_score_"
   ]
  },
  {
   "cell_type": "code",
   "execution_count": 50,
   "id": "b5a1add5-c981-4fcf-8e30-8877a9eb3e2e",
   "metadata": {},
   "outputs": [],
   "source": [
    "preds_rf_RG = rf_RandomGrid.predict(X_test)"
   ]
  },
  {
   "cell_type": "code",
   "execution_count": 51,
   "id": "2e267934-e574-4e5f-80e2-1533c1056195",
   "metadata": {},
   "outputs": [
    {
     "data": {
      "text/plain": [
       "74.09413128837589"
      ]
     },
     "execution_count": 51,
     "metadata": {},
     "output_type": "execute_result"
    }
   ],
   "source": [
    "accuracy_score(y_test, preds_rf_RG)*100"
   ]
  },
  {
   "cell_type": "code",
   "execution_count": 52,
   "id": "0fa1f74a-8f43-4dcf-8e92-d6dd1d23d933",
   "metadata": {},
   "outputs": [
    {
     "data": {
      "image/png": "[encoded data removed]",
      "text/plain": [
       "<Figure size 432x288 with 1 Axes>"
      ]
     },
     "metadata": {
      "needs_background": "light"
     },
     "output_type": "display_data"
    }
   ],
   "source": [
    "imprimeMatrizDeConfusão(y_test, preds_rf_RG, rf_RandomGrid)"
   ]
  },
  {
   "cell_type": "markdown",
   "id": "8ed14ff0-3ffc-4ae6-b53a-fc78dda1c046",
   "metadata": {
    "tags": []
   },
   "source": [
    "#### RF: Busca de melhores hiper parâmetros"
   ]
  },
  {
   "cell_type": "code",
   "execution_count": 92,
   "id": "340c8159-d9e2-4df7-812b-92ce5ded12ea",
   "metadata": {},
   "outputs": [],
   "source": [
    "def tune_rf(params):\n",
    "    n_estimators = params[0]\n",
    "    max_features = params[1]\n",
    "    max_depth = params[2]\n",
    "    criterion = params[3]\n",
    "    min_samples_split = params[4]\n",
    "    min_samples_leaf = params[5]\n",
    "    bootstrap = params[6]\n",
    "    \n",
    "    print(params, '\\n')\n",
    "    \n",
    "    rf_Model = RandomForestClassifier(n_estimators=n_estimators, max_features=max_features, max_depth=max_depth, criterion=criterion, min_samples_split=min_samples_split,\n",
    "                                       min_samples_leaf = min_samples_leaf, bootstrap=bootstrap, random_state=0, n_jobs=-1)\n",
    "    \n",
    "    auc = cross_val_score(rf_Model, X_train, y_train, cv=3, scoring ='accuracy')\n",
    "    \n",
    "    return -auc.mean()\n",
    "\n",
    "space = [ np.arange(50, 250, 50), # n_estimators\n",
    "         ['auto', 'sqrt'], # max_features\n",
    "         [50, 100, 150, None], # max_depth\n",
    "         ['gini', 'entropy'], # criterion\n",
    "         [2, 5, 10, 30, 50], # min_samples_split\n",
    "         [1,2,4], # min_samples_leaf\n",
    "         [True, False]] # bootstrap] "
   ]
  },
  {
   "cell_type": "code",
   "execution_count": 93,
   "id": "cfcb72c0-996f-44f1-83be-7cb3964a6795",
   "metadata": {},
   "outputs": [
    {
     "name": "stdout",
     "output_type": "stream",
     "text": [
      "Iteration No: 1 started. Evaluating function at random point.\n",
      "[150, 'sqrt', None, 'gini', 10, 2, False] \n",
      "\n",
      "Iteration No: 1 ended. Evaluation done at random point.\n",
      "Time taken: 118.0591\n",
      "Function value obtained: -0.7941\n",
      "Current minimum: -0.7941\n",
      "Iteration No: 2 started. Evaluating function at random point.\n",
      "[50, 'auto', 100, 'gini', 10, 2, True] \n",
      "\n",
      "Iteration No: 2 ended. Evaluation done at random point.\n",
      "Time taken: 31.4995\n",
      "Function value obtained: -0.7960\n",
      "Current minimum: -0.7960\n",
      "Iteration No: 3 started. Evaluating function at random point.\n",
      "[100, 'sqrt', 100, 'gini', 5, 4, False] \n",
      "\n",
      "Iteration No: 3 ended. Evaluation done at random point.\n",
      "Time taken: 78.5794\n",
      "Function value obtained: -0.7949\n",
      "Current minimum: -0.7960\n",
      "Iteration No: 4 started. Evaluating function at random point.\n",
      "[150, 'sqrt', 150, 'gini', 10, 2, True] \n",
      "\n",
      "Iteration No: 4 ended. Evaluation done at random point.\n",
      "Time taken: 85.1647\n",
      "Function value obtained: -0.7974\n",
      "Current minimum: -0.7974\n",
      "Iteration No: 5 started. Evaluating function at random point.\n",
      "[50, 'auto', 100, 'gini', 5, 1, False] \n",
      "\n",
      "Iteration No: 5 ended. Evaluation done at random point.\n",
      "Time taken: 47.5730\n",
      "Function value obtained: -0.7873\n",
      "Current minimum: -0.7974\n",
      "Iteration No: 6 started. Evaluating function at random point.\n",
      "[50, 'auto', 100, 'gini', 10, 2, True] \n",
      "\n",
      "Iteration No: 6 ended. Evaluation done at random point.\n",
      "Time taken: 32.8329\n",
      "Function value obtained: -0.7960\n",
      "Current minimum: -0.7974\n",
      "Iteration No: 7 started. Evaluating function at random point.\n",
      "[50, 'sqrt', 150, 'entropy', 5, 4, True] \n",
      "\n",
      "Iteration No: 7 ended. Evaluation done at random point.\n",
      "Time taken: 37.6415\n",
      "Function value obtained: -0.7966\n",
      "Current minimum: -0.7974\n",
      "Iteration No: 8 started. Evaluating function at random point.\n",
      "[100, 'auto', 150, 'gini', 30, 2, True] \n",
      "\n",
      "Iteration No: 8 ended. Evaluation done at random point.\n",
      "Time taken: 60.8497\n",
      "Function value obtained: -0.7979\n",
      "Current minimum: -0.7979\n",
      "Iteration No: 9 started. Evaluating function at random point.\n",
      "[150, 'auto', 100, 'gini', 5, 2, False] \n",
      "\n",
      "Iteration No: 9 ended. Evaluation done at random point.\n",
      "Time taken: 127.0922\n",
      "Function value obtained: -0.7901\n",
      "Current minimum: -0.7979\n",
      "Iteration No: 10 started. Evaluating function at random point.\n",
      "[150, 'sqrt', 150, 'entropy', 10, 2, True] \n",
      "\n",
      "Iteration No: 10 ended. Evaluation done at random point.\n",
      "Time taken: 106.0049\n",
      "Function value obtained: -0.7975\n",
      "Current minimum: -0.7979\n",
      "Iteration No: 11 started. Evaluating function at random point.\n",
      "[200, 'sqrt', 50, 'entropy', 2, 2, True] \n",
      "\n",
      "Iteration No: 11 ended. Evaluation done at random point.\n",
      "Time taken: 139.8922\n",
      "Function value obtained: -0.7966\n",
      "Current minimum: -0.7979\n",
      "Iteration No: 12 started. Evaluating function at random point.\n",
      "[100, 'auto', 150, 'gini', 50, 1, True] \n",
      "\n",
      "Iteration No: 12 ended. Evaluation done at random point.\n",
      "Time taken: 56.4697\n",
      "Function value obtained: -0.7974\n",
      "Current minimum: -0.7979\n",
      "Iteration No: 13 started. Evaluating function at random point.\n",
      "[200, 'sqrt', None, 'gini', 2, 2, False] \n",
      "\n",
      "Iteration No: 13 ended. Evaluation done at random point.\n",
      "Time taken: 163.1719\n",
      "Function value obtained: -0.7897\n",
      "Current minimum: -0.7979\n",
      "Iteration No: 14 started. Evaluating function at random point.\n",
      "[200, 'sqrt', None, 'entropy', 10, 2, False] \n",
      "\n",
      "Iteration No: 14 ended. Evaluation done at random point.\n",
      "Time taken: 221.7297\n",
      "Function value obtained: -0.7943\n",
      "Current minimum: -0.7979\n",
      "Iteration No: 15 started. Evaluating function at random point.\n",
      "[100, 'auto', 150, 'gini', 5, 2, True] \n",
      "\n",
      "Iteration No: 15 ended. Evaluation done at random point.\n",
      "Time taken: 62.3635\n",
      "Function value obtained: -0.7960\n",
      "Current minimum: -0.7979\n",
      "Iteration No: 16 started. Searching for the next optimal point.\n",
      "[150, 'sqrt', 50, 'entropy', 30, 1, True] \n",
      "\n",
      "Iteration No: 16 ended. Search finished for the next optimal point.\n",
      "Time taken: 106.9153\n",
      "Function value obtained: -0.7984\n",
      "Current minimum: -0.7984\n",
      "Iteration No: 17 started. Searching for the next optimal point.\n",
      "[150, 'auto', None, 'entropy', 30, 4, True] \n",
      "\n",
      "Iteration No: 17 ended. Search finished for the next optimal point.\n",
      "Time taken: 103.8074\n",
      "Function value obtained: -0.7983\n",
      "Current minimum: -0.7984\n",
      "Iteration No: 18 started. Searching for the next optimal point.\n",
      "[150, 'sqrt', None, 'entropy', 50, 4, True] \n",
      "\n",
      "Iteration No: 18 ended. Search finished for the next optimal point.\n",
      "Time taken: 104.7594\n",
      "Function value obtained: -0.7975\n",
      "Current minimum: -0.7984\n",
      "Iteration No: 19 started. Searching for the next optimal point.\n",
      "[100, 'auto', 150, 'entropy', 50, 4, False] \n",
      "\n",
      "Iteration No: 19 ended. Search finished for the next optimal point.\n",
      "Time taken: 96.6019\n",
      "Function value obtained: -0.7981\n",
      "Current minimum: -0.7984\n",
      "Iteration No: 20 started. Searching for the next optimal point.\n",
      "[100, 'auto', 150, 'entropy', 10, 4, False] \n",
      "\n",
      "Iteration No: 20 ended. Search finished for the next optimal point.\n",
      "Time taken: 103.8037\n",
      "Function value obtained: -0.7950\n",
      "Current minimum: -0.7984\n",
      "Iteration No: 21 started. Searching for the next optimal point.\n",
      "[200, 'sqrt', 50, 'entropy', 30, 1, True] \n",
      "\n",
      "Iteration No: 21 ended. Search finished for the next optimal point.\n",
      "Time taken: 141.6705\n",
      "Function value obtained: -0.7988\n",
      "Current minimum: -0.7988\n",
      "Iteration No: 22 started. Searching for the next optimal point.\n",
      "[200, 'sqrt', 150, 'entropy', 10, 1, True] \n",
      "\n",
      "Iteration No: 22 ended. Search finished for the next optimal point.\n",
      "Time taken: 155.6620\n",
      "Function value obtained: -0.7979\n",
      "Current minimum: -0.7988\n",
      "Iteration No: 23 started. Searching for the next optimal point.\n",
      "[200, 'sqrt', 50, 'entropy', 30, 4, False] \n",
      "\n",
      "Iteration No: 23 ended. Search finished for the next optimal point.\n",
      "Time taken: 195.7500\n",
      "Function value obtained: -0.7981\n",
      "Current minimum: -0.7988\n",
      "Iteration No: 24 started. Searching for the next optimal point.\n",
      "[200, 'sqrt', 100, 'entropy', 50, 2, True] \n",
      "\n",
      "Iteration No: 24 ended. Search finished for the next optimal point.\n",
      "Time taken: 139.4251\n",
      "Function value obtained: -0.7978\n",
      "Current minimum: -0.7988\n",
      "Iteration No: 25 started. Searching for the next optimal point.\n",
      "[200, 'sqrt', 50, 'entropy', 50, 2, False] \n",
      "\n",
      "Iteration No: 25 ended. Search finished for the next optimal point.\n",
      "Time taken: 200.4195\n",
      "Function value obtained: -0.7984\n",
      "Current minimum: -0.7988\n",
      "Iteration No: 26 started. Searching for the next optimal point.\n",
      "[200, 'auto', 150, 'entropy', 2, 4, True] \n",
      "\n",
      "Iteration No: 26 ended. Search finished for the next optimal point.\n",
      "Time taken: 147.2166\n",
      "Function value obtained: -0.7981\n",
      "Current minimum: -0.7988\n",
      "Iteration No: 27 started. Searching for the next optimal point.\n",
      "[200, 'sqrt', 100, 'gini', 50, 4, False] \n",
      "\n",
      "Iteration No: 27 ended. Search finished for the next optimal point.\n",
      "Time taken: 158.9273\n",
      "Function value obtained: -0.7982\n",
      "Current minimum: -0.7988\n",
      "Iteration No: 28 started. Searching for the next optimal point.\n",
      "[50, 'auto', None, 'gini', 30, 1, False] \n",
      "\n",
      "Iteration No: 28 ended. Search finished for the next optimal point.\n",
      "Time taken: 47.0846\n",
      "Function value obtained: -0.7969\n",
      "Current minimum: -0.7988\n",
      "Iteration No: 29 started. Searching for the next optimal point.\n",
      "[200, 'sqrt', 150, 'entropy', 50, 1, False] \n",
      "\n",
      "Iteration No: 29 ended. Search finished for the next optimal point.\n",
      "Time taken: 198.3063\n",
      "Function value obtained: -0.7983\n",
      "Current minimum: -0.7988\n",
      "Iteration No: 30 started. Searching for the next optimal point.\n",
      "[200, 'auto', 150, 'entropy', 2, 4, False] \n",
      "\n",
      "Iteration No: 30 ended. Search finished for the next optimal point.\n",
      "Time taken: 199.7184\n",
      "Function value obtained: -0.7949\n",
      "Current minimum: -0.7988\n",
      "CPU times: user 14min 44s, sys: 15.7 s, total: 15min\n",
      "Wall time: 57min 49s\n"
     ]
    }
   ],
   "source": [
    "%%time\n",
    "from skopt import forest_minimize\n",
    "resultado_rf = gp_minimize(tune_rf, space, random_state=0, verbose=1, n_calls=30, n_random_starts=15, n_jobs=-1)"
   ]
  },
  {
   "cell_type": "code",
   "execution_count": 96,
   "id": "cbf4229a-e3c2-4f16-a1ae-6a0a89c8d146",
   "metadata": {},
   "outputs": [
    {
     "data": {
      "text/plain": [
       "[200, 'sqrt', 50, 'entropy', 30, 1, True]"
      ]
     },
     "execution_count": 96,
     "metadata": {},
     "output_type": "execute_result"
    }
   ],
   "source": [
    "resultado_rf.x"
   ]
  },
  {
   "cell_type": "code",
   "execution_count": 63,
   "id": "c863cc6f-857a-4668-8e2b-1e739c46ba9a",
   "metadata": {},
   "outputs": [],
   "source": [
    "# Melhores hiper parâmetros para o conjunto PRO: n_estimators=200, max_features='sqrt', max_depth=None, criterion='entropy', min_samples_split=10, min_samples_leaf=2 , bootstrap=True, random_state=0, n_jobs=-1"
   ]
  },
  {
   "cell_type": "code",
   "execution_count": 64,
   "id": "15067489-2e2a-4f95-8d54-3f844f94ca2b",
   "metadata": {},
   "outputs": [
    {
     "data": {
      "text/plain": [
       "<AxesSubplot:title={'center':'Convergence plot'}, xlabel='Number of calls $n$', ylabel='$\\\\min f(x)$ after $n$ calls'>"
      ]
     },
     "execution_count": 64,
     "metadata": {},
     "output_type": "execute_result"
    },
    {
     "data": {
      "image/png": "[encoded data removed]",
      "text/plain": [
       "<Figure size 432x288 with 1 Axes>"
      ]
     },
     "metadata": {
      "needs_background": "light"
     },
     "output_type": "display_data"
    }
   ],
   "source": [
    "from skopt.plots import plot_convergence\n",
    "plot_convergence(resultado_rf)"
   ]
  },
  {
   "cell_type": "code",
   "execution_count": 97,
   "id": "495b8289-4a49-4cea-aba4-f9f0c17794b2",
   "metadata": {},
   "outputs": [],
   "source": [
    "# Melhores hiper parâmetros para o conjunto PNP: n_estimators=200, max_features='sqrt', max_depth=50, criterion='entropy', min_samples_split=30, min_samples_leaf=1 , bootstrap=True, random_state=0, n_jobs=-1"
   ]
  },
  {
   "cell_type": "code",
   "execution_count": 95,
   "id": "205b4f19-f1b6-42ed-82ea-d0d41d17e3ab",
   "metadata": {},
   "outputs": [
    {
     "data": {
      "text/plain": [
       "<AxesSubplot:title={'center':'Convergence plot'}, xlabel='Number of calls $n$', ylabel='$\\\\min f(x)$ after $n$ calls'>"
      ]
     },
     "execution_count": 95,
     "metadata": {},
     "output_type": "execute_result"
    },
    {
     "data": {
      "image/png": "[encoded data removed]",
      "text/plain": [
       "<Figure size 432x288 with 1 Axes>"
      ]
     },
     "metadata": {
      "needs_background": "light"
     },
     "output_type": "display_data"
    }
   ],
   "source": [
    "from skopt.plots import plot_convergence\n",
    "plot_convergence(resultado_rf)"
   ]
  },
  {
   "cell_type": "markdown",
   "id": "d3bcf807-30d0-4447-bebb-52a977a11ab5",
   "metadata": {},
   "source": [
    "#### RF: Treinamento com os melhores hiper parâmetros"
   ]
  },
  {
   "cell_type": "code",
   "execution_count": 29,
   "id": "3d9295ef-672f-41b2-9356-7890f69861c4",
   "metadata": {
    "tags": []
   },
   "outputs": [
    {
     "name": "stdout",
     "output_type": "stream",
     "text": [
      "CPU times: user 9min 6s, sys: 1.36 s, total: 9min 7s\n",
      "Wall time: 1min 15s\n"
     ]
    }
   ],
   "source": [
    "%%time\n",
    "rf_model = RandomForestClassifier(n_estimators=200, max_features='sqrt', max_depth=None, criterion='entropy', \n",
    "                                  min_samples_split=10, min_samples_leaf=2 , bootstrap=True, random_state=0, n_jobs=-1)\n",
    "rf_model.fit(X_train, y_train)\n",
    "preds = rf_model.predict(X_test)"
   ]
  },
  {
   "cell_type": "code",
   "execution_count": 30,
   "id": "018098cc-5978-492b-b35e-c8eea644594a",
   "metadata": {},
   "outputs": [
    {
     "data": {
      "text/plain": [
       "74.15465700403526"
      ]
     },
     "execution_count": 30,
     "metadata": {},
     "output_type": "execute_result"
    }
   ],
   "source": [
    "accuracy_score(y_test, preds)*100"
   ]
  },
  {
   "cell_type": "code",
   "execution_count": 31,
   "id": "7f40dcdf-7d4c-4f6f-8d8a-c8cdaff6eff7",
   "metadata": {},
   "outputs": [
    {
     "name": "stdout",
     "output_type": "stream",
     "text": [
      "              precision    recall  f1-score   support\n",
      "\n",
      "        Ocio      0.648     0.440     0.524     24652\n",
      "  Pastejando      0.776     0.889     0.829     66502\n",
      "   Ruminando      0.704     0.663     0.683     30276\n",
      "\n",
      "    accuracy                          0.742    121430\n",
      "   macro avg      0.709     0.664     0.679    121430\n",
      "weighted avg      0.732     0.742     0.731    121430\n",
      "\n"
     ]
    }
   ],
   "source": [
    "print(classification_report(y_test, preds, digits=3))"
   ]
  },
  {
   "cell_type": "code",
   "execution_count": 32,
   "id": "47da569a-f5b7-4d4c-90d2-f1cc0e7e5513",
   "metadata": {},
   "outputs": [
    {
     "data": {
      "image/png": "[encoded data removed]",
      "text/plain": [
       "<Figure size 432x288 with 1 Axes>"
      ]
     },
     "metadata": {
      "needs_background": "light"
     },
     "output_type": "display_data"
    }
   ],
   "source": [
    "imprimeMatrizDeConfusão(y_test, preds, rf_model)"
   ]
  },
  {
   "cell_type": "markdown",
   "id": "eabbcc92-5035-4092-9013-8a95b1b40c83",
   "metadata": {
    "tags": []
   },
   "source": [
    "### Gradient Boosting"
   ]
  },
  {
   "cell_type": "code",
   "execution_count": 13,
   "id": "b6c81a60-056b-49b4-8ecc-cf5a603ef7db",
   "metadata": {},
   "outputs": [],
   "source": [
    "from xgboost import XGBClassifier"
   ]
  },
  {
   "cell_type": "code",
   "execution_count": 14,
   "id": "ca98eb54-6b61-4de5-999b-0637c3d3739d",
   "metadata": {},
   "outputs": [],
   "source": [
    "from sklearn.preprocessing import OrdinalEncoder\n",
    "\n",
    "ordinal_encoder = OrdinalEncoder()\n",
    "\n",
    "y_train_ordinal = ordinal_encoder.fit_transform(y_train.array.reshape(-1,1))\n",
    "y_test_ordinal = ordinal_encoder.transform(y_test.array.reshape(-1,1))"
   ]
  },
  {
   "cell_type": "code",
   "execution_count": 109,
   "id": "65eacab7-3b6a-4233-9f5e-d5608c6e4657",
   "metadata": {},
   "outputs": [
    {
     "name": "stdout",
     "output_type": "stream",
     "text": [
      "[16:42:26] WARNING: ../src/learner.cc:1115: Starting in XGBoost 1.3.0, the default evaluation metric used with the objective 'multi:softprob' was changed from 'merror' to 'mlogloss'. Explicitly set eval_metric if you'd like to restore the old behavior.\n"
     ]
    },
    {
     "data": {
      "text/plain": [
       "XGBClassifier(base_score=0.5, booster='gbtree', colsample_bylevel=1,\n",
       "              colsample_bynode=1, colsample_bytree=1, enable_categorical=False,\n",
       "              gamma=0, gpu_id=-1, importance_type=None,\n",
       "              interaction_constraints='', learning_rate=0.300000012,\n",
       "              max_delta_step=0, max_depth=6, min_child_weight=1, missing=nan,\n",
       "              monotone_constraints='()', n_estimators=100, n_jobs=8,\n",
       "              num_parallel_tree=1, objective='multi:softprob', predictor='auto',\n",
       "              random_state=0, reg_alpha=0, reg_lambda=1, scale_pos_weight=None,\n",
       "              subsample=1, tree_method='exact', use_label_encoder=False,\n",
       "              validate_parameters=1, verbosity=None)"
      ]
     },
     "execution_count": 109,
     "metadata": {},
     "output_type": "execute_result"
    }
   ],
   "source": [
    "xgb_model = XGBClassifier(use_label_encoder=False, random_state=0)\n",
    "xgb_model.fit(X_train, y_train_ordinal)"
   ]
  },
  {
   "cell_type": "code",
   "execution_count": 110,
   "id": "24cb533e-86d5-48b0-84c1-45dafadc5318",
   "metadata": {},
   "outputs": [
    {
     "data": {
      "text/plain": [
       "71.71539158362843"
      ]
     },
     "execution_count": 110,
     "metadata": {},
     "output_type": "execute_result"
    }
   ],
   "source": [
    "xgb_preds = xgb_model.predict(X_test)\n",
    "xgb_preds = ordinal_encoder.inverse_transform(xgb_preds.reshape(-1,1))\n",
    "accuracy_score(y_test, xgb_preds)*100"
   ]
  },
  {
   "cell_type": "code",
   "execution_count": 111,
   "id": "7912e17d-1970-4044-bfd4-a37d3b0911a0",
   "metadata": {},
   "outputs": [
    {
     "data": {
      "image/png": "[encoded data removed]",
      "text/plain": [
       "<Figure size 432x288 with 1 Axes>"
      ]
     },
     "metadata": {
      "needs_background": "light"
     },
     "output_type": "display_data"
    }
   ],
   "source": [
    "imprimeMatrizDeConfusão(y_test, xgb_preds, xgb_model)"
   ]
  },
  {
   "cell_type": "markdown",
   "id": "993cd458-bb41-4f56-9cc6-0f1aaecb2b35",
   "metadata": {
    "tags": []
   },
   "source": [
    "#### GB: Busca de melhores hiper parâmetros"
   ]
  },
  {
   "cell_type": "code",
   "execution_count": 112,
   "id": "54b4f7af-51e1-4d22-b692-decf22b83896",
   "metadata": {},
   "outputs": [],
   "source": [
    "def tune_gb(params):\n",
    "    learning_rate = params[0]\n",
    "    max_depth = params[1]\n",
    "    min_child_weight = params[2]\n",
    "    gamma = params[3]\n",
    "    colsample_bytree = params[4]\n",
    "    \n",
    "    print(params, '\\n')\n",
    "    \n",
    "    gb_Model = XGBClassifier(learning_rate=learning_rate, max_depth=max_depth, min_child_weight=min_child_weight, colsample_bytree=colsample_bytree,\n",
    "                             use_label_encoder=False, random_state=0, n_jobs=-1)\n",
    "    \n",
    "    auc = cross_val_score(gb_Model, X_train, y_train_ordinal, cv=3, scoring ='accuracy')\n",
    "    \n",
    "    return -auc.mean()\n",
    "\n",
    "space = [(1e-3, 1e-1, 'log-uniform'), #learning rate\n",
    "         (2, 16), # max_depth\n",
    "         (1, 16), # min_child_weight\n",
    "         (0.0, 0.5), # gamma\n",
    "         (0.1, 1.0)] # colsample bytree"
   ]
  },
  {
   "cell_type": "code",
   "execution_count": null,
   "id": "d9ce88cc-883a-4026-bce6-7584b20f2933",
   "metadata": {},
   "outputs": [
    {
     "name": "stdout",
     "output_type": "stream",
     "text": [
      "Iteration No: 1 started. Evaluating function at random point.\n",
      "[0.015335192657991574, 14, 14, 0.4236258693920628, 0.6612073271073752] \n",
      "\n",
      "[16:43:28] WARNING: ../src/learner.cc:1115: Starting in XGBoost 1.3.0, the default evaluation metric used with the objective 'multi:softprob' was changed from 'merror' to 'mlogloss'. Explicitly set eval_metric if you'd like to restore the old behavior.\n",
      "[16:44:49] WARNING: ../src/learner.cc:1115: Starting in XGBoost 1.3.0, the default evaluation metric used with the objective 'multi:softprob' was changed from 'merror' to 'mlogloss'. Explicitly set eval_metric if you'd like to restore the old behavior.\n",
      "[16:46:11] WARNING: ../src/learner.cc:1115: Starting in XGBoost 1.3.0, the default evaluation metric used with the objective 'multi:softprob' was changed from 'merror' to 'mlogloss'. Explicitly set eval_metric if you'd like to restore the old behavior.\n",
      "Iteration No: 1 ended. Evaluation done at random point.\n",
      "Time taken: 244.4441\n",
      "Function value obtained: -0.7290\n",
      "Current minimum: -0.7290\n",
      "Iteration No: 2 started. Evaluating function at random point.\n",
      "[0.005871694001325899, 6, 2, 0.13632814729005663, 0.529898605589215] \n",
      "\n",
      "[16:47:32] WARNING: ../src/learner.cc:1115: Starting in XGBoost 1.3.0, the default evaluation metric used with the objective 'multi:softprob' was changed from 'merror' to 'mlogloss'. Explicitly set eval_metric if you'd like to restore the old behavior.\n",
      "[16:48:03] WARNING: ../src/learner.cc:1115: Starting in XGBoost 1.3.0, the default evaluation metric used with the objective 'multi:softprob' was changed from 'merror' to 'mlogloss'. Explicitly set eval_metric if you'd like to restore the old behavior.\n",
      "[16:48:34] WARNING: ../src/learner.cc:1115: Starting in XGBoost 1.3.0, the default evaluation metric used with the objective 'multi:softprob' was changed from 'merror' to 'mlogloss'. Explicitly set eval_metric if you'd like to restore the old behavior.\n",
      "Iteration No: 2 ended. Evaluation done at random point.\n",
      "Time taken: 91.7714\n",
      "Function value obtained: -0.6468\n",
      "Current minimum: -0.7290\n",
      "Iteration No: 3 started. Evaluating function at random point.\n",
      "[0.04210536704211821, 9, 7, 0.4180393817686889, 0.40365654437554166] \n",
      "\n",
      "[16:49:04] WARNING: ../src/learner.cc:1115: Starting in XGBoost 1.3.0, the default evaluation metric used with the objective 'multi:softprob' was changed from 'merror' to 'mlogloss'. Explicitly set eval_metric if you'd like to restore the old behavior.\n",
      "[16:49:45] WARNING: ../src/learner.cc:1115: Starting in XGBoost 1.3.0, the default evaluation metric used with the objective 'multi:softprob' was changed from 'merror' to 'mlogloss'. Explicitly set eval_metric if you'd like to restore the old behavior.\n",
      "[16:50:26] WARNING: ../src/learner.cc:1115: Starting in XGBoost 1.3.0, the default evaluation metric used with the objective 'multi:softprob' was changed from 'merror' to 'mlogloss'. Explicitly set eval_metric if you'd like to restore the old behavior.\n",
      "Iteration No: 3 ended. Evaluation done at random point.\n",
      "Time taken: 125.8886\n",
      "Function value obtained: -0.7036\n",
      "Current minimum: -0.7290\n",
      "Iteration No: 4 started. Evaluating function at random point.\n",
      "[0.01978535031094702, 7, 15, 0.07017539020632259, 0.8830785325225929] \n",
      "\n",
      "[16:51:10] WARNING: ../src/learner.cc:1115: Starting in XGBoost 1.3.0, the default evaluation metric used with the objective 'multi:softprob' was changed from 'merror' to 'mlogloss'. Explicitly set eval_metric if you'd like to restore the old behavior.\n",
      "[16:51:50] WARNING: ../src/learner.cc:1115: Starting in XGBoost 1.3.0, the default evaluation metric used with the objective 'multi:softprob' was changed from 'merror' to 'mlogloss'. Explicitly set eval_metric if you'd like to restore the old behavior.\n",
      "[16:52:30] WARNING: ../src/learner.cc:1115: Starting in XGBoost 1.3.0, the default evaluation metric used with the objective 'multi:softprob' was changed from 'merror' to 'mlogloss'. Explicitly set eval_metric if you'd like to restore the old behavior.\n",
      "Iteration No: 4 ended. Evaluation done at random point.\n",
      "Time taken: 120.7118\n",
      "Function value obtained: -0.6761\n",
      "Current minimum: -0.7290\n",
      "Iteration No: 5 started. Evaluating function at random point.\n",
      "[0.008855561236207114, 13, 9, 0.3394397650594802, 0.7485693892533252] \n",
      "\n",
      "[16:53:11] WARNING: ../src/learner.cc:1115: Starting in XGBoost 1.3.0, the default evaluation metric used with the objective 'multi:softprob' was changed from 'merror' to 'mlogloss'. Explicitly set eval_metric if you'd like to restore the old behavior.\n",
      "[16:54:28] WARNING: ../src/learner.cc:1115: Starting in XGBoost 1.3.0, the default evaluation metric used with the objective 'multi:softprob' was changed from 'merror' to 'mlogloss'. Explicitly set eval_metric if you'd like to restore the old behavior.\n",
      "[16:55:48] WARNING: ../src/learner.cc:1115: Starting in XGBoost 1.3.0, the default evaluation metric used with the objective 'multi:softprob' was changed from 'merror' to 'mlogloss'. Explicitly set eval_metric if you'd like to restore the old behavior.\n",
      "Iteration No: 5 ended. Evaluation done at random point.\n",
      "Time taken: 237.1317\n",
      "Function value obtained: -0.7249\n",
      "Current minimum: -0.7290\n",
      "Iteration No: 6 started. Evaluating function at random point.\n",
      "[0.014589472312361858, 10, 12, 0.05295380359389608, 0.5262403774119918] \n",
      "\n",
      "[16:57:08] WARNING: ../src/learner.cc:1115: Starting in XGBoost 1.3.0, the default evaluation metric used with the objective 'multi:softprob' was changed from 'merror' to 'mlogloss'. Explicitly set eval_metric if you'd like to restore the old behavior.\n",
      "[16:58:03] WARNING: ../src/learner.cc:1115: Starting in XGBoost 1.3.0, the default evaluation metric used with the objective 'multi:softprob' was changed from 'merror' to 'mlogloss'. Explicitly set eval_metric if you'd like to restore the old behavior.\n",
      "[16:58:57] WARNING: ../src/learner.cc:1115: Starting in XGBoost 1.3.0, the default evaluation metric used with the objective 'multi:softprob' was changed from 'merror' to 'mlogloss'. Explicitly set eval_metric if you'd like to restore the old behavior.\n",
      "Iteration No: 6 ended. Evaluation done at random point.\n",
      "Time taken: 162.5881\n",
      "Function value obtained: -0.7025\n",
      "Current minimum: -0.7290\n",
      "Iteration No: 7 started. Evaluating function at random point.\n",
      "[0.002358656440793903, 12, 4, 0.06760908670272604, 0.3917269070138928] \n",
      "\n",
      "[16:59:51] WARNING: ../src/learner.cc:1115: Starting in XGBoost 1.3.0, the default evaluation metric used with the objective 'multi:softprob' was changed from 'merror' to 'mlogloss'. Explicitly set eval_metric if you'd like to restore the old behavior.\n",
      "[17:00:50] WARNING: ../src/learner.cc:1115: Starting in XGBoost 1.3.0, the default evaluation metric used with the objective 'multi:softprob' was changed from 'merror' to 'mlogloss'. Explicitly set eval_metric if you'd like to restore the old behavior.\n",
      "[17:01:49] WARNING: ../src/learner.cc:1115: Starting in XGBoost 1.3.0, the default evaluation metric used with the objective 'multi:softprob' was changed from 'merror' to 'mlogloss'. Explicitly set eval_metric if you'd like to restore the old behavior.\n",
      "Iteration No: 7 ended. Evaluation done at random point.\n",
      "Time taken: 177.6657\n",
      "Function value obtained: -0.6856\n",
      "Current minimum: -0.7290\n",
      "Iteration No: 8 started. Evaluating function at random point.\n",
      "[0.0019922770602188436, 5, 7, 0.45129923776470243, 0.504954990920105] \n",
      "\n",
      "[17:02:48] WARNING: ../src/learner.cc:1115: Starting in XGBoost 1.3.0, the default evaluation metric used with the objective 'multi:softprob' was changed from 'merror' to 'mlogloss'. Explicitly set eval_metric if you'd like to restore the old behavior.\n",
      "[17:03:13] WARNING: ../src/learner.cc:1115: Starting in XGBoost 1.3.0, the default evaluation metric used with the objective 'multi:softprob' was changed from 'merror' to 'mlogloss'. Explicitly set eval_metric if you'd like to restore the old behavior.\n",
      "[17:03:38] WARNING: ../src/learner.cc:1115: Starting in XGBoost 1.3.0, the default evaluation metric used with the objective 'multi:softprob' was changed from 'merror' to 'mlogloss'. Explicitly set eval_metric if you'd like to restore the old behavior.\n",
      "Iteration No: 8 ended. Evaluation done at random point.\n",
      "Time taken: 75.0953\n",
      "Function value obtained: -0.6329\n",
      "Current minimum: -0.7290\n",
      "Iteration No: 9 started. Evaluating function at random point.\n",
      "[0.0168316586809914, 15, 2, 0.4849045338733745, 0.687826032218144] \n",
      "\n",
      "[17:04:04] WARNING: ../src/learner.cc:1115: Starting in XGBoost 1.3.0, the default evaluation metric used with the objective 'multi:softprob' was changed from 'merror' to 'mlogloss'. Explicitly set eval_metric if you'd like to restore the old behavior.\n",
      "[17:05:40] WARNING: ../src/learner.cc:1115: Starting in XGBoost 1.3.0, the default evaluation metric used with the objective 'multi:softprob' was changed from 'merror' to 'mlogloss'. Explicitly set eval_metric if you'd like to restore the old behavior.\n",
      "[17:07:18] WARNING: ../src/learner.cc:1115: Starting in XGBoost 1.3.0, the default evaluation metric used with the objective 'multi:softprob' was changed from 'merror' to 'mlogloss'. Explicitly set eval_metric if you'd like to restore the old behavior.\n",
      "Iteration No: 9 ended. Evaluation done at random point.\n",
      "Time taken: 294.0135\n",
      "Function value obtained: -0.7337\n",
      "Current minimum: -0.7337\n",
      "Iteration No: 10 started. Evaluating function at random point.\n",
      "[0.0021969449275369667, 7, 12, 0.30391533435773394, 0.3925425061075173] \n",
      "\n",
      "[17:08:57] WARNING: ../src/learner.cc:1115: Starting in XGBoost 1.3.0, the default evaluation metric used with the objective 'multi:softprob' was changed from 'merror' to 'mlogloss'. Explicitly set eval_metric if you'd like to restore the old behavior.\n",
      "[17:09:29] WARNING: ../src/learner.cc:1115: Starting in XGBoost 1.3.0, the default evaluation metric used with the objective 'multi:softprob' was changed from 'merror' to 'mlogloss'. Explicitly set eval_metric if you'd like to restore the old behavior.\n",
      "[17:10:00] WARNING: ../src/learner.cc:1115: Starting in XGBoost 1.3.0, the default evaluation metric used with the objective 'multi:softprob' was changed from 'merror' to 'mlogloss'. Explicitly set eval_metric if you'd like to restore the old behavior.\n",
      "Iteration No: 10 ended. Evaluation done at random point.\n",
      "Time taken: 95.2832\n",
      "Function value obtained: -0.6436\n",
      "Current minimum: -0.7337\n",
      "Iteration No: 11 started. Searching for the next optimal point.\n",
      "[0.06389488222438718, 15, 1, 0.5, 1.0] \n",
      "\n",
      "[17:10:33] WARNING: ../src/learner.cc:1115: Starting in XGBoost 1.3.0, the default evaluation metric used with the objective 'multi:softprob' was changed from 'merror' to 'mlogloss'. Explicitly set eval_metric if you'd like to restore the old behavior.\n",
      "[17:12:29] WARNING: ../src/learner.cc:1115: Starting in XGBoost 1.3.0, the default evaluation metric used with the objective 'multi:softprob' was changed from 'merror' to 'mlogloss'. Explicitly set eval_metric if you'd like to restore the old behavior.\n",
      "[17:14:30] WARNING: ../src/learner.cc:1115: Starting in XGBoost 1.3.0, the default evaluation metric used with the objective 'multi:softprob' was changed from 'merror' to 'mlogloss'. Explicitly set eval_metric if you'd like to restore the old behavior.\n",
      "Iteration No: 11 ended. Search finished for the next optimal point.\n",
      "Time taken: 356.2834\n",
      "Function value obtained: -0.7320\n",
      "Current minimum: -0.7337\n",
      "Iteration No: 12 started. Searching for the next optimal point.\n",
      "[0.011041145861227624, 16, 16, 0.0, 1.0] \n",
      "\n",
      "[17:16:30] WARNING: ../src/learner.cc:1115: Starting in XGBoost 1.3.0, the default evaluation metric used with the objective 'multi:softprob' was changed from 'merror' to 'mlogloss'. Explicitly set eval_metric if you'd like to restore the old behavior.\n",
      "[17:18:31] WARNING: ../src/learner.cc:1115: Starting in XGBoost 1.3.0, the default evaluation metric used with the objective 'multi:softprob' was changed from 'merror' to 'mlogloss'. Explicitly set eval_metric if you'd like to restore the old behavior.\n",
      "[17:20:32] WARNING: ../src/learner.cc:1115: Starting in XGBoost 1.3.0, the default evaluation metric used with the objective 'multi:softprob' was changed from 'merror' to 'mlogloss'. Explicitly set eval_metric if you'd like to restore the old behavior.\n",
      "Iteration No: 12 ended. Search finished for the next optimal point.\n",
      "Time taken: 365.2357\n",
      "Function value obtained: -0.7251\n",
      "Current minimum: -0.7337\n",
      "Iteration No: 13 started. Searching for the next optimal point.\n",
      "[0.1, 16, 1, 0.0, 0.1] \n",
      "\n",
      "[17:22:34] WARNING: ../src/learner.cc:1115: Starting in XGBoost 1.3.0, the default evaluation metric used with the objective 'multi:softprob' was changed from 'merror' to 'mlogloss'. Explicitly set eval_metric if you'd like to restore the old behavior.\n",
      "[17:23:10] WARNING: ../src/learner.cc:1115: Starting in XGBoost 1.3.0, the default evaluation metric used with the objective 'multi:softprob' was changed from 'merror' to 'mlogloss'. Explicitly set eval_metric if you'd like to restore the old behavior.\n",
      "[17:23:47] WARNING: ../src/learner.cc:1115: Starting in XGBoost 1.3.0, the default evaluation metric used with the objective 'multi:softprob' was changed from 'merror' to 'mlogloss'. Explicitly set eval_metric if you'd like to restore the old behavior.\n",
      "Iteration No: 13 ended. Search finished for the next optimal point.\n",
      "Time taken: 109.4034\n",
      "Function value obtained: -0.6152\n",
      "Current minimum: -0.7337\n",
      "Iteration No: 14 started. Searching for the next optimal point.\n",
      "[0.1, 16, 7, 0.11513502000648611, 0.8037937810355805] \n",
      "\n",
      "[17:24:24] WARNING: ../src/learner.cc:1115: Starting in XGBoost 1.3.0, the default evaluation metric used with the objective 'multi:softprob' was changed from 'merror' to 'mlogloss'. Explicitly set eval_metric if you'd like to restore the old behavior.\n",
      "[17:25:58] WARNING: ../src/learner.cc:1115: Starting in XGBoost 1.3.0, the default evaluation metric used with the objective 'multi:softprob' was changed from 'merror' to 'mlogloss'. Explicitly set eval_metric if you'd like to restore the old behavior.\n",
      "[17:27:32] WARNING: ../src/learner.cc:1115: Starting in XGBoost 1.3.0, the default evaluation metric used with the objective 'multi:softprob' was changed from 'merror' to 'mlogloss'. Explicitly set eval_metric if you'd like to restore the old behavior.\n",
      "Iteration No: 14 ended. Search finished for the next optimal point.\n",
      "Time taken: 283.6803\n",
      "Function value obtained: -0.7346\n",
      "Current minimum: -0.7346\n",
      "Iteration No: 15 started. Searching for the next optimal point.\n",
      "[0.1, 12, 1, 0.3209454275327882, 0.8104423414372179] \n",
      "\n",
      "[17:29:07] WARNING: ../src/learner.cc:1115: Starting in XGBoost 1.3.0, the default evaluation metric used with the objective 'multi:softprob' was changed from 'merror' to 'mlogloss'. Explicitly set eval_metric if you'd like to restore the old behavior.\n",
      "[17:30:22] WARNING: ../src/learner.cc:1115: Starting in XGBoost 1.3.0, the default evaluation metric used with the objective 'multi:softprob' was changed from 'merror' to 'mlogloss'. Explicitly set eval_metric if you'd like to restore the old behavior.\n",
      "[17:31:33] WARNING: ../src/learner.cc:1115: Starting in XGBoost 1.3.0, the default evaluation metric used with the objective 'multi:softprob' was changed from 'merror' to 'mlogloss'. Explicitly set eval_metric if you'd like to restore the old behavior.\n",
      "Iteration No: 15 ended. Search finished for the next optimal point.\n",
      "Time taken: 212.4595\n",
      "Function value obtained: -0.7310\n",
      "Current minimum: -0.7346\n",
      "Iteration No: 16 started. Searching for the next optimal point.\n",
      "[0.001, 16, 1, 0.5, 0.7817023566933607] \n",
      "\n",
      "[17:32:40] WARNING: ../src/learner.cc:1115: Starting in XGBoost 1.3.0, the default evaluation metric used with the objective 'multi:softprob' was changed from 'merror' to 'mlogloss'. Explicitly set eval_metric if you'd like to restore the old behavior.\n",
      "[17:34:26] WARNING: ../src/learner.cc:1115: Starting in XGBoost 1.3.0, the default evaluation metric used with the objective 'multi:softprob' was changed from 'merror' to 'mlogloss'. Explicitly set eval_metric if you'd like to restore the old behavior.\n",
      "[17:36:11] WARNING: ../src/learner.cc:1115: Starting in XGBoost 1.3.0, the default evaluation metric used with the objective 'multi:softprob' was changed from 'merror' to 'mlogloss'. Explicitly set eval_metric if you'd like to restore the old behavior.\n",
      "Iteration No: 16 ended. Search finished for the next optimal point.\n",
      "Time taken: 317.7836\n",
      "Function value obtained: -0.7316\n",
      "Current minimum: -0.7346\n",
      "Iteration No: 17 started. Searching for the next optimal point.\n",
      "[0.1, 2, 4, 0.5, 0.1] \n",
      "\n",
      "[17:37:57] WARNING: ../src/learner.cc:1115: Starting in XGBoost 1.3.0, the default evaluation metric used with the objective 'multi:softprob' was changed from 'merror' to 'mlogloss'. Explicitly set eval_metric if you'd like to restore the old behavior.\n",
      "[17:38:03] WARNING: ../src/learner.cc:1115: Starting in XGBoost 1.3.0, the default evaluation metric used with the objective 'multi:softprob' was changed from 'merror' to 'mlogloss'. Explicitly set eval_metric if you'd like to restore the old behavior.\n",
      "[17:38:08] WARNING: ../src/learner.cc:1115: Starting in XGBoost 1.3.0, the default evaluation metric used with the objective 'multi:softprob' was changed from 'merror' to 'mlogloss'. Explicitly set eval_metric if you'd like to restore the old behavior.\n",
      "Iteration No: 17 ended. Search finished for the next optimal point.\n",
      "Time taken: 17.0111\n",
      "Function value obtained: -0.6089\n",
      "Current minimum: -0.7346\n",
      "Iteration No: 18 started. Searching for the next optimal point.\n",
      "[0.1, 16, 16, 0.5, 0.8353434398594747] \n",
      "\n",
      "[17:38:15] WARNING: ../src/learner.cc:1115: Starting in XGBoost 1.3.0, the default evaluation metric used with the objective 'multi:softprob' was changed from 'merror' to 'mlogloss'. Explicitly set eval_metric if you'd like to restore the old behavior.\n",
      "[17:39:42] WARNING: ../src/learner.cc:1115: Starting in XGBoost 1.3.0, the default evaluation metric used with the objective 'multi:softprob' was changed from 'merror' to 'mlogloss'. Explicitly set eval_metric if you'd like to restore the old behavior.\n",
      "[17:41:10] WARNING: ../src/learner.cc:1115: Starting in XGBoost 1.3.0, the default evaluation metric used with the objective 'multi:softprob' was changed from 'merror' to 'mlogloss'. Explicitly set eval_metric if you'd like to restore the old behavior.\n",
      "Iteration No: 18 ended. Search finished for the next optimal point.\n",
      "Time taken: 263.2949\n",
      "Function value obtained: -0.7332\n",
      "Current minimum: -0.7346\n",
      "Iteration No: 19 started. Searching for the next optimal point.\n",
      "[0.1, 2, 2, 0.00612024555903442, 1.0] \n",
      "\n",
      "[17:42:37] WARNING: ../src/learner.cc:1115: Starting in XGBoost 1.3.0, the default evaluation metric used with the objective 'multi:softprob' was changed from 'merror' to 'mlogloss'. Explicitly set eval_metric if you'd like to restore the old behavior.\n",
      "[17:42:48] WARNING: ../src/learner.cc:1115: Starting in XGBoost 1.3.0, the default evaluation metric used with the objective 'multi:softprob' was changed from 'merror' to 'mlogloss'. Explicitly set eval_metric if you'd like to restore the old behavior.\n",
      "[17:42:59] WARNING: ../src/learner.cc:1115: Starting in XGBoost 1.3.0, the default evaluation metric used with the objective 'multi:softprob' was changed from 'merror' to 'mlogloss'. Explicitly set eval_metric if you'd like to restore the old behavior.\n",
      "Iteration No: 19 ended. Search finished for the next optimal point.\n",
      "Time taken: 33.0012\n",
      "Function value obtained: -0.6305\n",
      "Current minimum: -0.7346\n",
      "Iteration No: 20 started. Searching for the next optimal point.\n",
      "[0.1, 14, 1, 0.0, 0.7950069285496054] \n",
      "\n",
      "[17:43:11] WARNING: ../src/learner.cc:1115: Starting in XGBoost 1.3.0, the default evaluation metric used with the objective 'multi:softprob' was changed from 'merror' to 'mlogloss'. Explicitly set eval_metric if you'd like to restore the old behavior.\n",
      "[17:44:30] WARNING: ../src/learner.cc:1115: Starting in XGBoost 1.3.0, the default evaluation metric used with the objective 'multi:softprob' was changed from 'merror' to 'mlogloss'. Explicitly set eval_metric if you'd like to restore the old behavior.\n",
      "[17:45:51] WARNING: ../src/learner.cc:1115: Starting in XGBoost 1.3.0, the default evaluation metric used with the objective 'multi:softprob' was changed from 'merror' to 'mlogloss'. Explicitly set eval_metric if you'd like to restore the old behavior.\n",
      "Iteration No: 20 ended. Search finished for the next optimal point.\n",
      "Time taken: 244.7337\n",
      "Function value obtained: -0.7343\n",
      "Current minimum: -0.7346\n",
      "Iteration No: 21 started. Searching for the next optimal point.\n",
      "[0.1, 13, 1, 0.5, 0.6025484450163141] \n",
      "\n",
      "[17:47:16] WARNING: ../src/learner.cc:1115: Starting in XGBoost 1.3.0, the default evaluation metric used with the objective 'multi:softprob' was changed from 'merror' to 'mlogloss'. Explicitly set eval_metric if you'd like to restore the old behavior.\n",
      "[17:48:25] WARNING: ../src/learner.cc:1115: Starting in XGBoost 1.3.0, the default evaluation metric used with the objective 'multi:softprob' was changed from 'merror' to 'mlogloss'. Explicitly set eval_metric if you'd like to restore the old behavior.\n",
      "[17:49:35] WARNING: ../src/learner.cc:1115: Starting in XGBoost 1.3.0, the default evaluation metric used with the objective 'multi:softprob' was changed from 'merror' to 'mlogloss'. Explicitly set eval_metric if you'd like to restore the old behavior.\n",
      "Iteration No: 21 ended. Search finished for the next optimal point.\n",
      "Time taken: 209.1451\n",
      "Function value obtained: -0.7332\n",
      "Current minimum: -0.7346\n",
      "Iteration No: 22 started. Searching for the next optimal point.\n",
      "[0.1, 14, 1, 0.5, 0.7859348903866988] \n",
      "\n",
      "[17:50:45] WARNING: ../src/learner.cc:1115: Starting in XGBoost 1.3.0, the default evaluation metric used with the objective 'multi:softprob' was changed from 'merror' to 'mlogloss'. Explicitly set eval_metric if you'd like to restore the old behavior.\n",
      "[17:52:08] WARNING: ../src/learner.cc:1115: Starting in XGBoost 1.3.0, the default evaluation metric used with the objective 'multi:softprob' was changed from 'merror' to 'mlogloss'. Explicitly set eval_metric if you'd like to restore the old behavior.\n",
      "[17:53:27] WARNING: ../src/learner.cc:1115: Starting in XGBoost 1.3.0, the default evaluation metric used with the objective 'multi:softprob' was changed from 'merror' to 'mlogloss'. Explicitly set eval_metric if you'd like to restore the old behavior.\n",
      "Iteration No: 22 ended. Search finished for the next optimal point.\n",
      "Time taken: 245.3680\n",
      "Function value obtained: -0.7343\n",
      "Current minimum: -0.7346\n",
      "Iteration No: 23 started. Searching for the next optimal point.\n",
      "[0.1, 12, 1, 0.5, 1.0] \n",
      "\n",
      "[17:54:51] WARNING: ../src/learner.cc:1115: Starting in XGBoost 1.3.0, the default evaluation metric used with the objective 'multi:softprob' was changed from 'merror' to 'mlogloss'. Explicitly set eval_metric if you'd like to restore the old behavior.\n",
      "[17:56:09] WARNING: ../src/learner.cc:1115: Starting in XGBoost 1.3.0, the default evaluation metric used with the objective 'multi:softprob' was changed from 'merror' to 'mlogloss'. Explicitly set eval_metric if you'd like to restore the old behavior.\n",
      "[17:57:27] WARNING: ../src/learner.cc:1115: Starting in XGBoost 1.3.0, the default evaluation metric used with the objective 'multi:softprob' was changed from 'merror' to 'mlogloss'. Explicitly set eval_metric if you'd like to restore the old behavior.\n",
      "Iteration No: 23 ended. Search finished for the next optimal point.\n",
      "Time taken: 235.5713\n",
      "Function value obtained: -0.7290\n",
      "Current minimum: -0.7346\n",
      "Iteration No: 24 started. Searching for the next optimal point.\n",
      "[0.001, 13, 1, 0.5, 1.0] \n",
      "\n",
      "[17:58:46] WARNING: ../src/learner.cc:1115: Starting in XGBoost 1.3.0, the default evaluation metric used with the objective 'multi:softprob' was changed from 'merror' to 'mlogloss'. Explicitly set eval_metric if you'd like to restore the old behavior.\n",
      "[18:00:23] WARNING: ../src/learner.cc:1115: Starting in XGBoost 1.3.0, the default evaluation metric used with the objective 'multi:softprob' was changed from 'merror' to 'mlogloss'. Explicitly set eval_metric if you'd like to restore the old behavior.\n",
      "[18:01:59] WARNING: ../src/learner.cc:1115: Starting in XGBoost 1.3.0, the default evaluation metric used with the objective 'multi:softprob' was changed from 'merror' to 'mlogloss'. Explicitly set eval_metric if you'd like to restore the old behavior.\n",
      "Iteration No: 24 ended. Search finished for the next optimal point.\n",
      "Time taken: 293.1159\n",
      "Function value obtained: -0.7069\n",
      "Current minimum: -0.7346\n",
      "Iteration No: 25 started. Searching for the next optimal point.\n",
      "[0.0010489322804937088, 16, 1, 0.19845788237019565, 0.6164001402681875] \n",
      "\n",
      "[18:03:39] WARNING: ../src/learner.cc:1115: Starting in XGBoost 1.3.0, the default evaluation metric used with the objective 'multi:softprob' was changed from 'merror' to 'mlogloss'. Explicitly set eval_metric if you'd like to restore the old behavior.\n",
      "[18:05:34] WARNING: ../src/learner.cc:1115: Starting in XGBoost 1.3.0, the default evaluation metric used with the objective 'multi:softprob' was changed from 'merror' to 'mlogloss'. Explicitly set eval_metric if you'd like to restore the old behavior.\n",
      "[18:07:21] WARNING: ../src/learner.cc:1115: Starting in XGBoost 1.3.0, the default evaluation metric used with the objective 'multi:softprob' was changed from 'merror' to 'mlogloss'. Explicitly set eval_metric if you'd like to restore the old behavior.\n",
      "Iteration No: 25 ended. Search finished for the next optimal point.\n",
      "Time taken: 331.2919\n",
      "Function value obtained: -0.7322\n",
      "Current minimum: -0.7346\n",
      "Iteration No: 26 started. Searching for the next optimal point.\n",
      "[0.09781867510036772, 16, 15, 0.3783061555160541, 0.6222748495482476] \n",
      "\n",
      "[18:09:10] WARNING: ../src/learner.cc:1115: Starting in XGBoost 1.3.0, the default evaluation metric used with the objective 'multi:softprob' was changed from 'merror' to 'mlogloss'. Explicitly set eval_metric if you'd like to restore the old behavior.\n",
      "[18:10:39] WARNING: ../src/learner.cc:1115: Starting in XGBoost 1.3.0, the default evaluation metric used with the objective 'multi:softprob' was changed from 'merror' to 'mlogloss'. Explicitly set eval_metric if you'd like to restore the old behavior.\n",
      "[18:12:08] WARNING: ../src/learner.cc:1115: Starting in XGBoost 1.3.0, the default evaluation metric used with the objective 'multi:softprob' was changed from 'merror' to 'mlogloss'. Explicitly set eval_metric if you'd like to restore the old behavior.\n",
      "Iteration No: 26 ended. Search finished for the next optimal point.\n",
      "Time taken: 266.8370\n",
      "Function value obtained: -0.7344\n",
      "Current minimum: -0.7346\n",
      "Iteration No: 27 started. Searching for the next optimal point.\n",
      "[0.00760195833213617, 16, 4, 0.4152486264287845, 0.5104278488718872] \n",
      "\n",
      "[18:13:37] WARNING: ../src/learner.cc:1115: Starting in XGBoost 1.3.0, the default evaluation metric used with the objective 'multi:softprob' was changed from 'merror' to 'mlogloss'. Explicitly set eval_metric if you'd like to restore the old behavior.\n",
      "[18:15:15] WARNING: ../src/learner.cc:1115: Starting in XGBoost 1.3.0, the default evaluation metric used with the objective 'multi:softprob' was changed from 'merror' to 'mlogloss'. Explicitly set eval_metric if you'd like to restore the old behavior.\n",
      "[18:16:55] WARNING: ../src/learner.cc:1115: Starting in XGBoost 1.3.0, the default evaluation metric used with the objective 'multi:softprob' was changed from 'merror' to 'mlogloss'. Explicitly set eval_metric if you'd like to restore the old behavior.\n",
      "Iteration No: 27 ended. Search finished for the next optimal point.\n",
      "Time taken: 295.8606\n",
      "Function value obtained: -0.7315\n",
      "Current minimum: -0.7346\n",
      "Iteration No: 28 started. Searching for the next optimal point.\n",
      "[0.08922349432377487, 15, 7, 0.00680283700335445, 0.9919585990231522] \n",
      "\n",
      "[18:18:33] WARNING: ../src/learner.cc:1115: Starting in XGBoost 1.3.0, the default evaluation metric used with the objective 'multi:softprob' was changed from 'merror' to 'mlogloss'. Explicitly set eval_metric if you'd like to restore the old behavior.\n",
      "[18:20:12] WARNING: ../src/learner.cc:1115: Starting in XGBoost 1.3.0, the default evaluation metric used with the objective 'multi:softprob' was changed from 'merror' to 'mlogloss'. Explicitly set eval_metric if you'd like to restore the old behavior.\n",
      "[18:21:52] WARNING: ../src/learner.cc:1115: Starting in XGBoost 1.3.0, the default evaluation metric used with the objective 'multi:softprob' was changed from 'merror' to 'mlogloss'. Explicitly set eval_metric if you'd like to restore the old behavior.\n",
      "Iteration No: 28 ended. Search finished for the next optimal point.\n",
      "Time taken: 298.8821\n",
      "Function value obtained: -0.7337\n",
      "Current minimum: -0.7346\n",
      "Iteration No: 29 started. Searching for the next optimal point.\n",
      "[0.1, 13, 1, 0.5, 0.45026759698873386] \n",
      "\n",
      "[18:23:32] WARNING: ../src/learner.cc:1115: Starting in XGBoost 1.3.0, the default evaluation metric used with the objective 'multi:softprob' was changed from 'merror' to 'mlogloss'. Explicitly set eval_metric if you'd like to restore the old behavior.\n",
      "[18:24:42] WARNING: ../src/learner.cc:1115: Starting in XGBoost 1.3.0, the default evaluation metric used with the objective 'multi:softprob' was changed from 'merror' to 'mlogloss'. Explicitly set eval_metric if you'd like to restore the old behavior.\n",
      "[18:25:52] WARNING: ../src/learner.cc:1115: Starting in XGBoost 1.3.0, the default evaluation metric used with the objective 'multi:softprob' was changed from 'merror' to 'mlogloss'. Explicitly set eval_metric if you'd like to restore the old behavior.\n",
      "Iteration No: 29 ended. Search finished for the next optimal point.\n",
      "Time taken: 210.3147\n",
      "Function value obtained: -0.7340\n",
      "Current minimum: -0.7346\n",
      "Iteration No: 30 started. Searching for the next optimal point.\n",
      "[0.1, 16, 1, 0.0, 0.5370264280766771] \n",
      "\n",
      "[18:27:02] WARNING: ../src/learner.cc:1115: Starting in XGBoost 1.3.0, the default evaluation metric used with the objective 'multi:softprob' was changed from 'merror' to 'mlogloss'. Explicitly set eval_metric if you'd like to restore the old behavior.\n",
      "[18:28:41] WARNING: ../src/learner.cc:1115: Starting in XGBoost 1.3.0, the default evaluation metric used with the objective 'multi:softprob' was changed from 'merror' to 'mlogloss'. Explicitly set eval_metric if you'd like to restore the old behavior.\n",
      "[18:30:14] WARNING: ../src/learner.cc:1115: Starting in XGBoost 1.3.0, the default evaluation metric used with the objective 'multi:softprob' was changed from 'merror' to 'mlogloss'. Explicitly set eval_metric if you'd like to restore the old behavior.\n",
      "Iteration No: 30 ended. Search finished for the next optimal point.\n",
      "Time taken: 279.2158\n",
      "Function value obtained: -0.7368\n",
      "Current minimum: -0.7368\n",
      "CPU times: user 13h 39min 40s, sys: 7min 4s, total: 13h 46min 44s\n",
      "Wall time: 1h 48min 13s\n"
     ]
    }
   ],
   "source": [
    "%%time\n",
    "resultados_gb = gp_minimize(tune_gb, space, random_state=0, verbose=1, n_calls=30, n_random_starts=10, n_jobs=-1)"
   ]
  },
  {
   "cell_type": "code",
   "execution_count": null,
   "id": "66c78263-a6e1-4360-ae86-102da8fe256c",
   "metadata": {},
   "outputs": [
    {
     "data": {
      "text/plain": [
       "[0.1, 16, 1, 0.0, 0.5370264280766771]"
      ]
     },
     "execution_count": 114,
     "metadata": {},
     "output_type": "execute_result"
    }
   ],
   "source": [
    "resultados_gb.x"
   ]
  },
  {
   "cell_type": "code",
   "execution_count": null,
   "id": "0d6d1ee9-ccb7-4cf9-9302-acd1dc20f5b4",
   "metadata": {},
   "outputs": [],
   "source": [
    "# Melhores hiper parâmetros para o conjunto PRO: learning_rate=0.1, max_depth=16, min_child_weight=1, gamma=0.0, colsample_bytree=0.5370264280766771, use_label_encoder=False, random_state=0, n_jobs=-1"
   ]
  },
  {
   "cell_type": "code",
   "execution_count": 117,
   "id": "37a26fff-5366-4321-b377-b47c1a953582",
   "metadata": {
    "tags": []
   },
   "outputs": [
    {
     "data": {
      "text/plain": [
       "<AxesSubplot:title={'center':'Convergence plot'}, xlabel='Number of calls $n$', ylabel='$\\\\min f(x)$ after $n$ calls'>"
      ]
     },
     "execution_count": 117,
     "metadata": {},
     "output_type": "execute_result"
    },
    {
     "data": {
      "image/png": "[encoded data removed]",
      "text/plain": [
       "<Figure size 432x288 with 1 Axes>"
      ]
     },
     "metadata": {
      "needs_background": "light"
     },
     "output_type": "display_data"
    }
   ],
   "source": [
    "from skopt.plots import plot_convergence\n",
    "plot_convergence(resultados_gb)"
   ]
  },
  {
   "cell_type": "code",
   "execution_count": 87,
   "id": "ca092ac8-305d-4343-a36b-e3120256d7f1",
   "metadata": {},
   "outputs": [],
   "source": [
    "# Melhores hiper parâmetros para o conjunto PNP: learning_rate=0.008851671496973969, max_depth=16, min_child_weight=1, gamma=0.0, colsample_bytree=0.631278076735511, use_label_encoder=False, random_state=0, n_jobs=-1"
   ]
  },
  {
   "cell_type": "code",
   "execution_count": 85,
   "id": "14ba1c61-6f29-46a4-804e-930fe5eedf5b",
   "metadata": {},
   "outputs": [
    {
     "data": {
      "text/plain": [
       "<AxesSubplot:title={'center':'Convergence plot'}, xlabel='Number of calls $n$', ylabel='$\\\\min f(x)$ after $n$ calls'>"
      ]
     },
     "execution_count": 85,
     "metadata": {},
     "output_type": "execute_result"
    },
    {
     "data": {
      "image/png": "[encoded data removed]",
      "text/plain": [
       "<Figure size 432x288 with 1 Axes>"
      ]
     },
     "metadata": {
      "needs_background": "light"
     },
     "output_type": "display_data"
    }
   ],
   "source": [
    "plot_convergence(resultados_gb)"
   ]
  },
  {
   "cell_type": "markdown",
   "id": "9b5f5e0d-df0f-4b2f-85f2-1ac43a6ef7ac",
   "metadata": {
    "tags": []
   },
   "source": [
    "#### GB: Treinamento com os melhores hiper parâmetros"
   ]
  },
  {
   "cell_type": "code",
   "execution_count": 24,
   "id": "ffd0cc2a-7137-4911-b2c0-da9e146ee5a9",
   "metadata": {
    "tags": []
   },
   "outputs": [
    {
     "name": "stdout",
     "output_type": "stream",
     "text": [
      "[19:06:27] WARNING: ../src/learner.cc:1115: Starting in XGBoost 1.3.0, the default evaluation metric used with the objective 'multi:softprob' was changed from 'merror' to 'mlogloss'. Explicitly set eval_metric if you'd like to restore the old behavior.\n",
      "CPU times: user 18min 9s, sys: 13.1 s, total: 18min 22s\n",
      "Wall time: 2min 32s\n"
     ]
    }
   ],
   "source": [
    "%%time\n",
    "gb_model = XGBClassifier(learning_rate=0.1, max_depth=16, min_child_weight=1, gamma=0.0,\n",
    "                         colsample_bytree=0.5370264280766771, use_label_encoder=False, random_state=0, n_jobs=-1)\n",
    "\n",
    "gb_model.fit(X_train, y_train_ordinal)\n",
    "preds = gb_model.predict(X_test)"
   ]
  },
  {
   "cell_type": "code",
   "execution_count": 16,
   "id": "a14f7dc5-8ef9-4d0e-bb90-77baccea11b1",
   "metadata": {},
   "outputs": [
    {
     "data": {
      "text/plain": [
       "74.29218479782591"
      ]
     },
     "execution_count": 16,
     "metadata": {},
     "output_type": "execute_result"
    }
   ],
   "source": [
    "preds = ordinal_encoder.inverse_transform(preds.reshape(-1,1))\n",
    "accuracy_score(y_test, preds)*100"
   ]
  },
  {
   "cell_type": "code",
   "execution_count": 17,
   "id": "addb75a3-cfa6-4930-9e5d-6e70c3327720",
   "metadata": {},
   "outputs": [
    {
     "name": "stdout",
     "output_type": "stream",
     "text": [
      "              precision    recall  f1-score   support\n",
      "\n",
      "        Ocio      0.657     0.429     0.519     24652\n",
      "  Pastejando      0.775     0.894     0.830     66502\n",
      "   Ruminando      0.705     0.667     0.686     30276\n",
      "\n",
      "    accuracy                          0.743    121430\n",
      "   macro avg      0.713     0.663     0.678    121430\n",
      "weighted avg      0.734     0.743     0.731    121430\n",
      "\n"
     ]
    }
   ],
   "source": [
    "print(classification_report(y_test, preds, digits=3))"
   ]
  },
  {
   "cell_type": "code",
   "execution_count": 18,
   "id": "c6515912-4a06-4238-9632-fa21af4aa991",
   "metadata": {},
   "outputs": [
    {
     "data": {
      "image/png": "[encoded data removed]",
      "text/plain": [
       "<Figure size 432x288 with 1 Axes>"
      ]
     },
     "metadata": {
      "needs_background": "light"
     },
     "output_type": "display_data"
    }
   ],
   "source": [
    "imprimeMatrizDeConfusão(y_test, preds, gb_model)"
   ]
  },
  {
   "cell_type": "markdown",
   "id": "d46bda57-c898-4538-8b8a-819c3cc6fe67",
   "metadata": {
    "tags": [],
    "toc-hr-collapsed": true
   },
   "source": [
    "### SVM"
   ]
  },
  {
   "cell_type": "code",
   "execution_count": 21,
   "id": "c86bedac-aa4b-47d4-91e3-b2e0e09fe3f4",
   "metadata": {},
   "outputs": [],
   "source": [
    "from sklearn.svm import SVC\n",
    "X_train, X_test, y_train, y_test = train_test_split(X, y, train_size=0.1, random_state = 0)"
   ]
  },
  {
   "cell_type": "code",
   "execution_count": null,
   "id": "cc4cdd96-4c57-4a2f-a23a-d432c5d34fab",
   "metadata": {},
   "outputs": [],
   "source": [
    "%%time\n",
    "svc_model = SVC(kernel='linear', cache_size=5000, random_state=0) # Linear Kernel\n",
    "\n",
    "svc_model.fit(X_train, y_train)\n",
    "\n",
    "svc_preds = svc_model.predict(X_test)"
   ]
  },
  {
   "cell_type": "code",
   "execution_count": null,
   "id": "9e176cf6-95fd-4e6f-ad88-5f0422622c5e",
   "metadata": {},
   "outputs": [],
   "source": [
    "print(\"Acurácia:\", accuracy_score(y_test, svc_preds))"
   ]
  },
  {
   "cell_type": "markdown",
   "id": "23e8b482-5b1f-4125-a980-554c3ba6570c",
   "metadata": {
    "tags": []
   },
   "source": [
    "###  Gaussian Naive Bayes"
   ]
  },
  {
   "cell_type": "code",
   "execution_count": 105,
   "id": "61259046-cd8e-4efb-a350-ba4c5b66cd08",
   "metadata": {},
   "outputs": [],
   "source": [
    "# Conjunto com todas as classes\n",
    "X_train, X_test, y_train, y_test = train_test_split(X, y, random_state = 0)"
   ]
  },
  {
   "cell_type": "code",
   "execution_count": 106,
   "id": "8f9cbc1b-febe-444c-8595-ebf6957415a9",
   "metadata": {},
   "outputs": [],
   "source": [
    "from sklearn.naive_bayes import GaussianNB"
   ]
  },
  {
   "cell_type": "code",
   "execution_count": 107,
   "id": "7858a352-30b2-425f-a877-8c22664192ea",
   "metadata": {},
   "outputs": [
    {
     "name": "stdout",
     "output_type": "stream",
     "text": [
      "Acurácia: 0.5575803093788705\n"
     ]
    }
   ],
   "source": [
    "gnb_model = GaussianNB()\n",
    "gnb_preds = gnb_model.fit(X_train, y_train).predict(X_test)\n",
    "print(\"Acurácia:\", accuracy_score(y_test, gnb_preds))"
   ]
  },
  {
   "cell_type": "markdown",
   "id": "a22562a2-f07c-426e-bd64-a6034beb50bf",
   "metadata": {
    "tags": []
   },
   "source": [
    "### Logistic Regression"
   ]
  },
  {
   "cell_type": "code",
   "execution_count": 114,
   "id": "6c4b89e6-b104-416d-8e1f-421413fa74b1",
   "metadata": {},
   "outputs": [],
   "source": [
    "# Conjunto de dados PNP: Pastejando x Não Pastejando\n",
    "y_pnp = y\n",
    "y_pnp = y_pnp.replace(to_replace=['Agua', 'Locomovendo', 'Ocio', 'Outros','Ruminando'], value='Não Pastejando')\n",
    "X_train, X_test, y_train, y_test = train_test_split(X, y_pnp, random_state = 0)"
   ]
  },
  {
   "cell_type": "code",
   "execution_count": 118,
   "id": "151d5591-8a1a-4ac8-81cc-75c450a6899d",
   "metadata": {},
   "outputs": [],
   "source": [
    "from sklearn.linear_model import LogisticRegression"
   ]
  },
  {
   "cell_type": "code",
   "execution_count": 128,
   "id": "06145b2a-cecd-4c98-b339-39534253a4c8",
   "metadata": {},
   "outputs": [
    {
     "data": {
      "text/plain": [
       "LogisticRegression(random_state=0)"
      ]
     },
     "execution_count": 128,
     "metadata": {},
     "output_type": "execute_result"
    }
   ],
   "source": [
    "lr_model = LogisticRegression(random_state=0)\n",
    "lr_model.fit(X_train, y_train)"
   ]
  },
  {
   "cell_type": "code",
   "execution_count": 129,
   "id": "b2ae5e97-fc5f-459b-bf38-6d902edea7b2",
   "metadata": {},
   "outputs": [],
   "source": [
    "lr_preds = lr_model.predict(X_test)"
   ]
  },
  {
   "cell_type": "code",
   "execution_count": 130,
   "id": "ed24d2aa-a0b4-4ba2-8c97-4a3e8356968b",
   "metadata": {},
   "outputs": [
    {
     "name": "stdout",
     "output_type": "stream",
     "text": [
      "Acurácia: 0.6313740216617915\n"
     ]
    }
   ],
   "source": [
    "print(\"Acurácia:\", accuracy_score(y_test, lr_preds))"
   ]
  },
  {
   "cell_type": "markdown",
   "id": "c3dcde6b-99fd-4af1-a041-adae0701a610",
   "metadata": {
    "tags": []
   },
   "source": [
    "### Redes Neurais"
   ]
  },
  {
   "cell_type": "code",
   "execution_count": 13,
   "id": "68f91128-829f-49f8-a737-e6e89661ad7b",
   "metadata": {},
   "outputs": [],
   "source": [
    "from sklearn.neural_network import MLPClassifier"
   ]
  },
  {
   "cell_type": "code",
   "execution_count": 20,
   "id": "1fbdd608-3878-48a2-92df-1636b538f968",
   "metadata": {},
   "outputs": [
    {
     "data": {
      "text/plain": [
       "MLPClassifier(random_state=0)"
      ]
     },
     "execution_count": 20,
     "metadata": {},
     "output_type": "execute_result"
    }
   ],
   "source": [
    "rn_model = MLPClassifier(random_state=0)\n",
    "rn_model.fit(X_train, y_train.values)"
   ]
  },
  {
   "cell_type": "code",
   "execution_count": 21,
   "id": "e43ac6db-cf75-41be-81ab-c9d871954656",
   "metadata": {},
   "outputs": [],
   "source": [
    "rn_preds = rn_model.predict(X_test)"
   ]
  },
  {
   "cell_type": "code",
   "execution_count": 22,
   "id": "3e0273bc-6e51-45a9-884e-af48d3bc225d",
   "metadata": {
    "scrolled": true
   },
   "outputs": [
    {
     "name": "stdout",
     "output_type": "stream",
     "text": [
      "Acurácia: 69.89376595569465\n"
     ]
    }
   ],
   "source": [
    "print(\"Acurácia:\", accuracy_score(y_test, rn_preds)*100)"
   ]
  },
  {
   "cell_type": "code",
   "execution_count": 23,
   "id": "06bab358-9542-4b97-8ac8-a106ce481641",
   "metadata": {},
   "outputs": [
    {
     "data": {
      "image/png": "[encoded data removed]",
      "text/plain": [
       "<Figure size 432x288 with 1 Axes>"
      ]
     },
     "metadata": {
      "needs_background": "light"
     },
     "output_type": "display_data"
    }
   ],
   "source": [
    "imprimeMatrizDeConfusão(y_test, rn_preds, rn_model)"
   ]
  },
  {
   "cell_type": "markdown",
   "id": "3b33d3e5-f47b-48a6-b57a-36aaae347cd5",
   "metadata": {
    "tags": []
   },
   "source": [
    "#### RN: Busca de melhores hiper parâmetros "
   ]
  },
  {
   "cell_type": "code",
   "execution_count": 14,
   "id": "f587671b-3fc0-40ab-9c26-afb9285fe111",
   "metadata": {},
   "outputs": [],
   "source": [
    "rn_model = MLPClassifier(hidden_layer_sizes=(20,30,30,20), activation=\"tanh\", verbose=1, learning_rate=\"adaptive\", random_state=0)"
   ]
  },
  {
   "cell_type": "code",
   "execution_count": 15,
   "id": "87539e51-1575-4882-9eaa-9ba3e1af4a5e",
   "metadata": {},
   "outputs": [
    {
     "name": "stdout",
     "output_type": "stream",
     "text": [
      "Iteration 1, loss = 0.82915073\n",
      "Iteration 2, loss = 0.76822015\n",
      "Iteration 3, loss = 0.75116423\n",
      "Iteration 4, loss = 0.74117148\n",
      "Iteration 5, loss = 0.73427377\n",
      "Iteration 6, loss = 0.72952841\n",
      "Iteration 7, loss = 0.72554214\n",
      "Iteration 8, loss = 0.72235223\n",
      "Iteration 9, loss = 0.71981451\n",
      "Iteration 10, loss = 0.71756330\n",
      "Iteration 11, loss = 0.71549285\n",
      "Iteration 12, loss = 0.71370732\n",
      "Iteration 13, loss = 0.71182626\n",
      "Iteration 14, loss = 0.71046441\n",
      "Iteration 15, loss = 0.70919036\n",
      "Iteration 16, loss = 0.70809819\n",
      "Iteration 17, loss = 0.70720744\n",
      "Iteration 18, loss = 0.70612705\n",
      "Iteration 19, loss = 0.70542479\n",
      "Iteration 20, loss = 0.70443826\n",
      "Iteration 21, loss = 0.70382732\n",
      "Iteration 22, loss = 0.70315808\n",
      "Iteration 23, loss = 0.70244693\n",
      "Iteration 24, loss = 0.70190086\n",
      "Iteration 25, loss = 0.70131328\n",
      "Iteration 26, loss = 0.70080954\n",
      "Iteration 27, loss = 0.70048176\n",
      "Iteration 28, loss = 0.69977638\n",
      "Iteration 29, loss = 0.69948419\n",
      "Iteration 30, loss = 0.69874308\n",
      "Iteration 31, loss = 0.69831578\n",
      "Iteration 32, loss = 0.69788191\n",
      "Iteration 33, loss = 0.69753927\n",
      "Iteration 34, loss = 0.69701970\n",
      "Iteration 35, loss = 0.69677446\n",
      "Iteration 36, loss = 0.69638530\n",
      "Iteration 37, loss = 0.69614889\n",
      "Iteration 38, loss = 0.69571641\n",
      "Iteration 39, loss = 0.69547456\n",
      "Iteration 40, loss = 0.69523113\n",
      "Iteration 41, loss = 0.69504363\n",
      "Iteration 42, loss = 0.69460354\n",
      "Iteration 43, loss = 0.69438456\n",
      "Iteration 44, loss = 0.69425328\n",
      "Iteration 45, loss = 0.69390118\n",
      "Iteration 46, loss = 0.69372096\n",
      "Iteration 47, loss = 0.69337829\n",
      "Iteration 48, loss = 0.69346289\n",
      "Iteration 49, loss = 0.69311122\n",
      "Iteration 50, loss = 0.69285916\n",
      "Iteration 51, loss = 0.69285274\n",
      "Iteration 52, loss = 0.69258954\n",
      "Iteration 53, loss = 0.69239341\n",
      "Iteration 54, loss = 0.69213171\n",
      "Iteration 55, loss = 0.69205633\n",
      "Iteration 56, loss = 0.69183216\n",
      "Iteration 57, loss = 0.69164203\n",
      "Iteration 58, loss = 0.69154409\n",
      "Iteration 59, loss = 0.69135363\n",
      "Iteration 60, loss = 0.69115258\n",
      "Iteration 61, loss = 0.69103898\n",
      "Iteration 62, loss = 0.69094548\n",
      "Iteration 63, loss = 0.69098171\n",
      "Iteration 64, loss = 0.69075307\n",
      "Iteration 65, loss = 0.69046610\n",
      "Iteration 66, loss = 0.69042120\n",
      "Iteration 67, loss = 0.69019802\n",
      "Iteration 68, loss = 0.69003343\n",
      "Iteration 69, loss = 0.69004630\n",
      "Iteration 70, loss = 0.68996445\n",
      "Iteration 71, loss = 0.68984446\n",
      "Iteration 72, loss = 0.68963117\n",
      "Iteration 73, loss = 0.68960197\n",
      "Iteration 74, loss = 0.68947291\n",
      "Iteration 75, loss = 0.68951037\n",
      "Iteration 76, loss = 0.68937646\n",
      "Iteration 77, loss = 0.68920092\n",
      "Iteration 78, loss = 0.68915622\n",
      "Iteration 79, loss = 0.68898137\n",
      "Iteration 80, loss = 0.68885774\n",
      "Iteration 81, loss = 0.68892034\n",
      "Iteration 82, loss = 0.68871943\n",
      "Iteration 83, loss = 0.68860700\n",
      "Iteration 84, loss = 0.68862049\n",
      "Iteration 85, loss = 0.68852456\n",
      "Iteration 86, loss = 0.68829858\n",
      "Iteration 87, loss = 0.68835786\n",
      "Iteration 88, loss = 0.68823404\n",
      "Iteration 89, loss = 0.68817565\n",
      "Iteration 90, loss = 0.68805518\n",
      "Iteration 91, loss = 0.68797947\n",
      "Iteration 92, loss = 0.68808456\n",
      "Iteration 93, loss = 0.68794919\n",
      "Iteration 94, loss = 0.68767071\n",
      "Iteration 95, loss = 0.68774640\n",
      "Iteration 96, loss = 0.68772780\n",
      "Iteration 97, loss = 0.68762864\n",
      "Iteration 98, loss = 0.68767213\n",
      "Iteration 99, loss = 0.68752337\n",
      "Iteration 100, loss = 0.68740770\n",
      "Iteration 101, loss = 0.68745266\n",
      "Iteration 102, loss = 0.68727764\n",
      "Iteration 103, loss = 0.68717660\n",
      "Iteration 104, loss = 0.68730965\n",
      "Iteration 105, loss = 0.68723453\n",
      "Iteration 106, loss = 0.68706350\n",
      "Iteration 107, loss = 0.68712738\n",
      "Iteration 108, loss = 0.68703483\n",
      "Iteration 109, loss = 0.68697338\n",
      "Iteration 110, loss = 0.68693334\n",
      "Iteration 111, loss = 0.68679018\n",
      "Iteration 112, loss = 0.68693423\n",
      "Iteration 113, loss = 0.68665498\n",
      "Iteration 114, loss = 0.68667734\n",
      "Iteration 115, loss = 0.68658345\n",
      "Iteration 116, loss = 0.68664960\n",
      "Iteration 117, loss = 0.68657295\n",
      "Iteration 118, loss = 0.68658274\n",
      "Iteration 119, loss = 0.68649337\n",
      "Iteration 120, loss = 0.68639310\n",
      "Iteration 121, loss = 0.68646881\n",
      "Iteration 122, loss = 0.68633364\n",
      "Iteration 123, loss = 0.68624225\n",
      "Iteration 124, loss = 0.68634713\n",
      "Iteration 125, loss = 0.68636229\n",
      "Iteration 126, loss = 0.68623530\n",
      "Iteration 127, loss = 0.68622696\n",
      "Iteration 128, loss = 0.68612558\n",
      "Iteration 129, loss = 0.68611051\n",
      "Iteration 130, loss = 0.68596628\n",
      "Iteration 131, loss = 0.68609235\n",
      "Iteration 132, loss = 0.68590331\n",
      "Iteration 133, loss = 0.68593186\n",
      "Iteration 134, loss = 0.68591699\n",
      "Iteration 135, loss = 0.68588459\n",
      "Iteration 136, loss = 0.68584223\n",
      "Iteration 137, loss = 0.68580245\n",
      "Iteration 138, loss = 0.68584225\n",
      "Iteration 139, loss = 0.68583029\n",
      "Iteration 140, loss = 0.68571441\n",
      "Iteration 141, loss = 0.68574151\n",
      "Training loss did not improve more than tol=0.000100 for 10 consecutive epochs. Stopping.\n",
      "CPU times: user 25min 38s, sys: 19.6 s, total: 25min 58s\n",
      "Wall time: 6min 32s\n"
     ]
    },
    {
     "data": {
      "text/plain": [
       "MLPClassifier(activation='tanh', hidden_layer_sizes=(20, 30, 30, 20),\n",
       "              learning_rate='adaptive', random_state=0, verbose=1)"
      ]
     },
     "execution_count": 15,
     "metadata": {},
     "output_type": "execute_result"
    }
   ],
   "source": [
    "%%time\n",
    "rn_model.fit(X_train, y_train.values)"
   ]
  },
  {
   "cell_type": "code",
   "execution_count": 16,
   "id": "5b02a6ac-a5c4-4c73-a1ce-016ea28f7a39",
   "metadata": {},
   "outputs": [],
   "source": [
    "rn_preds = rn_model.predict(X_test)"
   ]
  },
  {
   "cell_type": "code",
   "execution_count": 17,
   "id": "ad4517f4-abb0-40fe-a508-9b336d38684b",
   "metadata": {},
   "outputs": [
    {
     "name": "stdout",
     "output_type": "stream",
     "text": [
      "Acurácia: 71.52845260643993\n"
     ]
    }
   ],
   "source": [
    "print(\"Acurácia:\", accuracy_score(y_test, rn_preds)*100)"
   ]
  },
  {
   "cell_type": "code",
   "execution_count": 18,
   "id": "9574c6f5",
   "metadata": {},
   "outputs": [
    {
     "name": "stdout",
     "output_type": "stream",
     "text": [
      "              precision    recall  f1-score   support\n",
      "\n",
      "        Ocio      0.588     0.351     0.439     24652\n",
      "  Pastejando      0.756     0.890     0.818     66502\n",
      "   Ruminando      0.668     0.629     0.648     30276\n",
      "\n",
      "    accuracy                          0.715    121430\n",
      "   macro avg      0.671     0.623     0.635    121430\n",
      "weighted avg      0.700     0.715     0.699    121430\n",
      "\n"
     ]
    }
   ],
   "source": [
    "print(classification_report(y_test, rn_preds, digits=3))"
   ]
  },
  {
   "cell_type": "code",
   "execution_count": 59,
   "id": "b62790b9-b896-45d4-a40c-65871e5177ea",
   "metadata": {},
   "outputs": [
    {
     "data": {
      "image/png": "[encoded data removed]",
      "text/plain": [
       "<Figure size 432x288 with 1 Axes>"
      ]
     },
     "metadata": {
      "needs_background": "light"
     },
     "output_type": "display_data"
    }
   ],
   "source": [
    "imprimeMatrizDeConfusão(y_test, rn_preds, rn_model)"
   ]
  },
  {
   "cell_type": "markdown",
   "id": "b08fd1f8-3b0f-495c-aa44-1df95bc9e8c5",
   "metadata": {},
   "source": [
    "### KNN"
   ]
  },
  {
   "cell_type": "code",
   "execution_count": 19,
   "id": "e14468d6-31e1-44b7-8ff2-4ab9f8331c2e",
   "metadata": {},
   "outputs": [],
   "source": [
    "from sklearn.neighbors import KNeighborsClassifier"
   ]
  },
  {
   "cell_type": "code",
   "execution_count": 28,
   "id": "8bf71067-841e-4216-9c3c-139198f27370",
   "metadata": {},
   "outputs": [
    {
     "data": {
      "text/plain": [
       "KNeighborsClassifier(n_jobs=-1, n_neighbors=10, weights='distance')"
      ]
     },
     "execution_count": 28,
     "metadata": {},
     "output_type": "execute_result"
    }
   ],
   "source": [
    "knn_model = KNeighborsClassifier(n_neighbors=10,  weights='distance', n_jobs=-1)\n",
    "knn_model.fit(X_train, y_train)"
   ]
  },
  {
   "cell_type": "code",
   "execution_count": 29,
   "id": "fba60fbc-c9b6-4fda-af91-d5da3bdf7141",
   "metadata": {},
   "outputs": [
    {
     "name": "stdout",
     "output_type": "stream",
     "text": [
      "Acurácia: 0.7379230832578441\n"
     ]
    }
   ],
   "source": [
    "knn_preds = knn_model.predict(X_test)\n",
    "\n",
    "print(\"Acurácia:\", accuracy_score(y_test, knn_preds))"
   ]
  },
  {
   "cell_type": "code",
   "execution_count": 30,
   "id": "045659c6-0b12-4a6d-bbce-c7ee1eb936eb",
   "metadata": {},
   "outputs": [
    {
     "data": {
      "image/png": "[encoded data removed]",
      "text/plain": [
       "<Figure size 432x288 with 1 Axes>"
      ]
     },
     "metadata": {
      "needs_background": "light"
     },
     "output_type": "display_data"
    }
   ],
   "source": [
    "imprimeMatrizDeConfusão(y_test, knn_preds, knn_model)"
   ]
  },
  {
   "cell_type": "markdown",
   "id": "b2b5e906-6fcd-4a38-8abf-2fa176657d2d",
   "metadata": {
    "tags": []
   },
   "source": [
    "#### KNN: Busca de melhores hiper parâmetros"
   ]
  },
  {
   "cell_type": "code",
   "execution_count": 56,
   "id": "d0b65a2c-13d3-4512-a42a-1d61237a5d46",
   "metadata": {},
   "outputs": [],
   "source": [
    "def tune_knn(params):\n",
    "    n_neighbors = params[0]\n",
    "    weights = params[1]\n",
    "    leaf_size = params[2]\n",
    "    p = params[3]\n",
    "    \n",
    "    print(params, '\\n')\n",
    "    \n",
    "    knn_Model = KNeighborsClassifier(n_neighbors=n_neighbors, weights=weights, leaf_size=leaf_size, p=p, n_jobs=-1)\n",
    "    \n",
    "    knn_Model.fit(X_train, y_train)\n",
    "    \n",
    "    preds = knn_Model.predict(X_test)\n",
    "    \n",
    "    return -accuracy_score(y_test, preds)\n",
    "\n",
    "space = [(5, 50), #n_neighbors\n",
    "         ['uniform', 'distance'], # weights\n",
    "         [20,30,40,50,100], # leaf_size\n",
    "         [1,2]] # p"
   ]
  },
  {
   "cell_type": "code",
   "execution_count": null,
   "id": "8a693d2e-e8da-4ee8-bffb-5bc8b22559bc",
   "metadata": {},
   "outputs": [],
   "source": [
    "%%time\n",
    "resultados_knn = gp_minimize(tune_knn, space, random_state=0, verbose=1, n_calls=30, n_random_starts=10, n_jobs=-1)"
   ]
  },
  {
   "cell_type": "code",
   "execution_count": 58,
   "id": "a4ac018c-118d-4b35-888d-6ad7ee1c4a50",
   "metadata": {},
   "outputs": [
    {
     "data": {
      "text/plain": [
       "[50, 'distance', 20, 2]"
      ]
     },
     "execution_count": 58,
     "metadata": {},
     "output_type": "execute_result"
    }
   ],
   "source": [
    "resultados_knn.x"
   ]
  },
  {
   "cell_type": "code",
   "execution_count": 59,
   "id": "5cdaa0e5-7183-40cd-a695-778813533f15",
   "metadata": {},
   "outputs": [],
   "source": [
    "# Melhores hiper parâmetros para o conjunto PRO: n_neighbors=37, weights='distance', leaf_size=20, p=1, n_jobs=-1"
   ]
  },
  {
   "cell_type": "code",
   "execution_count": 52,
   "id": "6291d256-5c0b-4b68-a7fa-5fefc23af51c",
   "metadata": {},
   "outputs": [
    {
     "data": {
      "text/plain": [
       "<AxesSubplot:title={'center':'Convergence plot'}, xlabel='Number of calls $n$', ylabel='$\\\\min f(x)$ after $n$ calls'>"
      ]
     },
     "execution_count": 52,
     "metadata": {},
     "output_type": "execute_result"
    },
    {
     "data": {
      "image/png": "[encoded data removed]",
      "text/plain": [
       "<Figure size 432x288 with 1 Axes>"
      ]
     },
     "metadata": {
      "needs_background": "light"
     },
     "output_type": "display_data"
    }
   ],
   "source": [
    "from skopt.plots import plot_convergence\n",
    "plot_convergence(resultados_knn)"
   ]
  },
  {
   "cell_type": "code",
   "execution_count": 97,
   "id": "b0dcac93-461c-4464-97fb-4ee95c1c4e2e",
   "metadata": {},
   "outputs": [],
   "source": [
    "# Melhores hiper parâmetros para o conjunto PNP: n_neighbors=46, weights='distance', leaf_size=20, p=2, n_jobs=-1"
   ]
  },
  {
   "cell_type": "code",
   "execution_count": 60,
   "id": "a7d8bc5c-4247-4445-b466-8587378cc80b",
   "metadata": {},
   "outputs": [
    {
     "data": {
      "text/plain": [
       "<AxesSubplot:title={'center':'Convergence plot'}, xlabel='Number of calls $n$', ylabel='$\\\\min f(x)$ after $n$ calls'>"
      ]
     },
     "execution_count": 60,
     "metadata": {},
     "output_type": "execute_result"
    },
    {
     "data": {
      "image/png": "[encoded data removed]",
      "text/plain": [
       "<Figure size 432x288 with 1 Axes>"
      ]
     },
     "metadata": {
      "needs_background": "light"
     },
     "output_type": "display_data"
    }
   ],
   "source": [
    "from skopt.plots import plot_convergence\n",
    "plot_convergence(resultados_knn)"
   ]
  },
  {
   "cell_type": "markdown",
   "id": "6d0ff8bb-74c2-45ee-a248-e4d8543aa356",
   "metadata": {
    "tags": []
   },
   "source": [
    "#### KNN: Treinamento com os melhores hiper parâmetros"
   ]
  },
  {
   "cell_type": "code",
   "execution_count": 20,
   "id": "7339b2e7-0156-4bbf-a797-b1f76e5d3512",
   "metadata": {
    "tags": []
   },
   "outputs": [
    {
     "name": "stdout",
     "output_type": "stream",
     "text": [
      "CPU times: user 1min, sys: 211 ms, total: 1min 1s\n",
      "Wall time: 9.7 s\n"
     ]
    }
   ],
   "source": [
    "%%time\n",
    "knn_model = KNeighborsClassifier(n_neighbors=37, weights='distance', leaf_size=20, p=1, n_jobs=-1)\n",
    "\n",
    "knn_model.fit(X_train, y_train)\n",
    "preds = knn_model.predict(X_test)"
   ]
  },
  {
   "cell_type": "code",
   "execution_count": 21,
   "id": "62335e3d-ad56-440c-96e0-90d67f0a5a98",
   "metadata": {},
   "outputs": [
    {
     "data": {
      "text/plain": [
       "74.64053364078069"
      ]
     },
     "execution_count": 21,
     "metadata": {},
     "output_type": "execute_result"
    }
   ],
   "source": [
    "accuracy_score(y_test, preds)*100"
   ]
  },
  {
   "cell_type": "code",
   "execution_count": 22,
   "id": "7040fb49-90cc-417e-89d6-95c7556eac44",
   "metadata": {},
   "outputs": [
    {
     "name": "stdout",
     "output_type": "stream",
     "text": [
      "              precision    recall  f1-score   support\n",
      "\n",
      "        Ocio      0.643     0.465     0.540     24652\n",
      "  Pastejando      0.789     0.879     0.832     66502\n",
      "   Ruminando      0.701     0.683     0.692     30276\n",
      "\n",
      "    accuracy                          0.746    121430\n",
      "   macro avg      0.711     0.676     0.688    121430\n",
      "weighted avg      0.738     0.746     0.738    121430\n",
      "\n"
     ]
    }
   ],
   "source": [
    "print(classification_report(y_test, preds, digits=3))"
   ]
  },
  {
   "cell_type": "code",
   "execution_count": 23,
   "id": "676eee97-08fa-423d-a074-915eb4bc181e",
   "metadata": {},
   "outputs": [
    {
     "data": {
      "image/png": "[encoded data removed]",
      "text/plain": [
       "<Figure size 432x288 with 1 Axes>"
      ]
     },
     "metadata": {
      "needs_background": "light"
     },
     "output_type": "display_data"
    }
   ],
   "source": [
    "imprimeMatrizDeConfusão(y_test, preds, knn_model)"
   ]
  },
  {
   "cell_type": "markdown",
   "id": "778c58aa-19c6-446c-8e80-5902a0c6d3cc",
   "metadata": {},
   "source": [
    "### Validação Exeterna com os dados do Leonardo"
   ]
  },
  {
   "cell_type": "markdown",
   "id": "3a766117-a27c-4f60-b13a-8161f6b6a784",
   "metadata": {
    "tags": []
   },
   "source": [
    "Leitura dos bancos de dados em DataFrame Pandas. "
   ]
  },
  {
   "cell_type": "code",
   "execution_count": 91,
   "id": "7703ceb8-92c4-468f-b0c8-71ee4a161288",
   "metadata": {},
   "outputs": [],
   "source": [
    "caminho_dados_leo = 'Datasets/Leonardo/dados_pre_processados_leonardo.csv'"
   ]
  },
  {
   "cell_type": "code",
   "execution_count": 92,
   "id": "b8f0d915-fd5c-42ff-a644-a908cad998a4",
   "metadata": {},
   "outputs": [],
   "source": [
    "df_leo = pd.read_csv(caminho_dados_leo)"
   ]
  },
  {
   "cell_type": "code",
   "execution_count": 93,
   "id": "a71957ac-0f5e-4244-855a-338580dbe866",
   "metadata": {},
   "outputs": [
    {
     "data": {
      "text/html": [
       "<div>\n",
       "<style scoped>\n",
       "    .dataframe tbody tr th:only-of-type {\n",
       "        vertical-align: middle;\n",
       "    }\n",
       "\n",
       "    .dataframe tbody tr th {\n",
       "        vertical-align: top;\n",
       "    }\n",
       "\n",
       "    .dataframe thead th {\n",
       "        text-align: right;\n",
       "    }\n",
       "</style>\n",
       "<table border=\"1\" class=\"dataframe\">\n",
       "  <thead>\n",
       "    <tr style=\"text-align: right;\">\n",
       "      <th></th>\n",
       "      <th>SensorID</th>\n",
       "      <th>Date</th>\n",
       "      <th>Value</th>\n",
       "      <th>Voltage</th>\n",
       "      <th>X</th>\n",
       "      <th>Y</th>\n",
       "      <th>Z</th>\n",
       "      <th>Comportamento</th>\n",
       "      <th>Season_fall</th>\n",
       "      <th>Season_spring</th>\n",
       "      <th>Season_summer</th>\n",
       "      <th>magn</th>\n",
       "      <th>sma</th>\n",
       "      <th>ent</th>\n",
       "      <th>erg</th>\n",
       "      <th>pit</th>\n",
       "      <th>rol</th>\n",
       "      <th>icl</th>\n",
       "    </tr>\n",
       "  </thead>\n",
       "  <tbody>\n",
       "    <tr>\n",
       "      <th>0</th>\n",
       "      <td>175810</td>\n",
       "      <td>2019-01-21 08:15:03</td>\n",
       "      <td>1.115</td>\n",
       "      <td>3.04</td>\n",
       "      <td>-0.171</td>\n",
       "      <td>1.115</td>\n",
       "      <td>0.242</td>\n",
       "      <td>Pastejando</td>\n",
       "      <td>0</td>\n",
       "      <td>0</td>\n",
       "      <td>1</td>\n",
       "      <td>1.153703</td>\n",
       "      <td>1.528</td>\n",
       "      <td>7.474426</td>\n",
       "      <td>1.771641</td>\n",
       "      <td>-12.108253</td>\n",
       "      <td>-8.719130</td>\n",
       "      <td>-81.476304</td>\n",
       "    </tr>\n",
       "    <tr>\n",
       "      <th>1</th>\n",
       "      <td>175810</td>\n",
       "      <td>2019-01-21 08:16:04</td>\n",
       "      <td>0.583</td>\n",
       "      <td>3.02</td>\n",
       "      <td>-0.702</td>\n",
       "      <td>0.071</td>\n",
       "      <td>0.583</td>\n",
       "      <td>Pastejando</td>\n",
       "      <td>0</td>\n",
       "      <td>0</td>\n",
       "      <td>1</td>\n",
       "      <td>0.915278</td>\n",
       "      <td>1.356</td>\n",
       "      <td>-0.089163</td>\n",
       "      <td>0.701798</td>\n",
       "      <td>-39.565868</td>\n",
       "      <td>-84.224766</td>\n",
       "      <td>-39.916535</td>\n",
       "    </tr>\n",
       "    <tr>\n",
       "      <th>2</th>\n",
       "      <td>175810</td>\n",
       "      <td>2019-01-21 08:16:05</td>\n",
       "      <td>0.683</td>\n",
       "      <td>3.01</td>\n",
       "      <td>-0.594</td>\n",
       "      <td>-0.026</td>\n",
       "      <td>0.683</td>\n",
       "      <td>Pastejando</td>\n",
       "      <td>0</td>\n",
       "      <td>0</td>\n",
       "      <td>1</td>\n",
       "      <td>0.905539</td>\n",
       "      <td>1.303</td>\n",
       "      <td>0.138071</td>\n",
       "      <td>0.672402</td>\n",
       "      <td>-48.959606</td>\n",
       "      <td>-92.506296</td>\n",
       "      <td>-49.007300</td>\n",
       "    </tr>\n",
       "    <tr>\n",
       "      <th>3</th>\n",
       "      <td>175810</td>\n",
       "      <td>2019-01-21 08:16:06</td>\n",
       "      <td>0.631</td>\n",
       "      <td>3.01</td>\n",
       "      <td>-0.706</td>\n",
       "      <td>0.059</td>\n",
       "      <td>0.631</td>\n",
       "      <td>Pastejando</td>\n",
       "      <td>0</td>\n",
       "      <td>0</td>\n",
       "      <td>1</td>\n",
       "      <td>0.948724</td>\n",
       "      <td>1.396</td>\n",
       "      <td>-0.031235</td>\n",
       "      <td>0.810140</td>\n",
       "      <td>-41.690272</td>\n",
       "      <td>-85.222926</td>\n",
       "      <td>-41.913249</td>\n",
       "    </tr>\n",
       "    <tr>\n",
       "      <th>4</th>\n",
       "      <td>175810</td>\n",
       "      <td>2019-01-21 08:16:07</td>\n",
       "      <td>0.604</td>\n",
       "      <td>3.01</td>\n",
       "      <td>-0.805</td>\n",
       "      <td>0.081</td>\n",
       "      <td>0.604</td>\n",
       "      <td>Pastejando</td>\n",
       "      <td>0</td>\n",
       "      <td>0</td>\n",
       "      <td>1</td>\n",
       "      <td>1.009654</td>\n",
       "      <td>1.490</td>\n",
       "      <td>-0.197988</td>\n",
       "      <td>1.039180</td>\n",
       "      <td>-36.742843</td>\n",
       "      <td>-84.254174</td>\n",
       "      <td>-37.126721</td>\n",
       "    </tr>\n",
       "  </tbody>\n",
       "</table>\n",
       "</div>"
      ],
      "text/plain": [
       "   SensorID                 Date  Value  Voltage      X      Y      Z  \\\n",
       "0    175810  2019-01-21 08:15:03  1.115     3.04 -0.171  1.115  0.242   \n",
       "1    175810  2019-01-21 08:16:04  0.583     3.02 -0.702  0.071  0.583   \n",
       "2    175810  2019-01-21 08:16:05  0.683     3.01 -0.594 -0.026  0.683   \n",
       "3    175810  2019-01-21 08:16:06  0.631     3.01 -0.706  0.059  0.631   \n",
       "4    175810  2019-01-21 08:16:07  0.604     3.01 -0.805  0.081  0.604   \n",
       "\n",
       "  Comportamento  Season_fall  Season_spring  Season_summer      magn    sma  \\\n",
       "0    Pastejando            0              0              1  1.153703  1.528   \n",
       "1    Pastejando            0              0              1  0.915278  1.356   \n",
       "2    Pastejando            0              0              1  0.905539  1.303   \n",
       "3    Pastejando            0              0              1  0.948724  1.396   \n",
       "4    Pastejando            0              0              1  1.009654  1.490   \n",
       "\n",
       "        ent       erg        pit        rol        icl  \n",
       "0  7.474426  1.771641 -12.108253  -8.719130 -81.476304  \n",
       "1 -0.089163  0.701798 -39.565868 -84.224766 -39.916535  \n",
       "2  0.138071  0.672402 -48.959606 -92.506296 -49.007300  \n",
       "3 -0.031235  0.810140 -41.690272 -85.222926 -41.913249  \n",
       "4 -0.197988  1.039180 -36.742843 -84.254174 -37.126721  "
      ]
     },
     "execution_count": 93,
     "metadata": {},
     "output_type": "execute_result"
    }
   ],
   "source": [
    "df_leo.head()"
   ]
  },
  {
   "cell_type": "code",
   "execution_count": 94,
   "id": "9ad995db-8037-459c-b204-163d5ad1b9f0",
   "metadata": {},
   "outputs": [],
   "source": [
    "# Seleciona os abributos correspondentes da lista features_aplicaveis\n",
    "df_leo = df_leo[features_aplicaveis]"
   ]
  },
  {
   "cell_type": "code",
   "execution_count": 95,
   "id": "6baa38ee-913e-47d8-bc47-3619e756d9e4",
   "metadata": {},
   "outputs": [],
   "source": [
    "df_leo = df_leo.rename({'X': 'a', 'Y': 'b', 'Z': 'c'}, axis=1)  "
   ]
  },
  {
   "cell_type": "code",
   "execution_count": 96,
   "id": "2c8711b9-48a2-403c-a4ac-84d98e6c9c7a",
   "metadata": {},
   "outputs": [],
   "source": [
    "df_leo = df_leo.rename({'a': 'Y', 'b': 'Z', 'c': 'X'}, axis=1)  "
   ]
  },
  {
   "cell_type": "code",
   "execution_count": 97,
   "id": "79bd7041-3c8a-49ca-9ee8-6261e1a41406",
   "metadata": {},
   "outputs": [],
   "source": [
    "df_leo = df_leo[features_aplicaveis]"
   ]
  },
  {
   "cell_type": "markdown",
   "id": "4df176fc-6c3e-43b9-92eb-0b30380f4e3c",
   "metadata": {
    "tags": []
   },
   "source": [
    "#### Divisão entre variáveis preditoras(X) e variáveis de resposta(y)"
   ]
  },
  {
   "cell_type": "code",
   "execution_count": 98,
   "id": "30e43960-aa26-449a-88d1-9acc292b5820",
   "metadata": {
    "tags": []
   },
   "outputs": [],
   "source": [
    "# Conjunto de dados PRO: Pastejando x Ruminando x Ócio\n",
    "y = df_leo.Comportamento\n",
    "X = df_leo.drop('Comportamento', axis=1)"
   ]
  },
  {
   "cell_type": "code",
   "execution_count": 99,
   "id": "5c2b2f70-1d7a-4442-8c7d-4948bac921b2",
   "metadata": {},
   "outputs": [],
   "source": [
    "# Conjunto de dados PNP: Pastejando x Não Pastejando\n",
    "y_pnp = y\n",
    "y_pnp = y_pnp.replace(to_replace=['Ocio', 'Ruminando'], value='Não Pastejando')\n",
    "y = y_pnp"
   ]
  },
  {
   "cell_type": "code",
   "execution_count": 100,
   "id": "c2274895-cff7-4903-a29a-52dca2528d7d",
   "metadata": {},
   "outputs": [],
   "source": [
    "# Para reescalar os dados\n",
    "X_season = X[['Season_fall', 'Season_spring', 'Season_summer']]\n",
    "\n",
    "X.drop(['Season_fall', 'Season_spring', 'Season_summer'], axis=1, inplace=True)\n",
    "\n",
    "columns = X.columns\n",
    "index = X.index\n",
    "\n",
    "X = sc.transform(X)\n",
    "\n",
    "X = pd.DataFrame(X, columns=columns, index=index)\n",
    "\n",
    "X = pd.concat([X, X_season], axis=1)"
   ]
  },
  {
   "cell_type": "markdown",
   "id": "362f9d60-10e0-423f-8031-b9da79c4ac21",
   "metadata": {
    "tags": []
   },
   "source": [
    "#### Com LGBMClassifier"
   ]
  },
  {
   "cell_type": "code",
   "execution_count": 232,
   "id": "4d3f8bf1-25c2-40d1-b0b0-54db71640825",
   "metadata": {},
   "outputs": [
    {
     "name": "stdout",
     "output_type": "stream",
     "text": [
      "CPU times: user 3.41 s, sys: 75.8 ms, total: 3.49 s\n",
      "Wall time: 587 ms\n"
     ]
    },
    {
     "data": {
      "text/plain": [
       "56.711199361146484"
      ]
     },
     "execution_count": 232,
     "metadata": {},
     "output_type": "execute_result"
    }
   ],
   "source": [
    "%%time\n",
    "lgb_preds = lgb_model.predict(X)\n",
    "\n",
    "accuracy_score(y, lgb_preds)*100"
   ]
  },
  {
   "cell_type": "code",
   "execution_count": 233,
   "id": "a5bceb72-d123-43a3-b9c9-b6b5729ae40c",
   "metadata": {},
   "outputs": [
    {
     "name": "stdout",
     "output_type": "stream",
     "text": [
      "                precision    recall  f1-score   support\n",
      "\n",
      "Não Pastejando      0.662     0.543     0.597     81973\n",
      "    Pastejando      0.478     0.602     0.533     57026\n",
      "\n",
      "      accuracy                          0.567    138999\n",
      "     macro avg      0.570     0.572     0.565    138999\n",
      "  weighted avg      0.587     0.567     0.570    138999\n",
      "\n"
     ]
    }
   ],
   "source": [
    "print(classification_report(y, lgb_preds, digits=3))"
   ]
  },
  {
   "cell_type": "code",
   "execution_count": 234,
   "id": "ea3e983d-3c63-44c5-a5fd-ad8195e910b0",
   "metadata": {},
   "outputs": [
    {
     "data": {
      "image/png": "[encoded data removed]",
      "text/plain": [
       "<Figure size 432x288 with 1 Axes>"
      ]
     },
     "metadata": {
      "needs_background": "light"
     },
     "output_type": "display_data"
    }
   ],
   "source": [
    "imprimeMatrizDeConfusão(y, lgb_preds, lgb_model)"
   ]
  },
  {
   "cell_type": "markdown",
   "id": "1157f368-3c33-4a1d-8c07-b45a60ec76e7",
   "metadata": {
    "tags": []
   },
   "source": [
    "#### Com RF"
   ]
  },
  {
   "cell_type": "code",
   "execution_count": 284,
   "id": "c430c5a8-d551-4c10-8c35-010eb4870237",
   "metadata": {
    "tags": []
   },
   "outputs": [
    {
     "name": "stdout",
     "output_type": "stream",
     "text": [
      "CPU times: user 3.84 s, sys: 16.2 ms, total: 3.85 s\n",
      "Wall time: 531 ms\n"
     ]
    }
   ],
   "source": [
    "%%time\n",
    "preds = rf_model.predict(X)"
   ]
  },
  {
   "cell_type": "code",
   "execution_count": 285,
   "id": "23ff73a0-284e-4de3-830d-3d47ebdef509",
   "metadata": {},
   "outputs": [
    {
     "data": {
      "text/plain": [
       "56.797530917488615"
      ]
     },
     "execution_count": 285,
     "metadata": {},
     "output_type": "execute_result"
    }
   ],
   "source": [
    "accuracy_score(y, preds)*100"
   ]
  },
  {
   "cell_type": "code",
   "execution_count": 286,
   "id": "320bc9a9-1be1-4330-9d76-dfc3a8526d5f",
   "metadata": {},
   "outputs": [
    {
     "name": "stdout",
     "output_type": "stream",
     "text": [
      "                precision    recall  f1-score   support\n",
      "\n",
      "Não Pastejando      0.663     0.543     0.597     81973\n",
      "    Pastejando      0.479     0.604     0.534     57026\n",
      "\n",
      "      accuracy                          0.568    138999\n",
      "     macro avg      0.571     0.573     0.566    138999\n",
      "  weighted avg      0.588     0.568     0.571    138999\n",
      "\n"
     ]
    }
   ],
   "source": [
    "print(classification_report(y, preds, digits=3))"
   ]
  },
  {
   "cell_type": "code",
   "execution_count": 287,
   "id": "8eaf79a7-1bed-43fb-ab51-e01613a7dae9",
   "metadata": {},
   "outputs": [
    {
     "data": {
      "image/png": "[encoded data removed]",
      "text/plain": [
       "<Figure size 432x288 with 1 Axes>"
      ]
     },
     "metadata": {
      "needs_background": "light"
     },
     "output_type": "display_data"
    }
   ],
   "source": [
    "imprimeMatrizDeConfusão(y, preds, rf_model)"
   ]
  },
  {
   "cell_type": "markdown",
   "id": "68a22a07-8b69-4267-8495-cfc847f50bd5",
   "metadata": {
    "tags": []
   },
   "source": [
    "#### Com Gradient Boosting"
   ]
  },
  {
   "cell_type": "code",
   "execution_count": 288,
   "id": "6b769a27-a0c3-42ae-8924-ae33012d363e",
   "metadata": {},
   "outputs": [],
   "source": [
    "from sklearn.preprocessing import OrdinalEncoder\n",
    "\n",
    "ordinal_encoder = OrdinalEncoder()\n",
    "\n",
    "y_ordinal = ordinal_encoder.fit_transform(y.array.reshape(-1,1))"
   ]
  },
  {
   "cell_type": "code",
   "execution_count": 289,
   "id": "8651c4a7-2dd4-4235-9993-f8226fd57c45",
   "metadata": {
    "tags": []
   },
   "outputs": [
    {
     "name": "stdout",
     "output_type": "stream",
     "text": [
      "CPU times: user 2.38 s, sys: 8.04 ms, total: 2.39 s\n",
      "Wall time: 309 ms\n"
     ]
    }
   ],
   "source": [
    "%%time\n",
    "preds = gb_model.predict(X)"
   ]
  },
  {
   "cell_type": "code",
   "execution_count": 290,
   "id": "704028c4-c05c-4562-881e-42e4c9b1c7e7",
   "metadata": {},
   "outputs": [
    {
     "data": {
      "text/plain": [
       "55.88745242771531"
      ]
     },
     "execution_count": 290,
     "metadata": {},
     "output_type": "execute_result"
    }
   ],
   "source": [
    "preds = ordinal_encoder.inverse_transform(preds.reshape(-1,1))\n",
    "accuracy_score(y, preds)*100"
   ]
  },
  {
   "cell_type": "code",
   "execution_count": 291,
   "id": "c30fe85b-c281-4fd1-b5ee-763edb6fa876",
   "metadata": {},
   "outputs": [
    {
     "name": "stdout",
     "output_type": "stream",
     "text": [
      "                precision    recall  f1-score   support\n",
      "\n",
      "Não Pastejando      0.655     0.532     0.587     81973\n",
      "    Pastejando      0.470     0.598     0.527     57026\n",
      "\n",
      "      accuracy                          0.559    138999\n",
      "     macro avg      0.563     0.565     0.557    138999\n",
      "  weighted avg      0.579     0.559     0.562    138999\n",
      "\n"
     ]
    }
   ],
   "source": [
    "print(classification_report(y, preds, digits=3))"
   ]
  },
  {
   "cell_type": "code",
   "execution_count": 292,
   "id": "4b46368e-2be6-4e73-b208-2e3b0b753d50",
   "metadata": {},
   "outputs": [
    {
     "data": {
      "image/png": "[encoded data removed]",
      "text/plain": [
       "<Figure size 432x288 with 1 Axes>"
      ]
     },
     "metadata": {
      "needs_background": "light"
     },
     "output_type": "display_data"
    }
   ],
   "source": [
    "imprimeMatrizDeConfusão(y, preds, gb_model)"
   ]
  },
  {
   "cell_type": "markdown",
   "id": "6ad6cfee-2a55-48a0-b909-13c2741da3e6",
   "metadata": {
    "tags": []
   },
   "source": [
    "#### Com KNN"
   ]
  },
  {
   "cell_type": "code",
   "execution_count": 235,
   "id": "5bbc44af-74a1-4ac3-889a-a6ee7b3c871b",
   "metadata": {
    "tags": []
   },
   "outputs": [
    {
     "name": "stdout",
     "output_type": "stream",
     "text": [
      "CPU times: user 3min 23s, sys: 268 ms, total: 3min 23s\n",
      "Wall time: 33.9 s\n"
     ]
    }
   ],
   "source": [
    "%%time\n",
    "\n",
    "preds = knn_model.predict(X)"
   ]
  },
  {
   "cell_type": "code",
   "execution_count": 236,
   "id": "ad3f0c40-8595-4a76-b4fb-2606d1a7df63",
   "metadata": {},
   "outputs": [
    {
     "data": {
      "text/plain": [
       "52.03202900740293"
      ]
     },
     "execution_count": 236,
     "metadata": {},
     "output_type": "execute_result"
    }
   ],
   "source": [
    "accuracy_score(y, preds)*100"
   ]
  },
  {
   "cell_type": "code",
   "execution_count": 237,
   "id": "e18d8f5a-a361-49f0-9999-4eea843c4409",
   "metadata": {},
   "outputs": [
    {
     "name": "stdout",
     "output_type": "stream",
     "text": [
      "                precision    recall  f1-score   support\n",
      "\n",
      "Não Pastejando      0.625     0.466     0.534     81973\n",
      "    Pastejando      0.438     0.599     0.506     57026\n",
      "\n",
      "      accuracy                          0.520    138999\n",
      "     macro avg      0.532     0.532     0.520    138999\n",
      "  weighted avg      0.549     0.520     0.522    138999\n",
      "\n"
     ]
    }
   ],
   "source": [
    "print(classification_report(y, preds, digits=3))"
   ]
  },
  {
   "cell_type": "code",
   "execution_count": 238,
   "id": "6bdae577-7ab4-4bbb-96c7-1a9511c7b575",
   "metadata": {},
   "outputs": [
    {
     "data": {
      "image/png": "[encoded data removed]",
      "text/plain": [
       "<Figure size 432x288 with 1 Axes>"
      ]
     },
     "metadata": {
      "needs_background": "light"
     },
     "output_type": "display_data"
    }
   ],
   "source": [
    "imprimeMatrizDeConfusão(y, preds, knn_model)"
   ]
  },
  {
   "cell_type": "markdown",
   "id": "796232a4-8777-48c3-8069-96d0a365e176",
   "metadata": {
    "tags": []
   },
   "source": [
    "#### Com RN"
   ]
  },
  {
   "cell_type": "code",
   "execution_count": 180,
   "id": "40cfcd45-13d5-4d2d-9150-215d8fbc4d18",
   "metadata": {
    "tags": []
   },
   "outputs": [
    {
     "name": "stdout",
     "output_type": "stream",
     "text": [
      "CPU times: user 1.38 s, sys: 48.1 ms, total: 1.43 s\n",
      "Wall time: 364 ms\n"
     ]
    }
   ],
   "source": [
    "%%time\n",
    "preds = rn_model.predict(X)"
   ]
  },
  {
   "cell_type": "code",
   "execution_count": 181,
   "id": "415a316b-7eb8-4c62-a8ba-ca5cd724137a",
   "metadata": {},
   "outputs": [
    {
     "data": {
      "text/plain": [
       "44.047798905028095"
      ]
     },
     "execution_count": 181,
     "metadata": {},
     "output_type": "execute_result"
    }
   ],
   "source": [
    "accuracy_score(y, preds)*100"
   ]
  },
  {
   "cell_type": "code",
   "execution_count": 182,
   "id": "4c7f14ca-2f9a-4ad7-85bd-67cc32246d11",
   "metadata": {},
   "outputs": [
    {
     "name": "stdout",
     "output_type": "stream",
     "text": [
      "              precision    recall  f1-score   support\n",
      "\n",
      "        Ocio      0.528     0.288     0.373     54515\n",
      "  Pastejando      0.431     0.725     0.541     57026\n",
      "   Ruminando      0.311     0.152     0.204     27458\n",
      "\n",
      "    accuracy                          0.440    138999\n",
      "   macro avg      0.424     0.388     0.373    138999\n",
      "weighted avg      0.446     0.440     0.408    138999\n",
      "\n"
     ]
    }
   ],
   "source": [
    "print(classification_report(y, preds, digits=3))"
   ]
  },
  {
   "cell_type": "code",
   "execution_count": 183,
   "id": "5f838e40-70ea-418d-8bd1-5d701e7fa1aa",
   "metadata": {},
   "outputs": [
    {
     "data": {
      "image/png": "[encoded data removed]",
      "text/plain": [
       "<Figure size 432x288 with 1 Axes>"
      ]
     },
     "metadata": {
      "needs_background": "light"
     },
     "output_type": "display_data"
    }
   ],
   "source": [
    "imprimeMatrizDeConfusão(y, preds, rn_model)"
   ]
  },
  {
   "cell_type": "markdown",
   "id": "247628ad-491f-401b-8f9a-84d820c41618",
   "metadata": {
    "tags": []
   },
   "source": [
    "#### Com GLM"
   ]
  },
  {
   "cell_type": "code",
   "execution_count": 51,
   "id": "4b348e10-388b-45fd-9e1e-e026651d330c",
   "metadata": {},
   "outputs": [],
   "source": [
    "df = pd.concat([X, y], axis=1)"
   ]
  },
  {
   "cell_type": "code",
   "execution_count": 52,
   "id": "d49571fb-b94e-46ca-8f59-2e0f9c91cb64",
   "metadata": {},
   "outputs": [],
   "source": [
    "y, X = dmatrices( 'Comportamento ~ X + Y + Z + Season_fall + Season_spring + Season_summer + magn + sma + ent + pit + rol + icl', data=df, return_type='dataframe')"
   ]
  },
  {
   "cell_type": "code",
   "execution_count": 53,
   "id": "7d19d2e3-f9ff-4516-9473-b9dc56127b95",
   "metadata": {},
   "outputs": [],
   "source": [
    "preds = glm_results.predict(X)"
   ]
  },
  {
   "cell_type": "code",
   "execution_count": 54,
   "id": "d2721c8d-97c5-4df1-8f7c-a6544e9ff59a",
   "metadata": {},
   "outputs": [],
   "source": [
    "preds[3] = preds.median(axis=1)"
   ]
  },
  {
   "cell_type": "code",
   "execution_count": 55,
   "id": "4347ebfc-d6ff-4fc3-b047-42941af412b2",
   "metadata": {},
   "outputs": [],
   "source": [
    "preds = preds.reset_index(drop=True)"
   ]
  },
  {
   "cell_type": "code",
   "execution_count": 56,
   "id": "111d7f87-4418-471e-9865-ae74929fa96f",
   "metadata": {},
   "outputs": [],
   "source": [
    "b = np.zeros((preds.shape[0], 3))"
   ]
  },
  {
   "cell_type": "code",
   "execution_count": 57,
   "id": "a3df2e1e-e42c-43a6-adb5-c9f92f014c5c",
   "metadata": {},
   "outputs": [],
   "source": [
    "for i in range(preds.shape[0]):\n",
    "    for j in range(3):\n",
    "        if preds.loc[i,j] > preds.loc[i,3]:\n",
    "            b[i,j] = 1\n",
    "        else:\n",
    "            b[i,j] = 0"
   ]
  },
  {
   "cell_type": "code",
   "execution_count": 58,
   "id": "b00e13be-d646-4da7-8a40-c6f6e207df0e",
   "metadata": {},
   "outputs": [],
   "source": [
    "preds = pd.DataFrame(b, columns=['Ocio', 'Pastejando', 'Ruminando'])"
   ]
  },
  {
   "cell_type": "code",
   "execution_count": 59,
   "id": "0346e170-0a75-468d-b9fb-c4765c5dfcc6",
   "metadata": {},
   "outputs": [
    {
     "ename": "ValueError",
     "evalue": "inconsistent shapes",
     "output_type": "error",
     "traceback": [
      "\u001b[0;31m---------------------------------------------------------------------------\u001b[0m",
      "\u001b[0;31mValueError\u001b[0m                                Traceback (most recent call last)",
      "\u001b[0;32m/tmp/ipykernel_9116/2653052677.py\u001b[0m in \u001b[0;36m<module>\u001b[0;34m\u001b[0m\n\u001b[0;32m----> 1\u001b[0;31m \u001b[0maccuracy_score\u001b[0m\u001b[0;34m(\u001b[0m\u001b[0my\u001b[0m\u001b[0;34m,\u001b[0m \u001b[0mpreds\u001b[0m\u001b[0;34m)\u001b[0m\u001b[0;34m*\u001b[0m\u001b[0;36m100\u001b[0m\u001b[0;34m\u001b[0m\u001b[0;34m\u001b[0m\u001b[0m\n\u001b[0m",
      "\u001b[0;32m~/anaconda3/lib/python3.9/site-packages/sklearn/metrics/_classification.py\u001b[0m in \u001b[0;36maccuracy_score\u001b[0;34m(y_true, y_pred, normalize, sample_weight)\u001b[0m\n\u001b[1;32m    206\u001b[0m     \u001b[0mcheck_consistent_length\u001b[0m\u001b[0;34m(\u001b[0m\u001b[0my_true\u001b[0m\u001b[0;34m,\u001b[0m \u001b[0my_pred\u001b[0m\u001b[0;34m,\u001b[0m \u001b[0msample_weight\u001b[0m\u001b[0;34m)\u001b[0m\u001b[0;34m\u001b[0m\u001b[0;34m\u001b[0m\u001b[0m\n\u001b[1;32m    207\u001b[0m     \u001b[0;32mif\u001b[0m \u001b[0my_type\u001b[0m\u001b[0;34m.\u001b[0m\u001b[0mstartswith\u001b[0m\u001b[0;34m(\u001b[0m\u001b[0;34m\"multilabel\"\u001b[0m\u001b[0;34m)\u001b[0m\u001b[0;34m:\u001b[0m\u001b[0;34m\u001b[0m\u001b[0;34m\u001b[0m\u001b[0m\n\u001b[0;32m--> 208\u001b[0;31m         \u001b[0mdiffering_labels\u001b[0m \u001b[0;34m=\u001b[0m \u001b[0mcount_nonzero\u001b[0m\u001b[0;34m(\u001b[0m\u001b[0my_true\u001b[0m \u001b[0;34m-\u001b[0m \u001b[0my_pred\u001b[0m\u001b[0;34m,\u001b[0m \u001b[0maxis\u001b[0m\u001b[0;34m=\u001b[0m\u001b[0;36m1\u001b[0m\u001b[0;34m)\u001b[0m\u001b[0;34m\u001b[0m\u001b[0;34m\u001b[0m\u001b[0m\n\u001b[0m\u001b[1;32m    209\u001b[0m         \u001b[0mscore\u001b[0m \u001b[0;34m=\u001b[0m \u001b[0mdiffering_labels\u001b[0m \u001b[0;34m==\u001b[0m \u001b[0;36m0\u001b[0m\u001b[0;34m\u001b[0m\u001b[0;34m\u001b[0m\u001b[0m\n\u001b[1;32m    210\u001b[0m     \u001b[0;32melse\u001b[0m\u001b[0;34m:\u001b[0m\u001b[0;34m\u001b[0m\u001b[0;34m\u001b[0m\u001b[0m\n",
      "\u001b[0;32m~/anaconda3/lib/python3.9/site-packages/scipy/sparse/base.py\u001b[0m in \u001b[0;36m__sub__\u001b[0;34m(self, other)\u001b[0m\n\u001b[1;32m    431\u001b[0m         \u001b[0;32melif\u001b[0m \u001b[0misspmatrix\u001b[0m\u001b[0;34m(\u001b[0m\u001b[0mother\u001b[0m\u001b[0;34m)\u001b[0m\u001b[0;34m:\u001b[0m\u001b[0;34m\u001b[0m\u001b[0;34m\u001b[0m\u001b[0m\n\u001b[1;32m    432\u001b[0m             \u001b[0;32mif\u001b[0m \u001b[0mother\u001b[0m\u001b[0;34m.\u001b[0m\u001b[0mshape\u001b[0m \u001b[0;34m!=\u001b[0m \u001b[0mself\u001b[0m\u001b[0;34m.\u001b[0m\u001b[0mshape\u001b[0m\u001b[0;34m:\u001b[0m\u001b[0;34m\u001b[0m\u001b[0;34m\u001b[0m\u001b[0m\n\u001b[0;32m--> 433\u001b[0;31m                 \u001b[0;32mraise\u001b[0m \u001b[0mValueError\u001b[0m\u001b[0;34m(\u001b[0m\u001b[0;34m\"inconsistent shapes\"\u001b[0m\u001b[0;34m)\u001b[0m\u001b[0;34m\u001b[0m\u001b[0;34m\u001b[0m\u001b[0m\n\u001b[0m\u001b[1;32m    434\u001b[0m             \u001b[0;32mreturn\u001b[0m \u001b[0mself\u001b[0m\u001b[0;34m.\u001b[0m\u001b[0m_sub_sparse\u001b[0m\u001b[0;34m(\u001b[0m\u001b[0mother\u001b[0m\u001b[0;34m)\u001b[0m\u001b[0;34m\u001b[0m\u001b[0;34m\u001b[0m\u001b[0m\n\u001b[1;32m    435\u001b[0m         \u001b[0;32melif\u001b[0m \u001b[0misdense\u001b[0m\u001b[0;34m(\u001b[0m\u001b[0mother\u001b[0m\u001b[0;34m)\u001b[0m\u001b[0;34m:\u001b[0m\u001b[0;34m\u001b[0m\u001b[0;34m\u001b[0m\u001b[0m\n",
      "\u001b[0;31mValueError\u001b[0m: inconsistent shapes"
     ]
    }
   ],
   "source": [
    "accuracy_score(y, preds)*100"
   ]
  },
  {
   "cell_type": "code",
   "execution_count": 146,
   "id": "d797d682-1d6b-40f9-8a10-20eafa4a8b69",
   "metadata": {},
   "outputs": [
    {
     "name": "stdout",
     "output_type": "stream",
     "text": [
      "              precision    recall  f1-score   support\n",
      "\n",
      "           0      0.000     0.000     0.000     54515\n",
      "           1      0.366     0.773     0.497     57026\n",
      "           2      0.029     0.019     0.023     27458\n",
      "\n",
      "   micro avg      0.321     0.321     0.321    138999\n",
      "   macro avg      0.132     0.264     0.173    138999\n",
      "weighted avg      0.156     0.321     0.208    138999\n",
      " samples avg      0.321     0.321     0.321    138999\n",
      "\n"
     ]
    },
    {
     "name": "stderr",
     "output_type": "stream",
     "text": [
      "/home/caio/anaconda3/lib/python3.9/site-packages/sklearn/metrics/_classification.py:1308: UndefinedMetricWarning: Precision and F-score are ill-defined and being set to 0.0 in labels with no predicted samples. Use `zero_division` parameter to control this behavior.\n",
      "  _warn_prf(average, modifier, msg_start, len(result))\n"
     ]
    }
   ],
   "source": [
    "print(classification_report(y, preds, digits=3, z))"
   ]
  },
  {
   "cell_type": "code",
   "execution_count": 147,
   "id": "6a9b16cf-b70a-4838-949b-f663565f2374",
   "metadata": {},
   "outputs": [],
   "source": [
    "# Reverso de get_dummies\n",
    "preds = preds.idxmax(axis=1)"
   ]
  },
  {
   "cell_type": "code",
   "execution_count": 148,
   "id": "2266bb53-040c-43cd-9dcb-93f1c97065df",
   "metadata": {},
   "outputs": [],
   "source": [
    "y = y.rename(columns={\"Comportamento[Ocio]\" : \"Ocio\", \"Comportamento[Pastejando]\" : \"Pastejando\", \"Comportamento[Ruminando]\" : \"Ruminando\"})"
   ]
  },
  {
   "cell_type": "code",
   "execution_count": 149,
   "id": "68247817-fbba-4cc5-ba5b-802e8f47ef79",
   "metadata": {},
   "outputs": [],
   "source": [
    "y = y.idxmax(axis=1)"
   ]
  },
  {
   "cell_type": "code",
   "execution_count": 150,
   "id": "189a541d-4639-49ad-bca5-236bcff24829",
   "metadata": {},
   "outputs": [
    {
     "data": {
      "image/png": "[encoded data removed]",
      "text/plain": [
       "<Figure size 432x288 with 1 Axes>"
      ]
     },
     "metadata": {
      "needs_background": "light"
     },
     "output_type": "display_data"
    }
   ],
   "source": [
    "from sklearn.metrics import confusion_matrix\n",
    "from sklearn.metrics import ConfusionMatrixDisplay\n",
    "import matplotlib.pyplot as plt\n",
    "\n",
    "cm = confusion_matrix(y, preds, normalize='true')\n",
    "disp = ConfusionMatrixDisplay(confusion_matrix=cm)\n",
    "disp.plot(values_format= '.2%', xticks_rotation=60, colorbar=False)\n",
    "disp.ax_.set_title(\"Matriz de confusão normalizada sobre as condições verdadeiras\")\n",
    "plt.show()"
   ]
  },
  {
   "cell_type": "markdown",
   "id": "8e49b6c8-edee-4275-836e-d927d0d9cd6e",
   "metadata": {
    "tags": []
   },
   "source": [
    "### Teste de RF em CV"
   ]
  },
  {
   "cell_type": "code",
   "execution_count": 22,
   "id": "27698335-c464-41b3-a257-485b8baf6a5a",
   "metadata": {},
   "outputs": [],
   "source": [
    "from sklearn.model_selection import cross_val_score\n",
    "\n",
    "def get_score(n_estimators):\n",
    "    clf = RandomForestClassifier(n_estimators, random_state=0, n_jobs=-1)\n",
    "    scores = cross_val_score(clf, X_train, y_train, cv=3)\n",
    "    return scores.mean()\n"
   ]
  },
  {
   "cell_type": "code",
   "execution_count": 14,
   "id": "5c75c35f-923f-4c25-8c0d-943a21f2e2ce",
   "metadata": {},
   "outputs": [],
   "source": [
    "results = {} \n",
    "n_estimators = 100\n",
    "while n_estimators < 250:\n",
    "    n_estimators += 50\n",
    "    results[n_estimators] = get_score(n_estimators)"
   ]
  },
  {
   "cell_type": "code",
   "execution_count": 15,
   "id": "5f94f22e-83e4-4f59-a9cc-397026319367",
   "metadata": {},
   "outputs": [
    {
     "data": {
      "image/png": "[encoded data removed]",
      "text/plain": [
       "<Figure size 432x288 with 1 Axes>"
      ]
     },
     "metadata": {
      "needs_background": "light"
     },
     "output_type": "display_data"
    }
   ],
   "source": [
    "import matplotlib.pyplot as plt\n",
    "%matplotlib inline\n",
    "\n",
    "plt.plot(list(results.keys()), list(results.values()))\n",
    "plt.show()"
   ]
  },
  {
   "cell_type": "markdown",
   "id": "f9a0d9f8-9e3b-43b2-bf93-fc4f5f57936f",
   "metadata": {
    "tags": []
   },
   "source": [
    "### Lidando com dados desbalanceados"
   ]
  },
  {
   "cell_type": "code",
   "execution_count": 308,
   "id": "67608a6e-1a56-4df4-bc51-4a6c667b6e14",
   "metadata": {},
   "outputs": [],
   "source": [
    "import seaborn as sns"
   ]
  },
  {
   "cell_type": "code",
   "execution_count": 309,
   "id": "9f80533c-302f-44b1-ba2e-5d89e0efcc2d",
   "metadata": {},
   "outputs": [
    {
     "data": {
      "text/plain": [
       "Pastejando    332512\n",
       "Ruminando     151381\n",
       "Ocio          123257\n",
       "Name: Comportamento, dtype: int64"
      ]
     },
     "execution_count": 309,
     "metadata": {},
     "output_type": "execute_result"
    }
   ],
   "source": [
    "df.Comportamento.value_counts()"
   ]
  },
  {
   "cell_type": "code",
   "execution_count": 151,
   "id": "3435628d-a3c3-4e41-adbd-38c2ddeb0949",
   "metadata": {},
   "outputs": [
    {
     "data": {
      "image/png": "[encoded data removed]",
      "text/plain": [
       "<Figure size 432x288 with 1 Axes>"
      ]
     },
     "metadata": {
      "needs_background": "light"
     },
     "output_type": "display_data"
    }
   ],
   "source": [
    "ax = sns.countplot(x=\"Comportamento\", data=df)"
   ]
  },
  {
   "cell_type": "code",
   "execution_count": 152,
   "id": "74bcf005-5b2d-4aff-9905-aca02daad508",
   "metadata": {
    "tags": []
   },
   "outputs": [],
   "source": [
    "from sklearn.ensemble import RandomForestClassifier\n",
    "model = RandomForestClassifier(n_estimators=150,\n",
    "                              min_samples_split=30,\n",
    "                              min_samples_leaf=1,\n",
    "                              max_features='sqrt',\n",
    "                              max_depth=100,\n",
    "                              criterion='entropy',\n",
    "                              bootstrap=False,\n",
    "                              n_jobs=-1,\n",
    "                              random_state=0)\n",
    "model.fit(X_train, y_train)\n",
    "preds = model.predict(X_test)"
   ]
  },
  {
   "cell_type": "code",
   "execution_count": 153,
   "id": "613d6753-9688-49d9-9b74-6cae308813ad",
   "metadata": {},
   "outputs": [
    {
     "data": {
      "text/plain": [
       "74.16462434448046"
      ]
     },
     "execution_count": 153,
     "metadata": {},
     "output_type": "execute_result"
    }
   ],
   "source": [
    "accuracy_score(y_test, preds)*100"
   ]
  },
  {
   "cell_type": "code",
   "execution_count": 156,
   "id": "dbc8fe06-c976-481b-9ad3-8113a9e24c75",
   "metadata": {},
   "outputs": [
    {
     "name": "stdout",
     "output_type": "stream",
     "text": [
      "              precision    recall  f1-score   support\n",
      "\n",
      "        Ocio       0.65      0.43      0.52     30838\n",
      "  Pastejando       0.78      0.89      0.83     83380\n",
      "   Ruminando       0.70      0.67      0.68     37570\n",
      "\n",
      "    accuracy                           0.74    151788\n",
      "   macro avg       0.71      0.66      0.68    151788\n",
      "weighted avg       0.73      0.74      0.73    151788\n",
      "\n"
     ]
    }
   ],
   "source": [
    "print (classification_report(y_test, preds))"
   ]
  },
  {
   "cell_type": "code",
   "execution_count": 157,
   "id": "f1633efe-cdae-4979-9a29-5456a7f50039",
   "metadata": {},
   "outputs": [
    {
     "data": {
      "image/png": "[encoded data removed]",
      "text/plain": [
       "<Figure size 432x288 with 1 Axes>"
      ]
     },
     "metadata": {
      "needs_background": "light"
     },
     "output_type": "display_data"
    }
   ],
   "source": [
    "imprimeMatrizDeConfusão(y_test, preds, model)"
   ]
  },
  {
   "cell_type": "markdown",
   "id": "2b8f554b-4011-4169-a3e9-022d510190d0",
   "metadata": {
    "tags": []
   },
   "source": [
    "#### Aplicando NearMiss"
   ]
  },
  {
   "cell_type": "code",
   "execution_count": 18,
   "id": "fbd8de82-e025-4ad0-a7c3-3c087e0b4398",
   "metadata": {},
   "outputs": [],
   "source": [
    "from imblearn.under_sampling import NearMiss\n",
    "nr = NearMiss()"
   ]
  },
  {
   "cell_type": "code",
   "execution_count": 165,
   "id": "fea2f2bf-c07b-4f58-93e7-e261f7ea97e0",
   "metadata": {},
   "outputs": [],
   "source": [
    "X, y = nr.fit_resample(X, y)"
   ]
  },
  {
   "cell_type": "code",
   "execution_count": 166,
   "id": "9b309339-0be2-4723-bc9a-0be0a1c4f43f",
   "metadata": {},
   "outputs": [
    {
     "data": {
      "image/png": "[encoded data removed]",
      "text/plain": [
       "<Figure size 432x288 with 1 Axes>"
      ]
     },
     "metadata": {
      "needs_background": "light"
     },
     "output_type": "display_data"
    }
   ],
   "source": [
    "ax = sns.countplot(x=y)"
   ]
  },
  {
   "cell_type": "code",
   "execution_count": 167,
   "id": "82e71ef2-46d2-48b7-9495-2a6b41bd2492",
   "metadata": {},
   "outputs": [],
   "source": [
    "X_train, X_test, y_train, y_test = train_test_split(X, y, random_state=0)"
   ]
  },
  {
   "cell_type": "code",
   "execution_count": 168,
   "id": "c1fab09f-fadc-4733-a5a6-acd2a3c0e62f",
   "metadata": {},
   "outputs": [],
   "source": [
    "model.fit(X_train, y_train)\n",
    "preds = model.predict(X_test)"
   ]
  },
  {
   "cell_type": "code",
   "execution_count": 169,
   "id": "066a76db-e028-4296-a452-b36c94b69c85",
   "metadata": {},
   "outputs": [
    {
     "data": {
      "text/plain": [
       "68.94086085479701"
      ]
     },
     "execution_count": 169,
     "metadata": {},
     "output_type": "execute_result"
    }
   ],
   "source": [
    "accuracy_score(y_test, preds)*100"
   ]
  },
  {
   "cell_type": "code",
   "execution_count": 170,
   "id": "aa94987c-c6f7-4042-a9de-537300c43393",
   "metadata": {},
   "outputs": [
    {
     "name": "stdout",
     "output_type": "stream",
     "text": [
      "              precision    recall  f1-score   support\n",
      "\n",
      "        Ocio       0.66      0.61      0.64     30976\n",
      "  Pastejando       0.70      0.73      0.72     30906\n",
      "   Ruminando       0.70      0.73      0.72     30561\n",
      "\n",
      "    accuracy                           0.69     92443\n",
      "   macro avg       0.69      0.69      0.69     92443\n",
      "weighted avg       0.69      0.69      0.69     92443\n",
      "\n"
     ]
    }
   ],
   "source": [
    "print (classification_report(y_test, preds))"
   ]
  },
  {
   "cell_type": "code",
   "execution_count": 171,
   "id": "4f746497-b281-4a93-8b0b-f6a6caba0554",
   "metadata": {},
   "outputs": [
    {
     "data": {
      "image/png": "[encoded data removed]",
      "text/plain": [
       "<Figure size 432x288 with 1 Axes>"
      ]
     },
     "metadata": {
      "needs_background": "light"
     },
     "output_type": "display_data"
    }
   ],
   "source": [
    "imprimeMatrizDeConfusão(y_test, preds, model)"
   ]
  },
  {
   "cell_type": "markdown",
   "id": "c08124d0-3c4a-4878-acf7-9bb8a84583d1",
   "metadata": {
    "tags": []
   },
   "source": [
    "#### Aplicando o SMOTE"
   ]
  },
  {
   "cell_type": "code",
   "execution_count": 302,
   "id": "22a0ae74-a151-4048-9618-cf9639e3efa9",
   "metadata": {},
   "outputs": [],
   "source": [
    "from imblearn.over_sampling import SMOTE\n",
    "smt = SMOTE()"
   ]
  },
  {
   "cell_type": "code",
   "execution_count": 303,
   "id": "87d1c4a7-c2f2-449a-8106-0fb21810524e",
   "metadata": {},
   "outputs": [],
   "source": [
    "X = df.drop(\"Comportamento\", axis = 1)\n",
    "y = df.Comportamento"
   ]
  },
  {
   "cell_type": "code",
   "execution_count": 304,
   "id": "7ac306ce-ed28-43e7-b224-5ec28de1cab8",
   "metadata": {},
   "outputs": [
    {
     "data": {
      "text/plain": [
       "Pastejando    332512\n",
       "Ruminando     151381\n",
       "Ocio          123257\n",
       "Name: Comportamento, dtype: int64"
      ]
     },
     "execution_count": 304,
     "metadata": {},
     "output_type": "execute_result"
    }
   ],
   "source": [
    "# Visualizando a quantidade de dados por classe\n",
    "y.value_counts()"
   ]
  },
  {
   "cell_type": "code",
   "execution_count": 305,
   "id": "b07830c1-4092-4fb4-beaf-336b7a148de0",
   "metadata": {},
   "outputs": [],
   "source": [
    "X, y = smt.fit_resample(X, y)"
   ]
  },
  {
   "cell_type": "code",
   "execution_count": 306,
   "id": "98d243c4-24d3-4add-be1c-8e002fab22d5",
   "metadata": {},
   "outputs": [
    {
     "data": {
      "text/plain": [
       "Ocio          332512\n",
       "Ruminando     332512\n",
       "Pastejando    332512\n",
       "Name: Comportamento, dtype: int64"
      ]
     },
     "execution_count": 306,
     "metadata": {},
     "output_type": "execute_result"
    }
   ],
   "source": [
    "# Visualizando a quantidade de dados por classe\n",
    "y.value_counts()"
   ]
  },
  {
   "cell_type": "code",
   "execution_count": 310,
   "id": "85238e80-f92d-464f-98ed-380de21ce135",
   "metadata": {},
   "outputs": [
    {
     "data": {
      "image/png": "[encoded data removed]",
      "text/plain": [
       "<Figure size 432x288 with 1 Axes>"
      ]
     },
     "metadata": {
      "needs_background": "light"
     },
     "output_type": "display_data"
    }
   ],
   "source": [
    "ax = sns.countplot(x=y)"
   ]
  },
  {
   "cell_type": "code",
   "execution_count": 311,
   "id": "4d022bfb-4daa-4dda-9265-a7c94d336bb8",
   "metadata": {},
   "outputs": [],
   "source": [
    "X_train, X_test, y_train, y_test = train_test_split(X, y, random_state = 0)"
   ]
  },
  {
   "cell_type": "code",
   "execution_count": 312,
   "id": "0f039680-98d0-459a-8a2c-14f92c37993a",
   "metadata": {},
   "outputs": [],
   "source": [
    "# Para reescalar os dados\n",
    "from sklearn.preprocessing import StandardScaler\n",
    "\n",
    "X_train_season = X_train[['Season_fall', 'Season_spring', 'Season_summer']]\n",
    "X_test_season =  X_test[['Season_fall', 'Season_spring', 'Season_summer']]\n",
    "\n",
    "X_train.drop(['Season_fall', 'Season_spring', 'Season_summer'], axis=1, inplace=True)\n",
    "X_test.drop(['Season_fall', 'Season_spring', 'Season_summer'], axis=1, inplace=True)\n",
    "\n",
    "columns = X_train.columns\n",
    "index_train = X_train.index\n",
    "index_test = X_test.index\n",
    "\n",
    "\n",
    "sc = StandardScaler()\n",
    "X_train = sc.fit_transform(X_train)\n",
    "X_test = sc.transform (X_test)\n",
    "\n",
    "X_train = pd.DataFrame(X_train, columns=columns, index=index_train)\n",
    "X_test = pd.DataFrame(X_test, columns=columns, index=index_test)\n",
    "\n",
    "X_train = pd.concat([X_train, X_train_season], axis=1)\n",
    "X_test = pd.concat([X_test, X_test_season], axis=1)"
   ]
  },
  {
   "cell_type": "markdown",
   "id": "6a6f2733-07cb-4766-9636-272331f49f55",
   "metadata": {},
   "source": []
  },
  {
   "cell_type": "code",
   "execution_count": 65,
   "id": "0d649b2a-eb9f-491d-bc06-2957b4d80157",
   "metadata": {
    "tags": []
   },
   "outputs": [],
   "source": [
    "from sklearn.ensemble import RandomForestClassifier\n",
    "model = RandomForestClassifier(n_estimators=150,\n",
    "                              min_samples_split=30,\n",
    "                              min_samples_leaf=1,\n",
    "                              max_features='sqrt',\n",
    "                              max_depth=100,\n",
    "                              criterion='entropy',\n",
    "                              bootstrap=False,\n",
    "                              n_jobs=-1,\n",
    "                              random_state=0)\n",
    "model.fit(X_train, y_train)\n",
    "preds = model.predict(X_test)"
   ]
  },
  {
   "cell_type": "code",
   "execution_count": 66,
   "id": "9ca19d46-1a48-4bd3-aeb0-bd666801f1bf",
   "metadata": {},
   "outputs": [
    {
     "data": {
      "text/plain": [
       "76.60595707824078"
      ]
     },
     "execution_count": 66,
     "metadata": {},
     "output_type": "execute_result"
    }
   ],
   "source": [
    "accuracy_score(y_test, preds)*100"
   ]
  },
  {
   "cell_type": "code",
   "execution_count": 67,
   "id": "2936a7dc-98aa-4485-ad6c-495528b17d2e",
   "metadata": {},
   "outputs": [
    {
     "name": "stdout",
     "output_type": "stream",
     "text": [
      "              precision    recall  f1-score   support\n",
      "\n",
      "        Ocio       0.76      0.72      0.74     83256\n",
      "  Pastejando       0.75      0.80      0.77     83127\n",
      "   Ruminando       0.79      0.78      0.78     83001\n",
      "\n",
      "    accuracy                           0.77    249384\n",
      "   macro avg       0.77      0.77      0.77    249384\n",
      "weighted avg       0.77      0.77      0.77    249384\n",
      "\n"
     ]
    }
   ],
   "source": [
    "print (classification_report(y_test, preds))"
   ]
  },
  {
   "cell_type": "code",
   "execution_count": 69,
   "id": "24ca70a5-73b3-49cd-9055-b0d7f07fb603",
   "metadata": {},
   "outputs": [
    {
     "data": {
      "image/png": "[encoded data removed]",
      "text/plain": [
       "<Figure size 432x288 with 1 Axes>"
      ]
     },
     "metadata": {
      "needs_background": "light"
     },
     "output_type": "display_data"
    }
   ],
   "source": [
    "imprimeMatrizDeConfusão(y_test, preds, model)"
   ]
  }
 ],
 "metadata": {
  "kernelspec": {
   "display_name": "Python 3 (ipykernel)",
   "language": "python",
   "name": "python3"
  },
  "language_info": {
   "codemirror_mode": {
    "name": "ipython",
    "version": 3
   },
   "file_extension": ".py",
   "mimetype": "text/x-python",
   "name": "python",
   "nbconvert_exporter": "python",
   "pygments_lexer": "ipython3",
   "version": "3.9.7"
  }
 },
 "nbformat": 4,
 "nbformat_minor": 5
}
