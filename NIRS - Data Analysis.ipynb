{
 "cells": [
  {
   "cell_type": "markdown",
   "id": "7e7e49a9",
   "metadata": {},
   "source": [
    "# <center> NIRS <center> Data Analysis\n",
    "***\n",
    "# Table of Contents\n",
    "* [READING THE DATASET INTO PYTHON](#READING-THE-DATASET-INTO-PYTHON)\n",
    "* [DATA EDITING](#DATA-EDITING)\n",
    "    * [Creating dummy variables (One-Hot Encode)](#Creating-dummy-variables-(One-Hot-Encode))\n",
    "    * [Creating training and testing datasets](#Creating-training-and-testing-datasets)\n",
    "* [PARTIAL LEAST SQUARE](#PARTIAL-LEAST-SQUARE)\n",
    "    * [Training (GridSearch)](#Training-(GridSearch))\n",
    "    * [Testing](#Testing)\n",
    "* [RIDGE REGRESSION](#RIDGE-REGRESSION)\n",
    "    * [Training (GridSearch)](#Training-(GridSearch))\n",
    "    * [Testing](#Testing)\n",
    "* [NEURAL NETWORK](#NEURAL-NETWORK)\n",
    "    * [Data pre-processing](#Data-pre-processing)\n",
    "    * [Training (GridSearch)](#Training-(GridSearch))\n",
    "    * [Testing](#Testing)\n",
    "***"
   ]
  },
  {
   "cell_type": "markdown",
   "id": "74b55a4e",
   "metadata": {
    "tags": []
   },
   "source": [
    "## READING THE DATASET INTO PYTHON"
   ]
  },
  {
   "cell_type": "code",
   "execution_count": 56,
   "id": "1e13ef95",
   "metadata": {},
   "outputs": [],
   "source": [
    "import pandas as pd\n",
    "import numpy as np\n",
    "import warnings\n",
    "# warnings.filterwarnings('ignore')\n",
    "df = pd.read_excel('Datasets/Lucas/dados_nirs_lucas.xlsx')"
   ]
  },
  {
   "cell_type": "markdown",
   "id": "62817c1d",
   "metadata": {
    "tags": []
   },
   "source": [
    "## DATA EDITING"
   ]
  },
  {
   "cell_type": "code",
   "execution_count": 57,
   "id": "bb24da99-9787-4415-bb5d-46b843c3111c",
   "metadata": {},
   "outputs": [],
   "source": [
    "# Transform all feautere names to string\n",
    "df.columns = df.columns.map(str)"
   ]
  },
  {
   "cell_type": "markdown",
   "id": "003f2694",
   "metadata": {
    "tags": []
   },
   "source": [
    "## Creating training and testing datasets"
   ]
  },
  {
   "cell_type": "code",
   "execution_count": 58,
   "id": "e3f75d6f-d8bf-4465-8bfe-68f5fc26bc94",
   "metadata": {},
   "outputs": [],
   "source": [
    "corrs_cd_fdn = df.corr(method='pearson').loc[:, 'CD FDN'].sort_values(ascending=False)"
   ]
  },
  {
   "cell_type": "code",
   "execution_count": null,
   "id": "5c8f7eb8-2cad-4682-8e7b-1d77564eb6df",
   "metadata": {},
   "outputs": [],
   "source": [
    "corrs_cd_fdn[:30]"
   ]
  },
  {
   "cell_type": "code",
   "execution_count": 71,
   "id": "c232a81b",
   "metadata": {},
   "outputs": [],
   "source": [
    "# Select all NIRS data as x\n",
    "x = df.loc[:,'12493.238':]"
   ]
  },
  {
   "cell_type": "code",
   "execution_count": 60,
   "id": "0e38d817-ac8a-4b0d-a8a3-ada845fa876e",
   "metadata": {},
   "outputs": [],
   "source": [
    "x = df.loc[:, ['3606.415', '3602.558', '3737.557']]"
   ]
  },
  {
   "cell_type": "code",
   "execution_count": 72,
   "id": "be349d78-2220-4f4b-b323-d45c3983c19f",
   "metadata": {},
   "outputs": [],
   "source": [
    "# Add Categoria feature\n",
    "x = x.join(df.loc[:,['Categoria']])\n",
    "\n",
    "# One-Hot Encode categorical features\n",
    "x = pd.get_dummies(x, drop_first=False)"
   ]
  },
  {
   "cell_type": "code",
   "execution_count": 73,
   "id": "c190ba82-d977-46d8-ae25-a1e5e47e3c90",
   "metadata": {},
   "outputs": [
    {
     "name": "stdout",
     "output_type": "stream",
     "text": [
      "['Animal', 'Coleta', 'Aluno', 'Experimento', 'Categoria', 'Dieta', 'Status fisiologico', 'Peso corporal kg', 'Consumo MS kg/dia', 'Consumo MO kg/dia', 'Consumo PB kg/dia', 'Consumo FDN kg/dia', 'Consumo EE kg/dia', 'Consumo CNF kg/dia', 'Consumo de FDNi kg/dia', 'Fezes MS kg/dia', 'Fezes MO kg/dia', 'Fezes PB kg/dia', 'Fezes FDN kg/dia', 'Fezes EE kg/dia', 'Fezes CNF kg/dia', 'TD MO', 'TD PB', 'TD FDN', 'TD EE', 'TD CNF', 'TF MO', 'TF PB', 'TF FDN', 'TF EE', 'TF CNF', 'TF FDNpd', 'CD MS', 'CD MO', 'CD PB', 'CD FDN', 'CD EE', 'CD CNF']\n"
     ]
    }
   ],
   "source": [
    "# Non NIRS features\n",
    "print(df.loc[:,:'CD CNF'].columns.tolist())"
   ]
  },
  {
   "cell_type": "code",
   "execution_count": 74,
   "id": "e6a41e7e",
   "metadata": {},
   "outputs": [],
   "source": [
    "# Response variable vector\n",
    "y = df['CD FDN']"
   ]
  },
  {
   "cell_type": "code",
   "execution_count": 75,
   "id": "f223bce9",
   "metadata": {},
   "outputs": [
    {
     "name": "stdout",
     "output_type": "stream",
     "text": [
      "N. samples training 186 , N. samples testing 81\n"
     ]
    }
   ],
   "source": [
    "# Split the data set into training (70%) and testing (30%)\n",
    "from sklearn.model_selection import train_test_split\n",
    "x_train, x_test, y_train, y_test = train_test_split(x, y, test_size=0.30, shuffle=True, random_state=40)\n",
    "print(\"N. samples training %s , N. samples testing %s\" % (x_train.shape[0], x_test.shape[0]))"
   ]
  },
  {
   "cell_type": "markdown",
   "id": "43d0e132-08ae-4413-948a-ae685ba49419",
   "metadata": {
    "tags": []
   },
   "source": [
    "## FUNCTIONS"
   ]
  },
  {
   "cell_type": "code",
   "execution_count": 66,
   "id": "bdc67a9a-7fe0-4fea-afe2-eddccc67b451",
   "metadata": {},
   "outputs": [],
   "source": [
    "def evalute_model(model_test_preds, y_test, model_train_preds=None, y_train=None):\n",
    "    from sklearn.metrics import mean_squared_error, mean_absolute_error, r2_score\n",
    "    if (model_train_preds.any()):\n",
    "        return pd.DataFrame({\n",
    "            'R2': [r2_score(y_test, model_test_preds), r2_score(y_train, model_train_preds)], \n",
    "            'MAE':[mean_absolute_error(y_test, model_test_preds), mean_absolute_error(y_train, model_train_preds)],\n",
    "            'RMSE': [mean_squared_error(y_test, model_test_preds, squared=False), mean_squared_error(y_train, model_train_preds, squared=False)]}, index=['Teste', 'Treino'])\n",
    "    else:\n",
    "        return pd.DataFrame({\n",
    "            'R2': [r2_score(y_test, model_test_preds)], \n",
    "            'MAE':[mean_absolute_error(y_test, model_test_preds)],\n",
    "            'RMSE': [mean_squared_error(y_test, model_test_preds, squared=False)]}, index=['Teste'])"
   ]
  },
  {
   "cell_type": "code",
   "execution_count": 67,
   "id": "a924ed91-2b8d-4df1-9ba2-5a578f8f8e29",
   "metadata": {},
   "outputs": [],
   "source": [
    "def plot_graphical_analysis(y_test, preds, model):\n",
    "    import seaborn as sns\n",
    "    import matplotlib.pyplot as plt\n",
    "    %matplotlib inline\n",
    "    # Dispersion plot\n",
    "    plt.figure(figsize=(12,6))\n",
    "    plt.title(\"Dipersão dos dados reais vs predições usando \" + type(model).__name__)\n",
    "    sns.scatterplot(x=y_test.index, y=y_test, label=\"Real\")\n",
    "    sns.scatterplot(x=y_test.index, y=preds, label=\"Predito\")\n",
    "    plt.figure(figsize=(12,6))\n",
    "    plt.title(\"Real vs Predito usando \" + type(model).__name__)\n",
    "    # Regression plot\n",
    "    sns.regplot(x=y_test, y=preds)\n",
    "    plt.xlabel(\"Real\")\n",
    "    plt.ylabel(\"Predito\")\n",
    "    plt.legend([\"Ponto\",\"R² = \" + str(\"%.2f\"%r2_score(y_test, preds))])"
   ]
  },
  {
   "cell_type": "markdown",
   "id": "120cf0f2",
   "metadata": {
    "tags": []
   },
   "source": [
    "# PARTIAL LEAST SQUARE"
   ]
  },
  {
   "cell_type": "markdown",
   "id": "7160c6f9",
   "metadata": {},
   "source": [
    "##  Training (GridSearch)"
   ]
  },
  {
   "cell_type": "code",
   "execution_count": 10,
   "id": "5433598d",
   "metadata": {},
   "outputs": [
    {
     "data": {
      "text/plain": [
       "GridSearchCV(cv=3, estimator=PLSRegression(),\n",
       "             param_grid={'n_components': [1, 3, 5]},\n",
       "             refit='neg_root_mean_squared_error', return_train_score=True,\n",
       "             scoring=('r2', 'neg_mean_absolute_error',\n",
       "                      'neg_root_mean_squared_error'))"
      ]
     },
     "execution_count": 10,
     "metadata": {},
     "output_type": "execute_result"
    }
   ],
   "source": [
    "# GridSearch using k-fold cross-validation\n",
    "from sklearn.cross_decomposition import PLSRegression\n",
    "from sklearn.model_selection import GridSearchCV\n",
    "nfolds = 3\n",
    "metrics = ('r2', 'neg_mean_absolute_error', 'neg_root_mean_squared_error')\n",
    "parameters = {'n_components':[1, 3, 5]}\n",
    "pls = PLSRegression()\n",
    "pls = GridSearchCV(pls, parameters, scoring=metrics, cv=nfolds, refit = metrics[2], return_train_score = True)\n",
    "pls.fit(x_train, y_train)"
   ]
  },
  {
   "cell_type": "code",
   "execution_count": 11,
   "id": "6ec7cdbd",
   "metadata": {},
   "outputs": [
    {
     "data": {
      "text/html": [
       "<div>\n",
       "<style scoped>\n",
       "    .dataframe tbody tr th:only-of-type {\n",
       "        vertical-align: middle;\n",
       "    }\n",
       "\n",
       "    .dataframe tbody tr th {\n",
       "        vertical-align: top;\n",
       "    }\n",
       "\n",
       "    .dataframe thead th {\n",
       "        text-align: right;\n",
       "    }\n",
       "</style>\n",
       "<table border=\"1\" class=\"dataframe\">\n",
       "  <thead>\n",
       "    <tr style=\"text-align: right;\">\n",
       "      <th></th>\n",
       "      <th>N. Components</th>\n",
       "      <th>R2</th>\n",
       "      <th>MAE</th>\n",
       "      <th>RMSE</th>\n",
       "    </tr>\n",
       "  </thead>\n",
       "  <tbody>\n",
       "    <tr>\n",
       "      <th>0</th>\n",
       "      <td>1</td>\n",
       "      <td>-0.017726</td>\n",
       "      <td>10.001146</td>\n",
       "      <td>12.740323</td>\n",
       "    </tr>\n",
       "    <tr>\n",
       "      <th>1</th>\n",
       "      <td>3</td>\n",
       "      <td>0.023302</td>\n",
       "      <td>9.327968</td>\n",
       "      <td>12.493303</td>\n",
       "    </tr>\n",
       "    <tr>\n",
       "      <th>2</th>\n",
       "      <td>5</td>\n",
       "      <td>0.023212</td>\n",
       "      <td>9.478155</td>\n",
       "      <td>12.467623</td>\n",
       "    </tr>\n",
       "  </tbody>\n",
       "</table>\n",
       "</div>"
      ],
      "text/plain": [
       "  N. Components        R2        MAE       RMSE\n",
       "0             1 -0.017726  10.001146  12.740323\n",
       "1             3  0.023302   9.327968  12.493303\n",
       "2             5  0.023212   9.478155  12.467623"
      ]
     },
     "execution_count": 11,
     "metadata": {},
     "output_type": "execute_result"
    }
   ],
   "source": [
    "# Matrics - training\n",
    "pd.DataFrame({'N. Components': pls.cv_results_[\"param_n_components\"], \n",
    "              'R2': pls.cv_results_[\"mean_test_r2\"], \n",
    "              'MAE': abs(pls.cv_results_['mean_test_neg_mean_absolute_error']),\n",
    "              'RMSE': abs(pls.cv_results_['mean_test_neg_root_mean_squared_error'])})"
   ]
  },
  {
   "cell_type": "markdown",
   "id": "2201d717",
   "metadata": {},
   "source": [
    "## Testing"
   ]
  },
  {
   "cell_type": "code",
   "execution_count": 12,
   "id": "3dff4142",
   "metadata": {},
   "outputs": [
    {
     "name": "stdout",
     "output_type": "stream",
     "text": [
      "Best N. Components: 5, RMSE: 12.467623\n"
     ]
    }
   ],
   "source": [
    "# Print best number of components and RMSE, and testing the best model using the test set\n",
    "print(\"Best N. Components: %s, RMSE: %.6f\" % (pls.best_params_['n_components'], abs(pls.best_score_)))\n",
    "ypred = pls.best_estimator_.predict(x_test)"
   ]
  },
  {
   "cell_type": "code",
   "execution_count": 13,
   "id": "9360095c",
   "metadata": {},
   "outputs": [
    {
     "data": {
      "text/plain": [
       "[<matplotlib.lines.Line2D at 0x7fe2a6dbafd0>]"
      ]
     },
     "execution_count": 13,
     "metadata": {},
     "output_type": "execute_result"
    },
    {
     "data": {
      "image/png": "[encoded data removed]",
      "text/plain": [
       "<Figure size 432x288 with 1 Axes>"
      ]
     },
     "metadata": {
      "needs_background": "light"
     },
     "output_type": "display_data"
    }
   ],
   "source": [
    "# Scatter plot - predicted and observed\n",
    "import matplotlib.pyplot as plt\n",
    "import numpy as np\n",
    "ypred = np.ravel(ypred)\n",
    "plt.plot(ypred, y_test, 'o')\n",
    "m, b = np.polyfit(ypred, y_test, 1)\n",
    "plt.plot(ypred, m*ypred + b)"
   ]
  },
  {
   "cell_type": "code",
   "execution_count": 14,
   "id": "240cb02f",
   "metadata": {},
   "outputs": [
    {
     "data": {
      "text/html": [
       "<div>\n",
       "<style scoped>\n",
       "    .dataframe tbody tr th:only-of-type {\n",
       "        vertical-align: middle;\n",
       "    }\n",
       "\n",
       "    .dataframe tbody tr th {\n",
       "        vertical-align: top;\n",
       "    }\n",
       "\n",
       "    .dataframe thead th {\n",
       "        text-align: right;\n",
       "    }\n",
       "</style>\n",
       "<table border=\"1\" class=\"dataframe\">\n",
       "  <thead>\n",
       "    <tr style=\"text-align: right;\">\n",
       "      <th></th>\n",
       "      <th>N. Components</th>\n",
       "      <th>R2</th>\n",
       "      <th>MAE</th>\n",
       "      <th>RMSE</th>\n",
       "    </tr>\n",
       "  </thead>\n",
       "  <tbody>\n",
       "    <tr>\n",
       "      <th>0</th>\n",
       "      <td>5</td>\n",
       "      <td>0.016992</td>\n",
       "      <td>9.118393</td>\n",
       "      <td>12.251281</td>\n",
       "    </tr>\n",
       "  </tbody>\n",
       "</table>\n",
       "</div>"
      ],
      "text/plain": [
       "   N. Components        R2       MAE       RMSE\n",
       "0              5  0.016992  9.118393  12.251281"
      ]
     },
     "execution_count": 14,
     "metadata": {},
     "output_type": "execute_result"
    }
   ],
   "source": [
    "# Metrics - testing\n",
    "from sklearn.metrics import *\n",
    "\n",
    "pd.DataFrame({'N. Components': [pls.best_params_['n_components']], \n",
    "              'R2': r2_score(y_test, ypred), \n",
    "              'MAE': [mean_absolute_error(y_test, ypred)],\n",
    "              'RMSE': [mean_squared_error(y_test, ypred, squared=False)]})"
   ]
  },
  {
   "cell_type": "markdown",
   "id": "3455bcc7-2349-4dd7-91b2-4d2a48182ae2",
   "metadata": {
    "tags": []
   },
   "source": [
    "# SUPPORT VECTOR MACHINE"
   ]
  },
  {
   "cell_type": "markdown",
   "id": "9962a4e3-2721-4cf5-821a-d2a5a16f9d73",
   "metadata": {},
   "source": [
    "##  Training (GridSearch)"
   ]
  },
  {
   "cell_type": "code",
   "execution_count": 76,
   "id": "4c9daa1d-1f22-4d4c-aa5c-a4f32acb4d35",
   "metadata": {},
   "outputs": [
    {
     "data": {
      "text/plain": [
       "GridSearchCV(cv=3,\n",
       "             estimator=Pipeline(steps=[('scaler', StandardScaler()),\n",
       "                                       ('svr', SVR())]),\n",
       "             n_jobs=-1, param_grid=[{'svr__cache_size': [0.3, 0.5, 1.0]}],\n",
       "             refit='neg_root_mean_squared_error', return_train_score=True,\n",
       "             scoring=('r2', 'neg_mean_absolute_error',\n",
       "                      'neg_root_mean_squared_error'))"
      ]
     },
     "execution_count": 76,
     "metadata": {},
     "output_type": "execute_result"
    }
   ],
   "source": [
    "# GridSearch using k-fold cross-validation\n",
    "from sklearn.svm import SVR\n",
    "from sklearn.model_selection import GridSearchCV\n",
    "from sklearn.pipeline import Pipeline\n",
    "from sklearn.preprocessing import StandardScaler\n",
    "import numpy as np\n",
    "\n",
    "# Define a Standard Scaler to normalize inputs\n",
    "scaler = StandardScaler()\n",
    "\n",
    "svr_model = SVR()\n",
    "svr_model = Pipeline(steps=[(\"scaler\", scaler), (\"svr\", svr_model)])\n",
    "\n",
    "nfolds = 3\n",
    "param_grid = [\n",
    "    {\n",
    "        \"svr__cache_size\": [0.3, 0.5, 1.0],\n",
    "        #\"svr__kernel\" : ['poly', 'sigmoid', 'linear']\n",
    "    }\n",
    "]\n",
    "metrics = ('r2', 'neg_mean_absolute_error', 'neg_root_mean_squared_error')\n",
    "svr_model = GridSearchCV(svr_model, param_grid, scoring=metrics, cv=nfolds, refit = metrics[2], return_train_score = True, n_jobs=-1)\n",
    "svr_model.fit(x_train, np.ravel(y_train))"
   ]
  },
  {
   "cell_type": "code",
   "execution_count": 77,
   "id": "63001642-715c-479d-87b7-c27f8bb3fc91",
   "metadata": {},
   "outputs": [
    {
     "data": {
      "text/html": [
       "<div>\n",
       "<style scoped>\n",
       "    .dataframe tbody tr th:only-of-type {\n",
       "        vertical-align: middle;\n",
       "    }\n",
       "\n",
       "    .dataframe tbody tr th {\n",
       "        vertical-align: top;\n",
       "    }\n",
       "\n",
       "    .dataframe thead th {\n",
       "        text-align: right;\n",
       "    }\n",
       "</style>\n",
       "<table border=\"1\" class=\"dataframe\">\n",
       "  <thead>\n",
       "    <tr style=\"text-align: right;\">\n",
       "      <th></th>\n",
       "      <th>Cache</th>\n",
       "      <th>R2</th>\n",
       "      <th>MAE</th>\n",
       "      <th>RMSE</th>\n",
       "    </tr>\n",
       "  </thead>\n",
       "  <tbody>\n",
       "    <tr>\n",
       "      <th>0</th>\n",
       "      <td>0.3</td>\n",
       "      <td>-0.019999</td>\n",
       "      <td>9.758044</td>\n",
       "      <td>12.758195</td>\n",
       "    </tr>\n",
       "    <tr>\n",
       "      <th>1</th>\n",
       "      <td>0.5</td>\n",
       "      <td>-0.019999</td>\n",
       "      <td>9.758044</td>\n",
       "      <td>12.758195</td>\n",
       "    </tr>\n",
       "    <tr>\n",
       "      <th>2</th>\n",
       "      <td>1.0</td>\n",
       "      <td>-0.019999</td>\n",
       "      <td>9.758044</td>\n",
       "      <td>12.758195</td>\n",
       "    </tr>\n",
       "  </tbody>\n",
       "</table>\n",
       "</div>"
      ],
      "text/plain": [
       "  Cache        R2       MAE       RMSE\n",
       "0   0.3 -0.019999  9.758044  12.758195\n",
       "1   0.5 -0.019999  9.758044  12.758195\n",
       "2   1.0 -0.019999  9.758044  12.758195"
      ]
     },
     "execution_count": 77,
     "metadata": {},
     "output_type": "execute_result"
    }
   ],
   "source": [
    "# Matrics - training\n",
    "pd.DataFrame({'Cache': svr_model.cv_results_[\"param_svr__cache_size\"], \n",
    "              'R2': svr_model.cv_results_[\"mean_test_r2\"], \n",
    "              'MAE': abs(svr_model.cv_results_['mean_test_neg_mean_absolute_error']),\n",
    "              'RMSE': abs(svr_model.cv_results_['mean_test_neg_root_mean_squared_error'])})"
   ]
  },
  {
   "cell_type": "markdown",
   "id": "83540e01-bc23-401a-86e8-4f6055d9482d",
   "metadata": {},
   "source": [
    "## Testing"
   ]
  },
  {
   "cell_type": "code",
   "execution_count": 78,
   "id": "dfc99c0b-6c06-4911-8f61-3577a81037fd",
   "metadata": {},
   "outputs": [
    {
     "name": "stdout",
     "output_type": "stream",
     "text": [
      "Best cache size: 0.3 MB, RMSE: 12.758195\n"
     ]
    }
   ],
   "source": [
    "# Print best number of components and RMSE, and testing the best model using the test set\n",
    "print(\"Best cache size: %s MB, RMSE: %.6f\" % (svr_model.best_params_['svr__cache_size'], abs(svr_model.best_score_)))\n",
    "ypred = svr_model.best_estimator_.predict(x_test)"
   ]
  },
  {
   "cell_type": "code",
   "execution_count": 79,
   "id": "e25b2dc4-69a5-4fac-b7fc-c95e54c776af",
   "metadata": {},
   "outputs": [
    {
     "data": {
      "text/plain": [
       "[<matplotlib.lines.Line2D at 0x7f93d2fd9370>]"
      ]
     },
     "execution_count": 79,
     "metadata": {},
     "output_type": "execute_result"
    },
    {
     "data": {
      "image/png": "[encoded data removed]",
      "text/plain": [
       "<Figure size 576x396 with 1 Axes>"
      ]
     },
     "metadata": {},
     "output_type": "display_data"
    }
   ],
   "source": [
    "# Scatter plot - predicted and observed\n",
    "import matplotlib.pyplot as plt\n",
    "import numpy as np\n",
    "ypred = np.ravel(ypred)\n",
    "plt.plot(ypred, y_test, 'o')\n",
    "m, b = np.polyfit(ypred, y_test, 1)\n",
    "plt.plot(ypred, m*ypred + b)"
   ]
  },
  {
   "cell_type": "code",
   "execution_count": 80,
   "id": "0576f828-e8d1-4824-869e-572d04d31867",
   "metadata": {},
   "outputs": [
    {
     "data": {
      "text/html": [
       "<div>\n",
       "<style scoped>\n",
       "    .dataframe tbody tr th:only-of-type {\n",
       "        vertical-align: middle;\n",
       "    }\n",
       "\n",
       "    .dataframe tbody tr th {\n",
       "        vertical-align: top;\n",
       "    }\n",
       "\n",
       "    .dataframe thead th {\n",
       "        text-align: right;\n",
       "    }\n",
       "</style>\n",
       "<table border=\"1\" class=\"dataframe\">\n",
       "  <thead>\n",
       "    <tr style=\"text-align: right;\">\n",
       "      <th></th>\n",
       "      <th>N. Components</th>\n",
       "      <th>R2</th>\n",
       "      <th>MAE</th>\n",
       "      <th>RMSE</th>\n",
       "    </tr>\n",
       "  </thead>\n",
       "  <tbody>\n",
       "    <tr>\n",
       "      <th>0</th>\n",
       "      <td>0.3</td>\n",
       "      <td>-0.014555</td>\n",
       "      <td>9.788466</td>\n",
       "      <td>12.446318</td>\n",
       "    </tr>\n",
       "  </tbody>\n",
       "</table>\n",
       "</div>"
      ],
      "text/plain": [
       "   N. Components        R2       MAE       RMSE\n",
       "0            0.3 -0.014555  9.788466  12.446318"
      ]
     },
     "execution_count": 80,
     "metadata": {},
     "output_type": "execute_result"
    }
   ],
   "source": [
    "# Metrics - testing\n",
    "from sklearn.metrics import *\n",
    "\n",
    "pd.DataFrame({'N. Components': [svr_model.best_params_['svr__cache_size']], \n",
    "              'R2': r2_score(y_test, ypred), \n",
    "              'MAE': [mean_absolute_error(y_test, ypred)],\n",
    "              'RMSE': [mean_squared_error(y_test, ypred, squared=False)]})"
   ]
  },
  {
   "cell_type": "markdown",
   "id": "e0012d3d-ce5f-45b3-95f0-fd559807a01d",
   "metadata": {},
   "source": [
    "## Permutation Importance"
   ]
  },
  {
   "cell_type": "code",
   "execution_count": 81,
   "id": "eca8cbdc-c5df-4015-9bc0-a6d91a879474",
   "metadata": {},
   "outputs": [
    {
     "data": {
      "text/html": [
       "\n",
       "    <style>\n",
       "    table.eli5-weights tr:hover {\n",
       "        filter: brightness(85%);\n",
       "    }\n",
       "</style>\n",
       "\n",
       "\n",
       "\n",
       "    \n",
       "\n",
       "    \n",
       "\n",
       "    \n",
       "\n",
       "    \n",
       "\n",
       "    \n",
       "\n",
       "    \n",
       "\n",
       "\n",
       "    \n",
       "\n",
       "    \n",
       "\n",
       "    \n",
       "\n",
       "    \n",
       "\n",
       "    \n",
       "\n",
       "    \n",
       "\n",
       "\n",
       "    \n",
       "\n",
       "    \n",
       "\n",
       "    \n",
       "\n",
       "    \n",
       "\n",
       "    \n",
       "        <table class=\"eli5-weights eli5-feature-importances\" style=\"border-collapse: collapse; border: none; margin-top: 0em; table-layout: auto;\">\n",
       "    <thead>\n",
       "    <tr style=\"border: none;\">\n",
       "        <th style=\"padding: 0 1em 0 0.5em; text-align: right; border: none;\">Weight</th>\n",
       "        <th style=\"padding: 0 0.5em 0 0.5em; text-align: left; border: none;\">Feature</th>\n",
       "    </tr>\n",
       "    </thead>\n",
       "    <tbody>\n",
       "    \n",
       "        <tr style=\"background-color: hsl(120, 100.00%, 80.00%); border: none;\">\n",
       "            <td style=\"padding: 0 1em 0 0.5em; text-align: right; border: none;\">\n",
       "                0.0141\n",
       "                \n",
       "                    &plusmn; 0.0101\n",
       "                \n",
       "            </td>\n",
       "            <td style=\"padding: 0 0.5em 0 0.5em; text-align: left; border: none;\">\n",
       "                Categoria_Novilha\n",
       "            </td>\n",
       "        </tr>\n",
       "    \n",
       "        <tr style=\"background-color: hsl(120, 100.00%, 82.66%); border: none;\">\n",
       "            <td style=\"padding: 0 1em 0 0.5em; text-align: right; border: none;\">\n",
       "                0.0115\n",
       "                \n",
       "                    &plusmn; 0.0042\n",
       "                \n",
       "            </td>\n",
       "            <td style=\"padding: 0 0.5em 0 0.5em; text-align: left; border: none;\">\n",
       "                Categoria_Vaca\n",
       "            </td>\n",
       "        </tr>\n",
       "    \n",
       "        <tr style=\"background-color: hsl(120, 100.00%, 88.62%); border: none;\">\n",
       "            <td style=\"padding: 0 1em 0 0.5em; text-align: right; border: none;\">\n",
       "                0.0063\n",
       "                \n",
       "                    &plusmn; 0.0053\n",
       "                \n",
       "            </td>\n",
       "            <td style=\"padding: 0 0.5em 0 0.5em; text-align: left; border: none;\">\n",
       "                3602.558\n",
       "            </td>\n",
       "        </tr>\n",
       "    \n",
       "        <tr style=\"background-color: hsl(120, 100.00%, 89.12%); border: none;\">\n",
       "            <td style=\"padding: 0 1em 0 0.5em; text-align: right; border: none;\">\n",
       "                0.0059\n",
       "                \n",
       "                    &plusmn; 0.0038\n",
       "                \n",
       "            </td>\n",
       "            <td style=\"padding: 0 0.5em 0 0.5em; text-align: left; border: none;\">\n",
       "                3606.415\n",
       "            </td>\n",
       "        </tr>\n",
       "    \n",
       "        <tr style=\"background-color: hsl(120, 100.00%, 89.41%); border: none;\">\n",
       "            <td style=\"padding: 0 1em 0 0.5em; text-align: right; border: none;\">\n",
       "                0.0057\n",
       "                \n",
       "                    &plusmn; 0.0025\n",
       "                \n",
       "            </td>\n",
       "            <td style=\"padding: 0 0.5em 0 0.5em; text-align: left; border: none;\">\n",
       "                3610.272\n",
       "            </td>\n",
       "        </tr>\n",
       "    \n",
       "        <tr style=\"background-color: hsl(120, 100.00%, 90.21%); border: none;\">\n",
       "            <td style=\"padding: 0 1em 0 0.5em; text-align: right; border: none;\">\n",
       "                0.0051\n",
       "                \n",
       "                    &plusmn; 0.0041\n",
       "                \n",
       "            </td>\n",
       "            <td style=\"padding: 0 0.5em 0 0.5em; text-align: left; border: none;\">\n",
       "                3614.129\n",
       "            </td>\n",
       "        </tr>\n",
       "    \n",
       "        <tr style=\"background-color: hsl(120, 100.00%, 90.31%); border: none;\">\n",
       "            <td style=\"padding: 0 1em 0 0.5em; text-align: right; border: none;\">\n",
       "                0.0050\n",
       "                \n",
       "                    &plusmn; 0.0050\n",
       "                \n",
       "            </td>\n",
       "            <td style=\"padding: 0 0.5em 0 0.5em; text-align: left; border: none;\">\n",
       "                3617.986\n",
       "            </td>\n",
       "        </tr>\n",
       "    \n",
       "        <tr style=\"background-color: hsl(120, 100.00%, 93.69%); border: none;\">\n",
       "            <td style=\"padding: 0 1em 0 0.5em; text-align: right; border: none;\">\n",
       "                0.0027\n",
       "                \n",
       "                    &plusmn; 0.0037\n",
       "                \n",
       "            </td>\n",
       "            <td style=\"padding: 0 0.5em 0 0.5em; text-align: left; border: none;\">\n",
       "                3783.843\n",
       "            </td>\n",
       "        </tr>\n",
       "    \n",
       "        <tr style=\"background-color: hsl(120, 100.00%, 93.81%); border: none;\">\n",
       "            <td style=\"padding: 0 1em 0 0.5em; text-align: right; border: none;\">\n",
       "                0.0026\n",
       "                \n",
       "                    &plusmn; 0.0019\n",
       "                \n",
       "            </td>\n",
       "            <td style=\"padding: 0 0.5em 0 0.5em; text-align: left; border: none;\">\n",
       "                3833.985\n",
       "            </td>\n",
       "        </tr>\n",
       "    \n",
       "        <tr style=\"background-color: hsl(120, 100.00%, 93.83%); border: none;\">\n",
       "            <td style=\"padding: 0 1em 0 0.5em; text-align: right; border: none;\">\n",
       "                0.0026\n",
       "                \n",
       "                    &plusmn; 0.0015\n",
       "                \n",
       "            </td>\n",
       "            <td style=\"padding: 0 0.5em 0 0.5em; text-align: left; border: none;\">\n",
       "                3598.7\n",
       "            </td>\n",
       "        </tr>\n",
       "    \n",
       "        <tr style=\"background-color: hsl(120, 100.00%, 93.93%); border: none;\">\n",
       "            <td style=\"padding: 0 1em 0 0.5em; text-align: right; border: none;\">\n",
       "                0.0026\n",
       "                \n",
       "                    &plusmn; 0.0017\n",
       "                \n",
       "            </td>\n",
       "            <td style=\"padding: 0 0.5em 0 0.5em; text-align: left; border: none;\">\n",
       "                3779.985\n",
       "            </td>\n",
       "        </tr>\n",
       "    \n",
       "        <tr style=\"background-color: hsl(120, 100.00%, 94.28%); border: none;\">\n",
       "            <td style=\"padding: 0 1em 0 0.5em; text-align: right; border: none;\">\n",
       "                0.0024\n",
       "                \n",
       "                    &plusmn; 0.0019\n",
       "                \n",
       "            </td>\n",
       "            <td style=\"padding: 0 0.5em 0 0.5em; text-align: left; border: none;\">\n",
       "                3837.842\n",
       "            </td>\n",
       "        </tr>\n",
       "    \n",
       "        <tr style=\"background-color: hsl(120, 100.00%, 94.75%); border: none;\">\n",
       "            <td style=\"padding: 0 1em 0 0.5em; text-align: right; border: none;\">\n",
       "                0.0021\n",
       "                \n",
       "                    &plusmn; 0.0013\n",
       "                \n",
       "            </td>\n",
       "            <td style=\"padding: 0 0.5em 0 0.5em; text-align: left; border: none;\">\n",
       "                3752.986\n",
       "            </td>\n",
       "        </tr>\n",
       "    \n",
       "        <tr style=\"background-color: hsl(120, 100.00%, 94.94%); border: none;\">\n",
       "            <td style=\"padding: 0 1em 0 0.5em; text-align: right; border: none;\">\n",
       "                0.0020\n",
       "                \n",
       "                    &plusmn; 0.0006\n",
       "                \n",
       "            </td>\n",
       "            <td style=\"padding: 0 0.5em 0 0.5em; text-align: left; border: none;\">\n",
       "                3914.985\n",
       "            </td>\n",
       "        </tr>\n",
       "    \n",
       "        <tr style=\"background-color: hsl(120, 100.00%, 95.02%); border: none;\">\n",
       "            <td style=\"padding: 0 1em 0 0.5em; text-align: right; border: none;\">\n",
       "                0.0019\n",
       "                \n",
       "                    &plusmn; 0.0007\n",
       "                \n",
       "            </td>\n",
       "            <td style=\"padding: 0 0.5em 0 0.5em; text-align: left; border: none;\">\n",
       "                3656.557\n",
       "            </td>\n",
       "        </tr>\n",
       "    \n",
       "        <tr style=\"background-color: hsl(120, 100.00%, 95.16%); border: none;\">\n",
       "            <td style=\"padding: 0 1em 0 0.5em; text-align: right; border: none;\">\n",
       "                0.0019\n",
       "                \n",
       "                    &plusmn; 0.0018\n",
       "                \n",
       "            </td>\n",
       "            <td style=\"padding: 0 0.5em 0 0.5em; text-align: left; border: none;\">\n",
       "                3787.7\n",
       "            </td>\n",
       "        </tr>\n",
       "    \n",
       "        <tr style=\"background-color: hsl(120, 100.00%, 95.19%); border: none;\">\n",
       "            <td style=\"padding: 0 1em 0 0.5em; text-align: right; border: none;\">\n",
       "                0.0018\n",
       "                \n",
       "                    &plusmn; 0.0020\n",
       "                \n",
       "            </td>\n",
       "            <td style=\"padding: 0 0.5em 0 0.5em; text-align: left; border: none;\">\n",
       "                3737.557\n",
       "            </td>\n",
       "        </tr>\n",
       "    \n",
       "        <tr style=\"background-color: hsl(120, 100.00%, 95.44%); border: none;\">\n",
       "            <td style=\"padding: 0 1em 0 0.5em; text-align: right; border: none;\">\n",
       "                0.0017\n",
       "                \n",
       "                    &plusmn; 0.0006\n",
       "                \n",
       "            </td>\n",
       "            <td style=\"padding: 0 0.5em 0 0.5em; text-align: left; border: none;\">\n",
       "                3718.271\n",
       "            </td>\n",
       "        </tr>\n",
       "    \n",
       "        <tr style=\"background-color: hsl(120, 100.00%, 95.49%); border: none;\">\n",
       "            <td style=\"padding: 0 1em 0 0.5em; text-align: right; border: none;\">\n",
       "                0.0017\n",
       "                \n",
       "                    &plusmn; 0.0023\n",
       "                \n",
       "            </td>\n",
       "            <td style=\"padding: 0 0.5em 0 0.5em; text-align: left; border: none;\">\n",
       "                3830.128\n",
       "            </td>\n",
       "        </tr>\n",
       "    \n",
       "        <tr style=\"background-color: hsl(120, 100.00%, 95.76%); border: none;\">\n",
       "            <td style=\"padding: 0 1em 0 0.5em; text-align: right; border: none;\">\n",
       "                0.0015\n",
       "                \n",
       "                    &plusmn; 0.0015\n",
       "                \n",
       "            </td>\n",
       "            <td style=\"padding: 0 0.5em 0 0.5em; text-align: left; border: none;\">\n",
       "                3683.557\n",
       "            </td>\n",
       "        </tr>\n",
       "    \n",
       "    \n",
       "        \n",
       "            <tr style=\"background-color: hsl(120, 100.00%, 95.76%); border: none;\">\n",
       "                <td colspan=\"2\" style=\"padding: 0 0.5em 0 0.5em; text-align: center; border: none; white-space: nowrap;\">\n",
       "                    <i>&hellip; 2289 more &hellip;</i>\n",
       "                </td>\n",
       "            </tr>\n",
       "        \n",
       "    \n",
       "    </tbody>\n",
       "</table>\n",
       "    \n",
       "\n",
       "    \n",
       "\n",
       "\n",
       "    \n",
       "\n",
       "    \n",
       "\n",
       "    \n",
       "\n",
       "    \n",
       "\n",
       "    \n",
       "\n",
       "    \n",
       "\n",
       "\n",
       "\n"
      ],
      "text/plain": [
       "<IPython.core.display.HTML object>"
      ]
     },
     "execution_count": 81,
     "metadata": {},
     "output_type": "execute_result"
    }
   ],
   "source": [
    "import eli5\n",
    "from eli5.sklearn import PermutationImportance\n",
    "\n",
    "perm = PermutationImportance(svr_model, random_state=1).fit(x_test, y_test)\n",
    "eli5.show_weights(perm, feature_names = x_test.columns.tolist())"
   ]
  },
  {
   "cell_type": "markdown",
   "id": "ba175561-068b-42dc-b992-910fb29dfbfc",
   "metadata": {
    "tags": []
   },
   "source": [
    "# K-NEAREST NEIGHBORS"
   ]
  },
  {
   "cell_type": "code",
   "execution_count": 12,
   "id": "d8118e10-3a22-4826-83a9-a6cdcbff69f7",
   "metadata": {},
   "outputs": [],
   "source": [
    "from sklearn.neighbors import KNeighborsRegressor\n",
    "\n",
    "knn_model = KNeighborsRegressor(n_neighbors=23, n_jobs=-1)\n",
    "knn_model.fit(x_train, y_train)\n",
    "\n",
    "knn_preds = knn_model.predict(x_test)\n",
    "knn_train_preds = knn_model.predict(x_train)"
   ]
  },
  {
   "cell_type": "code",
   "execution_count": 13,
   "id": "e633e4b3-f9c9-49bf-9687-f69dfd80d6ca",
   "metadata": {},
   "outputs": [
    {
     "data": {
      "text/html": [
       "<div>\n",
       "<style scoped>\n",
       "    .dataframe tbody tr th:only-of-type {\n",
       "        vertical-align: middle;\n",
       "    }\n",
       "\n",
       "    .dataframe tbody tr th {\n",
       "        vertical-align: top;\n",
       "    }\n",
       "\n",
       "    .dataframe thead th {\n",
       "        text-align: right;\n",
       "    }\n",
       "</style>\n",
       "<table border=\"1\" class=\"dataframe\">\n",
       "  <thead>\n",
       "    <tr style=\"text-align: right;\">\n",
       "      <th></th>\n",
       "      <th>Predito</th>\n",
       "      <th>Real</th>\n",
       "    </tr>\n",
       "  </thead>\n",
       "  <tbody>\n",
       "    <tr>\n",
       "      <th>0</th>\n",
       "      <td>53.442458</td>\n",
       "      <td>66.710369</td>\n",
       "    </tr>\n",
       "    <tr>\n",
       "      <th>1</th>\n",
       "      <td>44.254883</td>\n",
       "      <td>39.048849</td>\n",
       "    </tr>\n",
       "    <tr>\n",
       "      <th>2</th>\n",
       "      <td>53.985751</td>\n",
       "      <td>48.193604</td>\n",
       "    </tr>\n",
       "    <tr>\n",
       "      <th>3</th>\n",
       "      <td>50.643749</td>\n",
       "      <td>50.490850</td>\n",
       "    </tr>\n",
       "    <tr>\n",
       "      <th>4</th>\n",
       "      <td>43.079641</td>\n",
       "      <td>42.025374</td>\n",
       "    </tr>\n",
       "    <tr>\n",
       "      <th>5</th>\n",
       "      <td>42.032909</td>\n",
       "      <td>42.666645</td>\n",
       "    </tr>\n",
       "    <tr>\n",
       "      <th>6</th>\n",
       "      <td>43.212697</td>\n",
       "      <td>43.222300</td>\n",
       "    </tr>\n",
       "    <tr>\n",
       "      <th>7</th>\n",
       "      <td>43.449630</td>\n",
       "      <td>45.207388</td>\n",
       "    </tr>\n",
       "    <tr>\n",
       "      <th>8</th>\n",
       "      <td>46.541166</td>\n",
       "      <td>47.498887</td>\n",
       "    </tr>\n",
       "    <tr>\n",
       "      <th>9</th>\n",
       "      <td>50.927938</td>\n",
       "      <td>56.932389</td>\n",
       "    </tr>\n",
       "  </tbody>\n",
       "</table>\n",
       "</div>"
      ],
      "text/plain": [
       "     Predito       Real\n",
       "0  53.442458  66.710369\n",
       "1  44.254883  39.048849\n",
       "2  53.985751  48.193604\n",
       "3  50.643749  50.490850\n",
       "4  43.079641  42.025374\n",
       "5  42.032909  42.666645\n",
       "6  43.212697  43.222300\n",
       "7  43.449630  45.207388\n",
       "8  46.541166  47.498887\n",
       "9  50.927938  56.932389"
      ]
     },
     "execution_count": 13,
     "metadata": {},
     "output_type": "execute_result"
    }
   ],
   "source": [
    "pd.DataFrame(np.concatenate((knn_preds.reshape(81,1), np.array(y_test).reshape(81,1)), axis=1)[10:20], columns=['Predito', 'Real'])"
   ]
  },
  {
   "cell_type": "code",
   "execution_count": 17,
   "id": "e288a5d8-6ab0-4609-a583-8c04c77d4979",
   "metadata": {},
   "outputs": [
    {
     "data": {
      "text/html": [
       "<div>\n",
       "<style scoped>\n",
       "    .dataframe tbody tr th:only-of-type {\n",
       "        vertical-align: middle;\n",
       "    }\n",
       "\n",
       "    .dataframe tbody tr th {\n",
       "        vertical-align: top;\n",
       "    }\n",
       "\n",
       "    .dataframe thead th {\n",
       "        text-align: right;\n",
       "    }\n",
       "</style>\n",
       "<table border=\"1\" class=\"dataframe\">\n",
       "  <thead>\n",
       "    <tr style=\"text-align: right;\">\n",
       "      <th></th>\n",
       "      <th>R2</th>\n",
       "      <th>MAE</th>\n",
       "      <th>RMSE</th>\n",
       "    </tr>\n",
       "  </thead>\n",
       "  <tbody>\n",
       "    <tr>\n",
       "      <th>Teste</th>\n",
       "      <td>0.178268</td>\n",
       "      <td>8.219658</td>\n",
       "      <td>11.201294</td>\n",
       "    </tr>\n",
       "    <tr>\n",
       "      <th>Treino</th>\n",
       "      <td>0.178412</td>\n",
       "      <td>8.215328</td>\n",
       "      <td>11.495792</td>\n",
       "    </tr>\n",
       "  </tbody>\n",
       "</table>\n",
       "</div>"
      ],
      "text/plain": [
       "              R2       MAE       RMSE\n",
       "Teste   0.178268  8.219658  11.201294\n",
       "Treino  0.178412  8.215328  11.495792"
      ]
     },
     "execution_count": 17,
     "metadata": {},
     "output_type": "execute_result"
    }
   ],
   "source": [
    "evalute_model(knn_preds, y_test, knn_train_preds, y_train)"
   ]
  },
  {
   "cell_type": "markdown",
   "id": "03d7a50e-7e43-463c-aa82-5198cbd978a8",
   "metadata": {},
   "source": [
    "# RANDOM FOREST"
   ]
  },
  {
   "cell_type": "code",
   "execution_count": 240,
   "id": "6876c443-8604-4552-94e3-ea4f19cb614c",
   "metadata": {},
   "outputs": [
    {
     "name": "stdout",
     "output_type": "stream",
     "text": [
      "RMSE: 11.495219914788228\n"
     ]
    }
   ],
   "source": [
    "from sklearn.ensemble import RandomForestRegressor\n",
    "rf_model = RandomForestRegressor(n_estimators=3, random_state=40, n_jobs=-1)\n",
    "rf_model.fit(x_train,  np.ravel(y_train))\n",
    "\n",
    "rf_preds = rf_model.predict(x_test)\n",
    "rf_train_preds = rf_model.predict(x_train)\n",
    "\n",
    "from sklearn.metrics import mean_squared_error\n",
    "print(f'RMSE: {mean_squared_error(y_test, rf_preds, squared=False)}')"
   ]
  },
  {
   "cell_type": "code",
   "execution_count": 241,
   "id": "99807016-dc6d-442b-97b4-fcef11929e8f",
   "metadata": {},
   "outputs": [
    {
     "data": {
      "text/html": [
       "<div>\n",
       "<style scoped>\n",
       "    .dataframe tbody tr th:only-of-type {\n",
       "        vertical-align: middle;\n",
       "    }\n",
       "\n",
       "    .dataframe tbody tr th {\n",
       "        vertical-align: top;\n",
       "    }\n",
       "\n",
       "    .dataframe thead th {\n",
       "        text-align: right;\n",
       "    }\n",
       "</style>\n",
       "<table border=\"1\" class=\"dataframe\">\n",
       "  <thead>\n",
       "    <tr style=\"text-align: right;\">\n",
       "      <th></th>\n",
       "      <th>Predito</th>\n",
       "      <th>Real</th>\n",
       "    </tr>\n",
       "  </thead>\n",
       "  <tbody>\n",
       "    <tr>\n",
       "      <th>0</th>\n",
       "      <td>57.672446</td>\n",
       "      <td>66.710369</td>\n",
       "    </tr>\n",
       "    <tr>\n",
       "      <th>1</th>\n",
       "      <td>42.399187</td>\n",
       "      <td>39.048849</td>\n",
       "    </tr>\n",
       "    <tr>\n",
       "      <th>2</th>\n",
       "      <td>57.223049</td>\n",
       "      <td>48.193604</td>\n",
       "    </tr>\n",
       "    <tr>\n",
       "      <th>3</th>\n",
       "      <td>52.192225</td>\n",
       "      <td>50.490850</td>\n",
       "    </tr>\n",
       "    <tr>\n",
       "      <th>4</th>\n",
       "      <td>50.912284</td>\n",
       "      <td>42.025374</td>\n",
       "    </tr>\n",
       "    <tr>\n",
       "      <th>5</th>\n",
       "      <td>40.594441</td>\n",
       "      <td>42.666645</td>\n",
       "    </tr>\n",
       "    <tr>\n",
       "      <th>6</th>\n",
       "      <td>47.587759</td>\n",
       "      <td>43.222300</td>\n",
       "    </tr>\n",
       "    <tr>\n",
       "      <th>7</th>\n",
       "      <td>59.851305</td>\n",
       "      <td>45.207388</td>\n",
       "    </tr>\n",
       "    <tr>\n",
       "      <th>8</th>\n",
       "      <td>42.966927</td>\n",
       "      <td>47.498887</td>\n",
       "    </tr>\n",
       "    <tr>\n",
       "      <th>9</th>\n",
       "      <td>52.611038</td>\n",
       "      <td>56.932389</td>\n",
       "    </tr>\n",
       "  </tbody>\n",
       "</table>\n",
       "</div>"
      ],
      "text/plain": [
       "     Predito       Real\n",
       "0  57.672446  66.710369\n",
       "1  42.399187  39.048849\n",
       "2  57.223049  48.193604\n",
       "3  52.192225  50.490850\n",
       "4  50.912284  42.025374\n",
       "5  40.594441  42.666645\n",
       "6  47.587759  43.222300\n",
       "7  59.851305  45.207388\n",
       "8  42.966927  47.498887\n",
       "9  52.611038  56.932389"
      ]
     },
     "execution_count": 241,
     "metadata": {},
     "output_type": "execute_result"
    }
   ],
   "source": [
    "pd.DataFrame(np.concatenate((rf_preds.reshape(81,1), np.array(y_test).reshape(81,1)), axis=1)[10:20], columns=['Predito', 'Real'])"
   ]
  },
  {
   "cell_type": "code",
   "execution_count": 242,
   "id": "eaeb93eb-6aaa-40fe-9ca2-cfac890edbd0",
   "metadata": {},
   "outputs": [
    {
     "data": {
      "text/html": [
       "<div>\n",
       "<style scoped>\n",
       "    .dataframe tbody tr th:only-of-type {\n",
       "        vertical-align: middle;\n",
       "    }\n",
       "\n",
       "    .dataframe tbody tr th {\n",
       "        vertical-align: top;\n",
       "    }\n",
       "\n",
       "    .dataframe thead th {\n",
       "        text-align: right;\n",
       "    }\n",
       "</style>\n",
       "<table border=\"1\" class=\"dataframe\">\n",
       "  <thead>\n",
       "    <tr style=\"text-align: right;\">\n",
       "      <th></th>\n",
       "      <th>R2</th>\n",
       "      <th>MAE</th>\n",
       "      <th>RMSE</th>\n",
       "    </tr>\n",
       "  </thead>\n",
       "  <tbody>\n",
       "    <tr>\n",
       "      <th>Teste</th>\n",
       "      <td>0.134577</td>\n",
       "      <td>9.080434</td>\n",
       "      <td>11.495220</td>\n",
       "    </tr>\n",
       "    <tr>\n",
       "      <th>Treino</th>\n",
       "      <td>0.578489</td>\n",
       "      <td>4.914994</td>\n",
       "      <td>8.234105</td>\n",
       "    </tr>\n",
       "  </tbody>\n",
       "</table>\n",
       "</div>"
      ],
      "text/plain": [
       "              R2       MAE       RMSE\n",
       "Teste   0.134577  9.080434  11.495220\n",
       "Treino  0.578489  4.914994   8.234105"
      ]
     },
     "execution_count": 242,
     "metadata": {},
     "output_type": "execute_result"
    }
   ],
   "source": [
    "evalute_model(rf_preds, y_test, rf_train_preds, y_train)"
   ]
  },
  {
   "cell_type": "code",
   "execution_count": 244,
   "id": "9f72f066-3ad2-4dd5-b1e6-fb3b9253d21c",
   "metadata": {},
   "outputs": [
    {
     "data": {
      "image/png": "[encoded data removed]",
      "text/plain": [
       "<Figure size 864x432 with 1 Axes>"
      ]
     },
     "metadata": {
      "needs_background": "light"
     },
     "output_type": "display_data"
    },
    {
     "data": {
      "image/png": "[encoded data removed]",
      "text/plain": [
       "<Figure size 864x432 with 1 Axes>"
      ]
     },
     "metadata": {
      "needs_background": "light"
     },
     "output_type": "display_data"
    }
   ],
   "source": [
    "plot_graphical_analysis(y_test, rf_preds, rf_model)"
   ]
  },
  {
   "cell_type": "markdown",
   "id": "2a3d140a",
   "metadata": {
    "tags": []
   },
   "source": [
    "# RIDGE REGRESSION"
   ]
  },
  {
   "cell_type": "markdown",
   "id": "cfa0fb5e",
   "metadata": {},
   "source": [
    "## Training (GridSearch)"
   ]
  },
  {
   "cell_type": "code",
   "execution_count": 75,
   "id": "85d8b0ca",
   "metadata": {},
   "outputs": [
    {
     "name": "stderr",
     "output_type": "stream",
     "text": [
      "/home/caio/anaconda3/lib/python3.9/site-packages/sklearn/model_selection/_validation.py:681: UserWarning: With alpha=0, this algorithm does not converge well. You are advised to use the LinearRegression estimator\n",
      "  estimator.fit(X_train, y_train, **fit_params)\n",
      "/home/caio/anaconda3/lib/python3.9/site-packages/sklearn/linear_model/_coordinate_descent.py:647: UserWarning: Coordinate descent with no regularization may lead to unexpected results and is discouraged.\n",
      "  model = cd_fast.enet_coordinate_descent(\n",
      "/home/caio/anaconda3/lib/python3.9/site-packages/sklearn/linear_model/_coordinate_descent.py:647: ConvergenceWarning: Objective did not converge. You might want to increase the number of iterations, check the scale of the features or consider increasing regularisation. Duality gap: 7.914e+01, tolerance: 1.824e+00 Linear regression models with null weight for the l1 regularization term are more efficiently fitted using one of the solvers implemented in sklearn.linear_model.Ridge/RidgeCV instead.\n",
      "  model = cd_fast.enet_coordinate_descent(\n",
      "/home/caio/anaconda3/lib/python3.9/site-packages/sklearn/model_selection/_validation.py:681: UserWarning: With alpha=0, this algorithm does not converge well. You are advised to use the LinearRegression estimator\n",
      "  estimator.fit(X_train, y_train, **fit_params)\n",
      "/home/caio/anaconda3/lib/python3.9/site-packages/sklearn/linear_model/_coordinate_descent.py:647: UserWarning: Coordinate descent with no regularization may lead to unexpected results and is discouraged.\n",
      "  model = cd_fast.enet_coordinate_descent(\n",
      "/home/caio/anaconda3/lib/python3.9/site-packages/sklearn/linear_model/_coordinate_descent.py:647: ConvergenceWarning: Objective did not converge. You might want to increase the number of iterations, check the scale of the features or consider increasing regularisation. Duality gap: 5.581e+01, tolerance: 1.857e+00 Linear regression models with null weight for the l1 regularization term are more efficiently fitted using one of the solvers implemented in sklearn.linear_model.Ridge/RidgeCV instead.\n",
      "  model = cd_fast.enet_coordinate_descent(\n",
      "/home/caio/anaconda3/lib/python3.9/site-packages/sklearn/model_selection/_validation.py:681: UserWarning: With alpha=0, this algorithm does not converge well. You are advised to use the LinearRegression estimator\n",
      "  estimator.fit(X_train, y_train, **fit_params)\n",
      "/home/caio/anaconda3/lib/python3.9/site-packages/sklearn/linear_model/_coordinate_descent.py:647: UserWarning: Coordinate descent with no regularization may lead to unexpected results and is discouraged.\n",
      "  model = cd_fast.enet_coordinate_descent(\n",
      "/home/caio/anaconda3/lib/python3.9/site-packages/sklearn/linear_model/_coordinate_descent.py:647: ConvergenceWarning: Objective did not converge. You might want to increase the number of iterations, check the scale of the features or consider increasing regularisation. Duality gap: 5.171e+01, tolerance: 2.055e+00 Linear regression models with null weight for the l1 regularization term are more efficiently fitted using one of the solvers implemented in sklearn.linear_model.Ridge/RidgeCV instead.\n",
      "  model = cd_fast.enet_coordinate_descent(\n"
     ]
    },
    {
     "data": {
      "text/plain": [
       "GridSearchCV(cv=3, estimator=Lasso(), param_grid={'alpha': [0, 0.3, 0.8]},\n",
       "             refit='neg_root_mean_squared_error', return_train_score=True,\n",
       "             scoring=('r2', 'neg_mean_absolute_error',\n",
       "                      'neg_root_mean_squared_error'))"
      ]
     },
     "execution_count": 75,
     "metadata": {},
     "output_type": "execute_result"
    }
   ],
   "source": [
    "# GridSearch using k-fold cross-validation\n",
    "from sklearn.linear_model import Lasso\n",
    "from sklearn.model_selection import GridSearchCV\n",
    "nfolds = 3\n",
    "metrics = ('r2', 'neg_mean_absolute_error', 'neg_root_mean_squared_error')\n",
    "parameters = {'alpha':[0, 0.3, 0.8]}\n",
    "rr = Lasso()\n",
    "rr = GridSearchCV(rr, parameters, scoring=metrics, cv=nfolds, refit = metrics[2], return_train_score = True)\n",
    "rr.fit(x_train, y_train)"
   ]
  },
  {
   "cell_type": "code",
   "execution_count": 76,
   "id": "36778e92",
   "metadata": {},
   "outputs": [
    {
     "data": {
      "text/plain": [
       "GridSearchCV(cv=3, estimator=DecisionTreeRegressor(),\n",
       "             param_grid={'max_depth': [10, 20]},\n",
       "             refit='neg_root_mean_squared_error', return_train_score=True,\n",
       "             scoring=('r2', 'neg_mean_absolute_error',\n",
       "                      'neg_root_mean_squared_error'))"
      ]
     },
     "execution_count": 76,
     "metadata": {},
     "output_type": "execute_result"
    }
   ],
   "source": [
    "# GridSearch using k-fold cross-validation\n",
    "from sklearn.tree import DecisionTreeRegressor\n",
    "from sklearn.model_selection import GridSearchCV\n",
    "nfolds = 3\n",
    "metrics = ('r2', 'neg_mean_absolute_error', 'neg_root_mean_squared_error')\n",
    "parameters = {'max_depth':[10, 20]}\n",
    "rr = DecisionTreeRegressor()\n",
    "rr = GridSearchCV(rr, parameters, scoring=metrics, cv=nfolds, refit = metrics[2], return_train_score = True)\n",
    "rr.fit(x_train, y_train)"
   ]
  },
  {
   "cell_type": "code",
   "execution_count": 77,
   "id": "0015eee8",
   "metadata": {},
   "outputs": [
    {
     "ename": "KeyError",
     "evalue": "'param_alpha'",
     "output_type": "error",
     "traceback": [
      "\u001b[0;31m---------------------------------------------------------------------------\u001b[0m",
      "\u001b[0;31mKeyError\u001b[0m                                  Traceback (most recent call last)",
      "\u001b[0;32m/tmp/ipykernel_5980/544612879.py\u001b[0m in \u001b[0;36m<module>\u001b[0;34m\u001b[0m\n\u001b[1;32m      1\u001b[0m \u001b[0;31m# Matrics - training\u001b[0m\u001b[0;34m\u001b[0m\u001b[0;34m\u001b[0m\u001b[0m\n\u001b[0;32m----> 2\u001b[0;31m pd.DataFrame({'Alpha': rr.cv_results_[\"param_alpha\"], \n\u001b[0m\u001b[1;32m      3\u001b[0m               \u001b[0;34m'R2'\u001b[0m\u001b[0;34m:\u001b[0m \u001b[0mrr\u001b[0m\u001b[0;34m.\u001b[0m\u001b[0mcv_results_\u001b[0m\u001b[0;34m[\u001b[0m\u001b[0;34m\"mean_test_r2\"\u001b[0m\u001b[0;34m]\u001b[0m\u001b[0;34m,\u001b[0m\u001b[0;34m\u001b[0m\u001b[0;34m\u001b[0m\u001b[0m\n\u001b[1;32m      4\u001b[0m               \u001b[0;34m'MAE'\u001b[0m\u001b[0;34m:\u001b[0m \u001b[0mabs\u001b[0m\u001b[0;34m(\u001b[0m\u001b[0mrr\u001b[0m\u001b[0;34m.\u001b[0m\u001b[0mcv_results_\u001b[0m\u001b[0;34m[\u001b[0m\u001b[0;34m'mean_test_neg_mean_absolute_error'\u001b[0m\u001b[0;34m]\u001b[0m\u001b[0;34m)\u001b[0m\u001b[0;34m,\u001b[0m\u001b[0;34m\u001b[0m\u001b[0;34m\u001b[0m\u001b[0m\n\u001b[1;32m      5\u001b[0m               'RMSE': abs(rr.cv_results_['mean_test_neg_root_mean_squared_error'])})\n",
      "\u001b[0;31mKeyError\u001b[0m: 'param_alpha'"
     ]
    }
   ],
   "source": [
    "# Matrics - training\n",
    "pd.DataFrame({'Alpha': rr.cv_results_[\"param_alpha\"], \n",
    "              'R2': rr.cv_results_[\"mean_test_r2\"], \n",
    "              'MAE': abs(rr.cv_results_['mean_test_neg_mean_absolute_error']),\n",
    "              'RMSE': abs(rr.cv_results_['mean_test_neg_root_mean_squared_error'])})"
   ]
  },
  {
   "cell_type": "markdown",
   "id": "2cde29d5",
   "metadata": {},
   "source": [
    "## Testing"
   ]
  },
  {
   "cell_type": "code",
   "execution_count": 55,
   "id": "632ca539",
   "metadata": {},
   "outputs": [
    {
     "name": "stdout",
     "output_type": "stream",
     "text": [
      "Best Alpha: 0.3, RMSE: 12.566016\n"
     ]
    }
   ],
   "source": [
    "# Print best alpha and RMSE, and testing the best model using the test set\n",
    "print(\"Best Alpha: %.1f, RMSE: %.6f\" % (rr.best_params_['alpha'], abs(rr.best_score_)))\n",
    "ypred = rr.best_estimator_.predict(x_test)\n",
    "ypred = rr.best_estimator_.predict(x_train)"
   ]
  },
  {
   "cell_type": "code",
   "execution_count": 56,
   "id": "c0d88344",
   "metadata": {},
   "outputs": [
    {
     "ename": "ValueError",
     "evalue": "x and y must have same first dimension, but have shapes (186,) and (81, 1)",
     "output_type": "error",
     "traceback": [
      "\u001b[0;31m---------------------------------------------------------------------------\u001b[0m",
      "\u001b[0;31mValueError\u001b[0m                                Traceback (most recent call last)",
      "\u001b[0;32m/tmp/ipykernel_5980/3468227910.py\u001b[0m in \u001b[0;36m<module>\u001b[0;34m\u001b[0m\n\u001b[1;32m      3\u001b[0m \u001b[0;32mimport\u001b[0m \u001b[0mnumpy\u001b[0m \u001b[0;32mas\u001b[0m \u001b[0mnp\u001b[0m\u001b[0;34m\u001b[0m\u001b[0;34m\u001b[0m\u001b[0m\n\u001b[1;32m      4\u001b[0m \u001b[0mypred\u001b[0m \u001b[0;34m=\u001b[0m \u001b[0mnp\u001b[0m\u001b[0;34m.\u001b[0m\u001b[0mravel\u001b[0m\u001b[0;34m(\u001b[0m\u001b[0mypred\u001b[0m\u001b[0;34m)\u001b[0m\u001b[0;34m\u001b[0m\u001b[0;34m\u001b[0m\u001b[0m\n\u001b[0;32m----> 5\u001b[0;31m \u001b[0mplt\u001b[0m\u001b[0;34m.\u001b[0m\u001b[0mplot\u001b[0m\u001b[0;34m(\u001b[0m\u001b[0mypred\u001b[0m\u001b[0;34m,\u001b[0m \u001b[0my_test\u001b[0m\u001b[0;34m,\u001b[0m \u001b[0;34m'o'\u001b[0m\u001b[0;34m)\u001b[0m\u001b[0;34m\u001b[0m\u001b[0;34m\u001b[0m\u001b[0m\n\u001b[0m\u001b[1;32m      6\u001b[0m \u001b[0mm\u001b[0m\u001b[0;34m,\u001b[0m \u001b[0mb\u001b[0m \u001b[0;34m=\u001b[0m \u001b[0mnp\u001b[0m\u001b[0;34m.\u001b[0m\u001b[0mpolyfit\u001b[0m\u001b[0;34m(\u001b[0m\u001b[0mypred\u001b[0m\u001b[0;34m,\u001b[0m \u001b[0my_test\u001b[0m\u001b[0;34m,\u001b[0m \u001b[0;36m1\u001b[0m\u001b[0;34m)\u001b[0m\u001b[0;34m\u001b[0m\u001b[0;34m\u001b[0m\u001b[0m\n\u001b[1;32m      7\u001b[0m \u001b[0mplt\u001b[0m\u001b[0;34m.\u001b[0m\u001b[0mplot\u001b[0m\u001b[0;34m(\u001b[0m\u001b[0mypred\u001b[0m\u001b[0;34m,\u001b[0m \u001b[0mm\u001b[0m\u001b[0;34m*\u001b[0m\u001b[0mypred\u001b[0m \u001b[0;34m+\u001b[0m \u001b[0mb\u001b[0m\u001b[0;34m)\u001b[0m\u001b[0;34m\u001b[0m\u001b[0;34m\u001b[0m\u001b[0m\n",
      "\u001b[0;32m~/anaconda3/lib/python3.9/site-packages/matplotlib/pyplot.py\u001b[0m in \u001b[0;36mplot\u001b[0;34m(scalex, scaley, data, *args, **kwargs)\u001b[0m\n\u001b[1;32m   2755\u001b[0m \u001b[0;34m@\u001b[0m\u001b[0m_copy_docstring_and_deprecators\u001b[0m\u001b[0;34m(\u001b[0m\u001b[0mAxes\u001b[0m\u001b[0;34m.\u001b[0m\u001b[0mplot\u001b[0m\u001b[0;34m)\u001b[0m\u001b[0;34m\u001b[0m\u001b[0;34m\u001b[0m\u001b[0m\n\u001b[1;32m   2756\u001b[0m \u001b[0;32mdef\u001b[0m \u001b[0mplot\u001b[0m\u001b[0;34m(\u001b[0m\u001b[0;34m*\u001b[0m\u001b[0margs\u001b[0m\u001b[0;34m,\u001b[0m \u001b[0mscalex\u001b[0m\u001b[0;34m=\u001b[0m\u001b[0;32mTrue\u001b[0m\u001b[0;34m,\u001b[0m \u001b[0mscaley\u001b[0m\u001b[0;34m=\u001b[0m\u001b[0;32mTrue\u001b[0m\u001b[0;34m,\u001b[0m \u001b[0mdata\u001b[0m\u001b[0;34m=\u001b[0m\u001b[0;32mNone\u001b[0m\u001b[0;34m,\u001b[0m \u001b[0;34m**\u001b[0m\u001b[0mkwargs\u001b[0m\u001b[0;34m)\u001b[0m\u001b[0;34m:\u001b[0m\u001b[0;34m\u001b[0m\u001b[0;34m\u001b[0m\u001b[0m\n\u001b[0;32m-> 2757\u001b[0;31m     return gca().plot(\n\u001b[0m\u001b[1;32m   2758\u001b[0m         \u001b[0;34m*\u001b[0m\u001b[0margs\u001b[0m\u001b[0;34m,\u001b[0m \u001b[0mscalex\u001b[0m\u001b[0;34m=\u001b[0m\u001b[0mscalex\u001b[0m\u001b[0;34m,\u001b[0m \u001b[0mscaley\u001b[0m\u001b[0;34m=\u001b[0m\u001b[0mscaley\u001b[0m\u001b[0;34m,\u001b[0m\u001b[0;34m\u001b[0m\u001b[0;34m\u001b[0m\u001b[0m\n\u001b[1;32m   2759\u001b[0m         **({\"data\": data} if data is not None else {}), **kwargs)\n",
      "\u001b[0;32m~/anaconda3/lib/python3.9/site-packages/matplotlib/axes/_axes.py\u001b[0m in \u001b[0;36mplot\u001b[0;34m(self, scalex, scaley, data, *args, **kwargs)\u001b[0m\n\u001b[1;32m   1630\u001b[0m         \"\"\"\n\u001b[1;32m   1631\u001b[0m         \u001b[0mkwargs\u001b[0m \u001b[0;34m=\u001b[0m \u001b[0mcbook\u001b[0m\u001b[0;34m.\u001b[0m\u001b[0mnormalize_kwargs\u001b[0m\u001b[0;34m(\u001b[0m\u001b[0mkwargs\u001b[0m\u001b[0;34m,\u001b[0m \u001b[0mmlines\u001b[0m\u001b[0;34m.\u001b[0m\u001b[0mLine2D\u001b[0m\u001b[0;34m)\u001b[0m\u001b[0;34m\u001b[0m\u001b[0;34m\u001b[0m\u001b[0m\n\u001b[0;32m-> 1632\u001b[0;31m         \u001b[0mlines\u001b[0m \u001b[0;34m=\u001b[0m \u001b[0;34m[\u001b[0m\u001b[0;34m*\u001b[0m\u001b[0mself\u001b[0m\u001b[0;34m.\u001b[0m\u001b[0m_get_lines\u001b[0m\u001b[0;34m(\u001b[0m\u001b[0;34m*\u001b[0m\u001b[0margs\u001b[0m\u001b[0;34m,\u001b[0m \u001b[0mdata\u001b[0m\u001b[0;34m=\u001b[0m\u001b[0mdata\u001b[0m\u001b[0;34m,\u001b[0m \u001b[0;34m**\u001b[0m\u001b[0mkwargs\u001b[0m\u001b[0;34m)\u001b[0m\u001b[0;34m]\u001b[0m\u001b[0;34m\u001b[0m\u001b[0;34m\u001b[0m\u001b[0m\n\u001b[0m\u001b[1;32m   1633\u001b[0m         \u001b[0;32mfor\u001b[0m \u001b[0mline\u001b[0m \u001b[0;32min\u001b[0m \u001b[0mlines\u001b[0m\u001b[0;34m:\u001b[0m\u001b[0;34m\u001b[0m\u001b[0;34m\u001b[0m\u001b[0m\n\u001b[1;32m   1634\u001b[0m             \u001b[0mself\u001b[0m\u001b[0;34m.\u001b[0m\u001b[0madd_line\u001b[0m\u001b[0;34m(\u001b[0m\u001b[0mline\u001b[0m\u001b[0;34m)\u001b[0m\u001b[0;34m\u001b[0m\u001b[0;34m\u001b[0m\u001b[0m\n",
      "\u001b[0;32m~/anaconda3/lib/python3.9/site-packages/matplotlib/axes/_base.py\u001b[0m in \u001b[0;36m__call__\u001b[0;34m(self, data, *args, **kwargs)\u001b[0m\n\u001b[1;32m    310\u001b[0m                 \u001b[0mthis\u001b[0m \u001b[0;34m+=\u001b[0m \u001b[0margs\u001b[0m\u001b[0;34m[\u001b[0m\u001b[0;36m0\u001b[0m\u001b[0;34m]\u001b[0m\u001b[0;34m,\u001b[0m\u001b[0;34m\u001b[0m\u001b[0;34m\u001b[0m\u001b[0m\n\u001b[1;32m    311\u001b[0m                 \u001b[0margs\u001b[0m \u001b[0;34m=\u001b[0m \u001b[0margs\u001b[0m\u001b[0;34m[\u001b[0m\u001b[0;36m1\u001b[0m\u001b[0;34m:\u001b[0m\u001b[0;34m]\u001b[0m\u001b[0;34m\u001b[0m\u001b[0;34m\u001b[0m\u001b[0m\n\u001b[0;32m--> 312\u001b[0;31m             \u001b[0;32myield\u001b[0m \u001b[0;32mfrom\u001b[0m \u001b[0mself\u001b[0m\u001b[0;34m.\u001b[0m\u001b[0m_plot_args\u001b[0m\u001b[0;34m(\u001b[0m\u001b[0mthis\u001b[0m\u001b[0;34m,\u001b[0m \u001b[0mkwargs\u001b[0m\u001b[0;34m)\u001b[0m\u001b[0;34m\u001b[0m\u001b[0;34m\u001b[0m\u001b[0m\n\u001b[0m\u001b[1;32m    313\u001b[0m \u001b[0;34m\u001b[0m\u001b[0m\n\u001b[1;32m    314\u001b[0m     \u001b[0;32mdef\u001b[0m \u001b[0mget_next_color\u001b[0m\u001b[0;34m(\u001b[0m\u001b[0mself\u001b[0m\u001b[0;34m)\u001b[0m\u001b[0;34m:\u001b[0m\u001b[0;34m\u001b[0m\u001b[0;34m\u001b[0m\u001b[0m\n",
      "\u001b[0;32m~/anaconda3/lib/python3.9/site-packages/matplotlib/axes/_base.py\u001b[0m in \u001b[0;36m_plot_args\u001b[0;34m(self, tup, kwargs, return_kwargs)\u001b[0m\n\u001b[1;32m    496\u001b[0m \u001b[0;34m\u001b[0m\u001b[0m\n\u001b[1;32m    497\u001b[0m         \u001b[0;32mif\u001b[0m \u001b[0mx\u001b[0m\u001b[0;34m.\u001b[0m\u001b[0mshape\u001b[0m\u001b[0;34m[\u001b[0m\u001b[0;36m0\u001b[0m\u001b[0;34m]\u001b[0m \u001b[0;34m!=\u001b[0m \u001b[0my\u001b[0m\u001b[0;34m.\u001b[0m\u001b[0mshape\u001b[0m\u001b[0;34m[\u001b[0m\u001b[0;36m0\u001b[0m\u001b[0;34m]\u001b[0m\u001b[0;34m:\u001b[0m\u001b[0;34m\u001b[0m\u001b[0;34m\u001b[0m\u001b[0m\n\u001b[0;32m--> 498\u001b[0;31m             raise ValueError(f\"x and y must have same first dimension, but \"\n\u001b[0m\u001b[1;32m    499\u001b[0m                              f\"have shapes {x.shape} and {y.shape}\")\n\u001b[1;32m    500\u001b[0m         \u001b[0;32mif\u001b[0m \u001b[0mx\u001b[0m\u001b[0;34m.\u001b[0m\u001b[0mndim\u001b[0m \u001b[0;34m>\u001b[0m \u001b[0;36m2\u001b[0m \u001b[0;32mor\u001b[0m \u001b[0my\u001b[0m\u001b[0;34m.\u001b[0m\u001b[0mndim\u001b[0m \u001b[0;34m>\u001b[0m \u001b[0;36m2\u001b[0m\u001b[0;34m:\u001b[0m\u001b[0;34m\u001b[0m\u001b[0;34m\u001b[0m\u001b[0m\n",
      "\u001b[0;31mValueError\u001b[0m: x and y must have same first dimension, but have shapes (186,) and (81, 1)"
     ]
    },
    {
     "data": {
      "image/png": "[encoded data removed]",
      "text/plain": [
       "<Figure size 432x288 with 1 Axes>"
      ]
     },
     "metadata": {
      "needs_background": "light"
     },
     "output_type": "display_data"
    }
   ],
   "source": [
    "# Scatter plot - predicted and observed\n",
    "import matplotlib.pyplot as plt\n",
    "import numpy as np\n",
    "ypred = np.ravel(ypred)\n",
    "plt.plot(ypred, y_test, 'o')\n",
    "m, b = np.polyfit(ypred, y_test, 1)\n",
    "plt.plot(ypred, m*ypred + b)"
   ]
  },
  {
   "cell_type": "code",
   "execution_count": 24,
   "id": "8dae3918",
   "metadata": {},
   "outputs": [
    {
     "ename": "ValueError",
     "evalue": "Found input variables with inconsistent numbers of samples: [120, 280]",
     "output_type": "error",
     "traceback": [
      "\u001b[0;31m---------------------------------------------------------------------------\u001b[0m",
      "\u001b[0;31mValueError\u001b[0m                                Traceback (most recent call last)",
      "\u001b[0;32m/tmp/ipykernel_8918/2701579132.py\u001b[0m in \u001b[0;36m<module>\u001b[0;34m\u001b[0m\n\u001b[1;32m      3\u001b[0m \u001b[0;34m\u001b[0m\u001b[0m\n\u001b[1;32m      4\u001b[0m pd.DataFrame({'Alpha': [rr.best_params_['alpha']], \n\u001b[0;32m----> 5\u001b[0;31m               \u001b[0;34m'R2'\u001b[0m\u001b[0;34m:\u001b[0m \u001b[0mr2_score\u001b[0m\u001b[0;34m(\u001b[0m\u001b[0my_test\u001b[0m\u001b[0;34m,\u001b[0m \u001b[0mypred\u001b[0m\u001b[0;34m)\u001b[0m\u001b[0;34m,\u001b[0m\u001b[0;34m\u001b[0m\u001b[0;34m\u001b[0m\u001b[0m\n\u001b[0m\u001b[1;32m      6\u001b[0m               \u001b[0;34m'MAE'\u001b[0m\u001b[0;34m:\u001b[0m \u001b[0;34m[\u001b[0m\u001b[0mabs\u001b[0m\u001b[0;34m(\u001b[0m\u001b[0mmean_absolute_error\u001b[0m\u001b[0;34m(\u001b[0m\u001b[0my_test\u001b[0m\u001b[0;34m,\u001b[0m \u001b[0mypred\u001b[0m\u001b[0;34m)\u001b[0m\u001b[0;34m)\u001b[0m\u001b[0;34m]\u001b[0m\u001b[0;34m,\u001b[0m\u001b[0;34m\u001b[0m\u001b[0;34m\u001b[0m\u001b[0m\n\u001b[1;32m      7\u001b[0m               'RMSE': [abs(mean_squared_error(y_test, ypred, squared=False))]})\n",
      "\u001b[0;32m~/anaconda3/lib/python3.9/site-packages/sklearn/metrics/_regression.py\u001b[0m in \u001b[0;36mr2_score\u001b[0;34m(y_true, y_pred, sample_weight, multioutput)\u001b[0m\n\u001b[1;32m    772\u001b[0m     \u001b[0;34m-\u001b[0m\u001b[0;36m3.0\u001b[0m\u001b[0;34m\u001b[0m\u001b[0;34m\u001b[0m\u001b[0m\n\u001b[1;32m    773\u001b[0m     \"\"\"\n\u001b[0;32m--> 774\u001b[0;31m     y_type, y_true, y_pred, multioutput = _check_reg_targets(\n\u001b[0m\u001b[1;32m    775\u001b[0m         \u001b[0my_true\u001b[0m\u001b[0;34m,\u001b[0m \u001b[0my_pred\u001b[0m\u001b[0;34m,\u001b[0m \u001b[0mmultioutput\u001b[0m\u001b[0;34m\u001b[0m\u001b[0;34m\u001b[0m\u001b[0m\n\u001b[1;32m    776\u001b[0m     )\n",
      "\u001b[0;32m~/anaconda3/lib/python3.9/site-packages/sklearn/metrics/_regression.py\u001b[0m in \u001b[0;36m_check_reg_targets\u001b[0;34m(y_true, y_pred, multioutput, dtype)\u001b[0m\n\u001b[1;32m     87\u001b[0m         \u001b[0mthe\u001b[0m \u001b[0mdtype\u001b[0m \u001b[0margument\u001b[0m \u001b[0mpassed\u001b[0m \u001b[0mto\u001b[0m \u001b[0mcheck_array\u001b[0m\u001b[0;34m.\u001b[0m\u001b[0;34m\u001b[0m\u001b[0;34m\u001b[0m\u001b[0m\n\u001b[1;32m     88\u001b[0m     \"\"\"\n\u001b[0;32m---> 89\u001b[0;31m     \u001b[0mcheck_consistent_length\u001b[0m\u001b[0;34m(\u001b[0m\u001b[0my_true\u001b[0m\u001b[0;34m,\u001b[0m \u001b[0my_pred\u001b[0m\u001b[0;34m)\u001b[0m\u001b[0;34m\u001b[0m\u001b[0;34m\u001b[0m\u001b[0m\n\u001b[0m\u001b[1;32m     90\u001b[0m     \u001b[0my_true\u001b[0m \u001b[0;34m=\u001b[0m \u001b[0mcheck_array\u001b[0m\u001b[0;34m(\u001b[0m\u001b[0my_true\u001b[0m\u001b[0;34m,\u001b[0m \u001b[0mensure_2d\u001b[0m\u001b[0;34m=\u001b[0m\u001b[0;32mFalse\u001b[0m\u001b[0;34m,\u001b[0m \u001b[0mdtype\u001b[0m\u001b[0;34m=\u001b[0m\u001b[0mdtype\u001b[0m\u001b[0;34m)\u001b[0m\u001b[0;34m\u001b[0m\u001b[0;34m\u001b[0m\u001b[0m\n\u001b[1;32m     91\u001b[0m     \u001b[0my_pred\u001b[0m \u001b[0;34m=\u001b[0m \u001b[0mcheck_array\u001b[0m\u001b[0;34m(\u001b[0m\u001b[0my_pred\u001b[0m\u001b[0;34m,\u001b[0m \u001b[0mensure_2d\u001b[0m\u001b[0;34m=\u001b[0m\u001b[0;32mFalse\u001b[0m\u001b[0;34m,\u001b[0m \u001b[0mdtype\u001b[0m\u001b[0;34m=\u001b[0m\u001b[0mdtype\u001b[0m\u001b[0;34m)\u001b[0m\u001b[0;34m\u001b[0m\u001b[0;34m\u001b[0m\u001b[0m\n",
      "\u001b[0;32m~/anaconda3/lib/python3.9/site-packages/sklearn/utils/validation.py\u001b[0m in \u001b[0;36mcheck_consistent_length\u001b[0;34m(*arrays)\u001b[0m\n\u001b[1;32m    329\u001b[0m     \u001b[0muniques\u001b[0m \u001b[0;34m=\u001b[0m \u001b[0mnp\u001b[0m\u001b[0;34m.\u001b[0m\u001b[0munique\u001b[0m\u001b[0;34m(\u001b[0m\u001b[0mlengths\u001b[0m\u001b[0;34m)\u001b[0m\u001b[0;34m\u001b[0m\u001b[0;34m\u001b[0m\u001b[0m\n\u001b[1;32m    330\u001b[0m     \u001b[0;32mif\u001b[0m \u001b[0mlen\u001b[0m\u001b[0;34m(\u001b[0m\u001b[0muniques\u001b[0m\u001b[0;34m)\u001b[0m \u001b[0;34m>\u001b[0m \u001b[0;36m1\u001b[0m\u001b[0;34m:\u001b[0m\u001b[0;34m\u001b[0m\u001b[0;34m\u001b[0m\u001b[0m\n\u001b[0;32m--> 331\u001b[0;31m         raise ValueError(\n\u001b[0m\u001b[1;32m    332\u001b[0m             \u001b[0;34m\"Found input variables with inconsistent numbers of samples: %r\"\u001b[0m\u001b[0;34m\u001b[0m\u001b[0;34m\u001b[0m\u001b[0m\n\u001b[1;32m    333\u001b[0m             \u001b[0;34m%\u001b[0m \u001b[0;34m[\u001b[0m\u001b[0mint\u001b[0m\u001b[0;34m(\u001b[0m\u001b[0ml\u001b[0m\u001b[0;34m)\u001b[0m \u001b[0;32mfor\u001b[0m \u001b[0ml\u001b[0m \u001b[0;32min\u001b[0m \u001b[0mlengths\u001b[0m\u001b[0;34m]\u001b[0m\u001b[0;34m\u001b[0m\u001b[0;34m\u001b[0m\u001b[0m\n",
      "\u001b[0;31mValueError\u001b[0m: Found input variables with inconsistent numbers of samples: [120, 280]"
     ]
    }
   ],
   "source": [
    "# Metrics - testing\n",
    "from sklearn.metrics import *\n",
    "\n",
    "pd.DataFrame({'Alpha': [rr.best_params_['alpha']], \n",
    "              'R2': r2_score(y_test, ypred), \n",
    "              'MAE': [abs(mean_absolute_error(y_test, ypred))],\n",
    "              'RMSE': [abs(mean_squared_error(y_test, ypred, squared=False))]})"
   ]
  },
  {
   "cell_type": "markdown",
   "id": "b95c7c25",
   "metadata": {},
   "source": [
    "# NEURAL NETWORK"
   ]
  },
  {
   "cell_type": "markdown",
   "id": "7ac44523",
   "metadata": {},
   "source": [
    "## Data pre-processing"
   ]
  },
  {
   "cell_type": "code",
   "execution_count": 93,
   "id": "d3df7458",
   "metadata": {},
   "outputs": [
    {
     "data": {
      "text/html": [
       "<div>\n",
       "<style scoped>\n",
       "    .dataframe tbody tr th:only-of-type {\n",
       "        vertical-align: middle;\n",
       "    }\n",
       "\n",
       "    .dataframe tbody tr th {\n",
       "        vertical-align: top;\n",
       "    }\n",
       "\n",
       "    .dataframe thead th {\n",
       "        text-align: right;\n",
       "    }\n",
       "</style>\n",
       "<table border=\"1\" class=\"dataframe\">\n",
       "  <thead>\n",
       "    <tr style=\"text-align: right;\">\n",
       "      <th></th>\n",
       "      <th>12493.238</th>\n",
       "      <th>12489.381</th>\n",
       "      <th>12485.523</th>\n",
       "      <th>12481.666</th>\n",
       "      <th>12477.809</th>\n",
       "      <th>12473.952</th>\n",
       "      <th>12470.095</th>\n",
       "      <th>12466.238</th>\n",
       "      <th>12462.381</th>\n",
       "      <th>12458.523</th>\n",
       "      <th>...</th>\n",
       "      <th>3633.415</th>\n",
       "      <th>3629.557</th>\n",
       "      <th>3625.7</th>\n",
       "      <th>3621.843</th>\n",
       "      <th>3617.986</th>\n",
       "      <th>3614.129</th>\n",
       "      <th>3610.272</th>\n",
       "      <th>3606.415</th>\n",
       "      <th>3602.558</th>\n",
       "      <th>3598.7</th>\n",
       "    </tr>\n",
       "  </thead>\n",
       "  <tbody>\n",
       "    <tr>\n",
       "      <th>0</th>\n",
       "      <td>-0.971853</td>\n",
       "      <td>-0.975338</td>\n",
       "      <td>-0.979259</td>\n",
       "      <td>-0.974991</td>\n",
       "      <td>-0.965919</td>\n",
       "      <td>-0.986035</td>\n",
       "      <td>-1.034307</td>\n",
       "      <td>-1.034204</td>\n",
       "      <td>-0.969116</td>\n",
       "      <td>-0.921061</td>\n",
       "      <td>...</td>\n",
       "      <td>0.340473</td>\n",
       "      <td>0.688463</td>\n",
       "      <td>0.819742</td>\n",
       "      <td>0.509423</td>\n",
       "      <td>0.660676</td>\n",
       "      <td>0.811626</td>\n",
       "      <td>0.119692</td>\n",
       "      <td>0.600045</td>\n",
       "      <td>1.979225</td>\n",
       "      <td>2.501502</td>\n",
       "    </tr>\n",
       "    <tr>\n",
       "      <th>1</th>\n",
       "      <td>-1.577410</td>\n",
       "      <td>-1.538785</td>\n",
       "      <td>-1.514164</td>\n",
       "      <td>-1.524268</td>\n",
       "      <td>-1.559769</td>\n",
       "      <td>-1.573520</td>\n",
       "      <td>-1.556337</td>\n",
       "      <td>-1.545328</td>\n",
       "      <td>-1.550890</td>\n",
       "      <td>-1.561879</td>\n",
       "      <td>...</td>\n",
       "      <td>0.460509</td>\n",
       "      <td>0.872545</td>\n",
       "      <td>0.696110</td>\n",
       "      <td>-0.419849</td>\n",
       "      <td>-0.919264</td>\n",
       "      <td>-0.719948</td>\n",
       "      <td>-0.352404</td>\n",
       "      <td>0.011646</td>\n",
       "      <td>-0.105073</td>\n",
       "      <td>-0.526305</td>\n",
       "    </tr>\n",
       "    <tr>\n",
       "      <th>2</th>\n",
       "      <td>-1.464349</td>\n",
       "      <td>-1.446053</td>\n",
       "      <td>-1.446982</td>\n",
       "      <td>-1.484071</td>\n",
       "      <td>-1.529664</td>\n",
       "      <td>-1.550347</td>\n",
       "      <td>-1.540800</td>\n",
       "      <td>-1.513357</td>\n",
       "      <td>-1.503986</td>\n",
       "      <td>-1.511109</td>\n",
       "      <td>...</td>\n",
       "      <td>1.584898</td>\n",
       "      <td>1.472407</td>\n",
       "      <td>1.011563</td>\n",
       "      <td>0.211140</td>\n",
       "      <td>-0.470306</td>\n",
       "      <td>-0.733967</td>\n",
       "      <td>-0.792885</td>\n",
       "      <td>-0.705540</td>\n",
       "      <td>-0.732995</td>\n",
       "      <td>-0.988885</td>\n",
       "    </tr>\n",
       "    <tr>\n",
       "      <th>3</th>\n",
       "      <td>-2.033286</td>\n",
       "      <td>-2.013262</td>\n",
       "      <td>-2.036084</td>\n",
       "      <td>-2.101294</td>\n",
       "      <td>-2.132841</td>\n",
       "      <td>-2.081392</td>\n",
       "      <td>-2.021375</td>\n",
       "      <td>-2.025061</td>\n",
       "      <td>-2.036171</td>\n",
       "      <td>-2.001991</td>\n",
       "      <td>...</td>\n",
       "      <td>-0.813573</td>\n",
       "      <td>0.042750</td>\n",
       "      <td>-0.021965</td>\n",
       "      <td>-0.729674</td>\n",
       "      <td>-0.620016</td>\n",
       "      <td>-0.380774</td>\n",
       "      <td>-0.333882</td>\n",
       "      <td>0.030223</td>\n",
       "      <td>0.368676</td>\n",
       "      <td>0.309597</td>\n",
       "    </tr>\n",
       "    <tr>\n",
       "      <th>4</th>\n",
       "      <td>-0.969043</td>\n",
       "      <td>-0.983221</td>\n",
       "      <td>-0.970071</td>\n",
       "      <td>-0.984674</td>\n",
       "      <td>-1.040669</td>\n",
       "      <td>-1.062676</td>\n",
       "      <td>-1.031669</td>\n",
       "      <td>-0.988076</td>\n",
       "      <td>-0.950001</td>\n",
       "      <td>-0.930261</td>\n",
       "      <td>...</td>\n",
       "      <td>1.732473</td>\n",
       "      <td>1.576646</td>\n",
       "      <td>1.334114</td>\n",
       "      <td>0.238638</td>\n",
       "      <td>-0.445796</td>\n",
       "      <td>-0.089074</td>\n",
       "      <td>0.026985</td>\n",
       "      <td>0.168938</td>\n",
       "      <td>0.070313</td>\n",
       "      <td>-0.153239</td>\n",
       "    </tr>\n",
       "    <tr>\n",
       "      <th>...</th>\n",
       "      <td>...</td>\n",
       "      <td>...</td>\n",
       "      <td>...</td>\n",
       "      <td>...</td>\n",
       "      <td>...</td>\n",
       "      <td>...</td>\n",
       "      <td>...</td>\n",
       "      <td>...</td>\n",
       "      <td>...</td>\n",
       "      <td>...</td>\n",
       "      <td>...</td>\n",
       "      <td>...</td>\n",
       "      <td>...</td>\n",
       "      <td>...</td>\n",
       "      <td>...</td>\n",
       "      <td>...</td>\n",
       "      <td>...</td>\n",
       "      <td>...</td>\n",
       "      <td>...</td>\n",
       "      <td>...</td>\n",
       "      <td>...</td>\n",
       "    </tr>\n",
       "    <tr>\n",
       "      <th>262</th>\n",
       "      <td>0.645306</td>\n",
       "      <td>0.633396</td>\n",
       "      <td>0.667808</td>\n",
       "      <td>0.691411</td>\n",
       "      <td>0.651233</td>\n",
       "      <td>0.615765</td>\n",
       "      <td>0.609192</td>\n",
       "      <td>0.621458</td>\n",
       "      <td>0.634014</td>\n",
       "      <td>0.596226</td>\n",
       "      <td>...</td>\n",
       "      <td>-1.087766</td>\n",
       "      <td>-1.239723</td>\n",
       "      <td>-1.394215</td>\n",
       "      <td>-1.409483</td>\n",
       "      <td>-0.657931</td>\n",
       "      <td>0.158109</td>\n",
       "      <td>0.940679</td>\n",
       "      <td>0.999627</td>\n",
       "      <td>0.276723</td>\n",
       "      <td>-0.333437</td>\n",
       "    </tr>\n",
       "    <tr>\n",
       "      <th>263</th>\n",
       "      <td>0.981246</td>\n",
       "      <td>0.973011</td>\n",
       "      <td>0.953493</td>\n",
       "      <td>0.938706</td>\n",
       "      <td>0.927839</td>\n",
       "      <td>0.923290</td>\n",
       "      <td>0.899504</td>\n",
       "      <td>0.839159</td>\n",
       "      <td>0.811861</td>\n",
       "      <td>0.864709</td>\n",
       "      <td>...</td>\n",
       "      <td>-1.601851</td>\n",
       "      <td>-2.204386</td>\n",
       "      <td>-2.000821</td>\n",
       "      <td>-0.300792</td>\n",
       "      <td>0.686666</td>\n",
       "      <td>0.414330</td>\n",
       "      <td>0.212325</td>\n",
       "      <td>0.059453</td>\n",
       "      <td>0.489400</td>\n",
       "      <td>0.192065</td>\n",
       "    </tr>\n",
       "    <tr>\n",
       "      <th>264</th>\n",
       "      <td>0.854955</td>\n",
       "      <td>0.794811</td>\n",
       "      <td>0.739588</td>\n",
       "      <td>0.747087</td>\n",
       "      <td>0.782764</td>\n",
       "      <td>0.768207</td>\n",
       "      <td>0.680324</td>\n",
       "      <td>0.609329</td>\n",
       "      <td>0.656466</td>\n",
       "      <td>0.756746</td>\n",
       "      <td>...</td>\n",
       "      <td>-1.279810</td>\n",
       "      <td>-2.022717</td>\n",
       "      <td>-1.983041</td>\n",
       "      <td>-1.575008</td>\n",
       "      <td>-0.833642</td>\n",
       "      <td>-0.317021</td>\n",
       "      <td>-0.014201</td>\n",
       "      <td>-0.119777</td>\n",
       "      <td>-0.486251</td>\n",
       "      <td>-0.599041</td>\n",
       "    </tr>\n",
       "    <tr>\n",
       "      <th>265</th>\n",
       "      <td>0.601680</td>\n",
       "      <td>0.589719</td>\n",
       "      <td>0.575024</td>\n",
       "      <td>0.576648</td>\n",
       "      <td>0.626220</td>\n",
       "      <td>0.646341</td>\n",
       "      <td>0.591647</td>\n",
       "      <td>0.586469</td>\n",
       "      <td>0.646456</td>\n",
       "      <td>0.642037</td>\n",
       "      <td>...</td>\n",
       "      <td>-1.511728</td>\n",
       "      <td>-1.683650</td>\n",
       "      <td>-1.886841</td>\n",
       "      <td>-1.067758</td>\n",
       "      <td>0.474138</td>\n",
       "      <td>1.341074</td>\n",
       "      <td>0.986245</td>\n",
       "      <td>-0.195027</td>\n",
       "      <td>-0.854755</td>\n",
       "      <td>-0.858878</td>\n",
       "    </tr>\n",
       "    <tr>\n",
       "      <th>266</th>\n",
       "      <td>4.664856</td>\n",
       "      <td>4.750273</td>\n",
       "      <td>4.941801</td>\n",
       "      <td>5.103849</td>\n",
       "      <td>5.119167</td>\n",
       "      <td>5.022439</td>\n",
       "      <td>4.964311</td>\n",
       "      <td>5.005482</td>\n",
       "      <td>5.046383</td>\n",
       "      <td>5.005743</td>\n",
       "      <td>...</td>\n",
       "      <td>-0.424214</td>\n",
       "      <td>-0.985629</td>\n",
       "      <td>-1.069068</td>\n",
       "      <td>-0.252529</td>\n",
       "      <td>0.164666</td>\n",
       "      <td>0.306139</td>\n",
       "      <td>-0.455421</td>\n",
       "      <td>-1.095162</td>\n",
       "      <td>-0.840248</td>\n",
       "      <td>-0.045241</td>\n",
       "    </tr>\n",
       "  </tbody>\n",
       "</table>\n",
       "<p>267 rows × 2307 columns</p>\n",
       "</div>"
      ],
      "text/plain": [
       "     12493.238  12489.381  12485.523  12481.666  12477.809  12473.952  \\\n",
       "0    -0.971853  -0.975338  -0.979259  -0.974991  -0.965919  -0.986035   \n",
       "1    -1.577410  -1.538785  -1.514164  -1.524268  -1.559769  -1.573520   \n",
       "2    -1.464349  -1.446053  -1.446982  -1.484071  -1.529664  -1.550347   \n",
       "3    -2.033286  -2.013262  -2.036084  -2.101294  -2.132841  -2.081392   \n",
       "4    -0.969043  -0.983221  -0.970071  -0.984674  -1.040669  -1.062676   \n",
       "..         ...        ...        ...        ...        ...        ...   \n",
       "262   0.645306   0.633396   0.667808   0.691411   0.651233   0.615765   \n",
       "263   0.981246   0.973011   0.953493   0.938706   0.927839   0.923290   \n",
       "264   0.854955   0.794811   0.739588   0.747087   0.782764   0.768207   \n",
       "265   0.601680   0.589719   0.575024   0.576648   0.626220   0.646341   \n",
       "266   4.664856   4.750273   4.941801   5.103849   5.119167   5.022439   \n",
       "\n",
       "     12470.095  12466.238  12462.381  12458.523  ...  3633.415  3629.557  \\\n",
       "0    -1.034307  -1.034204  -0.969116  -0.921061  ...  0.340473  0.688463   \n",
       "1    -1.556337  -1.545328  -1.550890  -1.561879  ...  0.460509  0.872545   \n",
       "2    -1.540800  -1.513357  -1.503986  -1.511109  ...  1.584898  1.472407   \n",
       "3    -2.021375  -2.025061  -2.036171  -2.001991  ... -0.813573  0.042750   \n",
       "4    -1.031669  -0.988076  -0.950001  -0.930261  ...  1.732473  1.576646   \n",
       "..         ...        ...        ...        ...  ...       ...       ...   \n",
       "262   0.609192   0.621458   0.634014   0.596226  ... -1.087766 -1.239723   \n",
       "263   0.899504   0.839159   0.811861   0.864709  ... -1.601851 -2.204386   \n",
       "264   0.680324   0.609329   0.656466   0.756746  ... -1.279810 -2.022717   \n",
       "265   0.591647   0.586469   0.646456   0.642037  ... -1.511728 -1.683650   \n",
       "266   4.964311   5.005482   5.046383   5.005743  ... -0.424214 -0.985629   \n",
       "\n",
       "       3625.7  3621.843  3617.986  3614.129  3610.272  3606.415  3602.558  \\\n",
       "0    0.819742  0.509423  0.660676  0.811626  0.119692  0.600045  1.979225   \n",
       "1    0.696110 -0.419849 -0.919264 -0.719948 -0.352404  0.011646 -0.105073   \n",
       "2    1.011563  0.211140 -0.470306 -0.733967 -0.792885 -0.705540 -0.732995   \n",
       "3   -0.021965 -0.729674 -0.620016 -0.380774 -0.333882  0.030223  0.368676   \n",
       "4    1.334114  0.238638 -0.445796 -0.089074  0.026985  0.168938  0.070313   \n",
       "..        ...       ...       ...       ...       ...       ...       ...   \n",
       "262 -1.394215 -1.409483 -0.657931  0.158109  0.940679  0.999627  0.276723   \n",
       "263 -2.000821 -0.300792  0.686666  0.414330  0.212325  0.059453  0.489400   \n",
       "264 -1.983041 -1.575008 -0.833642 -0.317021 -0.014201 -0.119777 -0.486251   \n",
       "265 -1.886841 -1.067758  0.474138  1.341074  0.986245 -0.195027 -0.854755   \n",
       "266 -1.069068 -0.252529  0.164666  0.306139 -0.455421 -1.095162 -0.840248   \n",
       "\n",
       "       3598.7  \n",
       "0    2.501502  \n",
       "1   -0.526305  \n",
       "2   -0.988885  \n",
       "3    0.309597  \n",
       "4   -0.153239  \n",
       "..        ...  \n",
       "262 -0.333437  \n",
       "263  0.192065  \n",
       "264 -0.599041  \n",
       "265 -0.858878  \n",
       "266 -0.045241  \n",
       "\n",
       "[267 rows x 2307 columns]"
      ]
     },
     "execution_count": 93,
     "metadata": {},
     "output_type": "execute_result"
    }
   ],
   "source": [
    "# Center and Standardize all features (force mean=0 and standard deviation=1)\n",
    "x_std = x\n",
    "x_std = (x_std - x_std.mean()) / x_std.std() # Subtract mean and divide by standard deviation\n",
    "x_std"
   ]
  },
  {
   "cell_type": "code",
   "execution_count": 94,
   "id": "ea1f71e4",
   "metadata": {},
   "outputs": [
    {
     "data": {
      "text/html": [
       "<div>\n",
       "<style scoped>\n",
       "    .dataframe tbody tr th:only-of-type {\n",
       "        vertical-align: middle;\n",
       "    }\n",
       "\n",
       "    .dataframe tbody tr th {\n",
       "        vertical-align: top;\n",
       "    }\n",
       "\n",
       "    .dataframe thead th {\n",
       "        text-align: right;\n",
       "    }\n",
       "</style>\n",
       "<table border=\"1\" class=\"dataframe\">\n",
       "  <thead>\n",
       "    <tr style=\"text-align: right;\">\n",
       "      <th></th>\n",
       "      <th>CD FDN</th>\n",
       "    </tr>\n",
       "  </thead>\n",
       "  <tbody>\n",
       "    <tr>\n",
       "      <th>0</th>\n",
       "      <td>48.020838</td>\n",
       "    </tr>\n",
       "    <tr>\n",
       "      <th>1</th>\n",
       "      <td>56.095593</td>\n",
       "    </tr>\n",
       "    <tr>\n",
       "      <th>2</th>\n",
       "      <td>53.092602</td>\n",
       "    </tr>\n",
       "    <tr>\n",
       "      <th>3</th>\n",
       "      <td>54.817350</td>\n",
       "    </tr>\n",
       "    <tr>\n",
       "      <th>4</th>\n",
       "      <td>64.944856</td>\n",
       "    </tr>\n",
       "    <tr>\n",
       "      <th>...</th>\n",
       "      <td>...</td>\n",
       "    </tr>\n",
       "    <tr>\n",
       "      <th>262</th>\n",
       "      <td>63.597757</td>\n",
       "    </tr>\n",
       "    <tr>\n",
       "      <th>263</th>\n",
       "      <td>45.851922</td>\n",
       "    </tr>\n",
       "    <tr>\n",
       "      <th>264</th>\n",
       "      <td>10.417453</td>\n",
       "    </tr>\n",
       "    <tr>\n",
       "      <th>265</th>\n",
       "      <td>18.125828</td>\n",
       "    </tr>\n",
       "    <tr>\n",
       "      <th>266</th>\n",
       "      <td>72.486363</td>\n",
       "    </tr>\n",
       "  </tbody>\n",
       "</table>\n",
       "<p>267 rows × 1 columns</p>\n",
       "</div>"
      ],
      "text/plain": [
       "        CD FDN\n",
       "0    48.020838\n",
       "1    56.095593\n",
       "2    53.092602\n",
       "3    54.817350\n",
       "4    64.944856\n",
       "..         ...\n",
       "262  63.597757\n",
       "263  45.851922\n",
       "264  10.417453\n",
       "265  18.125828\n",
       "266  72.486363\n",
       "\n",
       "[267 rows x 1 columns]"
      ]
     },
     "execution_count": 94,
     "metadata": {},
     "output_type": "execute_result"
    }
   ],
   "source": [
    "# Response variable vector\n",
    "y = df[[\"CD FDN\"]]\n",
    "y"
   ]
  },
  {
   "cell_type": "code",
   "execution_count": 95,
   "id": "6db7da52",
   "metadata": {},
   "outputs": [
    {
     "name": "stdout",
     "output_type": "stream",
     "text": [
      "N. samples training 186 , N. samples testing 81\n"
     ]
    }
   ],
   "source": [
    "# Split the data set into training (70%) and testing (30%)\n",
    "from sklearn.model_selection import train_test_split\n",
    "x_train, x_test, y_train, y_test = train_test_split(x_std, y, test_size=0.30, shuffle=True, random_state=4)\n",
    "print(\"N. samples training %s , N. samples testing %s\" % (x_train.shape[0], x_test.shape[0]))"
   ]
  },
  {
   "cell_type": "markdown",
   "id": "188f1098",
   "metadata": {},
   "source": [
    "##  Training (GridSearch)"
   ]
  },
  {
   "cell_type": "code",
   "execution_count": null,
   "id": "bd2fa967",
   "metadata": {},
   "outputs": [],
   "source": [
    "# GridSearch using k-fold cross-validation\n",
    "from sklearn.neural_network import MLPRegressor\n",
    "from sklearn.model_selection import GridSearchCV\n",
    "nfolds = 3\n",
    "metrics = ('r2', 'neg_mean_absolute_error', 'neg_root_mean_squared_error')\n",
    "parameters = {'activation':('relu', 'tanh'), \n",
    "              'hidden_layer_sizes': [(3,),(5,),(10,)],\n",
    "              'random_state':[40]}\n",
    "\n",
    "nn = MLPRegressor()\n",
    "nn = GridSearchCV(nn, parameters, scoring=metrics, cv=nfolds, refit = metrics[2], return_train_score = True)\n",
    "nn.fit(x_train, np.ravel(y_train))"
   ]
  },
  {
   "cell_type": "code",
   "execution_count": 98,
   "id": "92bae13d",
   "metadata": {},
   "outputs": [
    {
     "data": {
      "text/html": [
       "<div>\n",
       "<style scoped>\n",
       "    .dataframe tbody tr th:only-of-type {\n",
       "        vertical-align: middle;\n",
       "    }\n",
       "\n",
       "    .dataframe tbody tr th {\n",
       "        vertical-align: top;\n",
       "    }\n",
       "\n",
       "    .dataframe thead th {\n",
       "        text-align: right;\n",
       "    }\n",
       "</style>\n",
       "<table border=\"1\" class=\"dataframe\">\n",
       "  <thead>\n",
       "    <tr style=\"text-align: right;\">\n",
       "      <th></th>\n",
       "      <th>Activation</th>\n",
       "      <th>Layer Sizes</th>\n",
       "      <th>R2</th>\n",
       "      <th>MAE</th>\n",
       "      <th>RMSE</th>\n",
       "    </tr>\n",
       "  </thead>\n",
       "  <tbody>\n",
       "    <tr>\n",
       "      <th>0</th>\n",
       "      <td>relu</td>\n",
       "      <td>(3,)</td>\n",
       "      <td>-6.522277</td>\n",
       "      <td>27.925503</td>\n",
       "      <td>33.633517</td>\n",
       "    </tr>\n",
       "    <tr>\n",
       "      <th>1</th>\n",
       "      <td>relu</td>\n",
       "      <td>(5,)</td>\n",
       "      <td>-5.018888</td>\n",
       "      <td>24.213709</td>\n",
       "      <td>29.976535</td>\n",
       "    </tr>\n",
       "    <tr>\n",
       "      <th>2</th>\n",
       "      <td>relu</td>\n",
       "      <td>(10,)</td>\n",
       "      <td>-5.320145</td>\n",
       "      <td>25.309131</td>\n",
       "      <td>30.604210</td>\n",
       "    </tr>\n",
       "    <tr>\n",
       "      <th>3</th>\n",
       "      <td>tanh</td>\n",
       "      <td>(3,)</td>\n",
       "      <td>-16.542293</td>\n",
       "      <td>49.813293</td>\n",
       "      <td>51.374267</td>\n",
       "    </tr>\n",
       "    <tr>\n",
       "      <th>4</th>\n",
       "      <td>tanh</td>\n",
       "      <td>(5,)</td>\n",
       "      <td>-16.122275</td>\n",
       "      <td>49.132702</td>\n",
       "      <td>50.731736</td>\n",
       "    </tr>\n",
       "    <tr>\n",
       "      <th>5</th>\n",
       "      <td>tanh</td>\n",
       "      <td>(10,)</td>\n",
       "      <td>-15.899153</td>\n",
       "      <td>48.708890</td>\n",
       "      <td>50.399608</td>\n",
       "    </tr>\n",
       "  </tbody>\n",
       "</table>\n",
       "</div>"
      ],
      "text/plain": [
       "  Activation Layer Sizes         R2        MAE       RMSE\n",
       "0       relu        (3,)  -6.522277  27.925503  33.633517\n",
       "1       relu        (5,)  -5.018888  24.213709  29.976535\n",
       "2       relu       (10,)  -5.320145  25.309131  30.604210\n",
       "3       tanh        (3,) -16.542293  49.813293  51.374267\n",
       "4       tanh        (5,) -16.122275  49.132702  50.731736\n",
       "5       tanh       (10,) -15.899153  48.708890  50.399608"
      ]
     },
     "execution_count": 98,
     "metadata": {},
     "output_type": "execute_result"
    }
   ],
   "source": [
    "pd.DataFrame({'Activation': nn.cv_results_[\"param_activation\"],\n",
    "              'Layer Sizes': nn.cv_results_['param_hidden_layer_sizes'],\n",
    "              'R2': nn.cv_results_[\"mean_test_r2\"], \n",
    "              'MAE': abs(nn.cv_results_['mean_test_neg_mean_absolute_error']),\n",
    "              'RMSE': abs(nn.cv_results_['mean_test_neg_root_mean_squared_error'])})"
   ]
  },
  {
   "cell_type": "markdown",
   "id": "841b6f8a",
   "metadata": {},
   "source": [
    "## Testing"
   ]
  },
  {
   "cell_type": "code",
   "execution_count": 99,
   "id": "8e3b288e",
   "metadata": {},
   "outputs": [
    {
     "name": "stdout",
     "output_type": "stream",
     "text": [
      "Best Activation: relu, Layer Size: (5,), RMSE: 29.976535\n"
     ]
    }
   ],
   "source": [
    "# Print best activation function, layer size, and RMSE, and testing the best model using the test set\n",
    "print(\"Best Activation: %s, Layer Size: %s, RMSE: %.6f\" % (nn.best_params_['activation'], nn.best_params_['hidden_layer_sizes'], abs(nn.best_score_)))\n",
    "ypred = nn.best_estimator_.predict(x_test)"
   ]
  },
  {
   "cell_type": "code",
   "execution_count": 100,
   "id": "baf66c8d",
   "metadata": {},
   "outputs": [
    {
     "data": {
      "text/plain": [
       "[<matplotlib.lines.Line2D at 0x7f95c9577130>]"
      ]
     },
     "execution_count": 100,
     "metadata": {},
     "output_type": "execute_result"
    },
    {
     "data": {
      "image/png": "[encoded data removed]",
      "text/plain": [
       "<Figure size 432x288 with 1 Axes>"
      ]
     },
     "metadata": {
      "needs_background": "light"
     },
     "output_type": "display_data"
    }
   ],
   "source": [
    "# Scatter plot - predicted and observed\n",
    "import matplotlib.pyplot as plt\n",
    "import numpy as np\n",
    "ypred = np.ravel(ypred)\n",
    "plt.plot(ypred, y_test, 'o')\n",
    "m, b = np.polyfit(ypred, y_test, 1)\n",
    "plt.plot(ypred, m*ypred + b)"
   ]
  },
  {
   "cell_type": "code",
   "execution_count": 101,
   "id": "65c0c222",
   "metadata": {},
   "outputs": [
    {
     "data": {
      "text/html": [
       "<div>\n",
       "<style scoped>\n",
       "    .dataframe tbody tr th:only-of-type {\n",
       "        vertical-align: middle;\n",
       "    }\n",
       "\n",
       "    .dataframe tbody tr th {\n",
       "        vertical-align: top;\n",
       "    }\n",
       "\n",
       "    .dataframe thead th {\n",
       "        text-align: right;\n",
       "    }\n",
       "</style>\n",
       "<table border=\"1\" class=\"dataframe\">\n",
       "  <thead>\n",
       "    <tr style=\"text-align: right;\">\n",
       "      <th></th>\n",
       "      <th>Activation</th>\n",
       "      <th>Layer Size</th>\n",
       "      <th>R2</th>\n",
       "      <th>MAE</th>\n",
       "      <th>RMSE</th>\n",
       "    </tr>\n",
       "  </thead>\n",
       "  <tbody>\n",
       "    <tr>\n",
       "      <th>0</th>\n",
       "      <td>relu</td>\n",
       "      <td>(5,)</td>\n",
       "      <td>-4.725426</td>\n",
       "      <td>25.169789</td>\n",
       "      <td>31.101654</td>\n",
       "    </tr>\n",
       "  </tbody>\n",
       "</table>\n",
       "</div>"
      ],
      "text/plain": [
       "  Activation Layer Size        R2        MAE       RMSE\n",
       "0       relu       (5,) -4.725426  25.169789  31.101654"
      ]
     },
     "execution_count": 101,
     "metadata": {},
     "output_type": "execute_result"
    }
   ],
   "source": [
    "# Metrics - testing\n",
    "from sklearn.metrics import *\n",
    "\n",
    "pd.DataFrame({'Activation': [nn.best_params_['activation']],\n",
    "              'Layer Size': [nn.best_params_['hidden_layer_sizes']],\n",
    "              'R2': r2_score(y_test, ypred), \n",
    "              'MAE': [abs(mean_absolute_error(y_test, ypred))],\n",
    "              'RMSE': [abs(mean_squared_error(y_test, ypred, squared=False))]})"
   ]
  }
 ],
 "metadata": {
  "kernelspec": {
   "display_name": "Python 3 (ipykernel)",
   "language": "python",
   "name": "python3"
  },
  "language_info": {
   "codemirror_mode": {
    "name": "ipython",
    "version": 3
   },
   "file_extension": ".py",
   "mimetype": "text/x-python",
   "name": "python",
   "nbconvert_exporter": "python",
   "pygments_lexer": "ipython3",
   "version": "3.9.12"
  }
 },
 "nbformat": 4,
 "nbformat_minor": 5
}
