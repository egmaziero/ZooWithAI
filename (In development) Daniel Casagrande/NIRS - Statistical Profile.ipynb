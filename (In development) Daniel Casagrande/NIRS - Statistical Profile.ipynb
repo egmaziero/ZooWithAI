{
 "cells": [
  {
   "cell_type": "markdown",
   "id": "55c90345",
   "metadata": {
    "tags": []
   },
   "source": [
    "# NIRS\n",
    "### Statistical Profile"
   ]
  },
  {
   "cell_type": "code",
   "execution_count": 2,
   "id": "f76080c4",
   "metadata": {},
   "outputs": [],
   "source": [
    "import numpy as np\n",
    "import pandas as pd\n",
    "from pandas_profiling import ProfileReport"
   ]
  },
  {
   "cell_type": "code",
   "execution_count": 3,
   "id": "5f409c20-93bf-499e-8d2c-e0fb5634a8a0",
   "metadata": {},
   "outputs": [],
   "source": [
    "import pandas as pd\n",
    "import numpy as np\n",
    "import warnings\n",
    "# warnings.filterwarnings('ignore')\n",
    "df = pd.read_excel('Datasets/Lucas/dados_nirs_lucas.xlsx')\n",
    "# Transform all feautere names to string\n",
    "df.columns = df.columns.map(str)"
   ]
  },
  {
   "cell_type": "code",
   "execution_count": 4,
   "id": "8f9b8a71",
   "metadata": {},
   "outputs": [],
   "source": [
    "df = df.loc[:,:'12493.238']"
   ]
  },
  {
   "cell_type": "code",
   "execution_count": 5,
   "id": "517454fb",
   "metadata": {},
   "outputs": [
    {
     "data": {
      "text/plain": [
       "Animal                     object\n",
       "Coleta                     object\n",
       "Aluno                      object\n",
       "Experimento                object\n",
       "Categoria                  object\n",
       "Dieta                      object\n",
       "Status fisiologico         object\n",
       "Peso corporal kg          float64\n",
       "Consumo MS kg/dia         float64\n",
       "Consumo MO kg/dia         float64\n",
       "Consumo PB kg/dia         float64\n",
       "Consumo FDN kg/dia        float64\n",
       "Consumo EE kg/dia         float64\n",
       "Consumo CNF kg/dia        float64\n",
       "Consumo de FDNi kg/dia     object\n",
       "Fezes MS kg/dia           float64\n",
       "Fezes MO kg/dia           float64\n",
       "Fezes PB kg/dia           float64\n",
       "Fezes FDN kg/dia          float64\n",
       "Fezes EE kg/dia           float64\n",
       "Fezes CNF kg/dia          float64\n",
       "TD MO                     float64\n",
       "TD PB                     float64\n",
       "TD FDN                    float64\n",
       "TD EE                     float64\n",
       "TD CNF                    float64\n",
       "TF MO                     float64\n",
       "TF PB                     float64\n",
       "TF FDN                    float64\n",
       "TF EE                     float64\n",
       "TF CNF                    float64\n",
       "TF FDNpd                   object\n",
       "CD MS                     float64\n",
       "CD MO                     float64\n",
       "CD PB                     float64\n",
       "CD FDN                    float64\n",
       "CD EE                     float64\n",
       "CD CNF                    float64\n",
       "12493.238                 float64\n",
       "dtype: object"
      ]
     },
     "execution_count": 5,
     "metadata": {},
     "output_type": "execute_result"
    }
   ],
   "source": [
    "df.dtypes"
   ]
  },
  {
   "cell_type": "code",
   "execution_count": 14,
   "id": "bade20f3-54bc-429e-939f-6d8fb138c6bb",
   "metadata": {},
   "outputs": [],
   "source": [
    "df[['Consumo de FDNi kg/dia', 'TF FDNpd']] = df[['Consumo de FDNi kg/dia', 'TF FDNpd']].replace(to_replace='-', value='')"
   ]
  },
  {
   "cell_type": "code",
   "execution_count": 18,
   "id": "a268b991",
   "metadata": {
    "scrolled": true
   },
   "outputs": [],
   "source": [
    "df = df.astype({\n",
    "    'Animal' : str,\n",
    "})"
   ]
  },
  {
   "cell_type": "code",
   "execution_count": 23,
   "id": "a358e048-9230-4822-95b9-a0db8a144bbc",
   "metadata": {},
   "outputs": [],
   "source": [
    "df['Consumo de FDNi kg/dia'] = pd.to_numeric(df['Consumo de FDNi kg/dia'], errors='coerce')"
   ]
  },
  {
   "cell_type": "code",
   "execution_count": 24,
   "id": "73b82e5d-2859-4f09-bbab-ff0ec73d60a4",
   "metadata": {},
   "outputs": [],
   "source": [
    "df['TF FDNpd'] = pd.to_numeric(df['TF FDNpd'], errors='coerce')"
   ]
  },
  {
   "cell_type": "code",
   "execution_count": 35,
   "id": "b18181dc",
   "metadata": {},
   "outputs": [
    {
     "data": {
      "application/vnd.jupyter.widget-view+json": {
       "model_id": "d8fd66336bb74b319092803add128e31",
       "version_major": 2,
       "version_minor": 0
      },
      "text/plain": [
       "Summarize dataset:   0%|          | 0/5 [00:00<?, ?it/s]"
      ]
     },
     "metadata": {},
     "output_type": "display_data"
    },
    {
     "data": {
      "application/vnd.jupyter.widget-view+json": {
       "model_id": "a81f0d58a1264d1eb9a9f309ffef20c1",
       "version_major": 2,
       "version_minor": 0
      },
      "text/plain": [
       "Generate report structure:   0%|          | 0/1 [00:00<?, ?it/s]"
      ]
     },
     "metadata": {},
     "output_type": "display_data"
    },
    {
     "data": {
      "application/vnd.jupyter.widget-view+json": {
       "model_id": "1181cfbaed634f4cb9f0ec2287c12d45",
       "version_major": 2,
       "version_minor": 0
      },
      "text/plain": [
       "Render HTML:   0%|          | 0/1 [00:00<?, ?it/s]"
      ]
     },
     "metadata": {},
     "output_type": "display_data"
    },
    {
     "data": {
      "application/vnd.jupyter.widget-view+json": {
       "model_id": "abd7818ed0c74967afb55fc596510372",
       "version_major": 2,
       "version_minor": 0
      },
      "text/plain": [
       "Export report to file:   0%|          | 0/1 [00:00<?, ?it/s]"
      ]
     },
     "metadata": {},
     "output_type": "display_data"
    }
   ],
   "source": [
    "# Geração do profile estatístico\n",
    "profile = ProfileReport(df, title='Statistical Profile NIRS',\n",
    "                       correlations={\n",
    "                                        \"pearson\": {\"calculate\": True},\n",
    "                                        \"spearman\": {\"calculate\": False},\n",
    "                                        \"kendall\": {\"calculate\": False},\n",
    "                                        \"phi_k\": {\"calculate\": False},\n",
    "    })\n",
    "# profile.to_notebook_iframe()\n",
    "profile.to_file(\"StatisticalProfileNirs.html\")"
   ]
  },
  {
   "cell_type": "code",
   "execution_count": null,
   "id": "4db40458-0bba-482e-8bb5-541e0259520c",
   "metadata": {},
   "outputs": [],
   "source": []
  }
 ],
 "metadata": {
  "kernelspec": {
   "display_name": "Python 3 (ipykernel)",
   "language": "python",
   "name": "python3"
  },
  "language_info": {
   "codemirror_mode": {
    "name": "ipython",
    "version": 3
   },
   "file_extension": ".py",
   "mimetype": "text/x-python",
   "name": "python",
   "nbconvert_exporter": "python",
   "pygments_lexer": "ipython3",
   "version": "3.9.12"
  }
 },
 "nbformat": 4,
 "nbformat_minor": 5
}
