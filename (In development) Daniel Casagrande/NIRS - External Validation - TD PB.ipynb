{
 "cells": [
  {
   "cell_type": "markdown",
   "id": "7e7e49a9",
   "metadata": {},
   "source": [
    "# <center> NIRS <center> EXTERNAL VALIDATION OF GROSS PROTEIN CONTENT IN THE DIET\n",
    "***\n",
    "# Table of Contents\n",
    "* [READING THE DATASET INTO PYTHON](#READING-THE-DATASET-INTO-PYTHON)\n",
    "* [DATA EDITING](#DATA-EDITING)\n",
    "    * [Creating dummy variables (One-Hot Encode)](#Creating-dummy-variables-(One-Hot-Encode))\n",
    "    * [Creating training and testing datasets](#Creating-training-and-testing-datasets)\n",
    "***"
   ]
  },
  {
   "cell_type": "markdown",
   "id": "a2f80471-aecc-4677-a1d4-fb6b6d5c437f",
   "metadata": {},
   "source": [
    "## IMPORTS"
   ]
  },
  {
   "cell_type": "code",
   "execution_count": 1,
   "id": "1517db8f-c36c-411b-bfbe-6b88e0e78e9d",
   "metadata": {},
   "outputs": [],
   "source": [
    "import pandas as pd\n",
    "import numpy as np\n",
    "import matplotlib.pyplot as plt\n",
    "import warnings\n",
    "#warnings.filterwarnings('ignore')\n",
    "# Private libary\n",
    "import cmls"
   ]
  },
  {
   "cell_type": "markdown",
   "id": "43d0e132-08ae-4413-948a-ae685ba49419",
   "metadata": {
    "tags": []
   },
   "source": [
    "## FUNCTIONS"
   ]
  },
  {
   "cell_type": "markdown",
   "id": "74b55a4e",
   "metadata": {
    "tags": []
   },
   "source": [
    "## READING THE DATASET INTO PYTHON"
   ]
  },
  {
   "cell_type": "code",
   "execution_count": 2,
   "id": "1e13ef95",
   "metadata": {},
   "outputs": [],
   "source": [
    "df0 = pd.read_excel('Datasets/Lucas/dados_nirs_lucas.xlsx')\n",
    "df = df0"
   ]
  },
  {
   "cell_type": "code",
   "execution_count": 3,
   "id": "89b95597-c028-46f4-9666-68b38855fce6",
   "metadata": {},
   "outputs": [],
   "source": [
    "df_larrisa = pd.read_excel('Datasets/Lucas/dados_larrisa_PB_validacao_externa.xlsx')"
   ]
  },
  {
   "cell_type": "code",
   "execution_count": 4,
   "id": "c95c5cf8-10da-496d-9af0-9ef530d7ec44",
   "metadata": {},
   "outputs": [],
   "source": [
    "#Reset\n",
    "df = df0\n",
    "\n",
    "# Transform all feautere names to string\n",
    "df.columns = df.columns.map(str)"
   ]
  },
  {
   "cell_type": "markdown",
   "id": "fa874b44-90bc-44b1-bd2a-03a266b795e6",
   "metadata": {
    "tags": []
   },
   "source": [
    "## DATA DIVISION"
   ]
  },
  {
   "cell_type": "code",
   "execution_count": 5,
   "id": "ca40800a-1798-452e-8455-d7ffd73686ab",
   "metadata": {},
   "outputs": [],
   "source": [
    "# Remove data with TD PB larger than 16\n",
    "df = df[df['TD PB'] < 16]"
   ]
  },
  {
   "cell_type": "code",
   "execution_count": 15,
   "id": "6ae9cdbc-0913-45f9-858a-0fdf2d9175d0",
   "metadata": {},
   "outputs": [],
   "source": [
    "# Select all NIRS data as x\n",
    "x = df.loc[:,'12493.238':'4007.556']"
   ]
  },
  {
   "cell_type": "code",
   "execution_count": 16,
   "id": "6c323bd4-526c-4a9e-bc94-019fe40ca95b",
   "metadata": {},
   "outputs": [],
   "source": [
    "with open('nirs_pre_processed_best_R2.npy', 'rb') as f:\n",
    "    x = np.load(f)"
   ]
  },
  {
   "cell_type": "code",
   "execution_count": 8,
   "id": "8b88e23e-57a3-404c-9a56-04e58a85bc48",
   "metadata": {},
   "outputs": [],
   "source": [
    "# \"savitzky_golay{'deriv': 1, 'order': 1, 'window_size': 17} / MSC{}\" 'nirs_pre_processed_best_R2.npy'\n",
    "# \"EMSC{} / savitzky_golay{'deriv': 1, 'order': 1, 'window_size': 15}\" nirs_pre_processed_best_RMSECV"
   ]
  },
  {
   "cell_type": "code",
   "execution_count": 9,
   "id": "2cb279c3-6949-4d81-ab94-4586b6feb55c",
   "metadata": {},
   "outputs": [],
   "source": [
    "x_train = pd.DataFrame(x)"
   ]
  },
  {
   "cell_type": "code",
   "execution_count": 17,
   "id": "aba9a3fe-d9c4-4e96-b092-dde7f5709377",
   "metadata": {},
   "outputs": [],
   "source": [
    "cols = df.loc[:,'12493.238':'4007.556']\n",
    "\n",
    "x_train.columns = cols.columns\n",
    "del cols"
   ]
  },
  {
   "cell_type": "code",
   "execution_count": 11,
   "id": "e6a41e7e",
   "metadata": {},
   "outputs": [],
   "source": [
    "# Response variable vector\n",
    "y_train = df['TD PB']"
   ]
  },
  {
   "cell_type": "code",
   "execution_count": 12,
   "id": "c62b9083-017f-4298-853f-599dffc0116c",
   "metadata": {},
   "outputs": [],
   "source": [
    "y = df_larrisa['TD PB']"
   ]
  },
  {
   "cell_type": "code",
   "execution_count": 13,
   "id": "d2b07f1c-b522-46f5-a7f2-51c5616cb5c3",
   "metadata": {},
   "outputs": [],
   "source": [
    "x = df_larrisa.loc[:,'12493.238':'4007.556']"
   ]
  },
  {
   "cell_type": "code",
   "execution_count": 64,
   "id": "0a356db5-da7a-404f-939a-aeb2d263f2e0",
   "metadata": {},
   "outputs": [],
   "source": [
    "y = pd.concat([y_train, y_test ], ignore_index=True)"
   ]
  },
  {
   "cell_type": "code",
   "execution_count": 65,
   "id": "b61f0176-1bea-47de-94ad-5c27d4d4b32a",
   "metadata": {},
   "outputs": [],
   "source": [
    "x = pd.concat([x_train, x_test], ignore_index=True)"
   ]
  },
  {
   "cell_type": "code",
   "execution_count": 14,
   "id": "9c0104ee-9681-40f5-a5ab-480b4e0611dc",
   "metadata": {
    "tags": []
   },
   "outputs": [
    {
     "name": "stdout",
     "output_type": "stream",
     "text": [
      "N. samples training 64 , N. samples testing 28\n"
     ]
    }
   ],
   "source": [
    "# Split the data set into training (70%) and testing (30%)\n",
    "from sklearn.model_selection import train_test_split\n",
    "x_train, x_test, y_train, y_test = train_test_split(x, y, test_size=0.30, shuffle=True, random_state=40)\n",
    "print(\"N. samples training %s , N. samples testing %s\" % (x_train.shape[0], x_test.shape[0]))"
   ]
  },
  {
   "cell_type": "markdown",
   "id": "62817c1d",
   "metadata": {
    "tags": []
   },
   "source": [
    "## PRE-PROCESSING"
   ]
  },
  {
   "cell_type": "markdown",
   "id": "0bb2f578-aa88-4ac1-8d27-33075adf1f90",
   "metadata": {
    "tags": []
   },
   "source": [
    "### Feature Scaling"
   ]
  },
  {
   "cell_type": "code",
   "execution_count": 106,
   "id": "b0ac4c11-1ab3-49aa-9e2f-27ea21bc4bbd",
   "metadata": {},
   "outputs": [],
   "source": [
    "from sklearn.preprocessing import MinMaxScaler\n",
    "\n",
    "scaler = MinMaxScaler().fit(x_train)\n",
    "x_train = scaler.transform(x_train)\n",
    "x_test = scaler.transform(x_test)"
   ]
  },
  {
   "cell_type": "markdown",
   "id": "003f2694",
   "metadata": {
    "tags": []
   },
   "source": [
    "### Summary Statistics"
   ]
  },
  {
   "cell_type": "code",
   "execution_count": 72,
   "id": "ea7dfc82-b6c7-4527-a0c6-d5b3cde2f12e",
   "metadata": {},
   "outputs": [
    {
     "data": {
      "image/png": "[encoded data removed]",
      "text/plain": [
       "<Figure size 1152x576 with 1 Axes>"
      ]
     },
     "metadata": {
      "needs_background": "light"
     },
     "output_type": "display_data"
    }
   ],
   "source": [
    "for i in range(0, df.shape[0]):\n",
    "    x.loc[i, '12493.238':'4007.556'].plot(kind='line', figsize=(16,8))\n",
    "\n",
    "\n",
    "plt.ylabel(\"Absorção\")\n",
    "plt.xlabel(\"Comprimento de onda(cm^-1)\")\n",
    "plt.grid(visible=True)\n",
    "plt.title(\"Espectros de NIRS por amostra após tratamentos de ruído\")\n",
    "plt.show()"
   ]
  },
  {
   "cell_type": "code",
   "execution_count": null,
   "id": "f942fa17-8f1f-4cfc-bea6-5f56c8776295",
   "metadata": {},
   "outputs": [
    {
     "data": {
      "text/html": [
       "<div>\n",
       "<style scoped>\n",
       "    .dataframe tbody tr th:only-of-type {\n",
       "        vertical-align: middle;\n",
       "    }\n",
       "\n",
       "    .dataframe tbody tr th {\n",
       "        vertical-align: top;\n",
       "    }\n",
       "\n",
       "    .dataframe thead th {\n",
       "        text-align: right;\n",
       "    }\n",
       "</style>\n",
       "<table border=\"1\" class=\"dataframe\">\n",
       "  <thead>\n",
       "    <tr style=\"text-align: right;\">\n",
       "      <th></th>\n",
       "      <th>Peso corporal kg</th>\n",
       "      <th>Consumo MS kg/dia</th>\n",
       "      <th>Consumo MO kg/dia</th>\n",
       "      <th>Consumo PB kg/dia</th>\n",
       "      <th>Consumo FDN kg/dia</th>\n",
       "      <th>Consumo EE kg/dia</th>\n",
       "      <th>Consumo CNF kg/dia</th>\n",
       "      <th>Fezes MS kg/dia</th>\n",
       "      <th>Fezes MO kg/dia</th>\n",
       "      <th>Fezes PB kg/dia</th>\n",
       "      <th>...</th>\n",
       "      <th>3633.415</th>\n",
       "      <th>3629.557</th>\n",
       "      <th>3625.7</th>\n",
       "      <th>3621.843</th>\n",
       "      <th>3617.986</th>\n",
       "      <th>3614.129</th>\n",
       "      <th>3610.272</th>\n",
       "      <th>3606.415</th>\n",
       "      <th>3602.558</th>\n",
       "      <th>3598.7</th>\n",
       "    </tr>\n",
       "  </thead>\n",
       "  <tbody>\n",
       "    <tr>\n",
       "      <th>count</th>\n",
       "      <td>267.000000</td>\n",
       "      <td>267.000000</td>\n",
       "      <td>267.000000</td>\n",
       "      <td>267.000000</td>\n",
       "      <td>267.000000</td>\n",
       "      <td>267.000000</td>\n",
       "      <td>267.000000</td>\n",
       "      <td>267.000000</td>\n",
       "      <td>267.000000</td>\n",
       "      <td>267.000000</td>\n",
       "      <td>...</td>\n",
       "      <td>267.000000</td>\n",
       "      <td>267.000000</td>\n",
       "      <td>267.000000</td>\n",
       "      <td>267.000000</td>\n",
       "      <td>267.000000</td>\n",
       "      <td>267.000000</td>\n",
       "      <td>267.000000</td>\n",
       "      <td>267.000000</td>\n",
       "      <td>267.000000</td>\n",
       "      <td>267.000000</td>\n",
       "    </tr>\n",
       "    <tr>\n",
       "      <th>mean</th>\n",
       "      <td>509.824906</td>\n",
       "      <td>6.379836</td>\n",
       "      <td>6.030204</td>\n",
       "      <td>0.619715</td>\n",
       "      <td>3.469328</td>\n",
       "      <td>0.192359</td>\n",
       "      <td>1.711190</td>\n",
       "      <td>2.704554</td>\n",
       "      <td>2.330777</td>\n",
       "      <td>0.263546</td>\n",
       "      <td>...</td>\n",
       "      <td>0.229030</td>\n",
       "      <td>0.213754</td>\n",
       "      <td>0.260170</td>\n",
       "      <td>0.291170</td>\n",
       "      <td>0.286859</td>\n",
       "      <td>0.283470</td>\n",
       "      <td>0.269462</td>\n",
       "      <td>0.242059</td>\n",
       "      <td>0.239917</td>\n",
       "      <td>0.225538</td>\n",
       "    </tr>\n",
       "    <tr>\n",
       "      <th>std</th>\n",
       "      <td>102.339137</td>\n",
       "      <td>2.002452</td>\n",
       "      <td>1.875748</td>\n",
       "      <td>0.336699</td>\n",
       "      <td>1.073802</td>\n",
       "      <td>0.080614</td>\n",
       "      <td>0.641736</td>\n",
       "      <td>0.795194</td>\n",
       "      <td>0.720937</td>\n",
       "      <td>0.096765</td>\n",
       "      <td>...</td>\n",
       "      <td>0.199782</td>\n",
       "      <td>0.237003</td>\n",
       "      <td>0.188358</td>\n",
       "      <td>0.156556</td>\n",
       "      <td>0.175760</td>\n",
       "      <td>0.191097</td>\n",
       "      <td>0.185356</td>\n",
       "      <td>0.187441</td>\n",
       "      <td>0.166877</td>\n",
       "      <td>0.164253</td>\n",
       "    </tr>\n",
       "    <tr>\n",
       "      <th>min</th>\n",
       "      <td>281.000000</td>\n",
       "      <td>1.429860</td>\n",
       "      <td>1.435228</td>\n",
       "      <td>0.092339</td>\n",
       "      <td>0.577233</td>\n",
       "      <td>0.051604</td>\n",
       "      <td>0.441309</td>\n",
       "      <td>0.760456</td>\n",
       "      <td>0.622813</td>\n",
       "      <td>0.054601</td>\n",
       "      <td>...</td>\n",
       "      <td>-0.276049</td>\n",
       "      <td>-0.395581</td>\n",
       "      <td>-0.238561</td>\n",
       "      <td>-0.024993</td>\n",
       "      <td>-0.125093</td>\n",
       "      <td>-0.180869</td>\n",
       "      <td>-0.196580</td>\n",
       "      <td>-0.261695</td>\n",
       "      <td>-0.144254</td>\n",
       "      <td>-0.129140</td>\n",
       "    </tr>\n",
       "    <tr>\n",
       "      <th>25%</th>\n",
       "      <td>425.500000</td>\n",
       "      <td>4.945368</td>\n",
       "      <td>4.651638</td>\n",
       "      <td>0.351819</td>\n",
       "      <td>2.707140</td>\n",
       "      <td>0.134618</td>\n",
       "      <td>1.212661</td>\n",
       "      <td>2.130980</td>\n",
       "      <td>1.851124</td>\n",
       "      <td>0.192972</td>\n",
       "      <td>...</td>\n",
       "      <td>0.107274</td>\n",
       "      <td>0.069525</td>\n",
       "      <td>0.139561</td>\n",
       "      <td>0.179395</td>\n",
       "      <td>0.165436</td>\n",
       "      <td>0.147912</td>\n",
       "      <td>0.157507</td>\n",
       "      <td>0.108506</td>\n",
       "      <td>0.116012</td>\n",
       "      <td>0.106476</td>\n",
       "    </tr>\n",
       "    <tr>\n",
       "      <th>50%</th>\n",
       "      <td>530.000000</td>\n",
       "      <td>6.231714</td>\n",
       "      <td>5.898576</td>\n",
       "      <td>0.568794</td>\n",
       "      <td>3.385846</td>\n",
       "      <td>0.182511</td>\n",
       "      <td>1.674349</td>\n",
       "      <td>2.681238</td>\n",
       "      <td>2.313793</td>\n",
       "      <td>0.255564</td>\n",
       "      <td>...</td>\n",
       "      <td>0.229640</td>\n",
       "      <td>0.233216</td>\n",
       "      <td>0.255576</td>\n",
       "      <td>0.287353</td>\n",
       "      <td>0.282204</td>\n",
       "      <td>0.287219</td>\n",
       "      <td>0.283499</td>\n",
       "      <td>0.255783</td>\n",
       "      <td>0.239895</td>\n",
       "      <td>0.216038</td>\n",
       "    </tr>\n",
       "    <tr>\n",
       "      <th>75%</th>\n",
       "      <td>582.000000</td>\n",
       "      <td>7.716805</td>\n",
       "      <td>7.304223</td>\n",
       "      <td>0.795090</td>\n",
       "      <td>4.207334</td>\n",
       "      <td>0.232064</td>\n",
       "      <td>2.106837</td>\n",
       "      <td>3.202887</td>\n",
       "      <td>2.748287</td>\n",
       "      <td>0.316227</td>\n",
       "      <td>...</td>\n",
       "      <td>0.350355</td>\n",
       "      <td>0.366050</td>\n",
       "      <td>0.391686</td>\n",
       "      <td>0.387802</td>\n",
       "      <td>0.396442</td>\n",
       "      <td>0.404799</td>\n",
       "      <td>0.388062</td>\n",
       "      <td>0.374971</td>\n",
       "      <td>0.352256</td>\n",
       "      <td>0.347993</td>\n",
       "    </tr>\n",
       "    <tr>\n",
       "      <th>max</th>\n",
       "      <td>744.500000</td>\n",
       "      <td>12.277564</td>\n",
       "      <td>11.729826</td>\n",
       "      <td>1.780895</td>\n",
       "      <td>6.722461</td>\n",
       "      <td>0.483549</td>\n",
       "      <td>3.866051</td>\n",
       "      <td>5.143320</td>\n",
       "      <td>4.547951</td>\n",
       "      <td>0.570620</td>\n",
       "      <td>...</td>\n",
       "      <td>0.940678</td>\n",
       "      <td>1.049306</td>\n",
       "      <td>0.902545</td>\n",
       "      <td>0.783421</td>\n",
       "      <td>0.916157</td>\n",
       "      <td>0.859193</td>\n",
       "      <td>0.886101</td>\n",
       "      <td>0.702963</td>\n",
       "      <td>0.752801</td>\n",
       "      <td>0.859664</td>\n",
       "    </tr>\n",
       "  </tbody>\n",
       "</table>\n",
       "<p>8 rows × 2336 columns</p>\n",
       "</div>"
      ],
      "text/plain": [
       "       Peso corporal kg  Consumo MS kg/dia  Consumo MO kg/dia  \\\n",
       "count        267.000000         267.000000         267.000000   \n",
       "mean         509.824906           6.379836           6.030204   \n",
       "std          102.339137           2.002452           1.875748   \n",
       "min          281.000000           1.429860           1.435228   \n",
       "25%          425.500000           4.945368           4.651638   \n",
       "50%          530.000000           6.231714           5.898576   \n",
       "75%          582.000000           7.716805           7.304223   \n",
       "max          744.500000          12.277564          11.729826   \n",
       "\n",
       "       Consumo PB kg/dia  Consumo FDN kg/dia  Consumo EE kg/dia  \\\n",
       "count         267.000000          267.000000         267.000000   \n",
       "mean            0.619715            3.469328           0.192359   \n",
       "std             0.336699            1.073802           0.080614   \n",
       "min             0.092339            0.577233           0.051604   \n",
       "25%             0.351819            2.707140           0.134618   \n",
       "50%             0.568794            3.385846           0.182511   \n",
       "75%             0.795090            4.207334           0.232064   \n",
       "max             1.780895            6.722461           0.483549   \n",
       "\n",
       "       Consumo CNF kg/dia  Fezes MS kg/dia  Fezes MO kg/dia  Fezes PB kg/dia  \\\n",
       "count          267.000000       267.000000       267.000000       267.000000   \n",
       "mean             1.711190         2.704554         2.330777         0.263546   \n",
       "std              0.641736         0.795194         0.720937         0.096765   \n",
       "min              0.441309         0.760456         0.622813         0.054601   \n",
       "25%              1.212661         2.130980         1.851124         0.192972   \n",
       "50%              1.674349         2.681238         2.313793         0.255564   \n",
       "75%              2.106837         3.202887         2.748287         0.316227   \n",
       "max              3.866051         5.143320         4.547951         0.570620   \n",
       "\n",
       "       ...    3633.415    3629.557      3625.7    3621.843    3617.986  \\\n",
       "count  ...  267.000000  267.000000  267.000000  267.000000  267.000000   \n",
       "mean   ...    0.229030    0.213754    0.260170    0.291170    0.286859   \n",
       "std    ...    0.199782    0.237003    0.188358    0.156556    0.175760   \n",
       "min    ...   -0.276049   -0.395581   -0.238561   -0.024993   -0.125093   \n",
       "25%    ...    0.107274    0.069525    0.139561    0.179395    0.165436   \n",
       "50%    ...    0.229640    0.233216    0.255576    0.287353    0.282204   \n",
       "75%    ...    0.350355    0.366050    0.391686    0.387802    0.396442   \n",
       "max    ...    0.940678    1.049306    0.902545    0.783421    0.916157   \n",
       "\n",
       "         3614.129    3610.272    3606.415    3602.558      3598.7  \n",
       "count  267.000000  267.000000  267.000000  267.000000  267.000000  \n",
       "mean     0.283470    0.269462    0.242059    0.239917    0.225538  \n",
       "std      0.191097    0.185356    0.187441    0.166877    0.164253  \n",
       "min     -0.180869   -0.196580   -0.261695   -0.144254   -0.129140  \n",
       "25%      0.147912    0.157507    0.108506    0.116012    0.106476  \n",
       "50%      0.287219    0.283499    0.255783    0.239895    0.216038  \n",
       "75%      0.404799    0.388062    0.374971    0.352256    0.347993  \n",
       "max      0.859193    0.886101    0.702963    0.752801    0.859664  \n",
       "\n",
       "[8 rows x 2336 columns]"
      ]
     },
     "execution_count": 4,
     "metadata": {},
     "output_type": "execute_result"
    }
   ],
   "source": [
    "df.describe()"
   ]
  },
  {
   "cell_type": "code",
   "execution_count": null,
   "id": "f313cda1-09cb-426a-9513-63731e769c59",
   "metadata": {},
   "outputs": [
    {
     "name": "stderr",
     "output_type": "stream",
     "text": [
      "/home/caio/anaconda3/lib/python3.9/site-packages/seaborn/distributions.py:2619: FutureWarning: `distplot` is a deprecated function and will be removed in a future version. Please adapt your code to use either `displot` (a figure-level function with similar flexibility) or `histplot` (an axes-level function for histograms).\n",
      "  warnings.warn(msg, FutureWarning)\n",
      "/home/caio/anaconda3/lib/python3.9/site-packages/seaborn/distributions.py:2619: FutureWarning: `distplot` is a deprecated function and will be removed in a future version. Please adapt your code to use either `displot` (a figure-level function with similar flexibility) or `histplot` (an axes-level function for histograms).\n",
      "  warnings.warn(msg, FutureWarning)\n"
     ]
    },
    {
     "data": {
      "image/png": "[encoded data removed]",
      "text/plain": [
       "<Figure size 1152x360 with 2 Axes>"
      ]
     },
     "metadata": {
      "needs_background": "light"
     },
     "output_type": "display_data"
    }
   ],
   "source": [
    "import matplotlib.pyplot as plt\n",
    "import seaborn as sns\n",
    "\n",
    "plt.figure(figsize=(16,5))\n",
    "plt.subplot(1,2,1)\n",
    "sns.distplot(df['3606.415'])\n",
    "plt.subplot(1,2,2)\n",
    "sns.distplot(df['TD PB'])\n",
    "plt.show()"
   ]
  },
  {
   "cell_type": "markdown",
   "id": "0f7a2a9d-71ed-40c4-8b70-ecc82d3a9c21",
   "metadata": {
    "tags": []
   },
   "source": [
    "### Noise Treatment"
   ]
  },
  {
   "cell_type": "code",
   "execution_count": 70,
   "id": "55638ab9-2c7c-4818-b899-af31bccf0bb2",
   "metadata": {},
   "outputs": [
    {
     "data": {
      "image/png": "[encoded data removed]",
      "text/plain": [
       "<Figure size 432x288 with 1 Axes>"
      ]
     },
     "metadata": {
      "needs_background": "light"
     },
     "output_type": "display_data"
    },
    {
     "data": {
      "image/png": "[encoded data removed]",
      "text/plain": [
       "<Figure size 432x288 with 1 Axes>"
      ]
     },
     "metadata": {
      "needs_background": "light"
     },
     "output_type": "display_data"
    },
    {
     "data": {
      "image/png": "[encoded data removed]",
      "text/plain": [
       "<Figure size 432x288 with 2 Axes>"
      ]
     },
     "metadata": {
      "needs_background": "light"
     },
     "output_type": "display_data"
    },
    {
     "data": {
      "image/png": "[encoded data removed]",
      "text/plain": [
       "<Figure size 432x288 with 2 Axes>"
      ]
     },
     "metadata": {
      "needs_background": "light"
     },
     "output_type": "display_data"
    },
    {
     "data": {
      "image/png": "[encoded data removed]",
      "text/plain": [
       "<Figure size 360x288 with 2 Axes>"
      ]
     },
     "metadata": {
      "needs_background": "light"
     },
     "output_type": "display_data"
    },
    {
     "data": {
      "image/png": "[encoded data removed]",
      "text/plain": [
       "<Figure size 432x288 with 2 Axes>"
      ]
     },
     "metadata": {
      "needs_background": "light"
     },
     "output_type": "display_data"
    },
    {
     "data": {
      "image/png": "[encoded data removed]",
      "text/plain": [
       "<Figure size 432x288 with 2 Axes>"
      ]
     },
     "metadata": {
      "needs_background": "light"
     },
     "output_type": "display_data"
    },
    {
     "data": {
      "image/png": "[encoded data removed]",
      "text/plain": [
       "<Figure size 360x288 with 2 Axes>"
      ]
     },
     "metadata": {
      "needs_background": "light"
     },
     "output_type": "display_data"
    }
   ],
   "source": [
    "import NIR_preprocess as nir_pre\n",
    "y = df[['TD PB', 'CD PB']]\n",
    "combination, datasets, datasets0, R2_all, R2adj_all, RMSECV_all, VIP_all, Ef_all, Wt = nir_pre.compare_preprocessing(x.values, y.values)"
   ]
  },
  {
   "cell_type": "code",
   "execution_count": 136,
   "id": "be8f02a2-800f-40a0-9052-9777e0281d70",
   "metadata": {},
   "outputs": [],
   "source": [
    "x = datasets0[8]"
   ]
  },
  {
   "cell_type": "code",
   "execution_count": 137,
   "id": "8957d9f4-2dd2-4931-973d-e4244c9a2f5f",
   "metadata": {},
   "outputs": [
    {
     "data": {
      "text/plain": [
       "\"EMSC{} / savitzky_golay{'deriv': 1, 'order': 1, 'window_size': 15}\""
      ]
     },
     "execution_count": 137,
     "metadata": {},
     "output_type": "execute_result"
    }
   ],
   "source": [
    "combination[8]"
   ]
  },
  {
   "cell_type": "code",
   "execution_count": 120,
   "id": "f8d5af1a-3d4e-4a51-8f6a-3275fe56c7bd",
   "metadata": {},
   "outputs": [
    {
     "data": {
      "text/plain": [
       "8"
      ]
     },
     "execution_count": 120,
     "metadata": {},
     "output_type": "execute_result"
    }
   ],
   "source": [
    "RMSECV_all[0].argmin()"
   ]
  },
  {
   "cell_type": "code",
   "execution_count": 121,
   "id": "ac1802b8-1eb8-44a4-b6e7-02ef9848d05b",
   "metadata": {},
   "outputs": [
    {
     "data": {
      "text/plain": [
       "30"
      ]
     },
     "execution_count": 121,
     "metadata": {},
     "output_type": "execute_result"
    }
   ],
   "source": [
    "R2adj_all[0].argmax()"
   ]
  },
  {
   "cell_type": "markdown",
   "id": "899311ff-9cff-4697-b532-f7960aa55253",
   "metadata": {
    "tags": []
   },
   "source": [
    "### Outliers Treatment"
   ]
  },
  {
   "cell_type": "code",
   "execution_count": null,
   "id": "e63b2864-9554-4248-8192-b0d1c8053573",
   "metadata": {},
   "outputs": [],
   "source": [
    "from scipy import stats\n",
    "td_pb_zscores_descending_index = stats.zscore(df['TD PB']).sort_values(ascending=False).index.to_list()"
   ]
  },
  {
   "cell_type": "code",
   "execution_count": null,
   "id": "6070e423-5df1-41b8-9d89-caad75989c45",
   "metadata": {},
   "outputs": [],
   "source": [
    "d = {'TD PB' : df['TD PB'].values, 'Z SCORE': stats.zscore(df['TD PB'])}"
   ]
  },
  {
   "cell_type": "code",
   "execution_count": null,
   "id": "6166e160-90a0-45a1-ac48-207b8a3798af",
   "metadata": {},
   "outputs": [],
   "source": [
    "pd.DataFrame(d).sort_values('Z SCORE', ascending=False).head()"
   ]
  },
  {
   "cell_type": "code",
   "execution_count": null,
   "id": "2311fe82-b01d-42d6-86ef-beee2015891c",
   "metadata": {},
   "outputs": [],
   "source": [
    "\"\"\"# Remove NIRS data with Z SCORE higher than 3\n",
    "df = df[(np.abs(stats.zscore(df.loc[:,'12493.238':])) < 3).all(axis=1)]\n",
    "df.shape\"\"\""
   ]
  },
  {
   "cell_type": "markdown",
   "id": "31025831-ec2f-47ce-b465-ebcf047e6738",
   "metadata": {},
   "source": [
    "### Feature Selecting"
   ]
  },
  {
   "cell_type": "code",
   "execution_count": 68,
   "id": "9dae103c-e483-48da-9516-7f703bdc543c",
   "metadata": {},
   "outputs": [],
   "source": [
    "# evaluation of a model using 88 features chosen with mutual information\n",
    "from sklearn.datasets import make_regression\n",
    "from sklearn.model_selection import train_test_split\n",
    "from sklearn.feature_selection import SelectKBest\n",
    "from sklearn.feature_selection import mutual_info_regression\n",
    "from sklearn.neighbors import KNeighborsRegressor\n",
    "from sklearn.metrics import mean_absolute_error\n",
    "\n",
    "k_vs_score = []\n",
    "for k in range(1,2200,100):\n",
    "    # configure to select a subset of features\n",
    "    fs = SelectKBest(score_func=mutual_info_regression, k=k)\n",
    "    # learn relationship from training data\n",
    "    fs.fit(x_train, y_train)\n",
    "    # transform train input data\n",
    "    X_train_fs = fs.transform(x_train)\n",
    "    # transform test input data\n",
    "    X_test_fs = fs.transform(x_test)\n",
    "\n",
    "    model = KNeighborsRegressor()\n",
    "    model.fit(X_train_fs, y_train)\n",
    "    # evaluate the model\n",
    "    yhat = model.predict(X_test_fs)\n",
    "    # evaluate predictions\n",
    "    mae = mean_absolute_error(y_test, yhat)\n",
    "    # print(\"k = {} - R2 = {}\".format(k, score))\n",
    "\n",
    "    k_vs_score.append(mae)"
   ]
  },
  {
   "cell_type": "code",
   "execution_count": 69,
   "id": "367f8f49-e5a4-486d-b833-a7f1c78d327a",
   "metadata": {},
   "outputs": [
    {
     "data": {
      "text/plain": [
       "<AxesSubplot:>"
      ]
     },
     "execution_count": 69,
     "metadata": {},
     "output_type": "execute_result"
    },
    {
     "data": {
      "image/png": "[encoded data removed]",
      "text/plain": [
       "<Figure size 720x504 with 1 Axes>"
      ]
     },
     "metadata": {
      "needs_background": "light"
     },
     "output_type": "display_data"
    }
   ],
   "source": [
    "pd.Series(k_vs_score, index=range(1,2200,100)).plot(figsize=(10,7))"
   ]
  },
  {
   "cell_type": "code",
   "execution_count": 147,
   "id": "3bbdcad0-5090-4d3d-8e74-3a11be6f5166",
   "metadata": {},
   "outputs": [],
   "source": [
    "scores = np.array(k_vs_score)"
   ]
  },
  {
   "cell_type": "code",
   "execution_count": 152,
   "id": "c2179cb6-d080-4a8c-9dcd-cd348d75d92a",
   "metadata": {},
   "outputs": [
    {
     "data": {
      "text/plain": [
       "22"
      ]
     },
     "execution_count": 152,
     "metadata": {},
     "output_type": "execute_result"
    }
   ],
   "source": [
    "scores.size"
   ]
  },
  {
   "cell_type": "code",
   "execution_count": 160,
   "id": "1e86040c-acfe-47f4-babc-c4a4019ba7ff",
   "metadata": {},
   "outputs": [
    {
     "data": {
      "text/html": [
       "<style>#sk-container-id-3 {color: black;background-color: white;}#sk-container-id-3 pre{padding: 0;}#sk-container-id-3 div.sk-toggleable {background-color: white;}#sk-container-id-3 label.sk-toggleable__label {cursor: pointer;display: block;width: 100%;margin-bottom: 0;padding: 0.3em;box-sizing: border-box;text-align: center;}#sk-container-id-3 label.sk-toggleable__label-arrow:before {content: \"▸\";float: left;margin-right: 0.25em;color: #696969;}#sk-container-id-3 label.sk-toggleable__label-arrow:hover:before {color: black;}#sk-container-id-3 div.sk-estimator:hover label.sk-toggleable__label-arrow:before {color: black;}#sk-container-id-3 div.sk-toggleable__content {max-height: 0;max-width: 0;overflow: hidden;text-align: left;background-color: #f0f8ff;}#sk-container-id-3 div.sk-toggleable__content pre {margin: 0.2em;color: black;border-radius: 0.25em;background-color: #f0f8ff;}#sk-container-id-3 input.sk-toggleable__control:checked~div.sk-toggleable__content {max-height: 200px;max-width: 100%;overflow: auto;}#sk-container-id-3 input.sk-toggleable__control:checked~label.sk-toggleable__label-arrow:before {content: \"▾\";}#sk-container-id-3 div.sk-estimator input.sk-toggleable__control:checked~label.sk-toggleable__label {background-color: #d4ebff;}#sk-container-id-3 div.sk-label input.sk-toggleable__control:checked~label.sk-toggleable__label {background-color: #d4ebff;}#sk-container-id-3 input.sk-hidden--visually {border: 0;clip: rect(1px 1px 1px 1px);clip: rect(1px, 1px, 1px, 1px);height: 1px;margin: -1px;overflow: hidden;padding: 0;position: absolute;width: 1px;}#sk-container-id-3 div.sk-estimator {font-family: monospace;background-color: #f0f8ff;border: 1px dotted black;border-radius: 0.25em;box-sizing: border-box;margin-bottom: 0.5em;}#sk-container-id-3 div.sk-estimator:hover {background-color: #d4ebff;}#sk-container-id-3 div.sk-parallel-item::after {content: \"\";width: 100%;border-bottom: 1px solid gray;flex-grow: 1;}#sk-container-id-3 div.sk-label:hover label.sk-toggleable__label {background-color: #d4ebff;}#sk-container-id-3 div.sk-serial::before {content: \"\";position: absolute;border-left: 1px solid gray;box-sizing: border-box;top: 0;bottom: 0;left: 50%;z-index: 0;}#sk-container-id-3 div.sk-serial {display: flex;flex-direction: column;align-items: center;background-color: white;padding-right: 0.2em;padding-left: 0.2em;position: relative;}#sk-container-id-3 div.sk-item {position: relative;z-index: 1;}#sk-container-id-3 div.sk-parallel {display: flex;align-items: stretch;justify-content: center;background-color: white;position: relative;}#sk-container-id-3 div.sk-item::before, #sk-container-id-3 div.sk-parallel-item::before {content: \"\";position: absolute;border-left: 1px solid gray;box-sizing: border-box;top: 0;bottom: 0;left: 50%;z-index: -1;}#sk-container-id-3 div.sk-parallel-item {display: flex;flex-direction: column;z-index: 1;position: relative;background-color: white;}#sk-container-id-3 div.sk-parallel-item:first-child::after {align-self: flex-end;width: 50%;}#sk-container-id-3 div.sk-parallel-item:last-child::after {align-self: flex-start;width: 50%;}#sk-container-id-3 div.sk-parallel-item:only-child::after {width: 0;}#sk-container-id-3 div.sk-dashed-wrapped {border: 1px dashed gray;margin: 0 0.4em 0.5em 0.4em;box-sizing: border-box;padding-bottom: 0.4em;background-color: white;}#sk-container-id-3 div.sk-label label {font-family: monospace;font-weight: bold;display: inline-block;line-height: 1.2em;}#sk-container-id-3 div.sk-label-container {text-align: center;}#sk-container-id-3 div.sk-container {/* jupyter's `normalize.less` sets `[hidden] { display: none; }` but bootstrap.min.css set `[hidden] { display: none !important; }` so we also need the `!important` here to be able to override the default hidden behavior on the sphinx rendered scikit-learn.org. See: https://github.com/scikit-learn/scikit-learn/issues/21755 */display: inline-block !important;position: relative;}#sk-container-id-3 div.sk-text-repr-fallback {display: none;}</style><div id=\"sk-container-id-3\" class=\"sk-top-container\"><div class=\"sk-text-repr-fallback\"><pre>SelectKBest(score_func=&lt;function mutual_info_regression at 0x7fb460112ca0&gt;)</pre><b>In a Jupyter environment, please rerun this cell to show the HTML representation or trust the notebook. <br />On GitHub, the HTML representation is unable to render, please try loading this page with nbviewer.org.</b></div><div class=\"sk-container\" hidden><div class=\"sk-item\"><div class=\"sk-estimator sk-toggleable\"><input class=\"sk-toggleable__control sk-hidden--visually\" id=\"sk-estimator-id-3\" type=\"checkbox\" checked><label for=\"sk-estimator-id-3\" class=\"sk-toggleable__label sk-toggleable__label-arrow\">SelectKBest</label><div class=\"sk-toggleable__content\"><pre>SelectKBest(score_func=&lt;function mutual_info_regression at 0x7fb460112ca0&gt;)</pre></div></div></div></div></div>"
      ],
      "text/plain": [
       "SelectKBest(score_func=<function mutual_info_regression at 0x7fb460112ca0>)"
      ]
     },
     "execution_count": 160,
     "metadata": {},
     "output_type": "execute_result"
    }
   ],
   "source": [
    "selector = SelectKBest(score_func=mutual_info_regression, k=10)\n",
    "selector.fit(x_train, y_train)"
   ]
  },
  {
   "cell_type": "code",
   "execution_count": 161,
   "id": "9cca5ddb-d93a-4101-be6f-db4eba920915",
   "metadata": {},
   "outputs": [
    {
     "data": {
      "text/plain": [
       "Index(['5696.978', '5068.266', '5060.552', '5041.266', '5037.409', '5033.552',\n",
       "       '5029.695', '5025.838', '5018.124', '5002.695'],\n",
       "      dtype='object')"
      ]
     },
     "execution_count": 161,
     "metadata": {},
     "output_type": "execute_result"
    }
   ],
   "source": [
    "mask = selector.get_support()\n",
    "x_test = pd.DataFrame(x_test)\n",
    "x_train = pd.DataFrame(x_train)\n",
    "x_test.columns = x.columns\n",
    "x_train.columns = x.columns\n",
    "x_test.columns[mask]"
   ]
  },
  {
   "cell_type": "code",
   "execution_count": 162,
   "id": "fd79a956-77d1-4ec1-9609-d14af3936b4f",
   "metadata": {},
   "outputs": [
    {
     "data": {
      "text/plain": [
       "<AxesSubplot:>"
      ]
     },
     "execution_count": 162,
     "metadata": {},
     "output_type": "execute_result"
    },
    {
     "data": {
      "image/png": "[encoded data removed]",
      "text/plain": [
       "<Figure size 432x288 with 1 Axes>"
      ]
     },
     "metadata": {
      "needs_background": "light"
     },
     "output_type": "display_data"
    }
   ],
   "source": [
    "pd.Series(selector.scores_[mask], index=x_train.columns[mask]).sort_values().plot.barh()"
   ]
  },
  {
   "cell_type": "code",
   "execution_count": 70,
   "id": "e628eda9-b8a2-4c97-8b01-c1aa4d24247f",
   "metadata": {},
   "outputs": [],
   "source": [
    "from sklearn.feature_selection import SelectKBest\n",
    "from sklearn.feature_selection import mutual_info_regression\n",
    "\n",
    "# configure to select a subset of features\n",
    "fs = SelectKBest(score_func=mutual_info_regression, k=1600)\n",
    "# learn relationship from training data\n",
    "fs.fit(x_train, y_train)\n",
    "# transform train input data\n",
    "x_train = fs.transform(x_train)\n",
    "x_test = fs.transform(x_test)"
   ]
  },
  {
   "cell_type": "markdown",
   "id": "48f2539e-1169-4584-b126-988277270b38",
   "metadata": {
    "tags": []
   },
   "source": [
    "## MODEL SELECTION"
   ]
  },
  {
   "cell_type": "markdown",
   "id": "b9d40552-12ba-4c71-a4f8-af486dc5e248",
   "metadata": {
    "tags": []
   },
   "source": [
    "### Hold Out"
   ]
  },
  {
   "cell_type": "code",
   "execution_count": 71,
   "id": "71c09b0e-1d65-42e3-ac68-54388b76a57e",
   "metadata": {},
   "outputs": [
    {
     "name": "stdout",
     "output_type": "stream",
     "text": [
      "[0.59815159 0.12833415 0.04658617 0.02198822 0.02013022 0.01510931\n",
      " 0.01289268 0.00755422 0.00706386 0.00648395 0.00575242 0.00460582\n",
      " 0.00451384 0.00393688 0.00369393]\n"
     ]
    },
    {
     "data": {
      "text/html": [
       "<div>\n",
       "<style scoped>\n",
       "    .dataframe tbody tr th:only-of-type {\n",
       "        vertical-align: middle;\n",
       "    }\n",
       "\n",
       "    .dataframe tbody tr th {\n",
       "        vertical-align: top;\n",
       "    }\n",
       "\n",
       "    .dataframe thead th {\n",
       "        text-align: right;\n",
       "    }\n",
       "</style>\n",
       "<table border=\"1\" class=\"dataframe\">\n",
       "  <thead>\n",
       "    <tr style=\"text-align: right;\">\n",
       "      <th></th>\n",
       "      <th>R2</th>\n",
       "      <th>MAE</th>\n",
       "      <th>RMSE</th>\n",
       "      <th>RPD</th>\n",
       "    </tr>\n",
       "  </thead>\n",
       "  <tbody>\n",
       "    <tr>\n",
       "      <th>Teste</th>\n",
       "      <td>0.604978</td>\n",
       "      <td>1.546861</td>\n",
       "      <td>1.896119</td>\n",
       "      <td>1.598701</td>\n",
       "    </tr>\n",
       "  </tbody>\n",
       "</table>\n",
       "</div>"
      ],
      "text/plain": [
       "             R2       MAE      RMSE       RPD\n",
       "Teste  0.604978  1.546861  1.896119  1.598701"
      ]
     },
     "execution_count": 71,
     "metadata": {},
     "output_type": "execute_result"
    }
   ],
   "source": [
    "from sklearn.model_selection import train_test_split\n",
    "from sklearn.pipeline import make_pipeline\n",
    "from sklearn.linear_model import LinearRegression\n",
    "from sklearn.preprocessing import StandardScaler\n",
    "from sklearn.decomposition import PCA\n",
    "from sklearn.cross_decomposition import PLSRegression\n",
    "\n",
    "\n",
    "pcr = make_pipeline( PCA(n_components=15), LinearRegression())\n",
    "pcr.fit(x_train, y_train)\n",
    "pca = pcr.named_steps[\"pca\"] \n",
    "print(pca.explained_variance_ratio_)\n",
    "\n",
    "pls = PLSRegression(n_components=10)\n",
    "pls.fit(x_train, y_train)\n",
    "\n",
    "\n",
    "preds = pcr.predict(x_test)\n",
    "cmls.evalute_model(y_test, preds)"
   ]
  },
  {
   "cell_type": "code",
   "execution_count": 107,
   "id": "748ccd0a-75de-41c5-9e90-0c9f95dd495b",
   "metadata": {},
   "outputs": [
    {
     "data": {
      "text/html": [
       "<div>\n",
       "<style scoped>\n",
       "    .dataframe tbody tr th:only-of-type {\n",
       "        vertical-align: middle;\n",
       "    }\n",
       "\n",
       "    .dataframe tbody tr th {\n",
       "        vertical-align: top;\n",
       "    }\n",
       "\n",
       "    .dataframe thead th {\n",
       "        text-align: right;\n",
       "    }\n",
       "</style>\n",
       "<table border=\"1\" class=\"dataframe\">\n",
       "  <thead>\n",
       "    <tr style=\"text-align: right;\">\n",
       "      <th></th>\n",
       "      <th>R2</th>\n",
       "      <th>MAE</th>\n",
       "      <th>RMSE</th>\n",
       "      <th>RPD</th>\n",
       "    </tr>\n",
       "  </thead>\n",
       "  <tbody>\n",
       "    <tr>\n",
       "      <th>Teste</th>\n",
       "      <td>0.71859</td>\n",
       "      <td>0.796726</td>\n",
       "      <td>0.968133</td>\n",
       "      <td>1.919674</td>\n",
       "    </tr>\n",
       "  </tbody>\n",
       "</table>\n",
       "</div>"
      ],
      "text/plain": [
       "            R2       MAE      RMSE       RPD\n",
       "Teste  0.71859  0.796726  0.968133  1.919674"
      ]
     },
     "execution_count": 107,
     "metadata": {},
     "output_type": "execute_result"
    }
   ],
   "source": [
    "from sklearn.svm import SVR\n",
    "svr_model = SVR()\n",
    "preds = svr_model.fit(x_train, y_train).predict(x_test)\n",
    "cmls.evalute_model(y_test, preds)"
   ]
  },
  {
   "cell_type": "code",
   "execution_count": 108,
   "id": "ea768959-a7be-4f14-a5e5-d09391ec0365",
   "metadata": {},
   "outputs": [
    {
     "ename": "ValueError",
     "evalue": "n_components=70 must be between 0 and min(n_samples, n_features)=64 with svd_solver='full'",
     "output_type": "error",
     "traceback": [
      "\u001b[0;31m---------------------------------------------------------------------------\u001b[0m",
      "\u001b[0;31mValueError\u001b[0m                                Traceback (most recent call last)",
      "Input \u001b[0;32mIn [108]\u001b[0m, in \u001b[0;36m<cell line: 5>\u001b[0;34m()\u001b[0m\n\u001b[1;32m      2\u001b[0m knnr_model \u001b[38;5;241m=\u001b[39m KNeighborsRegressor(n_neighbors\u001b[38;5;241m=\u001b[39m\u001b[38;5;241m3\u001b[39m, n_jobs\u001b[38;5;241m=\u001b[39m\u001b[38;5;241m-\u001b[39m\u001b[38;5;241m1\u001b[39m, weights\u001b[38;5;241m=\u001b[39m\u001b[38;5;124m'\u001b[39m\u001b[38;5;124mdistance\u001b[39m\u001b[38;5;124m'\u001b[39m, p\u001b[38;5;241m=\u001b[39m\u001b[38;5;241m1\u001b[39m)\n\u001b[1;32m      3\u001b[0m knnr_model \u001b[38;5;241m=\u001b[39m make_pipeline( PCA(n_components\u001b[38;5;241m=\u001b[39m\u001b[38;5;241m70\u001b[39m, random_state\u001b[38;5;241m=\u001b[39m\u001b[38;5;241m0\u001b[39m), knnr_model)\n\u001b[0;32m----> 5\u001b[0m preds \u001b[38;5;241m=\u001b[39m \u001b[43mknnr_model\u001b[49m\u001b[38;5;241;43m.\u001b[39;49m\u001b[43mfit\u001b[49m\u001b[43m(\u001b[49m\u001b[43mx_train\u001b[49m\u001b[43m,\u001b[49m\u001b[43m \u001b[49m\u001b[43my_train\u001b[49m\u001b[43m)\u001b[49m\u001b[38;5;241m.\u001b[39mpredict(x_test)\n\u001b[1;32m      6\u001b[0m cmls\u001b[38;5;241m.\u001b[39mevalute_model(y_test, preds)\n",
      "File \u001b[0;32m~/anaconda3/lib/python3.9/site-packages/sklearn/pipeline.py:378\u001b[0m, in \u001b[0;36mPipeline.fit\u001b[0;34m(self, X, y, **fit_params)\u001b[0m\n\u001b[1;32m    352\u001b[0m \u001b[38;5;124;03m\"\"\"Fit the model.\u001b[39;00m\n\u001b[1;32m    353\u001b[0m \n\u001b[1;32m    354\u001b[0m \u001b[38;5;124;03mFit all the transformers one after the other and transform the\u001b[39;00m\n\u001b[0;32m   (...)\u001b[0m\n\u001b[1;32m    375\u001b[0m \u001b[38;5;124;03m    Pipeline with fitted steps.\u001b[39;00m\n\u001b[1;32m    376\u001b[0m \u001b[38;5;124;03m\"\"\"\u001b[39;00m\n\u001b[1;32m    377\u001b[0m fit_params_steps \u001b[38;5;241m=\u001b[39m \u001b[38;5;28mself\u001b[39m\u001b[38;5;241m.\u001b[39m_check_fit_params(\u001b[38;5;241m*\u001b[39m\u001b[38;5;241m*\u001b[39mfit_params)\n\u001b[0;32m--> 378\u001b[0m Xt \u001b[38;5;241m=\u001b[39m \u001b[38;5;28;43mself\u001b[39;49m\u001b[38;5;241;43m.\u001b[39;49m\u001b[43m_fit\u001b[49m\u001b[43m(\u001b[49m\u001b[43mX\u001b[49m\u001b[43m,\u001b[49m\u001b[43m \u001b[49m\u001b[43my\u001b[49m\u001b[43m,\u001b[49m\u001b[43m \u001b[49m\u001b[38;5;241;43m*\u001b[39;49m\u001b[38;5;241;43m*\u001b[39;49m\u001b[43mfit_params_steps\u001b[49m\u001b[43m)\u001b[49m\n\u001b[1;32m    379\u001b[0m \u001b[38;5;28;01mwith\u001b[39;00m _print_elapsed_time(\u001b[38;5;124m\"\u001b[39m\u001b[38;5;124mPipeline\u001b[39m\u001b[38;5;124m\"\u001b[39m, \u001b[38;5;28mself\u001b[39m\u001b[38;5;241m.\u001b[39m_log_message(\u001b[38;5;28mlen\u001b[39m(\u001b[38;5;28mself\u001b[39m\u001b[38;5;241m.\u001b[39msteps) \u001b[38;5;241m-\u001b[39m \u001b[38;5;241m1\u001b[39m)):\n\u001b[1;32m    380\u001b[0m     \u001b[38;5;28;01mif\u001b[39;00m \u001b[38;5;28mself\u001b[39m\u001b[38;5;241m.\u001b[39m_final_estimator \u001b[38;5;241m!=\u001b[39m \u001b[38;5;124m\"\u001b[39m\u001b[38;5;124mpassthrough\u001b[39m\u001b[38;5;124m\"\u001b[39m:\n",
      "File \u001b[0;32m~/anaconda3/lib/python3.9/site-packages/sklearn/pipeline.py:336\u001b[0m, in \u001b[0;36mPipeline._fit\u001b[0;34m(self, X, y, **fit_params_steps)\u001b[0m\n\u001b[1;32m    334\u001b[0m     cloned_transformer \u001b[38;5;241m=\u001b[39m clone(transformer)\n\u001b[1;32m    335\u001b[0m \u001b[38;5;66;03m# Fit or load from cache the current transformer\u001b[39;00m\n\u001b[0;32m--> 336\u001b[0m X, fitted_transformer \u001b[38;5;241m=\u001b[39m \u001b[43mfit_transform_one_cached\u001b[49m\u001b[43m(\u001b[49m\n\u001b[1;32m    337\u001b[0m \u001b[43m    \u001b[49m\u001b[43mcloned_transformer\u001b[49m\u001b[43m,\u001b[49m\n\u001b[1;32m    338\u001b[0m \u001b[43m    \u001b[49m\u001b[43mX\u001b[49m\u001b[43m,\u001b[49m\n\u001b[1;32m    339\u001b[0m \u001b[43m    \u001b[49m\u001b[43my\u001b[49m\u001b[43m,\u001b[49m\n\u001b[1;32m    340\u001b[0m \u001b[43m    \u001b[49m\u001b[38;5;28;43;01mNone\u001b[39;49;00m\u001b[43m,\u001b[49m\n\u001b[1;32m    341\u001b[0m \u001b[43m    \u001b[49m\u001b[43mmessage_clsname\u001b[49m\u001b[38;5;241;43m=\u001b[39;49m\u001b[38;5;124;43m\"\u001b[39;49m\u001b[38;5;124;43mPipeline\u001b[39;49m\u001b[38;5;124;43m\"\u001b[39;49m\u001b[43m,\u001b[49m\n\u001b[1;32m    342\u001b[0m \u001b[43m    \u001b[49m\u001b[43mmessage\u001b[49m\u001b[38;5;241;43m=\u001b[39;49m\u001b[38;5;28;43mself\u001b[39;49m\u001b[38;5;241;43m.\u001b[39;49m\u001b[43m_log_message\u001b[49m\u001b[43m(\u001b[49m\u001b[43mstep_idx\u001b[49m\u001b[43m)\u001b[49m\u001b[43m,\u001b[49m\n\u001b[1;32m    343\u001b[0m \u001b[43m    \u001b[49m\u001b[38;5;241;43m*\u001b[39;49m\u001b[38;5;241;43m*\u001b[39;49m\u001b[43mfit_params_steps\u001b[49m\u001b[43m[\u001b[49m\u001b[43mname\u001b[49m\u001b[43m]\u001b[49m\u001b[43m,\u001b[49m\n\u001b[1;32m    344\u001b[0m \u001b[43m\u001b[49m\u001b[43m)\u001b[49m\n\u001b[1;32m    345\u001b[0m \u001b[38;5;66;03m# Replace the transformer of the step with the fitted\u001b[39;00m\n\u001b[1;32m    346\u001b[0m \u001b[38;5;66;03m# transformer. This is necessary when loading the transformer\u001b[39;00m\n\u001b[1;32m    347\u001b[0m \u001b[38;5;66;03m# from the cache.\u001b[39;00m\n\u001b[1;32m    348\u001b[0m \u001b[38;5;28mself\u001b[39m\u001b[38;5;241m.\u001b[39msteps[step_idx] \u001b[38;5;241m=\u001b[39m (name, fitted_transformer)\n",
      "File \u001b[0;32m~/anaconda3/lib/python3.9/site-packages/joblib/memory.py:349\u001b[0m, in \u001b[0;36mNotMemorizedFunc.__call__\u001b[0;34m(self, *args, **kwargs)\u001b[0m\n\u001b[1;32m    348\u001b[0m \u001b[38;5;28;01mdef\u001b[39;00m \u001b[38;5;21m__call__\u001b[39m(\u001b[38;5;28mself\u001b[39m, \u001b[38;5;241m*\u001b[39margs, \u001b[38;5;241m*\u001b[39m\u001b[38;5;241m*\u001b[39mkwargs):\n\u001b[0;32m--> 349\u001b[0m     \u001b[38;5;28;01mreturn\u001b[39;00m \u001b[38;5;28;43mself\u001b[39;49m\u001b[38;5;241;43m.\u001b[39;49m\u001b[43mfunc\u001b[49m\u001b[43m(\u001b[49m\u001b[38;5;241;43m*\u001b[39;49m\u001b[43margs\u001b[49m\u001b[43m,\u001b[49m\u001b[43m \u001b[49m\u001b[38;5;241;43m*\u001b[39;49m\u001b[38;5;241;43m*\u001b[39;49m\u001b[43mkwargs\u001b[49m\u001b[43m)\u001b[49m\n",
      "File \u001b[0;32m~/anaconda3/lib/python3.9/site-packages/sklearn/pipeline.py:870\u001b[0m, in \u001b[0;36m_fit_transform_one\u001b[0;34m(transformer, X, y, weight, message_clsname, message, **fit_params)\u001b[0m\n\u001b[1;32m    868\u001b[0m \u001b[38;5;28;01mwith\u001b[39;00m _print_elapsed_time(message_clsname, message):\n\u001b[1;32m    869\u001b[0m     \u001b[38;5;28;01mif\u001b[39;00m \u001b[38;5;28mhasattr\u001b[39m(transformer, \u001b[38;5;124m\"\u001b[39m\u001b[38;5;124mfit_transform\u001b[39m\u001b[38;5;124m\"\u001b[39m):\n\u001b[0;32m--> 870\u001b[0m         res \u001b[38;5;241m=\u001b[39m \u001b[43mtransformer\u001b[49m\u001b[38;5;241;43m.\u001b[39;49m\u001b[43mfit_transform\u001b[49m\u001b[43m(\u001b[49m\u001b[43mX\u001b[49m\u001b[43m,\u001b[49m\u001b[43m \u001b[49m\u001b[43my\u001b[49m\u001b[43m,\u001b[49m\u001b[43m \u001b[49m\u001b[38;5;241;43m*\u001b[39;49m\u001b[38;5;241;43m*\u001b[39;49m\u001b[43mfit_params\u001b[49m\u001b[43m)\u001b[49m\n\u001b[1;32m    871\u001b[0m     \u001b[38;5;28;01melse\u001b[39;00m:\n\u001b[1;32m    872\u001b[0m         res \u001b[38;5;241m=\u001b[39m transformer\u001b[38;5;241m.\u001b[39mfit(X, y, \u001b[38;5;241m*\u001b[39m\u001b[38;5;241m*\u001b[39mfit_params)\u001b[38;5;241m.\u001b[39mtransform(X)\n",
      "File \u001b[0;32m~/anaconda3/lib/python3.9/site-packages/sklearn/decomposition/_pca.py:433\u001b[0m, in \u001b[0;36mPCA.fit_transform\u001b[0;34m(self, X, y)\u001b[0m\n\u001b[1;32m    411\u001b[0m \u001b[38;5;28;01mdef\u001b[39;00m \u001b[38;5;21mfit_transform\u001b[39m(\u001b[38;5;28mself\u001b[39m, X, y\u001b[38;5;241m=\u001b[39m\u001b[38;5;28;01mNone\u001b[39;00m):\n\u001b[1;32m    412\u001b[0m     \u001b[38;5;124;03m\"\"\"Fit the model with X and apply the dimensionality reduction on X.\u001b[39;00m\n\u001b[1;32m    413\u001b[0m \n\u001b[1;32m    414\u001b[0m \u001b[38;5;124;03m    Parameters\u001b[39;00m\n\u001b[0;32m   (...)\u001b[0m\n\u001b[1;32m    431\u001b[0m \u001b[38;5;124;03m    C-ordered array, use 'np.ascontiguousarray'.\u001b[39;00m\n\u001b[1;32m    432\u001b[0m \u001b[38;5;124;03m    \"\"\"\u001b[39;00m\n\u001b[0;32m--> 433\u001b[0m     U, S, Vt \u001b[38;5;241m=\u001b[39m \u001b[38;5;28;43mself\u001b[39;49m\u001b[38;5;241;43m.\u001b[39;49m\u001b[43m_fit\u001b[49m\u001b[43m(\u001b[49m\u001b[43mX\u001b[49m\u001b[43m)\u001b[49m\n\u001b[1;32m    434\u001b[0m     U \u001b[38;5;241m=\u001b[39m U[:, : \u001b[38;5;28mself\u001b[39m\u001b[38;5;241m.\u001b[39mn_components_]\n\u001b[1;32m    436\u001b[0m     \u001b[38;5;28;01mif\u001b[39;00m \u001b[38;5;28mself\u001b[39m\u001b[38;5;241m.\u001b[39mwhiten:\n\u001b[1;32m    437\u001b[0m         \u001b[38;5;66;03m# X_new = X * V / S * sqrt(n_samples) = U * sqrt(n_samples)\u001b[39;00m\n",
      "File \u001b[0;32m~/anaconda3/lib/python3.9/site-packages/sklearn/decomposition/_pca.py:483\u001b[0m, in \u001b[0;36mPCA._fit\u001b[0;34m(self, X)\u001b[0m\n\u001b[1;32m    481\u001b[0m \u001b[38;5;66;03m# Call different fits for either full or truncated SVD\u001b[39;00m\n\u001b[1;32m    482\u001b[0m \u001b[38;5;28;01mif\u001b[39;00m \u001b[38;5;28mself\u001b[39m\u001b[38;5;241m.\u001b[39m_fit_svd_solver \u001b[38;5;241m==\u001b[39m \u001b[38;5;124m\"\u001b[39m\u001b[38;5;124mfull\u001b[39m\u001b[38;5;124m\"\u001b[39m:\n\u001b[0;32m--> 483\u001b[0m     \u001b[38;5;28;01mreturn\u001b[39;00m \u001b[38;5;28;43mself\u001b[39;49m\u001b[38;5;241;43m.\u001b[39;49m\u001b[43m_fit_full\u001b[49m\u001b[43m(\u001b[49m\u001b[43mX\u001b[49m\u001b[43m,\u001b[49m\u001b[43m \u001b[49m\u001b[43mn_components\u001b[49m\u001b[43m)\u001b[49m\n\u001b[1;32m    484\u001b[0m \u001b[38;5;28;01melif\u001b[39;00m \u001b[38;5;28mself\u001b[39m\u001b[38;5;241m.\u001b[39m_fit_svd_solver \u001b[38;5;129;01min\u001b[39;00m [\u001b[38;5;124m\"\u001b[39m\u001b[38;5;124marpack\u001b[39m\u001b[38;5;124m\"\u001b[39m, \u001b[38;5;124m\"\u001b[39m\u001b[38;5;124mrandomized\u001b[39m\u001b[38;5;124m\"\u001b[39m]:\n\u001b[1;32m    485\u001b[0m     \u001b[38;5;28;01mreturn\u001b[39;00m \u001b[38;5;28mself\u001b[39m\u001b[38;5;241m.\u001b[39m_fit_truncated(X, n_components, \u001b[38;5;28mself\u001b[39m\u001b[38;5;241m.\u001b[39m_fit_svd_solver)\n",
      "File \u001b[0;32m~/anaconda3/lib/python3.9/site-packages/sklearn/decomposition/_pca.py:501\u001b[0m, in \u001b[0;36mPCA._fit_full\u001b[0;34m(self, X, n_components)\u001b[0m\n\u001b[1;32m    497\u001b[0m         \u001b[38;5;28;01mraise\u001b[39;00m \u001b[38;5;167;01mValueError\u001b[39;00m(\n\u001b[1;32m    498\u001b[0m             \u001b[38;5;124m\"\u001b[39m\u001b[38;5;124mn_components=\u001b[39m\u001b[38;5;124m'\u001b[39m\u001b[38;5;124mmle\u001b[39m\u001b[38;5;124m'\u001b[39m\u001b[38;5;124m is only supported if n_samples >= n_features\u001b[39m\u001b[38;5;124m\"\u001b[39m\n\u001b[1;32m    499\u001b[0m         )\n\u001b[1;32m    500\u001b[0m \u001b[38;5;28;01melif\u001b[39;00m \u001b[38;5;129;01mnot\u001b[39;00m \u001b[38;5;241m0\u001b[39m \u001b[38;5;241m<\u001b[39m\u001b[38;5;241m=\u001b[39m n_components \u001b[38;5;241m<\u001b[39m\u001b[38;5;241m=\u001b[39m \u001b[38;5;28mmin\u001b[39m(n_samples, n_features):\n\u001b[0;32m--> 501\u001b[0m     \u001b[38;5;28;01mraise\u001b[39;00m \u001b[38;5;167;01mValueError\u001b[39;00m(\n\u001b[1;32m    502\u001b[0m         \u001b[38;5;124m\"\u001b[39m\u001b[38;5;124mn_components=\u001b[39m\u001b[38;5;132;01m%r\u001b[39;00m\u001b[38;5;124m must be between 0 and \u001b[39m\u001b[38;5;124m\"\u001b[39m\n\u001b[1;32m    503\u001b[0m         \u001b[38;5;124m\"\u001b[39m\u001b[38;5;124mmin(n_samples, n_features)=\u001b[39m\u001b[38;5;132;01m%r\u001b[39;00m\u001b[38;5;124m with \u001b[39m\u001b[38;5;124m\"\u001b[39m\n\u001b[1;32m    504\u001b[0m         \u001b[38;5;124m\"\u001b[39m\u001b[38;5;124msvd_solver=\u001b[39m\u001b[38;5;124m'\u001b[39m\u001b[38;5;124mfull\u001b[39m\u001b[38;5;124m'\u001b[39m\u001b[38;5;124m\"\u001b[39m \u001b[38;5;241m%\u001b[39m (n_components, \u001b[38;5;28mmin\u001b[39m(n_samples, n_features))\n\u001b[1;32m    505\u001b[0m     )\n\u001b[1;32m    506\u001b[0m \u001b[38;5;28;01melif\u001b[39;00m n_components \u001b[38;5;241m>\u001b[39m\u001b[38;5;241m=\u001b[39m \u001b[38;5;241m1\u001b[39m:\n\u001b[1;32m    507\u001b[0m     \u001b[38;5;28;01mif\u001b[39;00m \u001b[38;5;129;01mnot\u001b[39;00m \u001b[38;5;28misinstance\u001b[39m(n_components, numbers\u001b[38;5;241m.\u001b[39mIntegral):\n",
      "\u001b[0;31mValueError\u001b[0m: n_components=70 must be between 0 and min(n_samples, n_features)=64 with svd_solver='full'"
     ]
    }
   ],
   "source": [
    "from sklearn.neighbors import KNeighborsRegressor\n",
    "knnr_model = KNeighborsRegressor(n_neighbors=3, n_jobs=-1, weights='distance', p=1)\n",
    "knnr_model = make_pipeline( PCA(n_components=70, random_state=0), knnr_model)\n",
    "\n",
    "preds = knnr_model.fit(x_train, y_train).predict(x_test)\n",
    "cmls.evalute_model(y_test, preds)"
   ]
  },
  {
   "cell_type": "code",
   "execution_count": 109,
   "id": "a973c409-6acb-4391-9592-13448171642d",
   "metadata": {
    "tags": []
   },
   "outputs": [
    {
     "data": {
      "text/html": [
       "<div>\n",
       "<style scoped>\n",
       "    .dataframe tbody tr th:only-of-type {\n",
       "        vertical-align: middle;\n",
       "    }\n",
       "\n",
       "    .dataframe tbody tr th {\n",
       "        vertical-align: top;\n",
       "    }\n",
       "\n",
       "    .dataframe thead th {\n",
       "        text-align: right;\n",
       "    }\n",
       "</style>\n",
       "<table border=\"1\" class=\"dataframe\">\n",
       "  <thead>\n",
       "    <tr style=\"text-align: right;\">\n",
       "      <th></th>\n",
       "      <th>R2</th>\n",
       "      <th>MAE</th>\n",
       "      <th>RMSE</th>\n",
       "    </tr>\n",
       "  </thead>\n",
       "  <tbody>\n",
       "    <tr>\n",
       "      <th>Teste</th>\n",
       "      <td>0.77346</td>\n",
       "      <td>0.697530</td>\n",
       "      <td>0.868635</td>\n",
       "    </tr>\n",
       "    <tr>\n",
       "      <th>Treino</th>\n",
       "      <td>1.00000</td>\n",
       "      <td>0.000068</td>\n",
       "      <td>0.000084</td>\n",
       "    </tr>\n",
       "  </tbody>\n",
       "</table>\n",
       "</div>"
      ],
      "text/plain": [
       "             R2       MAE      RMSE\n",
       "Teste   0.77346  0.697530  0.868635\n",
       "Treino  1.00000  0.000068  0.000084"
      ]
     },
     "execution_count": 109,
     "metadata": {},
     "output_type": "execute_result"
    }
   ],
   "source": [
    "from sklearn.ensemble import GradientBoostingRegressor\n",
    "gbr_model = GradientBoostingRegressor(random_state=1, max_depth=4)\n",
    "preds = gbr_model.fit(x_train, y_train).predict(x_test)\n",
    "train_preds = gbr_model.predict(x_train)\n",
    "cmls.evalute_model(y_test, preds, y_train, train_preds)"
   ]
  },
  {
   "cell_type": "code",
   "execution_count": 110,
   "id": "b79c6e93-4278-4f47-b749-918a2f0553b7",
   "metadata": {},
   "outputs": [
    {
     "data": {
      "text/html": [
       "<div>\n",
       "<style scoped>\n",
       "    .dataframe tbody tr th:only-of-type {\n",
       "        vertical-align: middle;\n",
       "    }\n",
       "\n",
       "    .dataframe tbody tr th {\n",
       "        vertical-align: top;\n",
       "    }\n",
       "\n",
       "    .dataframe thead th {\n",
       "        text-align: right;\n",
       "    }\n",
       "</style>\n",
       "<table border=\"1\" class=\"dataframe\">\n",
       "  <thead>\n",
       "    <tr style=\"text-align: right;\">\n",
       "      <th></th>\n",
       "      <th>R2</th>\n",
       "      <th>MAE</th>\n",
       "      <th>RMSE</th>\n",
       "      <th>RPD</th>\n",
       "    </tr>\n",
       "  </thead>\n",
       "  <tbody>\n",
       "    <tr>\n",
       "      <th>Teste</th>\n",
       "      <td>0.71708</td>\n",
       "      <td>0.765276</td>\n",
       "      <td>0.970726</td>\n",
       "      <td>1.914545</td>\n",
       "    </tr>\n",
       "  </tbody>\n",
       "</table>\n",
       "</div>"
      ],
      "text/plain": [
       "            R2       MAE      RMSE       RPD\n",
       "Teste  0.71708  0.765276  0.970726  1.914545"
      ]
     },
     "execution_count": 110,
     "metadata": {},
     "output_type": "execute_result"
    }
   ],
   "source": [
    "from sklearn import linear_model\n",
    "reg = linear_model.BayesianRidge()\n",
    "reg.fit(x_train, y_train)\n",
    "preds = reg.predict(x_test)\n",
    "cmls.evalute_model(y_test, preds)"
   ]
  },
  {
   "cell_type": "code",
   "execution_count": 111,
   "id": "d37638a2-8988-4634-9a68-fb2501d72b6d",
   "metadata": {},
   "outputs": [
    {
     "data": {
      "text/html": [
       "<div>\n",
       "<style scoped>\n",
       "    .dataframe tbody tr th:only-of-type {\n",
       "        vertical-align: middle;\n",
       "    }\n",
       "\n",
       "    .dataframe tbody tr th {\n",
       "        vertical-align: top;\n",
       "    }\n",
       "\n",
       "    .dataframe thead th {\n",
       "        text-align: right;\n",
       "    }\n",
       "</style>\n",
       "<table border=\"1\" class=\"dataframe\">\n",
       "  <thead>\n",
       "    <tr style=\"text-align: right;\">\n",
       "      <th></th>\n",
       "      <th>R2</th>\n",
       "      <th>MAE</th>\n",
       "      <th>RMSE</th>\n",
       "      <th>RPD</th>\n",
       "    </tr>\n",
       "  </thead>\n",
       "  <tbody>\n",
       "    <tr>\n",
       "      <th>Teste</th>\n",
       "      <td>0.786113</td>\n",
       "      <td>0.655304</td>\n",
       "      <td>0.84403</td>\n",
       "      <td>2.201935</td>\n",
       "    </tr>\n",
       "  </tbody>\n",
       "</table>\n",
       "</div>"
      ],
      "text/plain": [
       "             R2       MAE     RMSE       RPD\n",
       "Teste  0.786113  0.655304  0.84403  2.201935"
      ]
     },
     "execution_count": 111,
     "metadata": {},
     "output_type": "execute_result"
    }
   ],
   "source": [
    "from sklearn.ensemble import RandomForestRegressor\n",
    "\n",
    "rf = RandomForestRegressor(n_estimators=20, criterion='poisson', random_state=0, n_jobs=-1)\n",
    "\n",
    "preds = rf.fit(x_train,y_train).predict(x_test)\n",
    "cmls.evalute_model(y_test, preds)"
   ]
  },
  {
   "cell_type": "code",
   "execution_count": 112,
   "id": "536ebaf9-fb30-476a-baf7-0c9a916484ad",
   "metadata": {},
   "outputs": [
    {
     "data": {
      "text/html": [
       "<div>\n",
       "<style scoped>\n",
       "    .dataframe tbody tr th:only-of-type {\n",
       "        vertical-align: middle;\n",
       "    }\n",
       "\n",
       "    .dataframe tbody tr th {\n",
       "        vertical-align: top;\n",
       "    }\n",
       "\n",
       "    .dataframe thead th {\n",
       "        text-align: right;\n",
       "    }\n",
       "</style>\n",
       "<table border=\"1\" class=\"dataframe\">\n",
       "  <thead>\n",
       "    <tr style=\"text-align: right;\">\n",
       "      <th></th>\n",
       "      <th>R2</th>\n",
       "      <th>MAE</th>\n",
       "      <th>RMSE</th>\n",
       "      <th>RPD</th>\n",
       "    </tr>\n",
       "  </thead>\n",
       "  <tbody>\n",
       "    <tr>\n",
       "      <th>Teste</th>\n",
       "      <td>0.745844</td>\n",
       "      <td>0.804362</td>\n",
       "      <td>0.920059</td>\n",
       "      <td>2.019978</td>\n",
       "    </tr>\n",
       "  </tbody>\n",
       "</table>\n",
       "</div>"
      ],
      "text/plain": [
       "             R2       MAE      RMSE       RPD\n",
       "Teste  0.745844  0.804362  0.920059  2.019978"
      ]
     },
     "execution_count": 112,
     "metadata": {},
     "output_type": "execute_result"
    }
   ],
   "source": [
    "from xgboost import XGBRegressor\n",
    "xgb = XGBRegressor(max_depth=4, random_state=0)\n",
    "preds = xgb.fit(x_train, y_train).predict(x_test)\n",
    "cmls.evalute_model(y_test, preds)"
   ]
  },
  {
   "cell_type": "code",
   "execution_count": 113,
   "id": "260f8cb1-4c81-4a0e-b831-596693378190",
   "metadata": {},
   "outputs": [
    {
     "data": {
      "text/html": [
       "<div>\n",
       "<style scoped>\n",
       "    .dataframe tbody tr th:only-of-type {\n",
       "        vertical-align: middle;\n",
       "    }\n",
       "\n",
       "    .dataframe tbody tr th {\n",
       "        vertical-align: top;\n",
       "    }\n",
       "\n",
       "    .dataframe thead th {\n",
       "        text-align: right;\n",
       "    }\n",
       "</style>\n",
       "<table border=\"1\" class=\"dataframe\">\n",
       "  <thead>\n",
       "    <tr style=\"text-align: right;\">\n",
       "      <th></th>\n",
       "      <th>R2</th>\n",
       "      <th>MAE</th>\n",
       "      <th>RMSE</th>\n",
       "      <th>RPD</th>\n",
       "    </tr>\n",
       "  </thead>\n",
       "  <tbody>\n",
       "    <tr>\n",
       "      <th>Teste</th>\n",
       "      <td>0.71114</td>\n",
       "      <td>0.788719</td>\n",
       "      <td>0.980864</td>\n",
       "      <td>1.894757</td>\n",
       "    </tr>\n",
       "  </tbody>\n",
       "</table>\n",
       "</div>"
      ],
      "text/plain": [
       "            R2       MAE      RMSE       RPD\n",
       "Teste  0.71114  0.788719  0.980864  1.894757"
      ]
     },
     "execution_count": 113,
     "metadata": {},
     "output_type": "execute_result"
    }
   ],
   "source": [
    "from sklearn.neural_network import MLPRegressor\n",
    "\n",
    "mlp = MLPRegressor(random_state=0, max_iter=500, hidden_layer_sizes=(50, 50, 50))\n",
    "preds = mlp.fit(x_train, y_train).predict(x_test)\n",
    "cmls.evalute_model(y_test, preds)"
   ]
  },
  {
   "cell_type": "code",
   "execution_count": 114,
   "id": "786982a4-e777-4f51-b7de-2e46880cc9ff",
   "metadata": {},
   "outputs": [
    {
     "data": {
      "text/html": [
       "<div>\n",
       "<style scoped>\n",
       "    .dataframe tbody tr th:only-of-type {\n",
       "        vertical-align: middle;\n",
       "    }\n",
       "\n",
       "    .dataframe tbody tr th {\n",
       "        vertical-align: top;\n",
       "    }\n",
       "\n",
       "    .dataframe thead th {\n",
       "        text-align: right;\n",
       "    }\n",
       "</style>\n",
       "<table border=\"1\" class=\"dataframe\">\n",
       "  <thead>\n",
       "    <tr style=\"text-align: right;\">\n",
       "      <th></th>\n",
       "      <th>R2</th>\n",
       "      <th>MAE</th>\n",
       "      <th>RMSE</th>\n",
       "      <th>RPD</th>\n",
       "    </tr>\n",
       "  </thead>\n",
       "  <tbody>\n",
       "    <tr>\n",
       "      <th>Teste</th>\n",
       "      <td>0.82703</td>\n",
       "      <td>0.630565</td>\n",
       "      <td>0.759015</td>\n",
       "      <td>2.448568</td>\n",
       "    </tr>\n",
       "  </tbody>\n",
       "</table>\n",
       "</div>"
      ],
      "text/plain": [
       "            R2       MAE      RMSE       RPD\n",
       "Teste  0.82703  0.630565  0.759015  2.448568"
      ]
     },
     "execution_count": 114,
     "metadata": {},
     "output_type": "execute_result"
    }
   ],
   "source": [
    "from sklearn.ensemble import BaggingRegressor\n",
    "\n",
    "rse = BaggingRegressor(bootstrap=False, base_estimator=KNeighborsRegressor(n_neighbors=3), max_features=128, n_jobs=-1, n_estimators=4, random_state=0)\n",
    "preds = rse.fit(x_train, y_train).predict(x_test)\n",
    "cmls.evalute_model(y_test, preds)"
   ]
  },
  {
   "cell_type": "code",
   "execution_count": 115,
   "id": "fe438ffb-95ad-4544-89b6-2c3bc2e48e12",
   "metadata": {},
   "outputs": [
    {
     "data": {
      "image/png": "[encoded data removed]",
      "text/plain": [
       "<Figure size 432x288 with 1 Axes>"
      ]
     },
     "metadata": {
      "needs_background": "light"
     },
     "output_type": "display_data"
    }
   ],
   "source": [
    "cmls.plot_real_vs_predict(y_test, preds)"
   ]
  },
  {
   "cell_type": "markdown",
   "id": "64fbb103-7b9d-448e-a54c-ab4f54243aa3",
   "metadata": {
    "tags": []
   },
   "source": [
    "## Few Features Test"
   ]
  },
  {
   "cell_type": "code",
   "execution_count": 102,
   "id": "63d0c4e9-1a9e-4f70-89f9-82ae737364f3",
   "metadata": {},
   "outputs": [],
   "source": [
    "corrs_td_pb = df.corr(method='pearson').loc[:, 'TD PB'].sort_values(ascending=False)"
   ]
  },
  {
   "cell_type": "code",
   "execution_count": 103,
   "id": "d2cb6072-c976-4167-9bc6-636ccf786d45",
   "metadata": {},
   "outputs": [
    {
     "data": {
      "text/plain": [
       "TD PB                1.000000\n",
       "Consumo PB kg/dia    0.809197\n",
       "CD PB                0.753460\n",
       "3745.271             0.392619\n",
       "Consumo MS kg/dia    0.373019\n",
       "Consumo MO kg/dia    0.356430\n",
       "CD MS                0.338232\n",
       "3741.414             0.332617\n",
       "Consumo EE kg/dia    0.315860\n",
       "3629.557             0.315445\n",
       "CD MO                0.314014\n",
       "5091.409             0.310276\n",
       "5095.266             0.310225\n",
       "5087.552             0.310009\n",
       "5075.98              0.309885\n",
       "5072.123             0.309837\n",
       "5079.838             0.309829\n",
       "5083.695             0.309814\n",
       "5068.266             0.309725\n",
       "5099.123             0.309700\n",
       "Name: TD PB, dtype: float64"
      ]
     },
     "execution_count": 103,
     "metadata": {},
     "output_type": "execute_result"
    }
   ],
   "source": [
    "corrs_td_pb[:20]"
   ]
  },
  {
   "cell_type": "code",
   "execution_count": 111,
   "id": "eaddbbc5-ce2e-4a7a-b472-243595ca0629",
   "metadata": {},
   "outputs": [],
   "source": [
    "from sklearn.feature_selection import SelectKBest, f_regression\n",
    "from sklearn.ensemble import RandomForestClassifier\n",
    "from sklearn.svm import SVR\n",
    "from sklearn.metrics import r2_score\n",
    "\n",
    "k_vs_score = []\n",
    "\n",
    "for k in range(3,1000,1):\n",
    "    selector = SelectKBest(score_func=f_regression, k=k)\n",
    "\n",
    "    X_train2 = selector.fit_transform(x_train, y_train)\n",
    "    X_test2 = selector.transform(x_test)\n",
    "\n",
    "\n",
    "    svr_model = SVR()\n",
    "    svr_model.fit(X_train2, y_train)\n",
    "\n",
    "    preds = svr_model.predict(X_test2)\n",
    "\n",
    "    score = r2_score(y_test, preds)\n",
    "    # print(\"k = {} - R2 = {}\".format(k, score))\n",
    "\n",
    "    k_vs_score.append(score)"
   ]
  },
  {
   "cell_type": "code",
   "execution_count": 112,
   "id": "0a7f7fa0-4755-4a1c-bff5-b9a5d3647047",
   "metadata": {},
   "outputs": [
    {
     "data": {
      "text/plain": [
       "<AxesSubplot:>"
      ]
     },
     "execution_count": 112,
     "metadata": {},
     "output_type": "execute_result"
    },
    {
     "data": {
      "image/png": "[encoded data removed]",
      "text/plain": [
       "<Figure size 720x504 with 1 Axes>"
      ]
     },
     "metadata": {
      "needs_background": "light"
     },
     "output_type": "display_data"
    }
   ],
   "source": [
    "pd.Series(k_vs_score, index=range(3,1000,1)).plot(figsize=(10,7))"
   ]
  },
  {
   "cell_type": "code",
   "execution_count": 106,
   "id": "8a5155e6-9cd9-433d-bea9-f82da1f95d3b",
   "metadata": {},
   "outputs": [
    {
     "data": {
      "text/html": [
       "<style>#sk-container-id-1 {color: black;background-color: white;}#sk-container-id-1 pre{padding: 0;}#sk-container-id-1 div.sk-toggleable {background-color: white;}#sk-container-id-1 label.sk-toggleable__label {cursor: pointer;display: block;width: 100%;margin-bottom: 0;padding: 0.3em;box-sizing: border-box;text-align: center;}#sk-container-id-1 label.sk-toggleable__label-arrow:before {content: \"▸\";float: left;margin-right: 0.25em;color: #696969;}#sk-container-id-1 label.sk-toggleable__label-arrow:hover:before {color: black;}#sk-container-id-1 div.sk-estimator:hover label.sk-toggleable__label-arrow:before {color: black;}#sk-container-id-1 div.sk-toggleable__content {max-height: 0;max-width: 0;overflow: hidden;text-align: left;background-color: #f0f8ff;}#sk-container-id-1 div.sk-toggleable__content pre {margin: 0.2em;color: black;border-radius: 0.25em;background-color: #f0f8ff;}#sk-container-id-1 input.sk-toggleable__control:checked~div.sk-toggleable__content {max-height: 200px;max-width: 100%;overflow: auto;}#sk-container-id-1 input.sk-toggleable__control:checked~label.sk-toggleable__label-arrow:before {content: \"▾\";}#sk-container-id-1 div.sk-estimator input.sk-toggleable__control:checked~label.sk-toggleable__label {background-color: #d4ebff;}#sk-container-id-1 div.sk-label input.sk-toggleable__control:checked~label.sk-toggleable__label {background-color: #d4ebff;}#sk-container-id-1 input.sk-hidden--visually {border: 0;clip: rect(1px 1px 1px 1px);clip: rect(1px, 1px, 1px, 1px);height: 1px;margin: -1px;overflow: hidden;padding: 0;position: absolute;width: 1px;}#sk-container-id-1 div.sk-estimator {font-family: monospace;background-color: #f0f8ff;border: 1px dotted black;border-radius: 0.25em;box-sizing: border-box;margin-bottom: 0.5em;}#sk-container-id-1 div.sk-estimator:hover {background-color: #d4ebff;}#sk-container-id-1 div.sk-parallel-item::after {content: \"\";width: 100%;border-bottom: 1px solid gray;flex-grow: 1;}#sk-container-id-1 div.sk-label:hover label.sk-toggleable__label {background-color: #d4ebff;}#sk-container-id-1 div.sk-serial::before {content: \"\";position: absolute;border-left: 1px solid gray;box-sizing: border-box;top: 0;bottom: 0;left: 50%;z-index: 0;}#sk-container-id-1 div.sk-serial {display: flex;flex-direction: column;align-items: center;background-color: white;padding-right: 0.2em;padding-left: 0.2em;position: relative;}#sk-container-id-1 div.sk-item {position: relative;z-index: 1;}#sk-container-id-1 div.sk-parallel {display: flex;align-items: stretch;justify-content: center;background-color: white;position: relative;}#sk-container-id-1 div.sk-item::before, #sk-container-id-1 div.sk-parallel-item::before {content: \"\";position: absolute;border-left: 1px solid gray;box-sizing: border-box;top: 0;bottom: 0;left: 50%;z-index: -1;}#sk-container-id-1 div.sk-parallel-item {display: flex;flex-direction: column;z-index: 1;position: relative;background-color: white;}#sk-container-id-1 div.sk-parallel-item:first-child::after {align-self: flex-end;width: 50%;}#sk-container-id-1 div.sk-parallel-item:last-child::after {align-self: flex-start;width: 50%;}#sk-container-id-1 div.sk-parallel-item:only-child::after {width: 0;}#sk-container-id-1 div.sk-dashed-wrapped {border: 1px dashed gray;margin: 0 0.4em 0.5em 0.4em;box-sizing: border-box;padding-bottom: 0.4em;background-color: white;}#sk-container-id-1 div.sk-label label {font-family: monospace;font-weight: bold;display: inline-block;line-height: 1.2em;}#sk-container-id-1 div.sk-label-container {text-align: center;}#sk-container-id-1 div.sk-container {/* jupyter's `normalize.less` sets `[hidden] { display: none; }` but bootstrap.min.css set `[hidden] { display: none !important; }` so we also need the `!important` here to be able to override the default hidden behavior on the sphinx rendered scikit-learn.org. See: https://github.com/scikit-learn/scikit-learn/issues/21755 */display: inline-block !important;position: relative;}#sk-container-id-1 div.sk-text-repr-fallback {display: none;}</style><div id=\"sk-container-id-1\" class=\"sk-top-container\"><div class=\"sk-text-repr-fallback\"><pre>SelectKBest(score_func=&lt;function f_regression at 0x7fb4602c9dc0&gt;)</pre><b>In a Jupyter environment, please rerun this cell to show the HTML representation or trust the notebook. <br />On GitHub, the HTML representation is unable to render, please try loading this page with nbviewer.org.</b></div><div class=\"sk-container\" hidden><div class=\"sk-item\"><div class=\"sk-estimator sk-toggleable\"><input class=\"sk-toggleable__control sk-hidden--visually\" id=\"sk-estimator-id-1\" type=\"checkbox\" checked><label for=\"sk-estimator-id-1\" class=\"sk-toggleable__label sk-toggleable__label-arrow\">SelectKBest</label><div class=\"sk-toggleable__content\"><pre>SelectKBest(score_func=&lt;function f_regression at 0x7fb4602c9dc0&gt;)</pre></div></div></div></div></div>"
      ],
      "text/plain": [
       "SelectKBest(score_func=<function f_regression at 0x7fb4602c9dc0>)"
      ]
     },
     "execution_count": 106,
     "metadata": {},
     "output_type": "execute_result"
    }
   ],
   "source": [
    "selector = SelectKBest(score_func=f_regression, k=10)\n",
    "selector.fit(x_train, y_train)"
   ]
  },
  {
   "cell_type": "code",
   "execution_count": 107,
   "id": "64c77778-c927-4b3c-b4d3-e9a33765e942",
   "metadata": {},
   "outputs": [
    {
     "ename": "AttributeError",
     "evalue": "'numpy.ndarray' object has no attribute 'columns'",
     "output_type": "error",
     "traceback": [
      "\u001b[0;31m---------------------------------------------------------------------------\u001b[0m",
      "\u001b[0;31mAttributeError\u001b[0m                            Traceback (most recent call last)",
      "Input \u001b[0;32mIn [107]\u001b[0m, in \u001b[0;36m<cell line: 2>\u001b[0;34m()\u001b[0m\n\u001b[1;32m      1\u001b[0m mask \u001b[38;5;241m=\u001b[39m selector\u001b[38;5;241m.\u001b[39mget_support()\n\u001b[0;32m----> 2\u001b[0m \u001b[43mx_test\u001b[49m\u001b[38;5;241;43m.\u001b[39;49m\u001b[43mcolumns\u001b[49m[mask]\n",
      "\u001b[0;31mAttributeError\u001b[0m: 'numpy.ndarray' object has no attribute 'columns'"
     ]
    }
   ],
   "source": [
    "mask = selector.get_support()\n",
    "x_test.columns[mask]\n",
    "# Features mais relevantes"
   ]
  },
  {
   "cell_type": "code",
   "execution_count": null,
   "id": "a9b3cc57-35a7-46be-8178-2ab9992dc891",
   "metadata": {},
   "outputs": [],
   "source": [
    "pd.Series(selector.scores_[mask], index=x_train.columns[mask]).sort_values().plot.barh()"
   ]
  },
  {
   "cell_type": "code",
   "execution_count": null,
   "id": "c190ba82-d977-46d8-ae25-a1e5e47e3c90",
   "metadata": {},
   "outputs": [],
   "source": [
    "# Non NIRS features\n",
    "print(df.loc[:,:'CD CNF'].columns.tolist())"
   ]
  },
  {
   "cell_type": "code",
   "execution_count": null,
   "id": "c6f1e704-7872-4d03-a2a5-58040f63ba35",
   "metadata": {},
   "outputs": [],
   "source": [
    "# Select all NIRS data as x\n",
    "x = df.loc[:,'12493.238':]\n",
    "\n",
    "# Add Categoria feature\n",
    "x = x.join(df.loc[:,['Status fisiologico', 'Categoria']])\n",
    "x = pd.get_dummies(x, drop_first=False)"
   ]
  },
  {
   "cell_type": "code",
   "execution_count": null,
   "id": "fe15e0b3-dae1-4b98-9e20-6064c07c83f0",
   "metadata": {},
   "outputs": [],
   "source": [
    "predictive_features = ['12462.381', '12458.523', '12454.666', '12450.809', '3745.271',\n",
    "       '3741.414', '3706.7', '3629.557', 'Status fisiologico_Lactante']\n",
    "\n",
    "x = x[predictive_features]\n",
    "\n",
    "# One-Hot Encode categorical features\n",
    "x = pd.get_dummies(x, drop_first=False)"
   ]
  },
  {
   "cell_type": "code",
   "execution_count": null,
   "id": "2c4027f3-97cf-482a-ab75-214fb81af9dd",
   "metadata": {},
   "outputs": [],
   "source": [
    "# Response variable vector\n",
    "y = df['TD PB']"
   ]
  },
  {
   "cell_type": "code",
   "execution_count": null,
   "id": "ee507b91-a738-4942-bb42-dcc8faf594a9",
   "metadata": {},
   "outputs": [],
   "source": [
    "# Split the data set into training (70%) and testing (30%)\n",
    "from sklearn.model_selection import train_test_split\n",
    "x_train, x_test, y_train, y_test = train_test_split(x, y, test_size=0.30, shuffle=True, random_state=40)\n",
    "print(\"N. samples training %s , N. samples testing %s\" % (x_train.shape[0], x_test.shape[0]))"
   ]
  },
  {
   "cell_type": "markdown",
   "id": "297363f8-6c83-4d06-a221-37687bb5f077",
   "metadata": {
    "tags": []
   },
   "source": [
    "## Feature Scaling"
   ]
  },
  {
   "cell_type": "code",
   "execution_count": 232,
   "id": "033e35f6-95e5-4fca-874f-e679eb4036e1",
   "metadata": {},
   "outputs": [],
   "source": [
    "from sklearn.preprocessing import MinMaxScaler\n",
    "\n",
    "scaler = MinMaxScaler().fit(x_train)\n",
    "x_train = scaler.transform(x_train)\n",
    "x_test = scaler.transform(x_test)"
   ]
  },
  {
   "cell_type": "markdown",
   "id": "cb825c60-b7bb-4b81-b3b0-3e04bc96ec24",
   "metadata": {
    "tags": []
   },
   "source": [
    "## MODEL SELECTION"
   ]
  },
  {
   "cell_type": "markdown",
   "id": "413b124e-ab58-4be1-876b-6dfd2126e173",
   "metadata": {
    "tags": []
   },
   "source": [
    "### Hold Out"
   ]
  },
  {
   "cell_type": "code",
   "execution_count": 87,
   "id": "21b8590d-fc93-4826-b0db-5967b51bf6a6",
   "metadata": {},
   "outputs": [
    {
     "data": {
      "text/html": [
       "<div>\n",
       "<style scoped>\n",
       "    .dataframe tbody tr th:only-of-type {\n",
       "        vertical-align: middle;\n",
       "    }\n",
       "\n",
       "    .dataframe tbody tr th {\n",
       "        vertical-align: top;\n",
       "    }\n",
       "\n",
       "    .dataframe thead th {\n",
       "        text-align: right;\n",
       "    }\n",
       "</style>\n",
       "<table border=\"1\" class=\"dataframe\">\n",
       "  <thead>\n",
       "    <tr style=\"text-align: right;\">\n",
       "      <th></th>\n",
       "      <th>R2</th>\n",
       "      <th>MAE</th>\n",
       "      <th>RMSE</th>\n",
       "    </tr>\n",
       "  </thead>\n",
       "  <tbody>\n",
       "    <tr>\n",
       "      <th>Teste</th>\n",
       "      <td>0.436895</td>\n",
       "      <td>1.527958</td>\n",
       "      <td>2.111761</td>\n",
       "    </tr>\n",
       "  </tbody>\n",
       "</table>\n",
       "</div>"
      ],
      "text/plain": [
       "             R2       MAE      RMSE\n",
       "Teste  0.436895  1.527958  2.111761"
      ]
     },
     "execution_count": 87,
     "metadata": {},
     "output_type": "execute_result"
    }
   ],
   "source": [
    "from sklearn.svm import SVR\n",
    "svr_model = SVR()\n",
    "preds = svr_model.fit(x_train, y_train).predict(x_test)\n",
    "cmls.evalute_model(y_test, preds)"
   ]
  },
  {
   "cell_type": "code",
   "execution_count": 90,
   "id": "330b31f4-1583-438d-a689-1cdc8c472916",
   "metadata": {},
   "outputs": [
    {
     "data": {
      "text/html": [
       "<div>\n",
       "<style scoped>\n",
       "    .dataframe tbody tr th:only-of-type {\n",
       "        vertical-align: middle;\n",
       "    }\n",
       "\n",
       "    .dataframe tbody tr th {\n",
       "        vertical-align: top;\n",
       "    }\n",
       "\n",
       "    .dataframe thead th {\n",
       "        text-align: right;\n",
       "    }\n",
       "</style>\n",
       "<table border=\"1\" class=\"dataframe\">\n",
       "  <thead>\n",
       "    <tr style=\"text-align: right;\">\n",
       "      <th></th>\n",
       "      <th>R2</th>\n",
       "      <th>MAE</th>\n",
       "      <th>RMSE</th>\n",
       "      <th>RPD</th>\n",
       "    </tr>\n",
       "  </thead>\n",
       "  <tbody>\n",
       "    <tr>\n",
       "      <th>Teste</th>\n",
       "      <td>0.723623</td>\n",
       "      <td>0.99741</td>\n",
       "      <td>1.479453</td>\n",
       "      <td>1.91448</td>\n",
       "    </tr>\n",
       "  </tbody>\n",
       "</table>\n",
       "</div>"
      ],
      "text/plain": [
       "             R2      MAE      RMSE      RPD\n",
       "Teste  0.723623  0.99741  1.479453  1.91448"
      ]
     },
     "execution_count": 90,
     "metadata": {},
     "output_type": "execute_result"
    }
   ],
   "source": [
    "from sklearn.neighbors import KNeighborsRegressor\n",
    "knnr_model = KNeighborsRegressor()\n",
    "preds = knnr_model.fit(x_train, y_train).predict(x_test)\n",
    "cmls.evalute_model(y_test, preds)"
   ]
  },
  {
   "cell_type": "code",
   "execution_count": 89,
   "id": "e1a27c55-b7bb-4792-893b-7bad4f2f5c9b",
   "metadata": {},
   "outputs": [
    {
     "data": {
      "text/html": [
       "<div>\n",
       "<style scoped>\n",
       "    .dataframe tbody tr th:only-of-type {\n",
       "        vertical-align: middle;\n",
       "    }\n",
       "\n",
       "    .dataframe tbody tr th {\n",
       "        vertical-align: top;\n",
       "    }\n",
       "\n",
       "    .dataframe thead th {\n",
       "        text-align: right;\n",
       "    }\n",
       "</style>\n",
       "<table border=\"1\" class=\"dataframe\">\n",
       "  <thead>\n",
       "    <tr style=\"text-align: right;\">\n",
       "      <th></th>\n",
       "      <th>R2</th>\n",
       "      <th>MAE</th>\n",
       "      <th>RMSE</th>\n",
       "    </tr>\n",
       "  </thead>\n",
       "  <tbody>\n",
       "    <tr>\n",
       "      <th>Teste</th>\n",
       "      <td>0.656502</td>\n",
       "      <td>1.299696</td>\n",
       "      <td>1.649347</td>\n",
       "    </tr>\n",
       "  </tbody>\n",
       "</table>\n",
       "</div>"
      ],
      "text/plain": [
       "             R2       MAE      RMSE\n",
       "Teste  0.656502  1.299696  1.649347"
      ]
     },
     "execution_count": 89,
     "metadata": {},
     "output_type": "execute_result"
    }
   ],
   "source": [
    "from sklearn.ensemble import GradientBoostingRegressor\n",
    "gbr_model = GradientBoostingRegressor()\n",
    "preds = gbr_model.fit(x_train, y_train).predict(x_test)\n",
    "cmls.evalute_model(y_test, preds)"
   ]
  },
  {
   "cell_type": "code",
   "execution_count": 91,
   "id": "54f7533b-f67d-4df1-9b1f-11a19e1de9cc",
   "metadata": {},
   "outputs": [
    {
     "name": "stderr",
     "output_type": "stream",
     "text": [
      "/home/caio/anaconda3/lib/python3.9/site-packages/sklearn/linear_model/_base.py:141: FutureWarning: 'normalize' was deprecated in version 1.0 and will be removed in 1.2.\n",
      "If you wish to scale the data, use Pipeline with a StandardScaler in a preprocessing stage. To reproduce the previous behavior:\n",
      "\n",
      "from sklearn.pipeline import make_pipeline\n",
      "\n",
      "model = make_pipeline(StandardScaler(with_mean=False), BayesianRidge())\n",
      "\n",
      "If you wish to pass a sample_weight parameter, you need to pass it as a fit parameter to each step of the pipeline as follows:\n",
      "\n",
      "kwargs = {s[0] + '__sample_weight': sample_weight for s in model.steps}\n",
      "model.fit(X, y, **kwargs)\n",
      "\n",
      "\n",
      "  warnings.warn(\n"
     ]
    },
    {
     "data": {
      "text/html": [
       "<div>\n",
       "<style scoped>\n",
       "    .dataframe tbody tr th:only-of-type {\n",
       "        vertical-align: middle;\n",
       "    }\n",
       "\n",
       "    .dataframe tbody tr th {\n",
       "        vertical-align: top;\n",
       "    }\n",
       "\n",
       "    .dataframe thead th {\n",
       "        text-align: right;\n",
       "    }\n",
       "</style>\n",
       "<table border=\"1\" class=\"dataframe\">\n",
       "  <thead>\n",
       "    <tr style=\"text-align: right;\">\n",
       "      <th></th>\n",
       "      <th>R2</th>\n",
       "      <th>MAE</th>\n",
       "      <th>RMSE</th>\n",
       "      <th>RPD</th>\n",
       "    </tr>\n",
       "  </thead>\n",
       "  <tbody>\n",
       "    <tr>\n",
       "      <th>Teste</th>\n",
       "      <td>0.610753</td>\n",
       "      <td>1.445421</td>\n",
       "      <td>1.755751</td>\n",
       "      <td>1.613203</td>\n",
       "    </tr>\n",
       "  </tbody>\n",
       "</table>\n",
       "</div>"
      ],
      "text/plain": [
       "             R2       MAE      RMSE       RPD\n",
       "Teste  0.610753  1.445421  1.755751  1.613203"
      ]
     },
     "execution_count": 91,
     "metadata": {},
     "output_type": "execute_result"
    }
   ],
   "source": [
    "from sklearn import linear_model\n",
    "reg = linear_model.BayesianRidge(normalize=True)\n",
    "reg.fit(x_train, y_train)\n",
    "preds = reg.predict(x_test)\n",
    "cmls.evalute_model(y_test, preds)"
   ]
  },
  {
   "cell_type": "code",
   "execution_count": null,
   "id": "0e848c56-2b6b-441f-9445-c5e6e4d597b6",
   "metadata": {},
   "outputs": [],
   "source": [
    "from sklearn.ensemble import RandomForestRegressor\n",
    "\n",
    "rf = RandomForestRegressor(n_estimators=100, random_state=0)\n",
    "preds = rf.fit(x_train,y_train).predict(x_test)\n",
    "cmls.evalute_model(y_test, preds)"
   ]
  },
  {
   "cell_type": "code",
   "execution_count": null,
   "id": "a3dbfbf0-f1f9-4da9-93a9-fdba9e896342",
   "metadata": {},
   "outputs": [],
   "source": [
    "from sklearn.neural_network import MLPRegressor\n",
    "\n",
    "mlp = MLPRegressor(random_state=10)\n",
    "preds = mlp.fit(x_train, y_train).predict(x_test)\n",
    "cmls.evalute_model(y_test, preds)"
   ]
  },
  {
   "cell_type": "code",
   "execution_count": null,
   "id": "926aeb33-2e57-4fb1-b8f2-57a3fa56a2ee",
   "metadata": {},
   "outputs": [],
   "source": [
    "cmls.plot_real_vs_predict(y_test, preds)"
   ]
  },
  {
   "cell_type": "markdown",
   "id": "cdb4f7bd-9d3e-4734-8c52-dda6c92edd2e",
   "metadata": {
    "tags": []
   },
   "source": [
    "### Cross Validation"
   ]
  },
  {
   "cell_type": "code",
   "execution_count": 82,
   "id": "ec084c85-b635-4af4-a13a-c20bfb1407ba",
   "metadata": {},
   "outputs": [],
   "source": [
    "from sklearn.pipeline import Pipeline\n",
    "from sklearn.model_selection import cross_val_score\n",
    "from sklearn.preprocessing import MinMaxScaler"
   ]
  },
  {
   "cell_type": "code",
   "execution_count": 87,
   "id": "623b7929-4222-47c5-9110-b6fb9a127983",
   "metadata": {},
   "outputs": [
    {
     "name": "stdout",
     "output_type": "stream",
     "text": [
      "Scores: [0.47955661 0.59149812 0.51844429 0.28369871 0.34446895]\n",
      "Mean: 0.4435333355826937\n",
      "Standard deviation: 0.1132817402737201\n"
     ]
    }
   ],
   "source": [
    "svr_model = SVR(kernel='linear', degree=1, gamma='auto', coef0=3.0, tol=0.01, C = 0.1)\n",
    "\n",
    "svr_scores = cross_val_score(svr_model, x_train, y_train, scoring=\"r2\", cv=5)\n",
    "\n",
    "cmls.display_scores(svr_scores)"
   ]
  },
  {
   "cell_type": "code",
   "execution_count": 184,
   "id": "67849fea-b293-4026-9c46-fcdcbddd0078",
   "metadata": {},
   "outputs": [
    {
     "name": "stdout",
     "output_type": "stream",
     "text": [
      "Scores: [0.39621032 0.41903227 0.60183513 0.53169194 0.23459361]\n",
      "Mean: 0.43667265257837123\n",
      "Standard deviation: 0.1257709286261083\n"
     ]
    }
   ],
   "source": [
    "knnr_scores = cross_val_score(knnr_model, x_test, y_test, scoring=\"r2\", cv=5)\n",
    "\n",
    "cmls.display_scores(knnr_scores)"
   ]
  },
  {
   "cell_type": "code",
   "execution_count": null,
   "id": "4550199a-6d5c-4198-ad47-5874f528696e",
   "metadata": {},
   "outputs": [],
   "source": [
    "pipe = Pipeline(steps=[('scaler', MinMaxScaler()), ('model', reg)])\n",
    "\n",
    "BayesianRidge_scores = cross_val_score(pipe, x, y, scoring=\"r2\", cv=10)\n",
    "\n",
    "cmls.display_scores(BayesianRidge_scores)"
   ]
  },
  {
   "cell_type": "code",
   "execution_count": null,
   "id": "7c946251-994f-4a55-8164-f04c67c36bc0",
   "metadata": {},
   "outputs": [],
   "source": [
    "pipe = Pipeline(steps=[('scaler', MinMaxScaler()), ('model', gbr_model)])\n",
    "\n",
    "gbr_scores = cross_val_score(pipe, x, y, scoring=\"r2\", cv=10)\n",
    "\n",
    "cmls.display_scores(gbr_scores)"
   ]
  },
  {
   "cell_type": "code",
   "execution_count": 86,
   "id": "de9dd6a3-2599-4111-8333-33f3c60fe47a",
   "metadata": {},
   "outputs": [
    {
     "name": "stdout",
     "output_type": "stream",
     "text": [
      "Scores: [0.53799587 0.64071759 0.59650939 0.297087   0.51642972]\n",
      "Mean: 0.5177479150798405\n",
      "Standard deviation: 0.1186826591094489\n"
     ]
    }
   ],
   "source": [
    "rf_model = RandomForestRegressor(bootstrap=True, max_depth=10,\n",
    "                                     min_samples_leaf=4, min_samples_split=2,\n",
    "                                     n_estimators=100, random_state=0, criterion='poisson', n_jobs=-1)\n",
    "\n",
    "rf_scores = cross_val_score(rf_model, x_train, y_train, scoring=\"r2\", cv=5)\n",
    "\n",
    "cmls.display_scores(rf_scores)"
   ]
  },
  {
   "cell_type": "code",
   "execution_count": null,
   "id": "e60bb2e6-af5f-4014-83da-70112157a291",
   "metadata": {},
   "outputs": [],
   "source": [
    "pipe = Pipeline(steps=[('scaler', MinMaxScaler()), ('model', mlp)])\n",
    "mlp_scores = cross_val_score(pipe, x, y, scoring=\"r2\", cv=10)\n",
    "\n",
    "cmls.display_scores(mlp_scores)"
   ]
  },
  {
   "cell_type": "markdown",
   "id": "8d3470e0-e3ec-4283-8d19-7eb592a15dcc",
   "metadata": {
    "tags": []
   },
   "source": [
    "## Feature Selecting"
   ]
  },
  {
   "cell_type": "markdown",
   "id": "de636b0f-b174-4505-827c-34ba518b6baf",
   "metadata": {},
   "source": [
    "### Selection Process"
   ]
  },
  {
   "cell_type": "code",
   "execution_count": 101,
   "id": "156cf174-b8e7-4944-a528-0c648806af9b",
   "metadata": {},
   "outputs": [],
   "source": [
    "from sklearn.feature_selection import SelectKBest, mutual_info_regression\n",
    "selector = SelectKBest(score_func=mutual_info_regression)"
   ]
  },
  {
   "cell_type": "code",
   "execution_count": null,
   "id": "ed9e03c5-8af0-44c1-8f44-611b951a58b3",
   "metadata": {},
   "outputs": [],
   "source": [
    "x_new = selector.fit_transform(x, y)"
   ]
  },
  {
   "cell_type": "code",
   "execution_count": null,
   "id": "2dd66fa6-678d-48bd-974f-bf249c5fc3a1",
   "metadata": {},
   "outputs": [],
   "source": [
    "#selector.get_feature_names_out()"
   ]
  },
  {
   "cell_type": "code",
   "execution_count": null,
   "id": "2ef3cd07-1bfb-4e16-9aed-a13c999fba1e",
   "metadata": {},
   "outputs": [],
   "source": [
    "# Split the data set with selected features\n",
    "from sklearn.model_selection import train_test_split\n",
    "x_train, x_test, y_train, y_test = train_test_split(x_new, y, test_size=0.30, shuffle=True, random_state=40)"
   ]
  },
  {
   "cell_type": "markdown",
   "id": "c7fb74ca-26e5-46af-b804-ba536523012e",
   "metadata": {},
   "source": [
    "### After Selecting"
   ]
  },
  {
   "cell_type": "code",
   "execution_count": null,
   "id": "b0d193db-30ca-4f4e-a9a0-d9722abde010",
   "metadata": {},
   "outputs": [],
   "source": [
    "from sklearn.svm import SVR\n",
    "from sklearn.metrics import r2_score\n",
    "\n",
    "svr_model = SVR()\n",
    "svr_preds = svr_model.fit(x_train, y_train).predict(x_test)"
   ]
  },
  {
   "cell_type": "code",
   "execution_count": null,
   "id": "9cc07b70-8774-4290-a872-fef0e09ae8e6",
   "metadata": {},
   "outputs": [],
   "source": [
    "print(f'R2: {r2_score(y_test, svr_preds)}')"
   ]
  },
  {
   "cell_type": "markdown",
   "id": "a5c2954e-1e76-420b-a75a-2767524dfcd7",
   "metadata": {
    "tags": []
   },
   "source": [
    "##  Hyperparameters search"
   ]
  },
  {
   "cell_type": "markdown",
   "id": "d033ffdb-7c3a-4e70-9073-c79d54f404c4",
   "metadata": {
    "tags": [],
    "toc-hr-collapsed": true
   },
   "source": [
    "### SVR"
   ]
  },
  {
   "cell_type": "code",
   "execution_count": 61,
   "id": "0e140c64",
   "metadata": {},
   "outputs": [],
   "source": [
    "from sklearn.model_selection import cross_val_score"
   ]
  },
  {
   "cell_type": "code",
   "execution_count": 85,
   "id": "b722c1db-fd20-4010-9ae1-4515701d4bba",
   "metadata": {},
   "outputs": [],
   "source": [
    "def tune_svr(params):\n",
    "    from sklearn.model_selection import cross_val_score\n",
    "    kernel = params[0]\n",
    "    degree = params[1]\n",
    "    gamma = params[2]\n",
    "    coef0 = params[3]\n",
    "    tol = params[4]\n",
    "    C = params[5]\n",
    "    \n",
    "    print(params, '\\n')\n",
    "    \n",
    "    svr_model = SVR(kernel=kernel, degree=degree, gamma=gamma, coef0=coef0, tol=tol, C=C)\n",
    "    \n",
    "\n",
    "    r2 = cross_val_score(svr_model, x, y, cv=5, scoring ='r2')\n",
    "    \n",
    "    return -r2.mean()\n",
    "\n",
    "space = [\n",
    "    ['linear', 'poly', 'rbf', 'sigmoid'], #kernal\n",
    "    (1, 12), #degree\n",
    "    ['scale', 'auto'], # gamma\n",
    "    (0.05, 3.0), # coef0\n",
    "    (0.000001, 0.01), # tol\n",
    "    [0.1, 1, 10, 100, 1000]] # C"
   ]
  },
  {
   "cell_type": "code",
   "execution_count": 89,
   "id": "29d2bdb0-8c5a-44fb-b79e-502fa1d28023",
   "metadata": {},
   "outputs": [
    {
     "name": "stdout",
     "output_type": "stream",
     "text": [
      "Iteration No: 1 started. Evaluating function at random point.\n",
      "['rbf', 10, 'scale', 2.5493926294131706, 0.0062360134041629395, 10.0] \n",
      "\n",
      "Iteration No: 1 ended. Evaluation done at random point.\n",
      "Time taken: 0.3374\n",
      "Function value obtained: 0.4873\n",
      "Current minimum: 0.4873\n",
      "Iteration No: 2 started. Evaluating function at random point.\n",
      "['poly', 2, 'auto', 1.4591120960979826, 0.00812187511902616, 10.0] \n",
      "\n",
      "Iteration No: 2 ended. Evaluation done at random point.\n",
      "Time taken: 0.2807\n",
      "Function value obtained: 0.7453\n",
      "Current minimum: 0.4873\n",
      "Iteration No: 3 started. Evaluating function at random point.\n",
      "['poly', 10, 'auto', 1.9621070225510322, 0.0036830471568656403, 1000.0] \n",
      "\n",
      "Iteration No: 3 ended. Evaluation done at random point.\n",
      "Time taken: 0.2707\n",
      "Function value obtained: 0.4260\n",
      "Current minimum: 0.4260\n",
      "Iteration No: 4 started. Evaluating function at random point.\n",
      "['linear', 11, 'auto', 2.412686718339951, 0.005205254318032499, 100.0] \n",
      "\n",
      "Iteration No: 4 ended. Evaluation done at random point.\n",
      "Time taken: 0.2675\n",
      "Function value obtained: 0.1891\n",
      "Current minimum: 0.1891\n",
      "Iteration No: 5 started. Evaluating function at random point.\n",
      "['rbf', 7, 'scale', 2.2879160917509545, 0.0010599701642707339, 10.0] \n",
      "\n",
      "Iteration No: 5 ended. Evaluation done at random point.\n",
      "Time taken: 0.3246\n",
      "Function value obtained: 0.4877\n",
      "Current minimum: 0.1891\n",
      "Iteration No: 6 started. Evaluating function at random point.\n",
      "['poly', 9, 'auto', 0.44889361154608365, 0.0032420859369243485, 1.0] \n",
      "\n",
      "Iteration No: 6 ended. Evaluation done at random point.\n",
      "Time taken: 0.2738\n",
      "Function value obtained: 0.7454\n",
      "Current minimum: 0.1891\n",
      "Iteration No: 7 started. Evaluating function at random point.\n",
      "['poly', 5, 'scale', 1.377352470238122, 0.006131021515383442, 1000.0] \n",
      "\n",
      "Iteration No: 7 ended. Evaluation done at random point.\n",
      "Time taken: 0.4412\n",
      "Function value obtained: 1.0617\n",
      "Current minimum: 0.1891\n",
      "Iteration No: 8 started. Evaluating function at random point.\n",
      "['linear', 12, 'scale', 0.5541832761513333, 0.0035821635175282817, 100.0] \n",
      "\n",
      "Iteration No: 8 ended. Evaluation done at random point.\n",
      "Time taken: 0.2735\n",
      "Function value obtained: 0.1890\n",
      "Current minimum: 0.1890\n",
      "Iteration No: 9 started. Evaluating function at random point.\n",
      "['rbf', 5, 'auto', 1.9211084709741388, 0.009589533736976581, 100.0] \n",
      "\n",
      "Iteration No: 9 ended. Evaluation done at random point.\n",
      "Time taken: 0.3325\n",
      "Function value obtained: 0.7451\n",
      "Current minimum: 0.1890\n",
      "Iteration No: 10 started. Evaluating function at random point.\n",
      "['rbf', 12, 'scale', 1.2723873352677884, 0.004747500325381842, 10.0] \n",
      "\n",
      "Iteration No: 10 ended. Evaluation done at random point.\n",
      "Time taken: 0.3238\n",
      "Function value obtained: 0.4878\n",
      "Current minimum: 0.1890\n",
      "Iteration No: 11 started. Evaluating function at random point.\n",
      "['poly', 8, 'auto', 2.346119171976432, 0.009495760963453974, 100.0] \n",
      "\n",
      "Iteration No: 11 ended. Evaluation done at random point.\n",
      "Time taken: 0.2723\n",
      "Function value obtained: 0.0910\n",
      "Current minimum: 0.0910\n",
      "Iteration No: 12 started. Evaluating function at random point.\n",
      "['linear', 8, 'scale', 2.9172377573740147, 0.008782056520000425, 10.0] \n",
      "\n",
      "Iteration No: 12 ended. Evaluation done at random point.\n",
      "Time taken: 0.2771\n",
      "Function value obtained: 0.6530\n",
      "Current minimum: 0.0910\n",
      "Iteration No: 13 started. Evaluating function at random point.\n",
      "['linear', 6, 'auto', 1.3530472176840942, 0.009795887701398474, 1.0] \n",
      "\n",
      "Iteration No: 13 ended. Evaluation done at random point.\n",
      "Time taken: 0.2711\n",
      "Function value obtained: 0.7344\n",
      "Current minimum: 0.0910\n",
      "Iteration No: 14 started. Evaluating function at random point.\n",
      "['poly', 9, 'scale', 2.7587946257683273, 0.002169004554137802, 10.0] \n",
      "\n",
      "Iteration No: 14 ended. Evaluation done at random point.\n",
      "Time taken: 0.4476\n",
      "Function value obtained: 0.9864\n",
      "Current minimum: 0.0910\n",
      "Iteration No: 15 started. Evaluating function at random point.\n",
      "['sigmoid', 7, 'scale', 2.76741495019974, 0.0008320418138133935, 1.0] \n",
      "\n",
      "Iteration No: 15 ended. Evaluation done at random point.\n",
      "Time taken: 0.2917\n",
      "Function value obtained: 0.7470\n",
      "Current minimum: 0.0910\n",
      "Iteration No: 16 started. Evaluating function at random point.\n",
      "['linear', 10, 'scale', 2.532089051632196, 0.002648036912670214, 10.0] \n",
      "\n",
      "Iteration No: 16 ended. Evaluation done at random point.\n",
      "Time taken: 0.2773\n",
      "Function value obtained: 0.6530\n",
      "Current minimum: 0.0910\n",
      "Iteration No: 17 started. Evaluating function at random point.\n",
      "['rbf', 3, 'auto', 0.4820032000508812, 0.005696614440827146, 100.0] \n",
      "\n",
      "Iteration No: 17 ended. Evaluation done at random point.\n",
      "Time taken: 0.3258\n",
      "Function value obtained: 0.7445\n",
      "Current minimum: 0.0910\n",
      "Iteration No: 18 started. Evaluating function at random point.\n",
      "['poly', 6, 'scale', 1.2184899124989192, 0.008960487836703264, 100.0] \n",
      "\n",
      "Iteration No: 18 ended. Evaluation done at random point.\n",
      "Time taken: 0.4279\n",
      "Function value obtained: 1.0139\n",
      "Current minimum: 0.0910\n",
      "Iteration No: 19 started. Evaluating function at random point.\n",
      "['sigmoid', 8, 'auto', 2.936784238841116, 0.0011629028942143319, 100.0] \n",
      "\n",
      "Iteration No: 19 ended. Evaluation done at random point.\n",
      "Time taken: 0.3039\n",
      "Function value obtained: 0.7454\n",
      "Current minimum: 0.0910\n",
      "Iteration No: 20 started. Evaluating function at random point.\n",
      "['poly', 8, 'auto', 0.9739940792405556, 0.009654196788978752, 10.0] \n",
      "\n",
      "Iteration No: 20 ended. Evaluation done at random point.\n",
      "Time taken: 1.6152\n",
      "Function value obtained: 0.7451\n",
      "Current minimum: 0.0910\n",
      "Iteration No: 21 started. Searching for the next optimal point.\n",
      "['linear', 10, 'scale', 0.19577521551155452, 0.0017455216127734514, 100.0] \n",
      "\n",
      "Iteration No: 21 ended. Search finished for the next optimal point.\n",
      "Time taken: 0.7174\n",
      "Function value obtained: 0.1889\n",
      "Current minimum: 0.0910\n",
      "Iteration No: 22 started. Searching for the next optimal point.\n",
      "['poly', 10, 'auto', 2.3311720937560363, 0.01, 100.0] \n",
      "\n",
      "Iteration No: 22 ended. Search finished for the next optimal point.\n",
      "Time taken: 0.7932\n",
      "Function value obtained: 0.2716\n",
      "Current minimum: 0.0910\n",
      "Iteration No: 23 started. Searching for the next optimal point.\n",
      "['linear', 12, 'scale', 0.2848598751940994, 0.00127761224955195, 1000.0] \n",
      "\n",
      "Iteration No: 23 ended. Search finished for the next optimal point.\n",
      "Time taken: 0.9171\n",
      "Function value obtained: 0.3123\n",
      "Current minimum: 0.0910\n",
      "Iteration No: 24 started. Searching for the next optimal point.\n",
      "['poly', 6, 'auto', 2.8280403651575132, 0.009199305327904073, 1000.0] \n",
      "\n",
      "Iteration No: 24 ended. Search finished for the next optimal point.\n",
      "Time taken: 0.7359\n",
      "Function value obtained: 0.2287\n",
      "Current minimum: 0.0910\n",
      "Iteration No: 25 started. Searching for the next optimal point.\n",
      "['linear', 4, 'auto', 2.968944454867658, 0.004446198854591526, 100.0] \n",
      "\n",
      "Iteration No: 25 ended. Search finished for the next optimal point.\n",
      "Time taken: 0.7642\n",
      "Function value obtained: 0.1890\n",
      "Current minimum: 0.0910\n",
      "Iteration No: 26 started. Searching for the next optimal point.\n",
      "['linear', 11, 'auto', 2.2785738942527733, 0.004184358648095068, 1000.0] \n",
      "\n",
      "Iteration No: 26 ended. Search finished for the next optimal point.\n",
      "Time taken: 0.7451\n",
      "Function value obtained: 0.3121\n",
      "Current minimum: 0.0910\n",
      "Iteration No: 27 started. Searching for the next optimal point.\n",
      "['sigmoid', 1, 'scale', 0.05, 0.00795179434303096, 1000.0] \n",
      "\n",
      "Iteration No: 27 ended. Search finished for the next optimal point.\n",
      "Time taken: 0.6679\n",
      "Function value obtained: 33.1672\n",
      "Current minimum: 0.0910\n",
      "Iteration No: 28 started. Searching for the next optimal point.\n",
      "['sigmoid', 4, 'scale', 2.921899481785537, 0.00990214780098513, 10.0] \n",
      "\n",
      "Iteration No: 28 ended. Search finished for the next optimal point.\n",
      "Time taken: 0.6987\n",
      "Function value obtained: 0.7583\n",
      "Current minimum: 0.0910\n",
      "Iteration No: 29 started. Searching for the next optimal point.\n",
      "['linear', 7, 'auto', 0.44923541010593865, 0.01, 0.1] \n",
      "\n",
      "Iteration No: 29 ended. Search finished for the next optimal point.\n",
      "Time taken: 0.6340\n",
      "Function value obtained: 0.7444\n",
      "Current minimum: 0.0910\n",
      "Iteration No: 30 started. Searching for the next optimal point.\n",
      "['rbf', 8, 'auto', 1.7836279461539377, 0.001159692274541967, 1.0] \n",
      "\n",
      "Iteration No: 30 ended. Search finished for the next optimal point.\n",
      "Time taken: 0.8098\n",
      "Function value obtained: 0.7454\n",
      "Current minimum: 0.0910\n",
      "Iteration No: 31 started. Searching for the next optimal point.\n",
      "['linear', 10, 'scale', 0.05, 0.01, 1000.0] \n",
      "\n",
      "Iteration No: 31 ended. Search finished for the next optimal point.\n",
      "Time taken: 0.8082\n",
      "Function value obtained: 0.3125\n",
      "Current minimum: 0.0910\n",
      "Iteration No: 32 started. Searching for the next optimal point.\n",
      "['linear', 11, 'scale', 0.05, 1e-06, 1000.0] \n",
      "\n",
      "Iteration No: 32 ended. Search finished for the next optimal point.\n",
      "Time taken: 0.8953\n",
      "Function value obtained: 0.3123\n",
      "Current minimum: 0.0910\n",
      "Iteration No: 33 started. Searching for the next optimal point.\n",
      "['linear', 11, 'auto', 3.0, 0.01, 1000.0] \n",
      "\n",
      "Iteration No: 33 ended. Search finished for the next optimal point.\n",
      "Time taken: 0.7927\n",
      "Function value obtained: 0.3125\n",
      "Current minimum: 0.0910\n",
      "Iteration No: 34 started. Searching for the next optimal point.\n",
      "['linear', 8, 'auto', 2.8392563643650863, 0.008315136489799712, 10.0] \n",
      "\n",
      "Iteration No: 34 ended. Search finished for the next optimal point.\n",
      "Time taken: 0.8343\n",
      "Function value obtained: 0.6530\n",
      "Current minimum: 0.0910\n",
      "Iteration No: 35 started. Searching for the next optimal point.\n",
      "['sigmoid', 1, 'auto', 0.05, 0.01, 0.1] \n",
      "\n",
      "Iteration No: 35 ended. Search finished for the next optimal point.\n",
      "Time taken: 0.7829\n",
      "Function value obtained: 0.7454\n",
      "Current minimum: 0.0910\n",
      "Iteration No: 36 started. Searching for the next optimal point.\n",
      "['linear', 6, 'scale', 1.7456217028711547, 0.01, 1000.0] \n",
      "\n",
      "Iteration No: 36 ended. Search finished for the next optimal point.\n",
      "Time taken: 0.8962\n",
      "Function value obtained: 0.3125\n",
      "Current minimum: 0.0910\n",
      "Iteration No: 37 started. Searching for the next optimal point.\n",
      "['sigmoid', 1, 'auto', 3.0, 0.01, 1000.0] \n",
      "\n",
      "Iteration No: 37 ended. Search finished for the next optimal point.\n",
      "Time taken: 0.8885\n",
      "Function value obtained: 0.7454\n",
      "Current minimum: 0.0910\n",
      "Iteration No: 38 started. Searching for the next optimal point.\n",
      "['rbf', 1, 'auto', 0.05, 0.01, 0.1] \n",
      "\n",
      "Iteration No: 38 ended. Search finished for the next optimal point.\n",
      "Time taken: 0.9147\n",
      "Function value obtained: 0.7461\n",
      "Current minimum: 0.0910\n",
      "Iteration No: 39 started. Searching for the next optimal point.\n",
      "['sigmoid', 1, 'auto', 0.05, 0.01, 1.0] \n",
      "\n",
      "Iteration No: 39 ended. Search finished for the next optimal point.\n",
      "Time taken: 0.9366\n",
      "Function value obtained: 0.7454\n",
      "Current minimum: 0.0910\n",
      "Iteration No: 40 started. Searching for the next optimal point.\n",
      "['linear', 4, 'scale', 0.11452399505980372, 0.009763557569513838, 0.1] \n",
      "\n",
      "Iteration No: 40 ended. Search finished for the next optimal point.\n",
      "Time taken: 1.0481\n",
      "Function value obtained: 0.7444\n",
      "Current minimum: 0.0910\n",
      "Iteration No: 41 started. Searching for the next optimal point.\n",
      "['sigmoid', 5, 'scale', 3.0, 0.00898645292049351, 10.0] \n",
      "\n",
      "Iteration No: 41 ended. Search finished for the next optimal point.\n",
      "Time taken: 0.9024\n",
      "Function value obtained: 0.7557\n",
      "Current minimum: 0.0910\n",
      "Iteration No: 42 started. Searching for the next optimal point.\n",
      "['sigmoid', 6, 'scale', 3.0, 0.008336735460334102, 10.0] \n",
      "\n",
      "Iteration No: 42 ended. Search finished for the next optimal point.\n",
      "Time taken: 0.9267\n",
      "Function value obtained: 0.7557\n",
      "Current minimum: 0.0910\n",
      "Iteration No: 43 started. Searching for the next optimal point.\n",
      "['sigmoid', 7, 'scale', 3.0, 0.007879946627311861, 10.0] \n",
      "\n",
      "Iteration No: 43 ended. Search finished for the next optimal point.\n",
      "Time taken: 0.7741\n",
      "Function value obtained: 0.7557\n",
      "Current minimum: 0.0910\n",
      "Iteration No: 44 started. Searching for the next optimal point.\n",
      "['rbf', 5, 'scale', 0.29949167290213186, 0.009082167850710575, 0.1] \n",
      "\n",
      "Iteration No: 44 ended. Search finished for the next optimal point.\n",
      "Time taken: 0.8803\n",
      "Function value obtained: 0.4235\n",
      "Current minimum: 0.0910\n",
      "Iteration No: 45 started. Searching for the next optimal point.\n",
      "['rbf', 4, 'scale', 2.945696567263138, 0.009565098284516297, 1.0] \n",
      "\n",
      "Iteration No: 45 ended. Search finished for the next optimal point.\n",
      "Time taken: 0.9499\n",
      "Function value obtained: 0.1819\n",
      "Current minimum: 0.0910\n",
      "Iteration No: 46 started. Searching for the next optimal point.\n",
      "['linear', 12, 'scale', 0.9143650599251055, 1e-06, 1000.0] \n",
      "\n",
      "Iteration No: 46 ended. Search finished for the next optimal point.\n",
      "Time taken: 0.8648\n",
      "Function value obtained: 0.3123\n",
      "Current minimum: 0.0910\n",
      "Iteration No: 47 started. Searching for the next optimal point.\n",
      "['poly', 12, 'scale', 0.05, 0.01, 0.1] \n",
      "\n",
      "Iteration No: 47 ended. Search finished for the next optimal point.\n",
      "Time taken: 1.0199\n",
      "Function value obtained: -0.0584\n",
      "Current minimum: -0.0584\n",
      "Iteration No: 48 started. Searching for the next optimal point.\n",
      "['poly', 12, 'scale', 0.05, 0.01, 0.1] \n",
      "\n"
     ]
    },
    {
     "name": "stderr",
     "output_type": "stream",
     "text": [
      "/home/caio/anaconda3/lib/python3.9/site-packages/skopt/optimizer/optimizer.py:449: UserWarning: The objective has been evaluated at this point before.\n",
      "  warnings.warn(\"The objective has been evaluated \"\n"
     ]
    },
    {
     "name": "stdout",
     "output_type": "stream",
     "text": [
      "Iteration No: 48 ended. Search finished for the next optimal point.\n",
      "Time taken: 0.8771\n",
      "Function value obtained: -0.0584\n",
      "Current minimum: -0.0584\n",
      "Iteration No: 49 started. Searching for the next optimal point.\n",
      "['poly', 1, 'auto', 2.4752816493679672, 0.009149157346204766, 100.0] \n",
      "\n",
      "Iteration No: 49 ended. Search finished for the next optimal point.\n",
      "Time taken: 0.8657\n",
      "Function value obtained: 0.7450\n",
      "Current minimum: -0.0584\n",
      "Iteration No: 50 started. Searching for the next optimal point.\n",
      "['linear', 1, 'auto', 3.0, 1e-06, 1000.0] \n",
      "\n",
      "Iteration No: 50 ended. Search finished for the next optimal point.\n",
      "Time taken: 0.8534\n",
      "Function value obtained: 0.3123\n",
      "Current minimum: -0.0584\n",
      "Iteration No: 51 started. Searching for the next optimal point.\n",
      "['poly', 12, 'scale', 0.06268148725135513, 0.007734263527825195, 0.1] \n",
      "\n",
      "Iteration No: 51 ended. Search finished for the next optimal point.\n",
      "Time taken: 0.8658\n",
      "Function value obtained: -0.0528\n",
      "Current minimum: -0.0584\n",
      "Iteration No: 52 started. Searching for the next optimal point.\n",
      "['linear', 12, 'auto', 2.5430187081665916, 0.001404883471791284, 0.1] \n",
      "\n",
      "Iteration No: 52 ended. Search finished for the next optimal point.\n",
      "Time taken: 0.8800\n",
      "Function value obtained: 0.7444\n",
      "Current minimum: -0.0584\n",
      "Iteration No: 53 started. Searching for the next optimal point.\n",
      "['poly', 12, 'scale', 1.1652918835280224, 0.01, 0.1] \n",
      "\n",
      "Iteration No: 53 ended. Search finished for the next optimal point.\n",
      "Time taken: 0.9538\n",
      "Function value obtained: 0.8109\n",
      "Current minimum: -0.0584\n",
      "Iteration No: 54 started. Searching for the next optimal point.\n",
      "['rbf', 5, 'scale', 0.05, 0.01, 1.0] \n",
      "\n",
      "Iteration No: 54 ended. Search finished for the next optimal point.\n",
      "Time taken: 0.8859\n",
      "Function value obtained: 0.1819\n",
      "Current minimum: -0.0584\n",
      "Iteration No: 55 started. Searching for the next optimal point.\n",
      "['poly', 1, 'scale', 0.05, 1e-06, 0.1] \n",
      "\n",
      "Iteration No: 55 ended. Search finished for the next optimal point.\n",
      "Time taken: 0.9549\n",
      "Function value obtained: 0.5437\n",
      "Current minimum: -0.0584\n",
      "Iteration No: 56 started. Searching for the next optimal point.\n",
      "['poly', 12, 'scale', 0.05, 0.01, 0.1] \n",
      "\n"
     ]
    },
    {
     "name": "stderr",
     "output_type": "stream",
     "text": [
      "/home/caio/anaconda3/lib/python3.9/site-packages/skopt/optimizer/optimizer.py:449: UserWarning: The objective has been evaluated at this point before.\n",
      "  warnings.warn(\"The objective has been evaluated \"\n"
     ]
    },
    {
     "name": "stdout",
     "output_type": "stream",
     "text": [
      "Iteration No: 56 ended. Search finished for the next optimal point.\n",
      "Time taken: 0.8834\n",
      "Function value obtained: -0.0584\n",
      "Current minimum: -0.0584\n",
      "Iteration No: 57 started. Searching for the next optimal point.\n",
      "['sigmoid', 2, 'scale', 3.0, 0.006572751897259102, 10.0] \n",
      "\n",
      "Iteration No: 57 ended. Search finished for the next optimal point.\n",
      "Time taken: 0.8983\n",
      "Function value obtained: 0.7557\n",
      "Current minimum: -0.0584\n",
      "Iteration No: 58 started. Searching for the next optimal point.\n",
      "['sigmoid', 1, 'scale', 3.0, 0.0002936228748368117, 10.0] \n",
      "\n",
      "Iteration No: 58 ended. Search finished for the next optimal point.\n",
      "Time taken: 0.9218\n",
      "Function value obtained: 0.7557\n",
      "Current minimum: -0.0584\n",
      "Iteration No: 59 started. Searching for the next optimal point.\n",
      "['sigmoid', 1, 'scale', 3.0, 1e-06, 10.0] \n",
      "\n",
      "Iteration No: 59 ended. Search finished for the next optimal point.\n",
      "Time taken: 0.9131\n",
      "Function value obtained: 0.7557\n",
      "Current minimum: -0.0584\n",
      "Iteration No: 60 started. Searching for the next optimal point.\n",
      "['sigmoid', 1, 'scale', 3.0, 0.0016956822019992205, 10.0] \n",
      "\n",
      "Iteration No: 60 ended. Search finished for the next optimal point.\n",
      "Time taken: 0.9253\n",
      "Function value obtained: 0.7557\n",
      "Current minimum: -0.0584\n",
      "Iteration No: 61 started. Searching for the next optimal point.\n",
      "['sigmoid', 1, 'scale', 3.0, 1e-06, 10.0] \n",
      "\n"
     ]
    },
    {
     "name": "stderr",
     "output_type": "stream",
     "text": [
      "/home/caio/anaconda3/lib/python3.9/site-packages/skopt/optimizer/optimizer.py:449: UserWarning: The objective has been evaluated at this point before.\n",
      "  warnings.warn(\"The objective has been evaluated \"\n"
     ]
    },
    {
     "name": "stdout",
     "output_type": "stream",
     "text": [
      "Iteration No: 61 ended. Search finished for the next optimal point.\n",
      "Time taken: 0.9899\n",
      "Function value obtained: 0.7557\n",
      "Current minimum: -0.0584\n",
      "Iteration No: 62 started. Searching for the next optimal point.\n",
      "['sigmoid', 1, 'scale', 3.0, 1e-06, 10.0] \n",
      "\n"
     ]
    },
    {
     "name": "stderr",
     "output_type": "stream",
     "text": [
      "/home/caio/anaconda3/lib/python3.9/site-packages/skopt/optimizer/optimizer.py:449: UserWarning: The objective has been evaluated at this point before.\n",
      "  warnings.warn(\"The objective has been evaluated \"\n"
     ]
    },
    {
     "name": "stdout",
     "output_type": "stream",
     "text": [
      "Iteration No: 62 ended. Search finished for the next optimal point.\n",
      "Time taken: 1.0496\n",
      "Function value obtained: 0.7557\n",
      "Current minimum: -0.0584\n",
      "Iteration No: 63 started. Searching for the next optimal point.\n",
      "['sigmoid', 1, 'scale', 3.0, 1e-06, 10.0] \n",
      "\n"
     ]
    },
    {
     "name": "stderr",
     "output_type": "stream",
     "text": [
      "/home/caio/anaconda3/lib/python3.9/site-packages/skopt/optimizer/optimizer.py:449: UserWarning: The objective has been evaluated at this point before.\n",
      "  warnings.warn(\"The objective has been evaluated \"\n"
     ]
    },
    {
     "name": "stdout",
     "output_type": "stream",
     "text": [
      "Iteration No: 63 ended. Search finished for the next optimal point.\n",
      "Time taken: 1.0528\n",
      "Function value obtained: 0.7557\n",
      "Current minimum: -0.0584\n",
      "Iteration No: 64 started. Searching for the next optimal point.\n",
      "['sigmoid', 1, 'scale', 3.0, 1e-06, 10.0] \n",
      "\n"
     ]
    },
    {
     "name": "stderr",
     "output_type": "stream",
     "text": [
      "/home/caio/anaconda3/lib/python3.9/site-packages/skopt/optimizer/optimizer.py:449: UserWarning: The objective has been evaluated at this point before.\n",
      "  warnings.warn(\"The objective has been evaluated \"\n"
     ]
    },
    {
     "name": "stdout",
     "output_type": "stream",
     "text": [
      "Iteration No: 64 ended. Search finished for the next optimal point.\n",
      "Time taken: 1.0143\n",
      "Function value obtained: 0.7557\n",
      "Current minimum: -0.0584\n",
      "Iteration No: 65 started. Searching for the next optimal point.\n",
      "['sigmoid', 1, 'scale', 3.0, 1e-06, 10.0] \n",
      "\n"
     ]
    },
    {
     "name": "stderr",
     "output_type": "stream",
     "text": [
      "/home/caio/anaconda3/lib/python3.9/site-packages/skopt/optimizer/optimizer.py:449: UserWarning: The objective has been evaluated at this point before.\n",
      "  warnings.warn(\"The objective has been evaluated \"\n"
     ]
    },
    {
     "name": "stdout",
     "output_type": "stream",
     "text": [
      "Iteration No: 65 ended. Search finished for the next optimal point.\n",
      "Time taken: 0.9898\n",
      "Function value obtained: 0.7557\n",
      "Current minimum: -0.0584\n",
      "Iteration No: 66 started. Searching for the next optimal point.\n",
      "['sigmoid', 1, 'scale', 3.0, 1e-06, 10.0] \n",
      "\n"
     ]
    },
    {
     "name": "stderr",
     "output_type": "stream",
     "text": [
      "/home/caio/anaconda3/lib/python3.9/site-packages/skopt/optimizer/optimizer.py:449: UserWarning: The objective has been evaluated at this point before.\n",
      "  warnings.warn(\"The objective has been evaluated \"\n"
     ]
    },
    {
     "name": "stdout",
     "output_type": "stream",
     "text": [
      "Iteration No: 66 ended. Search finished for the next optimal point.\n",
      "Time taken: 1.0235\n",
      "Function value obtained: 0.7557\n",
      "Current minimum: -0.0584\n",
      "Iteration No: 67 started. Searching for the next optimal point.\n",
      "['sigmoid', 1, 'scale', 3.0, 1e-06, 10.0] \n",
      "\n"
     ]
    },
    {
     "name": "stderr",
     "output_type": "stream",
     "text": [
      "/home/caio/anaconda3/lib/python3.9/site-packages/skopt/optimizer/optimizer.py:449: UserWarning: The objective has been evaluated at this point before.\n",
      "  warnings.warn(\"The objective has been evaluated \"\n"
     ]
    },
    {
     "name": "stdout",
     "output_type": "stream",
     "text": [
      "Iteration No: 67 ended. Search finished for the next optimal point.\n",
      "Time taken: 1.1088\n",
      "Function value obtained: 0.7557\n",
      "Current minimum: -0.0584\n",
      "Iteration No: 68 started. Searching for the next optimal point.\n",
      "['sigmoid', 1, 'scale', 3.0, 1e-06, 10.0] \n",
      "\n"
     ]
    },
    {
     "name": "stderr",
     "output_type": "stream",
     "text": [
      "/home/caio/anaconda3/lib/python3.9/site-packages/skopt/optimizer/optimizer.py:449: UserWarning: The objective has been evaluated at this point before.\n",
      "  warnings.warn(\"The objective has been evaluated \"\n"
     ]
    },
    {
     "name": "stdout",
     "output_type": "stream",
     "text": [
      "Iteration No: 68 ended. Search finished for the next optimal point.\n",
      "Time taken: 1.0088\n",
      "Function value obtained: 0.7557\n",
      "Current minimum: -0.0584\n",
      "Iteration No: 69 started. Searching for the next optimal point.\n",
      "['sigmoid', 1, 'scale', 3.0, 1e-06, 10.0] \n",
      "\n"
     ]
    },
    {
     "name": "stderr",
     "output_type": "stream",
     "text": [
      "/home/caio/anaconda3/lib/python3.9/site-packages/skopt/optimizer/optimizer.py:449: UserWarning: The objective has been evaluated at this point before.\n",
      "  warnings.warn(\"The objective has been evaluated \"\n"
     ]
    },
    {
     "name": "stdout",
     "output_type": "stream",
     "text": [
      "Iteration No: 69 ended. Search finished for the next optimal point.\n",
      "Time taken: 0.9888\n",
      "Function value obtained: 0.7557\n",
      "Current minimum: -0.0584\n",
      "Iteration No: 70 started. Searching for the next optimal point.\n",
      "['sigmoid', 1, 'scale', 3.0, 1e-06, 10.0] \n",
      "\n"
     ]
    },
    {
     "name": "stderr",
     "output_type": "stream",
     "text": [
      "/home/caio/anaconda3/lib/python3.9/site-packages/skopt/optimizer/optimizer.py:449: UserWarning: The objective has been evaluated at this point before.\n",
      "  warnings.warn(\"The objective has been evaluated \"\n"
     ]
    },
    {
     "name": "stdout",
     "output_type": "stream",
     "text": [
      "Iteration No: 70 ended. Search finished for the next optimal point.\n",
      "Time taken: 0.9890\n",
      "Function value obtained: 0.7557\n",
      "Current minimum: -0.0584\n",
      "Iteration No: 71 started. Searching for the next optimal point.\n",
      "['sigmoid', 1, 'scale', 3.0, 1e-06, 10.0] \n",
      "\n"
     ]
    },
    {
     "name": "stderr",
     "output_type": "stream",
     "text": [
      "/home/caio/anaconda3/lib/python3.9/site-packages/skopt/optimizer/optimizer.py:449: UserWarning: The objective has been evaluated at this point before.\n",
      "  warnings.warn(\"The objective has been evaluated \"\n"
     ]
    },
    {
     "name": "stdout",
     "output_type": "stream",
     "text": [
      "Iteration No: 71 ended. Search finished for the next optimal point.\n",
      "Time taken: 1.2400\n",
      "Function value obtained: 0.7557\n",
      "Current minimum: -0.0584\n",
      "Iteration No: 72 started. Searching for the next optimal point.\n",
      "['sigmoid', 1, 'scale', 3.0, 1e-06, 10.0] \n",
      "\n"
     ]
    },
    {
     "name": "stderr",
     "output_type": "stream",
     "text": [
      "/home/caio/anaconda3/lib/python3.9/site-packages/skopt/optimizer/optimizer.py:449: UserWarning: The objective has been evaluated at this point before.\n",
      "  warnings.warn(\"The objective has been evaluated \"\n"
     ]
    },
    {
     "name": "stdout",
     "output_type": "stream",
     "text": [
      "Iteration No: 72 ended. Search finished for the next optimal point.\n",
      "Time taken: 1.0631\n",
      "Function value obtained: 0.7557\n",
      "Current minimum: -0.0584\n",
      "Iteration No: 73 started. Searching for the next optimal point.\n",
      "['sigmoid', 1, 'scale', 3.0, 1e-06, 10.0] \n",
      "\n"
     ]
    },
    {
     "name": "stderr",
     "output_type": "stream",
     "text": [
      "/home/caio/anaconda3/lib/python3.9/site-packages/skopt/optimizer/optimizer.py:449: UserWarning: The objective has been evaluated at this point before.\n",
      "  warnings.warn(\"The objective has been evaluated \"\n"
     ]
    },
    {
     "name": "stdout",
     "output_type": "stream",
     "text": [
      "Iteration No: 73 ended. Search finished for the next optimal point.\n",
      "Time taken: 1.0450\n",
      "Function value obtained: 0.7557\n",
      "Current minimum: -0.0584\n",
      "Iteration No: 74 started. Searching for the next optimal point.\n",
      "['sigmoid', 1, 'scale', 3.0, 1e-06, 10.0] \n",
      "\n"
     ]
    },
    {
     "name": "stderr",
     "output_type": "stream",
     "text": [
      "/home/caio/anaconda3/lib/python3.9/site-packages/skopt/optimizer/optimizer.py:449: UserWarning: The objective has been evaluated at this point before.\n",
      "  warnings.warn(\"The objective has been evaluated \"\n"
     ]
    },
    {
     "name": "stdout",
     "output_type": "stream",
     "text": [
      "Iteration No: 74 ended. Search finished for the next optimal point.\n",
      "Time taken: 1.0409\n",
      "Function value obtained: 0.7557\n",
      "Current minimum: -0.0584\n",
      "Iteration No: 75 started. Searching for the next optimal point.\n",
      "['sigmoid', 1, 'scale', 3.0, 1e-06, 10.0] \n",
      "\n"
     ]
    },
    {
     "name": "stderr",
     "output_type": "stream",
     "text": [
      "/home/caio/anaconda3/lib/python3.9/site-packages/skopt/optimizer/optimizer.py:449: UserWarning: The objective has been evaluated at this point before.\n",
      "  warnings.warn(\"The objective has been evaluated \"\n"
     ]
    },
    {
     "name": "stdout",
     "output_type": "stream",
     "text": [
      "Iteration No: 75 ended. Search finished for the next optimal point.\n",
      "Time taken: 1.0555\n",
      "Function value obtained: 0.7557\n",
      "Current minimum: -0.0584\n",
      "Iteration No: 76 started. Searching for the next optimal point.\n",
      "['sigmoid', 1, 'scale', 3.0, 1e-06, 10.0] \n",
      "\n"
     ]
    },
    {
     "name": "stderr",
     "output_type": "stream",
     "text": [
      "/home/caio/anaconda3/lib/python3.9/site-packages/skopt/optimizer/optimizer.py:449: UserWarning: The objective has been evaluated at this point before.\n",
      "  warnings.warn(\"The objective has been evaluated \"\n"
     ]
    },
    {
     "name": "stdout",
     "output_type": "stream",
     "text": [
      "Iteration No: 76 ended. Search finished for the next optimal point.\n",
      "Time taken: 1.0286\n",
      "Function value obtained: 0.7557\n",
      "Current minimum: -0.0584\n",
      "Iteration No: 77 started. Searching for the next optimal point.\n",
      "['sigmoid', 1, 'scale', 3.0, 1e-06, 10.0] \n",
      "\n"
     ]
    },
    {
     "name": "stderr",
     "output_type": "stream",
     "text": [
      "/home/caio/anaconda3/lib/python3.9/site-packages/skopt/optimizer/optimizer.py:449: UserWarning: The objective has been evaluated at this point before.\n",
      "  warnings.warn(\"The objective has been evaluated \"\n"
     ]
    },
    {
     "name": "stdout",
     "output_type": "stream",
     "text": [
      "Iteration No: 77 ended. Search finished for the next optimal point.\n",
      "Time taken: 1.0642\n",
      "Function value obtained: 0.7557\n",
      "Current minimum: -0.0584\n",
      "Iteration No: 78 started. Searching for the next optimal point.\n",
      "['sigmoid', 1, 'scale', 3.0, 1e-06, 10.0] \n",
      "\n"
     ]
    },
    {
     "name": "stderr",
     "output_type": "stream",
     "text": [
      "/home/caio/anaconda3/lib/python3.9/site-packages/skopt/optimizer/optimizer.py:449: UserWarning: The objective has been evaluated at this point before.\n",
      "  warnings.warn(\"The objective has been evaluated \"\n"
     ]
    },
    {
     "name": "stdout",
     "output_type": "stream",
     "text": [
      "Iteration No: 78 ended. Search finished for the next optimal point.\n",
      "Time taken: 1.0544\n",
      "Function value obtained: 0.7557\n",
      "Current minimum: -0.0584\n",
      "Iteration No: 79 started. Searching for the next optimal point.\n",
      "['sigmoid', 1, 'scale', 3.0, 1e-06, 10.0] \n",
      "\n"
     ]
    },
    {
     "name": "stderr",
     "output_type": "stream",
     "text": [
      "/home/caio/anaconda3/lib/python3.9/site-packages/skopt/optimizer/optimizer.py:449: UserWarning: The objective has been evaluated at this point before.\n",
      "  warnings.warn(\"The objective has been evaluated \"\n"
     ]
    },
    {
     "name": "stdout",
     "output_type": "stream",
     "text": [
      "Iteration No: 79 ended. Search finished for the next optimal point.\n",
      "Time taken: 1.1100\n",
      "Function value obtained: 0.7557\n",
      "Current minimum: -0.0584\n",
      "Iteration No: 80 started. Searching for the next optimal point.\n",
      "['sigmoid', 1, 'scale', 3.0, 1e-06, 10.0] \n",
      "\n"
     ]
    },
    {
     "name": "stderr",
     "output_type": "stream",
     "text": [
      "/home/caio/anaconda3/lib/python3.9/site-packages/skopt/optimizer/optimizer.py:449: UserWarning: The objective has been evaluated at this point before.\n",
      "  warnings.warn(\"The objective has been evaluated \"\n"
     ]
    },
    {
     "name": "stdout",
     "output_type": "stream",
     "text": [
      "Iteration No: 80 ended. Search finished for the next optimal point.\n",
      "Time taken: 1.2176\n",
      "Function value obtained: 0.7557\n",
      "Current minimum: -0.0584\n",
      "Iteration No: 81 started. Searching for the next optimal point.\n",
      "['sigmoid', 1, 'scale', 3.0, 1e-06, 10.0] \n",
      "\n"
     ]
    },
    {
     "name": "stderr",
     "output_type": "stream",
     "text": [
      "/home/caio/anaconda3/lib/python3.9/site-packages/skopt/optimizer/optimizer.py:449: UserWarning: The objective has been evaluated at this point before.\n",
      "  warnings.warn(\"The objective has been evaluated \"\n"
     ]
    },
    {
     "name": "stdout",
     "output_type": "stream",
     "text": [
      "Iteration No: 81 ended. Search finished for the next optimal point.\n",
      "Time taken: 1.1246\n",
      "Function value obtained: 0.7557\n",
      "Current minimum: -0.0584\n",
      "Iteration No: 82 started. Searching for the next optimal point.\n",
      "['sigmoid', 1, 'scale', 3.0, 1e-06, 10.0] \n",
      "\n"
     ]
    },
    {
     "name": "stderr",
     "output_type": "stream",
     "text": [
      "/home/caio/anaconda3/lib/python3.9/site-packages/skopt/optimizer/optimizer.py:449: UserWarning: The objective has been evaluated at this point before.\n",
      "  warnings.warn(\"The objective has been evaluated \"\n"
     ]
    },
    {
     "name": "stdout",
     "output_type": "stream",
     "text": [
      "Iteration No: 82 ended. Search finished for the next optimal point.\n",
      "Time taken: 1.1452\n",
      "Function value obtained: 0.7557\n",
      "Current minimum: -0.0584\n",
      "Iteration No: 83 started. Searching for the next optimal point.\n",
      "['sigmoid', 1, 'scale', 3.0, 1e-06, 10.0] \n",
      "\n"
     ]
    },
    {
     "name": "stderr",
     "output_type": "stream",
     "text": [
      "/home/caio/anaconda3/lib/python3.9/site-packages/skopt/optimizer/optimizer.py:449: UserWarning: The objective has been evaluated at this point before.\n",
      "  warnings.warn(\"The objective has been evaluated \"\n"
     ]
    },
    {
     "name": "stdout",
     "output_type": "stream",
     "text": [
      "Iteration No: 83 ended. Search finished for the next optimal point.\n",
      "Time taken: 1.1795\n",
      "Function value obtained: 0.7557\n",
      "Current minimum: -0.0584\n",
      "Iteration No: 84 started. Searching for the next optimal point.\n",
      "['sigmoid', 1, 'scale', 3.0, 1e-06, 10.0] \n",
      "\n"
     ]
    },
    {
     "name": "stderr",
     "output_type": "stream",
     "text": [
      "/home/caio/anaconda3/lib/python3.9/site-packages/skopt/optimizer/optimizer.py:449: UserWarning: The objective has been evaluated at this point before.\n",
      "  warnings.warn(\"The objective has been evaluated \"\n"
     ]
    },
    {
     "name": "stdout",
     "output_type": "stream",
     "text": [
      "Iteration No: 84 ended. Search finished for the next optimal point.\n",
      "Time taken: 1.1944\n",
      "Function value obtained: 0.7557\n",
      "Current minimum: -0.0584\n",
      "Iteration No: 85 started. Searching for the next optimal point.\n",
      "['sigmoid', 1, 'scale', 3.0, 1e-06, 10.0] \n",
      "\n"
     ]
    },
    {
     "name": "stderr",
     "output_type": "stream",
     "text": [
      "/home/caio/anaconda3/lib/python3.9/site-packages/skopt/optimizer/optimizer.py:449: UserWarning: The objective has been evaluated at this point before.\n",
      "  warnings.warn(\"The objective has been evaluated \"\n"
     ]
    },
    {
     "name": "stdout",
     "output_type": "stream",
     "text": [
      "Iteration No: 85 ended. Search finished for the next optimal point.\n",
      "Time taken: 1.1113\n",
      "Function value obtained: 0.7557\n",
      "Current minimum: -0.0584\n",
      "Iteration No: 86 started. Searching for the next optimal point.\n",
      "['sigmoid', 1, 'scale', 3.0, 1e-06, 10.0] \n",
      "\n"
     ]
    },
    {
     "name": "stderr",
     "output_type": "stream",
     "text": [
      "/home/caio/anaconda3/lib/python3.9/site-packages/skopt/optimizer/optimizer.py:449: UserWarning: The objective has been evaluated at this point before.\n",
      "  warnings.warn(\"The objective has been evaluated \"\n"
     ]
    },
    {
     "name": "stdout",
     "output_type": "stream",
     "text": [
      "Iteration No: 86 ended. Search finished for the next optimal point.\n",
      "Time taken: 1.1791\n",
      "Function value obtained: 0.7557\n",
      "Current minimum: -0.0584\n",
      "Iteration No: 87 started. Searching for the next optimal point.\n",
      "['sigmoid', 1, 'scale', 3.0, 1e-06, 10.0] \n",
      "\n"
     ]
    },
    {
     "name": "stderr",
     "output_type": "stream",
     "text": [
      "/home/caio/anaconda3/lib/python3.9/site-packages/skopt/optimizer/optimizer.py:449: UserWarning: The objective has been evaluated at this point before.\n",
      "  warnings.warn(\"The objective has been evaluated \"\n"
     ]
    },
    {
     "name": "stdout",
     "output_type": "stream",
     "text": [
      "Iteration No: 87 ended. Search finished for the next optimal point.\n",
      "Time taken: 1.2638\n",
      "Function value obtained: 0.7557\n",
      "Current minimum: -0.0584\n",
      "Iteration No: 88 started. Searching for the next optimal point.\n",
      "['sigmoid', 1, 'scale', 3.0, 1e-06, 10.0] \n",
      "\n"
     ]
    },
    {
     "name": "stderr",
     "output_type": "stream",
     "text": [
      "/home/caio/anaconda3/lib/python3.9/site-packages/skopt/optimizer/optimizer.py:449: UserWarning: The objective has been evaluated at this point before.\n",
      "  warnings.warn(\"The objective has been evaluated \"\n"
     ]
    },
    {
     "name": "stdout",
     "output_type": "stream",
     "text": [
      "Iteration No: 88 ended. Search finished for the next optimal point.\n",
      "Time taken: 1.1868\n",
      "Function value obtained: 0.7557\n",
      "Current minimum: -0.0584\n",
      "Iteration No: 89 started. Searching for the next optimal point.\n",
      "['sigmoid', 1, 'scale', 3.0, 1e-06, 10.0] \n",
      "\n"
     ]
    },
    {
     "name": "stderr",
     "output_type": "stream",
     "text": [
      "/home/caio/anaconda3/lib/python3.9/site-packages/skopt/optimizer/optimizer.py:449: UserWarning: The objective has been evaluated at this point before.\n",
      "  warnings.warn(\"The objective has been evaluated \"\n"
     ]
    },
    {
     "name": "stdout",
     "output_type": "stream",
     "text": [
      "Iteration No: 89 ended. Search finished for the next optimal point.\n",
      "Time taken: 1.1746\n",
      "Function value obtained: 0.7557\n",
      "Current minimum: -0.0584\n",
      "Iteration No: 90 started. Searching for the next optimal point.\n",
      "['sigmoid', 1, 'scale', 3.0, 1e-06, 10.0] \n",
      "\n"
     ]
    },
    {
     "name": "stderr",
     "output_type": "stream",
     "text": [
      "/home/caio/anaconda3/lib/python3.9/site-packages/skopt/optimizer/optimizer.py:449: UserWarning: The objective has been evaluated at this point before.\n",
      "  warnings.warn(\"The objective has been evaluated \"\n"
     ]
    },
    {
     "name": "stdout",
     "output_type": "stream",
     "text": [
      "Iteration No: 90 ended. Search finished for the next optimal point.\n",
      "Time taken: 1.2110\n",
      "Function value obtained: 0.7557\n",
      "Current minimum: -0.0584\n",
      "Iteration No: 91 started. Searching for the next optimal point.\n",
      "['sigmoid', 1, 'scale', 3.0, 1e-06, 10.0] \n",
      "\n"
     ]
    },
    {
     "name": "stderr",
     "output_type": "stream",
     "text": [
      "/home/caio/anaconda3/lib/python3.9/site-packages/skopt/optimizer/optimizer.py:449: UserWarning: The objective has been evaluated at this point before.\n",
      "  warnings.warn(\"The objective has been evaluated \"\n"
     ]
    },
    {
     "name": "stdout",
     "output_type": "stream",
     "text": [
      "Iteration No: 91 ended. Search finished for the next optimal point.\n",
      "Time taken: 1.2891\n",
      "Function value obtained: 0.7557\n",
      "Current minimum: -0.0584\n",
      "Iteration No: 92 started. Searching for the next optimal point.\n",
      "['sigmoid', 1, 'scale', 3.0, 1e-06, 10.0] \n",
      "\n"
     ]
    },
    {
     "name": "stderr",
     "output_type": "stream",
     "text": [
      "/home/caio/anaconda3/lib/python3.9/site-packages/skopt/optimizer/optimizer.py:449: UserWarning: The objective has been evaluated at this point before.\n",
      "  warnings.warn(\"The objective has been evaluated \"\n"
     ]
    },
    {
     "name": "stdout",
     "output_type": "stream",
     "text": [
      "Iteration No: 92 ended. Search finished for the next optimal point.\n",
      "Time taken: 1.3013\n",
      "Function value obtained: 0.7557\n",
      "Current minimum: -0.0584\n",
      "Iteration No: 93 started. Searching for the next optimal point.\n",
      "['sigmoid', 1, 'scale', 3.0, 1e-06, 10.0] \n",
      "\n"
     ]
    },
    {
     "name": "stderr",
     "output_type": "stream",
     "text": [
      "/home/caio/anaconda3/lib/python3.9/site-packages/skopt/optimizer/optimizer.py:449: UserWarning: The objective has been evaluated at this point before.\n",
      "  warnings.warn(\"The objective has been evaluated \"\n"
     ]
    },
    {
     "name": "stdout",
     "output_type": "stream",
     "text": [
      "Iteration No: 93 ended. Search finished for the next optimal point.\n",
      "Time taken: 1.3031\n",
      "Function value obtained: 0.7557\n",
      "Current minimum: -0.0584\n",
      "Iteration No: 94 started. Searching for the next optimal point.\n",
      "['sigmoid', 1, 'scale', 3.0, 1e-06, 10.0] \n",
      "\n"
     ]
    },
    {
     "name": "stderr",
     "output_type": "stream",
     "text": [
      "/home/caio/anaconda3/lib/python3.9/site-packages/skopt/optimizer/optimizer.py:449: UserWarning: The objective has been evaluated at this point before.\n",
      "  warnings.warn(\"The objective has been evaluated \"\n"
     ]
    },
    {
     "name": "stdout",
     "output_type": "stream",
     "text": [
      "Iteration No: 94 ended. Search finished for the next optimal point.\n",
      "Time taken: 1.3049\n",
      "Function value obtained: 0.7557\n",
      "Current minimum: -0.0584\n",
      "Iteration No: 95 started. Searching for the next optimal point.\n",
      "['sigmoid', 1, 'scale', 3.0, 1e-06, 10.0] \n",
      "\n"
     ]
    },
    {
     "name": "stderr",
     "output_type": "stream",
     "text": [
      "/home/caio/anaconda3/lib/python3.9/site-packages/skopt/optimizer/optimizer.py:449: UserWarning: The objective has been evaluated at this point before.\n",
      "  warnings.warn(\"The objective has been evaluated \"\n"
     ]
    },
    {
     "name": "stdout",
     "output_type": "stream",
     "text": [
      "Iteration No: 95 ended. Search finished for the next optimal point.\n",
      "Time taken: 1.4228\n",
      "Function value obtained: 0.7557\n",
      "Current minimum: -0.0584\n",
      "Iteration No: 96 started. Searching for the next optimal point.\n",
      "['sigmoid', 1, 'scale', 3.0, 1e-06, 10.0] \n",
      "\n"
     ]
    },
    {
     "name": "stderr",
     "output_type": "stream",
     "text": [
      "/home/caio/anaconda3/lib/python3.9/site-packages/skopt/optimizer/optimizer.py:449: UserWarning: The objective has been evaluated at this point before.\n",
      "  warnings.warn(\"The objective has been evaluated \"\n"
     ]
    },
    {
     "name": "stdout",
     "output_type": "stream",
     "text": [
      "Iteration No: 96 ended. Search finished for the next optimal point.\n",
      "Time taken: 1.3865\n",
      "Function value obtained: 0.7557\n",
      "Current minimum: -0.0584\n",
      "Iteration No: 97 started. Searching for the next optimal point.\n",
      "['sigmoid', 1, 'scale', 3.0, 1e-06, 10.0] \n",
      "\n"
     ]
    },
    {
     "name": "stderr",
     "output_type": "stream",
     "text": [
      "/home/caio/anaconda3/lib/python3.9/site-packages/skopt/optimizer/optimizer.py:449: UserWarning: The objective has been evaluated at this point before.\n",
      "  warnings.warn(\"The objective has been evaluated \"\n"
     ]
    },
    {
     "name": "stdout",
     "output_type": "stream",
     "text": [
      "Iteration No: 97 ended. Search finished for the next optimal point.\n",
      "Time taken: 1.3328\n",
      "Function value obtained: 0.7557\n",
      "Current minimum: -0.0584\n",
      "Iteration No: 98 started. Searching for the next optimal point.\n",
      "['sigmoid', 1, 'scale', 3.0, 1e-06, 10.0] \n",
      "\n"
     ]
    },
    {
     "name": "stderr",
     "output_type": "stream",
     "text": [
      "/home/caio/anaconda3/lib/python3.9/site-packages/skopt/optimizer/optimizer.py:449: UserWarning: The objective has been evaluated at this point before.\n",
      "  warnings.warn(\"The objective has been evaluated \"\n"
     ]
    },
    {
     "name": "stdout",
     "output_type": "stream",
     "text": [
      "Iteration No: 98 ended. Search finished for the next optimal point.\n",
      "Time taken: 1.3436\n",
      "Function value obtained: 0.7557\n",
      "Current minimum: -0.0584\n",
      "Iteration No: 99 started. Searching for the next optimal point.\n",
      "['sigmoid', 1, 'scale', 3.0, 1e-06, 10.0] \n",
      "\n"
     ]
    },
    {
     "name": "stderr",
     "output_type": "stream",
     "text": [
      "/home/caio/anaconda3/lib/python3.9/site-packages/skopt/optimizer/optimizer.py:449: UserWarning: The objective has been evaluated at this point before.\n",
      "  warnings.warn(\"The objective has been evaluated \"\n"
     ]
    },
    {
     "name": "stdout",
     "output_type": "stream",
     "text": [
      "Iteration No: 99 ended. Search finished for the next optimal point.\n",
      "Time taken: 1.3878\n",
      "Function value obtained: 0.7557\n",
      "Current minimum: -0.0584\n",
      "Iteration No: 100 started. Searching for the next optimal point.\n",
      "['sigmoid', 1, 'scale', 3.0, 1e-06, 10.0] \n",
      "\n"
     ]
    },
    {
     "name": "stderr",
     "output_type": "stream",
     "text": [
      "/home/caio/anaconda3/lib/python3.9/site-packages/skopt/optimizer/optimizer.py:449: UserWarning: The objective has been evaluated at this point before.\n",
      "  warnings.warn(\"The objective has been evaluated \"\n"
     ]
    },
    {
     "name": "stdout",
     "output_type": "stream",
     "text": [
      "Iteration No: 100 ended. Search finished for the next optimal point.\n",
      "Time taken: 1.4448\n",
      "Function value obtained: 0.7557\n",
      "Current minimum: -0.0584\n",
      "CPU times: user 2min 11s, sys: 3min 17s, total: 5min 29s\n",
      "Wall time: 1min 28s\n"
     ]
    }
   ],
   "source": [
    "%%time\n",
    "from skopt import gp_minimize\n",
    "svr_best_params = gp_minimize(tune_svr, space, random_state=0, verbose=True, n_calls=100, n_random_starts=20, n_jobs=-1)"
   ]
  },
  {
   "cell_type": "code",
   "execution_count": 90,
   "id": "3d18262f-4cd1-4dad-8193-31436f2a52b2",
   "metadata": {},
   "outputs": [
    {
     "data": {
      "text/plain": [
       "['poly', 12, 'scale', 0.05, 0.01, 0.1]"
      ]
     },
     "execution_count": 90,
     "metadata": {},
     "output_type": "execute_result"
    }
   ],
   "source": [
    "svr_best_params.x"
   ]
  },
  {
   "cell_type": "code",
   "execution_count": 91,
   "id": "3dcc13c3-4266-4f3d-ae60-ddbeb382555b",
   "metadata": {},
   "outputs": [
    {
     "data": {
      "text/html": [
       "<div>\n",
       "<style scoped>\n",
       "    .dataframe tbody tr th:only-of-type {\n",
       "        vertical-align: middle;\n",
       "    }\n",
       "\n",
       "    .dataframe tbody tr th {\n",
       "        vertical-align: top;\n",
       "    }\n",
       "\n",
       "    .dataframe thead th {\n",
       "        text-align: right;\n",
       "    }\n",
       "</style>\n",
       "<table border=\"1\" class=\"dataframe\">\n",
       "  <thead>\n",
       "    <tr style=\"text-align: right;\">\n",
       "      <th></th>\n",
       "      <th>R2</th>\n",
       "      <th>MAE</th>\n",
       "      <th>RMSE</th>\n",
       "      <th>RPD</th>\n",
       "    </tr>\n",
       "  </thead>\n",
       "  <tbody>\n",
       "    <tr>\n",
       "      <th>Teste</th>\n",
       "      <td>0.44405</td>\n",
       "      <td>1.631461</td>\n",
       "      <td>2.249431</td>\n",
       "      <td>1.347597</td>\n",
       "    </tr>\n",
       "  </tbody>\n",
       "</table>\n",
       "</div>"
      ],
      "text/plain": [
       "            R2       MAE      RMSE       RPD\n",
       "Teste  0.44405  1.631461  2.249431  1.347597"
      ]
     },
     "execution_count": 91,
     "metadata": {},
     "output_type": "execute_result"
    }
   ],
   "source": [
    "from sklearn.svm import SVR\n",
    "svr_model = SVR(kernel='poly', degree=12, gamma='scale', coef0=0.05, tol=0.01, C = 0.1)\n",
    "\n",
    "svr_model.fit(x_train, y_train)\n",
    "preds = svr_model.predict(x_test)\n",
    "cmls.evalute_model(y_test, preds)"
   ]
  },
  {
   "cell_type": "code",
   "execution_count": 92,
   "id": "6a962b48-e06d-4986-986b-5a516ca6864c",
   "metadata": {},
   "outputs": [
    {
     "data": {
      "image/png": "[encoded data removed]",
      "text/plain": [
       "<Figure size 432x288 with 1 Axes>"
      ]
     },
     "metadata": {
      "needs_background": "light"
     },
     "output_type": "display_data"
    }
   ],
   "source": [
    "cmls.plot_real_vs_predict(y_test, preds)"
   ]
  },
  {
   "cell_type": "markdown",
   "id": "4c49ad02-35b7-4727-8445-eb119b40e054",
   "metadata": {
    "tags": []
   },
   "source": [
    "### RF"
   ]
  },
  {
   "cell_type": "code",
   "execution_count": 93,
   "id": "853ea3de-7216-4df1-aaa6-e0b4114e0c1f",
   "metadata": {},
   "outputs": [],
   "source": [
    "from sklearn.model_selection import cross_val_score"
   ]
  },
  {
   "cell_type": "code",
   "execution_count": 94,
   "id": "271ea7cf-24b8-440b-8168-1fa0e9c58a5e",
   "metadata": {},
   "outputs": [],
   "source": [
    "def tune_rf(params):\n",
    "    from sklearn.model_selection import cross_val_score\n",
    "    bootstrap = params[0]\n",
    "    max_depth = params[1]\n",
    "    min_samples_leaf = params[2]\n",
    "    min_samples_split = params[3]\n",
    "    n_estimators = params[4]\n",
    "    \n",
    "    print(params, '\\n')\n",
    "    \n",
    "    rf_model = RandomForestRegressor(bootstrap=bootstrap, max_depth=max_depth, min_samples_leaf=min_samples_leaf,\n",
    "                                     min_samples_split=min_samples_split,n_estimators=n_estimators, random_state=0, criterion='poisson', n_jobs=-1)\n",
    "    \n",
    "\n",
    "    r2 = cross_val_score(rf_model, x_train, y_train, cv=5, scoring ='r2')\n",
    "    \n",
    "    return -r2.mean()\n",
    "\n",
    "space = [\n",
    "    [True, False], #bootstrap\n",
    "    [10, 20, 30, None], #max_depth\n",
    "    [1, 2, 4], # min_samples_leaf\n",
    "    [2, 5, 10], # min_samples_split\n",
    "    [5, 10, 20, 50, 100, 200, 300]] # n_estimators"
   ]
  },
  {
   "cell_type": "code",
   "execution_count": 95,
   "id": "ff8f79ad-874b-4569-bd9a-be65ecc94788",
   "metadata": {},
   "outputs": [
    {
     "name": "stdout",
     "output_type": "stream",
     "text": [
      "Iteration No: 1 started. Evaluating function at random point.\n",
      "[True, None, 4, 10, 100] \n",
      "\n",
      "Iteration No: 1 ended. Evaluation done at random point.\n",
      "Time taken: 5.8124\n",
      "Function value obtained: -0.5951\n",
      "Current minimum: -0.5951\n",
      "Iteration No: 2 started. Evaluating function at random point.\n",
      "[False, 20, 1, 5, 50] \n",
      "\n",
      "Iteration No: 2 ended. Evaluation done at random point.\n",
      "Time taken: 7.5489\n",
      "Function value obtained: -0.2585\n",
      "Current minimum: -0.5951\n",
      "Iteration No: 3 started. Evaluating function at random point.\n",
      "[True, 20, 2, 10, 20] \n",
      "\n",
      "Iteration No: 3 ended. Evaluation done at random point.\n",
      "Time taken: 1.9215\n",
      "Function value obtained: -0.5700\n",
      "Current minimum: -0.5951\n",
      "Iteration No: 4 started. Evaluating function at random point.\n",
      "[True, 20, 4, 2, 200] \n",
      "\n",
      "Iteration No: 4 ended. Evaluation done at random point.\n",
      "Time taken: 11.3392\n",
      "Function value obtained: -0.5965\n",
      "Current minimum: -0.5965\n",
      "Iteration No: 5 started. Evaluating function at random point.\n",
      "[False, 30, 2, 5, 100] \n",
      "\n",
      "Iteration No: 5 ended. Evaluation done at random point.\n",
      "Time taken: 13.0890\n",
      "Function value obtained: -0.2412\n",
      "Current minimum: -0.5965\n",
      "Iteration No: 6 started. Evaluating function at random point.\n",
      "[True, 30, 4, 2, 50] \n",
      "\n",
      "Iteration No: 6 ended. Evaluation done at random point.\n",
      "Time taken: 3.3916\n",
      "Function value obtained: -0.5949\n",
      "Current minimum: -0.5965\n",
      "Iteration No: 7 started. Evaluating function at random point.\n",
      "[False, 30, 1, 2, 20] \n",
      "\n",
      "Iteration No: 7 ended. Evaluation done at random point.\n",
      "Time taken: 3.8852\n",
      "Function value obtained: -0.2418\n",
      "Current minimum: -0.5965\n",
      "Iteration No: 8 started. Evaluating function at random point.\n",
      "[False, 20, 2, 10, 50] \n",
      "\n",
      "Iteration No: 8 ended. Evaluation done at random point.\n",
      "Time taken: 6.4559\n",
      "Function value obtained: -0.2453\n",
      "Current minimum: -0.5965\n",
      "Iteration No: 9 started. Evaluating function at random point.\n",
      "[True, None, 1, 10, 100] \n",
      "\n",
      "Iteration No: 9 ended. Evaluation done at random point.\n",
      "Time taken: 7.0728\n",
      "Function value obtained: -0.5994\n",
      "Current minimum: -0.5994\n",
      "Iteration No: 10 started. Evaluating function at random point.\n",
      "[False, 20, 4, 5, 20] \n",
      "\n",
      "Iteration No: 10 ended. Evaluation done at random point.\n",
      "Time taken: 3.0582\n",
      "Function value obtained: -0.1988\n",
      "Current minimum: -0.5994\n",
      "Iteration No: 11 started. Evaluating function at random point.\n",
      "[False, 30, 4, 5, 100] \n",
      "\n",
      "Iteration No: 11 ended. Evaluation done at random point.\n",
      "Time taken: 12.4673\n",
      "Function value obtained: -0.1950\n",
      "Current minimum: -0.5994\n",
      "Iteration No: 12 started. Evaluating function at random point.\n",
      "[True, 30, 2, 5, 100] \n",
      "\n",
      "Iteration No: 12 ended. Evaluation done at random point.\n",
      "Time taken: 7.9949\n",
      "Function value obtained: -0.5951\n",
      "Current minimum: -0.5994\n",
      "Iteration No: 13 started. Evaluating function at random point.\n",
      "[False, 30, 2, 10, 300] \n",
      "\n",
      "Iteration No: 13 ended. Evaluation done at random point.\n",
      "Time taken: 37.0304\n",
      "Function value obtained: -0.2498\n",
      "Current minimum: -0.5994\n",
      "Iteration No: 14 started. Evaluating function at random point.\n",
      "[True, 10, 2, 5, 300] \n",
      "\n",
      "Iteration No: 14 ended. Evaluation done at random point.\n",
      "Time taken: 21.5720\n",
      "Function value obtained: -0.6002\n",
      "Current minimum: -0.6002\n",
      "Iteration No: 15 started. Evaluating function at random point.\n",
      "[True, 30, 1, 5, 5] \n",
      "\n",
      "Iteration No: 15 ended. Evaluation done at random point.\n",
      "Time taken: 1.1649\n",
      "Function value obtained: -0.5648\n",
      "Current minimum: -0.6002\n",
      "Iteration No: 16 started. Evaluating function at random point.\n",
      "[False, None, 2, 5, 100] \n",
      "\n",
      "Iteration No: 16 ended. Evaluation done at random point.\n",
      "Time taken: 13.6944\n",
      "Function value obtained: -0.2412\n",
      "Current minimum: -0.6002\n",
      "Iteration No: 17 started. Evaluating function at random point.\n",
      "[True, None, 1, 5, 200] \n",
      "\n",
      "Iteration No: 17 ended. Evaluation done at random point.\n",
      "Time taken: 15.7334\n",
      "Function value obtained: -0.6041\n",
      "Current minimum: -0.6041\n",
      "Iteration No: 18 started. Evaluating function at random point.\n",
      "[True, None, 4, 2, 20] \n",
      "\n",
      "Iteration No: 18 ended. Evaluation done at random point.\n",
      "Time taken: 1.7144\n",
      "Function value obtained: -0.5830\n",
      "Current minimum: -0.6041\n",
      "Iteration No: 19 started. Evaluating function at random point.\n",
      "[False, None, 2, 10, 20] \n",
      "\n",
      "Iteration No: 19 ended. Evaluation done at random point.\n",
      "Time taken: 3.1414\n",
      "Function value obtained: -0.2420\n",
      "Current minimum: -0.6041\n",
      "Iteration No: 20 started. Evaluating function at random point.\n",
      "[False, 30, 1, 5, 10] \n",
      "\n",
      "Iteration No: 20 ended. Evaluation done at random point.\n",
      "Time taken: 2.7425\n",
      "Function value obtained: -0.2639\n",
      "Current minimum: -0.6041\n",
      "Iteration No: 21 started. Searching for the next optimal point.\n",
      "[True, 30, 1, 5, 300] \n",
      "\n",
      "Iteration No: 21 ended. Search finished for the next optimal point.\n",
      "Time taken: 23.1725\n",
      "Function value obtained: -0.6024\n",
      "Current minimum: -0.6041\n",
      "Iteration No: 22 started. Searching for the next optimal point.\n",
      "[True, None, 1, 2, 10] \n",
      "\n",
      "Iteration No: 22 ended. Search finished for the next optimal point.\n",
      "Time taken: 2.1215\n",
      "Function value obtained: -0.5416\n",
      "Current minimum: -0.6041\n",
      "Iteration No: 23 started. Searching for the next optimal point.\n",
      "[True, None, 4, 5, 300] \n",
      "\n",
      "Iteration No: 23 ended. Search finished for the next optimal point.\n",
      "Time taken: 17.7161\n",
      "Function value obtained: -0.5955\n",
      "Current minimum: -0.6041\n",
      "Iteration No: 24 started. Searching for the next optimal point.\n",
      "[True, 10, 1, 5, 50] \n",
      "\n",
      "Iteration No: 24 ended. Search finished for the next optimal point.\n",
      "Time taken: 4.9448\n",
      "Function value obtained: -0.5989\n",
      "Current minimum: -0.6041\n",
      "Iteration No: 25 started. Searching for the next optimal point.\n",
      "[True, 10, 1, 2, 200] \n",
      "\n",
      "Iteration No: 25 ended. Search finished for the next optimal point.\n",
      "Time taken: 17.7350\n",
      "Function value obtained: -0.6024\n",
      "Current minimum: -0.6041\n",
      "Iteration No: 26 started. Searching for the next optimal point.\n",
      "[True, None, 2, 5, 200] \n",
      "\n",
      "Iteration No: 26 ended. Search finished for the next optimal point.\n",
      "Time taken: 14.7891\n",
      "Function value obtained: -0.6005\n",
      "Current minimum: -0.6041\n",
      "Iteration No: 27 started. Searching for the next optimal point.\n",
      "[True, 30, 1, 10, 200] \n",
      "\n",
      "Iteration No: 27 ended. Search finished for the next optimal point.\n",
      "Time taken: 13.9902\n",
      "Function value obtained: -0.5998\n",
      "Current minimum: -0.6041\n",
      "Iteration No: 28 started. Searching for the next optimal point.\n",
      "[True, 30, 1, 5, 100] \n",
      "\n",
      "Iteration No: 28 ended. Search finished for the next optimal point.\n",
      "Time taken: 9.0830\n",
      "Function value obtained: -0.6014\n",
      "Current minimum: -0.6041\n",
      "Iteration No: 29 started. Searching for the next optimal point.\n",
      "[True, 10, 1, 5, 200] \n",
      "\n",
      "Iteration No: 29 ended. Search finished for the next optimal point.\n",
      "Time taken: 16.2592\n",
      "Function value obtained: -0.6075\n",
      "Current minimum: -0.6075\n",
      "Iteration No: 30 started. Searching for the next optimal point.\n",
      "[True, None, 2, 5, 50] \n",
      "\n",
      "Iteration No: 30 ended. Search finished for the next optimal point.\n",
      "Time taken: 4.9122\n",
      "Function value obtained: -0.5900\n",
      "Current minimum: -0.6075\n",
      "Iteration No: 31 started. Searching for the next optimal point.\n",
      "[True, None, 1, 2, 300] \n",
      "\n",
      "Iteration No: 31 ended. Search finished for the next optimal point.\n",
      "Time taken: 26.4184\n",
      "Function value obtained: -0.6055\n",
      "Current minimum: -0.6075\n",
      "Iteration No: 32 started. Searching for the next optimal point.\n",
      "[True, 10, 1, 2, 300] \n",
      "\n",
      "Iteration No: 32 ended. Search finished for the next optimal point.\n",
      "Time taken: 25.7526\n",
      "Function value obtained: -0.6024\n",
      "Current minimum: -0.6075\n",
      "Iteration No: 33 started. Searching for the next optimal point.\n",
      "[True, None, 2, 2, 300] \n",
      "\n",
      "Iteration No: 33 ended. Search finished for the next optimal point.\n",
      "Time taken: 21.9345\n",
      "Function value obtained: -0.6017\n",
      "Current minimum: -0.6075\n",
      "Iteration No: 34 started. Searching for the next optimal point.\n",
      "[True, None, 1, 2, 200] \n",
      "\n",
      "Iteration No: 34 ended. Search finished for the next optimal point.\n",
      "Time taken: 18.5950\n",
      "Function value obtained: -0.6046\n",
      "Current minimum: -0.6075\n",
      "Iteration No: 35 started. Searching for the next optimal point.\n",
      "[True, None, 1, 5, 200] \n",
      "\n"
     ]
    },
    {
     "name": "stderr",
     "output_type": "stream",
     "text": [
      "/home/caio/anaconda3/lib/python3.9/site-packages/skopt/optimizer/optimizer.py:449: UserWarning: The objective has been evaluated at this point before.\n",
      "  warnings.warn(\"The objective has been evaluated \"\n"
     ]
    },
    {
     "name": "stdout",
     "output_type": "stream",
     "text": [
      "Iteration No: 35 ended. Search finished for the next optimal point.\n",
      "Time taken: 15.6403\n",
      "Function value obtained: -0.6041\n",
      "Current minimum: -0.6075\n",
      "Iteration No: 36 started. Searching for the next optimal point.\n",
      "[True, None, 1, 5, 20] \n",
      "\n",
      "Iteration No: 36 ended. Search finished for the next optimal point.\n",
      "Time taken: 2.7066\n",
      "Function value obtained: -0.5705\n",
      "Current minimum: -0.6075\n",
      "Iteration No: 37 started. Searching for the next optimal point.\n",
      "[True, None, 1, 2, 100] \n",
      "\n",
      "Iteration No: 37 ended. Search finished for the next optimal point.\n",
      "Time taken: 9.5226\n",
      "Function value obtained: -0.6066\n",
      "Current minimum: -0.6075\n",
      "Iteration No: 38 started. Searching for the next optimal point.\n",
      "[True, 10, 1, 10, 300] \n",
      "\n",
      "Iteration No: 38 ended. Search finished for the next optimal point.\n",
      "Time taken: 19.8056\n",
      "Function value obtained: -0.6004\n",
      "Current minimum: -0.6075\n",
      "Iteration No: 39 started. Searching for the next optimal point.\n",
      "[True, None, 4, 2, 100] \n",
      "\n",
      "Iteration No: 39 ended. Search finished for the next optimal point.\n",
      "Time taken: 6.6241\n",
      "Function value obtained: -0.5949\n",
      "Current minimum: -0.6075\n",
      "Iteration No: 40 started. Searching for the next optimal point.\n",
      "[True, 20, 1, 2, 50] \n",
      "\n",
      "Iteration No: 40 ended. Search finished for the next optimal point.\n",
      "Time taken: 5.7975\n",
      "Function value obtained: -0.6008\n",
      "Current minimum: -0.6075\n",
      "Iteration No: 41 started. Searching for the next optimal point.\n",
      "[True, 30, 4, 5, 200] \n",
      "\n",
      "Iteration No: 41 ended. Search finished for the next optimal point.\n",
      "Time taken: 12.2387\n",
      "Function value obtained: -0.5965\n",
      "Current minimum: -0.6075\n",
      "Iteration No: 42 started. Searching for the next optimal point.\n",
      "[True, 10, 2, 10, 200] \n",
      "\n",
      "Iteration No: 42 ended. Search finished for the next optimal point.\n",
      "Time taken: 13.2749\n",
      "Function value obtained: -0.5975\n",
      "Current minimum: -0.6075\n",
      "Iteration No: 43 started. Searching for the next optimal point.\n",
      "[True, 20, 1, 5, 200] \n",
      "\n",
      "Iteration No: 43 ended. Search finished for the next optimal point.\n",
      "Time taken: 16.0742\n",
      "Function value obtained: -0.6041\n",
      "Current minimum: -0.6075\n",
      "Iteration No: 44 started. Searching for the next optimal point.\n",
      "[True, 10, 4, 10, 50] \n",
      "\n",
      "Iteration No: 44 ended. Search finished for the next optimal point.\n",
      "Time taken: 4.0526\n",
      "Function value obtained: -0.5980\n",
      "Current minimum: -0.6075\n",
      "Iteration No: 45 started. Searching for the next optimal point.\n",
      "[True, 30, 4, 10, 300] \n",
      "\n",
      "Iteration No: 45 ended. Search finished for the next optimal point.\n",
      "Time taken: 17.6131\n",
      "Function value obtained: -0.5938\n",
      "Current minimum: -0.6075\n",
      "Iteration No: 46 started. Searching for the next optimal point.\n",
      "[True, None, 1, 2, 200] \n",
      "\n"
     ]
    },
    {
     "name": "stderr",
     "output_type": "stream",
     "text": [
      "/home/caio/anaconda3/lib/python3.9/site-packages/skopt/optimizer/optimizer.py:449: UserWarning: The objective has been evaluated at this point before.\n",
      "  warnings.warn(\"The objective has been evaluated \"\n"
     ]
    },
    {
     "name": "stdout",
     "output_type": "stream",
     "text": [
      "Iteration No: 46 ended. Search finished for the next optimal point.\n",
      "Time taken: 18.4174\n",
      "Function value obtained: -0.6046\n",
      "Current minimum: -0.6075\n",
      "Iteration No: 47 started. Searching for the next optimal point.\n",
      "[True, None, 4, 10, 200] \n",
      "\n",
      "Iteration No: 47 ended. Search finished for the next optimal point.\n",
      "Time taken: 12.3108\n",
      "Function value obtained: -0.5960\n",
      "Current minimum: -0.6075\n",
      "Iteration No: 48 started. Searching for the next optimal point.\n",
      "[True, 20, 2, 2, 100] \n",
      "\n",
      "Iteration No: 48 ended. Search finished for the next optimal point.\n",
      "Time taken: 8.3708\n",
      "Function value obtained: -0.5979\n",
      "Current minimum: -0.6075\n",
      "Iteration No: 49 started. Searching for the next optimal point.\n",
      "[True, 30, 1, 2, 100] \n",
      "\n",
      "Iteration No: 49 ended. Search finished for the next optimal point.\n",
      "Time taken: 10.0917\n",
      "Function value obtained: -0.6066\n",
      "Current minimum: -0.6075\n",
      "Iteration No: 50 started. Searching for the next optimal point.\n",
      "[True, 30, 2, 2, 200] \n",
      "\n",
      "Iteration No: 50 ended. Search finished for the next optimal point.\n",
      "Time taken: 15.5309\n",
      "Function value obtained: -0.6012\n",
      "Current minimum: -0.6075\n",
      "Iteration No: 51 started. Searching for the next optimal point.\n",
      "[True, 10, 1, 5, 200] \n",
      "\n"
     ]
    },
    {
     "name": "stderr",
     "output_type": "stream",
     "text": [
      "/home/caio/anaconda3/lib/python3.9/site-packages/skopt/optimizer/optimizer.py:449: UserWarning: The objective has been evaluated at this point before.\n",
      "  warnings.warn(\"The objective has been evaluated \"\n"
     ]
    },
    {
     "name": "stdout",
     "output_type": "stream",
     "text": [
      "Iteration No: 51 ended. Search finished for the next optimal point.\n",
      "Time taken: 15.7174\n",
      "Function value obtained: -0.6075\n",
      "Current minimum: -0.6075\n",
      "Iteration No: 52 started. Searching for the next optimal point.\n",
      "[True, 30, 2, 10, 50] \n",
      "\n",
      "Iteration No: 52 ended. Search finished for the next optimal point.\n",
      "Time taken: 4.3144\n",
      "Function value obtained: -0.5917\n",
      "Current minimum: -0.6075\n",
      "Iteration No: 53 started. Searching for the next optimal point.\n",
      "[True, None, 2, 2, 5] \n",
      "\n",
      "Iteration No: 53 ended. Search finished for the next optimal point.\n",
      "Time taken: 1.7714\n",
      "Function value obtained: -0.5192\n",
      "Current minimum: -0.6075\n",
      "Iteration No: 54 started. Searching for the next optimal point.\n",
      "[True, 20, 1, 2, 100] \n",
      "\n",
      "Iteration No: 54 ended. Search finished for the next optimal point.\n",
      "Time taken: 9.7419\n",
      "Function value obtained: -0.6066\n",
      "Current minimum: -0.6075\n",
      "Iteration No: 55 started. Searching for the next optimal point.\n",
      "[True, 10, 1, 5, 10] \n",
      "\n",
      "Iteration No: 55 ended. Search finished for the next optimal point.\n",
      "Time taken: 2.2097\n",
      "Function value obtained: -0.5649\n",
      "Current minimum: -0.6075\n",
      "Iteration No: 56 started. Searching for the next optimal point.\n",
      "[True, 10, 1, 5, 200] \n",
      "\n"
     ]
    },
    {
     "name": "stderr",
     "output_type": "stream",
     "text": [
      "/home/caio/anaconda3/lib/python3.9/site-packages/skopt/optimizer/optimizer.py:449: UserWarning: The objective has been evaluated at this point before.\n",
      "  warnings.warn(\"The objective has been evaluated \"\n"
     ]
    },
    {
     "name": "stdout",
     "output_type": "stream",
     "text": [
      "Iteration No: 56 ended. Search finished for the next optimal point.\n",
      "Time taken: 15.6547\n",
      "Function value obtained: -0.6075\n",
      "Current minimum: -0.6075\n",
      "Iteration No: 57 started. Searching for the next optimal point.\n",
      "[True, 10, 1, 10, 10] \n",
      "\n",
      "Iteration No: 57 ended. Search finished for the next optimal point.\n",
      "Time taken: 2.1733\n",
      "Function value obtained: -0.5537\n",
      "Current minimum: -0.6075\n",
      "Iteration No: 58 started. Searching for the next optimal point.\n",
      "[True, 10, 1, 10, 5] \n",
      "\n",
      "Iteration No: 58 ended. Search finished for the next optimal point.\n",
      "Time taken: 1.7425\n",
      "Function value obtained: -0.5444\n",
      "Current minimum: -0.6075\n",
      "Iteration No: 59 started. Searching for the next optimal point.\n",
      "[True, 10, 1, 5, 200] \n",
      "\n"
     ]
    },
    {
     "name": "stderr",
     "output_type": "stream",
     "text": [
      "/home/caio/anaconda3/lib/python3.9/site-packages/skopt/optimizer/optimizer.py:449: UserWarning: The objective has been evaluated at this point before.\n",
      "  warnings.warn(\"The objective has been evaluated \"\n"
     ]
    },
    {
     "name": "stdout",
     "output_type": "stream",
     "text": [
      "Iteration No: 59 ended. Search finished for the next optimal point.\n",
      "Time taken: 16.1067\n",
      "Function value obtained: -0.6075\n",
      "Current minimum: -0.6075\n",
      "Iteration No: 60 started. Searching for the next optimal point.\n",
      "[True, 10, 1, 5, 200] \n",
      "\n"
     ]
    },
    {
     "name": "stderr",
     "output_type": "stream",
     "text": [
      "/home/caio/anaconda3/lib/python3.9/site-packages/skopt/optimizer/optimizer.py:449: UserWarning: The objective has been evaluated at this point before.\n",
      "  warnings.warn(\"The objective has been evaluated \"\n"
     ]
    },
    {
     "name": "stdout",
     "output_type": "stream",
     "text": [
      "Iteration No: 60 ended. Search finished for the next optimal point.\n",
      "Time taken: 15.4091\n",
      "Function value obtained: -0.6075\n",
      "Current minimum: -0.6075\n",
      "Iteration No: 61 started. Searching for the next optimal point.\n",
      "[True, 20, 1, 10, 50] \n",
      "\n",
      "Iteration No: 61 ended. Search finished for the next optimal point.\n",
      "Time taken: 4.4569\n",
      "Function value obtained: -0.5919\n",
      "Current minimum: -0.6075\n",
      "Iteration No: 62 started. Searching for the next optimal point.\n",
      "[True, 30, 1, 2, 20] \n",
      "\n",
      "Iteration No: 62 ended. Search finished for the next optimal point.\n",
      "Time taken: 3.0602\n",
      "Function value obtained: -0.5736\n",
      "Current minimum: -0.6075\n",
      "Iteration No: 63 started. Searching for the next optimal point.\n",
      "[True, None, 2, 10, 300] \n",
      "\n",
      "Iteration No: 63 ended. Search finished for the next optimal point.\n",
      "Time taken: 18.9632\n",
      "Function value obtained: -0.5976\n",
      "Current minimum: -0.6075\n",
      "Iteration No: 64 started. Searching for the next optimal point.\n",
      "[True, 10, 1, 2, 100] \n",
      "\n",
      "Iteration No: 64 ended. Search finished for the next optimal point.\n",
      "Time taken: 9.6371\n",
      "Function value obtained: -0.6080\n",
      "Current minimum: -0.6080\n",
      "Iteration No: 65 started. Searching for the next optimal point.\n",
      "[True, 10, 2, 2, 50] \n",
      "\n",
      "Iteration No: 65 ended. Search finished for the next optimal point.\n",
      "Time taken: 4.7573\n",
      "Function value obtained: -0.5919\n",
      "Current minimum: -0.6080\n",
      "Iteration No: 66 started. Searching for the next optimal point.\n",
      "[True, 10, 4, 10, 20] \n",
      "\n",
      "Iteration No: 66 ended. Search finished for the next optimal point.\n",
      "Time taken: 2.4198\n",
      "Function value obtained: -0.5852\n",
      "Current minimum: -0.6080\n",
      "Iteration No: 67 started. Searching for the next optimal point.\n",
      "[True, 10, 4, 5, 100] \n",
      "\n",
      "Iteration No: 67 ended. Search finished for the next optimal point.\n",
      "Time taken: 6.7879\n",
      "Function value obtained: -0.5947\n",
      "Current minimum: -0.6080\n",
      "Iteration No: 68 started. Searching for the next optimal point.\n",
      "[True, 10, 1, 2, 100] \n",
      "\n"
     ]
    },
    {
     "name": "stderr",
     "output_type": "stream",
     "text": [
      "/home/caio/anaconda3/lib/python3.9/site-packages/skopt/optimizer/optimizer.py:449: UserWarning: The objective has been evaluated at this point before.\n",
      "  warnings.warn(\"The objective has been evaluated \"\n"
     ]
    },
    {
     "name": "stdout",
     "output_type": "stream",
     "text": [
      "Iteration No: 68 ended. Search finished for the next optimal point.\n",
      "Time taken: 9.8362\n",
      "Function value obtained: -0.6080\n",
      "Current minimum: -0.6080\n",
      "Iteration No: 69 started. Searching for the next optimal point.\n",
      "[True, 10, 2, 10, 100] \n",
      "\n",
      "Iteration No: 69 ended. Search finished for the next optimal point.\n",
      "Time taken: 7.9884\n",
      "Function value obtained: -0.5971\n",
      "Current minimum: -0.6080\n",
      "Iteration No: 70 started. Searching for the next optimal point.\n",
      "[True, 20, 4, 5, 50] \n",
      "\n",
      "Iteration No: 70 ended. Search finished for the next optimal point.\n",
      "Time taken: 4.2600\n",
      "Function value obtained: -0.5949\n",
      "Current minimum: -0.6080\n",
      "Iteration No: 71 started. Searching for the next optimal point.\n",
      "[True, 10, 1, 2, 100] \n",
      "\n"
     ]
    },
    {
     "name": "stderr",
     "output_type": "stream",
     "text": [
      "/home/caio/anaconda3/lib/python3.9/site-packages/skopt/optimizer/optimizer.py:449: UserWarning: The objective has been evaluated at this point before.\n",
      "  warnings.warn(\"The objective has been evaluated \"\n"
     ]
    },
    {
     "name": "stdout",
     "output_type": "stream",
     "text": [
      "Iteration No: 71 ended. Search finished for the next optimal point.\n",
      "Time taken: 10.1580\n",
      "Function value obtained: -0.6080\n",
      "Current minimum: -0.6080\n",
      "Iteration No: 72 started. Searching for the next optimal point.\n",
      "[True, 10, 1, 2, 100] \n",
      "\n"
     ]
    },
    {
     "name": "stderr",
     "output_type": "stream",
     "text": [
      "/home/caio/anaconda3/lib/python3.9/site-packages/skopt/optimizer/optimizer.py:449: UserWarning: The objective has been evaluated at this point before.\n",
      "  warnings.warn(\"The objective has been evaluated \"\n"
     ]
    },
    {
     "name": "stdout",
     "output_type": "stream",
     "text": [
      "Iteration No: 72 ended. Search finished for the next optimal point.\n",
      "Time taken: 10.2389\n",
      "Function value obtained: -0.6080\n",
      "Current minimum: -0.6080\n",
      "Iteration No: 73 started. Searching for the next optimal point.\n",
      "[True, 10, 1, 2, 100] \n",
      "\n"
     ]
    },
    {
     "name": "stderr",
     "output_type": "stream",
     "text": [
      "/home/caio/anaconda3/lib/python3.9/site-packages/skopt/optimizer/optimizer.py:449: UserWarning: The objective has been evaluated at this point before.\n",
      "  warnings.warn(\"The objective has been evaluated \"\n"
     ]
    },
    {
     "name": "stdout",
     "output_type": "stream",
     "text": [
      "Iteration No: 73 ended. Search finished for the next optimal point.\n",
      "Time taken: 10.1635\n",
      "Function value obtained: -0.6080\n",
      "Current minimum: -0.6080\n",
      "Iteration No: 74 started. Searching for the next optimal point.\n",
      "[True, 20, 1, 5, 300] \n",
      "\n",
      "Iteration No: 74 ended. Search finished for the next optimal point.\n",
      "Time taken: 25.2395\n",
      "Function value obtained: -0.6024\n",
      "Current minimum: -0.6080\n",
      "Iteration No: 75 started. Searching for the next optimal point.\n",
      "[True, 10, 1, 2, 100] \n",
      "\n"
     ]
    },
    {
     "name": "stderr",
     "output_type": "stream",
     "text": [
      "/home/caio/anaconda3/lib/python3.9/site-packages/skopt/optimizer/optimizer.py:449: UserWarning: The objective has been evaluated at this point before.\n",
      "  warnings.warn(\"The objective has been evaluated \"\n"
     ]
    },
    {
     "name": "stdout",
     "output_type": "stream",
     "text": [
      "Iteration No: 75 ended. Search finished for the next optimal point.\n",
      "Time taken: 10.1568\n",
      "Function value obtained: -0.6080\n",
      "Current minimum: -0.6080\n",
      "Iteration No: 76 started. Searching for the next optimal point.\n",
      "[True, 10, 4, 5, 10] \n",
      "\n",
      "Iteration No: 76 ended. Search finished for the next optimal point.\n",
      "Time taken: 2.2155\n",
      "Function value obtained: -0.5748\n",
      "Current minimum: -0.6080\n",
      "Iteration No: 77 started. Searching for the next optimal point.\n",
      "[True, 30, 2, 5, 10] \n",
      "\n",
      "Iteration No: 77 ended. Search finished for the next optimal point.\n",
      "Time taken: 2.2816\n",
      "Function value obtained: -0.5488\n",
      "Current minimum: -0.6080\n",
      "Iteration No: 78 started. Searching for the next optimal point.\n",
      "[True, 10, 1, 2, 100] \n",
      "\n"
     ]
    },
    {
     "name": "stderr",
     "output_type": "stream",
     "text": [
      "/home/caio/anaconda3/lib/python3.9/site-packages/skopt/optimizer/optimizer.py:449: UserWarning: The objective has been evaluated at this point before.\n",
      "  warnings.warn(\"The objective has been evaluated \"\n"
     ]
    },
    {
     "name": "stdout",
     "output_type": "stream",
     "text": [
      "Iteration No: 78 ended. Search finished for the next optimal point.\n",
      "Time taken: 10.2729\n",
      "Function value obtained: -0.6080\n",
      "Current minimum: -0.6080\n",
      "Iteration No: 79 started. Searching for the next optimal point.\n",
      "[True, 10, 4, 5, 5] \n",
      "\n",
      "Iteration No: 79 ended. Search finished for the next optimal point.\n",
      "Time taken: 1.9578\n",
      "Function value obtained: -0.5770\n",
      "Current minimum: -0.6080\n",
      "Iteration No: 80 started. Searching for the next optimal point.\n",
      "[True, 10, 1, 2, 100] \n",
      "\n"
     ]
    },
    {
     "name": "stderr",
     "output_type": "stream",
     "text": [
      "/home/caio/anaconda3/lib/python3.9/site-packages/skopt/optimizer/optimizer.py:449: UserWarning: The objective has been evaluated at this point before.\n",
      "  warnings.warn(\"The objective has been evaluated \"\n"
     ]
    },
    {
     "name": "stdout",
     "output_type": "stream",
     "text": [
      "Iteration No: 80 ended. Search finished for the next optimal point.\n",
      "Time taken: 10.1759\n",
      "Function value obtained: -0.6080\n",
      "Current minimum: -0.6080\n",
      "Iteration No: 81 started. Searching for the next optimal point.\n",
      "[True, 20, 4, 2, 300] \n",
      "\n",
      "Iteration No: 81 ended. Search finished for the next optimal point.\n",
      "Time taken: 18.5765\n",
      "Function value obtained: -0.5955\n",
      "Current minimum: -0.6080\n",
      "Iteration No: 82 started. Searching for the next optimal point.\n",
      "[True, 30, 4, 5, 20] \n",
      "\n",
      "Iteration No: 82 ended. Search finished for the next optimal point.\n",
      "Time taken: 2.9406\n",
      "Function value obtained: -0.5830\n",
      "Current minimum: -0.6080\n",
      "Iteration No: 83 started. Searching for the next optimal point.\n",
      "[True, 10, 1, 2, 100] \n",
      "\n"
     ]
    },
    {
     "name": "stderr",
     "output_type": "stream",
     "text": [
      "/home/caio/anaconda3/lib/python3.9/site-packages/skopt/optimizer/optimizer.py:449: UserWarning: The objective has been evaluated at this point before.\n",
      "  warnings.warn(\"The objective has been evaluated \"\n"
     ]
    },
    {
     "name": "stdout",
     "output_type": "stream",
     "text": [
      "Iteration No: 83 ended. Search finished for the next optimal point.\n",
      "Time taken: 10.6682\n",
      "Function value obtained: -0.6080\n",
      "Current minimum: -0.6080\n",
      "Iteration No: 84 started. Searching for the next optimal point.\n",
      "[True, 10, 1, 2, 100] \n",
      "\n"
     ]
    },
    {
     "name": "stderr",
     "output_type": "stream",
     "text": [
      "/home/caio/anaconda3/lib/python3.9/site-packages/skopt/optimizer/optimizer.py:449: UserWarning: The objective has been evaluated at this point before.\n",
      "  warnings.warn(\"The objective has been evaluated \"\n"
     ]
    },
    {
     "name": "stdout",
     "output_type": "stream",
     "text": [
      "Iteration No: 84 ended. Search finished for the next optimal point.\n",
      "Time taken: 10.4065\n",
      "Function value obtained: -0.6080\n",
      "Current minimum: -0.6080\n",
      "Iteration No: 85 started. Searching for the next optimal point.\n",
      "[True, 10, 1, 2, 100] \n",
      "\n"
     ]
    },
    {
     "name": "stderr",
     "output_type": "stream",
     "text": [
      "/home/caio/anaconda3/lib/python3.9/site-packages/skopt/optimizer/optimizer.py:449: UserWarning: The objective has been evaluated at this point before.\n",
      "  warnings.warn(\"The objective has been evaluated \"\n"
     ]
    },
    {
     "name": "stdout",
     "output_type": "stream",
     "text": [
      "Iteration No: 85 ended. Search finished for the next optimal point.\n",
      "Time taken: 10.2326\n",
      "Function value obtained: -0.6080\n",
      "Current minimum: -0.6080\n",
      "Iteration No: 86 started. Searching for the next optimal point.\n",
      "[True, 10, 1, 2, 100] \n",
      "\n"
     ]
    },
    {
     "name": "stderr",
     "output_type": "stream",
     "text": [
      "/home/caio/anaconda3/lib/python3.9/site-packages/skopt/optimizer/optimizer.py:449: UserWarning: The objective has been evaluated at this point before.\n",
      "  warnings.warn(\"The objective has been evaluated \"\n"
     ]
    },
    {
     "name": "stdout",
     "output_type": "stream",
     "text": [
      "Iteration No: 86 ended. Search finished for the next optimal point.\n",
      "Time taken: 10.5938\n",
      "Function value obtained: -0.6080\n",
      "Current minimum: -0.6080\n",
      "Iteration No: 87 started. Searching for the next optimal point.\n",
      "[True, 10, 1, 2, 100] \n",
      "\n"
     ]
    },
    {
     "name": "stderr",
     "output_type": "stream",
     "text": [
      "/home/caio/anaconda3/lib/python3.9/site-packages/skopt/optimizer/optimizer.py:449: UserWarning: The objective has been evaluated at this point before.\n",
      "  warnings.warn(\"The objective has been evaluated \"\n"
     ]
    },
    {
     "name": "stdout",
     "output_type": "stream",
     "text": [
      "Iteration No: 87 ended. Search finished for the next optimal point.\n",
      "Time taken: 10.9797\n",
      "Function value obtained: -0.6080\n",
      "Current minimum: -0.6080\n",
      "Iteration No: 88 started. Searching for the next optimal point.\n",
      "[True, 10, 1, 2, 100] \n",
      "\n"
     ]
    },
    {
     "name": "stderr",
     "output_type": "stream",
     "text": [
      "/home/caio/anaconda3/lib/python3.9/site-packages/skopt/optimizer/optimizer.py:449: UserWarning: The objective has been evaluated at this point before.\n",
      "  warnings.warn(\"The objective has been evaluated \"\n"
     ]
    },
    {
     "name": "stdout",
     "output_type": "stream",
     "text": [
      "Iteration No: 88 ended. Search finished for the next optimal point.\n",
      "Time taken: 10.5788\n",
      "Function value obtained: -0.6080\n",
      "Current minimum: -0.6080\n",
      "Iteration No: 89 started. Searching for the next optimal point.\n",
      "[True, None, 1, 2, 50] \n",
      "\n",
      "Iteration No: 89 ended. Search finished for the next optimal point.\n",
      "Time taken: 6.6172\n",
      "Function value obtained: -0.6008\n",
      "Current minimum: -0.6080\n",
      "Iteration No: 90 started. Searching for the next optimal point.\n",
      "[True, 10, 1, 2, 100] \n",
      "\n"
     ]
    },
    {
     "name": "stderr",
     "output_type": "stream",
     "text": [
      "/home/caio/anaconda3/lib/python3.9/site-packages/skopt/optimizer/optimizer.py:449: UserWarning: The objective has been evaluated at this point before.\n",
      "  warnings.warn(\"The objective has been evaluated \"\n"
     ]
    },
    {
     "name": "stdout",
     "output_type": "stream",
     "text": [
      "Iteration No: 90 ended. Search finished for the next optimal point.\n",
      "Time taken: 10.1752\n",
      "Function value obtained: -0.6080\n",
      "Current minimum: -0.6080\n",
      "Iteration No: 91 started. Searching for the next optimal point.\n",
      "[False, 10, 2, 2, 200] \n",
      "\n",
      "Iteration No: 91 ended. Search finished for the next optimal point.\n",
      "Time taken: 27.1259\n",
      "Function value obtained: -0.2592\n",
      "Current minimum: -0.6080\n",
      "Iteration No: 92 started. Searching for the next optimal point.\n",
      "[False, 20, 1, 10, 5] \n",
      "\n",
      "Iteration No: 92 ended. Search finished for the next optimal point.\n",
      "Time taken: 2.6078\n",
      "Function value obtained: -0.2564\n",
      "Current minimum: -0.6080\n",
      "Iteration No: 93 started. Searching for the next optimal point.\n",
      "[True, 10, 2, 5, 20] \n",
      "\n",
      "Iteration No: 93 ended. Search finished for the next optimal point.\n",
      "Time taken: 3.2487\n",
      "Function value obtained: -0.5735\n",
      "Current minimum: -0.6080\n",
      "Iteration No: 94 started. Searching for the next optimal point.\n",
      "[True, 10, 1, 2, 100] \n",
      "\n"
     ]
    },
    {
     "name": "stderr",
     "output_type": "stream",
     "text": [
      "/home/caio/anaconda3/lib/python3.9/site-packages/skopt/optimizer/optimizer.py:449: UserWarning: The objective has been evaluated at this point before.\n",
      "  warnings.warn(\"The objective has been evaluated \"\n"
     ]
    },
    {
     "name": "stdout",
     "output_type": "stream",
     "text": [
      "Iteration No: 94 ended. Search finished for the next optimal point.\n",
      "Time taken: 10.2294\n",
      "Function value obtained: -0.6080\n",
      "Current minimum: -0.6080\n",
      "Iteration No: 95 started. Searching for the next optimal point.\n",
      "[True, 10, 1, 2, 100] \n",
      "\n"
     ]
    },
    {
     "name": "stderr",
     "output_type": "stream",
     "text": [
      "/home/caio/anaconda3/lib/python3.9/site-packages/skopt/optimizer/optimizer.py:449: UserWarning: The objective has been evaluated at this point before.\n",
      "  warnings.warn(\"The objective has been evaluated \"\n"
     ]
    },
    {
     "name": "stdout",
     "output_type": "stream",
     "text": [
      "Iteration No: 95 ended. Search finished for the next optimal point.\n",
      "Time taken: 10.0897\n",
      "Function value obtained: -0.6080\n",
      "Current minimum: -0.6080\n",
      "Iteration No: 96 started. Searching for the next optimal point.\n",
      "[True, 10, 1, 2, 100] \n",
      "\n"
     ]
    },
    {
     "name": "stderr",
     "output_type": "stream",
     "text": [
      "/home/caio/anaconda3/lib/python3.9/site-packages/skopt/optimizer/optimizer.py:449: UserWarning: The objective has been evaluated at this point before.\n",
      "  warnings.warn(\"The objective has been evaluated \"\n"
     ]
    },
    {
     "name": "stdout",
     "output_type": "stream",
     "text": [
      "Iteration No: 96 ended. Search finished for the next optimal point.\n",
      "Time taken: 9.7897\n",
      "Function value obtained: -0.6080\n",
      "Current minimum: -0.6080\n",
      "Iteration No: 97 started. Searching for the next optimal point.\n",
      "[True, 10, 1, 2, 100] \n",
      "\n"
     ]
    },
    {
     "name": "stderr",
     "output_type": "stream",
     "text": [
      "/home/caio/anaconda3/lib/python3.9/site-packages/skopt/optimizer/optimizer.py:449: UserWarning: The objective has been evaluated at this point before.\n",
      "  warnings.warn(\"The objective has been evaluated \"\n"
     ]
    },
    {
     "name": "stdout",
     "output_type": "stream",
     "text": [
      "Iteration No: 97 ended. Search finished for the next optimal point.\n",
      "Time taken: 9.9851\n",
      "Function value obtained: -0.6080\n",
      "Current minimum: -0.6080\n",
      "Iteration No: 98 started. Searching for the next optimal point.\n",
      "[True, 10, 1, 2, 100] \n",
      "\n"
     ]
    },
    {
     "name": "stderr",
     "output_type": "stream",
     "text": [
      "/home/caio/anaconda3/lib/python3.9/site-packages/skopt/optimizer/optimizer.py:449: UserWarning: The objective has been evaluated at this point before.\n",
      "  warnings.warn(\"The objective has been evaluated \"\n"
     ]
    },
    {
     "name": "stdout",
     "output_type": "stream",
     "text": [
      "Iteration No: 98 ended. Search finished for the next optimal point.\n",
      "Time taken: 9.9156\n",
      "Function value obtained: -0.6080\n",
      "Current minimum: -0.6080\n",
      "Iteration No: 99 started. Searching for the next optimal point.\n",
      "[True, 10, 1, 2, 100] \n",
      "\n"
     ]
    },
    {
     "name": "stderr",
     "output_type": "stream",
     "text": [
      "/home/caio/anaconda3/lib/python3.9/site-packages/skopt/optimizer/optimizer.py:449: UserWarning: The objective has been evaluated at this point before.\n",
      "  warnings.warn(\"The objective has been evaluated \"\n"
     ]
    },
    {
     "name": "stdout",
     "output_type": "stream",
     "text": [
      "Iteration No: 99 ended. Search finished for the next optimal point.\n",
      "Time taken: 9.9995\n",
      "Function value obtained: -0.6080\n",
      "Current minimum: -0.6080\n",
      "Iteration No: 100 started. Searching for the next optimal point.\n",
      "[True, 10, 1, 2, 100] \n",
      "\n"
     ]
    },
    {
     "name": "stderr",
     "output_type": "stream",
     "text": [
      "/home/caio/anaconda3/lib/python3.9/site-packages/skopt/optimizer/optimizer.py:449: UserWarning: The objective has been evaluated at this point before.\n",
      "  warnings.warn(\"The objective has been evaluated \"\n"
     ]
    },
    {
     "name": "stdout",
     "output_type": "stream",
     "text": [
      "Iteration No: 100 ended. Search finished for the next optimal point.\n",
      "Time taken: 9.9661\n",
      "Function value obtained: -0.6080\n",
      "Current minimum: -0.6080\n",
      "CPU times: user 2min 39s, sys: 3min 16s, total: 5min 55s\n",
      "Wall time: 17min 20s\n"
     ]
    }
   ],
   "source": [
    "%%time\n",
    "from skopt import gp_minimize\n",
    "rf_best_params = gp_minimize(tune_rf, space, random_state=0, verbose=True, n_calls=100, n_random_starts=20, n_jobs=-1)"
   ]
  },
  {
   "cell_type": "code",
   "execution_count": 96,
   "id": "84d64a68-64cc-45f6-a51e-5a308c0eb88b",
   "metadata": {},
   "outputs": [
    {
     "data": {
      "text/plain": [
       "[True, 10, 1, 2, 100]"
      ]
     },
     "execution_count": 96,
     "metadata": {},
     "output_type": "execute_result"
    }
   ],
   "source": [
    "rf_best_params.x"
   ]
  },
  {
   "cell_type": "code",
   "execution_count": 101,
   "id": "00fb314c-f3d6-4c0d-a167-2d4c7cf6f32d",
   "metadata": {},
   "outputs": [
    {
     "data": {
      "text/html": [
       "<div>\n",
       "<style scoped>\n",
       "    .dataframe tbody tr th:only-of-type {\n",
       "        vertical-align: middle;\n",
       "    }\n",
       "\n",
       "    .dataframe tbody tr th {\n",
       "        vertical-align: top;\n",
       "    }\n",
       "\n",
       "    .dataframe thead th {\n",
       "        text-align: right;\n",
       "    }\n",
       "</style>\n",
       "<table border=\"1\" class=\"dataframe\">\n",
       "  <thead>\n",
       "    <tr style=\"text-align: right;\">\n",
       "      <th></th>\n",
       "      <th>R2</th>\n",
       "      <th>MAE</th>\n",
       "      <th>RMSE</th>\n",
       "      <th>RPD</th>\n",
       "    </tr>\n",
       "  </thead>\n",
       "  <tbody>\n",
       "    <tr>\n",
       "      <th>Teste</th>\n",
       "      <td>0.694495</td>\n",
       "      <td>1.231593</td>\n",
       "      <td>1.667493</td>\n",
       "      <td>1.817895</td>\n",
       "    </tr>\n",
       "  </tbody>\n",
       "</table>\n",
       "</div>"
      ],
      "text/plain": [
       "             R2       MAE      RMSE       RPD\n",
       "Teste  0.694495  1.231593  1.667493  1.817895"
      ]
     },
     "execution_count": 101,
     "metadata": {},
     "output_type": "execute_result"
    }
   ],
   "source": [
    "rf_model = RandomForestRegressor(bootstrap=True, max_depth=10,\n",
    "                                     min_samples_leaf=1, min_samples_split=2,\n",
    "                                     n_estimators=100, random_state=0, n_jobs=-1)\n",
    "\n",
    "rf_model.fit(x_train, y_train)\n",
    "preds = rf_model.predict(x_test)\n",
    "cmls.evalute_model(y_test, preds)"
   ]
  },
  {
   "cell_type": "code",
   "execution_count": 102,
   "id": "516fad09-555e-4944-9cb3-afb42bf2bfb4",
   "metadata": {},
   "outputs": [
    {
     "data": {
      "image/png": "[encoded data removed]",
      "text/plain": [
       "<Figure size 432x288 with 1 Axes>"
      ]
     },
     "metadata": {
      "needs_background": "light"
     },
     "output_type": "display_data"
    }
   ],
   "source": [
    "cmls.plot_real_vs_predict(y_test, preds)"
   ]
  },
  {
   "cell_type": "code",
   "execution_count": null,
   "id": "b6fe2c08-b698-481f-b20b-5a753a962806",
   "metadata": {},
   "outputs": [],
   "source": []
  }
 ],
 "metadata": {
  "kernelspec": {
   "display_name": "Python 3 (ipykernel)",
   "language": "python",
   "name": "python3"
  },
  "language_info": {
   "codemirror_mode": {
    "name": "ipython",
    "version": 3
   },
   "file_extension": ".py",
   "mimetype": "text/x-python",
   "name": "python",
   "nbconvert_exporter": "python",
   "pygments_lexer": "ipython3",
   "version": "3.9.12"
  }
 },
 "nbformat": 4,
 "nbformat_minor": 5
}
