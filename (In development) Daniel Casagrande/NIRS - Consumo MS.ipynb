{
 "cells": [
  {
   "cell_type": "markdown",
   "id": "7e7e49a9",
   "metadata": {},
   "source": [
    "# <center> NIRS <center> PREDICTION OF DRY MATTER INTAKE\n",
    "***\n",
    "# Table of Contents\n",
    "* [READING THE DATASET INTO PYTHON](#READING-THE-DATASET-INTO-PYTHON)\n",
    "* [DATA EDITING](#DATA-EDITING)\n",
    "    * [Creating dummy variables (One-Hot Encode)](#Creating-dummy-variables-(One-Hot-Encode))\n",
    "    * [Creating training and testing datasets](#Creating-training-and-testing-datasets)\n",
    "***"
   ]
  },
  {
   "cell_type": "markdown",
   "id": "a2f80471-aecc-4677-a1d4-fb6b6d5c437f",
   "metadata": {},
   "source": [
    "## IMPORTS"
   ]
  },
  {
   "cell_type": "code",
   "execution_count": 456,
   "id": "1517db8f-c36c-411b-bfbe-6b88e0e78e9d",
   "metadata": {},
   "outputs": [],
   "source": [
    "import pandas as pd\n",
    "import numpy as np\n",
    "import matplotlib.pyplot as plt\n",
    "import warnings\n",
    "#warnings.filterwarnings('ignore')\n",
    "# Private libary\n",
    "import cmls"
   ]
  },
  {
   "cell_type": "markdown",
   "id": "43d0e132-08ae-4413-948a-ae685ba49419",
   "metadata": {
    "tags": []
   },
   "source": [
    "## FUNCTIONS"
   ]
  },
  {
   "cell_type": "markdown",
   "id": "74b55a4e",
   "metadata": {
    "tags": []
   },
   "source": [
    "## READING THE DATASET INTO PYTHON"
   ]
  },
  {
   "cell_type": "code",
   "execution_count": 457,
   "id": "1e13ef95",
   "metadata": {},
   "outputs": [],
   "source": [
    "df0 = pd.read_excel('Datasets/Lucas/dados_nirs_lucas.xlsx')\n",
    "df = df0"
   ]
  },
  {
   "cell_type": "code",
   "execution_count": 458,
   "id": "c95c5cf8-10da-496d-9af0-9ef530d7ec44",
   "metadata": {},
   "outputs": [],
   "source": [
    "#Reset\n",
    "df = df0\n",
    "\n",
    "# Transform all feautere names to string\n",
    "df.columns = df.columns.map(str)"
   ]
  },
  {
   "cell_type": "markdown",
   "id": "fa874b44-90bc-44b1-bd2a-03a266b795e6",
   "metadata": {
    "tags": []
   },
   "source": [
    "## DATA DIVISION"
   ]
  },
  {
   "cell_type": "code",
   "execution_count": 459,
   "id": "5faa0a5d-173f-42c0-ab64-a77614f8ce76",
   "metadata": {},
   "outputs": [],
   "source": [
    "# Select all NIRS data as x\n",
    "x = df.loc[:,'12493.238':'4011.413']"
   ]
  },
  {
   "cell_type": "code",
   "execution_count": 460,
   "id": "582e7455-2297-4ddb-840d-8324a579cebc",
   "metadata": {},
   "outputs": [],
   "source": [
    "# \"MSC{} / savitzky_golay{'deriv': 2, 'order': 2, 'window_size': 13}\"\n",
    "import RG\n",
    "\n",
    "x = RG.MSC(x.values)[0]\n",
    "x = RG.savitzky_golay(x, window_size=13, deriv=2, order=2)"
   ]
  },
  {
   "cell_type": "code",
   "execution_count": 461,
   "id": "1ea0faf0-af1e-4598-98bf-fc6285cd4d05",
   "metadata": {},
   "outputs": [],
   "source": [
    "x = pd.DataFrame(x)\n",
    "\n",
    "cols = df.loc[:,'12493.238':'4011.413']\n",
    "\n",
    "x.columns = cols.columns\n",
    "del cols"
   ]
  },
  {
   "cell_type": "code",
   "execution_count": 462,
   "id": "c232a81b",
   "metadata": {},
   "outputs": [],
   "source": [
    "# Add Categoria feature\n",
    "x = x.join(df.loc[:,['Status fisiologico', 'Categoria']])\n",
    "x = pd.get_dummies(x, drop_first=False)"
   ]
  },
  {
   "cell_type": "code",
   "execution_count": 463,
   "id": "e6a41e7e",
   "metadata": {},
   "outputs": [],
   "source": [
    "# Response variable vector\n",
    "y = df['Consumo MS kg/dia']"
   ]
  },
  {
   "cell_type": "code",
   "execution_count": 464,
   "id": "f223bce9",
   "metadata": {
    "tags": []
   },
   "outputs": [
    {
     "name": "stdout",
     "output_type": "stream",
     "text": [
      "N. samples training 186 , N. samples testing 81\n"
     ]
    }
   ],
   "source": [
    "# Split the data set into training (70%) and testing (30%)\n",
    "from sklearn.model_selection import train_test_split\n",
    "x_train, x_test, y_train, y_test = train_test_split(x, y, test_size=0.30, shuffle=True, random_state=40)\n",
    "print(\"N. samples training %s , N. samples testing %s\" % (x_train.shape[0], x_test.shape[0]))"
   ]
  },
  {
   "cell_type": "markdown",
   "id": "62817c1d",
   "metadata": {
    "tags": []
   },
   "source": [
    "## PRE-PROCESSING"
   ]
  },
  {
   "cell_type": "markdown",
   "id": "0bb2f578-aa88-4ac1-8d27-33075adf1f90",
   "metadata": {
    "tags": []
   },
   "source": [
    "### Feature Scaling"
   ]
  },
  {
   "cell_type": "code",
   "execution_count": 465,
   "id": "b0ac4c11-1ab3-49aa-9e2f-27ea21bc4bbd",
   "metadata": {},
   "outputs": [],
   "source": [
    "from sklearn.preprocessing import MinMaxScaler\n",
    "\n",
    "scaler = MinMaxScaler().fit(x_train)\n",
    "x_train = scaler.transform(x_train)\n",
    "x_test = scaler.transform(x_test)"
   ]
  },
  {
   "cell_type": "markdown",
   "id": "003f2694",
   "metadata": {
    "tags": []
   },
   "source": [
    "### Summary Statistics"
   ]
  },
  {
   "cell_type": "code",
   "execution_count": 379,
   "id": "ea7dfc82-b6c7-4527-a0c6-d5b3cde2f12e",
   "metadata": {},
   "outputs": [
    {
     "ename": "AttributeError",
     "evalue": "'numpy.ndarray' object has no attribute 'index'",
     "output_type": "error",
     "traceback": [
      "\u001b[0;31m---------------------------------------------------------------------------\u001b[0m",
      "\u001b[0;31mAttributeError\u001b[0m                            Traceback (most recent call last)",
      "Input \u001b[0;32mIn [379]\u001b[0m, in \u001b[0;36m<cell line: 1>\u001b[0;34m()\u001b[0m\n\u001b[0;32m----> 1\u001b[0m \u001b[38;5;28;01mfor\u001b[39;00m i \u001b[38;5;129;01min\u001b[39;00m \u001b[43mx_train\u001b[49m\u001b[38;5;241;43m.\u001b[39;49m\u001b[43mindex\u001b[49m\u001b[38;5;241m.\u001b[39mto_list():\n\u001b[1;32m      2\u001b[0m     x_train\u001b[38;5;241m.\u001b[39mloc[i, \u001b[38;5;124m'\u001b[39m\u001b[38;5;124m12493.238\u001b[39m\u001b[38;5;124m'\u001b[39m:\u001b[38;5;124m'\u001b[39m\u001b[38;5;124m4011.413\u001b[39m\u001b[38;5;124m'\u001b[39m]\u001b[38;5;241m.\u001b[39mplot(kind\u001b[38;5;241m=\u001b[39m\u001b[38;5;124m'\u001b[39m\u001b[38;5;124mline\u001b[39m\u001b[38;5;124m'\u001b[39m, figsize\u001b[38;5;241m=\u001b[39m(\u001b[38;5;241m16\u001b[39m,\u001b[38;5;241m8\u001b[39m))\n\u001b[1;32m      5\u001b[0m plt\u001b[38;5;241m.\u001b[39mylabel(\u001b[38;5;124m\"\u001b[39m\u001b[38;5;124mAbsorção\u001b[39m\u001b[38;5;124m\"\u001b[39m)\n",
      "\u001b[0;31mAttributeError\u001b[0m: 'numpy.ndarray' object has no attribute 'index'"
     ]
    }
   ],
   "source": [
    "for i in x_train.index.to_list():\n",
    "    x_train.loc[i, '12493.238':'4011.413'].plot(kind='line', figsize=(16,8))\n",
    "\n",
    "\n",
    "plt.ylabel(\"Absorção\")\n",
    "plt.xlabel(\"Comprimento de onda(cm^-1)\")\n",
    "plt.grid(visible=True)\n",
    "plt.title(\"Espectros de NIRS por amostra após tratamentos de ruído\")\n",
    "plt.show()"
   ]
  },
  {
   "cell_type": "code",
   "execution_count": 321,
   "id": "3e973bb1-a452-40b1-ac36-fc14be6ea82f",
   "metadata": {},
   "outputs": [
    {
     "data": {
      "image/png": "[encoded data removed]",
      "text/plain": [
       "<Figure size 1152x576 with 1 Axes>"
      ]
     },
     "metadata": {
      "needs_background": "light"
     },
     "output_type": "display_data"
    }
   ],
   "source": [
    "for i in x_test.index.to_list():\n",
    "    x_test.loc[i, '12493.238':'4011.413'].plot(kind='line', figsize=(16,8))\n",
    "\n",
    "\n",
    "plt.ylabel(\"Absorção\")\n",
    "plt.xlabel(\"Comprimento de onda(cm^-1)\")\n",
    "plt.grid(visible=True)\n",
    "plt.title(\"Espectros de NIRS por amostra após tratamentos de ruído\")\n",
    "plt.show()"
   ]
  },
  {
   "cell_type": "code",
   "execution_count": 73,
   "id": "f942fa17-8f1f-4cfc-bea6-5f56c8776295",
   "metadata": {},
   "outputs": [
    {
     "data": {
      "text/html": [
       "<div>\n",
       "<style scoped>\n",
       "    .dataframe tbody tr th:only-of-type {\n",
       "        vertical-align: middle;\n",
       "    }\n",
       "\n",
       "    .dataframe tbody tr th {\n",
       "        vertical-align: top;\n",
       "    }\n",
       "\n",
       "    .dataframe thead th {\n",
       "        text-align: right;\n",
       "    }\n",
       "</style>\n",
       "<table border=\"1\" class=\"dataframe\">\n",
       "  <thead>\n",
       "    <tr style=\"text-align: right;\">\n",
       "      <th></th>\n",
       "      <th>Peso corporal kg</th>\n",
       "      <th>Consumo MS kg/dia</th>\n",
       "      <th>Consumo MO kg/dia</th>\n",
       "      <th>Consumo PB kg/dia</th>\n",
       "      <th>Consumo FDN kg/dia</th>\n",
       "      <th>Consumo EE kg/dia</th>\n",
       "      <th>Consumo CNF kg/dia</th>\n",
       "      <th>Fezes MS kg/dia</th>\n",
       "      <th>Fezes MO kg/dia</th>\n",
       "      <th>Fezes PB kg/dia</th>\n",
       "      <th>...</th>\n",
       "      <th>3633.415</th>\n",
       "      <th>3629.557</th>\n",
       "      <th>3625.7</th>\n",
       "      <th>3621.843</th>\n",
       "      <th>3617.986</th>\n",
       "      <th>3614.129</th>\n",
       "      <th>3610.272</th>\n",
       "      <th>3606.415</th>\n",
       "      <th>3602.558</th>\n",
       "      <th>3598.7</th>\n",
       "    </tr>\n",
       "  </thead>\n",
       "  <tbody>\n",
       "    <tr>\n",
       "      <th>count</th>\n",
       "      <td>267.000000</td>\n",
       "      <td>267.000000</td>\n",
       "      <td>267.000000</td>\n",
       "      <td>267.000000</td>\n",
       "      <td>267.000000</td>\n",
       "      <td>267.000000</td>\n",
       "      <td>267.000000</td>\n",
       "      <td>267.000000</td>\n",
       "      <td>267.000000</td>\n",
       "      <td>267.000000</td>\n",
       "      <td>...</td>\n",
       "      <td>267.000000</td>\n",
       "      <td>267.000000</td>\n",
       "      <td>267.000000</td>\n",
       "      <td>267.000000</td>\n",
       "      <td>267.000000</td>\n",
       "      <td>267.000000</td>\n",
       "      <td>267.000000</td>\n",
       "      <td>267.000000</td>\n",
       "      <td>267.000000</td>\n",
       "      <td>267.000000</td>\n",
       "    </tr>\n",
       "    <tr>\n",
       "      <th>mean</th>\n",
       "      <td>509.824906</td>\n",
       "      <td>6.379836</td>\n",
       "      <td>6.030204</td>\n",
       "      <td>0.619715</td>\n",
       "      <td>3.469328</td>\n",
       "      <td>0.192359</td>\n",
       "      <td>1.711190</td>\n",
       "      <td>2.704554</td>\n",
       "      <td>2.330777</td>\n",
       "      <td>0.263546</td>\n",
       "      <td>...</td>\n",
       "      <td>0.229030</td>\n",
       "      <td>0.213754</td>\n",
       "      <td>0.260170</td>\n",
       "      <td>0.291170</td>\n",
       "      <td>0.286859</td>\n",
       "      <td>0.283470</td>\n",
       "      <td>0.269462</td>\n",
       "      <td>0.242059</td>\n",
       "      <td>0.239917</td>\n",
       "      <td>0.225538</td>\n",
       "    </tr>\n",
       "    <tr>\n",
       "      <th>std</th>\n",
       "      <td>102.339137</td>\n",
       "      <td>2.002452</td>\n",
       "      <td>1.875748</td>\n",
       "      <td>0.336699</td>\n",
       "      <td>1.073802</td>\n",
       "      <td>0.080614</td>\n",
       "      <td>0.641736</td>\n",
       "      <td>0.795194</td>\n",
       "      <td>0.720937</td>\n",
       "      <td>0.096765</td>\n",
       "      <td>...</td>\n",
       "      <td>0.199782</td>\n",
       "      <td>0.237003</td>\n",
       "      <td>0.188358</td>\n",
       "      <td>0.156556</td>\n",
       "      <td>0.175760</td>\n",
       "      <td>0.191097</td>\n",
       "      <td>0.185356</td>\n",
       "      <td>0.187441</td>\n",
       "      <td>0.166877</td>\n",
       "      <td>0.164253</td>\n",
       "    </tr>\n",
       "    <tr>\n",
       "      <th>min</th>\n",
       "      <td>281.000000</td>\n",
       "      <td>1.429860</td>\n",
       "      <td>1.435228</td>\n",
       "      <td>0.092339</td>\n",
       "      <td>0.577233</td>\n",
       "      <td>0.051604</td>\n",
       "      <td>0.441309</td>\n",
       "      <td>0.760456</td>\n",
       "      <td>0.622813</td>\n",
       "      <td>0.054601</td>\n",
       "      <td>...</td>\n",
       "      <td>-0.276049</td>\n",
       "      <td>-0.395581</td>\n",
       "      <td>-0.238561</td>\n",
       "      <td>-0.024993</td>\n",
       "      <td>-0.125093</td>\n",
       "      <td>-0.180869</td>\n",
       "      <td>-0.196580</td>\n",
       "      <td>-0.261695</td>\n",
       "      <td>-0.144254</td>\n",
       "      <td>-0.129140</td>\n",
       "    </tr>\n",
       "    <tr>\n",
       "      <th>25%</th>\n",
       "      <td>425.500000</td>\n",
       "      <td>4.945368</td>\n",
       "      <td>4.651638</td>\n",
       "      <td>0.351819</td>\n",
       "      <td>2.707140</td>\n",
       "      <td>0.134618</td>\n",
       "      <td>1.212661</td>\n",
       "      <td>2.130980</td>\n",
       "      <td>1.851124</td>\n",
       "      <td>0.192972</td>\n",
       "      <td>...</td>\n",
       "      <td>0.107274</td>\n",
       "      <td>0.069525</td>\n",
       "      <td>0.139561</td>\n",
       "      <td>0.179395</td>\n",
       "      <td>0.165436</td>\n",
       "      <td>0.147912</td>\n",
       "      <td>0.157507</td>\n",
       "      <td>0.108506</td>\n",
       "      <td>0.116012</td>\n",
       "      <td>0.106476</td>\n",
       "    </tr>\n",
       "    <tr>\n",
       "      <th>50%</th>\n",
       "      <td>530.000000</td>\n",
       "      <td>6.231714</td>\n",
       "      <td>5.898576</td>\n",
       "      <td>0.568794</td>\n",
       "      <td>3.385846</td>\n",
       "      <td>0.182511</td>\n",
       "      <td>1.674349</td>\n",
       "      <td>2.681238</td>\n",
       "      <td>2.313793</td>\n",
       "      <td>0.255564</td>\n",
       "      <td>...</td>\n",
       "      <td>0.229640</td>\n",
       "      <td>0.233216</td>\n",
       "      <td>0.255576</td>\n",
       "      <td>0.287353</td>\n",
       "      <td>0.282204</td>\n",
       "      <td>0.287219</td>\n",
       "      <td>0.283499</td>\n",
       "      <td>0.255783</td>\n",
       "      <td>0.239895</td>\n",
       "      <td>0.216038</td>\n",
       "    </tr>\n",
       "    <tr>\n",
       "      <th>75%</th>\n",
       "      <td>582.000000</td>\n",
       "      <td>7.716805</td>\n",
       "      <td>7.304223</td>\n",
       "      <td>0.795090</td>\n",
       "      <td>4.207334</td>\n",
       "      <td>0.232064</td>\n",
       "      <td>2.106837</td>\n",
       "      <td>3.202887</td>\n",
       "      <td>2.748287</td>\n",
       "      <td>0.316227</td>\n",
       "      <td>...</td>\n",
       "      <td>0.350355</td>\n",
       "      <td>0.366050</td>\n",
       "      <td>0.391686</td>\n",
       "      <td>0.387802</td>\n",
       "      <td>0.396442</td>\n",
       "      <td>0.404799</td>\n",
       "      <td>0.388062</td>\n",
       "      <td>0.374971</td>\n",
       "      <td>0.352256</td>\n",
       "      <td>0.347993</td>\n",
       "    </tr>\n",
       "    <tr>\n",
       "      <th>max</th>\n",
       "      <td>744.500000</td>\n",
       "      <td>12.277564</td>\n",
       "      <td>11.729826</td>\n",
       "      <td>1.780895</td>\n",
       "      <td>6.722461</td>\n",
       "      <td>0.483549</td>\n",
       "      <td>3.866051</td>\n",
       "      <td>5.143320</td>\n",
       "      <td>4.547951</td>\n",
       "      <td>0.570620</td>\n",
       "      <td>...</td>\n",
       "      <td>0.940678</td>\n",
       "      <td>1.049306</td>\n",
       "      <td>0.902545</td>\n",
       "      <td>0.783421</td>\n",
       "      <td>0.916157</td>\n",
       "      <td>0.859193</td>\n",
       "      <td>0.886101</td>\n",
       "      <td>0.702963</td>\n",
       "      <td>0.752801</td>\n",
       "      <td>0.859664</td>\n",
       "    </tr>\n",
       "  </tbody>\n",
       "</table>\n",
       "<p>8 rows × 2336 columns</p>\n",
       "</div>"
      ],
      "text/plain": [
       "       Peso corporal kg  Consumo MS kg/dia  Consumo MO kg/dia  \\\n",
       "count        267.000000         267.000000         267.000000   \n",
       "mean         509.824906           6.379836           6.030204   \n",
       "std          102.339137           2.002452           1.875748   \n",
       "min          281.000000           1.429860           1.435228   \n",
       "25%          425.500000           4.945368           4.651638   \n",
       "50%          530.000000           6.231714           5.898576   \n",
       "75%          582.000000           7.716805           7.304223   \n",
       "max          744.500000          12.277564          11.729826   \n",
       "\n",
       "       Consumo PB kg/dia  Consumo FDN kg/dia  Consumo EE kg/dia  \\\n",
       "count         267.000000          267.000000         267.000000   \n",
       "mean            0.619715            3.469328           0.192359   \n",
       "std             0.336699            1.073802           0.080614   \n",
       "min             0.092339            0.577233           0.051604   \n",
       "25%             0.351819            2.707140           0.134618   \n",
       "50%             0.568794            3.385846           0.182511   \n",
       "75%             0.795090            4.207334           0.232064   \n",
       "max             1.780895            6.722461           0.483549   \n",
       "\n",
       "       Consumo CNF kg/dia  Fezes MS kg/dia  Fezes MO kg/dia  Fezes PB kg/dia  \\\n",
       "count          267.000000       267.000000       267.000000       267.000000   \n",
       "mean             1.711190         2.704554         2.330777         0.263546   \n",
       "std              0.641736         0.795194         0.720937         0.096765   \n",
       "min              0.441309         0.760456         0.622813         0.054601   \n",
       "25%              1.212661         2.130980         1.851124         0.192972   \n",
       "50%              1.674349         2.681238         2.313793         0.255564   \n",
       "75%              2.106837         3.202887         2.748287         0.316227   \n",
       "max              3.866051         5.143320         4.547951         0.570620   \n",
       "\n",
       "       ...    3633.415    3629.557      3625.7    3621.843    3617.986  \\\n",
       "count  ...  267.000000  267.000000  267.000000  267.000000  267.000000   \n",
       "mean   ...    0.229030    0.213754    0.260170    0.291170    0.286859   \n",
       "std    ...    0.199782    0.237003    0.188358    0.156556    0.175760   \n",
       "min    ...   -0.276049   -0.395581   -0.238561   -0.024993   -0.125093   \n",
       "25%    ...    0.107274    0.069525    0.139561    0.179395    0.165436   \n",
       "50%    ...    0.229640    0.233216    0.255576    0.287353    0.282204   \n",
       "75%    ...    0.350355    0.366050    0.391686    0.387802    0.396442   \n",
       "max    ...    0.940678    1.049306    0.902545    0.783421    0.916157   \n",
       "\n",
       "         3614.129    3610.272    3606.415    3602.558      3598.7  \n",
       "count  267.000000  267.000000  267.000000  267.000000  267.000000  \n",
       "mean     0.283470    0.269462    0.242059    0.239917    0.225538  \n",
       "std      0.191097    0.185356    0.187441    0.166877    0.164253  \n",
       "min     -0.180869   -0.196580   -0.261695   -0.144254   -0.129140  \n",
       "25%      0.147912    0.157507    0.108506    0.116012    0.106476  \n",
       "50%      0.287219    0.283499    0.255783    0.239895    0.216038  \n",
       "75%      0.404799    0.388062    0.374971    0.352256    0.347993  \n",
       "max      0.859193    0.886101    0.702963    0.752801    0.859664  \n",
       "\n",
       "[8 rows x 2336 columns]"
      ]
     },
     "execution_count": 73,
     "metadata": {},
     "output_type": "execute_result"
    }
   ],
   "source": [
    "df.describe()"
   ]
  },
  {
   "cell_type": "markdown",
   "id": "899311ff-9cff-4697-b532-f7960aa55253",
   "metadata": {
    "tags": []
   },
   "source": [
    "### Outliers Treatment"
   ]
  },
  {
   "cell_type": "code",
   "execution_count": 80,
   "id": "ed9ac56d-e572-477d-ae5a-5c8e831a5539",
   "metadata": {},
   "outputs": [
    {
     "data": {
      "text/plain": [
       "<AxesSubplot:>"
      ]
     },
     "execution_count": 80,
     "metadata": {},
     "output_type": "execute_result"
    },
    {
     "data": {
      "image/png": "[encoded data removed]",
      "text/plain": [
       "<Figure size 432x288 with 1 Axes>"
      ]
     },
     "metadata": {
      "needs_background": "light"
     },
     "output_type": "display_data"
    }
   ],
   "source": [
    "df.boxplot('Consumo MS kg/dia')"
   ]
  },
  {
   "cell_type": "code",
   "execution_count": 81,
   "id": "68c5783d-1062-4753-8a8c-e34487b82802",
   "metadata": {},
   "outputs": [],
   "source": [
    "for x in ['Consumo MS kg/dia']:\n",
    "    q75,q25 = np.percentile(df.loc[:,x],[75,25])\n",
    "    intr_qr = q75-q25\n",
    " \n",
    "    max = q75+(1.5*intr_qr)\n",
    "    min = q25-(1.5*intr_qr)\n",
    " \n",
    "    df.loc[df[x] < min,x] = np.nan\n",
    "    df.loc[df[x] > max,x] = np.nan\n"
   ]
  },
  {
   "cell_type": "code",
   "execution_count": 82,
   "id": "a3f2d1ba-f79a-4cce-aaf1-68db07ae8289",
   "metadata": {},
   "outputs": [
    {
     "data": {
      "text/plain": [
       "Int64Index([115, 135], dtype='int64')"
      ]
     },
     "execution_count": 82,
     "metadata": {},
     "output_type": "execute_result"
    }
   ],
   "source": [
    "df[df['Consumo MS kg/dia'].isnull()].index"
   ]
  },
  {
   "cell_type": "code",
   "execution_count": 86,
   "id": "25bad69c-8ffb-4840-9f5d-dd8d799a3a84",
   "metadata": {},
   "outputs": [
    {
     "data": {
      "text/plain": [
       "115    11.957976\n",
       "135    12.277564\n",
       "Name: Consumo MS kg/dia, dtype: float64"
      ]
     },
     "execution_count": 86,
     "metadata": {},
     "output_type": "execute_result"
    }
   ],
   "source": [
    "df0['Consumo MS kg/dia'].iloc[[115, 135]]"
   ]
  },
  {
   "cell_type": "code",
   "execution_count": 87,
   "id": "cae1a1c6-72a0-4de6-adfa-33a5a0683143",
   "metadata": {},
   "outputs": [
    {
     "data": {
      "text/plain": [
       "Int64Index([], dtype='int64')"
      ]
     },
     "execution_count": 87,
     "metadata": {},
     "output_type": "execute_result"
    }
   ],
   "source": [
    "df[df['Consumo MS kg/dia'].isnull()].index"
   ]
  },
  {
   "cell_type": "code",
   "execution_count": 146,
   "id": "fa4926e7-345d-48b8-b286-7c864806d897",
   "metadata": {},
   "outputs": [],
   "source": [
    "corr = df.corr()"
   ]
  },
  {
   "cell_type": "code",
   "execution_count": 147,
   "id": "d58d843c-8e28-4afa-8d82-74fa293e6cec",
   "metadata": {},
   "outputs": [
    {
     "data": {
      "text/plain": [
       "Consumo MS kg/dia     1.000000\n",
       "Consumo MO kg/dia     0.998135\n",
       "Consumo FDN kg/dia    0.950851\n",
       "Consumo PB kg/dia     0.773645\n",
       "Consumo EE kg/dia     0.771401\n",
       "                        ...   \n",
       "11729.526            -0.226463\n",
       "12026.525            -0.226475\n",
       "11725.669            -0.226683\n",
       "12470.095            -0.228121\n",
       "TD FDN               -0.256873\n",
       "Name: Consumo MS kg/dia, Length: 2336, dtype: float64"
      ]
     },
     "execution_count": 147,
     "metadata": {},
     "output_type": "execute_result"
    }
   ],
   "source": [
    "corr['Consumo MS kg/dia'].sort_values(ascending=False)"
   ]
  },
  {
   "cell_type": "code",
   "execution_count": 191,
   "id": "74ef4aec-2200-4f5b-bc58-fa9b33179ba1",
   "metadata": {},
   "outputs": [],
   "source": [
    "from scipy.stats import chi2\n",
    "from matplotlib import patches\n",
    "import matplotlib.pyplot as plt"
   ]
  },
  {
   "cell_type": "code",
   "execution_count": 192,
   "id": "98702c5d-07e7-4cf8-8fb3-d2cd343a52b0",
   "metadata": {},
   "outputs": [],
   "source": [
    "df_out_detect =  df[['Consumo MS kg/dia', 'Consumo FDN kg/dia']]\n",
    "df_out_detect =  df_out_detect.to_numpy()"
   ]
  },
  {
   "cell_type": "code",
   "execution_count": 193,
   "id": "8dfb4fbc-aa63-4370-a61c-56963e659984",
   "metadata": {},
   "outputs": [],
   "source": [
    "# Covariance matrix\n",
    "covariance  = np.cov(df_out_detect, rowvar=False)\n",
    "\n",
    "# Covariance matrix power of -1\n",
    "covariance_pm1 = np.linalg.matrix_power(covariance, -1)\n",
    "\n",
    "# Center point\n",
    "centerpoint = np.mean(df_out_detect , axis=0)"
   ]
  },
  {
   "cell_type": "code",
   "execution_count": 194,
   "id": "73603b2c-f93a-46b7-a697-9cd3c9d2d3d3",
   "metadata": {},
   "outputs": [
    {
     "data": {
      "text/plain": [
       "array([6.3798357 , 3.46932827])"
      ]
     },
     "execution_count": 194,
     "metadata": {},
     "output_type": "execute_result"
    }
   ],
   "source": [
    "centerpoint"
   ]
  },
  {
   "cell_type": "code",
   "execution_count": 195,
   "id": "651b8108-764d-4565-89ff-56cc4adbb04e",
   "metadata": {},
   "outputs": [
    {
     "name": "stdout",
     "output_type": "stream",
     "text": [
      "--- Index of Outliers ----\n",
      "(array([ 12,  21, 115, 123, 125, 135, 149, 170, 192, 197, 208]),)\n",
      "--- Observations found as outlier -----\n",
      "[[10.78358082  6.10652964]\n",
      " [ 9.28032003  4.24684375]\n",
      " [11.95797601  5.8059139 ]\n",
      " [ 9.64298223  4.46443862]\n",
      " [ 9.77784679  4.5201679 ]\n",
      " [12.27756414  6.72246108]\n",
      " [ 2.65464914  0.95021564]\n",
      " [11.56022675  6.1669866 ]\n",
      " [ 1.4298605   0.57723347]\n",
      " [ 9.29875817  6.4472094 ]\n",
      " [ 9.43299704  6.39747595]]\n"
     ]
    }
   ],
   "source": [
    "distances = []\n",
    "for i, val in enumerate(df_out_detect):\n",
    "      p1 = val\n",
    "      p2 = centerpoint\n",
    "      distance = (p1-p2).T.dot(covariance_pm1).dot(p1-p2)\n",
    "      distances.append(distance)\n",
    "distances = np.array(distances)\n",
    "\n",
    "# Cutoff (threshold) value from Chi-Sqaure Distribution for detecting outliers \n",
    "cutoff = chi2.ppf(0.95, df_out_detect.shape[1])\n",
    "\n",
    "# Index of outliers\n",
    "outlierIndexes = np.where(distances > cutoff )\n",
    "\n",
    "print('--- Index of Outliers ----')\n",
    "print(outlierIndexes)\n",
    "\n",
    "print('--- Observations found as outlier -----')\n",
    "print(df_out_detect[ distances > cutoff , :])"
   ]
  },
  {
   "cell_type": "code",
   "execution_count": 196,
   "id": "e93514ee-8bc8-4c1f-baee-861b1f9e1a31",
   "metadata": {},
   "outputs": [
    {
     "data": {
      "image/png": "[encoded data removed]",
      "text/plain": [
       "<Figure size 432x288 with 1 Axes>"
      ]
     },
     "metadata": {
      "needs_background": "light"
     },
     "output_type": "display_data"
    }
   ],
   "source": [
    "## Finding ellipse dimensions \n",
    "pearson = covariance[0, 1]/np.sqrt(covariance[0, 0] * covariance[1, 1])\n",
    "ell_radius_x = np.sqrt(1 + pearson)\n",
    "ell_radius_y = np.sqrt(1 - pearson)\n",
    "lambda_, v = np.linalg.eig(covariance)\n",
    "lambda_ = np.sqrt(lambda_)\n",
    "\n",
    "# Ellipse patch\n",
    "ellipse = patches.Ellipse(xy=(centerpoint[0], centerpoint[1]),\n",
    "                  width=lambda_[0]*np.sqrt(cutoff)*2, height=lambda_[1]*np.sqrt(cutoff)*2,\n",
    "                  angle=np.rad2deg(np.arccos(v[0, 0])), edgecolor='#fab1a0')\n",
    "ellipse.set_facecolor('#0984e3')\n",
    "ellipse.set_alpha(0.5)\n",
    "fig = plt.figure()\n",
    "ax = plt.subplot()\n",
    "ax.add_artist(ellipse)\n",
    "plt.scatter(df_out_detect[: , 0], df_out_detect[ : , 1])\n",
    "plt.show()"
   ]
  },
  {
   "cell_type": "code",
   "execution_count": 165,
   "id": "e63b2864-9554-4248-8192-b0d1c8053573",
   "metadata": {},
   "outputs": [],
   "source": [
    "from scipy import stats\n",
    "consumo_ms_zscores_descending_index = stats.zscore(df['Consumo MS kg/dia']).sort_values(ascending=False).index.to_list()"
   ]
  },
  {
   "cell_type": "code",
   "execution_count": 166,
   "id": "6070e423-5df1-41b8-9d89-caad75989c45",
   "metadata": {},
   "outputs": [],
   "source": [
    "d = {'Consumo MS kg/dia' : df['Consumo MS kg/dia'].values, 'Z SCORE': stats.zscore(df['Consumo MS kg/dia'])}"
   ]
  },
  {
   "cell_type": "code",
   "execution_count": 168,
   "id": "6166e160-90a0-45a1-ac48-207b8a3798af",
   "metadata": {},
   "outputs": [
    {
     "data": {
      "text/html": [
       "<div>\n",
       "<style scoped>\n",
       "    .dataframe tbody tr th:only-of-type {\n",
       "        vertical-align: middle;\n",
       "    }\n",
       "\n",
       "    .dataframe tbody tr th {\n",
       "        vertical-align: top;\n",
       "    }\n",
       "\n",
       "    .dataframe thead th {\n",
       "        text-align: right;\n",
       "    }\n",
       "</style>\n",
       "<table border=\"1\" class=\"dataframe\">\n",
       "  <thead>\n",
       "    <tr style=\"text-align: right;\">\n",
       "      <th></th>\n",
       "      <th>Consumo MS kg/dia</th>\n",
       "      <th>Z SCORE</th>\n",
       "    </tr>\n",
       "  </thead>\n",
       "  <tbody>\n",
       "    <tr>\n",
       "      <th>135</th>\n",
       "      <td>12.277564</td>\n",
       "      <td>2.950784</td>\n",
       "    </tr>\n",
       "    <tr>\n",
       "      <th>115</th>\n",
       "      <td>11.957976</td>\n",
       "      <td>2.790886</td>\n",
       "    </tr>\n",
       "    <tr>\n",
       "      <th>170</th>\n",
       "      <td>11.560227</td>\n",
       "      <td>2.591882</td>\n",
       "    </tr>\n",
       "    <tr>\n",
       "      <th>46</th>\n",
       "      <td>11.046499</td>\n",
       "      <td>2.334851</td>\n",
       "    </tr>\n",
       "    <tr>\n",
       "      <th>154</th>\n",
       "      <td>10.869008</td>\n",
       "      <td>2.246048</td>\n",
       "    </tr>\n",
       "    <tr>\n",
       "      <th>12</th>\n",
       "      <td>10.783581</td>\n",
       "      <td>2.203306</td>\n",
       "    </tr>\n",
       "    <tr>\n",
       "      <th>19</th>\n",
       "      <td>10.162714</td>\n",
       "      <td>1.892671</td>\n",
       "    </tr>\n",
       "    <tr>\n",
       "      <th>43</th>\n",
       "      <td>10.132946</td>\n",
       "      <td>1.877777</td>\n",
       "    </tr>\n",
       "    <tr>\n",
       "      <th>15</th>\n",
       "      <td>10.086903</td>\n",
       "      <td>1.854740</td>\n",
       "    </tr>\n",
       "    <tr>\n",
       "      <th>221</th>\n",
       "      <td>9.899514</td>\n",
       "      <td>1.760985</td>\n",
       "    </tr>\n",
       "  </tbody>\n",
       "</table>\n",
       "</div>"
      ],
      "text/plain": [
       "     Consumo MS kg/dia   Z SCORE\n",
       "135          12.277564  2.950784\n",
       "115          11.957976  2.790886\n",
       "170          11.560227  2.591882\n",
       "46           11.046499  2.334851\n",
       "154          10.869008  2.246048\n",
       "12           10.783581  2.203306\n",
       "19           10.162714  1.892671\n",
       "43           10.132946  1.877777\n",
       "15           10.086903  1.854740\n",
       "221           9.899514  1.760985"
      ]
     },
     "execution_count": 168,
     "metadata": {},
     "output_type": "execute_result"
    }
   ],
   "source": [
    "pd.DataFrame(d).sort_values('Z SCORE', ascending=False).head(10)"
   ]
  },
  {
   "cell_type": "code",
   "execution_count": null,
   "id": "2311fe82-b01d-42d6-86ef-beee2015891c",
   "metadata": {},
   "outputs": [],
   "source": [
    "\"\"\"# Remove NIRS data with Z SCORE higher than 3\n",
    "df = df[(np.abs(stats.zscore(df.loc[:,'12493.238':])) < 3).all(axis=1)]\n",
    "df.shape\"\"\""
   ]
  },
  {
   "cell_type": "code",
   "execution_count": 169,
   "id": "f313cda1-09cb-426a-9513-63731e769c59",
   "metadata": {},
   "outputs": [
    {
     "name": "stderr",
     "output_type": "stream",
     "text": [
      "/home/caio/anaconda3/lib/python3.9/site-packages/seaborn/distributions.py:2619: FutureWarning: `distplot` is a deprecated function and will be removed in a future version. Please adapt your code to use either `displot` (a figure-level function with similar flexibility) or `histplot` (an axes-level function for histograms).\n",
      "  warnings.warn(msg, FutureWarning)\n",
      "/home/caio/anaconda3/lib/python3.9/site-packages/seaborn/distributions.py:2619: FutureWarning: `distplot` is a deprecated function and will be removed in a future version. Please adapt your code to use either `displot` (a figure-level function with similar flexibility) or `histplot` (an axes-level function for histograms).\n",
      "  warnings.warn(msg, FutureWarning)\n"
     ]
    },
    {
     "data": {
      "image/png": "[encoded data removed]",
      "text/plain": [
       "<Figure size 1152x360 with 2 Axes>"
      ]
     },
     "metadata": {
      "needs_background": "light"
     },
     "output_type": "display_data"
    }
   ],
   "source": [
    "import matplotlib.pyplot as plt\n",
    "import seaborn as sns\n",
    "\n",
    "plt.figure(figsize=(16,5))\n",
    "plt.subplot(1,2,1)\n",
    "sns.distplot(df['3606.415'])\n",
    "plt.subplot(1,2,2)\n",
    "sns.distplot(df['Consumo MS kg/dia'])\n",
    "plt.show()"
   ]
  },
  {
   "cell_type": "markdown",
   "id": "0f7a2a9d-71ed-40c4-8b70-ecc82d3a9c21",
   "metadata": {
    "tags": []
   },
   "source": [
    "### Noise Treatment"
   ]
  },
  {
   "cell_type": "code",
   "execution_count": 13,
   "id": "55638ab9-2c7c-4818-b899-af31bccf0bb2",
   "metadata": {},
   "outputs": [
    {
     "data": {
      "image/png": "[encoded data removed]",
      "text/plain": [
       "<Figure size 432x288 with 1 Axes>"
      ]
     },
     "metadata": {
      "needs_background": "light"
     },
     "output_type": "display_data"
    },
    {
     "data": {
      "image/png": "[encoded data removed]",
      "text/plain": [
       "<Figure size 432x288 with 1 Axes>"
      ]
     },
     "metadata": {
      "needs_background": "light"
     },
     "output_type": "display_data"
    },
    {
     "data": {
      "image/png": "[encoded data removed]",
      "text/plain": [
       "<Figure size 432x288 with 2 Axes>"
      ]
     },
     "metadata": {
      "needs_background": "light"
     },
     "output_type": "display_data"
    },
    {
     "data": {
      "image/png": "[encoded data removed]",
      "text/plain": [
       "<Figure size 432x288 with 2 Axes>"
      ]
     },
     "metadata": {
      "needs_background": "light"
     },
     "output_type": "display_data"
    },
    {
     "data": {
      "image/png": "[encoded data removed]",
      "text/plain": [
       "<Figure size 360x288 with 2 Axes>"
      ]
     },
     "metadata": {
      "needs_background": "light"
     },
     "output_type": "display_data"
    },
    {
     "data": {
      "image/png": "[encoded data removed]",
      "text/plain": [
       "<Figure size 432x288 with 2 Axes>"
      ]
     },
     "metadata": {
      "needs_background": "light"
     },
     "output_type": "display_data"
    },
    {
     "data": {
      "image/png": "[encoded data removed]",
      "text/plain": [
       "<Figure size 432x288 with 2 Axes>"
      ]
     },
     "metadata": {
      "needs_background": "light"
     },
     "output_type": "display_data"
    },
    {
     "data": {
      "image/png": "[encoded data removed]",
      "text/plain": [
       "<Figure size 360x288 with 2 Axes>"
      ]
     },
     "metadata": {
      "needs_background": "light"
     },
     "output_type": "display_data"
    }
   ],
   "source": [
    "import NIR_preprocess as nir_pre\n",
    "combination, datasets, datasets0, R2_all, R2adj_all, RMSECV_all, VIP_all, Ef_all, Wt = nir_pre.compare_preprocessing(x_train.values, y_train.values)"
   ]
  },
  {
   "cell_type": "code",
   "execution_count": 14,
   "id": "f8d5af1a-3d4e-4a51-8f6a-3275fe56c7bd",
   "metadata": {},
   "outputs": [
    {
     "data": {
      "text/plain": [
       "48"
      ]
     },
     "execution_count": 14,
     "metadata": {},
     "output_type": "execute_result"
    }
   ],
   "source": [
    "RMSECV_all[0].argmin()"
   ]
  },
  {
   "cell_type": "code",
   "execution_count": 15,
   "id": "ac1802b8-1eb8-44a4-b6e7-02ef9848d05b",
   "metadata": {},
   "outputs": [
    {
     "data": {
      "text/plain": [
       "31"
      ]
     },
     "execution_count": 15,
     "metadata": {},
     "output_type": "execute_result"
    }
   ],
   "source": [
    "R2adj_all[0].argmax()"
   ]
  },
  {
   "cell_type": "code",
   "execution_count": 136,
   "id": "be8f02a2-800f-40a0-9052-9777e0281d70",
   "metadata": {},
   "outputs": [],
   "source": [
    "x = datasets0[8]"
   ]
  },
  {
   "cell_type": "code",
   "execution_count": 16,
   "id": "8957d9f4-2dd2-4931-973d-e4244c9a2f5f",
   "metadata": {},
   "outputs": [
    {
     "data": {
      "text/plain": [
       "\"MSC{} / savitzky_golay{'deriv': 2, 'order': 2, 'window_size': 13}\""
      ]
     },
     "execution_count": 16,
     "metadata": {},
     "output_type": "execute_result"
    }
   ],
   "source": [
    "combination[31]"
   ]
  },
  {
   "cell_type": "markdown",
   "id": "31025831-ec2f-47ce-b465-ebcf047e6738",
   "metadata": {},
   "source": [
    "### Feature Selecting"
   ]
  },
  {
   "cell_type": "code",
   "execution_count": 399,
   "id": "9dae103c-e483-48da-9516-7f703bdc543c",
   "metadata": {},
   "outputs": [],
   "source": [
    "# evaluation of a model using 88 features chosen with mutual information\n",
    "from sklearn.datasets import make_regression\n",
    "from sklearn.model_selection import train_test_split\n",
    "from sklearn.feature_selection import SelectKBest\n",
    "from sklearn.feature_selection import mutual_info_regression\n",
    "from sklearn.neighbors import KNeighborsRegressor\n",
    "from sklearn.metrics import mean_absolute_error\n",
    "\n",
    "k_vs_score = []\n",
    "for k in range(1,2200,100):\n",
    "    # configure to select a subset of features\n",
    "    fs = SelectKBest(score_func=mutual_info_regression, k=k)\n",
    "    # learn relationship from training data\n",
    "    fs.fit(x_train, y_train)\n",
    "    # transform train input data\n",
    "    X_train_fs = fs.transform(x_train)\n",
    "    # transform test input data\n",
    "    X_test_fs = fs.transform(x_test)\n",
    "\n",
    "    model = KNeighborsRegressor()\n",
    "    model.fit(X_train_fs, y_train)\n",
    "    # evaluate the model\n",
    "    yhat = model.predict(X_test_fs)\n",
    "    # evaluate predictions\n",
    "    mae = mean_absolute_error(y_test, yhat)\n",
    "    # print(\"k = {} - R2 = {}\".format(k, score))\n",
    "\n",
    "    k_vs_score.append(mae)"
   ]
  },
  {
   "cell_type": "code",
   "execution_count": 400,
   "id": "367f8f49-e5a4-486d-b833-a7f1c78d327a",
   "metadata": {},
   "outputs": [
    {
     "data": {
      "text/plain": [
       "<AxesSubplot:>"
      ]
     },
     "execution_count": 400,
     "metadata": {},
     "output_type": "execute_result"
    },
    {
     "data": {
      "image/png": "[encoded data removed]",
      "text/plain": [
       "<Figure size 720x504 with 1 Axes>"
      ]
     },
     "metadata": {
      "needs_background": "light"
     },
     "output_type": "display_data"
    }
   ],
   "source": [
    "pd.Series(k_vs_score, index=range(1,2200,100)).plot(figsize=(10,7))"
   ]
  },
  {
   "cell_type": "code",
   "execution_count": 401,
   "id": "3bbdcad0-5090-4d3d-8e74-3a11be6f5166",
   "metadata": {},
   "outputs": [],
   "source": [
    "scores = np.array(k_vs_score)"
   ]
  },
  {
   "cell_type": "code",
   "execution_count": 402,
   "id": "c2179cb6-d080-4a8c-9dcd-cd348d75d92a",
   "metadata": {},
   "outputs": [
    {
     "data": {
      "text/plain": [
       "22"
      ]
     },
     "execution_count": 402,
     "metadata": {},
     "output_type": "execute_result"
    }
   ],
   "source": [
    "scores.size"
   ]
  },
  {
   "cell_type": "code",
   "execution_count": 403,
   "id": "1e86040c-acfe-47f4-babc-c4a4019ba7ff",
   "metadata": {},
   "outputs": [
    {
     "data": {
      "text/html": [
       "<style>#sk-container-id-5 {color: black;background-color: white;}#sk-container-id-5 pre{padding: 0;}#sk-container-id-5 div.sk-toggleable {background-color: white;}#sk-container-id-5 label.sk-toggleable__label {cursor: pointer;display: block;width: 100%;margin-bottom: 0;padding: 0.3em;box-sizing: border-box;text-align: center;}#sk-container-id-5 label.sk-toggleable__label-arrow:before {content: \"▸\";float: left;margin-right: 0.25em;color: #696969;}#sk-container-id-5 label.sk-toggleable__label-arrow:hover:before {color: black;}#sk-container-id-5 div.sk-estimator:hover label.sk-toggleable__label-arrow:before {color: black;}#sk-container-id-5 div.sk-toggleable__content {max-height: 0;max-width: 0;overflow: hidden;text-align: left;background-color: #f0f8ff;}#sk-container-id-5 div.sk-toggleable__content pre {margin: 0.2em;color: black;border-radius: 0.25em;background-color: #f0f8ff;}#sk-container-id-5 input.sk-toggleable__control:checked~div.sk-toggleable__content {max-height: 200px;max-width: 100%;overflow: auto;}#sk-container-id-5 input.sk-toggleable__control:checked~label.sk-toggleable__label-arrow:before {content: \"▾\";}#sk-container-id-5 div.sk-estimator input.sk-toggleable__control:checked~label.sk-toggleable__label {background-color: #d4ebff;}#sk-container-id-5 div.sk-label input.sk-toggleable__control:checked~label.sk-toggleable__label {background-color: #d4ebff;}#sk-container-id-5 input.sk-hidden--visually {border: 0;clip: rect(1px 1px 1px 1px);clip: rect(1px, 1px, 1px, 1px);height: 1px;margin: -1px;overflow: hidden;padding: 0;position: absolute;width: 1px;}#sk-container-id-5 div.sk-estimator {font-family: monospace;background-color: #f0f8ff;border: 1px dotted black;border-radius: 0.25em;box-sizing: border-box;margin-bottom: 0.5em;}#sk-container-id-5 div.sk-estimator:hover {background-color: #d4ebff;}#sk-container-id-5 div.sk-parallel-item::after {content: \"\";width: 100%;border-bottom: 1px solid gray;flex-grow: 1;}#sk-container-id-5 div.sk-label:hover label.sk-toggleable__label {background-color: #d4ebff;}#sk-container-id-5 div.sk-serial::before {content: \"\";position: absolute;border-left: 1px solid gray;box-sizing: border-box;top: 0;bottom: 0;left: 50%;z-index: 0;}#sk-container-id-5 div.sk-serial {display: flex;flex-direction: column;align-items: center;background-color: white;padding-right: 0.2em;padding-left: 0.2em;position: relative;}#sk-container-id-5 div.sk-item {position: relative;z-index: 1;}#sk-container-id-5 div.sk-parallel {display: flex;align-items: stretch;justify-content: center;background-color: white;position: relative;}#sk-container-id-5 div.sk-item::before, #sk-container-id-5 div.sk-parallel-item::before {content: \"\";position: absolute;border-left: 1px solid gray;box-sizing: border-box;top: 0;bottom: 0;left: 50%;z-index: -1;}#sk-container-id-5 div.sk-parallel-item {display: flex;flex-direction: column;z-index: 1;position: relative;background-color: white;}#sk-container-id-5 div.sk-parallel-item:first-child::after {align-self: flex-end;width: 50%;}#sk-container-id-5 div.sk-parallel-item:last-child::after {align-self: flex-start;width: 50%;}#sk-container-id-5 div.sk-parallel-item:only-child::after {width: 0;}#sk-container-id-5 div.sk-dashed-wrapped {border: 1px dashed gray;margin: 0 0.4em 0.5em 0.4em;box-sizing: border-box;padding-bottom: 0.4em;background-color: white;}#sk-container-id-5 div.sk-label label {font-family: monospace;font-weight: bold;display: inline-block;line-height: 1.2em;}#sk-container-id-5 div.sk-label-container {text-align: center;}#sk-container-id-5 div.sk-container {/* jupyter's `normalize.less` sets `[hidden] { display: none; }` but bootstrap.min.css set `[hidden] { display: none !important; }` so we also need the `!important` here to be able to override the default hidden behavior on the sphinx rendered scikit-learn.org. See: https://github.com/scikit-learn/scikit-learn/issues/21755 */display: inline-block !important;position: relative;}#sk-container-id-5 div.sk-text-repr-fallback {display: none;}</style><div id=\"sk-container-id-5\" class=\"sk-top-container\"><div class=\"sk-text-repr-fallback\"><pre>SelectKBest(score_func=&lt;function mutual_info_regression at 0x7f4c7f4d6f70&gt;)</pre><b>In a Jupyter environment, please rerun this cell to show the HTML representation or trust the notebook. <br />On GitHub, the HTML representation is unable to render, please try loading this page with nbviewer.org.</b></div><div class=\"sk-container\" hidden><div class=\"sk-item\"><div class=\"sk-estimator sk-toggleable\"><input class=\"sk-toggleable__control sk-hidden--visually\" id=\"sk-estimator-id-5\" type=\"checkbox\" checked><label for=\"sk-estimator-id-5\" class=\"sk-toggleable__label sk-toggleable__label-arrow\">SelectKBest</label><div class=\"sk-toggleable__content\"><pre>SelectKBest(score_func=&lt;function mutual_info_regression at 0x7f4c7f4d6f70&gt;)</pre></div></div></div></div></div>"
      ],
      "text/plain": [
       "SelectKBest(score_func=<function mutual_info_regression at 0x7f4c7f4d6f70>)"
      ]
     },
     "execution_count": 403,
     "metadata": {},
     "output_type": "execute_result"
    }
   ],
   "source": [
    "selector = SelectKBest(score_func=mutual_info_regression, k=10)\n",
    "selector.fit(x_train, y_train)"
   ]
  },
  {
   "cell_type": "code",
   "execution_count": 404,
   "id": "9cca5ddb-d93a-4101-be6f-db4eba920915",
   "metadata": {},
   "outputs": [
    {
     "data": {
      "text/plain": [
       "Index(['11656.241', '7953.398', '6904.259', '5781.835', '5770.264', '5654.55',\n",
       "       '5168.552', '4994.981', '4859.981', '4470.411'],\n",
       "      dtype='object')"
      ]
     },
     "execution_count": 404,
     "metadata": {},
     "output_type": "execute_result"
    }
   ],
   "source": [
    "mask = selector.get_support()\n",
    "x_test = pd.DataFrame(x_test)\n",
    "x_train = pd.DataFrame(x_train)\n",
    "x_test.columns = x.columns\n",
    "x_train.columns = x.columns\n",
    "x_test.columns[mask]"
   ]
  },
  {
   "cell_type": "code",
   "execution_count": 405,
   "id": "fd79a956-77d1-4ec1-9609-d14af3936b4f",
   "metadata": {},
   "outputs": [
    {
     "data": {
      "text/plain": [
       "<AxesSubplot:>"
      ]
     },
     "execution_count": 405,
     "metadata": {},
     "output_type": "execute_result"
    },
    {
     "data": {
      "image/png": "[encoded data removed]",
      "text/plain": [
       "<Figure size 432x288 with 1 Axes>"
      ]
     },
     "metadata": {
      "needs_background": "light"
     },
     "output_type": "display_data"
    }
   ],
   "source": [
    "pd.Series(selector.scores_[mask], index=x_train.columns[mask]).sort_values().plot.barh()"
   ]
  },
  {
   "cell_type": "code",
   "execution_count": 466,
   "id": "e628eda9-b8a2-4c97-8b01-c1aa4d24247f",
   "metadata": {},
   "outputs": [],
   "source": [
    "from sklearn.feature_selection import SelectKBest\n",
    "from sklearn.feature_selection import mutual_info_regression\n",
    "\n",
    "# configure to select a subset of features\n",
    "fs = SelectKBest(score_func=mutual_info_regression, k=1100)\n",
    "# learn relationship from training data\n",
    "fs.fit(x_train, y_train)\n",
    "# transform train input data\n",
    "x_train = fs.transform(x_train)\n",
    "# transform test input data\n",
    "x_test = fs.transform(x_test)"
   ]
  },
  {
   "cell_type": "markdown",
   "id": "48f2539e-1169-4584-b126-988277270b38",
   "metadata": {
    "tags": []
   },
   "source": [
    "## MODEL SELECTION"
   ]
  },
  {
   "cell_type": "markdown",
   "id": "b9d40552-12ba-4c71-a4f8-af486dc5e248",
   "metadata": {
    "tags": []
   },
   "source": [
    "### Hold Out"
   ]
  },
  {
   "cell_type": "code",
   "execution_count": 467,
   "id": "71c09b0e-1d65-42e3-ac68-54388b76a57e",
   "metadata": {},
   "outputs": [
    {
     "name": "stdout",
     "output_type": "stream",
     "text": [
      "[0.15480401 0.09601003 0.04836576 0.03636339 0.03547426 0.02863683\n",
      " 0.02593904 0.02434476 0.02072696 0.01815239 0.01384731 0.01123141\n",
      " 0.01017296 0.00942986 0.00922715]\n"
     ]
    },
    {
     "data": {
      "text/html": [
       "<div>\n",
       "<style scoped>\n",
       "    .dataframe tbody tr th:only-of-type {\n",
       "        vertical-align: middle;\n",
       "    }\n",
       "\n",
       "    .dataframe tbody tr th {\n",
       "        vertical-align: top;\n",
       "    }\n",
       "\n",
       "    .dataframe thead th {\n",
       "        text-align: right;\n",
       "    }\n",
       "</style>\n",
       "<table border=\"1\" class=\"dataframe\">\n",
       "  <thead>\n",
       "    <tr style=\"text-align: right;\">\n",
       "      <th></th>\n",
       "      <th>R2</th>\n",
       "      <th>MAE</th>\n",
       "      <th>RMSE</th>\n",
       "      <th>RPD</th>\n",
       "    </tr>\n",
       "  </thead>\n",
       "  <tbody>\n",
       "    <tr>\n",
       "      <th>Teste</th>\n",
       "      <td>0.20666</td>\n",
       "      <td>1.461252</td>\n",
       "      <td>1.795749</td>\n",
       "      <td>1.129712</td>\n",
       "    </tr>\n",
       "  </tbody>\n",
       "</table>\n",
       "</div>"
      ],
      "text/plain": [
       "            R2       MAE      RMSE       RPD\n",
       "Teste  0.20666  1.461252  1.795749  1.129712"
      ]
     },
     "execution_count": 467,
     "metadata": {},
     "output_type": "execute_result"
    }
   ],
   "source": [
    "from sklearn.model_selection import train_test_split\n",
    "from sklearn.pipeline import make_pipeline\n",
    "from sklearn.linear_model import LinearRegression\n",
    "from sklearn.preprocessing import StandardScaler\n",
    "from sklearn.decomposition import PCA\n",
    "from sklearn.cross_decomposition import PLSRegression\n",
    "\n",
    "\n",
    "pcr = make_pipeline( PCA(n_components=15), LinearRegression())\n",
    "pcr.fit(x_train, y_train)\n",
    "pca = pcr.named_steps[\"pca\"] \n",
    "print(pca.explained_variance_ratio_)\n",
    "\n",
    "pls = PLSRegression(n_components=10)\n",
    "pls.fit(x_train, y_train)\n",
    "\n",
    "\n",
    "preds = pcr.predict(x_test)\n",
    "cmls.evalute_model(y_test, preds)"
   ]
  },
  {
   "cell_type": "code",
   "execution_count": 468,
   "id": "748ccd0a-75de-41c5-9e90-0c9f95dd495b",
   "metadata": {},
   "outputs": [
    {
     "data": {
      "text/html": [
       "<div>\n",
       "<style scoped>\n",
       "    .dataframe tbody tr th:only-of-type {\n",
       "        vertical-align: middle;\n",
       "    }\n",
       "\n",
       "    .dataframe tbody tr th {\n",
       "        vertical-align: top;\n",
       "    }\n",
       "\n",
       "    .dataframe thead th {\n",
       "        text-align: right;\n",
       "    }\n",
       "</style>\n",
       "<table border=\"1\" class=\"dataframe\">\n",
       "  <thead>\n",
       "    <tr style=\"text-align: right;\">\n",
       "      <th></th>\n",
       "      <th>R2</th>\n",
       "      <th>MAE</th>\n",
       "      <th>RMSE</th>\n",
       "      <th>RPD</th>\n",
       "    </tr>\n",
       "  </thead>\n",
       "  <tbody>\n",
       "    <tr>\n",
       "      <th>Teste</th>\n",
       "      <td>0.215922</td>\n",
       "      <td>1.435173</td>\n",
       "      <td>1.785235</td>\n",
       "      <td>1.136365</td>\n",
       "    </tr>\n",
       "  </tbody>\n",
       "</table>\n",
       "</div>"
      ],
      "text/plain": [
       "             R2       MAE      RMSE       RPD\n",
       "Teste  0.215922  1.435173  1.785235  1.136365"
      ]
     },
     "execution_count": 468,
     "metadata": {},
     "output_type": "execute_result"
    }
   ],
   "source": [
    "from sklearn.svm import SVR\n",
    "svr_model = SVR()\n",
    "preds = svr_model.fit(x_train, y_train).predict(x_test)\n",
    "cmls.evalute_model(y_test, preds)"
   ]
  },
  {
   "cell_type": "code",
   "execution_count": 469,
   "id": "ea768959-a7be-4f14-a5e5-d09391ec0365",
   "metadata": {},
   "outputs": [
    {
     "data": {
      "text/html": [
       "<div>\n",
       "<style scoped>\n",
       "    .dataframe tbody tr th:only-of-type {\n",
       "        vertical-align: middle;\n",
       "    }\n",
       "\n",
       "    .dataframe tbody tr th {\n",
       "        vertical-align: top;\n",
       "    }\n",
       "\n",
       "    .dataframe thead th {\n",
       "        text-align: right;\n",
       "    }\n",
       "</style>\n",
       "<table border=\"1\" class=\"dataframe\">\n",
       "  <thead>\n",
       "    <tr style=\"text-align: right;\">\n",
       "      <th></th>\n",
       "      <th>R2</th>\n",
       "      <th>MAE</th>\n",
       "      <th>RMSE</th>\n",
       "      <th>RPD</th>\n",
       "    </tr>\n",
       "  </thead>\n",
       "  <tbody>\n",
       "    <tr>\n",
       "      <th>Teste</th>\n",
       "      <td>0.036966</td>\n",
       "      <td>1.633335</td>\n",
       "      <td>1.978504</td>\n",
       "      <td>1.025361</td>\n",
       "    </tr>\n",
       "  </tbody>\n",
       "</table>\n",
       "</div>"
      ],
      "text/plain": [
       "             R2       MAE      RMSE       RPD\n",
       "Teste  0.036966  1.633335  1.978504  1.025361"
      ]
     },
     "execution_count": 469,
     "metadata": {},
     "output_type": "execute_result"
    }
   ],
   "source": [
    "from sklearn.neighbors import KNeighborsRegressor\n",
    "knnr_model = KNeighborsRegressor(n_neighbors=3, n_jobs=-1, weights='distance', p=1)\n",
    "knnr_model = make_pipeline( PCA(n_components=70, random_state=0), knnr_model)\n",
    "\n",
    "preds = knnr_model.fit(x_train, y_train).predict(x_test)\n",
    "cmls.evalute_model(y_test, preds)"
   ]
  },
  {
   "cell_type": "code",
   "execution_count": 470,
   "id": "a973c409-6acb-4391-9592-13448171642d",
   "metadata": {
    "tags": []
   },
   "outputs": [
    {
     "data": {
      "text/html": [
       "<div>\n",
       "<style scoped>\n",
       "    .dataframe tbody tr th:only-of-type {\n",
       "        vertical-align: middle;\n",
       "    }\n",
       "\n",
       "    .dataframe tbody tr th {\n",
       "        vertical-align: top;\n",
       "    }\n",
       "\n",
       "    .dataframe thead th {\n",
       "        text-align: right;\n",
       "    }\n",
       "</style>\n",
       "<table border=\"1\" class=\"dataframe\">\n",
       "  <thead>\n",
       "    <tr style=\"text-align: right;\">\n",
       "      <th></th>\n",
       "      <th>R2</th>\n",
       "      <th>MAE</th>\n",
       "      <th>RMSE</th>\n",
       "    </tr>\n",
       "  </thead>\n",
       "  <tbody>\n",
       "    <tr>\n",
       "      <th>Teste</th>\n",
       "      <td>0.158232</td>\n",
       "      <td>1.483135</td>\n",
       "      <td>1.849746</td>\n",
       "    </tr>\n",
       "    <tr>\n",
       "      <th>Treino</th>\n",
       "      <td>0.999964</td>\n",
       "      <td>0.010095</td>\n",
       "      <td>0.012016</td>\n",
       "    </tr>\n",
       "  </tbody>\n",
       "</table>\n",
       "</div>"
      ],
      "text/plain": [
       "              R2       MAE      RMSE\n",
       "Teste   0.158232  1.483135  1.849746\n",
       "Treino  0.999964  0.010095  0.012016"
      ]
     },
     "execution_count": 470,
     "metadata": {},
     "output_type": "execute_result"
    }
   ],
   "source": [
    "from sklearn.ensemble import GradientBoostingRegressor\n",
    "gbr_model = GradientBoostingRegressor(random_state=1, max_depth=4)\n",
    "preds = gbr_model.fit(x_train, y_train).predict(x_test)\n",
    "train_preds = gbr_model.predict(x_train)\n",
    "cmls.evalute_model(y_test, preds, y_train, train_preds)"
   ]
  },
  {
   "cell_type": "code",
   "execution_count": 471,
   "id": "b79c6e93-4278-4f47-b749-918a2f0553b7",
   "metadata": {},
   "outputs": [
    {
     "data": {
      "text/html": [
       "<div>\n",
       "<style scoped>\n",
       "    .dataframe tbody tr th:only-of-type {\n",
       "        vertical-align: middle;\n",
       "    }\n",
       "\n",
       "    .dataframe tbody tr th {\n",
       "        vertical-align: top;\n",
       "    }\n",
       "\n",
       "    .dataframe thead th {\n",
       "        text-align: right;\n",
       "    }\n",
       "</style>\n",
       "<table border=\"1\" class=\"dataframe\">\n",
       "  <thead>\n",
       "    <tr style=\"text-align: right;\">\n",
       "      <th></th>\n",
       "      <th>R2</th>\n",
       "      <th>MAE</th>\n",
       "      <th>RMSE</th>\n",
       "      <th>RPD</th>\n",
       "    </tr>\n",
       "  </thead>\n",
       "  <tbody>\n",
       "    <tr>\n",
       "      <th>Teste</th>\n",
       "      <td>0.21414</td>\n",
       "      <td>1.460534</td>\n",
       "      <td>1.787263</td>\n",
       "      <td>1.135076</td>\n",
       "    </tr>\n",
       "  </tbody>\n",
       "</table>\n",
       "</div>"
      ],
      "text/plain": [
       "            R2       MAE      RMSE       RPD\n",
       "Teste  0.21414  1.460534  1.787263  1.135076"
      ]
     },
     "execution_count": 471,
     "metadata": {},
     "output_type": "execute_result"
    }
   ],
   "source": [
    "from sklearn import linear_model\n",
    "reg = linear_model.BayesianRidge()\n",
    "reg.fit(x_train, y_train)\n",
    "preds = reg.predict(x_test)\n",
    "cmls.evalute_model(y_test, preds)"
   ]
  },
  {
   "cell_type": "code",
   "execution_count": 472,
   "id": "d37638a2-8988-4634-9a68-fb2501d72b6d",
   "metadata": {},
   "outputs": [
    {
     "data": {
      "text/html": [
       "<div>\n",
       "<style scoped>\n",
       "    .dataframe tbody tr th:only-of-type {\n",
       "        vertical-align: middle;\n",
       "    }\n",
       "\n",
       "    .dataframe tbody tr th {\n",
       "        vertical-align: top;\n",
       "    }\n",
       "\n",
       "    .dataframe thead th {\n",
       "        text-align: right;\n",
       "    }\n",
       "</style>\n",
       "<table border=\"1\" class=\"dataframe\">\n",
       "  <thead>\n",
       "    <tr style=\"text-align: right;\">\n",
       "      <th></th>\n",
       "      <th>R2</th>\n",
       "      <th>MAE</th>\n",
       "      <th>RMSE</th>\n",
       "      <th>RPD</th>\n",
       "    </tr>\n",
       "  </thead>\n",
       "  <tbody>\n",
       "    <tr>\n",
       "      <th>Teste</th>\n",
       "      <td>0.229711</td>\n",
       "      <td>1.397991</td>\n",
       "      <td>1.769468</td>\n",
       "      <td>1.146491</td>\n",
       "    </tr>\n",
       "  </tbody>\n",
       "</table>\n",
       "</div>"
      ],
      "text/plain": [
       "             R2       MAE      RMSE       RPD\n",
       "Teste  0.229711  1.397991  1.769468  1.146491"
      ]
     },
     "execution_count": 472,
     "metadata": {},
     "output_type": "execute_result"
    }
   ],
   "source": [
    "from sklearn.ensemble import RandomForestRegressor\n",
    "\n",
    "rf = RandomForestRegressor(n_estimators=300, criterion='poisson', random_state=0, n_jobs=-1)\n",
    "\n",
    "preds = rf.fit(x_train,y_train).predict(x_test)\n",
    "cmls.evalute_model(y_test, preds)"
   ]
  },
  {
   "cell_type": "code",
   "execution_count": 473,
   "id": "536ebaf9-fb30-476a-baf7-0c9a916484ad",
   "metadata": {},
   "outputs": [
    {
     "data": {
      "text/html": [
       "<div>\n",
       "<style scoped>\n",
       "    .dataframe tbody tr th:only-of-type {\n",
       "        vertical-align: middle;\n",
       "    }\n",
       "\n",
       "    .dataframe tbody tr th {\n",
       "        vertical-align: top;\n",
       "    }\n",
       "\n",
       "    .dataframe thead th {\n",
       "        text-align: right;\n",
       "    }\n",
       "</style>\n",
       "<table border=\"1\" class=\"dataframe\">\n",
       "  <thead>\n",
       "    <tr style=\"text-align: right;\">\n",
       "      <th></th>\n",
       "      <th>R2</th>\n",
       "      <th>MAE</th>\n",
       "      <th>RMSE</th>\n",
       "      <th>RPD</th>\n",
       "    </tr>\n",
       "  </thead>\n",
       "  <tbody>\n",
       "    <tr>\n",
       "      <th>Teste</th>\n",
       "      <td>0.275036</td>\n",
       "      <td>1.393985</td>\n",
       "      <td>1.716621</td>\n",
       "      <td>1.181787</td>\n",
       "    </tr>\n",
       "  </tbody>\n",
       "</table>\n",
       "</div>"
      ],
      "text/plain": [
       "             R2       MAE      RMSE       RPD\n",
       "Teste  0.275036  1.393985  1.716621  1.181787"
      ]
     },
     "execution_count": 473,
     "metadata": {},
     "output_type": "execute_result"
    }
   ],
   "source": [
    "from xgboost import XGBRegressor\n",
    "xgb = XGBRegressor(max_depth=4, random_state=0)\n",
    "preds = xgb.fit(x_train, y_train).predict(x_test)\n",
    "cmls.evalute_model(y_test, preds)"
   ]
  },
  {
   "cell_type": "code",
   "execution_count": 474,
   "id": "260f8cb1-4c81-4a0e-b831-596693378190",
   "metadata": {},
   "outputs": [
    {
     "data": {
      "text/html": [
       "<div>\n",
       "<style scoped>\n",
       "    .dataframe tbody tr th:only-of-type {\n",
       "        vertical-align: middle;\n",
       "    }\n",
       "\n",
       "    .dataframe tbody tr th {\n",
       "        vertical-align: top;\n",
       "    }\n",
       "\n",
       "    .dataframe thead th {\n",
       "        text-align: right;\n",
       "    }\n",
       "</style>\n",
       "<table border=\"1\" class=\"dataframe\">\n",
       "  <thead>\n",
       "    <tr style=\"text-align: right;\">\n",
       "      <th></th>\n",
       "      <th>R2</th>\n",
       "      <th>MAE</th>\n",
       "      <th>RMSE</th>\n",
       "      <th>RPD</th>\n",
       "    </tr>\n",
       "  </thead>\n",
       "  <tbody>\n",
       "    <tr>\n",
       "      <th>Teste</th>\n",
       "      <td>-0.282026</td>\n",
       "      <td>1.881912</td>\n",
       "      <td>2.282782</td>\n",
       "      <td>0.888687</td>\n",
       "    </tr>\n",
       "  </tbody>\n",
       "</table>\n",
       "</div>"
      ],
      "text/plain": [
       "             R2       MAE      RMSE       RPD\n",
       "Teste -0.282026  1.881912  2.282782  0.888687"
      ]
     },
     "execution_count": 474,
     "metadata": {},
     "output_type": "execute_result"
    }
   ],
   "source": [
    "from sklearn.neural_network import MLPRegressor\n",
    "\n",
    "mlp = MLPRegressor(random_state=0, max_iter=500, hidden_layer_sizes=(50, 50, 50))\n",
    "preds = mlp.fit(x_train, y_train).predict(x_test)\n",
    "cmls.evalute_model(y_test, preds)"
   ]
  },
  {
   "cell_type": "code",
   "execution_count": 475,
   "id": "786982a4-e777-4f51-b7de-2e46880cc9ff",
   "metadata": {},
   "outputs": [
    {
     "data": {
      "text/html": [
       "<div>\n",
       "<style scoped>\n",
       "    .dataframe tbody tr th:only-of-type {\n",
       "        vertical-align: middle;\n",
       "    }\n",
       "\n",
       "    .dataframe tbody tr th {\n",
       "        vertical-align: top;\n",
       "    }\n",
       "\n",
       "    .dataframe thead th {\n",
       "        text-align: right;\n",
       "    }\n",
       "</style>\n",
       "<table border=\"1\" class=\"dataframe\">\n",
       "  <thead>\n",
       "    <tr style=\"text-align: right;\">\n",
       "      <th></th>\n",
       "      <th>R2</th>\n",
       "      <th>MAE</th>\n",
       "      <th>RMSE</th>\n",
       "      <th>RPD</th>\n",
       "    </tr>\n",
       "  </thead>\n",
       "  <tbody>\n",
       "    <tr>\n",
       "      <th>Teste</th>\n",
       "      <td>0.082837</td>\n",
       "      <td>1.571616</td>\n",
       "      <td>1.930808</td>\n",
       "      <td>1.050689</td>\n",
       "    </tr>\n",
       "  </tbody>\n",
       "</table>\n",
       "</div>"
      ],
      "text/plain": [
       "             R2       MAE      RMSE       RPD\n",
       "Teste  0.082837  1.571616  1.930808  1.050689"
      ]
     },
     "execution_count": 475,
     "metadata": {},
     "output_type": "execute_result"
    }
   ],
   "source": [
    "from sklearn.ensemble import BaggingRegressor\n",
    "\n",
    "rse = BaggingRegressor(bootstrap=False, base_estimator=KNeighborsRegressor(n_neighbors=3), max_features=128, n_jobs=-1, n_estimators=4, random_state=0)\n",
    "preds = rse.fit(x_train, y_train).predict(x_test)\n",
    "cmls.evalute_model(y_test, preds)"
   ]
  },
  {
   "cell_type": "code",
   "execution_count": 417,
   "id": "fe438ffb-95ad-4544-89b6-2c3bc2e48e12",
   "metadata": {},
   "outputs": [
    {
     "data": {
      "image/png": "[encoded data removed]",
      "text/plain": [
       "<Figure size 432x288 with 1 Axes>"
      ]
     },
     "metadata": {
      "needs_background": "light"
     },
     "output_type": "display_data"
    }
   ],
   "source": [
    "cmls.plot_real_vs_predict(y_test, preds)"
   ]
  },
  {
   "cell_type": "markdown",
   "id": "cdb4f7bd-9d3e-4734-8c52-dda6c92edd2e",
   "metadata": {
    "tags": []
   },
   "source": [
    "### Cross Validation"
   ]
  },
  {
   "cell_type": "code",
   "execution_count": 325,
   "id": "ec084c85-b635-4af4-a13a-c20bfb1407ba",
   "metadata": {},
   "outputs": [],
   "source": [
    "from sklearn.pipeline import Pipeline\n",
    "from sklearn.model_selection import cross_val_score\n",
    "from sklearn.preprocessing import MinMaxScaler"
   ]
  },
  {
   "cell_type": "code",
   "execution_count": 322,
   "id": "623b7929-4222-47c5-9110-b6fb9a127983",
   "metadata": {},
   "outputs": [
    {
     "name": "stdout",
     "output_type": "stream",
     "text": [
      "Scores: [-0.7949506  -0.0633124  -0.02547018 -0.0343379  -0.08904321]\n",
      "Mean: -0.20142285698331658\n",
      "Standard deviation: 0.2976090022191415\n"
     ]
    }
   ],
   "source": [
    "svr_model = SVR(kernel='linear', degree=1, gamma='auto', coef0=3.0, tol=0.01, C = 0.1)\n",
    "\n",
    "svr_scores = cross_val_score(svr_model, x, y, scoring=\"r2\", cv=5)\n",
    "\n",
    "cmls.display_scores(svr_scores)"
   ]
  },
  {
   "cell_type": "code",
   "execution_count": 335,
   "id": "67849fea-b293-4026-9c46-fcdcbddd0078",
   "metadata": {},
   "outputs": [
    {
     "name": "stdout",
     "output_type": "stream",
     "text": [
      "Scores: [-0.34779937 -0.1697427   0.21434801  0.01539939  0.01587354]\n",
      "Mean: -0.054384224739319406\n",
      "Standard deviation: 0.19048514265501942\n"
     ]
    }
   ],
   "source": [
    "pipe = Pipeline(steps=[('scaler', MinMaxScaler()), ('model', knnr_model)])\n",
    "\n",
    "knnr_scores = cross_val_score(pipe, x, y, scoring=\"r2\", cv=5)\n",
    "\n",
    "cmls.display_scores(knnr_scores)"
   ]
  },
  {
   "cell_type": "code",
   "execution_count": 336,
   "id": "17d9b754-df60-4a02-9b59-032a00b3ac46",
   "metadata": {},
   "outputs": [
    {
     "name": "stdout",
     "output_type": "stream",
     "text": [
      "Scores: [-0.11613335 -0.37651078  0.1658542   0.04737954  0.09561629]\n",
      "Mean: -0.03675881896199233\n",
      "Standard deviation: 0.19359038099013834\n"
     ]
    }
   ],
   "source": [
    "pipe = Pipeline(steps=[('scaler', MinMaxScaler()), ('model', gbr_model)])\n",
    "\n",
    "gbr_scores = cross_val_score(pipe, x, y, scoring=\"r2\", cv=5)\n",
    "\n",
    "cmls.display_scores(gbr_scores)"
   ]
  },
  {
   "cell_type": "code",
   "execution_count": 339,
   "id": "4550199a-6d5c-4198-ad47-5874f528696e",
   "metadata": {},
   "outputs": [
    {
     "name": "stdout",
     "output_type": "stream",
     "text": [
      "Scores: [-0.05881131 -0.30103195  0.18314897  0.02388882  0.0681892 ]\n",
      "Mean: -0.01692325330660187\n",
      "Standard deviation: 0.16211786406758846\n"
     ]
    }
   ],
   "source": [
    "pipe = Pipeline(steps=[('scaler', MinMaxScaler()), ('model', reg)])\n",
    "\n",
    "BayesianRidge_scores = cross_val_score(pipe, x, y, scoring=\"r2\", cv=5)\n",
    "\n",
    "cmls.display_scores(BayesianRidge_scores)"
   ]
  },
  {
   "cell_type": "code",
   "execution_count": 341,
   "id": "bb0cc655-92c0-41f7-9c28-2aeeb4cc06e6",
   "metadata": {},
   "outputs": [
    {
     "name": "stdout",
     "output_type": "stream",
     "text": [
      "Scores: [-0.31300061 -0.13956506  0.18657509  0.08994748  0.27027265]\n",
      "Mean: 0.018845909168417375\n",
      "Standard deviation: 0.21523014088025608\n"
     ]
    }
   ],
   "source": [
    "pipe = Pipeline(steps=[('scaler', MinMaxScaler()), ('model', rf)])\n",
    "\n",
    "rf_scores = cross_val_score(pipe, x, y, scoring=\"r2\", cv=5)\n",
    "\n",
    "cmls.display_scores(rf_scores)"
   ]
  },
  {
   "cell_type": "code",
   "execution_count": 344,
   "id": "e60bb2e6-af5f-4014-83da-70112157a291",
   "metadata": {},
   "outputs": [
    {
     "name": "stdout",
     "output_type": "stream",
     "text": [
      "Scores: [-0.02546426 -0.12337152  0.19602702  0.03930573 -0.14938759]\n",
      "Mean: -0.012578122787417257\n",
      "Standard deviation: 0.12439139770313397\n"
     ]
    }
   ],
   "source": [
    "pipe = Pipeline(steps=[('scaler', MinMaxScaler()), ('model', mlp)])\n",
    "mlp_scores = cross_val_score(pipe, x, y, scoring=\"r2\", cv=5)\n",
    "\n",
    "cmls.display_scores(mlp_scores)"
   ]
  },
  {
   "cell_type": "code",
   "execution_count": 348,
   "id": "eae79d1e-5402-41e3-bb59-d886aed6c354",
   "metadata": {},
   "outputs": [
    {
     "name": "stdout",
     "output_type": "stream",
     "text": [
      "Scores: [-0.29722159 -0.02889517  0.20651637 -0.03214373  0.04514985]\n",
      "Mean: -0.021318853238386115\n",
      "Standard deviation: 0.16286428617791468\n"
     ]
    }
   ],
   "source": [
    "pipe = Pipeline(steps=[('scaler', MinMaxScaler()), ('model', rse)])\n",
    "rse_scores = cross_val_score(pipe, x, y, scoring=\"r2\", cv=5)\n",
    "\n",
    "cmls.display_scores(rse_scores)"
   ]
  },
  {
   "cell_type": "markdown",
   "id": "64fbb103-7b9d-448e-a54c-ab4f54243aa3",
   "metadata": {
    "tags": []
   },
   "source": [
    "## Few Features Test"
   ]
  },
  {
   "cell_type": "code",
   "execution_count": 102,
   "id": "63d0c4e9-1a9e-4f70-89f9-82ae737364f3",
   "metadata": {},
   "outputs": [],
   "source": [
    "corrs_td_pb = df.corr(method='pearson').loc[:, 'Cons'].sort_values(ascending=False)"
   ]
  },
  {
   "cell_type": "code",
   "execution_count": 103,
   "id": "d2cb6072-c976-4167-9bc6-636ccf786d45",
   "metadata": {},
   "outputs": [
    {
     "data": {
      "text/plain": [
       "TD PB                1.000000\n",
       "Consumo PB kg/dia    0.809197\n",
       "CD PB                0.753460\n",
       "3745.271             0.392619\n",
       "Consumo MS kg/dia    0.373019\n",
       "Consumo MO kg/dia    0.356430\n",
       "CD MS                0.338232\n",
       "3741.414             0.332617\n",
       "Consumo EE kg/dia    0.315860\n",
       "3629.557             0.315445\n",
       "CD MO                0.314014\n",
       "5091.409             0.310276\n",
       "5095.266             0.310225\n",
       "5087.552             0.310009\n",
       "5075.98              0.309885\n",
       "5072.123             0.309837\n",
       "5079.838             0.309829\n",
       "5083.695             0.309814\n",
       "5068.266             0.309725\n",
       "5099.123             0.309700\n",
       "Name: TD PB, dtype: float64"
      ]
     },
     "execution_count": 103,
     "metadata": {},
     "output_type": "execute_result"
    }
   ],
   "source": [
    "corrs_td_pb[:20]"
   ]
  },
  {
   "cell_type": "code",
   "execution_count": 111,
   "id": "eaddbbc5-ce2e-4a7a-b472-243595ca0629",
   "metadata": {},
   "outputs": [],
   "source": [
    "from sklearn.feature_selection import SelectKBest, f_regression\n",
    "from sklearn.ensemble import RandomForestClassifier\n",
    "from sklearn.svm import SVR\n",
    "from sklearn.metrics import r2_score\n",
    "\n",
    "k_vs_score = []\n",
    "\n",
    "for k in range(3,1000,1):\n",
    "    selector = SelectKBest(score_func=f_regression, k=k)\n",
    "\n",
    "    X_train2 = selector.fit_transform(x_train, y_train)\n",
    "    X_test2 = selector.transform(x_test)\n",
    "\n",
    "\n",
    "    svr_model = SVR()\n",
    "    svr_model.fit(X_train2, y_train)\n",
    "\n",
    "    preds = svr_model.predict(X_test2)\n",
    "\n",
    "    score = r2_score(y_test, preds)\n",
    "    # print(\"k = {} - R2 = {}\".format(k, score))\n",
    "\n",
    "    k_vs_score.append(score)"
   ]
  },
  {
   "cell_type": "code",
   "execution_count": 112,
   "id": "0a7f7fa0-4755-4a1c-bff5-b9a5d3647047",
   "metadata": {},
   "outputs": [
    {
     "data": {
      "text/plain": [
       "<AxesSubplot:>"
      ]
     },
     "execution_count": 112,
     "metadata": {},
     "output_type": "execute_result"
    },
    {
     "data": {
      "image/png": "[encoded data removed]",
      "text/plain": [
       "<Figure size 720x504 with 1 Axes>"
      ]
     },
     "metadata": {
      "needs_background": "light"
     },
     "output_type": "display_data"
    }
   ],
   "source": [
    "pd.Series(k_vs_score, index=range(3,1000,1)).plot(figsize=(10,7))"
   ]
  },
  {
   "cell_type": "code",
   "execution_count": 106,
   "id": "8a5155e6-9cd9-433d-bea9-f82da1f95d3b",
   "metadata": {},
   "outputs": [
    {
     "data": {
      "text/html": [
       "<style>#sk-container-id-1 {color: black;background-color: white;}#sk-container-id-1 pre{padding: 0;}#sk-container-id-1 div.sk-toggleable {background-color: white;}#sk-container-id-1 label.sk-toggleable__label {cursor: pointer;display: block;width: 100%;margin-bottom: 0;padding: 0.3em;box-sizing: border-box;text-align: center;}#sk-container-id-1 label.sk-toggleable__label-arrow:before {content: \"▸\";float: left;margin-right: 0.25em;color: #696969;}#sk-container-id-1 label.sk-toggleable__label-arrow:hover:before {color: black;}#sk-container-id-1 div.sk-estimator:hover label.sk-toggleable__label-arrow:before {color: black;}#sk-container-id-1 div.sk-toggleable__content {max-height: 0;max-width: 0;overflow: hidden;text-align: left;background-color: #f0f8ff;}#sk-container-id-1 div.sk-toggleable__content pre {margin: 0.2em;color: black;border-radius: 0.25em;background-color: #f0f8ff;}#sk-container-id-1 input.sk-toggleable__control:checked~div.sk-toggleable__content {max-height: 200px;max-width: 100%;overflow: auto;}#sk-container-id-1 input.sk-toggleable__control:checked~label.sk-toggleable__label-arrow:before {content: \"▾\";}#sk-container-id-1 div.sk-estimator input.sk-toggleable__control:checked~label.sk-toggleable__label {background-color: #d4ebff;}#sk-container-id-1 div.sk-label input.sk-toggleable__control:checked~label.sk-toggleable__label {background-color: #d4ebff;}#sk-container-id-1 input.sk-hidden--visually {border: 0;clip: rect(1px 1px 1px 1px);clip: rect(1px, 1px, 1px, 1px);height: 1px;margin: -1px;overflow: hidden;padding: 0;position: absolute;width: 1px;}#sk-container-id-1 div.sk-estimator {font-family: monospace;background-color: #f0f8ff;border: 1px dotted black;border-radius: 0.25em;box-sizing: border-box;margin-bottom: 0.5em;}#sk-container-id-1 div.sk-estimator:hover {background-color: #d4ebff;}#sk-container-id-1 div.sk-parallel-item::after {content: \"\";width: 100%;border-bottom: 1px solid gray;flex-grow: 1;}#sk-container-id-1 div.sk-label:hover label.sk-toggleable__label {background-color: #d4ebff;}#sk-container-id-1 div.sk-serial::before {content: \"\";position: absolute;border-left: 1px solid gray;box-sizing: border-box;top: 0;bottom: 0;left: 50%;z-index: 0;}#sk-container-id-1 div.sk-serial {display: flex;flex-direction: column;align-items: center;background-color: white;padding-right: 0.2em;padding-left: 0.2em;position: relative;}#sk-container-id-1 div.sk-item {position: relative;z-index: 1;}#sk-container-id-1 div.sk-parallel {display: flex;align-items: stretch;justify-content: center;background-color: white;position: relative;}#sk-container-id-1 div.sk-item::before, #sk-container-id-1 div.sk-parallel-item::before {content: \"\";position: absolute;border-left: 1px solid gray;box-sizing: border-box;top: 0;bottom: 0;left: 50%;z-index: -1;}#sk-container-id-1 div.sk-parallel-item {display: flex;flex-direction: column;z-index: 1;position: relative;background-color: white;}#sk-container-id-1 div.sk-parallel-item:first-child::after {align-self: flex-end;width: 50%;}#sk-container-id-1 div.sk-parallel-item:last-child::after {align-self: flex-start;width: 50%;}#sk-container-id-1 div.sk-parallel-item:only-child::after {width: 0;}#sk-container-id-1 div.sk-dashed-wrapped {border: 1px dashed gray;margin: 0 0.4em 0.5em 0.4em;box-sizing: border-box;padding-bottom: 0.4em;background-color: white;}#sk-container-id-1 div.sk-label label {font-family: monospace;font-weight: bold;display: inline-block;line-height: 1.2em;}#sk-container-id-1 div.sk-label-container {text-align: center;}#sk-container-id-1 div.sk-container {/* jupyter's `normalize.less` sets `[hidden] { display: none; }` but bootstrap.min.css set `[hidden] { display: none !important; }` so we also need the `!important` here to be able to override the default hidden behavior on the sphinx rendered scikit-learn.org. See: https://github.com/scikit-learn/scikit-learn/issues/21755 */display: inline-block !important;position: relative;}#sk-container-id-1 div.sk-text-repr-fallback {display: none;}</style><div id=\"sk-container-id-1\" class=\"sk-top-container\"><div class=\"sk-text-repr-fallback\"><pre>SelectKBest(score_func=&lt;function f_regression at 0x7fb4602c9dc0&gt;)</pre><b>In a Jupyter environment, please rerun this cell to show the HTML representation or trust the notebook. <br />On GitHub, the HTML representation is unable to render, please try loading this page with nbviewer.org.</b></div><div class=\"sk-container\" hidden><div class=\"sk-item\"><div class=\"sk-estimator sk-toggleable\"><input class=\"sk-toggleable__control sk-hidden--visually\" id=\"sk-estimator-id-1\" type=\"checkbox\" checked><label for=\"sk-estimator-id-1\" class=\"sk-toggleable__label sk-toggleable__label-arrow\">SelectKBest</label><div class=\"sk-toggleable__content\"><pre>SelectKBest(score_func=&lt;function f_regression at 0x7fb4602c9dc0&gt;)</pre></div></div></div></div></div>"
      ],
      "text/plain": [
       "SelectKBest(score_func=<function f_regression at 0x7fb4602c9dc0>)"
      ]
     },
     "execution_count": 106,
     "metadata": {},
     "output_type": "execute_result"
    }
   ],
   "source": [
    "selector = SelectKBest(score_func=f_regression, k=10)\n",
    "selector.fit(x_train, y_train)"
   ]
  },
  {
   "cell_type": "code",
   "execution_count": 107,
   "id": "64c77778-c927-4b3c-b4d3-e9a33765e942",
   "metadata": {},
   "outputs": [
    {
     "ename": "AttributeError",
     "evalue": "'numpy.ndarray' object has no attribute 'columns'",
     "output_type": "error",
     "traceback": [
      "\u001b[0;31m---------------------------------------------------------------------------\u001b[0m",
      "\u001b[0;31mAttributeError\u001b[0m                            Traceback (most recent call last)",
      "Input \u001b[0;32mIn [107]\u001b[0m, in \u001b[0;36m<cell line: 2>\u001b[0;34m()\u001b[0m\n\u001b[1;32m      1\u001b[0m mask \u001b[38;5;241m=\u001b[39m selector\u001b[38;5;241m.\u001b[39mget_support()\n\u001b[0;32m----> 2\u001b[0m \u001b[43mx_test\u001b[49m\u001b[38;5;241;43m.\u001b[39;49m\u001b[43mcolumns\u001b[49m[mask]\n",
      "\u001b[0;31mAttributeError\u001b[0m: 'numpy.ndarray' object has no attribute 'columns'"
     ]
    }
   ],
   "source": [
    "mask = selector.get_support()\n",
    "x_test.columns[mask]\n",
    "# Features mais relevantes"
   ]
  },
  {
   "cell_type": "code",
   "execution_count": null,
   "id": "a9b3cc57-35a7-46be-8178-2ab9992dc891",
   "metadata": {},
   "outputs": [],
   "source": [
    "pd.Series(selector.scores_[mask], index=x_train.columns[mask]).sort_values().plot.barh()"
   ]
  },
  {
   "cell_type": "code",
   "execution_count": null,
   "id": "c190ba82-d977-46d8-ae25-a1e5e47e3c90",
   "metadata": {},
   "outputs": [],
   "source": [
    "# Non NIRS features\n",
    "print(df.loc[:,:'CD CNF'].columns.tolist())"
   ]
  },
  {
   "cell_type": "code",
   "execution_count": null,
   "id": "c6f1e704-7872-4d03-a2a5-58040f63ba35",
   "metadata": {},
   "outputs": [],
   "source": [
    "# Select all NIRS data as x\n",
    "x = df.loc[:,'12493.238':]\n",
    "\n",
    "# Add Categoria feature\n",
    "x = x.join(df.loc[:,['Status fisiologico', 'Categoria']])\n",
    "x = pd.get_dummies(x, drop_first=False)"
   ]
  },
  {
   "cell_type": "code",
   "execution_count": null,
   "id": "fe15e0b3-dae1-4b98-9e20-6064c07c83f0",
   "metadata": {},
   "outputs": [],
   "source": [
    "predictive_features = ['12462.381', '12458.523', '12454.666', '12450.809', '3745.271',\n",
    "       '3741.414', '3706.7', '3629.557', 'Status fisiologico_Lactante']\n",
    "\n",
    "x = x[predictive_features]\n",
    "\n",
    "# One-Hot Encode categorical features\n",
    "x = pd.get_dummies(x, drop_first=False)"
   ]
  },
  {
   "cell_type": "code",
   "execution_count": null,
   "id": "2c4027f3-97cf-482a-ab75-214fb81af9dd",
   "metadata": {},
   "outputs": [],
   "source": [
    "# Response variable vector\n",
    "y = df['TD PB']"
   ]
  },
  {
   "cell_type": "code",
   "execution_count": null,
   "id": "ee507b91-a738-4942-bb42-dcc8faf594a9",
   "metadata": {},
   "outputs": [],
   "source": [
    "# Split the data set into training (70%) and testing (30%)\n",
    "from sklearn.model_selection import train_test_split\n",
    "x_train, x_test, y_train, y_test = train_test_split(x, y, test_size=0.30, shuffle=True, random_state=40)\n",
    "print(\"N. samples training %s , N. samples testing %s\" % (x_train.shape[0], x_test.shape[0]))"
   ]
  },
  {
   "cell_type": "markdown",
   "id": "cb825c60-b7bb-4b81-b3b0-3e04bc96ec24",
   "metadata": {
    "tags": []
   },
   "source": [
    "## MODEL SELECTION"
   ]
  },
  {
   "cell_type": "markdown",
   "id": "413b124e-ab58-4be1-876b-6dfd2126e173",
   "metadata": {
    "tags": []
   },
   "source": [
    "### Hold Out"
   ]
  },
  {
   "cell_type": "code",
   "execution_count": 476,
   "id": "21b8590d-fc93-4826-b0db-5967b51bf6a6",
   "metadata": {},
   "outputs": [
    {
     "data": {
      "text/html": [
       "<div>\n",
       "<style scoped>\n",
       "    .dataframe tbody tr th:only-of-type {\n",
       "        vertical-align: middle;\n",
       "    }\n",
       "\n",
       "    .dataframe tbody tr th {\n",
       "        vertical-align: top;\n",
       "    }\n",
       "\n",
       "    .dataframe thead th {\n",
       "        text-align: right;\n",
       "    }\n",
       "</style>\n",
       "<table border=\"1\" class=\"dataframe\">\n",
       "  <thead>\n",
       "    <tr style=\"text-align: right;\">\n",
       "      <th></th>\n",
       "      <th>R2</th>\n",
       "      <th>MAE</th>\n",
       "      <th>RMSE</th>\n",
       "      <th>RPD</th>\n",
       "    </tr>\n",
       "  </thead>\n",
       "  <tbody>\n",
       "    <tr>\n",
       "      <th>Teste</th>\n",
       "      <td>0.215922</td>\n",
       "      <td>1.435173</td>\n",
       "      <td>1.785235</td>\n",
       "      <td>1.136365</td>\n",
       "    </tr>\n",
       "  </tbody>\n",
       "</table>\n",
       "</div>"
      ],
      "text/plain": [
       "             R2       MAE      RMSE       RPD\n",
       "Teste  0.215922  1.435173  1.785235  1.136365"
      ]
     },
     "execution_count": 476,
     "metadata": {},
     "output_type": "execute_result"
    }
   ],
   "source": [
    "from sklearn.svm import SVR\n",
    "svr_model = SVR()\n",
    "preds = svr_model.fit(x_train, y_train).predict(x_test)\n",
    "cmls.evalute_model(y_test, preds)"
   ]
  },
  {
   "cell_type": "code",
   "execution_count": 477,
   "id": "330b31f4-1583-438d-a689-1cdc8c472916",
   "metadata": {},
   "outputs": [
    {
     "data": {
      "text/html": [
       "<div>\n",
       "<style scoped>\n",
       "    .dataframe tbody tr th:only-of-type {\n",
       "        vertical-align: middle;\n",
       "    }\n",
       "\n",
       "    .dataframe tbody tr th {\n",
       "        vertical-align: top;\n",
       "    }\n",
       "\n",
       "    .dataframe thead th {\n",
       "        text-align: right;\n",
       "    }\n",
       "</style>\n",
       "<table border=\"1\" class=\"dataframe\">\n",
       "  <thead>\n",
       "    <tr style=\"text-align: right;\">\n",
       "      <th></th>\n",
       "      <th>R2</th>\n",
       "      <th>MAE</th>\n",
       "      <th>RMSE</th>\n",
       "      <th>RPD</th>\n",
       "    </tr>\n",
       "  </thead>\n",
       "  <tbody>\n",
       "    <tr>\n",
       "      <th>Teste</th>\n",
       "      <td>0.129196</td>\n",
       "      <td>1.552542</td>\n",
       "      <td>1.881379</td>\n",
       "      <td>1.078294</td>\n",
       "    </tr>\n",
       "  </tbody>\n",
       "</table>\n",
       "</div>"
      ],
      "text/plain": [
       "             R2       MAE      RMSE       RPD\n",
       "Teste  0.129196  1.552542  1.881379  1.078294"
      ]
     },
     "execution_count": 477,
     "metadata": {},
     "output_type": "execute_result"
    }
   ],
   "source": [
    "from sklearn.neighbors import KNeighborsRegressor\n",
    "knnr_model = KNeighborsRegressor()\n",
    "preds = knnr_model.fit(x_train, y_train).predict(x_test)\n",
    "cmls.evalute_model(y_test, preds)"
   ]
  },
  {
   "cell_type": "code",
   "execution_count": 478,
   "id": "e1a27c55-b7bb-4792-893b-7bad4f2f5c9b",
   "metadata": {},
   "outputs": [
    {
     "data": {
      "text/html": [
       "<div>\n",
       "<style scoped>\n",
       "    .dataframe tbody tr th:only-of-type {\n",
       "        vertical-align: middle;\n",
       "    }\n",
       "\n",
       "    .dataframe tbody tr th {\n",
       "        vertical-align: top;\n",
       "    }\n",
       "\n",
       "    .dataframe thead th {\n",
       "        text-align: right;\n",
       "    }\n",
       "</style>\n",
       "<table border=\"1\" class=\"dataframe\">\n",
       "  <thead>\n",
       "    <tr style=\"text-align: right;\">\n",
       "      <th></th>\n",
       "      <th>R2</th>\n",
       "      <th>MAE</th>\n",
       "      <th>RMSE</th>\n",
       "      <th>RPD</th>\n",
       "    </tr>\n",
       "  </thead>\n",
       "  <tbody>\n",
       "    <tr>\n",
       "      <th>Teste</th>\n",
       "      <td>0.189885</td>\n",
       "      <td>1.471173</td>\n",
       "      <td>1.814635</td>\n",
       "      <td>1.117955</td>\n",
       "    </tr>\n",
       "  </tbody>\n",
       "</table>\n",
       "</div>"
      ],
      "text/plain": [
       "             R2       MAE      RMSE       RPD\n",
       "Teste  0.189885  1.471173  1.814635  1.117955"
      ]
     },
     "execution_count": 478,
     "metadata": {},
     "output_type": "execute_result"
    }
   ],
   "source": [
    "from sklearn.ensemble import GradientBoostingRegressor\n",
    "gbr_model = GradientBoostingRegressor()\n",
    "preds = gbr_model.fit(x_train, y_train).predict(x_test)\n",
    "cmls.evalute_model(y_test, preds)"
   ]
  },
  {
   "cell_type": "code",
   "execution_count": 479,
   "id": "54f7533b-f67d-4df1-9b1f-11a19e1de9cc",
   "metadata": {},
   "outputs": [
    {
     "data": {
      "text/html": [
       "<div>\n",
       "<style scoped>\n",
       "    .dataframe tbody tr th:only-of-type {\n",
       "        vertical-align: middle;\n",
       "    }\n",
       "\n",
       "    .dataframe tbody tr th {\n",
       "        vertical-align: top;\n",
       "    }\n",
       "\n",
       "    .dataframe thead th {\n",
       "        text-align: right;\n",
       "    }\n",
       "</style>\n",
       "<table border=\"1\" class=\"dataframe\">\n",
       "  <thead>\n",
       "    <tr style=\"text-align: right;\">\n",
       "      <th></th>\n",
       "      <th>R2</th>\n",
       "      <th>MAE</th>\n",
       "      <th>RMSE</th>\n",
       "      <th>RPD</th>\n",
       "    </tr>\n",
       "  </thead>\n",
       "  <tbody>\n",
       "    <tr>\n",
       "      <th>Teste</th>\n",
       "      <td>0.21414</td>\n",
       "      <td>1.460534</td>\n",
       "      <td>1.787263</td>\n",
       "      <td>1.135076</td>\n",
       "    </tr>\n",
       "  </tbody>\n",
       "</table>\n",
       "</div>"
      ],
      "text/plain": [
       "            R2       MAE      RMSE       RPD\n",
       "Teste  0.21414  1.460534  1.787263  1.135076"
      ]
     },
     "execution_count": 479,
     "metadata": {},
     "output_type": "execute_result"
    }
   ],
   "source": [
    "from sklearn import linear_model\n",
    "reg = linear_model.BayesianRidge()\n",
    "reg.fit(x_train, y_train)\n",
    "preds = reg.predict(x_test)\n",
    "cmls.evalute_model(y_test, preds)"
   ]
  },
  {
   "cell_type": "code",
   "execution_count": 480,
   "id": "0e848c56-2b6b-441f-9445-c5e6e4d597b6",
   "metadata": {},
   "outputs": [
    {
     "data": {
      "text/html": [
       "<div>\n",
       "<style scoped>\n",
       "    .dataframe tbody tr th:only-of-type {\n",
       "        vertical-align: middle;\n",
       "    }\n",
       "\n",
       "    .dataframe tbody tr th {\n",
       "        vertical-align: top;\n",
       "    }\n",
       "\n",
       "    .dataframe thead th {\n",
       "        text-align: right;\n",
       "    }\n",
       "</style>\n",
       "<table border=\"1\" class=\"dataframe\">\n",
       "  <thead>\n",
       "    <tr style=\"text-align: right;\">\n",
       "      <th></th>\n",
       "      <th>R2</th>\n",
       "      <th>MAE</th>\n",
       "      <th>RMSE</th>\n",
       "      <th>RPD</th>\n",
       "    </tr>\n",
       "  </thead>\n",
       "  <tbody>\n",
       "    <tr>\n",
       "      <th>Teste</th>\n",
       "      <td>0.19997</td>\n",
       "      <td>1.425002</td>\n",
       "      <td>1.803305</td>\n",
       "      <td>1.124979</td>\n",
       "    </tr>\n",
       "  </tbody>\n",
       "</table>\n",
       "</div>"
      ],
      "text/plain": [
       "            R2       MAE      RMSE       RPD\n",
       "Teste  0.19997  1.425002  1.803305  1.124979"
      ]
     },
     "execution_count": 480,
     "metadata": {},
     "output_type": "execute_result"
    }
   ],
   "source": [
    "from sklearn.ensemble import RandomForestRegressor\n",
    "\n",
    "rf = RandomForestRegressor(random_state=0)\n",
    "preds = rf.fit(x_train,y_train).predict(x_test)\n",
    "cmls.evalute_model(y_test, preds)"
   ]
  },
  {
   "cell_type": "code",
   "execution_count": 481,
   "id": "a3dbfbf0-f1f9-4da9-93a9-fdba9e896342",
   "metadata": {},
   "outputs": [
    {
     "name": "stderr",
     "output_type": "stream",
     "text": [
      "/home/caio/anaconda3/lib/python3.9/site-packages/sklearn/neural_network/_multilayer_perceptron.py:702: ConvergenceWarning: Stochastic Optimizer: Maximum iterations (200) reached and the optimization hasn't converged yet.\n",
      "  warnings.warn(\n"
     ]
    },
    {
     "data": {
      "text/html": [
       "<div>\n",
       "<style scoped>\n",
       "    .dataframe tbody tr th:only-of-type {\n",
       "        vertical-align: middle;\n",
       "    }\n",
       "\n",
       "    .dataframe tbody tr th {\n",
       "        vertical-align: top;\n",
       "    }\n",
       "\n",
       "    .dataframe thead th {\n",
       "        text-align: right;\n",
       "    }\n",
       "</style>\n",
       "<table border=\"1\" class=\"dataframe\">\n",
       "  <thead>\n",
       "    <tr style=\"text-align: right;\">\n",
       "      <th></th>\n",
       "      <th>R2</th>\n",
       "      <th>MAE</th>\n",
       "      <th>RMSE</th>\n",
       "      <th>RPD</th>\n",
       "    </tr>\n",
       "  </thead>\n",
       "  <tbody>\n",
       "    <tr>\n",
       "      <th>Teste</th>\n",
       "      <td>0.193514</td>\n",
       "      <td>1.481003</td>\n",
       "      <td>1.810566</td>\n",
       "      <td>1.120467</td>\n",
       "    </tr>\n",
       "  </tbody>\n",
       "</table>\n",
       "</div>"
      ],
      "text/plain": [
       "             R2       MAE      RMSE       RPD\n",
       "Teste  0.193514  1.481003  1.810566  1.120467"
      ]
     },
     "execution_count": 481,
     "metadata": {},
     "output_type": "execute_result"
    }
   ],
   "source": [
    "from sklearn.neural_network import MLPRegressor\n",
    "\n",
    "mlp = MLPRegressor(random_state=0)\n",
    "preds = mlp.fit(x_train, y_train).predict(x_test)\n",
    "cmls.evalute_model(y_test, preds)"
   ]
  },
  {
   "cell_type": "code",
   "execution_count": null,
   "id": "926aeb33-2e57-4fb1-b8f2-57a3fa56a2ee",
   "metadata": {},
   "outputs": [],
   "source": [
    "cmls.plot_real_vs_predict(y_test, preds)"
   ]
  },
  {
   "cell_type": "markdown",
   "id": "8d3470e0-e3ec-4283-8d19-7eb592a15dcc",
   "metadata": {
    "tags": []
   },
   "source": [
    "## Feature Selecting"
   ]
  },
  {
   "cell_type": "markdown",
   "id": "de636b0f-b174-4505-827c-34ba518b6baf",
   "metadata": {},
   "source": [
    "### Selection Process"
   ]
  },
  {
   "cell_type": "code",
   "execution_count": 101,
   "id": "156cf174-b8e7-4944-a528-0c648806af9b",
   "metadata": {},
   "outputs": [],
   "source": [
    "from sklearn.feature_selection import SelectKBest, mutual_info_regression\n",
    "selector = SelectKBest(score_func=mutual_info_regression)"
   ]
  },
  {
   "cell_type": "code",
   "execution_count": null,
   "id": "ed9e03c5-8af0-44c1-8f44-611b951a58b3",
   "metadata": {},
   "outputs": [],
   "source": [
    "x_new = selector.fit_transform(x, y)"
   ]
  },
  {
   "cell_type": "code",
   "execution_count": null,
   "id": "2dd66fa6-678d-48bd-974f-bf249c5fc3a1",
   "metadata": {},
   "outputs": [],
   "source": [
    "#selector.get_feature_names_out()"
   ]
  },
  {
   "cell_type": "code",
   "execution_count": null,
   "id": "2ef3cd07-1bfb-4e16-9aed-a13c999fba1e",
   "metadata": {},
   "outputs": [],
   "source": [
    "# Split the data set with selected features\n",
    "from sklearn.model_selection import train_test_split\n",
    "x_train, x_test, y_train, y_test = train_test_split(x_new, y, test_size=0.30, shuffle=True, random_state=40)"
   ]
  },
  {
   "cell_type": "markdown",
   "id": "c7fb74ca-26e5-46af-b804-ba536523012e",
   "metadata": {},
   "source": [
    "### After Selecting"
   ]
  },
  {
   "cell_type": "code",
   "execution_count": null,
   "id": "b0d193db-30ca-4f4e-a9a0-d9722abde010",
   "metadata": {},
   "outputs": [],
   "source": [
    "from sklearn.svm import SVR\n",
    "from sklearn.metrics import r2_score\n",
    "\n",
    "svr_model = SVR()\n",
    "svr_preds = svr_model.fit(x_train, y_train).predict(x_test)"
   ]
  },
  {
   "cell_type": "code",
   "execution_count": null,
   "id": "9cc07b70-8774-4290-a872-fef0e09ae8e6",
   "metadata": {},
   "outputs": [],
   "source": [
    "print(f'R2: {r2_score(y_test, svr_preds)}')"
   ]
  },
  {
   "cell_type": "markdown",
   "id": "a5c2954e-1e76-420b-a75a-2767524dfcd7",
   "metadata": {
    "tags": []
   },
   "source": [
    "##  Hyperparameters search"
   ]
  },
  {
   "cell_type": "markdown",
   "id": "d033ffdb-7c3a-4e70-9073-c79d54f404c4",
   "metadata": {
    "tags": [],
    "toc-hr-collapsed": true
   },
   "source": [
    "### SVR"
   ]
  },
  {
   "cell_type": "code",
   "execution_count": 284,
   "id": "0e140c64",
   "metadata": {},
   "outputs": [],
   "source": [
    "from sklearn.model_selection import cross_val_score"
   ]
  },
  {
   "cell_type": "code",
   "execution_count": 285,
   "id": "b722c1db-fd20-4010-9ae1-4515701d4bba",
   "metadata": {},
   "outputs": [],
   "source": [
    "def tune_svr(params):\n",
    "    from sklearn.model_selection import cross_val_score\n",
    "    kernel = params[0]\n",
    "    degree = params[1]\n",
    "    gamma = params[2]\n",
    "    coef0 = params[3]\n",
    "    tol = params[4]\n",
    "    C = params[5]\n",
    "    \n",
    "    print(params, '\\n')\n",
    "    \n",
    "    svr_model = SVR(kernel=kernel, degree=degree, gamma=gamma, coef0=coef0, tol=tol, C=C)\n",
    "    \n",
    "\n",
    "    r2 = cross_val_score(svr_model, x, y, cv=5, scoring ='r2')\n",
    "    \n",
    "    return -r2.mean()\n",
    "\n",
    "space = [\n",
    "    ['linear', 'poly', 'rbf', 'sigmoid'], #kernal\n",
    "    (1, 12), #degree\n",
    "    ['scale', 'auto'], # gamma\n",
    "    (0.05, 3.0), # coef0\n",
    "    (0.000001, 0.01), # tol\n",
    "    [0.1, 1, 10, 100, 1000]] # C"
   ]
  },
  {
   "cell_type": "code",
   "execution_count": null,
   "id": "29d2bdb0-8c5a-44fb-b79e-502fa1d28023",
   "metadata": {},
   "outputs": [],
   "source": [
    "%%time\n",
    "from skopt import gp_minimize\n",
    "svr_best_params = gp_minimize(tune_svr, space, random_state=0, verbose=True, n_calls=100, n_random_starts=20, n_jobs=-1)"
   ]
  },
  {
   "cell_type": "code",
   "execution_count": null,
   "id": "3d18262f-4cd1-4dad-8193-31436f2a52b2",
   "metadata": {},
   "outputs": [],
   "source": [
    "svr_best_params.x"
   ]
  },
  {
   "cell_type": "code",
   "execution_count": 84,
   "id": "3dcc13c3-4266-4f3d-ae60-ddbeb382555b",
   "metadata": {},
   "outputs": [
    {
     "data": {
      "text/html": [
       "<div>\n",
       "<style scoped>\n",
       "    .dataframe tbody tr th:only-of-type {\n",
       "        vertical-align: middle;\n",
       "    }\n",
       "\n",
       "    .dataframe tbody tr th {\n",
       "        vertical-align: top;\n",
       "    }\n",
       "\n",
       "    .dataframe thead th {\n",
       "        text-align: right;\n",
       "    }\n",
       "</style>\n",
       "<table border=\"1\" class=\"dataframe\">\n",
       "  <thead>\n",
       "    <tr style=\"text-align: right;\">\n",
       "      <th></th>\n",
       "      <th>R2</th>\n",
       "      <th>MAE</th>\n",
       "      <th>RMSE</th>\n",
       "      <th>RPD</th>\n",
       "    </tr>\n",
       "  </thead>\n",
       "  <tbody>\n",
       "    <tr>\n",
       "      <th>Teste</th>\n",
       "      <td>0.632401</td>\n",
       "      <td>1.350428</td>\n",
       "      <td>1.706229</td>\n",
       "      <td>1.660025</td>\n",
       "    </tr>\n",
       "  </tbody>\n",
       "</table>\n",
       "</div>"
      ],
      "text/plain": [
       "             R2       MAE      RMSE       RPD\n",
       "Teste  0.632401  1.350428  1.706229  1.660025"
      ]
     },
     "execution_count": 84,
     "metadata": {},
     "output_type": "execute_result"
    }
   ],
   "source": [
    "from sklearn.svm import SVR\n",
    "svr_model = SVR(kernel='linear', degree=1, gamma='auto', coef0=3.0, tol=0.01, C = 0.1)\n",
    "\n",
    "svr_model.fit(x_train, y_train)\n",
    "preds = svr_model.predict(x_test)\n",
    "cmls.evalute_model(y_test, preds)"
   ]
  },
  {
   "cell_type": "code",
   "execution_count": 66,
   "id": "6a962b48-e06d-4986-986b-5a516ca6864c",
   "metadata": {},
   "outputs": [
    {
     "data": {
      "image/png": "[encoded data removed]",
      "text/plain": [
       "<Figure size 432x288 with 1 Axes>"
      ]
     },
     "metadata": {
      "needs_background": "light"
     },
     "output_type": "display_data"
    }
   ],
   "source": [
    "cmls.plot_real_vs_predict(y_test, preds)"
   ]
  },
  {
   "cell_type": "markdown",
   "id": "4c49ad02-35b7-4727-8445-eb119b40e054",
   "metadata": {
    "tags": []
   },
   "source": [
    "### RF"
   ]
  },
  {
   "cell_type": "code",
   "execution_count": 287,
   "id": "853ea3de-7216-4df1-aaa6-e0b4114e0c1f",
   "metadata": {},
   "outputs": [],
   "source": [
    "from sklearn.model_selection import cross_val_score"
   ]
  },
  {
   "cell_type": "code",
   "execution_count": 288,
   "id": "271ea7cf-24b8-440b-8168-1fa0e9c58a5e",
   "metadata": {},
   "outputs": [],
   "source": [
    "def tune_rf(params):\n",
    "    from sklearn.model_selection import cross_val_score\n",
    "    bootstrap = params[0]\n",
    "    max_depth = params[1]\n",
    "    min_samples_leaf = params[2]\n",
    "    min_samples_split = params[3]\n",
    "    n_estimators = params[4]\n",
    "    \n",
    "    print(params, '\\n')\n",
    "    \n",
    "    rf_model = RandomForestRegressor(bootstrap=bootstrap, max_depth=max_depth, min_samples_leaf=min_samples_leaf,\n",
    "                                     min_samples_split=min_samples_split,n_estimators=n_estimators, random_state=0, criterion='poisson', n_jobs=-1)\n",
    "    \n",
    "\n",
    "    r2 = cross_val_score(rf_model, x_train, y_train, cv=5, scoring ='r2')\n",
    "    \n",
    "    return -r2.mean()\n",
    "\n",
    "space = [\n",
    "    [True, False], #bootstrap\n",
    "    [10, 20, 30, None], #max_depth\n",
    "    [1, 2, 4], # min_samples_leaf\n",
    "    [2, 5, 10], # min_samples_split\n",
    "    [5, 10, 20, 50, 100, 200, 300]] # n_estimators"
   ]
  },
  {
   "cell_type": "code",
   "execution_count": 289,
   "id": "ff8f79ad-874b-4569-bd9a-be65ecc94788",
   "metadata": {},
   "outputs": [
    {
     "name": "stdout",
     "output_type": "stream",
     "text": [
      "Iteration No: 1 started. Evaluating function at random point.\n",
      "[True, None, 4, 10, 100] \n",
      "\n",
      "Iteration No: 1 ended. Evaluation done at random point.\n",
      "Time taken: 2.3642\n",
      "Function value obtained: -0.1621\n",
      "Current minimum: -0.1621\n",
      "Iteration No: 2 started. Evaluating function at random point.\n",
      "[False, 20, 1, 5, 50] \n",
      "\n",
      "Iteration No: 2 ended. Evaluation done at random point.\n",
      "Time taken: 2.0156\n",
      "Function value obtained: 0.5851\n",
      "Current minimum: -0.1621\n",
      "Iteration No: 3 started. Evaluating function at random point.\n",
      "[True, 20, 2, 10, 20] \n",
      "\n",
      "Iteration No: 3 ended. Evaluation done at random point.\n",
      "Time taken: 0.4631\n",
      "Function value obtained: -0.1149\n",
      "Current minimum: -0.1621\n",
      "Iteration No: 4 started. Evaluating function at random point.\n",
      "[True, 20, 4, 2, 200] \n",
      "\n",
      "Iteration No: 4 ended. Evaluation done at random point.\n",
      "Time taken: 3.1667\n",
      "Function value obtained: -0.1669\n",
      "Current minimum: -0.1669\n",
      "Iteration No: 5 started. Evaluating function at random point.\n",
      "[False, 30, 2, 5, 100] \n",
      "\n",
      "Iteration No: 5 ended. Evaluation done at random point.\n",
      "Time taken: 3.4852\n",
      "Function value obtained: 0.5568\n",
      "Current minimum: -0.1669\n",
      "Iteration No: 6 started. Evaluating function at random point.\n",
      "[True, 30, 4, 2, 50] \n",
      "\n",
      "Iteration No: 6 ended. Evaluation done at random point.\n",
      "Time taken: 0.8947\n",
      "Function value obtained: -0.1597\n",
      "Current minimum: -0.1669\n",
      "Iteration No: 7 started. Evaluating function at random point.\n",
      "[False, 30, 1, 2, 20] \n",
      "\n",
      "Iteration No: 7 ended. Evaluation done at random point.\n",
      "Time taken: 1.0185\n",
      "Function value obtained: 0.5958\n",
      "Current minimum: -0.1669\n",
      "Iteration No: 8 started. Evaluating function at random point.\n",
      "[False, 20, 2, 10, 50] \n",
      "\n",
      "Iteration No: 8 ended. Evaluation done at random point.\n",
      "Time taken: 1.7046\n",
      "Function value obtained: 0.5123\n",
      "Current minimum: -0.1669\n",
      "Iteration No: 9 started. Evaluating function at random point.\n",
      "[True, None, 1, 10, 100] \n",
      "\n",
      "Iteration No: 9 ended. Evaluation done at random point.\n",
      "Time taken: 1.9011\n",
      "Function value obtained: -0.1651\n",
      "Current minimum: -0.1669\n",
      "Iteration No: 10 started. Evaluating function at random point.\n",
      "[False, 20, 4, 5, 20] \n",
      "\n",
      "Iteration No: 10 ended. Evaluation done at random point.\n",
      "Time taken: 0.7233\n",
      "Function value obtained: 0.5562\n",
      "Current minimum: -0.1669\n",
      "Iteration No: 11 started. Evaluating function at random point.\n",
      "[False, 30, 4, 5, 100] \n",
      "\n",
      "Iteration No: 11 ended. Evaluation done at random point.\n",
      "Time taken: 2.9427\n",
      "Function value obtained: 0.5470\n",
      "Current minimum: -0.1669\n",
      "Iteration No: 12 started. Evaluating function at random point.\n",
      "[True, 30, 2, 5, 100] \n",
      "\n",
      "Iteration No: 12 ended. Evaluation done at random point.\n",
      "Time taken: 2.0238\n",
      "Function value obtained: -0.1692\n",
      "Current minimum: -0.1692\n",
      "Iteration No: 13 started. Evaluating function at random point.\n",
      "[False, 30, 2, 10, 300] \n",
      "\n"
     ]
    },
    {
     "ename": "KeyboardInterrupt",
     "evalue": "",
     "output_type": "error",
     "traceback": [
      "\u001b[0;31m---------------------------------------------------------------------------\u001b[0m",
      "\u001b[0;31mKeyboardInterrupt\u001b[0m                         Traceback (most recent call last)",
      "File \u001b[0;32m<timed exec>:2\u001b[0m, in \u001b[0;36m<module>\u001b[0;34m\u001b[0m\n",
      "File \u001b[0;32m~/anaconda3/lib/python3.9/site-packages/skopt/optimizer/gp.py:259\u001b[0m, in \u001b[0;36mgp_minimize\u001b[0;34m(func, dimensions, base_estimator, n_calls, n_random_starts, n_initial_points, initial_point_generator, acq_func, acq_optimizer, x0, y0, random_state, verbose, callback, n_points, n_restarts_optimizer, xi, kappa, noise, n_jobs, model_queue_size)\u001b[0m\n\u001b[1;32m    254\u001b[0m \u001b[38;5;28;01mif\u001b[39;00m base_estimator \u001b[38;5;129;01mis\u001b[39;00m \u001b[38;5;28;01mNone\u001b[39;00m:\n\u001b[1;32m    255\u001b[0m     base_estimator \u001b[38;5;241m=\u001b[39m cook_estimator(\n\u001b[1;32m    256\u001b[0m         \u001b[38;5;124m\"\u001b[39m\u001b[38;5;124mGP\u001b[39m\u001b[38;5;124m\"\u001b[39m, space\u001b[38;5;241m=\u001b[39mspace, random_state\u001b[38;5;241m=\u001b[39mrng\u001b[38;5;241m.\u001b[39mrandint(\u001b[38;5;241m0\u001b[39m, np\u001b[38;5;241m.\u001b[39miinfo(np\u001b[38;5;241m.\u001b[39mint32)\u001b[38;5;241m.\u001b[39mmax),\n\u001b[1;32m    257\u001b[0m         noise\u001b[38;5;241m=\u001b[39mnoise)\n\u001b[0;32m--> 259\u001b[0m \u001b[38;5;28;01mreturn\u001b[39;00m \u001b[43mbase_minimize\u001b[49m\u001b[43m(\u001b[49m\n\u001b[1;32m    260\u001b[0m \u001b[43m    \u001b[49m\u001b[43mfunc\u001b[49m\u001b[43m,\u001b[49m\u001b[43m \u001b[49m\u001b[43mspace\u001b[49m\u001b[43m,\u001b[49m\u001b[43m \u001b[49m\u001b[43mbase_estimator\u001b[49m\u001b[38;5;241;43m=\u001b[39;49m\u001b[43mbase_estimator\u001b[49m\u001b[43m,\u001b[49m\n\u001b[1;32m    261\u001b[0m \u001b[43m    \u001b[49m\u001b[43macq_func\u001b[49m\u001b[38;5;241;43m=\u001b[39;49m\u001b[43macq_func\u001b[49m\u001b[43m,\u001b[49m\n\u001b[1;32m    262\u001b[0m \u001b[43m    \u001b[49m\u001b[43mxi\u001b[49m\u001b[38;5;241;43m=\u001b[39;49m\u001b[43mxi\u001b[49m\u001b[43m,\u001b[49m\u001b[43m \u001b[49m\u001b[43mkappa\u001b[49m\u001b[38;5;241;43m=\u001b[39;49m\u001b[43mkappa\u001b[49m\u001b[43m,\u001b[49m\u001b[43m \u001b[49m\u001b[43macq_optimizer\u001b[49m\u001b[38;5;241;43m=\u001b[39;49m\u001b[43macq_optimizer\u001b[49m\u001b[43m,\u001b[49m\u001b[43m \u001b[49m\u001b[43mn_calls\u001b[49m\u001b[38;5;241;43m=\u001b[39;49m\u001b[43mn_calls\u001b[49m\u001b[43m,\u001b[49m\n\u001b[1;32m    263\u001b[0m \u001b[43m    \u001b[49m\u001b[43mn_points\u001b[49m\u001b[38;5;241;43m=\u001b[39;49m\u001b[43mn_points\u001b[49m\u001b[43m,\u001b[49m\u001b[43m \u001b[49m\u001b[43mn_random_starts\u001b[49m\u001b[38;5;241;43m=\u001b[39;49m\u001b[43mn_random_starts\u001b[49m\u001b[43m,\u001b[49m\n\u001b[1;32m    264\u001b[0m \u001b[43m    \u001b[49m\u001b[43mn_initial_points\u001b[49m\u001b[38;5;241;43m=\u001b[39;49m\u001b[43mn_initial_points\u001b[49m\u001b[43m,\u001b[49m\n\u001b[1;32m    265\u001b[0m \u001b[43m    \u001b[49m\u001b[43minitial_point_generator\u001b[49m\u001b[38;5;241;43m=\u001b[39;49m\u001b[43minitial_point_generator\u001b[49m\u001b[43m,\u001b[49m\n\u001b[1;32m    266\u001b[0m \u001b[43m    \u001b[49m\u001b[43mn_restarts_optimizer\u001b[49m\u001b[38;5;241;43m=\u001b[39;49m\u001b[43mn_restarts_optimizer\u001b[49m\u001b[43m,\u001b[49m\n\u001b[1;32m    267\u001b[0m \u001b[43m    \u001b[49m\u001b[43mx0\u001b[49m\u001b[38;5;241;43m=\u001b[39;49m\u001b[43mx0\u001b[49m\u001b[43m,\u001b[49m\u001b[43m \u001b[49m\u001b[43my0\u001b[49m\u001b[38;5;241;43m=\u001b[39;49m\u001b[43my0\u001b[49m\u001b[43m,\u001b[49m\u001b[43m \u001b[49m\u001b[43mrandom_state\u001b[49m\u001b[38;5;241;43m=\u001b[39;49m\u001b[43mrng\u001b[49m\u001b[43m,\u001b[49m\u001b[43m \u001b[49m\u001b[43mverbose\u001b[49m\u001b[38;5;241;43m=\u001b[39;49m\u001b[43mverbose\u001b[49m\u001b[43m,\u001b[49m\n\u001b[1;32m    268\u001b[0m \u001b[43m    \u001b[49m\u001b[43mcallback\u001b[49m\u001b[38;5;241;43m=\u001b[39;49m\u001b[43mcallback\u001b[49m\u001b[43m,\u001b[49m\u001b[43m \u001b[49m\u001b[43mn_jobs\u001b[49m\u001b[38;5;241;43m=\u001b[39;49m\u001b[43mn_jobs\u001b[49m\u001b[43m,\u001b[49m\u001b[43m \u001b[49m\u001b[43mmodel_queue_size\u001b[49m\u001b[38;5;241;43m=\u001b[39;49m\u001b[43mmodel_queue_size\u001b[49m\u001b[43m)\u001b[49m\n",
      "File \u001b[0;32m~/anaconda3/lib/python3.9/site-packages/skopt/optimizer/base.py:299\u001b[0m, in \u001b[0;36mbase_minimize\u001b[0;34m(func, dimensions, base_estimator, n_calls, n_random_starts, n_initial_points, initial_point_generator, acq_func, acq_optimizer, x0, y0, random_state, verbose, callback, n_points, n_restarts_optimizer, xi, kappa, n_jobs, model_queue_size)\u001b[0m\n\u001b[1;32m    297\u001b[0m \u001b[38;5;28;01mfor\u001b[39;00m n \u001b[38;5;129;01min\u001b[39;00m \u001b[38;5;28mrange\u001b[39m(n_calls):\n\u001b[1;32m    298\u001b[0m     next_x \u001b[38;5;241m=\u001b[39m optimizer\u001b[38;5;241m.\u001b[39mask()\n\u001b[0;32m--> 299\u001b[0m     next_y \u001b[38;5;241m=\u001b[39m \u001b[43mfunc\u001b[49m\u001b[43m(\u001b[49m\u001b[43mnext_x\u001b[49m\u001b[43m)\u001b[49m\n\u001b[1;32m    300\u001b[0m     result \u001b[38;5;241m=\u001b[39m optimizer\u001b[38;5;241m.\u001b[39mtell(next_x, next_y)\n\u001b[1;32m    301\u001b[0m     result\u001b[38;5;241m.\u001b[39mspecs \u001b[38;5;241m=\u001b[39m specs\n",
      "Input \u001b[0;32mIn [288]\u001b[0m, in \u001b[0;36mtune_rf\u001b[0;34m(params)\u001b[0m\n\u001b[1;32m      9\u001b[0m \u001b[38;5;28mprint\u001b[39m(params, \u001b[38;5;124m'\u001b[39m\u001b[38;5;130;01m\\n\u001b[39;00m\u001b[38;5;124m'\u001b[39m)\n\u001b[1;32m     11\u001b[0m rf_model \u001b[38;5;241m=\u001b[39m RandomForestRegressor(bootstrap\u001b[38;5;241m=\u001b[39mbootstrap, max_depth\u001b[38;5;241m=\u001b[39mmax_depth, min_samples_leaf\u001b[38;5;241m=\u001b[39mmin_samples_leaf,\n\u001b[1;32m     12\u001b[0m                                  min_samples_split\u001b[38;5;241m=\u001b[39mmin_samples_split,n_estimators\u001b[38;5;241m=\u001b[39mn_estimators, random_state\u001b[38;5;241m=\u001b[39m\u001b[38;5;241m0\u001b[39m, criterion\u001b[38;5;241m=\u001b[39m\u001b[38;5;124m'\u001b[39m\u001b[38;5;124mpoisson\u001b[39m\u001b[38;5;124m'\u001b[39m, n_jobs\u001b[38;5;241m=\u001b[39m\u001b[38;5;241m-\u001b[39m\u001b[38;5;241m1\u001b[39m)\n\u001b[0;32m---> 15\u001b[0m r2 \u001b[38;5;241m=\u001b[39m \u001b[43mcross_val_score\u001b[49m\u001b[43m(\u001b[49m\u001b[43mrf_model\u001b[49m\u001b[43m,\u001b[49m\u001b[43m \u001b[49m\u001b[43mx_train\u001b[49m\u001b[43m,\u001b[49m\u001b[43m \u001b[49m\u001b[43my_train\u001b[49m\u001b[43m,\u001b[49m\u001b[43m \u001b[49m\u001b[43mcv\u001b[49m\u001b[38;5;241;43m=\u001b[39;49m\u001b[38;5;241;43m5\u001b[39;49m\u001b[43m,\u001b[49m\u001b[43m \u001b[49m\u001b[43mscoring\u001b[49m\u001b[43m \u001b[49m\u001b[38;5;241;43m=\u001b[39;49m\u001b[38;5;124;43m'\u001b[39;49m\u001b[38;5;124;43mr2\u001b[39;49m\u001b[38;5;124;43m'\u001b[39;49m\u001b[43m)\u001b[49m\n\u001b[1;32m     17\u001b[0m \u001b[38;5;28;01mreturn\u001b[39;00m \u001b[38;5;241m-\u001b[39mr2\u001b[38;5;241m.\u001b[39mmean()\n",
      "File \u001b[0;32m~/anaconda3/lib/python3.9/site-packages/sklearn/model_selection/_validation.py:515\u001b[0m, in \u001b[0;36mcross_val_score\u001b[0;34m(estimator, X, y, groups, scoring, cv, n_jobs, verbose, fit_params, pre_dispatch, error_score)\u001b[0m\n\u001b[1;32m    512\u001b[0m \u001b[38;5;66;03m# To ensure multimetric format is not supported\u001b[39;00m\n\u001b[1;32m    513\u001b[0m scorer \u001b[38;5;241m=\u001b[39m check_scoring(estimator, scoring\u001b[38;5;241m=\u001b[39mscoring)\n\u001b[0;32m--> 515\u001b[0m cv_results \u001b[38;5;241m=\u001b[39m \u001b[43mcross_validate\u001b[49m\u001b[43m(\u001b[49m\n\u001b[1;32m    516\u001b[0m \u001b[43m    \u001b[49m\u001b[43mestimator\u001b[49m\u001b[38;5;241;43m=\u001b[39;49m\u001b[43mestimator\u001b[49m\u001b[43m,\u001b[49m\n\u001b[1;32m    517\u001b[0m \u001b[43m    \u001b[49m\u001b[43mX\u001b[49m\u001b[38;5;241;43m=\u001b[39;49m\u001b[43mX\u001b[49m\u001b[43m,\u001b[49m\n\u001b[1;32m    518\u001b[0m \u001b[43m    \u001b[49m\u001b[43my\u001b[49m\u001b[38;5;241;43m=\u001b[39;49m\u001b[43my\u001b[49m\u001b[43m,\u001b[49m\n\u001b[1;32m    519\u001b[0m \u001b[43m    \u001b[49m\u001b[43mgroups\u001b[49m\u001b[38;5;241;43m=\u001b[39;49m\u001b[43mgroups\u001b[49m\u001b[43m,\u001b[49m\n\u001b[1;32m    520\u001b[0m \u001b[43m    \u001b[49m\u001b[43mscoring\u001b[49m\u001b[38;5;241;43m=\u001b[39;49m\u001b[43m{\u001b[49m\u001b[38;5;124;43m\"\u001b[39;49m\u001b[38;5;124;43mscore\u001b[39;49m\u001b[38;5;124;43m\"\u001b[39;49m\u001b[43m:\u001b[49m\u001b[43m \u001b[49m\u001b[43mscorer\u001b[49m\u001b[43m}\u001b[49m\u001b[43m,\u001b[49m\n\u001b[1;32m    521\u001b[0m \u001b[43m    \u001b[49m\u001b[43mcv\u001b[49m\u001b[38;5;241;43m=\u001b[39;49m\u001b[43mcv\u001b[49m\u001b[43m,\u001b[49m\n\u001b[1;32m    522\u001b[0m \u001b[43m    \u001b[49m\u001b[43mn_jobs\u001b[49m\u001b[38;5;241;43m=\u001b[39;49m\u001b[43mn_jobs\u001b[49m\u001b[43m,\u001b[49m\n\u001b[1;32m    523\u001b[0m \u001b[43m    \u001b[49m\u001b[43mverbose\u001b[49m\u001b[38;5;241;43m=\u001b[39;49m\u001b[43mverbose\u001b[49m\u001b[43m,\u001b[49m\n\u001b[1;32m    524\u001b[0m \u001b[43m    \u001b[49m\u001b[43mfit_params\u001b[49m\u001b[38;5;241;43m=\u001b[39;49m\u001b[43mfit_params\u001b[49m\u001b[43m,\u001b[49m\n\u001b[1;32m    525\u001b[0m \u001b[43m    \u001b[49m\u001b[43mpre_dispatch\u001b[49m\u001b[38;5;241;43m=\u001b[39;49m\u001b[43mpre_dispatch\u001b[49m\u001b[43m,\u001b[49m\n\u001b[1;32m    526\u001b[0m \u001b[43m    \u001b[49m\u001b[43merror_score\u001b[49m\u001b[38;5;241;43m=\u001b[39;49m\u001b[43merror_score\u001b[49m\u001b[43m,\u001b[49m\n\u001b[1;32m    527\u001b[0m \u001b[43m\u001b[49m\u001b[43m)\u001b[49m\n\u001b[1;32m    528\u001b[0m \u001b[38;5;28;01mreturn\u001b[39;00m cv_results[\u001b[38;5;124m\"\u001b[39m\u001b[38;5;124mtest_score\u001b[39m\u001b[38;5;124m\"\u001b[39m]\n",
      "File \u001b[0;32m~/anaconda3/lib/python3.9/site-packages/sklearn/model_selection/_validation.py:266\u001b[0m, in \u001b[0;36mcross_validate\u001b[0;34m(estimator, X, y, groups, scoring, cv, n_jobs, verbose, fit_params, pre_dispatch, return_train_score, return_estimator, error_score)\u001b[0m\n\u001b[1;32m    263\u001b[0m \u001b[38;5;66;03m# We clone the estimator to make sure that all the folds are\u001b[39;00m\n\u001b[1;32m    264\u001b[0m \u001b[38;5;66;03m# independent, and that it is pickle-able.\u001b[39;00m\n\u001b[1;32m    265\u001b[0m parallel \u001b[38;5;241m=\u001b[39m Parallel(n_jobs\u001b[38;5;241m=\u001b[39mn_jobs, verbose\u001b[38;5;241m=\u001b[39mverbose, pre_dispatch\u001b[38;5;241m=\u001b[39mpre_dispatch)\n\u001b[0;32m--> 266\u001b[0m results \u001b[38;5;241m=\u001b[39m \u001b[43mparallel\u001b[49m\u001b[43m(\u001b[49m\n\u001b[1;32m    267\u001b[0m \u001b[43m    \u001b[49m\u001b[43mdelayed\u001b[49m\u001b[43m(\u001b[49m\u001b[43m_fit_and_score\u001b[49m\u001b[43m)\u001b[49m\u001b[43m(\u001b[49m\n\u001b[1;32m    268\u001b[0m \u001b[43m        \u001b[49m\u001b[43mclone\u001b[49m\u001b[43m(\u001b[49m\u001b[43mestimator\u001b[49m\u001b[43m)\u001b[49m\u001b[43m,\u001b[49m\n\u001b[1;32m    269\u001b[0m \u001b[43m        \u001b[49m\u001b[43mX\u001b[49m\u001b[43m,\u001b[49m\n\u001b[1;32m    270\u001b[0m \u001b[43m        \u001b[49m\u001b[43my\u001b[49m\u001b[43m,\u001b[49m\n\u001b[1;32m    271\u001b[0m \u001b[43m        \u001b[49m\u001b[43mscorers\u001b[49m\u001b[43m,\u001b[49m\n\u001b[1;32m    272\u001b[0m \u001b[43m        \u001b[49m\u001b[43mtrain\u001b[49m\u001b[43m,\u001b[49m\n\u001b[1;32m    273\u001b[0m \u001b[43m        \u001b[49m\u001b[43mtest\u001b[49m\u001b[43m,\u001b[49m\n\u001b[1;32m    274\u001b[0m \u001b[43m        \u001b[49m\u001b[43mverbose\u001b[49m\u001b[43m,\u001b[49m\n\u001b[1;32m    275\u001b[0m \u001b[43m        \u001b[49m\u001b[38;5;28;43;01mNone\u001b[39;49;00m\u001b[43m,\u001b[49m\n\u001b[1;32m    276\u001b[0m \u001b[43m        \u001b[49m\u001b[43mfit_params\u001b[49m\u001b[43m,\u001b[49m\n\u001b[1;32m    277\u001b[0m \u001b[43m        \u001b[49m\u001b[43mreturn_train_score\u001b[49m\u001b[38;5;241;43m=\u001b[39;49m\u001b[43mreturn_train_score\u001b[49m\u001b[43m,\u001b[49m\n\u001b[1;32m    278\u001b[0m \u001b[43m        \u001b[49m\u001b[43mreturn_times\u001b[49m\u001b[38;5;241;43m=\u001b[39;49m\u001b[38;5;28;43;01mTrue\u001b[39;49;00m\u001b[43m,\u001b[49m\n\u001b[1;32m    279\u001b[0m \u001b[43m        \u001b[49m\u001b[43mreturn_estimator\u001b[49m\u001b[38;5;241;43m=\u001b[39;49m\u001b[43mreturn_estimator\u001b[49m\u001b[43m,\u001b[49m\n\u001b[1;32m    280\u001b[0m \u001b[43m        \u001b[49m\u001b[43merror_score\u001b[49m\u001b[38;5;241;43m=\u001b[39;49m\u001b[43merror_score\u001b[49m\u001b[43m,\u001b[49m\n\u001b[1;32m    281\u001b[0m \u001b[43m    \u001b[49m\u001b[43m)\u001b[49m\n\u001b[1;32m    282\u001b[0m \u001b[43m    \u001b[49m\u001b[38;5;28;43;01mfor\u001b[39;49;00m\u001b[43m \u001b[49m\u001b[43mtrain\u001b[49m\u001b[43m,\u001b[49m\u001b[43m \u001b[49m\u001b[43mtest\u001b[49m\u001b[43m \u001b[49m\u001b[38;5;129;43;01min\u001b[39;49;00m\u001b[43m \u001b[49m\u001b[43mcv\u001b[49m\u001b[38;5;241;43m.\u001b[39;49m\u001b[43msplit\u001b[49m\u001b[43m(\u001b[49m\u001b[43mX\u001b[49m\u001b[43m,\u001b[49m\u001b[43m \u001b[49m\u001b[43my\u001b[49m\u001b[43m,\u001b[49m\u001b[43m \u001b[49m\u001b[43mgroups\u001b[49m\u001b[43m)\u001b[49m\n\u001b[1;32m    283\u001b[0m \u001b[43m\u001b[49m\u001b[43m)\u001b[49m\n\u001b[1;32m    285\u001b[0m _warn_or_raise_about_fit_failures(results, error_score)\n\u001b[1;32m    287\u001b[0m \u001b[38;5;66;03m# For callabe scoring, the return type is only know after calling. If the\u001b[39;00m\n\u001b[1;32m    288\u001b[0m \u001b[38;5;66;03m# return type is a dictionary, the error scores can now be inserted with\u001b[39;00m\n\u001b[1;32m    289\u001b[0m \u001b[38;5;66;03m# the correct key.\u001b[39;00m\n",
      "File \u001b[0;32m~/anaconda3/lib/python3.9/site-packages/joblib/parallel.py:1046\u001b[0m, in \u001b[0;36mParallel.__call__\u001b[0;34m(self, iterable)\u001b[0m\n\u001b[1;32m   1043\u001b[0m \u001b[38;5;28;01mif\u001b[39;00m \u001b[38;5;28mself\u001b[39m\u001b[38;5;241m.\u001b[39mdispatch_one_batch(iterator):\n\u001b[1;32m   1044\u001b[0m     \u001b[38;5;28mself\u001b[39m\u001b[38;5;241m.\u001b[39m_iterating \u001b[38;5;241m=\u001b[39m \u001b[38;5;28mself\u001b[39m\u001b[38;5;241m.\u001b[39m_original_iterator \u001b[38;5;129;01mis\u001b[39;00m \u001b[38;5;129;01mnot\u001b[39;00m \u001b[38;5;28;01mNone\u001b[39;00m\n\u001b[0;32m-> 1046\u001b[0m \u001b[38;5;28;01mwhile\u001b[39;00m \u001b[38;5;28;43mself\u001b[39;49m\u001b[38;5;241;43m.\u001b[39;49m\u001b[43mdispatch_one_batch\u001b[49m\u001b[43m(\u001b[49m\u001b[43miterator\u001b[49m\u001b[43m)\u001b[49m:\n\u001b[1;32m   1047\u001b[0m     \u001b[38;5;28;01mpass\u001b[39;00m\n\u001b[1;32m   1049\u001b[0m \u001b[38;5;28;01mif\u001b[39;00m pre_dispatch \u001b[38;5;241m==\u001b[39m \u001b[38;5;124m\"\u001b[39m\u001b[38;5;124mall\u001b[39m\u001b[38;5;124m\"\u001b[39m \u001b[38;5;129;01mor\u001b[39;00m n_jobs \u001b[38;5;241m==\u001b[39m \u001b[38;5;241m1\u001b[39m:\n\u001b[1;32m   1050\u001b[0m     \u001b[38;5;66;03m# The iterable was consumed all at once by the above for loop.\u001b[39;00m\n\u001b[1;32m   1051\u001b[0m     \u001b[38;5;66;03m# No need to wait for async callbacks to trigger to\u001b[39;00m\n\u001b[1;32m   1052\u001b[0m     \u001b[38;5;66;03m# consumption.\u001b[39;00m\n",
      "File \u001b[0;32m~/anaconda3/lib/python3.9/site-packages/joblib/parallel.py:861\u001b[0m, in \u001b[0;36mParallel.dispatch_one_batch\u001b[0;34m(self, iterator)\u001b[0m\n\u001b[1;32m    859\u001b[0m     \u001b[38;5;28;01mreturn\u001b[39;00m \u001b[38;5;28;01mFalse\u001b[39;00m\n\u001b[1;32m    860\u001b[0m \u001b[38;5;28;01melse\u001b[39;00m:\n\u001b[0;32m--> 861\u001b[0m     \u001b[38;5;28;43mself\u001b[39;49m\u001b[38;5;241;43m.\u001b[39;49m\u001b[43m_dispatch\u001b[49m\u001b[43m(\u001b[49m\u001b[43mtasks\u001b[49m\u001b[43m)\u001b[49m\n\u001b[1;32m    862\u001b[0m     \u001b[38;5;28;01mreturn\u001b[39;00m \u001b[38;5;28;01mTrue\u001b[39;00m\n",
      "File \u001b[0;32m~/anaconda3/lib/python3.9/site-packages/joblib/parallel.py:779\u001b[0m, in \u001b[0;36mParallel._dispatch\u001b[0;34m(self, batch)\u001b[0m\n\u001b[1;32m    777\u001b[0m \u001b[38;5;28;01mwith\u001b[39;00m \u001b[38;5;28mself\u001b[39m\u001b[38;5;241m.\u001b[39m_lock:\n\u001b[1;32m    778\u001b[0m     job_idx \u001b[38;5;241m=\u001b[39m \u001b[38;5;28mlen\u001b[39m(\u001b[38;5;28mself\u001b[39m\u001b[38;5;241m.\u001b[39m_jobs)\n\u001b[0;32m--> 779\u001b[0m     job \u001b[38;5;241m=\u001b[39m \u001b[38;5;28;43mself\u001b[39;49m\u001b[38;5;241;43m.\u001b[39;49m\u001b[43m_backend\u001b[49m\u001b[38;5;241;43m.\u001b[39;49m\u001b[43mapply_async\u001b[49m\u001b[43m(\u001b[49m\u001b[43mbatch\u001b[49m\u001b[43m,\u001b[49m\u001b[43m \u001b[49m\u001b[43mcallback\u001b[49m\u001b[38;5;241;43m=\u001b[39;49m\u001b[43mcb\u001b[49m\u001b[43m)\u001b[49m\n\u001b[1;32m    780\u001b[0m     \u001b[38;5;66;03m# A job can complete so quickly than its callback is\u001b[39;00m\n\u001b[1;32m    781\u001b[0m     \u001b[38;5;66;03m# called before we get here, causing self._jobs to\u001b[39;00m\n\u001b[1;32m    782\u001b[0m     \u001b[38;5;66;03m# grow. To ensure correct results ordering, .insert is\u001b[39;00m\n\u001b[1;32m    783\u001b[0m     \u001b[38;5;66;03m# used (rather than .append) in the following line\u001b[39;00m\n\u001b[1;32m    784\u001b[0m     \u001b[38;5;28mself\u001b[39m\u001b[38;5;241m.\u001b[39m_jobs\u001b[38;5;241m.\u001b[39minsert(job_idx, job)\n",
      "File \u001b[0;32m~/anaconda3/lib/python3.9/site-packages/joblib/_parallel_backends.py:208\u001b[0m, in \u001b[0;36mSequentialBackend.apply_async\u001b[0;34m(self, func, callback)\u001b[0m\n\u001b[1;32m    206\u001b[0m \u001b[38;5;28;01mdef\u001b[39;00m \u001b[38;5;21mapply_async\u001b[39m(\u001b[38;5;28mself\u001b[39m, func, callback\u001b[38;5;241m=\u001b[39m\u001b[38;5;28;01mNone\u001b[39;00m):\n\u001b[1;32m    207\u001b[0m     \u001b[38;5;124;03m\"\"\"Schedule a func to be run\"\"\"\u001b[39;00m\n\u001b[0;32m--> 208\u001b[0m     result \u001b[38;5;241m=\u001b[39m \u001b[43mImmediateResult\u001b[49m\u001b[43m(\u001b[49m\u001b[43mfunc\u001b[49m\u001b[43m)\u001b[49m\n\u001b[1;32m    209\u001b[0m     \u001b[38;5;28;01mif\u001b[39;00m callback:\n\u001b[1;32m    210\u001b[0m         callback(result)\n",
      "File \u001b[0;32m~/anaconda3/lib/python3.9/site-packages/joblib/_parallel_backends.py:572\u001b[0m, in \u001b[0;36mImmediateResult.__init__\u001b[0;34m(self, batch)\u001b[0m\n\u001b[1;32m    569\u001b[0m \u001b[38;5;28;01mdef\u001b[39;00m \u001b[38;5;21m__init__\u001b[39m(\u001b[38;5;28mself\u001b[39m, batch):\n\u001b[1;32m    570\u001b[0m     \u001b[38;5;66;03m# Don't delay the application, to avoid keeping the input\u001b[39;00m\n\u001b[1;32m    571\u001b[0m     \u001b[38;5;66;03m# arguments in memory\u001b[39;00m\n\u001b[0;32m--> 572\u001b[0m     \u001b[38;5;28mself\u001b[39m\u001b[38;5;241m.\u001b[39mresults \u001b[38;5;241m=\u001b[39m \u001b[43mbatch\u001b[49m\u001b[43m(\u001b[49m\u001b[43m)\u001b[49m\n",
      "File \u001b[0;32m~/anaconda3/lib/python3.9/site-packages/joblib/parallel.py:262\u001b[0m, in \u001b[0;36mBatchedCalls.__call__\u001b[0;34m(self)\u001b[0m\n\u001b[1;32m    258\u001b[0m \u001b[38;5;28;01mdef\u001b[39;00m \u001b[38;5;21m__call__\u001b[39m(\u001b[38;5;28mself\u001b[39m):\n\u001b[1;32m    259\u001b[0m     \u001b[38;5;66;03m# Set the default nested backend to self._backend but do not set the\u001b[39;00m\n\u001b[1;32m    260\u001b[0m     \u001b[38;5;66;03m# change the default number of processes to -1\u001b[39;00m\n\u001b[1;32m    261\u001b[0m     \u001b[38;5;28;01mwith\u001b[39;00m parallel_backend(\u001b[38;5;28mself\u001b[39m\u001b[38;5;241m.\u001b[39m_backend, n_jobs\u001b[38;5;241m=\u001b[39m\u001b[38;5;28mself\u001b[39m\u001b[38;5;241m.\u001b[39m_n_jobs):\n\u001b[0;32m--> 262\u001b[0m         \u001b[38;5;28;01mreturn\u001b[39;00m [func(\u001b[38;5;241m*\u001b[39margs, \u001b[38;5;241m*\u001b[39m\u001b[38;5;241m*\u001b[39mkwargs)\n\u001b[1;32m    263\u001b[0m                 \u001b[38;5;28;01mfor\u001b[39;00m func, args, kwargs \u001b[38;5;129;01min\u001b[39;00m \u001b[38;5;28mself\u001b[39m\u001b[38;5;241m.\u001b[39mitems]\n",
      "File \u001b[0;32m~/anaconda3/lib/python3.9/site-packages/joblib/parallel.py:262\u001b[0m, in \u001b[0;36m<listcomp>\u001b[0;34m(.0)\u001b[0m\n\u001b[1;32m    258\u001b[0m \u001b[38;5;28;01mdef\u001b[39;00m \u001b[38;5;21m__call__\u001b[39m(\u001b[38;5;28mself\u001b[39m):\n\u001b[1;32m    259\u001b[0m     \u001b[38;5;66;03m# Set the default nested backend to self._backend but do not set the\u001b[39;00m\n\u001b[1;32m    260\u001b[0m     \u001b[38;5;66;03m# change the default number of processes to -1\u001b[39;00m\n\u001b[1;32m    261\u001b[0m     \u001b[38;5;28;01mwith\u001b[39;00m parallel_backend(\u001b[38;5;28mself\u001b[39m\u001b[38;5;241m.\u001b[39m_backend, n_jobs\u001b[38;5;241m=\u001b[39m\u001b[38;5;28mself\u001b[39m\u001b[38;5;241m.\u001b[39m_n_jobs):\n\u001b[0;32m--> 262\u001b[0m         \u001b[38;5;28;01mreturn\u001b[39;00m [\u001b[43mfunc\u001b[49m\u001b[43m(\u001b[49m\u001b[38;5;241;43m*\u001b[39;49m\u001b[43margs\u001b[49m\u001b[43m,\u001b[49m\u001b[43m \u001b[49m\u001b[38;5;241;43m*\u001b[39;49m\u001b[38;5;241;43m*\u001b[39;49m\u001b[43mkwargs\u001b[49m\u001b[43m)\u001b[49m\n\u001b[1;32m    263\u001b[0m                 \u001b[38;5;28;01mfor\u001b[39;00m func, args, kwargs \u001b[38;5;129;01min\u001b[39;00m \u001b[38;5;28mself\u001b[39m\u001b[38;5;241m.\u001b[39mitems]\n",
      "File \u001b[0;32m~/anaconda3/lib/python3.9/site-packages/sklearn/utils/fixes.py:117\u001b[0m, in \u001b[0;36m_FuncWrapper.__call__\u001b[0;34m(self, *args, **kwargs)\u001b[0m\n\u001b[1;32m    115\u001b[0m \u001b[38;5;28;01mdef\u001b[39;00m \u001b[38;5;21m__call__\u001b[39m(\u001b[38;5;28mself\u001b[39m, \u001b[38;5;241m*\u001b[39margs, \u001b[38;5;241m*\u001b[39m\u001b[38;5;241m*\u001b[39mkwargs):\n\u001b[1;32m    116\u001b[0m     \u001b[38;5;28;01mwith\u001b[39;00m config_context(\u001b[38;5;241m*\u001b[39m\u001b[38;5;241m*\u001b[39m\u001b[38;5;28mself\u001b[39m\u001b[38;5;241m.\u001b[39mconfig):\n\u001b[0;32m--> 117\u001b[0m         \u001b[38;5;28;01mreturn\u001b[39;00m \u001b[38;5;28;43mself\u001b[39;49m\u001b[38;5;241;43m.\u001b[39;49m\u001b[43mfunction\u001b[49m\u001b[43m(\u001b[49m\u001b[38;5;241;43m*\u001b[39;49m\u001b[43margs\u001b[49m\u001b[43m,\u001b[49m\u001b[43m \u001b[49m\u001b[38;5;241;43m*\u001b[39;49m\u001b[38;5;241;43m*\u001b[39;49m\u001b[43mkwargs\u001b[49m\u001b[43m)\u001b[49m\n",
      "File \u001b[0;32m~/anaconda3/lib/python3.9/site-packages/sklearn/model_selection/_validation.py:686\u001b[0m, in \u001b[0;36m_fit_and_score\u001b[0;34m(estimator, X, y, scorer, train, test, verbose, parameters, fit_params, return_train_score, return_parameters, return_n_test_samples, return_times, return_estimator, split_progress, candidate_progress, error_score)\u001b[0m\n\u001b[1;32m    684\u001b[0m         estimator\u001b[38;5;241m.\u001b[39mfit(X_train, \u001b[38;5;241m*\u001b[39m\u001b[38;5;241m*\u001b[39mfit_params)\n\u001b[1;32m    685\u001b[0m     \u001b[38;5;28;01melse\u001b[39;00m:\n\u001b[0;32m--> 686\u001b[0m         \u001b[43mestimator\u001b[49m\u001b[38;5;241;43m.\u001b[39;49m\u001b[43mfit\u001b[49m\u001b[43m(\u001b[49m\u001b[43mX_train\u001b[49m\u001b[43m,\u001b[49m\u001b[43m \u001b[49m\u001b[43my_train\u001b[49m\u001b[43m,\u001b[49m\u001b[43m \u001b[49m\u001b[38;5;241;43m*\u001b[39;49m\u001b[38;5;241;43m*\u001b[39;49m\u001b[43mfit_params\u001b[49m\u001b[43m)\u001b[49m\n\u001b[1;32m    688\u001b[0m \u001b[38;5;28;01mexcept\u001b[39;00m \u001b[38;5;167;01mException\u001b[39;00m:\n\u001b[1;32m    689\u001b[0m     \u001b[38;5;66;03m# Note fit time as time until error\u001b[39;00m\n\u001b[1;32m    690\u001b[0m     fit_time \u001b[38;5;241m=\u001b[39m time\u001b[38;5;241m.\u001b[39mtime() \u001b[38;5;241m-\u001b[39m start_time\n",
      "File \u001b[0;32m~/anaconda3/lib/python3.9/site-packages/sklearn/ensemble/_forest.py:476\u001b[0m, in \u001b[0;36mBaseForest.fit\u001b[0;34m(self, X, y, sample_weight)\u001b[0m\n\u001b[1;32m    465\u001b[0m trees \u001b[38;5;241m=\u001b[39m [\n\u001b[1;32m    466\u001b[0m     \u001b[38;5;28mself\u001b[39m\u001b[38;5;241m.\u001b[39m_make_estimator(append\u001b[38;5;241m=\u001b[39m\u001b[38;5;28;01mFalse\u001b[39;00m, random_state\u001b[38;5;241m=\u001b[39mrandom_state)\n\u001b[1;32m    467\u001b[0m     \u001b[38;5;28;01mfor\u001b[39;00m i \u001b[38;5;129;01min\u001b[39;00m \u001b[38;5;28mrange\u001b[39m(n_more_estimators)\n\u001b[1;32m    468\u001b[0m ]\n\u001b[1;32m    470\u001b[0m \u001b[38;5;66;03m# Parallel loop: we prefer the threading backend as the Cython code\u001b[39;00m\n\u001b[1;32m    471\u001b[0m \u001b[38;5;66;03m# for fitting the trees is internally releasing the Python GIL\u001b[39;00m\n\u001b[1;32m    472\u001b[0m \u001b[38;5;66;03m# making threading more efficient than multiprocessing in\u001b[39;00m\n\u001b[1;32m    473\u001b[0m \u001b[38;5;66;03m# that case. However, for joblib 0.12+ we respect any\u001b[39;00m\n\u001b[1;32m    474\u001b[0m \u001b[38;5;66;03m# parallel_backend contexts set at a higher level,\u001b[39;00m\n\u001b[1;32m    475\u001b[0m \u001b[38;5;66;03m# since correctness does not rely on using threads.\u001b[39;00m\n\u001b[0;32m--> 476\u001b[0m trees \u001b[38;5;241m=\u001b[39m \u001b[43mParallel\u001b[49m\u001b[43m(\u001b[49m\n\u001b[1;32m    477\u001b[0m \u001b[43m    \u001b[49m\u001b[43mn_jobs\u001b[49m\u001b[38;5;241;43m=\u001b[39;49m\u001b[38;5;28;43mself\u001b[39;49m\u001b[38;5;241;43m.\u001b[39;49m\u001b[43mn_jobs\u001b[49m\u001b[43m,\u001b[49m\n\u001b[1;32m    478\u001b[0m \u001b[43m    \u001b[49m\u001b[43mverbose\u001b[49m\u001b[38;5;241;43m=\u001b[39;49m\u001b[38;5;28;43mself\u001b[39;49m\u001b[38;5;241;43m.\u001b[39;49m\u001b[43mverbose\u001b[49m\u001b[43m,\u001b[49m\n\u001b[1;32m    479\u001b[0m \u001b[43m    \u001b[49m\u001b[43mprefer\u001b[49m\u001b[38;5;241;43m=\u001b[39;49m\u001b[38;5;124;43m\"\u001b[39;49m\u001b[38;5;124;43mthreads\u001b[39;49m\u001b[38;5;124;43m\"\u001b[39;49m\u001b[43m,\u001b[49m\n\u001b[1;32m    480\u001b[0m \u001b[43m\u001b[49m\u001b[43m)\u001b[49m\u001b[43m(\u001b[49m\n\u001b[1;32m    481\u001b[0m \u001b[43m    \u001b[49m\u001b[43mdelayed\u001b[49m\u001b[43m(\u001b[49m\u001b[43m_parallel_build_trees\u001b[49m\u001b[43m)\u001b[49m\u001b[43m(\u001b[49m\n\u001b[1;32m    482\u001b[0m \u001b[43m        \u001b[49m\u001b[43mt\u001b[49m\u001b[43m,\u001b[49m\n\u001b[1;32m    483\u001b[0m \u001b[43m        \u001b[49m\u001b[38;5;28;43mself\u001b[39;49m\u001b[38;5;241;43m.\u001b[39;49m\u001b[43mbootstrap\u001b[49m\u001b[43m,\u001b[49m\n\u001b[1;32m    484\u001b[0m \u001b[43m        \u001b[49m\u001b[43mX\u001b[49m\u001b[43m,\u001b[49m\n\u001b[1;32m    485\u001b[0m \u001b[43m        \u001b[49m\u001b[43my\u001b[49m\u001b[43m,\u001b[49m\n\u001b[1;32m    486\u001b[0m \u001b[43m        \u001b[49m\u001b[43msample_weight\u001b[49m\u001b[43m,\u001b[49m\n\u001b[1;32m    487\u001b[0m \u001b[43m        \u001b[49m\u001b[43mi\u001b[49m\u001b[43m,\u001b[49m\n\u001b[1;32m    488\u001b[0m \u001b[43m        \u001b[49m\u001b[38;5;28;43mlen\u001b[39;49m\u001b[43m(\u001b[49m\u001b[43mtrees\u001b[49m\u001b[43m)\u001b[49m\u001b[43m,\u001b[49m\n\u001b[1;32m    489\u001b[0m \u001b[43m        \u001b[49m\u001b[43mverbose\u001b[49m\u001b[38;5;241;43m=\u001b[39;49m\u001b[38;5;28;43mself\u001b[39;49m\u001b[38;5;241;43m.\u001b[39;49m\u001b[43mverbose\u001b[49m\u001b[43m,\u001b[49m\n\u001b[1;32m    490\u001b[0m \u001b[43m        \u001b[49m\u001b[43mclass_weight\u001b[49m\u001b[38;5;241;43m=\u001b[39;49m\u001b[38;5;28;43mself\u001b[39;49m\u001b[38;5;241;43m.\u001b[39;49m\u001b[43mclass_weight\u001b[49m\u001b[43m,\u001b[49m\n\u001b[1;32m    491\u001b[0m \u001b[43m        \u001b[49m\u001b[43mn_samples_bootstrap\u001b[49m\u001b[38;5;241;43m=\u001b[39;49m\u001b[43mn_samples_bootstrap\u001b[49m\u001b[43m,\u001b[49m\n\u001b[1;32m    492\u001b[0m \u001b[43m    \u001b[49m\u001b[43m)\u001b[49m\n\u001b[1;32m    493\u001b[0m \u001b[43m    \u001b[49m\u001b[38;5;28;43;01mfor\u001b[39;49;00m\u001b[43m \u001b[49m\u001b[43mi\u001b[49m\u001b[43m,\u001b[49m\u001b[43m \u001b[49m\u001b[43mt\u001b[49m\u001b[43m \u001b[49m\u001b[38;5;129;43;01min\u001b[39;49;00m\u001b[43m \u001b[49m\u001b[38;5;28;43menumerate\u001b[39;49m\u001b[43m(\u001b[49m\u001b[43mtrees\u001b[49m\u001b[43m)\u001b[49m\n\u001b[1;32m    494\u001b[0m \u001b[43m\u001b[49m\u001b[43m)\u001b[49m\n\u001b[1;32m    496\u001b[0m \u001b[38;5;66;03m# Collect newly grown trees\u001b[39;00m\n\u001b[1;32m    497\u001b[0m \u001b[38;5;28mself\u001b[39m\u001b[38;5;241m.\u001b[39mestimators_\u001b[38;5;241m.\u001b[39mextend(trees)\n",
      "File \u001b[0;32m~/anaconda3/lib/python3.9/site-packages/joblib/parallel.py:1056\u001b[0m, in \u001b[0;36mParallel.__call__\u001b[0;34m(self, iterable)\u001b[0m\n\u001b[1;32m   1053\u001b[0m     \u001b[38;5;28mself\u001b[39m\u001b[38;5;241m.\u001b[39m_iterating \u001b[38;5;241m=\u001b[39m \u001b[38;5;28;01mFalse\u001b[39;00m\n\u001b[1;32m   1055\u001b[0m \u001b[38;5;28;01mwith\u001b[39;00m \u001b[38;5;28mself\u001b[39m\u001b[38;5;241m.\u001b[39m_backend\u001b[38;5;241m.\u001b[39mretrieval_context():\n\u001b[0;32m-> 1056\u001b[0m     \u001b[38;5;28;43mself\u001b[39;49m\u001b[38;5;241;43m.\u001b[39;49m\u001b[43mretrieve\u001b[49m\u001b[43m(\u001b[49m\u001b[43m)\u001b[49m\n\u001b[1;32m   1057\u001b[0m \u001b[38;5;66;03m# Make sure that we get a last message telling us we are done\u001b[39;00m\n\u001b[1;32m   1058\u001b[0m elapsed_time \u001b[38;5;241m=\u001b[39m time\u001b[38;5;241m.\u001b[39mtime() \u001b[38;5;241m-\u001b[39m \u001b[38;5;28mself\u001b[39m\u001b[38;5;241m.\u001b[39m_start_time\n",
      "File \u001b[0;32m~/anaconda3/lib/python3.9/site-packages/joblib/parallel.py:935\u001b[0m, in \u001b[0;36mParallel.retrieve\u001b[0;34m(self)\u001b[0m\n\u001b[1;32m    933\u001b[0m \u001b[38;5;28;01mtry\u001b[39;00m:\n\u001b[1;32m    934\u001b[0m     \u001b[38;5;28;01mif\u001b[39;00m \u001b[38;5;28mgetattr\u001b[39m(\u001b[38;5;28mself\u001b[39m\u001b[38;5;241m.\u001b[39m_backend, \u001b[38;5;124m'\u001b[39m\u001b[38;5;124msupports_timeout\u001b[39m\u001b[38;5;124m'\u001b[39m, \u001b[38;5;28;01mFalse\u001b[39;00m):\n\u001b[0;32m--> 935\u001b[0m         \u001b[38;5;28mself\u001b[39m\u001b[38;5;241m.\u001b[39m_output\u001b[38;5;241m.\u001b[39mextend(\u001b[43mjob\u001b[49m\u001b[38;5;241;43m.\u001b[39;49m\u001b[43mget\u001b[49m\u001b[43m(\u001b[49m\u001b[43mtimeout\u001b[49m\u001b[38;5;241;43m=\u001b[39;49m\u001b[38;5;28;43mself\u001b[39;49m\u001b[38;5;241;43m.\u001b[39;49m\u001b[43mtimeout\u001b[49m\u001b[43m)\u001b[49m)\n\u001b[1;32m    936\u001b[0m     \u001b[38;5;28;01melse\u001b[39;00m:\n\u001b[1;32m    937\u001b[0m         \u001b[38;5;28mself\u001b[39m\u001b[38;5;241m.\u001b[39m_output\u001b[38;5;241m.\u001b[39mextend(job\u001b[38;5;241m.\u001b[39mget())\n",
      "File \u001b[0;32m~/anaconda3/lib/python3.9/site-packages/joblib/_parallel_backends.py:542\u001b[0m, in \u001b[0;36mLokyBackend.wrap_future_result\u001b[0;34m(future, timeout)\u001b[0m\n\u001b[1;32m    539\u001b[0m \u001b[38;5;124;03m\"\"\"Wrapper for Future.result to implement the same behaviour as\u001b[39;00m\n\u001b[1;32m    540\u001b[0m \u001b[38;5;124;03mAsyncResults.get from multiprocessing.\"\"\"\u001b[39;00m\n\u001b[1;32m    541\u001b[0m \u001b[38;5;28;01mtry\u001b[39;00m:\n\u001b[0;32m--> 542\u001b[0m     \u001b[38;5;28;01mreturn\u001b[39;00m \u001b[43mfuture\u001b[49m\u001b[38;5;241;43m.\u001b[39;49m\u001b[43mresult\u001b[49m\u001b[43m(\u001b[49m\u001b[43mtimeout\u001b[49m\u001b[38;5;241;43m=\u001b[39;49m\u001b[43mtimeout\u001b[49m\u001b[43m)\u001b[49m\n\u001b[1;32m    543\u001b[0m \u001b[38;5;28;01mexcept\u001b[39;00m CfTimeoutError \u001b[38;5;28;01mas\u001b[39;00m e:\n\u001b[1;32m    544\u001b[0m     \u001b[38;5;28;01mraise\u001b[39;00m \u001b[38;5;167;01mTimeoutError\u001b[39;00m \u001b[38;5;28;01mfrom\u001b[39;00m \u001b[38;5;21;01me\u001b[39;00m\n",
      "File \u001b[0;32m~/anaconda3/lib/python3.9/concurrent/futures/_base.py:441\u001b[0m, in \u001b[0;36mFuture.result\u001b[0;34m(self, timeout)\u001b[0m\n\u001b[1;32m    438\u001b[0m \u001b[38;5;28;01melif\u001b[39;00m \u001b[38;5;28mself\u001b[39m\u001b[38;5;241m.\u001b[39m_state \u001b[38;5;241m==\u001b[39m FINISHED:\n\u001b[1;32m    439\u001b[0m     \u001b[38;5;28;01mreturn\u001b[39;00m \u001b[38;5;28mself\u001b[39m\u001b[38;5;241m.\u001b[39m__get_result()\n\u001b[0;32m--> 441\u001b[0m \u001b[38;5;28;43mself\u001b[39;49m\u001b[38;5;241;43m.\u001b[39;49m\u001b[43m_condition\u001b[49m\u001b[38;5;241;43m.\u001b[39;49m\u001b[43mwait\u001b[49m\u001b[43m(\u001b[49m\u001b[43mtimeout\u001b[49m\u001b[43m)\u001b[49m\n\u001b[1;32m    443\u001b[0m \u001b[38;5;28;01mif\u001b[39;00m \u001b[38;5;28mself\u001b[39m\u001b[38;5;241m.\u001b[39m_state \u001b[38;5;129;01min\u001b[39;00m [CANCELLED, CANCELLED_AND_NOTIFIED]:\n\u001b[1;32m    444\u001b[0m     \u001b[38;5;28;01mraise\u001b[39;00m CancelledError()\n",
      "File \u001b[0;32m~/anaconda3/lib/python3.9/threading.py:312\u001b[0m, in \u001b[0;36mCondition.wait\u001b[0;34m(self, timeout)\u001b[0m\n\u001b[1;32m    310\u001b[0m \u001b[38;5;28;01mtry\u001b[39;00m:    \u001b[38;5;66;03m# restore state no matter what (e.g., KeyboardInterrupt)\u001b[39;00m\n\u001b[1;32m    311\u001b[0m     \u001b[38;5;28;01mif\u001b[39;00m timeout \u001b[38;5;129;01mis\u001b[39;00m \u001b[38;5;28;01mNone\u001b[39;00m:\n\u001b[0;32m--> 312\u001b[0m         \u001b[43mwaiter\u001b[49m\u001b[38;5;241;43m.\u001b[39;49m\u001b[43macquire\u001b[49m\u001b[43m(\u001b[49m\u001b[43m)\u001b[49m\n\u001b[1;32m    313\u001b[0m         gotit \u001b[38;5;241m=\u001b[39m \u001b[38;5;28;01mTrue\u001b[39;00m\n\u001b[1;32m    314\u001b[0m     \u001b[38;5;28;01melse\u001b[39;00m:\n",
      "\u001b[0;31mKeyboardInterrupt\u001b[0m: "
     ]
    }
   ],
   "source": [
    "%%time\n",
    "from skopt import gp_minimize\n",
    "rf_best_params = gp_minimize(tune_rf, space, random_state=0, verbose=True, n_calls=100, n_random_starts=20, n_jobs=-1)"
   ]
  },
  {
   "cell_type": "code",
   "execution_count": 246,
   "id": "84d64a68-64cc-45f6-a51e-5a308c0eb88b",
   "metadata": {},
   "outputs": [
    {
     "data": {
      "text/plain": [
       "[True, 10, 4, 2, 100]"
      ]
     },
     "execution_count": 246,
     "metadata": {},
     "output_type": "execute_result"
    }
   ],
   "source": [
    "rf_best_params.x"
   ]
  },
  {
   "cell_type": "code",
   "execution_count": 247,
   "id": "00fb314c-f3d6-4c0d-a167-2d4c7cf6f32d",
   "metadata": {},
   "outputs": [
    {
     "data": {
      "text/html": [
       "<div>\n",
       "<style scoped>\n",
       "    .dataframe tbody tr th:only-of-type {\n",
       "        vertical-align: middle;\n",
       "    }\n",
       "\n",
       "    .dataframe tbody tr th {\n",
       "        vertical-align: top;\n",
       "    }\n",
       "\n",
       "    .dataframe thead th {\n",
       "        text-align: right;\n",
       "    }\n",
       "</style>\n",
       "<table border=\"1\" class=\"dataframe\">\n",
       "  <thead>\n",
       "    <tr style=\"text-align: right;\">\n",
       "      <th></th>\n",
       "      <th>R2</th>\n",
       "      <th>MAE</th>\n",
       "      <th>RMSE</th>\n",
       "      <th>RPD</th>\n",
       "    </tr>\n",
       "  </thead>\n",
       "  <tbody>\n",
       "    <tr>\n",
       "      <th>Teste</th>\n",
       "      <td>0.581916</td>\n",
       "      <td>1.237431</td>\n",
       "      <td>1.819624</td>\n",
       "      <td>1.556576</td>\n",
       "    </tr>\n",
       "  </tbody>\n",
       "</table>\n",
       "</div>"
      ],
      "text/plain": [
       "             R2       MAE      RMSE       RPD\n",
       "Teste  0.581916  1.237431  1.819624  1.556576"
      ]
     },
     "execution_count": 247,
     "metadata": {},
     "output_type": "execute_result"
    }
   ],
   "source": [
    "rf_model = RandomForestRegressor(bootstrap=True, max_depth=10,\n",
    "                                     min_samples_leaf=4, min_samples_split=2,\n",
    "                                     n_estimators=100, random_state=0, criterion='poisson', n_jobs=-1)\n",
    "\n",
    "svr_model.fit(x_train, y_train)\n",
    "preds = svr_model.predict(x_test)\n",
    "cmls.evalute_model(y_test, preds)"
   ]
  },
  {
   "cell_type": "code",
   "execution_count": 248,
   "id": "516fad09-555e-4944-9cb3-afb42bf2bfb4",
   "metadata": {},
   "outputs": [
    {
     "data": {
      "image/png": "[encoded data removed]",
      "text/plain": [
       "<Figure size 432x288 with 1 Axes>"
      ]
     },
     "metadata": {
      "needs_background": "light"
     },
     "output_type": "display_data"
    }
   ],
   "source": [
    "cmls.plot_real_vs_predict(y_test, preds)"
   ]
  },
  {
   "cell_type": "code",
   "execution_count": null,
   "id": "b6fe2c08-b698-481f-b20b-5a753a962806",
   "metadata": {},
   "outputs": [],
   "source": []
  }
 ],
 "metadata": {
  "kernelspec": {
   "display_name": "Python 3 (ipykernel)",
   "language": "python",
   "name": "python3"
  },
  "language_info": {
   "codemirror_mode": {
    "name": "ipython",
    "version": 3
   },
   "file_extension": ".py",
   "mimetype": "text/x-python",
   "name": "python",
   "nbconvert_exporter": "python",
   "pygments_lexer": "ipython3",
   "version": "3.9.12"
  }
 },
 "nbformat": 4,
 "nbformat_minor": 5
}
