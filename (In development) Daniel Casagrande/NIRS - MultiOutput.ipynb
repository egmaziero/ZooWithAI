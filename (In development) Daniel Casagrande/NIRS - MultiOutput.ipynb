{
 "cells": [
  {
   "cell_type": "markdown",
   "id": "7e7e49a9",
   "metadata": {},
   "source": [
    "# <center> NIRS <center> MultiOutput\n",
    "***\n",
    "# Table of Contents\n",
    "* [READING THE DATASET INTO PYTHON](#READING-THE-DATASET-INTO-PYTHON)\n",
    "* [DATA EDITING](#DATA-EDITING)\n",
    "    * [Creating dummy variables (One-Hot Encode)](#Creating-dummy-variables-(One-Hot-Encode))\n",
    "    * [Creating training and testing datasets](#Creating-training-and-testing-datasets)\n",
    "* [PARTIAL LEAST SQUARE](#PARTIAL-LEAST-SQUARE)\n",
    "    * [Training (GridSearch)](#Training-(GridSearch))\n",
    "    * [Testing](#Testing)\n",
    "* [RIDGE REGRESSION](#RIDGE-REGRESSION)\n",
    "    * [Training (GridSearch)](#Training-(GridSearch))\n",
    "    * [Testing](#Testing)\n",
    "* [NEURAL NETWORK](#NEURAL-NETWORK)\n",
    "    * [Data pre-processing](#Data-pre-processing)\n",
    "    * [Training (GridSearch)](#Training-(GridSearch))\n",
    "    * [Testing](#Testing)\n",
    "***"
   ]
  },
  {
   "cell_type": "markdown",
   "id": "74b55a4e",
   "metadata": {
    "tags": []
   },
   "source": [
    "## READING THE DATASET INTO PYTHON"
   ]
  },
  {
   "cell_type": "code",
   "execution_count": 12,
   "id": "1e13ef95",
   "metadata": {},
   "outputs": [],
   "source": [
    "import pandas as pd\n",
    "import numpy as np\n",
    "import warnings\n",
    "# warnings.filterwarnings('ignore')\n",
    "df = pd.read_excel('Datasets/Lucas/dados_nirs_lucas.xlsx')"
   ]
  },
  {
   "cell_type": "code",
   "execution_count": 13,
   "id": "673aec9c-8078-432e-8407-76a5e8309e02",
   "metadata": {},
   "outputs": [],
   "source": [
    "# Private libary\n",
    "import cmls"
   ]
  },
  {
   "cell_type": "markdown",
   "id": "62817c1d",
   "metadata": {
    "tags": []
   },
   "source": [
    "## DATA EDITING"
   ]
  },
  {
   "cell_type": "code",
   "execution_count": 14,
   "id": "bb24da99-9787-4415-bb5d-46b843c3111c",
   "metadata": {},
   "outputs": [],
   "source": [
    "# Transform all feautere names to string\n",
    "df.columns = df.columns.map(str)"
   ]
  },
  {
   "cell_type": "markdown",
   "id": "003f2694",
   "metadata": {
    "tags": []
   },
   "source": [
    "## Creating training and testing datasets"
   ]
  },
  {
   "cell_type": "code",
   "execution_count": 34,
   "id": "c232a81b",
   "metadata": {},
   "outputs": [],
   "source": [
    "# Select all NIRS data as x\n",
    "x = df.loc[:,'12493.238':]"
   ]
  },
  {
   "cell_type": "code",
   "execution_count": 30,
   "id": "be349d78-2220-4f4b-b323-d45c3983c19f",
   "metadata": {},
   "outputs": [],
   "source": [
    "# Add Categoria feature\n",
    "x = x.join(df.loc[:,['Categoria']])\n",
    "\n",
    "# One-Hot Encode categorical features\n",
    "x = pd.get_dummies(x, drop_first=False)"
   ]
  },
  {
   "cell_type": "code",
   "execution_count": 31,
   "id": "c190ba82-d977-46d8-ae25-a1e5e47e3c90",
   "metadata": {},
   "outputs": [
    {
     "name": "stdout",
     "output_type": "stream",
     "text": [
      "['Animal', 'Coleta', 'Aluno', 'Experimento', 'Categoria', 'Dieta', 'Status fisiologico', 'Peso corporal kg', 'Consumo MS kg/dia', 'Consumo MO kg/dia', 'Consumo PB kg/dia', 'Consumo FDN kg/dia', 'Consumo EE kg/dia', 'Consumo CNF kg/dia', 'Consumo de FDNi kg/dia', 'Fezes MS kg/dia', 'Fezes MO kg/dia', 'Fezes PB kg/dia', 'Fezes FDN kg/dia', 'Fezes EE kg/dia', 'Fezes CNF kg/dia', 'TD MO', 'TD PB', 'TD FDN', 'TD EE', 'TD CNF', 'TF MO', 'TF PB', 'TF FDN', 'TF EE', 'TF CNF', 'TF FDNpd', 'CD MS', 'CD MO', 'CD PB', 'CD FDN', 'CD EE', 'CD CNF']\n"
     ]
    }
   ],
   "source": [
    "# Non NIRS features\n",
    "print(df.loc[:,:'CD CNF'].columns.tolist())"
   ]
  },
  {
   "cell_type": "code",
   "execution_count": 32,
   "id": "e6a41e7e",
   "metadata": {},
   "outputs": [],
   "source": [
    "# Response variable vector\n",
    "target_features = ['Consumo MS kg/dia', 'TD PB', 'TF PB', 'CD FDN']\n",
    "y = df[target_features]"
   ]
  },
  {
   "cell_type": "code",
   "execution_count": 35,
   "id": "090f6dfb-0aab-403e-9f0c-86533cffa165",
   "metadata": {},
   "outputs": [],
   "source": [
    "y = df['TD PB']"
   ]
  },
  {
   "cell_type": "code",
   "execution_count": 36,
   "id": "f223bce9",
   "metadata": {},
   "outputs": [
    {
     "name": "stdout",
     "output_type": "stream",
     "text": [
      "N. samples training 186 , N. samples testing 81\n"
     ]
    }
   ],
   "source": [
    "# Split the data set into training (70%) and testing (30%)\n",
    "from sklearn.model_selection import train_test_split\n",
    "x_train, x_test, y_train, y_test = train_test_split(x, y, test_size=0.30, shuffle=True, random_state=40)\n",
    "print(\"N. samples training %s , N. samples testing %s\" % (x_train.shape[0], x_test.shape[0]))"
   ]
  },
  {
   "cell_type": "markdown",
   "id": "1da27c3f-3748-43b9-8b82-cfcb53e3685a",
   "metadata": {},
   "source": [
    "# PARTIAL LEAST SQUARE"
   ]
  },
  {
   "cell_type": "markdown",
   "id": "7160c6f9",
   "metadata": {
    "tags": []
   },
   "source": [
    "##  Training (GridSearch)"
   ]
  },
  {
   "cell_type": "code",
   "execution_count": 10,
   "id": "5433598d",
   "metadata": {},
   "outputs": [
    {
     "data": {
      "text/plain": [
       "GridSearchCV(cv=3, estimator=PLSRegression(),\n",
       "             param_grid={'n_components': [1, 3, 5]},\n",
       "             refit='neg_root_mean_squared_error', return_train_score=True,\n",
       "             scoring=('r2', 'neg_mean_absolute_error',\n",
       "                      'neg_root_mean_squared_error'))"
      ]
     },
     "execution_count": 10,
     "metadata": {},
     "output_type": "execute_result"
    }
   ],
   "source": [
    "# GridSearch using k-fold cross-validation\n",
    "from sklearn.cross_decomposition import PLSRegression\n",
    "from sklearn.model_selection import GridSearchCV\n",
    "nfolds = 3\n",
    "metrics = ('r2', 'neg_mean_absolute_error', 'neg_root_mean_squared_error')\n",
    "parameters = {'n_components':[1, 3, 5]}\n",
    "pls = PLSRegression()\n",
    "pls = GridSearchCV(pls, parameters, scoring=metrics, cv=nfolds, refit = metrics[2], return_train_score = True)\n",
    "pls.fit(x_train, y_train)"
   ]
  },
  {
   "cell_type": "code",
   "execution_count": 11,
   "id": "6ec7cdbd",
   "metadata": {},
   "outputs": [
    {
     "data": {
      "text/html": [
       "<div>\n",
       "<style scoped>\n",
       "    .dataframe tbody tr th:only-of-type {\n",
       "        vertical-align: middle;\n",
       "    }\n",
       "\n",
       "    .dataframe tbody tr th {\n",
       "        vertical-align: top;\n",
       "    }\n",
       "\n",
       "    .dataframe thead th {\n",
       "        text-align: right;\n",
       "    }\n",
       "</style>\n",
       "<table border=\"1\" class=\"dataframe\">\n",
       "  <thead>\n",
       "    <tr style=\"text-align: right;\">\n",
       "      <th></th>\n",
       "      <th>N. Components</th>\n",
       "      <th>R2</th>\n",
       "      <th>MAE</th>\n",
       "      <th>RMSE</th>\n",
       "    </tr>\n",
       "  </thead>\n",
       "  <tbody>\n",
       "    <tr>\n",
       "      <th>0</th>\n",
       "      <td>1</td>\n",
       "      <td>-0.017726</td>\n",
       "      <td>10.001146</td>\n",
       "      <td>12.740323</td>\n",
       "    </tr>\n",
       "    <tr>\n",
       "      <th>1</th>\n",
       "      <td>3</td>\n",
       "      <td>0.023302</td>\n",
       "      <td>9.327968</td>\n",
       "      <td>12.493303</td>\n",
       "    </tr>\n",
       "    <tr>\n",
       "      <th>2</th>\n",
       "      <td>5</td>\n",
       "      <td>0.023212</td>\n",
       "      <td>9.478155</td>\n",
       "      <td>12.467623</td>\n",
       "    </tr>\n",
       "  </tbody>\n",
       "</table>\n",
       "</div>"
      ],
      "text/plain": [
       "  N. Components        R2        MAE       RMSE\n",
       "0             1 -0.017726  10.001146  12.740323\n",
       "1             3  0.023302   9.327968  12.493303\n",
       "2             5  0.023212   9.478155  12.467623"
      ]
     },
     "execution_count": 11,
     "metadata": {},
     "output_type": "execute_result"
    }
   ],
   "source": [
    "# Matrics - training\n",
    "pd.DataFrame({'N. Components': pls.cv_results_[\"param_n_components\"], \n",
    "              'R2': pls.cv_results_[\"mean_test_r2\"], \n",
    "              'MAE': abs(pls.cv_results_['mean_test_neg_mean_absolute_error']),\n",
    "              'RMSE': abs(pls.cv_results_['mean_test_neg_root_mean_squared_error'])})"
   ]
  },
  {
   "cell_type": "markdown",
   "id": "2201d717",
   "metadata": {},
   "source": [
    "## Testing"
   ]
  },
  {
   "cell_type": "code",
   "execution_count": 12,
   "id": "3dff4142",
   "metadata": {},
   "outputs": [
    {
     "name": "stdout",
     "output_type": "stream",
     "text": [
      "Best N. Components: 5, RMSE: 12.467623\n"
     ]
    }
   ],
   "source": [
    "# Print best number of components and RMSE, and testing the best model using the test set\n",
    "print(\"Best N. Components: %s, RMSE: %.6f\" % (pls.best_params_['n_components'], abs(pls.best_score_)))\n",
    "ypred = pls.best_estimator_.predict(x_test)"
   ]
  },
  {
   "cell_type": "code",
   "execution_count": 13,
   "id": "9360095c",
   "metadata": {},
   "outputs": [
    {
     "data": {
      "text/plain": [
       "[<matplotlib.lines.Line2D at 0x7fe2a6dbafd0>]"
      ]
     },
     "execution_count": 13,
     "metadata": {},
     "output_type": "execute_result"
    },
    {
     "data": {
      "image/png": "[encoded data removed]",
      "text/plain": [
       "<Figure size 432x288 with 1 Axes>"
      ]
     },
     "metadata": {
      "needs_background": "light"
     },
     "output_type": "display_data"
    }
   ],
   "source": [
    "# Scatter plot - predicted and observed\n",
    "import matplotlib.pyplot as plt\n",
    "import numpy as np\n",
    "ypred = np.ravel(ypred)\n",
    "plt.plot(ypred, y_test, 'o')\n",
    "m, b = np.polyfit(ypred, y_test, 1)\n",
    "plt.plot(ypred, m*ypred + b)"
   ]
  },
  {
   "cell_type": "code",
   "execution_count": null,
   "id": "240cb02f",
   "metadata": {},
   "outputs": [],
   "source": [
    "# Metrics - testing\n",
    "from sklearn.metrics import *\n",
    "\n",
    "pd.DataFrame({'N. Components': [pls.best_params_['n_components']], \n",
    "              'R2': r2_score(y_test, ypred), \n",
    "              'MAE': [mean_absolute_error(y_test, ypred)],\n",
    "              'RMSE': [mean_squared_error(y_test, ypred, squared=False)]})"
   ]
  },
  {
   "cell_type": "markdown",
   "id": "3455bcc7-2349-4dd7-91b2-4d2a48182ae2",
   "metadata": {
    "tags": []
   },
   "source": [
    "# SUPPORT VECTOR MACHINE"
   ]
  },
  {
   "cell_type": "code",
   "execution_count": 20,
   "id": "24990506-ef56-4c9e-bb4e-3f81fe2a8cfe",
   "metadata": {},
   "outputs": [
    {
     "ename": "IndexError",
     "evalue": "tuple index out of range",
     "output_type": "error",
     "traceback": [
      "\u001b[0;31m---------------------------------------------------------------------------\u001b[0m",
      "\u001b[0;31mIndexError\u001b[0m                                Traceback (most recent call last)",
      "Input \u001b[0;32mIn [20]\u001b[0m, in \u001b[0;36m<cell line: 7>\u001b[0;34m()\u001b[0m\n\u001b[1;32m      4\u001b[0m svr \u001b[38;5;241m=\u001b[39m SVR()\n\u001b[1;32m      5\u001b[0m svr_model \u001b[38;5;241m=\u001b[39m RegressorChain(svr)\n\u001b[0;32m----> 7\u001b[0m \u001b[43msvr_model\u001b[49m\u001b[38;5;241;43m.\u001b[39;49m\u001b[43mfit\u001b[49m\u001b[43m(\u001b[49m\u001b[43mx_train\u001b[49m\u001b[43m,\u001b[49m\u001b[43m \u001b[49m\u001b[43my_train\u001b[49m\u001b[43m)\u001b[49m\n\u001b[1;32m      8\u001b[0m svr_preds \u001b[38;5;241m=\u001b[39m svr_model\u001b[38;5;241m.\u001b[39mpredict(x_test)\n\u001b[1;32m      9\u001b[0m cmls\u001b[38;5;241m.\u001b[39mevalute_model(y_test, svr_preds)\n",
      "File \u001b[0;32m~/anaconda3/lib/python3.9/site-packages/sklearn/multioutput.py:954\u001b[0m, in \u001b[0;36mRegressorChain.fit\u001b[0;34m(self, X, Y, **fit_params)\u001b[0m\n\u001b[1;32m    932\u001b[0m \u001b[38;5;28;01mdef\u001b[39;00m \u001b[38;5;21mfit\u001b[39m(\u001b[38;5;28mself\u001b[39m, X, Y, \u001b[38;5;241m*\u001b[39m\u001b[38;5;241m*\u001b[39mfit_params):\n\u001b[1;32m    933\u001b[0m     \u001b[38;5;124;03m\"\"\"Fit the model to data matrix X and targets Y.\u001b[39;00m\n\u001b[1;32m    934\u001b[0m \n\u001b[1;32m    935\u001b[0m \u001b[38;5;124;03m    Parameters\u001b[39;00m\n\u001b[0;32m   (...)\u001b[0m\n\u001b[1;32m    952\u001b[0m \u001b[38;5;124;03m        Returns a fitted instance.\u001b[39;00m\n\u001b[1;32m    953\u001b[0m \u001b[38;5;124;03m    \"\"\"\u001b[39;00m\n\u001b[0;32m--> 954\u001b[0m     \u001b[38;5;28;43msuper\u001b[39;49m\u001b[43m(\u001b[49m\u001b[43m)\u001b[49m\u001b[38;5;241;43m.\u001b[39;49m\u001b[43mfit\u001b[49m\u001b[43m(\u001b[49m\u001b[43mX\u001b[49m\u001b[43m,\u001b[49m\u001b[43m \u001b[49m\u001b[43mY\u001b[49m\u001b[43m,\u001b[49m\u001b[43m \u001b[49m\u001b[38;5;241;43m*\u001b[39;49m\u001b[38;5;241;43m*\u001b[39;49m\u001b[43mfit_params\u001b[49m\u001b[43m)\u001b[49m\n\u001b[1;32m    955\u001b[0m     \u001b[38;5;28;01mreturn\u001b[39;00m \u001b[38;5;28mself\u001b[39m\n",
      "File \u001b[0;32m~/anaconda3/lib/python3.9/site-packages/sklearn/multioutput.py:564\u001b[0m, in \u001b[0;36m_BaseChain.fit\u001b[0;34m(self, X, Y, **fit_params)\u001b[0m\n\u001b[1;32m    561\u001b[0m     \u001b[38;5;28mself\u001b[39m\u001b[38;5;241m.\u001b[39morder_ \u001b[38;5;241m=\u001b[39m np\u001b[38;5;241m.\u001b[39marray(\u001b[38;5;28mself\u001b[39m\u001b[38;5;241m.\u001b[39morder_)\n\u001b[1;32m    563\u001b[0m \u001b[38;5;28;01mif\u001b[39;00m \u001b[38;5;28mself\u001b[39m\u001b[38;5;241m.\u001b[39morder_ \u001b[38;5;129;01mis\u001b[39;00m \u001b[38;5;28;01mNone\u001b[39;00m:\n\u001b[0;32m--> 564\u001b[0m     \u001b[38;5;28mself\u001b[39m\u001b[38;5;241m.\u001b[39morder_ \u001b[38;5;241m=\u001b[39m np\u001b[38;5;241m.\u001b[39marray(\u001b[38;5;28mrange\u001b[39m(\u001b[43mY\u001b[49m\u001b[38;5;241;43m.\u001b[39;49m\u001b[43mshape\u001b[49m\u001b[43m[\u001b[49m\u001b[38;5;241;43m1\u001b[39;49m\u001b[43m]\u001b[49m))\n\u001b[1;32m    565\u001b[0m \u001b[38;5;28;01melif\u001b[39;00m \u001b[38;5;28misinstance\u001b[39m(\u001b[38;5;28mself\u001b[39m\u001b[38;5;241m.\u001b[39morder_, \u001b[38;5;28mstr\u001b[39m):\n\u001b[1;32m    566\u001b[0m     \u001b[38;5;28;01mif\u001b[39;00m \u001b[38;5;28mself\u001b[39m\u001b[38;5;241m.\u001b[39morder_ \u001b[38;5;241m==\u001b[39m \u001b[38;5;124m\"\u001b[39m\u001b[38;5;124mrandom\u001b[39m\u001b[38;5;124m\"\u001b[39m:\n",
      "\u001b[0;31mIndexError\u001b[0m: tuple index out of range"
     ]
    }
   ],
   "source": [
    "from sklearn.svm import SVR\n",
    "from sklearn.multioutput import RegressorChain\n",
    "\n",
    "svr = SVR()\n",
    "svr_model = RegressorChain(svr)\n",
    "\n",
    "svr_model.fit(x_train, y_train)\n",
    "svr_preds = svr_model.predict(x_test)\n",
    "cmls.evalute_model(y_test, svr_preds)"
   ]
  },
  {
   "cell_type": "code",
   "execution_count": 99,
   "id": "4c9daa1d-1f22-4d4c-aa5c-a4f32acb4d35",
   "metadata": {},
   "outputs": [
    {
     "data": {
      "text/html": [
       "<div>\n",
       "<style scoped>\n",
       "    .dataframe tbody tr th:only-of-type {\n",
       "        vertical-align: middle;\n",
       "    }\n",
       "\n",
       "    .dataframe tbody tr th {\n",
       "        vertical-align: top;\n",
       "    }\n",
       "\n",
       "    .dataframe thead th {\n",
       "        text-align: right;\n",
       "    }\n",
       "</style>\n",
       "<table border=\"1\" class=\"dataframe\">\n",
       "  <thead>\n",
       "    <tr style=\"text-align: right;\">\n",
       "      <th></th>\n",
       "      <th>R2</th>\n",
       "      <th>MAE</th>\n",
       "      <th>RMSE</th>\n",
       "    </tr>\n",
       "  </thead>\n",
       "  <tbody>\n",
       "    <tr>\n",
       "      <th>Teste</th>\n",
       "      <td>0.087072</td>\n",
       "      <td>3.687592</td>\n",
       "      <td>4.803699</td>\n",
       "    </tr>\n",
       "  </tbody>\n",
       "</table>\n",
       "</div>"
      ],
      "text/plain": [
       "             R2       MAE      RMSE\n",
       "Teste  0.087072  3.687592  4.803699"
      ]
     },
     "execution_count": 99,
     "metadata": {},
     "output_type": "execute_result"
    }
   ],
   "source": [
    "from sklearn.svm import SVR\n",
    "from sklearn.multioutput import MultiOutputRegressor\n",
    "\n",
    "svr = SVR()\n",
    "svr_model = MultiOutputRegressor(svr, n_jobs=-1)\n",
    "\n",
    "svr_model.fit(x_train, y_train)\n",
    "svr_preds = svr_model.predict(x_test)\n",
    "cmls.evalute_model(y_test, svr_preds)"
   ]
  },
  {
   "cell_type": "code",
   "execution_count": 31,
   "id": "003ddbeb-6bc4-4c85-b6fb-895e82739fda",
   "metadata": {},
   "outputs": [
    {
     "data": {
      "image/png": "[encoded data removed]",
      "text/plain": [
       "<Figure size 864x432 with 1 Axes>"
      ]
     },
     "metadata": {
      "needs_background": "light"
     },
     "output_type": "display_data"
    },
    {
     "data": {
      "image/png": "[encoded data removed]",
      "text/plain": [
       "<Figure size 864x432 with 1 Axes>"
      ]
     },
     "metadata": {
      "needs_background": "light"
     },
     "output_type": "display_data"
    }
   ],
   "source": [
    "cmls.plot_graphical_analysis(y_test.iloc[:, 0], svr_preds[:, 0], svr_model)"
   ]
  },
  {
   "cell_type": "code",
   "execution_count": 16,
   "id": "9ad3cca1-42f4-4cfa-875a-afb0aceb60e8",
   "metadata": {},
   "outputs": [
    {
     "data": {
      "text/html": [
       "<div>\n",
       "<style scoped>\n",
       "    .dataframe tbody tr th:only-of-type {\n",
       "        vertical-align: middle;\n",
       "    }\n",
       "\n",
       "    .dataframe tbody tr th {\n",
       "        vertical-align: top;\n",
       "    }\n",
       "\n",
       "    .dataframe thead th {\n",
       "        text-align: right;\n",
       "    }\n",
       "</style>\n",
       "<table border=\"1\" class=\"dataframe\">\n",
       "  <thead>\n",
       "    <tr style=\"text-align: right;\">\n",
       "      <th></th>\n",
       "      <th>Consumo MS kg/dia</th>\n",
       "      <th>TD PB</th>\n",
       "      <th>TF PB</th>\n",
       "      <th>CD FDN</th>\n",
       "    </tr>\n",
       "  </thead>\n",
       "  <tbody>\n",
       "    <tr>\n",
       "      <th>208</th>\n",
       "      <td>9.432997</td>\n",
       "      <td>7.123244</td>\n",
       "      <td>8.582565</td>\n",
       "      <td>74.959423</td>\n",
       "    </tr>\n",
       "    <tr>\n",
       "      <th>235</th>\n",
       "      <td>4.018938</td>\n",
       "      <td>12.228666</td>\n",
       "      <td>6.326041</td>\n",
       "      <td>42.071424</td>\n",
       "    </tr>\n",
       "    <tr>\n",
       "      <th>100</th>\n",
       "      <td>5.456952</td>\n",
       "      <td>9.234744</td>\n",
       "      <td>8.970731</td>\n",
       "      <td>40.093267</td>\n",
       "    </tr>\n",
       "    <tr>\n",
       "      <th>11</th>\n",
       "      <td>8.774905</td>\n",
       "      <td>10.598406</td>\n",
       "      <td>14.563240</td>\n",
       "      <td>54.119909</td>\n",
       "    </tr>\n",
       "    <tr>\n",
       "      <th>18</th>\n",
       "      <td>6.280935</td>\n",
       "      <td>10.189565</td>\n",
       "      <td>10.506493</td>\n",
       "      <td>59.461427</td>\n",
       "    </tr>\n",
       "    <tr>\n",
       "      <th>...</th>\n",
       "      <td>...</td>\n",
       "      <td>...</td>\n",
       "      <td>...</td>\n",
       "      <td>...</td>\n",
       "    </tr>\n",
       "    <tr>\n",
       "      <th>127</th>\n",
       "      <td>7.710313</td>\n",
       "      <td>14.664137</td>\n",
       "      <td>8.974352</td>\n",
       "      <td>44.650003</td>\n",
       "    </tr>\n",
       "    <tr>\n",
       "      <th>129</th>\n",
       "      <td>9.760199</td>\n",
       "      <td>13.887121</td>\n",
       "      <td>8.491273</td>\n",
       "      <td>48.505494</td>\n",
       "    </tr>\n",
       "    <tr>\n",
       "      <th>256</th>\n",
       "      <td>8.482097</td>\n",
       "      <td>6.754417</td>\n",
       "      <td>11.925040</td>\n",
       "      <td>65.687081</td>\n",
       "    </tr>\n",
       "    <tr>\n",
       "      <th>162</th>\n",
       "      <td>4.312271</td>\n",
       "      <td>5.723337</td>\n",
       "      <td>8.130000</td>\n",
       "      <td>53.551821</td>\n",
       "    </tr>\n",
       "    <tr>\n",
       "      <th>183</th>\n",
       "      <td>3.588879</td>\n",
       "      <td>7.642755</td>\n",
       "      <td>8.720000</td>\n",
       "      <td>48.927690</td>\n",
       "    </tr>\n",
       "  </tbody>\n",
       "</table>\n",
       "<p>81 rows × 4 columns</p>\n",
       "</div>"
      ],
      "text/plain": [
       "     Consumo MS kg/dia      TD PB      TF PB     CD FDN\n",
       "208           9.432997   7.123244   8.582565  74.959423\n",
       "235           4.018938  12.228666   6.326041  42.071424\n",
       "100           5.456952   9.234744   8.970731  40.093267\n",
       "11            8.774905  10.598406  14.563240  54.119909\n",
       "18            6.280935  10.189565  10.506493  59.461427\n",
       "..                 ...        ...        ...        ...\n",
       "127           7.710313  14.664137   8.974352  44.650003\n",
       "129           9.760199  13.887121   8.491273  48.505494\n",
       "256           8.482097   6.754417  11.925040  65.687081\n",
       "162           4.312271   5.723337   8.130000  53.551821\n",
       "183           3.588879   7.642755   8.720000  48.927690\n",
       "\n",
       "[81 rows x 4 columns]"
      ]
     },
     "execution_count": 16,
     "metadata": {},
     "output_type": "execute_result"
    }
   ],
   "source": [
    "y_test"
   ]
  },
  {
   "cell_type": "code",
   "execution_count": 30,
   "id": "acc49d44-688c-45c3-a730-e7cc241c12df",
   "metadata": {},
   "outputs": [
    {
     "data": {
      "image/png": "[encoded data removed]",
      "text/plain": [
       "<Figure size 1296x648 with 4 Axes>"
      ]
     },
     "metadata": {
      "needs_background": "light"
     },
     "output_type": "display_data"
    }
   ],
   "source": [
    "import matplotlib.pyplot as plt\n",
    "x_ax = range(len(x_test))\n",
    "fig = plt.figure(figsize=(18,9))\n",
    "num_of_targets = len(target_features)\n",
    "\n",
    "for i in range(num_of_targets):\n",
    "    fig.add_subplot(num_of_targets//2, num_of_targets//2, i + 1)   \n",
    "    plt.plot(x_ax, y_test.iloc[:,i], label=target_features[i]+\" - Real\", color='c')\n",
    "    plt.plot(x_ax, svr_preds[:,i], label=target_features[i]+\" - Predito\", color='b')\n",
    "    plt.legend(loc=\"upper right\")\n",
    "\n",
    "plt.legend()\n",
    "plt.show()"
   ]
  },
  {
   "cell_type": "code",
   "execution_count": 21,
   "id": "1f1218ff-1949-4f2f-8bf9-fdafd7fc8931",
   "metadata": {},
   "outputs": [
    {
     "data": {
      "text/html": [
       "<div>\n",
       "<style scoped>\n",
       "    .dataframe tbody tr th:only-of-type {\n",
       "        vertical-align: middle;\n",
       "    }\n",
       "\n",
       "    .dataframe tbody tr th {\n",
       "        vertical-align: top;\n",
       "    }\n",
       "\n",
       "    .dataframe thead th {\n",
       "        text-align: right;\n",
       "    }\n",
       "</style>\n",
       "<table border=\"1\" class=\"dataframe\">\n",
       "  <thead>\n",
       "    <tr style=\"text-align: right;\">\n",
       "      <th></th>\n",
       "      <th>R2</th>\n",
       "      <th>MAE</th>\n",
       "      <th>RMSE</th>\n",
       "    </tr>\n",
       "  </thead>\n",
       "  <tbody>\n",
       "    <tr>\n",
       "      <th>Teste</th>\n",
       "      <td>0.14092</td>\n",
       "      <td>2.191742</td>\n",
       "      <td>3.165511</td>\n",
       "    </tr>\n",
       "  </tbody>\n",
       "</table>\n",
       "</div>"
      ],
      "text/plain": [
       "            R2       MAE      RMSE\n",
       "Teste  0.14092  2.191742  3.165511"
      ]
     },
     "execution_count": 21,
     "metadata": {},
     "output_type": "execute_result"
    }
   ],
   "source": [
    "from sklearn.svm import SVR\n",
    "svr_model = SVR()\n",
    "\n",
    "svr_model.fit(x_train, y_train)\n",
    "svr_preds = svr_model.predict(x_test)\n",
    "cmls.evalute_model(y_test, svr_preds)"
   ]
  },
  {
   "cell_type": "code",
   "execution_count": 22,
   "id": "33cfc323-d017-4417-ba76-327f2c4aaf72",
   "metadata": {
    "tags": []
   },
   "outputs": [
    {
     "data": {
      "image/png": "[encoded data removed]",
      "text/plain": [
       "<Figure size 432x288 with 1 Axes>"
      ]
     },
     "metadata": {
      "needs_background": "light"
     },
     "output_type": "display_data"
    }
   ],
   "source": [
    "import matplotlib.pyplot as plt\n",
    "x_ax = range(len(x_test))\n",
    "\n",
    "plt.plot(x_ax, y_test, label=\"Real\", color='c')\n",
    "plt.plot(x_ax, svr_preds, label=\"Predito\", color='b')\n",
    "\n",
    "plt.legend()\n",
    "plt.show()"
   ]
  },
  {
   "cell_type": "markdown",
   "id": "e93acc55-2bcf-4d7c-8751-b4aba5beb6b4",
   "metadata": {
    "tags": []
   },
   "source": [
    "##  Hyperparameters search"
   ]
  },
  {
   "cell_type": "code",
   "execution_count": 37,
   "id": "a011fa57-7f7f-4927-aad1-bf9fda58257c",
   "metadata": {},
   "outputs": [],
   "source": [
    "from sklearn.model_selection import cross_val_score"
   ]
  },
  {
   "cell_type": "code",
   "execution_count": 38,
   "id": "9d9105f3-0136-4ef0-993c-d8180803cc19",
   "metadata": {},
   "outputs": [],
   "source": [
    "def tune_svt(params):\n",
    "    from sklearn.model_selection import cross_val_score\n",
    "    kernel = params[0]\n",
    "    degree = params[1]\n",
    "    gamma = params[2]\n",
    "    coef0 = params[3]\n",
    "    tol = params[4]\n",
    "    C = params[5]\n",
    "    \n",
    "    print(params, '\\n')\n",
    "    \n",
    "    svr_model = SVR(kernel=kernel, degree=degree, gamma=gamma, coef0=coef0, tol=tol, C=C)\n",
    "\n",
    "    r2 = cross_val_score(svr_model, x_train, y_train, cv=3, scoring ='r2')\n",
    "    \n",
    "    return -r2.mean()\n",
    "\n",
    "space = [\n",
    "    ['linear', 'poly', 'rbf', 'sigmoid'], #kernal\n",
    "    (1, 12), #degree\n",
    "    ['scale', 'auto'], # gamma\n",
    "    (0.05, 3.0), # coef0\n",
    "    (0.000001, 0.01), # tol\n",
    "    (0.1, 3.0)] # C"
   ]
  },
  {
   "cell_type": "code",
   "execution_count": 39,
   "id": "9e653114-8059-48f6-a41a-be91ce60541e",
   "metadata": {},
   "outputs": [
    {
     "name": "stdout",
     "output_type": "stream",
     "text": [
      "Iteration No: 1 started. Evaluating function at random point.\n",
      "['rbf', 10, 'scale', 2.5493926294131706, 0.0062360134041629395, 1.2147069511488298] \n",
      "\n",
      "Iteration No: 1 ended. Evaluation done at random point.\n",
      "Time taken: 0.1059\n",
      "Function value obtained: -0.1810\n",
      "Current minimum: -0.1810\n",
      "Iteration No: 2 started. Evaluating function at random point.\n",
      "['poly', 2, 'auto', 1.4591120960979826, 0.00812187511902616, 1.4919337998876667] \n",
      "\n",
      "Iteration No: 2 ended. Evaluation done at random point.\n",
      "Time taken: 0.0862\n",
      "Function value obtained: 0.0025\n",
      "Current minimum: -0.1810\n",
      "Iteration No: 3 started. Evaluating function at random point.\n",
      "['poly', 10, 'auto', 1.9621070225510322, 0.0036830471568656403, 2.875749960963835] \n",
      "\n",
      "Iteration No: 3 ended. Evaluation done at random point.\n",
      "Time taken: 0.1102\n",
      "Function value obtained: -0.0524\n",
      "Current minimum: -0.1810\n",
      "Iteration No: 4 started. Evaluating function at random point.\n",
      "['linear', 11, 'auto', 2.412686718339951, 0.005205254318032499, 2.068750637344985] \n",
      "\n",
      "Iteration No: 4 ended. Evaluation done at random point.\n",
      "Time taken: 0.0888\n",
      "Function value obtained: -0.2457\n",
      "Current minimum: -0.2457\n",
      "Iteration No: 5 started. Evaluating function at random point.\n",
      "['rbf', 7, 'scale', 2.2879160917509545, 0.0010599701642707339, 1.473441216105307] \n",
      "\n",
      "Iteration No: 5 ended. Evaluation done at random point.\n",
      "Time taken: 0.0979\n",
      "Function value obtained: -0.1975\n",
      "Current minimum: -0.2457\n",
      "Iteration No: 6 started. Evaluating function at random point.\n",
      "['poly', 9, 'auto', 0.44889361154608365, 0.0032420859369243485, 0.5340571148326813] \n",
      "\n",
      "Iteration No: 6 ended. Evaluation done at random point.\n",
      "Time taken: 0.0857\n",
      "Function value obtained: 0.0338\n",
      "Current minimum: -0.2457\n",
      "Iteration No: 7 started. Evaluating function at random point.\n",
      "['poly', 5, 'scale', 1.377352470238122, 0.006131021515383442, 2.7168108912045548] \n",
      "\n",
      "Iteration No: 7 ended. Evaluation done at random point.\n",
      "Time taken: 0.1609\n",
      "Function value obtained: 4.1976\n",
      "Current minimum: -0.2457\n",
      "Iteration No: 8 started. Evaluating function at random point.\n",
      "['linear', 12, 'scale', 0.5541832761513333, 0.0035821635175282817, 2.2769898095335237] \n",
      "\n",
      "Iteration No: 8 ended. Evaluation done at random point.\n",
      "Time taken: 0.0918\n",
      "Function value obtained: -0.2388\n",
      "Current minimum: -0.2457\n",
      "Iteration No: 9 started. Evaluating function at random point.\n",
      "['rbf', 5, 'auto', 1.9211084709741388, 0.009589533736976581, 1.9930919193159238] \n",
      "\n",
      "Iteration No: 9 ended. Evaluation done at random point.\n",
      "Time taken: 0.0945\n",
      "Function value obtained: 0.0083\n",
      "Current minimum: -0.2457\n",
      "Iteration No: 10 started. Evaluating function at random point.\n",
      "['rbf', 12, 'scale', 1.2723873352677884, 0.004747500325381842, 1.9081792932824182] \n",
      "\n",
      "Iteration No: 10 ended. Evaluation done at random point.\n",
      "Time taken: 0.0974\n",
      "Function value obtained: -0.2193\n",
      "Current minimum: -0.2457\n",
      "Iteration No: 11 started. Evaluating function at random point.\n",
      "['poly', 8, 'auto', 2.346119171976432, 0.009495760963453974, 2.021327914155129] \n",
      "\n",
      "Iteration No: 11 ended. Evaluation done at random point.\n",
      "Time taken: 0.0922\n",
      "Function value obtained: -0.1738\n",
      "Current minimum: -0.2457\n",
      "Iteration No: 12 started. Evaluating function at random point.\n",
      "['linear', 8, 'scale', 2.9172377573740147, 0.008782056520000425, 1.5779106924877107] \n",
      "\n",
      "Iteration No: 12 ended. Evaluation done at random point.\n",
      "Time taken: 0.0891\n",
      "Function value obtained: -0.2709\n",
      "Current minimum: -0.2709\n",
      "Iteration No: 13 started. Evaluating function at random point.\n",
      "['linear', 6, 'auto', 1.3530472176840942, 0.009795887701398474, 1.1423889455110325] \n",
      "\n",
      "Iteration No: 13 ended. Evaluation done at random point.\n",
      "Time taken: 0.0880\n",
      "Function value obtained: -0.2867\n",
      "Current minimum: -0.2867\n",
      "Iteration No: 14 started. Evaluating function at random point.\n",
      "['poly', 9, 'scale', 2.7587946257683273, 0.002169004554137802, 1.7390477131541389] \n",
      "\n",
      "Iteration No: 14 ended. Evaluation done at random point.\n",
      "Time taken: 0.1597\n",
      "Function value obtained: 46.5210\n",
      "Current minimum: -0.2867\n",
      "Iteration No: 15 started. Evaluating function at random point.\n",
      "['sigmoid', 7, 'scale', 2.76741495019974, 0.0008320418138133935, 0.9053838277149943] \n",
      "\n",
      "Iteration No: 15 ended. Evaluation done at random point.\n",
      "Time taken: 0.0944\n",
      "Function value obtained: 0.0344\n",
      "Current minimum: -0.2867\n",
      "Iteration No: 16 started. Evaluating function at random point.\n",
      "['linear', 10, 'scale', 2.532089051632196, 0.002648036912670214, 1.2536801830000246] \n",
      "\n",
      "Iteration No: 16 ended. Evaluation done at random point.\n",
      "Time taken: 0.0884\n",
      "Function value obtained: -0.2826\n",
      "Current minimum: -0.2867\n",
      "Iteration No: 17 started. Evaluating function at random point.\n",
      "['rbf', 3, 'auto', 0.4820032000508812, 0.005696614440827146, 2.1408381099407574] \n",
      "\n",
      "Iteration No: 17 ended. Evaluation done at random point.\n",
      "Time taken: 0.0981\n",
      "Function value obtained: 0.0069\n",
      "Current minimum: -0.2867\n",
      "Iteration No: 18 started. Evaluating function at random point.\n",
      "['poly', 6, 'scale', 1.2184899124989192, 0.008960487836703264, 1.9528711210708076] \n",
      "\n",
      "Iteration No: 18 ended. Evaluation done at random point.\n",
      "Time taken: 0.1523\n",
      "Function value obtained: 8.6956\n",
      "Current minimum: -0.2867\n",
      "Iteration No: 19 started. Evaluating function at random point.\n",
      "['sigmoid', 8, 'auto', 2.936784238841116, 0.0011629028942143319, 2.3243687403203084] \n",
      "\n",
      "Iteration No: 19 ended. Evaluation done at random point.\n",
      "Time taken: 0.0903\n",
      "Function value obtained: 0.0342\n",
      "Current minimum: -0.2867\n",
      "Iteration No: 20 started. Evaluating function at random point.\n",
      "['poly', 8, 'auto', 0.9739940792405556, 0.009654196788978752, 1.8065487466993737] \n",
      "\n",
      "Iteration No: 20 ended. Evaluation done at random point.\n",
      "Time taken: 0.4512\n",
      "Function value obtained: -0.1122\n",
      "Current minimum: -0.2867\n",
      "Iteration No: 21 started. Searching for the next optimal point.\n",
      "['poly', 2, 'scale', 0.05, 0.01, 2.109043529745863] \n",
      "\n",
      "Iteration No: 21 ended. Search finished for the next optimal point.\n",
      "Time taken: 0.4687\n",
      "Function value obtained: -0.2886\n",
      "Current minimum: -0.2886\n",
      "Iteration No: 22 started. Searching for the next optimal point.\n",
      "['sigmoid', 2, 'auto', 0.1765853665022144, 0.005878462195917423, 0.4371289172405708] \n",
      "\n",
      "Iteration No: 22 ended. Search finished for the next optimal point.\n",
      "Time taken: 0.5030\n",
      "Function value obtained: 0.0314\n",
      "Current minimum: -0.2886\n",
      "Iteration No: 23 started. Searching for the next optimal point.\n",
      "['poly', 1, 'scale', 0.4807541357979653, 0.004556554097614236, 3.0] \n",
      "\n",
      "Iteration No: 23 ended. Search finished for the next optimal point.\n",
      "Time taken: 0.4454\n",
      "Function value obtained: -0.2257\n",
      "Current minimum: -0.2886\n",
      "Iteration No: 24 started. Searching for the next optimal point.\n",
      "['sigmoid', 9, 'scale', 0.26448779687504, 0.006699375526409588, 0.696887824212804] \n",
      "\n",
      "Iteration No: 24 ended. Search finished for the next optimal point.\n",
      "Time taken: 0.5321\n",
      "Function value obtained: 0.0344\n",
      "Current minimum: -0.2886\n",
      "Iteration No: 25 started. Searching for the next optimal point.\n",
      "['sigmoid', 3, 'auto', 0.9296817734087348, 0.009280349773520902, 3.0] \n",
      "\n",
      "Iteration No: 25 ended. Search finished for the next optimal point.\n",
      "Time taken: 0.5040\n",
      "Function value obtained: 0.0266\n",
      "Current minimum: -0.2886\n",
      "Iteration No: 26 started. Searching for the next optimal point.\n",
      "['sigmoid', 8, 'scale', 1.4465483630470344, 0.004392064174849885, 2.9999971818945137] \n",
      "\n",
      "Iteration No: 26 ended. Search finished for the next optimal point.\n",
      "Time taken: 0.4458\n",
      "Function value obtained: 0.0344\n",
      "Current minimum: -0.2886\n",
      "Iteration No: 27 started. Searching for the next optimal point.\n",
      "['linear', 1, 'scale', 0.5836419538941466, 0.00024233331478488583, 0.22932239065599708] \n",
      "\n",
      "Iteration No: 27 ended. Search finished for the next optimal point.\n",
      "Time taken: 0.6045\n",
      "Function value obtained: -0.2914\n",
      "Current minimum: -0.2914\n",
      "Iteration No: 28 started. Searching for the next optimal point.\n",
      "['poly', 2, 'scale', 0.05, 0.01, 2.240656062603011] \n",
      "\n",
      "Iteration No: 28 ended. Search finished for the next optimal point.\n",
      "Time taken: 0.4734\n",
      "Function value obtained: -0.2875\n",
      "Current minimum: -0.2914\n",
      "Iteration No: 29 started. Searching for the next optimal point.\n",
      "['rbf', 11, 'scale', 2.7845948742406983, 0.0062563781769014405, 0.8148067418190016] \n",
      "\n",
      "Iteration No: 29 ended. Search finished for the next optimal point.\n",
      "Time taken: 0.4886\n",
      "Function value obtained: -0.1369\n",
      "Current minimum: -0.2914\n",
      "Iteration No: 30 started. Searching for the next optimal point.\n",
      "['linear', 7, 'auto', 1.1705947977784958, 0.008996617049079616, 1.3700195891744877] \n",
      "\n",
      "Iteration No: 30 ended. Search finished for the next optimal point.\n",
      "Time taken: 0.5107\n",
      "Function value obtained: -0.2783\n",
      "Current minimum: -0.2914\n",
      "Iteration No: 31 started. Searching for the next optimal point.\n",
      "['linear', 8, 'scale', 3.0, 0.008771491819959476, 1.5604767160388637] \n",
      "\n",
      "Iteration No: 31 ended. Search finished for the next optimal point.\n",
      "Time taken: 0.5714\n",
      "Function value obtained: -0.2716\n",
      "Current minimum: -0.2914\n",
      "Iteration No: 32 started. Searching for the next optimal point.\n",
      "['poly', 1, 'scale', 0.05, 0.01, 1.640458238485637] \n",
      "\n",
      "Iteration No: 32 ended. Search finished for the next optimal point.\n",
      "Time taken: 0.6143\n",
      "Function value obtained: -0.1738\n",
      "Current minimum: -0.2914\n",
      "Iteration No: 33 started. Searching for the next optimal point.\n",
      "['poly', 6, 'scale', 0.05, 0.01, 3.0] \n",
      "\n",
      "Iteration No: 33 ended. Search finished for the next optimal point.\n",
      "Time taken: 0.7287\n",
      "Function value obtained: 6.4589\n",
      "Current minimum: -0.2914\n",
      "Iteration No: 34 started. Searching for the next optimal point.\n",
      "['poly', 2, 'scale', 0.05324981276035698, 0.009769388110174446, 2.1945474411520496] \n",
      "\n",
      "Iteration No: 34 ended. Search finished for the next optimal point.\n",
      "Time taken: 0.6084\n",
      "Function value obtained: -0.2878\n",
      "Current minimum: -0.2914\n",
      "Iteration No: 35 started. Searching for the next optimal point.\n",
      "['linear', 1, 'scale', 0.8067244951873266, 0.0007311904382512932, 0.30194818045077565] \n",
      "\n",
      "Iteration No: 35 ended. Search finished for the next optimal point.\n",
      "Time taken: 0.6256\n",
      "Function value obtained: -0.2937\n",
      "Current minimum: -0.2937\n",
      "Iteration No: 36 started. Searching for the next optimal point.\n",
      "['linear', 1, 'scale', 1.6298545626753969, 0.002556173522948577, 0.5613745354785382] \n",
      "\n",
      "Iteration No: 36 ended. Search finished for the next optimal point.\n",
      "Time taken: 0.6570\n",
      "Function value obtained: -0.3016\n",
      "Current minimum: -0.3016\n",
      "Iteration No: 37 started. Searching for the next optimal point.\n",
      "['poly', 4, 'scale', 0.05, 0.01, 3.0] \n",
      "\n",
      "Iteration No: 37 ended. Search finished for the next optimal point.\n",
      "Time taken: 0.6741\n",
      "Function value obtained: 1.2089\n",
      "Current minimum: -0.3016\n",
      "Iteration No: 38 started. Searching for the next optimal point.\n",
      "['linear', 1, 'scale', 2.3109959907667155, 0.004115892359353495, 0.724625718243233] \n",
      "\n",
      "Iteration No: 38 ended. Search finished for the next optimal point.\n",
      "Time taken: 0.6259\n",
      "Function value obtained: -0.2992\n",
      "Current minimum: -0.3016\n",
      "Iteration No: 39 started. Searching for the next optimal point.\n",
      "['linear', 1, 'scale', 1.8752707204980863, 0.001940402559193704, 1.8474917025754363] \n",
      "\n",
      "Iteration No: 39 ended. Search finished for the next optimal point.\n",
      "Time taken: 0.7884\n",
      "Function value obtained: -0.2575\n",
      "Current minimum: -0.3016\n",
      "Iteration No: 40 started. Searching for the next optimal point.\n",
      "['poly', 8, 'auto', 3.0, 0.005778384056786349, 3.0] \n",
      "\n",
      "Iteration No: 40 ended. Search finished for the next optimal point.\n",
      "Time taken: 0.7066\n",
      "Function value obtained: 0.0979\n",
      "Current minimum: -0.3016\n",
      "Iteration No: 41 started. Searching for the next optimal point.\n",
      "['linear', 1, 'scale', 2.3058206335617193, 0.006602102468531963, 0.1] \n",
      "\n",
      "Iteration No: 41 ended. Search finished for the next optimal point.\n",
      "Time taken: 0.6608\n",
      "Function value obtained: -0.2636\n",
      "Current minimum: -0.3016\n",
      "Iteration No: 42 started. Searching for the next optimal point.\n",
      "['linear', 1, 'scale', 2.1352406930548438, 1e-06, 0.1] \n",
      "\n",
      "Iteration No: 42 ended. Search finished for the next optimal point.\n",
      "Time taken: 0.5513\n",
      "Function value obtained: -0.2636\n",
      "Current minimum: -0.3016\n",
      "Iteration No: 43 started. Searching for the next optimal point.\n",
      "['poly', 9, 'auto', 0.20779565683087464, 0.005865946219287813, 0.39605985209718886] \n",
      "\n",
      "Iteration No: 43 ended. Search finished for the next optimal point.\n",
      "Time taken: 0.6459\n",
      "Function value obtained: 0.0344\n",
      "Current minimum: -0.3016\n",
      "Iteration No: 44 started. Searching for the next optimal point.\n",
      "['poly', 11, 'auto', 0.5263422745384649, 0.01, 0.1] \n",
      "\n",
      "Iteration No: 44 ended. Search finished for the next optimal point.\n",
      "Time taken: 0.6837\n",
      "Function value obtained: 0.0343\n",
      "Current minimum: -0.3016\n",
      "Iteration No: 45 started. Searching for the next optimal point.\n",
      "['linear', 1, 'scale', 0.8282034521270469, 0.01, 0.1] \n",
      "\n",
      "Iteration No: 45 ended. Search finished for the next optimal point.\n",
      "Time taken: 0.7337\n",
      "Function value obtained: -0.2636\n",
      "Current minimum: -0.3016\n",
      "Iteration No: 46 started. Searching for the next optimal point.\n",
      "['linear', 2, 'scale', 3.0, 1e-06, 0.1] \n",
      "\n",
      "Iteration No: 46 ended. Search finished for the next optimal point.\n",
      "Time taken: 0.6390\n",
      "Function value obtained: -0.2636\n",
      "Current minimum: -0.3016\n",
      "Iteration No: 47 started. Searching for the next optimal point.\n",
      "['poly', 8, 'auto', 3.0, 0.01, 0.7902297930849803] \n",
      "\n",
      "Iteration No: 47 ended. Search finished for the next optimal point.\n",
      "Time taken: 0.6342\n",
      "Function value obtained: -0.1400\n",
      "Current minimum: -0.3016\n",
      "Iteration No: 48 started. Searching for the next optimal point.\n",
      "['poly', 8, 'auto', 2.101745654182984, 0.01, 0.1] \n",
      "\n",
      "Iteration No: 48 ended. Search finished for the next optimal point.\n",
      "Time taken: 0.6406\n",
      "Function value obtained: -0.2642\n",
      "Current minimum: -0.3016\n",
      "Iteration No: 49 started. Searching for the next optimal point.\n",
      "['poly', 9, 'auto', 1.9767365969235613, 0.01, 0.1] \n",
      "\n",
      "Iteration No: 49 ended. Search finished for the next optimal point.\n",
      "Time taken: 0.6753\n",
      "Function value obtained: -0.2826\n",
      "Current minimum: -0.3016\n",
      "Iteration No: 50 started. Searching for the next optimal point.\n",
      "['poly', 2, 'scale', 0.05, 0.0008167039820954456, 3.0] \n",
      "\n",
      "Iteration No: 50 ended. Search finished for the next optimal point.\n",
      "Time taken: 0.7267\n",
      "Function value obtained: -0.2830\n",
      "Current minimum: -0.3016\n",
      "Iteration No: 51 started. Searching for the next optimal point.\n",
      "['poly', 1, 'scale', 2.411798987940633, 0.01, 3.0] \n",
      "\n",
      "Iteration No: 51 ended. Search finished for the next optimal point.\n",
      "Time taken: 0.7866\n",
      "Function value obtained: -0.2256\n",
      "Current minimum: -0.3016\n",
      "Iteration No: 52 started. Searching for the next optimal point.\n",
      "['rbf', 9, 'scale', 0.05, 1e-06, 3.0] \n",
      "\n",
      "Iteration No: 52 ended. Search finished for the next optimal point.\n",
      "Time taken: 0.7163\n",
      "Function value obtained: -0.2484\n",
      "Current minimum: -0.3016\n",
      "Iteration No: 53 started. Searching for the next optimal point.\n",
      "['linear', 9, 'auto', 3.0, 0.004518279595702363, 1.3771981856670283] \n",
      "\n",
      "Iteration No: 53 ended. Search finished for the next optimal point.\n",
      "Time taken: 0.7542\n",
      "Function value obtained: -0.2781\n",
      "Current minimum: -0.3016\n",
      "Iteration No: 54 started. Searching for the next optimal point.\n",
      "['linear', 6, 'auto', 2.854710988602801, 1e-06, 0.1] \n",
      "\n",
      "Iteration No: 54 ended. Search finished for the next optimal point.\n",
      "Time taken: 0.7170\n",
      "Function value obtained: -0.2636\n",
      "Current minimum: -0.3016\n",
      "Iteration No: 55 started. Searching for the next optimal point.\n",
      "['linear', 9, 'auto', 0.715717920462213, 0.007339740249308881, 1.1926428001021414] \n",
      "\n",
      "Iteration No: 55 ended. Search finished for the next optimal point.\n",
      "Time taken: 0.8382\n",
      "Function value obtained: -0.2849\n",
      "Current minimum: -0.3016\n",
      "Iteration No: 56 started. Searching for the next optimal point.\n",
      "['poly', 9, 'auto', 3.0, 0.01, 0.1] \n",
      "\n",
      "Iteration No: 56 ended. Search finished for the next optimal point.\n",
      "Time taken: 0.7993\n",
      "Function value obtained: -0.1794\n",
      "Current minimum: -0.3016\n",
      "Iteration No: 57 started. Searching for the next optimal point.\n",
      "['linear', 5, 'auto', 0.05, 1e-06, 3.0] \n",
      "\n",
      "Iteration No: 57 ended. Search finished for the next optimal point.\n",
      "Time taken: 0.7098\n",
      "Function value obtained: -0.2301\n",
      "Current minimum: -0.3016\n",
      "Iteration No: 58 started. Searching for the next optimal point.\n",
      "['linear', 6, 'scale', 3.0, 1e-06, 0.1] \n",
      "\n",
      "Iteration No: 58 ended. Search finished for the next optimal point.\n",
      "Time taken: 0.7488\n",
      "Function value obtained: -0.2636\n",
      "Current minimum: -0.3016\n",
      "Iteration No: 59 started. Searching for the next optimal point.\n",
      "['linear', 10, 'scale', 3.0, 1e-06, 0.1] \n",
      "\n",
      "Iteration No: 59 ended. Search finished for the next optimal point.\n",
      "Time taken: 0.7652\n",
      "Function value obtained: -0.2636\n",
      "Current minimum: -0.3016\n",
      "Iteration No: 60 started. Searching for the next optimal point.\n",
      "['poly', 10, 'auto', 3.0, 0.01, 0.1] \n",
      "\n",
      "Iteration No: 60 ended. Search finished for the next optimal point.\n",
      "Time taken: 0.7344\n",
      "Function value obtained: -0.0620\n",
      "Current minimum: -0.3016\n",
      "Iteration No: 61 started. Searching for the next optimal point.\n",
      "['linear', 10, 'scale', 0.5595318089542812, 0.01, 3.0] \n",
      "\n",
      "Iteration No: 61 ended. Search finished for the next optimal point.\n",
      "Time taken: 0.7266\n",
      "Function value obtained: -0.2301\n",
      "Current minimum: -0.3016\n",
      "Iteration No: 62 started. Searching for the next optimal point.\n",
      "['linear', 10, 'scale', 2.791917122400974, 0.01, 3.0] \n",
      "\n",
      "Iteration No: 62 ended. Search finished for the next optimal point.\n",
      "Time taken: 0.7923\n",
      "Function value obtained: -0.2301\n",
      "Current minimum: -0.3016\n",
      "Iteration No: 63 started. Searching for the next optimal point.\n",
      "['linear', 10, 'scale', 1.7426317942125271, 1e-06, 0.1] \n",
      "\n",
      "Iteration No: 63 ended. Search finished for the next optimal point.\n",
      "Time taken: 0.8676\n",
      "Function value obtained: -0.2636\n",
      "Current minimum: -0.3016\n",
      "Iteration No: 64 started. Searching for the next optimal point.\n",
      "['linear', 8, 'scale', 2.9513972257190004, 1e-06, 3.0] \n",
      "\n",
      "Iteration No: 64 ended. Search finished for the next optimal point.\n",
      "Time taken: 0.8305\n",
      "Function value obtained: -0.2301\n",
      "Current minimum: -0.3016\n",
      "Iteration No: 65 started. Searching for the next optimal point.\n",
      "['linear', 6, 'auto', 1.6989833314709284, 0.009357354935131242, 3.0] \n",
      "\n",
      "Iteration No: 65 ended. Search finished for the next optimal point.\n",
      "Time taken: 0.8003\n",
      "Function value obtained: -0.2300\n",
      "Current minimum: -0.3016\n",
      "Iteration No: 66 started. Searching for the next optimal point.\n",
      "['poly', 6, 'auto', 1.3644285452264429, 0.00708001637611337, 0.5919683072058523] \n",
      "\n",
      "Iteration No: 66 ended. Search finished for the next optimal point.\n",
      "Time taken: 0.8293\n",
      "Function value obtained: -0.0946\n",
      "Current minimum: -0.3016\n",
      "Iteration No: 67 started. Searching for the next optimal point.\n",
      "['linear', 6, 'auto', 0.6461968390173614, 0.01, 0.1] \n",
      "\n",
      "Iteration No: 67 ended. Search finished for the next optimal point.\n",
      "Time taken: 0.7674\n",
      "Function value obtained: -0.2636\n",
      "Current minimum: -0.3016\n",
      "Iteration No: 68 started. Searching for the next optimal point.\n",
      "['poly', 2, 'scale', 0.05, 0.01, 0.1] \n",
      "\n",
      "Iteration No: 68 ended. Search finished for the next optimal point.\n",
      "Time taken: 0.8813\n",
      "Function value obtained: -0.1708\n",
      "Current minimum: -0.3016\n",
      "Iteration No: 69 started. Searching for the next optimal point.\n",
      "['linear', 5, 'auto', 0.6461372426830714, 0.01, 0.1] \n",
      "\n",
      "Iteration No: 69 ended. Search finished for the next optimal point.\n",
      "Time taken: 0.7894\n",
      "Function value obtained: -0.2636\n",
      "Current minimum: -0.3016\n",
      "Iteration No: 70 started. Searching for the next optimal point.\n",
      "['linear', 7, 'auto', 1.8166701691218758, 0.007376528826421994, 0.1] \n",
      "\n",
      "Iteration No: 70 ended. Search finished for the next optimal point.\n",
      "Time taken: 0.8322\n",
      "Function value obtained: -0.2636\n",
      "Current minimum: -0.3016\n",
      "Iteration No: 71 started. Searching for the next optimal point.\n",
      "['linear', 7, 'auto', 0.2063134669177113, 1e-06, 0.1] \n",
      "\n",
      "Iteration No: 71 ended. Search finished for the next optimal point.\n",
      "Time taken: 0.8340\n",
      "Function value obtained: -0.2636\n",
      "Current minimum: -0.3016\n",
      "Iteration No: 72 started. Searching for the next optimal point.\n",
      "['linear', 9, 'auto', 2.3419684643261602, 0.01, 0.1] \n",
      "\n",
      "Iteration No: 72 ended. Search finished for the next optimal point.\n",
      "Time taken: 0.8301\n",
      "Function value obtained: -0.2636\n",
      "Current minimum: -0.3016\n",
      "Iteration No: 73 started. Searching for the next optimal point.\n",
      "['linear', 10, 'auto', 3.0, 1e-06, 3.0] \n",
      "\n",
      "Iteration No: 73 ended. Search finished for the next optimal point.\n",
      "Time taken: 0.8290\n",
      "Function value obtained: -0.2301\n",
      "Current minimum: -0.3016\n",
      "Iteration No: 74 started. Searching for the next optimal point.\n",
      "['linear', 12, 'auto', 1.8408613957993978, 1e-06, 3.0] \n",
      "\n",
      "Iteration No: 74 ended. Search finished for the next optimal point.\n",
      "Time taken: 0.8449\n",
      "Function value obtained: -0.2301\n",
      "Current minimum: -0.3016\n",
      "Iteration No: 75 started. Searching for the next optimal point.\n",
      "['linear', 8, 'auto', 0.3286552678151629, 0.008175051245974447, 3.0] \n",
      "\n",
      "Iteration No: 75 ended. Search finished for the next optimal point.\n",
      "Time taken: 0.9001\n",
      "Function value obtained: -0.2301\n",
      "Current minimum: -0.3016\n",
      "Iteration No: 76 started. Searching for the next optimal point.\n",
      "['linear', 11, 'auto', 0.05, 1e-06, 3.0] \n",
      "\n",
      "Iteration No: 76 ended. Search finished for the next optimal point.\n",
      "Time taken: 0.8657\n",
      "Function value obtained: -0.2301\n",
      "Current minimum: -0.3016\n",
      "Iteration No: 77 started. Searching for the next optimal point.\n",
      "['linear', 4, 'auto', 0.05, 1e-06, 0.1] \n",
      "\n",
      "Iteration No: 77 ended. Search finished for the next optimal point.\n",
      "Time taken: 0.9152\n",
      "Function value obtained: -0.2636\n",
      "Current minimum: -0.3016\n",
      "Iteration No: 78 started. Searching for the next optimal point.\n",
      "['linear', 7, 'scale', 3.0, 0.01, 0.1] \n",
      "\n",
      "Iteration No: 78 ended. Search finished for the next optimal point.\n",
      "Time taken: 0.8781\n",
      "Function value obtained: -0.2636\n",
      "Current minimum: -0.3016\n",
      "Iteration No: 79 started. Searching for the next optimal point.\n",
      "['linear', 5, 'scale', 3.0, 0.01, 0.1] \n",
      "\n",
      "Iteration No: 79 ended. Search finished for the next optimal point.\n",
      "Time taken: 0.9117\n",
      "Function value obtained: -0.2636\n",
      "Current minimum: -0.3016\n",
      "Iteration No: 80 started. Searching for the next optimal point.\n",
      "['rbf', 12, 'scale', 0.05, 0.009910306129597691, 2.793820075123336] \n",
      "\n",
      "Iteration No: 80 ended. Search finished for the next optimal point.\n",
      "Time taken: 0.8577\n",
      "Function value obtained: -0.2439\n",
      "Current minimum: -0.3016\n",
      "Iteration No: 81 started. Searching for the next optimal point.\n",
      "['rbf', 12, 'scale', 0.05, 1e-06, 3.0] \n",
      "\n",
      "Iteration No: 81 ended. Search finished for the next optimal point.\n",
      "Time taken: 0.9376\n",
      "Function value obtained: -0.2484\n",
      "Current minimum: -0.3016\n",
      "Iteration No: 82 started. Searching for the next optimal point.\n",
      "['rbf', 12, 'scale', 0.05, 1e-06, 3.0] \n",
      "\n"
     ]
    },
    {
     "name": "stderr",
     "output_type": "stream",
     "text": [
      "/home/caio/anaconda3/lib/python3.9/site-packages/skopt/optimizer/optimizer.py:449: UserWarning: The objective has been evaluated at this point before.\n",
      "  warnings.warn(\"The objective has been evaluated \"\n"
     ]
    },
    {
     "name": "stdout",
     "output_type": "stream",
     "text": [
      "Iteration No: 82 ended. Search finished for the next optimal point.\n",
      "Time taken: 0.9735\n",
      "Function value obtained: -0.2484\n",
      "Current minimum: -0.3016\n",
      "Iteration No: 83 started. Searching for the next optimal point.\n",
      "['rbf', 12, 'scale', 0.05, 1e-06, 2.5251896757713435] \n",
      "\n",
      "Iteration No: 83 ended. Search finished for the next optimal point.\n",
      "Time taken: 1.0154\n",
      "Function value obtained: -0.2372\n",
      "Current minimum: -0.3016\n",
      "Iteration No: 84 started. Searching for the next optimal point.\n",
      "['rbf', 12, 'scale', 0.05, 0.00241318884107921, 3.0] \n",
      "\n",
      "Iteration No: 84 ended. Search finished for the next optimal point.\n",
      "Time taken: 1.0592\n",
      "Function value obtained: -0.2484\n",
      "Current minimum: -0.3016\n",
      "Iteration No: 85 started. Searching for the next optimal point.\n",
      "['rbf', 12, 'scale', 0.05, 0.0030440509361382784, 3.0] \n",
      "\n",
      "Iteration No: 85 ended. Search finished for the next optimal point.\n",
      "Time taken: 1.0378\n",
      "Function value obtained: -0.2484\n",
      "Current minimum: -0.3016\n",
      "Iteration No: 86 started. Searching for the next optimal point.\n",
      "['poly', 2, 'scale', 0.05181517560920339, 0.009933567388610797, 3.0] \n",
      "\n",
      "Iteration No: 86 ended. Search finished for the next optimal point.\n",
      "Time taken: 0.9438\n",
      "Function value obtained: -0.2831\n",
      "Current minimum: -0.3016\n",
      "Iteration No: 87 started. Searching for the next optimal point.\n",
      "['rbf', 12, 'scale', 0.05, 0.005868751825835913, 3.0] \n",
      "\n",
      "Iteration No: 87 ended. Search finished for the next optimal point.\n",
      "Time taken: 1.0892\n",
      "Function value obtained: -0.2484\n",
      "Current minimum: -0.3016\n",
      "Iteration No: 88 started. Searching for the next optimal point.\n",
      "['linear', 9, 'scale', 2.888603144695824, 0.01, 0.1] \n",
      "\n",
      "Iteration No: 88 ended. Search finished for the next optimal point.\n",
      "Time taken: 0.9388\n",
      "Function value obtained: -0.2636\n",
      "Current minimum: -0.3016\n",
      "Iteration No: 89 started. Searching for the next optimal point.\n",
      "['rbf', 12, 'scale', 0.05, 0.01, 3.0] \n",
      "\n",
      "Iteration No: 89 ended. Search finished for the next optimal point.\n",
      "Time taken: 0.9749\n",
      "Function value obtained: -0.2484\n",
      "Current minimum: -0.3016\n",
      "Iteration No: 90 started. Searching for the next optimal point.\n",
      "['rbf', 12, 'scale', 0.05, 0.01, 3.0] \n",
      "\n"
     ]
    },
    {
     "name": "stderr",
     "output_type": "stream",
     "text": [
      "/home/caio/anaconda3/lib/python3.9/site-packages/skopt/optimizer/optimizer.py:449: UserWarning: The objective has been evaluated at this point before.\n",
      "  warnings.warn(\"The objective has been evaluated \"\n"
     ]
    },
    {
     "name": "stdout",
     "output_type": "stream",
     "text": [
      "Iteration No: 90 ended. Search finished for the next optimal point.\n",
      "Time taken: 0.9833\n",
      "Function value obtained: -0.2484\n",
      "Current minimum: -0.3016\n",
      "Iteration No: 91 started. Searching for the next optimal point.\n",
      "['rbf', 12, 'scale', 0.05, 0.01, 3.0] \n",
      "\n"
     ]
    },
    {
     "name": "stderr",
     "output_type": "stream",
     "text": [
      "/home/caio/anaconda3/lib/python3.9/site-packages/skopt/optimizer/optimizer.py:449: UserWarning: The objective has been evaluated at this point before.\n",
      "  warnings.warn(\"The objective has been evaluated \"\n"
     ]
    },
    {
     "name": "stdout",
     "output_type": "stream",
     "text": [
      "Iteration No: 91 ended. Search finished for the next optimal point.\n",
      "Time taken: 1.0776\n",
      "Function value obtained: -0.2484\n",
      "Current minimum: -0.3016\n",
      "Iteration No: 92 started. Searching for the next optimal point.\n",
      "['rbf', 1, 'scale', 0.05, 0.006742429053833933, 3.0] \n",
      "\n",
      "Iteration No: 92 ended. Search finished for the next optimal point.\n",
      "Time taken: 1.0440\n",
      "Function value obtained: -0.2484\n",
      "Current minimum: -0.3016\n",
      "Iteration No: 93 started. Searching for the next optimal point.\n",
      "['rbf', 2, 'scale', 3.0, 0.01, 3.0] \n",
      "\n",
      "Iteration No: 93 ended. Search finished for the next optimal point.\n",
      "Time taken: 1.1036\n",
      "Function value obtained: -0.2484\n",
      "Current minimum: -0.3016\n",
      "Iteration No: 94 started. Searching for the next optimal point.\n",
      "['rbf', 3, 'scale', 0.05, 0.01, 3.0] \n",
      "\n",
      "Iteration No: 94 ended. Search finished for the next optimal point.\n",
      "Time taken: 1.2001\n",
      "Function value obtained: -0.2484\n",
      "Current minimum: -0.3016\n",
      "Iteration No: 95 started. Searching for the next optimal point.\n",
      "['rbf', 12, 'scale', 0.05, 0.01, 3.0] \n",
      "\n"
     ]
    },
    {
     "name": "stderr",
     "output_type": "stream",
     "text": [
      "/home/caio/anaconda3/lib/python3.9/site-packages/skopt/optimizer/optimizer.py:449: UserWarning: The objective has been evaluated at this point before.\n",
      "  warnings.warn(\"The objective has been evaluated \"\n"
     ]
    },
    {
     "name": "stdout",
     "output_type": "stream",
     "text": [
      "Iteration No: 95 ended. Search finished for the next optimal point.\n",
      "Time taken: 1.0619\n",
      "Function value obtained: -0.2484\n",
      "Current minimum: -0.3016\n",
      "Iteration No: 96 started. Searching for the next optimal point.\n",
      "['rbf', 12, 'auto', 0.05, 0.0034343392753588575, 1.258183473955798] \n",
      "\n",
      "Iteration No: 96 ended. Search finished for the next optimal point.\n",
      "Time taken: 1.0823\n",
      "Function value obtained: 0.0156\n",
      "Current minimum: -0.3016\n",
      "Iteration No: 97 started. Searching for the next optimal point.\n",
      "['sigmoid', 1, 'scale', 0.05, 0.0068914569590440115, 1.2750375393841844] \n",
      "\n",
      "Iteration No: 97 ended. Search finished for the next optimal point.\n",
      "Time taken: 1.1394\n",
      "Function value obtained: 0.0344\n",
      "Current minimum: -0.3016\n",
      "Iteration No: 98 started. Searching for the next optimal point.\n",
      "['sigmoid', 12, 'auto', 0.05, 0.008920577468821965, 1.917789645016403] \n",
      "\n",
      "Iteration No: 98 ended. Search finished for the next optimal point.\n",
      "Time taken: 1.2398\n",
      "Function value obtained: 0.0208\n",
      "Current minimum: -0.3016\n",
      "Iteration No: 99 started. Searching for the next optimal point.\n",
      "['linear', 1, 'scale', 0.8635420511453922, 1e-06, 0.1] \n",
      "\n",
      "Iteration No: 99 ended. Search finished for the next optimal point.\n",
      "Time taken: 1.2800\n",
      "Function value obtained: -0.2636\n",
      "Current minimum: -0.3016\n",
      "Iteration No: 100 started. Searching for the next optimal point.\n",
      "['linear', 6, 'scale', 0.05, 0.01, 0.1] \n",
      "\n",
      "Iteration No: 100 ended. Search finished for the next optimal point.\n",
      "Time taken: 1.2387\n",
      "Function value obtained: -0.2636\n",
      "Current minimum: -0.3016\n",
      "CPU times: user 1min 50s, sys: 3min 29s, total: 5min 19s\n",
      "Wall time: 1min 6s\n"
     ]
    }
   ],
   "source": [
    "%%time\n",
    "from skopt import gp_minimize\n",
    "svr_best_params = gp_minimize(tune_svt, space, random_state=0, verbose=True, n_calls=100, n_random_starts=20, n_jobs=-1)"
   ]
  },
  {
   "cell_type": "code",
   "execution_count": 26,
   "id": "97eec3ba-1bfc-4766-af74-6a2ff68b1359",
   "metadata": {},
   "outputs": [
    {
     "data": {
      "text/plain": [
       "['linear',\n",
       " 6,\n",
       " 'auto',\n",
       " 1.8215484326388047,\n",
       " 0.008321501992693332,\n",
       " 0.8347510176492211]"
      ]
     },
     "execution_count": 26,
     "metadata": {},
     "output_type": "execute_result"
    }
   ],
   "source": [
    "svr_best_params.x"
   ]
  },
  {
   "cell_type": "code",
   "execution_count": 27,
   "id": "535699a3-bcb2-4480-b0fd-dfd0b80f03ec",
   "metadata": {},
   "outputs": [
    {
     "data": {
      "text/html": [
       "<div>\n",
       "<style scoped>\n",
       "    .dataframe tbody tr th:only-of-type {\n",
       "        vertical-align: middle;\n",
       "    }\n",
       "\n",
       "    .dataframe tbody tr th {\n",
       "        vertical-align: top;\n",
       "    }\n",
       "\n",
       "    .dataframe thead th {\n",
       "        text-align: right;\n",
       "    }\n",
       "</style>\n",
       "<table border=\"1\" class=\"dataframe\">\n",
       "  <thead>\n",
       "    <tr style=\"text-align: right;\">\n",
       "      <th></th>\n",
       "      <th>R2</th>\n",
       "      <th>MAE</th>\n",
       "      <th>RMSE</th>\n",
       "    </tr>\n",
       "  </thead>\n",
       "  <tbody>\n",
       "    <tr>\n",
       "      <th>Teste</th>\n",
       "      <td>0.237248</td>\n",
       "      <td>2.180494</td>\n",
       "      <td>2.982762</td>\n",
       "    </tr>\n",
       "  </tbody>\n",
       "</table>\n",
       "</div>"
      ],
      "text/plain": [
       "             R2       MAE      RMSE\n",
       "Teste  0.237248  2.180494  2.982762"
      ]
     },
     "execution_count": 27,
     "metadata": {},
     "output_type": "execute_result"
    }
   ],
   "source": [
    "from sklearn.svm import SVR\n",
    "svr_model = SVR(kernel='linear', degree=1, gamma='scale', coef0=1.6298545626753969, tol=0.002556173522948577, C = 0.5613745354785382)\n",
    "\n",
    "svr_model.fit(x_train, y_train)\n",
    "svr_preds = svr_model.predict(x_test)\n",
    "cmls.evalute_model(y_test, svr_preds)"
   ]
  },
  {
   "cell_type": "code",
   "execution_count": 28,
   "id": "a7ab0246-9532-4708-bd37-8c0bf1d4a6be",
   "metadata": {
    "tags": []
   },
   "outputs": [
    {
     "data": {
      "image/png": "[encoded data removed]",
      "text/plain": [
       "<Figure size 432x288 with 1 Axes>"
      ]
     },
     "metadata": {
      "needs_background": "light"
     },
     "output_type": "display_data"
    }
   ],
   "source": [
    "import matplotlib.pyplot as plt\n",
    "x_ax = range(len(x_test))\n",
    "\n",
    "plt.plot(x_ax, y_test, label=\"Real\", color='c')\n",
    "plt.plot(x_ax, svr_preds, label=\"Predito\", color='b')\n",
    "\n",
    "plt.legend()\n",
    "plt.show()"
   ]
  },
  {
   "cell_type": "markdown",
   "id": "ba175561-068b-42dc-b992-910fb29dfbfc",
   "metadata": {
    "tags": []
   },
   "source": [
    "# K-NEAREST NEIGHBORS"
   ]
  },
  {
   "cell_type": "code",
   "execution_count": 86,
   "id": "d8118e10-3a22-4826-83a9-a6cdcbff69f7",
   "metadata": {},
   "outputs": [],
   "source": [
    "from sklearn.neighbors import KNeighborsRegressor\n",
    "\n",
    "knn_model = KNeighborsRegressor(n_neighbors=23, n_jobs=-1)\n",
    "knn_model.fit(x_train, y_train)\n",
    "\n",
    "knn_preds = knn_model.predict(x_test)\n",
    "knn_train_preds = knn_model.predict(x_train)"
   ]
  },
  {
   "cell_type": "code",
   "execution_count": 87,
   "id": "e633e4b3-f9c9-49bf-9687-f69dfd80d6ca",
   "metadata": {},
   "outputs": [
    {
     "data": {
      "text/html": [
       "<div>\n",
       "<style scoped>\n",
       "    .dataframe tbody tr th:only-of-type {\n",
       "        vertical-align: middle;\n",
       "    }\n",
       "\n",
       "    .dataframe tbody tr th {\n",
       "        vertical-align: top;\n",
       "    }\n",
       "\n",
       "    .dataframe thead th {\n",
       "        text-align: right;\n",
       "    }\n",
       "</style>\n",
       "<table border=\"1\" class=\"dataframe\">\n",
       "  <thead>\n",
       "    <tr style=\"text-align: right;\">\n",
       "      <th></th>\n",
       "      <th>Predito</th>\n",
       "      <th>Real</th>\n",
       "    </tr>\n",
       "  </thead>\n",
       "  <tbody>\n",
       "    <tr>\n",
       "      <th>0</th>\n",
       "      <td>8.931268</td>\n",
       "      <td>15.989929</td>\n",
       "    </tr>\n",
       "    <tr>\n",
       "      <th>1</th>\n",
       "      <td>9.776228</td>\n",
       "      <td>9.184520</td>\n",
       "    </tr>\n",
       "    <tr>\n",
       "      <th>2</th>\n",
       "      <td>8.688612</td>\n",
       "      <td>7.267690</td>\n",
       "    </tr>\n",
       "    <tr>\n",
       "      <th>3</th>\n",
       "      <td>9.158326</td>\n",
       "      <td>11.382884</td>\n",
       "    </tr>\n",
       "    <tr>\n",
       "      <th>4</th>\n",
       "      <td>9.433858</td>\n",
       "      <td>8.722530</td>\n",
       "    </tr>\n",
       "    <tr>\n",
       "      <th>5</th>\n",
       "      <td>8.007962</td>\n",
       "      <td>8.869146</td>\n",
       "    </tr>\n",
       "    <tr>\n",
       "      <th>6</th>\n",
       "      <td>11.064217</td>\n",
       "      <td>14.521393</td>\n",
       "    </tr>\n",
       "    <tr>\n",
       "      <th>7</th>\n",
       "      <td>9.649156</td>\n",
       "      <td>7.701799</td>\n",
       "    </tr>\n",
       "    <tr>\n",
       "      <th>8</th>\n",
       "      <td>9.098185</td>\n",
       "      <td>9.189468</td>\n",
       "    </tr>\n",
       "    <tr>\n",
       "      <th>9</th>\n",
       "      <td>9.217570</td>\n",
       "      <td>7.050209</td>\n",
       "    </tr>\n",
       "  </tbody>\n",
       "</table>\n",
       "</div>"
      ],
      "text/plain": [
       "     Predito       Real\n",
       "0   8.931268  15.989929\n",
       "1   9.776228   9.184520\n",
       "2   8.688612   7.267690\n",
       "3   9.158326  11.382884\n",
       "4   9.433858   8.722530\n",
       "5   8.007962   8.869146\n",
       "6  11.064217  14.521393\n",
       "7   9.649156   7.701799\n",
       "8   9.098185   9.189468\n",
       "9   9.217570   7.050209"
      ]
     },
     "execution_count": 87,
     "metadata": {},
     "output_type": "execute_result"
    }
   ],
   "source": [
    "pd.DataFrame(np.concatenate((knn_preds.reshape(81,1), np.array(y_test).reshape(81,1)), axis=1)[10:20], columns=['Predito', 'Real'])"
   ]
  },
  {
   "cell_type": "code",
   "execution_count": 91,
   "id": "e288a5d8-6ab0-4609-a583-8c04c77d4979",
   "metadata": {},
   "outputs": [
    {
     "ename": "ValueError",
     "evalue": "The truth value of an array with more than one element is ambiguous. Use a.any() or a.all()",
     "output_type": "error",
     "traceback": [
      "\u001b[0;31m---------------------------------------------------------------------------\u001b[0m",
      "\u001b[0;31mValueError\u001b[0m                                Traceback (most recent call last)",
      "Input \u001b[0;32mIn [91]\u001b[0m, in \u001b[0;36m<cell line: 1>\u001b[0;34m()\u001b[0m\n\u001b[0;32m----> 1\u001b[0m \u001b[43mcmls\u001b[49m\u001b[38;5;241;43m.\u001b[39;49m\u001b[43mevalute_model\u001b[49m\u001b[43m(\u001b[49m\u001b[43m \u001b[49m\u001b[43my_test\u001b[49m\u001b[43m,\u001b[49m\u001b[43m \u001b[49m\u001b[43mknn_preds\u001b[49m\u001b[43m,\u001b[49m\u001b[43m \u001b[49m\u001b[43my_train\u001b[49m\u001b[43m,\u001b[49m\u001b[43m \u001b[49m\u001b[43mknn_train_preds\u001b[49m\u001b[43m)\u001b[49m\n",
      "File \u001b[0;32m/mnt/data/Documents/UFLA/Iniciação Científica/ZooWithAI/cmls.py:4\u001b[0m, in \u001b[0;36mevalute_model\u001b[0;34m(y_test, model_test_preds, y_train, model_train_preds)\u001b[0m\n\u001b[1;32m      2\u001b[0m \u001b[38;5;28;01mimport\u001b[39;00m \u001b[38;5;21;01mpandas\u001b[39;00m \u001b[38;5;28;01mas\u001b[39;00m \u001b[38;5;21;01mpd\u001b[39;00m\n\u001b[1;32m      3\u001b[0m \u001b[38;5;28;01mfrom\u001b[39;00m \u001b[38;5;21;01msklearn\u001b[39;00m\u001b[38;5;21;01m.\u001b[39;00m\u001b[38;5;21;01mmetrics\u001b[39;00m \u001b[38;5;28;01mimport\u001b[39;00m mean_squared_error, mean_absolute_error, r2_score\n\u001b[0;32m----> 4\u001b[0m \u001b[38;5;28;01mif\u001b[39;00m (model_train_preds \u001b[38;5;241m!=\u001b[39m \u001b[38;5;28;01mNone\u001b[39;00m):\n\u001b[1;32m      5\u001b[0m     \u001b[38;5;28;01mreturn\u001b[39;00m pd\u001b[38;5;241m.\u001b[39mDataFrame({\n\u001b[1;32m      6\u001b[0m         \u001b[38;5;124m'\u001b[39m\u001b[38;5;124mR2\u001b[39m\u001b[38;5;124m'\u001b[39m: [r2_score(y_test, model_test_preds), r2_score(y_train, model_train_preds)], \n\u001b[1;32m      7\u001b[0m         \u001b[38;5;124m'\u001b[39m\u001b[38;5;124mMAE\u001b[39m\u001b[38;5;124m'\u001b[39m:[mean_absolute_error(y_test, model_test_preds), mean_absolute_error(y_train, model_train_preds)],\n\u001b[1;32m      8\u001b[0m         \u001b[38;5;124m'\u001b[39m\u001b[38;5;124mRMSE\u001b[39m\u001b[38;5;124m'\u001b[39m: [mean_squared_error(y_test, model_test_preds, squared\u001b[38;5;241m=\u001b[39m\u001b[38;5;28;01mFalse\u001b[39;00m), mean_squared_error(y_train, model_train_preds, squared\u001b[38;5;241m=\u001b[39m\u001b[38;5;28;01mFalse\u001b[39;00m)]}, index\u001b[38;5;241m=\u001b[39m[\u001b[38;5;124m'\u001b[39m\u001b[38;5;124mTeste\u001b[39m\u001b[38;5;124m'\u001b[39m, \u001b[38;5;124m'\u001b[39m\u001b[38;5;124mTreino\u001b[39m\u001b[38;5;124m'\u001b[39m])\n\u001b[1;32m      9\u001b[0m \u001b[38;5;28;01melse\u001b[39;00m:\n",
      "\u001b[0;31mValueError\u001b[0m: The truth value of an array with more than one element is ambiguous. Use a.any() or a.all()"
     ]
    }
   ],
   "source": [
    "cmls.evalute_model( y_test, knn_preds, y_train, knn_train_preds)"
   ]
  },
  {
   "cell_type": "markdown",
   "id": "03d7a50e-7e43-463c-aa82-5198cbd978a8",
   "metadata": {},
   "source": [
    "# RANDOM FOREST"
   ]
  },
  {
   "cell_type": "code",
   "execution_count": 240,
   "id": "6876c443-8604-4552-94e3-ea4f19cb614c",
   "metadata": {},
   "outputs": [
    {
     "name": "stdout",
     "output_type": "stream",
     "text": [
      "RMSE: 11.495219914788228\n"
     ]
    }
   ],
   "source": [
    "from sklearn.ensemble import RandomForestRegressor\n",
    "rf_model = RandomForestRegressor(n_estimators=3, random_state=40, n_jobs=-1)\n",
    "rf_model.fit(x_train,  np.ravel(y_train))\n",
    "\n",
    "rf_preds = rf_model.predict(x_test)\n",
    "rf_train_preds = rf_model.predict(x_train)\n",
    "\n",
    "from sklearn.metrics import mean_squared_error\n",
    "print(f'RMSE: {mean_squared_error(y_test, rf_preds, squared=False)}')"
   ]
  },
  {
   "cell_type": "code",
   "execution_count": 241,
   "id": "99807016-dc6d-442b-97b4-fcef11929e8f",
   "metadata": {},
   "outputs": [
    {
     "data": {
      "text/html": [
       "<div>\n",
       "<style scoped>\n",
       "    .dataframe tbody tr th:only-of-type {\n",
       "        vertical-align: middle;\n",
       "    }\n",
       "\n",
       "    .dataframe tbody tr th {\n",
       "        vertical-align: top;\n",
       "    }\n",
       "\n",
       "    .dataframe thead th {\n",
       "        text-align: right;\n",
       "    }\n",
       "</style>\n",
       "<table border=\"1\" class=\"dataframe\">\n",
       "  <thead>\n",
       "    <tr style=\"text-align: right;\">\n",
       "      <th></th>\n",
       "      <th>Predito</th>\n",
       "      <th>Real</th>\n",
       "    </tr>\n",
       "  </thead>\n",
       "  <tbody>\n",
       "    <tr>\n",
       "      <th>0</th>\n",
       "      <td>57.672446</td>\n",
       "      <td>66.710369</td>\n",
       "    </tr>\n",
       "    <tr>\n",
       "      <th>1</th>\n",
       "      <td>42.399187</td>\n",
       "      <td>39.048849</td>\n",
       "    </tr>\n",
       "    <tr>\n",
       "      <th>2</th>\n",
       "      <td>57.223049</td>\n",
       "      <td>48.193604</td>\n",
       "    </tr>\n",
       "    <tr>\n",
       "      <th>3</th>\n",
       "      <td>52.192225</td>\n",
       "      <td>50.490850</td>\n",
       "    </tr>\n",
       "    <tr>\n",
       "      <th>4</th>\n",
       "      <td>50.912284</td>\n",
       "      <td>42.025374</td>\n",
       "    </tr>\n",
       "    <tr>\n",
       "      <th>5</th>\n",
       "      <td>40.594441</td>\n",
       "      <td>42.666645</td>\n",
       "    </tr>\n",
       "    <tr>\n",
       "      <th>6</th>\n",
       "      <td>47.587759</td>\n",
       "      <td>43.222300</td>\n",
       "    </tr>\n",
       "    <tr>\n",
       "      <th>7</th>\n",
       "      <td>59.851305</td>\n",
       "      <td>45.207388</td>\n",
       "    </tr>\n",
       "    <tr>\n",
       "      <th>8</th>\n",
       "      <td>42.966927</td>\n",
       "      <td>47.498887</td>\n",
       "    </tr>\n",
       "    <tr>\n",
       "      <th>9</th>\n",
       "      <td>52.611038</td>\n",
       "      <td>56.932389</td>\n",
       "    </tr>\n",
       "  </tbody>\n",
       "</table>\n",
       "</div>"
      ],
      "text/plain": [
       "     Predito       Real\n",
       "0  57.672446  66.710369\n",
       "1  42.399187  39.048849\n",
       "2  57.223049  48.193604\n",
       "3  52.192225  50.490850\n",
       "4  50.912284  42.025374\n",
       "5  40.594441  42.666645\n",
       "6  47.587759  43.222300\n",
       "7  59.851305  45.207388\n",
       "8  42.966927  47.498887\n",
       "9  52.611038  56.932389"
      ]
     },
     "execution_count": 241,
     "metadata": {},
     "output_type": "execute_result"
    }
   ],
   "source": [
    "pd.DataFrame(np.concatenate((rf_preds.reshape(81,1), np.array(y_test).reshape(81,1)), axis=1)[10:20], columns=['Predito', 'Real'])"
   ]
  },
  {
   "cell_type": "code",
   "execution_count": 242,
   "id": "eaeb93eb-6aaa-40fe-9ca2-cfac890edbd0",
   "metadata": {},
   "outputs": [
    {
     "data": {
      "text/html": [
       "<div>\n",
       "<style scoped>\n",
       "    .dataframe tbody tr th:only-of-type {\n",
       "        vertical-align: middle;\n",
       "    }\n",
       "\n",
       "    .dataframe tbody tr th {\n",
       "        vertical-align: top;\n",
       "    }\n",
       "\n",
       "    .dataframe thead th {\n",
       "        text-align: right;\n",
       "    }\n",
       "</style>\n",
       "<table border=\"1\" class=\"dataframe\">\n",
       "  <thead>\n",
       "    <tr style=\"text-align: right;\">\n",
       "      <th></th>\n",
       "      <th>R2</th>\n",
       "      <th>MAE</th>\n",
       "      <th>RMSE</th>\n",
       "    </tr>\n",
       "  </thead>\n",
       "  <tbody>\n",
       "    <tr>\n",
       "      <th>Teste</th>\n",
       "      <td>0.134577</td>\n",
       "      <td>9.080434</td>\n",
       "      <td>11.495220</td>\n",
       "    </tr>\n",
       "    <tr>\n",
       "      <th>Treino</th>\n",
       "      <td>0.578489</td>\n",
       "      <td>4.914994</td>\n",
       "      <td>8.234105</td>\n",
       "    </tr>\n",
       "  </tbody>\n",
       "</table>\n",
       "</div>"
      ],
      "text/plain": [
       "              R2       MAE       RMSE\n",
       "Teste   0.134577  9.080434  11.495220\n",
       "Treino  0.578489  4.914994   8.234105"
      ]
     },
     "execution_count": 242,
     "metadata": {},
     "output_type": "execute_result"
    }
   ],
   "source": [
    "evalute_model(rf_preds, y_test, rf_train_preds, y_train)"
   ]
  },
  {
   "cell_type": "code",
   "execution_count": 244,
   "id": "9f72f066-3ad2-4dd5-b1e6-fb3b9253d21c",
   "metadata": {},
   "outputs": [
    {
     "data": {
      "image/png": "[encoded data removed]",
      "text/plain": [
       "<Figure size 864x432 with 1 Axes>"
      ]
     },
     "metadata": {
      "needs_background": "light"
     },
     "output_type": "display_data"
    },
    {
     "data": {
      "image/png": "[encoded data removed]",
      "text/plain": [
       "<Figure size 864x432 with 1 Axes>"
      ]
     },
     "metadata": {
      "needs_background": "light"
     },
     "output_type": "display_data"
    }
   ],
   "source": [
    "plot_graphical_analysis(y_test, rf_preds, rf_model)"
   ]
  },
  {
   "cell_type": "markdown",
   "id": "2a3d140a",
   "metadata": {
    "tags": []
   },
   "source": [
    "# RIDGE REGRESSION"
   ]
  },
  {
   "cell_type": "markdown",
   "id": "cfa0fb5e",
   "metadata": {},
   "source": [
    "## Training (GridSearch)"
   ]
  },
  {
   "cell_type": "code",
   "execution_count": 75,
   "id": "85d8b0ca",
   "metadata": {},
   "outputs": [
    {
     "name": "stderr",
     "output_type": "stream",
     "text": [
      "/home/caio/anaconda3/lib/python3.9/site-packages/sklearn/model_selection/_validation.py:681: UserWarning: With alpha=0, this algorithm does not converge well. You are advised to use the LinearRegression estimator\n",
      "  estimator.fit(X_train, y_train, **fit_params)\n",
      "/home/caio/anaconda3/lib/python3.9/site-packages/sklearn/linear_model/_coordinate_descent.py:647: UserWarning: Coordinate descent with no regularization may lead to unexpected results and is discouraged.\n",
      "  model = cd_fast.enet_coordinate_descent(\n",
      "/home/caio/anaconda3/lib/python3.9/site-packages/sklearn/linear_model/_coordinate_descent.py:647: ConvergenceWarning: Objective did not converge. You might want to increase the number of iterations, check the scale of the features or consider increasing regularisation. Duality gap: 7.914e+01, tolerance: 1.824e+00 Linear regression models with null weight for the l1 regularization term are more efficiently fitted using one of the solvers implemented in sklearn.linear_model.Ridge/RidgeCV instead.\n",
      "  model = cd_fast.enet_coordinate_descent(\n",
      "/home/caio/anaconda3/lib/python3.9/site-packages/sklearn/model_selection/_validation.py:681: UserWarning: With alpha=0, this algorithm does not converge well. You are advised to use the LinearRegression estimator\n",
      "  estimator.fit(X_train, y_train, **fit_params)\n",
      "/home/caio/anaconda3/lib/python3.9/site-packages/sklearn/linear_model/_coordinate_descent.py:647: UserWarning: Coordinate descent with no regularization may lead to unexpected results and is discouraged.\n",
      "  model = cd_fast.enet_coordinate_descent(\n",
      "/home/caio/anaconda3/lib/python3.9/site-packages/sklearn/linear_model/_coordinate_descent.py:647: ConvergenceWarning: Objective did not converge. You might want to increase the number of iterations, check the scale of the features or consider increasing regularisation. Duality gap: 5.581e+01, tolerance: 1.857e+00 Linear regression models with null weight for the l1 regularization term are more efficiently fitted using one of the solvers implemented in sklearn.linear_model.Ridge/RidgeCV instead.\n",
      "  model = cd_fast.enet_coordinate_descent(\n",
      "/home/caio/anaconda3/lib/python3.9/site-packages/sklearn/model_selection/_validation.py:681: UserWarning: With alpha=0, this algorithm does not converge well. You are advised to use the LinearRegression estimator\n",
      "  estimator.fit(X_train, y_train, **fit_params)\n",
      "/home/caio/anaconda3/lib/python3.9/site-packages/sklearn/linear_model/_coordinate_descent.py:647: UserWarning: Coordinate descent with no regularization may lead to unexpected results and is discouraged.\n",
      "  model = cd_fast.enet_coordinate_descent(\n",
      "/home/caio/anaconda3/lib/python3.9/site-packages/sklearn/linear_model/_coordinate_descent.py:647: ConvergenceWarning: Objective did not converge. You might want to increase the number of iterations, check the scale of the features or consider increasing regularisation. Duality gap: 5.171e+01, tolerance: 2.055e+00 Linear regression models with null weight for the l1 regularization term are more efficiently fitted using one of the solvers implemented in sklearn.linear_model.Ridge/RidgeCV instead.\n",
      "  model = cd_fast.enet_coordinate_descent(\n"
     ]
    },
    {
     "data": {
      "text/plain": [
       "GridSearchCV(cv=3, estimator=Lasso(), param_grid={'alpha': [0, 0.3, 0.8]},\n",
       "             refit='neg_root_mean_squared_error', return_train_score=True,\n",
       "             scoring=('r2', 'neg_mean_absolute_error',\n",
       "                      'neg_root_mean_squared_error'))"
      ]
     },
     "execution_count": 75,
     "metadata": {},
     "output_type": "execute_result"
    }
   ],
   "source": [
    "# GridSearch using k-fold cross-validation\n",
    "from sklearn.linear_model import Lasso\n",
    "from sklearn.model_selection import GridSearchCV\n",
    "nfolds = 3\n",
    "metrics = ('r2', 'neg_mean_absolute_error', 'neg_root_mean_squared_error')\n",
    "parameters = {'alpha':[0, 0.3, 0.8]}\n",
    "rr = Lasso()\n",
    "rr = GridSearchCV(rr, parameters, scoring=metrics, cv=nfolds, refit = metrics[2], return_train_score = True)\n",
    "rr.fit(x_train, y_train)"
   ]
  },
  {
   "cell_type": "code",
   "execution_count": 76,
   "id": "36778e92",
   "metadata": {},
   "outputs": [
    {
     "data": {
      "text/plain": [
       "GridSearchCV(cv=3, estimator=DecisionTreeRegressor(),\n",
       "             param_grid={'max_depth': [10, 20]},\n",
       "             refit='neg_root_mean_squared_error', return_train_score=True,\n",
       "             scoring=('r2', 'neg_mean_absolute_error',\n",
       "                      'neg_root_mean_squared_error'))"
      ]
     },
     "execution_count": 76,
     "metadata": {},
     "output_type": "execute_result"
    }
   ],
   "source": [
    "# GridSearch using k-fold cross-validation\n",
    "from sklearn.tree import DecisionTreeRegressor\n",
    "from sklearn.model_selection import GridSearchCV\n",
    "nfolds = 3\n",
    "metrics = ('r2', 'neg_mean_absolute_error', 'neg_root_mean_squared_error')\n",
    "parameters = {'max_depth':[10, 20]}\n",
    "rr = DecisionTreeRegressor()\n",
    "rr = GridSearchCV(rr, parameters, scoring=metrics, cv=nfolds, refit = metrics[2], return_train_score = True)\n",
    "rr.fit(x_train, y_train)"
   ]
  },
  {
   "cell_type": "code",
   "execution_count": 77,
   "id": "0015eee8",
   "metadata": {},
   "outputs": [
    {
     "ename": "KeyError",
     "evalue": "'param_alpha'",
     "output_type": "error",
     "traceback": [
      "\u001b[0;31m---------------------------------------------------------------------------\u001b[0m",
      "\u001b[0;31mKeyError\u001b[0m                                  Traceback (most recent call last)",
      "\u001b[0;32m/tmp/ipykernel_5980/544612879.py\u001b[0m in \u001b[0;36m<module>\u001b[0;34m\u001b[0m\n\u001b[1;32m      1\u001b[0m \u001b[0;31m# Matrics - training\u001b[0m\u001b[0;34m\u001b[0m\u001b[0;34m\u001b[0m\u001b[0m\n\u001b[0;32m----> 2\u001b[0;31m pd.DataFrame({'Alpha': rr.cv_results_[\"param_alpha\"], \n\u001b[0m\u001b[1;32m      3\u001b[0m               \u001b[0;34m'R2'\u001b[0m\u001b[0;34m:\u001b[0m \u001b[0mrr\u001b[0m\u001b[0;34m.\u001b[0m\u001b[0mcv_results_\u001b[0m\u001b[0;34m[\u001b[0m\u001b[0;34m\"mean_test_r2\"\u001b[0m\u001b[0;34m]\u001b[0m\u001b[0;34m,\u001b[0m\u001b[0;34m\u001b[0m\u001b[0;34m\u001b[0m\u001b[0m\n\u001b[1;32m      4\u001b[0m               \u001b[0;34m'MAE'\u001b[0m\u001b[0;34m:\u001b[0m \u001b[0mabs\u001b[0m\u001b[0;34m(\u001b[0m\u001b[0mrr\u001b[0m\u001b[0;34m.\u001b[0m\u001b[0mcv_results_\u001b[0m\u001b[0;34m[\u001b[0m\u001b[0;34m'mean_test_neg_mean_absolute_error'\u001b[0m\u001b[0;34m]\u001b[0m\u001b[0;34m)\u001b[0m\u001b[0;34m,\u001b[0m\u001b[0;34m\u001b[0m\u001b[0;34m\u001b[0m\u001b[0m\n\u001b[1;32m      5\u001b[0m               'RMSE': abs(rr.cv_results_['mean_test_neg_root_mean_squared_error'])})\n",
      "\u001b[0;31mKeyError\u001b[0m: 'param_alpha'"
     ]
    }
   ],
   "source": [
    "# Matrics - training\n",
    "pd.DataFrame({'Alpha': rr.cv_results_[\"param_alpha\"], \n",
    "              'R2': rr.cv_results_[\"mean_test_r2\"], \n",
    "              'MAE': abs(rr.cv_results_['mean_test_neg_mean_absolute_error']),\n",
    "              'RMSE': abs(rr.cv_results_['mean_test_neg_root_mean_squared_error'])})"
   ]
  },
  {
   "cell_type": "markdown",
   "id": "2cde29d5",
   "metadata": {},
   "source": [
    "## Testing"
   ]
  },
  {
   "cell_type": "code",
   "execution_count": 55,
   "id": "632ca539",
   "metadata": {},
   "outputs": [
    {
     "name": "stdout",
     "output_type": "stream",
     "text": [
      "Best Alpha: 0.3, RMSE: 12.566016\n"
     ]
    }
   ],
   "source": [
    "# Print best alpha and RMSE, and testing the best model using the test set\n",
    "print(\"Best Alpha: %.1f, RMSE: %.6f\" % (rr.best_params_['alpha'], abs(rr.best_score_)))\n",
    "ypred = rr.best_estimator_.predict(x_test)\n",
    "ypred = rr.best_estimator_.predict(x_train)"
   ]
  },
  {
   "cell_type": "code",
   "execution_count": 56,
   "id": "c0d88344",
   "metadata": {},
   "outputs": [
    {
     "ename": "ValueError",
     "evalue": "x and y must have same first dimension, but have shapes (186,) and (81, 1)",
     "output_type": "error",
     "traceback": [
      "\u001b[0;31m---------------------------------------------------------------------------\u001b[0m",
      "\u001b[0;31mValueError\u001b[0m                                Traceback (most recent call last)",
      "\u001b[0;32m/tmp/ipykernel_5980/3468227910.py\u001b[0m in \u001b[0;36m<module>\u001b[0;34m\u001b[0m\n\u001b[1;32m      3\u001b[0m \u001b[0;32mimport\u001b[0m \u001b[0mnumpy\u001b[0m \u001b[0;32mas\u001b[0m \u001b[0mnp\u001b[0m\u001b[0;34m\u001b[0m\u001b[0;34m\u001b[0m\u001b[0m\n\u001b[1;32m      4\u001b[0m \u001b[0mypred\u001b[0m \u001b[0;34m=\u001b[0m \u001b[0mnp\u001b[0m\u001b[0;34m.\u001b[0m\u001b[0mravel\u001b[0m\u001b[0;34m(\u001b[0m\u001b[0mypred\u001b[0m\u001b[0;34m)\u001b[0m\u001b[0;34m\u001b[0m\u001b[0;34m\u001b[0m\u001b[0m\n\u001b[0;32m----> 5\u001b[0;31m \u001b[0mplt\u001b[0m\u001b[0;34m.\u001b[0m\u001b[0mplot\u001b[0m\u001b[0;34m(\u001b[0m\u001b[0mypred\u001b[0m\u001b[0;34m,\u001b[0m \u001b[0my_test\u001b[0m\u001b[0;34m,\u001b[0m \u001b[0;34m'o'\u001b[0m\u001b[0;34m)\u001b[0m\u001b[0;34m\u001b[0m\u001b[0;34m\u001b[0m\u001b[0m\n\u001b[0m\u001b[1;32m      6\u001b[0m \u001b[0mm\u001b[0m\u001b[0;34m,\u001b[0m \u001b[0mb\u001b[0m \u001b[0;34m=\u001b[0m \u001b[0mnp\u001b[0m\u001b[0;34m.\u001b[0m\u001b[0mpolyfit\u001b[0m\u001b[0;34m(\u001b[0m\u001b[0mypred\u001b[0m\u001b[0;34m,\u001b[0m \u001b[0my_test\u001b[0m\u001b[0;34m,\u001b[0m \u001b[0;36m1\u001b[0m\u001b[0;34m)\u001b[0m\u001b[0;34m\u001b[0m\u001b[0;34m\u001b[0m\u001b[0m\n\u001b[1;32m      7\u001b[0m \u001b[0mplt\u001b[0m\u001b[0;34m.\u001b[0m\u001b[0mplot\u001b[0m\u001b[0;34m(\u001b[0m\u001b[0mypred\u001b[0m\u001b[0;34m,\u001b[0m \u001b[0mm\u001b[0m\u001b[0;34m*\u001b[0m\u001b[0mypred\u001b[0m \u001b[0;34m+\u001b[0m \u001b[0mb\u001b[0m\u001b[0;34m)\u001b[0m\u001b[0;34m\u001b[0m\u001b[0;34m\u001b[0m\u001b[0m\n",
      "\u001b[0;32m~/anaconda3/lib/python3.9/site-packages/matplotlib/pyplot.py\u001b[0m in \u001b[0;36mplot\u001b[0;34m(scalex, scaley, data, *args, **kwargs)\u001b[0m\n\u001b[1;32m   2755\u001b[0m \u001b[0;34m@\u001b[0m\u001b[0m_copy_docstring_and_deprecators\u001b[0m\u001b[0;34m(\u001b[0m\u001b[0mAxes\u001b[0m\u001b[0;34m.\u001b[0m\u001b[0mplot\u001b[0m\u001b[0;34m)\u001b[0m\u001b[0;34m\u001b[0m\u001b[0;34m\u001b[0m\u001b[0m\n\u001b[1;32m   2756\u001b[0m \u001b[0;32mdef\u001b[0m \u001b[0mplot\u001b[0m\u001b[0;34m(\u001b[0m\u001b[0;34m*\u001b[0m\u001b[0margs\u001b[0m\u001b[0;34m,\u001b[0m \u001b[0mscalex\u001b[0m\u001b[0;34m=\u001b[0m\u001b[0;32mTrue\u001b[0m\u001b[0;34m,\u001b[0m \u001b[0mscaley\u001b[0m\u001b[0;34m=\u001b[0m\u001b[0;32mTrue\u001b[0m\u001b[0;34m,\u001b[0m \u001b[0mdata\u001b[0m\u001b[0;34m=\u001b[0m\u001b[0;32mNone\u001b[0m\u001b[0;34m,\u001b[0m \u001b[0;34m**\u001b[0m\u001b[0mkwargs\u001b[0m\u001b[0;34m)\u001b[0m\u001b[0;34m:\u001b[0m\u001b[0;34m\u001b[0m\u001b[0;34m\u001b[0m\u001b[0m\n\u001b[0;32m-> 2757\u001b[0;31m     return gca().plot(\n\u001b[0m\u001b[1;32m   2758\u001b[0m         \u001b[0;34m*\u001b[0m\u001b[0margs\u001b[0m\u001b[0;34m,\u001b[0m \u001b[0mscalex\u001b[0m\u001b[0;34m=\u001b[0m\u001b[0mscalex\u001b[0m\u001b[0;34m,\u001b[0m \u001b[0mscaley\u001b[0m\u001b[0;34m=\u001b[0m\u001b[0mscaley\u001b[0m\u001b[0;34m,\u001b[0m\u001b[0;34m\u001b[0m\u001b[0;34m\u001b[0m\u001b[0m\n\u001b[1;32m   2759\u001b[0m         **({\"data\": data} if data is not None else {}), **kwargs)\n",
      "\u001b[0;32m~/anaconda3/lib/python3.9/site-packages/matplotlib/axes/_axes.py\u001b[0m in \u001b[0;36mplot\u001b[0;34m(self, scalex, scaley, data, *args, **kwargs)\u001b[0m\n\u001b[1;32m   1630\u001b[0m         \"\"\"\n\u001b[1;32m   1631\u001b[0m         \u001b[0mkwargs\u001b[0m \u001b[0;34m=\u001b[0m \u001b[0mcbook\u001b[0m\u001b[0;34m.\u001b[0m\u001b[0mnormalize_kwargs\u001b[0m\u001b[0;34m(\u001b[0m\u001b[0mkwargs\u001b[0m\u001b[0;34m,\u001b[0m \u001b[0mmlines\u001b[0m\u001b[0;34m.\u001b[0m\u001b[0mLine2D\u001b[0m\u001b[0;34m)\u001b[0m\u001b[0;34m\u001b[0m\u001b[0;34m\u001b[0m\u001b[0m\n\u001b[0;32m-> 1632\u001b[0;31m         \u001b[0mlines\u001b[0m \u001b[0;34m=\u001b[0m \u001b[0;34m[\u001b[0m\u001b[0;34m*\u001b[0m\u001b[0mself\u001b[0m\u001b[0;34m.\u001b[0m\u001b[0m_get_lines\u001b[0m\u001b[0;34m(\u001b[0m\u001b[0;34m*\u001b[0m\u001b[0margs\u001b[0m\u001b[0;34m,\u001b[0m \u001b[0mdata\u001b[0m\u001b[0;34m=\u001b[0m\u001b[0mdata\u001b[0m\u001b[0;34m,\u001b[0m \u001b[0;34m**\u001b[0m\u001b[0mkwargs\u001b[0m\u001b[0;34m)\u001b[0m\u001b[0;34m]\u001b[0m\u001b[0;34m\u001b[0m\u001b[0;34m\u001b[0m\u001b[0m\n\u001b[0m\u001b[1;32m   1633\u001b[0m         \u001b[0;32mfor\u001b[0m \u001b[0mline\u001b[0m \u001b[0;32min\u001b[0m \u001b[0mlines\u001b[0m\u001b[0;34m:\u001b[0m\u001b[0;34m\u001b[0m\u001b[0;34m\u001b[0m\u001b[0m\n\u001b[1;32m   1634\u001b[0m             \u001b[0mself\u001b[0m\u001b[0;34m.\u001b[0m\u001b[0madd_line\u001b[0m\u001b[0;34m(\u001b[0m\u001b[0mline\u001b[0m\u001b[0;34m)\u001b[0m\u001b[0;34m\u001b[0m\u001b[0;34m\u001b[0m\u001b[0m\n",
      "\u001b[0;32m~/anaconda3/lib/python3.9/site-packages/matplotlib/axes/_base.py\u001b[0m in \u001b[0;36m__call__\u001b[0;34m(self, data, *args, **kwargs)\u001b[0m\n\u001b[1;32m    310\u001b[0m                 \u001b[0mthis\u001b[0m \u001b[0;34m+=\u001b[0m \u001b[0margs\u001b[0m\u001b[0;34m[\u001b[0m\u001b[0;36m0\u001b[0m\u001b[0;34m]\u001b[0m\u001b[0;34m,\u001b[0m\u001b[0;34m\u001b[0m\u001b[0;34m\u001b[0m\u001b[0m\n\u001b[1;32m    311\u001b[0m                 \u001b[0margs\u001b[0m \u001b[0;34m=\u001b[0m \u001b[0margs\u001b[0m\u001b[0;34m[\u001b[0m\u001b[0;36m1\u001b[0m\u001b[0;34m:\u001b[0m\u001b[0;34m]\u001b[0m\u001b[0;34m\u001b[0m\u001b[0;34m\u001b[0m\u001b[0m\n\u001b[0;32m--> 312\u001b[0;31m             \u001b[0;32myield\u001b[0m \u001b[0;32mfrom\u001b[0m \u001b[0mself\u001b[0m\u001b[0;34m.\u001b[0m\u001b[0m_plot_args\u001b[0m\u001b[0;34m(\u001b[0m\u001b[0mthis\u001b[0m\u001b[0;34m,\u001b[0m \u001b[0mkwargs\u001b[0m\u001b[0;34m)\u001b[0m\u001b[0;34m\u001b[0m\u001b[0;34m\u001b[0m\u001b[0m\n\u001b[0m\u001b[1;32m    313\u001b[0m \u001b[0;34m\u001b[0m\u001b[0m\n\u001b[1;32m    314\u001b[0m     \u001b[0;32mdef\u001b[0m \u001b[0mget_next_color\u001b[0m\u001b[0;34m(\u001b[0m\u001b[0mself\u001b[0m\u001b[0;34m)\u001b[0m\u001b[0;34m:\u001b[0m\u001b[0;34m\u001b[0m\u001b[0;34m\u001b[0m\u001b[0m\n",
      "\u001b[0;32m~/anaconda3/lib/python3.9/site-packages/matplotlib/axes/_base.py\u001b[0m in \u001b[0;36m_plot_args\u001b[0;34m(self, tup, kwargs, return_kwargs)\u001b[0m\n\u001b[1;32m    496\u001b[0m \u001b[0;34m\u001b[0m\u001b[0m\n\u001b[1;32m    497\u001b[0m         \u001b[0;32mif\u001b[0m \u001b[0mx\u001b[0m\u001b[0;34m.\u001b[0m\u001b[0mshape\u001b[0m\u001b[0;34m[\u001b[0m\u001b[0;36m0\u001b[0m\u001b[0;34m]\u001b[0m \u001b[0;34m!=\u001b[0m \u001b[0my\u001b[0m\u001b[0;34m.\u001b[0m\u001b[0mshape\u001b[0m\u001b[0;34m[\u001b[0m\u001b[0;36m0\u001b[0m\u001b[0;34m]\u001b[0m\u001b[0;34m:\u001b[0m\u001b[0;34m\u001b[0m\u001b[0;34m\u001b[0m\u001b[0m\n\u001b[0;32m--> 498\u001b[0;31m             raise ValueError(f\"x and y must have same first dimension, but \"\n\u001b[0m\u001b[1;32m    499\u001b[0m                              f\"have shapes {x.shape} and {y.shape}\")\n\u001b[1;32m    500\u001b[0m         \u001b[0;32mif\u001b[0m \u001b[0mx\u001b[0m\u001b[0;34m.\u001b[0m\u001b[0mndim\u001b[0m \u001b[0;34m>\u001b[0m \u001b[0;36m2\u001b[0m \u001b[0;32mor\u001b[0m \u001b[0my\u001b[0m\u001b[0;34m.\u001b[0m\u001b[0mndim\u001b[0m \u001b[0;34m>\u001b[0m \u001b[0;36m2\u001b[0m\u001b[0;34m:\u001b[0m\u001b[0;34m\u001b[0m\u001b[0;34m\u001b[0m\u001b[0m\n",
      "\u001b[0;31mValueError\u001b[0m: x and y must have same first dimension, but have shapes (186,) and (81, 1)"
     ]
    },
    {
     "data": {
      "image/png": "[encoded data removed]",
      "text/plain": [
       "<Figure size 432x288 with 1 Axes>"
      ]
     },
     "metadata": {
      "needs_background": "light"
     },
     "output_type": "display_data"
    }
   ],
   "source": [
    "# Scatter plot - predicted and observed\n",
    "import matplotlib.pyplot as plt\n",
    "import numpy as np\n",
    "ypred = np.ravel(ypred)\n",
    "plt.plot(ypred, y_test, 'o')\n",
    "m, b = np.polyfit(ypred, y_test, 1)\n",
    "plt.plot(ypred, m*ypred + b)"
   ]
  },
  {
   "cell_type": "code",
   "execution_count": 24,
   "id": "8dae3918",
   "metadata": {},
   "outputs": [
    {
     "ename": "ValueError",
     "evalue": "Found input variables with inconsistent numbers of samples: [120, 280]",
     "output_type": "error",
     "traceback": [
      "\u001b[0;31m---------------------------------------------------------------------------\u001b[0m",
      "\u001b[0;31mValueError\u001b[0m                                Traceback (most recent call last)",
      "\u001b[0;32m/tmp/ipykernel_8918/2701579132.py\u001b[0m in \u001b[0;36m<module>\u001b[0;34m\u001b[0m\n\u001b[1;32m      3\u001b[0m \u001b[0;34m\u001b[0m\u001b[0m\n\u001b[1;32m      4\u001b[0m pd.DataFrame({'Alpha': [rr.best_params_['alpha']], \n\u001b[0;32m----> 5\u001b[0;31m               \u001b[0;34m'R2'\u001b[0m\u001b[0;34m:\u001b[0m \u001b[0mr2_score\u001b[0m\u001b[0;34m(\u001b[0m\u001b[0my_test\u001b[0m\u001b[0;34m,\u001b[0m \u001b[0mypred\u001b[0m\u001b[0;34m)\u001b[0m\u001b[0;34m,\u001b[0m\u001b[0;34m\u001b[0m\u001b[0;34m\u001b[0m\u001b[0m\n\u001b[0m\u001b[1;32m      6\u001b[0m               \u001b[0;34m'MAE'\u001b[0m\u001b[0;34m:\u001b[0m \u001b[0;34m[\u001b[0m\u001b[0mabs\u001b[0m\u001b[0;34m(\u001b[0m\u001b[0mmean_absolute_error\u001b[0m\u001b[0;34m(\u001b[0m\u001b[0my_test\u001b[0m\u001b[0;34m,\u001b[0m \u001b[0mypred\u001b[0m\u001b[0;34m)\u001b[0m\u001b[0;34m)\u001b[0m\u001b[0;34m]\u001b[0m\u001b[0;34m,\u001b[0m\u001b[0;34m\u001b[0m\u001b[0;34m\u001b[0m\u001b[0m\n\u001b[1;32m      7\u001b[0m               'RMSE': [abs(mean_squared_error(y_test, ypred, squared=False))]})\n",
      "\u001b[0;32m~/anaconda3/lib/python3.9/site-packages/sklearn/metrics/_regression.py\u001b[0m in \u001b[0;36mr2_score\u001b[0;34m(y_true, y_pred, sample_weight, multioutput)\u001b[0m\n\u001b[1;32m    772\u001b[0m     \u001b[0;34m-\u001b[0m\u001b[0;36m3.0\u001b[0m\u001b[0;34m\u001b[0m\u001b[0;34m\u001b[0m\u001b[0m\n\u001b[1;32m    773\u001b[0m     \"\"\"\n\u001b[0;32m--> 774\u001b[0;31m     y_type, y_true, y_pred, multioutput = _check_reg_targets(\n\u001b[0m\u001b[1;32m    775\u001b[0m         \u001b[0my_true\u001b[0m\u001b[0;34m,\u001b[0m \u001b[0my_pred\u001b[0m\u001b[0;34m,\u001b[0m \u001b[0mmultioutput\u001b[0m\u001b[0;34m\u001b[0m\u001b[0;34m\u001b[0m\u001b[0m\n\u001b[1;32m    776\u001b[0m     )\n",
      "\u001b[0;32m~/anaconda3/lib/python3.9/site-packages/sklearn/metrics/_regression.py\u001b[0m in \u001b[0;36m_check_reg_targets\u001b[0;34m(y_true, y_pred, multioutput, dtype)\u001b[0m\n\u001b[1;32m     87\u001b[0m         \u001b[0mthe\u001b[0m \u001b[0mdtype\u001b[0m \u001b[0margument\u001b[0m \u001b[0mpassed\u001b[0m \u001b[0mto\u001b[0m \u001b[0mcheck_array\u001b[0m\u001b[0;34m.\u001b[0m\u001b[0;34m\u001b[0m\u001b[0;34m\u001b[0m\u001b[0m\n\u001b[1;32m     88\u001b[0m     \"\"\"\n\u001b[0;32m---> 89\u001b[0;31m     \u001b[0mcheck_consistent_length\u001b[0m\u001b[0;34m(\u001b[0m\u001b[0my_true\u001b[0m\u001b[0;34m,\u001b[0m \u001b[0my_pred\u001b[0m\u001b[0;34m)\u001b[0m\u001b[0;34m\u001b[0m\u001b[0;34m\u001b[0m\u001b[0m\n\u001b[0m\u001b[1;32m     90\u001b[0m     \u001b[0my_true\u001b[0m \u001b[0;34m=\u001b[0m \u001b[0mcheck_array\u001b[0m\u001b[0;34m(\u001b[0m\u001b[0my_true\u001b[0m\u001b[0;34m,\u001b[0m \u001b[0mensure_2d\u001b[0m\u001b[0;34m=\u001b[0m\u001b[0;32mFalse\u001b[0m\u001b[0;34m,\u001b[0m \u001b[0mdtype\u001b[0m\u001b[0;34m=\u001b[0m\u001b[0mdtype\u001b[0m\u001b[0;34m)\u001b[0m\u001b[0;34m\u001b[0m\u001b[0;34m\u001b[0m\u001b[0m\n\u001b[1;32m     91\u001b[0m     \u001b[0my_pred\u001b[0m \u001b[0;34m=\u001b[0m \u001b[0mcheck_array\u001b[0m\u001b[0;34m(\u001b[0m\u001b[0my_pred\u001b[0m\u001b[0;34m,\u001b[0m \u001b[0mensure_2d\u001b[0m\u001b[0;34m=\u001b[0m\u001b[0;32mFalse\u001b[0m\u001b[0;34m,\u001b[0m \u001b[0mdtype\u001b[0m\u001b[0;34m=\u001b[0m\u001b[0mdtype\u001b[0m\u001b[0;34m)\u001b[0m\u001b[0;34m\u001b[0m\u001b[0;34m\u001b[0m\u001b[0m\n",
      "\u001b[0;32m~/anaconda3/lib/python3.9/site-packages/sklearn/utils/validation.py\u001b[0m in \u001b[0;36mcheck_consistent_length\u001b[0;34m(*arrays)\u001b[0m\n\u001b[1;32m    329\u001b[0m     \u001b[0muniques\u001b[0m \u001b[0;34m=\u001b[0m \u001b[0mnp\u001b[0m\u001b[0;34m.\u001b[0m\u001b[0munique\u001b[0m\u001b[0;34m(\u001b[0m\u001b[0mlengths\u001b[0m\u001b[0;34m)\u001b[0m\u001b[0;34m\u001b[0m\u001b[0;34m\u001b[0m\u001b[0m\n\u001b[1;32m    330\u001b[0m     \u001b[0;32mif\u001b[0m \u001b[0mlen\u001b[0m\u001b[0;34m(\u001b[0m\u001b[0muniques\u001b[0m\u001b[0;34m)\u001b[0m \u001b[0;34m>\u001b[0m \u001b[0;36m1\u001b[0m\u001b[0;34m:\u001b[0m\u001b[0;34m\u001b[0m\u001b[0;34m\u001b[0m\u001b[0m\n\u001b[0;32m--> 331\u001b[0;31m         raise ValueError(\n\u001b[0m\u001b[1;32m    332\u001b[0m             \u001b[0;34m\"Found input variables with inconsistent numbers of samples: %r\"\u001b[0m\u001b[0;34m\u001b[0m\u001b[0;34m\u001b[0m\u001b[0m\n\u001b[1;32m    333\u001b[0m             \u001b[0;34m%\u001b[0m \u001b[0;34m[\u001b[0m\u001b[0mint\u001b[0m\u001b[0;34m(\u001b[0m\u001b[0ml\u001b[0m\u001b[0;34m)\u001b[0m \u001b[0;32mfor\u001b[0m \u001b[0ml\u001b[0m \u001b[0;32min\u001b[0m \u001b[0mlengths\u001b[0m\u001b[0;34m]\u001b[0m\u001b[0;34m\u001b[0m\u001b[0;34m\u001b[0m\u001b[0m\n",
      "\u001b[0;31mValueError\u001b[0m: Found input variables with inconsistent numbers of samples: [120, 280]"
     ]
    }
   ],
   "source": [
    "# Metrics - testing\n",
    "from sklearn.metrics import *\n",
    "\n",
    "pd.DataFrame({'Alpha': [rr.best_params_['alpha']], \n",
    "              'R2': r2_score(y_test, ypred), \n",
    "              'MAE': [abs(mean_absolute_error(y_test, ypred))],\n",
    "              'RMSE': [abs(mean_squared_error(y_test, ypred, squared=False))]})"
   ]
  },
  {
   "cell_type": "markdown",
   "id": "b95c7c25",
   "metadata": {},
   "source": [
    "# NEURAL NETWORK"
   ]
  },
  {
   "cell_type": "markdown",
   "id": "7ac44523",
   "metadata": {},
   "source": [
    "## Data pre-processing"
   ]
  },
  {
   "cell_type": "code",
   "execution_count": 93,
   "id": "d3df7458",
   "metadata": {},
   "outputs": [
    {
     "data": {
      "text/html": [
       "<div>\n",
       "<style scoped>\n",
       "    .dataframe tbody tr th:only-of-type {\n",
       "        vertical-align: middle;\n",
       "    }\n",
       "\n",
       "    .dataframe tbody tr th {\n",
       "        vertical-align: top;\n",
       "    }\n",
       "\n",
       "    .dataframe thead th {\n",
       "        text-align: right;\n",
       "    }\n",
       "</style>\n",
       "<table border=\"1\" class=\"dataframe\">\n",
       "  <thead>\n",
       "    <tr style=\"text-align: right;\">\n",
       "      <th></th>\n",
       "      <th>12493.238</th>\n",
       "      <th>12489.381</th>\n",
       "      <th>12485.523</th>\n",
       "      <th>12481.666</th>\n",
       "      <th>12477.809</th>\n",
       "      <th>12473.952</th>\n",
       "      <th>12470.095</th>\n",
       "      <th>12466.238</th>\n",
       "      <th>12462.381</th>\n",
       "      <th>12458.523</th>\n",
       "      <th>...</th>\n",
       "      <th>3633.415</th>\n",
       "      <th>3629.557</th>\n",
       "      <th>3625.7</th>\n",
       "      <th>3621.843</th>\n",
       "      <th>3617.986</th>\n",
       "      <th>3614.129</th>\n",
       "      <th>3610.272</th>\n",
       "      <th>3606.415</th>\n",
       "      <th>3602.558</th>\n",
       "      <th>3598.7</th>\n",
       "    </tr>\n",
       "  </thead>\n",
       "  <tbody>\n",
       "    <tr>\n",
       "      <th>0</th>\n",
       "      <td>-0.971853</td>\n",
       "      <td>-0.975338</td>\n",
       "      <td>-0.979259</td>\n",
       "      <td>-0.974991</td>\n",
       "      <td>-0.965919</td>\n",
       "      <td>-0.986035</td>\n",
       "      <td>-1.034307</td>\n",
       "      <td>-1.034204</td>\n",
       "      <td>-0.969116</td>\n",
       "      <td>-0.921061</td>\n",
       "      <td>...</td>\n",
       "      <td>0.340473</td>\n",
       "      <td>0.688463</td>\n",
       "      <td>0.819742</td>\n",
       "      <td>0.509423</td>\n",
       "      <td>0.660676</td>\n",
       "      <td>0.811626</td>\n",
       "      <td>0.119692</td>\n",
       "      <td>0.600045</td>\n",
       "      <td>1.979225</td>\n",
       "      <td>2.501502</td>\n",
       "    </tr>\n",
       "    <tr>\n",
       "      <th>1</th>\n",
       "      <td>-1.577410</td>\n",
       "      <td>-1.538785</td>\n",
       "      <td>-1.514164</td>\n",
       "      <td>-1.524268</td>\n",
       "      <td>-1.559769</td>\n",
       "      <td>-1.573520</td>\n",
       "      <td>-1.556337</td>\n",
       "      <td>-1.545328</td>\n",
       "      <td>-1.550890</td>\n",
       "      <td>-1.561879</td>\n",
       "      <td>...</td>\n",
       "      <td>0.460509</td>\n",
       "      <td>0.872545</td>\n",
       "      <td>0.696110</td>\n",
       "      <td>-0.419849</td>\n",
       "      <td>-0.919264</td>\n",
       "      <td>-0.719948</td>\n",
       "      <td>-0.352404</td>\n",
       "      <td>0.011646</td>\n",
       "      <td>-0.105073</td>\n",
       "      <td>-0.526305</td>\n",
       "    </tr>\n",
       "    <tr>\n",
       "      <th>2</th>\n",
       "      <td>-1.464349</td>\n",
       "      <td>-1.446053</td>\n",
       "      <td>-1.446982</td>\n",
       "      <td>-1.484071</td>\n",
       "      <td>-1.529664</td>\n",
       "      <td>-1.550347</td>\n",
       "      <td>-1.540800</td>\n",
       "      <td>-1.513357</td>\n",
       "      <td>-1.503986</td>\n",
       "      <td>-1.511109</td>\n",
       "      <td>...</td>\n",
       "      <td>1.584898</td>\n",
       "      <td>1.472407</td>\n",
       "      <td>1.011563</td>\n",
       "      <td>0.211140</td>\n",
       "      <td>-0.470306</td>\n",
       "      <td>-0.733967</td>\n",
       "      <td>-0.792885</td>\n",
       "      <td>-0.705540</td>\n",
       "      <td>-0.732995</td>\n",
       "      <td>-0.988885</td>\n",
       "    </tr>\n",
       "    <tr>\n",
       "      <th>3</th>\n",
       "      <td>-2.033286</td>\n",
       "      <td>-2.013262</td>\n",
       "      <td>-2.036084</td>\n",
       "      <td>-2.101294</td>\n",
       "      <td>-2.132841</td>\n",
       "      <td>-2.081392</td>\n",
       "      <td>-2.021375</td>\n",
       "      <td>-2.025061</td>\n",
       "      <td>-2.036171</td>\n",
       "      <td>-2.001991</td>\n",
       "      <td>...</td>\n",
       "      <td>-0.813573</td>\n",
       "      <td>0.042750</td>\n",
       "      <td>-0.021965</td>\n",
       "      <td>-0.729674</td>\n",
       "      <td>-0.620016</td>\n",
       "      <td>-0.380774</td>\n",
       "      <td>-0.333882</td>\n",
       "      <td>0.030223</td>\n",
       "      <td>0.368676</td>\n",
       "      <td>0.309597</td>\n",
       "    </tr>\n",
       "    <tr>\n",
       "      <th>4</th>\n",
       "      <td>-0.969043</td>\n",
       "      <td>-0.983221</td>\n",
       "      <td>-0.970071</td>\n",
       "      <td>-0.984674</td>\n",
       "      <td>-1.040669</td>\n",
       "      <td>-1.062676</td>\n",
       "      <td>-1.031669</td>\n",
       "      <td>-0.988076</td>\n",
       "      <td>-0.950001</td>\n",
       "      <td>-0.930261</td>\n",
       "      <td>...</td>\n",
       "      <td>1.732473</td>\n",
       "      <td>1.576646</td>\n",
       "      <td>1.334114</td>\n",
       "      <td>0.238638</td>\n",
       "      <td>-0.445796</td>\n",
       "      <td>-0.089074</td>\n",
       "      <td>0.026985</td>\n",
       "      <td>0.168938</td>\n",
       "      <td>0.070313</td>\n",
       "      <td>-0.153239</td>\n",
       "    </tr>\n",
       "    <tr>\n",
       "      <th>...</th>\n",
       "      <td>...</td>\n",
       "      <td>...</td>\n",
       "      <td>...</td>\n",
       "      <td>...</td>\n",
       "      <td>...</td>\n",
       "      <td>...</td>\n",
       "      <td>...</td>\n",
       "      <td>...</td>\n",
       "      <td>...</td>\n",
       "      <td>...</td>\n",
       "      <td>...</td>\n",
       "      <td>...</td>\n",
       "      <td>...</td>\n",
       "      <td>...</td>\n",
       "      <td>...</td>\n",
       "      <td>...</td>\n",
       "      <td>...</td>\n",
       "      <td>...</td>\n",
       "      <td>...</td>\n",
       "      <td>...</td>\n",
       "      <td>...</td>\n",
       "    </tr>\n",
       "    <tr>\n",
       "      <th>262</th>\n",
       "      <td>0.645306</td>\n",
       "      <td>0.633396</td>\n",
       "      <td>0.667808</td>\n",
       "      <td>0.691411</td>\n",
       "      <td>0.651233</td>\n",
       "      <td>0.615765</td>\n",
       "      <td>0.609192</td>\n",
       "      <td>0.621458</td>\n",
       "      <td>0.634014</td>\n",
       "      <td>0.596226</td>\n",
       "      <td>...</td>\n",
       "      <td>-1.087766</td>\n",
       "      <td>-1.239723</td>\n",
       "      <td>-1.394215</td>\n",
       "      <td>-1.409483</td>\n",
       "      <td>-0.657931</td>\n",
       "      <td>0.158109</td>\n",
       "      <td>0.940679</td>\n",
       "      <td>0.999627</td>\n",
       "      <td>0.276723</td>\n",
       "      <td>-0.333437</td>\n",
       "    </tr>\n",
       "    <tr>\n",
       "      <th>263</th>\n",
       "      <td>0.981246</td>\n",
       "      <td>0.973011</td>\n",
       "      <td>0.953493</td>\n",
       "      <td>0.938706</td>\n",
       "      <td>0.927839</td>\n",
       "      <td>0.923290</td>\n",
       "      <td>0.899504</td>\n",
       "      <td>0.839159</td>\n",
       "      <td>0.811861</td>\n",
       "      <td>0.864709</td>\n",
       "      <td>...</td>\n",
       "      <td>-1.601851</td>\n",
       "      <td>-2.204386</td>\n",
       "      <td>-2.000821</td>\n",
       "      <td>-0.300792</td>\n",
       "      <td>0.686666</td>\n",
       "      <td>0.414330</td>\n",
       "      <td>0.212325</td>\n",
       "      <td>0.059453</td>\n",
       "      <td>0.489400</td>\n",
       "      <td>0.192065</td>\n",
       "    </tr>\n",
       "    <tr>\n",
       "      <th>264</th>\n",
       "      <td>0.854955</td>\n",
       "      <td>0.794811</td>\n",
       "      <td>0.739588</td>\n",
       "      <td>0.747087</td>\n",
       "      <td>0.782764</td>\n",
       "      <td>0.768207</td>\n",
       "      <td>0.680324</td>\n",
       "      <td>0.609329</td>\n",
       "      <td>0.656466</td>\n",
       "      <td>0.756746</td>\n",
       "      <td>...</td>\n",
       "      <td>-1.279810</td>\n",
       "      <td>-2.022717</td>\n",
       "      <td>-1.983041</td>\n",
       "      <td>-1.575008</td>\n",
       "      <td>-0.833642</td>\n",
       "      <td>-0.317021</td>\n",
       "      <td>-0.014201</td>\n",
       "      <td>-0.119777</td>\n",
       "      <td>-0.486251</td>\n",
       "      <td>-0.599041</td>\n",
       "    </tr>\n",
       "    <tr>\n",
       "      <th>265</th>\n",
       "      <td>0.601680</td>\n",
       "      <td>0.589719</td>\n",
       "      <td>0.575024</td>\n",
       "      <td>0.576648</td>\n",
       "      <td>0.626220</td>\n",
       "      <td>0.646341</td>\n",
       "      <td>0.591647</td>\n",
       "      <td>0.586469</td>\n",
       "      <td>0.646456</td>\n",
       "      <td>0.642037</td>\n",
       "      <td>...</td>\n",
       "      <td>-1.511728</td>\n",
       "      <td>-1.683650</td>\n",
       "      <td>-1.886841</td>\n",
       "      <td>-1.067758</td>\n",
       "      <td>0.474138</td>\n",
       "      <td>1.341074</td>\n",
       "      <td>0.986245</td>\n",
       "      <td>-0.195027</td>\n",
       "      <td>-0.854755</td>\n",
       "      <td>-0.858878</td>\n",
       "    </tr>\n",
       "    <tr>\n",
       "      <th>266</th>\n",
       "      <td>4.664856</td>\n",
       "      <td>4.750273</td>\n",
       "      <td>4.941801</td>\n",
       "      <td>5.103849</td>\n",
       "      <td>5.119167</td>\n",
       "      <td>5.022439</td>\n",
       "      <td>4.964311</td>\n",
       "      <td>5.005482</td>\n",
       "      <td>5.046383</td>\n",
       "      <td>5.005743</td>\n",
       "      <td>...</td>\n",
       "      <td>-0.424214</td>\n",
       "      <td>-0.985629</td>\n",
       "      <td>-1.069068</td>\n",
       "      <td>-0.252529</td>\n",
       "      <td>0.164666</td>\n",
       "      <td>0.306139</td>\n",
       "      <td>-0.455421</td>\n",
       "      <td>-1.095162</td>\n",
       "      <td>-0.840248</td>\n",
       "      <td>-0.045241</td>\n",
       "    </tr>\n",
       "  </tbody>\n",
       "</table>\n",
       "<p>267 rows × 2307 columns</p>\n",
       "</div>"
      ],
      "text/plain": [
       "     12493.238  12489.381  12485.523  12481.666  12477.809  12473.952  \\\n",
       "0    -0.971853  -0.975338  -0.979259  -0.974991  -0.965919  -0.986035   \n",
       "1    -1.577410  -1.538785  -1.514164  -1.524268  -1.559769  -1.573520   \n",
       "2    -1.464349  -1.446053  -1.446982  -1.484071  -1.529664  -1.550347   \n",
       "3    -2.033286  -2.013262  -2.036084  -2.101294  -2.132841  -2.081392   \n",
       "4    -0.969043  -0.983221  -0.970071  -0.984674  -1.040669  -1.062676   \n",
       "..         ...        ...        ...        ...        ...        ...   \n",
       "262   0.645306   0.633396   0.667808   0.691411   0.651233   0.615765   \n",
       "263   0.981246   0.973011   0.953493   0.938706   0.927839   0.923290   \n",
       "264   0.854955   0.794811   0.739588   0.747087   0.782764   0.768207   \n",
       "265   0.601680   0.589719   0.575024   0.576648   0.626220   0.646341   \n",
       "266   4.664856   4.750273   4.941801   5.103849   5.119167   5.022439   \n",
       "\n",
       "     12470.095  12466.238  12462.381  12458.523  ...  3633.415  3629.557  \\\n",
       "0    -1.034307  -1.034204  -0.969116  -0.921061  ...  0.340473  0.688463   \n",
       "1    -1.556337  -1.545328  -1.550890  -1.561879  ...  0.460509  0.872545   \n",
       "2    -1.540800  -1.513357  -1.503986  -1.511109  ...  1.584898  1.472407   \n",
       "3    -2.021375  -2.025061  -2.036171  -2.001991  ... -0.813573  0.042750   \n",
       "4    -1.031669  -0.988076  -0.950001  -0.930261  ...  1.732473  1.576646   \n",
       "..         ...        ...        ...        ...  ...       ...       ...   \n",
       "262   0.609192   0.621458   0.634014   0.596226  ... -1.087766 -1.239723   \n",
       "263   0.899504   0.839159   0.811861   0.864709  ... -1.601851 -2.204386   \n",
       "264   0.680324   0.609329   0.656466   0.756746  ... -1.279810 -2.022717   \n",
       "265   0.591647   0.586469   0.646456   0.642037  ... -1.511728 -1.683650   \n",
       "266   4.964311   5.005482   5.046383   5.005743  ... -0.424214 -0.985629   \n",
       "\n",
       "       3625.7  3621.843  3617.986  3614.129  3610.272  3606.415  3602.558  \\\n",
       "0    0.819742  0.509423  0.660676  0.811626  0.119692  0.600045  1.979225   \n",
       "1    0.696110 -0.419849 -0.919264 -0.719948 -0.352404  0.011646 -0.105073   \n",
       "2    1.011563  0.211140 -0.470306 -0.733967 -0.792885 -0.705540 -0.732995   \n",
       "3   -0.021965 -0.729674 -0.620016 -0.380774 -0.333882  0.030223  0.368676   \n",
       "4    1.334114  0.238638 -0.445796 -0.089074  0.026985  0.168938  0.070313   \n",
       "..        ...       ...       ...       ...       ...       ...       ...   \n",
       "262 -1.394215 -1.409483 -0.657931  0.158109  0.940679  0.999627  0.276723   \n",
       "263 -2.000821 -0.300792  0.686666  0.414330  0.212325  0.059453  0.489400   \n",
       "264 -1.983041 -1.575008 -0.833642 -0.317021 -0.014201 -0.119777 -0.486251   \n",
       "265 -1.886841 -1.067758  0.474138  1.341074  0.986245 -0.195027 -0.854755   \n",
       "266 -1.069068 -0.252529  0.164666  0.306139 -0.455421 -1.095162 -0.840248   \n",
       "\n",
       "       3598.7  \n",
       "0    2.501502  \n",
       "1   -0.526305  \n",
       "2   -0.988885  \n",
       "3    0.309597  \n",
       "4   -0.153239  \n",
       "..        ...  \n",
       "262 -0.333437  \n",
       "263  0.192065  \n",
       "264 -0.599041  \n",
       "265 -0.858878  \n",
       "266 -0.045241  \n",
       "\n",
       "[267 rows x 2307 columns]"
      ]
     },
     "execution_count": 93,
     "metadata": {},
     "output_type": "execute_result"
    }
   ],
   "source": [
    "# Center and Standardize all features (force mean=0 and standard deviation=1)\n",
    "x_std = x\n",
    "x_std = (x_std - x_std.mean()) / x_std.std() # Subtract mean and divide by standard deviation\n",
    "x_std"
   ]
  },
  {
   "cell_type": "code",
   "execution_count": 94,
   "id": "ea1f71e4",
   "metadata": {},
   "outputs": [
    {
     "data": {
      "text/html": [
       "<div>\n",
       "<style scoped>\n",
       "    .dataframe tbody tr th:only-of-type {\n",
       "        vertical-align: middle;\n",
       "    }\n",
       "\n",
       "    .dataframe tbody tr th {\n",
       "        vertical-align: top;\n",
       "    }\n",
       "\n",
       "    .dataframe thead th {\n",
       "        text-align: right;\n",
       "    }\n",
       "</style>\n",
       "<table border=\"1\" class=\"dataframe\">\n",
       "  <thead>\n",
       "    <tr style=\"text-align: right;\">\n",
       "      <th></th>\n",
       "      <th>CD FDN</th>\n",
       "    </tr>\n",
       "  </thead>\n",
       "  <tbody>\n",
       "    <tr>\n",
       "      <th>0</th>\n",
       "      <td>48.020838</td>\n",
       "    </tr>\n",
       "    <tr>\n",
       "      <th>1</th>\n",
       "      <td>56.095593</td>\n",
       "    </tr>\n",
       "    <tr>\n",
       "      <th>2</th>\n",
       "      <td>53.092602</td>\n",
       "    </tr>\n",
       "    <tr>\n",
       "      <th>3</th>\n",
       "      <td>54.817350</td>\n",
       "    </tr>\n",
       "    <tr>\n",
       "      <th>4</th>\n",
       "      <td>64.944856</td>\n",
       "    </tr>\n",
       "    <tr>\n",
       "      <th>...</th>\n",
       "      <td>...</td>\n",
       "    </tr>\n",
       "    <tr>\n",
       "      <th>262</th>\n",
       "      <td>63.597757</td>\n",
       "    </tr>\n",
       "    <tr>\n",
       "      <th>263</th>\n",
       "      <td>45.851922</td>\n",
       "    </tr>\n",
       "    <tr>\n",
       "      <th>264</th>\n",
       "      <td>10.417453</td>\n",
       "    </tr>\n",
       "    <tr>\n",
       "      <th>265</th>\n",
       "      <td>18.125828</td>\n",
       "    </tr>\n",
       "    <tr>\n",
       "      <th>266</th>\n",
       "      <td>72.486363</td>\n",
       "    </tr>\n",
       "  </tbody>\n",
       "</table>\n",
       "<p>267 rows × 1 columns</p>\n",
       "</div>"
      ],
      "text/plain": [
       "        CD FDN\n",
       "0    48.020838\n",
       "1    56.095593\n",
       "2    53.092602\n",
       "3    54.817350\n",
       "4    64.944856\n",
       "..         ...\n",
       "262  63.597757\n",
       "263  45.851922\n",
       "264  10.417453\n",
       "265  18.125828\n",
       "266  72.486363\n",
       "\n",
       "[267 rows x 1 columns]"
      ]
     },
     "execution_count": 94,
     "metadata": {},
     "output_type": "execute_result"
    }
   ],
   "source": [
    "# Response variable vector\n",
    "y = df[[\"CD FDN\"]]\n",
    "y"
   ]
  },
  {
   "cell_type": "code",
   "execution_count": 95,
   "id": "6db7da52",
   "metadata": {},
   "outputs": [
    {
     "name": "stdout",
     "output_type": "stream",
     "text": [
      "N. samples training 186 , N. samples testing 81\n"
     ]
    }
   ],
   "source": [
    "# Split the data set into training (70%) and testing (30%)\n",
    "from sklearn.model_selection import train_test_split\n",
    "x_train, x_test, y_train, y_test = train_test_split(x_std, y, test_size=0.30, shuffle=True, random_state=4)\n",
    "print(\"N. samples training %s , N. samples testing %s\" % (x_train.shape[0], x_test.shape[0]))"
   ]
  },
  {
   "cell_type": "markdown",
   "id": "188f1098",
   "metadata": {},
   "source": [
    "##  Training (GridSearch)"
   ]
  },
  {
   "cell_type": "code",
   "execution_count": null,
   "id": "bd2fa967",
   "metadata": {},
   "outputs": [],
   "source": [
    "# GridSearch using k-fold cross-validation\n",
    "from sklearn.neural_network import MLPRegressor\n",
    "from sklearn.model_selection import GridSearchCV\n",
    "nfolds = 3\n",
    "metrics = ('r2', 'neg_mean_absolute_error', 'neg_root_mean_squared_error')\n",
    "parameters = {'activation':('relu', 'tanh'), \n",
    "              'hidden_layer_sizes': [(3,),(5,),(10,)],\n",
    "              'random_state':[40]}\n",
    "\n",
    "nn = MLPRegressor()\n",
    "nn = GridSearchCV(nn, parameters, scoring=metrics, cv=nfolds, refit = metrics[2], return_train_score = True)\n",
    "nn.fit(x_train, np.ravel(y_train))"
   ]
  },
  {
   "cell_type": "code",
   "execution_count": 98,
   "id": "92bae13d",
   "metadata": {},
   "outputs": [
    {
     "data": {
      "text/html": [
       "<div>\n",
       "<style scoped>\n",
       "    .dataframe tbody tr th:only-of-type {\n",
       "        vertical-align: middle;\n",
       "    }\n",
       "\n",
       "    .dataframe tbody tr th {\n",
       "        vertical-align: top;\n",
       "    }\n",
       "\n",
       "    .dataframe thead th {\n",
       "        text-align: right;\n",
       "    }\n",
       "</style>\n",
       "<table border=\"1\" class=\"dataframe\">\n",
       "  <thead>\n",
       "    <tr style=\"text-align: right;\">\n",
       "      <th></th>\n",
       "      <th>Activation</th>\n",
       "      <th>Layer Sizes</th>\n",
       "      <th>R2</th>\n",
       "      <th>MAE</th>\n",
       "      <th>RMSE</th>\n",
       "    </tr>\n",
       "  </thead>\n",
       "  <tbody>\n",
       "    <tr>\n",
       "      <th>0</th>\n",
       "      <td>relu</td>\n",
       "      <td>(3,)</td>\n",
       "      <td>-6.522277</td>\n",
       "      <td>27.925503</td>\n",
       "      <td>33.633517</td>\n",
       "    </tr>\n",
       "    <tr>\n",
       "      <th>1</th>\n",
       "      <td>relu</td>\n",
       "      <td>(5,)</td>\n",
       "      <td>-5.018888</td>\n",
       "      <td>24.213709</td>\n",
       "      <td>29.976535</td>\n",
       "    </tr>\n",
       "    <tr>\n",
       "      <th>2</th>\n",
       "      <td>relu</td>\n",
       "      <td>(10,)</td>\n",
       "      <td>-5.320145</td>\n",
       "      <td>25.309131</td>\n",
       "      <td>30.604210</td>\n",
       "    </tr>\n",
       "    <tr>\n",
       "      <th>3</th>\n",
       "      <td>tanh</td>\n",
       "      <td>(3,)</td>\n",
       "      <td>-16.542293</td>\n",
       "      <td>49.813293</td>\n",
       "      <td>51.374267</td>\n",
       "    </tr>\n",
       "    <tr>\n",
       "      <th>4</th>\n",
       "      <td>tanh</td>\n",
       "      <td>(5,)</td>\n",
       "      <td>-16.122275</td>\n",
       "      <td>49.132702</td>\n",
       "      <td>50.731736</td>\n",
       "    </tr>\n",
       "    <tr>\n",
       "      <th>5</th>\n",
       "      <td>tanh</td>\n",
       "      <td>(10,)</td>\n",
       "      <td>-15.899153</td>\n",
       "      <td>48.708890</td>\n",
       "      <td>50.399608</td>\n",
       "    </tr>\n",
       "  </tbody>\n",
       "</table>\n",
       "</div>"
      ],
      "text/plain": [
       "  Activation Layer Sizes         R2        MAE       RMSE\n",
       "0       relu        (3,)  -6.522277  27.925503  33.633517\n",
       "1       relu        (5,)  -5.018888  24.213709  29.976535\n",
       "2       relu       (10,)  -5.320145  25.309131  30.604210\n",
       "3       tanh        (3,) -16.542293  49.813293  51.374267\n",
       "4       tanh        (5,) -16.122275  49.132702  50.731736\n",
       "5       tanh       (10,) -15.899153  48.708890  50.399608"
      ]
     },
     "execution_count": 98,
     "metadata": {},
     "output_type": "execute_result"
    }
   ],
   "source": [
    "pd.DataFrame({'Activation': nn.cv_results_[\"param_activation\"],\n",
    "              'Layer Sizes': nn.cv_results_['param_hidden_layer_sizes'],\n",
    "              'R2': nn.cv_results_[\"mean_test_r2\"], \n",
    "              'MAE': abs(nn.cv_results_['mean_test_neg_mean_absolute_error']),\n",
    "              'RMSE': abs(nn.cv_results_['mean_test_neg_root_mean_squared_error'])})"
   ]
  },
  {
   "cell_type": "markdown",
   "id": "841b6f8a",
   "metadata": {},
   "source": [
    "## Testing"
   ]
  },
  {
   "cell_type": "code",
   "execution_count": 99,
   "id": "8e3b288e",
   "metadata": {},
   "outputs": [
    {
     "name": "stdout",
     "output_type": "stream",
     "text": [
      "Best Activation: relu, Layer Size: (5,), RMSE: 29.976535\n"
     ]
    }
   ],
   "source": [
    "# Print best activation function, layer size, and RMSE, and testing the best model using the test set\n",
    "print(\"Best Activation: %s, Layer Size: %s, RMSE: %.6f\" % (nn.best_params_['activation'], nn.best_params_['hidden_layer_sizes'], abs(nn.best_score_)))\n",
    "ypred = nn.best_estimator_.predict(x_test)"
   ]
  },
  {
   "cell_type": "code",
   "execution_count": 100,
   "id": "baf66c8d",
   "metadata": {},
   "outputs": [
    {
     "data": {
      "text/plain": [
       "[<matplotlib.lines.Line2D at 0x7f95c9577130>]"
      ]
     },
     "execution_count": 100,
     "metadata": {},
     "output_type": "execute_result"
    },
    {
     "data": {
      "image/png": "[encoded data removed]",
      "text/plain": [
       "<Figure size 432x288 with 1 Axes>"
      ]
     },
     "metadata": {
      "needs_background": "light"
     },
     "output_type": "display_data"
    }
   ],
   "source": [
    "# Scatter plot - predicted and observed\n",
    "import matplotlib.pyplot as plt\n",
    "import numpy as np\n",
    "ypred = np.ravel(ypred)\n",
    "plt.plot(ypred, y_test, 'o')\n",
    "m, b = np.polyfit(ypred, y_test, 1)\n",
    "plt.plot(ypred, m*ypred + b)"
   ]
  },
  {
   "cell_type": "code",
   "execution_count": 101,
   "id": "65c0c222",
   "metadata": {},
   "outputs": [
    {
     "data": {
      "text/html": [
       "<div>\n",
       "<style scoped>\n",
       "    .dataframe tbody tr th:only-of-type {\n",
       "        vertical-align: middle;\n",
       "    }\n",
       "\n",
       "    .dataframe tbody tr th {\n",
       "        vertical-align: top;\n",
       "    }\n",
       "\n",
       "    .dataframe thead th {\n",
       "        text-align: right;\n",
       "    }\n",
       "</style>\n",
       "<table border=\"1\" class=\"dataframe\">\n",
       "  <thead>\n",
       "    <tr style=\"text-align: right;\">\n",
       "      <th></th>\n",
       "      <th>Activation</th>\n",
       "      <th>Layer Size</th>\n",
       "      <th>R2</th>\n",
       "      <th>MAE</th>\n",
       "      <th>RMSE</th>\n",
       "    </tr>\n",
       "  </thead>\n",
       "  <tbody>\n",
       "    <tr>\n",
       "      <th>0</th>\n",
       "      <td>relu</td>\n",
       "      <td>(5,)</td>\n",
       "      <td>-4.725426</td>\n",
       "      <td>25.169789</td>\n",
       "      <td>31.101654</td>\n",
       "    </tr>\n",
       "  </tbody>\n",
       "</table>\n",
       "</div>"
      ],
      "text/plain": [
       "  Activation Layer Size        R2        MAE       RMSE\n",
       "0       relu       (5,) -4.725426  25.169789  31.101654"
      ]
     },
     "execution_count": 101,
     "metadata": {},
     "output_type": "execute_result"
    }
   ],
   "source": [
    "# Metrics - testing\n",
    "from sklearn.metrics import *\n",
    "\n",
    "pd.DataFrame({'Activation': [nn.best_params_['activation']],\n",
    "              'Layer Size': [nn.best_params_['hidden_layer_sizes']],\n",
    "              'R2': r2_score(y_test, ypred), \n",
    "              'MAE': [abs(mean_absolute_error(y_test, ypred))],\n",
    "              'RMSE': [abs(mean_squared_error(y_test, ypred, squared=False))]})"
   ]
  }
 ],
 "metadata": {
  "kernelspec": {
   "display_name": "Python 3 (ipykernel)",
   "language": "python",
   "name": "python3"
  },
  "language_info": {
   "codemirror_mode": {
    "name": "ipython",
    "version": 3
   },
   "file_extension": ".py",
   "mimetype": "text/x-python",
   "name": "python",
   "nbconvert_exporter": "python",
   "pygments_lexer": "ipython3",
   "version": "3.9.12"
  }
 },
 "nbformat": 4,
 "nbformat_minor": 5
}
