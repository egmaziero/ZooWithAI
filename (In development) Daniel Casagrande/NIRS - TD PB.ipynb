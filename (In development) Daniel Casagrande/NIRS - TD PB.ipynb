{
 "cells": [
  {
   "cell_type": "markdown",
   "id": "7e7e49a9",
   "metadata": {},
   "source": [
    "# <center> NIRS <center> PREDICTION OF GROSS PROTEIN CONTENT IN THE DIET\n",
    "***\n",
    "# Table of Contents\n",
    "* [READING THE DATASET INTO PYTHON](#READING-THE-DATASET-INTO-PYTHON)\n",
    "* [DATA EDITING](#DATA-EDITING)\n",
    "    * [Creating dummy variables (One-Hot Encode)](#Creating-dummy-variables-(One-Hot-Encode))\n",
    "    * [Creating training and testing datasets](#Creating-training-and-testing-datasets)\n",
    "***"
   ]
  },
  {
   "cell_type": "markdown",
   "id": "a2f80471-aecc-4677-a1d4-fb6b6d5c437f",
   "metadata": {},
   "source": [
    "## IMPORTS"
   ]
  },
  {
   "cell_type": "code",
   "execution_count": 1,
   "id": "1517db8f-c36c-411b-bfbe-6b88e0e78e9d",
   "metadata": {},
   "outputs": [],
   "source": [
    "import pandas as pd\n",
    "import numpy as np\n",
    "import matplotlib.pyplot as plt\n",
    "import warnings\n",
    "#warnings.filterwarnings('ignore')\n",
    "# Private libary\n",
    "import cmls"
   ]
  },
  {
   "cell_type": "markdown",
   "id": "43d0e132-08ae-4413-948a-ae685ba49419",
   "metadata": {
    "tags": []
   },
   "source": [
    "## FUNCTIONS"
   ]
  },
  {
   "cell_type": "markdown",
   "id": "74b55a4e",
   "metadata": {
    "tags": []
   },
   "source": [
    "## READING THE DATASET INTO PYTHON"
   ]
  },
  {
   "cell_type": "code",
   "execution_count": 2,
   "id": "1e13ef95",
   "metadata": {},
   "outputs": [],
   "source": [
    "df0 = pd.read_excel('Datasets/Lucas/dados_nirs_lucas.xlsx')\n",
    "df = df0"
   ]
  },
  {
   "cell_type": "code",
   "execution_count": 3,
   "id": "c95c5cf8-10da-496d-9af0-9ef530d7ec44",
   "metadata": {},
   "outputs": [],
   "source": [
    "#Reset\n",
    "df = df0\n",
    "\n",
    "# Transform all feautere names to string\n",
    "df.columns = df.columns.map(str)"
   ]
  },
  {
   "cell_type": "markdown",
   "id": "fa874b44-90bc-44b1-bd2a-03a266b795e6",
   "metadata": {
    "tags": []
   },
   "source": [
    "## DATA DIVISION"
   ]
  },
  {
   "cell_type": "code",
   "execution_count": 135,
   "id": "ca40800a-1798-452e-8455-d7ffd73686ab",
   "metadata": {},
   "outputs": [],
   "source": [
    "# Remove data with TD PB larger than 16\n",
    "df = df[df['TD PB'] < 16]"
   ]
  },
  {
   "cell_type": "code",
   "execution_count": 136,
   "id": "6ae9cdbc-0913-45f9-858a-0fdf2d9175d0",
   "metadata": {},
   "outputs": [],
   "source": [
    "# Select all NIRS data as x\n",
    "x = df.loc[:,'12493.238':'4007.556']"
   ]
  },
  {
   "cell_type": "code",
   "execution_count": 137,
   "id": "11831255-5251-44d6-9396-6306800a8c3a",
   "metadata": {},
   "outputs": [],
   "source": [
    "#Noise Treatment, best R2: \"savitzky_golay{'deriv': 1, 'order': 1, 'window_size': 17} / SNV{}\"\n",
    "\n",
    "import RG\n",
    "\n",
    "x = RG.savitzky_golay(x.values, window_size=17, deriv=1, order=1)\n",
    "x = RG.MSC(x)[0]"
   ]
  },
  {
   "cell_type": "code",
   "execution_count": 84,
   "id": "6c323bd4-526c-4a9e-bc94-019fe40ca95b",
   "metadata": {},
   "outputs": [],
   "source": [
    "with open('nirs_pre_processed_best_R2.npy', 'rb') as f:\n",
    "    x = np.load(f)"
   ]
  },
  {
   "cell_type": "code",
   "execution_count": 85,
   "id": "8b88e23e-57a3-404c-9a56-04e58a85bc48",
   "metadata": {},
   "outputs": [],
   "source": [
    "# \"savitzky_golay{'deriv': 1, 'order': 1, 'window_size': 17} / MSC{}\" 'nirs_pre_processed_best_R2.npy'\n",
    "# \"EMSC{} / savitzky_golay{'deriv': 1, 'order': 1, 'window_size': 15}\" nirs_pre_processed_best_RMSECV"
   ]
  },
  {
   "cell_type": "code",
   "execution_count": 138,
   "id": "2cb279c3-6949-4d81-ab94-4586b6feb55c",
   "metadata": {},
   "outputs": [],
   "source": [
    "x = pd.DataFrame(x)"
   ]
  },
  {
   "cell_type": "code",
   "execution_count": 139,
   "id": "aba9a3fe-d9c4-4e96-b092-dde7f5709377",
   "metadata": {},
   "outputs": [],
   "source": [
    "cols = df.loc[:,'12493.238':'4007.556']\n",
    "\n",
    "x.columns = cols.columns\n",
    "del cols"
   ]
  },
  {
   "cell_type": "code",
   "execution_count": 140,
   "id": "c232a81b",
   "metadata": {},
   "outputs": [],
   "source": [
    "\n",
    "# Add Categoria feature\n",
    "x = x.join(df.loc[:,['Status fisiologico', 'Categoria']])\n",
    "x = pd.get_dummies(x, drop_first=False)"
   ]
  },
  {
   "cell_type": "code",
   "execution_count": 141,
   "id": "e6a41e7e",
   "metadata": {},
   "outputs": [],
   "source": [
    "# Response variable vector\n",
    "y = df['TD PB']"
   ]
  },
  {
   "cell_type": "code",
   "execution_count": 142,
   "id": "f223bce9",
   "metadata": {
    "tags": []
   },
   "outputs": [
    {
     "name": "stdout",
     "output_type": "stream",
     "text": [
      "N. samples training 179 , N. samples testing 78\n"
     ]
    }
   ],
   "source": [
    "# Split the data set into training (70%) and testing (30%)\n",
    "from sklearn.model_selection import train_test_split\n",
    "x_train, x_test, y_train, y_test = train_test_split(x, y, test_size=0.30, shuffle=True, random_state=40)\n",
    "print(\"N. samples training %s , N. samples testing %s\" % (x_train.shape[0], x_test.shape[0]))"
   ]
  },
  {
   "cell_type": "markdown",
   "id": "62817c1d",
   "metadata": {
    "tags": []
   },
   "source": [
    "## PRE-PROCESSING"
   ]
  },
  {
   "cell_type": "markdown",
   "id": "0bb2f578-aa88-4ac1-8d27-33075adf1f90",
   "metadata": {
    "tags": []
   },
   "source": [
    "### Feature Scaling"
   ]
  },
  {
   "cell_type": "code",
   "execution_count": 143,
   "id": "b0ac4c11-1ab3-49aa-9e2f-27ea21bc4bbd",
   "metadata": {},
   "outputs": [],
   "source": [
    "from sklearn.preprocessing import MinMaxScaler\n",
    "\n",
    "scaler = MinMaxScaler().fit(x_train)\n",
    "x_train = scaler.transform(x_train)\n",
    "x_test = scaler.transform(x_test)"
   ]
  },
  {
   "cell_type": "markdown",
   "id": "003f2694",
   "metadata": {
    "tags": []
   },
   "source": [
    "### Summary Statistics"
   ]
  },
  {
   "cell_type": "code",
   "execution_count": null,
   "id": "ea7dfc82-b6c7-4527-a0c6-d5b3cde2f12e",
   "metadata": {},
   "outputs": [],
   "source": [
    "for i in range(0, df.shape[0]):\n",
    "    x.loc[i, '12493.238':'4007.556'].plot(kind='line', figsize=(16,8))\n",
    "\n",
    "\n",
    "plt.ylabel(\"Absorção\")\n",
    "plt.xlabel(\"Comprimento de onda(cm^-1)\")\n",
    "plt.grid(visible=True)\n",
    "plt.title(\"Espectros de NIRS por amostra após tratamentos de ruído\")\n",
    "plt.show()"
   ]
  },
  {
   "cell_type": "code",
   "execution_count": null,
   "id": "f942fa17-8f1f-4cfc-bea6-5f56c8776295",
   "metadata": {},
   "outputs": [
    {
     "data": {
      "text/html": [
       "<div>\n",
       "<style scoped>\n",
       "    .dataframe tbody tr th:only-of-type {\n",
       "        vertical-align: middle;\n",
       "    }\n",
       "\n",
       "    .dataframe tbody tr th {\n",
       "        vertical-align: top;\n",
       "    }\n",
       "\n",
       "    .dataframe thead th {\n",
       "        text-align: right;\n",
       "    }\n",
       "</style>\n",
       "<table border=\"1\" class=\"dataframe\">\n",
       "  <thead>\n",
       "    <tr style=\"text-align: right;\">\n",
       "      <th></th>\n",
       "      <th>Peso corporal kg</th>\n",
       "      <th>Consumo MS kg/dia</th>\n",
       "      <th>Consumo MO kg/dia</th>\n",
       "      <th>Consumo PB kg/dia</th>\n",
       "      <th>Consumo FDN kg/dia</th>\n",
       "      <th>Consumo EE kg/dia</th>\n",
       "      <th>Consumo CNF kg/dia</th>\n",
       "      <th>Fezes MS kg/dia</th>\n",
       "      <th>Fezes MO kg/dia</th>\n",
       "      <th>Fezes PB kg/dia</th>\n",
       "      <th>...</th>\n",
       "      <th>3633.415</th>\n",
       "      <th>3629.557</th>\n",
       "      <th>3625.7</th>\n",
       "      <th>3621.843</th>\n",
       "      <th>3617.986</th>\n",
       "      <th>3614.129</th>\n",
       "      <th>3610.272</th>\n",
       "      <th>3606.415</th>\n",
       "      <th>3602.558</th>\n",
       "      <th>3598.7</th>\n",
       "    </tr>\n",
       "  </thead>\n",
       "  <tbody>\n",
       "    <tr>\n",
       "      <th>count</th>\n",
       "      <td>267.000000</td>\n",
       "      <td>267.000000</td>\n",
       "      <td>267.000000</td>\n",
       "      <td>267.000000</td>\n",
       "      <td>267.000000</td>\n",
       "      <td>267.000000</td>\n",
       "      <td>267.000000</td>\n",
       "      <td>267.000000</td>\n",
       "      <td>267.000000</td>\n",
       "      <td>267.000000</td>\n",
       "      <td>...</td>\n",
       "      <td>267.000000</td>\n",
       "      <td>267.000000</td>\n",
       "      <td>267.000000</td>\n",
       "      <td>267.000000</td>\n",
       "      <td>267.000000</td>\n",
       "      <td>267.000000</td>\n",
       "      <td>267.000000</td>\n",
       "      <td>267.000000</td>\n",
       "      <td>267.000000</td>\n",
       "      <td>267.000000</td>\n",
       "    </tr>\n",
       "    <tr>\n",
       "      <th>mean</th>\n",
       "      <td>509.824906</td>\n",
       "      <td>6.379836</td>\n",
       "      <td>6.030204</td>\n",
       "      <td>0.619715</td>\n",
       "      <td>3.469328</td>\n",
       "      <td>0.192359</td>\n",
       "      <td>1.711190</td>\n",
       "      <td>2.704554</td>\n",
       "      <td>2.330777</td>\n",
       "      <td>0.263546</td>\n",
       "      <td>...</td>\n",
       "      <td>0.229030</td>\n",
       "      <td>0.213754</td>\n",
       "      <td>0.260170</td>\n",
       "      <td>0.291170</td>\n",
       "      <td>0.286859</td>\n",
       "      <td>0.283470</td>\n",
       "      <td>0.269462</td>\n",
       "      <td>0.242059</td>\n",
       "      <td>0.239917</td>\n",
       "      <td>0.225538</td>\n",
       "    </tr>\n",
       "    <tr>\n",
       "      <th>std</th>\n",
       "      <td>102.339137</td>\n",
       "      <td>2.002452</td>\n",
       "      <td>1.875748</td>\n",
       "      <td>0.336699</td>\n",
       "      <td>1.073802</td>\n",
       "      <td>0.080614</td>\n",
       "      <td>0.641736</td>\n",
       "      <td>0.795194</td>\n",
       "      <td>0.720937</td>\n",
       "      <td>0.096765</td>\n",
       "      <td>...</td>\n",
       "      <td>0.199782</td>\n",
       "      <td>0.237003</td>\n",
       "      <td>0.188358</td>\n",
       "      <td>0.156556</td>\n",
       "      <td>0.175760</td>\n",
       "      <td>0.191097</td>\n",
       "      <td>0.185356</td>\n",
       "      <td>0.187441</td>\n",
       "      <td>0.166877</td>\n",
       "      <td>0.164253</td>\n",
       "    </tr>\n",
       "    <tr>\n",
       "      <th>min</th>\n",
       "      <td>281.000000</td>\n",
       "      <td>1.429860</td>\n",
       "      <td>1.435228</td>\n",
       "      <td>0.092339</td>\n",
       "      <td>0.577233</td>\n",
       "      <td>0.051604</td>\n",
       "      <td>0.441309</td>\n",
       "      <td>0.760456</td>\n",
       "      <td>0.622813</td>\n",
       "      <td>0.054601</td>\n",
       "      <td>...</td>\n",
       "      <td>-0.276049</td>\n",
       "      <td>-0.395581</td>\n",
       "      <td>-0.238561</td>\n",
       "      <td>-0.024993</td>\n",
       "      <td>-0.125093</td>\n",
       "      <td>-0.180869</td>\n",
       "      <td>-0.196580</td>\n",
       "      <td>-0.261695</td>\n",
       "      <td>-0.144254</td>\n",
       "      <td>-0.129140</td>\n",
       "    </tr>\n",
       "    <tr>\n",
       "      <th>25%</th>\n",
       "      <td>425.500000</td>\n",
       "      <td>4.945368</td>\n",
       "      <td>4.651638</td>\n",
       "      <td>0.351819</td>\n",
       "      <td>2.707140</td>\n",
       "      <td>0.134618</td>\n",
       "      <td>1.212661</td>\n",
       "      <td>2.130980</td>\n",
       "      <td>1.851124</td>\n",
       "      <td>0.192972</td>\n",
       "      <td>...</td>\n",
       "      <td>0.107274</td>\n",
       "      <td>0.069525</td>\n",
       "      <td>0.139561</td>\n",
       "      <td>0.179395</td>\n",
       "      <td>0.165436</td>\n",
       "      <td>0.147912</td>\n",
       "      <td>0.157507</td>\n",
       "      <td>0.108506</td>\n",
       "      <td>0.116012</td>\n",
       "      <td>0.106476</td>\n",
       "    </tr>\n",
       "    <tr>\n",
       "      <th>50%</th>\n",
       "      <td>530.000000</td>\n",
       "      <td>6.231714</td>\n",
       "      <td>5.898576</td>\n",
       "      <td>0.568794</td>\n",
       "      <td>3.385846</td>\n",
       "      <td>0.182511</td>\n",
       "      <td>1.674349</td>\n",
       "      <td>2.681238</td>\n",
       "      <td>2.313793</td>\n",
       "      <td>0.255564</td>\n",
       "      <td>...</td>\n",
       "      <td>0.229640</td>\n",
       "      <td>0.233216</td>\n",
       "      <td>0.255576</td>\n",
       "      <td>0.287353</td>\n",
       "      <td>0.282204</td>\n",
       "      <td>0.287219</td>\n",
       "      <td>0.283499</td>\n",
       "      <td>0.255783</td>\n",
       "      <td>0.239895</td>\n",
       "      <td>0.216038</td>\n",
       "    </tr>\n",
       "    <tr>\n",
       "      <th>75%</th>\n",
       "      <td>582.000000</td>\n",
       "      <td>7.716805</td>\n",
       "      <td>7.304223</td>\n",
       "      <td>0.795090</td>\n",
       "      <td>4.207334</td>\n",
       "      <td>0.232064</td>\n",
       "      <td>2.106837</td>\n",
       "      <td>3.202887</td>\n",
       "      <td>2.748287</td>\n",
       "      <td>0.316227</td>\n",
       "      <td>...</td>\n",
       "      <td>0.350355</td>\n",
       "      <td>0.366050</td>\n",
       "      <td>0.391686</td>\n",
       "      <td>0.387802</td>\n",
       "      <td>0.396442</td>\n",
       "      <td>0.404799</td>\n",
       "      <td>0.388062</td>\n",
       "      <td>0.374971</td>\n",
       "      <td>0.352256</td>\n",
       "      <td>0.347993</td>\n",
       "    </tr>\n",
       "    <tr>\n",
       "      <th>max</th>\n",
       "      <td>744.500000</td>\n",
       "      <td>12.277564</td>\n",
       "      <td>11.729826</td>\n",
       "      <td>1.780895</td>\n",
       "      <td>6.722461</td>\n",
       "      <td>0.483549</td>\n",
       "      <td>3.866051</td>\n",
       "      <td>5.143320</td>\n",
       "      <td>4.547951</td>\n",
       "      <td>0.570620</td>\n",
       "      <td>...</td>\n",
       "      <td>0.940678</td>\n",
       "      <td>1.049306</td>\n",
       "      <td>0.902545</td>\n",
       "      <td>0.783421</td>\n",
       "      <td>0.916157</td>\n",
       "      <td>0.859193</td>\n",
       "      <td>0.886101</td>\n",
       "      <td>0.702963</td>\n",
       "      <td>0.752801</td>\n",
       "      <td>0.859664</td>\n",
       "    </tr>\n",
       "  </tbody>\n",
       "</table>\n",
       "<p>8 rows × 2336 columns</p>\n",
       "</div>"
      ],
      "text/plain": [
       "       Peso corporal kg  Consumo MS kg/dia  Consumo MO kg/dia  \\\n",
       "count        267.000000         267.000000         267.000000   \n",
       "mean         509.824906           6.379836           6.030204   \n",
       "std          102.339137           2.002452           1.875748   \n",
       "min          281.000000           1.429860           1.435228   \n",
       "25%          425.500000           4.945368           4.651638   \n",
       "50%          530.000000           6.231714           5.898576   \n",
       "75%          582.000000           7.716805           7.304223   \n",
       "max          744.500000          12.277564          11.729826   \n",
       "\n",
       "       Consumo PB kg/dia  Consumo FDN kg/dia  Consumo EE kg/dia  \\\n",
       "count         267.000000          267.000000         267.000000   \n",
       "mean            0.619715            3.469328           0.192359   \n",
       "std             0.336699            1.073802           0.080614   \n",
       "min             0.092339            0.577233           0.051604   \n",
       "25%             0.351819            2.707140           0.134618   \n",
       "50%             0.568794            3.385846           0.182511   \n",
       "75%             0.795090            4.207334           0.232064   \n",
       "max             1.780895            6.722461           0.483549   \n",
       "\n",
       "       Consumo CNF kg/dia  Fezes MS kg/dia  Fezes MO kg/dia  Fezes PB kg/dia  \\\n",
       "count          267.000000       267.000000       267.000000       267.000000   \n",
       "mean             1.711190         2.704554         2.330777         0.263546   \n",
       "std              0.641736         0.795194         0.720937         0.096765   \n",
       "min              0.441309         0.760456         0.622813         0.054601   \n",
       "25%              1.212661         2.130980         1.851124         0.192972   \n",
       "50%              1.674349         2.681238         2.313793         0.255564   \n",
       "75%              2.106837         3.202887         2.748287         0.316227   \n",
       "max              3.866051         5.143320         4.547951         0.570620   \n",
       "\n",
       "       ...    3633.415    3629.557      3625.7    3621.843    3617.986  \\\n",
       "count  ...  267.000000  267.000000  267.000000  267.000000  267.000000   \n",
       "mean   ...    0.229030    0.213754    0.260170    0.291170    0.286859   \n",
       "std    ...    0.199782    0.237003    0.188358    0.156556    0.175760   \n",
       "min    ...   -0.276049   -0.395581   -0.238561   -0.024993   -0.125093   \n",
       "25%    ...    0.107274    0.069525    0.139561    0.179395    0.165436   \n",
       "50%    ...    0.229640    0.233216    0.255576    0.287353    0.282204   \n",
       "75%    ...    0.350355    0.366050    0.391686    0.387802    0.396442   \n",
       "max    ...    0.940678    1.049306    0.902545    0.783421    0.916157   \n",
       "\n",
       "         3614.129    3610.272    3606.415    3602.558      3598.7  \n",
       "count  267.000000  267.000000  267.000000  267.000000  267.000000  \n",
       "mean     0.283470    0.269462    0.242059    0.239917    0.225538  \n",
       "std      0.191097    0.185356    0.187441    0.166877    0.164253  \n",
       "min     -0.180869   -0.196580   -0.261695   -0.144254   -0.129140  \n",
       "25%      0.147912    0.157507    0.108506    0.116012    0.106476  \n",
       "50%      0.287219    0.283499    0.255783    0.239895    0.216038  \n",
       "75%      0.404799    0.388062    0.374971    0.352256    0.347993  \n",
       "max      0.859193    0.886101    0.702963    0.752801    0.859664  \n",
       "\n",
       "[8 rows x 2336 columns]"
      ]
     },
     "execution_count": 4,
     "metadata": {},
     "output_type": "execute_result"
    }
   ],
   "source": [
    "df.describe()"
   ]
  },
  {
   "cell_type": "code",
   "execution_count": null,
   "id": "f313cda1-09cb-426a-9513-63731e769c59",
   "metadata": {},
   "outputs": [
    {
     "name": "stderr",
     "output_type": "stream",
     "text": [
      "/home/caio/anaconda3/lib/python3.9/site-packages/seaborn/distributions.py:2619: FutureWarning: `distplot` is a deprecated function and will be removed in a future version. Please adapt your code to use either `displot` (a figure-level function with similar flexibility) or `histplot` (an axes-level function for histograms).\n",
      "  warnings.warn(msg, FutureWarning)\n",
      "/home/caio/anaconda3/lib/python3.9/site-packages/seaborn/distributions.py:2619: FutureWarning: `distplot` is a deprecated function and will be removed in a future version. Please adapt your code to use either `displot` (a figure-level function with similar flexibility) or `histplot` (an axes-level function for histograms).\n",
      "  warnings.warn(msg, FutureWarning)\n"
     ]
    },
    {
     "data": {
      "image/png": "[encoded data removed]",
      "text/plain": [
       "<Figure size 1152x360 with 2 Axes>"
      ]
     },
     "metadata": {
      "needs_background": "light"
     },
     "output_type": "display_data"
    }
   ],
   "source": [
    "import matplotlib.pyplot as plt\n",
    "import seaborn as sns\n",
    "\n",
    "plt.figure(figsize=(16,5))\n",
    "plt.subplot(1,2,1)\n",
    "sns.distplot(df['3606.415'])\n",
    "plt.subplot(1,2,2)\n",
    "sns.distplot(df['TD PB'])\n",
    "plt.show()"
   ]
  },
  {
   "cell_type": "markdown",
   "id": "0f7a2a9d-71ed-40c4-8b70-ecc82d3a9c21",
   "metadata": {
    "tags": []
   },
   "source": [
    "### Noise Treatment"
   ]
  },
  {
   "cell_type": "code",
   "execution_count": 69,
   "id": "55638ab9-2c7c-4818-b899-af31bccf0bb2",
   "metadata": {},
   "outputs": [
    {
     "data": {
      "image/png": "[encoded data removed]",
      "text/plain": [
       "<Figure size 432x288 with 1 Axes>"
      ]
     },
     "metadata": {
      "needs_background": "light"
     },
     "output_type": "display_data"
    },
    {
     "data": {
      "image/png": "[encoded data removed]",
      "text/plain": [
       "<Figure size 432x288 with 1 Axes>"
      ]
     },
     "metadata": {
      "needs_background": "light"
     },
     "output_type": "display_data"
    },
    {
     "data": {
      "image/png": "[encoded data removed]",
      "text/plain": [
       "<Figure size 432x288 with 2 Axes>"
      ]
     },
     "metadata": {
      "needs_background": "light"
     },
     "output_type": "display_data"
    },
    {
     "data": {
      "image/png": "[encoded data removed]",
      "text/plain": [
       "<Figure size 432x288 with 2 Axes>"
      ]
     },
     "metadata": {
      "needs_background": "light"
     },
     "output_type": "display_data"
    },
    {
     "data": {
      "image/png": "[encoded data removed]",
      "text/plain": [
       "<Figure size 360x288 with 2 Axes>"
      ]
     },
     "metadata": {
      "needs_background": "light"
     },
     "output_type": "display_data"
    },
    {
     "data": {
      "image/png": "[encoded data removed]",
      "text/plain": [
       "<Figure size 432x288 with 2 Axes>"
      ]
     },
     "metadata": {
      "needs_background": "light"
     },
     "output_type": "display_data"
    },
    {
     "data": {
      "image/png": "[encoded data removed]",
      "text/plain": [
       "<Figure size 432x288 with 2 Axes>"
      ]
     },
     "metadata": {
      "needs_background": "light"
     },
     "output_type": "display_data"
    },
    {
     "data": {
      "image/png": "[encoded data removed]",
      "text/plain": [
       "<Figure size 360x288 with 2 Axes>"
      ]
     },
     "metadata": {
      "needs_background": "light"
     },
     "output_type": "display_data"
    }
   ],
   "source": [
    "import NIR_preprocess as nir_pre\n",
    "combination, datasets, datasets0, R2_all, R2adj_all, RMSECV_all, VIP_all, Ef_all, Wt = nir_pre.compare_preprocessing(x_train.values, y_train.values)"
   ]
  },
  {
   "cell_type": "code",
   "execution_count": 136,
   "id": "be8f02a2-800f-40a0-9052-9777e0281d70",
   "metadata": {},
   "outputs": [],
   "source": [
    "x = datasets0[8]"
   ]
  },
  {
   "cell_type": "code",
   "execution_count": 72,
   "id": "8957d9f4-2dd2-4931-973d-e4244c9a2f5f",
   "metadata": {},
   "outputs": [
    {
     "data": {
      "text/plain": [
       "\"savitzky_golay{'deriv': 1, 'order': 1, 'window_size': 17} / SNV{}\""
      ]
     },
     "execution_count": 72,
     "metadata": {},
     "output_type": "execute_result"
    }
   ],
   "source": [
    "combination[47]"
   ]
  },
  {
   "cell_type": "code",
   "execution_count": 70,
   "id": "f8d5af1a-3d4e-4a51-8f6a-3275fe56c7bd",
   "metadata": {},
   "outputs": [
    {
     "data": {
      "text/plain": [
       "47"
      ]
     },
     "execution_count": 70,
     "metadata": {},
     "output_type": "execute_result"
    }
   ],
   "source": [
    "RMSECV_all[0].argmin()"
   ]
  },
  {
   "cell_type": "code",
   "execution_count": 71,
   "id": "ac1802b8-1eb8-44a4-b6e7-02ef9848d05b",
   "metadata": {},
   "outputs": [
    {
     "data": {
      "text/plain": [
       "47"
      ]
     },
     "execution_count": 71,
     "metadata": {},
     "output_type": "execute_result"
    }
   ],
   "source": [
    "R2adj_all[0].argmax()"
   ]
  },
  {
   "cell_type": "markdown",
   "id": "899311ff-9cff-4697-b532-f7960aa55253",
   "metadata": {
    "tags": []
   },
   "source": [
    "### Outliers Treatment"
   ]
  },
  {
   "cell_type": "code",
   "execution_count": 4,
   "id": "90380dd1-25f5-488a-b6f0-9d6bf33b708d",
   "metadata": {},
   "outputs": [
    {
     "data": {
      "text/plain": [
       "<AxesSubplot:>"
      ]
     },
     "execution_count": 4,
     "metadata": {},
     "output_type": "execute_result"
    },
    {
     "data": {
      "image/png": "[encoded data removed]",
      "text/plain": [
       "<Figure size 432x288 with 1 Axes>"
      ]
     },
     "metadata": {
      "needs_background": "light"
     },
     "output_type": "display_data"
    }
   ],
   "source": [
    "df.boxplot('TD PB')"
   ]
  },
  {
   "cell_type": "code",
   "execution_count": 5,
   "id": "68c5783d-1062-4753-8a8c-e34487b82802",
   "metadata": {},
   "outputs": [],
   "source": [
    "for x in ['TD PB']:\n",
    "    q75,q25 = np.percentile(df.loc[:,x],[75,25])\n",
    "    intr_qr = q75-q25\n",
    " \n",
    "    max = q75+(1.5*intr_qr)\n",
    "    min = q25-(1.5*intr_qr)\n",
    " \n",
    "    df.loc[df[x] < min,x] = np.nan\n",
    "    df.loc[df[x] > max,x] = np.nan\n"
   ]
  },
  {
   "cell_type": "code",
   "execution_count": 12,
   "id": "a3f2d1ba-f79a-4cce-aaf1-68db07ae8289",
   "metadata": {},
   "outputs": [
    {
     "data": {
      "text/plain": [
       "Int64Index([5, 6, 8, 15, 23, 26, 119, 149, 228], dtype='int64')"
      ]
     },
     "execution_count": 12,
     "metadata": {},
     "output_type": "execute_result"
    }
   ],
   "source": [
    "df[df['TD PB'].isnull()].index"
   ]
  },
  {
   "cell_type": "code",
   "execution_count": 62,
   "id": "25bad69c-8ffb-4840-9f5d-dd8d799a3a84",
   "metadata": {},
   "outputs": [
    {
     "data": {
      "text/plain": [
       "5      17.774108\n",
       "6      19.233865\n",
       "8      18.811528\n",
       "15     17.349231\n",
       "23     18.989005\n",
       "26     16.953877\n",
       "119    23.257045\n",
       "149    19.479752\n",
       "228    20.113972\n",
       "Name: TD PB, dtype: float64"
      ]
     },
     "execution_count": 62,
     "metadata": {},
     "output_type": "execute_result"
    }
   ],
   "source": [
    "df0['TD PB'].iloc[[5, 6, 8, 15, 23, 26, 119, 149, 228]]"
   ]
  },
  {
   "cell_type": "code",
   "execution_count": 42,
   "id": "74ef4aec-2200-4f5b-bc58-fa9b33179ba1",
   "metadata": {},
   "outputs": [],
   "source": [
    "from scipy.stats import chi2\n",
    "from matplotlib import patches\n",
    "import matplotlib.pyplot as plt"
   ]
  },
  {
   "cell_type": "code",
   "execution_count": 43,
   "id": "98702c5d-07e7-4cf8-8fb3-d2cd343a52b0",
   "metadata": {},
   "outputs": [],
   "source": [
    "df_out_detect =  df[['TD PB', 'CD PB']]\n",
    "df_out_detect =  df_out_detect.to_numpy()"
   ]
  },
  {
   "cell_type": "code",
   "execution_count": 44,
   "id": "8dfb4fbc-aa63-4370-a61c-56963e659984",
   "metadata": {},
   "outputs": [],
   "source": [
    "# Covariance matrix\n",
    "covariance  = np.cov(df_out_detect, rowvar=False)\n",
    "\n",
    "# Covariance matrix power of -1\n",
    "covariance_pm1 = np.linalg.matrix_power(covariance, -1)\n",
    "\n",
    "# Center point\n",
    "centerpoint = np.mean(df_out_detect , axis=0)"
   ]
  },
  {
   "cell_type": "code",
   "execution_count": 45,
   "id": "73603b2c-f93a-46b7-a697-9cd3c9d2d3d3",
   "metadata": {},
   "outputs": [
    {
     "data": {
      "text/plain": [
       "array([ 9.40771776, 48.79358076])"
      ]
     },
     "execution_count": 45,
     "metadata": {},
     "output_type": "execute_result"
    }
   ],
   "source": [
    "centerpoint"
   ]
  },
  {
   "cell_type": "code",
   "execution_count": 46,
   "id": "651b8108-764d-4565-89ff-56cc4adbb04e",
   "metadata": {},
   "outputs": [
    {
     "name": "stdout",
     "output_type": "stream",
     "text": [
      "--- Index of Outliers ----\n",
      "(array([  5,   6,   8,  15,  23, 119, 140, 149, 160, 175, 179, 210, 218,\n",
      "       221, 223, 225, 228, 233, 249, 255]),)\n",
      "--- Observations found as outlier -----\n",
      "[[ 17.77410784  82.21356965]\n",
      " [ 19.23386544  78.95595349]\n",
      " [ 18.8115279   81.54824038]\n",
      " [ 17.34923051  80.80236935]\n",
      " [ 18.98900462  82.41344824]\n",
      " [ 23.25704525  83.28428317]\n",
      " [  6.26483038 -21.7939895 ]\n",
      " [ 19.47975171  89.44136374]\n",
      " [  6.06763562 -14.55641049]\n",
      " [  8.34606225   1.55379685]\n",
      " [  8.51644127 -23.63800757]\n",
      " [  5.07538975 -13.54987729]\n",
      " [  5.52808989  62.68376439]\n",
      " [  9.39781028  93.80679692]\n",
      " [  5.42638012 -17.15481371]\n",
      " [  5.58850638 -23.53461951]\n",
      " [ 20.11397231  90.26169657]\n",
      " [  3.50025147 -27.47605497]\n",
      " [  4.41284912 -31.75094687]\n",
      " [  6.53705214 -33.10761342]]\n"
     ]
    }
   ],
   "source": [
    "distances = []\n",
    "for i, val in enumerate(df_out_detect):\n",
    "      p1 = val\n",
    "      p2 = centerpoint\n",
    "      distance = (p1-p2).T.dot(covariance_pm1).dot(p1-p2)\n",
    "      distances.append(distance)\n",
    "distances = np.array(distances)\n",
    "\n",
    "# Cutoff (threshold) value from Chi-Sqaure Distribution for detecting outliers \n",
    "cutoff = chi2.ppf(0.95, df_out_detect.shape[1])\n",
    "\n",
    "# Index of outliers\n",
    "outlierIndexes = np.where(distances > cutoff )\n",
    "\n",
    "print('--- Index of Outliers ----')\n",
    "print(outlierIndexes)\n",
    "\n",
    "print('--- Observations found as outlier -----')\n",
    "print(df_out_detect[ distances > cutoff , :])"
   ]
  },
  {
   "cell_type": "code",
   "execution_count": 50,
   "id": "e93514ee-8bc8-4c1f-baee-861b1f9e1a31",
   "metadata": {},
   "outputs": [
    {
     "data": {
      "image/png": "[encoded data removed]",
      "text/plain": [
       "<Figure size 432x288 with 1 Axes>"
      ]
     },
     "metadata": {
      "needs_background": "light"
     },
     "output_type": "display_data"
    }
   ],
   "source": [
    "## Finding ellipse dimensions \n",
    "pearson = covariance[0, 1]/np.sqrt(covariance[0, 0] * covariance[1, 1])\n",
    "ell_radius_x = np.sqrt(1 + pearson)\n",
    "ell_radius_y = np.sqrt(1 - pearson)\n",
    "lambda_, v = np.linalg.eig(covariance)\n",
    "lambda_ = np.sqrt(lambda_)\n",
    "\n",
    "# Ellipse patch\n",
    "ellipse = patches.Ellipse(xy=(centerpoint[0], centerpoint[1]),\n",
    "                  width=lambda_[0]*np.sqrt(cutoff)*2, height=lambda_[1]*np.sqrt(cutoff)*2,\n",
    "                  angle=np.rad2deg(np.arccos(v[0, 0])), edgecolor='#fab1a0')\n",
    "ellipse.set_facecolor('#0984e3')\n",
    "ellipse.set_alpha(0.5)\n",
    "fig = plt.figure()\n",
    "ax = plt.subplot()\n",
    "ax.add_artist(ellipse)\n",
    "plt.scatter(df_out_detect[: , 0], df_out_detect[ : , 1])\n",
    "plt.show()"
   ]
  },
  {
   "cell_type": "code",
   "execution_count": null,
   "id": "e63b2864-9554-4248-8192-b0d1c8053573",
   "metadata": {},
   "outputs": [],
   "source": [
    "from scipy import stats\n",
    "td_pb_zscores_descending_index = stats.zscore(df['TD PB']).sort_values(ascending=False).index.to_list()"
   ]
  },
  {
   "cell_type": "code",
   "execution_count": null,
   "id": "6070e423-5df1-41b8-9d89-caad75989c45",
   "metadata": {},
   "outputs": [],
   "source": [
    "d = {'TD PB' : df['TD PB'].values, 'Z SCORE': stats.zscore(df['TD PB'])}"
   ]
  },
  {
   "cell_type": "code",
   "execution_count": null,
   "id": "6166e160-90a0-45a1-ac48-207b8a3798af",
   "metadata": {},
   "outputs": [],
   "source": [
    "pd.DataFrame(d).sort_values('Z SCORE', ascending=False).head()"
   ]
  },
  {
   "cell_type": "code",
   "execution_count": null,
   "id": "2311fe82-b01d-42d6-86ef-beee2015891c",
   "metadata": {},
   "outputs": [],
   "source": [
    "\"\"\"# Remove NIRS data with Z SCORE higher than 3\n",
    "df = df[(np.abs(stats.zscore(df.loc[:,'12493.238':])) < 3).all(axis=1)]\n",
    "df.shape\"\"\""
   ]
  },
  {
   "cell_type": "markdown",
   "id": "31025831-ec2f-47ce-b465-ebcf047e6738",
   "metadata": {},
   "source": [
    "### Feature Selecting"
   ]
  },
  {
   "cell_type": "code",
   "execution_count": null,
   "id": "9dae103c-e483-48da-9516-7f703bdc543c",
   "metadata": {},
   "outputs": [],
   "source": [
    "# evaluation of a model using 88 features chosen with mutual information\n",
    "from sklearn.datasets import make_regression\n",
    "from sklearn.model_selection import train_test_split\n",
    "from sklearn.feature_selection import SelectKBest\n",
    "from sklearn.feature_selection import mutual_info_regression\n",
    "from sklearn.neighbors import KNeighborsRegressor\n",
    "from sklearn.metrics import mean_absolute_error\n",
    "\n",
    "k_vs_score = []\n",
    "for k in range(1,2200,100):\n",
    "    # configure to select a subset of features\n",
    "    fs = SelectKBest(score_func=mutual_info_regression, k=k)\n",
    "    # learn relationship from training data\n",
    "    fs.fit(x_train, y_train)\n",
    "    # transform train input data\n",
    "    X_train_fs = fs.transform(x_train)\n",
    "    # transform test input data\n",
    "    X_test_fs = fs.transform(x_test)\n",
    "\n",
    "    model = KNeighborsRegressor()\n",
    "    model.fit(X_train_fs, y_train)\n",
    "    # evaluate the model\n",
    "    yhat = model.predict(X_test_fs)\n",
    "    # evaluate predictions\n",
    "    mae = mean_absolute_error(y_test, yhat)\n",
    "    # print(\"k = {} - R2 = {}\".format(k, score))\n",
    "\n",
    "    k_vs_score.append(mae)"
   ]
  },
  {
   "cell_type": "code",
   "execution_count": 146,
   "id": "367f8f49-e5a4-486d-b833-a7f1c78d327a",
   "metadata": {},
   "outputs": [
    {
     "data": {
      "text/plain": [
       "<AxesSubplot:>"
      ]
     },
     "execution_count": 146,
     "metadata": {},
     "output_type": "execute_result"
    },
    {
     "data": {
      "image/png": "[encoded data removed]",
      "text/plain": [
       "<Figure size 720x504 with 1 Axes>"
      ]
     },
     "metadata": {
      "needs_background": "light"
     },
     "output_type": "display_data"
    }
   ],
   "source": [
    "pd.Series(k_vs_score, index=range(1,2200,100)).plot(figsize=(10,7))"
   ]
  },
  {
   "cell_type": "code",
   "execution_count": 147,
   "id": "3bbdcad0-5090-4d3d-8e74-3a11be6f5166",
   "metadata": {},
   "outputs": [],
   "source": [
    "scores = np.array(k_vs_score)"
   ]
  },
  {
   "cell_type": "code",
   "execution_count": 152,
   "id": "c2179cb6-d080-4a8c-9dcd-cd348d75d92a",
   "metadata": {},
   "outputs": [
    {
     "data": {
      "text/plain": [
       "22"
      ]
     },
     "execution_count": 152,
     "metadata": {},
     "output_type": "execute_result"
    }
   ],
   "source": [
    "scores.size"
   ]
  },
  {
   "cell_type": "code",
   "execution_count": 160,
   "id": "1e86040c-acfe-47f4-babc-c4a4019ba7ff",
   "metadata": {},
   "outputs": [
    {
     "data": {
      "text/html": [
       "<style>#sk-container-id-3 {color: black;background-color: white;}#sk-container-id-3 pre{padding: 0;}#sk-container-id-3 div.sk-toggleable {background-color: white;}#sk-container-id-3 label.sk-toggleable__label {cursor: pointer;display: block;width: 100%;margin-bottom: 0;padding: 0.3em;box-sizing: border-box;text-align: center;}#sk-container-id-3 label.sk-toggleable__label-arrow:before {content: \"▸\";float: left;margin-right: 0.25em;color: #696969;}#sk-container-id-3 label.sk-toggleable__label-arrow:hover:before {color: black;}#sk-container-id-3 div.sk-estimator:hover label.sk-toggleable__label-arrow:before {color: black;}#sk-container-id-3 div.sk-toggleable__content {max-height: 0;max-width: 0;overflow: hidden;text-align: left;background-color: #f0f8ff;}#sk-container-id-3 div.sk-toggleable__content pre {margin: 0.2em;color: black;border-radius: 0.25em;background-color: #f0f8ff;}#sk-container-id-3 input.sk-toggleable__control:checked~div.sk-toggleable__content {max-height: 200px;max-width: 100%;overflow: auto;}#sk-container-id-3 input.sk-toggleable__control:checked~label.sk-toggleable__label-arrow:before {content: \"▾\";}#sk-container-id-3 div.sk-estimator input.sk-toggleable__control:checked~label.sk-toggleable__label {background-color: #d4ebff;}#sk-container-id-3 div.sk-label input.sk-toggleable__control:checked~label.sk-toggleable__label {background-color: #d4ebff;}#sk-container-id-3 input.sk-hidden--visually {border: 0;clip: rect(1px 1px 1px 1px);clip: rect(1px, 1px, 1px, 1px);height: 1px;margin: -1px;overflow: hidden;padding: 0;position: absolute;width: 1px;}#sk-container-id-3 div.sk-estimator {font-family: monospace;background-color: #f0f8ff;border: 1px dotted black;border-radius: 0.25em;box-sizing: border-box;margin-bottom: 0.5em;}#sk-container-id-3 div.sk-estimator:hover {background-color: #d4ebff;}#sk-container-id-3 div.sk-parallel-item::after {content: \"\";width: 100%;border-bottom: 1px solid gray;flex-grow: 1;}#sk-container-id-3 div.sk-label:hover label.sk-toggleable__label {background-color: #d4ebff;}#sk-container-id-3 div.sk-serial::before {content: \"\";position: absolute;border-left: 1px solid gray;box-sizing: border-box;top: 0;bottom: 0;left: 50%;z-index: 0;}#sk-container-id-3 div.sk-serial {display: flex;flex-direction: column;align-items: center;background-color: white;padding-right: 0.2em;padding-left: 0.2em;position: relative;}#sk-container-id-3 div.sk-item {position: relative;z-index: 1;}#sk-container-id-3 div.sk-parallel {display: flex;align-items: stretch;justify-content: center;background-color: white;position: relative;}#sk-container-id-3 div.sk-item::before, #sk-container-id-3 div.sk-parallel-item::before {content: \"\";position: absolute;border-left: 1px solid gray;box-sizing: border-box;top: 0;bottom: 0;left: 50%;z-index: -1;}#sk-container-id-3 div.sk-parallel-item {display: flex;flex-direction: column;z-index: 1;position: relative;background-color: white;}#sk-container-id-3 div.sk-parallel-item:first-child::after {align-self: flex-end;width: 50%;}#sk-container-id-3 div.sk-parallel-item:last-child::after {align-self: flex-start;width: 50%;}#sk-container-id-3 div.sk-parallel-item:only-child::after {width: 0;}#sk-container-id-3 div.sk-dashed-wrapped {border: 1px dashed gray;margin: 0 0.4em 0.5em 0.4em;box-sizing: border-box;padding-bottom: 0.4em;background-color: white;}#sk-container-id-3 div.sk-label label {font-family: monospace;font-weight: bold;display: inline-block;line-height: 1.2em;}#sk-container-id-3 div.sk-label-container {text-align: center;}#sk-container-id-3 div.sk-container {/* jupyter's `normalize.less` sets `[hidden] { display: none; }` but bootstrap.min.css set `[hidden] { display: none !important; }` so we also need the `!important` here to be able to override the default hidden behavior on the sphinx rendered scikit-learn.org. See: https://github.com/scikit-learn/scikit-learn/issues/21755 */display: inline-block !important;position: relative;}#sk-container-id-3 div.sk-text-repr-fallback {display: none;}</style><div id=\"sk-container-id-3\" class=\"sk-top-container\"><div class=\"sk-text-repr-fallback\"><pre>SelectKBest(score_func=&lt;function mutual_info_regression at 0x7fb460112ca0&gt;)</pre><b>In a Jupyter environment, please rerun this cell to show the HTML representation or trust the notebook. <br />On GitHub, the HTML representation is unable to render, please try loading this page with nbviewer.org.</b></div><div class=\"sk-container\" hidden><div class=\"sk-item\"><div class=\"sk-estimator sk-toggleable\"><input class=\"sk-toggleable__control sk-hidden--visually\" id=\"sk-estimator-id-3\" type=\"checkbox\" checked><label for=\"sk-estimator-id-3\" class=\"sk-toggleable__label sk-toggleable__label-arrow\">SelectKBest</label><div class=\"sk-toggleable__content\"><pre>SelectKBest(score_func=&lt;function mutual_info_regression at 0x7fb460112ca0&gt;)</pre></div></div></div></div></div>"
      ],
      "text/plain": [
       "SelectKBest(score_func=<function mutual_info_regression at 0x7fb460112ca0>)"
      ]
     },
     "execution_count": 160,
     "metadata": {},
     "output_type": "execute_result"
    }
   ],
   "source": [
    "selector = SelectKBest(score_func=mutual_info_regression, k=10)\n",
    "selector.fit(x_train, y_train)"
   ]
  },
  {
   "cell_type": "code",
   "execution_count": 161,
   "id": "9cca5ddb-d93a-4101-be6f-db4eba920915",
   "metadata": {},
   "outputs": [
    {
     "data": {
      "text/plain": [
       "Index(['5696.978', '5068.266', '5060.552', '5041.266', '5037.409', '5033.552',\n",
       "       '5029.695', '5025.838', '5018.124', '5002.695'],\n",
       "      dtype='object')"
      ]
     },
     "execution_count": 161,
     "metadata": {},
     "output_type": "execute_result"
    }
   ],
   "source": [
    "mask = selector.get_support()\n",
    "x_test = pd.DataFrame(x_test)\n",
    "x_train = pd.DataFrame(x_train)\n",
    "x_test.columns = x.columns\n",
    "x_train.columns = x.columns\n",
    "x_test.columns[mask]"
   ]
  },
  {
   "cell_type": "code",
   "execution_count": 162,
   "id": "fd79a956-77d1-4ec1-9609-d14af3936b4f",
   "metadata": {},
   "outputs": [
    {
     "data": {
      "text/plain": [
       "<AxesSubplot:>"
      ]
     },
     "execution_count": 162,
     "metadata": {},
     "output_type": "execute_result"
    },
    {
     "data": {
      "image/png": "[encoded data removed]",
      "text/plain": [
       "<Figure size 432x288 with 1 Axes>"
      ]
     },
     "metadata": {
      "needs_background": "light"
     },
     "output_type": "display_data"
    }
   ],
   "source": [
    "pd.Series(selector.scores_[mask], index=x_train.columns[mask]).sort_values().plot.barh()"
   ]
  },
  {
   "cell_type": "code",
   "execution_count": 144,
   "id": "e628eda9-b8a2-4c97-8b01-c1aa4d24247f",
   "metadata": {},
   "outputs": [],
   "source": [
    "from sklearn.feature_selection import SelectKBest\n",
    "from sklearn.feature_selection import mutual_info_regression\n",
    "\n",
    "# configure to select a subset of features\n",
    "fs = SelectKBest(score_func=mutual_info_regression, k=600)\n",
    "# learn relationship from training data\n",
    "fs.fit(x_train, y_train)\n",
    "# transform train input data\n",
    "x_train = fs.transform(x_train)\n",
    "# transform test input data\n",
    "x_test = fs.transform(x_test)"
   ]
  },
  {
   "cell_type": "markdown",
   "id": "48f2539e-1169-4584-b126-988277270b38",
   "metadata": {
    "tags": []
   },
   "source": [
    "## MODEL SELECTION"
   ]
  },
  {
   "cell_type": "markdown",
   "id": "b9d40552-12ba-4c71-a4f8-af486dc5e248",
   "metadata": {
    "tags": []
   },
   "source": [
    "### Hold Out"
   ]
  },
  {
   "cell_type": "code",
   "execution_count": 110,
   "id": "71c09b0e-1d65-42e3-ac68-54388b76a57e",
   "metadata": {},
   "outputs": [
    {
     "name": "stdout",
     "output_type": "stream",
     "text": [
      "[7.08883161e-01 1.80517317e-01 5.54668558e-02 2.28532348e-02\n",
      " 1.31042052e-02 1.04542572e-02 4.08948044e-03 2.24027147e-03\n",
      " 6.66762693e-04 4.00757769e-04 2.62402501e-04 1.88897175e-04\n",
      " 1.36747239e-04 1.00107392e-04 8.70361219e-05]\n"
     ]
    },
    {
     "data": {
      "text/html": [
       "<div>\n",
       "<style scoped>\n",
       "    .dataframe tbody tr th:only-of-type {\n",
       "        vertical-align: middle;\n",
       "    }\n",
       "\n",
       "    .dataframe tbody tr th {\n",
       "        vertical-align: top;\n",
       "    }\n",
       "\n",
       "    .dataframe thead th {\n",
       "        text-align: right;\n",
       "    }\n",
       "</style>\n",
       "<table border=\"1\" class=\"dataframe\">\n",
       "  <thead>\n",
       "    <tr style=\"text-align: right;\">\n",
       "      <th></th>\n",
       "      <th>R2</th>\n",
       "      <th>MAE</th>\n",
       "      <th>RMSE</th>\n",
       "      <th>RPD</th>\n",
       "    </tr>\n",
       "  </thead>\n",
       "  <tbody>\n",
       "    <tr>\n",
       "      <th>Teste</th>\n",
       "      <td>0.598747</td>\n",
       "      <td>1.419993</td>\n",
       "      <td>1.782621</td>\n",
       "      <td>1.588887</td>\n",
       "    </tr>\n",
       "  </tbody>\n",
       "</table>\n",
       "</div>"
      ],
      "text/plain": [
       "             R2       MAE      RMSE       RPD\n",
       "Teste  0.598747  1.419993  1.782621  1.588887"
      ]
     },
     "execution_count": 110,
     "metadata": {},
     "output_type": "execute_result"
    }
   ],
   "source": [
    "from sklearn.model_selection import train_test_split\n",
    "from sklearn.pipeline import make_pipeline\n",
    "from sklearn.linear_model import LinearRegression\n",
    "from sklearn.preprocessing import StandardScaler\n",
    "from sklearn.decomposition import PCA\n",
    "from sklearn.cross_decomposition import PLSRegression\n",
    "\n",
    "\n",
    "pcr = make_pipeline( PCA(n_components=15), LinearRegression())\n",
    "pcr.fit(x_train, y_train)\n",
    "pca = pcr.named_steps[\"pca\"] \n",
    "print(pca.explained_variance_ratio_)\n",
    "\n",
    "pls = PLSRegression(n_components=10)\n",
    "pls.fit(x_train, y_train)\n",
    "\n",
    "\n",
    "preds = pcr.predict(x_test)\n",
    "cmls.evalute_model(y_test, preds)"
   ]
  },
  {
   "cell_type": "code",
   "execution_count": 111,
   "id": "748ccd0a-75de-41c5-9e90-0c9f95dd495b",
   "metadata": {},
   "outputs": [
    {
     "data": {
      "text/html": [
       "<div>\n",
       "<style scoped>\n",
       "    .dataframe tbody tr th:only-of-type {\n",
       "        vertical-align: middle;\n",
       "    }\n",
       "\n",
       "    .dataframe tbody tr th {\n",
       "        vertical-align: top;\n",
       "    }\n",
       "\n",
       "    .dataframe thead th {\n",
       "        text-align: right;\n",
       "    }\n",
       "</style>\n",
       "<table border=\"1\" class=\"dataframe\">\n",
       "  <thead>\n",
       "    <tr style=\"text-align: right;\">\n",
       "      <th></th>\n",
       "      <th>R2</th>\n",
       "      <th>MAE</th>\n",
       "      <th>RMSE</th>\n",
       "      <th>RPD</th>\n",
       "    </tr>\n",
       "  </thead>\n",
       "  <tbody>\n",
       "    <tr>\n",
       "      <th>Teste</th>\n",
       "      <td>0.328823</td>\n",
       "      <td>1.687425</td>\n",
       "      <td>2.305518</td>\n",
       "      <td>1.228523</td>\n",
       "    </tr>\n",
       "  </tbody>\n",
       "</table>\n",
       "</div>"
      ],
      "text/plain": [
       "             R2       MAE      RMSE       RPD\n",
       "Teste  0.328823  1.687425  2.305518  1.228523"
      ]
     },
     "execution_count": 111,
     "metadata": {},
     "output_type": "execute_result"
    }
   ],
   "source": [
    "from sklearn.svm import SVR\n",
    "svr_model = SVR()\n",
    "preds = svr_model.fit(x_train, y_train).predict(x_test)\n",
    "cmls.evalute_model(y_test, preds)"
   ]
  },
  {
   "cell_type": "code",
   "execution_count": 112,
   "id": "ea768959-a7be-4f14-a5e5-d09391ec0365",
   "metadata": {},
   "outputs": [
    {
     "data": {
      "text/html": [
       "<div>\n",
       "<style scoped>\n",
       "    .dataframe tbody tr th:only-of-type {\n",
       "        vertical-align: middle;\n",
       "    }\n",
       "\n",
       "    .dataframe tbody tr th {\n",
       "        vertical-align: top;\n",
       "    }\n",
       "\n",
       "    .dataframe thead th {\n",
       "        text-align: right;\n",
       "    }\n",
       "</style>\n",
       "<table border=\"1\" class=\"dataframe\">\n",
       "  <thead>\n",
       "    <tr style=\"text-align: right;\">\n",
       "      <th></th>\n",
       "      <th>R2</th>\n",
       "      <th>MAE</th>\n",
       "      <th>RMSE</th>\n",
       "      <th>RPD</th>\n",
       "    </tr>\n",
       "  </thead>\n",
       "  <tbody>\n",
       "    <tr>\n",
       "      <th>Teste</th>\n",
       "      <td>0.467755</td>\n",
       "      <td>1.483376</td>\n",
       "      <td>2.053079</td>\n",
       "      <td>1.379578</td>\n",
       "    </tr>\n",
       "  </tbody>\n",
       "</table>\n",
       "</div>"
      ],
      "text/plain": [
       "             R2       MAE      RMSE       RPD\n",
       "Teste  0.467755  1.483376  2.053079  1.379578"
      ]
     },
     "execution_count": 112,
     "metadata": {},
     "output_type": "execute_result"
    }
   ],
   "source": [
    "from sklearn.neighbors import KNeighborsRegressor\n",
    "knnr_model = KNeighborsRegressor(n_neighbors=3, n_jobs=-1, weights='distance', p=1)\n",
    "knnr_model = make_pipeline( PCA(n_components=70, random_state=0), knnr_model)\n",
    "\n",
    "preds = knnr_model.fit(x_train, y_train).predict(x_test)\n",
    "cmls.evalute_model(y_test, preds)"
   ]
  },
  {
   "cell_type": "code",
   "execution_count": 113,
   "id": "a973c409-6acb-4391-9592-13448171642d",
   "metadata": {
    "tags": []
   },
   "outputs": [
    {
     "data": {
      "text/html": [
       "<div>\n",
       "<style scoped>\n",
       "    .dataframe tbody tr th:only-of-type {\n",
       "        vertical-align: middle;\n",
       "    }\n",
       "\n",
       "    .dataframe tbody tr th {\n",
       "        vertical-align: top;\n",
       "    }\n",
       "\n",
       "    .dataframe thead th {\n",
       "        text-align: right;\n",
       "    }\n",
       "</style>\n",
       "<table border=\"1\" class=\"dataframe\">\n",
       "  <thead>\n",
       "    <tr style=\"text-align: right;\">\n",
       "      <th></th>\n",
       "      <th>R2</th>\n",
       "      <th>MAE</th>\n",
       "      <th>RMSE</th>\n",
       "    </tr>\n",
       "  </thead>\n",
       "  <tbody>\n",
       "    <tr>\n",
       "      <th>Teste</th>\n",
       "      <td>0.572751</td>\n",
       "      <td>1.340399</td>\n",
       "      <td>1.839461</td>\n",
       "    </tr>\n",
       "    <tr>\n",
       "      <th>Treino</th>\n",
       "      <td>0.998169</td>\n",
       "      <td>0.099276</td>\n",
       "      <td>0.121421</td>\n",
       "    </tr>\n",
       "  </tbody>\n",
       "</table>\n",
       "</div>"
      ],
      "text/plain": [
       "              R2       MAE      RMSE\n",
       "Teste   0.572751  1.340399  1.839461\n",
       "Treino  0.998169  0.099276  0.121421"
      ]
     },
     "execution_count": 113,
     "metadata": {},
     "output_type": "execute_result"
    }
   ],
   "source": [
    "from sklearn.ensemble import GradientBoostingRegressor\n",
    "gbr_model = GradientBoostingRegressor(random_state=1, max_depth=4)\n",
    "preds = gbr_model.fit(x_train, y_train).predict(x_test)\n",
    "train_preds = gbr_model.predict(x_train)\n",
    "cmls.evalute_model(y_test, preds, y_train, train_preds)"
   ]
  },
  {
   "cell_type": "code",
   "execution_count": 114,
   "id": "b79c6e93-4278-4f47-b749-918a2f0553b7",
   "metadata": {},
   "outputs": [
    {
     "data": {
      "text/html": [
       "<div>\n",
       "<style scoped>\n",
       "    .dataframe tbody tr th:only-of-type {\n",
       "        vertical-align: middle;\n",
       "    }\n",
       "\n",
       "    .dataframe tbody tr th {\n",
       "        vertical-align: top;\n",
       "    }\n",
       "\n",
       "    .dataframe thead th {\n",
       "        text-align: right;\n",
       "    }\n",
       "</style>\n",
       "<table border=\"1\" class=\"dataframe\">\n",
       "  <thead>\n",
       "    <tr style=\"text-align: right;\">\n",
       "      <th></th>\n",
       "      <th>R2</th>\n",
       "      <th>MAE</th>\n",
       "      <th>RMSE</th>\n",
       "      <th>RPD</th>\n",
       "    </tr>\n",
       "  </thead>\n",
       "  <tbody>\n",
       "    <tr>\n",
       "      <th>Teste</th>\n",
       "      <td>0.623611</td>\n",
       "      <td>1.343515</td>\n",
       "      <td>1.726508</td>\n",
       "      <td>1.640527</td>\n",
       "    </tr>\n",
       "  </tbody>\n",
       "</table>\n",
       "</div>"
      ],
      "text/plain": [
       "             R2       MAE      RMSE       RPD\n",
       "Teste  0.623611  1.343515  1.726508  1.640527"
      ]
     },
     "execution_count": 114,
     "metadata": {},
     "output_type": "execute_result"
    }
   ],
   "source": [
    "from sklearn import linear_model\n",
    "reg = linear_model.BayesianRidge()\n",
    "reg.fit(x_train, y_train)\n",
    "preds = reg.predict(x_test)\n",
    "cmls.evalute_model(y_test, preds)"
   ]
  },
  {
   "cell_type": "code",
   "execution_count": 115,
   "id": "d37638a2-8988-4634-9a68-fb2501d72b6d",
   "metadata": {},
   "outputs": [
    {
     "data": {
      "text/html": [
       "<div>\n",
       "<style scoped>\n",
       "    .dataframe tbody tr th:only-of-type {\n",
       "        vertical-align: middle;\n",
       "    }\n",
       "\n",
       "    .dataframe tbody tr th {\n",
       "        vertical-align: top;\n",
       "    }\n",
       "\n",
       "    .dataframe thead th {\n",
       "        text-align: right;\n",
       "    }\n",
       "</style>\n",
       "<table border=\"1\" class=\"dataframe\">\n",
       "  <thead>\n",
       "    <tr style=\"text-align: right;\">\n",
       "      <th></th>\n",
       "      <th>R2</th>\n",
       "      <th>MAE</th>\n",
       "      <th>RMSE</th>\n",
       "      <th>RPD</th>\n",
       "    </tr>\n",
       "  </thead>\n",
       "  <tbody>\n",
       "    <tr>\n",
       "      <th>Teste</th>\n",
       "      <td>0.537636</td>\n",
       "      <td>1.441534</td>\n",
       "      <td>1.913559</td>\n",
       "      <td>1.480165</td>\n",
       "    </tr>\n",
       "  </tbody>\n",
       "</table>\n",
       "</div>"
      ],
      "text/plain": [
       "             R2       MAE      RMSE       RPD\n",
       "Teste  0.537636  1.441534  1.913559  1.480165"
      ]
     },
     "execution_count": 115,
     "metadata": {},
     "output_type": "execute_result"
    }
   ],
   "source": [
    "from sklearn.ensemble import RandomForestRegressor\n",
    "\n",
    "rf = RandomForestRegressor(n_estimators=20, criterion='poisson', random_state=0, n_jobs=-1)\n",
    "\n",
    "preds = rf.fit(x_train,y_train).predict(x_test)\n",
    "cmls.evalute_model(y_test, preds)"
   ]
  },
  {
   "cell_type": "code",
   "execution_count": 116,
   "id": "536ebaf9-fb30-476a-baf7-0c9a916484ad",
   "metadata": {},
   "outputs": [
    {
     "data": {
      "text/html": [
       "<div>\n",
       "<style scoped>\n",
       "    .dataframe tbody tr th:only-of-type {\n",
       "        vertical-align: middle;\n",
       "    }\n",
       "\n",
       "    .dataframe tbody tr th {\n",
       "        vertical-align: top;\n",
       "    }\n",
       "\n",
       "    .dataframe thead th {\n",
       "        text-align: right;\n",
       "    }\n",
       "</style>\n",
       "<table border=\"1\" class=\"dataframe\">\n",
       "  <thead>\n",
       "    <tr style=\"text-align: right;\">\n",
       "      <th></th>\n",
       "      <th>R2</th>\n",
       "      <th>MAE</th>\n",
       "      <th>RMSE</th>\n",
       "      <th>RPD</th>\n",
       "    </tr>\n",
       "  </thead>\n",
       "  <tbody>\n",
       "    <tr>\n",
       "      <th>Teste</th>\n",
       "      <td>0.471707</td>\n",
       "      <td>1.516151</td>\n",
       "      <td>2.045443</td>\n",
       "      <td>1.384729</td>\n",
       "    </tr>\n",
       "  </tbody>\n",
       "</table>\n",
       "</div>"
      ],
      "text/plain": [
       "             R2       MAE      RMSE       RPD\n",
       "Teste  0.471707  1.516151  2.045443  1.384729"
      ]
     },
     "execution_count": 116,
     "metadata": {},
     "output_type": "execute_result"
    }
   ],
   "source": [
    "from xgboost import XGBRegressor\n",
    "xgb = XGBRegressor(max_depth=4, random_state=0)\n",
    "preds = xgb.fit(x_train, y_train).predict(x_test)\n",
    "cmls.evalute_model(y_test, preds)"
   ]
  },
  {
   "cell_type": "code",
   "execution_count": 117,
   "id": "260f8cb1-4c81-4a0e-b831-596693378190",
   "metadata": {},
   "outputs": [
    {
     "data": {
      "text/html": [
       "<div>\n",
       "<style scoped>\n",
       "    .dataframe tbody tr th:only-of-type {\n",
       "        vertical-align: middle;\n",
       "    }\n",
       "\n",
       "    .dataframe tbody tr th {\n",
       "        vertical-align: top;\n",
       "    }\n",
       "\n",
       "    .dataframe thead th {\n",
       "        text-align: right;\n",
       "    }\n",
       "</style>\n",
       "<table border=\"1\" class=\"dataframe\">\n",
       "  <thead>\n",
       "    <tr style=\"text-align: right;\">\n",
       "      <th></th>\n",
       "      <th>R2</th>\n",
       "      <th>MAE</th>\n",
       "      <th>RMSE</th>\n",
       "      <th>RPD</th>\n",
       "    </tr>\n",
       "  </thead>\n",
       "  <tbody>\n",
       "    <tr>\n",
       "      <th>Teste</th>\n",
       "      <td>-0.230678</td>\n",
       "      <td>2.433776</td>\n",
       "      <td>3.121924</td>\n",
       "      <td>0.907256</td>\n",
       "    </tr>\n",
       "  </tbody>\n",
       "</table>\n",
       "</div>"
      ],
      "text/plain": [
       "             R2       MAE      RMSE       RPD\n",
       "Teste -0.230678  2.433776  3.121924  0.907256"
      ]
     },
     "execution_count": 117,
     "metadata": {},
     "output_type": "execute_result"
    }
   ],
   "source": [
    "from sklearn.neural_network import MLPRegressor\n",
    "\n",
    "mlp = MLPRegressor(random_state=0, max_iter=500, hidden_layer_sizes=(50, 50, 50))\n",
    "preds = mlp.fit(x_train, y_train).predict(x_test)\n",
    "cmls.evalute_model(y_test, preds)"
   ]
  },
  {
   "cell_type": "code",
   "execution_count": 118,
   "id": "786982a4-e777-4f51-b7de-2e46880cc9ff",
   "metadata": {},
   "outputs": [
    {
     "data": {
      "text/html": [
       "<div>\n",
       "<style scoped>\n",
       "    .dataframe tbody tr th:only-of-type {\n",
       "        vertical-align: middle;\n",
       "    }\n",
       "\n",
       "    .dataframe tbody tr th {\n",
       "        vertical-align: top;\n",
       "    }\n",
       "\n",
       "    .dataframe thead th {\n",
       "        text-align: right;\n",
       "    }\n",
       "</style>\n",
       "<table border=\"1\" class=\"dataframe\">\n",
       "  <thead>\n",
       "    <tr style=\"text-align: right;\">\n",
       "      <th></th>\n",
       "      <th>R2</th>\n",
       "      <th>MAE</th>\n",
       "      <th>RMSE</th>\n",
       "      <th>RPD</th>\n",
       "    </tr>\n",
       "  </thead>\n",
       "  <tbody>\n",
       "    <tr>\n",
       "      <th>Teste</th>\n",
       "      <td>0.443218</td>\n",
       "      <td>1.590876</td>\n",
       "      <td>2.099871</td>\n",
       "      <td>1.348837</td>\n",
       "    </tr>\n",
       "  </tbody>\n",
       "</table>\n",
       "</div>"
      ],
      "text/plain": [
       "             R2       MAE      RMSE       RPD\n",
       "Teste  0.443218  1.590876  2.099871  1.348837"
      ]
     },
     "execution_count": 118,
     "metadata": {},
     "output_type": "execute_result"
    }
   ],
   "source": [
    "from sklearn.ensemble import BaggingRegressor\n",
    "\n",
    "rse = BaggingRegressor(bootstrap=False, base_estimator=KNeighborsRegressor(n_neighbors=3), max_features=128, n_jobs=-1, n_estimators=4, random_state=0)\n",
    "preds = rse.fit(x_train, y_train).predict(x_test)\n",
    "cmls.evalute_model(y_test, preds)"
   ]
  },
  {
   "cell_type": "code",
   "execution_count": 119,
   "id": "fe438ffb-95ad-4544-89b6-2c3bc2e48e12",
   "metadata": {},
   "outputs": [
    {
     "data": {
      "image/png": "[encoded data removed]",
      "text/plain": [
       "<Figure size 432x288 with 1 Axes>"
      ]
     },
     "metadata": {
      "needs_background": "light"
     },
     "output_type": "display_data"
    }
   ],
   "source": [
    "cmls.plot_real_vs_predict(y_test, preds)"
   ]
  },
  {
   "cell_type": "markdown",
   "id": "cc56c4d0-5f74-4c52-b78b-edb3bfee79d9",
   "metadata": {
    "tags": []
   },
   "source": [
    "### Cross Validation"
   ]
  },
  {
   "cell_type": "code",
   "execution_count": 74,
   "id": "70009e1c-7587-4214-be3f-919e1806cb7a",
   "metadata": {},
   "outputs": [],
   "source": [
    "from sklearn.pipeline import Pipeline\n",
    "from sklearn.model_selection import cross_val_score\n",
    "from sklearn.preprocessing import MinMaxScaler"
   ]
  },
  {
   "cell_type": "code",
   "execution_count": 145,
   "id": "210adfe5-71ac-4362-b81f-e9121ca769bc",
   "metadata": {},
   "outputs": [
    {
     "name": "stdout",
     "output_type": "stream",
     "text": [
      "Scores: [0.47955661 0.59149812 0.51844429 0.28369871 0.34446895]\n",
      "Mean: 0.4435333355826937\n",
      "Standard deviation: 0.1132817402737201\n"
     ]
    }
   ],
   "source": [
    "svr_model = SVR(kernel='linear', degree=1, gamma='auto', coef0=3.0, tol=0.01, C = 0.1)\n",
    "\n",
    "svr_scores = cross_val_score(svr_model, x_train, y_train, scoring=\"r2\", cv=5)\n",
    "\n",
    "cmls.display_scores(svr_scores)"
   ]
  },
  {
   "cell_type": "code",
   "execution_count": 146,
   "id": "8d9703b7-d4ba-47e7-97bd-298e4dafe2b7",
   "metadata": {},
   "outputs": [
    {
     "name": "stdout",
     "output_type": "stream",
     "text": [
      "Scores: [0.45389656 0.60790562 0.55494713 0.29157029 0.31199111]\n",
      "Mean: 0.4440621427544408\n",
      "Standard deviation: 0.1264384493262825\n"
     ]
    }
   ],
   "source": [
    "knnr_scores = cross_val_score(knnr_model, x_train, y_train, scoring=\"r2\", cv=5)\n",
    "\n",
    "cmls.display_scores(knnr_scores)"
   ]
  },
  {
   "cell_type": "code",
   "execution_count": 147,
   "id": "269ad768-bc0b-43ca-98b4-781708f3c6a0",
   "metadata": {},
   "outputs": [
    {
     "name": "stdout",
     "output_type": "stream",
     "text": [
      "Scores: [0.44235748 0.60654465 0.6978349  0.35037599 0.38082171]\n",
      "Mean: 0.4955869460548092\n",
      "Standard deviation: 0.13439234152221255\n"
     ]
    }
   ],
   "source": [
    "gbr_scores = cross_val_score(gbr_model, x_train, y_train, scoring=\"r2\", cv=5)\n",
    "\n",
    "cmls.display_scores(gbr_scores)"
   ]
  },
  {
   "cell_type": "code",
   "execution_count": 148,
   "id": "a8119294-36da-4f8f-8a95-cbaf3a8a1494",
   "metadata": {},
   "outputs": [
    {
     "name": "stdout",
     "output_type": "stream",
     "text": [
      "Scores: [0.44678661 0.6446508  0.61094339 0.27927463 0.34301155]\n",
      "Mean: 0.4649333956268885\n",
      "Standard deviation: 0.14372242780175104\n"
     ]
    }
   ],
   "source": [
    "BayesianRidge_scores = cross_val_score(reg, x_train, y_train, scoring=\"r2\", cv=5)\n",
    "\n",
    "cmls.display_scores(BayesianRidge_scores)"
   ]
  },
  {
   "cell_type": "code",
   "execution_count": 149,
   "id": "8b463c04-ff38-4562-80a6-2780ea3f0f57",
   "metadata": {},
   "outputs": [
    {
     "name": "stdout",
     "output_type": "stream",
     "text": [
      "Scores: [0.55403847 0.64999829 0.59640107 0.29187666 0.45094825]\n",
      "Mean: 0.508652548209269\n",
      "Standard deviation: 0.12653843525864344\n"
     ]
    }
   ],
   "source": [
    "rf_scores = cross_val_score(rf, x_train, y_train, scoring=\"r2\", cv=5)\n",
    "\n",
    "cmls.display_scores(rf_scores)"
   ]
  },
  {
   "cell_type": "code",
   "execution_count": 150,
   "id": "6b32b056-efe2-4e85-aa89-ee09fc80199f",
   "metadata": {},
   "outputs": [
    {
     "name": "stdout",
     "output_type": "stream",
     "text": [
      "Scores: [  0.2806122  -12.56585192  -0.11457969   0.33690691   0.31408293]\n",
      "Mean: -2.34976591468252\n",
      "Standard deviation: 5.110727175031854\n"
     ]
    }
   ],
   "source": [
    "pipe = Pipeline(steps=[('scaler', MinMaxScaler()), ('model', mlp)])\n",
    "mlp_scores = cross_val_score(pipe, x, y, scoring=\"r2\", cv=5)\n",
    "\n",
    "cmls.display_scores(mlp_scores)"
   ]
  },
  {
   "cell_type": "code",
   "execution_count": 151,
   "id": "e8b78c3e-ac83-46ac-a1a7-84c4f0c3588d",
   "metadata": {},
   "outputs": [
    {
     "name": "stdout",
     "output_type": "stream",
     "text": [
      "Scores: [0.4711811  0.71724417 0.64181792 0.36108408 0.46548224]\n",
      "Mean: 0.5313618995801053\n",
      "Standard deviation: 0.1293902198835645\n"
     ]
    }
   ],
   "source": [
    "rse_scores = cross_val_score(rse, x_train, y_train, scoring=\"r2\", cv=5)\n",
    "\n",
    "cmls.display_scores(rse_scores)"
   ]
  },
  {
   "cell_type": "markdown",
   "id": "64fbb103-7b9d-448e-a54c-ab4f54243aa3",
   "metadata": {
    "tags": []
   },
   "source": [
    "## Few Features Test"
   ]
  },
  {
   "cell_type": "code",
   "execution_count": 102,
   "id": "63d0c4e9-1a9e-4f70-89f9-82ae737364f3",
   "metadata": {},
   "outputs": [],
   "source": [
    "corrs_td_pb = df.corr(method='pearson').loc[:, 'TD PB'].sort_values(ascending=False)"
   ]
  },
  {
   "cell_type": "code",
   "execution_count": 103,
   "id": "d2cb6072-c976-4167-9bc6-636ccf786d45",
   "metadata": {},
   "outputs": [
    {
     "data": {
      "text/plain": [
       "TD PB                1.000000\n",
       "Consumo PB kg/dia    0.809197\n",
       "CD PB                0.753460\n",
       "3745.271             0.392619\n",
       "Consumo MS kg/dia    0.373019\n",
       "Consumo MO kg/dia    0.356430\n",
       "CD MS                0.338232\n",
       "3741.414             0.332617\n",
       "Consumo EE kg/dia    0.315860\n",
       "3629.557             0.315445\n",
       "CD MO                0.314014\n",
       "5091.409             0.310276\n",
       "5095.266             0.310225\n",
       "5087.552             0.310009\n",
       "5075.98              0.309885\n",
       "5072.123             0.309837\n",
       "5079.838             0.309829\n",
       "5083.695             0.309814\n",
       "5068.266             0.309725\n",
       "5099.123             0.309700\n",
       "Name: TD PB, dtype: float64"
      ]
     },
     "execution_count": 103,
     "metadata": {},
     "output_type": "execute_result"
    }
   ],
   "source": [
    "corrs_td_pb[:20]"
   ]
  },
  {
   "cell_type": "code",
   "execution_count": 111,
   "id": "eaddbbc5-ce2e-4a7a-b472-243595ca0629",
   "metadata": {},
   "outputs": [],
   "source": [
    "from sklearn.feature_selection import SelectKBest, f_regression\n",
    "from sklearn.ensemble import RandomForestClassifier\n",
    "from sklearn.svm import SVR\n",
    "from sklearn.metrics import r2_score\n",
    "\n",
    "k_vs_score = []\n",
    "\n",
    "for k in range(3,1000,1):\n",
    "    selector = SelectKBest(score_func=f_regression, k=k)\n",
    "\n",
    "    X_train2 = selector.fit_transform(x_train, y_train)\n",
    "    X_test2 = selector.transform(x_test)\n",
    "\n",
    "\n",
    "    svr_model = SVR()\n",
    "    svr_model.fit(X_train2, y_train)\n",
    "\n",
    "    preds = svr_model.predict(X_test2)\n",
    "\n",
    "    score = r2_score(y_test, preds)\n",
    "    # print(\"k = {} - R2 = {}\".format(k, score))\n",
    "\n",
    "    k_vs_score.append(score)"
   ]
  },
  {
   "cell_type": "code",
   "execution_count": 112,
   "id": "0a7f7fa0-4755-4a1c-bff5-b9a5d3647047",
   "metadata": {},
   "outputs": [
    {
     "data": {
      "text/plain": [
       "<AxesSubplot:>"
      ]
     },
     "execution_count": 112,
     "metadata": {},
     "output_type": "execute_result"
    },
    {
     "data": {
      "image/png": "[encoded data removed]",
      "text/plain": [
       "<Figure size 720x504 with 1 Axes>"
      ]
     },
     "metadata": {
      "needs_background": "light"
     },
     "output_type": "display_data"
    }
   ],
   "source": [
    "pd.Series(k_vs_score, index=range(3,1000,1)).plot(figsize=(10,7))"
   ]
  },
  {
   "cell_type": "code",
   "execution_count": 106,
   "id": "8a5155e6-9cd9-433d-bea9-f82da1f95d3b",
   "metadata": {},
   "outputs": [
    {
     "data": {
      "text/html": [
       "<style>#sk-container-id-1 {color: black;background-color: white;}#sk-container-id-1 pre{padding: 0;}#sk-container-id-1 div.sk-toggleable {background-color: white;}#sk-container-id-1 label.sk-toggleable__label {cursor: pointer;display: block;width: 100%;margin-bottom: 0;padding: 0.3em;box-sizing: border-box;text-align: center;}#sk-container-id-1 label.sk-toggleable__label-arrow:before {content: \"▸\";float: left;margin-right: 0.25em;color: #696969;}#sk-container-id-1 label.sk-toggleable__label-arrow:hover:before {color: black;}#sk-container-id-1 div.sk-estimator:hover label.sk-toggleable__label-arrow:before {color: black;}#sk-container-id-1 div.sk-toggleable__content {max-height: 0;max-width: 0;overflow: hidden;text-align: left;background-color: #f0f8ff;}#sk-container-id-1 div.sk-toggleable__content pre {margin: 0.2em;color: black;border-radius: 0.25em;background-color: #f0f8ff;}#sk-container-id-1 input.sk-toggleable__control:checked~div.sk-toggleable__content {max-height: 200px;max-width: 100%;overflow: auto;}#sk-container-id-1 input.sk-toggleable__control:checked~label.sk-toggleable__label-arrow:before {content: \"▾\";}#sk-container-id-1 div.sk-estimator input.sk-toggleable__control:checked~label.sk-toggleable__label {background-color: #d4ebff;}#sk-container-id-1 div.sk-label input.sk-toggleable__control:checked~label.sk-toggleable__label {background-color: #d4ebff;}#sk-container-id-1 input.sk-hidden--visually {border: 0;clip: rect(1px 1px 1px 1px);clip: rect(1px, 1px, 1px, 1px);height: 1px;margin: -1px;overflow: hidden;padding: 0;position: absolute;width: 1px;}#sk-container-id-1 div.sk-estimator {font-family: monospace;background-color: #f0f8ff;border: 1px dotted black;border-radius: 0.25em;box-sizing: border-box;margin-bottom: 0.5em;}#sk-container-id-1 div.sk-estimator:hover {background-color: #d4ebff;}#sk-container-id-1 div.sk-parallel-item::after {content: \"\";width: 100%;border-bottom: 1px solid gray;flex-grow: 1;}#sk-container-id-1 div.sk-label:hover label.sk-toggleable__label {background-color: #d4ebff;}#sk-container-id-1 div.sk-serial::before {content: \"\";position: absolute;border-left: 1px solid gray;box-sizing: border-box;top: 0;bottom: 0;left: 50%;z-index: 0;}#sk-container-id-1 div.sk-serial {display: flex;flex-direction: column;align-items: center;background-color: white;padding-right: 0.2em;padding-left: 0.2em;position: relative;}#sk-container-id-1 div.sk-item {position: relative;z-index: 1;}#sk-container-id-1 div.sk-parallel {display: flex;align-items: stretch;justify-content: center;background-color: white;position: relative;}#sk-container-id-1 div.sk-item::before, #sk-container-id-1 div.sk-parallel-item::before {content: \"\";position: absolute;border-left: 1px solid gray;box-sizing: border-box;top: 0;bottom: 0;left: 50%;z-index: -1;}#sk-container-id-1 div.sk-parallel-item {display: flex;flex-direction: column;z-index: 1;position: relative;background-color: white;}#sk-container-id-1 div.sk-parallel-item:first-child::after {align-self: flex-end;width: 50%;}#sk-container-id-1 div.sk-parallel-item:last-child::after {align-self: flex-start;width: 50%;}#sk-container-id-1 div.sk-parallel-item:only-child::after {width: 0;}#sk-container-id-1 div.sk-dashed-wrapped {border: 1px dashed gray;margin: 0 0.4em 0.5em 0.4em;box-sizing: border-box;padding-bottom: 0.4em;background-color: white;}#sk-container-id-1 div.sk-label label {font-family: monospace;font-weight: bold;display: inline-block;line-height: 1.2em;}#sk-container-id-1 div.sk-label-container {text-align: center;}#sk-container-id-1 div.sk-container {/* jupyter's `normalize.less` sets `[hidden] { display: none; }` but bootstrap.min.css set `[hidden] { display: none !important; }` so we also need the `!important` here to be able to override the default hidden behavior on the sphinx rendered scikit-learn.org. See: https://github.com/scikit-learn/scikit-learn/issues/21755 */display: inline-block !important;position: relative;}#sk-container-id-1 div.sk-text-repr-fallback {display: none;}</style><div id=\"sk-container-id-1\" class=\"sk-top-container\"><div class=\"sk-text-repr-fallback\"><pre>SelectKBest(score_func=&lt;function f_regression at 0x7fb4602c9dc0&gt;)</pre><b>In a Jupyter environment, please rerun this cell to show the HTML representation or trust the notebook. <br />On GitHub, the HTML representation is unable to render, please try loading this page with nbviewer.org.</b></div><div class=\"sk-container\" hidden><div class=\"sk-item\"><div class=\"sk-estimator sk-toggleable\"><input class=\"sk-toggleable__control sk-hidden--visually\" id=\"sk-estimator-id-1\" type=\"checkbox\" checked><label for=\"sk-estimator-id-1\" class=\"sk-toggleable__label sk-toggleable__label-arrow\">SelectKBest</label><div class=\"sk-toggleable__content\"><pre>SelectKBest(score_func=&lt;function f_regression at 0x7fb4602c9dc0&gt;)</pre></div></div></div></div></div>"
      ],
      "text/plain": [
       "SelectKBest(score_func=<function f_regression at 0x7fb4602c9dc0>)"
      ]
     },
     "execution_count": 106,
     "metadata": {},
     "output_type": "execute_result"
    }
   ],
   "source": [
    "selector = SelectKBest(score_func=f_regression, k=10)\n",
    "selector.fit(x_train, y_train)"
   ]
  },
  {
   "cell_type": "code",
   "execution_count": 107,
   "id": "64c77778-c927-4b3c-b4d3-e9a33765e942",
   "metadata": {},
   "outputs": [
    {
     "ename": "AttributeError",
     "evalue": "'numpy.ndarray' object has no attribute 'columns'",
     "output_type": "error",
     "traceback": [
      "\u001b[0;31m---------------------------------------------------------------------------\u001b[0m",
      "\u001b[0;31mAttributeError\u001b[0m                            Traceback (most recent call last)",
      "Input \u001b[0;32mIn [107]\u001b[0m, in \u001b[0;36m<cell line: 2>\u001b[0;34m()\u001b[0m\n\u001b[1;32m      1\u001b[0m mask \u001b[38;5;241m=\u001b[39m selector\u001b[38;5;241m.\u001b[39mget_support()\n\u001b[0;32m----> 2\u001b[0m \u001b[43mx_test\u001b[49m\u001b[38;5;241;43m.\u001b[39;49m\u001b[43mcolumns\u001b[49m[mask]\n",
      "\u001b[0;31mAttributeError\u001b[0m: 'numpy.ndarray' object has no attribute 'columns'"
     ]
    }
   ],
   "source": [
    "mask = selector.get_support()\n",
    "x_test.columns[mask]\n",
    "# Features mais relevantes"
   ]
  },
  {
   "cell_type": "code",
   "execution_count": null,
   "id": "a9b3cc57-35a7-46be-8178-2ab9992dc891",
   "metadata": {},
   "outputs": [],
   "source": [
    "pd.Series(selector.scores_[mask], index=x_train.columns[mask]).sort_values().plot.barh()"
   ]
  },
  {
   "cell_type": "code",
   "execution_count": null,
   "id": "c190ba82-d977-46d8-ae25-a1e5e47e3c90",
   "metadata": {},
   "outputs": [],
   "source": [
    "# Non NIRS features\n",
    "print(df.loc[:,:'CD CNF'].columns.tolist())"
   ]
  },
  {
   "cell_type": "code",
   "execution_count": null,
   "id": "c6f1e704-7872-4d03-a2a5-58040f63ba35",
   "metadata": {},
   "outputs": [],
   "source": [
    "# Select all NIRS data as x\n",
    "x = df.loc[:,'12493.238':]\n",
    "\n",
    "# Add Categoria feature\n",
    "x = x.join(df.loc[:,['Status fisiologico', 'Categoria']])\n",
    "x = pd.get_dummies(x, drop_first=False)"
   ]
  },
  {
   "cell_type": "code",
   "execution_count": null,
   "id": "fe15e0b3-dae1-4b98-9e20-6064c07c83f0",
   "metadata": {},
   "outputs": [],
   "source": [
    "predictive_features = ['12462.381', '12458.523', '12454.666', '12450.809', '3745.271',\n",
    "       '3741.414', '3706.7', '3629.557', 'Status fisiologico_Lactante']\n",
    "\n",
    "x = x[predictive_features]\n",
    "\n",
    "# One-Hot Encode categorical features\n",
    "x = pd.get_dummies(x, drop_first=False)"
   ]
  },
  {
   "cell_type": "code",
   "execution_count": null,
   "id": "2c4027f3-97cf-482a-ab75-214fb81af9dd",
   "metadata": {},
   "outputs": [],
   "source": [
    "# Response variable vector\n",
    "y = df['TD PB']"
   ]
  },
  {
   "cell_type": "code",
   "execution_count": null,
   "id": "ee507b91-a738-4942-bb42-dcc8faf594a9",
   "metadata": {},
   "outputs": [],
   "source": [
    "# Split the data set into training (70%) and testing (30%)\n",
    "from sklearn.model_selection import train_test_split\n",
    "x_train, x_test, y_train, y_test = train_test_split(x, y, test_size=0.30, shuffle=True, random_state=40)\n",
    "print(\"N. samples training %s , N. samples testing %s\" % (x_train.shape[0], x_test.shape[0]))"
   ]
  },
  {
   "cell_type": "markdown",
   "id": "297363f8-6c83-4d06-a221-37687bb5f077",
   "metadata": {
    "tags": []
   },
   "source": [
    "## Feature Scaling"
   ]
  },
  {
   "cell_type": "code",
   "execution_count": 232,
   "id": "033e35f6-95e5-4fca-874f-e679eb4036e1",
   "metadata": {},
   "outputs": [],
   "source": [
    "from sklearn.preprocessing import MinMaxScaler\n",
    "\n",
    "scaler = MinMaxScaler().fit(x_train)\n",
    "x_train = scaler.transform(x_train)\n",
    "x_test = scaler.transform(x_test)"
   ]
  },
  {
   "cell_type": "markdown",
   "id": "cb825c60-b7bb-4b81-b3b0-3e04bc96ec24",
   "metadata": {
    "tags": []
   },
   "source": [
    "## MODEL SELECTION"
   ]
  },
  {
   "cell_type": "markdown",
   "id": "413b124e-ab58-4be1-876b-6dfd2126e173",
   "metadata": {
    "tags": []
   },
   "source": [
    "### Hold Out"
   ]
  },
  {
   "cell_type": "code",
   "execution_count": 20,
   "id": "21b8590d-fc93-4826-b0db-5967b51bf6a6",
   "metadata": {},
   "outputs": [
    {
     "data": {
      "text/html": [
       "<div>\n",
       "<style scoped>\n",
       "    .dataframe tbody tr th:only-of-type {\n",
       "        vertical-align: middle;\n",
       "    }\n",
       "\n",
       "    .dataframe tbody tr th {\n",
       "        vertical-align: top;\n",
       "    }\n",
       "\n",
       "    .dataframe thead th {\n",
       "        text-align: right;\n",
       "    }\n",
       "</style>\n",
       "<table border=\"1\" class=\"dataframe\">\n",
       "  <thead>\n",
       "    <tr style=\"text-align: right;\">\n",
       "      <th></th>\n",
       "      <th>R2</th>\n",
       "      <th>MAE</th>\n",
       "      <th>RMSE</th>\n",
       "      <th>RPD</th>\n",
       "    </tr>\n",
       "  </thead>\n",
       "  <tbody>\n",
       "    <tr>\n",
       "      <th>Teste</th>\n",
       "      <td>0.465632</td>\n",
       "      <td>1.56343</td>\n",
       "      <td>2.082327</td>\n",
       "      <td>1.377192</td>\n",
       "    </tr>\n",
       "  </tbody>\n",
       "</table>\n",
       "</div>"
      ],
      "text/plain": [
       "             R2      MAE      RMSE       RPD\n",
       "Teste  0.465632  1.56343  2.082327  1.377192"
      ]
     },
     "execution_count": 20,
     "metadata": {},
     "output_type": "execute_result"
    }
   ],
   "source": [
    "from sklearn.svm import SVR\n",
    "svr_model = SVR()\n",
    "preds = svr_model.fit(x_train, y_train).predict(x_test)\n",
    "cmls.evalute_model(y_test, preds)"
   ]
  },
  {
   "cell_type": "code",
   "execution_count": 90,
   "id": "330b31f4-1583-438d-a689-1cdc8c472916",
   "metadata": {},
   "outputs": [
    {
     "data": {
      "text/html": [
       "<div>\n",
       "<style scoped>\n",
       "    .dataframe tbody tr th:only-of-type {\n",
       "        vertical-align: middle;\n",
       "    }\n",
       "\n",
       "    .dataframe tbody tr th {\n",
       "        vertical-align: top;\n",
       "    }\n",
       "\n",
       "    .dataframe thead th {\n",
       "        text-align: right;\n",
       "    }\n",
       "</style>\n",
       "<table border=\"1\" class=\"dataframe\">\n",
       "  <thead>\n",
       "    <tr style=\"text-align: right;\">\n",
       "      <th></th>\n",
       "      <th>R2</th>\n",
       "      <th>MAE</th>\n",
       "      <th>RMSE</th>\n",
       "      <th>RPD</th>\n",
       "    </tr>\n",
       "  </thead>\n",
       "  <tbody>\n",
       "    <tr>\n",
       "      <th>Teste</th>\n",
       "      <td>0.723623</td>\n",
       "      <td>0.99741</td>\n",
       "      <td>1.479453</td>\n",
       "      <td>1.91448</td>\n",
       "    </tr>\n",
       "  </tbody>\n",
       "</table>\n",
       "</div>"
      ],
      "text/plain": [
       "             R2      MAE      RMSE      RPD\n",
       "Teste  0.723623  0.99741  1.479453  1.91448"
      ]
     },
     "execution_count": 90,
     "metadata": {},
     "output_type": "execute_result"
    }
   ],
   "source": [
    "from sklearn.neighbors import KNeighborsRegressor\n",
    "knnr_model = KNeighborsRegressor()\n",
    "preds = knnr_model.fit(x_train, y_train).predict(x_test)\n",
    "cmls.evalute_model(y_test, preds)"
   ]
  },
  {
   "cell_type": "code",
   "execution_count": 89,
   "id": "e1a27c55-b7bb-4792-893b-7bad4f2f5c9b",
   "metadata": {},
   "outputs": [
    {
     "data": {
      "text/html": [
       "<div>\n",
       "<style scoped>\n",
       "    .dataframe tbody tr th:only-of-type {\n",
       "        vertical-align: middle;\n",
       "    }\n",
       "\n",
       "    .dataframe tbody tr th {\n",
       "        vertical-align: top;\n",
       "    }\n",
       "\n",
       "    .dataframe thead th {\n",
       "        text-align: right;\n",
       "    }\n",
       "</style>\n",
       "<table border=\"1\" class=\"dataframe\">\n",
       "  <thead>\n",
       "    <tr style=\"text-align: right;\">\n",
       "      <th></th>\n",
       "      <th>R2</th>\n",
       "      <th>MAE</th>\n",
       "      <th>RMSE</th>\n",
       "    </tr>\n",
       "  </thead>\n",
       "  <tbody>\n",
       "    <tr>\n",
       "      <th>Teste</th>\n",
       "      <td>0.656502</td>\n",
       "      <td>1.299696</td>\n",
       "      <td>1.649347</td>\n",
       "    </tr>\n",
       "  </tbody>\n",
       "</table>\n",
       "</div>"
      ],
      "text/plain": [
       "             R2       MAE      RMSE\n",
       "Teste  0.656502  1.299696  1.649347"
      ]
     },
     "execution_count": 89,
     "metadata": {},
     "output_type": "execute_result"
    }
   ],
   "source": [
    "from sklearn.ensemble import GradientBoostingRegressor\n",
    "gbr_model = GradientBoostingRegressor()\n",
    "preds = gbr_model.fit(x_train, y_train).predict(x_test)\n",
    "cmls.evalute_model(y_test, preds)"
   ]
  },
  {
   "cell_type": "code",
   "execution_count": 91,
   "id": "54f7533b-f67d-4df1-9b1f-11a19e1de9cc",
   "metadata": {},
   "outputs": [
    {
     "name": "stderr",
     "output_type": "stream",
     "text": [
      "/home/caio/anaconda3/lib/python3.9/site-packages/sklearn/linear_model/_base.py:141: FutureWarning: 'normalize' was deprecated in version 1.0 and will be removed in 1.2.\n",
      "If you wish to scale the data, use Pipeline with a StandardScaler in a preprocessing stage. To reproduce the previous behavior:\n",
      "\n",
      "from sklearn.pipeline import make_pipeline\n",
      "\n",
      "model = make_pipeline(StandardScaler(with_mean=False), BayesianRidge())\n",
      "\n",
      "If you wish to pass a sample_weight parameter, you need to pass it as a fit parameter to each step of the pipeline as follows:\n",
      "\n",
      "kwargs = {s[0] + '__sample_weight': sample_weight for s in model.steps}\n",
      "model.fit(X, y, **kwargs)\n",
      "\n",
      "\n",
      "  warnings.warn(\n"
     ]
    },
    {
     "data": {
      "text/html": [
       "<div>\n",
       "<style scoped>\n",
       "    .dataframe tbody tr th:only-of-type {\n",
       "        vertical-align: middle;\n",
       "    }\n",
       "\n",
       "    .dataframe tbody tr th {\n",
       "        vertical-align: top;\n",
       "    }\n",
       "\n",
       "    .dataframe thead th {\n",
       "        text-align: right;\n",
       "    }\n",
       "</style>\n",
       "<table border=\"1\" class=\"dataframe\">\n",
       "  <thead>\n",
       "    <tr style=\"text-align: right;\">\n",
       "      <th></th>\n",
       "      <th>R2</th>\n",
       "      <th>MAE</th>\n",
       "      <th>RMSE</th>\n",
       "      <th>RPD</th>\n",
       "    </tr>\n",
       "  </thead>\n",
       "  <tbody>\n",
       "    <tr>\n",
       "      <th>Teste</th>\n",
       "      <td>0.610753</td>\n",
       "      <td>1.445421</td>\n",
       "      <td>1.755751</td>\n",
       "      <td>1.613203</td>\n",
       "    </tr>\n",
       "  </tbody>\n",
       "</table>\n",
       "</div>"
      ],
      "text/plain": [
       "             R2       MAE      RMSE       RPD\n",
       "Teste  0.610753  1.445421  1.755751  1.613203"
      ]
     },
     "execution_count": 91,
     "metadata": {},
     "output_type": "execute_result"
    }
   ],
   "source": [
    "from sklearn import linear_model\n",
    "reg = linear_model.BayesianRidge(normalize=True)\n",
    "reg.fit(x_train, y_train)\n",
    "preds = reg.predict(x_test)\n",
    "cmls.evalute_model(y_test, preds)"
   ]
  },
  {
   "cell_type": "code",
   "execution_count": null,
   "id": "0e848c56-2b6b-441f-9445-c5e6e4d597b6",
   "metadata": {},
   "outputs": [],
   "source": [
    "from sklearn.ensemble import RandomForestRegressor\n",
    "\n",
    "rf = RandomForestRegressor(n_estimators=100, random_state=0)\n",
    "preds = rf.fit(x_train,y_train).predict(x_test)\n",
    "cmls.evalute_model(y_test, preds)"
   ]
  },
  {
   "cell_type": "code",
   "execution_count": null,
   "id": "a3dbfbf0-f1f9-4da9-93a9-fdba9e896342",
   "metadata": {},
   "outputs": [],
   "source": [
    "from sklearn.neural_network import MLPRegressor\n",
    "\n",
    "mlp = MLPRegressor(random_state=10)\n",
    "preds = mlp.fit(x_train, y_train).predict(x_test)\n",
    "cmls.evalute_model(y_test, preds)"
   ]
  },
  {
   "cell_type": "code",
   "execution_count": null,
   "id": "926aeb33-2e57-4fb1-b8f2-57a3fa56a2ee",
   "metadata": {},
   "outputs": [],
   "source": [
    "cmls.plot_real_vs_predict(y_test, preds)"
   ]
  },
  {
   "cell_type": "markdown",
   "id": "8d3470e0-e3ec-4283-8d19-7eb592a15dcc",
   "metadata": {
    "tags": []
   },
   "source": [
    "## Feature Selecting"
   ]
  },
  {
   "cell_type": "markdown",
   "id": "de636b0f-b174-4505-827c-34ba518b6baf",
   "metadata": {},
   "source": [
    "### Selection Process"
   ]
  },
  {
   "cell_type": "code",
   "execution_count": 101,
   "id": "156cf174-b8e7-4944-a528-0c648806af9b",
   "metadata": {},
   "outputs": [],
   "source": [
    "from sklearn.feature_selection import SelectKBest, mutual_info_regression\n",
    "selector = SelectKBest(score_func=mutual_info_regression)"
   ]
  },
  {
   "cell_type": "code",
   "execution_count": null,
   "id": "ed9e03c5-8af0-44c1-8f44-611b951a58b3",
   "metadata": {},
   "outputs": [],
   "source": [
    "x_new = selector.fit_transform(x, y)"
   ]
  },
  {
   "cell_type": "code",
   "execution_count": null,
   "id": "2dd66fa6-678d-48bd-974f-bf249c5fc3a1",
   "metadata": {},
   "outputs": [],
   "source": [
    "#selector.get_feature_names_out()"
   ]
  },
  {
   "cell_type": "code",
   "execution_count": null,
   "id": "2ef3cd07-1bfb-4e16-9aed-a13c999fba1e",
   "metadata": {},
   "outputs": [],
   "source": [
    "# Split the data set with selected features\n",
    "from sklearn.model_selection import train_test_split\n",
    "x_train, x_test, y_train, y_test = train_test_split(x_new, y, test_size=0.30, shuffle=True, random_state=40)"
   ]
  },
  {
   "cell_type": "markdown",
   "id": "c7fb74ca-26e5-46af-b804-ba536523012e",
   "metadata": {},
   "source": [
    "### After Selecting"
   ]
  },
  {
   "cell_type": "code",
   "execution_count": null,
   "id": "b0d193db-30ca-4f4e-a9a0-d9722abde010",
   "metadata": {},
   "outputs": [],
   "source": [
    "from sklearn.svm import SVR\n",
    "from sklearn.metrics import r2_score\n",
    "\n",
    "svr_model = SVR()\n",
    "svr_preds = svr_model.fit(x_train, y_train).predict(x_test)"
   ]
  },
  {
   "cell_type": "code",
   "execution_count": null,
   "id": "9cc07b70-8774-4290-a872-fef0e09ae8e6",
   "metadata": {},
   "outputs": [],
   "source": [
    "print(f'R2: {r2_score(y_test, svr_preds)}')"
   ]
  },
  {
   "cell_type": "markdown",
   "id": "a5c2954e-1e76-420b-a75a-2767524dfcd7",
   "metadata": {
    "tags": []
   },
   "source": [
    "##  Hyperparameters search"
   ]
  },
  {
   "cell_type": "markdown",
   "id": "d033ffdb-7c3a-4e70-9073-c79d54f404c4",
   "metadata": {
    "tags": [],
    "toc-hr-collapsed": true
   },
   "source": [
    "### SVR"
   ]
  },
  {
   "cell_type": "code",
   "execution_count": 61,
   "id": "0e140c64",
   "metadata": {},
   "outputs": [],
   "source": [
    "from sklearn.model_selection import cross_val_score"
   ]
  },
  {
   "cell_type": "code",
   "execution_count": 16,
   "id": "b722c1db-fd20-4010-9ae1-4515701d4bba",
   "metadata": {},
   "outputs": [],
   "source": [
    "def tune_svr(params):\n",
    "    from sklearn.model_selection import cross_val_score\n",
    "    kernel = params[0]\n",
    "    degree = params[1]\n",
    "    gamma = params[2]\n",
    "    coef0 = params[3]\n",
    "    tol = params[4]\n",
    "    C = params[5]\n",
    "    \n",
    "    print(params, '\\n')\n",
    "    \n",
    "    svr_model = SVR(kernel=kernel, degree=degree, gamma=gamma, coef0=coef0, tol=tol, C=C)\n",
    "    \n",
    "\n",
    "    r2 = cross_val_score(svr_model, x, y, cv=5, scoring ='r2')\n",
    "    \n",
    "    return -r2.mean()\n",
    "\n",
    "space = [\n",
    "    ['linear', 'poly', 'rbf', 'sigmoid'], #kernal\n",
    "    (1, 12), #degree\n",
    "    ['scale', 'auto'], # gamma\n",
    "    (0.05, 3.0), # coef0\n",
    "    (0.000001, 0.01), # tol\n",
    "    [0.1, 1, 10, 100, 1000]] # C"
   ]
  },
  {
   "cell_type": "code",
   "execution_count": 17,
   "id": "29d2bdb0-8c5a-44fb-b79e-502fa1d28023",
   "metadata": {},
   "outputs": [
    {
     "name": "stdout",
     "output_type": "stream",
     "text": [
      "Iteration No: 1 started. Evaluating function at random point.\n",
      "['rbf', 10, 'scale', 2.5493926294131706, 0.0062360134041629395, 10.0] \n",
      "\n"
     ]
    },
    {
     "ename": "NameError",
     "evalue": "name 'SVR' is not defined",
     "output_type": "error",
     "traceback": [
      "\u001b[0;31m---------------------------------------------------------------------------\u001b[0m",
      "\u001b[0;31mNameError\u001b[0m                                 Traceback (most recent call last)",
      "File \u001b[0;32m<timed exec>:2\u001b[0m, in \u001b[0;36m<module>\u001b[0;34m\u001b[0m\n",
      "File \u001b[0;32m~/anaconda3/lib/python3.9/site-packages/skopt/optimizer/gp.py:259\u001b[0m, in \u001b[0;36mgp_minimize\u001b[0;34m(func, dimensions, base_estimator, n_calls, n_random_starts, n_initial_points, initial_point_generator, acq_func, acq_optimizer, x0, y0, random_state, verbose, callback, n_points, n_restarts_optimizer, xi, kappa, noise, n_jobs, model_queue_size)\u001b[0m\n\u001b[1;32m    254\u001b[0m \u001b[38;5;28;01mif\u001b[39;00m base_estimator \u001b[38;5;129;01mis\u001b[39;00m \u001b[38;5;28;01mNone\u001b[39;00m:\n\u001b[1;32m    255\u001b[0m     base_estimator \u001b[38;5;241m=\u001b[39m cook_estimator(\n\u001b[1;32m    256\u001b[0m         \u001b[38;5;124m\"\u001b[39m\u001b[38;5;124mGP\u001b[39m\u001b[38;5;124m\"\u001b[39m, space\u001b[38;5;241m=\u001b[39mspace, random_state\u001b[38;5;241m=\u001b[39mrng\u001b[38;5;241m.\u001b[39mrandint(\u001b[38;5;241m0\u001b[39m, np\u001b[38;5;241m.\u001b[39miinfo(np\u001b[38;5;241m.\u001b[39mint32)\u001b[38;5;241m.\u001b[39mmax),\n\u001b[1;32m    257\u001b[0m         noise\u001b[38;5;241m=\u001b[39mnoise)\n\u001b[0;32m--> 259\u001b[0m \u001b[38;5;28;01mreturn\u001b[39;00m \u001b[43mbase_minimize\u001b[49m\u001b[43m(\u001b[49m\n\u001b[1;32m    260\u001b[0m \u001b[43m    \u001b[49m\u001b[43mfunc\u001b[49m\u001b[43m,\u001b[49m\u001b[43m \u001b[49m\u001b[43mspace\u001b[49m\u001b[43m,\u001b[49m\u001b[43m \u001b[49m\u001b[43mbase_estimator\u001b[49m\u001b[38;5;241;43m=\u001b[39;49m\u001b[43mbase_estimator\u001b[49m\u001b[43m,\u001b[49m\n\u001b[1;32m    261\u001b[0m \u001b[43m    \u001b[49m\u001b[43macq_func\u001b[49m\u001b[38;5;241;43m=\u001b[39;49m\u001b[43macq_func\u001b[49m\u001b[43m,\u001b[49m\n\u001b[1;32m    262\u001b[0m \u001b[43m    \u001b[49m\u001b[43mxi\u001b[49m\u001b[38;5;241;43m=\u001b[39;49m\u001b[43mxi\u001b[49m\u001b[43m,\u001b[49m\u001b[43m \u001b[49m\u001b[43mkappa\u001b[49m\u001b[38;5;241;43m=\u001b[39;49m\u001b[43mkappa\u001b[49m\u001b[43m,\u001b[49m\u001b[43m \u001b[49m\u001b[43macq_optimizer\u001b[49m\u001b[38;5;241;43m=\u001b[39;49m\u001b[43macq_optimizer\u001b[49m\u001b[43m,\u001b[49m\u001b[43m \u001b[49m\u001b[43mn_calls\u001b[49m\u001b[38;5;241;43m=\u001b[39;49m\u001b[43mn_calls\u001b[49m\u001b[43m,\u001b[49m\n\u001b[1;32m    263\u001b[0m \u001b[43m    \u001b[49m\u001b[43mn_points\u001b[49m\u001b[38;5;241;43m=\u001b[39;49m\u001b[43mn_points\u001b[49m\u001b[43m,\u001b[49m\u001b[43m \u001b[49m\u001b[43mn_random_starts\u001b[49m\u001b[38;5;241;43m=\u001b[39;49m\u001b[43mn_random_starts\u001b[49m\u001b[43m,\u001b[49m\n\u001b[1;32m    264\u001b[0m \u001b[43m    \u001b[49m\u001b[43mn_initial_points\u001b[49m\u001b[38;5;241;43m=\u001b[39;49m\u001b[43mn_initial_points\u001b[49m\u001b[43m,\u001b[49m\n\u001b[1;32m    265\u001b[0m \u001b[43m    \u001b[49m\u001b[43minitial_point_generator\u001b[49m\u001b[38;5;241;43m=\u001b[39;49m\u001b[43minitial_point_generator\u001b[49m\u001b[43m,\u001b[49m\n\u001b[1;32m    266\u001b[0m \u001b[43m    \u001b[49m\u001b[43mn_restarts_optimizer\u001b[49m\u001b[38;5;241;43m=\u001b[39;49m\u001b[43mn_restarts_optimizer\u001b[49m\u001b[43m,\u001b[49m\n\u001b[1;32m    267\u001b[0m \u001b[43m    \u001b[49m\u001b[43mx0\u001b[49m\u001b[38;5;241;43m=\u001b[39;49m\u001b[43mx0\u001b[49m\u001b[43m,\u001b[49m\u001b[43m \u001b[49m\u001b[43my0\u001b[49m\u001b[38;5;241;43m=\u001b[39;49m\u001b[43my0\u001b[49m\u001b[43m,\u001b[49m\u001b[43m \u001b[49m\u001b[43mrandom_state\u001b[49m\u001b[38;5;241;43m=\u001b[39;49m\u001b[43mrng\u001b[49m\u001b[43m,\u001b[49m\u001b[43m \u001b[49m\u001b[43mverbose\u001b[49m\u001b[38;5;241;43m=\u001b[39;49m\u001b[43mverbose\u001b[49m\u001b[43m,\u001b[49m\n\u001b[1;32m    268\u001b[0m \u001b[43m    \u001b[49m\u001b[43mcallback\u001b[49m\u001b[38;5;241;43m=\u001b[39;49m\u001b[43mcallback\u001b[49m\u001b[43m,\u001b[49m\u001b[43m \u001b[49m\u001b[43mn_jobs\u001b[49m\u001b[38;5;241;43m=\u001b[39;49m\u001b[43mn_jobs\u001b[49m\u001b[43m,\u001b[49m\u001b[43m \u001b[49m\u001b[43mmodel_queue_size\u001b[49m\u001b[38;5;241;43m=\u001b[39;49m\u001b[43mmodel_queue_size\u001b[49m\u001b[43m)\u001b[49m\n",
      "File \u001b[0;32m~/anaconda3/lib/python3.9/site-packages/skopt/optimizer/base.py:299\u001b[0m, in \u001b[0;36mbase_minimize\u001b[0;34m(func, dimensions, base_estimator, n_calls, n_random_starts, n_initial_points, initial_point_generator, acq_func, acq_optimizer, x0, y0, random_state, verbose, callback, n_points, n_restarts_optimizer, xi, kappa, n_jobs, model_queue_size)\u001b[0m\n\u001b[1;32m    297\u001b[0m \u001b[38;5;28;01mfor\u001b[39;00m n \u001b[38;5;129;01min\u001b[39;00m \u001b[38;5;28mrange\u001b[39m(n_calls):\n\u001b[1;32m    298\u001b[0m     next_x \u001b[38;5;241m=\u001b[39m optimizer\u001b[38;5;241m.\u001b[39mask()\n\u001b[0;32m--> 299\u001b[0m     next_y \u001b[38;5;241m=\u001b[39m \u001b[43mfunc\u001b[49m\u001b[43m(\u001b[49m\u001b[43mnext_x\u001b[49m\u001b[43m)\u001b[49m\n\u001b[1;32m    300\u001b[0m     result \u001b[38;5;241m=\u001b[39m optimizer\u001b[38;5;241m.\u001b[39mtell(next_x, next_y)\n\u001b[1;32m    301\u001b[0m     result\u001b[38;5;241m.\u001b[39mspecs \u001b[38;5;241m=\u001b[39m specs\n",
      "Input \u001b[0;32mIn [16]\u001b[0m, in \u001b[0;36mtune_svr\u001b[0;34m(params)\u001b[0m\n\u001b[1;32m      8\u001b[0m C \u001b[38;5;241m=\u001b[39m params[\u001b[38;5;241m5\u001b[39m]\n\u001b[1;32m     10\u001b[0m \u001b[38;5;28mprint\u001b[39m(params, \u001b[38;5;124m'\u001b[39m\u001b[38;5;130;01m\\n\u001b[39;00m\u001b[38;5;124m'\u001b[39m)\n\u001b[0;32m---> 12\u001b[0m svr_model \u001b[38;5;241m=\u001b[39m \u001b[43mSVR\u001b[49m(kernel\u001b[38;5;241m=\u001b[39mkernel, degree\u001b[38;5;241m=\u001b[39mdegree, gamma\u001b[38;5;241m=\u001b[39mgamma, coef0\u001b[38;5;241m=\u001b[39mcoef0, tol\u001b[38;5;241m=\u001b[39mtol, C\u001b[38;5;241m=\u001b[39mC)\n\u001b[1;32m     15\u001b[0m r2 \u001b[38;5;241m=\u001b[39m cross_val_score(svr_model, x, y, cv\u001b[38;5;241m=\u001b[39m\u001b[38;5;241m5\u001b[39m, scoring \u001b[38;5;241m=\u001b[39m\u001b[38;5;124m'\u001b[39m\u001b[38;5;124mr2\u001b[39m\u001b[38;5;124m'\u001b[39m)\n\u001b[1;32m     17\u001b[0m \u001b[38;5;28;01mreturn\u001b[39;00m \u001b[38;5;241m-\u001b[39mr2\u001b[38;5;241m.\u001b[39mmean()\n",
      "\u001b[0;31mNameError\u001b[0m: name 'SVR' is not defined"
     ]
    }
   ],
   "source": [
    "%%time\n",
    "from skopt import gp_minimize\n",
    "svr_best_params = gp_minimize(tune_svr, space, random_state=0, verbose=True, n_calls=100, n_random_starts=20, n_jobs=-1)"
   ]
  },
  {
   "cell_type": "code",
   "execution_count": null,
   "id": "3d18262f-4cd1-4dad-8193-31436f2a52b2",
   "metadata": {},
   "outputs": [],
   "source": [
    "svr_best_params.x"
   ]
  },
  {
   "cell_type": "code",
   "execution_count": 84,
   "id": "3dcc13c3-4266-4f3d-ae60-ddbeb382555b",
   "metadata": {},
   "outputs": [
    {
     "data": {
      "text/html": [
       "<div>\n",
       "<style scoped>\n",
       "    .dataframe tbody tr th:only-of-type {\n",
       "        vertical-align: middle;\n",
       "    }\n",
       "\n",
       "    .dataframe tbody tr th {\n",
       "        vertical-align: top;\n",
       "    }\n",
       "\n",
       "    .dataframe thead th {\n",
       "        text-align: right;\n",
       "    }\n",
       "</style>\n",
       "<table border=\"1\" class=\"dataframe\">\n",
       "  <thead>\n",
       "    <tr style=\"text-align: right;\">\n",
       "      <th></th>\n",
       "      <th>R2</th>\n",
       "      <th>MAE</th>\n",
       "      <th>RMSE</th>\n",
       "      <th>RPD</th>\n",
       "    </tr>\n",
       "  </thead>\n",
       "  <tbody>\n",
       "    <tr>\n",
       "      <th>Teste</th>\n",
       "      <td>0.632401</td>\n",
       "      <td>1.350428</td>\n",
       "      <td>1.706229</td>\n",
       "      <td>1.660025</td>\n",
       "    </tr>\n",
       "  </tbody>\n",
       "</table>\n",
       "</div>"
      ],
      "text/plain": [
       "             R2       MAE      RMSE       RPD\n",
       "Teste  0.632401  1.350428  1.706229  1.660025"
      ]
     },
     "execution_count": 84,
     "metadata": {},
     "output_type": "execute_result"
    }
   ],
   "source": [
    "from sklearn.svm import SVR\n",
    "svr_model = SVR(kernel='linear', degree=1, gamma='auto', coef0=3.0, tol=0.01, C = 0.1)\n",
    "\n",
    "svr_model.fit(x_train, y_train)\n",
    "preds = svr_model.predict(x_test)\n",
    "cmls.evalute_model(y_test, preds)"
   ]
  },
  {
   "cell_type": "code",
   "execution_count": 66,
   "id": "6a962b48-e06d-4986-986b-5a516ca6864c",
   "metadata": {},
   "outputs": [
    {
     "data": {
      "image/png": "[encoded data removed]",
      "text/plain": [
       "<Figure size 432x288 with 1 Axes>"
      ]
     },
     "metadata": {
      "needs_background": "light"
     },
     "output_type": "display_data"
    }
   ],
   "source": [
    "cmls.plot_real_vs_predict(y_test, preds)"
   ]
  },
  {
   "cell_type": "markdown",
   "id": "4c49ad02-35b7-4727-8445-eb119b40e054",
   "metadata": {
    "tags": []
   },
   "source": [
    "### RF"
   ]
  },
  {
   "cell_type": "code",
   "execution_count": 239,
   "id": "853ea3de-7216-4df1-aaa6-e0b4114e0c1f",
   "metadata": {},
   "outputs": [],
   "source": [
    "from sklearn.model_selection import cross_val_score"
   ]
  },
  {
   "cell_type": "code",
   "execution_count": 244,
   "id": "271ea7cf-24b8-440b-8168-1fa0e9c58a5e",
   "metadata": {},
   "outputs": [],
   "source": [
    "def tune_rf(params):\n",
    "    from sklearn.model_selection import cross_val_score\n",
    "    bootstrap = params[0]\n",
    "    max_depth = params[1]\n",
    "    min_samples_leaf = params[2]\n",
    "    min_samples_split = params[3]\n",
    "    n_estimators = params[4]\n",
    "    \n",
    "    print(params, '\\n')\n",
    "    \n",
    "    rf_model = RandomForestRegressor(bootstrap=bootstrap, max_depth=max_depth, min_samples_leaf=min_samples_leaf,\n",
    "                                     min_samples_split=min_samples_split,n_estimators=n_estimators, random_state=0, criterion='poisson', n_jobs=-1)\n",
    "    \n",
    "\n",
    "    r2 = cross_val_score(rf_model, x_train, y_train, cv=5, scoring ='r2')\n",
    "    \n",
    "    return -r2.mean()\n",
    "\n",
    "space = [\n",
    "    [True, False], #bootstrap\n",
    "    [10, 20, 30, None], #max_depth\n",
    "    [1, 2, 4], # min_samples_leaf\n",
    "    [2, 5, 10], # min_samples_split\n",
    "    [5, 10, 20, 50, 100, 200, 300]] # n_estimators"
   ]
  },
  {
   "cell_type": "code",
   "execution_count": null,
   "id": "ff8f79ad-874b-4569-bd9a-be65ecc94788",
   "metadata": {},
   "outputs": [],
   "source": [
    "%%time\n",
    "from skopt import gp_minimize\n",
    "rf_best_params = gp_minimize(tune_rf, space, random_state=0, verbose=True, n_calls=100, n_random_starts=20, n_jobs=-1)"
   ]
  },
  {
   "cell_type": "code",
   "execution_count": 246,
   "id": "84d64a68-64cc-45f6-a51e-5a308c0eb88b",
   "metadata": {},
   "outputs": [
    {
     "data": {
      "text/plain": [
       "[True, 10, 4, 2, 100]"
      ]
     },
     "execution_count": 246,
     "metadata": {},
     "output_type": "execute_result"
    }
   ],
   "source": [
    "rf_best_params.x"
   ]
  },
  {
   "cell_type": "code",
   "execution_count": 247,
   "id": "00fb314c-f3d6-4c0d-a167-2d4c7cf6f32d",
   "metadata": {},
   "outputs": [
    {
     "data": {
      "text/html": [
       "<div>\n",
       "<style scoped>\n",
       "    .dataframe tbody tr th:only-of-type {\n",
       "        vertical-align: middle;\n",
       "    }\n",
       "\n",
       "    .dataframe tbody tr th {\n",
       "        vertical-align: top;\n",
       "    }\n",
       "\n",
       "    .dataframe thead th {\n",
       "        text-align: right;\n",
       "    }\n",
       "</style>\n",
       "<table border=\"1\" class=\"dataframe\">\n",
       "  <thead>\n",
       "    <tr style=\"text-align: right;\">\n",
       "      <th></th>\n",
       "      <th>R2</th>\n",
       "      <th>MAE</th>\n",
       "      <th>RMSE</th>\n",
       "      <th>RPD</th>\n",
       "    </tr>\n",
       "  </thead>\n",
       "  <tbody>\n",
       "    <tr>\n",
       "      <th>Teste</th>\n",
       "      <td>0.581916</td>\n",
       "      <td>1.237431</td>\n",
       "      <td>1.819624</td>\n",
       "      <td>1.556576</td>\n",
       "    </tr>\n",
       "  </tbody>\n",
       "</table>\n",
       "</div>"
      ],
      "text/plain": [
       "             R2       MAE      RMSE       RPD\n",
       "Teste  0.581916  1.237431  1.819624  1.556576"
      ]
     },
     "execution_count": 247,
     "metadata": {},
     "output_type": "execute_result"
    }
   ],
   "source": [
    "rf_model = RandomForestRegressor(bootstrap=True, max_depth=10,\n",
    "                                     min_samples_leaf=4, min_samples_split=2,\n",
    "                                     n_estimators=100, random_state=0, criterion='poisson', n_jobs=-1)\n",
    "\n",
    "svr_model.fit(x_train, y_train)\n",
    "preds = svr_model.predict(x_test)\n",
    "cmls.evalute_model(y_test, preds)"
   ]
  },
  {
   "cell_type": "code",
   "execution_count": 248,
   "id": "516fad09-555e-4944-9cb3-afb42bf2bfb4",
   "metadata": {},
   "outputs": [
    {
     "data": {
      "image/png": "[encoded data removed]",
      "text/plain": [
       "<Figure size 432x288 with 1 Axes>"
      ]
     },
     "metadata": {
      "needs_background": "light"
     },
     "output_type": "display_data"
    }
   ],
   "source": [
    "cmls.plot_real_vs_predict(y_test, preds)"
   ]
  },
  {
   "cell_type": "code",
   "execution_count": null,
   "id": "b6fe2c08-b698-481f-b20b-5a753a962806",
   "metadata": {},
   "outputs": [],
   "source": []
  }
 ],
 "metadata": {
  "kernelspec": {
   "display_name": "Python 3 (ipykernel)",
   "language": "python",
   "name": "python3"
  },
  "language_info": {
   "codemirror_mode": {
    "name": "ipython",
    "version": 3
   },
   "file_extension": ".py",
   "mimetype": "text/x-python",
   "name": "python",
   "nbconvert_exporter": "python",
   "pygments_lexer": "ipython3",
   "version": "3.9.12"
  }
 },
 "nbformat": 4,
 "nbformat_minor": 5
}
