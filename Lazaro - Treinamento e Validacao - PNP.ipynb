{
 "cells": [
  {
   "cell_type": "markdown",
   "id": "d79bcafc-276b-410b-8f74-97ba91b47334",
   "metadata": {},
   "source": [
    "# PNP"
   ]
  },
  {
   "cell_type": "code",
   "execution_count": 5,
   "id": "e5debc3e-7fac-40e9-8348-df43a0f71a66",
   "metadata": {},
   "outputs": [],
   "source": [
    "import numpy as np\n",
    "import pandas as pd"
   ]
  },
  {
   "cell_type": "markdown",
   "id": "8bbdaa22-f0fa-4ea8-ad42-01e1dab95e65",
   "metadata": {
    "tags": []
   },
   "source": [
    "## Passo 1: Leitura dos dados\n",
    "Leitura dos bancos de dados em DataFrame Pandas. "
   ]
  },
  {
   "cell_type": "code",
   "execution_count": 6,
   "id": "266bf334-70a8-4f5c-82b9-f1ac8ffb8853",
   "metadata": {},
   "outputs": [],
   "source": [
    "caminho_dados_lazaro = 'Datasets/Lazaro/dados_pre_processados_lazaro.csv'"
   ]
  },
  {
   "cell_type": "code",
   "execution_count": 7,
   "id": "be544d64-f642-4ded-9dbb-dad41fd3e819",
   "metadata": {},
   "outputs": [],
   "source": [
    "df = pd.read_csv(caminho_dados_lazaro)"
   ]
  },
  {
   "cell_type": "code",
   "execution_count": 8,
   "id": "f6683cd6-f6a5-4fd8-afab-0f3536910880",
   "metadata": {},
   "outputs": [
    {
     "data": {
      "text/html": [
       "<div>\n",
       "<style scoped>\n",
       "    .dataframe tbody tr th:only-of-type {\n",
       "        vertical-align: middle;\n",
       "    }\n",
       "\n",
       "    .dataframe tbody tr th {\n",
       "        vertical-align: top;\n",
       "    }\n",
       "\n",
       "    .dataframe thead th {\n",
       "        text-align: right;\n",
       "    }\n",
       "</style>\n",
       "<table border=\"1\" class=\"dataframe\">\n",
       "  <thead>\n",
       "    <tr style=\"text-align: right;\">\n",
       "      <th></th>\n",
       "      <th>Piquete</th>\n",
       "      <th>Altura real</th>\n",
       "      <th>Altura esperada</th>\n",
       "      <th>Animal</th>\n",
       "      <th>SensorID</th>\n",
       "      <th>Sensor Name</th>\n",
       "      <th>Date</th>\n",
       "      <th>X</th>\n",
       "      <th>Y</th>\n",
       "      <th>Z</th>\n",
       "      <th>Comportamento</th>\n",
       "      <th>Season_fall</th>\n",
       "      <th>Season_spring</th>\n",
       "      <th>Season_summer</th>\n",
       "      <th>magn</th>\n",
       "      <th>sma</th>\n",
       "      <th>ent</th>\n",
       "      <th>pit</th>\n",
       "      <th>rol</th>\n",
       "      <th>icl</th>\n",
       "    </tr>\n",
       "  </thead>\n",
       "  <tbody>\n",
       "    <tr>\n",
       "      <th>0</th>\n",
       "      <td>11</td>\n",
       "      <td>25.2</td>\n",
       "      <td>25.0</td>\n",
       "      <td>85</td>\n",
       "      <td>434138</td>\n",
       "      <td>Accelerometer - 434138</td>\n",
       "      <td>2019-11-09 09:47:47</td>\n",
       "      <td>-0.132</td>\n",
       "      <td>-0.583</td>\n",
       "      <td>0.712</td>\n",
       "      <td>Ocio</td>\n",
       "      <td>0.0</td>\n",
       "      <td>1.0</td>\n",
       "      <td>0.0</td>\n",
       "      <td>0.929654</td>\n",
       "      <td>1.427</td>\n",
       "      <td>-0.005973</td>\n",
       "      <td>8.162915</td>\n",
       "      <td>129.311311</td>\n",
       "      <td>40.014999</td>\n",
       "    </tr>\n",
       "    <tr>\n",
       "      <th>1</th>\n",
       "      <td>11</td>\n",
       "      <td>25.2</td>\n",
       "      <td>25.0</td>\n",
       "      <td>85</td>\n",
       "      <td>434138</td>\n",
       "      <td>Accelerometer - 434138</td>\n",
       "      <td>2019-11-09 09:47:48</td>\n",
       "      <td>0.021</td>\n",
       "      <td>-0.792</td>\n",
       "      <td>0.574</td>\n",
       "      <td>Ocio</td>\n",
       "      <td>0.0</td>\n",
       "      <td>1.0</td>\n",
       "      <td>0.0</td>\n",
       "      <td>0.978356</td>\n",
       "      <td>1.387</td>\n",
       "      <td>-0.282943</td>\n",
       "      <td>-1.229924</td>\n",
       "      <td>144.067373</td>\n",
       "      <td>54.076939</td>\n",
       "    </tr>\n",
       "    <tr>\n",
       "      <th>2</th>\n",
       "      <td>11</td>\n",
       "      <td>25.2</td>\n",
       "      <td>25.0</td>\n",
       "      <td>85</td>\n",
       "      <td>434138</td>\n",
       "      <td>Accelerometer - 434138</td>\n",
       "      <td>2019-11-09 09:47:50</td>\n",
       "      <td>0.021</td>\n",
       "      <td>-0.792</td>\n",
       "      <td>0.574</td>\n",
       "      <td>Ocio</td>\n",
       "      <td>0.0</td>\n",
       "      <td>1.0</td>\n",
       "      <td>0.0</td>\n",
       "      <td>0.978356</td>\n",
       "      <td>1.387</td>\n",
       "      <td>-0.282943</td>\n",
       "      <td>-1.229924</td>\n",
       "      <td>144.067373</td>\n",
       "      <td>54.076939</td>\n",
       "    </tr>\n",
       "    <tr>\n",
       "      <th>3</th>\n",
       "      <td>11</td>\n",
       "      <td>25.2</td>\n",
       "      <td>25.0</td>\n",
       "      <td>85</td>\n",
       "      <td>434138</td>\n",
       "      <td>Accelerometer - 434138</td>\n",
       "      <td>2019-11-09 09:47:51</td>\n",
       "      <td>0.021</td>\n",
       "      <td>-0.792</td>\n",
       "      <td>0.574</td>\n",
       "      <td>Ocio</td>\n",
       "      <td>0.0</td>\n",
       "      <td>1.0</td>\n",
       "      <td>0.0</td>\n",
       "      <td>0.978356</td>\n",
       "      <td>1.387</td>\n",
       "      <td>-0.282943</td>\n",
       "      <td>-1.229924</td>\n",
       "      <td>144.067373</td>\n",
       "      <td>54.076939</td>\n",
       "    </tr>\n",
       "    <tr>\n",
       "      <th>4</th>\n",
       "      <td>11</td>\n",
       "      <td>25.2</td>\n",
       "      <td>25.0</td>\n",
       "      <td>85</td>\n",
       "      <td>434138</td>\n",
       "      <td>Accelerometer - 434138</td>\n",
       "      <td>2019-11-09 09:47:52</td>\n",
       "      <td>-0.061</td>\n",
       "      <td>-0.870</td>\n",
       "      <td>0.478</td>\n",
       "      <td>Ocio</td>\n",
       "      <td>0.0</td>\n",
       "      <td>1.0</td>\n",
       "      <td>0.0</td>\n",
       "      <td>0.994538</td>\n",
       "      <td>1.409</td>\n",
       "      <td>-0.361029</td>\n",
       "      <td>3.516446</td>\n",
       "      <td>151.214493</td>\n",
       "      <td>61.273746</td>\n",
       "    </tr>\n",
       "  </tbody>\n",
       "</table>\n",
       "</div>"
      ],
      "text/plain": [
       "   Piquete  Altura real  Altura esperada  Animal  SensorID  \\\n",
       "0       11         25.2             25.0      85    434138   \n",
       "1       11         25.2             25.0      85    434138   \n",
       "2       11         25.2             25.0      85    434138   \n",
       "3       11         25.2             25.0      85    434138   \n",
       "4       11         25.2             25.0      85    434138   \n",
       "\n",
       "              Sensor Name                 Date      X      Y      Z  \\\n",
       "0  Accelerometer - 434138  2019-11-09 09:47:47 -0.132 -0.583  0.712   \n",
       "1  Accelerometer - 434138  2019-11-09 09:47:48  0.021 -0.792  0.574   \n",
       "2  Accelerometer - 434138  2019-11-09 09:47:50  0.021 -0.792  0.574   \n",
       "3  Accelerometer - 434138  2019-11-09 09:47:51  0.021 -0.792  0.574   \n",
       "4  Accelerometer - 434138  2019-11-09 09:47:52 -0.061 -0.870  0.478   \n",
       "\n",
       "  Comportamento  Season_fall  Season_spring  Season_summer      magn    sma  \\\n",
       "0          Ocio          0.0            1.0            0.0  0.929654  1.427   \n",
       "1          Ocio          0.0            1.0            0.0  0.978356  1.387   \n",
       "2          Ocio          0.0            1.0            0.0  0.978356  1.387   \n",
       "3          Ocio          0.0            1.0            0.0  0.978356  1.387   \n",
       "4          Ocio          0.0            1.0            0.0  0.994538  1.409   \n",
       "\n",
       "        ent       pit         rol        icl  \n",
       "0 -0.005973  8.162915  129.311311  40.014999  \n",
       "1 -0.282943 -1.229924  144.067373  54.076939  \n",
       "2 -0.282943 -1.229924  144.067373  54.076939  \n",
       "3 -0.282943 -1.229924  144.067373  54.076939  \n",
       "4 -0.361029  3.516446  151.214493  61.273746  "
      ]
     },
     "execution_count": 8,
     "metadata": {},
     "output_type": "execute_result"
    }
   ],
   "source": [
    "df.head()"
   ]
  },
  {
   "cell_type": "code",
   "execution_count": 9,
   "id": "3a143d54-c58b-4182-8302-3fb7897b219f",
   "metadata": {},
   "outputs": [],
   "source": [
    "# Remove as linhas com o sensor 434138\n",
    "df = df[df.SensorID != 434138]"
   ]
  },
  {
   "cell_type": "markdown",
   "id": "35cdcc55-22f7-4ee2-a77b-b111b5b58958",
   "metadata": {
    "tags": []
   },
   "source": [
    "## Passo 2: Treinamento e Validação"
   ]
  },
  {
   "cell_type": "code",
   "execution_count": 10,
   "id": "506ac15e-da6c-47b2-adc4-e09d8890e72b",
   "metadata": {},
   "outputs": [],
   "source": [
    "from sklearn.model_selection import train_test_split\n",
    "from sklearn.metrics import accuracy_score, confusion_matrix, classification_report\n",
    "from sklearn.model_selection import cross_val_score\n",
    "# Para a busca do melhores hiperparêmetros\n",
    "from sklearn.model_selection import RandomizedSearchCV\n",
    "from skopt import gp_minimize"
   ]
  },
  {
   "cell_type": "markdown",
   "id": "cc792402-c4a8-4e76-a021-0361352d498d",
   "metadata": {
    "tags": []
   },
   "source": [
    "### Seleção de colunas aplicáveis"
   ]
  },
  {
   "cell_type": "code",
   "execution_count": 11,
   "id": "52e47438-90af-4920-a577-188200a56338",
   "metadata": {
    "tags": []
   },
   "outputs": [
    {
     "data": {
      "text/plain": [
       "Index(['Piquete', 'Altura real', 'Altura esperada', 'Animal', 'SensorID',\n",
       "       'Sensor Name', 'Date', 'X', 'Y', 'Z', 'Comportamento', 'Season_fall',\n",
       "       'Season_spring', 'Season_summer', 'magn', 'sma', 'ent', 'pit', 'rol',\n",
       "       'icl'],\n",
       "      dtype='object')"
      ]
     },
     "execution_count": 11,
     "metadata": {},
     "output_type": "execute_result"
    }
   ],
   "source": [
    "df.columns"
   ]
  },
  {
   "cell_type": "code",
   "execution_count": 12,
   "id": "0a9e6168-130b-4219-8c3c-290f984fc8fb",
   "metadata": {},
   "outputs": [],
   "source": [
    "# Lista com os atributos aplicáveis\n",
    "features_aplicaveis = ['X', 'Y' ,'Z', 'Comportamento', 'Season_fall', 'Season_spring', 'Season_summer', 'magn', 'sma', 'ent', 'pit', 'rol', 'icl']\n",
    "\n",
    "# Seleciona os abributos correspondentes da lista features_aplicaveis\n",
    "df = df[features_aplicaveis]"
   ]
  },
  {
   "cell_type": "markdown",
   "id": "acb3acdf-cc47-406e-affa-1467943a011a",
   "metadata": {
    "tags": []
   },
   "source": [
    "#### Função para imprimir a quantidade de dados por conjunto"
   ]
  },
  {
   "cell_type": "code",
   "execution_count": 13,
   "id": "d2ac8d8f-95b4-425c-ae55-900cbda470fd",
   "metadata": {},
   "outputs": [],
   "source": [
    "def imprimir_quantidade_dados(X_train, X_test):\n",
    "    print(10*\"-\",\" Quantidade de dados \",  10*\"-\")\n",
    "    \n",
    "    print('Treino: ', X_train.shape[0])\n",
    "    print('Teste: ', X_test.shape[0])\n",
    "    \n",
    "    print(43*\"-\")"
   ]
  },
  {
   "cell_type": "markdown",
   "id": "04f27469-79d0-454a-9c8e-06662cfeef85",
   "metadata": {
    "tags": []
   },
   "source": [
    "#### Divisão entre variáveis preditoras(X) e variáveis de resposta(y)"
   ]
  },
  {
   "cell_type": "code",
   "execution_count": 14,
   "id": "b77204d0-5c6d-4096-bce9-4f57413c6308",
   "metadata": {},
   "outputs": [],
   "source": [
    "y = df.Comportamento\n",
    "X = df.drop('Comportamento', axis=1)\n",
    "y = y.replace(to_replace=['Ocio', 'Ruminando'], value='Não Pastejando')\n",
    "X_train, X_test, y_train, y_test = train_test_split(X, y, train_size=0.8, random_state = 0)"
   ]
  },
  {
   "cell_type": "markdown",
   "id": "be3f88a5-bccd-4c5c-b074-a67ac8226fe0",
   "metadata": {
    "tags": []
   },
   "source": [
    "##### Quantidade de dados por conjunto"
   ]
  },
  {
   "cell_type": "code",
   "execution_count": 15,
   "id": "bbcf515e-18a5-4784-83e6-c6158e38e46d",
   "metadata": {},
   "outputs": [
    {
     "name": "stdout",
     "output_type": "stream",
     "text": [
      "----------  Quantidade de dados  ----------\n",
      "Treino:  485720\n",
      "Teste:  121430\n",
      "-------------------------------------------\n"
     ]
    }
   ],
   "source": [
    "imprimir_quantidade_dados(X_train, X_test)"
   ]
  },
  {
   "cell_type": "code",
   "execution_count": 16,
   "id": "cabb111f-1ba2-460c-bb5b-178b148ed99d",
   "metadata": {},
   "outputs": [],
   "source": [
    "# Para reescalar os dados\n",
    "from sklearn.preprocessing import StandardScaler\n",
    "\n",
    "X_train_season = X_train[['Season_fall', 'Season_spring', 'Season_summer']]\n",
    "X_test_season =  X_test[['Season_fall', 'Season_spring', 'Season_summer']]\n",
    "\n",
    "X_train.drop(['Season_fall', 'Season_spring', 'Season_summer'], axis=1, inplace=True)\n",
    "X_test.drop(['Season_fall', 'Season_spring', 'Season_summer'], axis=1, inplace=True)\n",
    "\n",
    "columns = X_train.columns\n",
    "index_train = X_train.index\n",
    "index_test = X_test.index\n",
    "\n",
    "\n",
    "sc = StandardScaler()\n",
    "X_train = sc.fit_transform(X_train)\n",
    "X_test = sc.transform (X_test)\n",
    "\n",
    "X_train = pd.DataFrame(X_train, columns=columns, index=index_train)\n",
    "X_test = pd.DataFrame(X_test, columns=columns, index=index_test)\n",
    "\n",
    "X_train = pd.concat([X_train, X_train_season], axis=1)\n",
    "X_test = pd.concat([X_test, X_test_season], axis=1)"
   ]
  },
  {
   "cell_type": "code",
   "execution_count": null,
   "id": "aa678b30-121a-4a57-994c-6505070edd88",
   "metadata": {},
   "outputs": [],
   "source": [
    "del X_test_season\n",
    "del X_train_season"
   ]
  },
  {
   "cell_type": "markdown",
   "id": "4db924e5-5828-4361-943c-0c9d59dd800b",
   "metadata": {
    "tags": []
   },
   "source": [
    "### Função para imprimir e salvar matriz de confusão"
   ]
  },
  {
   "cell_type": "code",
   "execution_count": 14,
   "id": "8e6be2bb-7839-46a4-aab2-70fd76d02340",
   "metadata": {},
   "outputs": [],
   "source": [
    "# Função para imprimir e salvar matriz de confusão\n",
    "def imprimeMatrizDeConfusão(y_test, preds, model, salvarFigura = False):\n",
    "    from sklearn.metrics import confusion_matrix\n",
    "    from sklearn.metrics import ConfusionMatrixDisplay\n",
    "    import matplotlib.pyplot as plt\n",
    "\n",
    "    cm = confusion_matrix(y_test, preds, normalize='true')\n",
    "    disp = ConfusionMatrixDisplay(confusion_matrix=cm, display_labels=model.classes_)\n",
    "    disp.plot(values_format= '.2%', xticks_rotation=60, colorbar=False)\n",
    "    disp.ax_.set_title(\"Matriz de confusão normalizada sobre as condições verdadeiras\")\n",
    "    if(salvarFigura):\n",
    "        plt.savefig(input('Nome da figura a ser salva:' ) + '.png')\n",
    "    plt.show()"
   ]
  },
  {
   "cell_type": "code",
   "execution_count": 15,
   "id": "94b1362a-4fb4-4cbf-869d-3f7b629e5262",
   "metadata": {},
   "outputs": [],
   "source": [
    "from sklearn.metrics import classification_report\n",
    "\n",
    "def classification_report_extendido(y_true: np.array, y_pred: np.array, classes: set = None):\n",
    "    report = classification_report(y_true, y_pred, output_dict=True, zero_division=0)\n",
    "    \n",
    "    if classes is None: # Determina classes pelos valores\n",
    "        classes = set(np.concatenate((np.unique(y_true), np.unique(y_pred))))\n",
    "    for cls in classes:\n",
    "        y_true_cls = (y_true == cls).astype(int)\n",
    "        y_pred_cls = (y_pred == cls).astype(int)\n",
    "\n",
    "        fp = sum(y_pred_cls[y_true_cls != 1])\n",
    "        tn = sum(y_pred_cls[y_true_cls == 0] == False)\n",
    "        fn = sum(y_pred_cls[y_true_cls == 1] == False)\n",
    "\n",
    "        \n",
    "        specificity_val = tn / (tn + fp)\n",
    "        report[cls]['specificity'] = specificity_val\n",
    "        npv_val = tn / (tn + fn)\n",
    "        report[cls]['npv'] = npv_val\n",
    "        \n",
    "    return report"
   ]
  },
  {
   "cell_type": "markdown",
   "id": "c9e0e07a-17e0-4132-a1d2-532d39a31f60",
   "metadata": {},
   "source": [
    "### GLM "
   ]
  },
  {
   "cell_type": "code",
   "execution_count": 33,
   "id": "152ef8f8-0695-4da2-aed2-ca2cc9beb810",
   "metadata": {},
   "outputs": [],
   "source": [
    "from patsy import dmatrices\n",
    "import statsmodels.api as sm"
   ]
  },
  {
   "cell_type": "code",
   "execution_count": 34,
   "id": "14f95fee-c18b-42f1-9362-5480c37c47b6",
   "metadata": {},
   "outputs": [],
   "source": [
    "df_train = pd.concat([X_train, y_train], axis=1)"
   ]
  },
  {
   "cell_type": "code",
   "execution_count": 35,
   "id": "fcb7f040-4609-480b-b3a7-ed9919ac2665",
   "metadata": {},
   "outputs": [],
   "source": [
    "y_train, X_train = dmatrices( 'Comportamento ~ X + Y + Z + Season_fall + Season_spring + Season_summer + magn + sma + ent + pit + rol + icl', data=df_train, return_type='dataframe')"
   ]
  },
  {
   "cell_type": "code",
   "execution_count": 36,
   "id": "a29b7daf-5b0a-47e1-a6d2-c44e400fc0f8",
   "metadata": {},
   "outputs": [],
   "source": [
    "glm_model = sm.MNLogit(y_train, X_train) "
   ]
  },
  {
   "cell_type": "code",
   "execution_count": 37,
   "id": "e44e9bc0-150e-4189-95b1-1056b9d25b3f",
   "metadata": {},
   "outputs": [
    {
     "name": "stdout",
     "output_type": "stream",
     "text": [
      "Optimization terminated successfully.\n",
      "         Current function value: 0.650064\n",
      "         Iterations 5\n",
      "CPU times: user 3.56 s, sys: 42.7 ms, total: 3.61 s\n",
      "Wall time: 1 s\n"
     ]
    }
   ],
   "source": [
    "%%time\n",
    "glm_results = glm_model.fit()\n",
    "\n",
    "df_test = pd.concat([X_test, y_test], axis=1)\n",
    "\n",
    "y_test, X_test = dmatrices( 'Comportamento ~ X + Y + Z + Season_fall + Season_spring + Season_summer + magn + sma + ent + pit + rol + icl', data=df_test, return_type='dataframe')\n",
    "\n",
    "preds = glm_results.predict(X_test)"
   ]
  },
  {
   "cell_type": "code",
   "execution_count": 38,
   "id": "6eb69986-a736-46a2-b4b3-91c5076a7ce2",
   "metadata": {},
   "outputs": [],
   "source": [
    "preds[2] = preds.median(axis=1)"
   ]
  },
  {
   "cell_type": "code",
   "execution_count": 39,
   "id": "a09b7e2f-d5af-49fa-b6d6-06401741f402",
   "metadata": {},
   "outputs": [],
   "source": [
    "preds = preds.reset_index(drop=True)"
   ]
  },
  {
   "cell_type": "code",
   "execution_count": 40,
   "id": "5c660dd6-e23b-49b0-9c7e-1e56085a307a",
   "metadata": {},
   "outputs": [],
   "source": [
    "b = np.zeros((preds.shape[0], 2))"
   ]
  },
  {
   "cell_type": "code",
   "execution_count": 41,
   "id": "8500631c-6867-4464-a5b6-4f0206ded7dc",
   "metadata": {},
   "outputs": [],
   "source": [
    "for i in range(preds.shape[0]):\n",
    "    for j in range(2):\n",
    "        if preds.loc[i,j] > preds.loc[i,2]:\n",
    "            b[i,j] = 1\n",
    "        else:\n",
    "            b[i,j] = 0"
   ]
  },
  {
   "cell_type": "code",
   "execution_count": 42,
   "id": "3f33977d-8b3e-4d0f-9495-0d95c1133b4d",
   "metadata": {},
   "outputs": [],
   "source": [
    "preds = pd.DataFrame(b, columns=['Não Pastejando', 'Pastejando'])"
   ]
  },
  {
   "cell_type": "code",
   "execution_count": 43,
   "id": "3612747a-c5b7-4904-be0e-d59f407c6b9b",
   "metadata": {},
   "outputs": [
    {
     "data": {
      "text/plain": [
       "63.097257679321416"
      ]
     },
     "execution_count": 43,
     "metadata": {},
     "output_type": "execute_result"
    }
   ],
   "source": [
    "accuracy_score(y_test, preds)*100"
   ]
  },
  {
   "cell_type": "code",
   "execution_count": 44,
   "id": "5e202499-8c2c-4518-b176-ea721848c267",
   "metadata": {},
   "outputs": [
    {
     "name": "stdout",
     "output_type": "stream",
     "text": [
      "              precision    recall  f1-score   support\n",
      "\n",
      "           0      0.627     0.448     0.523     54771\n",
      "           1      0.633     0.782     0.699     66659\n",
      "\n",
      "   micro avg      0.631     0.631     0.631    121430\n",
      "   macro avg      0.630     0.615     0.611    121430\n",
      "weighted avg      0.630     0.631     0.620    121430\n",
      " samples avg      0.631     0.631     0.631    121430\n",
      "\n"
     ]
    }
   ],
   "source": [
    "print(classification_report(y_test, preds, digits=3))"
   ]
  },
  {
   "cell_type": "code",
   "execution_count": 45,
   "id": "a9929665-5d28-40b4-a8a2-227257eade2a",
   "metadata": {},
   "outputs": [],
   "source": [
    "# Reverso de get_dummies\n",
    "preds = preds.idxmax(axis=1)"
   ]
  },
  {
   "cell_type": "code",
   "execution_count": 46,
   "id": "e1564793-c793-46b8-9ff2-7200ec561fb2",
   "metadata": {},
   "outputs": [],
   "source": [
    "y_test = y_test.rename(columns={\"Comportamento[Não Pastejando]\" : \"Não Pastejando\", \"Comportamento[Pastejando]\" : \"Pastejando\"})"
   ]
  },
  {
   "cell_type": "code",
   "execution_count": 47,
   "id": "3f36faba-0f15-4d2d-8da9-1f9ae4498802",
   "metadata": {},
   "outputs": [],
   "source": [
    "y_test = y_test.idxmax(axis=1)"
   ]
  },
  {
   "cell_type": "code",
   "execution_count": 48,
   "id": "d0a8a606-0419-4807-9e71-be626900a2e6",
   "metadata": {},
   "outputs": [],
   "source": [
    "y_test = y_test.reset_index(drop=True)"
   ]
  },
  {
   "cell_type": "code",
   "execution_count": 49,
   "id": "f6b18ab8-a905-42ec-b4c7-a455a5ab850a",
   "metadata": {},
   "outputs": [
    {
     "data": {
      "text/plain": [
       "{'Não Pastejando': {'precision': 0.6274439553690244,\n",
       "  'recall': 0.4476456518960764,\n",
       "  'f1-score': 0.5225100429422358,\n",
       "  'support': 54771,\n",
       "  'specificity': 0.7816048845617246,\n",
       "  'npv': 0.6326468659688661},\n",
       " 'Pastejando': {'precision': 0.6326468659688661,\n",
       "  'recall': 0.7816048845617246,\n",
       "  'f1-score': 0.6992812707616114,\n",
       "  'support': 66659,\n",
       "  'specificity': 0.4476456518960764,\n",
       "  'npv': 0.6274439553690244},\n",
       " 'accuracy': 0.6309725767932142,\n",
       " 'macro avg': {'precision': 0.6300454106689453,\n",
       "  'recall': 0.6146252682289005,\n",
       "  'f1-score': 0.6108956568519236,\n",
       "  'support': 121430},\n",
       " 'weighted avg': {'precision': 0.630300093207078,\n",
       "  'recall': 0.6309725767932142,\n",
       "  'f1-score': 0.6195486106373009,\n",
       "  'support': 121430}}"
      ]
     },
     "execution_count": 49,
     "metadata": {},
     "output_type": "execute_result"
    }
   ],
   "source": [
    "classification_report_extendido(y_test, preds)"
   ]
  },
  {
   "cell_type": "code",
   "execution_count": 50,
   "id": "ec509a90-620a-4371-8d96-7107fb26af9a",
   "metadata": {},
   "outputs": [
    {
     "data": {
      "image/png": "[encoded data removed]",
      "text/plain": [
       "<Figure size 432x288 with 1 Axes>"
      ]
     },
     "metadata": {
      "needs_background": "light"
     },
     "output_type": "display_data"
    }
   ],
   "source": [
    "from sklearn.metrics import confusion_matrix\n",
    "from sklearn.metrics import ConfusionMatrixDisplay\n",
    "import matplotlib.pyplot as plt\n",
    "\n",
    "cm = confusion_matrix(y_test, preds, normalize='true')\n",
    "disp = ConfusionMatrixDisplay(confusion_matrix=cm)\n",
    "disp.plot(values_format= '.2%', xticks_rotation=60, colorbar=False)\n",
    "disp.ax_.set_title(\"Matriz de confusão normalizada sobre as condições verdadeiras\")\n",
    "plt.show()"
   ]
  },
  {
   "cell_type": "markdown",
   "id": "3ed279a5-56c0-4837-be15-5a42a7194484",
   "metadata": {},
   "source": [
    "### LGBMClassifier"
   ]
  },
  {
   "cell_type": "code",
   "execution_count": 15,
   "id": "b7720fc1-efb2-4333-a44b-72f34d696af2",
   "metadata": {},
   "outputs": [],
   "source": [
    "from lightgbm import LGBMClassifier"
   ]
  },
  {
   "cell_type": "code",
   "execution_count": 16,
   "id": "b504f1dd-6d51-4256-a9bb-7159974baddb",
   "metadata": {},
   "outputs": [
    {
     "data": {
      "text/plain": [
       "77.83414312772791"
      ]
     },
     "execution_count": 16,
     "metadata": {},
     "output_type": "execute_result"
    }
   ],
   "source": [
    "lgb_model = LGBMClassifier(n_jobs=-1, random_state=0)\n",
    "lgb_model.fit(X_train, y_train)\n",
    "\n",
    "lgb_preds = lgb_model.predict(X_test)\n",
    "\n",
    "accuracy_score(y_test, lgb_preds)*100"
   ]
  },
  {
   "cell_type": "code",
   "execution_count": 17,
   "id": "0e88af36-7f21-447e-a75d-98998db0d369",
   "metadata": {},
   "outputs": [
    {
     "data": {
      "image/png": "[encoded data removed]",
      "text/plain": [
       "<Figure size 432x288 with 1 Axes>"
      ]
     },
     "metadata": {
      "needs_background": "light"
     },
     "output_type": "display_data"
    }
   ],
   "source": [
    "imprimeMatrizDeConfusão(y_test, lgb_preds, lgb_model)"
   ]
  },
  {
   "cell_type": "markdown",
   "id": "e24c5f84-5452-4bfb-81a8-ccf9dfeaa39f",
   "metadata": {
    "tags": []
   },
   "source": [
    "#### LGB: Busca de melhores hiper parâmetros"
   ]
  },
  {
   "cell_type": "code",
   "execution_count": 95,
   "id": "434f5228-52fb-4376-a958-5d46ce1c5c61",
   "metadata": {},
   "outputs": [],
   "source": [
    "def tune_lgb(params):\n",
    "    learning_rate = params[0]\n",
    "    num_leaves = params[1]\n",
    "    min_child_samples = params[2]\n",
    "    subsample = params[3]\n",
    "    colsample_bytree = params[4]\n",
    "    \n",
    "    print(params, '\\n')\n",
    "    \n",
    "    lgb_Model = LGBMClassifier(learning_rate=learning_rate, num_leaves=num_leaves, min_child_samples=min_child_samples,\n",
    "                        subsample=subsample, colsample_bytree=colsample_bytree, random_state=0, subsample_freq=1, \n",
    "                         n_estimators=100, n_jobs=-1)\n",
    "    \n",
    "    auc = cross_val_score(lgb_Model, X_train, y_train, cv=3, scoring ='accuracy')\n",
    "    \n",
    "    return -auc.mean()\n",
    "\n",
    "space = [(1e-3, 1e-1, 'log-uniform'), #learning rate\n",
    "         (2, 512), # num_leaves\n",
    "         (1, 500), # min_child_samples\n",
    "         (0.05, 1.0), # subsample\n",
    "         (0.1, 1.0)] # colsample bytree"
   ]
  },
  {
   "cell_type": "code",
   "execution_count": 51,
   "id": "87e75be2-a56c-4622-bfd0-98d7ac66f35b",
   "metadata": {},
   "outputs": [
    {
     "name": "stdout",
     "output_type": "stream",
     "text": [
      "Iteration No: 1 started. Evaluating function at random point.\n",
      "[0.015335192657991574, 433, 429, 0.8548891518449193, 0.6612073271073752] \n",
      "\n",
      "Iteration No: 1 ended. Evaluation done at random point.\n",
      "Time taken: 29.7196\n",
      "Function value obtained: -0.7125\n",
      "Current minimum: -0.7125\n",
      "Iteration No: 2 started. Evaluating function at random point.\n",
      "[0.005871694001325899, 154, 29, 0.30902347985110756, 0.529898605589215] \n",
      "\n",
      "Iteration No: 2 ended. Evaluation done at random point.\n",
      "Time taken: 14.8425\n",
      "Function value obtained: -0.6312\n",
      "Current minimum: -0.7125\n",
      "Iteration No: 3 started. Evaluating function at random point.\n",
      "[0.04210536704211821, 247, 197, 0.8442748253605089, 0.40365654437554166] \n",
      "\n",
      "Iteration No: 3 ended. Evaluation done at random point.\n",
      "Time taken: 18.5394\n",
      "Function value obtained: -0.7245\n",
      "Current minimum: -0.7245\n",
      "Iteration No: 4 started. Evaluating function at random point.\n",
      "[0.01978535031094702, 190, 479, 0.1833332413920129, 0.8830785325225929] \n",
      "\n",
      "Iteration No: 4 ended. Evaluation done at random point.\n",
      "Time taken: 13.9401\n",
      "Function value obtained: -0.6858\n",
      "Current minimum: -0.7245\n",
      "Iteration No: 5 started. Evaluating function at random point.\n",
      "[0.008855561236207114, 410, 261, 0.6949355536130124, 0.7485693892533252] \n",
      "\n",
      "Iteration No: 5 ended. Evaluation done at random point.\n",
      "Time taken: 25.3543\n",
      "Function value obtained: -0.6987\n",
      "Current minimum: -0.7245\n",
      "Iteration No: 6 started. Evaluating function at random point.\n",
      "[0.014589472312361858, 276, 380, 0.15061222682840253, 0.5262403774119918] \n",
      "\n",
      "Iteration No: 6 ended. Evaluation done at random point.\n",
      "Time taken: 11.8666\n",
      "Function value obtained: -0.6704\n",
      "Current minimum: -0.7245\n",
      "Iteration No: 7 started. Evaluating function at random point.\n",
      "[0.002358656440793903, 378, 109, 0.17845726473517948, 0.3917269070138928] \n",
      "\n",
      "Iteration No: 7 ended. Evaluation done at random point.\n",
      "Time taken: 21.1395\n",
      "Function value obtained: -0.5477\n",
      "Current minimum: -0.7245\n",
      "Iteration No: 8 started. Evaluating function at random point.\n",
      "[0.0019922770602188436, 115, 194, 0.9074685517529346, 0.504954990920105] \n",
      "\n",
      "Iteration No: 8 ended. Evaluation done at random point.\n",
      "Time taken: 14.6818\n",
      "Function value obtained: -0.5477\n",
      "Current minimum: -0.7245\n",
      "Iteration No: 9 started. Evaluating function at random point.\n",
      "[0.0168316586809914, 462, 51, 0.9713186143594116, 0.687826032218144] \n",
      "\n",
      "Iteration No: 9 ended. Evaluation done at random point.\n",
      "Time taken: 28.8991\n",
      "Function value obtained: -0.7257\n",
      "Current minimum: -0.7257\n",
      "Iteration No: 10 started. Evaluating function at random point.\n",
      "[0.0021969449275369667, 185, 376, 0.6274391352796945, 0.3925425061075173] \n",
      "\n",
      "Iteration No: 10 ended. Evaluation done at random point.\n",
      "Time taken: 22.8922\n",
      "Function value obtained: -0.5477\n",
      "Current minimum: -0.7257\n",
      "Iteration No: 11 started. Searching for the next optimal point.\n",
      "[0.04152517035539242, 512, 1, 1.0, 1.0] \n",
      "\n",
      "Iteration No: 11 ended. Search finished for the next optimal point.\n",
      "Time taken: 30.1537\n",
      "Function value obtained: -0.7310\n",
      "Current minimum: -0.7310\n",
      "Iteration No: 12 started. Searching for the next optimal point.\n",
      "[0.1, 512, 1, 1.0, 1.0] \n",
      "\n",
      "Iteration No: 12 ended. Search finished for the next optimal point.\n",
      "Time taken: 25.0507\n",
      "Function value obtained: -0.7316\n",
      "Current minimum: -0.7316\n",
      "Iteration No: 13 started. Searching for the next optimal point.\n",
      "[0.1, 512, 1, 0.05, 1.0] \n",
      "\n",
      "Iteration No: 13 ended. Search finished for the next optimal point.\n",
      "Time taken: 29.7018\n",
      "Function value obtained: -0.5548\n",
      "Current minimum: -0.7316\n",
      "Iteration No: 14 started. Searching for the next optimal point.\n",
      "[0.06382001311577044, 2, 500, 1.0, 0.1] \n",
      "\n",
      "Iteration No: 14 ended. Search finished for the next optimal point.\n",
      "Time taken: 5.1039\n",
      "Function value obtained: -0.5907\n",
      "Current minimum: -0.7316\n",
      "Iteration No: 15 started. Searching for the next optimal point.\n",
      "[0.1, 347, 1, 1.0, 1.0] \n",
      "\n",
      "Iteration No: 15 ended. Search finished for the next optimal point.\n",
      "Time taken: 21.3996\n",
      "Function value obtained: -0.7299\n",
      "Current minimum: -0.7316\n",
      "Iteration No: 16 started. Searching for the next optimal point.\n",
      "[0.025654652016450494, 315, 3, 1.0, 0.41261616276271573] \n",
      "\n",
      "Iteration No: 16 ended. Search finished for the next optimal point.\n",
      "Time taken: 23.7534\n",
      "Function value obtained: -0.7218\n",
      "Current minimum: -0.7316\n",
      "Iteration No: 17 started. Searching for the next optimal point.\n",
      "[0.0010307125699909338, 132, 328, 0.8328422619893125, 0.41831776753776884] \n",
      "\n",
      "Iteration No: 17 ended. Search finished for the next optimal point.\n",
      "Time taken: 15.0821\n",
      "Function value obtained: -0.5477\n",
      "Current minimum: -0.7316\n",
      "Iteration No: 18 started. Searching for the next optimal point.\n",
      "[0.02094898001494985, 512, 183, 0.8139714307384595, 0.9534731509588769] \n",
      "\n",
      "Iteration No: 18 ended. Search finished for the next optimal point.\n",
      "Time taken: 33.6163\n",
      "Function value obtained: -0.7256\n",
      "Current minimum: -0.7316\n",
      "Iteration No: 19 started. Searching for the next optimal point.\n",
      "[0.05936867121868703, 512, 93, 1.0, 0.1120527461936336] \n",
      "\n",
      "Iteration No: 19 ended. Search finished for the next optimal point.\n",
      "Time taken: 13.7461\n",
      "Function value obtained: -0.6187\n",
      "Current minimum: -0.7316\n",
      "Iteration No: 20 started. Searching for the next optimal point.\n",
      "[0.1, 512, 1, 1.0, 0.6446300002048094] \n",
      "\n",
      "Iteration No: 20 ended. Search finished for the next optimal point.\n",
      "Time taken: 24.3781\n",
      "Function value obtained: -0.7328\n",
      "Current minimum: -0.7328\n",
      "Iteration No: 21 started. Searching for the next optimal point.\n",
      "[0.038535228916316965, 512, 1, 0.7816850606047989, 0.6648289395154305] \n",
      "\n",
      "Iteration No: 21 ended. Search finished for the next optimal point.\n",
      "Time taken: 34.1644\n",
      "Function value obtained: -0.7318\n",
      "Current minimum: -0.7328\n",
      "Iteration No: 22 started. Searching for the next optimal point.\n",
      "[0.044175100170350035, 512, 1, 1.0, 0.575931563713444] \n",
      "\n",
      "Iteration No: 22 ended. Search finished for the next optimal point.\n",
      "Time taken: 33.9138\n",
      "Function value obtained: -0.7323\n",
      "Current minimum: -0.7328\n",
      "Iteration No: 23 started. Searching for the next optimal point.\n",
      "[0.060043968754359904, 512, 1, 1.0, 0.8294916223819734] \n",
      "\n",
      "Iteration No: 23 ended. Search finished for the next optimal point.\n",
      "Time taken: 30.8087\n",
      "Function value obtained: -0.7326\n",
      "Current minimum: -0.7328\n",
      "Iteration No: 24 started. Searching for the next optimal point.\n",
      "[0.001, 512, 500, 0.05, 1.0] \n",
      "\n",
      "Iteration No: 24 ended. Search finished for the next optimal point.\n",
      "Time taken: 8.3779\n",
      "Function value obtained: -0.5477\n",
      "Current minimum: -0.7328\n",
      "Iteration No: 25 started. Searching for the next optimal point.\n",
      "[0.01204344298474964, 175, 1, 1.0, 1.0] \n",
      "\n",
      "Iteration No: 25 ended. Search finished for the next optimal point.\n",
      "Time taken: 17.8506\n",
      "Function value obtained: -0.7044\n",
      "Current minimum: -0.7328\n",
      "Iteration No: 26 started. Searching for the next optimal point.\n",
      "[0.1, 512, 500, 1.0, 0.8907571533195638] \n",
      "\n",
      "Iteration No: 26 ended. Search finished for the next optimal point.\n",
      "Time taken: 33.6191\n",
      "Function value obtained: -0.7310\n",
      "Current minimum: -0.7328\n",
      "Iteration No: 27 started. Searching for the next optimal point.\n",
      "[0.030858365803716984, 512, 1, 0.6841203152713075, 0.4810966133120873] \n",
      "\n",
      "Iteration No: 27 ended. Search finished for the next optimal point.\n",
      "Time taken: 26.9042\n",
      "Function value obtained: -0.7296\n",
      "Current minimum: -0.7328\n",
      "Iteration No: 28 started. Searching for the next optimal point.\n",
      "[0.1, 501, 1, 0.05, 0.2961608646804801] \n",
      "\n",
      "Iteration No: 28 ended. Search finished for the next optimal point.\n",
      "Time taken: 22.3194\n",
      "Function value obtained: -0.6285\n",
      "Current minimum: -0.7328\n",
      "Iteration No: 29 started. Searching for the next optimal point.\n",
      "[0.01961336069238679, 2, 1, 0.6725925607379013, 0.775039330068006] \n",
      "\n",
      "Iteration No: 29 ended. Search finished for the next optimal point.\n",
      "Time taken: 5.5568\n",
      "Function value obtained: -0.5477\n",
      "Current minimum: -0.7328\n",
      "Iteration No: 30 started. Searching for the next optimal point.\n",
      "[0.09359895898286255, 277, 1, 0.900149273842846, 0.5516254504458544] \n",
      "\n",
      "Iteration No: 30 ended. Search finished for the next optimal point.\n",
      "Time taken: 17.3531\n",
      "Function value obtained: -0.7294\n",
      "Current minimum: -0.7328\n",
      "Iteration No: 31 started. Searching for the next optimal point.\n",
      "[0.02729987239830612, 283, 1, 1.0, 1.0] \n",
      "\n",
      "Iteration No: 31 ended. Search finished for the next optimal point.\n",
      "Time taken: 21.8196\n",
      "Function value obtained: -0.7236\n",
      "Current minimum: -0.7328\n",
      "Iteration No: 32 started. Searching for the next optimal point.\n",
      "[0.1, 303, 1, 0.5324235621287423, 0.3894495641730731] \n",
      "\n",
      "Iteration No: 32 ended. Search finished for the next optimal point.\n",
      "Time taken: 17.7103\n",
      "Function value obtained: -0.7280\n",
      "Current minimum: -0.7328\n",
      "Iteration No: 33 started. Searching for the next optimal point.\n",
      "[0.1, 147, 82, 0.05, 0.17717334783160543] \n",
      "\n",
      "Iteration No: 33 ended. Search finished for the next optimal point.\n",
      "Time taken: 13.2654\n",
      "Function value obtained: -0.6746\n",
      "Current minimum: -0.7328\n",
      "Iteration No: 34 started. Searching for the next optimal point.\n",
      "[0.0013540215888863285, 512, 1, 1.0, 1.0] \n",
      "\n",
      "Iteration No: 34 ended. Search finished for the next optimal point.\n",
      "Time taken: 41.8642\n",
      "Function value obtained: -0.5477\n",
      "Current minimum: -0.7328\n",
      "Iteration No: 35 started. Searching for the next optimal point.\n",
      "[0.1, 408, 1, 1.0, 0.7011113993127891] \n",
      "\n",
      "Iteration No: 35 ended. Search finished for the next optimal point.\n",
      "Time taken: 17.7698\n",
      "Function value obtained: -0.7313\n",
      "Current minimum: -0.7328\n",
      "Iteration No: 36 started. Searching for the next optimal point.\n",
      "[0.010940100965129899, 339, 1, 1.0, 1.0] \n",
      "\n",
      "Iteration No: 36 ended. Search finished for the next optimal point.\n",
      "Time taken: 24.9496\n",
      "Function value obtained: -0.7136\n",
      "Current minimum: -0.7328\n",
      "Iteration No: 37 started. Searching for the next optimal point.\n",
      "[0.1, 253, 1, 1.0, 0.1] \n",
      "\n",
      "Iteration No: 37 ended. Search finished for the next optimal point.\n",
      "Time taken: 13.5345\n",
      "Function value obtained: -0.6266\n",
      "Current minimum: -0.7328\n",
      "Iteration No: 38 started. Searching for the next optimal point.\n",
      "[0.04446286388718111, 316, 1, 0.6936169793206535, 0.5452134078532771] \n",
      "\n",
      "Iteration No: 38 ended. Search finished for the next optimal point.\n",
      "Time taken: 18.8796\n",
      "Function value obtained: -0.7287\n",
      "Current minimum: -0.7328\n",
      "Iteration No: 39 started. Searching for the next optimal point.\n",
      "[0.001, 2, 439, 0.05, 1.0] \n",
      "\n",
      "Iteration No: 39 ended. Search finished for the next optimal point.\n",
      "Time taken: 4.8514\n",
      "Function value obtained: -0.5477\n",
      "Current minimum: -0.7328\n",
      "Iteration No: 40 started. Searching for the next optimal point.\n",
      "[0.02048842942604712, 512, 1, 0.4939056385599997, 1.0] \n",
      "\n",
      "Iteration No: 40 ended. Search finished for the next optimal point.\n",
      "Time taken: 30.0143\n",
      "Function value obtained: -0.7276\n",
      "Current minimum: -0.7328\n",
      "Iteration No: 41 started. Searching for the next optimal point.\n",
      "[0.1, 512, 1, 0.6528008527393371, 1.0] \n",
      "\n",
      "Iteration No: 41 ended. Search finished for the next optimal point.\n",
      "Time taken: 33.2739\n",
      "Function value obtained: -0.7313\n",
      "Current minimum: -0.7328\n",
      "Iteration No: 42 started. Searching for the next optimal point.\n",
      "[0.07786843179619647, 421, 1, 0.6880385401872114, 0.5199760145115623] \n",
      "\n",
      "Iteration No: 42 ended. Search finished for the next optimal point.\n",
      "Time taken: 29.7375\n",
      "Function value obtained: -0.7311\n",
      "Current minimum: -0.7328\n",
      "Iteration No: 43 started. Searching for the next optimal point.\n",
      "[0.029267246269486447, 498, 1, 0.5793261114993676, 0.7373329368314933] \n",
      "\n",
      "Iteration No: 43 ended. Search finished for the next optimal point.\n",
      "Time taken: 32.1029\n",
      "Function value obtained: -0.7302\n",
      "Current minimum: -0.7328\n",
      "Iteration No: 44 started. Searching for the next optimal point.\n",
      "[0.044127362060230685, 336, 1, 0.4281297572717737, 0.1] \n",
      "\n",
      "Iteration No: 44 ended. Search finished for the next optimal point.\n",
      "Time taken: 16.0952\n",
      "Function value obtained: -0.6107\n",
      "Current minimum: -0.7328\n",
      "Iteration No: 45 started. Searching for the next optimal point.\n",
      "[0.03600444784783544, 452, 1, 0.6453424327951299, 1.0] \n",
      "\n",
      "Iteration No: 45 ended. Search finished for the next optimal point.\n",
      "Time taken: 28.1612\n",
      "Function value obtained: -0.7300\n",
      "Current minimum: -0.7328\n",
      "Iteration No: 46 started. Searching for the next optimal point.\n",
      "[0.1, 2, 1, 0.05, 0.5598600297080241] \n",
      "\n",
      "Iteration No: 46 ended. Search finished for the next optimal point.\n",
      "Time taken: 4.9562\n",
      "Function value obtained: -0.6103\n",
      "Current minimum: -0.7328\n",
      "Iteration No: 47 started. Searching for the next optimal point.\n",
      "[0.06361529101720967, 346, 1, 1.0, 0.48275514518838525] \n",
      "\n",
      "Iteration No: 47 ended. Search finished for the next optimal point.\n",
      "Time taken: 20.4535\n",
      "Function value obtained: -0.7302\n",
      "Current minimum: -0.7328\n",
      "Iteration No: 48 started. Searching for the next optimal point.\n",
      "[0.1, 292, 1, 0.7170450650953838, 0.4509790120743026] \n",
      "\n",
      "Iteration No: 48 ended. Search finished for the next optimal point.\n",
      "Time taken: 17.1824\n",
      "Function value obtained: -0.7285\n",
      "Current minimum: -0.7328\n",
      "Iteration No: 49 started. Searching for the next optimal point.\n",
      "[0.041459936807041346, 299, 1, 1.0, 0.5906098727376913] \n",
      "\n",
      "Iteration No: 49 ended. Search finished for the next optimal point.\n",
      "Time taken: 21.0677\n",
      "Function value obtained: -0.7283\n",
      "Current minimum: -0.7328\n",
      "Iteration No: 50 started. Searching for the next optimal point.\n",
      "[0.08407166385985992, 512, 1, 0.8061304036499679, 1.0] \n",
      "\n",
      "Iteration No: 50 ended. Search finished for the next optimal point.\n",
      "Time taken: 26.9869\n",
      "Function value obtained: -0.7320\n",
      "Current minimum: -0.7328\n",
      "CPU times: user 2h 8min 46s, sys: 43.8 s, total: 2h 9min 30s\n",
      "Wall time: 18min 9s\n"
     ]
    }
   ],
   "source": [
    "%%time\n",
    "resultados_lgb = gp_minimize(tune_lgb, space, random_state=0, verbose=1, n_calls=50, n_random_starts=10, n_jobs=-1)"
   ]
  },
  {
   "cell_type": "code",
   "execution_count": 52,
   "id": "40f88dd1-fb21-4671-86e5-1e3fcf533468",
   "metadata": {},
   "outputs": [
    {
     "data": {
      "text/plain": [
       "[0.1, 512, 1, 1.0, 0.6446300002048094]"
      ]
     },
     "execution_count": 52,
     "metadata": {},
     "output_type": "execute_result"
    }
   ],
   "source": [
    "resultados_lgb.x"
   ]
  },
  {
   "cell_type": "code",
   "execution_count": 19,
   "id": "58a60aa7-919a-401c-86f1-eba188c6832f",
   "metadata": {},
   "outputs": [],
   "source": [
    "# Melhores hiper parâmetros para o conjunto PRO: learning_rate=0.1, num_leaves=512, min_child_samples=1, subsample=1.0, colsample_bytree=0.662, random_state=0, subsample_freq=1, n_estimators=100, n_jobs=-1"
   ]
  },
  {
   "cell_type": "code",
   "execution_count": 18,
   "id": "0f74c99d-38fb-4885-a301-e16794c3a827",
   "metadata": {},
   "outputs": [
    {
     "data": {
      "text/plain": [
       "<AxesSubplot:title={'center':'Convergence plot'}, xlabel='Number of calls $n$', ylabel='$\\\\min f(x)$ after $n$ calls'>"
      ]
     },
     "execution_count": 18,
     "metadata": {},
     "output_type": "execute_result"
    },
    {
     "data": {
      "image/png": "[encoded data removed]",
      "text/plain": [
       "<Figure size 432x288 with 1 Axes>"
      ]
     },
     "metadata": {
      "needs_background": "light"
     },
     "output_type": "display_data"
    }
   ],
   "source": [
    "from skopt.plots import plot_convergence\n",
    "plot_convergence(resultados_lgb)"
   ]
  },
  {
   "cell_type": "code",
   "execution_count": 36,
   "id": "c955ced3-7fd5-4923-b596-82514d1962f7",
   "metadata": {},
   "outputs": [],
   "source": [
    "# Melhores hiper parâmetros para o conjunto PNP: learning_rate=0.1, num_leaves=512, min_child_samples=88, subsample=0.729, colsample_bytree=0.671, random_state=0, subsample_freq=1, n_estimators=100, n_jobs=-1"
   ]
  },
  {
   "cell_type": "code",
   "execution_count": 86,
   "id": "0129d8ab-0bd3-45bc-965a-92d2ae17b22e",
   "metadata": {},
   "outputs": [
    {
     "data": {
      "text/plain": [
       "<AxesSubplot:title={'center':'Convergence plot'}, xlabel='Number of calls $n$', ylabel='$\\\\min f(x)$ after $n$ calls'>"
      ]
     },
     "execution_count": 86,
     "metadata": {},
     "output_type": "execute_result"
    },
    {
     "data": {
      "image/png": "[encoded data removed]",
      "text/plain": [
       "<Figure size 432x288 with 1 Axes>"
      ]
     },
     "metadata": {
      "needs_background": "light"
     },
     "output_type": "display_data"
    }
   ],
   "source": [
    "from skopt.plots import plot_convergence\n",
    "plot_convergence(resultados_lgb)"
   ]
  },
  {
   "cell_type": "markdown",
   "id": "e0d5d923-0e6c-435c-a208-93d47d497c8b",
   "metadata": {},
   "source": [
    "#### LGB: Treinamento com os melhores hiper parâmetros"
   ]
  },
  {
   "cell_type": "code",
   "execution_count": 22,
   "id": "48b3bb99-97cb-435d-9d11-1b534df92f17",
   "metadata": {},
   "outputs": [
    {
     "name": "stdout",
     "output_type": "stream",
     "text": [
      "CPU times: user 25 s, sys: 124 ms, total: 25.1 s\n",
      "Wall time: 3.56 s\n"
     ]
    },
    {
     "data": {
      "text/plain": [
       "79.76859095775343"
      ]
     },
     "execution_count": 22,
     "metadata": {},
     "output_type": "execute_result"
    }
   ],
   "source": [
    "%%time\n",
    "lgb_model = LGBMClassifier(learning_rate=0.1, num_leaves=512, min_child_samples=88, subsample=0.729, colsample_bytree=0.671, random_state=0, subsample_freq=1, n_estimators=100, n_jobs=-1)\n",
    "lgb_model.fit(X_train, y_train)\n",
    "\n",
    "lgb_preds = lgb_model.predict(X_test)\n",
    "\n",
    "accuracy_score(y_test, lgb_preds)*100"
   ]
  },
  {
   "cell_type": "code",
   "execution_count": 23,
   "id": "21dbe81b-c998-4ee5-9f2f-5744d7c75ea3",
   "metadata": {},
   "outputs": [
    {
     "data": {
      "text/plain": [
       "{'Não Pastejando': {'precision': 0.7978580726598556,\n",
       "  'recall': 0.7385842873053258,\n",
       "  'f1-score': 0.7670778303452069,\n",
       "  'support': 54771,\n",
       "  'specificity': 0.8462473184416208,\n",
       "  'npv': 0.797562492930664},\n",
       " 'Pastejando': {'precision': 0.797562492930664,\n",
       "  'recall': 0.8462473184416208,\n",
       "  'f1-score': 0.8211839548137743,\n",
       "  'support': 66659,\n",
       "  'specificity': 0.7385842873053258,\n",
       "  'npv': 0.7978580726598556},\n",
       " 'accuracy': 0.7976859095775344,\n",
       " 'macro avg': {'precision': 0.7977102827952598,\n",
       "  'recall': 0.7924158028734734,\n",
       "  'f1-score': 0.7941308925794905,\n",
       "  'support': 121430},\n",
       " 'weighted avg': {'precision': 0.7976958141638647,\n",
       "  'recall': 0.7976859095775344,\n",
       "  'f1-score': 0.7967793880405888,\n",
       "  'support': 121430}}"
      ]
     },
     "execution_count": 23,
     "metadata": {},
     "output_type": "execute_result"
    }
   ],
   "source": [
    "classification_report_extendido(y_test, lgb_preds)"
   ]
  },
  {
   "cell_type": "code",
   "execution_count": 24,
   "id": "101de7f0-be5e-4278-9494-4cd9807b193a",
   "metadata": {},
   "outputs": [
    {
     "name": "stdout",
     "output_type": "stream",
     "text": [
      "                precision    recall  f1-score   support\n",
      "\n",
      "Não Pastejando      0.798     0.739     0.767     54771\n",
      "    Pastejando      0.798     0.846     0.821     66659\n",
      "\n",
      "      accuracy                          0.798    121430\n",
      "     macro avg      0.798     0.792     0.794    121430\n",
      "  weighted avg      0.798     0.798     0.797    121430\n",
      "\n"
     ]
    }
   ],
   "source": [
    "print(classification_report(y_test, lgb_preds, digits=3))"
   ]
  },
  {
   "cell_type": "code",
   "execution_count": 45,
   "id": "fda32d2e-57ea-41b5-ac7d-08e27393ed52",
   "metadata": {},
   "outputs": [
    {
     "data": {
      "image/png": "[encoded data removed]",
      "text/plain": [
       "<Figure size 432x288 with 1 Axes>"
      ]
     },
     "metadata": {
      "needs_background": "light"
     },
     "output_type": "display_data"
    }
   ],
   "source": [
    "imprimeMatrizDeConfusão(y_test, lgb_preds, lgb_model)"
   ]
  },
  {
   "cell_type": "code",
   "execution_count": 217,
   "id": "ed91f118-c28d-4b4e-aab9-f86d6070eda2",
   "metadata": {},
   "outputs": [
    {
     "data": {
      "text/plain": [
       "82.02956435806638"
      ]
     },
     "execution_count": 217,
     "metadata": {},
     "output_type": "execute_result"
    }
   ],
   "source": [
    "lgb_preds = lgb_model.predict(X_train)\n",
    "\n",
    "accuracy_score(y_train, lgb_preds)*100"
   ]
  },
  {
   "cell_type": "markdown",
   "id": "a591d908-5401-45b0-8c2a-c5fcd67d859c",
   "metadata": {
    "tags": []
   },
   "source": [
    "### Random Forest"
   ]
  },
  {
   "cell_type": "code",
   "execution_count": 14,
   "id": "fe1c00f4-d653-43d0-82ea-76a24658d435",
   "metadata": {},
   "outputs": [],
   "source": [
    "from sklearn.ensemble import RandomForestClassifier"
   ]
  },
  {
   "cell_type": "markdown",
   "id": "743f8394-508b-46ab-aab2-fe933f50afc0",
   "metadata": {
    "tags": []
   },
   "source": [
    "#### Com Randomized Search CV"
   ]
  },
  {
   "cell_type": "code",
   "execution_count": 39,
   "id": "b542573e-ac80-4cfd-90d1-d2f62f1d1381",
   "metadata": {},
   "outputs": [],
   "source": [
    "rf_Model = RandomForestClassifier(random_state=0, n_jobs=-1)"
   ]
  },
  {
   "cell_type": "code",
   "execution_count": 40,
   "id": "ff1b316b-878d-4413-b406-2dad5f1af598",
   "metadata": {},
   "outputs": [],
   "source": [
    "# Create the param grid\n",
    "rf_param_grid = {'n_estimators':  np.arange(50, 250, 50),\n",
    "               'max_features': ['auto', 'sqrt'],\n",
    "               'max_depth':[50, 100, 150, None],\n",
    "               'criterion': ['gini', 'entropy'],\n",
    "               'min_samples_split': [2, 5, 10, 30, 50],\n",
    "               'min_samples_leaf': [1, 2],\n",
    "               'bootstrap': [True, False]}"
   ]
  },
  {
   "cell_type": "code",
   "execution_count": 41,
   "id": "350214e8-18c1-4035-8776-9dd99ff77d69",
   "metadata": {},
   "outputs": [],
   "source": [
    "rf_RandomGrid = RandomizedSearchCV(estimator = rf_Model, param_distributions = rf_param_grid, cv = 3, verbose=1, random_state=0)"
   ]
  },
  {
   "cell_type": "code",
   "execution_count": null,
   "id": "65bbf8ae-d2ec-4aae-a1d6-311f8c87efde",
   "metadata": {},
   "outputs": [
    {
     "name": "stdout",
     "output_type": "stream",
     "text": [
      "Fitting 3 folds for each of 10 candidates, totalling 30 fits\n"
     ]
    }
   ],
   "source": [
    "%%time\n",
    "rf_RandomGrid.fit(X_train, y_train)"
   ]
  },
  {
   "cell_type": "code",
   "execution_count": 46,
   "id": "1a185d22-dc76-4b3c-9b0d-c116e1b600ec",
   "metadata": {},
   "outputs": [
    {
     "data": {
      "text/plain": [
       "{'n_estimators': 150,\n",
       " 'min_samples_split': 30,\n",
       " 'min_samples_leaf': 1,\n",
       " 'max_features': 'sqrt',\n",
       " 'max_depth': 100,\n",
       " 'criterion': 'entropy',\n",
       " 'bootstrap': False}"
      ]
     },
     "execution_count": 46,
     "metadata": {},
     "output_type": "execute_result"
    }
   ],
   "source": [
    "rf_RandomGrid.best_params_"
   ]
  },
  {
   "cell_type": "code",
   "execution_count": 48,
   "id": "0aff82cb-0df3-4ae4-aa33-344e57df905e",
   "metadata": {},
   "outputs": [
    {
     "data": {
      "text/plain": [
       "0.7361747363918738"
      ]
     },
     "execution_count": 48,
     "metadata": {},
     "output_type": "execute_result"
    }
   ],
   "source": [
    "rf_RandomGrid.best_score_"
   ]
  },
  {
   "cell_type": "code",
   "execution_count": 50,
   "id": "b5a1add5-c981-4fcf-8e30-8877a9eb3e2e",
   "metadata": {},
   "outputs": [],
   "source": [
    "preds_rf_RG = rf_RandomGrid.predict(X_test)"
   ]
  },
  {
   "cell_type": "code",
   "execution_count": 51,
   "id": "2e267934-e574-4e5f-80e2-1533c1056195",
   "metadata": {},
   "outputs": [
    {
     "data": {
      "text/plain": [
       "74.09413128837589"
      ]
     },
     "execution_count": 51,
     "metadata": {},
     "output_type": "execute_result"
    }
   ],
   "source": [
    "accuracy_score(y_test, preds_rf_RG)*100"
   ]
  },
  {
   "cell_type": "code",
   "execution_count": 52,
   "id": "0fa1f74a-8f43-4dcf-8e92-d6dd1d23d933",
   "metadata": {},
   "outputs": [
    {
     "data": {
      "image/png": "[encoded data removed]",
      "text/plain": [
       "<Figure size 432x288 with 1 Axes>"
      ]
     },
     "metadata": {
      "needs_background": "light"
     },
     "output_type": "display_data"
    }
   ],
   "source": [
    "imprimeMatrizDeConfusão(y_test, preds_rf_RG, rf_RandomGrid)"
   ]
  },
  {
   "cell_type": "markdown",
   "id": "8ed14ff0-3ffc-4ae6-b53a-fc78dda1c046",
   "metadata": {
    "tags": []
   },
   "source": [
    "#### RF: Busca de melhores hiper parâmetros"
   ]
  },
  {
   "cell_type": "code",
   "execution_count": 92,
   "id": "340c8159-d9e2-4df7-812b-92ce5ded12ea",
   "metadata": {},
   "outputs": [],
   "source": [
    "def tune_rf(params):\n",
    "    n_estimators = params[0]\n",
    "    max_features = params[1]\n",
    "    max_depth = params[2]\n",
    "    criterion = params[3]\n",
    "    min_samples_split = params[4]\n",
    "    min_samples_leaf = params[5]\n",
    "    bootstrap = params[6]\n",
    "    \n",
    "    print(params, '\\n')\n",
    "    \n",
    "    rf_Model = RandomForestClassifier(n_estimators=n_estimators, max_features=max_features, max_depth=max_depth, criterion=criterion, min_samples_split=min_samples_split,\n",
    "                                       min_samples_leaf = min_samples_leaf, bootstrap=bootstrap, random_state=0, n_jobs=-1)\n",
    "    \n",
    "    auc = cross_val_score(rf_Model, X_train, y_train, cv=3, scoring ='accuracy')\n",
    "    \n",
    "    return -auc.mean()\n",
    "\n",
    "space = [ np.arange(50, 250, 50), # n_estimators\n",
    "         ['auto', 'sqrt'], # max_features\n",
    "         [50, 100, 150, None], # max_depth\n",
    "         ['gini', 'entropy'], # criterion\n",
    "         [2, 5, 10, 30, 50], # min_samples_split\n",
    "         [1,2,4], # min_samples_leaf\n",
    "         [True, False]] # bootstrap] "
   ]
  },
  {
   "cell_type": "code",
   "execution_count": 93,
   "id": "cfcb72c0-996f-44f1-83be-7cb3964a6795",
   "metadata": {},
   "outputs": [
    {
     "name": "stdout",
     "output_type": "stream",
     "text": [
      "Iteration No: 1 started. Evaluating function at random point.\n",
      "[150, 'sqrt', None, 'gini', 10, 2, False] \n",
      "\n",
      "Iteration No: 1 ended. Evaluation done at random point.\n",
      "Time taken: 118.0591\n",
      "Function value obtained: -0.7941\n",
      "Current minimum: -0.7941\n",
      "Iteration No: 2 started. Evaluating function at random point.\n",
      "[50, 'auto', 100, 'gini', 10, 2, True] \n",
      "\n",
      "Iteration No: 2 ended. Evaluation done at random point.\n",
      "Time taken: 31.4995\n",
      "Function value obtained: -0.7960\n",
      "Current minimum: -0.7960\n",
      "Iteration No: 3 started. Evaluating function at random point.\n",
      "[100, 'sqrt', 100, 'gini', 5, 4, False] \n",
      "\n",
      "Iteration No: 3 ended. Evaluation done at random point.\n",
      "Time taken: 78.5794\n",
      "Function value obtained: -0.7949\n",
      "Current minimum: -0.7960\n",
      "Iteration No: 4 started. Evaluating function at random point.\n",
      "[150, 'sqrt', 150, 'gini', 10, 2, True] \n",
      "\n",
      "Iteration No: 4 ended. Evaluation done at random point.\n",
      "Time taken: 85.1647\n",
      "Function value obtained: -0.7974\n",
      "Current minimum: -0.7974\n",
      "Iteration No: 5 started. Evaluating function at random point.\n",
      "[50, 'auto', 100, 'gini', 5, 1, False] \n",
      "\n",
      "Iteration No: 5 ended. Evaluation done at random point.\n",
      "Time taken: 47.5730\n",
      "Function value obtained: -0.7873\n",
      "Current minimum: -0.7974\n",
      "Iteration No: 6 started. Evaluating function at random point.\n",
      "[50, 'auto', 100, 'gini', 10, 2, True] \n",
      "\n",
      "Iteration No: 6 ended. Evaluation done at random point.\n",
      "Time taken: 32.8329\n",
      "Function value obtained: -0.7960\n",
      "Current minimum: -0.7974\n",
      "Iteration No: 7 started. Evaluating function at random point.\n",
      "[50, 'sqrt', 150, 'entropy', 5, 4, True] \n",
      "\n",
      "Iteration No: 7 ended. Evaluation done at random point.\n",
      "Time taken: 37.6415\n",
      "Function value obtained: -0.7966\n",
      "Current minimum: -0.7974\n",
      "Iteration No: 8 started. Evaluating function at random point.\n",
      "[100, 'auto', 150, 'gini', 30, 2, True] \n",
      "\n",
      "Iteration No: 8 ended. Evaluation done at random point.\n",
      "Time taken: 60.8497\n",
      "Function value obtained: -0.7979\n",
      "Current minimum: -0.7979\n",
      "Iteration No: 9 started. Evaluating function at random point.\n",
      "[150, 'auto', 100, 'gini', 5, 2, False] \n",
      "\n",
      "Iteration No: 9 ended. Evaluation done at random point.\n",
      "Time taken: 127.0922\n",
      "Function value obtained: -0.7901\n",
      "Current minimum: -0.7979\n",
      "Iteration No: 10 started. Evaluating function at random point.\n",
      "[150, 'sqrt', 150, 'entropy', 10, 2, True] \n",
      "\n",
      "Iteration No: 10 ended. Evaluation done at random point.\n",
      "Time taken: 106.0049\n",
      "Function value obtained: -0.7975\n",
      "Current minimum: -0.7979\n",
      "Iteration No: 11 started. Evaluating function at random point.\n",
      "[200, 'sqrt', 50, 'entropy', 2, 2, True] \n",
      "\n",
      "Iteration No: 11 ended. Evaluation done at random point.\n",
      "Time taken: 139.8922\n",
      "Function value obtained: -0.7966\n",
      "Current minimum: -0.7979\n",
      "Iteration No: 12 started. Evaluating function at random point.\n",
      "[100, 'auto', 150, 'gini', 50, 1, True] \n",
      "\n",
      "Iteration No: 12 ended. Evaluation done at random point.\n",
      "Time taken: 56.4697\n",
      "Function value obtained: -0.7974\n",
      "Current minimum: -0.7979\n",
      "Iteration No: 13 started. Evaluating function at random point.\n",
      "[200, 'sqrt', None, 'gini', 2, 2, False] \n",
      "\n",
      "Iteration No: 13 ended. Evaluation done at random point.\n",
      "Time taken: 163.1719\n",
      "Function value obtained: -0.7897\n",
      "Current minimum: -0.7979\n",
      "Iteration No: 14 started. Evaluating function at random point.\n",
      "[200, 'sqrt', None, 'entropy', 10, 2, False] \n",
      "\n",
      "Iteration No: 14 ended. Evaluation done at random point.\n",
      "Time taken: 221.7297\n",
      "Function value obtained: -0.7943\n",
      "Current minimum: -0.7979\n",
      "Iteration No: 15 started. Evaluating function at random point.\n",
      "[100, 'auto', 150, 'gini', 5, 2, True] \n",
      "\n",
      "Iteration No: 15 ended. Evaluation done at random point.\n",
      "Time taken: 62.3635\n",
      "Function value obtained: -0.7960\n",
      "Current minimum: -0.7979\n",
      "Iteration No: 16 started. Searching for the next optimal point.\n",
      "[150, 'sqrt', 50, 'entropy', 30, 1, True] \n",
      "\n",
      "Iteration No: 16 ended. Search finished for the next optimal point.\n",
      "Time taken: 106.9153\n",
      "Function value obtained: -0.7984\n",
      "Current minimum: -0.7984\n",
      "Iteration No: 17 started. Searching for the next optimal point.\n",
      "[150, 'auto', None, 'entropy', 30, 4, True] \n",
      "\n",
      "Iteration No: 17 ended. Search finished for the next optimal point.\n",
      "Time taken: 103.8074\n",
      "Function value obtained: -0.7983\n",
      "Current minimum: -0.7984\n",
      "Iteration No: 18 started. Searching for the next optimal point.\n",
      "[150, 'sqrt', None, 'entropy', 50, 4, True] \n",
      "\n",
      "Iteration No: 18 ended. Search finished for the next optimal point.\n",
      "Time taken: 104.7594\n",
      "Function value obtained: -0.7975\n",
      "Current minimum: -0.7984\n",
      "Iteration No: 19 started. Searching for the next optimal point.\n",
      "[100, 'auto', 150, 'entropy', 50, 4, False] \n",
      "\n",
      "Iteration No: 19 ended. Search finished for the next optimal point.\n",
      "Time taken: 96.6019\n",
      "Function value obtained: -0.7981\n",
      "Current minimum: -0.7984\n",
      "Iteration No: 20 started. Searching for the next optimal point.\n",
      "[100, 'auto', 150, 'entropy', 10, 4, False] \n",
      "\n",
      "Iteration No: 20 ended. Search finished for the next optimal point.\n",
      "Time taken: 103.8037\n",
      "Function value obtained: -0.7950\n",
      "Current minimum: -0.7984\n",
      "Iteration No: 21 started. Searching for the next optimal point.\n",
      "[200, 'sqrt', 50, 'entropy', 30, 1, True] \n",
      "\n",
      "Iteration No: 21 ended. Search finished for the next optimal point.\n",
      "Time taken: 141.6705\n",
      "Function value obtained: -0.7988\n",
      "Current minimum: -0.7988\n",
      "Iteration No: 22 started. Searching for the next optimal point.\n",
      "[200, 'sqrt', 150, 'entropy', 10, 1, True] \n",
      "\n",
      "Iteration No: 22 ended. Search finished for the next optimal point.\n",
      "Time taken: 155.6620\n",
      "Function value obtained: -0.7979\n",
      "Current minimum: -0.7988\n",
      "Iteration No: 23 started. Searching for the next optimal point.\n",
      "[200, 'sqrt', 50, 'entropy', 30, 4, False] \n",
      "\n",
      "Iteration No: 23 ended. Search finished for the next optimal point.\n",
      "Time taken: 195.7500\n",
      "Function value obtained: -0.7981\n",
      "Current minimum: -0.7988\n",
      "Iteration No: 24 started. Searching for the next optimal point.\n",
      "[200, 'sqrt', 100, 'entropy', 50, 2, True] \n",
      "\n",
      "Iteration No: 24 ended. Search finished for the next optimal point.\n",
      "Time taken: 139.4251\n",
      "Function value obtained: -0.7978\n",
      "Current minimum: -0.7988\n",
      "Iteration No: 25 started. Searching for the next optimal point.\n",
      "[200, 'sqrt', 50, 'entropy', 50, 2, False] \n",
      "\n",
      "Iteration No: 25 ended. Search finished for the next optimal point.\n",
      "Time taken: 200.4195\n",
      "Function value obtained: -0.7984\n",
      "Current minimum: -0.7988\n",
      "Iteration No: 26 started. Searching for the next optimal point.\n",
      "[200, 'auto', 150, 'entropy', 2, 4, True] \n",
      "\n",
      "Iteration No: 26 ended. Search finished for the next optimal point.\n",
      "Time taken: 147.2166\n",
      "Function value obtained: -0.7981\n",
      "Current minimum: -0.7988\n",
      "Iteration No: 27 started. Searching for the next optimal point.\n",
      "[200, 'sqrt', 100, 'gini', 50, 4, False] \n",
      "\n",
      "Iteration No: 27 ended. Search finished for the next optimal point.\n",
      "Time taken: 158.9273\n",
      "Function value obtained: -0.7982\n",
      "Current minimum: -0.7988\n",
      "Iteration No: 28 started. Searching for the next optimal point.\n",
      "[50, 'auto', None, 'gini', 30, 1, False] \n",
      "\n",
      "Iteration No: 28 ended. Search finished for the next optimal point.\n",
      "Time taken: 47.0846\n",
      "Function value obtained: -0.7969\n",
      "Current minimum: -0.7988\n",
      "Iteration No: 29 started. Searching for the next optimal point.\n",
      "[200, 'sqrt', 150, 'entropy', 50, 1, False] \n",
      "\n",
      "Iteration No: 29 ended. Search finished for the next optimal point.\n",
      "Time taken: 198.3063\n",
      "Function value obtained: -0.7983\n",
      "Current minimum: -0.7988\n",
      "Iteration No: 30 started. Searching for the next optimal point.\n",
      "[200, 'auto', 150, 'entropy', 2, 4, False] \n",
      "\n",
      "Iteration No: 30 ended. Search finished for the next optimal point.\n",
      "Time taken: 199.7184\n",
      "Function value obtained: -0.7949\n",
      "Current minimum: -0.7988\n",
      "CPU times: user 14min 44s, sys: 15.7 s, total: 15min\n",
      "Wall time: 57min 49s\n"
     ]
    }
   ],
   "source": [
    "%%time\n",
    "from skopt import forest_minimize\n",
    "resultado_rf = gp_minimize(tune_rf, space, random_state=0, verbose=1, n_calls=30, n_random_starts=15, n_jobs=-1)"
   ]
  },
  {
   "cell_type": "code",
   "execution_count": 96,
   "id": "cbf4229a-e3c2-4f16-a1ae-6a0a89c8d146",
   "metadata": {},
   "outputs": [
    {
     "data": {
      "text/plain": [
       "[200, 'sqrt', 50, 'entropy', 30, 1, True]"
      ]
     },
     "execution_count": 96,
     "metadata": {},
     "output_type": "execute_result"
    }
   ],
   "source": [
    "resultado_rf.x"
   ]
  },
  {
   "cell_type": "code",
   "execution_count": 63,
   "id": "c863cc6f-857a-4668-8e2b-1e739c46ba9a",
   "metadata": {},
   "outputs": [],
   "source": [
    "# Melhores hiper parâmetros para o conjunto PRO: n_estimators=200, max_features='sqrt', max_depth=None, criterion='entropy', min_samples_split=10, min_samples_leaf=2 , bootstrap=True, random_state=0, n_jobs=-1"
   ]
  },
  {
   "cell_type": "code",
   "execution_count": 64,
   "id": "15067489-2e2a-4f95-8d54-3f844f94ca2b",
   "metadata": {},
   "outputs": [
    {
     "data": {
      "text/plain": [
       "<AxesSubplot:title={'center':'Convergence plot'}, xlabel='Number of calls $n$', ylabel='$\\\\min f(x)$ after $n$ calls'>"
      ]
     },
     "execution_count": 64,
     "metadata": {},
     "output_type": "execute_result"
    },
    {
     "data": {
      "image/png": "[encoded data removed]",
      "text/plain": [
       "<Figure size 432x288 with 1 Axes>"
      ]
     },
     "metadata": {
      "needs_background": "light"
     },
     "output_type": "display_data"
    }
   ],
   "source": [
    "from skopt.plots import plot_convergence\n",
    "plot_convergence(resultado_rf)"
   ]
  },
  {
   "cell_type": "code",
   "execution_count": 97,
   "id": "495b8289-4a49-4cea-aba4-f9f0c17794b2",
   "metadata": {},
   "outputs": [],
   "source": [
    "# Melhores hiper parâmetros para o conjunto PNP: n_estimators=200, max_features='sqrt', max_depth=50, criterion='entropy', min_samples_split=30, min_samples_leaf=1 , bootstrap=True, random_state=0, n_jobs=-1"
   ]
  },
  {
   "cell_type": "code",
   "execution_count": 95,
   "id": "205b4f19-f1b6-42ed-82ea-d0d41d17e3ab",
   "metadata": {},
   "outputs": [
    {
     "data": {
      "text/plain": [
       "<AxesSubplot:title={'center':'Convergence plot'}, xlabel='Number of calls $n$', ylabel='$\\\\min f(x)$ after $n$ calls'>"
      ]
     },
     "execution_count": 95,
     "metadata": {},
     "output_type": "execute_result"
    },
    {
     "data": {
      "image/png": "[encoded data removed]",
      "text/plain": [
       "<Figure size 432x288 with 1 Axes>"
      ]
     },
     "metadata": {
      "needs_background": "light"
     },
     "output_type": "display_data"
    }
   ],
   "source": [
    "from skopt.plots import plot_convergence\n",
    "plot_convergence(resultado_rf)"
   ]
  },
  {
   "cell_type": "markdown",
   "id": "d3bcf807-30d0-4447-bebb-52a977a11ab5",
   "metadata": {},
   "source": [
    "#### RF: Treinamento com os melhores hiper parâmetros"
   ]
  },
  {
   "cell_type": "code",
   "execution_count": 15,
   "id": "3d9295ef-672f-41b2-9356-7890f69861c4",
   "metadata": {
    "tags": []
   },
   "outputs": [
    {
     "name": "stdout",
     "output_type": "stream",
     "text": [
      "CPU times: user 8min 38s, sys: 835 ms, total: 8min 38s\n",
      "Wall time: 1min 10s\n"
     ]
    }
   ],
   "source": [
    "%%time\n",
    "rf_model = RandomForestClassifier(n_estimators=200, max_features='sqrt', max_depth=50, criterion='entropy',\n",
    "                                  min_samples_split=30, min_samples_leaf=1 , bootstrap=True, random_state=0, n_jobs=-1)\n",
    "rf_model.fit(X_train, y_train)\n",
    "preds = rf_model.predict(X_test)"
   ]
  },
  {
   "cell_type": "code",
   "execution_count": 252,
   "id": "018098cc-5978-492b-b35e-c8eea644594a",
   "metadata": {},
   "outputs": [
    {
     "data": {
      "text/plain": [
       "80.1276455571111"
      ]
     },
     "execution_count": 252,
     "metadata": {},
     "output_type": "execute_result"
    }
   ],
   "source": [
    "accuracy_score(y_test, preds)*100"
   ]
  },
  {
   "cell_type": "code",
   "execution_count": 17,
   "id": "9dbf0b15-a4e3-46cd-98b9-acf8820f7832",
   "metadata": {},
   "outputs": [
    {
     "data": {
      "text/plain": [
       "{'Não Pastejando': {'precision': 0.803534633063877,\n",
       "  'recall': 0.7404648445345164,\n",
       "  'f1-score': 0.7707115912697281,\n",
       "  'support': 54771,\n",
       "  'specificity': 0.8512428929326873,\n",
       "  'npv': 0.7996702274584966},\n",
       " 'Pastejando': {'precision': 0.7996702274584966,\n",
       "  'recall': 0.8512428929326873,\n",
       "  'f1-score': 0.8246510242193916,\n",
       "  'support': 66659,\n",
       "  'specificity': 0.7404648445345164,\n",
       "  'npv': 0.803534633063877},\n",
       " 'accuracy': 0.8012764555711109,\n",
       " 'macro avg': {'precision': 0.8016024302611868,\n",
       "  'recall': 0.7958538687336019,\n",
       "  'f1-score': 0.7976813077445599,\n",
       "  'support': 121430},\n",
       " 'weighted avg': {'precision': 0.8014132675590673,\n",
       "  'recall': 0.8012764555711109,\n",
       "  'f1-score': 0.8003216436537486,\n",
       "  'support': 121430}}"
      ]
     },
     "execution_count": 17,
     "metadata": {},
     "output_type": "execute_result"
    }
   ],
   "source": [
    "classification_report_extendido(y_test, preds)"
   ]
  },
  {
   "cell_type": "code",
   "execution_count": 253,
   "id": "7f40dcdf-7d4c-4f6f-8d8a-c8cdaff6eff7",
   "metadata": {},
   "outputs": [
    {
     "name": "stdout",
     "output_type": "stream",
     "text": [
      "                precision    recall  f1-score   support\n",
      "\n",
      "Não Pastejando      0.804     0.740     0.771     54771\n",
      "    Pastejando      0.800     0.851     0.825     66659\n",
      "\n",
      "      accuracy                          0.801    121430\n",
      "     macro avg      0.802     0.796     0.798    121430\n",
      "  weighted avg      0.801     0.801     0.800    121430\n",
      "\n"
     ]
    }
   ],
   "source": [
    "print(classification_report(y_test, preds, digits=3))"
   ]
  },
  {
   "cell_type": "code",
   "execution_count": 254,
   "id": "47da569a-f5b7-4d4c-90d2-f1cc0e7e5513",
   "metadata": {},
   "outputs": [
    {
     "data": {
      "image/png": "[encoded data removed]",
      "text/plain": [
       "<Figure size 432x288 with 1 Axes>"
      ]
     },
     "metadata": {
      "needs_background": "light"
     },
     "output_type": "display_data"
    }
   ],
   "source": [
    "imprimeMatrizDeConfusão(y_test, preds, rf_model)"
   ]
  },
  {
   "cell_type": "markdown",
   "id": "eabbcc92-5035-4092-9013-8a95b1b40c83",
   "metadata": {
    "tags": []
   },
   "source": [
    "### Gradient Boosting"
   ]
  },
  {
   "cell_type": "code",
   "execution_count": 18,
   "id": "b6c81a60-056b-49b4-8ecc-cf5a603ef7db",
   "metadata": {},
   "outputs": [],
   "source": [
    "from xgboost import XGBClassifier"
   ]
  },
  {
   "cell_type": "code",
   "execution_count": 19,
   "id": "ca98eb54-6b61-4de5-999b-0637c3d3739d",
   "metadata": {},
   "outputs": [],
   "source": [
    "from sklearn.preprocessing import OrdinalEncoder\n",
    "\n",
    "ordinal_encoder = OrdinalEncoder()\n",
    "\n",
    "y_train_ordinal = ordinal_encoder.fit_transform(y_train.array.reshape(-1,1))\n",
    "y_test_ordinal = ordinal_encoder.transform(y_test.array.reshape(-1,1))"
   ]
  },
  {
   "cell_type": "code",
   "execution_count": 109,
   "id": "65eacab7-3b6a-4233-9f5e-d5608c6e4657",
   "metadata": {},
   "outputs": [
    {
     "name": "stdout",
     "output_type": "stream",
     "text": [
      "[16:42:26] WARNING: ../src/learner.cc:1115: Starting in XGBoost 1.3.0, the default evaluation metric used with the objective 'multi:softprob' was changed from 'merror' to 'mlogloss'. Explicitly set eval_metric if you'd like to restore the old behavior.\n"
     ]
    },
    {
     "data": {
      "text/plain": [
       "XGBClassifier(base_score=0.5, booster='gbtree', colsample_bylevel=1,\n",
       "              colsample_bynode=1, colsample_bytree=1, enable_categorical=False,\n",
       "              gamma=0, gpu_id=-1, importance_type=None,\n",
       "              interaction_constraints='', learning_rate=0.300000012,\n",
       "              max_delta_step=0, max_depth=6, min_child_weight=1, missing=nan,\n",
       "              monotone_constraints='()', n_estimators=100, n_jobs=8,\n",
       "              num_parallel_tree=1, objective='multi:softprob', predictor='auto',\n",
       "              random_state=0, reg_alpha=0, reg_lambda=1, scale_pos_weight=None,\n",
       "              subsample=1, tree_method='exact', use_label_encoder=False,\n",
       "              validate_parameters=1, verbosity=None)"
      ]
     },
     "execution_count": 109,
     "metadata": {},
     "output_type": "execute_result"
    }
   ],
   "source": [
    "xgb_model = XGBClassifier(use_label_encoder=False, random_state=0)\n",
    "xgb_model.fit(X_train, y_train_ordinal)"
   ]
  },
  {
   "cell_type": "code",
   "execution_count": 110,
   "id": "24cb533e-86d5-48b0-84c1-45dafadc5318",
   "metadata": {},
   "outputs": [
    {
     "data": {
      "text/plain": [
       "71.71539158362843"
      ]
     },
     "execution_count": 110,
     "metadata": {},
     "output_type": "execute_result"
    }
   ],
   "source": [
    "xgb_preds = xgb_model.predict(X_test)\n",
    "xgb_preds = ordinal_encoder.inverse_transform(xgb_preds.reshape(-1,1))\n",
    "accuracy_score(y_test, xgb_preds)*100"
   ]
  },
  {
   "cell_type": "code",
   "execution_count": 111,
   "id": "7912e17d-1970-4044-bfd4-a37d3b0911a0",
   "metadata": {},
   "outputs": [
    {
     "data": {
      "image/png": "[encoded data removed]",
      "text/plain": [
       "<Figure size 432x288 with 1 Axes>"
      ]
     },
     "metadata": {
      "needs_background": "light"
     },
     "output_type": "display_data"
    }
   ],
   "source": [
    "imprimeMatrizDeConfusão(y_test, xgb_preds, xgb_model)"
   ]
  },
  {
   "cell_type": "markdown",
   "id": "993cd458-bb41-4f56-9cc6-0f1aaecb2b35",
   "metadata": {
    "tags": []
   },
   "source": [
    "#### GB: Busca de melhores hiper parâmetros"
   ]
  },
  {
   "cell_type": "code",
   "execution_count": 112,
   "id": "54b4f7af-51e1-4d22-b692-decf22b83896",
   "metadata": {},
   "outputs": [],
   "source": [
    "def tune_gb(params):\n",
    "    learning_rate = params[0]\n",
    "    max_depth = params[1]\n",
    "    min_child_weight = params[2]\n",
    "    gamma = params[3]\n",
    "    colsample_bytree = params[4]\n",
    "    \n",
    "    print(params, '\\n')\n",
    "    \n",
    "    gb_Model = XGBClassifier(learning_rate=learning_rate, max_depth=max_depth, min_child_weight=min_child_weight, colsample_bytree=colsample_bytree,\n",
    "                             use_label_encoder=False, random_state=0, n_jobs=-1)\n",
    "    \n",
    "    auc = cross_val_score(gb_Model, X_train, y_train_ordinal, cv=3, scoring ='accuracy')\n",
    "    \n",
    "    return -auc.mean()\n",
    "\n",
    "space = [(1e-3, 1e-1, 'log-uniform'), #learning rate\n",
    "         (2, 16), # max_depth\n",
    "         (1, 16), # min_child_weight\n",
    "         (0.0, 0.5), # gamma\n",
    "         (0.1, 1.0)] # colsample bytree"
   ]
  },
  {
   "cell_type": "code",
   "execution_count": null,
   "id": "d9ce88cc-883a-4026-bce6-7584b20f2933",
   "metadata": {},
   "outputs": [
    {
     "name": "stdout",
     "output_type": "stream",
     "text": [
      "Iteration No: 1 started. Evaluating function at random point.\n",
      "[0.015335192657991574, 14, 14, 0.4236258693920628, 0.6612073271073752] \n",
      "\n",
      "[16:43:28] WARNING: ../src/learner.cc:1115: Starting in XGBoost 1.3.0, the default evaluation metric used with the objective 'multi:softprob' was changed from 'merror' to 'mlogloss'. Explicitly set eval_metric if you'd like to restore the old behavior.\n",
      "[16:44:49] WARNING: ../src/learner.cc:1115: Starting in XGBoost 1.3.0, the default evaluation metric used with the objective 'multi:softprob' was changed from 'merror' to 'mlogloss'. Explicitly set eval_metric if you'd like to restore the old behavior.\n",
      "[16:46:11] WARNING: ../src/learner.cc:1115: Starting in XGBoost 1.3.0, the default evaluation metric used with the objective 'multi:softprob' was changed from 'merror' to 'mlogloss'. Explicitly set eval_metric if you'd like to restore the old behavior.\n",
      "Iteration No: 1 ended. Evaluation done at random point.\n",
      "Time taken: 244.4441\n",
      "Function value obtained: -0.7290\n",
      "Current minimum: -0.7290\n",
      "Iteration No: 2 started. Evaluating function at random point.\n",
      "[0.005871694001325899, 6, 2, 0.13632814729005663, 0.529898605589215] \n",
      "\n",
      "[16:47:32] WARNING: ../src/learner.cc:1115: Starting in XGBoost 1.3.0, the default evaluation metric used with the objective 'multi:softprob' was changed from 'merror' to 'mlogloss'. Explicitly set eval_metric if you'd like to restore the old behavior.\n",
      "[16:48:03] WARNING: ../src/learner.cc:1115: Starting in XGBoost 1.3.0, the default evaluation metric used with the objective 'multi:softprob' was changed from 'merror' to 'mlogloss'. Explicitly set eval_metric if you'd like to restore the old behavior.\n",
      "[16:48:34] WARNING: ../src/learner.cc:1115: Starting in XGBoost 1.3.0, the default evaluation metric used with the objective 'multi:softprob' was changed from 'merror' to 'mlogloss'. Explicitly set eval_metric if you'd like to restore the old behavior.\n",
      "Iteration No: 2 ended. Evaluation done at random point.\n",
      "Time taken: 91.7714\n",
      "Function value obtained: -0.6468\n",
      "Current minimum: -0.7290\n",
      "Iteration No: 3 started. Evaluating function at random point.\n",
      "[0.04210536704211821, 9, 7, 0.4180393817686889, 0.40365654437554166] \n",
      "\n",
      "[16:49:04] WARNING: ../src/learner.cc:1115: Starting in XGBoost 1.3.0, the default evaluation metric used with the objective 'multi:softprob' was changed from 'merror' to 'mlogloss'. Explicitly set eval_metric if you'd like to restore the old behavior.\n",
      "[16:49:45] WARNING: ../src/learner.cc:1115: Starting in XGBoost 1.3.0, the default evaluation metric used with the objective 'multi:softprob' was changed from 'merror' to 'mlogloss'. Explicitly set eval_metric if you'd like to restore the old behavior.\n",
      "[16:50:26] WARNING: ../src/learner.cc:1115: Starting in XGBoost 1.3.0, the default evaluation metric used with the objective 'multi:softprob' was changed from 'merror' to 'mlogloss'. Explicitly set eval_metric if you'd like to restore the old behavior.\n",
      "Iteration No: 3 ended. Evaluation done at random point.\n",
      "Time taken: 125.8886\n",
      "Function value obtained: -0.7036\n",
      "Current minimum: -0.7290\n",
      "Iteration No: 4 started. Evaluating function at random point.\n",
      "[0.01978535031094702, 7, 15, 0.07017539020632259, 0.8830785325225929] \n",
      "\n",
      "[16:51:10] WARNING: ../src/learner.cc:1115: Starting in XGBoost 1.3.0, the default evaluation metric used with the objective 'multi:softprob' was changed from 'merror' to 'mlogloss'. Explicitly set eval_metric if you'd like to restore the old behavior.\n",
      "[16:51:50] WARNING: ../src/learner.cc:1115: Starting in XGBoost 1.3.0, the default evaluation metric used with the objective 'multi:softprob' was changed from 'merror' to 'mlogloss'. Explicitly set eval_metric if you'd like to restore the old behavior.\n",
      "[16:52:30] WARNING: ../src/learner.cc:1115: Starting in XGBoost 1.3.0, the default evaluation metric used with the objective 'multi:softprob' was changed from 'merror' to 'mlogloss'. Explicitly set eval_metric if you'd like to restore the old behavior.\n",
      "Iteration No: 4 ended. Evaluation done at random point.\n",
      "Time taken: 120.7118\n",
      "Function value obtained: -0.6761\n",
      "Current minimum: -0.7290\n",
      "Iteration No: 5 started. Evaluating function at random point.\n",
      "[0.008855561236207114, 13, 9, 0.3394397650594802, 0.7485693892533252] \n",
      "\n",
      "[16:53:11] WARNING: ../src/learner.cc:1115: Starting in XGBoost 1.3.0, the default evaluation metric used with the objective 'multi:softprob' was changed from 'merror' to 'mlogloss'. Explicitly set eval_metric if you'd like to restore the old behavior.\n",
      "[16:54:28] WARNING: ../src/learner.cc:1115: Starting in XGBoost 1.3.0, the default evaluation metric used with the objective 'multi:softprob' was changed from 'merror' to 'mlogloss'. Explicitly set eval_metric if you'd like to restore the old behavior.\n",
      "[16:55:48] WARNING: ../src/learner.cc:1115: Starting in XGBoost 1.3.0, the default evaluation metric used with the objective 'multi:softprob' was changed from 'merror' to 'mlogloss'. Explicitly set eval_metric if you'd like to restore the old behavior.\n",
      "Iteration No: 5 ended. Evaluation done at random point.\n",
      "Time taken: 237.1317\n",
      "Function value obtained: -0.7249\n",
      "Current minimum: -0.7290\n",
      "Iteration No: 6 started. Evaluating function at random point.\n",
      "[0.014589472312361858, 10, 12, 0.05295380359389608, 0.5262403774119918] \n",
      "\n",
      "[16:57:08] WARNING: ../src/learner.cc:1115: Starting in XGBoost 1.3.0, the default evaluation metric used with the objective 'multi:softprob' was changed from 'merror' to 'mlogloss'. Explicitly set eval_metric if you'd like to restore the old behavior.\n",
      "[16:58:03] WARNING: ../src/learner.cc:1115: Starting in XGBoost 1.3.0, the default evaluation metric used with the objective 'multi:softprob' was changed from 'merror' to 'mlogloss'. Explicitly set eval_metric if you'd like to restore the old behavior.\n",
      "[16:58:57] WARNING: ../src/learner.cc:1115: Starting in XGBoost 1.3.0, the default evaluation metric used with the objective 'multi:softprob' was changed from 'merror' to 'mlogloss'. Explicitly set eval_metric if you'd like to restore the old behavior.\n",
      "Iteration No: 6 ended. Evaluation done at random point.\n",
      "Time taken: 162.5881\n",
      "Function value obtained: -0.7025\n",
      "Current minimum: -0.7290\n",
      "Iteration No: 7 started. Evaluating function at random point.\n",
      "[0.002358656440793903, 12, 4, 0.06760908670272604, 0.3917269070138928] \n",
      "\n",
      "[16:59:51] WARNING: ../src/learner.cc:1115: Starting in XGBoost 1.3.0, the default evaluation metric used with the objective 'multi:softprob' was changed from 'merror' to 'mlogloss'. Explicitly set eval_metric if you'd like to restore the old behavior.\n",
      "[17:00:50] WARNING: ../src/learner.cc:1115: Starting in XGBoost 1.3.0, the default evaluation metric used with the objective 'multi:softprob' was changed from 'merror' to 'mlogloss'. Explicitly set eval_metric if you'd like to restore the old behavior.\n",
      "[17:01:49] WARNING: ../src/learner.cc:1115: Starting in XGBoost 1.3.0, the default evaluation metric used with the objective 'multi:softprob' was changed from 'merror' to 'mlogloss'. Explicitly set eval_metric if you'd like to restore the old behavior.\n",
      "Iteration No: 7 ended. Evaluation done at random point.\n",
      "Time taken: 177.6657\n",
      "Function value obtained: -0.6856\n",
      "Current minimum: -0.7290\n",
      "Iteration No: 8 started. Evaluating function at random point.\n",
      "[0.0019922770602188436, 5, 7, 0.45129923776470243, 0.504954990920105] \n",
      "\n",
      "[17:02:48] WARNING: ../src/learner.cc:1115: Starting in XGBoost 1.3.0, the default evaluation metric used with the objective 'multi:softprob' was changed from 'merror' to 'mlogloss'. Explicitly set eval_metric if you'd like to restore the old behavior.\n",
      "[17:03:13] WARNING: ../src/learner.cc:1115: Starting in XGBoost 1.3.0, the default evaluation metric used with the objective 'multi:softprob' was changed from 'merror' to 'mlogloss'. Explicitly set eval_metric if you'd like to restore the old behavior.\n",
      "[17:03:38] WARNING: ../src/learner.cc:1115: Starting in XGBoost 1.3.0, the default evaluation metric used with the objective 'multi:softprob' was changed from 'merror' to 'mlogloss'. Explicitly set eval_metric if you'd like to restore the old behavior.\n",
      "Iteration No: 8 ended. Evaluation done at random point.\n",
      "Time taken: 75.0953\n",
      "Function value obtained: -0.6329\n",
      "Current minimum: -0.7290\n",
      "Iteration No: 9 started. Evaluating function at random point.\n",
      "[0.0168316586809914, 15, 2, 0.4849045338733745, 0.687826032218144] \n",
      "\n",
      "[17:04:04] WARNING: ../src/learner.cc:1115: Starting in XGBoost 1.3.0, the default evaluation metric used with the objective 'multi:softprob' was changed from 'merror' to 'mlogloss'. Explicitly set eval_metric if you'd like to restore the old behavior.\n",
      "[17:05:40] WARNING: ../src/learner.cc:1115: Starting in XGBoost 1.3.0, the default evaluation metric used with the objective 'multi:softprob' was changed from 'merror' to 'mlogloss'. Explicitly set eval_metric if you'd like to restore the old behavior.\n",
      "[17:07:18] WARNING: ../src/learner.cc:1115: Starting in XGBoost 1.3.0, the default evaluation metric used with the objective 'multi:softprob' was changed from 'merror' to 'mlogloss'. Explicitly set eval_metric if you'd like to restore the old behavior.\n",
      "Iteration No: 9 ended. Evaluation done at random point.\n",
      "Time taken: 294.0135\n",
      "Function value obtained: -0.7337\n",
      "Current minimum: -0.7337\n",
      "Iteration No: 10 started. Evaluating function at random point.\n",
      "[0.0021969449275369667, 7, 12, 0.30391533435773394, 0.3925425061075173] \n",
      "\n",
      "[17:08:57] WARNING: ../src/learner.cc:1115: Starting in XGBoost 1.3.0, the default evaluation metric used with the objective 'multi:softprob' was changed from 'merror' to 'mlogloss'. Explicitly set eval_metric if you'd like to restore the old behavior.\n",
      "[17:09:29] WARNING: ../src/learner.cc:1115: Starting in XGBoost 1.3.0, the default evaluation metric used with the objective 'multi:softprob' was changed from 'merror' to 'mlogloss'. Explicitly set eval_metric if you'd like to restore the old behavior.\n",
      "[17:10:00] WARNING: ../src/learner.cc:1115: Starting in XGBoost 1.3.0, the default evaluation metric used with the objective 'multi:softprob' was changed from 'merror' to 'mlogloss'. Explicitly set eval_metric if you'd like to restore the old behavior.\n",
      "Iteration No: 10 ended. Evaluation done at random point.\n",
      "Time taken: 95.2832\n",
      "Function value obtained: -0.6436\n",
      "Current minimum: -0.7337\n",
      "Iteration No: 11 started. Searching for the next optimal point.\n",
      "[0.06389488222438718, 15, 1, 0.5, 1.0] \n",
      "\n",
      "[17:10:33] WARNING: ../src/learner.cc:1115: Starting in XGBoost 1.3.0, the default evaluation metric used with the objective 'multi:softprob' was changed from 'merror' to 'mlogloss'. Explicitly set eval_metric if you'd like to restore the old behavior.\n",
      "[17:12:29] WARNING: ../src/learner.cc:1115: Starting in XGBoost 1.3.0, the default evaluation metric used with the objective 'multi:softprob' was changed from 'merror' to 'mlogloss'. Explicitly set eval_metric if you'd like to restore the old behavior.\n",
      "[17:14:30] WARNING: ../src/learner.cc:1115: Starting in XGBoost 1.3.0, the default evaluation metric used with the objective 'multi:softprob' was changed from 'merror' to 'mlogloss'. Explicitly set eval_metric if you'd like to restore the old behavior.\n",
      "Iteration No: 11 ended. Search finished for the next optimal point.\n",
      "Time taken: 356.2834\n",
      "Function value obtained: -0.7320\n",
      "Current minimum: -0.7337\n",
      "Iteration No: 12 started. Searching for the next optimal point.\n",
      "[0.011041145861227624, 16, 16, 0.0, 1.0] \n",
      "\n",
      "[17:16:30] WARNING: ../src/learner.cc:1115: Starting in XGBoost 1.3.0, the default evaluation metric used with the objective 'multi:softprob' was changed from 'merror' to 'mlogloss'. Explicitly set eval_metric if you'd like to restore the old behavior.\n",
      "[17:18:31] WARNING: ../src/learner.cc:1115: Starting in XGBoost 1.3.0, the default evaluation metric used with the objective 'multi:softprob' was changed from 'merror' to 'mlogloss'. Explicitly set eval_metric if you'd like to restore the old behavior.\n",
      "[17:20:32] WARNING: ../src/learner.cc:1115: Starting in XGBoost 1.3.0, the default evaluation metric used with the objective 'multi:softprob' was changed from 'merror' to 'mlogloss'. Explicitly set eval_metric if you'd like to restore the old behavior.\n",
      "Iteration No: 12 ended. Search finished for the next optimal point.\n",
      "Time taken: 365.2357\n",
      "Function value obtained: -0.7251\n",
      "Current minimum: -0.7337\n",
      "Iteration No: 13 started. Searching for the next optimal point.\n",
      "[0.1, 16, 1, 0.0, 0.1] \n",
      "\n",
      "[17:22:34] WARNING: ../src/learner.cc:1115: Starting in XGBoost 1.3.0, the default evaluation metric used with the objective 'multi:softprob' was changed from 'merror' to 'mlogloss'. Explicitly set eval_metric if you'd like to restore the old behavior.\n",
      "[17:23:10] WARNING: ../src/learner.cc:1115: Starting in XGBoost 1.3.0, the default evaluation metric used with the objective 'multi:softprob' was changed from 'merror' to 'mlogloss'. Explicitly set eval_metric if you'd like to restore the old behavior.\n",
      "[17:23:47] WARNING: ../src/learner.cc:1115: Starting in XGBoost 1.3.0, the default evaluation metric used with the objective 'multi:softprob' was changed from 'merror' to 'mlogloss'. Explicitly set eval_metric if you'd like to restore the old behavior.\n",
      "Iteration No: 13 ended. Search finished for the next optimal point.\n",
      "Time taken: 109.4034\n",
      "Function value obtained: -0.6152\n",
      "Current minimum: -0.7337\n",
      "Iteration No: 14 started. Searching for the next optimal point.\n",
      "[0.1, 16, 7, 0.11513502000648611, 0.8037937810355805] \n",
      "\n",
      "[17:24:24] WARNING: ../src/learner.cc:1115: Starting in XGBoost 1.3.0, the default evaluation metric used with the objective 'multi:softprob' was changed from 'merror' to 'mlogloss'. Explicitly set eval_metric if you'd like to restore the old behavior.\n",
      "[17:25:58] WARNING: ../src/learner.cc:1115: Starting in XGBoost 1.3.0, the default evaluation metric used with the objective 'multi:softprob' was changed from 'merror' to 'mlogloss'. Explicitly set eval_metric if you'd like to restore the old behavior.\n",
      "[17:27:32] WARNING: ../src/learner.cc:1115: Starting in XGBoost 1.3.0, the default evaluation metric used with the objective 'multi:softprob' was changed from 'merror' to 'mlogloss'. Explicitly set eval_metric if you'd like to restore the old behavior.\n",
      "Iteration No: 14 ended. Search finished for the next optimal point.\n",
      "Time taken: 283.6803\n",
      "Function value obtained: -0.7346\n",
      "Current minimum: -0.7346\n",
      "Iteration No: 15 started. Searching for the next optimal point.\n",
      "[0.1, 12, 1, 0.3209454275327882, 0.8104423414372179] \n",
      "\n",
      "[17:29:07] WARNING: ../src/learner.cc:1115: Starting in XGBoost 1.3.0, the default evaluation metric used with the objective 'multi:softprob' was changed from 'merror' to 'mlogloss'. Explicitly set eval_metric if you'd like to restore the old behavior.\n",
      "[17:30:22] WARNING: ../src/learner.cc:1115: Starting in XGBoost 1.3.0, the default evaluation metric used with the objective 'multi:softprob' was changed from 'merror' to 'mlogloss'. Explicitly set eval_metric if you'd like to restore the old behavior.\n",
      "[17:31:33] WARNING: ../src/learner.cc:1115: Starting in XGBoost 1.3.0, the default evaluation metric used with the objective 'multi:softprob' was changed from 'merror' to 'mlogloss'. Explicitly set eval_metric if you'd like to restore the old behavior.\n",
      "Iteration No: 15 ended. Search finished for the next optimal point.\n",
      "Time taken: 212.4595\n",
      "Function value obtained: -0.7310\n",
      "Current minimum: -0.7346\n",
      "Iteration No: 16 started. Searching for the next optimal point.\n",
      "[0.001, 16, 1, 0.5, 0.7817023566933607] \n",
      "\n",
      "[17:32:40] WARNING: ../src/learner.cc:1115: Starting in XGBoost 1.3.0, the default evaluation metric used with the objective 'multi:softprob' was changed from 'merror' to 'mlogloss'. Explicitly set eval_metric if you'd like to restore the old behavior.\n",
      "[17:34:26] WARNING: ../src/learner.cc:1115: Starting in XGBoost 1.3.0, the default evaluation metric used with the objective 'multi:softprob' was changed from 'merror' to 'mlogloss'. Explicitly set eval_metric if you'd like to restore the old behavior.\n",
      "[17:36:11] WARNING: ../src/learner.cc:1115: Starting in XGBoost 1.3.0, the default evaluation metric used with the objective 'multi:softprob' was changed from 'merror' to 'mlogloss'. Explicitly set eval_metric if you'd like to restore the old behavior.\n",
      "Iteration No: 16 ended. Search finished for the next optimal point.\n",
      "Time taken: 317.7836\n",
      "Function value obtained: -0.7316\n",
      "Current minimum: -0.7346\n",
      "Iteration No: 17 started. Searching for the next optimal point.\n",
      "[0.1, 2, 4, 0.5, 0.1] \n",
      "\n",
      "[17:37:57] WARNING: ../src/learner.cc:1115: Starting in XGBoost 1.3.0, the default evaluation metric used with the objective 'multi:softprob' was changed from 'merror' to 'mlogloss'. Explicitly set eval_metric if you'd like to restore the old behavior.\n",
      "[17:38:03] WARNING: ../src/learner.cc:1115: Starting in XGBoost 1.3.0, the default evaluation metric used with the objective 'multi:softprob' was changed from 'merror' to 'mlogloss'. Explicitly set eval_metric if you'd like to restore the old behavior.\n",
      "[17:38:08] WARNING: ../src/learner.cc:1115: Starting in XGBoost 1.3.0, the default evaluation metric used with the objective 'multi:softprob' was changed from 'merror' to 'mlogloss'. Explicitly set eval_metric if you'd like to restore the old behavior.\n",
      "Iteration No: 17 ended. Search finished for the next optimal point.\n",
      "Time taken: 17.0111\n",
      "Function value obtained: -0.6089\n",
      "Current minimum: -0.7346\n",
      "Iteration No: 18 started. Searching for the next optimal point.\n",
      "[0.1, 16, 16, 0.5, 0.8353434398594747] \n",
      "\n",
      "[17:38:15] WARNING: ../src/learner.cc:1115: Starting in XGBoost 1.3.0, the default evaluation metric used with the objective 'multi:softprob' was changed from 'merror' to 'mlogloss'. Explicitly set eval_metric if you'd like to restore the old behavior.\n",
      "[17:39:42] WARNING: ../src/learner.cc:1115: Starting in XGBoost 1.3.0, the default evaluation metric used with the objective 'multi:softprob' was changed from 'merror' to 'mlogloss'. Explicitly set eval_metric if you'd like to restore the old behavior.\n",
      "[17:41:10] WARNING: ../src/learner.cc:1115: Starting in XGBoost 1.3.0, the default evaluation metric used with the objective 'multi:softprob' was changed from 'merror' to 'mlogloss'. Explicitly set eval_metric if you'd like to restore the old behavior.\n",
      "Iteration No: 18 ended. Search finished for the next optimal point.\n",
      "Time taken: 263.2949\n",
      "Function value obtained: -0.7332\n",
      "Current minimum: -0.7346\n",
      "Iteration No: 19 started. Searching for the next optimal point.\n",
      "[0.1, 2, 2, 0.00612024555903442, 1.0] \n",
      "\n",
      "[17:42:37] WARNING: ../src/learner.cc:1115: Starting in XGBoost 1.3.0, the default evaluation metric used with the objective 'multi:softprob' was changed from 'merror' to 'mlogloss'. Explicitly set eval_metric if you'd like to restore the old behavior.\n",
      "[17:42:48] WARNING: ../src/learner.cc:1115: Starting in XGBoost 1.3.0, the default evaluation metric used with the objective 'multi:softprob' was changed from 'merror' to 'mlogloss'. Explicitly set eval_metric if you'd like to restore the old behavior.\n",
      "[17:42:59] WARNING: ../src/learner.cc:1115: Starting in XGBoost 1.3.0, the default evaluation metric used with the objective 'multi:softprob' was changed from 'merror' to 'mlogloss'. Explicitly set eval_metric if you'd like to restore the old behavior.\n",
      "Iteration No: 19 ended. Search finished for the next optimal point.\n",
      "Time taken: 33.0012\n",
      "Function value obtained: -0.6305\n",
      "Current minimum: -0.7346\n",
      "Iteration No: 20 started. Searching for the next optimal point.\n",
      "[0.1, 14, 1, 0.0, 0.7950069285496054] \n",
      "\n",
      "[17:43:11] WARNING: ../src/learner.cc:1115: Starting in XGBoost 1.3.0, the default evaluation metric used with the objective 'multi:softprob' was changed from 'merror' to 'mlogloss'. Explicitly set eval_metric if you'd like to restore the old behavior.\n",
      "[17:44:30] WARNING: ../src/learner.cc:1115: Starting in XGBoost 1.3.0, the default evaluation metric used with the objective 'multi:softprob' was changed from 'merror' to 'mlogloss'. Explicitly set eval_metric if you'd like to restore the old behavior.\n",
      "[17:45:51] WARNING: ../src/learner.cc:1115: Starting in XGBoost 1.3.0, the default evaluation metric used with the objective 'multi:softprob' was changed from 'merror' to 'mlogloss'. Explicitly set eval_metric if you'd like to restore the old behavior.\n",
      "Iteration No: 20 ended. Search finished for the next optimal point.\n",
      "Time taken: 244.7337\n",
      "Function value obtained: -0.7343\n",
      "Current minimum: -0.7346\n",
      "Iteration No: 21 started. Searching for the next optimal point.\n",
      "[0.1, 13, 1, 0.5, 0.6025484450163141] \n",
      "\n",
      "[17:47:16] WARNING: ../src/learner.cc:1115: Starting in XGBoost 1.3.0, the default evaluation metric used with the objective 'multi:softprob' was changed from 'merror' to 'mlogloss'. Explicitly set eval_metric if you'd like to restore the old behavior.\n",
      "[17:48:25] WARNING: ../src/learner.cc:1115: Starting in XGBoost 1.3.0, the default evaluation metric used with the objective 'multi:softprob' was changed from 'merror' to 'mlogloss'. Explicitly set eval_metric if you'd like to restore the old behavior.\n",
      "[17:49:35] WARNING: ../src/learner.cc:1115: Starting in XGBoost 1.3.0, the default evaluation metric used with the objective 'multi:softprob' was changed from 'merror' to 'mlogloss'. Explicitly set eval_metric if you'd like to restore the old behavior.\n",
      "Iteration No: 21 ended. Search finished for the next optimal point.\n",
      "Time taken: 209.1451\n",
      "Function value obtained: -0.7332\n",
      "Current minimum: -0.7346\n",
      "Iteration No: 22 started. Searching for the next optimal point.\n",
      "[0.1, 14, 1, 0.5, 0.7859348903866988] \n",
      "\n",
      "[17:50:45] WARNING: ../src/learner.cc:1115: Starting in XGBoost 1.3.0, the default evaluation metric used with the objective 'multi:softprob' was changed from 'merror' to 'mlogloss'. Explicitly set eval_metric if you'd like to restore the old behavior.\n",
      "[17:52:08] WARNING: ../src/learner.cc:1115: Starting in XGBoost 1.3.0, the default evaluation metric used with the objective 'multi:softprob' was changed from 'merror' to 'mlogloss'. Explicitly set eval_metric if you'd like to restore the old behavior.\n",
      "[17:53:27] WARNING: ../src/learner.cc:1115: Starting in XGBoost 1.3.0, the default evaluation metric used with the objective 'multi:softprob' was changed from 'merror' to 'mlogloss'. Explicitly set eval_metric if you'd like to restore the old behavior.\n",
      "Iteration No: 22 ended. Search finished for the next optimal point.\n",
      "Time taken: 245.3680\n",
      "Function value obtained: -0.7343\n",
      "Current minimum: -0.7346\n",
      "Iteration No: 23 started. Searching for the next optimal point.\n",
      "[0.1, 12, 1, 0.5, 1.0] \n",
      "\n",
      "[17:54:51] WARNING: ../src/learner.cc:1115: Starting in XGBoost 1.3.0, the default evaluation metric used with the objective 'multi:softprob' was changed from 'merror' to 'mlogloss'. Explicitly set eval_metric if you'd like to restore the old behavior.\n",
      "[17:56:09] WARNING: ../src/learner.cc:1115: Starting in XGBoost 1.3.0, the default evaluation metric used with the objective 'multi:softprob' was changed from 'merror' to 'mlogloss'. Explicitly set eval_metric if you'd like to restore the old behavior.\n",
      "[17:57:27] WARNING: ../src/learner.cc:1115: Starting in XGBoost 1.3.0, the default evaluation metric used with the objective 'multi:softprob' was changed from 'merror' to 'mlogloss'. Explicitly set eval_metric if you'd like to restore the old behavior.\n",
      "Iteration No: 23 ended. Search finished for the next optimal point.\n",
      "Time taken: 235.5713\n",
      "Function value obtained: -0.7290\n",
      "Current minimum: -0.7346\n",
      "Iteration No: 24 started. Searching for the next optimal point.\n",
      "[0.001, 13, 1, 0.5, 1.0] \n",
      "\n",
      "[17:58:46] WARNING: ../src/learner.cc:1115: Starting in XGBoost 1.3.0, the default evaluation metric used with the objective 'multi:softprob' was changed from 'merror' to 'mlogloss'. Explicitly set eval_metric if you'd like to restore the old behavior.\n",
      "[18:00:23] WARNING: ../src/learner.cc:1115: Starting in XGBoost 1.3.0, the default evaluation metric used with the objective 'multi:softprob' was changed from 'merror' to 'mlogloss'. Explicitly set eval_metric if you'd like to restore the old behavior.\n",
      "[18:01:59] WARNING: ../src/learner.cc:1115: Starting in XGBoost 1.3.0, the default evaluation metric used with the objective 'multi:softprob' was changed from 'merror' to 'mlogloss'. Explicitly set eval_metric if you'd like to restore the old behavior.\n",
      "Iteration No: 24 ended. Search finished for the next optimal point.\n",
      "Time taken: 293.1159\n",
      "Function value obtained: -0.7069\n",
      "Current minimum: -0.7346\n",
      "Iteration No: 25 started. Searching for the next optimal point.\n",
      "[0.0010489322804937088, 16, 1, 0.19845788237019565, 0.6164001402681875] \n",
      "\n",
      "[18:03:39] WARNING: ../src/learner.cc:1115: Starting in XGBoost 1.3.0, the default evaluation metric used with the objective 'multi:softprob' was changed from 'merror' to 'mlogloss'. Explicitly set eval_metric if you'd like to restore the old behavior.\n",
      "[18:05:34] WARNING: ../src/learner.cc:1115: Starting in XGBoost 1.3.0, the default evaluation metric used with the objective 'multi:softprob' was changed from 'merror' to 'mlogloss'. Explicitly set eval_metric if you'd like to restore the old behavior.\n",
      "[18:07:21] WARNING: ../src/learner.cc:1115: Starting in XGBoost 1.3.0, the default evaluation metric used with the objective 'multi:softprob' was changed from 'merror' to 'mlogloss'. Explicitly set eval_metric if you'd like to restore the old behavior.\n",
      "Iteration No: 25 ended. Search finished for the next optimal point.\n",
      "Time taken: 331.2919\n",
      "Function value obtained: -0.7322\n",
      "Current minimum: -0.7346\n",
      "Iteration No: 26 started. Searching for the next optimal point.\n",
      "[0.09781867510036772, 16, 15, 0.3783061555160541, 0.6222748495482476] \n",
      "\n",
      "[18:09:10] WARNING: ../src/learner.cc:1115: Starting in XGBoost 1.3.0, the default evaluation metric used with the objective 'multi:softprob' was changed from 'merror' to 'mlogloss'. Explicitly set eval_metric if you'd like to restore the old behavior.\n",
      "[18:10:39] WARNING: ../src/learner.cc:1115: Starting in XGBoost 1.3.0, the default evaluation metric used with the objective 'multi:softprob' was changed from 'merror' to 'mlogloss'. Explicitly set eval_metric if you'd like to restore the old behavior.\n",
      "[18:12:08] WARNING: ../src/learner.cc:1115: Starting in XGBoost 1.3.0, the default evaluation metric used with the objective 'multi:softprob' was changed from 'merror' to 'mlogloss'. Explicitly set eval_metric if you'd like to restore the old behavior.\n",
      "Iteration No: 26 ended. Search finished for the next optimal point.\n",
      "Time taken: 266.8370\n",
      "Function value obtained: -0.7344\n",
      "Current minimum: -0.7346\n",
      "Iteration No: 27 started. Searching for the next optimal point.\n",
      "[0.00760195833213617, 16, 4, 0.4152486264287845, 0.5104278488718872] \n",
      "\n",
      "[18:13:37] WARNING: ../src/learner.cc:1115: Starting in XGBoost 1.3.0, the default evaluation metric used with the objective 'multi:softprob' was changed from 'merror' to 'mlogloss'. Explicitly set eval_metric if you'd like to restore the old behavior.\n",
      "[18:15:15] WARNING: ../src/learner.cc:1115: Starting in XGBoost 1.3.0, the default evaluation metric used with the objective 'multi:softprob' was changed from 'merror' to 'mlogloss'. Explicitly set eval_metric if you'd like to restore the old behavior.\n",
      "[18:16:55] WARNING: ../src/learner.cc:1115: Starting in XGBoost 1.3.0, the default evaluation metric used with the objective 'multi:softprob' was changed from 'merror' to 'mlogloss'. Explicitly set eval_metric if you'd like to restore the old behavior.\n",
      "Iteration No: 27 ended. Search finished for the next optimal point.\n",
      "Time taken: 295.8606\n",
      "Function value obtained: -0.7315\n",
      "Current minimum: -0.7346\n",
      "Iteration No: 28 started. Searching for the next optimal point.\n",
      "[0.08922349432377487, 15, 7, 0.00680283700335445, 0.9919585990231522] \n",
      "\n",
      "[18:18:33] WARNING: ../src/learner.cc:1115: Starting in XGBoost 1.3.0, the default evaluation metric used with the objective 'multi:softprob' was changed from 'merror' to 'mlogloss'. Explicitly set eval_metric if you'd like to restore the old behavior.\n",
      "[18:20:12] WARNING: ../src/learner.cc:1115: Starting in XGBoost 1.3.0, the default evaluation metric used with the objective 'multi:softprob' was changed from 'merror' to 'mlogloss'. Explicitly set eval_metric if you'd like to restore the old behavior.\n",
      "[18:21:52] WARNING: ../src/learner.cc:1115: Starting in XGBoost 1.3.0, the default evaluation metric used with the objective 'multi:softprob' was changed from 'merror' to 'mlogloss'. Explicitly set eval_metric if you'd like to restore the old behavior.\n",
      "Iteration No: 28 ended. Search finished for the next optimal point.\n",
      "Time taken: 298.8821\n",
      "Function value obtained: -0.7337\n",
      "Current minimum: -0.7346\n",
      "Iteration No: 29 started. Searching for the next optimal point.\n",
      "[0.1, 13, 1, 0.5, 0.45026759698873386] \n",
      "\n",
      "[18:23:32] WARNING: ../src/learner.cc:1115: Starting in XGBoost 1.3.0, the default evaluation metric used with the objective 'multi:softprob' was changed from 'merror' to 'mlogloss'. Explicitly set eval_metric if you'd like to restore the old behavior.\n",
      "[18:24:42] WARNING: ../src/learner.cc:1115: Starting in XGBoost 1.3.0, the default evaluation metric used with the objective 'multi:softprob' was changed from 'merror' to 'mlogloss'. Explicitly set eval_metric if you'd like to restore the old behavior.\n",
      "[18:25:52] WARNING: ../src/learner.cc:1115: Starting in XGBoost 1.3.0, the default evaluation metric used with the objective 'multi:softprob' was changed from 'merror' to 'mlogloss'. Explicitly set eval_metric if you'd like to restore the old behavior.\n",
      "Iteration No: 29 ended. Search finished for the next optimal point.\n",
      "Time taken: 210.3147\n",
      "Function value obtained: -0.7340\n",
      "Current minimum: -0.7346\n",
      "Iteration No: 30 started. Searching for the next optimal point.\n",
      "[0.1, 16, 1, 0.0, 0.5370264280766771] \n",
      "\n",
      "[18:27:02] WARNING: ../src/learner.cc:1115: Starting in XGBoost 1.3.0, the default evaluation metric used with the objective 'multi:softprob' was changed from 'merror' to 'mlogloss'. Explicitly set eval_metric if you'd like to restore the old behavior.\n",
      "[18:28:41] WARNING: ../src/learner.cc:1115: Starting in XGBoost 1.3.0, the default evaluation metric used with the objective 'multi:softprob' was changed from 'merror' to 'mlogloss'. Explicitly set eval_metric if you'd like to restore the old behavior.\n",
      "[18:30:14] WARNING: ../src/learner.cc:1115: Starting in XGBoost 1.3.0, the default evaluation metric used with the objective 'multi:softprob' was changed from 'merror' to 'mlogloss'. Explicitly set eval_metric if you'd like to restore the old behavior.\n",
      "Iteration No: 30 ended. Search finished for the next optimal point.\n",
      "Time taken: 279.2158\n",
      "Function value obtained: -0.7368\n",
      "Current minimum: -0.7368\n",
      "CPU times: user 13h 39min 40s, sys: 7min 4s, total: 13h 46min 44s\n",
      "Wall time: 1h 48min 13s\n"
     ]
    }
   ],
   "source": [
    "%%time\n",
    "resultados_gb = gp_minimize(tune_gb, space, random_state=0, verbose=1, n_calls=30, n_random_starts=10, n_jobs=-1)"
   ]
  },
  {
   "cell_type": "code",
   "execution_count": null,
   "id": "66c78263-a6e1-4360-ae86-102da8fe256c",
   "metadata": {},
   "outputs": [
    {
     "data": {
      "text/plain": [
       "[0.1, 16, 1, 0.0, 0.5370264280766771]"
      ]
     },
     "execution_count": 114,
     "metadata": {},
     "output_type": "execute_result"
    }
   ],
   "source": [
    "resultados_gb.x"
   ]
  },
  {
   "cell_type": "code",
   "execution_count": null,
   "id": "0d6d1ee9-ccb7-4cf9-9302-acd1dc20f5b4",
   "metadata": {},
   "outputs": [],
   "source": [
    "# Melhores hiper parâmetros para o conjunto PRO: learning_rate=0.1, max_depth=16, min_child_weight=1, gamma=0.0, colsample_bytree=0.5370264280766771, use_label_encoder=False, random_state=0, n_jobs=-1"
   ]
  },
  {
   "cell_type": "code",
   "execution_count": 117,
   "id": "37a26fff-5366-4321-b377-b47c1a953582",
   "metadata": {
    "tags": []
   },
   "outputs": [
    {
     "data": {
      "text/plain": [
       "<AxesSubplot:title={'center':'Convergence plot'}, xlabel='Number of calls $n$', ylabel='$\\\\min f(x)$ after $n$ calls'>"
      ]
     },
     "execution_count": 117,
     "metadata": {},
     "output_type": "execute_result"
    },
    {
     "data": {
      "image/png": "[encoded data removed]",
      "text/plain": [
       "<Figure size 432x288 with 1 Axes>"
      ]
     },
     "metadata": {
      "needs_background": "light"
     },
     "output_type": "display_data"
    }
   ],
   "source": [
    "from skopt.plots import plot_convergence\n",
    "plot_convergence(resultados_gb)"
   ]
  },
  {
   "cell_type": "code",
   "execution_count": 87,
   "id": "ca092ac8-305d-4343-a36b-e3120256d7f1",
   "metadata": {},
   "outputs": [],
   "source": [
    "# Melhores hiper parâmetros para o conjunto PNP: learning_rate=0.008851671496973969, max_depth=16, min_child_weight=1, gamma=0.0, colsample_bytree=0.631278076735511, use_label_encoder=False, random_state=0, n_jobs=-1"
   ]
  },
  {
   "cell_type": "code",
   "execution_count": 85,
   "id": "14ba1c61-6f29-46a4-804e-930fe5eedf5b",
   "metadata": {},
   "outputs": [
    {
     "data": {
      "text/plain": [
       "<AxesSubplot:title={'center':'Convergence plot'}, xlabel='Number of calls $n$', ylabel='$\\\\min f(x)$ after $n$ calls'>"
      ]
     },
     "execution_count": 85,
     "metadata": {},
     "output_type": "execute_result"
    },
    {
     "data": {
      "image/png": "[encoded data removed]",
      "text/plain": [
       "<Figure size 432x288 with 1 Axes>"
      ]
     },
     "metadata": {
      "needs_background": "light"
     },
     "output_type": "display_data"
    }
   ],
   "source": [
    "plot_convergence(resultados_gb)"
   ]
  },
  {
   "cell_type": "markdown",
   "id": "9b5f5e0d-df0f-4b2f-85f2-1ac43a6ef7ac",
   "metadata": {
    "tags": []
   },
   "source": [
    "#### GB: Treinamento com os melhores hiper parâmetros"
   ]
  },
  {
   "cell_type": "code",
   "execution_count": 20,
   "id": "ffd0cc2a-7137-4911-b2c0-da9e146ee5a9",
   "metadata": {
    "tags": []
   },
   "outputs": [
    {
     "name": "stdout",
     "output_type": "stream",
     "text": [
      "[11:35:15] WARNING: ../src/learner.cc:1115: Starting in XGBoost 1.3.0, the default evaluation metric used with the objective 'binary:logistic' was changed from 'error' to 'logloss'. Explicitly set eval_metric if you'd like to restore the old behavior.\n",
      "CPU times: user 6min 21s, sys: 3.86 s, total: 6min 25s\n",
      "Wall time: 52.8 s\n"
     ]
    }
   ],
   "source": [
    "%%time\n",
    "gb_model = XGBClassifier(learning_rate=0.008851671496973969, max_depth=16, min_child_weight=1, gamma=0.0, \n",
    "                         colsample_bytree=0.631278076735511, use_label_encoder=False, random_state=0, n_jobs=-1)\n",
    "\n",
    "gb_model.fit(X_train, y_train_ordinal)\n",
    "preds = gb_model.predict(X_test)"
   ]
  },
  {
   "cell_type": "code",
   "execution_count": 21,
   "id": "a14f7dc5-8ef9-4d0e-bb90-77baccea11b1",
   "metadata": {},
   "outputs": [
    {
     "data": {
      "text/plain": [
       "80.01152927612615"
      ]
     },
     "execution_count": 21,
     "metadata": {},
     "output_type": "execute_result"
    }
   ],
   "source": [
    "preds = ordinal_encoder.inverse_transform(preds.reshape(-1,1))\n",
    "accuracy_score(y_test, preds)*100"
   ]
  },
  {
   "cell_type": "code",
   "execution_count": 23,
   "id": "28bbb97e-9a5c-4574-b89e-3ad55246e128",
   "metadata": {},
   "outputs": [
    {
     "data": {
      "text/plain": [
       "{'Não Pastejando': {'precision': 0.8023474829985923,\n",
       "  'recall': 0.7388581548629749,\n",
       "  'f1-score': 0.7692951106379742,\n",
       "  'support': 54771,\n",
       "  'specificity': array([0.8504478]),\n",
       "  'npv': array([0.79852943])},\n",
       " 'Pastejando': {'precision': 0.7985294324792586,\n",
       "  'recall': 0.8504478014971721,\n",
       "  'f1-score': 0.8236712870136287,\n",
       "  'support': 66659,\n",
       "  'specificity': array([0.73885815]),\n",
       "  'npv': array([0.80234748])},\n",
       " 'accuracy': 0.8001152927612616,\n",
       " 'macro avg': {'precision': 0.8004384577389254,\n",
       "  'recall': 0.7946529781800735,\n",
       "  'f1-score': 0.7964831988258014,\n",
       "  'support': 121430},\n",
       " 'weighted avg': {'precision': 0.8002515641188405,\n",
       "  'recall': 0.8001152927612616,\n",
       "  'f1-score': 0.7991449133310874,\n",
       "  'support': 121430}}"
      ]
     },
     "execution_count": 23,
     "metadata": {},
     "output_type": "execute_result"
    }
   ],
   "source": [
    "classification_report_extendido(y_test, preds)"
   ]
  },
  {
   "cell_type": "code",
   "execution_count": 272,
   "id": "addb75a3-cfa6-4930-9e5d-6e70c3327720",
   "metadata": {},
   "outputs": [
    {
     "name": "stdout",
     "output_type": "stream",
     "text": [
      "                precision    recall  f1-score   support\n",
      "\n",
      "Não Pastejando      0.802     0.739     0.769     54771\n",
      "    Pastejando      0.799     0.850     0.824     66659\n",
      "\n",
      "      accuracy                          0.800    121430\n",
      "     macro avg      0.800     0.795     0.796    121430\n",
      "  weighted avg      0.800     0.800     0.799    121430\n",
      "\n"
     ]
    }
   ],
   "source": [
    "print(classification_report(y_test, preds, digits=3))"
   ]
  },
  {
   "cell_type": "code",
   "execution_count": 273,
   "id": "c6515912-4a06-4238-9632-fa21af4aa991",
   "metadata": {},
   "outputs": [
    {
     "data": {
      "image/png": "[encoded data removed]",
      "text/plain": [
       "<Figure size 432x288 with 1 Axes>"
      ]
     },
     "metadata": {
      "needs_background": "light"
     },
     "output_type": "display_data"
    }
   ],
   "source": [
    "imprimeMatrizDeConfusão(y_test, preds, gb_model)"
   ]
  },
  {
   "cell_type": "markdown",
   "id": "d46bda57-c898-4538-8b8a-819c3cc6fe67",
   "metadata": {
    "tags": [],
    "toc-hr-collapsed": true
   },
   "source": [
    "### SVM"
   ]
  },
  {
   "cell_type": "code",
   "execution_count": 21,
   "id": "c86bedac-aa4b-47d4-91e3-b2e0e09fe3f4",
   "metadata": {},
   "outputs": [],
   "source": [
    "from sklearn.svm import SVC\n",
    "X_train, X_test, y_train, y_test = train_test_split(X, y, train_size=0.1, random_state = 0)"
   ]
  },
  {
   "cell_type": "code",
   "execution_count": null,
   "id": "cc4cdd96-4c57-4a2f-a23a-d432c5d34fab",
   "metadata": {},
   "outputs": [],
   "source": [
    "%%time\n",
    "svc_model = SVC(kernel='linear', cache_size=5000, random_state=0) # Linear Kernel\n",
    "\n",
    "svc_model.fit(X_train, y_train)\n",
    "\n",
    "svc_preds = svc_model.predict(X_test)"
   ]
  },
  {
   "cell_type": "code",
   "execution_count": null,
   "id": "9e176cf6-95fd-4e6f-ad88-5f0422622c5e",
   "metadata": {},
   "outputs": [],
   "source": [
    "print(\"Acurácia:\", accuracy_score(y_test, svc_preds))"
   ]
  },
  {
   "cell_type": "markdown",
   "id": "23e8b482-5b1f-4125-a980-554c3ba6570c",
   "metadata": {
    "tags": []
   },
   "source": [
    "###  Gaussian Naive Bayes"
   ]
  },
  {
   "cell_type": "code",
   "execution_count": 105,
   "id": "61259046-cd8e-4efb-a350-ba4c5b66cd08",
   "metadata": {},
   "outputs": [],
   "source": [
    "# Conjunto com todas as classes\n",
    "X_train, X_test, y_train, y_test = train_test_split(X, y, random_state = 0)"
   ]
  },
  {
   "cell_type": "code",
   "execution_count": 106,
   "id": "8f9cbc1b-febe-444c-8595-ebf6957415a9",
   "metadata": {},
   "outputs": [],
   "source": [
    "from sklearn.naive_bayes import GaussianNB"
   ]
  },
  {
   "cell_type": "code",
   "execution_count": 107,
   "id": "7858a352-30b2-425f-a877-8c22664192ea",
   "metadata": {},
   "outputs": [
    {
     "name": "stdout",
     "output_type": "stream",
     "text": [
      "Acurácia: 0.5575803093788705\n"
     ]
    }
   ],
   "source": [
    "gnb_model = GaussianNB()\n",
    "gnb_preds = gnb_model.fit(X_train, y_train).predict(X_test)\n",
    "print(\"Acurácia:\", accuracy_score(y_test, gnb_preds))"
   ]
  },
  {
   "cell_type": "markdown",
   "id": "a22562a2-f07c-426e-bd64-a6034beb50bf",
   "metadata": {
    "tags": []
   },
   "source": [
    "### Logistic Regression"
   ]
  },
  {
   "cell_type": "code",
   "execution_count": 114,
   "id": "6c4b89e6-b104-416d-8e1f-421413fa74b1",
   "metadata": {},
   "outputs": [],
   "source": [
    "# Conjunto de dados PNP: Pastejando x Não Pastejando\n",
    "y_pnp = y\n",
    "y_pnp = y_pnp.replace(to_replace=['Agua', 'Locomovendo', 'Ocio', 'Outros','Ruminando'], value='Não Pastejando')\n",
    "X_train, X_test, y_train, y_test = train_test_split(X, y_pnp, random_state = 0)"
   ]
  },
  {
   "cell_type": "code",
   "execution_count": 118,
   "id": "151d5591-8a1a-4ac8-81cc-75c450a6899d",
   "metadata": {},
   "outputs": [],
   "source": [
    "from sklearn.linear_model import LogisticRegression"
   ]
  },
  {
   "cell_type": "code",
   "execution_count": 128,
   "id": "06145b2a-cecd-4c98-b339-39534253a4c8",
   "metadata": {},
   "outputs": [
    {
     "data": {
      "text/plain": [
       "LogisticRegression(random_state=0)"
      ]
     },
     "execution_count": 128,
     "metadata": {},
     "output_type": "execute_result"
    }
   ],
   "source": [
    "lr_model = LogisticRegression(random_state=0)\n",
    "lr_model.fit(X_train, y_train)"
   ]
  },
  {
   "cell_type": "code",
   "execution_count": 129,
   "id": "b2ae5e97-fc5f-459b-bf38-6d902edea7b2",
   "metadata": {},
   "outputs": [],
   "source": [
    "lr_preds = lr_model.predict(X_test)"
   ]
  },
  {
   "cell_type": "code",
   "execution_count": 130,
   "id": "ed24d2aa-a0b4-4ba2-8c97-4a3e8356968b",
   "metadata": {},
   "outputs": [
    {
     "name": "stdout",
     "output_type": "stream",
     "text": [
      "Acurácia: 0.6313740216617915\n"
     ]
    }
   ],
   "source": [
    "print(\"Acurácia:\", accuracy_score(y_test, lr_preds))"
   ]
  },
  {
   "cell_type": "markdown",
   "id": "c3dcde6b-99fd-4af1-a041-adae0701a610",
   "metadata": {
    "tags": []
   },
   "source": [
    "### Redes Neurais"
   ]
  },
  {
   "cell_type": "code",
   "execution_count": 24,
   "id": "68f91128-829f-49f8-a737-e6e89661ad7b",
   "metadata": {},
   "outputs": [],
   "source": [
    "from sklearn.neural_network import MLPClassifier"
   ]
  },
  {
   "cell_type": "code",
   "execution_count": 176,
   "id": "1fbdd608-3878-48a2-92df-1636b538f968",
   "metadata": {},
   "outputs": [
    {
     "data": {
      "text/plain": [
       "MLPClassifier(random_state=0)"
      ]
     },
     "execution_count": 176,
     "metadata": {},
     "output_type": "execute_result"
    }
   ],
   "source": [
    "rn_model = MLPClassifier(random_state=0)\n",
    "rn_model.fit(X_train, y_train.values)"
   ]
  },
  {
   "cell_type": "code",
   "execution_count": 177,
   "id": "e43ac6db-cf75-41be-81ab-c9d871954656",
   "metadata": {},
   "outputs": [],
   "source": [
    "rn_preds = rn_model.predict(X_test)"
   ]
  },
  {
   "cell_type": "code",
   "execution_count": 178,
   "id": "3e0273bc-6e51-45a9-884e-af48d3bc225d",
   "metadata": {},
   "outputs": [
    {
     "name": "stdout",
     "output_type": "stream",
     "text": [
      "Acurácia: 78.25166762743969\n"
     ]
    }
   ],
   "source": [
    "print(\"Acurácia:\", accuracy_score(y_test, rn_preds)*100)"
   ]
  },
  {
   "cell_type": "code",
   "execution_count": 179,
   "id": "06bab358-9542-4b97-8ac8-a106ce481641",
   "metadata": {},
   "outputs": [
    {
     "data": {
      "image/png": "[encoded data removed]",
      "text/plain": [
       "<Figure size 432x288 with 1 Axes>"
      ]
     },
     "metadata": {
      "needs_background": "light"
     },
     "output_type": "display_data"
    }
   ],
   "source": [
    "imprimeMatrizDeConfusão(y_test, rn_preds, rn_model)"
   ]
  },
  {
   "cell_type": "markdown",
   "id": "3b33d3e5-f47b-48a6-b57a-36aaae347cd5",
   "metadata": {
    "tags": []
   },
   "source": [
    "#### RN: Busca de melhores hiper parâmetros "
   ]
  },
  {
   "cell_type": "code",
   "execution_count": 25,
   "id": "16ed07f0-8067-474b-a161-214df69f7218",
   "metadata": {},
   "outputs": [],
   "source": [
    "rn_model = MLPClassifier(hidden_layer_sizes=(20,30,30,20), activation=\"tanh\", verbose=0, random_state=0)"
   ]
  },
  {
   "cell_type": "code",
   "execution_count": 26,
   "id": "b3cb0e65-c526-4b6a-9e8c-8eed0b33d1fd",
   "metadata": {},
   "outputs": [
    {
     "name": "stdout",
     "output_type": "stream",
     "text": [
      "CPU times: user 19min 40s, sys: 14.8 s, total: 19min 55s\n",
      "Wall time: 5min\n"
     ]
    },
    {
     "data": {
      "text/plain": [
       "MLPClassifier(activation='tanh', hidden_layer_sizes=(20, 30, 30, 20),\n",
       "              random_state=0, verbose=0)"
      ]
     },
     "execution_count": 26,
     "metadata": {},
     "output_type": "execute_result"
    }
   ],
   "source": [
    "%%time\n",
    "rn_model.fit(X_train, y_train.values)"
   ]
  },
  {
   "cell_type": "code",
   "execution_count": 27,
   "id": "ed6fcf68-800c-432e-86cd-2dfc851fa48e",
   "metadata": {},
   "outputs": [],
   "source": [
    "rn_preds = rn_model.predict(X_test)"
   ]
  },
  {
   "cell_type": "code",
   "execution_count": 20,
   "id": "be9ddf79-de0d-4cfd-ac42-7f7d3d72afc7",
   "metadata": {},
   "outputs": [
    {
     "name": "stdout",
     "output_type": "stream",
     "text": [
      "Acurácia: 79.21106810508111\n"
     ]
    }
   ],
   "source": [
    "print(\"Acurácia:\", accuracy_score(y_test, rn_preds)*100)"
   ]
  },
  {
   "cell_type": "code",
   "execution_count": 28,
   "id": "4155d714-a72b-4d67-acfb-80c8b3732bef",
   "metadata": {},
   "outputs": [
    {
     "data": {
      "text/plain": [
       "{'Não Pastejando': {'precision': 0.7851582871380836,\n",
       "  'recall': 0.7421810812291176,\n",
       "  'f1-score': 0.7630650247784952,\n",
       "  'support': 54771,\n",
       "  'specificity': 0.8331358106182211,\n",
       "  'npv': 0.7972780912183988},\n",
       " 'Pastejando': {'precision': 0.7972780912183988,\n",
       "  'recall': 0.8331358106182211,\n",
       "  'f1-score': 0.8148126412159981,\n",
       "  'support': 66659,\n",
       "  'specificity': 0.7421810812291176,\n",
       "  'npv': 0.7851582871380836},\n",
       " 'accuracy': 0.7921106810508112,\n",
       " 'macro avg': {'precision': 0.7912181891782412,\n",
       "  'recall': 0.7876584459236693,\n",
       "  'f1-score': 0.7889388329972467,\n",
       "  'support': 121430},\n",
       " 'weighted avg': {'precision': 0.791811453737686,\n",
       "  'recall': 0.7921106810508112,\n",
       "  'f1-score': 0.7914718794610901,\n",
       "  'support': 121430}}"
      ]
     },
     "execution_count": 28,
     "metadata": {},
     "output_type": "execute_result"
    }
   ],
   "source": [
    "classification_report_extendido(y_test, rn_preds)"
   ]
  },
  {
   "cell_type": "code",
   "execution_count": 21,
   "id": "bf9fca94-79bd-4d4d-8736-755eefbddc44",
   "metadata": {},
   "outputs": [
    {
     "name": "stdout",
     "output_type": "stream",
     "text": [
      "                precision    recall  f1-score   support\n",
      "\n",
      "Não Pastejando      0.785     0.742     0.763     54771\n",
      "    Pastejando      0.797     0.833     0.815     66659\n",
      "\n",
      "      accuracy                          0.792    121430\n",
      "     macro avg      0.791     0.788     0.789    121430\n",
      "  weighted avg      0.792     0.792     0.791    121430\n",
      "\n"
     ]
    }
   ],
   "source": [
    "print(classification_report(y_test, rn_preds, digits=3))"
   ]
  },
  {
   "cell_type": "code",
   "execution_count": 22,
   "id": "14f9d640-8e99-4c7e-bda2-48efdf109a49",
   "metadata": {},
   "outputs": [
    {
     "data": {
      "image/png": "[encoded data removed]",
      "text/plain": [
       "<Figure size 432x288 with 1 Axes>"
      ]
     },
     "metadata": {
      "needs_background": "light"
     },
     "output_type": "display_data"
    }
   ],
   "source": [
    "imprimeMatrizDeConfusão(y_test, rn_preds, rn_model)"
   ]
  },
  {
   "cell_type": "markdown",
   "id": "b08fd1f8-3b0f-495c-aa44-1df95bc9e8c5",
   "metadata": {
    "tags": []
   },
   "source": [
    "### KNN"
   ]
  },
  {
   "cell_type": "code",
   "execution_count": 29,
   "id": "e14468d6-31e1-44b7-8ff2-4ab9f8331c2e",
   "metadata": {},
   "outputs": [],
   "source": [
    "from sklearn.neighbors import KNeighborsClassifier"
   ]
  },
  {
   "cell_type": "code",
   "execution_count": 30,
   "id": "8bf71067-841e-4216-9c3c-139198f27370",
   "metadata": {},
   "outputs": [
    {
     "data": {
      "text/plain": [
       "KNeighborsClassifier(n_jobs=-1, n_neighbors=10, weights='distance')"
      ]
     },
     "execution_count": 30,
     "metadata": {},
     "output_type": "execute_result"
    }
   ],
   "source": [
    "knn_model = KNeighborsClassifier(n_neighbors=10,  weights='distance', n_jobs=-1)\n",
    "knn_model.fit(X_train, y_train)"
   ]
  },
  {
   "cell_type": "code",
   "execution_count": 31,
   "id": "fba60fbc-c9b6-4fda-af91-d5da3bdf7141",
   "metadata": {},
   "outputs": [
    {
     "name": "stdout",
     "output_type": "stream",
     "text": [
      "Acurácia: 0.7988470723873837\n"
     ]
    }
   ],
   "source": [
    "knn_preds = knn_model.predict(X_test)\n",
    "\n",
    "print(\"Acurácia:\", accuracy_score(y_test, knn_preds))"
   ]
  },
  {
   "cell_type": "code",
   "execution_count": 32,
   "id": "045659c6-0b12-4a6d-bbce-c7ee1eb936eb",
   "metadata": {},
   "outputs": [
    {
     "data": {
      "image/png": "[encoded data removed]",
      "text/plain": [
       "<Figure size 432x288 with 1 Axes>"
      ]
     },
     "metadata": {
      "needs_background": "light"
     },
     "output_type": "display_data"
    }
   ],
   "source": [
    "imprimeMatrizDeConfusão(y_test, knn_preds, knn_model)"
   ]
  },
  {
   "cell_type": "markdown",
   "id": "b2b5e906-6fcd-4a38-8abf-2fa176657d2d",
   "metadata": {
    "tags": []
   },
   "source": [
    "#### KNN: Busca de melhores hiper parâmetros"
   ]
  },
  {
   "cell_type": "code",
   "execution_count": 56,
   "id": "d0b65a2c-13d3-4512-a42a-1d61237a5d46",
   "metadata": {},
   "outputs": [],
   "source": [
    "def tune_knn(params):\n",
    "    n_neighbors = params[0]\n",
    "    weights = params[1]\n",
    "    leaf_size = params[2]\n",
    "    p = params[3]\n",
    "    \n",
    "    print(params, '\\n')\n",
    "    \n",
    "    knn_Model = KNeighborsClassifier(n_neighbors=n_neighbors, weights=weights, leaf_size=leaf_size, p=p, n_jobs=-1)\n",
    "    \n",
    "    knn_Model.fit(X_train, y_train)\n",
    "    \n",
    "    preds = knn_Model.predict(X_test)\n",
    "    \n",
    "    return -accuracy_score(y_test, preds)\n",
    "\n",
    "space = [(5, 50), #n_neighbors\n",
    "         ['uniform', 'distance'], # weights\n",
    "         [20,30,40,50,100], # leaf_size\n",
    "         [1,2]] # p"
   ]
  },
  {
   "cell_type": "code",
   "execution_count": null,
   "id": "8a693d2e-e8da-4ee8-bffb-5bc8b22559bc",
   "metadata": {},
   "outputs": [],
   "source": [
    "%%time\n",
    "resultados_knn = gp_minimize(tune_knn, space, random_state=0, verbose=1, n_calls=30, n_random_starts=10, n_jobs=-1)"
   ]
  },
  {
   "cell_type": "code",
   "execution_count": 58,
   "id": "a4ac018c-118d-4b35-888d-6ad7ee1c4a50",
   "metadata": {},
   "outputs": [
    {
     "data": {
      "text/plain": [
       "[50, 'distance', 20, 2]"
      ]
     },
     "execution_count": 58,
     "metadata": {},
     "output_type": "execute_result"
    }
   ],
   "source": [
    "resultados_knn.x"
   ]
  },
  {
   "cell_type": "code",
   "execution_count": 59,
   "id": "5cdaa0e5-7183-40cd-a695-778813533f15",
   "metadata": {},
   "outputs": [],
   "source": [
    "# Melhores hiper parâmetros para o conjunto PRO: n_neighbors=37, weights='distance', leaf_size=20, p=1, n_jobs=-1"
   ]
  },
  {
   "cell_type": "code",
   "execution_count": 52,
   "id": "6291d256-5c0b-4b68-a7fa-5fefc23af51c",
   "metadata": {},
   "outputs": [
    {
     "data": {
      "text/plain": [
       "<AxesSubplot:title={'center':'Convergence plot'}, xlabel='Number of calls $n$', ylabel='$\\\\min f(x)$ after $n$ calls'>"
      ]
     },
     "execution_count": 52,
     "metadata": {},
     "output_type": "execute_result"
    },
    {
     "data": {
      "image/png": "[encoded data removed]",
      "text/plain": [
       "<Figure size 432x288 with 1 Axes>"
      ]
     },
     "metadata": {
      "needs_background": "light"
     },
     "output_type": "display_data"
    }
   ],
   "source": [
    "from skopt.plots import plot_convergence\n",
    "plot_convergence(resultados_knn)"
   ]
  },
  {
   "cell_type": "code",
   "execution_count": 97,
   "id": "b0dcac93-461c-4464-97fb-4ee95c1c4e2e",
   "metadata": {},
   "outputs": [],
   "source": [
    "# Melhores hiper parâmetros para o conjunto PNP: n_neighbors=46, weights='distance', leaf_size=20, p=2, n_jobs=-1"
   ]
  },
  {
   "cell_type": "code",
   "execution_count": 60,
   "id": "a7d8bc5c-4247-4445-b466-8587378cc80b",
   "metadata": {},
   "outputs": [
    {
     "data": {
      "text/plain": [
       "<AxesSubplot:title={'center':'Convergence plot'}, xlabel='Number of calls $n$', ylabel='$\\\\min f(x)$ after $n$ calls'>"
      ]
     },
     "execution_count": 60,
     "metadata": {},
     "output_type": "execute_result"
    },
    {
     "data": {
      "image/png": "[encoded data removed]",
      "text/plain": [
       "<Figure size 432x288 with 1 Axes>"
      ]
     },
     "metadata": {
      "needs_background": "light"
     },
     "output_type": "display_data"
    }
   ],
   "source": [
    "from skopt.plots import plot_convergence\n",
    "plot_convergence(resultados_knn)"
   ]
  },
  {
   "cell_type": "markdown",
   "id": "6d0ff8bb-74c2-45ee-a248-e4d8543aa356",
   "metadata": {
    "tags": []
   },
   "source": [
    "#### KNN: Treinamento com os melhores hiper parâmetros"
   ]
  },
  {
   "cell_type": "code",
   "execution_count": 33,
   "id": "7339b2e7-0156-4bbf-a797-b1f76e5d3512",
   "metadata": {
    "tags": []
   },
   "outputs": [
    {
     "name": "stdout",
     "output_type": "stream",
     "text": [
      "CPU times: user 33.3 s, sys: 95.6 ms, total: 33.4 s\n",
      "Wall time: 6.18 s\n"
     ]
    }
   ],
   "source": [
    "%%time\n",
    "knn_model = KNeighborsClassifier(n_neighbors=46, weights='distance', leaf_size=20, p=2, n_jobs=-1)\n",
    "\n",
    "knn_model.fit(X_train, y_train)\n",
    "preds = knn_model.predict(X_test)"
   ]
  },
  {
   "cell_type": "code",
   "execution_count": 219,
   "id": "62335e3d-ad56-440c-96e0-90d67f0a5a98",
   "metadata": {},
   "outputs": [
    {
     "data": {
      "text/plain": [
       "80.89104834060777"
      ]
     },
     "execution_count": 219,
     "metadata": {},
     "output_type": "execute_result"
    }
   ],
   "source": [
    "accuracy_score(y_test, preds)*100"
   ]
  },
  {
   "cell_type": "code",
   "execution_count": 34,
   "id": "52bceb34-1d23-4e1d-b4a8-69d5294a7df5",
   "metadata": {},
   "outputs": [
    {
     "data": {
      "text/plain": [
       "{'Não Pastejando': {'precision': 0.8002320671092428,\n",
       "  'recall': 0.7680889521827244,\n",
       "  'f1-score': 0.7838311192263979,\n",
       "  'support': 54771,\n",
       "  'specificity': 0.8424518819664262,\n",
       "  'npv': 0.815536095499499},\n",
       " 'Pastejando': {'precision': 0.815536095499499,\n",
       "  'recall': 0.8424518819664262,\n",
       "  'f1-score': 0.8287755132159565,\n",
       "  'support': 66659,\n",
       "  'specificity': 0.7680889521827244,\n",
       "  'npv': 0.8002320671092428},\n",
       " 'accuracy': 0.8089104834060776,\n",
       " 'macro avg': {'precision': 0.8078840813043708,\n",
       "  'recall': 0.8052704170745753,\n",
       "  'f1-score': 0.8063033162211772,\n",
       "  'support': 121430},\n",
       " 'weighted avg': {'precision': 0.8086332136831216,\n",
       "  'recall': 0.8089104834060776,\n",
       "  'f1-score': 0.808503344862155,\n",
       "  'support': 121430}}"
      ]
     },
     "execution_count": 34,
     "metadata": {},
     "output_type": "execute_result"
    }
   ],
   "source": [
    "classification_report_extendido(y_test, preds)"
   ]
  },
  {
   "cell_type": "code",
   "execution_count": 220,
   "id": "7040fb49-90cc-417e-89d6-95c7556eac44",
   "metadata": {},
   "outputs": [
    {
     "name": "stdout",
     "output_type": "stream",
     "text": [
      "                precision    recall  f1-score   support\n",
      "\n",
      "Não Pastejando      0.800     0.768     0.784     54771\n",
      "    Pastejando      0.816     0.842     0.829     66659\n",
      "\n",
      "      accuracy                          0.809    121430\n",
      "     macro avg      0.808     0.805     0.806    121430\n",
      "  weighted avg      0.809     0.809     0.809    121430\n",
      "\n"
     ]
    }
   ],
   "source": [
    "print(classification_report(y_test, preds, digits=3))"
   ]
  },
  {
   "cell_type": "code",
   "execution_count": 221,
   "id": "676eee97-08fa-423d-a074-915eb4bc181e",
   "metadata": {},
   "outputs": [
    {
     "data": {
      "image/png": "[encoded data removed]",
      "text/plain": [
       "<Figure size 432x288 with 1 Axes>"
      ]
     },
     "metadata": {
      "needs_background": "light"
     },
     "output_type": "display_data"
    }
   ],
   "source": [
    "imprimeMatrizDeConfusão(y_test, preds, knn_model)"
   ]
  },
  {
   "cell_type": "markdown",
   "id": "778c58aa-19c6-446c-8e80-5902a0c6d3cc",
   "metadata": {},
   "source": [
    "### Validação Exeterna com os dados do Leonardo"
   ]
  },
  {
   "cell_type": "markdown",
   "id": "3a766117-a27c-4f60-b13a-8161f6b6a784",
   "metadata": {
    "tags": []
   },
   "source": [
    "Leitura dos bancos de dados em DataFrame Pandas. "
   ]
  },
  {
   "cell_type": "code",
   "execution_count": 141,
   "id": "7703ceb8-92c4-468f-b0c8-71ee4a161288",
   "metadata": {},
   "outputs": [],
   "source": [
    "caminho_dados_leo = 'Datasets/Leonardo/dados_pre_processados_leonardo.csv'"
   ]
  },
  {
   "cell_type": "code",
   "execution_count": 142,
   "id": "b8f0d915-fd5c-42ff-a644-a908cad998a4",
   "metadata": {},
   "outputs": [],
   "source": [
    "df_leo = pd.read_csv(caminho_dados_leo)"
   ]
  },
  {
   "cell_type": "code",
   "execution_count": 143,
   "id": "a71957ac-0f5e-4244-855a-338580dbe866",
   "metadata": {},
   "outputs": [
    {
     "data": {
      "text/html": [
       "<div>\n",
       "<style scoped>\n",
       "    .dataframe tbody tr th:only-of-type {\n",
       "        vertical-align: middle;\n",
       "    }\n",
       "\n",
       "    .dataframe tbody tr th {\n",
       "        vertical-align: top;\n",
       "    }\n",
       "\n",
       "    .dataframe thead th {\n",
       "        text-align: right;\n",
       "    }\n",
       "</style>\n",
       "<table border=\"1\" class=\"dataframe\">\n",
       "  <thead>\n",
       "    <tr style=\"text-align: right;\">\n",
       "      <th></th>\n",
       "      <th>SensorID</th>\n",
       "      <th>Date</th>\n",
       "      <th>Value</th>\n",
       "      <th>Voltage</th>\n",
       "      <th>X</th>\n",
       "      <th>Y</th>\n",
       "      <th>Z</th>\n",
       "      <th>Comportamento</th>\n",
       "      <th>Season_fall</th>\n",
       "      <th>Season_spring</th>\n",
       "      <th>Season_summer</th>\n",
       "      <th>magn</th>\n",
       "      <th>sma</th>\n",
       "      <th>ent</th>\n",
       "      <th>erg</th>\n",
       "      <th>pit</th>\n",
       "      <th>rol</th>\n",
       "      <th>icl</th>\n",
       "    </tr>\n",
       "  </thead>\n",
       "  <tbody>\n",
       "    <tr>\n",
       "      <th>0</th>\n",
       "      <td>175810</td>\n",
       "      <td>2019-01-21 08:15:03</td>\n",
       "      <td>1.115</td>\n",
       "      <td>3.04</td>\n",
       "      <td>-0.171</td>\n",
       "      <td>1.115</td>\n",
       "      <td>0.242</td>\n",
       "      <td>Pastejando</td>\n",
       "      <td>0</td>\n",
       "      <td>0</td>\n",
       "      <td>1</td>\n",
       "      <td>1.153703</td>\n",
       "      <td>1.528</td>\n",
       "      <td>7.474426</td>\n",
       "      <td>1.771641</td>\n",
       "      <td>-12.108253</td>\n",
       "      <td>-8.719130</td>\n",
       "      <td>-81.476304</td>\n",
       "    </tr>\n",
       "    <tr>\n",
       "      <th>1</th>\n",
       "      <td>175810</td>\n",
       "      <td>2019-01-21 08:16:04</td>\n",
       "      <td>0.583</td>\n",
       "      <td>3.02</td>\n",
       "      <td>-0.702</td>\n",
       "      <td>0.071</td>\n",
       "      <td>0.583</td>\n",
       "      <td>Pastejando</td>\n",
       "      <td>0</td>\n",
       "      <td>0</td>\n",
       "      <td>1</td>\n",
       "      <td>0.915278</td>\n",
       "      <td>1.356</td>\n",
       "      <td>-0.089163</td>\n",
       "      <td>0.701798</td>\n",
       "      <td>-39.565868</td>\n",
       "      <td>-84.224766</td>\n",
       "      <td>-39.916535</td>\n",
       "    </tr>\n",
       "    <tr>\n",
       "      <th>2</th>\n",
       "      <td>175810</td>\n",
       "      <td>2019-01-21 08:16:05</td>\n",
       "      <td>0.683</td>\n",
       "      <td>3.01</td>\n",
       "      <td>-0.594</td>\n",
       "      <td>-0.026</td>\n",
       "      <td>0.683</td>\n",
       "      <td>Pastejando</td>\n",
       "      <td>0</td>\n",
       "      <td>0</td>\n",
       "      <td>1</td>\n",
       "      <td>0.905539</td>\n",
       "      <td>1.303</td>\n",
       "      <td>0.138071</td>\n",
       "      <td>0.672402</td>\n",
       "      <td>-48.959606</td>\n",
       "      <td>-92.506296</td>\n",
       "      <td>-49.007300</td>\n",
       "    </tr>\n",
       "    <tr>\n",
       "      <th>3</th>\n",
       "      <td>175810</td>\n",
       "      <td>2019-01-21 08:16:06</td>\n",
       "      <td>0.631</td>\n",
       "      <td>3.01</td>\n",
       "      <td>-0.706</td>\n",
       "      <td>0.059</td>\n",
       "      <td>0.631</td>\n",
       "      <td>Pastejando</td>\n",
       "      <td>0</td>\n",
       "      <td>0</td>\n",
       "      <td>1</td>\n",
       "      <td>0.948724</td>\n",
       "      <td>1.396</td>\n",
       "      <td>-0.031235</td>\n",
       "      <td>0.810140</td>\n",
       "      <td>-41.690272</td>\n",
       "      <td>-85.222926</td>\n",
       "      <td>-41.913249</td>\n",
       "    </tr>\n",
       "    <tr>\n",
       "      <th>4</th>\n",
       "      <td>175810</td>\n",
       "      <td>2019-01-21 08:16:07</td>\n",
       "      <td>0.604</td>\n",
       "      <td>3.01</td>\n",
       "      <td>-0.805</td>\n",
       "      <td>0.081</td>\n",
       "      <td>0.604</td>\n",
       "      <td>Pastejando</td>\n",
       "      <td>0</td>\n",
       "      <td>0</td>\n",
       "      <td>1</td>\n",
       "      <td>1.009654</td>\n",
       "      <td>1.490</td>\n",
       "      <td>-0.197988</td>\n",
       "      <td>1.039180</td>\n",
       "      <td>-36.742843</td>\n",
       "      <td>-84.254174</td>\n",
       "      <td>-37.126721</td>\n",
       "    </tr>\n",
       "  </tbody>\n",
       "</table>\n",
       "</div>"
      ],
      "text/plain": [
       "   SensorID                 Date  Value  Voltage      X      Y      Z  \\\n",
       "0    175810  2019-01-21 08:15:03  1.115     3.04 -0.171  1.115  0.242   \n",
       "1    175810  2019-01-21 08:16:04  0.583     3.02 -0.702  0.071  0.583   \n",
       "2    175810  2019-01-21 08:16:05  0.683     3.01 -0.594 -0.026  0.683   \n",
       "3    175810  2019-01-21 08:16:06  0.631     3.01 -0.706  0.059  0.631   \n",
       "4    175810  2019-01-21 08:16:07  0.604     3.01 -0.805  0.081  0.604   \n",
       "\n",
       "  Comportamento  Season_fall  Season_spring  Season_summer      magn    sma  \\\n",
       "0    Pastejando            0              0              1  1.153703  1.528   \n",
       "1    Pastejando            0              0              1  0.915278  1.356   \n",
       "2    Pastejando            0              0              1  0.905539  1.303   \n",
       "3    Pastejando            0              0              1  0.948724  1.396   \n",
       "4    Pastejando            0              0              1  1.009654  1.490   \n",
       "\n",
       "        ent       erg        pit        rol        icl  \n",
       "0  7.474426  1.771641 -12.108253  -8.719130 -81.476304  \n",
       "1 -0.089163  0.701798 -39.565868 -84.224766 -39.916535  \n",
       "2  0.138071  0.672402 -48.959606 -92.506296 -49.007300  \n",
       "3 -0.031235  0.810140 -41.690272 -85.222926 -41.913249  \n",
       "4 -0.197988  1.039180 -36.742843 -84.254174 -37.126721  "
      ]
     },
     "execution_count": 143,
     "metadata": {},
     "output_type": "execute_result"
    }
   ],
   "source": [
    "df_leo.head()"
   ]
  },
  {
   "cell_type": "code",
   "execution_count": 144,
   "id": "9ad995db-8037-459c-b204-163d5ad1b9f0",
   "metadata": {},
   "outputs": [],
   "source": [
    "# Seleciona os abributos correspondentes da lista features_aplicaveis\n",
    "df_leo = df_leo[features_aplicaveis]"
   ]
  },
  {
   "cell_type": "code",
   "execution_count": 145,
   "id": "6baa38ee-913e-47d8-bc47-3619e756d9e4",
   "metadata": {},
   "outputs": [],
   "source": [
    "df_leo = df_leo.rename({'X': 'a', 'Y': 'b', 'Z': 'c'}, axis=1)  "
   ]
  },
  {
   "cell_type": "code",
   "execution_count": 146,
   "id": "2c8711b9-48a2-403c-a4ac-84d98e6c9c7a",
   "metadata": {},
   "outputs": [],
   "source": [
    "df_leo = df_leo.rename({'a': 'Y', 'b': 'Z', 'c': 'X'}, axis=1)  "
   ]
  },
  {
   "cell_type": "code",
   "execution_count": 147,
   "id": "79bd7041-3c8a-49ca-9ee8-6261e1a41406",
   "metadata": {},
   "outputs": [],
   "source": [
    "df_leo = df_leo[features_aplicaveis]"
   ]
  },
  {
   "cell_type": "markdown",
   "id": "4df176fc-6c3e-43b9-92eb-0b30380f4e3c",
   "metadata": {
    "tags": []
   },
   "source": [
    "#### Divisão entre variáveis preditoras(X) e variáveis de resposta(y)"
   ]
  },
  {
   "cell_type": "code",
   "execution_count": 148,
   "id": "30e43960-aa26-449a-88d1-9acc292b5820",
   "metadata": {
    "tags": []
   },
   "outputs": [],
   "source": [
    "y = df_leo.Comportamento\n",
    "X = df_leo.drop('Comportamento', axis=1)\n",
    "y = y.replace(to_replace=['Ocio', 'Ruminando'], value='Não Pastejando')"
   ]
  },
  {
   "cell_type": "code",
   "execution_count": 149,
   "id": "c2274895-cff7-4903-a29a-52dca2528d7d",
   "metadata": {},
   "outputs": [],
   "source": [
    "# Para reescalar os dados\n",
    "X_season = X[['Season_fall', 'Season_spring', 'Season_summer']]\n",
    "\n",
    "X.drop(['Season_fall', 'Season_spring', 'Season_summer'], axis=1, inplace=True)\n",
    "\n",
    "columns = X.columns\n",
    "index = X.index\n",
    "\n",
    "X = sc.transform(X)\n",
    "\n",
    "X = pd.DataFrame(X, columns=columns, index=index)\n",
    "\n",
    "X = pd.concat([X, X_season], axis=1)"
   ]
  },
  {
   "cell_type": "markdown",
   "id": "362f9d60-10e0-423f-8031-b9da79c4ac21",
   "metadata": {
    "tags": []
   },
   "source": [
    "#### Com LGBMClassifier"
   ]
  },
  {
   "cell_type": "code",
   "execution_count": 94,
   "id": "4d3f8bf1-25c2-40d1-b0b0-54db71640825",
   "metadata": {},
   "outputs": [
    {
     "name": "stdout",
     "output_type": "stream",
     "text": [
      "CPU times: user 3.34 s, sys: 47.7 ms, total: 3.39 s\n",
      "Wall time: 579 ms\n"
     ]
    },
    {
     "data": {
      "text/plain": [
       "56.711199361146484"
      ]
     },
     "execution_count": 94,
     "metadata": {},
     "output_type": "execute_result"
    }
   ],
   "source": [
    "%%time\n",
    "lgb_preds = lgb_model.predict(X)\n",
    "\n",
    "accuracy_score(y, lgb_preds)*100"
   ]
  },
  {
   "cell_type": "code",
   "execution_count": 96,
   "id": "ed764894-7565-4308-9238-ed7ec04cbf95",
   "metadata": {},
   "outputs": [
    {
     "data": {
      "text/plain": [
       "{'Não Pastejando': {'precision': 0.6621931260229132,\n",
       "  'recall': 0.5429348687982628,\n",
       "  'f1-score': 0.596663158670894,\n",
       "  'support': 81973,\n",
       "  'specificity': 0.6018658155928874,\n",
       "  'npv': 0.4780955299558428},\n",
       " 'Pastejando': {'precision': 0.4780955299558428,\n",
       "  'recall': 0.6018658155928874,\n",
       "  'f1-score': 0.5328882505919341,\n",
       "  'support': 57026,\n",
       "  'specificity': 0.5429348687982628,\n",
       "  'npv': 0.6621931260229132},\n",
       " 'accuracy': 0.5671119936114648,\n",
       " 'macro avg': {'precision': 0.5701443279893781,\n",
       "  'recall': 0.5724003421955751,\n",
       "  'f1-score': 0.5647757046314141,\n",
       "  'support': 138999},\n",
       " 'weighted avg': {'precision': 0.5866648883138594,\n",
       "  'recall': 0.5671119936114648,\n",
       "  'f1-score': 0.5704987408829187,\n",
       "  'support': 138999}}"
      ]
     },
     "execution_count": 96,
     "metadata": {},
     "output_type": "execute_result"
    }
   ],
   "source": [
    "classification_report_extendido(y, lgb_preds)"
   ]
  },
  {
   "cell_type": "code",
   "execution_count": 233,
   "id": "a5bceb72-d123-43a3-b9c9-b6b5729ae40c",
   "metadata": {},
   "outputs": [
    {
     "name": "stdout",
     "output_type": "stream",
     "text": [
      "                precision    recall  f1-score   support\n",
      "\n",
      "Não Pastejando      0.662     0.543     0.597     81973\n",
      "    Pastejando      0.478     0.602     0.533     57026\n",
      "\n",
      "      accuracy                          0.567    138999\n",
      "     macro avg      0.570     0.572     0.565    138999\n",
      "  weighted avg      0.587     0.567     0.570    138999\n",
      "\n"
     ]
    }
   ],
   "source": [
    "print(classification_report(y, lgb_preds, digits=3))"
   ]
  },
  {
   "cell_type": "code",
   "execution_count": 234,
   "id": "ea3e983d-3c63-44c5-a5fd-ad8195e910b0",
   "metadata": {},
   "outputs": [
    {
     "data": {
      "image/png": "[encoded data removed]",
      "text/plain": [
       "<Figure size 432x288 with 1 Axes>"
      ]
     },
     "metadata": {
      "needs_background": "light"
     },
     "output_type": "display_data"
    }
   ],
   "source": [
    "imprimeMatrizDeConfusão(y, lgb_preds, lgb_model)"
   ]
  },
  {
   "cell_type": "markdown",
   "id": "1157f368-3c33-4a1d-8c07-b45a60ec76e7",
   "metadata": {
    "tags": []
   },
   "source": [
    "#### Com RF"
   ]
  },
  {
   "cell_type": "code",
   "execution_count": 97,
   "id": "c430c5a8-d551-4c10-8c35-010eb4870237",
   "metadata": {
    "tags": []
   },
   "outputs": [
    {
     "name": "stdout",
     "output_type": "stream",
     "text": [
      "CPU times: user 3.76 s, sys: 24.5 ms, total: 3.79 s\n",
      "Wall time: 578 ms\n"
     ]
    }
   ],
   "source": [
    "%%time\n",
    "preds = rf_model.predict(X)"
   ]
  },
  {
   "cell_type": "code",
   "execution_count": 98,
   "id": "23ff73a0-284e-4de3-830d-3d47ebdef509",
   "metadata": {},
   "outputs": [
    {
     "data": {
      "text/plain": [
       "56.797530917488615"
      ]
     },
     "execution_count": 98,
     "metadata": {},
     "output_type": "execute_result"
    }
   ],
   "source": [
    "accuracy_score(y, preds)*100"
   ]
  },
  {
   "cell_type": "code",
   "execution_count": 99,
   "id": "7de85aa9-8ef4-4e7d-9100-ce5a2a61fd41",
   "metadata": {},
   "outputs": [
    {
     "data": {
      "text/plain": [
       "{'Não Pastejando': {'precision': 0.6632850673340484,\n",
       "  'recall': 0.5431666524343381,\n",
       "  'f1-score': 0.5972461619975721,\n",
       "  'support': 81973,\n",
       "  'specificity': 0.6036369375372637,\n",
       "  'npv': 0.4789553505586398},\n",
       " 'Pastejando': {'precision': 0.4789553505586398,\n",
       "  'recall': 0.6036369375372637,\n",
       "  'f1-score': 0.5341163875032002,\n",
       "  'support': 57026,\n",
       "  'specificity': 0.5431666524343381,\n",
       "  'npv': 0.6632850673340484},\n",
       " 'accuracy': 0.5679753091748861,\n",
       " 'macro avg': {'precision': 0.5711202089463441,\n",
       "  'recall': 0.5734017949858009,\n",
       "  'f1-score': 0.5656812747503861,\n",
       "  'support': 138999},\n",
       " 'weighted avg': {'precision': 0.5876615993318725,\n",
       "  'recall': 0.5679753091748861,\n",
       "  'f1-score': 0.5713464179683628,\n",
       "  'support': 138999}}"
      ]
     },
     "execution_count": 99,
     "metadata": {},
     "output_type": "execute_result"
    }
   ],
   "source": [
    "classification_report_extendido(y, preds)"
   ]
  },
  {
   "cell_type": "code",
   "execution_count": 286,
   "id": "320bc9a9-1be1-4330-9d76-dfc3a8526d5f",
   "metadata": {},
   "outputs": [
    {
     "name": "stdout",
     "output_type": "stream",
     "text": [
      "                precision    recall  f1-score   support\n",
      "\n",
      "Não Pastejando      0.663     0.543     0.597     81973\n",
      "    Pastejando      0.479     0.604     0.534     57026\n",
      "\n",
      "      accuracy                          0.568    138999\n",
      "     macro avg      0.571     0.573     0.566    138999\n",
      "  weighted avg      0.588     0.568     0.571    138999\n",
      "\n"
     ]
    }
   ],
   "source": [
    "print(classification_report(y, preds, digits=3))"
   ]
  },
  {
   "cell_type": "code",
   "execution_count": 287,
   "id": "8eaf79a7-1bed-43fb-ab51-e01613a7dae9",
   "metadata": {},
   "outputs": [
    {
     "data": {
      "image/png": "[encoded data removed]",
      "text/plain": [
       "<Figure size 432x288 with 1 Axes>"
      ]
     },
     "metadata": {
      "needs_background": "light"
     },
     "output_type": "display_data"
    }
   ],
   "source": [
    "imprimeMatrizDeConfusão(y, preds, rf_model)"
   ]
  },
  {
   "cell_type": "markdown",
   "id": "68a22a07-8b69-4267-8495-cfc847f50bd5",
   "metadata": {
    "tags": []
   },
   "source": [
    "#### Com Gradient Boosting"
   ]
  },
  {
   "cell_type": "code",
   "execution_count": 100,
   "id": "6b769a27-a0c3-42ae-8924-ae33012d363e",
   "metadata": {},
   "outputs": [],
   "source": [
    "from sklearn.preprocessing import OrdinalEncoder\n",
    "\n",
    "ordinal_encoder = OrdinalEncoder()\n",
    "\n",
    "y_ordinal = ordinal_encoder.fit_transform(y.array.reshape(-1,1))"
   ]
  },
  {
   "cell_type": "code",
   "execution_count": 101,
   "id": "8651c4a7-2dd4-4235-9993-f8226fd57c45",
   "metadata": {
    "tags": []
   },
   "outputs": [
    {
     "name": "stdout",
     "output_type": "stream",
     "text": [
      "CPU times: user 2.62 s, sys: 35.6 ms, total: 2.66 s\n",
      "Wall time: 373 ms\n"
     ]
    }
   ],
   "source": [
    "%%time\n",
    "preds = gb_model.predict(X)"
   ]
  },
  {
   "cell_type": "code",
   "execution_count": 103,
   "id": "704028c4-c05c-4562-881e-42e4c9b1c7e7",
   "metadata": {},
   "outputs": [
    {
     "data": {
      "text/plain": [
       "55.88745242771531"
      ]
     },
     "execution_count": 103,
     "metadata": {},
     "output_type": "execute_result"
    }
   ],
   "source": [
    "preds = ordinal_encoder.inverse_transform(preds.reshape(-1,1))\n",
    "accuracy_score(y, preds)*100"
   ]
  },
  {
   "cell_type": "code",
   "execution_count": 104,
   "id": "f2f86688-247d-4662-9324-f45c185b38f5",
   "metadata": {},
   "outputs": [
    {
     "data": {
      "text/plain": [
       "{'Não Pastejando': {'precision': 0.655327468230694,\n",
       "  'recall': 0.5315896697693143,\n",
       "  'f1-score': 0.5870086483282593,\n",
       "  'support': 81973,\n",
       "  'specificity': array([0.59809561]),\n",
       "  'npv': array([0.47041543])},\n",
       " 'Pastejando': {'precision': 0.4704154253558424,\n",
       "  'recall': 0.5980956055132747,\n",
       "  'f1-score': 0.5266270362078284,\n",
       "  'support': 57026,\n",
       "  'specificity': array([0.53158967]),\n",
       "  'npv': array([0.65532747])},\n",
       " 'accuracy': 0.5588745242771531,\n",
       " 'macro avg': {'precision': 0.5628714467932682,\n",
       "  'recall': 0.5648426376412945,\n",
       "  'f1-score': 0.5568178422680439,\n",
       "  'support': 138999},\n",
       " 'weighted avg': {'precision': 0.5794650939907262,\n",
       "  'recall': 0.5588745242771531,\n",
       "  'f1-score': 0.5622363707379191,\n",
       "  'support': 138999}}"
      ]
     },
     "execution_count": 104,
     "metadata": {},
     "output_type": "execute_result"
    }
   ],
   "source": [
    "classification_report_extendido(y, preds)"
   ]
  },
  {
   "cell_type": "code",
   "execution_count": 291,
   "id": "c30fe85b-c281-4fd1-b5ee-763edb6fa876",
   "metadata": {},
   "outputs": [
    {
     "name": "stdout",
     "output_type": "stream",
     "text": [
      "                precision    recall  f1-score   support\n",
      "\n",
      "Não Pastejando      0.655     0.532     0.587     81973\n",
      "    Pastejando      0.470     0.598     0.527     57026\n",
      "\n",
      "      accuracy                          0.559    138999\n",
      "     macro avg      0.563     0.565     0.557    138999\n",
      "  weighted avg      0.579     0.559     0.562    138999\n",
      "\n"
     ]
    }
   ],
   "source": [
    "print(classification_report(y, preds, digits=3))"
   ]
  },
  {
   "cell_type": "code",
   "execution_count": 292,
   "id": "4b46368e-2be6-4e73-b208-2e3b0b753d50",
   "metadata": {},
   "outputs": [
    {
     "data": {
      "image/png": "[encoded data removed]",
      "text/plain": [
       "<Figure size 432x288 with 1 Axes>"
      ]
     },
     "metadata": {
      "needs_background": "light"
     },
     "output_type": "display_data"
    }
   ],
   "source": [
    "imprimeMatrizDeConfusão(y, preds, gb_model)"
   ]
  },
  {
   "cell_type": "markdown",
   "id": "6ad6cfee-2a55-48a0-b909-13c2741da3e6",
   "metadata": {
    "tags": []
   },
   "source": [
    "#### Com KNN"
   ]
  },
  {
   "cell_type": "code",
   "execution_count": 105,
   "id": "5bbc44af-74a1-4ac3-889a-a6ee7b3c871b",
   "metadata": {
    "tags": []
   },
   "outputs": [
    {
     "name": "stdout",
     "output_type": "stream",
     "text": [
      "CPU times: user 3min 19s, sys: 235 ms, total: 3min 19s\n",
      "Wall time: 31.3 s\n"
     ]
    }
   ],
   "source": [
    "%%time\n",
    "\n",
    "preds = knn_model.predict(X)"
   ]
  },
  {
   "cell_type": "code",
   "execution_count": 236,
   "id": "ad3f0c40-8595-4a76-b4fb-2606d1a7df63",
   "metadata": {},
   "outputs": [
    {
     "data": {
      "text/plain": [
       "52.03202900740293"
      ]
     },
     "execution_count": 236,
     "metadata": {},
     "output_type": "execute_result"
    }
   ],
   "source": [
    "accuracy_score(y, preds)*100"
   ]
  },
  {
   "cell_type": "code",
   "execution_count": 106,
   "id": "0c87e790-df98-4a6f-8099-986a1ff2f822",
   "metadata": {},
   "outputs": [
    {
     "data": {
      "text/plain": [
       "{'Não Pastejando': {'precision': 0.6253276969458644,\n",
       "  'recall': 0.46558013004281895,\n",
       "  'f1-score': 0.5337575609244432,\n",
       "  'support': 81973,\n",
       "  'specificity': 0.5990074702767159,\n",
       "  'npv': 0.438121256429002},\n",
       " 'Pastejando': {'precision': 0.438121256429002,\n",
       "  'recall': 0.5990074702767159,\n",
       "  'f1-score': 0.5060855007296675,\n",
       "  'support': 57026,\n",
       "  'specificity': 0.46558013004281895,\n",
       "  'npv': 0.6253276969458644},\n",
       " 'accuracy': 0.5203202900740294,\n",
       " 'macro avg': {'precision': 0.5317244766874332,\n",
       "  'recall': 0.5322938001597675,\n",
       "  'f1-score': 0.5199215308270553,\n",
       "  'support': 138999},\n",
       " 'weighted avg': {'precision': 0.5485240186682179,\n",
       "  'recall': 0.5203202900740294,\n",
       "  'f1-score': 0.5224047677053029,\n",
       "  'support': 138999}}"
      ]
     },
     "execution_count": 106,
     "metadata": {},
     "output_type": "execute_result"
    }
   ],
   "source": [
    "classification_report_extendido(y, preds)"
   ]
  },
  {
   "cell_type": "code",
   "execution_count": 237,
   "id": "e18d8f5a-a361-49f0-9999-4eea843c4409",
   "metadata": {},
   "outputs": [
    {
     "name": "stdout",
     "output_type": "stream",
     "text": [
      "                precision    recall  f1-score   support\n",
      "\n",
      "Não Pastejando      0.625     0.466     0.534     81973\n",
      "    Pastejando      0.438     0.599     0.506     57026\n",
      "\n",
      "      accuracy                          0.520    138999\n",
      "     macro avg      0.532     0.532     0.520    138999\n",
      "  weighted avg      0.549     0.520     0.522    138999\n",
      "\n"
     ]
    }
   ],
   "source": [
    "print(classification_report(y, preds, digits=3))"
   ]
  },
  {
   "cell_type": "code",
   "execution_count": 238,
   "id": "6bdae577-7ab4-4bbb-96c7-1a9511c7b575",
   "metadata": {},
   "outputs": [
    {
     "data": {
      "image/png": "[encoded data removed]",
      "text/plain": [
       "<Figure size 432x288 with 1 Axes>"
      ]
     },
     "metadata": {
      "needs_background": "light"
     },
     "output_type": "display_data"
    }
   ],
   "source": [
    "imprimeMatrizDeConfusão(y, preds, knn_model)"
   ]
  },
  {
   "cell_type": "markdown",
   "id": "796232a4-8777-48c3-8069-96d0a365e176",
   "metadata": {
    "tags": []
   },
   "source": [
    "#### Com RN"
   ]
  },
  {
   "cell_type": "code",
   "execution_count": 107,
   "id": "40cfcd45-13d5-4d2d-9150-215d8fbc4d18",
   "metadata": {
    "tags": []
   },
   "outputs": [
    {
     "name": "stdout",
     "output_type": "stream",
     "text": [
      "CPU times: user 1.32 s, sys: 27.9 ms, total: 1.35 s\n",
      "Wall time: 343 ms\n"
     ]
    }
   ],
   "source": [
    "%%time\n",
    "preds = rn_model.predict(X)"
   ]
  },
  {
   "cell_type": "code",
   "execution_count": 33,
   "id": "415a316b-7eb8-4c62-a8ba-ca5cd724137a",
   "metadata": {},
   "outputs": [
    {
     "data": {
      "text/plain": [
       "53.903265491118646"
      ]
     },
     "execution_count": 33,
     "metadata": {},
     "output_type": "execute_result"
    }
   ],
   "source": [
    "accuracy_score(y, preds)*100"
   ]
  },
  {
   "cell_type": "code",
   "execution_count": 108,
   "id": "648e0c92-1d97-4809-9bab-bb3a33ecd3ed",
   "metadata": {},
   "outputs": [
    {
     "data": {
      "text/plain": [
       "{'Não Pastejando': {'precision': 0.658333775631159,\n",
       "  'recall': 0.4539421516840911,\n",
       "  'f1-score': 0.5373584796672828,\n",
       "  'support': 81973,\n",
       "  'specificity': 0.6613474555465928,\n",
       "  'npv': 0.45727241864299917},\n",
       " 'Pastejando': {'precision': 0.45727241864299917,\n",
       "  'recall': 0.6613474555465928,\n",
       "  'f1-score': 0.5406947570644148,\n",
       "  'support': 57026,\n",
       "  'specificity': 0.4539421516840911,\n",
       "  'npv': 0.658333775631159},\n",
       " 'accuracy': 0.5390326549111865,\n",
       " 'macro avg': {'precision': 0.5578030971370791,\n",
       "  'recall': 0.557644803615342,\n",
       "  'f1-score': 0.5390266183658488,\n",
       "  'support': 138999},\n",
       " 'weighted avg': {'precision': 0.5758459523834608,\n",
       "  'recall': 0.5390326549111865,\n",
       "  'f1-score': 0.5387272273190562,\n",
       "  'support': 138999}}"
      ]
     },
     "execution_count": 108,
     "metadata": {},
     "output_type": "execute_result"
    }
   ],
   "source": [
    "classification_report_extendido(y, preds)"
   ]
  },
  {
   "cell_type": "code",
   "execution_count": 34,
   "id": "4c7f14ca-2f9a-4ad7-85bd-67cc32246d11",
   "metadata": {},
   "outputs": [
    {
     "name": "stdout",
     "output_type": "stream",
     "text": [
      "                precision    recall  f1-score   support\n",
      "\n",
      "Não Pastejando      0.658     0.454     0.537     81973\n",
      "    Pastejando      0.457     0.661     0.541     57026\n",
      "\n",
      "      accuracy                          0.539    138999\n",
      "     macro avg      0.558     0.558     0.539    138999\n",
      "  weighted avg      0.576     0.539     0.539    138999\n",
      "\n"
     ]
    }
   ],
   "source": [
    "print(classification_report(y, preds, digits=3))"
   ]
  },
  {
   "cell_type": "code",
   "execution_count": 35,
   "id": "5f838e40-70ea-418d-8bd1-5d701e7fa1aa",
   "metadata": {},
   "outputs": [
    {
     "data": {
      "image/png": "[encoded data removed]",
      "text/plain": [
       "<Figure size 432x288 with 1 Axes>"
      ]
     },
     "metadata": {
      "needs_background": "light"
     },
     "output_type": "display_data"
    }
   ],
   "source": [
    "imprimeMatrizDeConfusão(y, preds, rn_model)"
   ]
  },
  {
   "cell_type": "markdown",
   "id": "247628ad-491f-401b-8f9a-84d820c41618",
   "metadata": {
    "tags": []
   },
   "source": [
    "#### Com GLM"
   ]
  },
  {
   "cell_type": "code",
   "execution_count": 150,
   "id": "4b348e10-388b-45fd-9e1e-e026651d330c",
   "metadata": {},
   "outputs": [],
   "source": [
    "df = pd.concat([X, y], axis=1)"
   ]
  },
  {
   "cell_type": "code",
   "execution_count": 151,
   "id": "d49571fb-b94e-46ca-8f59-2e0f9c91cb64",
   "metadata": {},
   "outputs": [],
   "source": [
    "y, X = dmatrices( 'Comportamento ~ X + Y + Z + Season_fall + Season_spring + Season_summer + magn + sma + ent + pit + rol + icl', data=df, return_type='dataframe')"
   ]
  },
  {
   "cell_type": "code",
   "execution_count": 152,
   "id": "7d19d2e3-f9ff-4516-9473-b9dc56127b95",
   "metadata": {},
   "outputs": [
    {
     "name": "stdout",
     "output_type": "stream",
     "text": [
      "CPU times: user 9.53 ms, sys: 13 µs, total: 9.54 ms\n",
      "Wall time: 8.13 ms\n"
     ]
    }
   ],
   "source": [
    "%%time\n",
    "preds = glm_results.predict(X)"
   ]
  },
  {
   "cell_type": "code",
   "execution_count": 153,
   "id": "d2721c8d-97c5-4df1-8f7c-a6544e9ff59a",
   "metadata": {},
   "outputs": [],
   "source": [
    "preds[2] = preds.median(axis=1)"
   ]
  },
  {
   "cell_type": "code",
   "execution_count": 154,
   "id": "4347ebfc-d6ff-4fc3-b047-42941af412b2",
   "metadata": {},
   "outputs": [],
   "source": [
    "preds = preds.reset_index(drop=True)"
   ]
  },
  {
   "cell_type": "code",
   "execution_count": 155,
   "id": "c97f8966-394c-4520-a791-539ba776ed2b",
   "metadata": {},
   "outputs": [],
   "source": [
    "b = np.zeros((preds.shape[0], 2))"
   ]
  },
  {
   "cell_type": "code",
   "execution_count": 156,
   "id": "d719ec75-1334-4d9a-b43d-a93f8cf1eddc",
   "metadata": {},
   "outputs": [],
   "source": [
    "for i in range(preds.shape[0]):\n",
    "    for j in range(2):\n",
    "        if preds.loc[i,j] > preds.loc[i,2]:\n",
    "            b[i,j] = 1\n",
    "        else:\n",
    "            b[i,j] = 0"
   ]
  },
  {
   "cell_type": "code",
   "execution_count": 157,
   "id": "e6312bbf-19ec-4701-a361-94c80afbfa14",
   "metadata": {},
   "outputs": [],
   "source": [
    "preds = pd.DataFrame(b, columns=['Não Pastejando', 'Pastejando'])"
   ]
  },
  {
   "cell_type": "code",
   "execution_count": 158,
   "id": "81231837-22a6-4d94-b53d-519741284851",
   "metadata": {},
   "outputs": [
    {
     "data": {
      "text/plain": [
       "43.332685846660766"
      ]
     },
     "execution_count": 158,
     "metadata": {},
     "output_type": "execute_result"
    }
   ],
   "source": [
    "accuracy_score(y, preds)*100"
   ]
  },
  {
   "cell_type": "code",
   "execution_count": 159,
   "id": "752d7733-9e30-4639-8fee-59b63a9108cf",
   "metadata": {},
   "outputs": [
    {
     "name": "stdout",
     "output_type": "stream",
     "text": [
      "              precision    recall  f1-score   support\n",
      "\n",
      "           0      0.535     0.300     0.384     81973\n",
      "           1      0.383     0.625     0.475     57026\n",
      "\n",
      "   micro avg      0.433     0.433     0.433    138999\n",
      "   macro avg      0.459     0.463     0.430    138999\n",
      "weighted avg      0.473     0.433     0.422    138999\n",
      " samples avg      0.433     0.433     0.433    138999\n",
      "\n"
     ]
    }
   ],
   "source": [
    "print(classification_report(y, preds, digits=3))"
   ]
  },
  {
   "cell_type": "code",
   "execution_count": 160,
   "id": "2892f04e-5b22-46cb-a7d6-c223be830bac",
   "metadata": {},
   "outputs": [],
   "source": [
    "# Reverso de get_dummies\n",
    "preds = preds.idxmax(axis=1)"
   ]
  },
  {
   "cell_type": "code",
   "execution_count": 161,
   "id": "0e51b155-494b-4a24-97da-26a0a3718ea1",
   "metadata": {},
   "outputs": [],
   "source": [
    "y = y.rename(columns={\"Comportamento[Não Pastejando]\" : \"Não Pastejando\", \"Comportamento[Pastejando]\" : \"Pastejando\"})"
   ]
  },
  {
   "cell_type": "code",
   "execution_count": 162,
   "id": "019b1b0c-c0ef-4332-9b76-ee3a18088d94",
   "metadata": {},
   "outputs": [],
   "source": [
    "y = y.idxmax(axis=1)"
   ]
  },
  {
   "cell_type": "code",
   "execution_count": 163,
   "id": "e5d18290-34f4-4e61-9f20-e8ee229694aa",
   "metadata": {},
   "outputs": [],
   "source": [
    "y = y.reset_index(drop=True)"
   ]
  },
  {
   "cell_type": "code",
   "execution_count": 164,
   "id": "c60202e4-fc26-44fc-9e30-11f0f1f2cf1b",
   "metadata": {},
   "outputs": [
    {
     "data": {
      "text/plain": [
       "{'Não Pastejando': {'precision': 0.5348705677615836,\n",
       "  'recall': 0.29995242335891087,\n",
       "  'f1-score': 0.38435865971565464,\n",
       "  'support': 81973,\n",
       "  'specificity': 0.6250482236172974,\n",
       "  'npv': 0.38314934052822236},\n",
       " 'Pastejando': {'precision': 0.38314934052822236,\n",
       "  'recall': 0.6250482236172974,\n",
       "  'f1-score': 0.4750791376495285,\n",
       "  'support': 57026,\n",
       "  'specificity': 0.29995242335891087,\n",
       "  'npv': 0.5348705677615836},\n",
       " 'accuracy': 0.4333268584666077,\n",
       " 'macro avg': {'precision': 0.459009954144903,\n",
       "  'recall': 0.4625003234881041,\n",
       "  'f1-score': 0.4297188986825916,\n",
       "  'support': 138999},\n",
       " 'weighted avg': {'precision': 0.47262512208060986,\n",
       "  'recall': 0.4333268584666077,\n",
       "  'f1-score': 0.4215778193834011,\n",
       "  'support': 138999}}"
      ]
     },
     "execution_count": 164,
     "metadata": {},
     "output_type": "execute_result"
    }
   ],
   "source": [
    "classification_report_extendido(y, preds)"
   ]
  },
  {
   "cell_type": "code",
   "execution_count": 162,
   "id": "92499d92-aad0-4825-b272-36d8c3c5830d",
   "metadata": {},
   "outputs": [
    {
     "data": {
      "image/png": "[encoded data removed]",
      "text/plain": [
       "<Figure size 432x288 with 1 Axes>"
      ]
     },
     "metadata": {
      "needs_background": "light"
     },
     "output_type": "display_data"
    }
   ],
   "source": [
    "from sklearn.metrics import confusion_matrix\n",
    "from sklearn.metrics import ConfusionMatrixDisplay\n",
    "import matplotlib.pyplot as plt\n",
    "\n",
    "cm = confusion_matrix(y, preds, normalize='true')\n",
    "disp = ConfusionMatrixDisplay(confusion_matrix=cm)\n",
    "disp.plot(values_format= '.2%', xticks_rotation=60, colorbar=False)\n",
    "disp.ax_.set_title(\"Matriz de confusão normalizada sobre as condições verdadeiras\")\n",
    "plt.show()"
   ]
  },
  {
   "cell_type": "markdown",
   "id": "8e49b6c8-edee-4275-836e-d927d0d9cd6e",
   "metadata": {
    "tags": []
   },
   "source": [
    "### Teste de RF em CV"
   ]
  },
  {
   "cell_type": "code",
   "execution_count": 22,
   "id": "27698335-c464-41b3-a257-485b8baf6a5a",
   "metadata": {},
   "outputs": [],
   "source": [
    "from sklearn.model_selection import cross_val_score\n",
    "\n",
    "def get_score(n_estimators):\n",
    "    clf = RandomForestClassifier(n_estimators, random_state=0, n_jobs=-1)\n",
    "    scores = cross_val_score(clf, X_train, y_train, cv=3)\n",
    "    return scores.mean()\n"
   ]
  },
  {
   "cell_type": "code",
   "execution_count": 14,
   "id": "5c75c35f-923f-4c25-8c0d-943a21f2e2ce",
   "metadata": {},
   "outputs": [],
   "source": [
    "results = {} \n",
    "n_estimators = 100\n",
    "while n_estimators < 250:\n",
    "    n_estimators += 50\n",
    "    results[n_estimators] = get_score(n_estimators)"
   ]
  },
  {
   "cell_type": "code",
   "execution_count": 15,
   "id": "5f94f22e-83e4-4f59-a9cc-397026319367",
   "metadata": {},
   "outputs": [
    {
     "data": {
      "image/png": "[encoded data removed]",
      "text/plain": [
       "<Figure size 432x288 with 1 Axes>"
      ]
     },
     "metadata": {
      "needs_background": "light"
     },
     "output_type": "display_data"
    }
   ],
   "source": [
    "import matplotlib.pyplot as plt\n",
    "%matplotlib inline\n",
    "\n",
    "plt.plot(list(results.keys()), list(results.values()))\n",
    "plt.show()"
   ]
  },
  {
   "cell_type": "markdown",
   "id": "f9a0d9f8-9e3b-43b2-bf93-fc4f5f57936f",
   "metadata": {
    "tags": []
   },
   "source": [
    "### Lidando com dados desbalanceados"
   ]
  },
  {
   "cell_type": "code",
   "execution_count": 76,
   "id": "67608a6e-1a56-4df4-bc51-4a6c667b6e14",
   "metadata": {},
   "outputs": [],
   "source": [
    "import seaborn as sns"
   ]
  },
  {
   "cell_type": "code",
   "execution_count": 77,
   "id": "554dee80-b505-496d-807f-35161b984849",
   "metadata": {},
   "outputs": [],
   "source": [
    "df = df.replace(to_replace=['Ocio', 'Ruminando'], value='Não Pastejando')"
   ]
  },
  {
   "cell_type": "code",
   "execution_count": 78,
   "id": "9f80533c-302f-44b1-ba2e-5d89e0efcc2d",
   "metadata": {},
   "outputs": [
    {
     "data": {
      "text/plain": [
       "Pastejando        332512\n",
       "Não Pastejando    274638\n",
       "Name: Comportamento, dtype: int64"
      ]
     },
     "execution_count": 78,
     "metadata": {},
     "output_type": "execute_result"
    }
   ],
   "source": [
    "df.Comportamento.value_counts()"
   ]
  },
  {
   "cell_type": "code",
   "execution_count": 79,
   "id": "3435628d-a3c3-4e41-adbd-38c2ddeb0949",
   "metadata": {},
   "outputs": [
    {
     "data": {
      "image/png": "[encoded data removed]",
      "text/plain": [
       "<Figure size 432x288 with 1 Axes>"
      ]
     },
     "metadata": {
      "needs_background": "light"
     },
     "output_type": "display_data"
    }
   ],
   "source": [
    "ax = sns.countplot(x=\"Comportamento\", data=df)"
   ]
  },
  {
   "cell_type": "code",
   "execution_count": 80,
   "id": "74bcf005-5b2d-4aff-9905-aca02daad508",
   "metadata": {
    "tags": []
   },
   "outputs": [],
   "source": [
    "from sklearn.ensemble import RandomForestClassifier\n",
    "model = RandomForestClassifier(n_estimators=150,\n",
    "                              min_samples_split=30,\n",
    "                              min_samples_leaf=1,\n",
    "                              max_features='sqrt',\n",
    "                              max_depth=100,\n",
    "                              criterion='entropy',\n",
    "                              bootstrap=False,\n",
    "                              n_jobs=-1,\n",
    "                              random_state=0)\n",
    "model.fit(X_train, y_train)\n",
    "preds = model.predict(X_test)"
   ]
  },
  {
   "cell_type": "code",
   "execution_count": 81,
   "id": "613d6753-9688-49d9-9b74-6cae308813ad",
   "metadata": {},
   "outputs": [
    {
     "data": {
      "text/plain": [
       "80.98655086132229"
      ]
     },
     "execution_count": 81,
     "metadata": {},
     "output_type": "execute_result"
    }
   ],
   "source": [
    "accuracy_score(y_test, preds)*100"
   ]
  },
  {
   "cell_type": "code",
   "execution_count": 82,
   "id": "dbc8fe06-c976-481b-9ad3-8113a9e24c75",
   "metadata": {},
   "outputs": [
    {
     "name": "stdout",
     "output_type": "stream",
     "text": [
      "                precision    recall  f1-score   support\n",
      "\n",
      "Não Pastejando       0.82      0.79      0.81     83061\n",
      "    Pastejando       0.80      0.83      0.81     83195\n",
      "\n",
      "      accuracy                           0.81    166256\n",
      "     macro avg       0.81      0.81      0.81    166256\n",
      "  weighted avg       0.81      0.81      0.81    166256\n",
      "\n"
     ]
    }
   ],
   "source": [
    "print (classification_report(y_test, preds))"
   ]
  },
  {
   "cell_type": "code",
   "execution_count": 83,
   "id": "f1633efe-cdae-4979-9a29-5456a7f50039",
   "metadata": {},
   "outputs": [
    {
     "data": {
      "image/png": "[encoded data removed]",
      "text/plain": [
       "<Figure size 432x288 with 1 Axes>"
      ]
     },
     "metadata": {
      "needs_background": "light"
     },
     "output_type": "display_data"
    }
   ],
   "source": [
    "imprimeMatrizDeConfusão(y_test, preds, model)"
   ]
  },
  {
   "cell_type": "markdown",
   "id": "2b8f554b-4011-4169-a3e9-022d510190d0",
   "metadata": {
    "tags": []
   },
   "source": [
    "#### Aplicando NearMiss"
   ]
  },
  {
   "cell_type": "code",
   "execution_count": 84,
   "id": "fbd8de82-e025-4ad0-a7c3-3c087e0b4398",
   "metadata": {},
   "outputs": [],
   "source": [
    "from imblearn.under_sampling import NearMiss\n",
    "nr = NearMiss()"
   ]
  },
  {
   "cell_type": "code",
   "execution_count": 85,
   "id": "11d39f0d-60ca-449f-8857-91e9d85f02bf",
   "metadata": {},
   "outputs": [],
   "source": [
    "X = df.drop(\"Comportamento\", axis = 1)\n",
    "y = df.Comportamento"
   ]
  },
  {
   "cell_type": "code",
   "execution_count": 86,
   "id": "fea2f2bf-c07b-4f58-93e7-e261f7ea97e0",
   "metadata": {},
   "outputs": [],
   "source": [
    "X, y = nr.fit_resample(X, y)"
   ]
  },
  {
   "cell_type": "code",
   "execution_count": 87,
   "id": "9b309339-0be2-4723-bc9a-0be0a1c4f43f",
   "metadata": {},
   "outputs": [
    {
     "data": {
      "image/png": "[encoded data removed]",
      "text/plain": [
       "<Figure size 432x288 with 1 Axes>"
      ]
     },
     "metadata": {
      "needs_background": "light"
     },
     "output_type": "display_data"
    }
   ],
   "source": [
    "ax = sns.countplot(x=y)"
   ]
  },
  {
   "cell_type": "code",
   "execution_count": 88,
   "id": "82e71ef2-46d2-48b7-9495-2a6b41bd2492",
   "metadata": {},
   "outputs": [],
   "source": [
    "X_train, X_test, y_train, y_test = train_test_split(X, y, random_state=0)"
   ]
  },
  {
   "cell_type": "code",
   "execution_count": 89,
   "id": "c1fab09f-fadc-4733-a5a6-acd2a3c0e62f",
   "metadata": {},
   "outputs": [],
   "source": [
    "model.fit(X_train, y_train)\n",
    "preds = model.predict(X_test)"
   ]
  },
  {
   "cell_type": "code",
   "execution_count": 90,
   "id": "066a76db-e028-4296-a452-b36c94b69c85",
   "metadata": {},
   "outputs": [
    {
     "data": {
      "text/plain": [
       "79.49446180062483"
      ]
     },
     "execution_count": 90,
     "metadata": {},
     "output_type": "execute_result"
    }
   ],
   "source": [
    "accuracy_score(y_test, preds)*100"
   ]
  },
  {
   "cell_type": "code",
   "execution_count": 91,
   "id": "aa94987c-c6f7-4042-a9de-537300c43393",
   "metadata": {},
   "outputs": [
    {
     "name": "stdout",
     "output_type": "stream",
     "text": [
      "                precision    recall  f1-score   support\n",
      "\n",
      "Não Pastejando       0.81      0.78      0.79     68649\n",
      "    Pastejando       0.78      0.81      0.80     68670\n",
      "\n",
      "      accuracy                           0.79    137319\n",
      "     macro avg       0.80      0.79      0.79    137319\n",
      "  weighted avg       0.80      0.79      0.79    137319\n",
      "\n"
     ]
    }
   ],
   "source": [
    "print (classification_report(y_test, preds))"
   ]
  },
  {
   "cell_type": "code",
   "execution_count": 92,
   "id": "4f746497-b281-4a93-8b0b-f6a6caba0554",
   "metadata": {},
   "outputs": [
    {
     "data": {
      "image/png": "[encoded data removed]",
      "text/plain": [
       "<Figure size 432x288 with 1 Axes>"
      ]
     },
     "metadata": {
      "needs_background": "light"
     },
     "output_type": "display_data"
    }
   ],
   "source": [
    "imprimeMatrizDeConfusão(y_test, preds, model)"
   ]
  },
  {
   "cell_type": "markdown",
   "id": "c08124d0-3c4a-4878-acf7-9bb8a84583d1",
   "metadata": {
    "tags": []
   },
   "source": [
    "#### Aplicando o SMOTE"
   ]
  },
  {
   "cell_type": "code",
   "execution_count": 93,
   "id": "22a0ae74-a151-4048-9618-cf9639e3efa9",
   "metadata": {},
   "outputs": [],
   "source": [
    "from imblearn.over_sampling import SMOTE\n",
    "smt = SMOTE()"
   ]
  },
  {
   "cell_type": "code",
   "execution_count": 94,
   "id": "87d1c4a7-c2f2-449a-8106-0fb21810524e",
   "metadata": {},
   "outputs": [],
   "source": [
    "X = df.drop(\"Comportamento\", axis = 1)\n",
    "y = df.Comportamento"
   ]
  },
  {
   "cell_type": "code",
   "execution_count": 95,
   "id": "7ac306ce-ed28-43e7-b224-5ec28de1cab8",
   "metadata": {},
   "outputs": [
    {
     "data": {
      "text/plain": [
       "Pastejando        332512\n",
       "Não Pastejando    274638\n",
       "Name: Comportamento, dtype: int64"
      ]
     },
     "execution_count": 95,
     "metadata": {},
     "output_type": "execute_result"
    }
   ],
   "source": [
    "# Visualizando a quantidade de dados por classe\n",
    "y.value_counts()"
   ]
  },
  {
   "cell_type": "code",
   "execution_count": 96,
   "id": "b07830c1-4092-4fb4-beaf-336b7a148de0",
   "metadata": {},
   "outputs": [],
   "source": [
    "X, y = smt.fit_resample(X, y)"
   ]
  },
  {
   "cell_type": "code",
   "execution_count": 97,
   "id": "98d243c4-24d3-4add-be1c-8e002fab22d5",
   "metadata": {},
   "outputs": [
    {
     "data": {
      "text/plain": [
       "Não Pastejando    332512\n",
       "Pastejando        332512\n",
       "Name: Comportamento, dtype: int64"
      ]
     },
     "execution_count": 97,
     "metadata": {},
     "output_type": "execute_result"
    }
   ],
   "source": [
    "# Visualizando a quantidade de dados por classe\n",
    "y.value_counts()"
   ]
  },
  {
   "cell_type": "code",
   "execution_count": 98,
   "id": "85238e80-f92d-464f-98ed-380de21ce135",
   "metadata": {},
   "outputs": [
    {
     "data": {
      "image/png": "[encoded data removed]",
      "text/plain": [
       "<Figure size 432x288 with 1 Axes>"
      ]
     },
     "metadata": {
      "needs_background": "light"
     },
     "output_type": "display_data"
    }
   ],
   "source": [
    "ax = sns.countplot(x=y)"
   ]
  },
  {
   "cell_type": "code",
   "execution_count": 99,
   "id": "4d022bfb-4daa-4dda-9265-a7c94d336bb8",
   "metadata": {},
   "outputs": [],
   "source": [
    "X_train, X_test, y_train, y_test = train_test_split(X, y, random_state = 0)"
   ]
  },
  {
   "cell_type": "code",
   "execution_count": 100,
   "id": "0f039680-98d0-459a-8a2c-14f92c37993a",
   "metadata": {},
   "outputs": [],
   "source": [
    "# Para reescalar os dados\n",
    "from sklearn.preprocessing import StandardScaler\n",
    "\n",
    "X_train_season = X_train[['Season_fall', 'Season_spring', 'Season_summer']]\n",
    "X_test_season =  X_test[['Season_fall', 'Season_spring', 'Season_summer']]\n",
    "\n",
    "X_train.drop(['Season_fall', 'Season_spring', 'Season_summer'], axis=1, inplace=True)\n",
    "X_test.drop(['Season_fall', 'Season_spring', 'Season_summer'], axis=1, inplace=True)\n",
    "\n",
    "columns = X_train.columns\n",
    "index_train = X_train.index\n",
    "index_test = X_test.index\n",
    "\n",
    "\n",
    "sc = StandardScaler()\n",
    "X_train = sc.fit_transform(X_train)\n",
    "X_test = sc.transform (X_test)\n",
    "\n",
    "X_train = pd.DataFrame(X_train, columns=columns, index=index_train)\n",
    "X_test = pd.DataFrame(X_test, columns=columns, index=index_test)\n",
    "\n",
    "X_train = pd.concat([X_train, X_train_season], axis=1)\n",
    "X_test = pd.concat([X_test, X_test_season], axis=1)"
   ]
  },
  {
   "cell_type": "code",
   "execution_count": 101,
   "id": "0d649b2a-eb9f-491d-bc06-2957b4d80157",
   "metadata": {
    "tags": []
   },
   "outputs": [],
   "source": [
    "from sklearn.ensemble import RandomForestClassifier\n",
    "model = RandomForestClassifier(n_estimators=150,\n",
    "                              min_samples_split=30,\n",
    "                              min_samples_leaf=1,\n",
    "                              max_features='sqrt',\n",
    "                              max_depth=100,\n",
    "                              criterion='entropy',\n",
    "                              bootstrap=False,\n",
    "                              n_jobs=-1,\n",
    "                              random_state=0)\n",
    "model.fit(X_train, y_train)\n",
    "preds = model.predict(X_test)"
   ]
  },
  {
   "cell_type": "code",
   "execution_count": 102,
   "id": "9ca19d46-1a48-4bd3-aeb0-bd666801f1bf",
   "metadata": {},
   "outputs": [
    {
     "data": {
      "text/plain": [
       "80.98594937927052"
      ]
     },
     "execution_count": 102,
     "metadata": {},
     "output_type": "execute_result"
    }
   ],
   "source": [
    "accuracy_score(y_test, preds)*100"
   ]
  },
  {
   "cell_type": "code",
   "execution_count": 103,
   "id": "2936a7dc-98aa-4485-ad6c-495528b17d2e",
   "metadata": {},
   "outputs": [
    {
     "name": "stdout",
     "output_type": "stream",
     "text": [
      "                precision    recall  f1-score   support\n",
      "\n",
      "Não Pastejando       0.82      0.79      0.81     83061\n",
      "    Pastejando       0.80      0.83      0.81     83195\n",
      "\n",
      "      accuracy                           0.81    166256\n",
      "     macro avg       0.81      0.81      0.81    166256\n",
      "  weighted avg       0.81      0.81      0.81    166256\n",
      "\n"
     ]
    }
   ],
   "source": [
    "print (classification_report(y_test, preds))"
   ]
  },
  {
   "cell_type": "code",
   "execution_count": 104,
   "id": "24ca70a5-73b3-49cd-9055-b0d7f07fb603",
   "metadata": {},
   "outputs": [
    {
     "data": {
      "image/png": "[encoded data removed]",
      "text/plain": [
       "<Figure size 432x288 with 1 Axes>"
      ]
     },
     "metadata": {
      "needs_background": "light"
     },
     "output_type": "display_data"
    }
   ],
   "source": [
    "imprimeMatrizDeConfusão(y_test, preds, model)"
   ]
  },
  {
   "cell_type": "markdown",
   "id": "01a95137-4457-4dec-949b-b95dacb10ac9",
   "metadata": {
    "tags": []
   },
   "source": [
    "### Treinamento e validação variando o tamanho do conjunto de dados"
   ]
  },
  {
   "cell_type": "code",
   "execution_count": 51,
   "id": "b3ff130a-9b88-4c53-8169-8a13258c50a7",
   "metadata": {},
   "outputs": [],
   "source": [
    "fracoes = [0.001, 0.005, 0.01, 0.05, 0.1, 0.2, 0.3, 0.4, 0.5, 0.6, 0.7, 0.8, 0.9, 1] # Frações testadas\n",
    "\n",
    "df_amostras = {}\n",
    "for fracao in fracoes:\n",
    "    df_amostras[fracao] = df.sample(frac=fracao, random_state=0)"
   ]
  },
  {
   "cell_type": "code",
   "execution_count": 52,
   "id": "540b17dc-d89e-4bb8-bf32-94e63e12fabc",
   "metadata": {},
   "outputs": [],
   "source": [
    "def amostrarEvalidar(df_amostras, model):\n",
    "    print(\"Nome do modelo: \", type(model).__name__)\n",
    "    for fracao in df_amostras:\n",
    "        y = df_amostras[fracao].Comportamento\n",
    "        X = df_amostras[fracao].drop('Comportamento', axis=1)\n",
    "        y = y.replace(to_replace=['Ocio', 'Ruminando'], value='Não Pastejando')\n",
    "        X_train, X_test, y_train, y_test = train_test_split(X, y, train_size=0.8, random_state = 0)\n",
    "        \n",
    "        model.fit(X_train, y_train)\n",
    "        preds = model.predict(X_test)\n",
    "        print(\"Parcela usada:\", fracao*100,\"%\", \" Acurácia:\",accuracy_score(y_test, preds)*100)\n",
    "        print(classification_report(y_test, preds, digits=4))\n",
    "        print('\\n')"
   ]
  },
  {
   "cell_type": "markdown",
   "id": "832090f5-601b-4ecd-9f1d-19b05b0921e7",
   "metadata": {
    "tags": []
   },
   "source": [
    "#### Random Forest"
   ]
  },
  {
   "cell_type": "code",
   "execution_count": 125,
   "id": "7fb0f7de-4d20-4ed9-aee5-72a320240112",
   "metadata": {
    "tags": []
   },
   "outputs": [
    {
     "name": "stdout",
     "output_type": "stream",
     "text": [
      "Nome do modelo:  RandomForestClassifier\n",
      "Parcela usada: 0.1 %  Acurácia: 68.85245901639344\n",
      "                precision    recall  f1-score   support\n",
      "\n",
      "Não Pastejando     0.6491    0.6727    0.6607        55\n",
      "    Pastejando     0.7231    0.7015    0.7121        67\n",
      "\n",
      "      accuracy                         0.6885       122\n",
      "     macro avg     0.6861    0.6871    0.6864       122\n",
      "  weighted avg     0.6897    0.6885    0.6889       122\n",
      "\n",
      "\n",
      "\n",
      "Parcela usada: 0.5 %  Acurácia: 74.01315789473685\n",
      "                precision    recall  f1-score   support\n",
      "\n",
      "Não Pastejando     0.7122    0.7070    0.7096       273\n",
      "    Pastejando     0.7626    0.7672    0.7649       335\n",
      "\n",
      "      accuracy                         0.7401       608\n",
      "     macro avg     0.7374    0.7371    0.7372       608\n",
      "  weighted avg     0.7400    0.7401    0.7400       608\n",
      "\n",
      "\n",
      "\n",
      "Parcela usada: 1.0 %  Acurácia: 75.96707818930041\n",
      "                precision    recall  f1-score   support\n",
      "\n",
      "Não Pastejando     0.7470    0.6944    0.7198       540\n",
      "    Pastejando     0.7686    0.8119    0.7896       675\n",
      "\n",
      "      accuracy                         0.7597      1215\n",
      "     macro avg     0.7578    0.7531    0.7547      1215\n",
      "  weighted avg     0.7590    0.7597    0.7586      1215\n",
      "\n",
      "\n",
      "\n",
      "Parcela usada: 5.0 %  Acurácia: 77.04216073781292\n",
      "                precision    recall  f1-score   support\n",
      "\n",
      "Não Pastejando     0.7540    0.7286    0.7411      2738\n",
      "    Pastejando     0.7831    0.8047    0.7938      3334\n",
      "\n",
      "      accuracy                         0.7704      6072\n",
      "     macro avg     0.7685    0.7667    0.7674      6072\n",
      "  weighted avg     0.7700    0.7704    0.7700      6072\n",
      "\n",
      "\n",
      "\n",
      "Parcela usada: 10.0 %  Acurácia: 76.97438853660546\n",
      "                precision    recall  f1-score   support\n",
      "\n",
      "Não Pastejando     0.7601    0.7187    0.7388      5503\n",
      "    Pastejando     0.7769    0.8120    0.7941      6640\n",
      "\n",
      "      accuracy                         0.7697     12143\n",
      "     macro avg     0.7685    0.7654    0.7665     12143\n",
      "  weighted avg     0.7693    0.7697    0.7691     12143\n",
      "\n",
      "\n",
      "\n",
      "Parcela usada: 20.0 %  Acurácia: 78.5884871942683\n",
      "                precision    recall  f1-score   support\n",
      "\n",
      "Não Pastejando     0.7766    0.7342    0.7548     10901\n",
      "    Pastejando     0.7927    0.8280    0.8100     13385\n",
      "\n",
      "      accuracy                         0.7859     24286\n",
      "     macro avg     0.7847    0.7811    0.7824     24286\n",
      "  weighted avg     0.7855    0.7859    0.7852     24286\n",
      "\n",
      "\n",
      "\n",
      "Parcela usada: 30.0 %  Acurácia: 78.67907436383102\n",
      "                precision    recall  f1-score   support\n",
      "\n",
      "Não Pastejando     0.7759    0.7355    0.7552     16287\n",
      "    Pastejando     0.7948    0.8283    0.8112     20142\n",
      "\n",
      "      accuracy                         0.7868     36429\n",
      "     macro avg     0.7854    0.7819    0.7832     36429\n",
      "  weighted avg     0.7864    0.7868    0.7861     36429\n",
      "\n",
      "\n",
      "\n",
      "Parcela usada: 40.0 %  Acurácia: 78.88907189327185\n",
      "                precision    recall  f1-score   support\n",
      "\n",
      "Não Pastejando     0.7813    0.7391    0.7596     21919\n",
      "    Pastejando     0.7946    0.8299    0.8118     26653\n",
      "\n",
      "      accuracy                         0.7889     48572\n",
      "     macro avg     0.7879    0.7845    0.7857     48572\n",
      "  weighted avg     0.7886    0.7889    0.7883     48572\n",
      "\n",
      "\n",
      "\n",
      "Parcela usada: 50.0 %  Acurácia: 79.17153915836285\n",
      "                precision    recall  f1-score   support\n",
      "\n",
      "Não Pastejando     0.7849    0.7455    0.7647     27562\n",
      "    Pastejando     0.7969    0.8302    0.8132     33153\n",
      "\n",
      "      accuracy                         0.7917     60715\n",
      "     macro avg     0.7909    0.7878    0.7889     60715\n",
      "  weighted avg     0.7914    0.7917    0.7912     60715\n",
      "\n",
      "\n",
      "\n",
      "Parcela usada: 60.0 %  Acurácia: 79.2143621839743\n",
      "                precision    recall  f1-score   support\n",
      "\n",
      "Não Pastejando     0.7888    0.7408    0.7640     33098\n",
      "    Pastejando     0.7946    0.8349    0.8143     39760\n",
      "\n",
      "      accuracy                         0.7921     72858\n",
      "     macro avg     0.7917    0.7878    0.7892     72858\n",
      "  weighted avg     0.7920    0.7921    0.7914     72858\n",
      "\n",
      "\n",
      "\n",
      "Parcela usada: 70.0 %  Acurácia: 79.38730132586676\n",
      "                precision    recall  f1-score   support\n",
      "\n",
      "Não Pastejando     0.7882    0.7447    0.7658     38472\n",
      "    Pastejando     0.7981    0.8345    0.8159     46529\n",
      "\n",
      "      accuracy                         0.7939     85001\n",
      "     macro avg     0.7932    0.7896    0.7909     85001\n",
      "  weighted avg     0.7936    0.7939    0.7932     85001\n",
      "\n",
      "\n",
      "\n",
      "Parcela usada: 80.0 %  Acurácia: 79.69097422383265\n",
      "                precision    recall  f1-score   support\n",
      "\n",
      "Não Pastejando     0.7924    0.7483    0.7697     44067\n",
      "    Pastejando     0.8003    0.8373    0.8183     53077\n",
      "\n",
      "      accuracy                         0.7969     97144\n",
      "     macro avg     0.7963    0.7928    0.7940     97144\n",
      "  weighted avg     0.7967    0.7969    0.7963     97144\n",
      "\n",
      "\n",
      "\n",
      "Parcela usada: 90.0 %  Acurácia: 79.67644825093561\n",
      "                precision    recall  f1-score   support\n",
      "\n",
      "Não Pastejando     0.7903    0.7497    0.7694     49436\n",
      "    Pastejando     0.8016    0.8357    0.8183     59851\n",
      "\n",
      "      accuracy                         0.7968    109287\n",
      "     macro avg     0.7960    0.7927    0.7939    109287\n",
      "  weighted avg     0.7965    0.7968    0.7962    109287\n",
      "\n",
      "\n",
      "\n",
      "Parcela usada: 100 %  Acurácia: 79.82623733838426\n",
      "                precision    recall  f1-score   support\n",
      "\n",
      "Não Pastejando     0.7941    0.7484    0.7706     54967\n",
      "    Pastejando     0.8014    0.8395    0.8200     66463\n",
      "\n",
      "      accuracy                         0.7983    121430\n",
      "     macro avg     0.7977    0.7940    0.7953    121430\n",
      "  weighted avg     0.7981    0.7983    0.7976    121430\n",
      "\n",
      "\n",
      "\n"
     ]
    }
   ],
   "source": [
    "from sklearn.ensemble import RandomForestClassifier\n",
    "\n",
    "rf_model = RandomForestClassifier(random_state=0, n_jobs=-1)\n",
    "amostrarEvalidar(df_amostras, rf_model)"
   ]
  },
  {
   "cell_type": "markdown",
   "id": "6367603f-a98b-44a2-a0be-a4910dfd53a5",
   "metadata": {},
   "source": [
    "#### LGBMClassifier"
   ]
  },
  {
   "cell_type": "code",
   "execution_count": 126,
   "id": "c3f46a8d-7de7-49ea-a993-b8c7f1cb49bd",
   "metadata": {},
   "outputs": [
    {
     "name": "stdout",
     "output_type": "stream",
     "text": [
      "Nome do modelo:  LGBMClassifier\n",
      "Parcela usada: 0.1 %  Acurácia: 71.31147540983606\n",
      "                precision    recall  f1-score   support\n",
      "\n",
      "Não Pastejando     0.6724    0.7091    0.6903        55\n",
      "    Pastejando     0.7500    0.7164    0.7328        67\n",
      "\n",
      "      accuracy                         0.7131       122\n",
      "     macro avg     0.7112    0.7128    0.7115       122\n",
      "  weighted avg     0.7150    0.7131    0.7136       122\n",
      "\n",
      "\n",
      "\n",
      "Parcela usada: 0.5 %  Acurácia: 72.5328947368421\n",
      "                precision    recall  f1-score   support\n",
      "\n",
      "Não Pastejando     0.6866    0.7143    0.7002       273\n",
      "    Pastejando     0.7593    0.7343    0.7466       335\n",
      "\n",
      "      accuracy                         0.7253       608\n",
      "     macro avg     0.7229    0.7243    0.7234       608\n",
      "  weighted avg     0.7266    0.7253    0.7257       608\n",
      "\n",
      "\n",
      "\n",
      "Parcela usada: 1.0 %  Acurácia: 76.13168724279835\n",
      "                precision    recall  f1-score   support\n",
      "\n",
      "Não Pastejando     0.7367    0.7204    0.7285       540\n",
      "    Pastejando     0.7802    0.7941    0.7871       675\n",
      "\n",
      "      accuracy                         0.7613      1215\n",
      "     macro avg     0.7585    0.7572    0.7578      1215\n",
      "  weighted avg     0.7609    0.7613    0.7610      1215\n",
      "\n",
      "\n",
      "\n",
      "Parcela usada: 5.0 %  Acurácia: 77.4703557312253\n",
      "                precision    recall  f1-score   support\n",
      "\n",
      "Não Pastejando     0.7566    0.7378    0.7470      2738\n",
      "    Pastejando     0.7889    0.8050    0.7969      3334\n",
      "\n",
      "      accuracy                         0.7747      6072\n",
      "     macro avg     0.7728    0.7714    0.7720      6072\n",
      "  weighted avg     0.7743    0.7747    0.7744      6072\n",
      "\n",
      "\n",
      "\n",
      "Parcela usada: 10.0 %  Acurácia: 76.58733426665569\n",
      "                precision    recall  f1-score   support\n",
      "\n",
      "Não Pastejando     0.7513    0.7225    0.7366      5503\n",
      "    Pastejando     0.7771    0.8018    0.7893      6640\n",
      "\n",
      "      accuracy                         0.7659     12143\n",
      "     macro avg     0.7642    0.7622    0.7630     12143\n",
      "  weighted avg     0.7654    0.7659    0.7654     12143\n",
      "\n",
      "\n",
      "\n",
      "Parcela usada: 20.0 %  Acurácia: 78.06143457135798\n",
      "                precision    recall  f1-score   support\n",
      "\n",
      "Não Pastejando     0.7674    0.7336    0.7501     10901\n",
      "    Pastejando     0.7906    0.8189    0.8045     13385\n",
      "\n",
      "      accuracy                         0.7806     24286\n",
      "     macro avg     0.7790    0.7763    0.7773     24286\n",
      "  weighted avg     0.7802    0.7806    0.7801     24286\n",
      "\n",
      "\n",
      "\n",
      "Parcela usada: 30.0 %  Acurácia: 77.76496747097093\n",
      "                precision    recall  f1-score   support\n",
      "\n",
      "Não Pastejando     0.7566    0.7411    0.7488     16287\n",
      "    Pastejando     0.7941    0.8072    0.8006     20142\n",
      "\n",
      "      accuracy                         0.7776     36429\n",
      "     macro avg     0.7753    0.7742    0.7747     36429\n",
      "  weighted avg     0.7773    0.7776    0.7774     36429\n",
      "\n",
      "\n",
      "\n",
      "Parcela usada: 40.0 %  Acurácia: 77.91320102116445\n",
      "                precision    recall  f1-score   support\n",
      "\n",
      "Não Pastejando     0.7635    0.7396    0.7514     21919\n",
      "    Pastejando     0.7913    0.8116    0.8013     26653\n",
      "\n",
      "      accuracy                         0.7791     48572\n",
      "     macro avg     0.7774    0.7756    0.7763     48572\n",
      "  weighted avg     0.7787    0.7791    0.7788     48572\n",
      "\n",
      "\n",
      "\n",
      "Parcela usada: 50.0 %  Acurácia: 77.71555628757308\n",
      "                precision    recall  f1-score   support\n",
      "\n",
      "Não Pastejando     0.7663    0.7325    0.7490     27562\n",
      "    Pastejando     0.7855    0.8143    0.7996     33153\n",
      "\n",
      "      accuracy                         0.7772     60715\n",
      "     macro avg     0.7759    0.7734    0.7743     60715\n",
      "  weighted avg     0.7768    0.7772    0.7766     60715\n",
      "\n",
      "\n",
      "\n",
      "Parcela usada: 60.0 %  Acurácia: 77.90359329105932\n",
      "                precision    recall  f1-score   support\n",
      "\n",
      "Não Pastejando     0.7674    0.7370    0.7519     33098\n",
      "    Pastejando     0.7881    0.8140    0.8008     39760\n",
      "\n",
      "      accuracy                         0.7790     72858\n",
      "     macro avg     0.7777    0.7755    0.7764     72858\n",
      "  weighted avg     0.7787    0.7790    0.7786     72858\n",
      "\n",
      "\n",
      "\n",
      "Parcela usada: 70.0 %  Acurácia: 77.67085093116552\n",
      "                precision    recall  f1-score   support\n",
      "\n",
      "Não Pastejando     0.7659    0.7297    0.7474     38472\n",
      "    Pastejando     0.7849    0.8156    0.8000     46529\n",
      "\n",
      "      accuracy                         0.7767     85001\n",
      "     macro avg     0.7754    0.7726    0.7737     85001\n",
      "  weighted avg     0.7763    0.7767    0.7761     85001\n",
      "\n",
      "\n",
      "\n",
      "Parcela usada: 80.0 %  Acurácia: 77.900848225315\n",
      "                precision    recall  f1-score   support\n",
      "\n",
      "Não Pastejando     0.7678    0.7352    0.7511     44067\n",
      "    Pastejando     0.7877    0.8153    0.8013     53077\n",
      "\n",
      "      accuracy                         0.7790     97144\n",
      "     macro avg     0.7777    0.7753    0.7762     97144\n",
      "  weighted avg     0.7786    0.7790    0.7785     97144\n",
      "\n",
      "\n",
      "\n",
      "Parcela usada: 90.0 %  Acurácia: 77.75032712033453\n",
      "                precision    recall  f1-score   support\n",
      "\n",
      "Não Pastejando     0.7645    0.7343    0.7491     49436\n",
      "    Pastejando     0.7875    0.8132    0.8001     59851\n",
      "\n",
      "      accuracy                         0.7775    109287\n",
      "     macro avg     0.7760    0.7737    0.7746    109287\n",
      "  weighted avg     0.7771    0.7775    0.7770    109287\n",
      "\n",
      "\n",
      "\n",
      "Parcela usada: 100 %  Acurácia: 77.85802519970353\n",
      "                precision    recall  f1-score   support\n",
      "\n",
      "Não Pastejando     0.7656    0.7362    0.7506     54967\n",
      "    Pastejando     0.7886    0.8136    0.8009     66463\n",
      "\n",
      "      accuracy                         0.7786    121430\n",
      "     macro avg     0.7771    0.7749    0.7758    121430\n",
      "  weighted avg     0.7782    0.7786    0.7781    121430\n",
      "\n",
      "\n",
      "\n"
     ]
    }
   ],
   "source": [
    "from lightgbm import LGBMClassifier\n",
    "\n",
    "lgb_model = LGBMClassifier(n_jobs=-1, random_state=0)\n",
    "amostrarEvalidar(df_amostras, lgb_model)"
   ]
  },
  {
   "cell_type": "markdown",
   "id": "3af499fb-1bfc-408c-99bd-9353b0148683",
   "metadata": {
    "tags": []
   },
   "source": [
    "#### KNN"
   ]
  },
  {
   "cell_type": "code",
   "execution_count": 127,
   "id": "4839d575-e06f-4c0d-9cfc-2ba32e2f06cb",
   "metadata": {
    "tags": []
   },
   "outputs": [
    {
     "name": "stdout",
     "output_type": "stream",
     "text": [
      "Nome do modelo:  KNeighborsClassifier\n",
      "Parcela usada: 0.1 %  Acurácia: 63.934426229508205\n",
      "                precision    recall  f1-score   support\n",
      "\n",
      "Não Pastejando     0.6038    0.5818    0.5926        55\n",
      "    Pastejando     0.6667    0.6866    0.6765        67\n",
      "\n",
      "      accuracy                         0.6393       122\n",
      "     macro avg     0.6352    0.6342    0.6345       122\n",
      "  weighted avg     0.6383    0.6393    0.6387       122\n",
      "\n",
      "\n",
      "\n",
      "Parcela usada: 0.5 %  Acurácia: 65.29605263157895\n",
      "                precision    recall  f1-score   support\n",
      "\n",
      "Não Pastejando     0.6092    0.6337    0.6212       273\n",
      "    Pastejando     0.6914    0.6687    0.6798       335\n",
      "\n",
      "      accuracy                         0.6530       608\n",
      "     macro avg     0.6503    0.6512    0.6505       608\n",
      "  weighted avg     0.6544    0.6530    0.6535       608\n",
      "\n",
      "\n",
      "\n",
      "Parcela usada: 1.0 %  Acurácia: 64.60905349794238\n",
      "                precision    recall  f1-score   support\n",
      "\n",
      "Não Pastejando     0.6030    0.5963    0.5996       540\n",
      "    Pastejando     0.6799    0.6859    0.6829       675\n",
      "\n",
      "      accuracy                         0.6461      1215\n",
      "     macro avg     0.6414    0.6411    0.6413      1215\n",
      "  weighted avg     0.6457    0.6461    0.6459      1215\n",
      "\n",
      "\n",
      "\n",
      "Parcela usada: 5.0 %  Acurácia: 67.50658761528327\n",
      "                precision    recall  f1-score   support\n",
      "\n",
      "Não Pastejando     0.6379    0.6461    0.6420      2738\n",
      "    Pastejando     0.7063    0.6989    0.7025      3334\n",
      "\n",
      "      accuracy                         0.6751      6072\n",
      "     macro avg     0.6721    0.6725    0.6723      6072\n",
      "  weighted avg     0.6755    0.6751    0.6752      6072\n",
      "\n",
      "\n",
      "\n",
      "Parcela usada: 10.0 %  Acurácia: 68.76389689533065\n",
      "                precision    recall  f1-score   support\n",
      "\n",
      "Não Pastejando     0.6568    0.6509    0.6538      5503\n",
      "    Pastejando     0.7128    0.7181    0.7154      6640\n",
      "\n",
      "      accuracy                         0.6876     12143\n",
      "     macro avg     0.6848    0.6845    0.6846     12143\n",
      "  weighted avg     0.6874    0.6876    0.6875     12143\n",
      "\n",
      "\n",
      "\n",
      "Parcela usada: 20.0 %  Acurácia: 71.01622333854895\n",
      "                precision    recall  f1-score   support\n",
      "\n",
      "Não Pastejando     0.6747    0.6841    0.6794     10901\n",
      "    Pastejando     0.7398    0.7314    0.7356     13385\n",
      "\n",
      "      accuracy                         0.7102     24286\n",
      "     macro avg     0.7072    0.7077    0.7075     24286\n",
      "  weighted avg     0.7106    0.7102    0.7103     24286\n",
      "\n",
      "\n",
      "\n",
      "Parcela usada: 30.0 %  Acurácia: 71.33876856350709\n",
      "                precision    recall  f1-score   support\n",
      "\n",
      "Não Pastejando     0.6784    0.6825    0.6804     16287\n",
      "    Pastejando     0.7420    0.7384    0.7402     20142\n",
      "\n",
      "      accuracy                         0.7134     36429\n",
      "     macro avg     0.7102    0.7104    0.7103     36429\n",
      "  weighted avg     0.7136    0.7134    0.7135     36429\n",
      "\n",
      "\n",
      "\n",
      "Parcela usada: 40.0 %  Acurácia: 72.15885695462406\n",
      "                precision    recall  f1-score   support\n",
      "\n",
      "Não Pastejando     0.6910    0.6929    0.6919     21919\n",
      "    Pastejando     0.7469    0.7452    0.7460     26653\n",
      "\n",
      "      accuracy                         0.7216     48572\n",
      "     macro avg     0.7189    0.7190    0.7190     48572\n",
      "  weighted avg     0.7217    0.7216    0.7216     48572\n",
      "\n",
      "\n",
      "\n",
      "Parcela usada: 50.0 %  Acurácia: 72.48126492629498\n",
      "                precision    recall  f1-score   support\n",
      "\n",
      "Não Pastejando     0.6966    0.6976    0.6971     27562\n",
      "    Pastejando     0.7483    0.7474    0.7479     33153\n",
      "\n",
      "      accuracy                         0.7248     60715\n",
      "     macro avg     0.7225    0.7225    0.7225     60715\n",
      "  weighted avg     0.7248    0.7248    0.7248     60715\n",
      "\n",
      "\n",
      "\n",
      "Parcela usada: 60.0 %  Acurácia: 72.6193417332345\n",
      "                precision    recall  f1-score   support\n",
      "\n",
      "Não Pastejando     0.6990    0.6977    0.6984     33098\n",
      "    Pastejando     0.7487    0.7499    0.7493     39760\n",
      "\n",
      "      accuracy                         0.7262     72858\n",
      "     macro avg     0.7239    0.7238    0.7238     72858\n",
      "  weighted avg     0.7262    0.7262    0.7262     72858\n",
      "\n",
      "\n",
      "\n",
      "Parcela usada: 70.0 %  Acurácia: 72.92973023846778\n",
      "                precision    recall  f1-score   support\n",
      "\n",
      "Não Pastejando     0.7013    0.7001    0.7007     38472\n",
      "    Pastejando     0.7524    0.7535    0.7529     46529\n",
      "\n",
      "      accuracy                         0.7293     85001\n",
      "     macro avg     0.7268    0.7268    0.7268     85001\n",
      "  weighted avg     0.7293    0.7293    0.7293     85001\n",
      "\n",
      "\n",
      "\n",
      "Parcela usada: 80.0 %  Acurácia: 73.23560899283538\n",
      "                precision    recall  f1-score   support\n",
      "\n",
      "Não Pastejando     0.7064    0.7015    0.7040     44067\n",
      "    Pastejando     0.7536    0.7580    0.7558     53077\n",
      "\n",
      "      accuracy                         0.7324     97144\n",
      "     macro avg     0.7300    0.7297    0.7299     97144\n",
      "  weighted avg     0.7322    0.7324    0.7323     97144\n",
      "\n",
      "\n",
      "\n",
      "Parcela usada: 90.0 %  Acurácia: 73.31979100899466\n",
      "                precision    recall  f1-score   support\n",
      "\n",
      "Não Pastejando     0.7053    0.7046    0.7050     49436\n",
      "    Pastejando     0.7562    0.7568    0.7565     59851\n",
      "\n",
      "      accuracy                         0.7332    109287\n",
      "     macro avg     0.7307    0.7307    0.7307    109287\n",
      "  weighted avg     0.7332    0.7332    0.7332    109287\n",
      "\n",
      "\n",
      "\n",
      "Parcela usada: 100 %  Acurácia: 73.69678003788191\n",
      "                precision    recall  f1-score   support\n",
      "\n",
      "Não Pastejando     0.7107    0.7065    0.7086     54967\n",
      "    Pastejando     0.7585    0.7621    0.7603     66463\n",
      "\n",
      "      accuracy                         0.7370    121430\n",
      "     macro avg     0.7346    0.7343    0.7345    121430\n",
      "  weighted avg     0.7368    0.7370    0.7369    121430\n",
      "\n",
      "\n",
      "\n"
     ]
    }
   ],
   "source": [
    "from sklearn.neighbors import KNeighborsClassifier\n",
    "\n",
    "knn_model = KNeighborsClassifier(n_jobs=-1)\n",
    "amostrarEvalidar(df_amostras, knn_model)"
   ]
  },
  {
   "cell_type": "markdown",
   "id": "cb989539-e7a6-44eb-81a3-1a8fa6684ca8",
   "metadata": {
    "tags": []
   },
   "source": [
    "#### Redes Neurais"
   ]
  },
  {
   "cell_type": "code",
   "execution_count": 129,
   "id": "6f7f8921-95e1-42b9-8e78-389c1e3e2b58",
   "metadata": {},
   "outputs": [
    {
     "name": "stdout",
     "output_type": "stream",
     "text": [
      "Nome do modelo:  MLPClassifier\n",
      "Parcela usada: 0.1 %  Acurácia: 63.934426229508205\n",
      "                precision    recall  f1-score   support\n",
      "\n",
      "Não Pastejando     0.6038    0.5818    0.5926        55\n",
      "    Pastejando     0.6667    0.6866    0.6765        67\n",
      "\n",
      "      accuracy                         0.6393       122\n",
      "     macro avg     0.6352    0.6342    0.6345       122\n",
      "  weighted avg     0.6383    0.6393    0.6387       122\n",
      "\n",
      "\n",
      "\n",
      "Parcela usada: 0.5 %  Acurácia: 64.47368421052632\n",
      "                precision    recall  f1-score   support\n",
      "\n",
      "Não Pastejando     0.6667    0.4176    0.5135       273\n",
      "    Pastejando     0.6362    0.8299    0.7202       335\n",
      "\n",
      "      accuracy                         0.6447       608\n",
      "     macro avg     0.6514    0.6237    0.6169       608\n",
      "  weighted avg     0.6499    0.6447    0.6274       608\n",
      "\n",
      "\n",
      "\n",
      "Parcela usada: 1.0 %  Acurácia: 60.98765432098765\n",
      "                precision    recall  f1-score   support\n",
      "\n",
      "Não Pastejando     0.6755    0.2352    0.3489       540\n",
      "    Pastejando     0.5979    0.9096    0.7215       675\n",
      "\n",
      "      accuracy                         0.6099      1215\n",
      "     macro avg     0.6367    0.5724    0.5352      1215\n",
      "  weighted avg     0.6324    0.6099    0.5559      1215\n",
      "\n",
      "\n",
      "\n",
      "Parcela usada: 5.0 %  Acurácia: 68.37944664031622\n",
      "                precision    recall  f1-score   support\n",
      "\n",
      "Não Pastejando     0.6498    0.6479    0.6489      2738\n",
      "    Pastejando     0.7115    0.7133    0.7124      3334\n",
      "\n",
      "      accuracy                         0.6838      6072\n",
      "     macro avg     0.6807    0.6806    0.6806      6072\n",
      "  weighted avg     0.6837    0.6838    0.6838      6072\n",
      "\n",
      "\n",
      "\n",
      "Parcela usada: 10.0 %  Acurácia: 70.41917153915837\n",
      "                precision    recall  f1-score   support\n",
      "\n",
      "Não Pastejando     0.6989    0.6100    0.6515      5503\n",
      "    Pastejando     0.7076    0.7822    0.7431      6640\n",
      "\n",
      "      accuracy                         0.7042     12143\n",
      "     macro avg     0.7033    0.6961    0.6973     12143\n",
      "  weighted avg     0.7037    0.7042    0.7016     12143\n",
      "\n",
      "\n",
      "\n",
      "Parcela usada: 20.0 %  Acurácia: 71.77797908259903\n",
      "                precision    recall  f1-score   support\n",
      "\n",
      "Não Pastejando     0.6993    0.6514    0.6745     10901\n",
      "    Pastejando     0.7311    0.7718    0.7509     13385\n",
      "\n",
      "      accuracy                         0.7178     24286\n",
      "     macro avg     0.7152    0.7116    0.7127     24286\n",
      "  weighted avg     0.7168    0.7178    0.7166     24286\n",
      "\n",
      "\n",
      "\n",
      "Parcela usada: 30.0 %  Acurácia: 70.29015344917511\n",
      "                precision    recall  f1-score   support\n",
      "\n",
      "Não Pastejando     0.7185    0.5516    0.6241     16287\n",
      "    Pastejando     0.6948    0.8252    0.7544     20142\n",
      "\n",
      "      accuracy                         0.7029     36429\n",
      "     macro avg     0.7066    0.6884    0.6892     36429\n",
      "  weighted avg     0.7054    0.7029    0.6961     36429\n",
      "\n",
      "\n",
      "\n",
      "Parcela usada: 40.0 %  Acurácia: 74.02207032858436\n",
      "                precision    recall  f1-score   support\n",
      "\n",
      "Não Pastejando     0.7282    0.6770    0.7017     21919\n",
      "    Pastejando     0.7489    0.7922    0.7699     26653\n",
      "\n",
      "      accuracy                         0.7402     48572\n",
      "     macro avg     0.7386    0.7346    0.7358     48572\n",
      "  weighted avg     0.7396    0.7402    0.7391     48572\n",
      "\n",
      "\n",
      "\n",
      "Parcela usada: 50.0 %  Acurácia: 74.59441653627604\n",
      "                precision    recall  f1-score   support\n",
      "\n",
      "Não Pastejando     0.6909    0.7970    0.7401     27562\n",
      "    Pastejando     0.8065    0.7035    0.7515     33153\n",
      "\n",
      "      accuracy                         0.7459     60715\n",
      "     macro avg     0.7487    0.7502    0.7458     60715\n",
      "  weighted avg     0.7540    0.7459    0.7463     60715\n",
      "\n",
      "\n",
      "\n",
      "Parcela usada: 60.0 %  Acurácia: 75.04186225260095\n",
      "                precision    recall  f1-score   support\n",
      "\n",
      "Não Pastejando     0.7367    0.7013    0.7185     33098\n",
      "    Pastejando     0.7609    0.7913    0.7758     39760\n",
      "\n",
      "      accuracy                         0.7504     72858\n",
      "     macro avg     0.7488    0.7463    0.7472     72858\n",
      "  weighted avg     0.7499    0.7504    0.7498     72858\n",
      "\n",
      "\n",
      "\n",
      "Parcela usada: 70.0 %  Acurácia: 74.45794755355818\n",
      "                precision    recall  f1-score   support\n",
      "\n",
      "Não Pastejando     0.7102    0.7360    0.7229     38472\n",
      "    Pastejando     0.7750    0.7516    0.7631     46529\n",
      "\n",
      "      accuracy                         0.7446     85001\n",
      "     macro avg     0.7426    0.7438    0.7430     85001\n",
      "  weighted avg     0.7456    0.7446    0.7449     85001\n",
      "\n",
      "\n",
      "\n",
      "Parcela usada: 80.0 %  Acurácia: 75.3602898789426\n",
      "                precision    recall  f1-score   support\n",
      "\n",
      "Não Pastejando     0.7476    0.6897    0.7175     44067\n",
      "    Pastejando     0.7579    0.8067    0.7815     53077\n",
      "\n",
      "      accuracy                         0.7536     97144\n",
      "     macro avg     0.7528    0.7482    0.7495     97144\n",
      "  weighted avg     0.7532    0.7536    0.7525     97144\n",
      "\n",
      "\n",
      "\n",
      "Parcela usada: 90.0 %  Acurácia: 75.67780248336948\n",
      "                precision    recall  f1-score   support\n",
      "\n",
      "Não Pastejando     0.7564    0.6820    0.7173     49436\n",
      "    Pastejando     0.7571    0.8185    0.7866     59851\n",
      "\n",
      "      accuracy                         0.7568    109287\n",
      "     macro avg     0.7567    0.7503    0.7519    109287\n",
      "  weighted avg     0.7567    0.7568    0.7552    109287\n",
      "\n",
      "\n",
      "\n",
      "Parcela usada: 100 %  Acurácia: 75.73993247138269\n",
      "                precision    recall  f1-score   support\n",
      "\n",
      "Não Pastejando     0.7414    0.7126    0.7267     54967\n",
      "    Pastejando     0.7697    0.7945    0.7819     66463\n",
      "\n",
      "      accuracy                         0.7574    121430\n",
      "     macro avg     0.7556    0.7535    0.7543    121430\n",
      "  weighted avg     0.7569    0.7574    0.7569    121430\n",
      "\n",
      "\n",
      "\n"
     ]
    }
   ],
   "source": [
    "%%capture --no-stdout\n",
    "\n",
    "from sklearn.neural_network import MLPClassifier\n",
    "\n",
    "rn_model = MLPClassifier(random_state=0)\n",
    "amostrarEvalidar(df_amostras, rn_model)"
   ]
  },
  {
   "cell_type": "markdown",
   "id": "91095903-ec3e-42b4-b4d7-88cce98adc7a",
   "metadata": {
    "tags": []
   },
   "source": [
    "#### Gradient Boosting"
   ]
  },
  {
   "cell_type": "code",
   "execution_count": 54,
   "id": "bc108567-901e-474e-b1ff-16a616f1d847",
   "metadata": {},
   "outputs": [
    {
     "name": "stdout",
     "output_type": "stream",
     "text": [
      "Nome do modelo:  XGBClassifier\n",
      "Parcela usada: 0.1 %  Acurácia: 65.57377049180327\n",
      "              precision    recall  f1-score   support\n",
      "\n",
      "         0.0     0.6066    0.6727    0.6379        55\n",
      "         1.0     0.7049    0.6418    0.6719        67\n",
      "\n",
      "    accuracy                         0.6557       122\n",
      "   macro avg     0.6557    0.6573    0.6549       122\n",
      "weighted avg     0.6606    0.6557    0.6566       122\n",
      "\n",
      "\n",
      "\n",
      "Parcela usada: 0.5 %  Acurácia: 73.02631578947368\n",
      "              precision    recall  f1-score   support\n",
      "\n",
      "         0.0     0.6899    0.7253    0.7071       273\n",
      "         1.0     0.7664    0.7343    0.7500       335\n",
      "\n",
      "    accuracy                         0.7303       608\n",
      "   macro avg     0.7281    0.7298    0.7286       608\n",
      "weighted avg     0.7320    0.7303    0.7308       608\n",
      "\n",
      "\n",
      "\n",
      "Parcela usada: 1.0 %  Acurácia: 75.7201646090535\n",
      "              precision    recall  f1-score   support\n",
      "\n",
      "         0.0     0.7324    0.7148    0.7235       540\n",
      "         1.0     0.7762    0.7911    0.7836       675\n",
      "\n",
      "    accuracy                         0.7572      1215\n",
      "   macro avg     0.7543    0.7530    0.7535      1215\n",
      "weighted avg     0.7567    0.7572    0.7569      1215\n",
      "\n",
      "\n",
      "\n",
      "Parcela usada: 5.0 %  Acurácia: 76.76218708827405\n",
      "              precision    recall  f1-score   support\n",
      "\n",
      "         0.0     0.7455    0.7359    0.7407      2738\n",
      "         1.0     0.7854    0.7936    0.7895      3334\n",
      "\n",
      "    accuracy                         0.7676      6072\n",
      "   macro avg     0.7654    0.7648    0.7651      6072\n",
      "weighted avg     0.7674    0.7676    0.7675      6072\n",
      "\n",
      "\n",
      "\n",
      "Parcela usada: 10.0 %  Acurácia: 76.52968788602486\n",
      "              precision    recall  f1-score   support\n",
      "\n",
      "         0.0     0.7482    0.7267    0.7373      5503\n",
      "         1.0     0.7788    0.7973    0.7879      6640\n",
      "\n",
      "    accuracy                         0.7653     12143\n",
      "   macro avg     0.7635    0.7620    0.7626     12143\n",
      "weighted avg     0.7649    0.7653    0.7650     12143\n",
      "\n",
      "\n",
      "\n",
      "Parcela usada: 20.0 %  Acurácia: 78.23849131186692\n",
      "              precision    recall  f1-score   support\n",
      "\n",
      "         0.0     0.7689    0.7365    0.7524     10901\n",
      "         1.0     0.7925    0.8197    0.8059     13385\n",
      "\n",
      "    accuracy                         0.7824     24286\n",
      "   macro avg     0.7807    0.7781    0.7791     24286\n",
      "weighted avg     0.7819    0.7824    0.7819     24286\n",
      "\n",
      "\n",
      "\n",
      "Parcela usada: 30.0 %  Acurácia: 78.29751022536989\n",
      "              precision    recall  f1-score   support\n",
      "\n",
      "         0.0     0.7642    0.7443    0.7541     16287\n",
      "         1.0     0.7975    0.8143    0.8058     20142\n",
      "\n",
      "    accuracy                         0.7830     36429\n",
      "   macro avg     0.7808    0.7793    0.7799     36429\n",
      "weighted avg     0.7826    0.7830    0.7827     36429\n",
      "\n",
      "\n",
      "\n",
      "Parcela usada: 40.0 %  Acurácia: 78.26525570287409\n",
      "              precision    recall  f1-score   support\n",
      "\n",
      "         0.0     0.7687    0.7415    0.7549     21919\n",
      "         1.0     0.7934    0.8165    0.8048     26653\n",
      "\n",
      "    accuracy                         0.7827     48572\n",
      "   macro avg     0.7811    0.7790    0.7798     48572\n",
      "weighted avg     0.7823    0.7827    0.7823     48572\n",
      "\n",
      "\n",
      "\n",
      "Parcela usada: 50.0 %  Acurácia: 78.2788437783085\n",
      "              precision    recall  f1-score   support\n",
      "\n",
      "         0.0     0.7693    0.7448    0.7569     27562\n",
      "         1.0     0.7933    0.8143    0.8037     33153\n",
      "\n",
      "    accuracy                         0.7828     60715\n",
      "   macro avg     0.7813    0.7796    0.7803     60715\n",
      "weighted avg     0.7824    0.7828    0.7824     60715\n",
      "\n",
      "\n",
      "\n",
      "Parcela usada: 60.0 %  Acurácia: 78.29064756100908\n",
      "              precision    recall  f1-score   support\n",
      "\n",
      "         0.0     0.7721    0.7408    0.7561     33098\n",
      "         1.0     0.7913    0.8180    0.8044     39760\n",
      "\n",
      "    accuracy                         0.7829     72858\n",
      "   macro avg     0.7817    0.7794    0.7803     72858\n",
      "weighted avg     0.7826    0.7829    0.7825     72858\n",
      "\n",
      "\n",
      "\n",
      "Parcela usada: 70.0 %  Acurácia: 78.29907883436665\n",
      "              precision    recall  f1-score   support\n",
      "\n",
      "         0.0     0.7711    0.7402    0.7554     38472\n",
      "         1.0     0.7921    0.8183    0.8050     46529\n",
      "\n",
      "    accuracy                         0.7830     85001\n",
      "   macro avg     0.7816    0.7793    0.7802     85001\n",
      "weighted avg     0.7826    0.7830    0.7825     85001\n",
      "\n",
      "\n",
      "\n",
      "Parcela usada: 80.0 %  Acurácia: 78.65333937247797\n",
      "              precision    recall  f1-score   support\n",
      "\n",
      "         0.0     0.7760    0.7443    0.7598     44067\n",
      "         1.0     0.7947    0.8216    0.8079     53077\n",
      "\n",
      "    accuracy                         0.7865     97144\n",
      "   macro avg     0.7853    0.7829    0.7839     97144\n",
      "weighted avg     0.7862    0.7865    0.7861     97144\n",
      "\n",
      "\n",
      "\n",
      "Parcela usada: 90.0 %  Acurácia: 78.4942399370465\n",
      "              precision    recall  f1-score   support\n",
      "\n",
      "         0.0     0.7731    0.7424    0.7575     49436\n",
      "         1.0     0.7940    0.8201    0.8068     59851\n",
      "\n",
      "    accuracy                         0.7849    109287\n",
      "   macro avg     0.7836    0.7812    0.7821    109287\n",
      "weighted avg     0.7846    0.7849    0.7845    109287\n",
      "\n",
      "\n",
      "\n",
      "Parcela usada: 100 %  Acurácia: 78.68566252161739\n",
      "              precision    recall  f1-score   support\n",
      "\n",
      "         0.0     0.7785    0.7395    0.7585     54967\n",
      "         1.0     0.7931    0.8260    0.8092     66463\n",
      "\n",
      "    accuracy                         0.7869    121430\n",
      "   macro avg     0.7858    0.7828    0.7839    121430\n",
      "weighted avg     0.7865    0.7869    0.7863    121430\n",
      "\n",
      "\n",
      "\n"
     ]
    }
   ],
   "source": [
    "from xgboost import XGBClassifier\n",
    "\n",
    "from sklearn.preprocessing import OrdinalEncoder\n",
    "\n",
    "ordinal_encoder = OrdinalEncoder()\n",
    "\n",
    "df_oe = df.replace(to_replace=['Ocio', 'Ruminando'], value='Não Pastejando')\n",
    "df_oe['Comportamento'] = ordinal_encoder.fit_transform(df_oe['Comportamento'].array.reshape(-1,1))\n",
    "\n",
    "df_amostras_oe = {}\n",
    "for fracao in fracoes:\n",
    "    df_amostras_oe[fracao] = df_oe.sample(frac=fracao, random_state=0)\n",
    "\n",
    "xgb_model = XGBClassifier(use_label_encoder=False, random_state=0, n_jobs=-1, verbosity = 0)\n",
    "amostrarEvalidar(df_amostras_oe,  xgb_model)"
   ]
  },
  {
   "cell_type": "markdown",
   "id": "4a9a49a8-a8b3-46d1-a68a-82fd0c9c85d9",
   "metadata": {
    "jp-MarkdownHeadingCollapsed": true,
    "tags": []
   },
   "source": [
    "### Treinamento e validação variando o tamanho do conjunto de dados de treino, com teste fixo (20% dos dados)"
   ]
  },
  {
   "cell_type": "code",
   "execution_count": null,
   "id": "6b380fe6-e8af-4f54-b10a-43e81676e37d",
   "metadata": {},
   "outputs": [],
   "source": [
    "df_train = pd.concat([X_train, y_train], axis=1)\n",
    "\n",
    "fracoes = [0.001, 0.005, 0.01, 0.05, 0.1, 0.2, 0.3, 0.4, 0.5, 0.6, 0.7, 0.8, 0.9, 1] # Frações testadas\n",
    "\n",
    "df_train_amostras = {}\n",
    "for fracao in fracoes:\n",
    "    df_train_amostras[fracao] = df_train.sample(frac=fracao, random_state=0)"
   ]
  },
  {
   "cell_type": "code",
   "execution_count": null,
   "id": "8cbbc409-873e-457f-97e5-7ddbbfe25a46",
   "metadata": {},
   "outputs": [],
   "source": [
    "def treinar_e_validar_amostras(df_train_amostras, X_test, y_test, model):\n",
    "    print(\"Nome do modelo: \", type(model).__name__)\n",
    "    for fracao in df_train_amostras:\n",
    "        y_train = df_train_amostras[fracao].Comportamento\n",
    "        X_train = df_train_amostras[fracao].drop('Comportamento', axis=1)\n",
    "\n",
    "        model.fit(X_train, y_train)\n",
    "        preds = model.predict(X_test)\n",
    "        \n",
    "        print(\"Parcela usada:\", fracao*100,\"%\", \" Acurácia:\",accuracy_score(y_test, preds)*100)\n",
    "        print(classification_report(y_test, preds, digits=4))\n",
    "        print('\\n')"
   ]
  },
  {
   "cell_type": "code",
   "execution_count": 25,
   "id": "bb85e758-0a19-4591-9490-c94e8c77162d",
   "metadata": {},
   "outputs": [
    {
     "data": {
      "text/plain": [
       "Pastejando        265853\n",
       "Não Pastejando    219867\n",
       "Name: Comportamento, dtype: int64"
      ]
     },
     "execution_count": 25,
     "metadata": {},
     "output_type": "execute_result"
    }
   ],
   "source": [
    "df_train.Comportamento.value_counts()"
   ]
  },
  {
   "cell_type": "code",
   "execution_count": 24,
   "id": "b564616e-4adc-41ec-94b7-a6a325dab133",
   "metadata": {},
   "outputs": [
    {
     "name": "stdout",
     "output_type": "stream",
     "text": [
      "0.001\n",
      "Pastejando        279\n",
      "Não Pastejando    207\n",
      "Name: Comportamento, dtype: int64\n",
      "0.005\n",
      "Pastejando        1377\n",
      "Não Pastejando    1052\n",
      "Name: Comportamento, dtype: int64\n",
      "0.01\n",
      "Pastejando        2661\n",
      "Não Pastejando    2196\n",
      "Name: Comportamento, dtype: int64\n",
      "0.05\n",
      "Pastejando        13314\n",
      "Não Pastejando    10972\n",
      "Name: Comportamento, dtype: int64\n",
      "0.1\n",
      "Pastejando        26550\n",
      "Não Pastejando    22022\n",
      "Name: Comportamento, dtype: int64\n",
      "0.2\n",
      "Pastejando        53002\n",
      "Não Pastejando    44142\n",
      "Name: Comportamento, dtype: int64\n",
      "0.3\n",
      "Pastejando        79771\n",
      "Não Pastejando    65945\n",
      "Name: Comportamento, dtype: int64\n",
      "0.4\n",
      "Pastejando        106500\n",
      "Não Pastejando     87788\n",
      "Name: Comportamento, dtype: int64\n",
      "0.5\n",
      "Pastejando        133115\n",
      "Não Pastejando    109745\n",
      "Name: Comportamento, dtype: int64\n",
      "0.6\n",
      "Pastejando        159821\n",
      "Não Pastejando    131611\n",
      "Name: Comportamento, dtype: int64\n",
      "0.7\n",
      "Pastejando        186388\n",
      "Não Pastejando    153616\n",
      "Name: Comportamento, dtype: int64\n",
      "0.8\n",
      "Pastejando        213027\n",
      "Não Pastejando    175549\n",
      "Name: Comportamento, dtype: int64\n",
      "0.9\n",
      "Pastejando        239461\n",
      "Não Pastejando    197687\n",
      "Name: Comportamento, dtype: int64\n",
      "1\n",
      "Pastejando        265853\n",
      "Não Pastejando    219867\n",
      "Name: Comportamento, dtype: int64\n"
     ]
    }
   ],
   "source": [
    "for fracao in df_train_amostras:\n",
    "    print(fracao)\n",
    "    print(df_train_amostras[fracao].Comportamento.value_counts())"
   ]
  },
  {
   "cell_type": "markdown",
   "id": "ab1688b2-6cb5-4175-8258-c3d0cc0e0bcc",
   "metadata": {
    "tags": []
   },
   "source": [
    "#### Random Forest"
   ]
  },
  {
   "cell_type": "code",
   "execution_count": 39,
   "id": "c800968d-fadf-449a-b665-5ca2ce4df2da",
   "metadata": {
    "tags": []
   },
   "outputs": [
    {
     "name": "stdout",
     "output_type": "stream",
     "text": [
      "Nome do modelo:  RandomForestClassifier\n",
      "Parcela usada: 0.1 %  Acurácia: 70.23717368030964\n",
      "                precision    recall  f1-score   support\n",
      "\n",
      "Não Pastejando     0.7047    0.5855    0.6396     54771\n",
      "    Pastejando     0.7010    0.7984    0.7465     66659\n",
      "\n",
      "      accuracy                         0.7024    121430\n",
      "     macro avg     0.7028    0.6920    0.6931    121430\n",
      "  weighted avg     0.7027    0.7024    0.6983    121430\n",
      "\n",
      "\n",
      "\n",
      "Parcela usada: 0.5 %  Acurácia: 74.02865848637074\n",
      "                precision    recall  f1-score   support\n",
      "\n",
      "Não Pastejando     0.7319    0.6694    0.6992     54771\n",
      "    Pastejando     0.7462    0.7986    0.7715     66659\n",
      "\n",
      "      accuracy                         0.7403    121430\n",
      "     macro avg     0.7390    0.7340    0.7354    121430\n",
      "  weighted avg     0.7397    0.7403    0.7389    121430\n",
      "\n",
      "\n",
      "\n",
      "Parcela usada: 1.0 %  Acurácia: 75.43193609486947\n",
      "                precision    recall  f1-score   support\n",
      "\n",
      "Não Pastejando     0.7345    0.7131    0.7236     54771\n",
      "    Pastejando     0.7698    0.7882    0.7789     66659\n",
      "\n",
      "      accuracy                         0.7543    121430\n",
      "     macro avg     0.7521    0.7506    0.7513    121430\n",
      "  weighted avg     0.7539    0.7543    0.7540    121430\n",
      "\n",
      "\n",
      "\n",
      "Parcela usada: 5.0 %  Acurácia: 77.13826896154163\n",
      "                precision    recall  f1-score   support\n",
      "\n",
      "Não Pastejando     0.7620    0.7171    0.7389     54771\n",
      "    Pastejando     0.7783    0.8160    0.7967     66659\n",
      "\n",
      "      accuracy                         0.7714    121430\n",
      "     macro avg     0.7702    0.7665    0.7678    121430\n",
      "  weighted avg     0.7709    0.7714    0.7706    121430\n",
      "\n",
      "\n",
      "\n",
      "Parcela usada: 10.0 %  Acurácia: 77.86708391665981\n",
      "                precision    recall  f1-score   support\n",
      "\n",
      "Não Pastejando     0.7703    0.7257    0.7473     54771\n",
      "    Pastejando     0.7849    0.8222    0.8031     66659\n",
      "\n",
      "      accuracy                         0.7787    121430\n",
      "     macro avg     0.7776    0.7740    0.7752    121430\n",
      "  weighted avg     0.7783    0.7787    0.7779    121430\n",
      "\n",
      "\n",
      "\n",
      "Parcela usada: 20.0 %  Acurácia: 78.49378242608911\n",
      "                precision    recall  f1-score   support\n",
      "\n",
      "Não Pastejando     0.7770    0.7339    0.7548     54771\n",
      "    Pastejando     0.7909    0.8269    0.8085     66659\n",
      "\n",
      "      accuracy                         0.7849    121430\n",
      "     macro avg     0.7839    0.7804    0.7816    121430\n",
      "  weighted avg     0.7846    0.7849    0.7843    121430\n",
      "\n",
      "\n",
      "\n",
      "Parcela usada: 30.0 %  Acurácia: 78.81083751955859\n",
      "                precision    recall  f1-score   support\n",
      "\n",
      "Não Pastejando     0.7816    0.7358    0.7580     54771\n",
      "    Pastejando     0.7929    0.8311    0.8115     66659\n",
      "\n",
      "      accuracy                         0.7881    121430\n",
      "     macro avg     0.7873    0.7834    0.7848    121430\n",
      "  weighted avg     0.7878    0.7881    0.7874    121430\n",
      "\n",
      "\n",
      "\n",
      "Parcela usada: 40.0 %  Acurácia: 79.03236432512558\n",
      "                precision    recall  f1-score   support\n",
      "\n",
      "Não Pastejando     0.7851    0.7368    0.7602     54771\n",
      "    Pastejando     0.7941    0.8343    0.8137     66659\n",
      "\n",
      "      accuracy                         0.7903    121430\n",
      "     macro avg     0.7896    0.7855    0.7870    121430\n",
      "  weighted avg     0.7901    0.7903    0.7896    121430\n",
      "\n",
      "\n",
      "\n",
      "Parcela usada: 50.0 %  Acurácia: 79.20200938812485\n",
      "                precision    recall  f1-score   support\n",
      "\n",
      "Não Pastejando     0.7864    0.7398    0.7624     54771\n",
      "    Pastejando     0.7961    0.8349    0.8151     66659\n",
      "\n",
      "      accuracy                         0.7920    121430\n",
      "     macro avg     0.7913    0.7874    0.7887    121430\n",
      "  weighted avg     0.7918    0.7920    0.7913    121430\n",
      "\n",
      "\n",
      "\n",
      "Parcela usada: 60.0 %  Acurácia: 79.39224244420654\n",
      "                precision    recall  f1-score   support\n",
      "\n",
      "Não Pastejando     0.7885    0.7423    0.7647     54771\n",
      "    Pastejando     0.7980    0.8364    0.8167     66659\n",
      "\n",
      "      accuracy                         0.7939    121430\n",
      "     macro avg     0.7932    0.7893    0.7907    121430\n",
      "  weighted avg     0.7937    0.7939    0.7932    121430\n",
      "\n",
      "\n",
      "\n",
      "Parcela usada: 70.0 %  Acurácia: 79.55447582969613\n",
      "                precision    recall  f1-score   support\n",
      "\n",
      "Não Pastejando     0.7899    0.7448    0.7667     54771\n",
      "    Pastejando     0.7997    0.8372    0.8180     66659\n",
      "\n",
      "      accuracy                         0.7955    121430\n",
      "     macro avg     0.7948    0.7910    0.7924    121430\n",
      "  weighted avg     0.7953    0.7955    0.7949    121430\n",
      "\n",
      "\n",
      "\n",
      "Parcela usada: 80.0 %  Acurácia: 79.64588651898214\n",
      "                precision    recall  f1-score   support\n",
      "\n",
      "Não Pastejando     0.7915    0.7450    0.7675     54771\n",
      "    Pastejando     0.8001    0.8388    0.8190     66659\n",
      "\n",
      "      accuracy                         0.7965    121430\n",
      "     macro avg     0.7958    0.7919    0.7933    121430\n",
      "  weighted avg     0.7962    0.7965    0.7958    121430\n",
      "\n",
      "\n",
      "\n",
      "Parcela usada: 90.0 %  Acurácia: 79.83200197644733\n",
      "                precision    recall  f1-score   support\n",
      "\n",
      "Não Pastejando     0.7931    0.7481    0.7699     54771\n",
      "    Pastejando     0.8022    0.8396    0.8205     66659\n",
      "\n",
      "      accuracy                         0.7983    121430\n",
      "     macro avg     0.7976    0.7938    0.7952    121430\n",
      "  weighted avg     0.7981    0.7983    0.7977    121430\n",
      "\n",
      "\n",
      "\n",
      "Parcela usada: 100 %  Acurácia: 79.95964753355842\n",
      "                precision    recall  f1-score   support\n",
      "\n",
      "Não Pastejando     0.7942    0.7500    0.7715     54771\n",
      "    Pastejando     0.8036    0.8404    0.8216     66659\n",
      "\n",
      "      accuracy                         0.7996    121430\n",
      "     macro avg     0.7989    0.7952    0.7965    121430\n",
      "  weighted avg     0.7994    0.7996    0.7990    121430\n",
      "\n",
      "\n",
      "\n"
     ]
    }
   ],
   "source": [
    "from sklearn.ensemble import RandomForestClassifier\n",
    "\n",
    "rf_model = RandomForestClassifier(random_state=0, n_jobs=-1)\n",
    "treinar_e_validar_amostras(df_train_amostras, X_test, y_test, rf_model)"
   ]
  },
  {
   "cell_type": "markdown",
   "id": "eb7727d5-574a-47e6-9138-bbba99e6b895",
   "metadata": {},
   "source": [
    "#### LGBMClassifier"
   ]
  },
  {
   "cell_type": "code",
   "execution_count": 43,
   "id": "0ace846e-3f88-4b05-98a1-ebb36d1d46fd",
   "metadata": {},
   "outputs": [
    {
     "name": "stdout",
     "output_type": "stream",
     "text": [
      "Nome do modelo:  LGBMClassifier\n",
      "Parcela usada: 0.1 %  Acurácia: 68.43531252573499\n",
      "                precision    recall  f1-score   support\n",
      "\n",
      "Não Pastejando     0.6763    0.5757    0.6220     54771\n",
      "    Pastejando     0.6894    0.7736    0.7291     66659\n",
      "\n",
      "      accuracy                         0.6844    121430\n",
      "     macro avg     0.6828    0.6747    0.6755    121430\n",
      "  weighted avg     0.6835    0.6844    0.6808    121430\n",
      "\n",
      "\n",
      "\n",
      "Parcela usada: 0.5 %  Acurácia: 73.23149139421889\n",
      "                precision    recall  f1-score   support\n",
      "\n",
      "Não Pastejando     0.7228    0.6595    0.6897     54771\n",
      "    Pastejando     0.7390    0.7922    0.7647     66659\n",
      "\n",
      "      accuracy                         0.7323    121430\n",
      "     macro avg     0.7309    0.7258    0.7272    121430\n",
      "  weighted avg     0.7317    0.7323    0.7308    121430\n",
      "\n",
      "\n",
      "\n",
      "Parcela usada: 1.0 %  Acurácia: 75.13464547475913\n",
      "                precision    recall  f1-score   support\n",
      "\n",
      "Não Pastejando     0.7313    0.7094    0.7202     54771\n",
      "    Pastejando     0.7669    0.7859    0.7763     66659\n",
      "\n",
      "      accuracy                         0.7513    121430\n",
      "     macro avg     0.7491    0.7476    0.7482    121430\n",
      "  weighted avg     0.7509    0.7513    0.7510    121430\n",
      "\n",
      "\n",
      "\n",
      "Parcela usada: 5.0 %  Acurácia: 77.00979988470723\n",
      "                precision    recall  f1-score   support\n",
      "\n",
      "Não Pastejando     0.7564    0.7233    0.7394     54771\n",
      "    Pastejando     0.7805    0.8086    0.7943     66659\n",
      "\n",
      "      accuracy                         0.7701    121430\n",
      "     macro avg     0.7684    0.7659    0.7669    121430\n",
      "  weighted avg     0.7696    0.7701    0.7696    121430\n",
      "\n",
      "\n",
      "\n",
      "Parcela usada: 10.0 %  Acurácia: 77.32685497817673\n",
      "                precision    recall  f1-score   support\n",
      "\n",
      "Não Pastejando     0.7588    0.7291    0.7437     54771\n",
      "    Pastejando     0.7844    0.8095    0.7967     66659\n",
      "\n",
      "      accuracy                         0.7733    121430\n",
      "     macro avg     0.7716    0.7693    0.7702    121430\n",
      "  weighted avg     0.7728    0.7733    0.7728    121430\n",
      "\n",
      "\n",
      "\n",
      "Parcela usada: 20.0 %  Acurácia: 77.62167503911719\n",
      "                precision    recall  f1-score   support\n",
      "\n",
      "Não Pastejando     0.7619    0.7329    0.7471     54771\n",
      "    Pastejando     0.7872    0.8118    0.7993     66659\n",
      "\n",
      "      accuracy                         0.7762    121430\n",
      "     macro avg     0.7745    0.7724    0.7732    121430\n",
      "  weighted avg     0.7758    0.7762    0.7758    121430\n",
      "\n",
      "\n",
      "\n",
      "Parcela usada: 30.0 %  Acurácia: 77.74026187927201\n",
      "                precision    recall  f1-score   support\n",
      "\n",
      "Não Pastejando     0.7620    0.7365    0.7491     54771\n",
      "    Pastejando     0.7893    0.8110    0.8000     66659\n",
      "\n",
      "      accuracy                         0.7774    121430\n",
      "     macro avg     0.7757    0.7738    0.7745    121430\n",
      "  weighted avg     0.7770    0.7774    0.7770    121430\n",
      "\n",
      "\n",
      "\n",
      "Parcela usada: 40.0 %  Acurácia: 77.90331878448488\n",
      "                precision    recall  f1-score   support\n",
      "\n",
      "Não Pastejando     0.7674    0.7319    0.7492     54771\n",
      "    Pastejando     0.7878    0.8178    0.8025     66659\n",
      "\n",
      "      accuracy                         0.7790    121430\n",
      "     macro avg     0.7776    0.7748    0.7759    121430\n",
      "  weighted avg     0.7786    0.7790    0.7785    121430\n",
      "\n",
      "\n",
      "\n",
      "Parcela usada: 50.0 %  Acurácia: 77.76661451041753\n",
      "                precision    recall  f1-score   support\n",
      "\n",
      "Não Pastejando     0.7648    0.7322    0.7482     54771\n",
      "    Pastejando     0.7874    0.8150    0.8010     66659\n",
      "\n",
      "      accuracy                         0.7777    121430\n",
      "     macro avg     0.7761    0.7736    0.7746    121430\n",
      "  weighted avg     0.7772    0.7777    0.7772    121430\n",
      "\n",
      "\n",
      "\n",
      "Parcela usada: 60.0 %  Acurácia: 77.91073046199456\n",
      "                precision    recall  f1-score   support\n",
      "\n",
      "Não Pastejando     0.7663    0.7342    0.7499     54771\n",
      "    Pastejando     0.7889    0.8160    0.8022     66659\n",
      "\n",
      "      accuracy                         0.7791    121430\n",
      "     macro avg     0.7776    0.7751    0.7761    121430\n",
      "  weighted avg     0.7787    0.7791    0.7786    121430\n",
      "\n",
      "\n",
      "\n",
      "Parcela usada: 70.0 %  Acurácia: 77.90167174503829\n",
      "                precision    recall  f1-score   support\n",
      "\n",
      "Não Pastejando     0.7664    0.7337    0.7497     54771\n",
      "    Pastejando     0.7886    0.8163    0.8022     66659\n",
      "\n",
      "      accuracy                         0.7790    121430\n",
      "     macro avg     0.7775    0.7750    0.7759    121430\n",
      "  weighted avg     0.7786    0.7790    0.7785    121430\n",
      "\n",
      "\n",
      "\n",
      "Parcela usada: 80.0 %  Acurácia: 77.91896565922754\n",
      "                precision    recall  f1-score   support\n",
      "\n",
      "Não Pastejando     0.7666    0.7339    0.7499     54771\n",
      "    Pastejando     0.7888    0.8164    0.8023     66659\n",
      "\n",
      "      accuracy                         0.7792    121430\n",
      "     macro avg     0.7777    0.7752    0.7761    121430\n",
      "  weighted avg     0.7788    0.7792    0.7787    121430\n",
      "\n",
      "\n",
      "\n",
      "Parcela usada: 90.0 %  Acurácia: 78.03343490076587\n",
      "                precision    recall  f1-score   support\n",
      "\n",
      "Não Pastejando     0.7681    0.7348    0.7511     54771\n",
      "    Pastejando     0.7896    0.8177    0.8034     66659\n",
      "\n",
      "      accuracy                         0.7803    121430\n",
      "     macro avg     0.7789    0.7763    0.7773    121430\n",
      "  weighted avg     0.7799    0.7803    0.7798    121430\n",
      "\n",
      "\n",
      "\n",
      "Parcela usada: 100 %  Acurácia: 77.93378901424688\n",
      "                precision    recall  f1-score   support\n",
      "\n",
      "Não Pastejando     0.7654    0.7365    0.7507     54771\n",
      "    Pastejando     0.7900    0.8146    0.8021     66659\n",
      "\n",
      "      accuracy                         0.7793    121430\n",
      "     macro avg     0.7777    0.7755    0.7764    121430\n",
      "  weighted avg     0.7789    0.7793    0.7789    121430\n",
      "\n",
      "\n",
      "\n"
     ]
    }
   ],
   "source": [
    "from lightgbm import LGBMClassifier\n",
    "\n",
    "lgb_model = LGBMClassifier(n_jobs=-1, random_state=0)\n",
    "treinar_e_validar_amostras(df_train_amostras, X_test, y_test, lgb_model)"
   ]
  },
  {
   "cell_type": "markdown",
   "id": "e60ef687-da57-4ebd-ad56-10af878d147d",
   "metadata": {
    "tags": []
   },
   "source": [
    "#### KNN"
   ]
  },
  {
   "cell_type": "code",
   "execution_count": 44,
   "id": "0f18fb1d-1d62-41f4-9c1e-c1f446eb2e59",
   "metadata": {
    "tags": []
   },
   "outputs": [
    {
     "name": "stdout",
     "output_type": "stream",
     "text": [
      "Nome do modelo:  KNeighborsClassifier\n",
      "Parcela usada: 0.1 %  Acurácia: 61.02034093716544\n",
      "                precision    recall  f1-score   support\n",
      "\n",
      "Não Pastejando     0.5854    0.4653    0.5185     54771\n",
      "    Pastejando     0.6241    0.7292    0.6726     66659\n",
      "\n",
      "      accuracy                         0.6102    121430\n",
      "     macro avg     0.6047    0.5973    0.5955    121430\n",
      "  weighted avg     0.6066    0.6102    0.6031    121430\n",
      "\n",
      "\n",
      "\n",
      "Parcela usada: 0.5 %  Acurácia: 64.35312525734992\n",
      "                precision    recall  f1-score   support\n",
      "\n",
      "Não Pastejando     0.6125    0.5709    0.5910     54771\n",
      "    Pastejando     0.6661    0.7032    0.6841     66659\n",
      "\n",
      "      accuracy                         0.6435    121430\n",
      "     macro avg     0.6393    0.6371    0.6375    121430\n",
      "  weighted avg     0.6419    0.6435    0.6421    121430\n",
      "\n",
      "\n",
      "\n",
      "Parcela usada: 1.0 %  Acurácia: 65.06464629827884\n",
      "                precision    recall  f1-score   support\n",
      "\n",
      "Não Pastejando     0.6126    0.6132    0.6129     54771\n",
      "    Pastejando     0.6819    0.6814    0.6817     66659\n",
      "\n",
      "      accuracy                         0.6506    121430\n",
      "     macro avg     0.6473    0.6473    0.6473    121430\n",
      "  weighted avg     0.6507    0.6506    0.6507    121430\n",
      "\n",
      "\n",
      "\n",
      "Parcela usada: 5.0 %  Acurácia: 67.34744297125917\n",
      "                precision    recall  f1-score   support\n",
      "\n",
      "Não Pastejando     0.6382    0.6376    0.6379     54771\n",
      "    Pastejando     0.7024    0.7030    0.7027     66659\n",
      "\n",
      "      accuracy                         0.6735    121430\n",
      "     macro avg     0.6703    0.6703    0.6703    121430\n",
      "  weighted avg     0.6734    0.6735    0.6735    121430\n",
      "\n",
      "\n",
      "\n",
      "Parcela usada: 10.0 %  Acurácia: 69.0883636663098\n",
      "                precision    recall  f1-score   support\n",
      "\n",
      "Não Pastejando     0.6571    0.6580    0.6576     54771\n",
      "    Pastejando     0.7187    0.7179    0.7183     66659\n",
      "\n",
      "      accuracy                         0.6909    121430\n",
      "     macro avg     0.6879    0.6880    0.6879    121430\n",
      "  weighted avg     0.6909    0.6909    0.6909    121430\n",
      "\n",
      "\n",
      "\n",
      "Parcela usada: 20.0 %  Acurácia: 70.64728650251173\n",
      "                precision    recall  f1-score   support\n",
      "\n",
      "Não Pastejando     0.6729    0.6796    0.6762     54771\n",
      "    Pastejando     0.7346    0.7285    0.7315     66659\n",
      "\n",
      "      accuracy                         0.7065    121430\n",
      "     macro avg     0.7037    0.7041    0.7039    121430\n",
      "  weighted avg     0.7068    0.7065    0.7066    121430\n",
      "\n",
      "\n",
      "\n",
      "Parcela usada: 30.0 %  Acurácia: 71.54492300090587\n",
      "                precision    recall  f1-score   support\n",
      "\n",
      "Não Pastejando     0.6846    0.6846    0.6846     54771\n",
      "    Pastejando     0.7408    0.7408    0.7408     66659\n",
      "\n",
      "      accuracy                         0.7154    121430\n",
      "     macro avg     0.7127    0.7127    0.7127    121430\n",
      "  weighted avg     0.7154    0.7154    0.7154    121430\n",
      "\n",
      "\n",
      "\n",
      "Parcela usada: 40.0 %  Acurácia: 72.22515029234951\n",
      "                precision    recall  f1-score   support\n",
      "\n",
      "Não Pastejando     0.6929    0.6899    0.6914     54771\n",
      "    Pastejando     0.7461    0.7488    0.7475     66659\n",
      "\n",
      "      accuracy                         0.7223    121430\n",
      "     macro avg     0.7195    0.7194    0.7195    121430\n",
      "  weighted avg     0.7221    0.7223    0.7222    121430\n",
      "\n",
      "\n",
      "\n",
      "Parcela usada: 50.0 %  Acurácia: 72.60643992423618\n",
      "                precision    recall  f1-score   support\n",
      "\n",
      "Não Pastejando     0.6974    0.6937    0.6955     54771\n",
      "    Pastejando     0.7494    0.7527    0.7510     66659\n",
      "\n",
      "      accuracy                         0.7261    121430\n",
      "     macro avg     0.7234    0.7232    0.7233    121430\n",
      "  weighted avg     0.7259    0.7261    0.7260    121430\n",
      "\n",
      "\n",
      "\n",
      "Parcela usada: 60.0 %  Acurácia: 73.0107881083752\n",
      "                precision    recall  f1-score   support\n",
      "\n",
      "Não Pastejando     0.7015    0.6991    0.7003     54771\n",
      "    Pastejando     0.7535    0.7555    0.7545     66659\n",
      "\n",
      "      accuracy                         0.7301    121430\n",
      "     macro avg     0.7275    0.7273    0.7274    121430\n",
      "  weighted avg     0.7300    0.7301    0.7301    121430\n",
      "\n",
      "\n",
      "\n",
      "Parcela usada: 70.0 %  Acurácia: 73.27184386066047\n",
      "                precision    recall  f1-score   support\n",
      "\n",
      "Não Pastejando     0.7040    0.7030    0.7035     54771\n",
      "    Pastejando     0.7563    0.7571    0.7567     66659\n",
      "\n",
      "      accuracy                         0.7327    121430\n",
      "     macro avg     0.7301    0.7301    0.7301    121430\n",
      "  weighted avg     0.7327    0.7327    0.7327    121430\n",
      "\n",
      "\n",
      "\n",
      "Parcela usada: 80.0 %  Acurácia: 73.39619533887837\n",
      "                precision    recall  f1-score   support\n",
      "\n",
      "Não Pastejando     0.7050    0.7053    0.7051     54771\n",
      "    Pastejando     0.7578    0.7575    0.7577     66659\n",
      "\n",
      "      accuracy                         0.7340    121430\n",
      "     macro avg     0.7314    0.7314    0.7314    121430\n",
      "  weighted avg     0.7340    0.7340    0.7340    121430\n",
      "\n",
      "\n",
      "\n",
      "Parcela usada: 90.0 %  Acurácia: 73.57984023717367\n",
      "                precision    recall  f1-score   support\n",
      "\n",
      "Não Pastejando     0.7069    0.7076    0.7073     54771\n",
      "    Pastejando     0.7596    0.7590    0.7593     66659\n",
      "\n",
      "      accuracy                         0.7358    121430\n",
      "     macro avg     0.7332    0.7333    0.7333    121430\n",
      "  weighted avg     0.7358    0.7358    0.7358    121430\n",
      "\n",
      "\n",
      "\n",
      "Parcela usada: 100 %  Acurácia: 73.82030799637651\n",
      "                precision    recall  f1-score   support\n",
      "\n",
      "Não Pastejando     0.7099    0.7094    0.7097     54771\n",
      "    Pastejando     0.7614    0.7618    0.7616     66659\n",
      "\n",
      "      accuracy                         0.7382    121430\n",
      "     macro avg     0.7357    0.7356    0.7357    121430\n",
      "  weighted avg     0.7382    0.7382    0.7382    121430\n",
      "\n",
      "\n",
      "\n"
     ]
    }
   ],
   "source": [
    "from sklearn.neighbors import KNeighborsClassifier\n",
    "\n",
    "knn_model = KNeighborsClassifier(n_jobs=-1)\n",
    "treinar_e_validar_amostras(df_train_amostras, X_test, y_test, knn_model)"
   ]
  },
  {
   "cell_type": "markdown",
   "id": "2f2ee062-6d5b-463e-a1db-9786cbfd18ed",
   "metadata": {
    "tags": []
   },
   "source": [
    "#### Redes Neurais"
   ]
  },
  {
   "cell_type": "code",
   "execution_count": 45,
   "id": "c2f60554-c15c-432c-b641-21bd0d452705",
   "metadata": {},
   "outputs": [
    {
     "name": "stdout",
     "output_type": "stream",
     "text": [
      "Nome do modelo:  MLPClassifier\n",
      "Parcela usada: 0.1 %  Acurácia: 63.076669686238986\n",
      "                precision    recall  f1-score   support\n",
      "\n",
      "Não Pastejando     0.6752    0.3495    0.4606     54771\n",
      "    Pastejando     0.6172    0.8619    0.7193     66659\n",
      "\n",
      "      accuracy                         0.6308    121430\n",
      "     macro avg     0.6462    0.6057    0.5900    121430\n",
      "  weighted avg     0.6434    0.6308    0.6026    121430\n",
      "\n",
      "\n",
      "\n",
      "Parcela usada: 0.5 %  Acurácia: 66.46051222926789\n",
      "                precision    recall  f1-score   support\n",
      "\n",
      "Não Pastejando     0.6579    0.5343    0.5897     54771\n",
      "    Pastejando     0.6685    0.7717    0.7164     66659\n",
      "\n",
      "      accuracy                         0.6646    121430\n",
      "     macro avg     0.6632    0.6530    0.6530    121430\n",
      "  weighted avg     0.6637    0.6646    0.6592    121430\n",
      "\n",
      "\n",
      "\n",
      "Parcela usada: 1.0 %  Acurácia: 66.50333525487936\n",
      "                precision    recall  f1-score   support\n",
      "\n",
      "Não Pastejando     0.6797    0.4867    0.5672     54771\n",
      "    Pastejando     0.6580    0.8116    0.7268     66659\n",
      "\n",
      "      accuracy                         0.6650    121430\n",
      "     macro avg     0.6689    0.6491    0.6470    121430\n",
      "  weighted avg     0.6678    0.6650    0.6548    121430\n",
      "\n",
      "\n",
      "\n",
      "Parcela usada: 5.0 %  Acurácia: 69.85506052869967\n",
      "                precision    recall  f1-score   support\n",
      "\n",
      "Não Pastejando     0.6720    0.6479    0.6597     54771\n",
      "    Pastejando     0.7190    0.7402    0.7294     66659\n",
      "\n",
      "      accuracy                         0.6986    121430\n",
      "     macro avg     0.6955    0.6940    0.6946    121430\n",
      "  weighted avg     0.6978    0.6986    0.6980    121430\n",
      "\n",
      "\n",
      "\n",
      "Parcela usada: 10.0 %  Acurácia: 69.0578934365478\n",
      "                precision    recall  f1-score   support\n",
      "\n",
      "Não Pastejando     0.7240    0.5075    0.5967     54771\n",
      "    Pastejando     0.6751    0.8410    0.7490     66659\n",
      "\n",
      "      accuracy                         0.6906    121430\n",
      "     macro avg     0.6996    0.6743    0.6728    121430\n",
      "  weighted avg     0.6972    0.6906    0.6803    121430\n",
      "\n",
      "\n",
      "\n",
      "Parcela usada: 20.0 %  Acurácia: 72.96961212221032\n",
      "                precision    recall  f1-score   support\n",
      "\n",
      "Não Pastejando     0.7197    0.6564    0.6866     54771\n",
      "    Pastejando     0.7367    0.7900    0.7624     66659\n",
      "\n",
      "      accuracy                         0.7297    121430\n",
      "     macro avg     0.7282    0.7232    0.7245    121430\n",
      "  weighted avg     0.7290    0.7297    0.7282    121430\n",
      "\n",
      "\n",
      "\n",
      "Parcela usada: 30.0 %  Acurácia: 72.72337972494441\n",
      "                precision    recall  f1-score   support\n",
      "\n",
      "Não Pastejando     0.7049    0.6800    0.6922     54771\n",
      "    Pastejando     0.7445    0.7660    0.7551     66659\n",
      "\n",
      "      accuracy                         0.7272    121430\n",
      "     macro avg     0.7247    0.7230    0.7237    121430\n",
      "  weighted avg     0.7266    0.7272    0.7267    121430\n",
      "\n",
      "\n",
      "\n",
      "Parcela usada: 40.0 %  Acurácia: 74.58700485876636\n",
      "                precision    recall  f1-score   support\n",
      "\n",
      "Não Pastejando     0.7458    0.6622    0.7016     54771\n",
      "    Pastejando     0.7459    0.8146    0.7787     66659\n",
      "\n",
      "      accuracy                         0.7459    121430\n",
      "     macro avg     0.7459    0.7384    0.7401    121430\n",
      "  weighted avg     0.7459    0.7459    0.7439    121430\n",
      "\n",
      "\n",
      "\n",
      "Parcela usada: 50.0 %  Acurácia: 75.52911142221856\n",
      "                precision    recall  f1-score   support\n",
      "\n",
      "Não Pastejando     0.7473    0.6912    0.7181     54771\n",
      "    Pastejando     0.7610    0.8080    0.7838     66659\n",
      "\n",
      "      accuracy                         0.7553    121430\n",
      "     macro avg     0.7542    0.7496    0.7510    121430\n",
      "  weighted avg     0.7548    0.7553    0.7542    121430\n",
      "\n",
      "\n",
      "\n",
      "Parcela usada: 60.0 %  Acurácia: 73.23890307172857\n",
      "                precision    recall  f1-score   support\n",
      "\n",
      "Não Pastejando     0.7489    0.6118    0.6735     54771\n",
      "    Pastejando     0.7227    0.8315    0.7733     66659\n",
      "\n",
      "      accuracy                         0.7324    121430\n",
      "     macro avg     0.7358    0.7216    0.7234    121430\n",
      "  weighted avg     0.7346    0.7324    0.7283    121430\n",
      "\n",
      "\n",
      "\n",
      "Parcela usada: 70.0 %  Acurácia: 74.09042246561806\n",
      "                precision    recall  f1-score   support\n",
      "\n",
      "Não Pastejando     0.7930    0.5759    0.6672     54771\n",
      "    Pastejando     0.7155    0.8765    0.7879     66659\n",
      "\n",
      "      accuracy                         0.7409    121430\n",
      "     macro avg     0.7543    0.7262    0.7275    121430\n",
      "  weighted avg     0.7505    0.7409    0.7335    121430\n",
      "\n",
      "\n",
      "\n",
      "Parcela usada: 80.0 %  Acurácia: 74.96911801037635\n",
      "                precision    recall  f1-score   support\n",
      "\n",
      "Não Pastejando     0.7210    0.7260    0.7235     54771\n",
      "    Pastejando     0.7736    0.7691    0.7714     66659\n",
      "\n",
      "      accuracy                         0.7497    121430\n",
      "     macro avg     0.7473    0.7476    0.7474    121430\n",
      "  weighted avg     0.7499    0.7497    0.7498    121430\n",
      "\n",
      "\n",
      "\n",
      "Parcela usada: 90.0 %  Acurácia: 75.82887260149882\n",
      "                precision    recall  f1-score   support\n",
      "\n",
      "Não Pastejando     0.7330    0.7301    0.7315     54771\n",
      "    Pastejando     0.7789    0.7815    0.7802     66659\n",
      "\n",
      "      accuracy                         0.7583    121430\n",
      "     macro avg     0.7560    0.7558    0.7559    121430\n",
      "  weighted avg     0.7582    0.7583    0.7582    121430\n",
      "\n",
      "\n",
      "\n",
      "Parcela usada: 100 %  Acurácia: 75.7053446430042\n",
      "                precision    recall  f1-score   support\n",
      "\n",
      "Não Pastejando     0.7686    0.6602    0.7103     54771\n",
      "    Pastejando     0.7498    0.8367    0.7908     66659\n",
      "\n",
      "      accuracy                         0.7571    121430\n",
      "     macro avg     0.7592    0.7484    0.7505    121430\n",
      "  weighted avg     0.7582    0.7571    0.7545    121430\n",
      "\n",
      "\n",
      "\n"
     ]
    }
   ],
   "source": [
    "%%capture --no-stdout\n",
    "\n",
    "from sklearn.neural_network import MLPClassifier\n",
    "\n",
    "rn_model = MLPClassifier(random_state=0)\n",
    "treinar_e_validar_amostras(df_train_amostras, X_test, y_test, rn_model)"
   ]
  },
  {
   "cell_type": "markdown",
   "id": "dcff46e7-0e1e-484e-8326-5b48d02af1a6",
   "metadata": {
    "tags": []
   },
   "source": [
    "#### Gradient Boosting"
   ]
  },
  {
   "cell_type": "code",
   "execution_count": 151,
   "id": "7396bd08-d5bb-4a1e-92c6-e700c7de39d0",
   "metadata": {},
   "outputs": [
    {
     "name": "stdout",
     "output_type": "stream",
     "text": [
      "Nome do modelo:  XGBClassifier\n",
      "Parcela usada: 0.1 %  Acurácia: 68.18825660874577\n",
      "              precision    recall  f1-score   support\n",
      "\n",
      "         0.0     0.6737    0.5717    0.6185     54771\n",
      "         1.0     0.6870    0.7725    0.7272     66659\n",
      "\n",
      "    accuracy                         0.6819    121430\n",
      "   macro avg     0.6803    0.6721    0.6728    121430\n",
      "weighted avg     0.6810    0.6819    0.6782    121430\n",
      "\n",
      "\n",
      "\n",
      "Parcela usada: 0.5 %  Acurácia: 72.885613110434\n",
      "              precision    recall  f1-score   support\n",
      "\n",
      "         0.0     0.7198    0.6530    0.6848     54771\n",
      "         1.0     0.7351    0.7912    0.7621     66659\n",
      "\n",
      "    accuracy                         0.7289    121430\n",
      "   macro avg     0.7275    0.7221    0.7235    121430\n",
      "weighted avg     0.7282    0.7289    0.7272    121430\n",
      "\n",
      "\n",
      "\n",
      "Parcela usada: 1.0 %  Acurácia: 74.00148233550193\n",
      "              precision    recall  f1-score   support\n",
      "\n",
      "         0.0     0.7187    0.6960    0.7072     54771\n",
      "         1.0     0.7565    0.7762    0.7662     66659\n",
      "\n",
      "    accuracy                         0.7400    121430\n",
      "   macro avg     0.7376    0.7361    0.7367    121430\n",
      "weighted avg     0.7395    0.7400    0.7396    121430\n",
      "\n",
      "\n",
      "\n",
      "Parcela usada: 5.0 %  Acurácia: 76.56921683274315\n",
      "              precision    recall  f1-score   support\n",
      "\n",
      "         0.0     0.7476    0.7255    0.7364     54771\n",
      "         1.0     0.7798    0.7988    0.7892     66659\n",
      "\n",
      "    accuracy                         0.7657    121430\n",
      "   macro avg     0.7637    0.7621    0.7628    121430\n",
      "weighted avg     0.7653    0.7657    0.7653    121430\n",
      "\n",
      "\n",
      "\n",
      "Parcela usada: 10.0 %  Acurácia: 77.35567816849213\n",
      "              precision    recall  f1-score   support\n",
      "\n",
      "         0.0     0.7582    0.7312    0.7444     54771\n",
      "         1.0     0.7854    0.8084    0.7967     66659\n",
      "\n",
      "    accuracy                         0.7736    121430\n",
      "   macro avg     0.7718    0.7698    0.7706    121430\n",
      "weighted avg     0.7731    0.7736    0.7731    121430\n",
      "\n",
      "\n",
      "\n",
      "Parcela usada: 20.0 %  Acurácia: 77.70485053117022\n",
      "              precision    recall  f1-score   support\n",
      "\n",
      "         0.0     0.7593    0.7403    0.7497     54771\n",
      "         1.0     0.7909    0.8072    0.7990     66659\n",
      "\n",
      "    accuracy                         0.7770    121430\n",
      "   macro avg     0.7751    0.7738    0.7744    121430\n",
      "weighted avg     0.7767    0.7770    0.7768    121430\n",
      "\n",
      "\n",
      "\n",
      "Parcela usada: 30.0 %  Acurácia: 78.1231985506053\n",
      "              precision    recall  f1-score   support\n",
      "\n",
      "         0.0     0.7662    0.7412    0.7535     54771\n",
      "         1.0     0.7929    0.8141    0.8034     66659\n",
      "\n",
      "    accuracy                         0.7812    121430\n",
      "   macro avg     0.7795    0.7777    0.7784    121430\n",
      "weighted avg     0.7808    0.7812    0.7809    121430\n",
      "\n",
      "\n",
      "\n",
      "Parcela usada: 40.0 %  Acurácia: 78.23190315408054\n",
      "              precision    recall  f1-score   support\n",
      "\n",
      "         0.0     0.7685    0.7404    0.7542     54771\n",
      "         1.0     0.7929    0.8168    0.8047     66659\n",
      "\n",
      "    accuracy                         0.7823    121430\n",
      "   macro avg     0.7807    0.7786    0.7794    121430\n",
      "weighted avg     0.7819    0.7823    0.7819    121430\n",
      "\n",
      "\n",
      "\n",
      "Parcela usada: 50.0 %  Acurácia: 78.366136868978\n",
      "              precision    recall  f1-score   support\n",
      "\n",
      "         0.0     0.7704    0.7412    0.7556     54771\n",
      "         1.0     0.7938    0.8185    0.8060     66659\n",
      "\n",
      "    accuracy                         0.7837    121430\n",
      "   macro avg     0.7821    0.7799    0.7808    121430\n",
      "weighted avg     0.7833    0.7837    0.7832    121430\n",
      "\n",
      "\n",
      "\n",
      "Parcela usada: 60.0 %  Acurácia: 78.58684015482172\n",
      "              precision    recall  f1-score   support\n",
      "\n",
      "         0.0     0.7750    0.7401    0.7571     54771\n",
      "         1.0     0.7941    0.8235    0.8085     66659\n",
      "\n",
      "    accuracy                         0.7859    121430\n",
      "   macro avg     0.7846    0.7818    0.7828    121430\n",
      "weighted avg     0.7855    0.7859    0.7853    121430\n",
      "\n",
      "\n",
      "\n",
      "Parcela usada: 70.0 %  Acurácia: 78.68566252161739\n",
      "              precision    recall  f1-score   support\n",
      "\n",
      "         0.0     0.7753    0.7428    0.7587     54771\n",
      "         1.0     0.7957    0.8231    0.8091     66659\n",
      "\n",
      "    accuracy                         0.7869    121430\n",
      "   macro avg     0.7855    0.7829    0.7839    121430\n",
      "weighted avg     0.7865    0.7869    0.7864    121430\n",
      "\n",
      "\n",
      "\n",
      "Parcela usada: 80.0 %  Acurácia: 78.47978259079305\n",
      "              precision    recall  f1-score   support\n",
      "\n",
      "         0.0     0.7716    0.7428    0.7569     54771\n",
      "         1.0     0.7949    0.8193    0.8069     66659\n",
      "\n",
      "    accuracy                         0.7848    121430\n",
      "   macro avg     0.7833    0.7811    0.7819    121430\n",
      "weighted avg     0.7844    0.7848    0.7844    121430\n",
      "\n",
      "\n",
      "\n",
      "Parcela usada: 90.0 %  Acurácia: 78.70048587663675\n",
      "              precision    recall  f1-score   support\n",
      "\n",
      "         0.0     0.7752    0.7434    0.7590     54771\n",
      "         1.0     0.7960    0.8228    0.8092     66659\n",
      "\n",
      "    accuracy                         0.7870    121430\n",
      "   macro avg     0.7856    0.7831    0.7841    121430\n",
      "weighted avg     0.7866    0.7870    0.7865    121430\n",
      "\n",
      "\n",
      "\n",
      "Parcela usada: 100 %  Acurácia: 78.76636745450053\n",
      "              precision    recall  f1-score   support\n",
      "\n",
      "         0.0     0.7768    0.7427    0.7593     54771\n",
      "         1.0     0.7959    0.8246    0.8100     66659\n",
      "\n",
      "    accuracy                         0.7877    121430\n",
      "   macro avg     0.7863    0.7837    0.7847    121430\n",
      "weighted avg     0.7873    0.7877    0.7872    121430\n",
      "\n",
      "\n",
      "\n"
     ]
    }
   ],
   "source": [
    "%%capture --no-stdout\n",
    "\n",
    "from xgboost import XGBClassifier\n",
    "\n",
    "from sklearn.preprocessing import OrdinalEncoder\n",
    "ordinal_encoder = OrdinalEncoder()\n",
    "\n",
    "y_test_df = pd.DataFrame(y_test)\n",
    "\n",
    "df_train_oe = df_train\n",
    "df_train_oe['Comportamento'] = ordinal_encoder.fit_transform(df_train_oe['Comportamento'].array.reshape(-1,1))\n",
    "y_test_oe =  ordinal_encoder.transform(y_test_df)\n",
    "\n",
    "df_train_amostras_oe = {}\n",
    "for fracao in fracoes:\n",
    "    df_train_amostras_oe[fracao] = df_train_oe.sample(frac=fracao, random_state=0)\n",
    "\n",
    "xgb_model = XGBClassifier(use_label_encoder=False, random_state=0, n_jobs=-1, verbosity = 0)\n",
    "treinar_e_validar_amostras(df_train_amostras_oe, X_test, y_test_oe, xgb_model)"
   ]
  },
  {
   "cell_type": "markdown",
   "id": "9fa268d3-8633-489b-86d1-8b2617643f91",
   "metadata": {
    "tags": []
   },
   "source": [
    "#### Redes Neurais com dados normalizados"
   ]
  },
  {
   "cell_type": "code",
   "execution_count": 20,
   "id": "225eba39-d573-4899-9d08-dc6da4cf8339",
   "metadata": {},
   "outputs": [
    {
     "name": "stdout",
     "output_type": "stream",
     "text": [
      "Nome do modelo:  MLPClassifier\n",
      "Parcela usada: 0.1 %  Acurácia: 69.12706909330478\n",
      "                precision    recall  f1-score   support\n",
      "\n",
      "Não Pastejando     0.7091    0.5351    0.6099     54771\n",
      "    Pastejando     0.6821    0.8196    0.7445     66659\n",
      "\n",
      "      accuracy                         0.6913    121430\n",
      "     macro avg     0.6956    0.6773    0.6772    121430\n",
      "  weighted avg     0.6943    0.6913    0.6838    121430\n",
      "\n",
      "\n",
      "\n",
      "Parcela usada: 0.5 %  Acurácia: 74.19006835213703\n",
      "                precision    recall  f1-score   support\n",
      "\n",
      "Não Pastejando     0.7457    0.6492    0.6941     54771\n",
      "    Pastejando     0.7395    0.8181    0.7768     66659\n",
      "\n",
      "      accuracy                         0.7419    121430\n",
      "     macro avg     0.7426    0.7336    0.7354    121430\n",
      "  weighted avg     0.7423    0.7419    0.7395    121430\n",
      "\n",
      "\n",
      "\n",
      "Parcela usada: 1.0 %  Acurácia: 75.63534546652392\n",
      "                precision    recall  f1-score   support\n",
      "\n",
      "Não Pastejando     0.7311    0.7274    0.7292     54771\n",
      "    Pastejando     0.7769    0.7802    0.7785     66659\n",
      "\n",
      "      accuracy                         0.7564    121430\n",
      "     macro avg     0.7540    0.7538    0.7539    121430\n",
      "  weighted avg     0.7562    0.7564    0.7563    121430\n",
      "\n",
      "\n",
      "\n",
      "Parcela usada: 5.0 %  Acurácia: 76.6120398583546\n",
      "                precision    recall  f1-score   support\n",
      "\n",
      "Não Pastejando     0.7239    0.7783    0.7501     54771\n",
      "    Pastejando     0.8059    0.7561    0.7802     66659\n",
      "\n",
      "      accuracy                         0.7661    121430\n",
      "     macro avg     0.7649    0.7672    0.7652    121430\n",
      "  weighted avg     0.7689    0.7661    0.7666    121430\n",
      "\n",
      "\n",
      "\n",
      "Parcela usada: 10.0 %  Acurácia: 77.4297949435889\n",
      "                precision    recall  f1-score   support\n",
      "\n",
      "Não Pastejando     0.7605    0.7292    0.7445     54771\n",
      "    Pastejando     0.7848    0.8113    0.7978     66659\n",
      "\n",
      "      accuracy                         0.7743    121430\n",
      "     macro avg     0.7727    0.7703    0.7712    121430\n",
      "  weighted avg     0.7738    0.7743    0.7738    121430\n",
      "\n",
      "\n",
      "\n",
      "Parcela usada: 20.0 %  Acurácia: 77.91731861978094\n",
      "                precision    recall  f1-score   support\n",
      "\n",
      "Não Pastejando     0.7717    0.7249    0.7476     54771\n",
      "    Pastejando     0.7847    0.8238    0.8038     66659\n",
      "\n",
      "      accuracy                         0.7792    121430\n",
      "     macro avg     0.7782    0.7743    0.7757    121430\n",
      "  weighted avg     0.7788    0.7792    0.7784    121430\n",
      "\n",
      "\n",
      "\n",
      "Parcela usada: 30.0 %  Acurácia: 77.8366136868978\n",
      "                precision    recall  f1-score   support\n",
      "\n",
      "Não Pastejando     0.7487    0.7655    0.7570     54771\n",
      "    Pastejando     0.8037    0.7889    0.7963     66659\n",
      "\n",
      "      accuracy                         0.7784    121430\n",
      "     macro avg     0.7762    0.7772    0.7766    121430\n",
      "  weighted avg     0.7789    0.7784    0.7786    121430\n",
      "\n",
      "\n",
      "\n",
      "Parcela usada: 40.0 %  Acurácia: 78.10837519558594\n",
      "                precision    recall  f1-score   support\n",
      "\n",
      "Não Pastejando     0.7783    0.7197    0.7478     54771\n",
      "    Pastejando     0.7831    0.8315    0.8066     66659\n",
      "\n",
      "      accuracy                         0.7811    121430\n",
      "     macro avg     0.7807    0.7756    0.7772    121430\n",
      "  weighted avg     0.7809    0.7811    0.7801    121430\n",
      "\n",
      "\n",
      "\n",
      "Parcela usada: 50.0 %  Acurácia: 78.21543275961459\n",
      "                precision    recall  f1-score   support\n",
      "\n",
      "Não Pastejando     0.7838    0.7140    0.7473     54771\n",
      "    Pastejando     0.7810    0.8381    0.8086     66659\n",
      "\n",
      "      accuracy                         0.7822    121430\n",
      "     macro avg     0.7824    0.7761    0.7779    121430\n",
      "  weighted avg     0.7823    0.7822    0.7809    121430\n",
      "\n",
      "\n",
      "\n",
      "Parcela usada: 60.0 %  Acurácia: 78.01614098657663\n",
      "                precision    recall  f1-score   support\n",
      "\n",
      "Não Pastejando     0.7476    0.7739    0.7605     54771\n",
      "    Pastejando     0.8087    0.7853    0.7968     66659\n",
      "\n",
      "      accuracy                         0.7802    121430\n",
      "     macro avg     0.7781    0.7796    0.7787    121430\n",
      "  weighted avg     0.7811    0.7802    0.7804    121430\n",
      "\n",
      "\n",
      "\n",
      "Parcela usada: 70.0 %  Acurácia: 77.87120151527628\n",
      "                precision    recall  f1-score   support\n",
      "\n",
      "Não Pastejando     0.7907    0.6928    0.7385     54771\n",
      "    Pastejando     0.7709    0.8493    0.8082     66659\n",
      "\n",
      "      accuracy                         0.7787    121430\n",
      "     macro avg     0.7808    0.7710    0.7734    121430\n",
      "  weighted avg     0.7798    0.7787    0.7768    121430\n",
      "\n",
      "\n",
      "\n",
      "Parcela usada: 80.0 %  Acurácia: 78.32743144198304\n",
      "                precision    recall  f1-score   support\n",
      "\n",
      "Não Pastejando     0.7695    0.7416    0.7553     54771\n",
      "    Pastejando     0.7938    0.8175    0.8055     66659\n",
      "\n",
      "      accuracy                         0.7833    121430\n",
      "     macro avg     0.7817    0.7796    0.7804    121430\n",
      "  weighted avg     0.7829    0.7833    0.7829    121430\n",
      "\n",
      "\n",
      "\n",
      "Parcela usada: 90.0 %  Acurácia: 78.20225644404184\n",
      "                precision    recall  f1-score   support\n",
      "\n",
      "Não Pastejando     0.7557    0.7635    0.7596     54771\n",
      "    Pastejando     0.8040    0.7972    0.8006     66659\n",
      "\n",
      "      accuracy                         0.7820    121430\n",
      "     macro avg     0.7799    0.7804    0.7801    121430\n",
      "  weighted avg     0.7822    0.7820    0.7821    121430\n",
      "\n",
      "\n",
      "\n",
      "Parcela usada: 100 %  Acurácia: 78.26978506135221\n",
      "                precision    recall  f1-score   support\n",
      "\n",
      "Não Pastejando     0.7569    0.7635    0.7602     54771\n",
      "    Pastejando     0.8043    0.7985    0.8014     66659\n",
      "\n",
      "      accuracy                         0.7827    121430\n",
      "     macro avg     0.7806    0.7810    0.7808    121430\n",
      "  weighted avg     0.7829    0.7827    0.7828    121430\n",
      "\n",
      "\n",
      "\n"
     ]
    }
   ],
   "source": [
    "%%capture --no-stdout\n",
    "\n",
    "from sklearn.neural_network import MLPClassifier\n",
    "\n",
    "rn_model = MLPClassifier(random_state=0)\n",
    "treinar_e_validar_amostras(df_train_amostras, X_test, y_test, rn_model)"
   ]
  },
  {
   "cell_type": "code",
   "execution_count": null,
   "id": "4a132f4d-9bdd-41b5-b3e7-61f9fa05ec1f",
   "metadata": {},
   "outputs": [],
   "source": []
  }
 ],
 "metadata": {
  "kernelspec": {
   "display_name": "Python 3 (ipykernel)",
   "language": "python",
   "name": "python3"
  },
  "language_info": {
   "codemirror_mode": {
    "name": "ipython",
    "version": 3
   },
   "file_extension": ".py",
   "mimetype": "text/x-python",
   "name": "python",
   "nbconvert_exporter": "python",
   "pygments_lexer": "ipython3",
   "version": "3.9.7"
  }
 },
 "nbformat": 4,
 "nbformat_minor": 5
}
