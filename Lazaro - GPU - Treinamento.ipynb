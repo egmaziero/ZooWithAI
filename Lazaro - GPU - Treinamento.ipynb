{
 "cells": [
  {
   "cell_type": "code",
   "execution_count": 1,
   "id": "b225bc9a-42c5-4eb2-912f-0ae0673bee11",
   "metadata": {},
   "outputs": [],
   "source": [
    "import numpy as np\n",
    "import pandas as pd"
   ]
  },
  {
   "cell_type": "markdown",
   "id": "8fba25bd-d02f-4328-b431-7312adb7779a",
   "metadata": {
    "tags": []
   },
   "source": [
    "## Passo 1: Leitura dos dados\n",
    "Leitura dos bancos de dados em DataFrame Pandas. "
   ]
  },
  {
   "cell_type": "code",
   "execution_count": 2,
   "id": "21f74927-7c7d-4793-ba85-fd9d3336d5ea",
   "metadata": {},
   "outputs": [],
   "source": [
    "caminho_dados_lazaro = 'Datasets/Lazaro/dados_pre_processados_lazaro.csv'"
   ]
  },
  {
   "cell_type": "code",
   "execution_count": 3,
   "id": "9506cb77-8234-49af-9dd2-4dc2c41b8500",
   "metadata": {},
   "outputs": [],
   "source": [
    "df = pd.read_csv(caminho_dados_lazaro)"
   ]
  },
  {
   "cell_type": "code",
   "execution_count": 4,
   "id": "659b3b20-1434-4aa4-af9d-0a4984dca839",
   "metadata": {},
   "outputs": [
    {
     "data": {
      "text/html": [
       "<div>\n",
       "<style scoped>\n",
       "    .dataframe tbody tr th:only-of-type {\n",
       "        vertical-align: middle;\n",
       "    }\n",
       "\n",
       "    .dataframe tbody tr th {\n",
       "        vertical-align: top;\n",
       "    }\n",
       "\n",
       "    .dataframe thead th {\n",
       "        text-align: right;\n",
       "    }\n",
       "</style>\n",
       "<table border=\"1\" class=\"dataframe\">\n",
       "  <thead>\n",
       "    <tr style=\"text-align: right;\">\n",
       "      <th></th>\n",
       "      <th>Piquete</th>\n",
       "      <th>Altura real</th>\n",
       "      <th>Altura esperada</th>\n",
       "      <th>Animal</th>\n",
       "      <th>SensorID</th>\n",
       "      <th>Sensor Name</th>\n",
       "      <th>Date</th>\n",
       "      <th>X</th>\n",
       "      <th>Y</th>\n",
       "      <th>Z</th>\n",
       "      <th>Comportamento</th>\n",
       "      <th>Season_fall</th>\n",
       "      <th>Season_spring</th>\n",
       "      <th>Season_summer</th>\n",
       "      <th>magn</th>\n",
       "      <th>sma</th>\n",
       "      <th>ent</th>\n",
       "      <th>pit</th>\n",
       "      <th>rol</th>\n",
       "      <th>icl</th>\n",
       "    </tr>\n",
       "  </thead>\n",
       "  <tbody>\n",
       "    <tr>\n",
       "      <th>0</th>\n",
       "      <td>11</td>\n",
       "      <td>25.2</td>\n",
       "      <td>25.0</td>\n",
       "      <td>85</td>\n",
       "      <td>434138</td>\n",
       "      <td>Accelerometer - 434138</td>\n",
       "      <td>2019-11-09 09:47:47</td>\n",
       "      <td>-0.132</td>\n",
       "      <td>-0.583</td>\n",
       "      <td>0.712</td>\n",
       "      <td>Ocio</td>\n",
       "      <td>0.0</td>\n",
       "      <td>1.0</td>\n",
       "      <td>0.0</td>\n",
       "      <td>0.929654</td>\n",
       "      <td>1.427</td>\n",
       "      <td>-0.005973</td>\n",
       "      <td>8.162915</td>\n",
       "      <td>129.311311</td>\n",
       "      <td>40.014999</td>\n",
       "    </tr>\n",
       "    <tr>\n",
       "      <th>1</th>\n",
       "      <td>11</td>\n",
       "      <td>25.2</td>\n",
       "      <td>25.0</td>\n",
       "      <td>85</td>\n",
       "      <td>434138</td>\n",
       "      <td>Accelerometer - 434138</td>\n",
       "      <td>2019-11-09 09:47:48</td>\n",
       "      <td>0.021</td>\n",
       "      <td>-0.792</td>\n",
       "      <td>0.574</td>\n",
       "      <td>Ocio</td>\n",
       "      <td>0.0</td>\n",
       "      <td>1.0</td>\n",
       "      <td>0.0</td>\n",
       "      <td>0.978356</td>\n",
       "      <td>1.387</td>\n",
       "      <td>-0.282943</td>\n",
       "      <td>-1.229924</td>\n",
       "      <td>144.067373</td>\n",
       "      <td>54.076939</td>\n",
       "    </tr>\n",
       "    <tr>\n",
       "      <th>2</th>\n",
       "      <td>11</td>\n",
       "      <td>25.2</td>\n",
       "      <td>25.0</td>\n",
       "      <td>85</td>\n",
       "      <td>434138</td>\n",
       "      <td>Accelerometer - 434138</td>\n",
       "      <td>2019-11-09 09:47:50</td>\n",
       "      <td>0.021</td>\n",
       "      <td>-0.792</td>\n",
       "      <td>0.574</td>\n",
       "      <td>Ocio</td>\n",
       "      <td>0.0</td>\n",
       "      <td>1.0</td>\n",
       "      <td>0.0</td>\n",
       "      <td>0.978356</td>\n",
       "      <td>1.387</td>\n",
       "      <td>-0.282943</td>\n",
       "      <td>-1.229924</td>\n",
       "      <td>144.067373</td>\n",
       "      <td>54.076939</td>\n",
       "    </tr>\n",
       "    <tr>\n",
       "      <th>3</th>\n",
       "      <td>11</td>\n",
       "      <td>25.2</td>\n",
       "      <td>25.0</td>\n",
       "      <td>85</td>\n",
       "      <td>434138</td>\n",
       "      <td>Accelerometer - 434138</td>\n",
       "      <td>2019-11-09 09:47:51</td>\n",
       "      <td>0.021</td>\n",
       "      <td>-0.792</td>\n",
       "      <td>0.574</td>\n",
       "      <td>Ocio</td>\n",
       "      <td>0.0</td>\n",
       "      <td>1.0</td>\n",
       "      <td>0.0</td>\n",
       "      <td>0.978356</td>\n",
       "      <td>1.387</td>\n",
       "      <td>-0.282943</td>\n",
       "      <td>-1.229924</td>\n",
       "      <td>144.067373</td>\n",
       "      <td>54.076939</td>\n",
       "    </tr>\n",
       "    <tr>\n",
       "      <th>4</th>\n",
       "      <td>11</td>\n",
       "      <td>25.2</td>\n",
       "      <td>25.0</td>\n",
       "      <td>85</td>\n",
       "      <td>434138</td>\n",
       "      <td>Accelerometer - 434138</td>\n",
       "      <td>2019-11-09 09:47:52</td>\n",
       "      <td>-0.061</td>\n",
       "      <td>-0.870</td>\n",
       "      <td>0.478</td>\n",
       "      <td>Ocio</td>\n",
       "      <td>0.0</td>\n",
       "      <td>1.0</td>\n",
       "      <td>0.0</td>\n",
       "      <td>0.994538</td>\n",
       "      <td>1.409</td>\n",
       "      <td>-0.361029</td>\n",
       "      <td>3.516446</td>\n",
       "      <td>151.214493</td>\n",
       "      <td>61.273746</td>\n",
       "    </tr>\n",
       "  </tbody>\n",
       "</table>\n",
       "</div>"
      ],
      "text/plain": [
       "   Piquete  Altura real  Altura esperada  Animal  SensorID  \\\n",
       "0       11         25.2             25.0      85    434138   \n",
       "1       11         25.2             25.0      85    434138   \n",
       "2       11         25.2             25.0      85    434138   \n",
       "3       11         25.2             25.0      85    434138   \n",
       "4       11         25.2             25.0      85    434138   \n",
       "\n",
       "              Sensor Name                 Date      X      Y      Z  \\\n",
       "0  Accelerometer - 434138  2019-11-09 09:47:47 -0.132 -0.583  0.712   \n",
       "1  Accelerometer - 434138  2019-11-09 09:47:48  0.021 -0.792  0.574   \n",
       "2  Accelerometer - 434138  2019-11-09 09:47:50  0.021 -0.792  0.574   \n",
       "3  Accelerometer - 434138  2019-11-09 09:47:51  0.021 -0.792  0.574   \n",
       "4  Accelerometer - 434138  2019-11-09 09:47:52 -0.061 -0.870  0.478   \n",
       "\n",
       "  Comportamento  Season_fall  Season_spring  Season_summer      magn    sma  \\\n",
       "0          Ocio          0.0            1.0            0.0  0.929654  1.427   \n",
       "1          Ocio          0.0            1.0            0.0  0.978356  1.387   \n",
       "2          Ocio          0.0            1.0            0.0  0.978356  1.387   \n",
       "3          Ocio          0.0            1.0            0.0  0.978356  1.387   \n",
       "4          Ocio          0.0            1.0            0.0  0.994538  1.409   \n",
       "\n",
       "        ent       pit         rol        icl  \n",
       "0 -0.005973  8.162915  129.311311  40.014999  \n",
       "1 -0.282943 -1.229924  144.067373  54.076939  \n",
       "2 -0.282943 -1.229924  144.067373  54.076939  \n",
       "3 -0.282943 -1.229924  144.067373  54.076939  \n",
       "4 -0.361029  3.516446  151.214493  61.273746  "
      ]
     },
     "execution_count": 4,
     "metadata": {},
     "output_type": "execute_result"
    }
   ],
   "source": [
    "df.head()"
   ]
  },
  {
   "cell_type": "code",
   "execution_count": 5,
   "id": "e59c18c6-c7ea-46a1-b4dc-fc429d62fd7e",
   "metadata": {},
   "outputs": [],
   "source": [
    "# Remove as linhas com o sensor 434138\n",
    "df = df[df.SensorID != 434138]"
   ]
  },
  {
   "cell_type": "markdown",
   "id": "524a409b-c5c2-4b65-b4e2-9ff80f1eee0c",
   "metadata": {
    "tags": []
   },
   "source": [
    "## Passo 2: Treinamento"
   ]
  },
  {
   "cell_type": "code",
   "execution_count": 7,
   "id": "19a58d0b-6e6c-492a-b251-0e1a9a7637d7",
   "metadata": {},
   "outputs": [],
   "source": [
    "from sklearn.model_selection import train_test_split\n",
    "from sklearn.metrics import accuracy_score, confusion_matrix, classification_report\n",
    "# Para a busca do melhores hiperparêmetros\n",
    "from sklearn.model_selection import RandomizedSearchCV"
   ]
  },
  {
   "cell_type": "markdown",
   "id": "c958b698-791d-4682-b851-0d7c655cfb09",
   "metadata": {
    "tags": []
   },
   "source": [
    "### Seleção de colunas aplicáveis"
   ]
  },
  {
   "cell_type": "code",
   "execution_count": 19,
   "id": "e782dd2b-7b99-4c0c-8f2d-280aaa9edb8e",
   "metadata": {
    "tags": []
   },
   "outputs": [
    {
     "data": {
      "text/plain": [
       "Index(['X', 'Y', 'Z', 'Comportamento', 'Season_fall', 'Season_spring',\n",
       "       'Season_summer', 'magn', 'sma', 'ent', 'pit', 'rol', 'icl'],\n",
       "      dtype='object')"
      ]
     },
     "execution_count": 19,
     "metadata": {},
     "output_type": "execute_result"
    }
   ],
   "source": [
    "df.columns"
   ]
  },
  {
   "cell_type": "code",
   "execution_count": 18,
   "id": "19a7249a",
   "metadata": {},
   "outputs": [
    {
     "data": {
      "text/plain": [
       "X                float32\n",
       "Y                float32\n",
       "Z                float32\n",
       "Comportamento     object\n",
       "Season_fall      float32\n",
       "Season_spring    float32\n",
       "Season_summer    float32\n",
       "magn             float32\n",
       "sma              float32\n",
       "ent              float32\n",
       "pit              float32\n",
       "rol              float32\n",
       "icl              float32\n",
       "dtype: object"
      ]
     },
     "execution_count": 18,
     "metadata": {},
     "output_type": "execute_result"
    }
   ],
   "source": [
    "df.dtypes"
   ]
  },
  {
   "cell_type": "code",
   "execution_count": 17,
   "id": "616f3e56",
   "metadata": {},
   "outputs": [],
   "source": [
    "# Converte colunas float 64 para float 32, assim é possível usar GPU\n",
    "float64_cols = [cname for cname in df.columns if df[cname].dtype in ['float64']]\n",
    "\n",
    "df[float64_cols] = df[float64_cols].astype('float32')"
   ]
  },
  {
   "cell_type": "code",
   "execution_count": 20,
   "id": "8705385e-f465-4cfd-a856-60ed778cef51",
   "metadata": {},
   "outputs": [],
   "source": [
    "# Lista com os atributos aplicáveis\n",
    "features_aplicaveis = ['X', 'Y' ,'Z', 'Comportamento', 'Season_fall', 'Season_spring', 'Season_summer', 'magn', 'sma', 'ent', 'pit', 'rol', 'icl']\n",
    "\n",
    "# Seleciona os abributos correspondentes da lista features_aplicaveis\n",
    "df = df[features_aplicaveis]"
   ]
  },
  {
   "cell_type": "markdown",
   "id": "ec324711-6e35-4ca4-a4fc-9532a859ab60",
   "metadata": {
    "tags": []
   },
   "source": [
    "#### Divisão entre variáveis preditoras(X) e variáveis de resposta(y)"
   ]
  },
  {
   "cell_type": "code",
   "execution_count": 21,
   "id": "9e9d719a-fad1-437d-b567-bfebf46b953c",
   "metadata": {
    "tags": []
   },
   "outputs": [],
   "source": [
    "y = df.Comportamento\n",
    "X = df.drop('Comportamento', axis=1)\n",
    "\n",
    "# Conjunto de dados PRO: Pastejando x Ruminando x Ócio\n",
    "# Test size = 0.25\n",
    "X_train, X_test, y_train, y_test = train_test_split(X, y, random_state = 0)"
   ]
  },
  {
   "cell_type": "code",
   "execution_count": 12,
   "id": "200a1cc6-c1f1-4a98-9d20-8fc979ffd3d6",
   "metadata": {},
   "outputs": [],
   "source": [
    "# Conjunto de dados PNP: Pastejando x Não Pastejando\n",
    "y_pnp = y\n",
    "y_pnp = y_pnp.replace(to_replace=['Ocio', 'Ruminando'], value='Não Pastejando')\n",
    "X_train, X_test, y_train, y_test = train_test_split(X, y_pnp, random_state = 0)"
   ]
  },
  {
   "cell_type": "markdown",
   "id": "e47379a3-e8a4-49a1-a168-b2f8715c1b13",
   "metadata": {
    "tags": []
   },
   "source": [
    "### Função para imprimir e salvar matriz de confusão"
   ]
  },
  {
   "cell_type": "code",
   "execution_count": 22,
   "id": "1d0b1b71-b608-4396-8942-7ad2108f7d3e",
   "metadata": {},
   "outputs": [],
   "source": [
    "# Função para imprimir e salvar matriz de confusão\n",
    "def imprimeMatrizDeConfusão(y_test, preds, model, salvarFigura = False):\n",
    "    from sklearn.metrics import confusion_matrix\n",
    "    from sklearn.metrics import ConfusionMatrixDisplay\n",
    "    import matplotlib.pyplot as plt\n",
    "\n",
    "    cm = confusion_matrix(y_test, preds, normalize='true')\n",
    "    disp = ConfusionMatrixDisplay(confusion_matrix=cm, display_labels=model.classes_)\n",
    "    disp.plot(values_format= '.0%', xticks_rotation=60, colorbar=False)\n",
    "    disp.ax_.set_title(\"Matriz de confusão normalizada sobre as condições verdadeiras\")\n",
    "    if(salvarFigura):\n",
    "        plt.savefig(input('Nome da figura a ser salva:' ) + '.png')\n",
    "    plt.show()"
   ]
  },
  {
   "cell_type": "code",
   "execution_count": null,
   "id": "c1d9ef74",
   "metadata": {},
   "outputs": [],
   "source": [
    "from cuml import RandomForestClassifier as cuRF\n",
    "\n",
    "from sklearn.preprocessing import OrdinalEncoder\n",
    "enc = OrdinalEncoder()\n",
    "\n",
    "y_train = enc.fit_transform(y_train.array.reshape(-1, 1))\n",
    "\n",
    "y_test = enc.transform(y_test.array.reshape(-1, 1))"
   ]
  },
  {
   "cell_type": "code",
   "execution_count": 32,
   "id": "38d0729e-1931-478e-a3a8-1d50d57d4529",
   "metadata": {},
   "outputs": [
    {
     "name": "stdout",
     "output_type": "stream",
     "text": [
      "cuml RF Accuracy Score:  0.7231533454555037\n"
     ]
    }
   ],
   "source": [
    "# cuml Random Forest params\n",
    "cu_rf_params = {\n",
    "    'n_estimators': 200,\n",
    "    'max_depth': 50,\n",
    "    'n_bins': 15,\n",
    "    'n_streams': 32 }\n",
    "\n",
    "cu_rf = cuRF(**cu_rf_params)\n",
    "cu_rf.fit(X_train, y_train)\n",
    "rf_preds = cu_rf.predict(X_test)\n",
    "\n",
    "print(\"cuml RF Accuracy Score: \", accuracy_score(rf_preds, y_test))"
   ]
  },
  {
   "cell_type": "code",
   "execution_count": null,
   "id": "02b960a3",
   "metadata": {},
   "outputs": [],
   "source": []
  },
  {
   "cell_type": "code",
   "execution_count": 33,
   "id": "4f5fcfe7-38f8-4d3e-99ba-af801c4ee566",
   "metadata": {},
   "outputs": [
    {
     "data": {
      "image/png": "[encoded data removed]",
      "text/plain": [
       "<Figure size 432x288 with 1 Axes>"
      ]
     },
     "metadata": {
      "needs_background": "light"
     },
     "output_type": "display_data"
    }
   ],
   "source": [
    "imprimeMatrizDeConfusão(y_test, rf_preds, cu_rf, salvarFigura = False)"
   ]
  },
  {
   "cell_type": "code",
   "execution_count": 31,
   "id": "046fe914",
   "metadata": {},
   "outputs": [
    {
     "ename": "NameError",
     "evalue": "name 'gpu' is not defined",
     "output_type": "error",
     "traceback": [
      "\u001b[0;31m---------------------------------------------------------------------------\u001b[0m",
      "\u001b[0;31mNameError\u001b[0m                                 Traceback (most recent call last)",
      "\u001b[0;32m/tmp/ipykernel_25346/1806114247.py\u001b[0m in \u001b[0;36m<module>\u001b[0;34m\u001b[0m\n\u001b[0;32m----> 1\u001b[0;31m \u001b[0mgpu\u001b[0m\u001b[0;34m\u001b[0m\u001b[0;34m\u001b[0m\u001b[0m\n\u001b[0m",
      "\u001b[0;31mNameError\u001b[0m: name 'gpu' is not defined"
     ]
    }
   ],
   "source": [
    "gpu"
   ]
  },
  {
   "cell_type": "code",
   "execution_count": null,
   "id": "264fafd5",
   "metadata": {},
   "outputs": [],
   "source": []
  }
 ],
 "metadata": {
  "kernelspec": {
   "display_name": "Python 3 (ipykernel)",
   "language": "python",
   "name": "python3"
  },
  "language_info": {
   "codemirror_mode": {
    "name": "ipython",
    "version": 3
   },
   "file_extension": ".py",
   "mimetype": "text/x-python",
   "name": "python",
   "nbconvert_exporter": "python",
   "pygments_lexer": "ipython3",
   "version": "3.9.7"
  }
 },
 "nbformat": 4,
 "nbformat_minor": 5
}
