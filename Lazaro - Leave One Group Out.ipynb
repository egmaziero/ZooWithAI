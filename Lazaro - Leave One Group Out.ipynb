{
 "cells": [
  {
   "cell_type": "code",
   "execution_count": 8,
   "id": "b6e6cd56-8674-4365-90c9-09cf3e94ef67",
   "metadata": {},
   "outputs": [],
   "source": [
    "import pandas as pd\n",
    "import numpy as np"
   ]
  },
  {
   "cell_type": "markdown",
   "id": "3db0af9f-4fd4-45b2-be4e-97233646c6a4",
   "metadata": {
    "tags": []
   },
   "source": [
    "## Leave One Group Out"
   ]
  },
  {
   "cell_type": "code",
   "execution_count": 9,
   "id": "f2e04a7d-1f15-4a51-ba3a-e37367ca400c",
   "metadata": {},
   "outputs": [],
   "source": [
    "from sklearn.model_selection import LeaveOneGroupOut\n",
    "from lightgbm import LGBMClassifier\n",
    "from sklearn.neighbors import KNeighborsClassifier\n",
    "from xgboost import XGBClassifier\n",
    "from sklearn.ensemble import RandomForestClassifier\n",
    "from sklearn.model_selection import cross_validate\n",
    "from sklearn.preprocessing import OrdinalEncoder"
   ]
  },
  {
   "cell_type": "code",
   "execution_count": 30,
   "id": "e3bebae9-6f89-4e97-b457-0bcabe51edd3",
   "metadata": {},
   "outputs": [],
   "source": [
    "# Modelos PRO\n",
    "lgb_model = LGBMClassifier(learning_rate=0.1, num_leaves=512, min_child_samples=1, subsample=1.0, \n",
    "                           colsample_bytree=0.662, random_state=0, subsample_freq=1, n_estimators=100, n_jobs=-1)\n",
    "\n",
    "rf_model = RandomForestClassifier(n_estimators=200, max_features='sqrt', max_depth=None, \n",
    "                                  criterion='entropy', min_samples_split=10, min_samples_leaf=2 , bootstrap=True, random_state=0, n_jobs=-1)\n",
    "\n",
    "knn_model = KNeighborsClassifier(n_neighbors=37, weights='distance', leaf_size=20, p=1, n_jobs=-1)\n",
    "\n",
    "xgb_model = XGBClassifier(learning_rate=0.1, max_depth=16, min_child_weight=1, gamma=0.0, colsample_bytree=0.5370264280766771, use_label_encoder=False, random_state=0, n_jobs=-1)\n",
    "\n",
    "models = [xgb_model]"
   ]
  },
  {
   "cell_type": "code",
   "execution_count": 26,
   "id": "36792639-36df-4a66-99a3-9e054b49bb51",
   "metadata": {},
   "outputs": [],
   "source": [
    "def executarLogo(models, groups, X, y):\n",
    "    logo = LeaveOneGroupOut()\n",
    "    for model in models:\n",
    "        if(model == xgb_model):\n",
    "            y = enc.transform(y.array.reshape(-1, 1))\n",
    "        cv = logo.split(X, y, groups)\n",
    "        resultado = cross_validate(model, X, y, cv=cv, n_jobs=-1, return_estimator=True)\n",
    "        print(resultado['estimator'][0], '-> Acurácia: ' , resultado['test_score'].mean()*100, '% Tempo de treino: ',\n",
    "             resultado['fit_time'].sum())"
   ]
  },
  {
   "cell_type": "code",
   "execution_count": 13,
   "id": "6169414b-6355-4f35-b611-370562857856",
   "metadata": {},
   "outputs": [],
   "source": [
    "caminho_dados_lazaro = 'Datasets/Lazaro/dados_pre_processados_lazaro.csv'"
   ]
  },
  {
   "cell_type": "code",
   "execution_count": 14,
   "id": "479a20b4-f68d-4797-84ea-f822c47f8f56",
   "metadata": {},
   "outputs": [],
   "source": [
    "df = pd.read_csv(caminho_dados_lazaro)"
   ]
  },
  {
   "cell_type": "code",
   "execution_count": 15,
   "id": "3f3e479d-cfd7-49fa-bcc9-8b67bedf7c40",
   "metadata": {},
   "outputs": [],
   "source": [
    "# Remove as linhas com o sensor 434138\n",
    "df = df[df.SensorID != 434138]"
   ]
  },
  {
   "cell_type": "code",
   "execution_count": 16,
   "id": "30a781ab-9d25-4cf2-9c48-cfa1942d0ad8",
   "metadata": {
    "tags": []
   },
   "outputs": [
    {
     "data": {
      "text/plain": [
       "Index(['Piquete', 'Altura real', 'Altura esperada', 'Animal', 'SensorID',\n",
       "       'Sensor Name', 'Date', 'X', 'Y', 'Z', 'Comportamento', 'Season_fall',\n",
       "       'Season_spring', 'Season_summer', 'magn', 'sma', 'ent', 'pit', 'rol',\n",
       "       'icl'],\n",
       "      dtype='object')"
      ]
     },
     "execution_count": 16,
     "metadata": {},
     "output_type": "execute_result"
    }
   ],
   "source": [
    "df.columns"
   ]
  },
  {
   "cell_type": "markdown",
   "id": "04f5dd30-af7c-4e85-a114-9019b19b2a85",
   "metadata": {
    "tags": []
   },
   "source": [
    "#### Divisão entre variáveis preditoras(X) e variáveis de resposta(y)"
   ]
  },
  {
   "cell_type": "code",
   "execution_count": 19,
   "id": "8feebfdd-cfce-45cf-b6d6-9f84cd17d564",
   "metadata": {
    "tags": []
   },
   "outputs": [
    {
     "data": {
      "text/plain": [
       "OrdinalEncoder()"
      ]
     },
     "execution_count": 19,
     "metadata": {},
     "output_type": "execute_result"
    }
   ],
   "source": [
    "y = df.Comportamento\n",
    "X = df[['X', 'Y' ,'Z', 'Season_fall', 'Season_spring', 'Season_summer', 'magn', 'sma', 'ent', 'pit', 'rol', 'icl']]\n",
    "\n",
    "enc = OrdinalEncoder()\n",
    "enc.fit(y.array.reshape(-1, 1))"
   ]
  },
  {
   "cell_type": "code",
   "execution_count": 35,
   "id": "14fa159a-78ef-44de-92b0-6fdcce256b3a",
   "metadata": {},
   "outputs": [],
   "source": [
    "# Conjunto de dados PNP: Pastejando x Não Pastejando\n",
    "y = y.replace(to_replace=['Ocio', 'Ruminando'], value='Não Pastejando')"
   ]
  },
  {
   "cell_type": "code",
   "execution_count": 21,
   "id": "ad043ff1-292d-4b33-bded-5819e3d77fff",
   "metadata": {},
   "outputs": [],
   "source": [
    "# Para reescalar os dados\n",
    "from sklearn.preprocessing import StandardScaler\n",
    "\n",
    "X_season = X[['Season_fall', 'Season_spring', 'Season_summer']]\n",
    "\n",
    "X = X.drop(['Season_fall', 'Season_spring', 'Season_summer'], axis=1)\n",
    "\n",
    "columns = X.columns\n",
    "index= X.index\n",
    "\n",
    "sc = StandardScaler()\n",
    "X = sc.fit_transform(X)\n",
    "\n",
    "X = pd.DataFrame(X, columns=columns, index=index)\n",
    "\n",
    "X = pd.concat([X, X_season], axis=1)"
   ]
  },
  {
   "cell_type": "markdown",
   "id": "03d58048-c01e-4f97-9108-571b721176ce",
   "metadata": {
    "tags": []
   },
   "source": [
    "#### Leave Fall Out"
   ]
  },
  {
   "cell_type": "code",
   "execution_count": 22,
   "id": "5b7a0f30-8aa4-4941-aca7-ebf89235e425",
   "metadata": {},
   "outputs": [],
   "source": [
    "groups = np.array(X.Season_fall.values)"
   ]
  },
  {
   "cell_type": "code",
   "execution_count": 23,
   "id": "81864478-d456-4875-896c-3b42f3e2c5dc",
   "metadata": {},
   "outputs": [
    {
     "data": {
      "text/plain": [
       "2"
      ]
     },
     "execution_count": 23,
     "metadata": {},
     "output_type": "execute_result"
    }
   ],
   "source": [
    "lfo = LeaveOneGroupOut()\n",
    "lfo.get_n_splits(X, y, groups)"
   ]
  },
  {
   "cell_type": "code",
   "execution_count": 24,
   "id": "7eeb4d64-3f37-41e8-947a-88712b56a102",
   "metadata": {},
   "outputs": [],
   "source": [
    "cv = lfo.split(X, y, groups)"
   ]
  },
  {
   "cell_type": "code",
   "execution_count": 27,
   "id": "cf622ff6-e403-4c65-be8d-b9206ce24bda",
   "metadata": {},
   "outputs": [
    {
     "name": "stdout",
     "output_type": "stream",
     "text": [
      "LGBMClassifier(colsample_bytree=0.662, min_child_samples=1, num_leaves=512,\n",
      "               random_state=0, subsample_freq=1) -> Acurácia:  56.05743227758413 % Tempo de treino:  19.188790798187256\n",
      "RandomForestClassifier(criterion='entropy', max_features='sqrt',\n",
      "                       min_samples_leaf=2, min_samples_split=10,\n",
      "                       n_estimators=200, n_jobs=-1, random_state=0) -> Acurácia:  55.42669762180896 % Tempo de treino:  143.33033275604248\n",
      "KNeighborsClassifier(leaf_size=20, n_jobs=-1, n_neighbors=37, p=1,\n",
      "                     weights='distance') -> Acurácia:  55.052964369606826 % Tempo de treino:  2.4779584407806396\n",
      "[11:25:19] WARNING: ../src/learner.cc:1115: Starting in XGBoost 1.3.0, the default evaluation metric used with the objective 'multi:softprob' was changed from 'merror' to 'mlogloss'. Explicitly set eval_metric if you'd like to restore the old behavior.\n",
      "[11:25:20] WARNING: ../src/learner.cc:1115: Starting in XGBoost 1.3.0, the default evaluation metric used with the objective 'multi:softprob' was changed from 'merror' to 'mlogloss'. Explicitly set eval_metric if you'd like to restore the old behavior.\n",
      "XGBClassifier(base_score=0.5, booster='gbtree', colsample_bylevel=1,\n",
      "              colsample_bynode=1, colsample_bytree=0.5370264280766771,\n",
      "              enable_categorical=False, gamma=0.0, gpu_id=-1,\n",
      "              importance_type=None, interaction_constraints='',\n",
      "              learning_rate=0.1, max_delta_step=0, max_depth=16,\n",
      "              min_child_weight=1, missing=nan, monotone_constraints='()',\n",
      "              n_estimators=100, n_jobs=-1, num_parallel_tree=1,\n",
      "              objective='multi:softprob', predictor='auto', random_state=0,\n",
      "              reg_alpha=0, reg_lambda=1, scale_pos_weight=None, subsample=1,\n",
      "              tree_method='exact', use_label_encoder=False,\n",
      "              validate_parameters=1, verbosity=None) -> Acurácia:  55.717086620410306 % Tempo de treino:  370.57194089889526\n"
     ]
    }
   ],
   "source": [
    "executarLogo(models, groups, X, y)"
   ]
  },
  {
   "cell_type": "markdown",
   "id": "359db2e3-b327-4552-ba83-671314e06bb8",
   "metadata": {
    "tags": []
   },
   "source": [
    "#### Leave Summer Out"
   ]
  },
  {
   "cell_type": "code",
   "execution_count": 31,
   "id": "4e141eef-2d44-4c1d-9770-e599e8925878",
   "metadata": {},
   "outputs": [],
   "source": [
    "groups = np.array(X.Season_summer.values)"
   ]
  },
  {
   "cell_type": "code",
   "execution_count": 32,
   "id": "a862c998-8568-401d-a8ab-6c3423aabb1d",
   "metadata": {},
   "outputs": [
    {
     "name": "stdout",
     "output_type": "stream",
     "text": [
      "XGBClassifier(base_score=0.5, booster='gbtree', colsample_bylevel=1,\n",
      "              colsample_bynode=1, colsample_bytree=0.5370264280766771,\n",
      "              enable_categorical=False, gamma=0.0, gpu_id=-1,\n",
      "              importance_type=None, interaction_constraints='',\n",
      "              learning_rate=0.1, max_delta_step=0, max_depth=16,\n",
      "              min_child_weight=1, missing=nan, monotone_constraints='()',\n",
      "              n_estimators=100, n_jobs=-1, num_parallel_tree=1,\n",
      "              objective='multi:softprob', predictor='auto', random_state=0,\n",
      "              reg_alpha=0, reg_lambda=1, scale_pos_weight=None, subsample=1,\n",
      "              tree_method='exact', use_label_encoder=False,\n",
      "              validate_parameters=1, verbosity=None) -> Acurácia:  54.491073504413514 % Tempo de treino:  329.0474798679352\n"
     ]
    }
   ],
   "source": [
    "executarLogo(models, groups, X, y)"
   ]
  },
  {
   "cell_type": "markdown",
   "id": "bf190e4e-796e-4b21-9254-4c834385f8fc",
   "metadata": {
    "tags": []
   },
   "source": [
    "#### Leave Spring Out"
   ]
  },
  {
   "cell_type": "code",
   "execution_count": 33,
   "id": "a9e6aa65-005e-471d-b94f-c4274b761a1c",
   "metadata": {},
   "outputs": [],
   "source": [
    "groups = np.array(X.Season_spring.values)"
   ]
  },
  {
   "cell_type": "code",
   "execution_count": 34,
   "id": "8097e7a5-b2bd-4d01-8baa-99634a43f3e1",
   "metadata": {},
   "outputs": [
    {
     "name": "stdout",
     "output_type": "stream",
     "text": [
      "XGBClassifier(base_score=0.5, booster='gbtree', colsample_bylevel=1,\n",
      "              colsample_bynode=1, colsample_bytree=0.5370264280766771,\n",
      "              enable_categorical=False, gamma=0.0, gpu_id=-1,\n",
      "              importance_type=None, interaction_constraints='',\n",
      "              learning_rate=0.1, max_delta_step=0, max_depth=16,\n",
      "              min_child_weight=1, missing=nan, monotone_constraints='()',\n",
      "              n_estimators=100, n_jobs=-1, num_parallel_tree=1,\n",
      "              objective='multi:softprob', predictor='auto', random_state=0,\n",
      "              reg_alpha=0, reg_lambda=1, scale_pos_weight=None, subsample=1,\n",
      "              tree_method='exact', use_label_encoder=False,\n",
      "              validate_parameters=1, verbosity=None) -> Acurácia:  47.62834623107763 % Tempo de treino:  301.28445196151733\n",
      "[11:34:39] WARNING: ../src/learner.cc:1115: Starting in XGBoost 1.3.0, the default evaluation metric used with the objective 'multi:softprob' was changed from 'merror' to 'mlogloss'. Explicitly set eval_metric if you'd like to restore the old behavior.\n",
      "[11:34:40] WARNING: ../src/learner.cc:1115: Starting in XGBoost 1.3.0, the default evaluation metric used with the objective 'multi:softprob' was changed from 'merror' to 'mlogloss'. Explicitly set eval_metric if you'd like to restore the old behavior.\n",
      "[11:37:57] WARNING: ../src/learner.cc:1115: Starting in XGBoost 1.3.0, the default evaluation metric used with the objective 'multi:softprob' was changed from 'merror' to 'mlogloss'. Explicitly set eval_metric if you'd like to restore the old behavior.\n",
      "[11:37:55] WARNING: ../src/learner.cc:1115: Starting in XGBoost 1.3.0, the default evaluation metric used with the objective 'multi:softprob' was changed from 'merror' to 'mlogloss'. Explicitly set eval_metric if you'd like to restore the old behavior.\n"
     ]
    }
   ],
   "source": [
    "executarLogo(models, groups, X, y)"
   ]
  },
  {
   "cell_type": "code",
   "execution_count": null,
   "id": "0802fba1-f59b-477c-952e-c9b8e01754a6",
   "metadata": {},
   "outputs": [],
   "source": []
  }
 ],
 "metadata": {
  "kernelspec": {
   "display_name": "Python 3 (ipykernel)",
   "language": "python",
   "name": "python3"
  },
  "language_info": {
   "codemirror_mode": {
    "name": "ipython",
    "version": 3
   },
   "file_extension": ".py",
   "mimetype": "text/x-python",
   "name": "python",
   "nbconvert_exporter": "python",
   "pygments_lexer": "ipython3",
   "version": "3.9.7"
  }
 },
 "nbformat": 4,
 "nbformat_minor": 5
}
