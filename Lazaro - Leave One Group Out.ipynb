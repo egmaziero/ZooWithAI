{
 "cells": [
  {
   "cell_type": "code",
   "execution_count": 1,
   "id": "b6e6cd56-8674-4365-90c9-09cf3e94ef67",
   "metadata": {},
   "outputs": [],
   "source": [
    "import pandas as pd\n",
    "import numpy as np\n",
    "from sklearn.metrics import accuracy_score"
   ]
  },
  {
   "cell_type": "code",
   "execution_count": 19,
   "id": "ff176bbe-2c74-4d23-a056-220122d2e243",
   "metadata": {},
   "outputs": [],
   "source": [
    "# Função para imprimir e salvar matriz de confusão\n",
    "def imprimeMatrizDeConfusão(y_test, preds, model, salvarFigura = False):\n",
    "    from sklearn.metrics import confusion_matrix\n",
    "    from sklearn.metrics import ConfusionMatrixDisplay\n",
    "    import matplotlib.pyplot as plt\n",
    "\n",
    "    cm = confusion_matrix(y_test, preds, normalize='true')\n",
    "    disp = ConfusionMatrixDisplay(confusion_matrix=cm, display_labels=model.classes_)\n",
    "    disp.plot(values_format= '.2%', xticks_rotation=60, colorbar=False)\n",
    "    disp.ax_.set_title(\"Matriz de confusão normalizada sobre as condições verdadeiras\")\n",
    "    if(salvarFigura):\n",
    "        plt.savefig(input('Nome da figura a ser salva:' ) + '.png')\n",
    "    plt.show()"
   ]
  },
  {
   "cell_type": "markdown",
   "id": "3db0af9f-4fd4-45b2-be4e-97233646c6a4",
   "metadata": {
    "tags": []
   },
   "source": [
    "## Leave One Group Out"
   ]
  },
  {
   "cell_type": "code",
   "execution_count": 24,
   "id": "f2e04a7d-1f15-4a51-ba3a-e37367ca400c",
   "metadata": {},
   "outputs": [],
   "source": [
    "from sklearn.model_selection import LeaveOneGroupOut\n",
    "from lightgbm import LGBMClassifier\n",
    "from sklearn.neighbors import KNeighborsClassifier\n",
    "from xgboost import XGBClassifier\n",
    "from sklearn.ensemble import RandomForestClassifier\n",
    "from sklearn.model_selection import cross_validate\n",
    "from sklearn.preprocessing import OrdinalEncoder\n",
    "from sklearn.metrics import accuracy_score, confusion_matrix, classification_report"
   ]
  },
  {
   "cell_type": "code",
   "execution_count": 98,
   "id": "e3bebae9-6f89-4e97-b457-0bcabe51edd3",
   "metadata": {},
   "outputs": [],
   "source": [
    "# Modelos PRO\n",
    "lgb_model = LGBMClassifier(learning_rate=0.1, num_leaves=512, min_child_samples=1, subsample=1.0, \n",
    "                           colsample_bytree=0.662, random_state=0, subsample_freq=1, n_estimators=100, n_jobs=-1)\n",
    "\n",
    "rf_model = RandomForestClassifier(n_estimators=200, max_features='sqrt', max_depth=None, \n",
    "                                  criterion='entropy', min_samples_split=10, min_samples_leaf=2 , bootstrap=True, random_state=0, n_jobs=-1)\n",
    "\n",
    "knn_model = KNeighborsClassifier(n_neighbors=37, weights='distance', leaf_size=20, p=1, n_jobs=-1)\n",
    "\n",
    "xgb_model = XGBClassifier(learning_rate=0.1, max_depth=16, min_child_weight=1, gamma=0.0, colsample_bytree=0.5370264280766771, use_label_encoder=False, random_state=0, n_jobs=-1)\n",
    "\n",
    "models = [lgb_model, rf_model, knn_model, xgb_model]"
   ]
  },
  {
   "cell_type": "code",
   "execution_count": 76,
   "id": "6169414b-6355-4f35-b611-370562857856",
   "metadata": {},
   "outputs": [],
   "source": [
    "caminho_dados_lazaro = 'Datasets/Lazaro/dados_pre_processados_lazaro.csv'"
   ]
  },
  {
   "cell_type": "code",
   "execution_count": 77,
   "id": "479a20b4-f68d-4797-84ea-f822c47f8f56",
   "metadata": {},
   "outputs": [],
   "source": [
    "df = pd.read_csv(caminho_dados_lazaro)"
   ]
  },
  {
   "cell_type": "code",
   "execution_count": 78,
   "id": "3f3e479d-cfd7-49fa-bcc9-8b67bedf7c40",
   "metadata": {},
   "outputs": [],
   "source": [
    "# Remove as linhas com o sensor 434138\n",
    "df = df[df.SensorID != 434138]"
   ]
  },
  {
   "cell_type": "code",
   "execution_count": 79,
   "id": "30a781ab-9d25-4cf2-9c48-cfa1942d0ad8",
   "metadata": {
    "tags": []
   },
   "outputs": [
    {
     "data": {
      "text/plain": [
       "Index(['Piquete', 'Altura real', 'Altura esperada', 'Animal', 'SensorID',\n",
       "       'Sensor Name', 'Date', 'X', 'Y', 'Z', 'Comportamento', 'Season_fall',\n",
       "       'Season_spring', 'Season_summer', 'magn', 'sma', 'ent', 'pit', 'rol',\n",
       "       'icl'],\n",
       "      dtype='object')"
      ]
     },
     "execution_count": 79,
     "metadata": {},
     "output_type": "execute_result"
    }
   ],
   "source": [
    "df.columns"
   ]
  },
  {
   "cell_type": "markdown",
   "id": "04f5dd30-af7c-4e85-a114-9019b19b2a85",
   "metadata": {
    "tags": []
   },
   "source": [
    "#### Divisão entre variáveis preditoras(X) e variáveis de resposta(y)"
   ]
  },
  {
   "cell_type": "code",
   "execution_count": 80,
   "id": "8feebfdd-cfce-45cf-b6d6-9f84cd17d564",
   "metadata": {
    "tags": []
   },
   "outputs": [
    {
     "data": {
      "text/plain": [
       "OrdinalEncoder()"
      ]
     },
     "execution_count": 80,
     "metadata": {},
     "output_type": "execute_result"
    }
   ],
   "source": [
    "y = df.Comportamento\n",
    "X = df[['X', 'Y' ,'Z', 'Season_fall', 'Season_spring', 'Season_summer', 'magn', 'sma', 'ent', 'pit', 'rol', 'icl']]\n",
    "\n",
    "enc = OrdinalEncoder()\n",
    "enc.fit(y.array.reshape(-1, 1))"
   ]
  },
  {
   "cell_type": "code",
   "execution_count": 10,
   "id": "14fa159a-78ef-44de-92b0-6fdcce256b3a",
   "metadata": {},
   "outputs": [],
   "source": [
    "# Conjunto de dados PNP: Pastejando x Não Pastejando\n",
    "y = y.replace(to_replace=['Ocio', 'Ruminando'], value='Não Pastejando')"
   ]
  },
  {
   "cell_type": "code",
   "execution_count": 81,
   "id": "ad043ff1-292d-4b33-bded-5819e3d77fff",
   "metadata": {},
   "outputs": [],
   "source": [
    "# Para reescalar os dados\n",
    "from sklearn.preprocessing import StandardScaler\n",
    "\n",
    "X_season = X[['Season_fall', 'Season_spring', 'Season_summer']]\n",
    "\n",
    "X = X.drop(['Season_fall', 'Season_spring', 'Season_summer'], axis=1)\n",
    "\n",
    "columns = X.columns\n",
    "index= X.index\n",
    "\n",
    "sc = StandardScaler()\n",
    "X = sc.fit_transform(X)\n",
    "\n",
    "X = pd.DataFrame(X, columns=columns, index=index)\n",
    "\n",
    "X = pd.concat([X, X_season], axis=1)"
   ]
  },
  {
   "cell_type": "markdown",
   "id": "03d58048-c01e-4f97-9108-571b721176ce",
   "metadata": {
    "tags": []
   },
   "source": [
    "#### Leave Fall Out"
   ]
  },
  {
   "cell_type": "code",
   "execution_count": 82,
   "id": "3ed08250-2087-4ddf-bdaa-3f3b2b964185",
   "metadata": {},
   "outputs": [],
   "source": [
    "df_test = df[df.Season_fall == 1]"
   ]
  },
  {
   "cell_type": "code",
   "execution_count": 83,
   "id": "886b47ee-5d41-4ac5-8b3d-f26eb6788be0",
   "metadata": {},
   "outputs": [],
   "source": [
    "df_train = df[df.Season_fall == 0]"
   ]
  },
  {
   "cell_type": "code",
   "execution_count": 84,
   "id": "5b7a0f30-8aa4-4941-aca7-ebf89235e425",
   "metadata": {},
   "outputs": [],
   "source": [
    "X_train = df_train[['X', 'Y' ,'Z', 'Season_fall', 'Season_spring', 'Season_summer', 'magn', 'sma', 'ent', 'pit', 'rol', 'icl']]\n",
    "y_train = df_train.Comportamento\n",
    "X_test = df_test[['X', 'Y' ,'Z', 'Season_fall', 'Season_spring', 'Season_summer', 'magn', 'sma', 'ent', 'pit', 'rol', 'icl']]\n",
    "y_test = df_test.Comportamento"
   ]
  },
  {
   "cell_type": "code",
   "execution_count": 85,
   "id": "d16e4ca4-9091-439d-88f9-9a30101fe705",
   "metadata": {},
   "outputs": [
    {
     "name": "stdout",
     "output_type": "stream",
     "text": [
      "XGBClassifier(base_score=None, booster=None, colsample_bylevel=None,\n",
      "              colsample_bynode=None, colsample_bytree=0.5370264280766771,\n",
      "              enable_categorical=False, gamma=0.0, gpu_id=None,\n",
      "              importance_type=None, interaction_constraints=None,\n",
      "              learning_rate=0.1, max_delta_step=None, max_depth=16,\n",
      "              min_child_weight=1, missing=nan, monotone_constraints=None,\n",
      "              n_estimators=100, n_jobs=-1, num_parallel_tree=None,\n",
      "              predictor=None, random_state=0, reg_alpha=None, reg_lambda=None,\n",
      "              scale_pos_weight=None, subsample=None, tree_method=None,\n",
      "              use_label_encoder=False, validate_parameters=None,\n",
      "              verbosity=None)\n",
      "[09:46:00] WARNING: ../src/learner.cc:1115: Starting in XGBoost 1.3.0, the default evaluation metric used with the objective 'multi:softprob' was changed from 'merror' to 'mlogloss'. Explicitly set eval_metric if you'd like to restore the old behavior.\n",
      "Acurácia teste:  59.894951758177974\n",
      "              precision    recall  f1-score   support\n",
      "\n",
      "         0.0      0.318     0.110     0.163     41581\n",
      "         1.0      0.647     0.908     0.756    146629\n",
      "         2.0      0.374     0.169     0.232     58153\n",
      "\n",
      "    accuracy                          0.599    246363\n",
      "   macro avg      0.446     0.396     0.384    246363\n",
      "weighted avg      0.527     0.599     0.532    246363\n",
      "\n"
     ]
    },
    {
     "data": {
      "image/png": "[encoded data removed]",
      "text/plain": [
       "<Figure size 432x288 with 1 Axes>"
      ]
     },
     "metadata": {
      "needs_background": "light"
     },
     "output_type": "display_data"
    },
    {
     "name": "stdout",
     "output_type": "stream",
     "text": [
      "Acurácia treino:  90.67427595783661\n",
      "              precision    recall  f1-score   support\n",
      "\n",
      "         0.0      0.948     0.790     0.862     81676\n",
      "         1.0      0.897     0.970     0.932    185883\n",
      "         2.0      0.898     0.882     0.890     93228\n",
      "\n",
      "    accuracy                          0.907    360787\n",
      "   macro avg      0.914     0.881     0.895    360787\n",
      "weighted avg      0.909     0.907     0.905    360787\n",
      "\n"
     ]
    }
   ],
   "source": [
    "for model in models:\n",
    "    print(model)\n",
    "    if(model == xgb_model):\n",
    "        y_train = enc.transform(y_train.array.reshape(-1, 1))\n",
    "        y_test = enc.transform(y_test.array.reshape(-1, 1))\n",
    "    model.fit(X_train, y_train)\n",
    "    preds = model.predict(X_test)\n",
    "    print('Acurácia teste: ', accuracy_score(y_test, preds)*100)\n",
    "    print(classification_report(y_test, preds, digits=3))\n",
    "    imprimeMatrizDeConfusão(y_test, preds, model)\n",
    "    preds = model.predict(X_train)\n",
    "    print('Acurácia treino: ', accuracy_score(y_train, preds)*100)\n",
    "    print(classification_report(y_train, preds, digits=3))    "
   ]
  },
  {
   "cell_type": "markdown",
   "id": "ae039637-cfb5-4193-a879-1ff53e78869f",
   "metadata": {
    "tags": []
   },
   "source": [
    "#### Leave Height Out 10 cm"
   ]
  },
  {
   "cell_type": "code",
   "execution_count": 93,
   "id": "be79c6bb-4446-4b0e-805e-46c2440ebb29",
   "metadata": {},
   "outputs": [],
   "source": [
    "df_test = df[df['Altura esperada'] == 10.0]"
   ]
  },
  {
   "cell_type": "code",
   "execution_count": 95,
   "id": "9f34eb87-ca16-40bb-b203-96999ecdf3ff",
   "metadata": {},
   "outputs": [],
   "source": [
    "df_train = df[df['Altura esperada'] != 10.0]"
   ]
  },
  {
   "cell_type": "code",
   "execution_count": 96,
   "id": "4e8864b7-a6ec-47f5-8025-152e8bd38e74",
   "metadata": {},
   "outputs": [],
   "source": [
    "X_train = df_train[['X', 'Y' ,'Z', 'Season_fall', 'Season_spring', 'Season_summer', 'magn', 'sma', 'ent', 'pit', 'rol', 'icl']]\n",
    "y_train = df_train.Comportamento\n",
    "X_test = df_test[['X', 'Y' ,'Z', 'Season_fall', 'Season_spring', 'Season_summer', 'magn', 'sma', 'ent', 'pit', 'rol', 'icl']]\n",
    "y_test = df_test.Comportamento"
   ]
  },
  {
   "cell_type": "code",
   "execution_count": 99,
   "id": "0a3c86c8-4757-4bca-9758-45eac0609893",
   "metadata": {},
   "outputs": [
    {
     "name": "stdout",
     "output_type": "stream",
     "text": [
      "LGBMClassifier(colsample_bytree=0.662, min_child_samples=1, num_leaves=512,\n",
      "               random_state=0, subsample_freq=1)\n",
      "Acurácia teste:  54.08243846138271\n",
      "              precision    recall  f1-score   support\n",
      "\n",
      "        Ocio      0.354     0.071     0.118     40651\n",
      "  Pastejando      0.599     0.870     0.709     83076\n",
      "   Ruminando      0.259     0.204     0.228     24432\n",
      "\n",
      "    accuracy                          0.541    148159\n",
      "   macro avg      0.404     0.382     0.352    148159\n",
      "weighted avg      0.475     0.541     0.468    148159\n",
      "\n"
     ]
    },
    {
     "data": {
      "image/png": "[encoded data removed]",
      "text/plain": [
       "<Figure size 432x288 with 1 Axes>"
      ]
     },
     "metadata": {
      "needs_background": "light"
     },
     "output_type": "display_data"
    },
    {
     "name": "stdout",
     "output_type": "stream",
     "text": [
      "Acurácia treino:  78.71352597327616\n",
      "              precision    recall  f1-score   support\n",
      "\n",
      "        Ocio      0.742     0.433     0.547     82606\n",
      "  Pastejando      0.809     0.917     0.860    249436\n",
      "   Ruminando      0.755     0.762     0.758    126949\n",
      "\n",
      "    accuracy                          0.787    458991\n",
      "   macro avg      0.769     0.704     0.722    458991\n",
      "weighted avg      0.782     0.787     0.776    458991\n",
      "\n",
      "RandomForestClassifier(criterion='entropy', max_features='sqrt',\n",
      "                       min_samples_leaf=2, min_samples_split=10,\n",
      "                       n_estimators=200, n_jobs=-1, random_state=0)\n",
      "Acurácia teste:  53.888727650699586\n",
      "              precision    recall  f1-score   support\n",
      "\n",
      "        Ocio      0.360     0.082     0.133     40651\n",
      "  Pastejando      0.597     0.866     0.707     83076\n",
      "   Ruminando      0.248     0.186     0.213     24432\n",
      "\n",
      "    accuracy                          0.539    148159\n",
      "   macro avg      0.402     0.378     0.351    148159\n",
      "weighted avg      0.474     0.539     0.468    148159\n",
      "\n"
     ]
    },
    {
     "data": {
      "image/png": "[encoded data removed]",
      "text/plain": [
       "<Figure size 432x288 with 1 Axes>"
      ]
     },
     "metadata": {
      "needs_background": "light"
     },
     "output_type": "display_data"
    },
    {
     "name": "stdout",
     "output_type": "stream",
     "text": [
      "Acurácia treino:  89.39042377737255\n",
      "              precision    recall  f1-score   support\n",
      "\n",
      "        Ocio      0.927     0.703     0.799     82606\n",
      "  Pastejando      0.887     0.965     0.925    249436\n",
      "   Ruminando      0.892     0.878     0.885    126949\n",
      "\n",
      "    accuracy                          0.894    458991\n",
      "   macro avg      0.902     0.849     0.870    458991\n",
      "weighted avg      0.896     0.894     0.891    458991\n",
      "\n",
      "KNeighborsClassifier(leaf_size=20, n_jobs=-1, n_neighbors=37, p=1,\n",
      "                     weights='distance')\n",
      "Acurácia teste:  48.80634993486727\n",
      "              precision    recall  f1-score   support\n",
      "\n",
      "        Ocio      0.346     0.125     0.183     40651\n",
      "  Pastejando      0.586     0.750     0.658     83076\n",
      "   Ruminando      0.181     0.201     0.191     24432\n",
      "\n",
      "    accuracy                          0.488    148159\n",
      "   macro avg      0.371     0.359     0.344    148159\n",
      "weighted avg      0.453     0.488     0.451    148159\n",
      "\n"
     ]
    },
    {
     "data": {
      "image/png": "[encoded data removed]",
      "text/plain": [
       "<Figure size 432x288 with 1 Axes>"
      ]
     },
     "metadata": {
      "needs_background": "light"
     },
     "output_type": "display_data"
    },
    {
     "name": "stdout",
     "output_type": "stream",
     "text": [
      "Acurácia treino:  99.98714571745415\n",
      "              precision    recall  f1-score   support\n",
      "\n",
      "        Ocio      0.999     1.000     1.000     82606\n",
      "  Pastejando      1.000     1.000     1.000    249436\n",
      "   Ruminando      1.000     1.000     1.000    126949\n",
      "\n",
      "    accuracy                          1.000    458991\n",
      "   macro avg      1.000     1.000     1.000    458991\n",
      "weighted avg      1.000     1.000     1.000    458991\n",
      "\n",
      "XGBClassifier(base_score=None, booster=None, colsample_bylevel=None,\n",
      "              colsample_bynode=None, colsample_bytree=0.5370264280766771,\n",
      "              enable_categorical=False, gamma=0.0, gpu_id=None,\n",
      "              importance_type=None, interaction_constraints=None,\n",
      "              learning_rate=0.1, max_delta_step=None, max_depth=16,\n",
      "              min_child_weight=1, missing=nan, monotone_constraints=None,\n",
      "              n_estimators=100, n_jobs=-1, num_parallel_tree=None,\n",
      "              predictor=None, random_state=0, reg_alpha=None, reg_lambda=None,\n",
      "              scale_pos_weight=None, subsample=None, tree_method=None,\n",
      "              use_label_encoder=False, validate_parameters=None,\n",
      "              verbosity=None)\n",
      "[09:59:04] WARNING: ../src/learner.cc:1115: Starting in XGBoost 1.3.0, the default evaluation metric used with the objective 'multi:softprob' was changed from 'merror' to 'mlogloss'. Explicitly set eval_metric if you'd like to restore the old behavior.\n",
      "Acurácia teste:  54.07838875802348\n",
      "              precision    recall  f1-score   support\n",
      "\n",
      "         0.0      0.375     0.081     0.133     40651\n",
      "         1.0      0.597     0.868     0.707     83076\n",
      "         2.0      0.254     0.192     0.219     24432\n",
      "\n",
      "    accuracy                          0.541    148159\n",
      "   macro avg      0.408     0.380     0.353    148159\n",
      "weighted avg      0.479     0.541     0.469    148159\n",
      "\n"
     ]
    },
    {
     "data": {
      "image/png": "[encoded data removed]",
      "text/plain": [
       "<Figure size 432x288 with 1 Axes>"
      ]
     },
     "metadata": {
      "needs_background": "light"
     },
     "output_type": "display_data"
    },
    {
     "name": "stdout",
     "output_type": "stream",
     "text": [
      "Acurácia treino:  91.15058900937055\n",
      "              precision    recall  f1-score   support\n",
      "\n",
      "         0.0      0.937     0.735     0.824     82606\n",
      "         1.0      0.915     0.967     0.940    249436\n",
      "         2.0      0.893     0.917     0.905    126949\n",
      "\n",
      "    accuracy                          0.912    458991\n",
      "   macro avg      0.915     0.873     0.889    458991\n",
      "weighted avg      0.913     0.912     0.909    458991\n",
      "\n"
     ]
    }
   ],
   "source": [
    "for model in models:\n",
    "    print(model)\n",
    "    if(model == xgb_model):\n",
    "        y_train = enc.transform(y_train.array.reshape(-1, 1))\n",
    "        y_test = enc.transform(y_test.array.reshape(-1, 1))\n",
    "    model.fit(X_train, y_train)\n",
    "    preds = model.predict(X_test)\n",
    "    print('Acurácia teste: ', accuracy_score(y_test, preds)*100)\n",
    "    print(classification_report(y_test, preds, digits=3))\n",
    "    imprimeMatrizDeConfusão(y_test, preds, model)\n",
    "    preds = model.predict(X_train)\n",
    "    print('Acurácia treino: ', accuracy_score(y_train, preds)*100)\n",
    "    print(classification_report(y_train, preds, digits=3))    "
   ]
  },
  {
   "cell_type": "markdown",
   "id": "af9e8625-ab56-41f5-bb9a-fb855b40fbbb",
   "metadata": {
    "tags": []
   },
   "source": [
    "#### Leave One Animal Out"
   ]
  },
  {
   "cell_type": "code",
   "execution_count": 123,
   "id": "ca338e91-4f41-491f-98e0-f8122f22d62a",
   "metadata": {},
   "outputs": [],
   "source": [
    "from sklearn.model_selection import cross_val_score"
   ]
  },
  {
   "cell_type": "code",
   "execution_count": 179,
   "id": "e31cf033-bded-48e7-bf21-4c8c6cab577e",
   "metadata": {},
   "outputs": [],
   "source": [
    "def executarLogo(models, groups, X, y):\n",
    "    for score in ['accuracy', 'precision_weighted', 'recall_weighted', 'f1_weighted']:\n",
    "        logo = LeaveOneGroupOut()\n",
    "        for model in models:\n",
    "            print(model)\n",
    "            if(model == xgb_model):\n",
    "                y = enc.transform(y.array.reshape(-1, 1))\n",
    "            cv = logo.split(X, y, groups)\n",
    "            cvs = cross_val_score(model, X, y, scoring=score, cv=cv, n_jobs=-1).mean()\n",
    "            print(score + \" : \"+ str(cvs)) \n",
    "        print('\\n')"
   ]
  },
  {
   "cell_type": "code",
   "execution_count": 180,
   "id": "e423d95f-9c9f-4497-9964-470c78868e50",
   "metadata": {},
   "outputs": [],
   "source": [
    "groups = np.array(df.Animal.values)\n",
    "models = [lgb_model, knn_model, xgb_model]"
   ]
  },
  {
   "cell_type": "code",
   "execution_count": null,
   "id": "0483aa83-a9f6-4e37-96bb-ccc7a0c5f759",
   "metadata": {},
   "outputs": [
    {
     "name": "stdout",
     "output_type": "stream",
     "text": [
      "LGBMClassifier(colsample_bytree=0.662, min_child_samples=1, num_leaves=512,\n",
      "               random_state=0, subsample_freq=1)\n",
      "accuracy : 0.5248896328774799\n",
      "KNeighborsClassifier(leaf_size=20, n_jobs=-1, n_neighbors=37, p=1,\n",
      "                     weights='distance')\n",
      "accuracy : 0.5129596076570876\n",
      "XGBClassifier(base_score=0.5, booster='gbtree', colsample_bylevel=1,\n",
      "              colsample_bynode=1, colsample_bytree=0.5370264280766771,\n",
      "              enable_categorical=False, gamma=0.0, gpu_id=-1,\n",
      "              importance_type=None, interaction_constraints='',\n",
      "              learning_rate=0.1, max_delta_step=0, max_depth=16,\n",
      "              min_child_weight=1, missing=nan, monotone_constraints='()',\n",
      "              n_estimators=100, n_jobs=-1, num_parallel_tree=1,\n",
      "              objective='multi:softprob', predictor='auto', random_state=0,\n",
      "              reg_alpha=0, reg_lambda=1, scale_pos_weight=None, subsample=1,\n",
      "              tree_method='exact', use_label_encoder=False,\n",
      "              validate_parameters=1, verbosity=None)\n"
     ]
    }
   ],
   "source": [
    "executarLogo(models, groups, X, y)"
   ]
  },
  {
   "cell_type": "code",
   "execution_count": null,
   "id": "589c5301-fe25-48a4-bdf2-f07a5f8afcb1",
   "metadata": {},
   "outputs": [],
   "source": []
  }
 ],
 "metadata": {
  "kernelspec": {
   "display_name": "Python 3 (ipykernel)",
   "language": "python",
   "name": "python3"
  },
  "language_info": {
   "codemirror_mode": {
    "name": "ipython",
    "version": 3
   },
   "file_extension": ".py",
   "mimetype": "text/x-python",
   "name": "python",
   "nbconvert_exporter": "python",
   "pygments_lexer": "ipython3",
   "version": "3.9.7"
  }
 },
 "nbformat": 4,
 "nbformat_minor": 5
}
