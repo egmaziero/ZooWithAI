{
 "cells": [
  {
   "cell_type": "code",
   "execution_count": 236,
   "id": "879f66bd",
   "metadata": {},
   "outputs": [],
   "source": [
    "import pandas as pd\n",
    "import numpy as np"
   ]
  },
  {
   "cell_type": "markdown",
   "id": "e245a454",
   "metadata": {
    "tags": []
   },
   "source": [
    "## Passo 1: Leitura dos dados\n",
    "Leitura dos bancos de dados em DataFrame Pandas. "
   ]
  },
  {
   "cell_type": "code",
   "execution_count": 237,
   "id": "25e7b7d2",
   "metadata": {},
   "outputs": [],
   "source": [
    "caminho_dados_lazaro = 'Datasets/Lazaro/dados_lazaro.csv'"
   ]
  },
  {
   "cell_type": "code",
   "execution_count": 238,
   "id": "d4a1a45b",
   "metadata": {},
   "outputs": [],
   "source": [
    "df = pd.read_csv(caminho_dados_lazaro)"
   ]
  },
  {
   "cell_type": "code",
   "execution_count": 239,
   "id": "747a25ff",
   "metadata": {},
   "outputs": [
    {
     "data": {
      "text/html": [
       "<div>\n",
       "<style scoped>\n",
       "    .dataframe tbody tr th:only-of-type {\n",
       "        vertical-align: middle;\n",
       "    }\n",
       "\n",
       "    .dataframe tbody tr th {\n",
       "        vertical-align: top;\n",
       "    }\n",
       "\n",
       "    .dataframe thead th {\n",
       "        text-align: right;\n",
       "    }\n",
       "</style>\n",
       "<table border=\"1\" class=\"dataframe\">\n",
       "  <thead>\n",
       "    <tr style=\"text-align: right;\">\n",
       "      <th></th>\n",
       "      <th>Piquete</th>\n",
       "      <th>Altura real</th>\n",
       "      <th>Altura esperada</th>\n",
       "      <th>Animal</th>\n",
       "      <th>SensorID</th>\n",
       "      <th>Sensor Name</th>\n",
       "      <th>Date</th>\n",
       "      <th>X</th>\n",
       "      <th>Y</th>\n",
       "      <th>Z</th>\n",
       "      <th>Comportamento</th>\n",
       "      <th>Season</th>\n",
       "    </tr>\n",
       "  </thead>\n",
       "  <tbody>\n",
       "    <tr>\n",
       "      <th>0</th>\n",
       "      <td>11</td>\n",
       "      <td>25.2</td>\n",
       "      <td>25.0</td>\n",
       "      <td>85</td>\n",
       "      <td>434138</td>\n",
       "      <td>Accelerometer - 434138</td>\n",
       "      <td>2019-11-09 08:25:30</td>\n",
       "      <td>-0.012</td>\n",
       "      <td>-0.456</td>\n",
       "      <td>0.900</td>\n",
       "      <td>Indefinido</td>\n",
       "      <td>Indefinido</td>\n",
       "    </tr>\n",
       "    <tr>\n",
       "      <th>1</th>\n",
       "      <td>11</td>\n",
       "      <td>25.2</td>\n",
       "      <td>25.0</td>\n",
       "      <td>85</td>\n",
       "      <td>434138</td>\n",
       "      <td>Accelerometer - 434138</td>\n",
       "      <td>2019-11-09 08:25:32</td>\n",
       "      <td>-0.008</td>\n",
       "      <td>-0.456</td>\n",
       "      <td>0.892</td>\n",
       "      <td>Indefinido</td>\n",
       "      <td>Indefinido</td>\n",
       "    </tr>\n",
       "    <tr>\n",
       "      <th>2</th>\n",
       "      <td>11</td>\n",
       "      <td>25.2</td>\n",
       "      <td>25.0</td>\n",
       "      <td>85</td>\n",
       "      <td>434138</td>\n",
       "      <td>Accelerometer - 434138</td>\n",
       "      <td>2019-11-09 08:25:33</td>\n",
       "      <td>-0.010</td>\n",
       "      <td>-0.460</td>\n",
       "      <td>0.897</td>\n",
       "      <td>Indefinido</td>\n",
       "      <td>Indefinido</td>\n",
       "    </tr>\n",
       "    <tr>\n",
       "      <th>3</th>\n",
       "      <td>11</td>\n",
       "      <td>25.2</td>\n",
       "      <td>25.0</td>\n",
       "      <td>85</td>\n",
       "      <td>434138</td>\n",
       "      <td>Accelerometer - 434138</td>\n",
       "      <td>2019-11-09 08:25:33</td>\n",
       "      <td>0.021</td>\n",
       "      <td>-0.386</td>\n",
       "      <td>0.963</td>\n",
       "      <td>Indefinido</td>\n",
       "      <td>Indefinido</td>\n",
       "    </tr>\n",
       "    <tr>\n",
       "      <th>4</th>\n",
       "      <td>11</td>\n",
       "      <td>25.2</td>\n",
       "      <td>25.0</td>\n",
       "      <td>85</td>\n",
       "      <td>434138</td>\n",
       "      <td>Accelerometer - 434138</td>\n",
       "      <td>2019-11-09 08:25:34</td>\n",
       "      <td>0.012</td>\n",
       "      <td>-0.423</td>\n",
       "      <td>0.910</td>\n",
       "      <td>Indefinido</td>\n",
       "      <td>Indefinido</td>\n",
       "    </tr>\n",
       "  </tbody>\n",
       "</table>\n",
       "</div>"
      ],
      "text/plain": [
       "   Piquete  Altura real  Altura esperada  Animal  SensorID  \\\n",
       "0       11         25.2             25.0      85    434138   \n",
       "1       11         25.2             25.0      85    434138   \n",
       "2       11         25.2             25.0      85    434138   \n",
       "3       11         25.2             25.0      85    434138   \n",
       "4       11         25.2             25.0      85    434138   \n",
       "\n",
       "              Sensor Name                 Date      X      Y      Z  \\\n",
       "0  Accelerometer - 434138  2019-11-09 08:25:30 -0.012 -0.456  0.900   \n",
       "1  Accelerometer - 434138  2019-11-09 08:25:32 -0.008 -0.456  0.892   \n",
       "2  Accelerometer - 434138  2019-11-09 08:25:33 -0.010 -0.460  0.897   \n",
       "3  Accelerometer - 434138  2019-11-09 08:25:33  0.021 -0.386  0.963   \n",
       "4  Accelerometer - 434138  2019-11-09 08:25:34  0.012 -0.423  0.910   \n",
       "\n",
       "  Comportamento      Season  \n",
       "0    Indefinido  Indefinido  \n",
       "1    Indefinido  Indefinido  \n",
       "2    Indefinido  Indefinido  \n",
       "3    Indefinido  Indefinido  \n",
       "4    Indefinido  Indefinido  "
      ]
     },
     "execution_count": 239,
     "metadata": {},
     "output_type": "execute_result"
    }
   ],
   "source": [
    "df.head()"
   ]
  },
  {
   "cell_type": "markdown",
   "id": "e837f134",
   "metadata": {
    "tags": []
   },
   "source": [
    "## Passo 2: Pré-processamento\n"
   ]
  },
  {
   "cell_type": "code",
   "execution_count": 240,
   "id": "0dcd8205-35bf-4765-88a5-d3a18a24f839",
   "metadata": {},
   "outputs": [],
   "source": [
    "from sklearn.ensemble import RandomForestClassifier\n",
    "from sklearn.metrics import accuracy_score\n",
    "\n",
    "# Função para calcular acuracia de cada etapa do Pré-processamento\n",
    "def calc_acuracia(X_train, X_test, y_train, y_test):\n",
    "    model = RandomForestClassifier(n_estimators=100, n_jobs=-1, random_state=0)\n",
    "    model.fit(X_train, y_train)\n",
    "    preds = model.predict(X_test)\n",
    "    print(\"Acurácia da etapa nos dados de teste:\", end=\" \")\n",
    "    print(accuracy_score(y_test, preds)*100)\n",
    "    preds = model.predict(X_train)\n",
    "    print(\"Acurácia da etapa nos dados de treino:\", end=\" \")\n",
    "    print(accuracy_score(y_train, preds)*100)"
   ]
  },
  {
   "cell_type": "markdown",
   "id": "1864ed3e",
   "metadata": {
    "tags": []
   },
   "source": [
    "### 2.1 Lidando com dados faltantes"
   ]
  },
  {
   "cell_type": "code",
   "execution_count": 241,
   "id": "e91f9140-13f6-4d93-8aa1-a3272ea19bca",
   "metadata": {},
   "outputs": [
    {
     "data": {
      "text/html": [
       "<div>\n",
       "<style scoped>\n",
       "    .dataframe tbody tr th:only-of-type {\n",
       "        vertical-align: middle;\n",
       "    }\n",
       "\n",
       "    .dataframe tbody tr th {\n",
       "        vertical-align: top;\n",
       "    }\n",
       "\n",
       "    .dataframe thead th {\n",
       "        text-align: right;\n",
       "    }\n",
       "</style>\n",
       "<table border=\"1\" class=\"dataframe\">\n",
       "  <thead>\n",
       "    <tr style=\"text-align: right;\">\n",
       "      <th></th>\n",
       "      <th>Piquete</th>\n",
       "      <th>Altura real</th>\n",
       "      <th>Altura esperada</th>\n",
       "      <th>Animal</th>\n",
       "      <th>SensorID</th>\n",
       "      <th>Sensor Name</th>\n",
       "      <th>Date</th>\n",
       "      <th>X</th>\n",
       "      <th>Y</th>\n",
       "      <th>Z</th>\n",
       "      <th>Comportamento</th>\n",
       "      <th>Season</th>\n",
       "    </tr>\n",
       "  </thead>\n",
       "  <tbody>\n",
       "    <tr>\n",
       "      <th>296</th>\n",
       "      <td>11</td>\n",
       "      <td>25.2</td>\n",
       "      <td>25.0</td>\n",
       "      <td>90</td>\n",
       "      <td>434137</td>\n",
       "      <td>Accelerometer - 434137</td>\n",
       "      <td>2019-11-09 08:36:31</td>\n",
       "      <td>175786.0</td>\n",
       "      <td>NaN</td>\n",
       "      <td>NaN</td>\n",
       "      <td>Indefinido</td>\n",
       "      <td>Indefinido</td>\n",
       "    </tr>\n",
       "  </tbody>\n",
       "</table>\n",
       "</div>"
      ],
      "text/plain": [
       "     Piquete  Altura real  Altura esperada  Animal  SensorID  \\\n",
       "296       11         25.2             25.0      90    434137   \n",
       "\n",
       "                Sensor Name                 Date         X   Y   Z  \\\n",
       "296  Accelerometer - 434137  2019-11-09 08:36:31  175786.0 NaN NaN   \n",
       "\n",
       "    Comportamento      Season  \n",
       "296    Indefinido  Indefinido  "
      ]
     },
     "execution_count": 241,
     "metadata": {},
     "output_type": "execute_result"
    }
   ],
   "source": [
    "df[df.isnull().any(axis=1)]"
   ]
  },
  {
   "cell_type": "code",
   "execution_count": 242,
   "id": "2b670e4a",
   "metadata": {},
   "outputs": [
    {
     "data": {
      "text/plain": [
       "Piquete            0\n",
       "Altura real        0\n",
       "Altura esperada    0\n",
       "Animal             0\n",
       "SensorID           0\n",
       "Sensor Name        0\n",
       "Date               0\n",
       "X                  0\n",
       "Y                  1\n",
       "Z                  1\n",
       "Comportamento      0\n",
       "Season             0\n",
       "dtype: int64"
      ]
     },
     "execution_count": 242,
     "metadata": {},
     "output_type": "execute_result"
    }
   ],
   "source": [
    "df.isnull().sum()"
   ]
  },
  {
   "cell_type": "code",
   "execution_count": 243,
   "id": "6d9aee41-19c9-485c-b4b8-e074a56a1e95",
   "metadata": {},
   "outputs": [
    {
     "data": {
      "text/plain": [
       "Pastejando     342516\n",
       "Ruminando      158228\n",
       "Ocio           126141\n",
       "Indefinido      23496\n",
       "Outros          19472\n",
       "Locomovendo     12567\n",
       "Agua             3779\n",
       "Outro            2303\n",
       "Ócio             2064\n",
       "Name: Comportamento, dtype: int64"
      ]
     },
     "execution_count": 243,
     "metadata": {},
     "output_type": "execute_result"
    }
   ],
   "source": [
    "# No entanto, durante a integração dos dados valores nulos em \"Comportamento\" e \"Season\" foram nomeados \"Indefinido\", logo temos que tratá-los\n",
    "df.Comportamento.value_counts()"
   ]
  },
  {
   "cell_type": "code",
   "execution_count": 244,
   "id": "1e03c643-a9e3-404e-bb0d-0c89f8354092",
   "metadata": {},
   "outputs": [],
   "source": [
    "df = df.replace('Indefinido', np.NaN)"
   ]
  },
  {
   "cell_type": "code",
   "execution_count": 245,
   "id": "3f241a19",
   "metadata": {},
   "outputs": [
    {
     "data": {
      "text/plain": [
       "Piquete            0\n",
       "Altura real        0\n",
       "Altura esperada    0\n",
       "Animal             0\n",
       "SensorID           0\n",
       "Sensor Name        0\n",
       "Date               0\n",
       "X                  0\n",
       "Y                  0\n",
       "Z                  0\n",
       "Comportamento      0\n",
       "Season             0\n",
       "dtype: int64"
      ]
     },
     "execution_count": 245,
     "metadata": {},
     "output_type": "execute_result"
    }
   ],
   "source": [
    "# Como praticamente não há valores faltantes nas variáveis independentes e há obeservações com variáveis alvo nulas, o melhor é apenas eliminar linhas com valores nulos\n",
    "df = df.dropna(axis=0)\n",
    "df.isnull().sum()"
   ]
  },
  {
   "cell_type": "markdown",
   "id": "79bfb1af-1c4f-45a2-ac20-be569533a123",
   "metadata": {
    "tags": []
   },
   "source": [
    "### 2.2 Tratamento de dados categóricos"
   ]
  },
  {
   "cell_type": "markdown",
   "id": "ba0569ec-940d-4d74-9382-1e665dfbd99b",
   "metadata": {},
   "source": [
    "#### Correção dos nomes das classificações"
   ]
  },
  {
   "cell_type": "code",
   "execution_count": 246,
   "id": "ec188b38-b440-47e8-a65b-6b0a6e9c31ed",
   "metadata": {},
   "outputs": [
    {
     "data": {
      "text/plain": [
       "array(['Agua', 'Locomovendo', 'Ocio', 'Outro', 'Outros', 'Pastejando',\n",
       "       'Ruminando', 'Ócio'], dtype=object)"
      ]
     },
     "execution_count": 246,
     "metadata": {},
     "output_type": "execute_result"
    }
   ],
   "source": [
    "np.unique(df['Comportamento'])"
   ]
  },
  {
   "cell_type": "code",
   "execution_count": 247,
   "id": "dedf005f-b18c-4a91-8355-593c4b21c254",
   "metadata": {},
   "outputs": [],
   "source": [
    "df = df.replace(to_replace=['Ócio','Outro'], value=['Ocio', 'Outros'])"
   ]
  },
  {
   "cell_type": "code",
   "execution_count": 248,
   "id": "f27286a5-5119-4bdc-ae18-2947b0564c1a",
   "metadata": {},
   "outputs": [
    {
     "data": {
      "text/plain": [
       "array(['Spring', 'fall', 'spring', 'spring ', 'summer'], dtype=object)"
      ]
     },
     "execution_count": 248,
     "metadata": {},
     "output_type": "execute_result"
    }
   ],
   "source": [
    "np.unique(df['Season'])"
   ]
  },
  {
   "cell_type": "code",
   "execution_count": 249,
   "id": "8201035e-ea54-4ec0-8ea6-996092512f18",
   "metadata": {},
   "outputs": [],
   "source": [
    "df = df.replace(to_replace=['Spring','spring '], value=['spring', 'spring'])"
   ]
  },
  {
   "cell_type": "code",
   "execution_count": 250,
   "id": "2761cb87-1b99-4268-989c-3c14ba389653",
   "metadata": {},
   "outputs": [],
   "source": [
    "# Devido a baixa quantidade de dados desses comportamentos em relação ao de mais, suas obseravações são deletadas\n",
    "\n",
    "df = df.replace(['Agua', 'Locomovendo', 'Outros'], np.NaN)\n",
    "df = df.dropna(axis=0)"
   ]
  },
  {
   "cell_type": "code",
   "execution_count": 251,
   "id": "2bb68b88-9438-461e-8830-c8239356df2e",
   "metadata": {},
   "outputs": [
    {
     "data": {
      "text/plain": [
       "Pastejando    342516\n",
       "Ruminando     158228\n",
       "Ocio          128205\n",
       "Name: Comportamento, dtype: int64"
      ]
     },
     "execution_count": 251,
     "metadata": {},
     "output_type": "execute_result"
    }
   ],
   "source": [
    "df.Comportamento.value_counts()"
   ]
  },
  {
   "cell_type": "markdown",
   "id": "962c11d0-9db2-4887-a8de-9ecf9c302e2c",
   "metadata": {
    "tags": []
   },
   "source": [
    "#### Codificação - Usando One-Hot Encoding"
   ]
  },
  {
   "cell_type": "code",
   "execution_count": 252,
   "id": "2d425ac0-ffeb-4fc0-8dcc-b81b51e18626",
   "metadata": {},
   "outputs": [],
   "source": [
    "from sklearn.preprocessing import OneHotEncoder\n",
    "\n",
    "# Aplica one-hot encoder à coluna Season\n",
    "OH_encoder = OneHotEncoder(handle_unknown='ignore', sparse=False)\n",
    "OH_cols = pd.DataFrame(OH_encoder.fit_transform(df['Season'].values.reshape(-1,1)))"
   ]
  },
  {
   "cell_type": "code",
   "execution_count": 253,
   "id": "4b48187a-31e8-4a2e-aab1-64aab2a22e1d",
   "metadata": {},
   "outputs": [],
   "source": [
    "# One-hot encoder remove os indices; recuperando-os\n",
    "OH_cols.index = df.index"
   ]
  },
  {
   "cell_type": "code",
   "execution_count": 254,
   "id": "b51e0347-f8e1-4bc5-a575-f7d8983d9559",
   "metadata": {},
   "outputs": [],
   "source": [
    "# Renomeia as colunas com suas respectivas definições\n",
    "OH_cols.columns = OH_encoder.get_feature_names(['Season'])"
   ]
  },
  {
   "cell_type": "code",
   "execution_count": 255,
   "id": "e89a33ac-145f-46c3-ba0e-74ebcc09c209",
   "metadata": {},
   "outputs": [],
   "source": [
    "# Remoção da coluna Season (será substituida com one-hot encoding)\n",
    "num_df = df.drop('Season', axis=1)"
   ]
  },
  {
   "cell_type": "code",
   "execution_count": 256,
   "id": "8a33257b-2bc7-42ef-8736-4720be17ce81",
   "metadata": {},
   "outputs": [],
   "source": [
    "# Adiciona colunas codificadas por one-hot a features numéricas\n",
    "OH_df = pd.concat([num_df, OH_cols], axis=1)"
   ]
  },
  {
   "cell_type": "code",
   "execution_count": 257,
   "id": "9a8df26c-aa5f-45c9-873a-00e3782de1e7",
   "metadata": {},
   "outputs": [],
   "source": [
    "# Como one-hot encoder foi melhor, usaremos ele\n",
    "df = OH_df"
   ]
  },
  {
   "cell_type": "code",
   "execution_count": 258,
   "id": "b8bf22fc-b8ca-4397-b32c-c9325d0248f1",
   "metadata": {},
   "outputs": [
    {
     "data": {
      "text/html": [
       "<div>\n",
       "<style scoped>\n",
       "    .dataframe tbody tr th:only-of-type {\n",
       "        vertical-align: middle;\n",
       "    }\n",
       "\n",
       "    .dataframe tbody tr th {\n",
       "        vertical-align: top;\n",
       "    }\n",
       "\n",
       "    .dataframe thead th {\n",
       "        text-align: right;\n",
       "    }\n",
       "</style>\n",
       "<table border=\"1\" class=\"dataframe\">\n",
       "  <thead>\n",
       "    <tr style=\"text-align: right;\">\n",
       "      <th></th>\n",
       "      <th>Piquete</th>\n",
       "      <th>Altura real</th>\n",
       "      <th>Altura esperada</th>\n",
       "      <th>Animal</th>\n",
       "      <th>SensorID</th>\n",
       "      <th>Sensor Name</th>\n",
       "      <th>Date</th>\n",
       "      <th>X</th>\n",
       "      <th>Y</th>\n",
       "      <th>Z</th>\n",
       "      <th>Comportamento</th>\n",
       "      <th>Season_fall</th>\n",
       "      <th>Season_spring</th>\n",
       "      <th>Season_summer</th>\n",
       "    </tr>\n",
       "  </thead>\n",
       "  <tbody>\n",
       "    <tr>\n",
       "      <th>2846</th>\n",
       "      <td>11</td>\n",
       "      <td>25.2</td>\n",
       "      <td>25.0</td>\n",
       "      <td>85</td>\n",
       "      <td>434138</td>\n",
       "      <td>Accelerometer - 434138</td>\n",
       "      <td>2019-11-09 09:47:47</td>\n",
       "      <td>-0.132</td>\n",
       "      <td>-0.583</td>\n",
       "      <td>0.712</td>\n",
       "      <td>Ocio</td>\n",
       "      <td>0.0</td>\n",
       "      <td>1.0</td>\n",
       "      <td>0.0</td>\n",
       "    </tr>\n",
       "    <tr>\n",
       "      <th>2847</th>\n",
       "      <td>11</td>\n",
       "      <td>25.2</td>\n",
       "      <td>25.0</td>\n",
       "      <td>85</td>\n",
       "      <td>434138</td>\n",
       "      <td>Accelerometer - 434138</td>\n",
       "      <td>2019-11-09 09:47:48</td>\n",
       "      <td>0.021</td>\n",
       "      <td>-0.792</td>\n",
       "      <td>0.574</td>\n",
       "      <td>Ocio</td>\n",
       "      <td>0.0</td>\n",
       "      <td>1.0</td>\n",
       "      <td>0.0</td>\n",
       "    </tr>\n",
       "    <tr>\n",
       "      <th>2848</th>\n",
       "      <td>11</td>\n",
       "      <td>25.2</td>\n",
       "      <td>25.0</td>\n",
       "      <td>85</td>\n",
       "      <td>434138</td>\n",
       "      <td>Accelerometer - 434138</td>\n",
       "      <td>2019-11-09 09:47:50</td>\n",
       "      <td>0.021</td>\n",
       "      <td>-0.792</td>\n",
       "      <td>0.574</td>\n",
       "      <td>Ocio</td>\n",
       "      <td>0.0</td>\n",
       "      <td>1.0</td>\n",
       "      <td>0.0</td>\n",
       "    </tr>\n",
       "    <tr>\n",
       "      <th>2849</th>\n",
       "      <td>11</td>\n",
       "      <td>25.2</td>\n",
       "      <td>25.0</td>\n",
       "      <td>85</td>\n",
       "      <td>434138</td>\n",
       "      <td>Accelerometer - 434138</td>\n",
       "      <td>2019-11-09 09:47:51</td>\n",
       "      <td>0.021</td>\n",
       "      <td>-0.792</td>\n",
       "      <td>0.574</td>\n",
       "      <td>Ocio</td>\n",
       "      <td>0.0</td>\n",
       "      <td>1.0</td>\n",
       "      <td>0.0</td>\n",
       "    </tr>\n",
       "    <tr>\n",
       "      <th>2850</th>\n",
       "      <td>11</td>\n",
       "      <td>25.2</td>\n",
       "      <td>25.0</td>\n",
       "      <td>85</td>\n",
       "      <td>434138</td>\n",
       "      <td>Accelerometer - 434138</td>\n",
       "      <td>2019-11-09 09:47:52</td>\n",
       "      <td>-0.061</td>\n",
       "      <td>-0.870</td>\n",
       "      <td>0.478</td>\n",
       "      <td>Ocio</td>\n",
       "      <td>0.0</td>\n",
       "      <td>1.0</td>\n",
       "      <td>0.0</td>\n",
       "    </tr>\n",
       "    <tr>\n",
       "      <th>...</th>\n",
       "      <td>...</td>\n",
       "      <td>...</td>\n",
       "      <td>...</td>\n",
       "      <td>...</td>\n",
       "      <td>...</td>\n",
       "      <td>...</td>\n",
       "      <td>...</td>\n",
       "      <td>...</td>\n",
       "      <td>...</td>\n",
       "      <td>...</td>\n",
       "      <td>...</td>\n",
       "      <td>...</td>\n",
       "      <td>...</td>\n",
       "      <td>...</td>\n",
       "    </tr>\n",
       "    <tr>\n",
       "      <th>690561</th>\n",
       "      <td>1</td>\n",
       "      <td>10.3</td>\n",
       "      <td>10.0</td>\n",
       "      <td>81</td>\n",
       "      <td>434137</td>\n",
       "      <td>Accelerometer - 434137</td>\n",
       "      <td>2020-06-30 17:43:27</td>\n",
       "      <td>-0.729</td>\n",
       "      <td>0.026</td>\n",
       "      <td>0.660</td>\n",
       "      <td>Pastejando</td>\n",
       "      <td>1.0</td>\n",
       "      <td>0.0</td>\n",
       "      <td>0.0</td>\n",
       "    </tr>\n",
       "    <tr>\n",
       "      <th>690562</th>\n",
       "      <td>1</td>\n",
       "      <td>10.3</td>\n",
       "      <td>10.0</td>\n",
       "      <td>81</td>\n",
       "      <td>434137</td>\n",
       "      <td>Accelerometer - 434137</td>\n",
       "      <td>2020-06-30 17:43:28</td>\n",
       "      <td>-0.614</td>\n",
       "      <td>0.271</td>\n",
       "      <td>0.577</td>\n",
       "      <td>Pastejando</td>\n",
       "      <td>1.0</td>\n",
       "      <td>0.0</td>\n",
       "      <td>0.0</td>\n",
       "    </tr>\n",
       "    <tr>\n",
       "      <th>690563</th>\n",
       "      <td>1</td>\n",
       "      <td>10.3</td>\n",
       "      <td>10.0</td>\n",
       "      <td>81</td>\n",
       "      <td>434137</td>\n",
       "      <td>Accelerometer - 434137</td>\n",
       "      <td>2020-06-30 17:43:29</td>\n",
       "      <td>-0.734</td>\n",
       "      <td>0.227</td>\n",
       "      <td>0.571</td>\n",
       "      <td>Pastejando</td>\n",
       "      <td>1.0</td>\n",
       "      <td>0.0</td>\n",
       "      <td>0.0</td>\n",
       "    </tr>\n",
       "    <tr>\n",
       "      <th>690564</th>\n",
       "      <td>1</td>\n",
       "      <td>10.3</td>\n",
       "      <td>10.0</td>\n",
       "      <td>81</td>\n",
       "      <td>434137</td>\n",
       "      <td>Accelerometer - 434137</td>\n",
       "      <td>2020-06-30 17:43:30</td>\n",
       "      <td>-0.587</td>\n",
       "      <td>-0.149</td>\n",
       "      <td>0.704</td>\n",
       "      <td>Pastejando</td>\n",
       "      <td>1.0</td>\n",
       "      <td>0.0</td>\n",
       "      <td>0.0</td>\n",
       "    </tr>\n",
       "    <tr>\n",
       "      <th>690565</th>\n",
       "      <td>1</td>\n",
       "      <td>10.3</td>\n",
       "      <td>10.0</td>\n",
       "      <td>81</td>\n",
       "      <td>434137</td>\n",
       "      <td>Accelerometer - 434137</td>\n",
       "      <td>2020-06-30 17:43:31</td>\n",
       "      <td>-0.681</td>\n",
       "      <td>0.278</td>\n",
       "      <td>0.583</td>\n",
       "      <td>Pastejando</td>\n",
       "      <td>1.0</td>\n",
       "      <td>0.0</td>\n",
       "      <td>0.0</td>\n",
       "    </tr>\n",
       "  </tbody>\n",
       "</table>\n",
       "<p>628949 rows × 14 columns</p>\n",
       "</div>"
      ],
      "text/plain": [
       "        Piquete  Altura real  Altura esperada  Animal  SensorID  \\\n",
       "2846         11         25.2             25.0      85    434138   \n",
       "2847         11         25.2             25.0      85    434138   \n",
       "2848         11         25.2             25.0      85    434138   \n",
       "2849         11         25.2             25.0      85    434138   \n",
       "2850         11         25.2             25.0      85    434138   \n",
       "...         ...          ...              ...     ...       ...   \n",
       "690561        1         10.3             10.0      81    434137   \n",
       "690562        1         10.3             10.0      81    434137   \n",
       "690563        1         10.3             10.0      81    434137   \n",
       "690564        1         10.3             10.0      81    434137   \n",
       "690565        1         10.3             10.0      81    434137   \n",
       "\n",
       "                   Sensor Name                 Date      X      Y      Z  \\\n",
       "2846    Accelerometer - 434138  2019-11-09 09:47:47 -0.132 -0.583  0.712   \n",
       "2847    Accelerometer - 434138  2019-11-09 09:47:48  0.021 -0.792  0.574   \n",
       "2848    Accelerometer - 434138  2019-11-09 09:47:50  0.021 -0.792  0.574   \n",
       "2849    Accelerometer - 434138  2019-11-09 09:47:51  0.021 -0.792  0.574   \n",
       "2850    Accelerometer - 434138  2019-11-09 09:47:52 -0.061 -0.870  0.478   \n",
       "...                        ...                  ...    ...    ...    ...   \n",
       "690561  Accelerometer - 434137  2020-06-30 17:43:27 -0.729  0.026  0.660   \n",
       "690562  Accelerometer - 434137  2020-06-30 17:43:28 -0.614  0.271  0.577   \n",
       "690563  Accelerometer - 434137  2020-06-30 17:43:29 -0.734  0.227  0.571   \n",
       "690564  Accelerometer - 434137  2020-06-30 17:43:30 -0.587 -0.149  0.704   \n",
       "690565  Accelerometer - 434137  2020-06-30 17:43:31 -0.681  0.278  0.583   \n",
       "\n",
       "       Comportamento  Season_fall  Season_spring  Season_summer  \n",
       "2846            Ocio          0.0            1.0            0.0  \n",
       "2847            Ocio          0.0            1.0            0.0  \n",
       "2848            Ocio          0.0            1.0            0.0  \n",
       "2849            Ocio          0.0            1.0            0.0  \n",
       "2850            Ocio          0.0            1.0            0.0  \n",
       "...              ...          ...            ...            ...  \n",
       "690561    Pastejando          1.0            0.0            0.0  \n",
       "690562    Pastejando          1.0            0.0            0.0  \n",
       "690563    Pastejando          1.0            0.0            0.0  \n",
       "690564    Pastejando          1.0            0.0            0.0  \n",
       "690565    Pastejando          1.0            0.0            0.0  \n",
       "\n",
       "[628949 rows x 14 columns]"
      ]
     },
     "execution_count": 258,
     "metadata": {},
     "output_type": "execute_result"
    }
   ],
   "source": [
    "OH_df"
   ]
  },
  {
   "cell_type": "markdown",
   "id": "dc2edde3",
   "metadata": {
    "tags": []
   },
   "source": [
    "### 2.3 Tratamento de outliers"
   ]
  },
  {
   "cell_type": "markdown",
   "id": "0ffeae16-5ea5-4b59-8ba3-d7bb40a02819",
   "metadata": {
    "tags": []
   },
   "source": [
    "#### Estatística básica dos dados"
   ]
  },
  {
   "cell_type": "code",
   "execution_count": 259,
   "id": "f57dc874-b077-4c8f-9131-44e61c09d8a7",
   "metadata": {},
   "outputs": [],
   "source": [
    "import seaborn as sns\n",
    "import matplotlib.pyplot as plt\n",
    "sns.set_theme(style=\"darkgrid\", palette=\"rainbow\")\n",
    "%matplotlib inline"
   ]
  },
  {
   "cell_type": "code",
   "execution_count": 260,
   "id": "b292c883-e43a-455a-bacf-25bf7f919b23",
   "metadata": {},
   "outputs": [
    {
     "data": {
      "image/png": "[encoded data removed]",
      "text/plain": [
       "<Figure size 1080x504 with 3 Axes>"
      ]
     },
     "metadata": {
      "needs_background": "light"
     },
     "output_type": "display_data"
    }
   ],
   "source": [
    "plt.figure(figsize=(15,7))\n",
    "plt.subplot(1,3,1)\n",
    "plt.title(\"Distribuição de X\", fontsize=15)\n",
    "sns.kdeplot(data = df[\"X\"])\n",
    "plt.subplot(1,3,2)\n",
    "plt.title(\"Distribuição de Y\", fontsize=15)\n",
    "sns.kdeplot(data = df[\"Y\"])\n",
    "plt.subplot(1,3,3)\n",
    "plt.title(\"Distribuição de Z\", fontsize=15)\n",
    "sns.kdeplot(data = df[\"Z\"])\n",
    "plt.show()"
   ]
  },
  {
   "cell_type": "markdown",
   "id": "57a86d87-1fec-4722-b1a5-93a016590c27",
   "metadata": {},
   "source": [
    "#### Usando especificações do sensor"
   ]
  },
  {
   "cell_type": "code",
   "execution_count": 261,
   "id": "b8191857-6f48-46d9-ab84-d8ae9aba3575",
   "metadata": {},
   "outputs": [
    {
     "data": {
      "text/html": [
       "<div>\n",
       "<style scoped>\n",
       "    .dataframe tbody tr th:only-of-type {\n",
       "        vertical-align: middle;\n",
       "    }\n",
       "\n",
       "    .dataframe tbody tr th {\n",
       "        vertical-align: top;\n",
       "    }\n",
       "\n",
       "    .dataframe thead th {\n",
       "        text-align: right;\n",
       "    }\n",
       "</style>\n",
       "<table border=\"1\" class=\"dataframe\">\n",
       "  <thead>\n",
       "    <tr style=\"text-align: right;\">\n",
       "      <th></th>\n",
       "      <th>Piquete</th>\n",
       "      <th>Altura real</th>\n",
       "      <th>Altura esperada</th>\n",
       "      <th>Animal</th>\n",
       "      <th>SensorID</th>\n",
       "      <th>X</th>\n",
       "      <th>Y</th>\n",
       "      <th>Z</th>\n",
       "      <th>Season_fall</th>\n",
       "      <th>Season_spring</th>\n",
       "      <th>Season_summer</th>\n",
       "    </tr>\n",
       "  </thead>\n",
       "  <tbody>\n",
       "    <tr>\n",
       "      <th>count</th>\n",
       "      <td>628949.000000</td>\n",
       "      <td>628949.000000</td>\n",
       "      <td>628949.000000</td>\n",
       "      <td>628949.000000</td>\n",
       "      <td>628949.000000</td>\n",
       "      <td>628949.000000</td>\n",
       "      <td>628949.000000</td>\n",
       "      <td>628949.000000</td>\n",
       "      <td>628949.000000</td>\n",
       "      <td>628949.000000</td>\n",
       "      <td>628949.000000</td>\n",
       "    </tr>\n",
       "    <tr>\n",
       "      <th>mean</th>\n",
       "      <td>7.668875</td>\n",
       "      <td>18.993407</td>\n",
       "      <td>19.145784</td>\n",
       "      <td>75.535546</td>\n",
       "      <td>432876.812495</td>\n",
       "      <td>0.003104</td>\n",
       "      <td>0.071496</td>\n",
       "      <td>0.301034</td>\n",
       "      <td>0.398161</td>\n",
       "      <td>0.240705</td>\n",
       "      <td>0.361134</td>\n",
       "    </tr>\n",
       "    <tr>\n",
       "      <th>std</th>\n",
       "      <td>3.777652</td>\n",
       "      <td>5.947000</td>\n",
       "      <td>6.288472</td>\n",
       "      <td>26.852944</td>\n",
       "      <td>18001.109180</td>\n",
       "      <td>0.576456</td>\n",
       "      <td>0.582189</td>\n",
       "      <td>0.494047</td>\n",
       "      <td>0.489519</td>\n",
       "      <td>0.427512</td>\n",
       "      <td>0.480330</td>\n",
       "    </tr>\n",
       "    <tr>\n",
       "      <th>min</th>\n",
       "      <td>1.000000</td>\n",
       "      <td>10.000000</td>\n",
       "      <td>10.000000</td>\n",
       "      <td>21.000000</td>\n",
       "      <td>175810.000000</td>\n",
       "      <td>-1.999000</td>\n",
       "      <td>-2.688000</td>\n",
       "      <td>-1.999000</td>\n",
       "      <td>0.000000</td>\n",
       "      <td>0.000000</td>\n",
       "      <td>0.000000</td>\n",
       "    </tr>\n",
       "    <tr>\n",
       "      <th>25%</th>\n",
       "      <td>4.000000</td>\n",
       "      <td>11.230000</td>\n",
       "      <td>11.560000</td>\n",
       "      <td>81.000000</td>\n",
       "      <td>434136.000000</td>\n",
       "      <td>-0.498000</td>\n",
       "      <td>-0.402000</td>\n",
       "      <td>-0.021000</td>\n",
       "      <td>0.000000</td>\n",
       "      <td>0.000000</td>\n",
       "      <td>0.000000</td>\n",
       "    </tr>\n",
       "    <tr>\n",
       "      <th>50%</th>\n",
       "      <td>9.000000</td>\n",
       "      <td>20.600000</td>\n",
       "      <td>20.000000</td>\n",
       "      <td>84.000000</td>\n",
       "      <td>434137.000000</td>\n",
       "      <td>0.020000</td>\n",
       "      <td>0.127000</td>\n",
       "      <td>0.407000</td>\n",
       "      <td>0.000000</td>\n",
       "      <td>0.000000</td>\n",
       "      <td>0.000000</td>\n",
       "    </tr>\n",
       "    <tr>\n",
       "      <th>75%</th>\n",
       "      <td>11.000000</td>\n",
       "      <td>24.620000</td>\n",
       "      <td>25.000000</td>\n",
       "      <td>93.000000</td>\n",
       "      <td>434139.000000</td>\n",
       "      <td>0.475000</td>\n",
       "      <td>0.540000</td>\n",
       "      <td>0.683000</td>\n",
       "      <td>1.000000</td>\n",
       "      <td>0.000000</td>\n",
       "      <td>1.000000</td>\n",
       "    </tr>\n",
       "    <tr>\n",
       "      <th>max</th>\n",
       "      <td>12.000000</td>\n",
       "      <td>26.200000</td>\n",
       "      <td>25.000000</td>\n",
       "      <td>105.000000</td>\n",
       "      <td>434139.000000</td>\n",
       "      <td>2.106000</td>\n",
       "      <td>2.000000</td>\n",
       "      <td>2.020000</td>\n",
       "      <td>1.000000</td>\n",
       "      <td>1.000000</td>\n",
       "      <td>1.000000</td>\n",
       "    </tr>\n",
       "  </tbody>\n",
       "</table>\n",
       "</div>"
      ],
      "text/plain": [
       "             Piquete    Altura real  Altura esperada         Animal  \\\n",
       "count  628949.000000  628949.000000    628949.000000  628949.000000   \n",
       "mean        7.668875      18.993407        19.145784      75.535546   \n",
       "std         3.777652       5.947000         6.288472      26.852944   \n",
       "min         1.000000      10.000000        10.000000      21.000000   \n",
       "25%         4.000000      11.230000        11.560000      81.000000   \n",
       "50%         9.000000      20.600000        20.000000      84.000000   \n",
       "75%        11.000000      24.620000        25.000000      93.000000   \n",
       "max        12.000000      26.200000        25.000000     105.000000   \n",
       "\n",
       "            SensorID              X              Y              Z  \\\n",
       "count  628949.000000  628949.000000  628949.000000  628949.000000   \n",
       "mean   432876.812495       0.003104       0.071496       0.301034   \n",
       "std     18001.109180       0.576456       0.582189       0.494047   \n",
       "min    175810.000000      -1.999000      -2.688000      -1.999000   \n",
       "25%    434136.000000      -0.498000      -0.402000      -0.021000   \n",
       "50%    434137.000000       0.020000       0.127000       0.407000   \n",
       "75%    434139.000000       0.475000       0.540000       0.683000   \n",
       "max    434139.000000       2.106000       2.000000       2.020000   \n",
       "\n",
       "         Season_fall  Season_spring  Season_summer  \n",
       "count  628949.000000  628949.000000  628949.000000  \n",
       "mean        0.398161       0.240705       0.361134  \n",
       "std         0.489519       0.427512       0.480330  \n",
       "min         0.000000       0.000000       0.000000  \n",
       "25%         0.000000       0.000000       0.000000  \n",
       "50%         0.000000       0.000000       0.000000  \n",
       "75%         1.000000       0.000000       1.000000  \n",
       "max         1.000000       1.000000       1.000000  "
      ]
     },
     "execution_count": 261,
     "metadata": {},
     "output_type": "execute_result"
    }
   ],
   "source": [
    "df.describe()"
   ]
  },
  {
   "cell_type": "code",
   "execution_count": 262,
   "id": "8915d575-4ec7-4616-986b-9d11a5203f22",
   "metadata": {},
   "outputs": [],
   "source": [
    "# Range mínimo e máximo do aceleromêtro\n",
    "min = float(-1.999)\n",
    "max = float(1.999)"
   ]
  },
  {
   "cell_type": "code",
   "execution_count": 263,
   "id": "a5af98c2-950f-4529-a07a-6738489c2930",
   "metadata": {},
   "outputs": [],
   "source": [
    "df.loc[df.X > max, 'X'] = max\n",
    "df.loc[df.Y > max, 'Y'] = max\n",
    "df.loc[df.Z > max, 'Z'] = max\n",
    "\n",
    "df.loc[df.X < min, 'X'] = min\n",
    "df.loc[df.Y < min, 'Y'] = min\n",
    "df.loc[df.Z < min, 'Z'] = min"
   ]
  },
  {
   "cell_type": "markdown",
   "id": "daf57872-69b3-47bd-b299-0195e63359ad",
   "metadata": {
    "tags": []
   },
   "source": [
    "### 2.4 Transformação"
   ]
  },
  {
   "cell_type": "markdown",
   "id": "197747b9-d2f8-4c56-a4ba-85468d57b859",
   "metadata": {},
   "source": [
    "from sklearn.preprocessing import StandardScaler\n",
    "scaler = StandardScaler()"
   ]
  },
  {
   "cell_type": "markdown",
   "id": "e3a7ac5f-75d3-45c5-b270-9f08d19c7f37",
   "metadata": {},
   "source": [
    "scaler.fit(X_train)\n",
    "X_train = scaler.transform(X_train)\n",
    "scaler.fit(X_test)\n",
    "X_test = scaler.transform(X_test)\n",
    "calc_acuracia(X_train, X_test, y_train, y_test)"
   ]
  },
  {
   "cell_type": "markdown",
   "id": "2fd4ea71-4e17-4f12-b239-0fe841dfae0d",
   "metadata": {
    "tags": []
   },
   "source": [
    "### 2.5 Criação de novas features"
   ]
  },
  {
   "cell_type": "markdown",
   "id": "03b41bf1-e61f-4ba0-a1e9-0120efcd9b28",
   "metadata": {
    "tags": []
   },
   "source": [
    "#### Magnitude"
   ]
  },
  {
   "cell_type": "code",
   "execution_count": 264,
   "id": "3d903132-f3a2-4067-a5e6-1e606b76ec1b",
   "metadata": {},
   "outputs": [],
   "source": [
    "a = df[['X', 'Y', 'Z']].pow(2)"
   ]
  },
  {
   "cell_type": "code",
   "execution_count": 265,
   "id": "32315ab0-a6cb-4e18-89e7-f7cb201ea206",
   "metadata": {},
   "outputs": [],
   "source": [
    "a = a.sum(axis=1)"
   ]
  },
  {
   "cell_type": "code",
   "execution_count": 266,
   "id": "a49af648-8e62-46fb-8029-dcb31ddce368",
   "metadata": {},
   "outputs": [],
   "source": [
    "magn = a.pow(1/2)\n",
    "magn = magn.rename('magn')"
   ]
  },
  {
   "cell_type": "code",
   "execution_count": 267,
   "id": "2bcde61f-960d-4598-ab59-521047958920",
   "metadata": {},
   "outputs": [],
   "source": [
    "df = pd.concat([df, magn], axis=1)"
   ]
  },
  {
   "cell_type": "markdown",
   "id": "9c51c3f5-e843-473a-8289-c7807492b454",
   "metadata": {},
   "source": [
    "#### Signal Magnitude Area"
   ]
  },
  {
   "cell_type": "code",
   "execution_count": 268,
   "id": "6589a1a9-6799-4a72-a643-8c088490a084",
   "metadata": {},
   "outputs": [],
   "source": [
    "a = df[['X', 'Y', 'Z']].abs()"
   ]
  },
  {
   "cell_type": "code",
   "execution_count": 269,
   "id": "bb4859ee-204c-4cfb-91ec-7a66d36102df",
   "metadata": {},
   "outputs": [],
   "source": [
    "sma = a.sum(axis=1)\n",
    "sma = sma.rename('sma')"
   ]
  },
  {
   "cell_type": "code",
   "execution_count": 270,
   "id": "5e9baca5-b347-4d9c-ab61-45946488ea26",
   "metadata": {},
   "outputs": [],
   "source": [
    "df = pd.concat([df, sma], axis=1)"
   ]
  },
  {
   "cell_type": "markdown",
   "id": "ee6a8889-70d6-485d-8545-11c01016165b",
   "metadata": {},
   "source": [
    "#### Entropy"
   ]
  },
  {
   "cell_type": "code",
   "execution_count": 271,
   "id": "0c6d3f44-9ac7-4ba3-8e1c-845873e2ab45",
   "metadata": {},
   "outputs": [],
   "source": [
    "a = df[['X', 'Y', 'Z']]"
   ]
  },
  {
   "cell_type": "code",
   "execution_count": 272,
   "id": "5dc7634b-73ce-45c3-8d2a-f33adcc0b06a",
   "metadata": {},
   "outputs": [],
   "source": [
    "a = a.sum(axis=1)"
   ]
  },
  {
   "cell_type": "code",
   "execution_count": 273,
   "id": "a2379acd-98a2-434b-bf63-a452dde5edc3",
   "metadata": {},
   "outputs": [],
   "source": [
    "a = a + 1"
   ]
  },
  {
   "cell_type": "code",
   "execution_count": 274,
   "id": "ffbd202e-0a62-43bf-8c84-c12b857ec4e5",
   "metadata": {},
   "outputs": [],
   "source": [
    "a = a**2"
   ]
  },
  {
   "cell_type": "code",
   "execution_count": 275,
   "id": "046f60af-63e5-4c33-abc5-830f472fcbf6",
   "metadata": {},
   "outputs": [],
   "source": [
    "a = a.replace(to_replace=0, value=0.0001) # Pois ln de 0 é indefinido"
   ]
  },
  {
   "cell_type": "code",
   "execution_count": 276,
   "id": "576d772a-3d44-433e-9005-5d3c0cc33082",
   "metadata": {},
   "outputs": [],
   "source": [
    "b = np.log(a)"
   ]
  },
  {
   "cell_type": "code",
   "execution_count": 277,
   "id": "686bf3a6-40a5-471b-bd40-79607e5baa48",
   "metadata": {},
   "outputs": [],
   "source": [
    "ent = a*b\n",
    "ent = ent.rename('ent')"
   ]
  },
  {
   "cell_type": "code",
   "execution_count": 278,
   "id": "54f56b25-5331-46b4-a2e9-48c567ba8029",
   "metadata": {},
   "outputs": [],
   "source": [
    "df = pd.concat([df, ent], axis=1)"
   ]
  },
  {
   "cell_type": "markdown",
   "id": "7fcba9f8-6205-468c-a468-2cea42c67d76",
   "metadata": {
    "tags": []
   },
   "source": [
    "#### Energy "
   ]
  },
  {
   "cell_type": "code",
   "execution_count": 279,
   "id": "0f005810-5d1c-4d82-95e7-50a2fc2534c2",
   "metadata": {},
   "outputs": [],
   "source": [
    "a = df[['X', 'Y', 'Z']]"
   ]
  },
  {
   "cell_type": "code",
   "execution_count": 280,
   "id": "3d19e678-5b03-4357-8e81-cec780134558",
   "metadata": {},
   "outputs": [],
   "source": [
    "a = a**2"
   ]
  },
  {
   "cell_type": "code",
   "execution_count": 281,
   "id": "8abb5f0f-6baf-4cfe-9631-6fd62fc9a798",
   "metadata": {},
   "outputs": [],
   "source": [
    "a = a.sum(axis=1)"
   ]
  },
  {
   "cell_type": "code",
   "execution_count": 282,
   "id": "81528531-a65f-4195-b301-b1c77e1a1a21",
   "metadata": {},
   "outputs": [],
   "source": [
    "erg = a**2\n",
    "erg = erg.rename('erg')"
   ]
  },
  {
   "cell_type": "code",
   "execution_count": 283,
   "id": "84318313-818a-4555-8db4-707c4e800b30",
   "metadata": {},
   "outputs": [],
   "source": [
    "df = pd.concat([df, erg], axis=1)"
   ]
  },
  {
   "cell_type": "markdown",
   "id": "7f226dc8-e06c-450b-9ce9-60737622be59",
   "metadata": {},
   "source": [
    "#### Pitch"
   ]
  },
  {
   "cell_type": "code",
   "execution_count": 284,
   "id": "0dddd50e-18b4-40c2-90c5-33624bedcd30",
   "metadata": {},
   "outputs": [],
   "source": [
    "a = df[['Y', 'Z']]"
   ]
  },
  {
   "cell_type": "code",
   "execution_count": 285,
   "id": "e82f00cd-c1e7-4957-9594-2d42465cabf9",
   "metadata": {},
   "outputs": [],
   "source": [
    "a = a**2"
   ]
  },
  {
   "cell_type": "code",
   "execution_count": 286,
   "id": "42aafd2b-b73d-4160-8d3a-34a88bd8534d",
   "metadata": {},
   "outputs": [],
   "source": [
    "a = a.sum(axis=1)"
   ]
  },
  {
   "cell_type": "code",
   "execution_count": 287,
   "id": "8f608cce-d97e-4443-8518-174d2bf01c61",
   "metadata": {},
   "outputs": [],
   "source": [
    "a = a**(1/2)"
   ]
  },
  {
   "cell_type": "code",
   "execution_count": 288,
   "id": "66eacc82-471e-4381-a1c5-e172f49e9cc9",
   "metadata": {},
   "outputs": [],
   "source": [
    "b = -df.X"
   ]
  },
  {
   "cell_type": "code",
   "execution_count": 289,
   "id": "d9f3048a-77de-476d-93ec-f6132b219688",
   "metadata": {},
   "outputs": [],
   "source": [
    "a = b/a"
   ]
  },
  {
   "cell_type": "code",
   "execution_count": 290,
   "id": "72635c66-1033-4c92-a122-8c6866f320fa",
   "metadata": {},
   "outputs": [],
   "source": [
    "a = np.arctan(a)"
   ]
  },
  {
   "cell_type": "code",
   "execution_count": 291,
   "id": "75971496-2952-4c1a-adcb-74de5849fdaf",
   "metadata": {},
   "outputs": [],
   "source": [
    "pit = a*(180/np.pi)"
   ]
  },
  {
   "cell_type": "code",
   "execution_count": 292,
   "id": "4f9eb65d-9225-4d39-b67f-657dc657aace",
   "metadata": {},
   "outputs": [],
   "source": [
    "pit = pit.rename('pit')"
   ]
  },
  {
   "cell_type": "code",
   "execution_count": 293,
   "id": "2da920d3-2356-4683-85c2-91430b21afa1",
   "metadata": {},
   "outputs": [],
   "source": [
    "df = pd.concat([df, pit], axis=1)"
   ]
  },
  {
   "cell_type": "markdown",
   "id": "e8cd2262-a61c-4500-b30e-e720843b4c0a",
   "metadata": {
    "tags": []
   },
   "source": [
    "#### Roll"
   ]
  },
  {
   "cell_type": "code",
   "execution_count": 294,
   "id": "c863cb73-c28a-4443-b0cc-4e453c212619",
   "metadata": {},
   "outputs": [],
   "source": [
    "a = df[['Y', 'Z']]"
   ]
  },
  {
   "cell_type": "code",
   "execution_count": 295,
   "id": "95498a09-b7eb-4367-8d11-84b32d01ba08",
   "metadata": {},
   "outputs": [],
   "source": [
    "rol = np.arctan2(a.Z, a.Y)*(180/np.pi)"
   ]
  },
  {
   "cell_type": "code",
   "execution_count": 296,
   "id": "3f5ef76c-9638-463d-b60a-1440e0b6a7c8",
   "metadata": {},
   "outputs": [],
   "source": [
    "rol = rol.rename('rol')"
   ]
  },
  {
   "cell_type": "code",
   "execution_count": 297,
   "id": "4711c800-6cb8-44a9-9f34-f55a82724dda",
   "metadata": {},
   "outputs": [],
   "source": [
    "df = pd.concat([df, rol], axis=1)"
   ]
  },
  {
   "cell_type": "markdown",
   "id": "8d37e3fe-888e-4a69-b0e0-4f164d7cece5",
   "metadata": {
    "tags": []
   },
   "source": [
    "#### Inclination"
   ]
  },
  {
   "cell_type": "code",
   "execution_count": 298,
   "id": "eab6fbe7-5cf7-4b63-a1cb-b2cae43d9d82",
   "metadata": {},
   "outputs": [],
   "source": [
    "a = df[['X', 'Y', 'Z']]"
   ]
  },
  {
   "cell_type": "code",
   "execution_count": 299,
   "id": "a3ee07d4-93d8-428d-b57a-76acbe84661e",
   "metadata": {},
   "outputs": [],
   "source": [
    "a = ((a.X**2 + a.Y**2)**(1/2))/a.Z"
   ]
  },
  {
   "cell_type": "code",
   "execution_count": 300,
   "id": "c5dc466e-d556-465a-bedf-9609e8c3bdf1",
   "metadata": {},
   "outputs": [],
   "source": [
    "icl = np.arctan(a)*(180/np.pi)"
   ]
  },
  {
   "cell_type": "code",
   "execution_count": 301,
   "id": "7af7acda-98b2-4499-afd8-a7049d5a347c",
   "metadata": {},
   "outputs": [],
   "source": [
    "icl = icl.rename('icl')"
   ]
  },
  {
   "cell_type": "code",
   "execution_count": 302,
   "id": "2a844e8b-c05c-4baf-a7b3-4b519ccf9ffb",
   "metadata": {},
   "outputs": [],
   "source": [
    "df = pd.concat([df, icl], axis=1)"
   ]
  },
  {
   "cell_type": "markdown",
   "id": "b83ee0fd-4878-429d-8d52-e48167a43898",
   "metadata": {},
   "source": [
    "### 2.6 Testes com train_size"
   ]
  },
  {
   "cell_type": "code",
   "execution_count": 303,
   "id": "934af8f5-d34d-4005-b2b8-c6c73dcbda83",
   "metadata": {},
   "outputs": [
    {
     "data": {
      "text/plain": [
       "Index(['Piquete', 'Altura real', 'Altura esperada', 'Animal', 'SensorID',\n",
       "       'Sensor Name', 'Date', 'X', 'Y', 'Z', 'Comportamento', 'Season_fall',\n",
       "       'Season_spring', 'Season_summer', 'magn', 'sma', 'ent', 'erg', 'pit',\n",
       "       'rol', 'icl'],\n",
       "      dtype='object')"
      ]
     },
     "execution_count": 303,
     "metadata": {},
     "output_type": "execute_result"
    }
   ],
   "source": [
    "df.columns"
   ]
  },
  {
   "cell_type": "code",
   "execution_count": 168,
   "id": "84269d13-d872-42b1-ac88-2adccfed9f6f",
   "metadata": {},
   "outputs": [],
   "source": [
    "X = df[['X', 'Y', 'Z', 'Season_fall', 'Season_spring', 'Season_summer', 'magn',\n",
    "        'sma', 'ent', 'erg', 'pit', 'rol', 'icl']]\n",
    "y = df.Comportamento"
   ]
  },
  {
   "cell_type": "code",
   "execution_count": 180,
   "id": "5443b321-a1b8-4c7a-9727-ed43ed26fe3c",
   "metadata": {},
   "outputs": [],
   "source": [
    "from sklearn.model_selection import train_test_split\n",
    "X_train, X_test, y_train, y_test = train_test_split(X, y, train_size=0.10, random_state=0)"
   ]
  },
  {
   "cell_type": "code",
   "execution_count": 181,
   "id": "265ed6f3-ba8b-4559-a3cc-aedc5ee95ddb",
   "metadata": {},
   "outputs": [
    {
     "name": "stdout",
     "output_type": "stream",
     "text": [
      "Acurácia da etapa nos dados de teste: 70.48007702431742\n",
      "Acurácia da etapa nos dados de treino: 99.99205011606831\n"
     ]
    }
   ],
   "source": [
    "calc_acuracia(X_train, X_test, y_train, y_test)"
   ]
  },
  {
   "cell_type": "code",
   "execution_count": 182,
   "id": "c37d1d55-2a5f-4e06-8c66-11267b5b2a70",
   "metadata": {},
   "outputs": [],
   "source": [
    "from sklearn.model_selection import train_test_split\n",
    "X_train, X_test, y_train, y_test = train_test_split(X, y, train_size=0.50, random_state=0)"
   ]
  },
  {
   "cell_type": "code",
   "execution_count": 183,
   "id": "905df820-d830-4a92-aba4-337a337d92bd",
   "metadata": {},
   "outputs": [
    {
     "name": "stdout",
     "output_type": "stream",
     "text": [
      "Acurácia da etapa nos dados de teste: 72.6992606725495\n",
      "Acurácia da etapa nos dados de treino: 99.98950628668824\n"
     ]
    }
   ],
   "source": [
    "calc_acuracia(X_train, X_test, y_train, y_test)"
   ]
  },
  {
   "cell_type": "code",
   "execution_count": 172,
   "id": "493ca29b-1157-4751-ac20-f37d98cbf4c0",
   "metadata": {},
   "outputs": [],
   "source": [
    "from sklearn.model_selection import train_test_split\n",
    "X_train, X_test, y_train, y_test = train_test_split(X, y, train_size=0.70, random_state=0)"
   ]
  },
  {
   "cell_type": "code",
   "execution_count": 173,
   "id": "5891fcbe-d8c0-4e86-a80f-c77bfd5480d2",
   "metadata": {},
   "outputs": [
    {
     "name": "stdout",
     "output_type": "stream",
     "text": [
      "Acurácia da etapa nos dados de teste: 72.99838354930175\n",
      "Acurácia da etapa nos dados de treino: 99.98682608616647\n"
     ]
    }
   ],
   "source": [
    "calc_acuracia(X_train, X_test, y_train, y_test)"
   ]
  },
  {
   "cell_type": "code",
   "execution_count": 174,
   "id": "7a43ea91-ef70-4918-8fbe-035c6a811796",
   "metadata": {},
   "outputs": [],
   "source": [
    "from sklearn.model_selection import train_test_split\n",
    "X_train, X_test, y_train, y_test = train_test_split(X, y, train_size=0.75, random_state=0)"
   ]
  },
  {
   "cell_type": "code",
   "execution_count": 175,
   "id": "f0e1edfd-8d71-429f-a4d7-8192e06702a4",
   "metadata": {},
   "outputs": [
    {
     "name": "stdout",
     "output_type": "stream",
     "text": [
      "Acurácia da etapa nos dados de teste: 73.14389651356542\n",
      "Acurácia da etapa nos dados de treino: 99.98558439383436\n"
     ]
    }
   ],
   "source": [
    "calc_acuracia(X_train, X_test, y_train, y_test)"
   ]
  },
  {
   "cell_type": "code",
   "execution_count": 176,
   "id": "18537545-a580-4dde-896e-f1441e85ed1d",
   "metadata": {},
   "outputs": [],
   "source": [
    "from sklearn.model_selection import train_test_split\n",
    "X_train, X_test, y_train, y_test = train_test_split(X, y, train_size=0.80, random_state=0)"
   ]
  },
  {
   "cell_type": "code",
   "execution_count": 177,
   "id": "a481a770-997f-4b29-b2ea-88d41e8b9f3c",
   "metadata": {},
   "outputs": [
    {
     "name": "stdout",
     "output_type": "stream",
     "text": [
      "Acurácia da etapa nos dados de teste: 73.16400349789332\n",
      "Acurácia da etapa nos dados de treino: 99.98728036266866\n"
     ]
    }
   ],
   "source": [
    "calc_acuracia(X_train, X_test, y_train, y_test)"
   ]
  },
  {
   "cell_type": "code",
   "execution_count": 178,
   "id": "7f4bba93-7336-45bf-b2a1-d8f61099b70d",
   "metadata": {},
   "outputs": [],
   "source": [
    "from sklearn.model_selection import train_test_split\n",
    "X_train, X_test, y_train, y_test = train_test_split(X, y, train_size=0.85, random_state=0)"
   ]
  },
  {
   "cell_type": "code",
   "execution_count": 179,
   "id": "9c1cc4ef-d94c-4d8b-8b11-fbd13d393693",
   "metadata": {},
   "outputs": [
    {
     "name": "stdout",
     "output_type": "stream",
     "text": [
      "Acurácia da etapa nos dados de teste: 73.34937409240749\n",
      "Acurácia da etapa nos dados de treino: 99.98578392311347\n"
     ]
    }
   ],
   "source": [
    "calc_acuracia(X_train, X_test, y_train, y_test)"
   ]
  },
  {
   "cell_type": "markdown",
   "id": "d98ac1c7-7512-4e09-9c7b-9ac418bb6363",
   "metadata": {},
   "source": [
    "### 2.7 Seleção de features"
   ]
  },
  {
   "cell_type": "code",
   "execution_count": 213,
   "id": "f7566f3a-c436-4f7e-8c59-e9daacbf0f8a",
   "metadata": {},
   "outputs": [],
   "source": [
    "X = df[['X', 'Y', 'Z', 'Season_fall', 'Season_spring', 'Season_summer', 'magn',\n",
    "        'sma', 'ent', 'erg', 'pit', 'rol', 'icl']]\n",
    "y = df.Comportamento"
   ]
  },
  {
   "cell_type": "code",
   "execution_count": 214,
   "id": "66f965ab-fa51-4f7c-b46e-6267180a81cf",
   "metadata": {},
   "outputs": [],
   "source": [
    "from sklearn.model_selection import train_test_split\n",
    "X_train, X_test, y_train, y_test = train_test_split(X, y, train_size=0.70, random_state=0)"
   ]
  },
  {
   "cell_type": "code",
   "execution_count": 215,
   "id": "0570b1bf-306c-4803-8738-7d4ddf0ec9b1",
   "metadata": {},
   "outputs": [
    {
     "name": "stdout",
     "output_type": "stream",
     "text": [
      "k = 3 - Acurácia = 0.6435911704693007\n",
      "k = 4 - Acurácia = 0.6605506532050772\n",
      "k = 5 - Acurácia = 0.688735193576596\n",
      "k = 6 - Acurácia = 0.6982643029387604\n",
      "k = 7 - Acurácia = 0.7060285661287331\n",
      "k = 8 - Acurácia = 0.7264700426636987\n",
      "k = 9 - Acurácia = 0.7255372711132311\n",
      "k = 10 - Acurácia = 0.7258711609295917\n",
      "k = 11 - Acurácia = 0.7301428306436654\n",
      "k = 12 - Acurácia = 0.7310862018708429\n",
      "k = 13 - Acurácia = 0.7299838354930175\n"
     ]
    }
   ],
   "source": [
    "from sklearn.feature_selection import SelectKBest, f_classif\n",
    "from sklearn.metrics import accuracy_score\n",
    "from sklearn.ensemble import RandomForestClassifier\n",
    "\n",
    "k_vs_score = []\n",
    "\n",
    "for k in range(3,14,1):\n",
    "  selector = SelectKBest(score_func=f_classif, k=k)\n",
    "\n",
    "  X_train2 = selector.fit_transform(X_train, y_train)\n",
    "  X_test2 = selector.transform(X_test)\n",
    "\n",
    "  mdl = RandomForestClassifier(n_estimators=100, n_jobs=-1, random_state=0)\n",
    "  mdl.fit(X_train2, y_train)\n",
    "\n",
    "  preds = mdl.predict(X_test2)\n",
    "\n",
    "  score = accuracy_score(y_test, preds)\n",
    "  print(\"k = {} - Acurácia = {}\".format(k, score))\n",
    "\n",
    "  k_vs_score.append(score)\n"
   ]
  },
  {
   "cell_type": "code",
   "execution_count": 217,
   "id": "49bab40d-3332-4b84-904a-409b6a499848",
   "metadata": {},
   "outputs": [
    {
     "data": {
      "text/plain": [
       "<AxesSubplot:>"
      ]
     },
     "execution_count": 217,
     "metadata": {},
     "output_type": "execute_result"
    },
    {
     "data": {
      "image/png": "[encoded data removed]",
      "text/plain": [
       "<Figure size 720x504 with 1 Axes>"
      ]
     },
     "metadata": {
      "needs_background": "light"
     },
     "output_type": "display_data"
    }
   ],
   "source": [
    "pd.Series(k_vs_score, index=range(3,14,1)).plot(figsize=(10,7))"
   ]
  },
  {
   "cell_type": "code",
   "execution_count": 225,
   "id": "6d0ad047-9f62-4539-8dde-272293a3f2bd",
   "metadata": {},
   "outputs": [
    {
     "data": {
      "text/plain": [
       "SelectKBest(k=11)"
      ]
     },
     "execution_count": 225,
     "metadata": {},
     "output_type": "execute_result"
    }
   ],
   "source": [
    "selector = SelectKBest(score_func=f_classif, k=11)\n",
    "selector.fit(X_train, y_train)"
   ]
  },
  {
   "cell_type": "code",
   "execution_count": 306,
   "id": "7c05130d-4b74-4517-b770-f1c5e4ee4fe2",
   "metadata": {},
   "outputs": [
    {
     "data": {
      "text/plain": [
       "Index(['X', 'Z', 'Season_fall', 'Season_spring', 'Season_summer', 'magn',\n",
       "       'sma', 'ent', 'pit', 'rol', 'icl'],\n",
       "      dtype='object')"
      ]
     },
     "execution_count": 306,
     "metadata": {},
     "output_type": "execute_result"
    }
   ],
   "source": [
    "mask = selector.get_support()\n",
    "X_test.columns[mask]\n",
    "# Features mais relevantes"
   ]
  },
  {
   "cell_type": "code",
   "execution_count": 228,
   "id": "07867141-9f22-47f3-b253-d72bd56e92a7",
   "metadata": {},
   "outputs": [
    {
     "data": {
      "text/plain": [
       "<AxesSubplot:>"
      ]
     },
     "execution_count": 228,
     "metadata": {},
     "output_type": "execute_result"
    },
    {
     "data": {
      "image/png": "[encoded data removed]",
      "text/plain": [
       "<Figure size 432x288 with 1 Axes>"
      ]
     },
     "metadata": {
      "needs_background": "light"
     },
     "output_type": "display_data"
    }
   ],
   "source": [
    "pd.Series(selector.scores_, index=X_train.columns).sort_values().plot.barh()"
   ]
  },
  {
   "cell_type": "markdown",
   "id": "5601ae18-72f7-4bdf-8e3a-521963cb132d",
   "metadata": {
    "tags": []
   },
   "source": [
    "### 2.8 Gravação do conjunto de dados após o pré-processamento"
   ]
  },
  {
   "cell_type": "code",
   "execution_count": 307,
   "id": "6a0cf9f7-0345-4750-b16a-d7517f6d6f88",
   "metadata": {},
   "outputs": [],
   "source": [
    "# Como base na seleção de features e outras condições, serão salvas:\n",
    "df = df[['Piquete', 'Altura real', 'Altura esperada', 'Animal', 'SensorID',\n",
    "       'Sensor Name', 'Date', 'X', 'Y', 'Z', 'Comportamento', 'Season_fall',\n",
    "       'Season_spring', 'Season_summer', 'magn', 'sma', 'ent', 'pit',\n",
    "       'rol', 'icl']]"
   ]
  },
  {
   "cell_type": "code",
   "execution_count": 308,
   "id": "0db9b988-bc2b-40b3-b5f9-e68da634c932",
   "metadata": {},
   "outputs": [],
   "source": [
    "# Geração de um zip com os dados em csv \n",
    "compression_opts = dict(method='zip', archive_name='dados_pre_processados_lazaro.csv') \n",
    "\n",
    "df.to_csv('dados_pre_processados_lazaro_final.zip', index=False, compression=compression_opts)"
   ]
  }
 ],
 "metadata": {
  "kernelspec": {
   "display_name": "Python 3 (ipykernel)",
   "language": "python",
   "name": "python3"
  },
  "language_info": {
   "codemirror_mode": {
    "name": "ipython",
    "version": 3
   },
   "file_extension": ".py",
   "mimetype": "text/x-python",
   "name": "python",
   "nbconvert_exporter": "python",
   "pygments_lexer": "ipython3",
   "version": "3.9.7"
  }
 },
 "nbformat": 4,
 "nbformat_minor": 5
}
