{
 "cells": [
  {
   "cell_type": "code",
   "execution_count": 130,
   "id": "879f66bd",
   "metadata": {},
   "outputs": [],
   "source": [
    "import pandas as pd\n",
    "import numpy as np\n",
    "from sklearn.model_selection import train_test_split"
   ]
  },
  {
   "cell_type": "markdown",
   "id": "e245a454",
   "metadata": {},
   "source": [
    "## Passo 1: Leitura dos dados\n",
    "Leitura dos bancos de dados em DataFrame Pandas. "
   ]
  },
  {
   "cell_type": "code",
   "execution_count": 131,
   "id": "25e7b7d2",
   "metadata": {},
   "outputs": [],
   "source": [
    "caminho_dados_lazaro = 'Datasets/Lazaro/dados_lazaro.csv'"
   ]
  },
  {
   "cell_type": "code",
   "execution_count": 132,
   "id": "d4a1a45b",
   "metadata": {},
   "outputs": [],
   "source": [
    "df = pd.read_csv(caminho_dados_lazaro)"
   ]
  },
  {
   "cell_type": "code",
   "execution_count": 133,
   "id": "747a25ff",
   "metadata": {},
   "outputs": [
    {
     "data": {
      "text/html": [
       "<div>\n",
       "<style scoped>\n",
       "    .dataframe tbody tr th:only-of-type {\n",
       "        vertical-align: middle;\n",
       "    }\n",
       "\n",
       "    .dataframe tbody tr th {\n",
       "        vertical-align: top;\n",
       "    }\n",
       "\n",
       "    .dataframe thead th {\n",
       "        text-align: right;\n",
       "    }\n",
       "</style>\n",
       "<table border=\"1\" class=\"dataframe\">\n",
       "  <thead>\n",
       "    <tr style=\"text-align: right;\">\n",
       "      <th></th>\n",
       "      <th>Piquete</th>\n",
       "      <th>Altura real</th>\n",
       "      <th>Altura esperada</th>\n",
       "      <th>Animal</th>\n",
       "      <th>SensorID</th>\n",
       "      <th>Sensor Name</th>\n",
       "      <th>Date</th>\n",
       "      <th>X</th>\n",
       "      <th>Y</th>\n",
       "      <th>Z</th>\n",
       "      <th>Comportamento</th>\n",
       "      <th>Season</th>\n",
       "    </tr>\n",
       "  </thead>\n",
       "  <tbody>\n",
       "    <tr>\n",
       "      <th>0</th>\n",
       "      <td>11</td>\n",
       "      <td>25.2</td>\n",
       "      <td>25.0</td>\n",
       "      <td>85</td>\n",
       "      <td>434138</td>\n",
       "      <td>Accelerometer - 434138</td>\n",
       "      <td>2019-11-09 08:25:30</td>\n",
       "      <td>-0.012</td>\n",
       "      <td>-0.456</td>\n",
       "      <td>0.900</td>\n",
       "      <td>Indefinido</td>\n",
       "      <td>Indefinido</td>\n",
       "    </tr>\n",
       "    <tr>\n",
       "      <th>1</th>\n",
       "      <td>11</td>\n",
       "      <td>25.2</td>\n",
       "      <td>25.0</td>\n",
       "      <td>85</td>\n",
       "      <td>434138</td>\n",
       "      <td>Accelerometer - 434138</td>\n",
       "      <td>2019-11-09 08:25:32</td>\n",
       "      <td>-0.008</td>\n",
       "      <td>-0.456</td>\n",
       "      <td>0.892</td>\n",
       "      <td>Indefinido</td>\n",
       "      <td>Indefinido</td>\n",
       "    </tr>\n",
       "    <tr>\n",
       "      <th>2</th>\n",
       "      <td>11</td>\n",
       "      <td>25.2</td>\n",
       "      <td>25.0</td>\n",
       "      <td>85</td>\n",
       "      <td>434138</td>\n",
       "      <td>Accelerometer - 434138</td>\n",
       "      <td>2019-11-09 08:25:33</td>\n",
       "      <td>-0.010</td>\n",
       "      <td>-0.460</td>\n",
       "      <td>0.897</td>\n",
       "      <td>Indefinido</td>\n",
       "      <td>Indefinido</td>\n",
       "    </tr>\n",
       "    <tr>\n",
       "      <th>3</th>\n",
       "      <td>11</td>\n",
       "      <td>25.2</td>\n",
       "      <td>25.0</td>\n",
       "      <td>85</td>\n",
       "      <td>434138</td>\n",
       "      <td>Accelerometer - 434138</td>\n",
       "      <td>2019-11-09 08:25:33</td>\n",
       "      <td>0.021</td>\n",
       "      <td>-0.386</td>\n",
       "      <td>0.963</td>\n",
       "      <td>Indefinido</td>\n",
       "      <td>Indefinido</td>\n",
       "    </tr>\n",
       "    <tr>\n",
       "      <th>4</th>\n",
       "      <td>11</td>\n",
       "      <td>25.2</td>\n",
       "      <td>25.0</td>\n",
       "      <td>85</td>\n",
       "      <td>434138</td>\n",
       "      <td>Accelerometer - 434138</td>\n",
       "      <td>2019-11-09 08:25:34</td>\n",
       "      <td>0.012</td>\n",
       "      <td>-0.423</td>\n",
       "      <td>0.910</td>\n",
       "      <td>Indefinido</td>\n",
       "      <td>Indefinido</td>\n",
       "    </tr>\n",
       "  </tbody>\n",
       "</table>\n",
       "</div>"
      ],
      "text/plain": [
       "   Piquete  Altura real  Altura esperada  Animal  SensorID  \\\n",
       "0       11         25.2             25.0      85    434138   \n",
       "1       11         25.2             25.0      85    434138   \n",
       "2       11         25.2             25.0      85    434138   \n",
       "3       11         25.2             25.0      85    434138   \n",
       "4       11         25.2             25.0      85    434138   \n",
       "\n",
       "              Sensor Name                 Date      X      Y      Z  \\\n",
       "0  Accelerometer - 434138  2019-11-09 08:25:30 -0.012 -0.456  0.900   \n",
       "1  Accelerometer - 434138  2019-11-09 08:25:32 -0.008 -0.456  0.892   \n",
       "2  Accelerometer - 434138  2019-11-09 08:25:33 -0.010 -0.460  0.897   \n",
       "3  Accelerometer - 434138  2019-11-09 08:25:33  0.021 -0.386  0.963   \n",
       "4  Accelerometer - 434138  2019-11-09 08:25:34  0.012 -0.423  0.910   \n",
       "\n",
       "  Comportamento      Season  \n",
       "0    Indefinido  Indefinido  \n",
       "1    Indefinido  Indefinido  \n",
       "2    Indefinido  Indefinido  \n",
       "3    Indefinido  Indefinido  \n",
       "4    Indefinido  Indefinido  "
      ]
     },
     "execution_count": 133,
     "metadata": {},
     "output_type": "execute_result"
    }
   ],
   "source": [
    "df.head()"
   ]
  },
  {
   "cell_type": "markdown",
   "id": "e837f134",
   "metadata": {},
   "source": [
    "## Passo 2: Pré-processamento\n"
   ]
  },
  {
   "cell_type": "code",
   "execution_count": 134,
   "id": "0dcd8205-35bf-4765-88a5-d3a18a24f839",
   "metadata": {},
   "outputs": [],
   "source": [
    "from sklearn.ensemble import RandomForestClassifier\n",
    "from sklearn.metrics import accuracy_score\n",
    "\n",
    "# Função para calcular acuracia de cada etapa do Pré-processamento\n",
    "def calc_acuracia(X_train, X_valid, y_train, y_valid):\n",
    "    model = RandomForestClassifier(n_estimators=100, random_state=0)\n",
    "    model.fit(X_train, y_train)\n",
    "    preds = model.predict(X_valid)\n",
    "    print(\"Acurácia da etapa:\")\n",
    "    print(accuracy_score(y_valid, preds)*100)"
   ]
  },
  {
   "cell_type": "markdown",
   "id": "4d81e72e",
   "metadata": {
    "tags": []
   },
   "source": [
    "### 2.0 Seleção de colunas aplicáveis"
   ]
  },
  {
   "cell_type": "code",
   "execution_count": 135,
   "id": "d076fdd5",
   "metadata": {},
   "outputs": [
    {
     "data": {
      "text/plain": [
       "Index(['Piquete', 'Altura real', 'Altura esperada', 'Animal', 'SensorID',\n",
       "       'Sensor Name', 'Date', 'X', 'Y', 'Z', 'Comportamento', 'Season'],\n",
       "      dtype='object')"
      ]
     },
     "execution_count": 135,
     "metadata": {},
     "output_type": "execute_result"
    }
   ],
   "source": [
    "df.columns"
   ]
  },
  {
   "cell_type": "code",
   "execution_count": 136,
   "id": "61d06b41",
   "metadata": {},
   "outputs": [],
   "source": [
    "# Lista com os atributos aplicáveis\n",
    "features_aplicaveis = ['X', 'Y', 'Z', 'Comportamento', 'Season']\n",
    "\n",
    "# Seleciona os abributos correspondentes da lista features_aplicaveis\n",
    "df = df[features_aplicaveis]"
   ]
  },
  {
   "cell_type": "markdown",
   "id": "1864ed3e",
   "metadata": {
    "tags": []
   },
   "source": [
    "### 2.1 Lidando com dados faltantes"
   ]
  },
  {
   "cell_type": "code",
   "execution_count": 137,
   "id": "e91f9140-13f6-4d93-8aa1-a3272ea19bca",
   "metadata": {},
   "outputs": [
    {
     "data": {
      "text/html": [
       "<div>\n",
       "<style scoped>\n",
       "    .dataframe tbody tr th:only-of-type {\n",
       "        vertical-align: middle;\n",
       "    }\n",
       "\n",
       "    .dataframe tbody tr th {\n",
       "        vertical-align: top;\n",
       "    }\n",
       "\n",
       "    .dataframe thead th {\n",
       "        text-align: right;\n",
       "    }\n",
       "</style>\n",
       "<table border=\"1\" class=\"dataframe\">\n",
       "  <thead>\n",
       "    <tr style=\"text-align: right;\">\n",
       "      <th></th>\n",
       "      <th>X</th>\n",
       "      <th>Y</th>\n",
       "      <th>Z</th>\n",
       "      <th>Comportamento</th>\n",
       "      <th>Season</th>\n",
       "    </tr>\n",
       "  </thead>\n",
       "  <tbody>\n",
       "    <tr>\n",
       "      <th>296</th>\n",
       "      <td>175786.0</td>\n",
       "      <td>NaN</td>\n",
       "      <td>NaN</td>\n",
       "      <td>Indefinido</td>\n",
       "      <td>Indefinido</td>\n",
       "    </tr>\n",
       "  </tbody>\n",
       "</table>\n",
       "</div>"
      ],
      "text/plain": [
       "            X   Y   Z Comportamento      Season\n",
       "296  175786.0 NaN NaN    Indefinido  Indefinido"
      ]
     },
     "execution_count": 137,
     "metadata": {},
     "output_type": "execute_result"
    }
   ],
   "source": [
    "df[df.isnull().any(axis=1)]"
   ]
  },
  {
   "cell_type": "code",
   "execution_count": 138,
   "id": "2b670e4a",
   "metadata": {},
   "outputs": [
    {
     "data": {
      "text/plain": [
       "X                0\n",
       "Y                1\n",
       "Z                1\n",
       "Comportamento    0\n",
       "Season           0\n",
       "dtype: int64"
      ]
     },
     "execution_count": 138,
     "metadata": {},
     "output_type": "execute_result"
    }
   ],
   "source": [
    "df.isnull().sum()"
   ]
  },
  {
   "cell_type": "code",
   "execution_count": 139,
   "id": "6d9aee41-19c9-485c-b4b8-e074a56a1e95",
   "metadata": {},
   "outputs": [
    {
     "data": {
      "text/plain": [
       "Pastejando     342516\n",
       "Ruminando      158228\n",
       "Ocio           126141\n",
       "Indefinido      23496\n",
       "Outros          19472\n",
       "Locomovendo     12567\n",
       "Agua             3779\n",
       "Outro            2303\n",
       "Ócio             2064\n",
       "Name: Comportamento, dtype: int64"
      ]
     },
     "execution_count": 139,
     "metadata": {},
     "output_type": "execute_result"
    }
   ],
   "source": [
    "# No entanto, durante a integração dos dados valores nulos em \"Comportamento\" e \"Season\" foram nomeados \"Indefinido\", logo temos que tratá-los\n",
    "df.Comportamento.value_counts()"
   ]
  },
  {
   "cell_type": "code",
   "execution_count": 140,
   "id": "1e03c643-a9e3-404e-bb0d-0c89f8354092",
   "metadata": {},
   "outputs": [],
   "source": [
    "df = df.replace('Indefinido', np.NaN)"
   ]
  },
  {
   "cell_type": "code",
   "execution_count": 141,
   "id": "3f241a19",
   "metadata": {},
   "outputs": [
    {
     "data": {
      "text/plain": [
       "X                0\n",
       "Y                0\n",
       "Z                0\n",
       "Comportamento    0\n",
       "Season           0\n",
       "dtype: int64"
      ]
     },
     "execution_count": 141,
     "metadata": {},
     "output_type": "execute_result"
    }
   ],
   "source": [
    "# Como praticamente não há valores faltantes nas variáveis independentes e há obeservações com variáveis alvo nulas, o melhor é apenas eliminar linhas com valores nulos\n",
    "df = df.dropna(axis=0)\n",
    "df.isnull().sum()"
   ]
  },
  {
   "cell_type": "markdown",
   "id": "79bfb1af-1c4f-45a2-ac20-be569533a123",
   "metadata": {
    "jp-MarkdownHeadingCollapsed": true,
    "tags": []
   },
   "source": [
    "### 2.2 Tratamento de dados categóricos"
   ]
  },
  {
   "cell_type": "markdown",
   "id": "ba0569ec-940d-4d74-9382-1e665dfbd99b",
   "metadata": {},
   "source": [
    "#### Correção dos nomes das classificações"
   ]
  },
  {
   "cell_type": "code",
   "execution_count": 142,
   "id": "ec188b38-b440-47e8-a65b-6b0a6e9c31ed",
   "metadata": {},
   "outputs": [
    {
     "data": {
      "text/plain": [
       "array(['Agua', 'Locomovendo', 'Ocio', 'Outro', 'Outros', 'Pastejando',\n",
       "       'Ruminando', 'Ócio'], dtype=object)"
      ]
     },
     "execution_count": 142,
     "metadata": {},
     "output_type": "execute_result"
    }
   ],
   "source": [
    "np.unique(df['Comportamento'])"
   ]
  },
  {
   "cell_type": "code",
   "execution_count": 143,
   "id": "dedf005f-b18c-4a91-8355-593c4b21c254",
   "metadata": {},
   "outputs": [],
   "source": [
    "df = df.replace(to_replace=['Ócio','Outro'], value=['Ocio', 'Outros'])"
   ]
  },
  {
   "cell_type": "code",
   "execution_count": 144,
   "id": "f27286a5-5119-4bdc-ae18-2947b0564c1a",
   "metadata": {},
   "outputs": [
    {
     "data": {
      "text/plain": [
       "array(['Spring', 'fall', 'spring', 'spring ', 'summer'], dtype=object)"
      ]
     },
     "execution_count": 144,
     "metadata": {},
     "output_type": "execute_result"
    }
   ],
   "source": [
    "np.unique(df['Season'])"
   ]
  },
  {
   "cell_type": "code",
   "execution_count": 145,
   "id": "8201035e-ea54-4ec0-8ea6-996092512f18",
   "metadata": {},
   "outputs": [],
   "source": [
    "df = df.replace(to_replace=['Spring','spring '], value=['spring', 'spring'])"
   ]
  },
  {
   "cell_type": "markdown",
   "id": "22d24719-f713-4d86-99e3-b1ed35b861f8",
   "metadata": {},
   "source": [
    "#### Divisão entre variáveis preditoras(X) e variáveis de resposta(y)"
   ]
  },
  {
   "cell_type": "code",
   "execution_count": 146,
   "id": "1fa7ee3e-d96d-4326-b2c8-d1298eefa824",
   "metadata": {},
   "outputs": [],
   "source": [
    "X = df[['X', 'Y', 'Z', 'Season']]\n",
    "y = df.Comportamento\n",
    "\n",
    "X_train, X_valid, y_train, y_valid = train_test_split(X, y, random_state = 0)"
   ]
  },
  {
   "cell_type": "markdown",
   "id": "962c11d0-9db2-4887-a8de-9ecf9c302e2c",
   "metadata": {
    "tags": []
   },
   "source": [
    "#### Codificação - Usando One-Hot Encoding"
   ]
  },
  {
   "cell_type": "code",
   "execution_count": 147,
   "id": "9185e3c4-d346-4659-a829-e06baa2ca5e1",
   "metadata": {},
   "outputs": [],
   "source": [
    "from sklearn.preprocessing import OneHotEncoder\n",
    "\n",
    "# Aplica one-hot encoder à coluna Season\n",
    "OH_encoder = OneHotEncoder(handle_unknown='ignore', sparse=False)\n",
    "OH_cols_train = pd.DataFrame(OH_encoder.fit_transform(X_train['Season'].values.reshape(-1,1)))\n",
    "OH_cols_valid = pd.DataFrame(OH_encoder.transform(X_valid['Season'].values.reshape(-1,1)))"
   ]
  },
  {
   "cell_type": "code",
   "execution_count": 148,
   "id": "d58d6a9f-f73b-4ad4-9d63-7666244a2264",
   "metadata": {},
   "outputs": [],
   "source": [
    "# One-hot encoder remove os indices; recuperando-os\n",
    "OH_cols_train.index = X_train.index\n",
    "OH_cols_valid.index = X_valid.index"
   ]
  },
  {
   "cell_type": "code",
   "execution_count": 149,
   "id": "7c157f22-d5b9-4ab7-ab47-aa53ea5d95b5",
   "metadata": {},
   "outputs": [],
   "source": [
    "# Remoção da coluna Season (será substituida com one-hot encoding)\n",
    "num_X_train = X_train.drop('Season', axis=1)\n",
    "num_X_valid = X_valid.drop('Season', axis=1)"
   ]
  },
  {
   "cell_type": "code",
   "execution_count": 150,
   "id": "8d19b1c3-2539-4935-bbd1-73f3258e7408",
   "metadata": {},
   "outputs": [],
   "source": [
    "# Adiciona colunas codificadas por one-hot a features numéricas\n",
    "OH_X_train = pd.concat([num_X_train, OH_cols_train], axis=1)\n",
    "OH_X_valid = pd.concat([num_X_valid, OH_cols_valid], axis=1)"
   ]
  },
  {
   "cell_type": "code",
   "execution_count": 151,
   "id": "53762f30-d09d-4470-a4fc-56f8a4ddf9b3",
   "metadata": {},
   "outputs": [],
   "source": [
    "# Get_dummies é suficente\n",
    "# X = df[['X', 'Y', 'Z', 'Season']]\n",
    "# X = pd.get_dummies(X)"
   ]
  },
  {
   "cell_type": "code",
   "execution_count": 152,
   "id": "71f7936e-0683-4152-8370-71aeb5ea1170",
   "metadata": {},
   "outputs": [],
   "source": [
    "X = df[['X', 'Y', 'Z', 'Season']]\n",
    "y = df.Comportamento\n",
    "\n",
    "# Test size = 0.25\n",
    "X_train, X_valid, y_train, y_valid = train_test_split(X, y, random_state = 0)\n",
    "\n",
    "# Como one-hot encoder foi melhor, usaremos ele\n",
    "X_train = OH_X_train\n",
    "X_valid = OH_X_valid"
   ]
  },
  {
   "cell_type": "markdown",
   "id": "dc2edde3",
   "metadata": {
    "jp-MarkdownHeadingCollapsed": true,
    "tags": []
   },
   "source": [
    "### 2.3 Tratamento de outliers"
   ]
  },
  {
   "cell_type": "code",
   "execution_count": 27,
   "id": "a0cf8558-f692-42eb-849c-c85ecd72d407",
   "metadata": {},
   "outputs": [
    {
     "data": {
      "text/html": [
       "<div>\n",
       "<style scoped>\n",
       "    .dataframe tbody tr th:only-of-type {\n",
       "        vertical-align: middle;\n",
       "    }\n",
       "\n",
       "    .dataframe tbody tr th {\n",
       "        vertical-align: top;\n",
       "    }\n",
       "\n",
       "    .dataframe thead th {\n",
       "        text-align: right;\n",
       "    }\n",
       "</style>\n",
       "<table border=\"1\" class=\"dataframe\">\n",
       "  <thead>\n",
       "    <tr style=\"text-align: right;\">\n",
       "      <th></th>\n",
       "      <th>X</th>\n",
       "      <th>Y</th>\n",
       "      <th>Z</th>\n",
       "      <th>0</th>\n",
       "      <th>1</th>\n",
       "      <th>2</th>\n",
       "    </tr>\n",
       "  </thead>\n",
       "  <tbody>\n",
       "    <tr>\n",
       "      <th>count</th>\n",
       "      <td>500302.000000</td>\n",
       "      <td>500302.000000</td>\n",
       "      <td>500302.000000</td>\n",
       "      <td>500302.000000</td>\n",
       "      <td>500302.000000</td>\n",
       "      <td>500302.000000</td>\n",
       "    </tr>\n",
       "    <tr>\n",
       "      <th>mean</th>\n",
       "      <td>0.003847</td>\n",
       "      <td>0.076661</td>\n",
       "      <td>0.301881</td>\n",
       "      <td>0.397132</td>\n",
       "      <td>0.244940</td>\n",
       "      <td>0.357928</td>\n",
       "    </tr>\n",
       "    <tr>\n",
       "      <th>std</th>\n",
       "      <td>0.576718</td>\n",
       "      <td>0.580535</td>\n",
       "      <td>0.496833</td>\n",
       "      <td>0.489304</td>\n",
       "      <td>0.430052</td>\n",
       "      <td>0.479391</td>\n",
       "    </tr>\n",
       "    <tr>\n",
       "      <th>min</th>\n",
       "      <td>-1.999000</td>\n",
       "      <td>-2.688000</td>\n",
       "      <td>-1.999000</td>\n",
       "      <td>0.000000</td>\n",
       "      <td>0.000000</td>\n",
       "      <td>0.000000</td>\n",
       "    </tr>\n",
       "    <tr>\n",
       "      <th>25%</th>\n",
       "      <td>-0.495000</td>\n",
       "      <td>-0.391000</td>\n",
       "      <td>-0.020000</td>\n",
       "      <td>0.000000</td>\n",
       "      <td>0.000000</td>\n",
       "      <td>0.000000</td>\n",
       "    </tr>\n",
       "    <tr>\n",
       "      <th>50%</th>\n",
       "      <td>0.018000</td>\n",
       "      <td>0.137000</td>\n",
       "      <td>0.407000</td>\n",
       "      <td>0.000000</td>\n",
       "      <td>0.000000</td>\n",
       "      <td>0.000000</td>\n",
       "    </tr>\n",
       "    <tr>\n",
       "      <th>75%</th>\n",
       "      <td>0.475000</td>\n",
       "      <td>0.541000</td>\n",
       "      <td>0.687000</td>\n",
       "      <td>1.000000</td>\n",
       "      <td>0.000000</td>\n",
       "      <td>1.000000</td>\n",
       "    </tr>\n",
       "    <tr>\n",
       "      <th>max</th>\n",
       "      <td>2.106000</td>\n",
       "      <td>2.000000</td>\n",
       "      <td>2.020000</td>\n",
       "      <td>1.000000</td>\n",
       "      <td>1.000000</td>\n",
       "      <td>1.000000</td>\n",
       "    </tr>\n",
       "  </tbody>\n",
       "</table>\n",
       "</div>"
      ],
      "text/plain": [
       "                   X              Y              Z              0  \\\n",
       "count  500302.000000  500302.000000  500302.000000  500302.000000   \n",
       "mean        0.003847       0.076661       0.301881       0.397132   \n",
       "std         0.576718       0.580535       0.496833       0.489304   \n",
       "min        -1.999000      -2.688000      -1.999000       0.000000   \n",
       "25%        -0.495000      -0.391000      -0.020000       0.000000   \n",
       "50%         0.018000       0.137000       0.407000       0.000000   \n",
       "75%         0.475000       0.541000       0.687000       1.000000   \n",
       "max         2.106000       2.000000       2.020000       1.000000   \n",
       "\n",
       "                   1              2  \n",
       "count  500302.000000  500302.000000  \n",
       "mean        0.244940       0.357928  \n",
       "std         0.430052       0.479391  \n",
       "min         0.000000       0.000000  \n",
       "25%         0.000000       0.000000  \n",
       "50%         0.000000       0.000000  \n",
       "75%         0.000000       1.000000  \n",
       "max         1.000000       1.000000  "
      ]
     },
     "execution_count": 27,
     "metadata": {},
     "output_type": "execute_result"
    }
   ],
   "source": [
    "X_train.describe()"
   ]
  },
  {
   "cell_type": "code",
   "execution_count": 68,
   "id": "f57dc874-b077-4c8f-9131-44e61c09d8a7",
   "metadata": {},
   "outputs": [],
   "source": [
    "import seaborn as sns\n",
    "import matplotlib.pyplot as plt\n",
    "sns.set_theme(style=\"darkgrid\", palette=\"rainbow\")\n",
    "%matplotlib inline"
   ]
  },
  {
   "cell_type": "code",
   "execution_count": 69,
   "id": "b292c883-e43a-455a-bacf-25bf7f919b23",
   "metadata": {},
   "outputs": [
    {
     "data": {
      "image/png": "[encoded data removed]",
      "text/plain": [
       "<Figure size 1080x504 with 3 Axes>"
      ]
     },
     "metadata": {
      "needs_background": "light"
     },
     "output_type": "display_data"
    }
   ],
   "source": [
    "plt.figure(figsize=(15,7))\n",
    "plt.subplot(1,3,1)\n",
    "plt.title(\"Distribuição de X\", fontsize=15)\n",
    "sns.kdeplot(data = df[\"X\"])\n",
    "plt.subplot(1,3,2)\n",
    "plt.title(\"Distribuição de Y\", fontsize=15)\n",
    "sns.kdeplot(data = df[\"Y\"])\n",
    "plt.subplot(1,3,3)\n",
    "plt.title(\"Distribuição de Z\", fontsize=15)\n",
    "sns.kdeplot(data = df[\"Z\"])\n",
    "plt.show()"
   ]
  },
  {
   "cell_type": "markdown",
   "id": "f6318aa4-996b-45ad-b3f1-b6835dea0be2",
   "metadata": {
    "tags": []
   },
   "source": [
    "#### Inter-Quartile Range (IQR)"
   ]
  },
  {
   "cell_type": "code",
   "execution_count": 25,
   "id": "a963e8d3-db5d-4e66-9319-5611789176dc",
   "metadata": {},
   "outputs": [],
   "source": [
    "q1 = X_train.X.quantile(0.25)\n",
    "q3 = X_train.X.quantile(0.75)\n",
    "\n",
    "IQR = q3 - q1\n",
    "\n",
    "max_limit = q3 + (1.5 * IQR)\n",
    "min_limit = q1 - (1.5 * IQR) "
   ]
  },
  {
   "cell_type": "code",
   "execution_count": 28,
   "id": "dbb2a181-4441-4b3d-8957-5df8143475fe",
   "metadata": {},
   "outputs": [],
   "source": [
    "X_trainde passa do limite inserir o limite\n",
    "X_train.X = pd.DataFrame(np.where(X_train.X > max_limit, max_limit, \n",
    "         (np.where(X_train.X < min_limit, min_limit, X_train.X))), columns=[\"X\"])"
   ]
  },
  {
   "cell_type": "markdown",
   "id": "b4ddef09-fd1e-40c2-a82e-1158486e2e44",
   "metadata": {
    "tags": []
   },
   "source": [
    "#### Usando Isolation Forest"
   ]
  },
  {
   "cell_type": "code",
   "execution_count": 70,
   "id": "c283cdb3",
   "metadata": {},
   "outputs": [
    {
     "data": {
      "text/html": [
       "<div>\n",
       "<style scoped>\n",
       "    .dataframe tbody tr th:only-of-type {\n",
       "        vertical-align: middle;\n",
       "    }\n",
       "\n",
       "    .dataframe tbody tr th {\n",
       "        vertical-align: top;\n",
       "    }\n",
       "\n",
       "    .dataframe thead th {\n",
       "        text-align: right;\n",
       "    }\n",
       "</style>\n",
       "<table border=\"1\" class=\"dataframe\">\n",
       "  <thead>\n",
       "    <tr style=\"text-align: right;\">\n",
       "      <th></th>\n",
       "      <th>X</th>\n",
       "      <th>Y</th>\n",
       "      <th>Z</th>\n",
       "      <th>0</th>\n",
       "      <th>1</th>\n",
       "      <th>2</th>\n",
       "    </tr>\n",
       "  </thead>\n",
       "  <tbody>\n",
       "    <tr>\n",
       "      <th>count</th>\n",
       "      <td>500302.000000</td>\n",
       "      <td>500302.000000</td>\n",
       "      <td>500302.000000</td>\n",
       "      <td>500302.000000</td>\n",
       "      <td>500302.000000</td>\n",
       "      <td>500302.000000</td>\n",
       "    </tr>\n",
       "    <tr>\n",
       "      <th>mean</th>\n",
       "      <td>0.003847</td>\n",
       "      <td>0.076661</td>\n",
       "      <td>0.301881</td>\n",
       "      <td>0.397132</td>\n",
       "      <td>0.244940</td>\n",
       "      <td>0.357928</td>\n",
       "    </tr>\n",
       "    <tr>\n",
       "      <th>std</th>\n",
       "      <td>0.576718</td>\n",
       "      <td>0.580535</td>\n",
       "      <td>0.496833</td>\n",
       "      <td>0.489304</td>\n",
       "      <td>0.430052</td>\n",
       "      <td>0.479391</td>\n",
       "    </tr>\n",
       "    <tr>\n",
       "      <th>min</th>\n",
       "      <td>-1.999000</td>\n",
       "      <td>-2.688000</td>\n",
       "      <td>-1.999000</td>\n",
       "      <td>0.000000</td>\n",
       "      <td>0.000000</td>\n",
       "      <td>0.000000</td>\n",
       "    </tr>\n",
       "    <tr>\n",
       "      <th>25%</th>\n",
       "      <td>-0.495000</td>\n",
       "      <td>-0.391000</td>\n",
       "      <td>-0.020000</td>\n",
       "      <td>0.000000</td>\n",
       "      <td>0.000000</td>\n",
       "      <td>0.000000</td>\n",
       "    </tr>\n",
       "    <tr>\n",
       "      <th>50%</th>\n",
       "      <td>0.018000</td>\n",
       "      <td>0.137000</td>\n",
       "      <td>0.407000</td>\n",
       "      <td>0.000000</td>\n",
       "      <td>0.000000</td>\n",
       "      <td>0.000000</td>\n",
       "    </tr>\n",
       "    <tr>\n",
       "      <th>75%</th>\n",
       "      <td>0.475000</td>\n",
       "      <td>0.541000</td>\n",
       "      <td>0.687000</td>\n",
       "      <td>1.000000</td>\n",
       "      <td>0.000000</td>\n",
       "      <td>1.000000</td>\n",
       "    </tr>\n",
       "    <tr>\n",
       "      <th>max</th>\n",
       "      <td>2.106000</td>\n",
       "      <td>2.000000</td>\n",
       "      <td>2.020000</td>\n",
       "      <td>1.000000</td>\n",
       "      <td>1.000000</td>\n",
       "      <td>1.000000</td>\n",
       "    </tr>\n",
       "  </tbody>\n",
       "</table>\n",
       "</div>"
      ],
      "text/plain": [
       "                   X              Y              Z              0  \\\n",
       "count  500302.000000  500302.000000  500302.000000  500302.000000   \n",
       "mean        0.003847       0.076661       0.301881       0.397132   \n",
       "std         0.576718       0.580535       0.496833       0.489304   \n",
       "min        -1.999000      -2.688000      -1.999000       0.000000   \n",
       "25%        -0.495000      -0.391000      -0.020000       0.000000   \n",
       "50%         0.018000       0.137000       0.407000       0.000000   \n",
       "75%         0.475000       0.541000       0.687000       1.000000   \n",
       "max         2.106000       2.000000       2.020000       1.000000   \n",
       "\n",
       "                   1              2  \n",
       "count  500302.000000  500302.000000  \n",
       "mean        0.244940       0.357928  \n",
       "std         0.430052       0.479391  \n",
       "min         0.000000       0.000000  \n",
       "25%         0.000000       0.000000  \n",
       "50%         0.000000       0.000000  \n",
       "75%         0.000000       1.000000  \n",
       "max         1.000000       1.000000  "
      ]
     },
     "execution_count": 70,
     "metadata": {},
     "output_type": "execute_result"
    }
   ],
   "source": [
    "X_train.describe()"
   ]
  },
  {
   "cell_type": "code",
   "execution_count": 72,
   "id": "6caa45a0-59cc-439c-9723-351559877757",
   "metadata": {},
   "outputs": [],
   "source": [
    "X_train_array, y_train_array = X_train.values, y_train.values"
   ]
  },
  {
   "cell_type": "code",
   "execution_count": 73,
   "id": "7bf642ee-3c5c-40d6-b68b-58e2fecde749",
   "metadata": {},
   "outputs": [
    {
     "name": "stdout",
     "output_type": "stream",
     "text": [
      "(500302, 6) (500302,)\n"
     ]
    }
   ],
   "source": [
    "print(X_train_array.shape, y_train_array.shape)"
   ]
  },
  {
   "cell_type": "code",
   "execution_count": 74,
   "id": "321b27ac-8c0b-4fb3-b5bf-d56d415444df",
   "metadata": {},
   "outputs": [],
   "source": [
    "from sklearn.ensemble import IsolationForest\n",
    "# Identifica outliers no dataset de treino\n",
    "iso = IsolationForest(contamination=0.1)\n",
    "result = iso.fit_predict(X_train_array)"
   ]
  },
  {
   "cell_type": "code",
   "execution_count": 75,
   "id": "5ee296e7-585f-49d9-9fa4-ea253ab338df",
   "metadata": {},
   "outputs": [
    {
     "name": "stdout",
     "output_type": "stream",
     "text": [
      "(450273, 6) (450273,)\n"
     ]
    }
   ],
   "source": [
    "# Remove todas as linhas que têm outliers\n",
    "mask = result != -1\n",
    "X_train_array, y_train_array = X_train_array[mask, :], y_train_array[mask]\n",
    "print(X_train_array.shape, y_train_array.shape)"
   ]
  },
  {
   "cell_type": "code",
   "execution_count": 76,
   "id": "39e2bfdf-4466-443b-b140-0b6fa3125df9",
   "metadata": {},
   "outputs": [
    {
     "data": {
      "text/plain": [
       "array([[ 0.804,  0.328,  0.264,  0.   ,  0.   ,  1.   ],\n",
       "       [-0.536, -0.05 ,  0.832,  1.   ,  0.   ,  0.   ],\n",
       "       [ 0.911, -0.38 ,  0.077,  0.   ,  1.   ,  0.   ],\n",
       "       ...,\n",
       "       [ 0.092,  0.082,  0.963,  0.   ,  1.   ,  0.   ],\n",
       "       [-0.197, -0.829,  0.809,  1.   ,  0.   ,  0.   ],\n",
       "       [ 0.715,  0.549, -0.379,  0.   ,  0.   ,  1.   ]])"
      ]
     },
     "execution_count": 76,
     "metadata": {},
     "output_type": "execute_result"
    }
   ],
   "source": [
    "X_train_array"
   ]
  },
  {
   "cell_type": "code",
   "execution_count": 31,
   "id": "b449c933-00be-4d74-bb55-cba83e72f241",
   "metadata": {},
   "outputs": [],
   "source": [
    "cols_name = X_train.columns"
   ]
  },
  {
   "cell_type": "code",
   "execution_count": 32,
   "id": "7a3a545e-854b-4e45-bff0-258442327da1",
   "metadata": {},
   "outputs": [
    {
     "data": {
      "text/plain": [
       "Index(['X', 'Y', 'Z', 0, 1, 2], dtype='object')"
      ]
     },
     "execution_count": 32,
     "metadata": {},
     "output_type": "execute_result"
    }
   ],
   "source": [
    "cols_name"
   ]
  },
  {
   "cell_type": "code",
   "execution_count": 33,
   "id": "5597b344-cec5-455f-b86c-86849559ee53",
   "metadata": {},
   "outputs": [],
   "source": [
    "X_train = pd.DataFrame(X_train_array, columns=cols_name)"
   ]
  },
  {
   "cell_type": "code",
   "execution_count": 34,
   "id": "e89ef28f-6809-493a-b132-578a5ef603b6",
   "metadata": {},
   "outputs": [
    {
     "data": {
      "text/html": [
       "<div>\n",
       "<style scoped>\n",
       "    .dataframe tbody tr th:only-of-type {\n",
       "        vertical-align: middle;\n",
       "    }\n",
       "\n",
       "    .dataframe tbody tr th {\n",
       "        vertical-align: top;\n",
       "    }\n",
       "\n",
       "    .dataframe thead th {\n",
       "        text-align: right;\n",
       "    }\n",
       "</style>\n",
       "<table border=\"1\" class=\"dataframe\">\n",
       "  <thead>\n",
       "    <tr style=\"text-align: right;\">\n",
       "      <th></th>\n",
       "      <th>X</th>\n",
       "      <th>Y</th>\n",
       "      <th>Z</th>\n",
       "      <th>0</th>\n",
       "      <th>1</th>\n",
       "      <th>2</th>\n",
       "    </tr>\n",
       "  </thead>\n",
       "  <tbody>\n",
       "    <tr>\n",
       "      <th>count</th>\n",
       "      <td>450271.000000</td>\n",
       "      <td>450271.000000</td>\n",
       "      <td>450271.000000</td>\n",
       "      <td>450271.000000</td>\n",
       "      <td>450271.000000</td>\n",
       "      <td>450271.000000</td>\n",
       "    </tr>\n",
       "    <tr>\n",
       "      <th>mean</th>\n",
       "      <td>0.019052</td>\n",
       "      <td>0.087966</td>\n",
       "      <td>0.358427</td>\n",
       "      <td>0.409185</td>\n",
       "      <td>0.210353</td>\n",
       "      <td>0.380462</td>\n",
       "    </tr>\n",
       "    <tr>\n",
       "      <th>std</th>\n",
       "      <td>0.568637</td>\n",
       "      <td>0.562688</td>\n",
       "      <td>0.439900</td>\n",
       "      <td>0.491684</td>\n",
       "      <td>0.407560</td>\n",
       "      <td>0.485501</td>\n",
       "    </tr>\n",
       "    <tr>\n",
       "      <th>min</th>\n",
       "      <td>-1.999000</td>\n",
       "      <td>-1.999000</td>\n",
       "      <td>-0.986000</td>\n",
       "      <td>0.000000</td>\n",
       "      <td>0.000000</td>\n",
       "      <td>0.000000</td>\n",
       "    </tr>\n",
       "    <tr>\n",
       "      <th>25%</th>\n",
       "      <td>-0.481000</td>\n",
       "      <td>-0.365000</td>\n",
       "      <td>0.076000</td>\n",
       "      <td>0.000000</td>\n",
       "      <td>0.000000</td>\n",
       "      <td>0.000000</td>\n",
       "    </tr>\n",
       "    <tr>\n",
       "      <th>50%</th>\n",
       "      <td>0.049000</td>\n",
       "      <td>0.157000</td>\n",
       "      <td>0.449000</td>\n",
       "      <td>0.000000</td>\n",
       "      <td>0.000000</td>\n",
       "      <td>0.000000</td>\n",
       "    </tr>\n",
       "    <tr>\n",
       "      <th>75%</th>\n",
       "      <td>0.489000</td>\n",
       "      <td>0.542000</td>\n",
       "      <td>0.700000</td>\n",
       "      <td>1.000000</td>\n",
       "      <td>0.000000</td>\n",
       "      <td>1.000000</td>\n",
       "    </tr>\n",
       "    <tr>\n",
       "      <th>max</th>\n",
       "      <td>2.000000</td>\n",
       "      <td>2.000000</td>\n",
       "      <td>2.000000</td>\n",
       "      <td>1.000000</td>\n",
       "      <td>1.000000</td>\n",
       "      <td>1.000000</td>\n",
       "    </tr>\n",
       "  </tbody>\n",
       "</table>\n",
       "</div>"
      ],
      "text/plain": [
       "                   X              Y              Z              0  \\\n",
       "count  450271.000000  450271.000000  450271.000000  450271.000000   \n",
       "mean        0.019052       0.087966       0.358427       0.409185   \n",
       "std         0.568637       0.562688       0.439900       0.491684   \n",
       "min        -1.999000      -1.999000      -0.986000       0.000000   \n",
       "25%        -0.481000      -0.365000       0.076000       0.000000   \n",
       "50%         0.049000       0.157000       0.449000       0.000000   \n",
       "75%         0.489000       0.542000       0.700000       1.000000   \n",
       "max         2.000000       2.000000       2.000000       1.000000   \n",
       "\n",
       "                   1              2  \n",
       "count  450271.000000  450271.000000  \n",
       "mean        0.210353       0.380462  \n",
       "std         0.407560       0.485501  \n",
       "min         0.000000       0.000000  \n",
       "25%         0.000000       0.000000  \n",
       "50%         0.000000       0.000000  \n",
       "75%         0.000000       1.000000  \n",
       "max         1.000000       1.000000  "
      ]
     },
     "execution_count": 34,
     "metadata": {},
     "output_type": "execute_result"
    }
   ],
   "source": [
    "X_train.describe()"
   ]
  },
  {
   "cell_type": "code",
   "execution_count": 44,
   "id": "f442c954-36be-4fae-af08-71d68e377f70",
   "metadata": {},
   "outputs": [],
   "source": [
    "y_train = pd.Series(y_train_array)"
   ]
  },
  {
   "cell_type": "code",
   "execution_count": 45,
   "id": "b92ed8c1-57a8-4aa8-9bc4-db7d226f2dca",
   "metadata": {},
   "outputs": [
    {
     "name": "stdout",
     "output_type": "stream",
     "text": [
      "Acurácio da etapa:\n",
      "67.61668905305575\n"
     ]
    }
   ],
   "source": [
    "calc_acuracia(X_train, X_valid, y_train, y_valid)"
   ]
  },
  {
   "cell_type": "markdown",
   "id": "57a86d87-1fec-4722-b1a5-93a016590c27",
   "metadata": {},
   "source": [
    "#### Usando quartis"
   ]
  },
  {
   "cell_type": "code",
   "execution_count": 84,
   "id": "bf257ecb-7401-4fd2-82a7-c30cc2fdc6c1",
   "metadata": {},
   "outputs": [],
   "source": [
    "df_train = X_train.merge(y_train, left_index=True, right_index=True)"
   ]
  },
  {
   "cell_type": "code",
   "execution_count": 85,
   "id": "3daff487-bd4a-44fa-806f-733e2c7c96af",
   "metadata": {},
   "outputs": [],
   "source": [
    "# Calculo de limites para definição de outliers\n",
    "# Seleciona dados que estão e 1% e 99% do dados\n",
    "min = 0.01\n",
    "max = 0.99\n",
    "X_min_thresold, X_max_thresold = df_train.X.quantile([min, max])\n",
    "Y_min_thresold, Y_max_thresold = df_train.Y.quantile([min, max])\n",
    "Z_min_thresold, Z_max_thresold = df_train.Z.quantile([min, max])\n"
   ]
  },
  {
   "cell_type": "code",
   "execution_count": 86,
   "id": "96bfaa22",
   "metadata": {},
   "outputs": [
    {
     "data": {
      "text/plain": [
       "(472035, 7)"
      ]
     },
     "execution_count": 86,
     "metadata": {},
     "output_type": "execute_result"
    }
   ],
   "source": [
    "# Remoção de outliers em X\n",
    "df_train = df_train[(df_train.X<X_max_thresold) & (df_train.X>X_min_thresold)]\n",
    "df_train = df_train[(df_train.Y<Y_max_thresold) & (df_train.Y>Y_min_thresold)]\n",
    "df_train = df_train[(df_train.Z<Z_max_thresold) & (df_train.Z>Z_min_thresold)]\n",
    "df_train.shape\n"
   ]
  },
  {
   "cell_type": "code",
   "execution_count": 87,
   "id": "c5930db1-cea9-4c92-a98f-55968050bd6f",
   "metadata": {},
   "outputs": [
    {
     "data": {
      "text/plain": [
       "328177    Pastejando\n",
       "532835          Ocio\n",
       "23970           Ocio\n",
       "337582    Pastejando\n",
       "101243    Pastejando\n",
       "             ...    \n",
       "365749    Pastejando\n",
       "158281          Ocio\n",
       "123465    Pastejando\n",
       "441795    Pastejando\n",
       "311677     Ruminando\n",
       "Name: Comportamento, Length: 500302, dtype: object"
      ]
     },
     "execution_count": 87,
     "metadata": {},
     "output_type": "execute_result"
    }
   ],
   "source": [
    "y_train"
   ]
  },
  {
   "cell_type": "code",
   "execution_count": 94,
   "id": "5a20dea1-dc60-40c0-84fd-b765c248b446",
   "metadata": {},
   "outputs": [],
   "source": [
    "y_train = df_train.Comportamento\n",
    "df_train.drop('Comportamento', axis=1, inplace=True)\n",
    "X_train = df_train"
   ]
  },
  {
   "cell_type": "code",
   "execution_count": 95,
   "id": "01396e4e-1711-44cf-8fef-f4ba01a9d81f",
   "metadata": {},
   "outputs": [
    {
     "name": "stdout",
     "output_type": "stream",
     "text": [
      "Acurácio da etapa:\n",
      "68.62347692602897\n"
     ]
    }
   ],
   "source": [
    "calc_acuracia(X_train, X_valid, y_train, y_valid)"
   ]
  },
  {
   "cell_type": "markdown",
   "id": "daf57872-69b3-47bd-b299-0195e63359ad",
   "metadata": {
    "tags": []
   },
   "source": [
    "### 2.4 Transformação"
   ]
  },
  {
   "cell_type": "markdown",
   "id": "197747b9-d2f8-4c56-a4ba-85468d57b859",
   "metadata": {},
   "source": [
    "from sklearn.preprocessing import StandardScaler\n",
    "scaler = StandardScaler()"
   ]
  },
  {
   "cell_type": "markdown",
   "id": "e3a7ac5f-75d3-45c5-b270-9f08d19c7f37",
   "metadata": {},
   "source": [
    "scaler.fit(X_train)\n",
    "X_train = scaler.transform(X_train)\n",
    "scaler.fit(X_valid)\n",
    "X_valid = scaler.transform(X_valid)\n",
    "calc_acuracia(X_train, X_valid, y_train, y_valid)"
   ]
  },
  {
   "cell_type": "markdown",
   "id": "ca451330-c762-40af-9874-10be96555ec2",
   "metadata": {
    "jp-MarkdownHeadingCollapsed": true,
    "tags": []
   },
   "source": [
    "## Passo 3: Treinamento"
   ]
  },
  {
   "cell_type": "code",
   "execution_count": 153,
   "id": "a1e5f1c1-44e0-4e38-b5f2-e40472fad99d",
   "metadata": {},
   "outputs": [],
   "source": [
    "X = pd.concat([X_train, X_valid])\n",
    "y = pd.concat([y_train, y_valid])"
   ]
  },
  {
   "cell_type": "code",
   "execution_count": 154,
   "id": "3a282c0c-92c1-48d0-a730-8a6ff01fbb93",
   "metadata": {},
   "outputs": [],
   "source": [
    "# Importa o Halving Grid Search para a busca do melhores hiperparêmetros\n",
    "from sklearn.experimental import enable_halving_search_cv # noqa\n",
    "from sklearn.model_selection import HalvingGridSearchCV "
   ]
  },
  {
   "cell_type": "code",
   "execution_count": 155,
   "id": "cef1bcb1-214c-4b44-86e3-a3aeaa466783",
   "metadata": {},
   "outputs": [],
   "source": [
    "# Conjunto com todas as classes\n",
    "X_train, X_valid, y_train, y_valid = train_test_split(X, y, random_state = 0)"
   ]
  },
  {
   "cell_type": "code",
   "execution_count": 26,
   "id": "536c5095-8d9a-4422-a153-74c1368042d1",
   "metadata": {},
   "outputs": [],
   "source": [
    "# Conjunto de dados PNP: Pastejando x Não Pastejando\n",
    "y_pnp = y\n",
    "y_pnp = y_pnp.replace(to_replace=['Agua', 'Locomovendo', 'Ocio', 'Outros','Ruminando'], value='Não Pastejando')\n",
    "X_train, X_valid, y_train, y_valid = train_test_split(X, y_pnp, random_state = 0)"
   ]
  },
  {
   "cell_type": "code",
   "execution_count": 77,
   "id": "8cd654ec-a8cf-496e-91ec-36e0f1e35073",
   "metadata": {},
   "outputs": [],
   "source": [
    "# 4.2 – Conjunto de dados PRO: Pastejando x Ruminando x Ócio\n",
    "y_pro = y\n",
    "y_pro = y_pro.replace(to_replace=['Agua', 'Locomovendo', 'Outros'], value='Ocio')\n",
    "X_train, X_valid, y_train, y_valid = train_test_split(X, y_pro, random_state = 0)"
   ]
  },
  {
   "cell_type": "markdown",
   "id": "1d4b4f8b-fd54-47b7-9ff6-65725ee32629",
   "metadata": {
    "jp-MarkdownHeadingCollapsed": true,
    "tags": []
   },
   "source": [
    "### Função para imprimir e salvar matriz de confusão"
   ]
  },
  {
   "cell_type": "code",
   "execution_count": 161,
   "id": "e283144e-99df-4306-a793-76ef39f603f2",
   "metadata": {},
   "outputs": [],
   "source": [
    "# Função para imprimir e salvar matriz de confusão\n",
    "def imprimeMatrizDeConfusão(y_valid, preds, model):\n",
    "    from sklearn.metrics import confusion_matrix\n",
    "    from sklearn.metrics import ConfusionMatrixDisplay\n",
    "    import matplotlib.pyplot as plt\n",
    "\n",
    "    titles_options = [\n",
    "        (\"Matriz de confusão, sem normalização\", None),\n",
    "        (\"Matriz de confusão normalizada por predição\", \"pred\"),\n",
    "    ]\n",
    "    for title, normalize in titles_options:\n",
    "        cm = confusion_matrix(y_valid, preds, normalize=normalize)\n",
    "        disp = ConfusionMatrixDisplay(confusion_matrix=cm, display_labels=model.classes_)\n",
    "        if normalize == None:\n",
    "            disp.plot(xticks_rotation=60)\n",
    "        else:\n",
    "            disp.plot(values_format= '.0%', xticks_rotation=60)\n",
    "        disp.ax_.set_title(title)\n",
    "    plt.savefig('matrizConfusaoRandomForest.png')\n",
    "    plt.show()"
   ]
  },
  {
   "cell_type": "markdown",
   "id": "afdab152-ea4b-446d-aec5-643f102c4381",
   "metadata": {
    "jp-MarkdownHeadingCollapsed": true,
    "tags": []
   },
   "source": [
    "### Random Forest"
   ]
  },
  {
   "cell_type": "markdown",
   "id": "d0c45a93-2c53-424c-9407-90e1e0ea87dc",
   "metadata": {
    "tags": []
   },
   "source": [
    "#### Com Randomized Search CV"
   ]
  },
  {
   "cell_type": "code",
   "execution_count": 96,
   "id": "2c4160b6-81d3-4d78-a051-46133ae0a268",
   "metadata": {},
   "outputs": [],
   "source": [
    "X_train, X_valid, y_train, y_valid = train_test_split(X, y, random_state = 0, train_size=0.20)"
   ]
  },
  {
   "cell_type": "code",
   "execution_count": 97,
   "id": "d50277a0-bfd6-4a86-b935-898682f486a3",
   "metadata": {},
   "outputs": [
    {
     "data": {
      "text/plain": [
       "(133414, 6)"
      ]
     },
     "execution_count": 97,
     "metadata": {},
     "output_type": "execute_result"
    }
   ],
   "source": [
    "X_train.shape"
   ]
  },
  {
   "cell_type": "code",
   "execution_count": 98,
   "id": "f5661f09-f348-4875-9250-57dc021c9bb0",
   "metadata": {},
   "outputs": [],
   "source": [
    "rf_Model = RandomForestClassifier(random_state=0)"
   ]
  },
  {
   "cell_type": "code",
   "execution_count": 99,
   "id": "8eb993ac-67b5-48b0-b4eb-63f64927f82f",
   "metadata": {},
   "outputs": [],
   "source": [
    "# Create the param grid\n",
    "param_grid = {'n_estimators':  np.arange(50, 250, 50),\n",
    "               'max_features': ['auto', 'sqrt'],\n",
    "               'max_depth':[50, 100, 150, None],\n",
    "               'criterion': ['gini', 'entropy'],\n",
    "               'min_samples_split': [2, 5, 10, 30, 50],\n",
    "               'min_samples_leaf': [1, 2],\n",
    "               'bootstrap': [True, False]}"
   ]
  },
  {
   "cell_type": "code",
   "execution_count": 100,
   "id": "ae4934d7-d8b1-4bfb-a4a9-bca0e9490465",
   "metadata": {},
   "outputs": [],
   "source": [
    "from sklearn.model_selection import RandomizedSearchCV\n",
    "rf_RandomGrid = RandomizedSearchCV(estimator = rf_Model, param_distributions = param_grid, cv = 3, verbose=1, n_jobs = 4)"
   ]
  },
  {
   "cell_type": "code",
   "execution_count": 101,
   "id": "3df05113-5921-4de5-bb41-e0877001a4e4",
   "metadata": {},
   "outputs": [
    {
     "name": "stdout",
     "output_type": "stream",
     "text": [
      "Fitting 3 folds for each of 10 candidates, totalling 30 fits\n",
      "CPU times: user 55.7 s, sys: 99.8 ms, total: 55.8 s\n",
      "Wall time: 4min 24s\n"
     ]
    },
    {
     "data": {
      "text/plain": [
       "RandomizedSearchCV(cv=3, estimator=RandomForestClassifier(random_state=0),\n",
       "                   n_jobs=4,\n",
       "                   param_distributions={'bootstrap': [True, False],\n",
       "                                        'criterion': ['gini', 'entropy'],\n",
       "                                        'max_depth': [50, 100, 150, None],\n",
       "                                        'max_features': ['auto', 'sqrt'],\n",
       "                                        'min_samples_leaf': [1, 2],\n",
       "                                        'min_samples_split': [2, 5, 10, 30, 50],\n",
       "                                        'n_estimators': array([ 50, 100, 150, 200])},\n",
       "                   verbose=1)"
      ]
     },
     "execution_count": 101,
     "metadata": {},
     "output_type": "execute_result"
    }
   ],
   "source": [
    "%%time\n",
    "rf_RandomGrid.fit(X_train, y_train)"
   ]
  },
  {
   "cell_type": "code",
   "execution_count": 102,
   "id": "afd02cda-8e00-4202-bb9d-5424d5ddfaef",
   "metadata": {},
   "outputs": [
    {
     "data": {
      "text/plain": [
       "{'n_estimators': 150,\n",
       " 'min_samples_split': 30,\n",
       " 'min_samples_leaf': 2,\n",
       " 'max_features': 'sqrt',\n",
       " 'max_depth': 150,\n",
       " 'criterion': 'entropy',\n",
       " 'bootstrap': False}"
      ]
     },
     "execution_count": 102,
     "metadata": {},
     "output_type": "execute_result"
    }
   ],
   "source": [
    "rf_RandomGrid.best_params_"
   ]
  },
  {
   "cell_type": "code",
   "execution_count": 103,
   "id": "bd3dc618-4198-4272-8b5b-381d86a40d69",
   "metadata": {},
   "outputs": [
    {
     "data": {
      "text/plain": [
       "0.6681008077436279"
      ]
     },
     "execution_count": 103,
     "metadata": {},
     "output_type": "execute_result"
    }
   ],
   "source": [
    "rf_RandomGrid.best_score_"
   ]
  },
  {
   "cell_type": "code",
   "execution_count": 104,
   "id": "abf8ebb5-6239-44ae-a6f9-7a78632847e5",
   "metadata": {},
   "outputs": [],
   "source": [
    "preds_rf_RG = rf_RandomGrid.predict(X_valid)"
   ]
  },
  {
   "cell_type": "code",
   "execution_count": 105,
   "id": "a35ba67f-7188-494d-8614-5b01b4d4c723",
   "metadata": {},
   "outputs": [
    {
     "data": {
      "text/plain": [
       "67.2352601675986"
      ]
     },
     "execution_count": 105,
     "metadata": {},
     "output_type": "execute_result"
    }
   ],
   "source": [
    "accuracy_score(y_valid, preds_rf_RG)*100"
   ]
  },
  {
   "cell_type": "code",
   "execution_count": 106,
   "id": "440e2291-1299-4704-a806-9e3a77f57e02",
   "metadata": {},
   "outputs": [
    {
     "data": {
      "image/png": "[encoded data removed]",
      "text/plain": [
       "<Figure size 432x288 with 2 Axes>"
      ]
     },
     "metadata": {
      "needs_background": "light"
     },
     "output_type": "display_data"
    },
    {
     "data": {
      "image/png": "[encoded data removed]",
      "text/plain": [
       "<Figure size 432x288 with 2 Axes>"
      ]
     },
     "metadata": {
      "needs_background": "light"
     },
     "output_type": "display_data"
    }
   ],
   "source": [
    "imprimeMatrizDeConfusão(y_valid, preds_rf_RG, rf_RandomGrid)"
   ]
  },
  {
   "cell_type": "markdown",
   "id": "f5a20270-82b4-4438-aed9-c8216111ca35",
   "metadata": {},
   "source": [
    "#### Sem Randomized Search CV"
   ]
  },
  {
   "cell_type": "code",
   "execution_count": 91,
   "id": "9889eeb1",
   "metadata": {
    "tags": []
   },
   "outputs": [],
   "source": [
    "model = RandomForestClassifier(n_estimators=150, random_state=0, n_jobs=4)\n",
    "model.fit(X_train, y_train)\n",
    "preds = model.predict(X_valid)"
   ]
  },
  {
   "cell_type": "code",
   "execution_count": 92,
   "id": "cd276841-6d47-4ca6-8390-aed368981f85",
   "metadata": {},
   "outputs": [
    {
     "data": {
      "text/plain": [
       "67.32726700346291"
      ]
     },
     "execution_count": 92,
     "metadata": {},
     "output_type": "execute_result"
    }
   ],
   "source": [
    "accuracy_score(y_valid, preds)*100"
   ]
  },
  {
   "cell_type": "code",
   "execution_count": null,
   "id": "800b8808-7dbe-482b-8260-f0cd578a930f",
   "metadata": {},
   "outputs": [
    {
     "data": {
      "image/png": "[encoded data removed]",
      "text/plain": [
       "<Figure size 432x288 with 2 Axes>"
      ]
     },
     "metadata": {
      "needs_background": "light"
     },
     "output_type": "display_data"
    },
    {
     "data": {
      "image/png": "[encoded data removed]",
      "text/plain": [
       "<Figure size 432x288 with 2 Axes>"
      ]
     },
     "metadata": {
      "needs_background": "light"
     },
     "output_type": "display_data"
    }
   ],
   "source": [
    "imprimeMatrizDeConfusão(y_valid, preds, model)"
   ]
  },
  {
   "cell_type": "markdown",
   "id": "4d6c20f5-0d59-4073-aac9-88750f936bab",
   "metadata": {
    "jp-MarkdownHeadingCollapsed": true,
    "tags": []
   },
   "source": [
    "### Gradient Boosting"
   ]
  },
  {
   "cell_type": "code",
   "execution_count": 42,
   "id": "c44b77a8-a8c4-4436-a880-91eb11574810",
   "metadata": {},
   "outputs": [
    {
     "name": "stdout",
     "output_type": "stream",
     "text": [
      "[11:04:30] WARNING: /tmp/build/80754af9/xgboost-split_1619724447847/work/src/learner.cc:1061: Starting in XGBoost 1.3.0, the default evaluation metric used with the objective 'multi:softprob' was changed from 'merror' to 'mlogloss'. Explicitly set eval_metric if you'd like to restore the old behavior.\n"
     ]
    },
    {
     "data": {
      "text/plain": [
       "XGBClassifier(base_score=0.5, booster='gbtree', colsample_bylevel=1,\n",
       "              colsample_bynode=1, colsample_bytree=1, gamma=0, gpu_id=-1,\n",
       "              importance_type='gain', interaction_constraints='',\n",
       "              learning_rate=0.300000012, max_delta_step=0, max_depth=6,\n",
       "              min_child_weight=1, missing=nan, monotone_constraints='()',\n",
       "              n_estimators=100, n_jobs=8, num_parallel_tree=1,\n",
       "              objective='multi:softprob', random_state=0, reg_alpha=0,\n",
       "              reg_lambda=1, scale_pos_weight=None, subsample=1,\n",
       "              tree_method='exact', use_label_encoder=False,\n",
       "              validate_parameters=1, verbosity=None)"
      ]
     },
     "execution_count": 42,
     "metadata": {},
     "output_type": "execute_result"
    }
   ],
   "source": [
    "from xgboost import XGBClassifier\n",
    "\n",
    "y_train_ordinal = ordinal_encoder.fit_transform(y_train.array.reshape(-1,1))\n",
    "\n",
    "xgb_cl = XGBClassifier(use_label_encoder=False, random_state=0)\n",
    "xgb_cl.fit(X_train, y_train_ordinal)"
   ]
  },
  {
   "cell_type": "code",
   "execution_count": 59,
   "id": "da422d2d-a857-4bf5-8b37-00ffd5f74a5b",
   "metadata": {},
   "outputs": [
    {
     "data": {
      "text/plain": [
       "0.6516058236592152"
      ]
     },
     "execution_count": 59,
     "metadata": {},
     "output_type": "execute_result"
    }
   ],
   "source": [
    "preds_2 = xgb_cl.predict(X_valid)\n",
    "preds_2 = ordinal_encoder.inverse_transform(preds_2.reshape(-1,1))\n",
    "accuracy_score(y_valid, preds_2)"
   ]
  },
  {
   "cell_type": "code",
   "execution_count": 60,
   "id": "6dc0ba5d-e8a1-498b-9814-cea30e88b1f6",
   "metadata": {},
   "outputs": [
    {
     "data": {
      "image/png": "[encoded data removed]",
      "text/plain": [
       "<Figure size 432x288 with 2 Axes>"
      ]
     },
     "metadata": {
      "needs_background": "light"
     },
     "output_type": "display_data"
    },
    {
     "data": {
      "image/png": "[encoded data removed]",
      "text/plain": [
       "<Figure size 432x288 with 2 Axes>"
      ]
     },
     "metadata": {
      "needs_background": "light"
     },
     "output_type": "display_data"
    }
   ],
   "source": [
    "imprimeMatrizDeConfusão(y_valid, preds_2, xgb_cl)"
   ]
  },
  {
   "cell_type": "markdown",
   "id": "65530020-6740-46db-9453-0a78739b7575",
   "metadata": {
    "jp-MarkdownHeadingCollapsed": true,
    "tags": []
   },
   "source": [
    "### SVM"
   ]
  },
  {
   "cell_type": "code",
   "execution_count": 54,
   "id": "a8b4c5aa-4b34-47ac-951e-505c23b1d690",
   "metadata": {},
   "outputs": [],
   "source": [
    "X = pd.concat([X_train, X_valid])\n",
    "y = pd.concat([y_train, y_valid])\n",
    "X_train, X_valid, y_train, y_valid = train_test_split(X, y, train_size=0.05, random_state = 0)"
   ]
  },
  {
   "cell_type": "code",
   "execution_count": 55,
   "id": "f66a0760-1b42-4771-bbb5-77059f88789f",
   "metadata": {},
   "outputs": [
    {
     "name": "stdout",
     "output_type": "stream",
     "text": [
      "CPU times: user 8min 8s, sys: 576 ms, total: 8min 9s\n",
      "Wall time: 8min 9s\n"
     ]
    }
   ],
   "source": [
    "%%time\n",
    "from sklearn.svm import SVC\n",
    "clf = SVC(kernel='linear', cache_size=5000) # Linear Kernel\n",
    "\n",
    "clf.fit(X_train, y_train)\n",
    "\n",
    "y_pred = clf.predict(X_valid)"
   ]
  },
  {
   "cell_type": "code",
   "execution_count": 58,
   "id": "8cfd9db2-69e0-41bb-acea-d33b7bce14ec",
   "metadata": {},
   "outputs": [
    {
     "name": "stdout",
     "output_type": "stream",
     "text": [
      "Acurácia: 0.6095638905063301\n"
     ]
    }
   ],
   "source": [
    "print(\"Acurácia:\", accuracy_score(y_valid, y_pred))"
   ]
  },
  {
   "cell_type": "markdown",
   "id": "143b45aa-29ee-459e-b7eb-44a7096f8bef",
   "metadata": {
    "jp-MarkdownHeadingCollapsed": true,
    "tags": []
   },
   "source": [
    "###  Gaussian Naive Bayes"
   ]
  },
  {
   "cell_type": "code",
   "execution_count": 158,
   "id": "1918ba00-fd92-4c17-83a6-26b714e56d5c",
   "metadata": {},
   "outputs": [],
   "source": [
    "# Conjunto com todas as classes\n",
    "X_train, X_valid, y_train, y_valid = train_test_split(X, y, random_state = 0)"
   ]
  },
  {
   "cell_type": "code",
   "execution_count": 159,
   "id": "35713aad-7839-4c87-9014-3b3ae6561ff6",
   "metadata": {},
   "outputs": [],
   "source": [
    "from sklearn.naive_bayes import GaussianNB"
   ]
  },
  {
   "cell_type": "code",
   "execution_count": 160,
   "id": "568abe5a-6782-40e6-b2cb-a9ced50df962",
   "metadata": {},
   "outputs": [
    {
     "name": "stdout",
     "output_type": "stream",
     "text": [
      "Acurácia: 0.4958924973616041\n"
     ]
    }
   ],
   "source": [
    "gnb = GaussianNB()\n",
    "y_pred = gnb.fit(X_train, y_train).predict(X_valid)\n",
    "print(\"Acurácia:\", accuracy_score(y_valid, y_pred))"
   ]
  },
  {
   "cell_type": "markdown",
   "id": "959af9d1-435d-46bd-94ca-929189d32eb9",
   "metadata": {
    "jp-MarkdownHeadingCollapsed": true,
    "tags": []
   },
   "source": [
    "### Logistic Regression"
   ]
  },
  {
   "cell_type": "code",
   "execution_count": 121,
   "id": "5243c499-f019-40e2-b9c9-6ee8c98dc7f1",
   "metadata": {},
   "outputs": [],
   "source": [
    "# Conjunto de dados PNP: Pastejando x Não Pastejando\n",
    "y_pnp = y\n",
    "y_pnp = y_pnp.replace(to_replace=['Agua', 'Locomovendo', 'Ocio', 'Outros','Ruminando'], value='Não Pastejando')\n",
    "X_train, X_valid, y_train, y_valid = train_test_split(X, y_pnp, random_state = 0)"
   ]
  },
  {
   "cell_type": "code",
   "execution_count": 109,
   "id": "4882e7c8-8f7e-4464-add0-7ecfa2dcc8f4",
   "metadata": {},
   "outputs": [],
   "source": [
    "from sklearn.linear_model import LogisticRegression"
   ]
  },
  {
   "cell_type": "code",
   "execution_count": 123,
   "id": "b69a809b-28d7-42e8-aae4-667e1b2dfca9",
   "metadata": {},
   "outputs": [
    {
     "data": {
      "text/plain": [
       "LogisticRegression(random_state=0)"
      ]
     },
     "execution_count": 123,
     "metadata": {},
     "output_type": "execute_result"
    }
   ],
   "source": [
    "logisticRegr = LogisticRegression(random_state=0)\n",
    "logisticRegr.fit(X_train, y_train)"
   ]
  },
  {
   "cell_type": "code",
   "execution_count": 124,
   "id": "c44d6550-955c-4f7c-a5d5-40b5d269ef13",
   "metadata": {},
   "outputs": [],
   "source": [
    "preds_lr = logisticRegr.predict(X_valid)"
   ]
  },
  {
   "cell_type": "code",
   "execution_count": 125,
   "id": "5adfff70-1382-4fdb-b370-70b7f53e7879",
   "metadata": {},
   "outputs": [
    {
     "name": "stdout",
     "output_type": "stream",
     "text": [
      "Acurácia: 0.6156936582557805\n"
     ]
    }
   ],
   "source": [
    "print(\"Acurácia:\", accuracy_score(y_valid, preds_lr))"
   ]
  },
  {
   "cell_type": "markdown",
   "id": "63229ffe-d639-4f33-ab0b-f091b4ab037d",
   "metadata": {
    "jp-MarkdownHeadingCollapsed": true,
    "tags": []
   },
   "source": [
    "### Teste em CV"
   ]
  },
  {
   "cell_type": "code",
   "execution_count": 213,
   "id": "97616b63-dbb6-4ee2-9343-e4092f29a549",
   "metadata": {},
   "outputs": [],
   "source": [
    "from sklearn.model_selection import cross_val_score\n",
    "\n",
    "def get_score(n_estimators):\n",
    "    clf = RandomForestClassifier(n_estimators, random_state=0)\n",
    "    \n",
    "    scores = cross_val_score(clf, X, y, cv=3)\n",
    "    return scores.mean()\n"
   ]
  },
  {
   "cell_type": "code",
   "execution_count": 214,
   "id": "48ba2695-7192-4ff5-997a-d03f7d60a03e",
   "metadata": {},
   "outputs": [],
   "source": [
    "results = {} \n",
    "n_estimators = 0\n",
    "while n_estimators < 150:\n",
    "    n_estimators += 50\n",
    "    results[n_estimators] = get_score(n_estimators)"
   ]
  },
  {
   "cell_type": "code",
   "execution_count": 215,
   "id": "07d5541d-0ae4-4a81-b5fb-bba06d31da76",
   "metadata": {},
   "outputs": [
    {
     "data": {
      "image/png": "[encoded data removed]",
      "text/plain": [
       "<Figure size 432x288 with 1 Axes>"
      ]
     },
     "metadata": {
      "needs_background": "light"
     },
     "output_type": "display_data"
    }
   ],
   "source": [
    "import matplotlib.pyplot as plt\n",
    "%matplotlib inline\n",
    "\n",
    "plt.plot(list(results.keys()), list(results.values()))\n",
    "plt.show()"
   ]
  }
 ],
 "metadata": {
  "kernelspec": {
   "display_name": "Python 3 (ipykernel)",
   "language": "python",
   "name": "python3"
  },
  "language_info": {
   "codemirror_mode": {
    "name": "ipython",
    "version": 3
   },
   "file_extension": ".py",
   "mimetype": "text/x-python",
   "name": "python",
   "nbconvert_exporter": "python",
   "pygments_lexer": "ipython3",
   "version": "3.8.11"
  }
 },
 "nbformat": 4,
 "nbformat_minor": 5
}
