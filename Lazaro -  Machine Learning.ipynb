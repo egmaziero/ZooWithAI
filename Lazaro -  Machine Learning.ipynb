{
 "cells": [
  {
   "cell_type": "code",
   "execution_count": 4,
   "id": "879f66bd",
   "metadata": {},
   "outputs": [],
   "source": [
    "import pandas as pd\n",
    "import numpy as np\n",
    "from sklearn.model_selection import train_test_split"
   ]
  },
  {
   "cell_type": "markdown",
   "id": "e245a454",
   "metadata": {},
   "source": [
    "## Passo 1: Lendo os dados\n",
    "Leitura dos bancos de dados em DataFrame Pandas. "
   ]
  },
  {
   "cell_type": "code",
   "execution_count": 5,
   "id": "25e7b7d2",
   "metadata": {},
   "outputs": [],
   "source": [
    "caminho_dados_lazaro = 'Datasets/Lazaro/dados_lazaro.csv'"
   ]
  },
  {
   "cell_type": "code",
   "execution_count": 6,
   "id": "d4a1a45b",
   "metadata": {},
   "outputs": [],
   "source": [
    "df = pd.read_csv(caminho_dados_lazaro)"
   ]
  },
  {
   "cell_type": "code",
   "execution_count": 7,
   "id": "747a25ff",
   "metadata": {},
   "outputs": [
    {
     "data": {
      "text/html": [
       "<div>\n",
       "<style scoped>\n",
       "    .dataframe tbody tr th:only-of-type {\n",
       "        vertical-align: middle;\n",
       "    }\n",
       "\n",
       "    .dataframe tbody tr th {\n",
       "        vertical-align: top;\n",
       "    }\n",
       "\n",
       "    .dataframe thead th {\n",
       "        text-align: right;\n",
       "    }\n",
       "</style>\n",
       "<table border=\"1\" class=\"dataframe\">\n",
       "  <thead>\n",
       "    <tr style=\"text-align: right;\">\n",
       "      <th></th>\n",
       "      <th>Piquete</th>\n",
       "      <th>Altura real</th>\n",
       "      <th>Altura esperada</th>\n",
       "      <th>Animal</th>\n",
       "      <th>SensorID</th>\n",
       "      <th>Sensor Name</th>\n",
       "      <th>Date</th>\n",
       "      <th>X</th>\n",
       "      <th>Y</th>\n",
       "      <th>Z</th>\n",
       "      <th>Comportamento</th>\n",
       "      <th>Season</th>\n",
       "    </tr>\n",
       "  </thead>\n",
       "  <tbody>\n",
       "    <tr>\n",
       "      <th>0</th>\n",
       "      <td>11</td>\n",
       "      <td>25.2</td>\n",
       "      <td>25.0</td>\n",
       "      <td>85</td>\n",
       "      <td>434138</td>\n",
       "      <td>Accelerometer - 434138</td>\n",
       "      <td>2019-11-09 08:25:30</td>\n",
       "      <td>-0.012</td>\n",
       "      <td>-0.456</td>\n",
       "      <td>0.900</td>\n",
       "      <td>Indefinido</td>\n",
       "      <td>Indefinido</td>\n",
       "    </tr>\n",
       "    <tr>\n",
       "      <th>1</th>\n",
       "      <td>11</td>\n",
       "      <td>25.2</td>\n",
       "      <td>25.0</td>\n",
       "      <td>85</td>\n",
       "      <td>434138</td>\n",
       "      <td>Accelerometer - 434138</td>\n",
       "      <td>2019-11-09 08:25:32</td>\n",
       "      <td>-0.008</td>\n",
       "      <td>-0.456</td>\n",
       "      <td>0.892</td>\n",
       "      <td>Indefinido</td>\n",
       "      <td>Indefinido</td>\n",
       "    </tr>\n",
       "    <tr>\n",
       "      <th>2</th>\n",
       "      <td>11</td>\n",
       "      <td>25.2</td>\n",
       "      <td>25.0</td>\n",
       "      <td>85</td>\n",
       "      <td>434138</td>\n",
       "      <td>Accelerometer - 434138</td>\n",
       "      <td>2019-11-09 08:25:33</td>\n",
       "      <td>-0.010</td>\n",
       "      <td>-0.460</td>\n",
       "      <td>0.897</td>\n",
       "      <td>Indefinido</td>\n",
       "      <td>Indefinido</td>\n",
       "    </tr>\n",
       "    <tr>\n",
       "      <th>3</th>\n",
       "      <td>11</td>\n",
       "      <td>25.2</td>\n",
       "      <td>25.0</td>\n",
       "      <td>85</td>\n",
       "      <td>434138</td>\n",
       "      <td>Accelerometer - 434138</td>\n",
       "      <td>2019-11-09 08:25:33</td>\n",
       "      <td>0.021</td>\n",
       "      <td>-0.386</td>\n",
       "      <td>0.963</td>\n",
       "      <td>Indefinido</td>\n",
       "      <td>Indefinido</td>\n",
       "    </tr>\n",
       "    <tr>\n",
       "      <th>4</th>\n",
       "      <td>11</td>\n",
       "      <td>25.2</td>\n",
       "      <td>25.0</td>\n",
       "      <td>85</td>\n",
       "      <td>434138</td>\n",
       "      <td>Accelerometer - 434138</td>\n",
       "      <td>2019-11-09 08:25:34</td>\n",
       "      <td>0.012</td>\n",
       "      <td>-0.423</td>\n",
       "      <td>0.910</td>\n",
       "      <td>Indefinido</td>\n",
       "      <td>Indefinido</td>\n",
       "    </tr>\n",
       "    <tr>\n",
       "      <th>...</th>\n",
       "      <td>...</td>\n",
       "      <td>...</td>\n",
       "      <td>...</td>\n",
       "      <td>...</td>\n",
       "      <td>...</td>\n",
       "      <td>...</td>\n",
       "      <td>...</td>\n",
       "      <td>...</td>\n",
       "      <td>...</td>\n",
       "      <td>...</td>\n",
       "      <td>...</td>\n",
       "      <td>...</td>\n",
       "    </tr>\n",
       "    <tr>\n",
       "      <th>690561</th>\n",
       "      <td>1</td>\n",
       "      <td>10.3</td>\n",
       "      <td>10.0</td>\n",
       "      <td>81</td>\n",
       "      <td>434137</td>\n",
       "      <td>Accelerometer - 434137</td>\n",
       "      <td>2020-06-30 17:43:27</td>\n",
       "      <td>-0.729</td>\n",
       "      <td>0.026</td>\n",
       "      <td>0.660</td>\n",
       "      <td>Pastejando</td>\n",
       "      <td>fall</td>\n",
       "    </tr>\n",
       "    <tr>\n",
       "      <th>690562</th>\n",
       "      <td>1</td>\n",
       "      <td>10.3</td>\n",
       "      <td>10.0</td>\n",
       "      <td>81</td>\n",
       "      <td>434137</td>\n",
       "      <td>Accelerometer - 434137</td>\n",
       "      <td>2020-06-30 17:43:28</td>\n",
       "      <td>-0.614</td>\n",
       "      <td>0.271</td>\n",
       "      <td>0.577</td>\n",
       "      <td>Pastejando</td>\n",
       "      <td>fall</td>\n",
       "    </tr>\n",
       "    <tr>\n",
       "      <th>690563</th>\n",
       "      <td>1</td>\n",
       "      <td>10.3</td>\n",
       "      <td>10.0</td>\n",
       "      <td>81</td>\n",
       "      <td>434137</td>\n",
       "      <td>Accelerometer - 434137</td>\n",
       "      <td>2020-06-30 17:43:29</td>\n",
       "      <td>-0.734</td>\n",
       "      <td>0.227</td>\n",
       "      <td>0.571</td>\n",
       "      <td>Pastejando</td>\n",
       "      <td>fall</td>\n",
       "    </tr>\n",
       "    <tr>\n",
       "      <th>690564</th>\n",
       "      <td>1</td>\n",
       "      <td>10.3</td>\n",
       "      <td>10.0</td>\n",
       "      <td>81</td>\n",
       "      <td>434137</td>\n",
       "      <td>Accelerometer - 434137</td>\n",
       "      <td>2020-06-30 17:43:30</td>\n",
       "      <td>-0.587</td>\n",
       "      <td>-0.149</td>\n",
       "      <td>0.704</td>\n",
       "      <td>Pastejando</td>\n",
       "      <td>fall</td>\n",
       "    </tr>\n",
       "    <tr>\n",
       "      <th>690565</th>\n",
       "      <td>1</td>\n",
       "      <td>10.3</td>\n",
       "      <td>10.0</td>\n",
       "      <td>81</td>\n",
       "      <td>434137</td>\n",
       "      <td>Accelerometer - 434137</td>\n",
       "      <td>2020-06-30 17:43:31</td>\n",
       "      <td>-0.681</td>\n",
       "      <td>0.278</td>\n",
       "      <td>0.583</td>\n",
       "      <td>Pastejando</td>\n",
       "      <td>fall</td>\n",
       "    </tr>\n",
       "  </tbody>\n",
       "</table>\n",
       "<p>690566 rows × 12 columns</p>\n",
       "</div>"
      ],
      "text/plain": [
       "        Piquete  Altura real  Altura esperada  Animal  SensorID  \\\n",
       "0            11         25.2             25.0      85    434138   \n",
       "1            11         25.2             25.0      85    434138   \n",
       "2            11         25.2             25.0      85    434138   \n",
       "3            11         25.2             25.0      85    434138   \n",
       "4            11         25.2             25.0      85    434138   \n",
       "...         ...          ...              ...     ...       ...   \n",
       "690561        1         10.3             10.0      81    434137   \n",
       "690562        1         10.3             10.0      81    434137   \n",
       "690563        1         10.3             10.0      81    434137   \n",
       "690564        1         10.3             10.0      81    434137   \n",
       "690565        1         10.3             10.0      81    434137   \n",
       "\n",
       "                   Sensor Name                 Date      X      Y      Z  \\\n",
       "0       Accelerometer - 434138  2019-11-09 08:25:30 -0.012 -0.456  0.900   \n",
       "1       Accelerometer - 434138  2019-11-09 08:25:32 -0.008 -0.456  0.892   \n",
       "2       Accelerometer - 434138  2019-11-09 08:25:33 -0.010 -0.460  0.897   \n",
       "3       Accelerometer - 434138  2019-11-09 08:25:33  0.021 -0.386  0.963   \n",
       "4       Accelerometer - 434138  2019-11-09 08:25:34  0.012 -0.423  0.910   \n",
       "...                        ...                  ...    ...    ...    ...   \n",
       "690561  Accelerometer - 434137  2020-06-30 17:43:27 -0.729  0.026  0.660   \n",
       "690562  Accelerometer - 434137  2020-06-30 17:43:28 -0.614  0.271  0.577   \n",
       "690563  Accelerometer - 434137  2020-06-30 17:43:29 -0.734  0.227  0.571   \n",
       "690564  Accelerometer - 434137  2020-06-30 17:43:30 -0.587 -0.149  0.704   \n",
       "690565  Accelerometer - 434137  2020-06-30 17:43:31 -0.681  0.278  0.583   \n",
       "\n",
       "       Comportamento      Season  \n",
       "0         Indefinido  Indefinido  \n",
       "1         Indefinido  Indefinido  \n",
       "2         Indefinido  Indefinido  \n",
       "3         Indefinido  Indefinido  \n",
       "4         Indefinido  Indefinido  \n",
       "...              ...         ...  \n",
       "690561    Pastejando        fall  \n",
       "690562    Pastejando        fall  \n",
       "690563    Pastejando        fall  \n",
       "690564    Pastejando        fall  \n",
       "690565    Pastejando        fall  \n",
       "\n",
       "[690566 rows x 12 columns]"
      ]
     },
     "execution_count": 7,
     "metadata": {},
     "output_type": "execute_result"
    }
   ],
   "source": [
    "df"
   ]
  },
  {
   "cell_type": "code",
   "execution_count": 8,
   "id": "0dcd8205-35bf-4765-88a5-d3a18a24f839",
   "metadata": {},
   "outputs": [],
   "source": [
    "from sklearn.ensemble import RandomForestClassifier\n",
    "from sklearn.metrics import accuracy_score\n",
    "\n",
    "\n",
    "def calc_acuracia(X_train, X_valid, y_train, y_valid):\n",
    "    model = RandomForestClassifier(n_estimators=100, random_state=0)\n",
    "    model.fit(X_train, y_train)\n",
    "    preds = model.predict(X_valid)\n",
    "    return accuracy_score(y_valid, preds)*100\n",
    "\n",
    "# Função para comparar diferentes aproximações\n",
    "def avaliar_dataset(df):\n",
    "    X = df[['X', 'Y', 'Z', 'Season']]\n",
    "    # Para usar atributos categóricos na predição é necessário codificar os mesmos\n",
    "    # O que pode ser feito usando get_dummies, que no caso tem resultado igual ao método One-Hot Encoding\n",
    "    X = pd.get_dummies(X)\n",
    "    y = df.Comportamento\n",
    "    X_train, X_valid, y_train, y_valid = train_test_split(X, y, random_state = 0)\n",
    "\n",
    "    print(\"Acurácio da etapa:\")\n",
    "    print(calc_acuracia(X_train, X_valid, y_train, y_valid))"
   ]
  },
  {
   "cell_type": "markdown",
   "id": "e837f134",
   "metadata": {},
   "source": [
    "## Passo 2: Pré-processamento\n"
   ]
  },
  {
   "cell_type": "markdown",
   "id": "4d81e72e",
   "metadata": {
    "tags": []
   },
   "source": [
    "### 2.0 Seleção de colunas aplicáveis"
   ]
  },
  {
   "cell_type": "code",
   "execution_count": 9,
   "id": "d076fdd5",
   "metadata": {},
   "outputs": [
    {
     "data": {
      "text/plain": [
       "Index(['Piquete', 'Altura real', 'Altura esperada', 'Animal', 'SensorID',\n",
       "       'Sensor Name', 'Date', 'X', 'Y', 'Z', 'Comportamento', 'Season'],\n",
       "      dtype='object')"
      ]
     },
     "execution_count": 9,
     "metadata": {},
     "output_type": "execute_result"
    }
   ],
   "source": [
    "df.columns"
   ]
  },
  {
   "cell_type": "code",
   "execution_count": 10,
   "id": "61d06b41",
   "metadata": {},
   "outputs": [],
   "source": [
    "# Lista com os atributos aplicáveis\n",
    "features_aplicaveis = ['X', 'Y', 'Z', 'Comportamento', 'Season']\n",
    "\n",
    "# Seleciona os abributos correspondentes da lista features_aplicaveis\n",
    "df = df[features_aplicaveis]"
   ]
  },
  {
   "cell_type": "markdown",
   "id": "1864ed3e",
   "metadata": {
    "tags": []
   },
   "source": [
    "### 2.1 Lidando com dados faltantes"
   ]
  },
  {
   "cell_type": "code",
   "execution_count": 11,
   "id": "e91f9140-13f6-4d93-8aa1-a3272ea19bca",
   "metadata": {},
   "outputs": [
    {
     "data": {
      "text/html": [
       "<div>\n",
       "<style scoped>\n",
       "    .dataframe tbody tr th:only-of-type {\n",
       "        vertical-align: middle;\n",
       "    }\n",
       "\n",
       "    .dataframe tbody tr th {\n",
       "        vertical-align: top;\n",
       "    }\n",
       "\n",
       "    .dataframe thead th {\n",
       "        text-align: right;\n",
       "    }\n",
       "</style>\n",
       "<table border=\"1\" class=\"dataframe\">\n",
       "  <thead>\n",
       "    <tr style=\"text-align: right;\">\n",
       "      <th></th>\n",
       "      <th>X</th>\n",
       "      <th>Y</th>\n",
       "      <th>Z</th>\n",
       "      <th>Comportamento</th>\n",
       "      <th>Season</th>\n",
       "    </tr>\n",
       "  </thead>\n",
       "  <tbody>\n",
       "    <tr>\n",
       "      <th>296</th>\n",
       "      <td>175786.0</td>\n",
       "      <td>NaN</td>\n",
       "      <td>NaN</td>\n",
       "      <td>Indefinido</td>\n",
       "      <td>Indefinido</td>\n",
       "    </tr>\n",
       "  </tbody>\n",
       "</table>\n",
       "</div>"
      ],
      "text/plain": [
       "            X   Y   Z Comportamento      Season\n",
       "296  175786.0 NaN NaN    Indefinido  Indefinido"
      ]
     },
     "execution_count": 11,
     "metadata": {},
     "output_type": "execute_result"
    }
   ],
   "source": [
    "df[df.isnull().any(axis=1)]"
   ]
  },
  {
   "cell_type": "code",
   "execution_count": 12,
   "id": "2b670e4a",
   "metadata": {},
   "outputs": [
    {
     "data": {
      "text/plain": [
       "X                0\n",
       "Y                1\n",
       "Z                1\n",
       "Comportamento    0\n",
       "Season           0\n",
       "dtype: int64"
      ]
     },
     "execution_count": 12,
     "metadata": {},
     "output_type": "execute_result"
    }
   ],
   "source": [
    "df.isnull().sum()"
   ]
  },
  {
   "cell_type": "code",
   "execution_count": 13,
   "id": "6d9aee41-19c9-485c-b4b8-e074a56a1e95",
   "metadata": {},
   "outputs": [
    {
     "data": {
      "text/plain": [
       "Pastejando     342516\n",
       "Ruminando      158228\n",
       "Ocio           126141\n",
       "Indefinido      23496\n",
       "Outros          19472\n",
       "Locomovendo     12567\n",
       "Agua             3779\n",
       "Outro            2303\n",
       "Ócio             2064\n",
       "Name: Comportamento, dtype: int64"
      ]
     },
     "execution_count": 13,
     "metadata": {},
     "output_type": "execute_result"
    }
   ],
   "source": [
    "# No entanto, durante a integração dos dados valores nulos em \"Comportamento\" e \"Season\" foram nomeados \"Indefinido\", logo temos que tratá-los\n",
    "df.Comportamento.value_counts()"
   ]
  },
  {
   "cell_type": "code",
   "execution_count": 14,
   "id": "1e03c643-a9e3-404e-bb0d-0c89f8354092",
   "metadata": {},
   "outputs": [],
   "source": [
    "df = df.replace('Indefinido', np.NaN)"
   ]
  },
  {
   "cell_type": "code",
   "execution_count": 15,
   "id": "3f241a19",
   "metadata": {},
   "outputs": [
    {
     "data": {
      "text/plain": [
       "X                0\n",
       "Y                0\n",
       "Z                0\n",
       "Comportamento    0\n",
       "Season           0\n",
       "dtype: int64"
      ]
     },
     "execution_count": 15,
     "metadata": {},
     "output_type": "execute_result"
    }
   ],
   "source": [
    "# Como praticamente não há valores faltantes nas variáveis independentes e há obeservações com variáveis alvo nulas, o melhor é apenas eliminar linhas com valores nulos\n",
    "df = df.dropna(axis=0)\n",
    "df.isnull().sum()"
   ]
  },
  {
   "cell_type": "code",
   "execution_count": 16,
   "id": "262e07a1-e11a-47a3-b32a-dbed5eb1aaf9",
   "metadata": {},
   "outputs": [],
   "source": [
    "df_backup = df"
   ]
  },
  {
   "cell_type": "code",
   "execution_count": 17,
   "id": "b74c7294-24fe-4b66-bad4-e2ab1d535bda",
   "metadata": {},
   "outputs": [
    {
     "name": "stdout",
     "output_type": "stream",
     "text": [
      "Acurácio da etapa:\n",
      "69.4935479228629\n"
     ]
    }
   ],
   "source": [
    "# avaliar_dataset(df)"
   ]
  },
  {
   "cell_type": "markdown",
   "id": "79bfb1af-1c4f-45a2-ac20-be569533a123",
   "metadata": {
    "tags": []
   },
   "source": [
    "### 2.2 Tratamento de dados categóricos"
   ]
  },
  {
   "cell_type": "markdown",
   "id": "ba0569ec-940d-4d74-9382-1e665dfbd99b",
   "metadata": {},
   "source": [
    "#### Correção dos nomes das classificações"
   ]
  },
  {
   "cell_type": "code",
   "execution_count": 18,
   "id": "ec188b38-b440-47e8-a65b-6b0a6e9c31ed",
   "metadata": {},
   "outputs": [
    {
     "data": {
      "text/plain": [
       "array(['Agua', 'Locomovendo', 'Ocio', 'Outro', 'Outros', 'Pastejando',\n",
       "       'Ruminando', 'Ócio'], dtype=object)"
      ]
     },
     "execution_count": 18,
     "metadata": {},
     "output_type": "execute_result"
    }
   ],
   "source": [
    "np.unique(df['Comportamento'])"
   ]
  },
  {
   "cell_type": "code",
   "execution_count": 19,
   "id": "dedf005f-b18c-4a91-8355-593c4b21c254",
   "metadata": {},
   "outputs": [],
   "source": [
    "df = df.replace(to_replace=['Ócio','Outro'], value=['Ocio', 'Outros'])"
   ]
  },
  {
   "cell_type": "code",
   "execution_count": 20,
   "id": "f27286a5-5119-4bdc-ae18-2947b0564c1a",
   "metadata": {},
   "outputs": [
    {
     "data": {
      "text/plain": [
       "array(['Spring', 'fall', 'spring', 'spring ', 'summer'], dtype=object)"
      ]
     },
     "execution_count": 20,
     "metadata": {},
     "output_type": "execute_result"
    }
   ],
   "source": [
    "np.unique(df['Season'])"
   ]
  },
  {
   "cell_type": "code",
   "execution_count": 21,
   "id": "8201035e-ea54-4ec0-8ea6-996092512f18",
   "metadata": {},
   "outputs": [],
   "source": [
    "df = df.replace(to_replace=['Spring','spring '], value=['spring', 'spring'])"
   ]
  },
  {
   "cell_type": "code",
   "execution_count": 22,
   "id": "e1e79340-4bab-49da-a837-041a81a4e11f",
   "metadata": {},
   "outputs": [],
   "source": [
    "X = df[['X', 'Y', 'Z', 'Season']]\n",
    "# O que pode ser feito usando get_dummies, que no caso tem resultado igual ao método One-Hot Encoding\n",
    "y = df.Comportamento\n",
    "X_train, X_valid, y_train, y_valid = train_test_split(X, y, random_state = 0)"
   ]
  },
  {
   "cell_type": "markdown",
   "id": "3002abba-951f-4e4b-961d-c6d3636ced33",
   "metadata": {},
   "source": [
    "#### Usando Ordinal Encoding"
   ]
  },
  {
   "cell_type": "code",
   "execution_count": 23,
   "id": "f469d024-0748-4b15-9564-3926a6d503b7",
   "metadata": {},
   "outputs": [],
   "source": [
    "from sklearn.preprocessing import OrdinalEncoder\n",
    "\n",
    "label_X_train = X_train.copy()\n",
    "label_X_valid = X_valid.copy()\n",
    "\n",
    "# Aplica ordinal encoder à coluna Season\n",
    "ordinal_encoder = OrdinalEncoder()\n",
    "label_X_train['Season'] = ordinal_encoder.fit_transform(X_train['Season'].values.reshape(-1,1))\n",
    "label_X_valid['Season'] = ordinal_encoder.transform(X_valid['Season'].values.reshape(-1,1))"
   ]
  },
  {
   "cell_type": "code",
   "execution_count": 129,
   "id": "27b0527d-5f1c-4fb9-8f12-adffe8f1b9d1",
   "metadata": {},
   "outputs": [
    {
     "data": {
      "text/plain": [
       "68.77578432313155"
      ]
     },
     "execution_count": 129,
     "metadata": {},
     "output_type": "execute_result"
    }
   ],
   "source": [
    "# calc_acuracia(label_X_train, label_X_valid, y_train, y_valid)"
   ]
  },
  {
   "cell_type": "markdown",
   "id": "962c11d0-9db2-4887-a8de-9ecf9c302e2c",
   "metadata": {},
   "source": [
    "#### Usando One-Hot Encoding"
   ]
  },
  {
   "cell_type": "code",
   "execution_count": 24,
   "id": "9185e3c4-d346-4659-a829-e06baa2ca5e1",
   "metadata": {},
   "outputs": [],
   "source": [
    "from sklearn.preprocessing import OneHotEncoder\n",
    "\n",
    "# Aplica one-hot encoder à coluna Season\n",
    "OH_encoder = OneHotEncoder(handle_unknown='ignore', sparse=False)\n",
    "OH_cols_train = pd.DataFrame(OH_encoder.fit_transform(X_train['Season'].values.reshape(-1,1)))\n",
    "OH_cols_valid = pd.DataFrame(OH_encoder.transform(X_valid['Season'].values.reshape(-1,1)))"
   ]
  },
  {
   "cell_type": "code",
   "execution_count": 25,
   "id": "d58d6a9f-f73b-4ad4-9d63-7666244a2264",
   "metadata": {},
   "outputs": [],
   "source": [
    "# One-hot encoding remove os indices; recuperando-os\n",
    "OH_cols_train.index = X_train.index\n",
    "OH_cols_valid.index = X_valid.index"
   ]
  },
  {
   "cell_type": "code",
   "execution_count": 26,
   "id": "7c157f22-d5b9-4ab7-ab47-aa53ea5d95b5",
   "metadata": {},
   "outputs": [],
   "source": [
    "# Remoção da coluna Season (será substituida com one-hot encoding)\n",
    "num_X_train = X_train.drop('Season', axis=1)\n",
    "num_X_valid = X_valid.drop('Season', axis=1)"
   ]
  },
  {
   "cell_type": "code",
   "execution_count": 27,
   "id": "8d19b1c3-2539-4935-bbd1-73f3258e7408",
   "metadata": {},
   "outputs": [],
   "source": [
    "# Adiciona colunas codificadas por one-hot a features numéricas\n",
    "OH_X_train = pd.concat([num_X_train, OH_cols_train], axis=1)\n",
    "OH_X_valid = pd.concat([num_X_valid, OH_cols_valid], axis=1)"
   ]
  },
  {
   "cell_type": "code",
   "execution_count": 28,
   "id": "aac7552f-80fd-4edc-98fc-6265064fd93a",
   "metadata": {},
   "outputs": [
    {
     "data": {
      "text/plain": [
       "68.94068406408903"
      ]
     },
     "execution_count": 28,
     "metadata": {},
     "output_type": "execute_result"
    }
   ],
   "source": [
    "calc_acuracia(OH_X_train, OH_X_valid, y_train, y_valid)"
   ]
  },
  {
   "cell_type": "code",
   "execution_count": 59,
   "id": "53762f30-d09d-4470-a4fc-56f8a4ddf9b3",
   "metadata": {},
   "outputs": [],
   "source": [
    "# Get_dummies é suficente\n",
    "# X = df[['X', 'Y', 'Z', 'Season']]\n",
    "# X = pd.get_dummies(X)"
   ]
  },
  {
   "cell_type": "code",
   "execution_count": 108,
   "id": "31aea7b9-deba-482d-b5d2-ef5e75df841a",
   "metadata": {},
   "outputs": [
    {
     "name": "stdout",
     "output_type": "stream",
     "text": [
      "Acurácio da etapa:\n",
      "68.94068406408903\n"
     ]
    }
   ],
   "source": [
    "# avaliar_dataset(df)"
   ]
  },
  {
   "cell_type": "markdown",
   "id": "dc2edde3",
   "metadata": {},
   "source": [
    "### 2.3 Lidando com outliers"
   ]
  },
  {
   "cell_type": "code",
   "execution_count": 163,
   "id": "c283cdb3",
   "metadata": {},
   "outputs": [
    {
     "data": {
      "text/html": [
       "<div>\n",
       "<style scoped>\n",
       "    .dataframe tbody tr th:only-of-type {\n",
       "        vertical-align: middle;\n",
       "    }\n",
       "\n",
       "    .dataframe tbody tr th {\n",
       "        vertical-align: top;\n",
       "    }\n",
       "\n",
       "    .dataframe thead th {\n",
       "        text-align: right;\n",
       "    }\n",
       "</style>\n",
       "<table border=\"1\" class=\"dataframe\">\n",
       "  <thead>\n",
       "    <tr style=\"text-align: right;\">\n",
       "      <th></th>\n",
       "      <th>X</th>\n",
       "      <th>Y</th>\n",
       "      <th>Z</th>\n",
       "    </tr>\n",
       "  </thead>\n",
       "  <tbody>\n",
       "    <tr>\n",
       "      <th>count</th>\n",
       "      <td>667070.000000</td>\n",
       "      <td>667070.000000</td>\n",
       "      <td>667070.000000</td>\n",
       "    </tr>\n",
       "    <tr>\n",
       "      <th>mean</th>\n",
       "      <td>0.003695</td>\n",
       "      <td>0.076466</td>\n",
       "      <td>0.301583</td>\n",
       "    </tr>\n",
       "    <tr>\n",
       "      <th>std</th>\n",
       "      <td>0.576597</td>\n",
       "      <td>0.580242</td>\n",
       "      <td>0.496580</td>\n",
       "    </tr>\n",
       "    <tr>\n",
       "      <th>min</th>\n",
       "      <td>-1.999000</td>\n",
       "      <td>-2.688000</td>\n",
       "      <td>-1.999000</td>\n",
       "    </tr>\n",
       "    <tr>\n",
       "      <th>25%</th>\n",
       "      <td>-0.495000</td>\n",
       "      <td>-0.392000</td>\n",
       "      <td>-0.022000</td>\n",
       "    </tr>\n",
       "    <tr>\n",
       "      <th>50%</th>\n",
       "      <td>0.019000</td>\n",
       "      <td>0.136000</td>\n",
       "      <td>0.407000</td>\n",
       "    </tr>\n",
       "    <tr>\n",
       "      <th>75%</th>\n",
       "      <td>0.475000</td>\n",
       "      <td>0.541000</td>\n",
       "      <td>0.686000</td>\n",
       "    </tr>\n",
       "    <tr>\n",
       "      <th>max</th>\n",
       "      <td>2.106000</td>\n",
       "      <td>2.000000</td>\n",
       "      <td>2.020000</td>\n",
       "    </tr>\n",
       "  </tbody>\n",
       "</table>\n",
       "</div>"
      ],
      "text/plain": [
       "                   X              Y              Z\n",
       "count  667070.000000  667070.000000  667070.000000\n",
       "mean        0.003695       0.076466       0.301583\n",
       "std         0.576597       0.580242       0.496580\n",
       "min        -1.999000      -2.688000      -1.999000\n",
       "25%        -0.495000      -0.392000      -0.022000\n",
       "50%         0.019000       0.136000       0.407000\n",
       "75%         0.475000       0.541000       0.686000\n",
       "max         2.106000       2.000000       2.020000"
      ]
     },
     "execution_count": 163,
     "metadata": {},
     "output_type": "execute_result"
    }
   ],
   "source": [
    "df.describe()"
   ]
  },
  {
   "cell_type": "code",
   "execution_count": 29,
   "id": "3daff487-bd4a-44fa-806f-733e2c7c96af",
   "metadata": {},
   "outputs": [],
   "source": [
    "# Calculo de limites para definição de outliers\n",
    "# Seleciona dados que estão e 1% e 99% do dados\n",
    "min = 0.01\n",
    "max = 0.99\n",
    "X_min_thresold, X_max_thresold = df.X.quantile([min, max])\n",
    "Y_min_thresold, Y_max_thresold = df.Y.quantile([min, max])\n",
    "Z_min_thresold, Z_max_thresold = df.Z.quantile([min, max])\n"
   ]
  },
  {
   "cell_type": "code",
   "execution_count": 30,
   "id": "96bfaa22",
   "metadata": {},
   "outputs": [
    {
     "data": {
      "text/plain": [
       "(629254, 5)"
      ]
     },
     "execution_count": 30,
     "metadata": {},
     "output_type": "execute_result"
    }
   ],
   "source": [
    "# Remoção de outliers em X\n",
    "df = df[(df.X<X_max_thresold) & (df.X>X_min_thresold)]\n",
    "df = df[(df.Y<Y_max_thresold) & (df.Y>Y_min_thresold)]\n",
    "df = df[(df.Z<Z_max_thresold) & (df.Z>Z_min_thresold)]\n",
    "df.shape\n"
   ]
  },
  {
   "cell_type": "code",
   "execution_count": 31,
   "id": "21e5a964-9940-494d-aa42-b8a21021e30a",
   "metadata": {},
   "outputs": [
    {
     "data": {
      "text/html": [
       "<div>\n",
       "<style scoped>\n",
       "    .dataframe tbody tr th:only-of-type {\n",
       "        vertical-align: middle;\n",
       "    }\n",
       "\n",
       "    .dataframe tbody tr th {\n",
       "        vertical-align: top;\n",
       "    }\n",
       "\n",
       "    .dataframe thead th {\n",
       "        text-align: right;\n",
       "    }\n",
       "</style>\n",
       "<table border=\"1\" class=\"dataframe\">\n",
       "  <thead>\n",
       "    <tr style=\"text-align: right;\">\n",
       "      <th></th>\n",
       "      <th>X</th>\n",
       "      <th>Y</th>\n",
       "      <th>Z</th>\n",
       "    </tr>\n",
       "  </thead>\n",
       "  <tbody>\n",
       "    <tr>\n",
       "      <th>count</th>\n",
       "      <td>629254.000000</td>\n",
       "      <td>629254.000000</td>\n",
       "      <td>629254.000000</td>\n",
       "    </tr>\n",
       "    <tr>\n",
       "      <th>mean</th>\n",
       "      <td>0.003006</td>\n",
       "      <td>0.076768</td>\n",
       "      <td>0.310776</td>\n",
       "    </tr>\n",
       "    <tr>\n",
       "      <th>std</th>\n",
       "      <td>0.562532</td>\n",
       "      <td>0.563549</td>\n",
       "      <td>0.473825</td>\n",
       "    </tr>\n",
       "    <tr>\n",
       "      <th>min</th>\n",
       "      <td>-1.007000</td>\n",
       "      <td>-0.996000</td>\n",
       "      <td>-0.928000</td>\n",
       "    </tr>\n",
       "    <tr>\n",
       "      <th>25%</th>\n",
       "      <td>-0.496000</td>\n",
       "      <td>-0.392000</td>\n",
       "      <td>-0.005000</td>\n",
       "    </tr>\n",
       "    <tr>\n",
       "      <th>50%</th>\n",
       "      <td>0.019000</td>\n",
       "      <td>0.144000</td>\n",
       "      <td>0.420000</td>\n",
       "    </tr>\n",
       "    <tr>\n",
       "      <th>75%</th>\n",
       "      <td>0.475000</td>\n",
       "      <td>0.541000</td>\n",
       "      <td>0.687000</td>\n",
       "    </tr>\n",
       "    <tr>\n",
       "      <th>max</th>\n",
       "      <td>1.000000</td>\n",
       "      <td>1.095000</td>\n",
       "      <td>1.072000</td>\n",
       "    </tr>\n",
       "  </tbody>\n",
       "</table>\n",
       "</div>"
      ],
      "text/plain": [
       "                   X              Y              Z\n",
       "count  629254.000000  629254.000000  629254.000000\n",
       "mean        0.003006       0.076768       0.310776\n",
       "std         0.562532       0.563549       0.473825\n",
       "min        -1.007000      -0.996000      -0.928000\n",
       "25%        -0.496000      -0.392000      -0.005000\n",
       "50%         0.019000       0.144000       0.420000\n",
       "75%         0.475000       0.541000       0.687000\n",
       "max         1.000000       1.095000       1.072000"
      ]
     },
     "execution_count": 31,
     "metadata": {},
     "output_type": "execute_result"
    }
   ],
   "source": [
    "df.describe()"
   ]
  },
  {
   "cell_type": "code",
   "execution_count": 32,
   "id": "d424f484-06b7-41e6-aa89-118b2df7d19b",
   "metadata": {},
   "outputs": [],
   "source": [
    "# Reseta os índices\n",
    "df = df.reset_index(drop=True)"
   ]
  },
  {
   "cell_type": "code",
   "execution_count": 168,
   "id": "3cb3b6fd-4615-4a1a-b724-1844ed7ca91b",
   "metadata": {},
   "outputs": [
    {
     "name": "stdout",
     "output_type": "stream",
     "text": [
      "Acurácio da etapa:\n",
      "68.94554839365854\n"
     ]
    }
   ],
   "source": [
    "avaliar_dataset(df)"
   ]
  },
  {
   "cell_type": "markdown",
   "id": "ca451330-c762-40af-9874-10be96555ec2",
   "metadata": {},
   "source": [
    "## Passo 3: Treinamento"
   ]
  },
  {
   "cell_type": "markdown",
   "id": "afdab152-ea4b-446d-aec5-643f102c4381",
   "metadata": {},
   "source": [
    "### Random Forest"
   ]
  },
  {
   "cell_type": "code",
   "execution_count": 36,
   "id": "f762249d-f775-474d-98c4-61af57266081",
   "metadata": {},
   "outputs": [],
   "source": [
    "X = df[['X', 'Y', 'Z', 'Season']]\n",
    "X = pd.get_dummies(X)\n",
    "\n",
    "y = df.Comportamento\n",
    "\n",
    "X_train, X_valid, y_train, y_valid = train_test_split(X, y, random_state = 0)"
   ]
  },
  {
   "cell_type": "code",
   "execution_count": 172,
   "id": "9889eeb1",
   "metadata": {},
   "outputs": [],
   "source": [
    "model = RandomForestClassifier(n_estimators=100, random_state=0)\n",
    "model.fit(X_train, y_train)\n",
    "preds = model.predict(X_valid)"
   ]
  },
  {
   "cell_type": "code",
   "execution_count": 173,
   "id": "330e2c18",
   "metadata": {},
   "outputs": [
    {
     "data": {
      "text/plain": [
       "184873    Pastejando\n",
       "549499    Pastejando\n",
       "402603    Pastejando\n",
       "199994     Ruminando\n",
       "14157     Pastejando\n",
       "189958    Pastejando\n",
       "291377    Pastejando\n",
       "539346    Pastejando\n",
       "412844          Ocio\n",
       "613529     Ruminando\n",
       "Name: Comportamento, dtype: object"
      ]
     },
     "execution_count": 173,
     "metadata": {},
     "output_type": "execute_result"
    }
   ],
   "source": [
    "y_valid[10:20]"
   ]
  },
  {
   "cell_type": "code",
   "execution_count": 174,
   "id": "c68f04e6",
   "metadata": {},
   "outputs": [
    {
     "data": {
      "text/plain": [
       "array(['Pastejando', 'Pastejando', 'Pastejando', 'Pastejando', 'Ocio',\n",
       "       'Pastejando', 'Pastejando', 'Pastejando', 'Ruminando',\n",
       "       'Pastejando'], dtype=object)"
      ]
     },
     "execution_count": 174,
     "metadata": {},
     "output_type": "execute_result"
    }
   ],
   "source": [
    "preds[10:20]"
   ]
  },
  {
   "cell_type": "code",
   "execution_count": 175,
   "id": "9b90c2d2-2855-4153-9afc-eea8334cfb9b",
   "metadata": {
    "tags": []
   },
   "outputs": [
    {
     "data": {
      "text/plain": [
       "68.94554839365854"
      ]
     },
     "execution_count": 175,
     "metadata": {},
     "output_type": "execute_result"
    }
   ],
   "source": [
    "accuracy_score(y_valid, preds)*100"
   ]
  },
  {
   "cell_type": "markdown",
   "id": "63229ffe-d639-4f33-ab0b-f091b4ab037d",
   "metadata": {},
   "source": [
    "### Validação cruzada"
   ]
  },
  {
   "cell_type": "code",
   "execution_count": 181,
   "id": "97616b63-dbb6-4ee2-9343-e4092f29a549",
   "metadata": {},
   "outputs": [],
   "source": [
    "from sklearn.model_selection import cross_val_score\n",
    "\n",
    "def get_score(n_estimators):\n",
    "    clf = RandomForestClassifier(n_estimators, random_state=0)\n",
    "    \n",
    "    scores = cross_val_score(clf, X, y, cv=3)\n",
    "    return scores.mean()\n"
   ]
  },
  {
   "cell_type": "code",
   "execution_count": 182,
   "id": "48ba2695-7192-4ff5-997a-d03f7d60a03e",
   "metadata": {},
   "outputs": [],
   "source": [
    "results = {} \n",
    "n_estimators = 0\n",
    "while n_estimators < 150:\n",
    "    n_estimators += 50\n",
    "    results[n_estimators] = get_score(n_estimators)"
   ]
  },
  {
   "cell_type": "code",
   "execution_count": 200,
   "id": "07d5541d-0ae4-4a81-b5fb-bba06d31da76",
   "metadata": {},
   "outputs": [
    {
     "data": {
      "image/png": "[encoded data removed]",
      "text/plain": [
       "<Figure size 432x288 with 1 Axes>"
      ]
     },
     "metadata": {
      "needs_background": "light"
     },
     "output_type": "display_data"
    }
   ],
   "source": [
    "import matplotlib.pyplot as plt\n",
    "%matplotlib inline\n",
    "\n",
    "plt.plot(list(results.keys()), list(results.values()))\n",
    "plt.show()"
   ]
  },
  {
   "cell_type": "markdown",
   "id": "7b160002-0af5-4b78-b7d0-4b475f1d7f70",
   "metadata": {},
   "source": [
    "### Matriz de Confusão"
   ]
  },
  {
   "cell_type": "code",
   "execution_count": 185,
   "id": "ec5a6b5e",
   "metadata": {},
   "outputs": [],
   "source": [
    "from sklearn.metrics import confusion_matrix\n",
    "cm = confusion_matrix(y_valid, preds)"
   ]
  },
  {
   "cell_type": "code",
   "execution_count": 186,
   "id": "00102444",
   "metadata": {
    "scrolled": true
   },
   "outputs": [
    {
     "data": {
      "image/png": "[encoded data removed]",
      "text/plain": [
       "<Figure size 432x288 with 2 Axes>"
      ]
     },
     "metadata": {
      "needs_background": "light"
     },
     "output_type": "display_data"
    }
   ],
   "source": [
    "from sklearn.metrics import ConfusionMatrixDisplay\n",
    "import matplotlib.pyplot as plt\n",
    "disp = ConfusionMatrixDisplay(confusion_matrix=cm, display_labels=model.classes_)\n",
    "disp.plot()\n",
    "plt.show()"
   ]
  },
  {
   "cell_type": "markdown",
   "id": "4d6c20f5-0d59-4073-aac9-88750f936bab",
   "metadata": {},
   "source": [
    "### Gradient Boosting"
   ]
  },
  {
   "cell_type": "code",
   "execution_count": 42,
   "id": "cd35ff69-73e5-4f98-8fef-a8e4d5b99fde",
   "metadata": {},
   "outputs": [],
   "source": [
    "X = df[['X', 'Y', 'Z', 'Season']]\n",
    "X = pd.get_dummies(X)\n",
    "y = df.Comportamento\n",
    "\n",
    "X_train, X_valid, y_train, y_valid = train_test_split(X, y, random_state = 0)"
   ]
  },
  {
   "cell_type": "code",
   "execution_count": 43,
   "id": "c44b77a8-a8c4-4436-a880-91eb11574810",
   "metadata": {},
   "outputs": [
    {
     "name": "stderr",
     "output_type": "stream",
     "text": [
      "/home/caio/anaconda3/lib/python3.8/site-packages/xgboost/sklearn.py:888: UserWarning: The use of label encoder in XGBClassifier is deprecated and will be removed in a future release. To remove this warning, do the following: 1) Pass option use_label_encoder=False when constructing XGBClassifier object; and 2) Encode your labels (y) as integers starting with 0, i.e. 0, 1, 2, ..., [num_class - 1].\n",
      "  warnings.warn(label_encoder_deprecation_msg, UserWarning)\n"
     ]
    },
    {
     "name": "stdout",
     "output_type": "stream",
     "text": [
      "[12:51:47] WARNING: /tmp/build/80754af9/xgboost-split_1619724447847/work/src/learner.cc:1061: Starting in XGBoost 1.3.0, the default evaluation metric used with the objective 'multi:softprob' was changed from 'merror' to 'mlogloss'. Explicitly set eval_metric if you'd like to restore the old behavior.\n"
     ]
    },
    {
     "data": {
      "text/plain": [
       "XGBClassifier(base_score=0.5, booster='gbtree', colsample_bylevel=1,\n",
       "              colsample_bynode=1, colsample_bytree=1, gamma=0, gpu_id=-1,\n",
       "              importance_type='gain', interaction_constraints='',\n",
       "              learning_rate=0.300000012, max_delta_step=0, max_depth=6,\n",
       "              min_child_weight=1, missing=nan, monotone_constraints='()',\n",
       "              n_estimators=100, n_jobs=8, num_parallel_tree=1,\n",
       "              objective='multi:softprob', random_state=0, reg_alpha=0,\n",
       "              reg_lambda=1, scale_pos_weight=None, subsample=1,\n",
       "              tree_method='exact', validate_parameters=1, verbosity=None)"
      ]
     },
     "execution_count": 43,
     "metadata": {},
     "output_type": "execute_result"
    }
   ],
   "source": [
    "from xgboost import XGBClassifier\n",
    "\n",
    "xgb_cl = XGBClassifier()\n",
    "xgb_cl.fit(X_train, y_train)"
   ]
  },
  {
   "cell_type": "code",
   "execution_count": 46,
   "id": "da422d2d-a857-4bf5-8b37-00ffd5f74a5b",
   "metadata": {},
   "outputs": [
    {
     "data": {
      "text/plain": [
       "0.6503108432815897"
      ]
     },
     "execution_count": 46,
     "metadata": {},
     "output_type": "execute_result"
    }
   ],
   "source": [
    "preds_2 = xgb_cl.predict(X_valid)\n",
    "\n",
    "accuracy_score(y_valid, preds_2)"
   ]
  },
  {
   "cell_type": "code",
   "execution_count": null,
   "id": "3a282c0c-92c1-48d0-a730-8a6ff01fbb93",
   "metadata": {},
   "outputs": [],
   "source": []
  }
 ],
 "metadata": {
  "kernelspec": {
   "display_name": "Python 3 (ipykernel)",
   "language": "python",
   "name": "python3"
  },
  "language_info": {
   "codemirror_mode": {
    "name": "ipython",
    "version": 3
   },
   "file_extension": ".py",
   "mimetype": "text/x-python",
   "name": "python",
   "nbconvert_exporter": "python",
   "pygments_lexer": "ipython3",
   "version": "3.8.11"
  }
 },
 "nbformat": 4,
 "nbformat_minor": 5
}
