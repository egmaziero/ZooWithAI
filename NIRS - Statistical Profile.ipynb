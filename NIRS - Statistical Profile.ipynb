{
 "cells": [
  {
   "cell_type": "markdown",
   "id": "55c90345",
   "metadata": {
    "tags": []
   },
   "source": [
    "# NIRS\n",
    "### Statistical Profile"
   ]
  },
  {
   "cell_type": "code",
   "execution_count": 2,
   "id": "f76080c4",
   "metadata": {},
   "outputs": [],
   "source": [
    "import numpy as np\n",
    "import pandas as pd\n",
    "from pandas_profiling import ProfileReport"
   ]
  },
  {
   "cell_type": "code",
   "execution_count": 12,
   "id": "5f409c20-93bf-499e-8d2c-e0fb5634a8a0",
   "metadata": {},
   "outputs": [],
   "source": [
    "import pandas as pd\n",
    "import numpy as np\n",
    "import warnings\n",
    "# warnings.filterwarnings('ignore')\n",
    "df = pd.read_excel('Datasets/Lucas/dados_nirs_lucas.xlsx')\n",
    "# Transform all feautere names to string\n",
    "df.columns = df.columns.map(str)"
   ]
  },
  {
   "cell_type": "code",
   "execution_count": 14,
   "id": "8f9b8a71",
   "metadata": {},
   "outputs": [],
   "source": [
    "df = df.loc[:,:'12493.238']"
   ]
  },
  {
   "cell_type": "code",
   "execution_count": 15,
   "id": "517454fb",
   "metadata": {},
   "outputs": [
    {
     "data": {
      "text/plain": [
       "Animal                    0\n",
       "Coleta                    0\n",
       "Aluno                     0\n",
       "Experimento               0\n",
       "Categoria                 0\n",
       "Dieta                     0\n",
       "Status fisiologico        0\n",
       "Peso corporal kg          0\n",
       "Consumo MS kg/dia         0\n",
       "Consumo MO kg/dia         0\n",
       "Consumo PB kg/dia         0\n",
       "Consumo FDN kg/dia        0\n",
       "Consumo EE kg/dia         0\n",
       "Consumo CNF kg/dia        0\n",
       "Consumo de FDNi kg/dia    0\n",
       "Fezes MS kg/dia           0\n",
       "Fezes MO kg/dia           0\n",
       "Fezes PB kg/dia           0\n",
       "Fezes FDN kg/dia          0\n",
       "Fezes EE kg/dia           0\n",
       "Fezes CNF kg/dia          0\n",
       "TD MO                     0\n",
       "TD PB                     0\n",
       "TD FDN                    0\n",
       "TD EE                     0\n",
       "TD CNF                    0\n",
       "TF MO                     0\n",
       "TF PB                     0\n",
       "TF FDN                    0\n",
       "TF EE                     0\n",
       "TF CNF                    0\n",
       "TF FDNpd                  0\n",
       "CD MS                     0\n",
       "CD MO                     0\n",
       "CD PB                     0\n",
       "CD FDN                    0\n",
       "CD EE                     0\n",
       "CD CNF                    0\n",
       "12493.238                 0\n",
       "dtype: int64"
      ]
     },
     "execution_count": 15,
     "metadata": {},
     "output_type": "execute_result"
    }
   ],
   "source": [
    "df.isnull().sum()"
   ]
  },
  {
   "cell_type": "code",
   "execution_count": null,
   "id": "a268b991",
   "metadata": {
    "scrolled": true
   },
   "outputs": [],
   "source": [
    "df = df.astype({\n",
    "    'Experimento' : str,\n",
    "    'Código Master' : str,\n",
    "    'Vaca' : str,\n",
    "    'Periodo/semana' : str,\n",
    "    'Tratamento (T1. T2. T3...)' : str,\n",
    "    'Produção de leite' : float,\n",
    "    'Consumo de PB' : float,\n",
    "    'Consumo de FDN' : float,\n",
    "    'Consumo de Amido' : float,\n",
    "    '%MS fecal' : float,\n",
    "    '%PB fecal' : float,\n",
    "    '%FDN fecal' : float,\n",
    "    '% amido fecal' : float,\n",
    "    'Dig. MS' : float,                  \n",
    "    'Dig. PB' : float,                 \n",
    "    'Dig. Amido' : float,\n",
    "    'Dig. FDN' : float,\n",
    "    'EUN' : float,\n",
    "    'Efic. Alimentar' : float,\n",
    "    '19 mm' : float,\n",
    "    '8 mm' : float,\n",
    "    'Fundo' : float\n",
    "})"
   ]
  },
  {
   "cell_type": "code",
   "execution_count": 17,
   "id": "b18181dc",
   "metadata": {},
   "outputs": [],
   "source": [
    "# Geração do profile estatístico\n",
    "profile = ProfileReport(df)\n",
    "# profile.to_notebook_iframe()\n",
    "profile.to_file(\"CP.html\")"
   ]
  },
  {
   "cell_type": "code",
   "execution_count": null,
   "id": "7aba2b6b",
   "metadata": {},
   "outputs": [],
   "source": []
  }
 ],
 "metadata": {
  "kernelspec": {
   "display_name": "Python 3 (ipykernel)",
   "language": "python",
   "name": "python3"
  },
  "language_info": {
   "codemirror_mode": {
    "name": "ipython",
    "version": 3
   },
   "file_extension": ".py",
   "mimetype": "text/x-python",
   "name": "python",
   "nbconvert_exporter": "python",
   "pygments_lexer": "ipython3",
   "version": "3.9.12"
  }
 },
 "nbformat": 4,
 "nbformat_minor": 5
}
