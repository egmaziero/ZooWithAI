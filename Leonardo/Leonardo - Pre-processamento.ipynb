{
 "cells": [
  {
   "cell_type": "code",
   "execution_count": 1,
   "id": "839f621d-28b2-4126-a91d-51e547d1ad12",
   "metadata": {},
   "outputs": [],
   "source": [
    "import pandas as pd\n",
    "import numpy as np"
   ]
  },
  {
   "cell_type": "code",
   "execution_count": 2,
   "id": "5bcac21f-95d9-4948-ab6c-f3f593804d50",
   "metadata": {},
   "outputs": [],
   "source": [
    "df = pd.read_csv(\"../Datasets/Leonardo/dados_leonardo.csv\")"
   ]
  },
  {
   "cell_type": "markdown",
   "id": "ee31e845-e784-4b8a-9c67-f2ca0367f5cb",
   "metadata": {
    "tags": []
   },
   "source": [
    "## Passo 1: Leitura dos dados\n",
    "Leitura dos bancos de dados em DataFrame Pandas. "
   ]
  },
  {
   "cell_type": "code",
   "execution_count": 3,
   "id": "45d8ade9-f224-41d9-a1b5-9f59e7ebdb6c",
   "metadata": {},
   "outputs": [
    {
     "data": {
      "text/plain": [
       "Index(['MessageID', 'SensorID', 'Sensor Name', 'Date', 'Value', 'Battery',\n",
       "       'Sensor State', 'GatewayID', 'Alert Sent', 'Signal Strength', 'Voltage',\n",
       "       'X', 'Y', 'Z', 'Comportamento'],\n",
       "      dtype='object')"
      ]
     },
     "execution_count": 3,
     "metadata": {},
     "output_type": "execute_result"
    }
   ],
   "source": [
    "df.columns"
   ]
  },
  {
   "cell_type": "code",
   "execution_count": 4,
   "id": "c0e1ca66-6824-4402-aff7-95349481ef72",
   "metadata": {},
   "outputs": [],
   "source": [
    "df = df.drop(columns=['MessageID', 'Sensor Name', 'Battery', 'Sensor State', 'GatewayID', 'Signal Strength', 'Alert Sent'])"
   ]
  },
  {
   "cell_type": "code",
   "execution_count": 5,
   "id": "8ede5210-16a6-4e5f-b90c-275ce54018d1",
   "metadata": {},
   "outputs": [
    {
     "data": {
      "text/html": [
       "<div>\n",
       "<style scoped>\n",
       "    .dataframe tbody tr th:only-of-type {\n",
       "        vertical-align: middle;\n",
       "    }\n",
       "\n",
       "    .dataframe tbody tr th {\n",
       "        vertical-align: top;\n",
       "    }\n",
       "\n",
       "    .dataframe thead th {\n",
       "        text-align: right;\n",
       "    }\n",
       "</style>\n",
       "<table border=\"1\" class=\"dataframe\">\n",
       "  <thead>\n",
       "    <tr style=\"text-align: right;\">\n",
       "      <th></th>\n",
       "      <th>SensorID</th>\n",
       "      <th>Date</th>\n",
       "      <th>Value</th>\n",
       "      <th>Voltage</th>\n",
       "      <th>X</th>\n",
       "      <th>Y</th>\n",
       "      <th>Z</th>\n",
       "      <th>Comportamento</th>\n",
       "    </tr>\n",
       "  </thead>\n",
       "  <tbody>\n",
       "    <tr>\n",
       "      <th>0</th>\n",
       "      <td>175810</td>\n",
       "      <td>2019-01-21 08:15:03</td>\n",
       "      <td>1.115</td>\n",
       "      <td>3.04</td>\n",
       "      <td>-0.171</td>\n",
       "      <td>1.115</td>\n",
       "      <td>0.242</td>\n",
       "      <td>Pastejando</td>\n",
       "    </tr>\n",
       "    <tr>\n",
       "      <th>1</th>\n",
       "      <td>175810</td>\n",
       "      <td>2019-01-21 08:16:03</td>\n",
       "      <td>0.689</td>\n",
       "      <td>3.03</td>\n",
       "      <td>-0.610</td>\n",
       "      <td>0.120</td>\n",
       "      <td>0.689</td>\n",
       "      <td>Locomovendo</td>\n",
       "    </tr>\n",
       "    <tr>\n",
       "      <th>2</th>\n",
       "      <td>175810</td>\n",
       "      <td>2019-01-21 08:16:04</td>\n",
       "      <td>0.583</td>\n",
       "      <td>3.02</td>\n",
       "      <td>-0.702</td>\n",
       "      <td>0.071</td>\n",
       "      <td>0.583</td>\n",
       "      <td>Pastejando</td>\n",
       "    </tr>\n",
       "    <tr>\n",
       "      <th>3</th>\n",
       "      <td>175810</td>\n",
       "      <td>2019-01-21 08:16:05</td>\n",
       "      <td>0.683</td>\n",
       "      <td>3.01</td>\n",
       "      <td>-0.594</td>\n",
       "      <td>-0.026</td>\n",
       "      <td>0.683</td>\n",
       "      <td>Pastejando</td>\n",
       "    </tr>\n",
       "    <tr>\n",
       "      <th>4</th>\n",
       "      <td>175810</td>\n",
       "      <td>2019-01-21 08:16:06</td>\n",
       "      <td>0.631</td>\n",
       "      <td>3.01</td>\n",
       "      <td>-0.706</td>\n",
       "      <td>0.059</td>\n",
       "      <td>0.631</td>\n",
       "      <td>Pastejando</td>\n",
       "    </tr>\n",
       "    <tr>\n",
       "      <th>...</th>\n",
       "      <td>...</td>\n",
       "      <td>...</td>\n",
       "      <td>...</td>\n",
       "      <td>...</td>\n",
       "      <td>...</td>\n",
       "      <td>...</td>\n",
       "      <td>...</td>\n",
       "      <td>...</td>\n",
       "    </tr>\n",
       "    <tr>\n",
       "      <th>140735</th>\n",
       "      <td>434137</td>\n",
       "      <td>2019-02-22 17:45:06</td>\n",
       "      <td>0.844</td>\n",
       "      <td>2.83</td>\n",
       "      <td>0.844</td>\n",
       "      <td>0.571</td>\n",
       "      <td>-0.957</td>\n",
       "      <td>Ocio EM PE</td>\n",
       "    </tr>\n",
       "    <tr>\n",
       "      <th>140736</th>\n",
       "      <td>434137</td>\n",
       "      <td>2019-02-22 17:45:12</td>\n",
       "      <td>0.628</td>\n",
       "      <td>2.82</td>\n",
       "      <td>-0.114</td>\n",
       "      <td>0.628</td>\n",
       "      <td>-1.772</td>\n",
       "      <td>Ocio EM PE</td>\n",
       "    </tr>\n",
       "    <tr>\n",
       "      <th>140737</th>\n",
       "      <td>434137</td>\n",
       "      <td>2019-02-22 17:45:11</td>\n",
       "      <td>0.835</td>\n",
       "      <td>2.84</td>\n",
       "      <td>0.428</td>\n",
       "      <td>0.835</td>\n",
       "      <td>-0.015</td>\n",
       "      <td>Ocio EM PE</td>\n",
       "    </tr>\n",
       "    <tr>\n",
       "      <th>140738</th>\n",
       "      <td>434137</td>\n",
       "      <td>2019-02-22 17:45:13</td>\n",
       "      <td>0.811</td>\n",
       "      <td>2.84</td>\n",
       "      <td>0.487</td>\n",
       "      <td>0.811</td>\n",
       "      <td>0.150</td>\n",
       "      <td>Ocio EM PE</td>\n",
       "    </tr>\n",
       "    <tr>\n",
       "      <th>140739</th>\n",
       "      <td>434137</td>\n",
       "      <td>2019-02-22 17:45:14</td>\n",
       "      <td>0.889</td>\n",
       "      <td>2.83</td>\n",
       "      <td>0.263</td>\n",
       "      <td>0.889</td>\n",
       "      <td>0.129</td>\n",
       "      <td>Ocio EM PE</td>\n",
       "    </tr>\n",
       "  </tbody>\n",
       "</table>\n",
       "<p>140740 rows × 8 columns</p>\n",
       "</div>"
      ],
      "text/plain": [
       "        SensorID                 Date  Value  Voltage      X      Y      Z  \\\n",
       "0         175810  2019-01-21 08:15:03  1.115     3.04 -0.171  1.115  0.242   \n",
       "1         175810  2019-01-21 08:16:03  0.689     3.03 -0.610  0.120  0.689   \n",
       "2         175810  2019-01-21 08:16:04  0.583     3.02 -0.702  0.071  0.583   \n",
       "3         175810  2019-01-21 08:16:05  0.683     3.01 -0.594 -0.026  0.683   \n",
       "4         175810  2019-01-21 08:16:06  0.631     3.01 -0.706  0.059  0.631   \n",
       "...          ...                  ...    ...      ...    ...    ...    ...   \n",
       "140735    434137  2019-02-22 17:45:06  0.844     2.83  0.844  0.571 -0.957   \n",
       "140736    434137  2019-02-22 17:45:12  0.628     2.82 -0.114  0.628 -1.772   \n",
       "140737    434137  2019-02-22 17:45:11  0.835     2.84  0.428  0.835 -0.015   \n",
       "140738    434137  2019-02-22 17:45:13  0.811     2.84  0.487  0.811  0.150   \n",
       "140739    434137  2019-02-22 17:45:14  0.889     2.83  0.263  0.889  0.129   \n",
       "\n",
       "       Comportamento  \n",
       "0         Pastejando  \n",
       "1        Locomovendo  \n",
       "2         Pastejando  \n",
       "3         Pastejando  \n",
       "4         Pastejando  \n",
       "...              ...  \n",
       "140735    Ocio EM PE  \n",
       "140736    Ocio EM PE  \n",
       "140737    Ocio EM PE  \n",
       "140738    Ocio EM PE  \n",
       "140739    Ocio EM PE  \n",
       "\n",
       "[140740 rows x 8 columns]"
      ]
     },
     "execution_count": 5,
     "metadata": {},
     "output_type": "execute_result"
    }
   ],
   "source": [
    "df"
   ]
  },
  {
   "cell_type": "markdown",
   "id": "669d61ba-5b23-4a3a-bc6d-58fef5d3c574",
   "metadata": {
    "tags": []
   },
   "source": [
    "## Passo 2: Pré-processamento\n"
   ]
  },
  {
   "cell_type": "code",
   "execution_count": 6,
   "id": "59078bde-38c3-41a2-8b03-2ecf011529c5",
   "metadata": {},
   "outputs": [],
   "source": [
    "from sklearn.ensemble import RandomForestClassifier\n",
    "from sklearn.metrics import accuracy_score\n",
    "\n",
    "# Função para calcular acuracia de cada etapa do Pré-processamento\n",
    "def calc_acuracia(X_train, X_test, y_train, y_test):\n",
    "    model = RandomForestClassifier(n_estimators=100, n_jobs=-1, random_state=0)\n",
    "    model.fit(X_train, y_train)\n",
    "    preds = model.predict(X_test)\n",
    "    print(\"Acurácia da etapa nos dados de teste:\", end=\" \")\n",
    "    print(accuracy_score(y_test, preds)*100)\n",
    "    preds = model.predict(X_train)\n",
    "    print(\"Acurácia da etapa nos dados de treino:\", end=\" \")\n",
    "    print(accuracy_score(y_train, preds)*100)"
   ]
  },
  {
   "cell_type": "markdown",
   "id": "e9579689-0353-4d84-9171-50e7132a4ebe",
   "metadata": {
    "tags": []
   },
   "source": [
    "### 2.1 Lidando com dados faltantes"
   ]
  },
  {
   "cell_type": "code",
   "execution_count": 7,
   "id": "3d82192f-0e8b-4069-b44c-7708a1396147",
   "metadata": {},
   "outputs": [
    {
     "data": {
      "text/html": [
       "<div>\n",
       "<style scoped>\n",
       "    .dataframe tbody tr th:only-of-type {\n",
       "        vertical-align: middle;\n",
       "    }\n",
       "\n",
       "    .dataframe tbody tr th {\n",
       "        vertical-align: top;\n",
       "    }\n",
       "\n",
       "    .dataframe thead th {\n",
       "        text-align: right;\n",
       "    }\n",
       "</style>\n",
       "<table border=\"1\" class=\"dataframe\">\n",
       "  <thead>\n",
       "    <tr style=\"text-align: right;\">\n",
       "      <th></th>\n",
       "      <th>SensorID</th>\n",
       "      <th>Date</th>\n",
       "      <th>Value</th>\n",
       "      <th>Voltage</th>\n",
       "      <th>X</th>\n",
       "      <th>Y</th>\n",
       "      <th>Z</th>\n",
       "      <th>Comportamento</th>\n",
       "    </tr>\n",
       "  </thead>\n",
       "  <tbody>\n",
       "  </tbody>\n",
       "</table>\n",
       "</div>"
      ],
      "text/plain": [
       "Empty DataFrame\n",
       "Columns: [SensorID, Date, Value, Voltage, X, Y, Z, Comportamento]\n",
       "Index: []"
      ]
     },
     "execution_count": 7,
     "metadata": {},
     "output_type": "execute_result"
    }
   ],
   "source": [
    "df[df.isnull().any(axis=1)]"
   ]
  },
  {
   "cell_type": "code",
   "execution_count": 8,
   "id": "e2f8e2f4-c5c5-41f7-bc32-3bb0fea4cd1c",
   "metadata": {},
   "outputs": [
    {
     "data": {
      "text/plain": [
       "SensorID         0\n",
       "Date             0\n",
       "Value            0\n",
       "Voltage          0\n",
       "X                0\n",
       "Y                0\n",
       "Z                0\n",
       "Comportamento    0\n",
       "dtype: int64"
      ]
     },
     "execution_count": 8,
     "metadata": {},
     "output_type": "execute_result"
    }
   ],
   "source": [
    "df.isnull().sum()"
   ]
  },
  {
   "cell_type": "markdown",
   "id": "dcc3aaf4-f176-4527-9b4c-95bca5c1ef6c",
   "metadata": {
    "tags": []
   },
   "source": [
    "### 2.2 Tratamento de dados categóricos"
   ]
  },
  {
   "cell_type": "code",
   "execution_count": 9,
   "id": "39aeccbe-9a50-4316-862d-026ba154d331",
   "metadata": {},
   "outputs": [
    {
     "data": {
      "text/plain": [
       "array(['Agua', 'Locomovendo', 'Ocio DEITADO', 'Ocio EM PE', 'Pastejando',\n",
       "       'Ruminando DEITADO', 'Ruminando EM PE'], dtype=object)"
      ]
     },
     "execution_count": 9,
     "metadata": {},
     "output_type": "execute_result"
    }
   ],
   "source": [
    "np.unique(df['Comportamento'])"
   ]
  },
  {
   "cell_type": "code",
   "execution_count": 10,
   "id": "93333cfc-fc5f-4bd6-b172-5e21bf7320b0",
   "metadata": {},
   "outputs": [],
   "source": [
    "df = df.replace(['Ocio DEITADO', 'Ocio EM PE'], 'Ocio')"
   ]
  },
  {
   "cell_type": "code",
   "execution_count": 11,
   "id": "00f1cb51-4d7c-4452-8631-c7234875a411",
   "metadata": {},
   "outputs": [],
   "source": [
    "df = df.replace(['Ruminando DEITADO', 'Ruminando EM PE'], 'Ruminando')"
   ]
  },
  {
   "cell_type": "code",
   "execution_count": 12,
   "id": "6321ac45-a16b-45f1-b172-c8f7e28059e3",
   "metadata": {},
   "outputs": [],
   "source": [
    "# Devido a baixa quantidade de dados desses comportamentos em relação ao de mais, suas obseravações são deletadas\n",
    "\n",
    "df = df.replace(['Agua', 'Locomovendo'], np.NaN)\n",
    "df = df.dropna(axis=0)"
   ]
  },
  {
   "cell_type": "code",
   "execution_count": 13,
   "id": "26f7a522-7e7d-45d6-b40b-cc9afc6533f9",
   "metadata": {},
   "outputs": [],
   "source": [
    "# Para manter conformidade com o One-Hot encoding dos dados do Lázaro\n",
    "df.insert(8, \"Season_fall\", 0)\n",
    "df.insert(9, \"Season_spring\", 0)\n",
    "df.insert(10, \"Season_summer\", 1)"
   ]
  },
  {
   "cell_type": "code",
   "execution_count": 14,
   "id": "2eea4b1f-6d95-4aad-9fc4-e1c6f1e81f54",
   "metadata": {},
   "outputs": [
    {
     "data": {
      "text/html": [
       "<div>\n",
       "<style scoped>\n",
       "    .dataframe tbody tr th:only-of-type {\n",
       "        vertical-align: middle;\n",
       "    }\n",
       "\n",
       "    .dataframe tbody tr th {\n",
       "        vertical-align: top;\n",
       "    }\n",
       "\n",
       "    .dataframe thead th {\n",
       "        text-align: right;\n",
       "    }\n",
       "</style>\n",
       "<table border=\"1\" class=\"dataframe\">\n",
       "  <thead>\n",
       "    <tr style=\"text-align: right;\">\n",
       "      <th></th>\n",
       "      <th>SensorID</th>\n",
       "      <th>Date</th>\n",
       "      <th>Value</th>\n",
       "      <th>Voltage</th>\n",
       "      <th>X</th>\n",
       "      <th>Y</th>\n",
       "      <th>Z</th>\n",
       "      <th>Comportamento</th>\n",
       "      <th>Season_fall</th>\n",
       "      <th>Season_spring</th>\n",
       "      <th>Season_summer</th>\n",
       "    </tr>\n",
       "  </thead>\n",
       "  <tbody>\n",
       "    <tr>\n",
       "      <th>0</th>\n",
       "      <td>175810</td>\n",
       "      <td>2019-01-21 08:15:03</td>\n",
       "      <td>1.115</td>\n",
       "      <td>3.04</td>\n",
       "      <td>-0.171</td>\n",
       "      <td>1.115</td>\n",
       "      <td>0.242</td>\n",
       "      <td>Pastejando</td>\n",
       "      <td>0</td>\n",
       "      <td>0</td>\n",
       "      <td>1</td>\n",
       "    </tr>\n",
       "    <tr>\n",
       "      <th>2</th>\n",
       "      <td>175810</td>\n",
       "      <td>2019-01-21 08:16:04</td>\n",
       "      <td>0.583</td>\n",
       "      <td>3.02</td>\n",
       "      <td>-0.702</td>\n",
       "      <td>0.071</td>\n",
       "      <td>0.583</td>\n",
       "      <td>Pastejando</td>\n",
       "      <td>0</td>\n",
       "      <td>0</td>\n",
       "      <td>1</td>\n",
       "    </tr>\n",
       "    <tr>\n",
       "      <th>3</th>\n",
       "      <td>175810</td>\n",
       "      <td>2019-01-21 08:16:05</td>\n",
       "      <td>0.683</td>\n",
       "      <td>3.01</td>\n",
       "      <td>-0.594</td>\n",
       "      <td>-0.026</td>\n",
       "      <td>0.683</td>\n",
       "      <td>Pastejando</td>\n",
       "      <td>0</td>\n",
       "      <td>0</td>\n",
       "      <td>1</td>\n",
       "    </tr>\n",
       "    <tr>\n",
       "      <th>4</th>\n",
       "      <td>175810</td>\n",
       "      <td>2019-01-21 08:16:06</td>\n",
       "      <td>0.631</td>\n",
       "      <td>3.01</td>\n",
       "      <td>-0.706</td>\n",
       "      <td>0.059</td>\n",
       "      <td>0.631</td>\n",
       "      <td>Pastejando</td>\n",
       "      <td>0</td>\n",
       "      <td>0</td>\n",
       "      <td>1</td>\n",
       "    </tr>\n",
       "    <tr>\n",
       "      <th>5</th>\n",
       "      <td>175810</td>\n",
       "      <td>2019-01-21 08:16:07</td>\n",
       "      <td>0.604</td>\n",
       "      <td>3.01</td>\n",
       "      <td>-0.805</td>\n",
       "      <td>0.081</td>\n",
       "      <td>0.604</td>\n",
       "      <td>Pastejando</td>\n",
       "      <td>0</td>\n",
       "      <td>0</td>\n",
       "      <td>1</td>\n",
       "    </tr>\n",
       "    <tr>\n",
       "      <th>...</th>\n",
       "      <td>...</td>\n",
       "      <td>...</td>\n",
       "      <td>...</td>\n",
       "      <td>...</td>\n",
       "      <td>...</td>\n",
       "      <td>...</td>\n",
       "      <td>...</td>\n",
       "      <td>...</td>\n",
       "      <td>...</td>\n",
       "      <td>...</td>\n",
       "      <td>...</td>\n",
       "    </tr>\n",
       "    <tr>\n",
       "      <th>140735</th>\n",
       "      <td>434137</td>\n",
       "      <td>2019-02-22 17:45:06</td>\n",
       "      <td>0.844</td>\n",
       "      <td>2.83</td>\n",
       "      <td>0.844</td>\n",
       "      <td>0.571</td>\n",
       "      <td>-0.957</td>\n",
       "      <td>Ocio</td>\n",
       "      <td>0</td>\n",
       "      <td>0</td>\n",
       "      <td>1</td>\n",
       "    </tr>\n",
       "    <tr>\n",
       "      <th>140736</th>\n",
       "      <td>434137</td>\n",
       "      <td>2019-02-22 17:45:12</td>\n",
       "      <td>0.628</td>\n",
       "      <td>2.82</td>\n",
       "      <td>-0.114</td>\n",
       "      <td>0.628</td>\n",
       "      <td>-1.772</td>\n",
       "      <td>Ocio</td>\n",
       "      <td>0</td>\n",
       "      <td>0</td>\n",
       "      <td>1</td>\n",
       "    </tr>\n",
       "    <tr>\n",
       "      <th>140737</th>\n",
       "      <td>434137</td>\n",
       "      <td>2019-02-22 17:45:11</td>\n",
       "      <td>0.835</td>\n",
       "      <td>2.84</td>\n",
       "      <td>0.428</td>\n",
       "      <td>0.835</td>\n",
       "      <td>-0.015</td>\n",
       "      <td>Ocio</td>\n",
       "      <td>0</td>\n",
       "      <td>0</td>\n",
       "      <td>1</td>\n",
       "    </tr>\n",
       "    <tr>\n",
       "      <th>140738</th>\n",
       "      <td>434137</td>\n",
       "      <td>2019-02-22 17:45:13</td>\n",
       "      <td>0.811</td>\n",
       "      <td>2.84</td>\n",
       "      <td>0.487</td>\n",
       "      <td>0.811</td>\n",
       "      <td>0.150</td>\n",
       "      <td>Ocio</td>\n",
       "      <td>0</td>\n",
       "      <td>0</td>\n",
       "      <td>1</td>\n",
       "    </tr>\n",
       "    <tr>\n",
       "      <th>140739</th>\n",
       "      <td>434137</td>\n",
       "      <td>2019-02-22 17:45:14</td>\n",
       "      <td>0.889</td>\n",
       "      <td>2.83</td>\n",
       "      <td>0.263</td>\n",
       "      <td>0.889</td>\n",
       "      <td>0.129</td>\n",
       "      <td>Ocio</td>\n",
       "      <td>0</td>\n",
       "      <td>0</td>\n",
       "      <td>1</td>\n",
       "    </tr>\n",
       "  </tbody>\n",
       "</table>\n",
       "<p>138999 rows × 11 columns</p>\n",
       "</div>"
      ],
      "text/plain": [
       "        SensorID                 Date  Value  Voltage      X      Y      Z  \\\n",
       "0         175810  2019-01-21 08:15:03  1.115     3.04 -0.171  1.115  0.242   \n",
       "2         175810  2019-01-21 08:16:04  0.583     3.02 -0.702  0.071  0.583   \n",
       "3         175810  2019-01-21 08:16:05  0.683     3.01 -0.594 -0.026  0.683   \n",
       "4         175810  2019-01-21 08:16:06  0.631     3.01 -0.706  0.059  0.631   \n",
       "5         175810  2019-01-21 08:16:07  0.604     3.01 -0.805  0.081  0.604   \n",
       "...          ...                  ...    ...      ...    ...    ...    ...   \n",
       "140735    434137  2019-02-22 17:45:06  0.844     2.83  0.844  0.571 -0.957   \n",
       "140736    434137  2019-02-22 17:45:12  0.628     2.82 -0.114  0.628 -1.772   \n",
       "140737    434137  2019-02-22 17:45:11  0.835     2.84  0.428  0.835 -0.015   \n",
       "140738    434137  2019-02-22 17:45:13  0.811     2.84  0.487  0.811  0.150   \n",
       "140739    434137  2019-02-22 17:45:14  0.889     2.83  0.263  0.889  0.129   \n",
       "\n",
       "       Comportamento  Season_fall  Season_spring  Season_summer  \n",
       "0         Pastejando            0              0              1  \n",
       "2         Pastejando            0              0              1  \n",
       "3         Pastejando            0              0              1  \n",
       "4         Pastejando            0              0              1  \n",
       "5         Pastejando            0              0              1  \n",
       "...              ...          ...            ...            ...  \n",
       "140735          Ocio            0              0              1  \n",
       "140736          Ocio            0              0              1  \n",
       "140737          Ocio            0              0              1  \n",
       "140738          Ocio            0              0              1  \n",
       "140739          Ocio            0              0              1  \n",
       "\n",
       "[138999 rows x 11 columns]"
      ]
     },
     "execution_count": 14,
     "metadata": {},
     "output_type": "execute_result"
    }
   ],
   "source": [
    "df"
   ]
  },
  {
   "cell_type": "markdown",
   "id": "a21237fc-6193-4483-a3bd-6258b603c463",
   "metadata": {
    "tags": []
   },
   "source": [
    "### 2.3 Tratamento de outliers"
   ]
  },
  {
   "cell_type": "markdown",
   "id": "2b31452a-63b4-45d2-9af0-cad908db828e",
   "metadata": {
    "tags": []
   },
   "source": [
    "#### Estatística básica dos dados"
   ]
  },
  {
   "cell_type": "code",
   "execution_count": 15,
   "id": "e2361277-9ced-4beb-a2c9-73b8db186522",
   "metadata": {},
   "outputs": [],
   "source": [
    "import seaborn as sns\n",
    "import matplotlib.pyplot as plt\n",
    "sns.set_theme(style=\"darkgrid\", palette=\"rainbow\")\n",
    "%matplotlib inline"
   ]
  },
  {
   "cell_type": "code",
   "execution_count": 16,
   "id": "74265736-962b-4f02-9854-b0bcb542bab2",
   "metadata": {},
   "outputs": [
    {
     "data": {
      "image/png": "[encoded data removed]",
      "text/plain": [
       "<Figure size 1080x504 with 3 Axes>"
      ]
     },
     "metadata": {
      "needs_background": "light"
     },
     "output_type": "display_data"
    }
   ],
   "source": [
    "plt.figure(figsize=(15,7))\n",
    "plt.subplot(1,3,1)\n",
    "plt.title(\"Distribuição de X\", fontsize=15)\n",
    "sns.kdeplot(data = df[\"X\"])\n",
    "plt.subplot(1,3,2)\n",
    "plt.title(\"Distribuição de Y\", fontsize=15)\n",
    "sns.kdeplot(data = df[\"Y\"])\n",
    "plt.subplot(1,3,3)\n",
    "plt.title(\"Distribuição de Z\", fontsize=15)\n",
    "sns.kdeplot(data = df[\"Z\"])\n",
    "plt.show()"
   ]
  },
  {
   "cell_type": "markdown",
   "id": "ae6135a2-60df-431a-89db-5847d905106f",
   "metadata": {
    "tags": []
   },
   "source": [
    "#### Usando especificações do sensor"
   ]
  },
  {
   "cell_type": "code",
   "execution_count": 17,
   "id": "d1bc5667-408c-406e-b91e-5024075322b0",
   "metadata": {},
   "outputs": [
    {
     "data": {
      "text/html": [
       "<div>\n",
       "<style scoped>\n",
       "    .dataframe tbody tr th:only-of-type {\n",
       "        vertical-align: middle;\n",
       "    }\n",
       "\n",
       "    .dataframe tbody tr th {\n",
       "        vertical-align: top;\n",
       "    }\n",
       "\n",
       "    .dataframe thead th {\n",
       "        text-align: right;\n",
       "    }\n",
       "</style>\n",
       "<table border=\"1\" class=\"dataframe\">\n",
       "  <thead>\n",
       "    <tr style=\"text-align: right;\">\n",
       "      <th></th>\n",
       "      <th>SensorID</th>\n",
       "      <th>Value</th>\n",
       "      <th>Voltage</th>\n",
       "      <th>X</th>\n",
       "      <th>Y</th>\n",
       "      <th>Z</th>\n",
       "      <th>Season_fall</th>\n",
       "      <th>Season_spring</th>\n",
       "      <th>Season_summer</th>\n",
       "    </tr>\n",
       "  </thead>\n",
       "  <tbody>\n",
       "    <tr>\n",
       "      <th>count</th>\n",
       "      <td>138999.000000</td>\n",
       "      <td>138999.000000</td>\n",
       "      <td>138999.000000</td>\n",
       "      <td>138999.000000</td>\n",
       "      <td>138999.000000</td>\n",
       "      <td>138999.000000</td>\n",
       "      <td>138999.0</td>\n",
       "      <td>138999.0</td>\n",
       "      <td>138999.0</td>\n",
       "    </tr>\n",
       "    <tr>\n",
       "      <th>mean</th>\n",
       "      <td>375381.364571</td>\n",
       "      <td>0.751133</td>\n",
       "      <td>2.883697</td>\n",
       "      <td>0.095852</td>\n",
       "      <td>0.383239</td>\n",
       "      <td>0.227630</td>\n",
       "      <td>0.0</td>\n",
       "      <td>0.0</td>\n",
       "      <td>1.0</td>\n",
       "    </tr>\n",
       "    <tr>\n",
       "      <th>std</th>\n",
       "      <td>90941.468910</td>\n",
       "      <td>0.214106</td>\n",
       "      <td>0.068649</td>\n",
       "      <td>0.450015</td>\n",
       "      <td>0.459595</td>\n",
       "      <td>0.617134</td>\n",
       "      <td>0.0</td>\n",
       "      <td>0.0</td>\n",
       "      <td>0.0</td>\n",
       "    </tr>\n",
       "    <tr>\n",
       "      <th>min</th>\n",
       "      <td>175810.000000</td>\n",
       "      <td>-1.999000</td>\n",
       "      <td>2.640000</td>\n",
       "      <td>-1.999000</td>\n",
       "      <td>-1.999000</td>\n",
       "      <td>-1.999000</td>\n",
       "      <td>0.0</td>\n",
       "      <td>0.0</td>\n",
       "      <td>1.0</td>\n",
       "    </tr>\n",
       "    <tr>\n",
       "      <th>25%</th>\n",
       "      <td>304767.000000</td>\n",
       "      <td>0.652000</td>\n",
       "      <td>2.850000</td>\n",
       "      <td>-0.218000</td>\n",
       "      <td>0.036000</td>\n",
       "      <td>-0.349000</td>\n",
       "      <td>0.0</td>\n",
       "      <td>0.0</td>\n",
       "      <td>1.0</td>\n",
       "    </tr>\n",
       "    <tr>\n",
       "      <th>50%</th>\n",
       "      <td>434136.000000</td>\n",
       "      <td>0.775000</td>\n",
       "      <td>2.890000</td>\n",
       "      <td>0.086000</td>\n",
       "      <td>0.497000</td>\n",
       "      <td>0.379000</td>\n",
       "      <td>0.0</td>\n",
       "      <td>0.0</td>\n",
       "      <td>1.0</td>\n",
       "    </tr>\n",
       "    <tr>\n",
       "      <th>75%</th>\n",
       "      <td>434138.000000</td>\n",
       "      <td>0.893000</td>\n",
       "      <td>2.930000</td>\n",
       "      <td>0.478000</td>\n",
       "      <td>0.745000</td>\n",
       "      <td>0.768000</td>\n",
       "      <td>0.0</td>\n",
       "      <td>0.0</td>\n",
       "      <td>1.0</td>\n",
       "    </tr>\n",
       "    <tr>\n",
       "      <th>max</th>\n",
       "      <td>434139.000000</td>\n",
       "      <td>2.000000</td>\n",
       "      <td>3.240000</td>\n",
       "      <td>2.000000</td>\n",
       "      <td>2.000000</td>\n",
       "      <td>2.000000</td>\n",
       "      <td>0.0</td>\n",
       "      <td>0.0</td>\n",
       "      <td>1.0</td>\n",
       "    </tr>\n",
       "  </tbody>\n",
       "</table>\n",
       "</div>"
      ],
      "text/plain": [
       "            SensorID          Value        Voltage              X  \\\n",
       "count  138999.000000  138999.000000  138999.000000  138999.000000   \n",
       "mean   375381.364571       0.751133       2.883697       0.095852   \n",
       "std     90941.468910       0.214106       0.068649       0.450015   \n",
       "min    175810.000000      -1.999000       2.640000      -1.999000   \n",
       "25%    304767.000000       0.652000       2.850000      -0.218000   \n",
       "50%    434136.000000       0.775000       2.890000       0.086000   \n",
       "75%    434138.000000       0.893000       2.930000       0.478000   \n",
       "max    434139.000000       2.000000       3.240000       2.000000   \n",
       "\n",
       "                   Y              Z  Season_fall  Season_spring  Season_summer  \n",
       "count  138999.000000  138999.000000     138999.0       138999.0       138999.0  \n",
       "mean        0.383239       0.227630          0.0            0.0            1.0  \n",
       "std         0.459595       0.617134          0.0            0.0            0.0  \n",
       "min        -1.999000      -1.999000          0.0            0.0            1.0  \n",
       "25%         0.036000      -0.349000          0.0            0.0            1.0  \n",
       "50%         0.497000       0.379000          0.0            0.0            1.0  \n",
       "75%         0.745000       0.768000          0.0            0.0            1.0  \n",
       "max         2.000000       2.000000          0.0            0.0            1.0  "
      ]
     },
     "execution_count": 17,
     "metadata": {},
     "output_type": "execute_result"
    }
   ],
   "source": [
    "df.describe()"
   ]
  },
  {
   "cell_type": "code",
   "execution_count": 18,
   "id": "e0ae8697-08ed-496a-927f-aaca61de7b02",
   "metadata": {},
   "outputs": [],
   "source": [
    "# Range mínimo e máximo do aceleromêtro\n",
    "min = float(-1.999)\n",
    "max = float(1.999)"
   ]
  },
  {
   "cell_type": "code",
   "execution_count": 19,
   "id": "f6c1ca58-7808-4b0a-aa88-9f42276928c1",
   "metadata": {},
   "outputs": [],
   "source": [
    "df.loc[df.X > max, 'X'] = max\n",
    "df.loc[df.Y > max, 'Y'] = max\n",
    "df.loc[df.Z > max, 'Z'] = max\n",
    "\n",
    "df.loc[df.X < min, 'X'] = min\n",
    "df.loc[df.Y < min, 'Y'] = min\n",
    "df.loc[df.Z < min, 'Z'] = min"
   ]
  },
  {
   "cell_type": "markdown",
   "id": "0f849085-9e77-48b0-b349-2274e36aab24",
   "metadata": {
    "tags": []
   },
   "source": [
    "### 2.5 Criação de novas features"
   ]
  },
  {
   "cell_type": "markdown",
   "id": "ada13bcc-6861-43f0-8535-7164394f95d3",
   "metadata": {
    "tags": []
   },
   "source": [
    "#### Magnitude"
   ]
  },
  {
   "cell_type": "code",
   "execution_count": 20,
   "id": "55a583ac-2b34-4b12-a106-b422f969fcb8",
   "metadata": {
    "tags": []
   },
   "outputs": [],
   "source": [
    "a = df[['X', 'Y', 'Z']].pow(2)"
   ]
  },
  {
   "cell_type": "code",
   "execution_count": 21,
   "id": "1cf1a8c5-9817-4ae8-968d-fb2dd618f356",
   "metadata": {
    "tags": []
   },
   "outputs": [],
   "source": [
    "a = a.sum(axis=1)"
   ]
  },
  {
   "cell_type": "code",
   "execution_count": 22,
   "id": "7623385a-367f-4623-a3ad-83531889d38f",
   "metadata": {},
   "outputs": [],
   "source": [
    "magn = a.pow(1/2)\n",
    "magn = magn.rename('magn')"
   ]
  },
  {
   "cell_type": "code",
   "execution_count": 23,
   "id": "d0164852-6af9-42a4-a01a-877b531d980a",
   "metadata": {},
   "outputs": [],
   "source": [
    "df = pd.concat([df, magn], axis=1)"
   ]
  },
  {
   "cell_type": "markdown",
   "id": "5eeaa169-1bc6-4110-b6f0-0dd4772719dc",
   "metadata": {},
   "source": [
    "#### Signal Magnitude Area"
   ]
  },
  {
   "cell_type": "code",
   "execution_count": 24,
   "id": "083da384-d1f9-47aa-9c7f-11540413a74f",
   "metadata": {},
   "outputs": [],
   "source": [
    "a = df[['X', 'Y', 'Z']].abs()"
   ]
  },
  {
   "cell_type": "code",
   "execution_count": 25,
   "id": "14645e64-ccdc-4b53-b54a-65c7ba7831b5",
   "metadata": {},
   "outputs": [],
   "source": [
    "sma = a.sum(axis=1)\n",
    "sma = sma.rename('sma')"
   ]
  },
  {
   "cell_type": "code",
   "execution_count": 26,
   "id": "13806f48-5ff7-4088-9459-f47c737a923b",
   "metadata": {},
   "outputs": [],
   "source": [
    "df = pd.concat([df, sma], axis=1)"
   ]
  },
  {
   "cell_type": "markdown",
   "id": "f84ce276-a8c2-4f98-ba76-84b305ebbb5b",
   "metadata": {},
   "source": [
    "#### Entropy"
   ]
  },
  {
   "cell_type": "code",
   "execution_count": 27,
   "id": "a2bab307-a74d-47c9-8b1b-856b890d9ef9",
   "metadata": {},
   "outputs": [],
   "source": [
    "a = df[['X', 'Y', 'Z']]"
   ]
  },
  {
   "cell_type": "code",
   "execution_count": 28,
   "id": "8001e7da-9e98-48f3-a3d4-2bad8750024d",
   "metadata": {},
   "outputs": [],
   "source": [
    "a = a.sum(axis=1)"
   ]
  },
  {
   "cell_type": "code",
   "execution_count": 29,
   "id": "45dc8b69-8fda-458f-885b-831339ee33ce",
   "metadata": {},
   "outputs": [],
   "source": [
    "a = a + 1"
   ]
  },
  {
   "cell_type": "code",
   "execution_count": 30,
   "id": "4124617d-7b8f-4976-b241-139f1a5d897c",
   "metadata": {},
   "outputs": [],
   "source": [
    "a = a**2"
   ]
  },
  {
   "cell_type": "code",
   "execution_count": 31,
   "id": "715d9dab-c6bb-4d35-9d95-76460143f7e2",
   "metadata": {},
   "outputs": [],
   "source": [
    "a = a.replace(to_replace=0, value=0.0001) # Pois ln de 0 é indefinido"
   ]
  },
  {
   "cell_type": "code",
   "execution_count": 32,
   "id": "39157fd5-68a2-462b-8477-b9fcf7b85e2e",
   "metadata": {},
   "outputs": [],
   "source": [
    "b = np.log(a)"
   ]
  },
  {
   "cell_type": "code",
   "execution_count": 33,
   "id": "adf20426-5a76-4ed4-aa36-bafcd0573ff2",
   "metadata": {},
   "outputs": [],
   "source": [
    "ent = a*b\n",
    "ent = ent.rename('ent')"
   ]
  },
  {
   "cell_type": "code",
   "execution_count": 34,
   "id": "bdc59692-78d5-43a1-88b7-e8a257bf7d2b",
   "metadata": {},
   "outputs": [],
   "source": [
    "df = pd.concat([df, ent], axis=1)"
   ]
  },
  {
   "cell_type": "markdown",
   "id": "d87c40c6-4842-44c9-b488-90d489cbbd6f",
   "metadata": {
    "tags": []
   },
   "source": [
    "#### Energy "
   ]
  },
  {
   "cell_type": "code",
   "execution_count": 35,
   "id": "773876ea-f930-4011-b802-af8e59e241bd",
   "metadata": {},
   "outputs": [],
   "source": [
    "a = df[['X', 'Y', 'Z']]"
   ]
  },
  {
   "cell_type": "code",
   "execution_count": 36,
   "id": "6c261d8d-93d6-4f22-a32e-420d07769193",
   "metadata": {},
   "outputs": [],
   "source": [
    "a = a**2"
   ]
  },
  {
   "cell_type": "code",
   "execution_count": 37,
   "id": "42016700-58f0-43fc-9480-1f00d996f4d4",
   "metadata": {},
   "outputs": [],
   "source": [
    "a = a.sum(axis=1)"
   ]
  },
  {
   "cell_type": "code",
   "execution_count": 38,
   "id": "8f751aae-1ff2-49f3-bb76-b94d2694547a",
   "metadata": {},
   "outputs": [],
   "source": [
    "erg = a**2\n",
    "erg = erg.rename('erg')"
   ]
  },
  {
   "cell_type": "code",
   "execution_count": 39,
   "id": "234242f3-7be5-4c0f-8637-5060bc5e9ede",
   "metadata": {},
   "outputs": [],
   "source": [
    "df = pd.concat([df, erg], axis=1)"
   ]
  },
  {
   "cell_type": "markdown",
   "id": "efd1f36f-292e-48f2-83e0-027475c7c230",
   "metadata": {},
   "source": [
    "#### Pitch"
   ]
  },
  {
   "cell_type": "code",
   "execution_count": 41,
   "id": "934b9148-8ba1-4e76-a45b-b7f454548277",
   "metadata": {},
   "outputs": [],
   "source": [
    "a = df[['X', 'Y']]"
   ]
  },
  {
   "cell_type": "code",
   "execution_count": 42,
   "id": "16f67a28-e9a7-43ad-8e48-37b83c524543",
   "metadata": {},
   "outputs": [],
   "source": [
    "a = a**2"
   ]
  },
  {
   "cell_type": "code",
   "execution_count": 43,
   "id": "9544aca1-54ec-48c2-aee4-1218bc091965",
   "metadata": {},
   "outputs": [],
   "source": [
    "a = a.sum(axis=1)"
   ]
  },
  {
   "cell_type": "code",
   "execution_count": 44,
   "id": "e93eb8cb-c8f5-4079-8df9-948566997eda",
   "metadata": {},
   "outputs": [],
   "source": [
    "a = a**(1/2)"
   ]
  },
  {
   "cell_type": "code",
   "execution_count": 45,
   "id": "ae34ba81-d5c8-47b1-964b-f453d0829a3e",
   "metadata": {},
   "outputs": [],
   "source": [
    "b = -df.Z"
   ]
  },
  {
   "cell_type": "code",
   "execution_count": 46,
   "id": "5adf6049-48fa-4720-80ed-3a33864548b6",
   "metadata": {},
   "outputs": [],
   "source": [
    "a = b/a"
   ]
  },
  {
   "cell_type": "code",
   "execution_count": 47,
   "id": "d1cfddfc-2ec5-4062-9919-ff5250212fa2",
   "metadata": {},
   "outputs": [],
   "source": [
    "a = np.arctan(a)"
   ]
  },
  {
   "cell_type": "code",
   "execution_count": 48,
   "id": "e5947f72-79f8-457e-bd0a-3a9d567c210a",
   "metadata": {},
   "outputs": [],
   "source": [
    "pit = a*(180/np.pi)"
   ]
  },
  {
   "cell_type": "code",
   "execution_count": 49,
   "id": "dbd27fb9-9c12-4955-b6c9-c3ecb879d3c1",
   "metadata": {},
   "outputs": [],
   "source": [
    "pit = pit.rename('pit')"
   ]
  },
  {
   "cell_type": "code",
   "execution_count": 50,
   "id": "a1f9113f-af8c-4a93-a31f-de396f535f9e",
   "metadata": {},
   "outputs": [],
   "source": [
    "df = pd.concat([df, pit], axis=1)"
   ]
  },
  {
   "cell_type": "markdown",
   "id": "55fbf58b-fc24-4a9f-bf1c-df1d56009927",
   "metadata": {
    "tags": []
   },
   "source": [
    "#### Roll"
   ]
  },
  {
   "cell_type": "code",
   "execution_count": 51,
   "id": "1cd4573f-247b-4e12-a5ce-8e1a5cdf2cef",
   "metadata": {},
   "outputs": [],
   "source": [
    "a = df[['X', 'Y']]"
   ]
  },
  {
   "cell_type": "code",
   "execution_count": 52,
   "id": "ae9fa6d8-fec1-45f4-a7ef-6e17de93a953",
   "metadata": {},
   "outputs": [],
   "source": [
    "rol = np.arctan2(a.X, a.Y)*(180/np.pi)"
   ]
  },
  {
   "cell_type": "code",
   "execution_count": 53,
   "id": "afe5edd4-3636-4124-acae-0d91564d0fc3",
   "metadata": {},
   "outputs": [],
   "source": [
    "rol = rol.rename('rol')"
   ]
  },
  {
   "cell_type": "code",
   "execution_count": 54,
   "id": "b12ef0b4-40c4-463d-b5e7-9a8ea4640e58",
   "metadata": {},
   "outputs": [],
   "source": [
    "df = pd.concat([df, rol], axis=1)"
   ]
  },
  {
   "cell_type": "markdown",
   "id": "d2788e34-4bfe-44af-8762-82d45dbefc39",
   "metadata": {
    "tags": []
   },
   "source": [
    "#### Inclination"
   ]
  },
  {
   "cell_type": "code",
   "execution_count": 57,
   "id": "4bd42bde-c635-4be4-9ddf-d58a05820a2a",
   "metadata": {},
   "outputs": [],
   "source": [
    "a = df[['X', 'Y', 'Z']]"
   ]
  },
  {
   "cell_type": "code",
   "execution_count": 58,
   "id": "fa0b01c4-2609-48fb-b546-a5e85f2a6dce",
   "metadata": {},
   "outputs": [],
   "source": [
    "a = ((a.Z**2 + a.Y**2)**(1/2))/a.X"
   ]
  },
  {
   "cell_type": "code",
   "execution_count": 59,
   "id": "c27064e0-a48e-4739-a862-cfb2beb02038",
   "metadata": {},
   "outputs": [],
   "source": [
    "icl = np.arctan(a)*(180/np.pi)"
   ]
  },
  {
   "cell_type": "code",
   "execution_count": 60,
   "id": "a375ffaf-7719-4bda-9053-41a6a9323cf9",
   "metadata": {},
   "outputs": [],
   "source": [
    "icl = icl.rename('icl')"
   ]
  },
  {
   "cell_type": "code",
   "execution_count": 61,
   "id": "ebfaaa78-2b40-461e-b32c-555796b6f045",
   "metadata": {},
   "outputs": [],
   "source": [
    "df = pd.concat([df, icl], axis=1)"
   ]
  },
  {
   "cell_type": "markdown",
   "id": "42b9d638-4209-4cf1-bfc2-7e3c2f24c5fd",
   "metadata": {},
   "source": [
    "### 2.6 Testes com train_size"
   ]
  },
  {
   "cell_type": "code",
   "execution_count": 89,
   "id": "b118e6a2-e590-4c3d-b235-1bc9f63edf0e",
   "metadata": {},
   "outputs": [
    {
     "data": {
      "text/plain": [
       "Index(['SensorID', 'Date', 'Value', 'Voltage', 'X', 'Y', 'Z', 'Comportamento',\n",
       "       'Season_fall', 'Season_spring', 'Season_summer', 'magn', 'sma', 'ent',\n",
       "       'erg', 'pit', 'rol', 'icl'],\n",
       "      dtype='object')"
      ]
     },
     "execution_count": 89,
     "metadata": {},
     "output_type": "execute_result"
    }
   ],
   "source": [
    "df.columns"
   ]
  },
  {
   "cell_type": "code",
   "execution_count": 90,
   "id": "3581c4c0-9c4a-4477-bc3d-edb85bc82788",
   "metadata": {},
   "outputs": [],
   "source": [
    "X = df[['X', 'Y', 'Z', 'Season_fall', 'Season_spring', 'Season_summer', 'magn',\n",
    "        'sma', 'ent', 'erg', 'pit', 'rol', 'icl']]\n",
    "y = df.Comportamento"
   ]
  },
  {
   "cell_type": "code",
   "execution_count": 91,
   "id": "4ffb46f2-40ef-4a8b-8b33-683a0c01b9a9",
   "metadata": {},
   "outputs": [],
   "source": [
    "from sklearn.model_selection import train_test_split\n",
    "X_train, X_test, y_train, y_test = train_test_split(X, y, train_size=0.10, random_state=0)"
   ]
  },
  {
   "cell_type": "code",
   "execution_count": 92,
   "id": "f0cae25f-2b66-4f98-8c6c-2090ee68d77b",
   "metadata": {},
   "outputs": [
    {
     "name": "stdout",
     "output_type": "stream",
     "text": [
      "Acurácia da etapa nos dados de teste: 72.15667466027178\n",
      "Acurácia da etapa nos dados de treino: 99.99280523778688\n"
     ]
    }
   ],
   "source": [
    "calc_acuracia(X_train, X_test, y_train, y_test)"
   ]
  },
  {
   "cell_type": "code",
   "execution_count": 93,
   "id": "fbd30cf7-3595-4b59-ab3f-56f9b9f1a566",
   "metadata": {},
   "outputs": [],
   "source": [
    "X_train, X_test, y_train, y_test = train_test_split(X, y, train_size=0.50, random_state=0)"
   ]
  },
  {
   "cell_type": "code",
   "execution_count": 94,
   "id": "51b7381e-ffa8-40e0-837d-29b37176db78",
   "metadata": {},
   "outputs": [
    {
     "name": "stdout",
     "output_type": "stream",
     "text": [
      "Acurácia da etapa nos dados de teste: 75.4748201438849\n",
      "Acurácia da etapa nos dados de treino: 99.96402825939941\n"
     ]
    }
   ],
   "source": [
    "calc_acuracia(X_train, X_test, y_train, y_test)"
   ]
  },
  {
   "cell_type": "code",
   "execution_count": 95,
   "id": "92685eaf-ff4a-409b-9807-80f482d67bc6",
   "metadata": {},
   "outputs": [],
   "source": [
    "X_train, X_test, y_train, y_test = train_test_split(X, y, train_size=0.70, random_state=0)"
   ]
  },
  {
   "cell_type": "code",
   "execution_count": 96,
   "id": "b9aa1f26-e06c-489c-9284-93e8e81a1d86",
   "metadata": {},
   "outputs": [
    {
     "name": "stdout",
     "output_type": "stream",
     "text": [
      "Acurácia da etapa nos dados de teste: 76.54676258992805\n",
      "Acurácia da etapa nos dados de treino: 99.95169528977688\n"
     ]
    }
   ],
   "source": [
    "calc_acuracia(X_train, X_test, y_train, y_test)"
   ]
  },
  {
   "cell_type": "code",
   "execution_count": 97,
   "id": "580c86d1-f298-4215-b956-b31a1f127767",
   "metadata": {},
   "outputs": [],
   "source": [
    "X_train, X_test, y_train, y_test = train_test_split(X, y, train_size=0.75, random_state=0)"
   ]
  },
  {
   "cell_type": "code",
   "execution_count": 98,
   "id": "2d815878-817d-454e-9e0e-7ab67370e8a8",
   "metadata": {},
   "outputs": [
    {
     "name": "stdout",
     "output_type": "stream",
     "text": [
      "Acurácia da etapa nos dados de teste: 76.61007194244604\n",
      "Acurácia da etapa nos dados de treino: 99.94724170016019\n"
     ]
    }
   ],
   "source": [
    "calc_acuracia(X_train, X_test, y_train, y_test)"
   ]
  },
  {
   "cell_type": "code",
   "execution_count": 99,
   "id": "fd38d688-40d0-41b0-9a96-5f62306a4bc0",
   "metadata": {},
   "outputs": [],
   "source": [
    "X_train, X_test, y_train, y_test = train_test_split(X, y, train_size=0.80, random_state=0)"
   ]
  },
  {
   "cell_type": "code",
   "execution_count": 100,
   "id": "1d4d3af6-70f2-47d5-97c6-ca16e82d2765",
   "metadata": {},
   "outputs": [
    {
     "name": "stdout",
     "output_type": "stream",
     "text": [
      "Acurácia da etapa nos dados de teste: 76.54676258992805\n",
      "Acurácia da etapa nos dados de treino: 99.9496398348906\n"
     ]
    }
   ],
   "source": [
    "calc_acuracia(X_train, X_test, y_train, y_test)"
   ]
  },
  {
   "cell_type": "code",
   "execution_count": 101,
   "id": "2d5d79e0-cc92-403d-8c68-363bfbfd8477",
   "metadata": {},
   "outputs": [],
   "source": [
    "X_train, X_test, y_train, y_test = train_test_split(X, y, train_size=0.85, random_state=0)"
   ]
  },
  {
   "cell_type": "code",
   "execution_count": 102,
   "id": "174cb5dd-949f-4ab2-affe-83e1ee2c92e3",
   "metadata": {},
   "outputs": [
    {
     "name": "stdout",
     "output_type": "stream",
     "text": [
      "Acurácia da etapa nos dados de teste: 76.81534772182255\n",
      "Acurácia da etapa nos dados de treino: 99.95090944485354\n"
     ]
    }
   ],
   "source": [
    "calc_acuracia(X_train, X_test, y_train, y_test)"
   ]
  },
  {
   "cell_type": "markdown",
   "id": "b3552535-96bb-488f-8354-c1687714ca14",
   "metadata": {
    "tags": []
   },
   "source": [
    "### 2.7 Seleção de features"
   ]
  },
  {
   "cell_type": "code",
   "execution_count": 80,
   "id": "5dc508da-1bdd-4a51-8134-7334b529cdc4",
   "metadata": {},
   "outputs": [],
   "source": [
    "X = df[['X', 'Y', 'Z', 'magn',\n",
    "        'sma', 'ent', 'erg', 'pit', 'rol', 'icl']]\n",
    "y = df.Comportamento"
   ]
  },
  {
   "cell_type": "code",
   "execution_count": 81,
   "id": "08233b0f-7e79-42a0-934a-99cffea65f2b",
   "metadata": {},
   "outputs": [],
   "source": [
    "X_train, X_test, y_train, y_test = train_test_split(X, y, train_size=0.70, random_state=0)"
   ]
  },
  {
   "cell_type": "code",
   "execution_count": 82,
   "id": "5300039b-af98-4cbd-8ebe-394362a16859",
   "metadata": {},
   "outputs": [
    {
     "name": "stdout",
     "output_type": "stream",
     "text": [
      "k = 3 - Acurácia = 0.7194484412470024\n",
      "k = 4 - Acurácia = 0.7234292565947242\n",
      "k = 5 - Acurácia = 0.7303836930455635\n",
      "k = 6 - Acurácia = 0.7577218225419664\n",
      "k = 7 - Acurácia = 0.7604796163069545\n",
      "k = 8 - Acurácia = 0.7637170263788969\n",
      "k = 9 - Acurácia = 0.7641486810551559\n",
      "k = 10 - Acurácia = 0.7625179856115107\n"
     ]
    }
   ],
   "source": [
    "from sklearn.feature_selection import SelectKBest, f_classif\n",
    "from sklearn.metrics import accuracy_score\n",
    "from sklearn.ensemble import RandomForestClassifier\n",
    "\n",
    "k_vs_score = []\n",
    "\n",
    "for k in range(3,11,1):\n",
    "  selector = SelectKBest(score_func=f_classif, k=k)\n",
    "\n",
    "  X_train2 = selector.fit_transform(X_train, y_train)\n",
    "  X_test2 = selector.transform(X_test)\n",
    "\n",
    "  mdl = RandomForestClassifier(n_estimators=100, n_jobs=-1, random_state=0)\n",
    "  mdl.fit(X_train2, y_train)\n",
    "\n",
    "  preds = mdl.predict(X_test2)\n",
    "\n",
    "  score = accuracy_score(y_test, preds)\n",
    "  print(\"k = {} - Acurácia = {}\".format(k, score))\n",
    "\n",
    "  k_vs_score.append(score)\n"
   ]
  },
  {
   "cell_type": "code",
   "execution_count": 84,
   "id": "3991a424-e4a7-417e-963b-5839599c0b09",
   "metadata": {},
   "outputs": [
    {
     "data": {
      "text/plain": [
       "<AxesSubplot:>"
      ]
     },
     "execution_count": 84,
     "metadata": {},
     "output_type": "execute_result"
    },
    {
     "data": {
      "image/png": "[encoded data removed]",
      "text/plain": [
       "<Figure size 720x504 with 1 Axes>"
      ]
     },
     "metadata": {
      "needs_background": "light"
     },
     "output_type": "display_data"
    }
   ],
   "source": [
    "pd.Series(k_vs_score, index=range(3,11,1)).plot(figsize=(10,7))"
   ]
  },
  {
   "cell_type": "code",
   "execution_count": 86,
   "id": "1c5a3db5-f2c1-423f-9490-e1aa4833364b",
   "metadata": {},
   "outputs": [
    {
     "data": {
      "text/plain": [
       "SelectKBest(k=8)"
      ]
     },
     "execution_count": 86,
     "metadata": {},
     "output_type": "execute_result"
    }
   ],
   "source": [
    "selector = SelectKBest(score_func=f_classif, k=8)\n",
    "selector.fit(X_train, y_train)"
   ]
  },
  {
   "cell_type": "code",
   "execution_count": 87,
   "id": "fb2d1ce8-e49a-4bd8-a67f-826292361e09",
   "metadata": {},
   "outputs": [
    {
     "data": {
      "text/plain": [
       "Index(['X', 'Y', 'Z', 'magn', 'sma', 'pit', 'rol', 'icl'], dtype='object')"
      ]
     },
     "execution_count": 87,
     "metadata": {},
     "output_type": "execute_result"
    }
   ],
   "source": [
    "mask = selector.get_support()\n",
    "X_test.columns[mask]\n",
    "# Features mais relevantes"
   ]
  },
  {
   "cell_type": "code",
   "execution_count": 88,
   "id": "b07642e0-dca8-4c95-b1fa-6ecf56659611",
   "metadata": {},
   "outputs": [
    {
     "data": {
      "text/plain": [
       "<AxesSubplot:>"
      ]
     },
     "execution_count": 88,
     "metadata": {},
     "output_type": "execute_result"
    },
    {
     "data": {
      "image/png": "[encoded data removed]",
      "text/plain": [
       "<Figure size 432x288 with 1 Axes>"
      ]
     },
     "metadata": {
      "needs_background": "light"
     },
     "output_type": "display_data"
    }
   ],
   "source": [
    "pd.Series(selector.scores_, index=X_train.columns).sort_values().plot.barh()"
   ]
  },
  {
   "cell_type": "markdown",
   "id": "1b16e632-07a6-46de-ab56-d08ba185f44f",
   "metadata": {
    "tags": []
   },
   "source": [
    "### 2.8 Gravação do conjunto de dados após o pré-processamento"
   ]
  },
  {
   "cell_type": "code",
   "execution_count": 76,
   "id": "95cbd54d-1424-4ca8-998f-0e070bfe1cb3",
   "metadata": {},
   "outputs": [
    {
     "data": {
      "text/html": [
       "<div>\n",
       "<style scoped>\n",
       "    .dataframe tbody tr th:only-of-type {\n",
       "        vertical-align: middle;\n",
       "    }\n",
       "\n",
       "    .dataframe tbody tr th {\n",
       "        vertical-align: top;\n",
       "    }\n",
       "\n",
       "    .dataframe thead th {\n",
       "        text-align: right;\n",
       "    }\n",
       "</style>\n",
       "<table border=\"1\" class=\"dataframe\">\n",
       "  <thead>\n",
       "    <tr style=\"text-align: right;\">\n",
       "      <th></th>\n",
       "      <th>SensorID</th>\n",
       "      <th>Date</th>\n",
       "      <th>Value</th>\n",
       "      <th>Voltage</th>\n",
       "      <th>X</th>\n",
       "      <th>Y</th>\n",
       "      <th>Z</th>\n",
       "      <th>Comportamento</th>\n",
       "      <th>Season_fall</th>\n",
       "      <th>Season_spring</th>\n",
       "      <th>Season_summer</th>\n",
       "      <th>magn</th>\n",
       "      <th>sma</th>\n",
       "      <th>ent</th>\n",
       "      <th>erg</th>\n",
       "      <th>pit</th>\n",
       "      <th>rol</th>\n",
       "      <th>icl</th>\n",
       "    </tr>\n",
       "  </thead>\n",
       "  <tbody>\n",
       "    <tr>\n",
       "      <th>0</th>\n",
       "      <td>175810</td>\n",
       "      <td>2019-01-21 08:15:03</td>\n",
       "      <td>1.115</td>\n",
       "      <td>3.04</td>\n",
       "      <td>-0.171</td>\n",
       "      <td>1.115</td>\n",
       "      <td>0.242</td>\n",
       "      <td>Pastejando</td>\n",
       "      <td>0</td>\n",
       "      <td>0</td>\n",
       "      <td>1</td>\n",
       "      <td>1.153703</td>\n",
       "      <td>1.528</td>\n",
       "      <td>7.474426</td>\n",
       "      <td>1.771641</td>\n",
       "      <td>-12.108253</td>\n",
       "      <td>-8.719130</td>\n",
       "      <td>-81.476304</td>\n",
       "    </tr>\n",
       "    <tr>\n",
       "      <th>2</th>\n",
       "      <td>175810</td>\n",
       "      <td>2019-01-21 08:16:04</td>\n",
       "      <td>0.583</td>\n",
       "      <td>3.02</td>\n",
       "      <td>-0.702</td>\n",
       "      <td>0.071</td>\n",
       "      <td>0.583</td>\n",
       "      <td>Pastejando</td>\n",
       "      <td>0</td>\n",
       "      <td>0</td>\n",
       "      <td>1</td>\n",
       "      <td>0.915278</td>\n",
       "      <td>1.356</td>\n",
       "      <td>-0.089163</td>\n",
       "      <td>0.701798</td>\n",
       "      <td>-39.565868</td>\n",
       "      <td>-84.224766</td>\n",
       "      <td>-39.916535</td>\n",
       "    </tr>\n",
       "    <tr>\n",
       "      <th>3</th>\n",
       "      <td>175810</td>\n",
       "      <td>2019-01-21 08:16:05</td>\n",
       "      <td>0.683</td>\n",
       "      <td>3.01</td>\n",
       "      <td>-0.594</td>\n",
       "      <td>-0.026</td>\n",
       "      <td>0.683</td>\n",
       "      <td>Pastejando</td>\n",
       "      <td>0</td>\n",
       "      <td>0</td>\n",
       "      <td>1</td>\n",
       "      <td>0.905539</td>\n",
       "      <td>1.303</td>\n",
       "      <td>0.138071</td>\n",
       "      <td>0.672402</td>\n",
       "      <td>-48.959606</td>\n",
       "      <td>-92.506296</td>\n",
       "      <td>-49.007300</td>\n",
       "    </tr>\n",
       "    <tr>\n",
       "      <th>4</th>\n",
       "      <td>175810</td>\n",
       "      <td>2019-01-21 08:16:06</td>\n",
       "      <td>0.631</td>\n",
       "      <td>3.01</td>\n",
       "      <td>-0.706</td>\n",
       "      <td>0.059</td>\n",
       "      <td>0.631</td>\n",
       "      <td>Pastejando</td>\n",
       "      <td>0</td>\n",
       "      <td>0</td>\n",
       "      <td>1</td>\n",
       "      <td>0.948724</td>\n",
       "      <td>1.396</td>\n",
       "      <td>-0.031235</td>\n",
       "      <td>0.810140</td>\n",
       "      <td>-41.690272</td>\n",
       "      <td>-85.222926</td>\n",
       "      <td>-41.913249</td>\n",
       "    </tr>\n",
       "    <tr>\n",
       "      <th>5</th>\n",
       "      <td>175810</td>\n",
       "      <td>2019-01-21 08:16:07</td>\n",
       "      <td>0.604</td>\n",
       "      <td>3.01</td>\n",
       "      <td>-0.805</td>\n",
       "      <td>0.081</td>\n",
       "      <td>0.604</td>\n",
       "      <td>Pastejando</td>\n",
       "      <td>0</td>\n",
       "      <td>0</td>\n",
       "      <td>1</td>\n",
       "      <td>1.009654</td>\n",
       "      <td>1.490</td>\n",
       "      <td>-0.197988</td>\n",
       "      <td>1.039180</td>\n",
       "      <td>-36.742843</td>\n",
       "      <td>-84.254174</td>\n",
       "      <td>-37.126721</td>\n",
       "    </tr>\n",
       "    <tr>\n",
       "      <th>...</th>\n",
       "      <td>...</td>\n",
       "      <td>...</td>\n",
       "      <td>...</td>\n",
       "      <td>...</td>\n",
       "      <td>...</td>\n",
       "      <td>...</td>\n",
       "      <td>...</td>\n",
       "      <td>...</td>\n",
       "      <td>...</td>\n",
       "      <td>...</td>\n",
       "      <td>...</td>\n",
       "      <td>...</td>\n",
       "      <td>...</td>\n",
       "      <td>...</td>\n",
       "      <td>...</td>\n",
       "      <td>...</td>\n",
       "      <td>...</td>\n",
       "      <td>...</td>\n",
       "    </tr>\n",
       "    <tr>\n",
       "      <th>140735</th>\n",
       "      <td>434137</td>\n",
       "      <td>2019-02-22 17:45:06</td>\n",
       "      <td>0.844</td>\n",
       "      <td>2.83</td>\n",
       "      <td>0.844</td>\n",
       "      <td>0.571</td>\n",
       "      <td>-0.957</td>\n",
       "      <td>Ocio</td>\n",
       "      <td>0</td>\n",
       "      <td>0</td>\n",
       "      <td>1</td>\n",
       "      <td>1.397936</td>\n",
       "      <td>2.372</td>\n",
       "      <td>1.603105</td>\n",
       "      <td>3.818999</td>\n",
       "      <td>43.202627</td>\n",
       "      <td>55.920065</td>\n",
       "      <td>52.861263</td>\n",
       "    </tr>\n",
       "    <tr>\n",
       "      <th>140736</th>\n",
       "      <td>434137</td>\n",
       "      <td>2019-02-22 17:45:12</td>\n",
       "      <td>0.628</td>\n",
       "      <td>2.82</td>\n",
       "      <td>-0.114</td>\n",
       "      <td>0.628</td>\n",
       "      <td>-1.772</td>\n",
       "      <td>Ocio</td>\n",
       "      <td>0</td>\n",
       "      <td>0</td>\n",
       "      <td>1</td>\n",
       "      <td>1.883445</td>\n",
       "      <td>2.514</td>\n",
       "      <td>-0.180361</td>\n",
       "      <td>12.583791</td>\n",
       "      <td>70.191298</td>\n",
       "      <td>-10.288788</td>\n",
       "      <td>-86.529915</td>\n",
       "    </tr>\n",
       "    <tr>\n",
       "      <th>140737</th>\n",
       "      <td>434137</td>\n",
       "      <td>2019-02-22 17:45:11</td>\n",
       "      <td>0.835</td>\n",
       "      <td>2.84</td>\n",
       "      <td>0.428</td>\n",
       "      <td>0.835</td>\n",
       "      <td>-0.015</td>\n",
       "      <td>Ocio</td>\n",
       "      <td>0</td>\n",
       "      <td>0</td>\n",
       "      <td>1</td>\n",
       "      <td>0.938421</td>\n",
       "      <td>1.278</td>\n",
       "      <td>8.187090</td>\n",
       "      <td>0.775516</td>\n",
       "      <td>0.915872</td>\n",
       "      <td>27.138536</td>\n",
       "      <td>62.865216</td>\n",
       "    </tr>\n",
       "    <tr>\n",
       "      <th>140738</th>\n",
       "      <td>434137</td>\n",
       "      <td>2019-02-22 17:45:13</td>\n",
       "      <td>0.811</td>\n",
       "      <td>2.84</td>\n",
       "      <td>0.487</td>\n",
       "      <td>0.811</td>\n",
       "      <td>0.150</td>\n",
       "      <td>Ocio</td>\n",
       "      <td>0</td>\n",
       "      <td>0</td>\n",
       "      <td>1</td>\n",
       "      <td>0.957805</td>\n",
       "      <td>1.448</td>\n",
       "      <td>10.730193</td>\n",
       "      <td>0.841604</td>\n",
       "      <td>-9.010073</td>\n",
       "      <td>30.984531</td>\n",
       "      <td>59.439071</td>\n",
       "    </tr>\n",
       "    <tr>\n",
       "      <th>140739</th>\n",
       "      <td>434137</td>\n",
       "      <td>2019-02-22 17:45:14</td>\n",
       "      <td>0.889</td>\n",
       "      <td>2.83</td>\n",
       "      <td>0.263</td>\n",
       "      <td>0.889</td>\n",
       "      <td>0.129</td>\n",
       "      <td>Ocio</td>\n",
       "      <td>0</td>\n",
       "      <td>0</td>\n",
       "      <td>1</td>\n",
       "      <td>0.936019</td>\n",
       "      <td>1.281</td>\n",
       "      <td>8.580868</td>\n",
       "      <td>0.767606</td>\n",
       "      <td>-7.921589</td>\n",
       "      <td>16.480220</td>\n",
       "      <td>73.681459</td>\n",
       "    </tr>\n",
       "  </tbody>\n",
       "</table>\n",
       "<p>138999 rows × 18 columns</p>\n",
       "</div>"
      ],
      "text/plain": [
       "        SensorID                 Date  Value  Voltage      X      Y      Z  \\\n",
       "0         175810  2019-01-21 08:15:03  1.115     3.04 -0.171  1.115  0.242   \n",
       "2         175810  2019-01-21 08:16:04  0.583     3.02 -0.702  0.071  0.583   \n",
       "3         175810  2019-01-21 08:16:05  0.683     3.01 -0.594 -0.026  0.683   \n",
       "4         175810  2019-01-21 08:16:06  0.631     3.01 -0.706  0.059  0.631   \n",
       "5         175810  2019-01-21 08:16:07  0.604     3.01 -0.805  0.081  0.604   \n",
       "...          ...                  ...    ...      ...    ...    ...    ...   \n",
       "140735    434137  2019-02-22 17:45:06  0.844     2.83  0.844  0.571 -0.957   \n",
       "140736    434137  2019-02-22 17:45:12  0.628     2.82 -0.114  0.628 -1.772   \n",
       "140737    434137  2019-02-22 17:45:11  0.835     2.84  0.428  0.835 -0.015   \n",
       "140738    434137  2019-02-22 17:45:13  0.811     2.84  0.487  0.811  0.150   \n",
       "140739    434137  2019-02-22 17:45:14  0.889     2.83  0.263  0.889  0.129   \n",
       "\n",
       "       Comportamento  Season_fall  Season_spring  Season_summer      magn  \\\n",
       "0         Pastejando            0              0              1  1.153703   \n",
       "2         Pastejando            0              0              1  0.915278   \n",
       "3         Pastejando            0              0              1  0.905539   \n",
       "4         Pastejando            0              0              1  0.948724   \n",
       "5         Pastejando            0              0              1  1.009654   \n",
       "...              ...          ...            ...            ...       ...   \n",
       "140735          Ocio            0              0              1  1.397936   \n",
       "140736          Ocio            0              0              1  1.883445   \n",
       "140737          Ocio            0              0              1  0.938421   \n",
       "140738          Ocio            0              0              1  0.957805   \n",
       "140739          Ocio            0              0              1  0.936019   \n",
       "\n",
       "          sma        ent        erg        pit        rol        icl  \n",
       "0       1.528   7.474426   1.771641 -12.108253  -8.719130 -81.476304  \n",
       "2       1.356  -0.089163   0.701798 -39.565868 -84.224766 -39.916535  \n",
       "3       1.303   0.138071   0.672402 -48.959606 -92.506296 -49.007300  \n",
       "4       1.396  -0.031235   0.810140 -41.690272 -85.222926 -41.913249  \n",
       "5       1.490  -0.197988   1.039180 -36.742843 -84.254174 -37.126721  \n",
       "...       ...        ...        ...        ...        ...        ...  \n",
       "140735  2.372   1.603105   3.818999  43.202627  55.920065  52.861263  \n",
       "140736  2.514  -0.180361  12.583791  70.191298 -10.288788 -86.529915  \n",
       "140737  1.278   8.187090   0.775516   0.915872  27.138536  62.865216  \n",
       "140738  1.448  10.730193   0.841604  -9.010073  30.984531  59.439071  \n",
       "140739  1.281   8.580868   0.767606  -7.921589  16.480220  73.681459  \n",
       "\n",
       "[138999 rows x 18 columns]"
      ]
     },
     "execution_count": 76,
     "metadata": {},
     "output_type": "execute_result"
    }
   ],
   "source": [
    "df"
   ]
  },
  {
   "cell_type": "code",
   "execution_count": 77,
   "id": "c210a166-189b-4023-90a2-12dd09f0281b",
   "metadata": {},
   "outputs": [],
   "source": [
    "# Geração de um zip com os dados em csv \n",
    "compression_opts = dict(method='zip', archive_name='dados_pre_processados_leonardo.csv') \n",
    "\n",
    "df.to_csv('dados_pre_processados_leonardo_final.zip', index=False, compression=compression_opts)"
   ]
  }
 ],
 "metadata": {
  "kernelspec": {
   "display_name": "Python 3 (ipykernel)",
   "language": "python",
   "name": "python3"
  },
  "language_info": {
   "codemirror_mode": {
    "name": "ipython",
    "version": 3
   },
   "file_extension": ".py",
   "mimetype": "text/x-python",
   "name": "python",
   "nbconvert_exporter": "python",
   "pygments_lexer": "ipython3",
   "version": "3.9.7"
  }
 },
 "nbformat": 4,
 "nbformat_minor": 5
}
