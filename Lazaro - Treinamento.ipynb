{
 "cells": [
  {
   "cell_type": "code",
   "execution_count": 1,
   "id": "e5debc3e-7fac-40e9-8348-df43a0f71a66",
   "metadata": {},
   "outputs": [],
   "source": [
    "import numpy as np\n",
    "import pandas as pd"
   ]
  },
  {
   "cell_type": "markdown",
   "id": "8bbdaa22-f0fa-4ea8-ad42-01e1dab95e65",
   "metadata": {
    "tags": []
   },
   "source": [
    "## Passo 1: Leitura dos dados\n",
    "Leitura dos bancos de dados em DataFrame Pandas. "
   ]
  },
  {
   "cell_type": "code",
   "execution_count": 2,
   "id": "266bf334-70a8-4f5c-82b9-f1ac8ffb8853",
   "metadata": {},
   "outputs": [],
   "source": [
    "caminho_dados_lazaro = 'Datasets/Lazaro/dados_pre_processados_lazaro.csv'"
   ]
  },
  {
   "cell_type": "code",
   "execution_count": 3,
   "id": "be544d64-f642-4ded-9dbb-dad41fd3e819",
   "metadata": {},
   "outputs": [],
   "source": [
    "df = pd.read_csv(caminho_dados_lazaro)"
   ]
  },
  {
   "cell_type": "code",
   "execution_count": 4,
   "id": "f6683cd6-f6a5-4fd8-afab-0f3536910880",
   "metadata": {},
   "outputs": [
    {
     "data": {
      "text/html": [
       "<div>\n",
       "<style scoped>\n",
       "    .dataframe tbody tr th:only-of-type {\n",
       "        vertical-align: middle;\n",
       "    }\n",
       "\n",
       "    .dataframe tbody tr th {\n",
       "        vertical-align: top;\n",
       "    }\n",
       "\n",
       "    .dataframe thead th {\n",
       "        text-align: right;\n",
       "    }\n",
       "</style>\n",
       "<table border=\"1\" class=\"dataframe\">\n",
       "  <thead>\n",
       "    <tr style=\"text-align: right;\">\n",
       "      <th></th>\n",
       "      <th>Piquete</th>\n",
       "      <th>Altura real</th>\n",
       "      <th>Altura esperada</th>\n",
       "      <th>Animal</th>\n",
       "      <th>SensorID</th>\n",
       "      <th>Sensor Name</th>\n",
       "      <th>Date</th>\n",
       "      <th>X</th>\n",
       "      <th>Y</th>\n",
       "      <th>Z</th>\n",
       "      <th>Comportamento</th>\n",
       "      <th>Season_fall</th>\n",
       "      <th>Season_spring</th>\n",
       "      <th>Season_summer</th>\n",
       "      <th>magn</th>\n",
       "      <th>sma</th>\n",
       "      <th>ent</th>\n",
       "      <th>pit</th>\n",
       "      <th>rol</th>\n",
       "      <th>icl</th>\n",
       "    </tr>\n",
       "  </thead>\n",
       "  <tbody>\n",
       "    <tr>\n",
       "      <th>0</th>\n",
       "      <td>11</td>\n",
       "      <td>25.2</td>\n",
       "      <td>25.0</td>\n",
       "      <td>85</td>\n",
       "      <td>434138</td>\n",
       "      <td>Accelerometer - 434138</td>\n",
       "      <td>2019-11-09 09:47:47</td>\n",
       "      <td>-0.132</td>\n",
       "      <td>-0.583</td>\n",
       "      <td>0.712</td>\n",
       "      <td>Ocio</td>\n",
       "      <td>0.0</td>\n",
       "      <td>1.0</td>\n",
       "      <td>0.0</td>\n",
       "      <td>0.929654</td>\n",
       "      <td>1.427</td>\n",
       "      <td>-0.005973</td>\n",
       "      <td>8.162915</td>\n",
       "      <td>129.311311</td>\n",
       "      <td>40.014999</td>\n",
       "    </tr>\n",
       "    <tr>\n",
       "      <th>1</th>\n",
       "      <td>11</td>\n",
       "      <td>25.2</td>\n",
       "      <td>25.0</td>\n",
       "      <td>85</td>\n",
       "      <td>434138</td>\n",
       "      <td>Accelerometer - 434138</td>\n",
       "      <td>2019-11-09 09:47:48</td>\n",
       "      <td>0.021</td>\n",
       "      <td>-0.792</td>\n",
       "      <td>0.574</td>\n",
       "      <td>Ocio</td>\n",
       "      <td>0.0</td>\n",
       "      <td>1.0</td>\n",
       "      <td>0.0</td>\n",
       "      <td>0.978356</td>\n",
       "      <td>1.387</td>\n",
       "      <td>-0.282943</td>\n",
       "      <td>-1.229924</td>\n",
       "      <td>144.067373</td>\n",
       "      <td>54.076939</td>\n",
       "    </tr>\n",
       "    <tr>\n",
       "      <th>2</th>\n",
       "      <td>11</td>\n",
       "      <td>25.2</td>\n",
       "      <td>25.0</td>\n",
       "      <td>85</td>\n",
       "      <td>434138</td>\n",
       "      <td>Accelerometer - 434138</td>\n",
       "      <td>2019-11-09 09:47:50</td>\n",
       "      <td>0.021</td>\n",
       "      <td>-0.792</td>\n",
       "      <td>0.574</td>\n",
       "      <td>Ocio</td>\n",
       "      <td>0.0</td>\n",
       "      <td>1.0</td>\n",
       "      <td>0.0</td>\n",
       "      <td>0.978356</td>\n",
       "      <td>1.387</td>\n",
       "      <td>-0.282943</td>\n",
       "      <td>-1.229924</td>\n",
       "      <td>144.067373</td>\n",
       "      <td>54.076939</td>\n",
       "    </tr>\n",
       "    <tr>\n",
       "      <th>3</th>\n",
       "      <td>11</td>\n",
       "      <td>25.2</td>\n",
       "      <td>25.0</td>\n",
       "      <td>85</td>\n",
       "      <td>434138</td>\n",
       "      <td>Accelerometer - 434138</td>\n",
       "      <td>2019-11-09 09:47:51</td>\n",
       "      <td>0.021</td>\n",
       "      <td>-0.792</td>\n",
       "      <td>0.574</td>\n",
       "      <td>Ocio</td>\n",
       "      <td>0.0</td>\n",
       "      <td>1.0</td>\n",
       "      <td>0.0</td>\n",
       "      <td>0.978356</td>\n",
       "      <td>1.387</td>\n",
       "      <td>-0.282943</td>\n",
       "      <td>-1.229924</td>\n",
       "      <td>144.067373</td>\n",
       "      <td>54.076939</td>\n",
       "    </tr>\n",
       "    <tr>\n",
       "      <th>4</th>\n",
       "      <td>11</td>\n",
       "      <td>25.2</td>\n",
       "      <td>25.0</td>\n",
       "      <td>85</td>\n",
       "      <td>434138</td>\n",
       "      <td>Accelerometer - 434138</td>\n",
       "      <td>2019-11-09 09:47:52</td>\n",
       "      <td>-0.061</td>\n",
       "      <td>-0.870</td>\n",
       "      <td>0.478</td>\n",
       "      <td>Ocio</td>\n",
       "      <td>0.0</td>\n",
       "      <td>1.0</td>\n",
       "      <td>0.0</td>\n",
       "      <td>0.994538</td>\n",
       "      <td>1.409</td>\n",
       "      <td>-0.361029</td>\n",
       "      <td>3.516446</td>\n",
       "      <td>151.214493</td>\n",
       "      <td>61.273746</td>\n",
       "    </tr>\n",
       "  </tbody>\n",
       "</table>\n",
       "</div>"
      ],
      "text/plain": [
       "   Piquete  Altura real  Altura esperada  Animal  SensorID  \\\n",
       "0       11         25.2             25.0      85    434138   \n",
       "1       11         25.2             25.0      85    434138   \n",
       "2       11         25.2             25.0      85    434138   \n",
       "3       11         25.2             25.0      85    434138   \n",
       "4       11         25.2             25.0      85    434138   \n",
       "\n",
       "              Sensor Name                 Date      X      Y      Z  \\\n",
       "0  Accelerometer - 434138  2019-11-09 09:47:47 -0.132 -0.583  0.712   \n",
       "1  Accelerometer - 434138  2019-11-09 09:47:48  0.021 -0.792  0.574   \n",
       "2  Accelerometer - 434138  2019-11-09 09:47:50  0.021 -0.792  0.574   \n",
       "3  Accelerometer - 434138  2019-11-09 09:47:51  0.021 -0.792  0.574   \n",
       "4  Accelerometer - 434138  2019-11-09 09:47:52 -0.061 -0.870  0.478   \n",
       "\n",
       "  Comportamento  Season_fall  Season_spring  Season_summer      magn    sma  \\\n",
       "0          Ocio          0.0            1.0            0.0  0.929654  1.427   \n",
       "1          Ocio          0.0            1.0            0.0  0.978356  1.387   \n",
       "2          Ocio          0.0            1.0            0.0  0.978356  1.387   \n",
       "3          Ocio          0.0            1.0            0.0  0.978356  1.387   \n",
       "4          Ocio          0.0            1.0            0.0  0.994538  1.409   \n",
       "\n",
       "        ent       pit         rol        icl  \n",
       "0 -0.005973  8.162915  129.311311  40.014999  \n",
       "1 -0.282943 -1.229924  144.067373  54.076939  \n",
       "2 -0.282943 -1.229924  144.067373  54.076939  \n",
       "3 -0.282943 -1.229924  144.067373  54.076939  \n",
       "4 -0.361029  3.516446  151.214493  61.273746  "
      ]
     },
     "execution_count": 4,
     "metadata": {},
     "output_type": "execute_result"
    }
   ],
   "source": [
    "df.head()"
   ]
  },
  {
   "cell_type": "code",
   "execution_count": 5,
   "id": "3a143d54-c58b-4182-8302-3fb7897b219f",
   "metadata": {},
   "outputs": [],
   "source": [
    "# Remove as linhas com o sensor 434138\n",
    "df = df[df.SensorID != 434138]"
   ]
  },
  {
   "cell_type": "markdown",
   "id": "35cdcc55-22f7-4ee2-a77b-b111b5b58958",
   "metadata": {
    "tags": []
   },
   "source": [
    "## Passo 2: Treinamento"
   ]
  },
  {
   "cell_type": "code",
   "execution_count": 6,
   "id": "506ac15e-da6c-47b2-adc4-e09d8890e72b",
   "metadata": {},
   "outputs": [],
   "source": [
    "from sklearn.model_selection import train_test_split\n",
    "from sklearn.metrics import accuracy_score, confusion_matrix, classification_report\n",
    "# Para a busca do melhores hiperparêmetros\n",
    "from sklearn.experimental import enable_halving_search_cv # noqa\n",
    "from sklearn.model_selection import HalvingGridSearchCV\n",
    "from sklearn.model_selection import RandomizedSearchCV\n",
    "from skopt import gp_minimize"
   ]
  },
  {
   "cell_type": "markdown",
   "id": "cc792402-c4a8-4e76-a021-0361352d498d",
   "metadata": {
    "tags": []
   },
   "source": [
    "### Seleção de colunas aplicáveis"
   ]
  },
  {
   "cell_type": "code",
   "execution_count": 7,
   "id": "52e47438-90af-4920-a577-188200a56338",
   "metadata": {
    "tags": []
   },
   "outputs": [
    {
     "data": {
      "text/plain": [
       "Index(['Piquete', 'Altura real', 'Altura esperada', 'Animal', 'SensorID',\n",
       "       'Sensor Name', 'Date', 'X', 'Y', 'Z', 'Comportamento', 'Season_fall',\n",
       "       'Season_spring', 'Season_summer', 'magn', 'sma', 'ent', 'pit', 'rol',\n",
       "       'icl'],\n",
       "      dtype='object')"
      ]
     },
     "execution_count": 7,
     "metadata": {},
     "output_type": "execute_result"
    }
   ],
   "source": [
    "df.columns"
   ]
  },
  {
   "cell_type": "code",
   "execution_count": 8,
   "id": "0a9e6168-130b-4219-8c3c-290f984fc8fb",
   "metadata": {},
   "outputs": [],
   "source": [
    "# Lista com os atributos aplicáveis\n",
    "features_aplicaveis = ['X', 'Y' ,'Z', 'Comportamento', 'Season_fall', 'Season_spring', 'Season_summer', 'magn', 'sma', 'ent', 'pit', 'rol', 'icl']\n",
    "\n",
    "# Seleciona os abributos correspondentes da lista features_aplicaveis\n",
    "df = df[features_aplicaveis]"
   ]
  },
  {
   "cell_type": "markdown",
   "id": "04f27469-79d0-454a-9c8e-06662cfeef85",
   "metadata": {
    "tags": []
   },
   "source": [
    "#### Divisão entre variáveis preditoras(X) e variáveis de resposta(y)"
   ]
  },
  {
   "cell_type": "code",
   "execution_count": 9,
   "id": "cded3296-542d-477b-83fd-54a5d9ac15bf",
   "metadata": {
    "tags": []
   },
   "outputs": [],
   "source": [
    "y = df.Comportamento\n",
    "X = df.drop('Comportamento', axis=1)\n",
    "\n",
    "# Conjunto de dados PRO: Pastejando x Ruminando x Ócio\n",
    "# Test size = 0.25\n",
    "X_train, X_test, y_train, y_test = train_test_split(X, y, random_state = 0)"
   ]
  },
  {
   "cell_type": "code",
   "execution_count": 15,
   "id": "66603e92-b517-4524-8c8d-4e7ddc0022e8",
   "metadata": {},
   "outputs": [],
   "source": [
    "# Conjunto de dados PNP: Pastejando x Não Pastejando\n",
    "y_pnp = y\n",
    "y_pnp = y_pnp.replace(to_replace=['Ocio', 'Ruminando'], value='Não Pastejando')\n",
    "X_train, X_test, y_train, y_test = train_test_split(X, y_pnp, random_state = 0)"
   ]
  },
  {
   "cell_type": "markdown",
   "id": "4db924e5-5828-4361-943c-0c9d59dd800b",
   "metadata": {
    "tags": []
   },
   "source": [
    "### Função para imprimir e salvar matriz de confusão"
   ]
  },
  {
   "cell_type": "code",
   "execution_count": 13,
   "id": "8e6be2bb-7839-46a4-aab2-70fd76d02340",
   "metadata": {},
   "outputs": [],
   "source": [
    "# Função para imprimir e salvar matriz de confusão\n",
    "def imprimeMatrizDeConfusão(y_test, preds, model, salvarFigura = False):\n",
    "    from sklearn.metrics import confusion_matrix\n",
    "    from sklearn.metrics import ConfusionMatrixDisplay\n",
    "    import matplotlib.pyplot as plt\n",
    "\n",
    "    cm = confusion_matrix(y_test, preds, normalize='true')\n",
    "    disp = ConfusionMatrixDisplay(confusion_matrix=cm, display_labels=model.classes_)\n",
    "    disp.plot(values_format= '.0%', xticks_rotation=60, colorbar=False)\n",
    "    disp.ax_.set_title(\"Matriz de confusão normalizada sobre as condições verdadeiras\")\n",
    "    if(salvarFigura):\n",
    "        plt.savefig(input('Nome da figura a ser salva:' ) + '.png')\n",
    "    plt.show()"
   ]
  },
  {
   "cell_type": "markdown",
   "id": "3ed279a5-56c0-4837-be15-5a42a7194484",
   "metadata": {},
   "source": [
    "### LGBMClassifier"
   ]
  },
  {
   "cell_type": "code",
   "execution_count": 19,
   "id": "b7720fc1-efb2-4333-a44b-72f34d696af2",
   "metadata": {},
   "outputs": [],
   "source": [
    "from lightgbm import LGBMClassifier"
   ]
  },
  {
   "cell_type": "code",
   "execution_count": 20,
   "id": "b504f1dd-6d51-4256-a9bb-7159974baddb",
   "metadata": {},
   "outputs": [
    {
     "data": {
      "text/plain": [
       "70.69860595040451"
      ]
     },
     "execution_count": 20,
     "metadata": {},
     "output_type": "execute_result"
    }
   ],
   "source": [
    "lgb_model = LGBMClassifier(n_jobs=-1, random_state=0)\n",
    "lgb_model.fit(X_train, y_train)\n",
    "\n",
    "lgb_preds = lgb_model.predict(X_test)\n",
    "\n",
    "accuracy_score(y_test, lgb_preds)*100"
   ]
  },
  {
   "cell_type": "code",
   "execution_count": 13,
   "id": "0e88af36-7f21-447e-a75d-98998db0d369",
   "metadata": {},
   "outputs": [
    {
     "data": {
      "image/png": "[encoded data removed]",
      "text/plain": [
       "<Figure size 432x288 with 1 Axes>"
      ]
     },
     "metadata": {
      "needs_background": "light"
     },
     "output_type": "display_data"
    }
   ],
   "source": [
    "imprimeMatrizDeConfusão(y_test, lgb_preds, lgb_model)"
   ]
  },
  {
   "cell_type": "markdown",
   "id": "e24c5f84-5452-4bfb-81a8-ccf9dfeaa39f",
   "metadata": {
    "tags": []
   },
   "source": [
    "#### LGB: Busca de melhores hiper parâmetros"
   ]
  },
  {
   "cell_type": "code",
   "execution_count": 24,
   "id": "74e495be-56b0-4a11-9e82-b0b9f4e48257",
   "metadata": {},
   "outputs": [],
   "source": [
    "def treinar_modelo_lgb(params):\n",
    "    learning_rate = params[0]\n",
    "    num_leaves = params[1]\n",
    "    min_child_samples = params[2]\n",
    "    subsample = params[3]\n",
    "    colsample_bytree = params[4]\n",
    "    \n",
    "    print(params, '\\n')\n",
    "    \n",
    "    lgb_Model = LGBMClassifier(learning_rate=learning_rate, num_leaves=num_leaves, min_child_samples=min_child_samples,\n",
    "                        subsample=subsample, colsample_bytree=colsample_bytree, random_state=0, subsample_freq=1, \n",
    "                         n_estimators=100)\n",
    "    lgb_Model.fit(X_train, y_train)\n",
    "    \n",
    "    lgb_preds = lgb_Model.predict(X_test)\n",
    "    \n",
    "    return -accuracy_score(y_test, lgb_preds)*100\n",
    "\n",
    "space = [(1e-3, 1e-1, 'log-uniform'), #learning rate\n",
    "         (2, 512), # num_leaves\n",
    "         (1, 500), # min_child_samples\n",
    "         (0.05, 1.0), # subsample\n",
    "         (0.1, 1.0)] # colsample bytree"
   ]
  },
  {
   "cell_type": "code",
   "execution_count": null,
   "id": "ce427127-8fed-4e09-98dd-3965a1d8ae84",
   "metadata": {},
   "outputs": [],
   "source": [
    "resultados_lgb = gp_minimize(treinar_modelo_lgb, space, random_state=0, verbose=1, n_calls=50, n_random_starts=10, n_jobs=-1)"
   ]
  },
  {
   "cell_type": "code",
   "execution_count": 26,
   "id": "56f282af-0d2e-439a-b906-9bb9fc3758d0",
   "metadata": {},
   "outputs": [],
   "source": [
    "# Melhores hiper parâmetros para o conjunto PRO: learning_rate=0.1, num_leaves=362, min_child_samples=120, subsample=0.85, colsample_bytree=1.0, random_state=0"
   ]
  },
  {
   "cell_type": "code",
   "execution_count": 27,
   "id": "0128c074-b9fe-4aab-825a-a389cb643bd0",
   "metadata": {},
   "outputs": [],
   "source": [
    "# Melhores hiper parâmetros para o conjunto PNP: learning_rate=0.04, num_leaves=512, min_child_samples=1, subsample=1.0, colsample_bytree=0.65, random_state=0"
   ]
  },
  {
   "cell_type": "code",
   "execution_count": 29,
   "id": "c40bd3ef-f7c2-4d8b-b7bc-99aa45883bb1",
   "metadata": {},
   "outputs": [
    {
     "data": {
      "text/plain": [
       "[0.1, 362, 120, 0.8489006092392756, 1.0]"
      ]
     },
     "execution_count": 30,
     "metadata": {},
     "output_type": "execute_result"
    }
   ],
   "source": [
    "resultados_lgb.x"
   ]
  },
  {
   "cell_type": "code",
   "execution_count": 89,
   "id": "0f74c99d-38fb-4885-a301-e16794c3a827",
   "metadata": {},
   "outputs": [
    {
     "data": {
      "text/plain": [
       "<AxesSubplot:title={'center':'Convergence plot'}, xlabel='Number of calls $n$', ylabel='$\\\\min f(x)$ after $n$ calls'>"
      ]
     },
     "execution_count": 89,
     "metadata": {},
     "output_type": "execute_result"
    },
    {
     "data": {
      "image/png": "[encoded data removed]",
      "text/plain": [
       "<Figure size 432x288 with 1 Axes>"
      ]
     },
     "metadata": {
      "needs_background": "light"
     },
     "output_type": "display_data"
    }
   ],
   "source": [
    "from skopt.plots import plot_convergence\n",
    "plot_convergence(resultados_lgb)"
   ]
  },
  {
   "cell_type": "code",
   "execution_count": 100,
   "id": "0129d8ab-0bd3-45bc-965a-92d2ae17b22e",
   "metadata": {},
   "outputs": [
    {
     "data": {
      "text/plain": [
       "<AxesSubplot:title={'center':'Convergence plot'}, xlabel='Number of calls $n$', ylabel='$\\\\min f(x)$ after $n$ calls'>"
      ]
     },
     "execution_count": 100,
     "metadata": {},
     "output_type": "execute_result"
    },
    {
     "data": {
      "image/png": "[encoded data removed]",
      "text/plain": [
       "<Figure size 432x288 with 1 Axes>"
      ]
     },
     "metadata": {
      "needs_background": "light"
     },
     "output_type": "display_data"
    }
   ],
   "source": [
    "from skopt.plots import plot_convergence\n",
    "plot_convergence(resultados_lgb)"
   ]
  },
  {
   "cell_type": "code",
   "execution_count": 21,
   "id": "48b3bb99-97cb-435d-9d11-1b534df92f17",
   "metadata": {},
   "outputs": [
    {
     "data": {
      "text/plain": [
       "73.44190581600654"
      ]
     },
     "execution_count": 21,
     "metadata": {},
     "output_type": "execute_result"
    }
   ],
   "source": [
    "lgb_model = LGBMClassifier(learning_rate=0.1, num_leaves=362, min_child_samples=120, subsample=0.85, colsample_bytree=1.0, random_state=0)\n",
    "lgb_model.fit(X_train, y_train)\n",
    "\n",
    "lgb_preds = lgb_model.predict(X_test)\n",
    "\n",
    "accuracy_score(y_test, lgb_preds)*100"
   ]
  },
  {
   "cell_type": "code",
   "execution_count": 23,
   "id": "101de7f0-be5e-4278-9494-4cd9807b193a",
   "metadata": {},
   "outputs": [
    {
     "name": "stdout",
     "output_type": "stream",
     "text": [
      "              precision    recall  f1-score   support\n",
      "\n",
      "        Ocio       0.64      0.40      0.50     30838\n",
      "  Pastejando       0.77      0.89      0.83     83380\n",
      "   Ruminando       0.69      0.66      0.67     37570\n",
      "\n",
      "    accuracy                           0.73    151788\n",
      "   macro avg       0.70      0.65      0.66    151788\n",
      "weighted avg       0.72      0.73      0.72    151788\n",
      "\n"
     ]
    }
   ],
   "source": [
    "print(classification_report(y_test, lgb_preds))"
   ]
  },
  {
   "cell_type": "code",
   "execution_count": 24,
   "id": "fda32d2e-57ea-41b5-ac7d-08e27393ed52",
   "metadata": {},
   "outputs": [
    {
     "data": {
      "image/png": "[encoded data removed]",
      "text/plain": [
       "<Figure size 432x288 with 1 Axes>"
      ]
     },
     "metadata": {
      "needs_background": "light"
     },
     "output_type": "display_data"
    }
   ],
   "source": [
    "imprimeMatrizDeConfusão(y_test, lgb_preds, lgb_model)"
   ]
  },
  {
   "cell_type": "code",
   "execution_count": 25,
   "id": "ed91f118-c28d-4b4e-aab9-f86d6070eda2",
   "metadata": {},
   "outputs": [
    {
     "data": {
      "text/plain": [
       "75.90554328204813"
      ]
     },
     "execution_count": 25,
     "metadata": {},
     "output_type": "execute_result"
    }
   ],
   "source": [
    "lgb_preds = lgb_model.predict(X_train)\n",
    "\n",
    "accuracy_score(y_train, lgb_preds)*100"
   ]
  },
  {
   "cell_type": "markdown",
   "id": "a591d908-5401-45b0-8c2a-c5fcd67d859c",
   "metadata": {
    "tags": []
   },
   "source": [
    "### Random Forest"
   ]
  },
  {
   "cell_type": "code",
   "execution_count": 20,
   "id": "fe1c00f4-d653-43d0-82ea-76a24658d435",
   "metadata": {},
   "outputs": [],
   "source": [
    "from sklearn.ensemble import RandomForestClassifier"
   ]
  },
  {
   "cell_type": "markdown",
   "id": "743f8394-508b-46ab-aab2-fe933f50afc0",
   "metadata": {
    "tags": []
   },
   "source": [
    "#### Com Randomized Search CV"
   ]
  },
  {
   "cell_type": "code",
   "execution_count": 39,
   "id": "b542573e-ac80-4cfd-90d1-d2f62f1d1381",
   "metadata": {},
   "outputs": [],
   "source": [
    "rf_Model = RandomForestClassifier(random_state=0, n_jobs=-1)"
   ]
  },
  {
   "cell_type": "code",
   "execution_count": 40,
   "id": "ff1b316b-878d-4413-b406-2dad5f1af598",
   "metadata": {},
   "outputs": [],
   "source": [
    "# Create the param grid\n",
    "rf_param_grid = {'n_estimators':  np.arange(50, 250, 50),\n",
    "               'max_features': ['auto', 'sqrt'],\n",
    "               'max_depth':[50, 100, 150, None],\n",
    "               'criterion': ['gini', 'entropy'],\n",
    "               'min_samples_split': [2, 5, 10, 30, 50],\n",
    "               'min_samples_leaf': [1, 2],\n",
    "               'bootstrap': [True, False]}"
   ]
  },
  {
   "cell_type": "code",
   "execution_count": 41,
   "id": "350214e8-18c1-4035-8776-9dd99ff77d69",
   "metadata": {},
   "outputs": [],
   "source": [
    "rf_RandomGrid = RandomizedSearchCV(estimator = rf_Model, param_distributions = rf_param_grid, cv = 3, verbose=1, random_state=0)"
   ]
  },
  {
   "cell_type": "code",
   "execution_count": null,
   "id": "65bbf8ae-d2ec-4aae-a1d6-311f8c87efde",
   "metadata": {},
   "outputs": [
    {
     "name": "stdout",
     "output_type": "stream",
     "text": [
      "Fitting 3 folds for each of 10 candidates, totalling 30 fits\n"
     ]
    }
   ],
   "source": [
    "%%time\n",
    "rf_RandomGrid.fit(X_train, y_train)"
   ]
  },
  {
   "cell_type": "code",
   "execution_count": 46,
   "id": "1a185d22-dc76-4b3c-9b0d-c116e1b600ec",
   "metadata": {},
   "outputs": [
    {
     "data": {
      "text/plain": [
       "{'n_estimators': 150,\n",
       " 'min_samples_split': 30,\n",
       " 'min_samples_leaf': 1,\n",
       " 'max_features': 'sqrt',\n",
       " 'max_depth': 100,\n",
       " 'criterion': 'entropy',\n",
       " 'bootstrap': False}"
      ]
     },
     "execution_count": 46,
     "metadata": {},
     "output_type": "execute_result"
    }
   ],
   "source": [
    "rf_RandomGrid.best_params_"
   ]
  },
  {
   "cell_type": "code",
   "execution_count": 48,
   "id": "0aff82cb-0df3-4ae4-aa33-344e57df905e",
   "metadata": {},
   "outputs": [
    {
     "data": {
      "text/plain": [
       "0.7361747363918738"
      ]
     },
     "execution_count": 48,
     "metadata": {},
     "output_type": "execute_result"
    }
   ],
   "source": [
    "rf_RandomGrid.best_score_"
   ]
  },
  {
   "cell_type": "code",
   "execution_count": 50,
   "id": "b5a1add5-c981-4fcf-8e30-8877a9eb3e2e",
   "metadata": {},
   "outputs": [],
   "source": [
    "preds_rf_RG = rf_RandomGrid.predict(X_test)"
   ]
  },
  {
   "cell_type": "code",
   "execution_count": 51,
   "id": "2e267934-e574-4e5f-80e2-1533c1056195",
   "metadata": {},
   "outputs": [
    {
     "data": {
      "text/plain": [
       "74.09413128837589"
      ]
     },
     "execution_count": 51,
     "metadata": {},
     "output_type": "execute_result"
    }
   ],
   "source": [
    "accuracy_score(y_test, preds_rf_RG)*100"
   ]
  },
  {
   "cell_type": "code",
   "execution_count": 52,
   "id": "0fa1f74a-8f43-4dcf-8e92-d6dd1d23d933",
   "metadata": {},
   "outputs": [
    {
     "data": {
      "image/png": "[encoded data removed]",
      "text/plain": [
       "<Figure size 432x288 with 1 Axes>"
      ]
     },
     "metadata": {
      "needs_background": "light"
     },
     "output_type": "display_data"
    }
   ],
   "source": [
    "imprimeMatrizDeConfusão(y_test, preds_rf_RG, rf_RandomGrid)"
   ]
  },
  {
   "cell_type": "markdown",
   "id": "8ed14ff0-3ffc-4ae6-b53a-fc78dda1c046",
   "metadata": {},
   "source": [
    "#### Com Minimize"
   ]
  },
  {
   "cell_type": "code",
   "execution_count": 36,
   "id": "340c8159-d9e2-4df7-812b-92ce5ded12ea",
   "metadata": {},
   "outputs": [],
   "source": [
    "def treinar_modelo_rf(params):\n",
    "    n_estimators = params[0]\n",
    "    max_features = params[1]\n",
    "    max_depth = params[2]\n",
    "    criterion = params[3]\n",
    "    min_samples_split = params[4]\n",
    "    min_samples_leaf = params[5]\n",
    "    bootstrap = params[6]\n",
    "    \n",
    "    print(params, '\\n')\n",
    "    \n",
    "    rf_Model = RandomForestClassifier(n_estimators=n_estimators, max_features=max_features, max_depth=max_depth, criterion=criterion, min_samples_split=min_samples_split,\n",
    "                                      bootstrap=bootstrap, random_state=0, n_jobs=-1)\n",
    "    \n",
    "    rf_Model.fit(X_train, y_train)\n",
    "    \n",
    "    rf_preds = rf_Model.predict(X_test)\n",
    "    \n",
    "    return -accuracy_score(y_test, rf_preds)*100\n",
    "\n",
    "space = [(16, 256), # n_estimators\n",
    "         ['auto', 'sqrt'], # max_features\n",
    "         (32, 128), # max_depth\n",
    "         ['gini', 'entropy'], # criterion\n",
    "         (0.1, 1.0), # min_samples_split\n",
    "         [1,2], # min_samples_leaf\n",
    "         [True, False]] # bootstrap] "
   ]
  },
  {
   "cell_type": "code",
   "execution_count": 37,
   "id": "cfcb72c0-996f-44f1-83be-7cb3964a6795",
   "metadata": {},
   "outputs": [
    {
     "name": "stdout",
     "output_type": "stream",
     "text": [
      "Iteration No: 1 started. Evaluating function at random point.\n",
      "[158, 'sqrt', 114, 'gini', 0.6612073271073752, 1, False] \n",
      "\n",
      "Iteration No: 1 ended. Evaluation done at random point.\n",
      "Time taken: 8.6412\n",
      "Function value obtained: -54.9319\n",
      "Current minimum: -54.9319\n",
      "Iteration No: 2 started. Evaluating function at random point.\n",
      "[30, 'auto', 78, 'gini', 0.5319794551375517, 1, True] \n",
      "\n",
      "Iteration No: 2 ended. Evaluation done at random point.\n",
      "Time taken: 1.8811\n",
      "Function value obtained: -54.9319\n",
      "Current minimum: -54.9319\n",
      "Iteration No: 3 started. Evaluating function at random point.\n",
      "[97, 'sqrt', 67, 'gini', 0.22631570237138066, 2, False] \n",
      "\n",
      "Iteration No: 3 ended. Evaluation done at random point.\n",
      "Time taken: 10.5729\n",
      "Function value obtained: -59.7412\n",
      "Current minimum: -59.7412\n",
      "Iteration No: 4 started. Evaluating function at random point.\n",
      "[208, 'sqrt', 97, 'gini', 0.6238178128675965, 2, True] \n",
      "\n",
      "Iteration No: 4 ended. Evaluation done at random point.\n",
      "Time taken: 7.7394\n",
      "Function value obtained: -54.9319\n",
      "Current minimum: -59.7412\n",
      "Iteration No: 5 started. Evaluating function at random point.\n",
      "[41, 'auto', 50, 'gini', 0.2948953189819348, 1, False] \n",
      "\n",
      "Iteration No: 5 ended. Evaluation done at random point.\n",
      "Time taken: 4.5494\n",
      "Function value obtained: -59.0626\n",
      "Current minimum: -59.7412\n",
      "Iteration No: 6 started. Evaluating function at random point.\n",
      "[52, 'auto', 69, 'gini', 0.504954990920105, 2, True] \n",
      "\n",
      "Iteration No: 6 ended. Evaluation done at random point.\n",
      "Time taken: 2.7470\n",
      "Function value obtained: -54.9319\n",
      "Current minimum: -59.7412\n",
      "Iteration No: 7 started. Evaluating function at random point.\n",
      "[40, 'sqrt', 95, 'entropy', 0.42233695027257256, 2, True] \n",
      "\n",
      "Iteration No: 7 ended. Evaluation done at random point.\n",
      "Time taken: 2.8072\n",
      "Function value obtained: -55.9886\n",
      "Current minimum: -59.7412\n",
      "Iteration No: 8 started. Evaluating function at random point.\n",
      "[94, 'auto', 93, 'gini', 0.6875112853049419, 2, True] \n",
      "\n",
      "Iteration No: 8 ended. Evaluation done at random point.\n",
      "Time taken: 2.4803\n",
      "Function value obtained: -54.9319\n",
      "Current minimum: -59.7412\n",
      "Iteration No: 9 started. Evaluating function at random point.\n",
      "[156, 'auto', 78, 'gini', 0.4042068533550026, 2, False] \n",
      "\n",
      "Iteration No: 9 ended. Evaluation done at random point.\n",
      "Time taken: 12.3820\n",
      "Function value obtained: -58.7365\n",
      "Current minimum: -59.7412\n",
      "Iteration No: 10 started. Evaluating function at random point.\n",
      "[203, 'sqrt', 96, 'entropy', 0.6605614859920026, 2, True] \n",
      "\n",
      "Iteration No: 10 ended. Evaluation done at random point.\n",
      "Time taken: 4.5554\n",
      "Function value obtained: -54.9319\n",
      "Current minimum: -59.7412\n",
      "Iteration No: 11 started. Evaluating function at random point.\n",
      "[227, 'sqrt', 37, 'entropy', 0.11798889886788287, 1, True] \n",
      "\n",
      "Iteration No: 11 ended. Evaluation done at random point.\n",
      "Time taken: 23.9009\n",
      "Function value obtained: -60.2472\n",
      "Current minimum: -60.2472\n",
      "Iteration No: 12 started. Evaluating function at random point.\n",
      "[102, 'auto', 98, 'gini', 0.9264119197259304, 1, True] \n",
      "\n",
      "Iteration No: 12 ended. Evaluation done at random point.\n",
      "Time taken: 2.6085\n",
      "Function value obtained: -54.9319\n",
      "Current minimum: -60.2472\n",
      "Iteration No: 13 started. Evaluating function at random point.\n",
      "[224, 'sqrt', 120, 'gini', 0.17480124336754216, 1, False] \n",
      "\n",
      "Iteration No: 13 ended. Evaluation done at random point.\n",
      "Time taken: 25.0340\n",
      "Function value obtained: -60.4791\n",
      "Current minimum: -60.4791\n",
      "Iteration No: 14 started. Evaluating function at random point.\n",
      "[218, 'sqrt', 113, 'entropy', 0.4580386774827663, 2, False] \n",
      "\n",
      "Iteration No: 14 ended. Evaluation done at random point.\n",
      "Time taken: 17.3103\n",
      "Function value obtained: -58.6614\n",
      "Current minimum: -60.4791\n",
      "Iteration No: 15 started. Evaluating function at random point.\n",
      "[105, 'auto', 87, 'gini', 0.3596287933436758, 1, True] \n",
      "\n",
      "Iteration No: 15 ended. Evaluation done at random point.\n",
      "Time taken: 7.9746\n",
      "Function value obtained: -56.8550\n",
      "Current minimum: -60.4791\n",
      "Iteration No: 16 started. Searching for the next optimal point.\n",
      "[256, 'sqrt', 128, 'entropy', 0.1, 1, True] \n",
      "\n",
      "Iteration No: 16 ended. Search finished for the next optimal point.\n",
      "Time taken: 28.2230\n",
      "Function value obtained: -60.7360\n",
      "Current minimum: -60.7360\n",
      "Iteration No: 17 started. Searching for the next optimal point.\n",
      "[16, 'sqrt', 128, 'entropy', 0.1, 1, False] \n",
      "\n",
      "Iteration No: 17 ended. Search finished for the next optimal point.\n",
      "Time taken: 3.5704\n",
      "Function value obtained: -61.5477\n",
      "Current minimum: -61.5477\n",
      "Iteration No: 18 started. Searching for the next optimal point.\n",
      "[51, 'sqrt', 128, 'entropy', 0.1, 1, False] \n",
      "\n",
      "Iteration No: 18 ended. Search finished for the next optimal point.\n",
      "Time taken: 8.7544\n",
      "Function value obtained: -61.7315\n",
      "Current minimum: -61.7315\n",
      "Iteration No: 19 started. Searching for the next optimal point.\n",
      "[256, 'sqrt', 128, 'entropy', 0.1, 2, False] \n",
      "\n",
      "Iteration No: 19 ended. Search finished for the next optimal point.\n",
      "Time taken: 39.7338\n",
      "Function value obtained: -61.6274\n",
      "Current minimum: -61.7315\n",
      "Iteration No: 20 started. Searching for the next optimal point.\n",
      "[225, 'sqrt', 128, 'entropy', 0.1, 1, False] \n",
      "\n",
      "Iteration No: 20 ended. Search finished for the next optimal point.\n",
      "Time taken: 34.9095\n",
      "Function value obtained: -61.6412\n",
      "Current minimum: -61.7315\n",
      "Iteration No: 21 started. Searching for the next optimal point.\n",
      "[256, 'auto', 32, 'entropy', 0.1, 1, False] \n",
      "\n",
      "Iteration No: 21 ended. Search finished for the next optimal point.\n",
      "Time taken: 39.8377\n",
      "Function value obtained: -61.6274\n",
      "Current minimum: -61.7315\n",
      "Iteration No: 22 started. Searching for the next optimal point.\n",
      "[256, 'sqrt', 128, 'entropy', 0.1, 1, False] \n",
      "\n",
      "Iteration No: 22 ended. Search finished for the next optimal point.\n",
      "Time taken: 42.1337\n",
      "Function value obtained: -61.6274\n",
      "Current minimum: -61.7315\n",
      "Iteration No: 23 started. Searching for the next optimal point.\n",
      "[256, 'sqrt', 128, 'entropy', 0.1, 1, False] \n",
      "\n"
     ]
    },
    {
     "name": "stderr",
     "output_type": "stream",
     "text": [
      "/home/caio/anaconda3/lib/python3.9/site-packages/skopt/optimizer/optimizer.py:449: UserWarning: The objective has been evaluated at this point before.\n",
      "  warnings.warn(\"The objective has been evaluated \"\n"
     ]
    },
    {
     "name": "stdout",
     "output_type": "stream",
     "text": [
      "Iteration No: 23 ended. Search finished for the next optimal point.\n",
      "Time taken: 41.0648\n",
      "Function value obtained: -61.6274\n",
      "Current minimum: -61.7315\n",
      "Iteration No: 24 started. Searching for the next optimal point.\n",
      "[74, 'sqrt', 128, 'entropy', 0.1, 1, False] \n",
      "\n",
      "Iteration No: 24 ended. Search finished for the next optimal point.\n",
      "Time taken: 12.7220\n",
      "Function value obtained: -61.6860\n",
      "Current minimum: -61.7315\n",
      "Iteration No: 25 started. Searching for the next optimal point.\n",
      "[16, 'sqrt', 128, 'entropy', 0.1, 1, False] \n",
      "\n"
     ]
    },
    {
     "name": "stderr",
     "output_type": "stream",
     "text": [
      "/home/caio/anaconda3/lib/python3.9/site-packages/skopt/optimizer/optimizer.py:449: UserWarning: The objective has been evaluated at this point before.\n",
      "  warnings.warn(\"The objective has been evaluated \"\n"
     ]
    },
    {
     "name": "stdout",
     "output_type": "stream",
     "text": [
      "Iteration No: 25 ended. Search finished for the next optimal point.\n",
      "Time taken: 3.5077\n",
      "Function value obtained: -61.5477\n",
      "Current minimum: -61.7315\n",
      "Iteration No: 26 started. Searching for the next optimal point.\n",
      "[187, 'auto', 128, 'entropy', 0.1, 2, False] \n",
      "\n",
      "Iteration No: 26 ended. Search finished for the next optimal point.\n",
      "Time taken: 29.7523\n",
      "Function value obtained: -61.4541\n",
      "Current minimum: -61.7315\n",
      "Iteration No: 27 started. Searching for the next optimal point.\n",
      "[256, 'sqrt', 32, 'gini', 0.1, 1, False] \n",
      "\n",
      "Iteration No: 27 ended. Search finished for the next optimal point.\n",
      "Time taken: 36.2822\n",
      "Function value obtained: -61.7901\n",
      "Current minimum: -61.7901\n",
      "Iteration No: 28 started. Searching for the next optimal point.\n",
      "[256, 'sqrt', 32, 'gini', 0.1, 1, False] \n",
      "\n"
     ]
    },
    {
     "name": "stderr",
     "output_type": "stream",
     "text": [
      "/home/caio/anaconda3/lib/python3.9/site-packages/skopt/optimizer/optimizer.py:449: UserWarning: The objective has been evaluated at this point before.\n",
      "  warnings.warn(\"The objective has been evaluated \"\n"
     ]
    },
    {
     "name": "stdout",
     "output_type": "stream",
     "text": [
      "Iteration No: 28 ended. Search finished for the next optimal point.\n",
      "Time taken: 36.2313\n",
      "Function value obtained: -61.7901\n",
      "Current minimum: -61.7901\n",
      "Iteration No: 29 started. Searching for the next optimal point.\n",
      "[16, 'sqrt', 32, 'entropy', 0.1, 2, False] \n",
      "\n",
      "Iteration No: 29 ended. Search finished for the next optimal point.\n",
      "Time taken: 3.7805\n",
      "Function value obtained: -61.5477\n",
      "Current minimum: -61.7901\n",
      "Iteration No: 30 started. Searching for the next optimal point.\n",
      "[256, 'sqrt', 32, 'gini', 0.1, 1, False] \n",
      "\n"
     ]
    },
    {
     "name": "stderr",
     "output_type": "stream",
     "text": [
      "/home/caio/anaconda3/lib/python3.9/site-packages/skopt/optimizer/optimizer.py:449: UserWarning: The objective has been evaluated at this point before.\n",
      "  warnings.warn(\"The objective has been evaluated \"\n"
     ]
    },
    {
     "name": "stdout",
     "output_type": "stream",
     "text": [
      "Iteration No: 30 ended. Search finished for the next optimal point.\n",
      "Time taken: 36.1866\n",
      "Function value obtained: -61.7901\n",
      "Current minimum: -61.7901\n"
     ]
    }
   ],
   "source": [
    "resultado_rf = gp_minimize(treinar_modelo_rf, space, random_state=0, verbose=1, n_calls=30, n_random_starts=15, n_jobs=-1)"
   ]
  },
  {
   "cell_type": "markdown",
   "id": "2e219a01-31f6-4d8a-9043-72c96619ae6a",
   "metadata": {},
   "source": [
    "#### RF com os melhores parâmetros"
   ]
  },
  {
   "cell_type": "code",
   "execution_count": 34,
   "id": "c84181d4-3ece-4018-9a8a-0e545a602ccc",
   "metadata": {
    "tags": []
   },
   "outputs": [],
   "source": [
    "model = RandomForestClassifier(n_estimators=150,\n",
    "                              min_samples_split=30,\n",
    "                              min_samples_leaf=1,\n",
    "                              max_features='sqrt',\n",
    "                              max_depth=100,\n",
    "                              criterion='entropy',\n",
    "                              bootstrap=False,\n",
    "                              n_jobs=-1,\n",
    "                              random_state=0)\n",
    "model.fit(X_train, y_train)\n",
    "preds = model.predict(X_test)"
   ]
  },
  {
   "cell_type": "code",
   "execution_count": 35,
   "id": "c92614fc-aeed-4e61-8ac5-69407904e04b",
   "metadata": {},
   "outputs": [
    {
     "data": {
      "text/plain": [
       "74.09413128837589"
      ]
     },
     "execution_count": 35,
     "metadata": {},
     "output_type": "execute_result"
    }
   ],
   "source": [
    "accuracy_score(y_test, preds)*100"
   ]
  },
  {
   "cell_type": "code",
   "execution_count": 78,
   "id": "47da569a-f5b7-4d4c-90d2-f1cc0e7e5513",
   "metadata": {},
   "outputs": [
    {
     "data": {
      "image/png": "[encoded data removed]",
      "text/plain": [
       "<Figure size 432x288 with 1 Axes>"
      ]
     },
     "metadata": {
      "needs_background": "light"
     },
     "output_type": "display_data"
    }
   ],
   "source": [
    "imprimeMatrizDeConfusão(y_test, preds, model)"
   ]
  },
  {
   "cell_type": "markdown",
   "id": "eabbcc92-5035-4092-9013-8a95b1b40c83",
   "metadata": {
    "tags": []
   },
   "source": [
    "### Gradient Boosting"
   ]
  },
  {
   "cell_type": "code",
   "execution_count": 28,
   "id": "ca98eb54-6b61-4de5-999b-0637c3d3739d",
   "metadata": {},
   "outputs": [],
   "source": [
    "from xgboost import XGBClassifier\n",
    "from sklearn.preprocessing import OrdinalEncoder\n",
    "\n",
    "ordinal_encoder = OrdinalEncoder()\n",
    "\n",
    "y_train_ordinal = ordinal_encoder.fit_transform(y_train.array.reshape(-1,1))\n",
    "y_test_ordinal = ordinal_encoder.transform(y_test.array.reshape(-1,1))"
   ]
  },
  {
   "cell_type": "code",
   "execution_count": 17,
   "id": "65eacab7-3b6a-4233-9f5e-d5608c6e4657",
   "metadata": {},
   "outputs": [
    {
     "name": "stdout",
     "output_type": "stream",
     "text": [
      "[15:13:30] WARNING: ../src/learner.cc:1115: Starting in XGBoost 1.3.0, the default evaluation metric used with the objective 'multi:softprob' was changed from 'merror' to 'mlogloss'. Explicitly set eval_metric if you'd like to restore the old behavior.\n"
     ]
    },
    {
     "data": {
      "text/plain": [
       "XGBClassifier(base_score=0.5, booster='gbtree', colsample_bylevel=1,\n",
       "              colsample_bynode=1, colsample_bytree=1, enable_categorical=False,\n",
       "              gamma=0, gpu_id=-1, importance_type=None,\n",
       "              interaction_constraints='', learning_rate=0.300000012,\n",
       "              max_delta_step=0, max_depth=6, min_child_weight=1, missing=nan,\n",
       "              monotone_constraints='()', n_estimators=100, n_jobs=8,\n",
       "              num_parallel_tree=1, objective='multi:softprob', predictor='auto',\n",
       "              random_state=0, reg_alpha=0, reg_lambda=1, scale_pos_weight=None,\n",
       "              subsample=1, tree_method='exact', use_label_encoder=False,\n",
       "              validate_parameters=1, verbosity=None)"
      ]
     },
     "execution_count": 17,
     "metadata": {},
     "output_type": "execute_result"
    }
   ],
   "source": [
    "xgb_model = XGBClassifier(use_label_encoder=False, random_state=0)\n",
    "xgb_model.fit(X_train, y_train_ordinal)"
   ]
  },
  {
   "cell_type": "code",
   "execution_count": 21,
   "id": "24cb533e-86d5-48b0-84c1-45dafadc5318",
   "metadata": {},
   "outputs": [
    {
     "data": {
      "text/plain": [
       "71.53464041953251"
      ]
     },
     "execution_count": 21,
     "metadata": {},
     "output_type": "execute_result"
    }
   ],
   "source": [
    "xgb_preds = xgb_model.predict(X_test)\n",
    "xgb_preds = ordinal_encoder.inverse_transform(xgb_preds.reshape(-1,1))\n",
    "accuracy_score(y_test, xgb_preds)*100"
   ]
  },
  {
   "cell_type": "code",
   "execution_count": 26,
   "id": "25fe5caf-e2a9-4072-ada3-d4ba98325019",
   "metadata": {},
   "outputs": [
    {
     "data": {
      "text/plain": [
       "72.81832915350863"
      ]
     },
     "execution_count": 26,
     "metadata": {},
     "output_type": "execute_result"
    }
   ],
   "source": [
    "accuracy_score(y_train, ordinal_encoder.inverse_transform(xgb_model.predict(X_train).reshape(-1,1)))*100"
   ]
  },
  {
   "cell_type": "code",
   "execution_count": 19,
   "id": "7912e17d-1970-4044-bfd4-a37d3b0911a0",
   "metadata": {},
   "outputs": [
    {
     "data": {
      "image/png": "[encoded data removed]",
      "text/plain": [
       "<Figure size 432x288 with 1 Axes>"
      ]
     },
     "metadata": {
      "needs_background": "light"
     },
     "output_type": "display_data"
    }
   ],
   "source": [
    "imprimeMatrizDeConfusão(y_test, xgb_preds, xgb_model)"
   ]
  },
  {
   "cell_type": "markdown",
   "id": "993cd458-bb41-4f56-9cc6-0f1aaecb2b35",
   "metadata": {
    "tags": []
   },
   "source": [
    "#### GB: Busca de melhores hiper parâmetros"
   ]
  },
  {
   "cell_type": "code",
   "execution_count": 36,
   "id": "54b4f7af-51e1-4d22-b692-decf22b83896",
   "metadata": {},
   "outputs": [],
   "source": [
    "def treinar_modelo_gb(params):\n",
    "    learning_rate = params[0]\n",
    "    max_depth = params[1]\n",
    "    min_child_weight = params[2]\n",
    "    gamma = params[3]\n",
    "    colsample_bytree = params[4]\n",
    "    \n",
    "    print(params, '\\n')\n",
    "    \n",
    "    gb_Model = XGBClassifier(learning_rate=learning_rate, max_depth=max_depth, min_child_weight=min_child_weight, colsample_bytree=colsample_bytree,\n",
    "                             use_label_encoder=False, random_state=0, n_jobs=-1)\n",
    "    gb_Model.fit(X_train, y_train_ordinal)\n",
    "    \n",
    "    gb_preds = gb_Model.predict(X_test)\n",
    "    \n",
    "    return -accuracy_score(y_test_ordinal, gb_preds)*100\n",
    "\n",
    "space = [(1e-3, 1e-1, 'log-uniform'), #learning rate\n",
    "         (2, 16), # max_depth\n",
    "         (1, 16), # min_child_weight\n",
    "         (0.0, 0.5), # gamma\n",
    "         (0.1, 1.0)] # colsample bytree"
   ]
  },
  {
   "cell_type": "code",
   "execution_count": null,
   "id": "b82765ae-faaa-4e33-ac0b-51c7c7d32601",
   "metadata": {},
   "outputs": [],
   "source": [
    "# learning_rate=0.0576, max_depth=16, min_child_weight=1, gamma=0.0, colsample_bytree=0.6166650768689715, use_label_encoder=False, random_state=0, n_jobs=-1\n",
    "def treinar_modelo_gb(params):\n",
    "    learning_rate = params[0]\n",
    "    max_depth = params[1]\n",
    "    min_child_weight = params[2]\n",
    "    gamma = params[3]\n",
    "    colsample_bytree = params[4]\n",
    "    \n",
    "    print(params, '\\n')\n",
    "    \n",
    "    gb_Model = XGBClassifier(learning_rate=learning_rate, max_depth=max_depth, min_child_weight=min_child_weight, colsample_bytree=colsample_bytree,\n",
    "                             use_label_encoder=False, random_state=0, n_jobs=-1)\n",
    "    gb_Model.fit(X_train, y_train_ordinal)\n",
    "    \n",
    "    gb_preds = gb_Model.predict(X_test)\n",
    "    \n",
    "    return -accuracy_score(y_test_ordinal, gb_preds)*100\n",
    "\n",
    "space = [(1e-3, 1e-1, 'log-uniform'), #learning rate\n",
    "         (16, 32), # max_depth\n",
    "         (1, 16), # min_child_weight\n",
    "         (0.0, 0.5), # gamma\n",
    "         (0.1, 1.0)] # colsample bytree"
   ]
  },
  {
   "cell_type": "code",
   "execution_count": null,
   "id": "d9ce88cc-883a-4026-bce6-7584b20f2933",
   "metadata": {},
   "outputs": [],
   "source": [
    "resultados_gb = gp_minimize(treinar_modelo_gb, space, random_state=0, verbose=1, n_calls=30, n_random_starts=10, n_jobs=-1)"
   ]
  },
  {
   "cell_type": "code",
   "execution_count": 44,
   "id": "66c78263-a6e1-4360-ae86-102da8fe256c",
   "metadata": {},
   "outputs": [
    {
     "data": {
      "text/plain": [
       "[0.0576181277900256, 16, 1, 0.0, 0.6166650768689715]"
      ]
     },
     "execution_count": 44,
     "metadata": {},
     "output_type": "execute_result"
    }
   ],
   "source": [
    "resultados_gb.x"
   ]
  },
  {
   "cell_type": "code",
   "execution_count": 46,
   "id": "0d6d1ee9-ccb7-4cf9-9302-acd1dc20f5b4",
   "metadata": {},
   "outputs": [],
   "source": [
    "# Melhores hiper parâmetros para o conjunto PRO: learning_rate=0.0576, max_depth=16, min_child_weight=1, gamma=0.0, colsample_bytree=0.6166650768689715, use_label_encoder=False, random_state=0, n_jobs=-1"
   ]
  },
  {
   "cell_type": "code",
   "execution_count": 47,
   "id": "ca092ac8-305d-4343-a36b-e3120256d7f1",
   "metadata": {},
   "outputs": [],
   "source": [
    "# Melhores hiper parâmetros para o conjunto PNP: "
   ]
  },
  {
   "cell_type": "code",
   "execution_count": 42,
   "id": "14ba1c61-6f29-46a4-804e-930fe5eedf5b",
   "metadata": {},
   "outputs": [
    {
     "data": {
      "text/plain": [
       "<AxesSubplot:title={'center':'Convergence plot'}, xlabel='Number of calls $n$', ylabel='$\\\\min f(x)$ after $n$ calls'>"
      ]
     },
     "execution_count": 42,
     "metadata": {},
     "output_type": "execute_result"
    },
    {
     "data": {
      "image/png": "[encoded data removed]",
      "text/plain": [
       "<Figure size 432x288 with 1 Axes>"
      ]
     },
     "metadata": {
      "needs_background": "light"
     },
     "output_type": "display_data"
    }
   ],
   "source": [
    "from skopt.plots import plot_convergence\n",
    "plot_convergence(resultados_gb)"
   ]
  },
  {
   "cell_type": "markdown",
   "id": "d46bda57-c898-4538-8b8a-819c3cc6fe67",
   "metadata": {
    "tags": [],
    "toc-hr-collapsed": true
   },
   "source": [
    "### SVM"
   ]
  },
  {
   "cell_type": "code",
   "execution_count": 21,
   "id": "c86bedac-aa4b-47d4-91e3-b2e0e09fe3f4",
   "metadata": {},
   "outputs": [],
   "source": [
    "from sklearn.svm import SVC\n",
    "X_train, X_test, y_train, y_test = train_test_split(X, y, train_size=0.1, random_state = 0)"
   ]
  },
  {
   "cell_type": "code",
   "execution_count": null,
   "id": "cc4cdd96-4c57-4a2f-a23a-d432c5d34fab",
   "metadata": {},
   "outputs": [],
   "source": [
    "%%time\n",
    "svc_model = SVC(kernel='linear', cache_size=5000, random_state=0) # Linear Kernel\n",
    "\n",
    "svc_model.fit(X_train, y_train)\n",
    "\n",
    "svc_preds = svc_model.predict(X_test)"
   ]
  },
  {
   "cell_type": "code",
   "execution_count": null,
   "id": "9e176cf6-95fd-4e6f-ad88-5f0422622c5e",
   "metadata": {},
   "outputs": [],
   "source": [
    "print(\"Acurácia:\", accuracy_score(y_test, svc_preds))"
   ]
  },
  {
   "cell_type": "markdown",
   "id": "23e8b482-5b1f-4125-a980-554c3ba6570c",
   "metadata": {
    "tags": []
   },
   "source": [
    "###  Gaussian Naive Bayes"
   ]
  },
  {
   "cell_type": "code",
   "execution_count": 80,
   "id": "61259046-cd8e-4efb-a350-ba4c5b66cd08",
   "metadata": {},
   "outputs": [],
   "source": [
    "# Conjunto com todas as classes\n",
    "X_train, X_test, y_train, y_test = train_test_split(X, y, random_state = 0)"
   ]
  },
  {
   "cell_type": "code",
   "execution_count": 81,
   "id": "8f9cbc1b-febe-444c-8595-ebf6957415a9",
   "metadata": {},
   "outputs": [],
   "source": [
    "from sklearn.naive_bayes import GaussianNB"
   ]
  },
  {
   "cell_type": "code",
   "execution_count": 82,
   "id": "7858a352-30b2-425f-a877-8c22664192ea",
   "metadata": {},
   "outputs": [
    {
     "name": "stdout",
     "output_type": "stream",
     "text": [
      "Acurácia: 0.556987377131262\n"
     ]
    }
   ],
   "source": [
    "gnb_model = GaussianNB()\n",
    "gnb_preds = gnb_model.fit(X_train, y_train).predict(X_test)\n",
    "print(\"Acurácia:\", accuracy_score(y_test, gnb_preds))"
   ]
  },
  {
   "cell_type": "markdown",
   "id": "a22562a2-f07c-426e-bd64-a6034beb50bf",
   "metadata": {
    "tags": []
   },
   "source": [
    "### Logistic Regression"
   ]
  },
  {
   "cell_type": "code",
   "execution_count": 70,
   "id": "6c4b89e6-b104-416d-8e1f-421413fa74b1",
   "metadata": {},
   "outputs": [],
   "source": [
    "# Conjunto de dados PNP: Pastejando x Não Pastejando\n",
    "y_pnp = y\n",
    "y_pnp = y_pnp.replace(to_replace=['Agua', 'Locomovendo', 'Ocio', 'Outros','Ruminando'], value='Não Pastejando')\n",
    "X_train, X_test, y_train, y_test = train_test_split(X, y_pnp, random_state = 0)"
   ]
  },
  {
   "cell_type": "code",
   "execution_count": 71,
   "id": "151d5591-8a1a-4ac8-81cc-75c450a6899d",
   "metadata": {},
   "outputs": [],
   "source": [
    "from sklearn.linear_model import LogisticRegression"
   ]
  },
  {
   "cell_type": "code",
   "execution_count": null,
   "id": "06145b2a-cecd-4c98-b339-39534253a4c8",
   "metadata": {},
   "outputs": [],
   "source": [
    "lr_model = LogisticRegression(random_state=0)\n",
    "lr_model.fit(X_train, y_train)"
   ]
  },
  {
   "cell_type": "code",
   "execution_count": 86,
   "id": "b2ae5e97-fc5f-459b-bf38-6d902edea7b2",
   "metadata": {},
   "outputs": [],
   "source": [
    "lr_preds = lr_model.predict(X_test)"
   ]
  },
  {
   "cell_type": "code",
   "execution_count": 87,
   "id": "ed24d2aa-a0b4-4ba2-8c97-4a3e8356968b",
   "metadata": {},
   "outputs": [
    {
     "name": "stdout",
     "output_type": "stream",
     "text": [
      "Acurácia: 0.6389042612064195\n"
     ]
    }
   ],
   "source": [
    "print(\"Acurácia:\", accuracy_score(y_test, lr_preds))"
   ]
  },
  {
   "cell_type": "markdown",
   "id": "c3dcde6b-99fd-4af1-a041-adae0701a610",
   "metadata": {
    "tags": []
   },
   "source": [
    "### Redes Neurais"
   ]
  },
  {
   "cell_type": "code",
   "execution_count": 128,
   "id": "68f91128-829f-49f8-a737-e6e89661ad7b",
   "metadata": {},
   "outputs": [],
   "source": [
    "from sklearn.neural_network import MLPClassifier"
   ]
  },
  {
   "cell_type": "code",
   "execution_count": 134,
   "id": "1fbdd608-3878-48a2-92df-1636b538f968",
   "metadata": {},
   "outputs": [
    {
     "name": "stdout",
     "output_type": "stream",
     "text": [
      "Iteration 1, loss = 0.66244527\n",
      "Validation score: 0.644509\n",
      "Iteration 2, loss = 0.63292880\n",
      "Validation score: 0.660759\n",
      "Iteration 3, loss = 0.62147511\n",
      "Validation score: 0.667018\n",
      "Iteration 4, loss = 0.61348418\n",
      "Validation score: 0.667260\n",
      "Iteration 5, loss = 0.60835299\n",
      "Validation score: 0.673386\n",
      "Iteration 6, loss = 0.60411985\n",
      "Validation score: 0.682346\n",
      "Iteration 7, loss = 0.60063661\n",
      "Validation score: 0.685443\n",
      "Iteration 8, loss = 0.59835031\n",
      "Validation score: 0.687529\n",
      "Iteration 9, loss = 0.59629142\n",
      "Validation score: 0.687726\n",
      "Iteration 10, loss = 0.59447342\n",
      "Validation score: 0.691723\n",
      "Iteration 11, loss = 0.59307875\n",
      "Validation score: 0.693458\n",
      "Iteration 12, loss = 0.59193036\n",
      "Validation score: 0.696313\n",
      "Iteration 13, loss = 0.59095015\n",
      "Validation score: 0.695171\n",
      "Iteration 14, loss = 0.58977233\n",
      "Validation score: 0.694995\n",
      "Iteration 15, loss = 0.58894464\n",
      "Validation score: 0.694907\n",
      "Iteration 16, loss = 0.58815113\n",
      "Validation score: 0.694864\n",
      "Iteration 17, loss = 0.58744785\n",
      "Validation score: 0.693634\n",
      "Iteration 18, loss = 0.58690402\n",
      "Validation score: 0.695874\n",
      "Iteration 19, loss = 0.58580124\n",
      "Validation score: 0.694512\n",
      "Iteration 20, loss = 0.58465389\n",
      "Validation score: 0.692316\n",
      "Iteration 21, loss = 0.58304811\n",
      "Validation score: 0.691569\n",
      "Iteration 22, loss = 0.58187363\n",
      "Validation score: 0.698729\n",
      "Iteration 23, loss = 0.58107997\n",
      "Validation score: 0.699124\n",
      "Iteration 24, loss = 0.58077574\n",
      "Validation score: 0.697169\n",
      "Iteration 25, loss = 0.58019314\n",
      "Validation score: 0.701210\n",
      "Iteration 26, loss = 0.57982980\n",
      "Validation score: 0.697038\n",
      "Iteration 27, loss = 0.57957206\n",
      "Validation score: 0.698970\n",
      "Iteration 28, loss = 0.57909402\n",
      "Validation score: 0.695720\n",
      "Iteration 29, loss = 0.57894708\n",
      "Validation score: 0.700090\n",
      "Iteration 30, loss = 0.57827951\n",
      "Validation score: 0.701342\n",
      "Iteration 31, loss = 0.57781309\n",
      "Validation score: 0.698267\n",
      "Iteration 32, loss = 0.57751527\n",
      "Validation score: 0.696181\n",
      "Iteration 33, loss = 0.57740515\n",
      "Validation score: 0.700573\n",
      "Iteration 34, loss = 0.57708253\n",
      "Validation score: 0.696906\n",
      "Iteration 35, loss = 0.57682165\n",
      "Validation score: 0.700903\n",
      "Iteration 36, loss = 0.57662312\n",
      "Validation score: 0.701056\n",
      "Iteration 37, loss = 0.57626149\n",
      "Validation score: 0.697674\n",
      "Iteration 38, loss = 0.57605560\n",
      "Validation score: 0.699080\n",
      "Iteration 39, loss = 0.57610472\n",
      "Validation score: 0.700661\n",
      "Iteration 40, loss = 0.57585902\n",
      "Validation score: 0.702352\n",
      "Iteration 41, loss = 0.57537012\n",
      "Validation score: 0.701737\n",
      "Iteration 42, loss = 0.57576217\n",
      "Validation score: 0.698597\n",
      "Iteration 43, loss = 0.57529627\n",
      "Validation score: 0.697103\n",
      "Iteration 44, loss = 0.57527338\n",
      "Validation score: 0.697411\n",
      "Iteration 45, loss = 0.57510115\n",
      "Validation score: 0.699278\n",
      "Iteration 46, loss = 0.57486312\n",
      "Validation score: 0.701759\n",
      "Iteration 47, loss = 0.57474088\n",
      "Validation score: 0.699168\n",
      "Iteration 48, loss = 0.57511932\n",
      "Validation score: 0.695500\n",
      "Iteration 49, loss = 0.57457742\n",
      "Validation score: 0.700244\n",
      "Iteration 50, loss = 0.57469054\n",
      "Validation score: 0.700639\n",
      "Iteration 51, loss = 0.57445018\n",
      "Validation score: 0.699783\n",
      "Validation score did not improve more than tol=0.000100 for 10 consecutive epochs. Stopping.\n"
     ]
    },
    {
     "data": {
      "text/plain": [
       "MLPClassifier(early_stopping=True, hidden_layer_sizes=(8, 8, 8), max_iter=400,\n",
       "              random_state=0, verbose=True)"
      ]
     },
     "execution_count": 134,
     "metadata": {},
     "output_type": "execute_result"
    }
   ],
   "source": [
    "rn_model = MLPClassifier(hidden_layer_sizes=(8,8,8), early_stopping=True, max_iter=400, verbose=True, random_state=0)\n",
    "rn_model.fit(X_train, y_train)"
   ]
  },
  {
   "cell_type": "code",
   "execution_count": 135,
   "id": "e43ac6db-cf75-41be-81ab-c9d871954656",
   "metadata": {},
   "outputs": [],
   "source": [
    "rn_preds = rn_model.predict(X_test)"
   ]
  },
  {
   "cell_type": "code",
   "execution_count": 136,
   "id": "3e0273bc-6e51-45a9-884e-af48d3bc225d",
   "metadata": {},
   "outputs": [
    {
     "name": "stdout",
     "output_type": "stream",
     "text": [
      "Acurácia: 70.54773763406857\n"
     ]
    }
   ],
   "source": [
    "print(\"Acurácia:\", accuracy_score(y_test, rn_preds)*100)"
   ]
  },
  {
   "cell_type": "code",
   "execution_count": 137,
   "id": "06bab358-9542-4b97-8ac8-a106ce481641",
   "metadata": {},
   "outputs": [
    {
     "data": {
      "image/png": "[encoded data removed]",
      "text/plain": [
       "<Figure size 432x288 with 1 Axes>"
      ]
     },
     "metadata": {
      "needs_background": "light"
     },
     "output_type": "display_data"
    }
   ],
   "source": [
    "imprimeMatrizDeConfusão(y_test, rn_preds, rn_model)"
   ]
  },
  {
   "cell_type": "markdown",
   "id": "3b33d3e5-f47b-48a6-b57a-36aaae347cd5",
   "metadata": {},
   "source": [
    "#### RN: Busca de melhores hiper parâmetros "
   ]
  },
  {
   "cell_type": "markdown",
   "id": "b08fd1f8-3b0f-495c-aa44-1df95bc9e8c5",
   "metadata": {},
   "source": [
    "### KNN"
   ]
  },
  {
   "cell_type": "code",
   "execution_count": 16,
   "id": "e14468d6-31e1-44b7-8ff2-4ab9f8331c2e",
   "metadata": {},
   "outputs": [],
   "source": [
    "from sklearn.neighbors import KNeighborsClassifier"
   ]
  },
  {
   "cell_type": "code",
   "execution_count": 17,
   "id": "8bf71067-841e-4216-9c3c-139198f27370",
   "metadata": {},
   "outputs": [
    {
     "data": {
      "text/plain": [
       "KNeighborsClassifier(n_jobs=-1, n_neighbors=10)"
      ]
     },
     "execution_count": 17,
     "metadata": {},
     "output_type": "execute_result"
    }
   ],
   "source": [
    "knn_model = KNeighborsClassifier(n_neighbors=10, n_jobs=-1)\n",
    "knn_model.fit(X_train, y_train)"
   ]
  },
  {
   "cell_type": "code",
   "execution_count": 18,
   "id": "fba60fbc-c9b6-4fda-af91-d5da3bdf7141",
   "metadata": {},
   "outputs": [
    {
     "name": "stdout",
     "output_type": "stream",
     "text": [
      "Acurácia: 0.7347155242838697\n"
     ]
    }
   ],
   "source": [
    "knn_preds = knn_model.predict(X_test)\n",
    "\n",
    "print(\"Acurácia:\", accuracy_score(y_test, knn_preds))"
   ]
  },
  {
   "cell_type": "code",
   "execution_count": 19,
   "id": "045659c6-0b12-4a6d-bbce-c7ee1eb936eb",
   "metadata": {},
   "outputs": [
    {
     "data": {
      "image/png": "[encoded data removed]",
      "text/plain": [
       "<Figure size 432x288 with 1 Axes>"
      ]
     },
     "metadata": {
      "needs_background": "light"
     },
     "output_type": "display_data"
    }
   ],
   "source": [
    "imprimeMatrizDeConfusão(y_test, knn_preds, knn_model)"
   ]
  },
  {
   "cell_type": "markdown",
   "id": "8e49b6c8-edee-4275-836e-d927d0d9cd6e",
   "metadata": {
    "tags": []
   },
   "source": [
    "### Teste de RF em CV"
   ]
  },
  {
   "cell_type": "code",
   "execution_count": 22,
   "id": "27698335-c464-41b3-a257-485b8baf6a5a",
   "metadata": {},
   "outputs": [],
   "source": [
    "from sklearn.model_selection import cross_val_score\n",
    "\n",
    "def get_score(n_estimators):\n",
    "    clf = RandomForestClassifier(n_estimators, random_state=0, n_jobs=-1)\n",
    "    scores = cross_val_score(clf, X_train, y_train, cv=3)\n",
    "    return scores.mean()\n"
   ]
  },
  {
   "cell_type": "code",
   "execution_count": 14,
   "id": "5c75c35f-923f-4c25-8c0d-943a21f2e2ce",
   "metadata": {},
   "outputs": [],
   "source": [
    "results = {} \n",
    "n_estimators = 100\n",
    "while n_estimators < 250:\n",
    "    n_estimators += 50\n",
    "    results[n_estimators] = get_score(n_estimators)"
   ]
  },
  {
   "cell_type": "code",
   "execution_count": 15,
   "id": "5f94f22e-83e4-4f59-a9cc-397026319367",
   "metadata": {},
   "outputs": [
    {
     "data": {
      "image/png": "[encoded data removed]",
      "text/plain": [
       "<Figure size 432x288 with 1 Axes>"
      ]
     },
     "metadata": {
      "needs_background": "light"
     },
     "output_type": "display_data"
    }
   ],
   "source": [
    "import matplotlib.pyplot as plt\n",
    "%matplotlib inline\n",
    "\n",
    "plt.plot(list(results.keys()), list(results.values()))\n",
    "plt.show()"
   ]
  },
  {
   "cell_type": "markdown",
   "id": "5e136163-a8b8-474a-b8b3-3cd3fdb463a5",
   "metadata": {
    "tags": []
   },
   "source": [
    "### Leave One Group Out"
   ]
  },
  {
   "cell_type": "code",
   "execution_count": 14,
   "id": "4a5d444a-3ced-4983-a443-f86670fa2c47",
   "metadata": {},
   "outputs": [],
   "source": [
    "from sklearn.model_selection import LeaveOneGroupOut"
   ]
  },
  {
   "cell_type": "code",
   "execution_count": 15,
   "id": "c56f4df3-03d1-488a-b339-8128cb20919d",
   "metadata": {},
   "outputs": [],
   "source": [
    "df = pd.read_csv(caminho_dados_lazaro)"
   ]
  },
  {
   "cell_type": "markdown",
   "id": "7de2ef82-0c91-40af-a3c1-b702c4edda51",
   "metadata": {},
   "source": [
    "#### Leave One Animal Out"
   ]
  },
  {
   "cell_type": "code",
   "execution_count": 16,
   "id": "88cf057c-1350-42fd-9308-b3760c3dbad8",
   "metadata": {},
   "outputs": [],
   "source": [
    "groups = np.array(df.Animal.values)"
   ]
  },
  {
   "cell_type": "code",
   "execution_count": 17,
   "id": "23416950-f139-4b52-a18a-50314ef5d8fc",
   "metadata": {},
   "outputs": [
    {
     "data": {
      "text/plain": [
       "9"
      ]
     },
     "execution_count": 17,
     "metadata": {},
     "output_type": "execute_result"
    }
   ],
   "source": [
    "loao = LeaveOneGroupOut()\n",
    "loao.get_n_splits(X, y, groups)"
   ]
  },
  {
   "cell_type": "code",
   "execution_count": 18,
   "id": "9c20b4f7-bf0a-4cb2-8368-53139fb5f872",
   "metadata": {},
   "outputs": [],
   "source": [
    "df = df[features_aplicaveis]\n",
    "\n",
    "y = df.Comportamento\n",
    "X = df.drop('Comportamento', axis=1)\n",
    "\n",
    "X = np.array(X)\n",
    "y = np.array(y)"
   ]
  },
  {
   "cell_type": "code",
   "execution_count": 21,
   "id": "dae6944a-062c-49e2-badd-5c981c0bcda8",
   "metadata": {},
   "outputs": [],
   "source": [
    "cv = loao.split(X, y, groups)\n",
    "model = RandomForestClassifier(n_estimators=150, n_jobs=-1, random_state=0)\n",
    "scores = np.array"
   ]
  },
  {
   "cell_type": "code",
   "execution_count": 138,
   "id": "a8c23daf-b098-482d-a12f-a065aec9b5a4",
   "metadata": {},
   "outputs": [
    {
     "name": "stdout",
     "output_type": "stream",
     "text": [
      "CPU times: user 19min 26s, sys: 7.76 s, total: 19min 34s\n",
      "Wall time: 5min 12s\n"
     ]
    }
   ],
   "source": [
    "%%time\n",
    "for train_index, test_index in cv:\n",
    "    X_train, X_test, y_train, y_test = X[train_index], X[test_index], y[train_index], y[test_index]\n",
    "    model.fit(X_train, y_train.ravel())\n",
    "    preds = model.predict(X_test)\n",
    "    scores.append(accuracy_score(y_test, preds)*100)"
   ]
  },
  {
   "cell_type": "code",
   "execution_count": 143,
   "id": "5362fa15-94e5-4de3-9692-6bbfe94d9b61",
   "metadata": {},
   "outputs": [
    {
     "data": {
      "text/plain": [
       "49.57656849471909"
      ]
     },
     "execution_count": 143,
     "metadata": {},
     "output_type": "execute_result"
    }
   ],
   "source": [
    "scores.mean()"
   ]
  },
  {
   "cell_type": "markdown",
   "id": "8a834ff5-ce3c-4b27-9deb-9fdc6c1965c3",
   "metadata": {
    "tags": []
   },
   "source": [
    "##### Vizualização"
   ]
  },
  {
   "cell_type": "code",
   "execution_count": 26,
   "id": "592b606d-7ecd-4ab9-b002-69b5ca233201",
   "metadata": {},
   "outputs": [],
   "source": [
    "from sklearn.preprocessing import OrdinalEncoder\n",
    "enc = OrdinalEncoder()\n",
    "y = enc.fit_transform(y.array.reshape(-1, 1))"
   ]
  },
  {
   "cell_type": "code",
   "execution_count": 27,
   "id": "20e57022-c08d-4526-8e59-6f15893d8a60",
   "metadata": {},
   "outputs": [],
   "source": [
    "import numpy as np\n",
    "import matplotlib.pyplot as plt\n",
    "from matplotlib.patches import Patch\n",
    "\n",
    "np.random.seed(0)\n",
    "cmap_data = plt.cm.Paired\n",
    "cmap_cv = plt.cm.coolwarm"
   ]
  },
  {
   "cell_type": "code",
   "execution_count": 108,
   "id": "99f496cb-ec94-4c96-9327-462b616bc976",
   "metadata": {},
   "outputs": [
    {
     "data": {
      "image/png": "[encoded data removed]",
      "text/plain": [
       "<Figure size 432x288 with 1 Axes>"
      ]
     },
     "metadata": {
      "needs_background": "light"
     },
     "output_type": "display_data"
    }
   ],
   "source": [
    "def visualize_groups(classes, groups, name):\n",
    "    # Visualize dataset groups\n",
    "    fig, ax = plt.subplots()\n",
    "    ax.scatter(\n",
    "        range(len(groups)),\n",
    "        [0.5] * len(groups),\n",
    "        c=groups,\n",
    "        marker=\"_\",\n",
    "        lw=50,\n",
    "        cmap=cmap_data,\n",
    "    )\n",
    "    ax.scatter(\n",
    "        range(len(groups)),\n",
    "        [3.5] * len(groups),\n",
    "        c=classes,\n",
    "        marker=\"_\",\n",
    "        lw=50,\n",
    "        cmap=cmap_data,\n",
    "    )\n",
    "    ax.set(\n",
    "        ylim=[-1, 5],\n",
    "        yticks=[0.5, 3.5],\n",
    "        yticklabels=[\"Data\\ngroup\", \"Data\\nclass\"],\n",
    "        xlabel=\"Sample index\",\n",
    "    )\n",
    "\n",
    "\n",
    "visualize_groups(y, groups, \"no groups\")"
   ]
  },
  {
   "cell_type": "markdown",
   "id": "f9a0d9f8-9e3b-43b2-bf93-fc4f5f57936f",
   "metadata": {
    "tags": []
   },
   "source": [
    "### Lidando com dados desbalanceados"
   ]
  },
  {
   "cell_type": "code",
   "execution_count": 62,
   "id": "67608a6e-1a56-4df4-bc51-4a6c667b6e14",
   "metadata": {},
   "outputs": [],
   "source": [
    "from imblearn.over_sampling import SMOTE\n",
    "from imblearn.under_sampling import NearMiss\n",
    "import seaborn as sns"
   ]
  },
  {
   "cell_type": "code",
   "execution_count": 18,
   "id": "9f80533c-302f-44b1-ba2e-5d89e0efcc2d",
   "metadata": {},
   "outputs": [
    {
     "data": {
      "text/plain": [
       "Pastejando    332512\n",
       "Ruminando     151381\n",
       "Ocio          123257\n",
       "Name: Comportamento, dtype: int64"
      ]
     },
     "execution_count": 18,
     "metadata": {},
     "output_type": "execute_result"
    }
   ],
   "source": [
    "df.Comportamento.value_counts()"
   ]
  },
  {
   "cell_type": "code",
   "execution_count": 20,
   "id": "3435628d-a3c3-4e41-adbd-38c2ddeb0949",
   "metadata": {},
   "outputs": [
    {
     "data": {
      "image/png": "[encoded data removed]",
      "text/plain": [
       "<Figure size 432x288 with 1 Axes>"
      ]
     },
     "metadata": {
      "needs_background": "light"
     },
     "output_type": "display_data"
    }
   ],
   "source": [
    "ax = sns.countplot(x=\"Comportamento\", data=df)"
   ]
  },
  {
   "cell_type": "code",
   "execution_count": 22,
   "id": "74bcf005-5b2d-4aff-9905-aca02daad508",
   "metadata": {
    "tags": []
   },
   "outputs": [],
   "source": [
    "from sklearn.ensemble import RandomForestClassifier\n",
    "model = RandomForestClassifier(n_estimators=150,\n",
    "                              min_samples_split=30,\n",
    "                              min_samples_leaf=1,\n",
    "                              max_features='sqrt',\n",
    "                              max_depth=100,\n",
    "                              criterion='entropy',\n",
    "                              bootstrap=False,\n",
    "                              n_jobs=-1,\n",
    "                              random_state=0)\n",
    "model.fit(X_train, y_train)\n",
    "preds = model.predict(X_test)"
   ]
  },
  {
   "cell_type": "code",
   "execution_count": 23,
   "id": "613d6753-9688-49d9-9b74-6cae308813ad",
   "metadata": {},
   "outputs": [
    {
     "data": {
      "text/plain": [
       "74.09413128837589"
      ]
     },
     "execution_count": 23,
     "metadata": {},
     "output_type": "execute_result"
    }
   ],
   "source": [
    "accuracy_score(y_test, preds)*100"
   ]
  },
  {
   "cell_type": "code",
   "execution_count": 24,
   "id": "dbc8fe06-c976-481b-9ad3-8113a9e24c75",
   "metadata": {},
   "outputs": [
    {
     "name": "stdout",
     "output_type": "stream",
     "text": [
      "              precision    recall  f1-score   support\n",
      "\n",
      "        Ocio       0.65      0.43      0.52     30838\n",
      "  Pastejando       0.77      0.89      0.83     83380\n",
      "   Ruminando       0.70      0.67      0.68     37570\n",
      "\n",
      "    accuracy                           0.74    151788\n",
      "   macro avg       0.71      0.66      0.68    151788\n",
      "weighted avg       0.73      0.74      0.73    151788\n",
      "\n"
     ]
    }
   ],
   "source": [
    "print (classification_report(y_test, preds))"
   ]
  },
  {
   "cell_type": "code",
   "execution_count": 26,
   "id": "f1633efe-cdae-4979-9a29-5456a7f50039",
   "metadata": {},
   "outputs": [
    {
     "data": {
      "image/png": "[encoded data removed]",
      "text/plain": [
       "<Figure size 432x288 with 1 Axes>"
      ]
     },
     "metadata": {
      "needs_background": "light"
     },
     "output_type": "display_data"
    }
   ],
   "source": [
    "imprimeMatrizDeConfusão(y_test, preds, model)"
   ]
  },
  {
   "cell_type": "markdown",
   "id": "2b8f554b-4011-4169-a3e9-022d510190d0",
   "metadata": {
    "tags": []
   },
   "source": [
    "#### Aplicando NearMiss"
   ]
  },
  {
   "cell_type": "code",
   "execution_count": 27,
   "id": "fbd8de82-e025-4ad0-a7c3-3c087e0b4398",
   "metadata": {},
   "outputs": [],
   "source": [
    "nr = NearMiss()"
   ]
  },
  {
   "cell_type": "code",
   "execution_count": 29,
   "id": "fea2f2bf-c07b-4f58-93e7-e261f7ea97e0",
   "metadata": {},
   "outputs": [],
   "source": [
    "X, y = nr.fit_resample(X, y)"
   ]
  },
  {
   "cell_type": "code",
   "execution_count": 30,
   "id": "9b309339-0be2-4723-bc9a-0be0a1c4f43f",
   "metadata": {},
   "outputs": [
    {
     "data": {
      "image/png": "[encoded data removed]",
      "text/plain": [
       "<Figure size 432x288 with 1 Axes>"
      ]
     },
     "metadata": {
      "needs_background": "light"
     },
     "output_type": "display_data"
    }
   ],
   "source": [
    "ax = sns.countplot(x=y)"
   ]
  },
  {
   "cell_type": "code",
   "execution_count": 42,
   "id": "82e71ef2-46d2-48b7-9495-2a6b41bd2492",
   "metadata": {},
   "outputs": [],
   "source": [
    "X_train, X_test, y_train, y_test = train_test_split(X, y, random_state=0)"
   ]
  },
  {
   "cell_type": "code",
   "execution_count": 38,
   "id": "c1fab09f-fadc-4733-a5a6-acd2a3c0e62f",
   "metadata": {},
   "outputs": [],
   "source": [
    "model.fit(X_train, y_train)\n",
    "preds = model.predict(X_test)"
   ]
  },
  {
   "cell_type": "code",
   "execution_count": 39,
   "id": "066a76db-e028-4296-a452-b36c94b69c85",
   "metadata": {},
   "outputs": [
    {
     "data": {
      "text/plain": [
       "68.94086085479701"
      ]
     },
     "execution_count": 39,
     "metadata": {},
     "output_type": "execute_result"
    }
   ],
   "source": [
    "accuracy_score(y_test, preds)*100"
   ]
  },
  {
   "cell_type": "code",
   "execution_count": 40,
   "id": "aa94987c-c6f7-4042-a9de-537300c43393",
   "metadata": {},
   "outputs": [
    {
     "name": "stdout",
     "output_type": "stream",
     "text": [
      "              precision    recall  f1-score   support\n",
      "\n",
      "        Ocio       0.66      0.61      0.64     30976\n",
      "  Pastejando       0.70      0.73      0.72     30906\n",
      "   Ruminando       0.70      0.73      0.72     30561\n",
      "\n",
      "    accuracy                           0.69     92443\n",
      "   macro avg       0.69      0.69      0.69     92443\n",
      "weighted avg       0.69      0.69      0.69     92443\n",
      "\n"
     ]
    }
   ],
   "source": [
    "print (classification_report(y_test, preds))"
   ]
  },
  {
   "cell_type": "code",
   "execution_count": 41,
   "id": "4f746497-b281-4a93-8b0b-f6a6caba0554",
   "metadata": {},
   "outputs": [
    {
     "data": {
      "image/png": "[encoded data removed]",
      "text/plain": [
       "<Figure size 432x288 with 1 Axes>"
      ]
     },
     "metadata": {
      "needs_background": "light"
     },
     "output_type": "display_data"
    }
   ],
   "source": [
    "imprimeMatrizDeConfusão(y_test, preds, model)"
   ]
  },
  {
   "cell_type": "markdown",
   "id": "c08124d0-3c4a-4878-acf7-9bb8a84583d1",
   "metadata": {
    "tags": []
   },
   "source": [
    "#### Aplicando o SMOTE"
   ]
  },
  {
   "cell_type": "code",
   "execution_count": 78,
   "id": "87d1c4a7-c2f2-449a-8106-0fb21810524e",
   "metadata": {},
   "outputs": [],
   "source": [
    "X = df.drop(\"Comportamento\", axis = 1)\n",
    "y = df.Comportamento"
   ]
  },
  {
   "cell_type": "code",
   "execution_count": 79,
   "id": "7ac306ce-ed28-43e7-b224-5ec28de1cab8",
   "metadata": {},
   "outputs": [
    {
     "data": {
      "text/plain": [
       "Pastejando    332512\n",
       "Ruminando     151381\n",
       "Ocio          123257\n",
       "Name: Comportamento, dtype: int64"
      ]
     },
     "execution_count": 79,
     "metadata": {},
     "output_type": "execute_result"
    }
   ],
   "source": [
    "# Visualizando a quantidade de dados por classe\n",
    "y.value_counts()"
   ]
  },
  {
   "cell_type": "code",
   "execution_count": 80,
   "id": "22a0ae74-a151-4048-9618-cf9639e3efa9",
   "metadata": {},
   "outputs": [],
   "source": [
    "smt = SMOTE()"
   ]
  },
  {
   "cell_type": "code",
   "execution_count": 81,
   "id": "b07830c1-4092-4fb4-beaf-336b7a148de0",
   "metadata": {},
   "outputs": [],
   "source": [
    "X, y = smt.fit_resample(X, y)"
   ]
  },
  {
   "cell_type": "code",
   "execution_count": 60,
   "id": "98d243c4-24d3-4add-be1c-8e002fab22d5",
   "metadata": {},
   "outputs": [
    {
     "data": {
      "text/plain": [
       "Ocio          332512\n",
       "Ruminando     332512\n",
       "Pastejando    332512\n",
       "Name: Comportamento, dtype: int64"
      ]
     },
     "execution_count": 60,
     "metadata": {},
     "output_type": "execute_result"
    }
   ],
   "source": [
    "# Visualizando a quantidade de dados por classe\n",
    "y.value_counts()"
   ]
  },
  {
   "cell_type": "code",
   "execution_count": 63,
   "id": "85238e80-f92d-464f-98ed-380de21ce135",
   "metadata": {},
   "outputs": [
    {
     "data": {
      "image/png": "[encoded data removed]",
      "text/plain": [
       "<Figure size 432x288 with 1 Axes>"
      ]
     },
     "metadata": {
      "needs_background": "light"
     },
     "output_type": "display_data"
    }
   ],
   "source": [
    "ax = sns.countplot(x=y)"
   ]
  },
  {
   "cell_type": "code",
   "execution_count": 82,
   "id": "4d022bfb-4daa-4dda-9265-a7c94d336bb8",
   "metadata": {},
   "outputs": [],
   "source": [
    "X_train, X_test, y_train, y_test = train_test_split(X, y, random_state = 0)"
   ]
  },
  {
   "cell_type": "code",
   "execution_count": 65,
   "id": "0d649b2a-eb9f-491d-bc06-2957b4d80157",
   "metadata": {
    "tags": []
   },
   "outputs": [],
   "source": [
    "from sklearn.ensemble import RandomForestClassifier\n",
    "model = RandomForestClassifier(n_estimators=150,\n",
    "                              min_samples_split=30,\n",
    "                              min_samples_leaf=1,\n",
    "                              max_features='sqrt',\n",
    "                              max_depth=100,\n",
    "                              criterion='entropy',\n",
    "                              bootstrap=False,\n",
    "                              n_jobs=-1,\n",
    "                              random_state=0)\n",
    "model.fit(X_train, y_train)\n",
    "preds = model.predict(X_test)"
   ]
  },
  {
   "cell_type": "code",
   "execution_count": 66,
   "id": "9ca19d46-1a48-4bd3-aeb0-bd666801f1bf",
   "metadata": {},
   "outputs": [
    {
     "data": {
      "text/plain": [
       "76.60595707824078"
      ]
     },
     "execution_count": 66,
     "metadata": {},
     "output_type": "execute_result"
    }
   ],
   "source": [
    "accuracy_score(y_test, preds)*100"
   ]
  },
  {
   "cell_type": "code",
   "execution_count": 67,
   "id": "2936a7dc-98aa-4485-ad6c-495528b17d2e",
   "metadata": {},
   "outputs": [
    {
     "name": "stdout",
     "output_type": "stream",
     "text": [
      "              precision    recall  f1-score   support\n",
      "\n",
      "        Ocio       0.76      0.72      0.74     83256\n",
      "  Pastejando       0.75      0.80      0.77     83127\n",
      "   Ruminando       0.79      0.78      0.78     83001\n",
      "\n",
      "    accuracy                           0.77    249384\n",
      "   macro avg       0.77      0.77      0.77    249384\n",
      "weighted avg       0.77      0.77      0.77    249384\n",
      "\n"
     ]
    }
   ],
   "source": [
    "print (classification_report(y_test, preds))"
   ]
  },
  {
   "cell_type": "code",
   "execution_count": 69,
   "id": "24ca70a5-73b3-49cd-9055-b0d7f07fb603",
   "metadata": {},
   "outputs": [
    {
     "data": {
      "image/png": "[encoded data removed]",
      "text/plain": [
       "<Figure size 432x288 with 1 Axes>"
      ]
     },
     "metadata": {
      "needs_background": "light"
     },
     "output_type": "display_data"
    }
   ],
   "source": [
    "imprimeMatrizDeConfusão(y_test, preds, model)"
   ]
  },
  {
   "cell_type": "code",
   "execution_count": null,
   "id": "9d8982a5-a816-4195-adcf-c5f06686e5ee",
   "metadata": {},
   "outputs": [],
   "source": []
  }
 ],
 "metadata": {
  "kernelspec": {
   "display_name": "Python 3 (ipykernel)",
   "language": "python",
   "name": "python3"
  },
  "language_info": {
   "codemirror_mode": {
    "name": "ipython",
    "version": 3
   },
   "file_extension": ".py",
   "mimetype": "text/x-python",
   "name": "python",
   "nbconvert_exporter": "python",
   "pygments_lexer": "ipython3",
   "version": "3.9.7"
  }
 },
 "nbformat": 4,
 "nbformat_minor": 5
}
