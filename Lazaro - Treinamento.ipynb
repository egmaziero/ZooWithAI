{
 "cells": [
  {
   "cell_type": "code",
   "execution_count": 1,
   "id": "e5debc3e-7fac-40e9-8348-df43a0f71a66",
   "metadata": {},
   "outputs": [],
   "source": [
    "import pandas as pd\n",
    "import numpy as np\n",
    "from sklearn.model_selection import train_test_split"
   ]
  },
  {
   "cell_type": "markdown",
   "id": "8bbdaa22-f0fa-4ea8-ad42-01e1dab95e65",
   "metadata": {
    "tags": []
   },
   "source": [
    "## Passo 1: Leitura dos dados\n",
    "Leitura dos bancos de dados em DataFrame Pandas. "
   ]
  },
  {
   "cell_type": "code",
   "execution_count": 2,
   "id": "266bf334-70a8-4f5c-82b9-f1ac8ffb8853",
   "metadata": {},
   "outputs": [],
   "source": [
    "caminho_dados_lazaro = 'Datasets/Lazaro/dados_pre_processados_lazaro.csv'"
   ]
  },
  {
   "cell_type": "code",
   "execution_count": 3,
   "id": "be544d64-f642-4ded-9dbb-dad41fd3e819",
   "metadata": {},
   "outputs": [],
   "source": [
    "df = pd.read_csv(caminho_dados_lazaro)"
   ]
  },
  {
   "cell_type": "code",
   "execution_count": 4,
   "id": "f6683cd6-f6a5-4fd8-afab-0f3536910880",
   "metadata": {},
   "outputs": [
    {
     "data": {
      "text/html": [
       "<div>\n",
       "<style scoped>\n",
       "    .dataframe tbody tr th:only-of-type {\n",
       "        vertical-align: middle;\n",
       "    }\n",
       "\n",
       "    .dataframe tbody tr th {\n",
       "        vertical-align: top;\n",
       "    }\n",
       "\n",
       "    .dataframe thead th {\n",
       "        text-align: right;\n",
       "    }\n",
       "</style>\n",
       "<table border=\"1\" class=\"dataframe\">\n",
       "  <thead>\n",
       "    <tr style=\"text-align: right;\">\n",
       "      <th></th>\n",
       "      <th>Piquete</th>\n",
       "      <th>Altura real</th>\n",
       "      <th>Altura esperada</th>\n",
       "      <th>Animal</th>\n",
       "      <th>SensorID</th>\n",
       "      <th>Sensor Name</th>\n",
       "      <th>Date</th>\n",
       "      <th>X</th>\n",
       "      <th>Y</th>\n",
       "      <th>Z</th>\n",
       "      <th>Comportamento</th>\n",
       "      <th>Season_fall</th>\n",
       "      <th>Season_spring</th>\n",
       "      <th>Season_summer</th>\n",
       "    </tr>\n",
       "  </thead>\n",
       "  <tbody>\n",
       "    <tr>\n",
       "      <th>0</th>\n",
       "      <td>11</td>\n",
       "      <td>25.2</td>\n",
       "      <td>25.0</td>\n",
       "      <td>85</td>\n",
       "      <td>434138</td>\n",
       "      <td>Accelerometer - 434138</td>\n",
       "      <td>2019-11-09 09:47:47</td>\n",
       "      <td>-0.132</td>\n",
       "      <td>-0.583</td>\n",
       "      <td>0.712</td>\n",
       "      <td>Ocio</td>\n",
       "      <td>0.0</td>\n",
       "      <td>1.0</td>\n",
       "      <td>0.0</td>\n",
       "    </tr>\n",
       "    <tr>\n",
       "      <th>1</th>\n",
       "      <td>11</td>\n",
       "      <td>25.2</td>\n",
       "      <td>25.0</td>\n",
       "      <td>85</td>\n",
       "      <td>434138</td>\n",
       "      <td>Accelerometer - 434138</td>\n",
       "      <td>2019-11-09 09:47:48</td>\n",
       "      <td>0.021</td>\n",
       "      <td>-0.792</td>\n",
       "      <td>0.574</td>\n",
       "      <td>Ocio</td>\n",
       "      <td>0.0</td>\n",
       "      <td>1.0</td>\n",
       "      <td>0.0</td>\n",
       "    </tr>\n",
       "    <tr>\n",
       "      <th>2</th>\n",
       "      <td>11</td>\n",
       "      <td>25.2</td>\n",
       "      <td>25.0</td>\n",
       "      <td>85</td>\n",
       "      <td>434138</td>\n",
       "      <td>Accelerometer - 434138</td>\n",
       "      <td>2019-11-09 09:47:50</td>\n",
       "      <td>0.021</td>\n",
       "      <td>-0.792</td>\n",
       "      <td>0.574</td>\n",
       "      <td>Ocio</td>\n",
       "      <td>0.0</td>\n",
       "      <td>1.0</td>\n",
       "      <td>0.0</td>\n",
       "    </tr>\n",
       "    <tr>\n",
       "      <th>3</th>\n",
       "      <td>11</td>\n",
       "      <td>25.2</td>\n",
       "      <td>25.0</td>\n",
       "      <td>85</td>\n",
       "      <td>434138</td>\n",
       "      <td>Accelerometer - 434138</td>\n",
       "      <td>2019-11-09 09:47:51</td>\n",
       "      <td>0.021</td>\n",
       "      <td>-0.792</td>\n",
       "      <td>0.574</td>\n",
       "      <td>Ocio</td>\n",
       "      <td>0.0</td>\n",
       "      <td>1.0</td>\n",
       "      <td>0.0</td>\n",
       "    </tr>\n",
       "    <tr>\n",
       "      <th>4</th>\n",
       "      <td>11</td>\n",
       "      <td>25.2</td>\n",
       "      <td>25.0</td>\n",
       "      <td>85</td>\n",
       "      <td>434138</td>\n",
       "      <td>Accelerometer - 434138</td>\n",
       "      <td>2019-11-09 09:47:52</td>\n",
       "      <td>-0.061</td>\n",
       "      <td>-0.870</td>\n",
       "      <td>0.478</td>\n",
       "      <td>Ocio</td>\n",
       "      <td>0.0</td>\n",
       "      <td>1.0</td>\n",
       "      <td>0.0</td>\n",
       "    </tr>\n",
       "  </tbody>\n",
       "</table>\n",
       "</div>"
      ],
      "text/plain": [
       "   Piquete  Altura real  Altura esperada  Animal  SensorID  \\\n",
       "0       11         25.2             25.0      85    434138   \n",
       "1       11         25.2             25.0      85    434138   \n",
       "2       11         25.2             25.0      85    434138   \n",
       "3       11         25.2             25.0      85    434138   \n",
       "4       11         25.2             25.0      85    434138   \n",
       "\n",
       "              Sensor Name                 Date      X      Y      Z  \\\n",
       "0  Accelerometer - 434138  2019-11-09 09:47:47 -0.132 -0.583  0.712   \n",
       "1  Accelerometer - 434138  2019-11-09 09:47:48  0.021 -0.792  0.574   \n",
       "2  Accelerometer - 434138  2019-11-09 09:47:50  0.021 -0.792  0.574   \n",
       "3  Accelerometer - 434138  2019-11-09 09:47:51  0.021 -0.792  0.574   \n",
       "4  Accelerometer - 434138  2019-11-09 09:47:52 -0.061 -0.870  0.478   \n",
       "\n",
       "  Comportamento  Season_fall  Season_spring  Season_summer  \n",
       "0          Ocio          0.0            1.0            0.0  \n",
       "1          Ocio          0.0            1.0            0.0  \n",
       "2          Ocio          0.0            1.0            0.0  \n",
       "3          Ocio          0.0            1.0            0.0  \n",
       "4          Ocio          0.0            1.0            0.0  "
      ]
     },
     "execution_count": 4,
     "metadata": {},
     "output_type": "execute_result"
    }
   ],
   "source": [
    "df.head()"
   ]
  },
  {
   "cell_type": "markdown",
   "id": "35cdcc55-22f7-4ee2-a77b-b111b5b58958",
   "metadata": {
    "tags": []
   },
   "source": [
    "## Passo 2: Treinamento"
   ]
  },
  {
   "cell_type": "code",
   "execution_count": 5,
   "id": "506ac15e-da6c-47b2-adc4-e09d8890e72b",
   "metadata": {},
   "outputs": [],
   "source": [
    "# Para a busca do melhores hiperparêmetros\n",
    "from sklearn.experimental import enable_halving_search_cv # noqa\n",
    "from sklearn.model_selection import HalvingGridSearchCV\n",
    "from sklearn.model_selection import RandomizedSearchCV\n",
    "from sklearn.metrics import accuracy_score"
   ]
  },
  {
   "cell_type": "markdown",
   "id": "df555c14-134d-4b1e-9e83-9a463cdfbdc9",
   "metadata": {
    "tags": []
   },
   "source": [
    "### Criação de novas features"
   ]
  },
  {
   "cell_type": "markdown",
   "id": "1c77b525-29db-4d24-8670-81e395d1daf0",
   "metadata": {
    "tags": []
   },
   "source": [
    "#### Magnitude"
   ]
  },
  {
   "cell_type": "code",
   "execution_count": 6,
   "id": "ef3c9520-4a39-4966-a4d6-23eae58a0ba9",
   "metadata": {},
   "outputs": [],
   "source": [
    "a = df[['X', 'Y', 'Z']].pow(2)"
   ]
  },
  {
   "cell_type": "code",
   "execution_count": 7,
   "id": "941cc787-0f4b-4fe6-978d-59016edb8d31",
   "metadata": {},
   "outputs": [],
   "source": [
    "b = a.sum(axis=1)"
   ]
  },
  {
   "cell_type": "code",
   "execution_count": 8,
   "id": "47a96cf5-8f34-4368-9793-3088d6d60153",
   "metadata": {},
   "outputs": [],
   "source": [
    "magn = b.pow(1/2)\n",
    "magn = magn.rename('magn')"
   ]
  },
  {
   "cell_type": "code",
   "execution_count": 9,
   "id": "544b4a64-853c-4f42-a6bd-80eadbb63bd8",
   "metadata": {},
   "outputs": [],
   "source": [
    "df = pd.concat([df, magn], axis=1)"
   ]
  },
  {
   "cell_type": "markdown",
   "id": "168123d2-2b1e-4d95-8481-caf298899057",
   "metadata": {},
   "source": [
    "#### Signal Magnitude Area"
   ]
  },
  {
   "cell_type": "code",
   "execution_count": 10,
   "id": "e47b1cc6-32c7-40fa-8382-e67c6b96ec82",
   "metadata": {},
   "outputs": [],
   "source": [
    "a = df[['X', 'Y', 'Z']].abs()"
   ]
  },
  {
   "cell_type": "code",
   "execution_count": 11,
   "id": "1cf8a490-2049-4a00-a022-363879f0a206",
   "metadata": {},
   "outputs": [],
   "source": [
    "sma = a.sum(axis=1)\n",
    "sma = sma.rename('sma')"
   ]
  },
  {
   "cell_type": "code",
   "execution_count": 12,
   "id": "957d9342-5b14-452b-b841-c1c603e852c3",
   "metadata": {},
   "outputs": [],
   "source": [
    "df = pd.concat([df, sma], axis=1)"
   ]
  },
  {
   "cell_type": "markdown",
   "id": "5b6f5567-9871-44aa-b0ff-39af9e3482b3",
   "metadata": {},
   "source": [
    "#### Entropy - Não melhorou"
   ]
  },
  {
   "cell_type": "code",
   "execution_count": 377,
   "id": "8b7079c1-3159-4701-af2e-64b95a3b9c18",
   "metadata": {},
   "outputs": [],
   "source": [
    "a = df[['X', 'Y', 'Z']]"
   ]
  },
  {
   "cell_type": "code",
   "execution_count": 378,
   "id": "654f2a0d-b3cd-4567-8458-d3715f6db64c",
   "metadata": {},
   "outputs": [],
   "source": [
    "a = a.sum(axis=1)"
   ]
  },
  {
   "cell_type": "code",
   "execution_count": 379,
   "id": "d939bffa-794d-4934-a331-cbdf2427e308",
   "metadata": {},
   "outputs": [],
   "source": [
    "a = a + 1"
   ]
  },
  {
   "cell_type": "code",
   "execution_count": 380,
   "id": "7a696ace-2579-4380-939f-f54c2f1a3d27",
   "metadata": {},
   "outputs": [],
   "source": [
    "a = a.pow(2)"
   ]
  },
  {
   "cell_type": "code",
   "execution_count": 381,
   "id": "343a6a89-bde7-44f4-aff8-0f4f6bc255a7",
   "metadata": {},
   "outputs": [],
   "source": [
    "a = a.replace(to_replace=0, value=0.0001)"
   ]
  },
  {
   "cell_type": "code",
   "execution_count": 382,
   "id": "1dc92a7e-61fb-452d-8338-ed3d8e898199",
   "metadata": {},
   "outputs": [],
   "source": [
    "b = np.log(a)"
   ]
  },
  {
   "cell_type": "code",
   "execution_count": 383,
   "id": "e2444f30-9ae2-4c53-b062-615425d27093",
   "metadata": {},
   "outputs": [],
   "source": [
    "ent = a*b\n",
    "ent = ent.rename('ent')"
   ]
  },
  {
   "cell_type": "code",
   "execution_count": 384,
   "id": "00341cbc-15dc-4a66-b741-c49773fcdaaf",
   "metadata": {},
   "outputs": [],
   "source": [
    "df = pd.concat([df, ent], axis=1)"
   ]
  },
  {
   "cell_type": "markdown",
   "id": "0200394c-7645-452e-9294-12daa102d649",
   "metadata": {
    "tags": []
   },
   "source": [
    "#### Energy"
   ]
  },
  {
   "cell_type": "code",
   "execution_count": 408,
   "id": "6ab6ca62-0d75-4e58-ad00-ea5b03cfb5db",
   "metadata": {},
   "outputs": [],
   "source": [
    "a = df[['X', 'Y', 'Z']]"
   ]
  },
  {
   "cell_type": "code",
   "execution_count": 409,
   "id": "5e8e8b6e-0215-4894-80d9-f480a19c8e92",
   "metadata": {},
   "outputs": [],
   "source": [
    "a = a.pow(2)"
   ]
  },
  {
   "cell_type": "code",
   "execution_count": 410,
   "id": "a2f4ab67-15ed-41b0-9de4-bf79fa7b5834",
   "metadata": {},
   "outputs": [],
   "source": [
    "a = a.sum(axis=1)"
   ]
  },
  {
   "cell_type": "code",
   "execution_count": 411,
   "id": "d0bbb4c0-6bac-4558-ace5-a8614bc6af88",
   "metadata": {},
   "outputs": [],
   "source": [
    "erg = a.pow(2)\n",
    "erg = erg.rename('erg')"
   ]
  },
  {
   "cell_type": "code",
   "execution_count": 412,
   "id": "b4ec72ba-df9f-4ce2-8c2f-ec7b811581c7",
   "metadata": {},
   "outputs": [],
   "source": [
    "df = pd.concat([df, erg], axis=1)"
   ]
  },
  {
   "cell_type": "code",
   "execution_count": null,
   "id": "22407b0f-398c-4d07-9fce-34f900ebc11a",
   "metadata": {},
   "outputs": [],
   "source": []
  },
  {
   "cell_type": "markdown",
   "id": "cc792402-c4a8-4e76-a021-0361352d498d",
   "metadata": {
    "tags": []
   },
   "source": [
    "### Seleçãwheree colunas aplicáveis"
   ]
  },
  {
   "cell_type": "code",
   "execution_count": 13,
   "id": "52e47438-90af-4920-a577-188200a56338",
   "metadata": {
    "tags": []
   },
   "outputs": [
    {
     "data": {
      "text/plain": [
       "Index(['Piquete', 'Altura real', 'Altura esperada', 'Animal', 'SensorID',\n",
       "       'Sensor Name', 'Date', 'X', 'Y', 'Z', 'Comportamento', 'Season_fall',\n",
       "       'Season_spring', 'Season_summer', 'magn', 'sma'],\n",
       "      dtype='object')"
      ]
     },
     "execution_count": 13,
     "metadata": {},
     "output_type": "execute_result"
    }
   ],
   "source": [
    "df.columns"
   ]
  },
  {
   "cell_type": "code",
   "execution_count": 14,
   "id": "0a9e6168-130b-4219-8c3c-290f984fc8fb",
   "metadata": {},
   "outputs": [],
   "source": [
    "# Lista com os atributos aplicáveis\n",
    "features_aplicaveis = ['X', 'Y' ,'Z', 'Comportamento', 'Season_fall', 'Season_spring', 'Season_summer', 'magn', 'sma']\n",
    "\n",
    "# Seleciona os abributos correspondentes da lista features_aplicaveis\n",
    "df = df[features_aplicaveis]"
   ]
  },
  {
   "cell_type": "markdown",
   "id": "04f27469-79d0-454a-9c8e-06662cfeef85",
   "metadata": {
    "tags": []
   },
   "source": [
    "#### Divisão entre variáveis preditoras(X) e variáveis de resposta(y)"
   ]
  },
  {
   "cell_type": "code",
   "execution_count": 15,
   "id": "cded3296-542d-477b-83fd-54a5d9ac15bf",
   "metadata": {
    "tags": []
   },
   "outputs": [],
   "source": [
    "y = df.Comportamento\n",
    "X = df.drop('Comportamento', axis=1)\n",
    "\n",
    "# Conjunto de dados PRO: Pastejando x Ruminando x Ócio\n",
    "# Test size = 0.25\n",
    "X_train, X_test, y_train, y_test = train_test_split(X, y, random_state = 0)"
   ]
  },
  {
   "cell_type": "code",
   "execution_count": 176,
   "id": "66603e92-b517-4524-8c8d-4e7ddc0022e8",
   "metadata": {},
   "outputs": [],
   "source": [
    "# Conjunto de dados PNP: Pastejando x Não Pastejando\n",
    "y_pnp = y\n",
    "y_pnp = y_pnp.replace(to_replace=['Ocio', 'Ruminando'], value='Não Pastejando')\n",
    "X_train, X_test, y_train, y_test = train_test_split(X, y_pnp, random_state = 0)"
   ]
  },
  {
   "cell_type": "markdown",
   "id": "4db924e5-5828-4361-943c-0c9d59dd800b",
   "metadata": {
    "tags": []
   },
   "source": [
    "### Função para imprimir e salvar matriz de confusão"
   ]
  },
  {
   "cell_type": "code",
   "execution_count": 27,
   "id": "8e6be2bb-7839-46a4-aab2-70fd76d02340",
   "metadata": {},
   "outputs": [],
   "source": [
    "# Função para imprimir e salvar matriz de confusão\n",
    "def imprimeMatrizDeConfusão(y_test, preds, model, salvarFigura = False):\n",
    "    from sklearn.metrics import confusion_matrix\n",
    "    from sklearn.metrics import ConfusionMatrixDisplay\n",
    "    import matplotlib.pyplot as plt\n",
    "\n",
    "    cm = confusion_matrix(y_test, preds, normalize='true')\n",
    "    disp = ConfusionMatrixDisplay(confusion_matrix=cm, display_labels=model.classes_)\n",
    "    disp.plot(values_format= '.0%', xticks_rotation=60, colorbar=False)\n",
    "    disp.ax_.set_title(\"Matriz de confusão normalizada sobre as condições verdadeiras\")\n",
    "    if(salvarFigura):\n",
    "        plt.savefig(input('Nome da figura a ser salva:' ) + '.png')\n",
    "    plt.show()"
   ]
  },
  {
   "cell_type": "markdown",
   "id": "3ed279a5-56c0-4837-be15-5a42a7194484",
   "metadata": {},
   "source": [
    "### LGBMClassifier"
   ]
  },
  {
   "cell_type": "code",
   "execution_count": 17,
   "id": "b7720fc1-efb2-4333-a44b-72f34d696af2",
   "metadata": {},
   "outputs": [],
   "source": [
    "from lightgbm import LGBMClassifier"
   ]
  },
  {
   "cell_type": "code",
   "execution_count": 18,
   "id": "d65f0045-09a1-4f3a-b8e0-f48ce2811dd2",
   "metadata": {},
   "outputs": [
    {
     "data": {
      "text/plain": [
       "LGBMClassifier(random_state=0)"
      ]
     },
     "execution_count": 18,
     "metadata": {},
     "output_type": "execute_result"
    }
   ],
   "source": [
    "lgmc_model = LGBMClassifier(random_state=0)\n",
    "lgmc_model.fit(X_train, y_train)"
   ]
  },
  {
   "cell_type": "code",
   "execution_count": 24,
   "id": "28b7d707-af85-44eb-bd52-64678107c316",
   "metadata": {},
   "outputs": [],
   "source": [
    "lgmc_preds = lgmc_model.predict(X_test)"
   ]
  },
  {
   "cell_type": "code",
   "execution_count": 25,
   "id": "1da84fd2-6c49-4adf-80ce-865c90736cf2",
   "metadata": {},
   "outputs": [
    {
     "data": {
      "text/plain": [
       "69.80755288161895"
      ]
     },
     "execution_count": 25,
     "metadata": {},
     "output_type": "execute_result"
    }
   ],
   "source": [
    "accuracy_score(y_test, lgmc_preds)*100"
   ]
  },
  {
   "cell_type": "code",
   "execution_count": 28,
   "id": "0e88af36-7f21-447e-a75d-98998db0d369",
   "metadata": {},
   "outputs": [
    {
     "data": {
      "image/png": "[encoded data removed]",
      "text/plain": [
       "<Figure size 432x288 with 1 Axes>"
      ]
     },
     "metadata": {
      "needs_background": "light"
     },
     "output_type": "display_data"
    }
   ],
   "source": [
    "imprimeMatrizDeConfusão(y_test, lgmc_preds, lgmc_model)"
   ]
  },
  {
   "cell_type": "code",
   "execution_count": null,
   "id": "74e495be-56b0-4a11-9e82-b0b9f4e48257",
   "metadata": {},
   "outputs": [],
   "source": [
    "def treinar_modelo(params):\n",
    "    learning_rate = params[0]\n",
    "    num_leaves = params[1]\n",
    "    min_child_samples = params[2]\n",
    "    subsample = params[3]\n",
    "    colsample_bytree = params[4]\n",
    "    \n",
    "    print(params, '\\n')\n",
    "    \n",
    "    mdl = LGBMClassifier(learning_rate=learning_rate, num_leaves=num_leaves, min_child_samples=min_child_samples,\n",
    "                        subsample=subsample, colsample_bytree=colsample_bytree, random_state=0, subsample_freq=1, \n",
    "                         n_estimators=100)\n",
    "    mdl.fit(X_train, y_train)\n",
    "    \n",
    "    lgmc_preds = lgmc_model.predict(X_test)\n",
    "    \n",
    "    return -accuracy_score(y_test, lgmc_preds)*100\n",
    "\n",
    "space = [(1e-3, 1e-1, 'log-uniform'), #learning rate\n",
    "         (2, 128), # num_leaves\n",
    "         (1, 100), # min_child_samples\n",
    "         (0.05, 1.0), # subsample\n",
    "         (0.1, 1.0)] # colsample bytree"
   ]
  },
  {
   "cell_type": "code",
   "execution_count": 33,
   "id": "fe351916-15ff-473c-b7a8-f87de6d4de47",
   "metadata": {},
   "outputs": [],
   "source": [
    "from skopt import dummy_minimize\n",
    "resultado = dummy_minimize(treinar_modelo, space, random_state=0, verbose=1, n_calls=30)"
   ]
  },
  {
   "cell_type": "code",
   "execution_count": null,
   "id": "ce427127-8fed-4e09-98dd-3965a1d8ae84",
   "metadata": {},
   "outputs": [],
   "source": [
    "from skopt import gp_minimize\n",
    "resultados_gp = gp_minimize(treinar_modelo, space, random_state=0, verbose=1, n_calls=30, n_random_starts=10)"
   ]
  },
  {
   "cell_type": "markdown",
   "id": "a591d908-5401-45b0-8c2a-c5fcd67d859c",
   "metadata": {
    "tags": []
   },
   "source": [
    "### Random Forest"
   ]
  },
  {
   "cell_type": "code",
   "execution_count": 292,
   "id": "fe1c00f4-d653-43d0-82ea-76a24658d435",
   "metadata": {},
   "outputs": [],
   "source": [
    "from sklearn.ensemble import RandomForestClassifier"
   ]
  },
  {
   "cell_type": "markdown",
   "id": "743f8394-508b-46ab-aab2-fe933f50afc0",
   "metadata": {
    "tags": []
   },
   "source": [
    "#### Com Randomized Search CV"
   ]
  },
  {
   "cell_type": "code",
   "execution_count": 321,
   "id": "b542573e-ac80-4cfd-90d1-d2f62f1d1381",
   "metadata": {},
   "outputs": [],
   "source": [
    "rf_Model = RandomForestClassifier(random_state=0, n_jobs=-1)"
   ]
  },
  {
   "cell_type": "code",
   "execution_count": 322,
   "id": "ff1b316b-878d-4413-b406-2dad5f1af598",
   "metadata": {},
   "outputs": [],
   "source": [
    "# Create the param grid\n",
    "rf_param_grid = {'n_estimators':  np.arange(50, 250, 50),\n",
    "               'max_features': ['auto', 'sqrt'],\n",
    "               'max_depth':[50, 100, 150, None],\n",
    "               'criterion': ['gini', 'entropy'],\n",
    "               'min_samples_split': [2, 5, 10, 30, 50],\n",
    "               'min_samples_leaf': [1, 2],\n",
    "               'bootstrap': [True, False]}"
   ]
  },
  {
   "cell_type": "code",
   "execution_count": 323,
   "id": "350214e8-18c1-4035-8776-9dd99ff77d69",
   "metadata": {},
   "outputs": [],
   "source": [
    "rf_RandomGrid = RandomizedSearchCV(estimator = rf_Model, param_distributions = rf_param_grid, cv = 3, verbose=1, random_state=0)"
   ]
  },
  {
   "cell_type": "code",
   "execution_count": null,
   "id": "65bbf8ae-d2ec-4aae-a1d6-311f8c87efde",
   "metadata": {},
   "outputs": [],
   "source": [
    "%%time\n",
    "rf_RandomGrid.fit(X_train, y_train)"
   ]
  },
  {
   "cell_type": "code",
   "execution_count": null,
   "id": "1a185d22-dc76-4b3c-9b0d-c116e1b600ec",
   "metadata": {},
   "outputs": [
    {
     "data": {
      "text/plain": [
       "{'n_estimators': 150,\n",
       " 'min_samples_split': 30,\n",
       " 'min_samples_leaf': 1,\n",
       " 'max_features': 'sqrt',\n",
       " 'max_depth': 100,\n",
       " 'criterion': 'entropy',\n",
       " 'bootstrap': False}"
      ]
     },
     "execution_count": 30,
     "metadata": {},
     "output_type": "execute_result"
    }
   ],
   "source": [
    "rf_RandomGrid.best_params_"
   ]
  },
  {
   "cell_type": "code",
   "execution_count": null,
   "id": "0aff82cb-0df3-4ae4-aa33-344e57df905e",
   "metadata": {},
   "outputs": [
    {
     "data": {
      "text/plain": [
       "0.7248018384137745"
      ]
     },
     "execution_count": 31,
     "metadata": {},
     "output_type": "execute_result"
    }
   ],
   "source": [
    "rf_RandomGrid.best_score_"
   ]
  },
  {
   "cell_type": "code",
   "execution_count": null,
   "id": "b5a1add5-c981-4fcf-8e30-8877a9eb3e2e",
   "metadata": {},
   "outputs": [],
   "source": [
    "preds_rf_RG = rf_RandomGrid.predict(X_test)"
   ]
  },
  {
   "cell_type": "code",
   "execution_count": null,
   "id": "2e267934-e574-4e5f-80e2-1533c1056195",
   "metadata": {},
   "outputs": [
    {
     "data": {
      "text/plain": [
       "72.97409023264096"
      ]
     },
     "execution_count": 33,
     "metadata": {},
     "output_type": "execute_result"
    }
   ],
   "source": [
    "accuracy_score(y_test, preds_rf_RG)*100"
   ]
  },
  {
   "cell_type": "code",
   "execution_count": null,
   "id": "0fa1f74a-8f43-4dcf-8e92-d6dd1d23d933",
   "metadata": {},
   "outputs": [],
   "source": [
    "imprimeMatrizDeConfusão(y_test, preds_rf_RG, rf_RandomGrid)"
   ]
  },
  {
   "cell_type": "markdown",
   "id": "2e219a01-31f6-4d8a-9043-72c96619ae6a",
   "metadata": {},
   "source": [
    "#### RF com os melhores parâmetros"
   ]
  },
  {
   "cell_type": "code",
   "execution_count": null,
   "id": "c84181d4-3ece-4018-9a8a-0e545a602ccc",
   "metadata": {
    "tags": []
   },
   "outputs": [],
   "source": [
    "model = RandomForestClassifier(n_estimators=150,\n",
    "                              min_samples_split=30,\n",
    "                              min_samples_leaf=1,\n",
    "                              max_features='sqrt',\n",
    "                              max_depth=100,\n",
    "                              criterion='entropy',\n",
    "                              bootstrap=False,\n",
    "                              n_jobs=-1,\n",
    "                              random_state=0)\n",
    "model.fit(X_train, y_train)\n",
    "preds = model.predict(X_test)"
   ]
  },
  {
   "cell_type": "code",
   "execution_count": null,
   "id": "c92614fc-aeed-4e61-8ac5-69407904e04b",
   "metadata": {},
   "outputs": [],
   "source": [
    "accuracy_score(y_test, preds)*100"
   ]
  },
  {
   "cell_type": "code",
   "execution_count": null,
   "id": "47da569a-f5b7-4d4c-90d2-f1cc0e7e5513",
   "metadata": {},
   "outputs": [],
   "source": [
    "imprimeMatrizDeConfusão(y_test, preds, model)"
   ]
  },
  {
   "cell_type": "markdown",
   "id": "eabbcc92-5035-4092-9013-8a95b1b40c83",
   "metadata": {
    "tags": []
   },
   "source": [
    "### Gradient Boosting"
   ]
  },
  {
   "cell_type": "code",
   "execution_count": 29,
   "id": "65eacab7-3b6a-4233-9f5e-d5608c6e4657",
   "metadata": {},
   "outputs": [
    {
     "name": "stdout",
     "output_type": "stream",
     "text": [
      "[12:36:47] WARNING: ../src/learner.cc:1115: Starting in XGBoost 1.3.0, the default evaluation metric used with the objective 'multi:softprob' was changed from 'merror' to 'mlogloss'. Explicitly set eval_metric if you'd like to restore the old behavior.\n"
     ]
    },
    {
     "data": {
      "text/plain": [
       "XGBClassifier(base_score=0.5, booster='gbtree', colsample_bylevel=1,\n",
       "              colsample_bynode=1, colsample_bytree=1, enable_categorical=False,\n",
       "              gamma=0, gpu_id=-1, importance_type=None,\n",
       "              interaction_constraints='', learning_rate=0.300000012,\n",
       "              max_delta_step=0, max_depth=6, min_child_weight=1, missing=nan,\n",
       "              monotone_constraints='()', n_estimators=100, n_jobs=8,\n",
       "              num_parallel_tree=1, objective='multi:softprob', predictor='auto',\n",
       "              random_state=0, reg_alpha=0, reg_lambda=1, scale_pos_weight=None,\n",
       "              subsample=1, tree_method='exact', use_label_encoder=False,\n",
       "              validate_parameters=1, verbosity=None)"
      ]
     },
     "execution_count": 29,
     "metadata": {},
     "output_type": "execute_result"
    }
   ],
   "source": [
    "from xgboost import XGBClassifier\n",
    "from sklearn.preprocessing import OrdinalEncoder\n",
    "\n",
    "ordinal_encoder = OrdinalEncoder()\n",
    "\n",
    "y_train_ordinal = ordinal_encoder.fit_transform(y_train.array.reshape(-1,1))\n",
    "\n",
    "xgb_model = XGBClassifier(use_label_encoder=False, random_state=0)\n",
    "xgb_model.fit(X_train, y_train_ordinal)"
   ]
  },
  {
   "cell_type": "code",
   "execution_count": 30,
   "id": "24cb533e-86d5-48b0-84c1-45dafadc5318",
   "metadata": {},
   "outputs": [
    {
     "data": {
      "text/plain": [
       "0.70711278444142"
      ]
     },
     "execution_count": 30,
     "metadata": {},
     "output_type": "execute_result"
    }
   ],
   "source": [
    "xgb_preds = xgb_model.predict(X_test)\n",
    "xgb_preds = ordinal_encoder.inverse_transform(xgb_preds.reshape(-1,1))\n",
    "accuracy_score(y_test, xgb_preds)"
   ]
  },
  {
   "cell_type": "code",
   "execution_count": 31,
   "id": "7912e17d-1970-4044-bfd4-a37d3b0911a0",
   "metadata": {},
   "outputs": [
    {
     "data": {
      "image/png": "[encoded data removed]",
      "text/plain": [
       "<Figure size 432x288 with 1 Axes>"
      ]
     },
     "metadata": {
      "needs_background": "light"
     },
     "output_type": "display_data"
    }
   ],
   "source": [
    "imprimeMatrizDeConfusão(y_test, xgb_preds, xgb_model)"
   ]
  },
  {
   "cell_type": "markdown",
   "id": "d46bda57-c898-4538-8b8a-819c3cc6fe67",
   "metadata": {
    "tags": []
   },
   "source": [
    "### SVM"
   ]
  },
  {
   "cell_type": "code",
   "execution_count": 21,
   "id": "c86bedac-aa4b-47d4-91e3-b2e0e09fe3f4",
   "metadata": {},
   "outputs": [],
   "source": [
    "from sklearn.svm import SVC\n",
    "X_train, X_test, y_train, y_test = train_test_split(X, y, train_size=0.1, random_state = 0)"
   ]
  },
  {
   "cell_type": "code",
   "execution_count": null,
   "id": "cc4cdd96-4c57-4a2f-a23a-d432c5d34fab",
   "metadata": {},
   "outputs": [],
   "source": [
    "%%time\n",
    "svc_model = SVC(kernel='linear', cache_size=5000, random_state=0) # Linear Kernel\n",
    "\n",
    "svc_model.fit(X_train, y_train)\n",
    "\n",
    "svc_preds = svc_model.predict(X_test)"
   ]
  },
  {
   "cell_type": "code",
   "execution_count": null,
   "id": "9e176cf6-95fd-4e6f-ad88-5f0422622c5e",
   "metadata": {},
   "outputs": [],
   "source": [
    "print(\"Acurácia:\", accuracy_score(y_test, svc_preds))"
   ]
  },
  {
   "cell_type": "markdown",
   "id": "23e8b482-5b1f-4125-a980-554c3ba6570c",
   "metadata": {
    "tags": []
   },
   "source": [
    "###  Gaussian Naive Bayes"
   ]
  },
  {
   "cell_type": "code",
   "execution_count": 18,
   "id": "61259046-cd8e-4efb-a350-ba4c5b66cd08",
   "metadata": {},
   "outputs": [],
   "source": [
    "# Conjunto com todas as classes\n",
    "X_train, X_test, y_train, y_test = train_test_split(X, y, random_state = 0)"
   ]
  },
  {
   "cell_type": "code",
   "execution_count": 19,
   "id": "8f9cbc1b-febe-444c-8595-ebf6957415a9",
   "metadata": {},
   "outputs": [],
   "source": [
    "from sklearn.naive_bayes import GaussianNB"
   ]
  },
  {
   "cell_type": "code",
   "execution_count": 20,
   "id": "7858a352-30b2-425f-a877-8c22664192ea",
   "metadata": {},
   "outputs": [
    {
     "name": "stdout",
     "output_type": "stream",
     "text": [
      "Acurácia: 0.5244470166244801\n"
     ]
    }
   ],
   "source": [
    "gnb_model = GaussianNB()\n",
    "gnb_preds = gnb_model.fit(X_train, y_train).predict(X_test)\n",
    "print(\"Acurácia:\", accuracy_score(y_test, gnb_preds))"
   ]
  },
  {
   "cell_type": "markdown",
   "id": "a22562a2-f07c-426e-bd64-a6034beb50bf",
   "metadata": {
    "tags": []
   },
   "source": [
    "### Logistic Regression"
   ]
  },
  {
   "cell_type": "code",
   "execution_count": 38,
   "id": "6c4b89e6-b104-416d-8e1f-421413fa74b1",
   "metadata": {},
   "outputs": [],
   "source": [
    "# Conjunto de dados PNP: Pastejando x Não Pastejando\n",
    "y_pnp = y\n",
    "y_pnp = y_pnp.replace(to_replace=['Agua', 'Locomovendo', 'Ocio', 'Outros','Ruminando'], value='Não Pastejando')\n",
    "X_train, X_test, y_train, y_test = train_test_split(X, y_pnp, random_state = 0)"
   ]
  },
  {
   "cell_type": "code",
   "execution_count": 23,
   "id": "151d5591-8a1a-4ac8-81cc-75c450a6899d",
   "metadata": {},
   "outputs": [],
   "source": [
    "from sklearn.linear_model import LogisticRegression"
   ]
  },
  {
   "cell_type": "code",
   "execution_count": 40,
   "id": "06145b2a-cecd-4c98-b339-39534253a4c8",
   "metadata": {},
   "outputs": [
    {
     "data": {
      "text/plain": [
       "LogisticRegression(random_state=0)"
      ]
     },
     "execution_count": 40,
     "metadata": {},
     "output_type": "execute_result"
    }
   ],
   "source": [
    "lr_model = LogisticRegression(random_state=0)\n",
    "lr_model.fit(X_train, y_train)"
   ]
  },
  {
   "cell_type": "code",
   "execution_count": 41,
   "id": "b2ae5e97-fc5f-459b-bf38-6d902edea7b2",
   "metadata": {},
   "outputs": [],
   "source": [
    "lr_preds = lr_model.predict(X_test)"
   ]
  },
  {
   "cell_type": "code",
   "execution_count": 42,
   "id": "ed24d2aa-a0b4-4ba2-8c97-4a3e8356968b",
   "metadata": {},
   "outputs": [
    {
     "name": "stdout",
     "output_type": "stream",
     "text": [
      "Acurácia: 0.6207341736730307\n"
     ]
    }
   ],
   "source": [
    "print(\"Acurácia:\", accuracy_score(y_test, lr_preds))"
   ]
  },
  {
   "cell_type": "markdown",
   "id": "c3dcde6b-99fd-4af1-a041-adae0701a610",
   "metadata": {
    "tags": []
   },
   "source": [
    "### Redes Neurais"
   ]
  },
  {
   "cell_type": "code",
   "execution_count": 24,
   "id": "68f91128-829f-49f8-a737-e6e89661ad7b",
   "metadata": {},
   "outputs": [],
   "source": [
    "from sklearn.neural_network import MLPClassifier"
   ]
  },
  {
   "cell_type": "code",
   "execution_count": 18,
   "id": "1fbdd608-3878-48a2-92df-1636b538f968",
   "metadata": {},
   "outputs": [
    {
     "data": {
      "text/plain": [
       "MLPClassifier(early_stopping=True, max_iter=400, random_state=0)"
      ]
     },
     "execution_count": 18,
     "metadata": {},
     "output_type": "execute_result"
    }
   ],
   "source": [
    "rn_model = MLPClassifier(early_stopping=True, max_iter=400, random_state=0)\n",
    "rn_model.fit(X_train, y_train)"
   ]
  },
  {
   "cell_type": "code",
   "execution_count": 19,
   "id": "e43ac6db-cf75-41be-81ab-c9d871954656",
   "metadata": {},
   "outputs": [],
   "source": [
    "rn_preds = rn_model.predict(X_test)"
   ]
  },
  {
   "cell_type": "code",
   "execution_count": 20,
   "id": "3e0273bc-6e51-45a9-884e-af48d3bc225d",
   "metadata": {},
   "outputs": [
    {
     "name": "stdout",
     "output_type": "stream",
     "text": [
      "Acurácia: 0.6549561810758213\n"
     ]
    }
   ],
   "source": [
    "print(\"Acurácia:\", accuracy_score(y_test, rn_preds))"
   ]
  },
  {
   "cell_type": "markdown",
   "id": "b08fd1f8-3b0f-495c-aa44-1df95bc9e8c5",
   "metadata": {},
   "source": [
    "### KNN"
   ]
  },
  {
   "cell_type": "code",
   "execution_count": 33,
   "id": "e14468d6-31e1-44b7-8ff2-4ab9f8331c2e",
   "metadata": {},
   "outputs": [],
   "source": [
    "from sklearn.neighbors import KNeighborsClassifier"
   ]
  },
  {
   "cell_type": "code",
   "execution_count": 34,
   "id": "8bf71067-841e-4216-9c3c-139198f27370",
   "metadata": {},
   "outputs": [
    {
     "data": {
      "text/plain": [
       "KNeighborsClassifier(n_jobs=-1, n_neighbors=10)"
      ]
     },
     "execution_count": 34,
     "metadata": {},
     "output_type": "execute_result"
    }
   ],
   "source": [
    "knn_model = KNeighborsClassifier(n_neighbors=10, n_jobs=-1)\n",
    "knn_model.fit(X_train, y_train)"
   ]
  },
  {
   "cell_type": "code",
   "execution_count": 35,
   "id": "fba60fbc-c9b6-4fda-af91-d5da3bdf7141",
   "metadata": {},
   "outputs": [
    {
     "name": "stdout",
     "output_type": "stream",
     "text": [
      "Acurácia: 0.7784568615729022\n"
     ]
    }
   ],
   "source": [
    "knn_preds = knn_model.predict(X_test)\n",
    "\n",
    "print(\"Acurácia:\", accuracy_score(y_test, knn_preds))"
   ]
  },
  {
   "cell_type": "code",
   "execution_count": 36,
   "id": "045659c6-0b12-4a6d-bbce-c7ee1eb936eb",
   "metadata": {},
   "outputs": [
    {
     "data": {
      "image/png": "[encoded data removed]",
      "text/plain": [
       "<Figure size 432x288 with 1 Axes>"
      ]
     },
     "metadata": {
      "needs_background": "light"
     },
     "output_type": "display_data"
    }
   ],
   "source": [
    "imprimeMatrizDeConfusão(y_test, knn_preds, knn_model)"
   ]
  },
  {
   "cell_type": "code",
   "execution_count": 49,
   "id": "333f2c08-03d2-4543-ba09-f249bee3cc82",
   "metadata": {},
   "outputs": [
    {
     "name": "stdout",
     "output_type": "stream",
     "text": [
      "Acurácia: 0.7159656062783806\n"
     ]
    }
   ],
   "source": [
    "knn_preds = knn_model.predict(X_test)\n",
    "\n",
    "print(\"Acurácia:\", accuracy_score(y_test, knn_preds))"
   ]
  },
  {
   "cell_type": "code",
   "execution_count": 45,
   "id": "5ce264ae-45e8-43e2-8168-d39f530780a7",
   "metadata": {},
   "outputs": [
    {
     "data": {
      "image/png": "[encoded data removed]",
      "text/plain": [
       "<Figure size 432x288 with 1 Axes>"
      ]
     },
     "metadata": {
      "needs_background": "light"
     },
     "output_type": "display_data"
    }
   ],
   "source": [
    "imprimeMatrizDeConfusão(y_test, knn_preds, knn_model)"
   ]
  },
  {
   "cell_type": "markdown",
   "id": "8e49b6c8-edee-4275-836e-d927d0d9cd6e",
   "metadata": {
    "tags": []
   },
   "source": [
    "### Teste de RF em CV"
   ]
  },
  {
   "cell_type": "code",
   "execution_count": 22,
   "id": "27698335-c464-41b3-a257-485b8baf6a5a",
   "metadata": {},
   "outputs": [],
   "source": [
    "from sklearn.model_selection import cross_val_score\n",
    "\n",
    "def get_score(n_estimators):\n",
    "    clf = RandomForestClassifier(n_estimators, random_state=0, n_jobs=-1)\n",
    "    scores = cross_val_score(clf, X_train, y_train, cv=3)\n",
    "    return scores.mean()\n"
   ]
  },
  {
   "cell_type": "code",
   "execution_count": 14,
   "id": "5c75c35f-923f-4c25-8c0d-943a21f2e2ce",
   "metadata": {},
   "outputs": [],
   "source": [
    "results = {} \n",
    "n_estimators = 100\n",
    "while n_estimators < 250:\n",
    "    n_estimators += 50\n",
    "    results[n_estimators] = get_score(n_estimators)"
   ]
  },
  {
   "cell_type": "code",
   "execution_count": 15,
   "id": "5f94f22e-83e4-4f59-a9cc-397026319367",
   "metadata": {},
   "outputs": [
    {
     "data": {
      "image/png": "[encoded data removed]",
      "text/plain": [
       "<Figure size 432x288 with 1 Axes>"
      ]
     },
     "metadata": {
      "needs_background": "light"
     },
     "output_type": "display_data"
    }
   ],
   "source": [
    "import matplotlib.pyplot as plt\n",
    "%matplotlib inline\n",
    "\n",
    "plt.plot(list(results.keys()), list(results.values()))\n",
    "plt.show()"
   ]
  },
  {
   "cell_type": "markdown",
   "id": "5e136163-a8b8-474a-b8b3-3cd3fdb463a5",
   "metadata": {
    "tags": []
   },
   "source": [
    "### Leave One Group Out"
   ]
  },
  {
   "cell_type": "code",
   "execution_count": 25,
   "id": "4a5d444a-3ced-4983-a443-f86670fa2c47",
   "metadata": {},
   "outputs": [],
   "source": [
    "from sklearn.model_selection import LeaveOneGroupOut"
   ]
  },
  {
   "cell_type": "code",
   "execution_count": 24,
   "id": "c56f4df3-03d1-488a-b339-8128cb20919d",
   "metadata": {},
   "outputs": [],
   "source": [
    "df = pd.read_csv(caminho_dados_lazaro)"
   ]
  },
  {
   "cell_type": "markdown",
   "id": "7de2ef82-0c91-40af-a3c1-b702c4edda51",
   "metadata": {},
   "source": [
    "#### Leave One Animal Out"
   ]
  },
  {
   "cell_type": "code",
   "execution_count": 25,
   "id": "88cf057c-1350-42fd-9308-b3760c3dbad8",
   "metadata": {},
   "outputs": [],
   "source": [
    "groups = np.array(df.Animal.values)"
   ]
  },
  {
   "cell_type": "code",
   "execution_count": 26,
   "id": "23416950-f139-4b52-a18a-50314ef5d8fc",
   "metadata": {},
   "outputs": [
    {
     "data": {
      "text/plain": [
       "9"
      ]
     },
     "execution_count": 26,
     "metadata": {},
     "output_type": "execute_result"
    }
   ],
   "source": [
    "loao = LeaveOneGroupOut()\n",
    "loao.get_n_splits(X, y, groups)"
   ]
  },
  {
   "cell_type": "code",
   "execution_count": 27,
   "id": "9c20b4f7-bf0a-4cb2-8368-53139fb5f872",
   "metadata": {},
   "outputs": [],
   "source": [
    "df = df[features_aplicaveis]\n",
    "\n",
    "y = df.Comportamento\n",
    "X = df.drop('Comportamento', axis=1)\n",
    "\n",
    "X = np.array(X)\n",
    "y = np.array(y)"
   ]
  },
  {
   "cell_type": "code",
   "execution_count": 28,
   "id": "dae6944a-062c-49e2-badd-5c981c0bcda8",
   "metadata": {},
   "outputs": [],
   "source": [
    "cv = loao.split(X, y, groups)\n",
    "model = RandomForestClassifier(n_estimators=150, n_jobs=-1, random_state=0)\n",
    "scores = np.array"
   ]
  },
  {
   "cell_type": "code",
   "execution_count": 138,
   "id": "a8c23daf-b098-482d-a12f-a065aec9b5a4",
   "metadata": {},
   "outputs": [
    {
     "name": "stdout",
     "output_type": "stream",
     "text": [
      "CPU times: user 19min 26s, sys: 7.76 s, total: 19min 34s\n",
      "Wall time: 5min 12s\n"
     ]
    }
   ],
   "source": [
    "%%time\n",
    "for train_index, test_index in cv:\n",
    "    X_train, X_test, y_train, y_test = X[train_index], X[test_index], y[train_index], y[test_index]\n",
    "    model.fit(X_train, y_train.ravel())\n",
    "    preds = model.predict(X_test)\n",
    "    scores.append(accuracy_score(y_test, preds)*100)"
   ]
  },
  {
   "cell_type": "code",
   "execution_count": 143,
   "id": "5362fa15-94e5-4de3-9692-6bbfe94d9b61",
   "metadata": {},
   "outputs": [
    {
     "data": {
      "text/plain": [
       "49.57656849471909"
      ]
     },
     "execution_count": 143,
     "metadata": {},
     "output_type": "execute_result"
    }
   ],
   "source": [
    "scores.mean()"
   ]
  },
  {
   "cell_type": "markdown",
   "id": "8a834ff5-ce3c-4b27-9deb-9fdc6c1965c3",
   "metadata": {
    "tags": []
   },
   "source": [
    "##### Vizualização"
   ]
  },
  {
   "cell_type": "code",
   "execution_count": 26,
   "id": "592b606d-7ecd-4ab9-b002-69b5ca233201",
   "metadata": {},
   "outputs": [],
   "source": [
    "from sklearn.preprocessing import OrdinalEncoder\n",
    "enc = OrdinalEncoder()\n",
    "y = enc.fit_transform(y.array.reshape(-1, 1))"
   ]
  },
  {
   "cell_type": "code",
   "execution_count": 27,
   "id": "20e57022-c08d-4526-8e59-6f15893d8a60",
   "metadata": {},
   "outputs": [],
   "source": [
    "import numpy as np\n",
    "import matplotlib.pyplot as plt\n",
    "from matplotlib.patches import Patch\n",
    "\n",
    "np.random.seed(0)\n",
    "cmap_data = plt.cm.Paired\n",
    "cmap_cv = plt.cm.coolwarm"
   ]
  },
  {
   "cell_type": "code",
   "execution_count": 108,
   "id": "99f496cb-ec94-4c96-9327-462b616bc976",
   "metadata": {},
   "outputs": [
    {
     "data": {
      "image/png": "[encoded data removed]",
      "text/plain": [
       "<Figure size 432x288 with 1 Axes>"
      ]
     },
     "metadata": {
      "needs_background": "light"
     },
     "output_type": "display_data"
    }
   ],
   "source": [
    "def visualize_groups(classes, groups, name):\n",
    "    # Visualize dataset groups\n",
    "    fig, ax = plt.subplots()\n",
    "    ax.scatter(\n",
    "        range(len(groups)),\n",
    "        [0.5] * len(groups),\n",
    "        c=groups,\n",
    "        marker=\"_\",\n",
    "        lw=50,\n",
    "        cmap=cmap_data,\n",
    "    )\n",
    "    ax.scatter(\n",
    "        range(len(groups)),\n",
    "        [3.5] * len(groups),\n",
    "        c=classes,\n",
    "        marker=\"_\",\n",
    "        lw=50,\n",
    "        cmap=cmap_data,\n",
    "    )\n",
    "    ax.set(\n",
    "        ylim=[-1, 5],\n",
    "        yticks=[0.5, 3.5],\n",
    "        yticklabels=[\"Data\\ngroup\", \"Data\\nclass\"],\n",
    "        xlabel=\"Sample index\",\n",
    "    )\n",
    "\n",
    "\n",
    "visualize_groups(y, groups, \"no groups\")"
   ]
  }
 ],
 "metadata": {
  "kernelspec": {
   "display_name": "Python 3 (ipykernel)",
   "language": "python",
   "name": "python3"
  },
  "language_info": {
   "codemirror_mode": {
    "name": "ipython",
    "version": 3
   },
   "file_extension": ".py",
   "mimetype": "text/x-python",
   "name": "python",
   "nbconvert_exporter": "python",
   "pygments_lexer": "ipython3",
   "version": "3.9.7"
  }
 },
 "nbformat": 4,
 "nbformat_minor": 5
}
