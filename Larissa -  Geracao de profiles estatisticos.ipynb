{
 "cells": [
  {
   "cell_type": "markdown",
   "id": "55c90345",
   "metadata": {
    "tags": []
   },
   "source": [
    "# Larissa\n",
    "### Análise dos dados"
   ]
  },
  {
   "cell_type": "code",
   "execution_count": null,
   "id": "f76080c4",
   "metadata": {},
   "outputs": [],
   "source": [
    "import numpy as np\n",
    "import pandas as pd\n",
    "from pandas_profiling import ProfileReport"
   ]
  },
  {
   "cell_type": "code",
   "execution_count": null,
   "id": "c737e58a",
   "metadata": {},
   "outputs": [],
   "source": [
    "# Leitura dos dados em uma variável DataFrame\n",
    "df =  pd.read_excel('Datasets/Larissa/Matriz completa - Larissa MD04.xlsx', usecols='A:W' )"
   ]
  },
  {
   "cell_type": "code",
   "execution_count": null,
   "id": "8f9b8a71",
   "metadata": {},
   "outputs": [],
   "source": [
    "df.columns"
   ]
  },
  {
   "cell_type": "code",
   "execution_count": null,
   "id": "49f4e802",
   "metadata": {},
   "outputs": [],
   "source": [
    "df"
   ]
  },
  {
   "cell_type": "code",
   "execution_count": null,
   "id": "517454fb",
   "metadata": {},
   "outputs": [],
   "source": [
    "df.isnull().sum()"
   ]
  },
  {
   "cell_type": "code",
   "execution_count": null,
   "id": "0ec80619",
   "metadata": {},
   "outputs": [],
   "source": [
    "df.replace({'.': np.NaN}, inplace=True)"
   ]
  },
  {
   "cell_type": "code",
   "execution_count": null,
   "id": "40a148c3",
   "metadata": {},
   "outputs": [],
   "source": [
    "df.isnull().sum()"
   ]
  },
  {
   "cell_type": "code",
   "execution_count": null,
   "id": "d8182041",
   "metadata": {
    "scrolled": true
   },
   "outputs": [],
   "source": [
    "df.info()"
   ]
  },
  {
   "cell_type": "code",
   "execution_count": null,
   "id": "a268b991",
   "metadata": {
    "scrolled": true
   },
   "outputs": [],
   "source": [
    "df = df.astype({\n",
    "    'Experimento' : str,\n",
    "    'Código Master' : str,\n",
    "    'Vaca' : str,\n",
    "    'Periodo/semana' : str,\n",
    "    'Tratamento (T1. T2. T3...)' : str,\n",
    "    'Produção de leite' : float,\n",
    "    'Consumo de PB' : float,\n",
    "    'Consumo de FDN' : float,\n",
    "    'Consumo de Amido' : float,\n",
    "    '%MS fecal' : float,\n",
    "    '%PB fecal' : float,\n",
    "    '%FDN fecal' : float,\n",
    "    '% amido fecal' : float,\n",
    "    'Dig. MS' : float,                  \n",
    "    'Dig. PB' : float,                 \n",
    "    'Dig. Amido' : float,\n",
    "    'Dig. FDN' : float,\n",
    "    'EUN' : float,\n",
    "    'Efic. Alimentar' : float,\n",
    "    '19 mm' : float,\n",
    "    '8 mm' : float,\n",
    "    'Fundo' : float\n",
    "})"
   ]
  },
  {
   "cell_type": "code",
   "execution_count": null,
   "id": "b18181dc",
   "metadata": {},
   "outputs": [],
   "source": [
    "# Geração do profile estatístico\n",
    "profile = ProfileReport(df, title=\"Pandas Profiling Report\", explorative=True, infer_dtypes=False)\n",
    "# profile.to_notebook_iframe()\n",
    "profile.to_file(\"CP.html\")"
   ]
  },
  {
   "cell_type": "code",
   "execution_count": null,
   "id": "7aba2b6b",
   "metadata": {},
   "outputs": [],
   "source": []
  }
 ],
 "metadata": {
  "kernelspec": {
   "display_name": "Python 3 (ipykernel)",
   "language": "python",
   "name": "python3"
  },
  "language_info": {
   "codemirror_mode": {
    "name": "ipython",
    "version": 3
   },
   "file_extension": ".py",
   "mimetype": "text/x-python",
   "name": "python",
   "nbconvert_exporter": "python",
   "pygments_lexer": "ipython3",
   "version": "3.9.7"
  }
 },
 "nbformat": 4,
 "nbformat_minor": 5
}
