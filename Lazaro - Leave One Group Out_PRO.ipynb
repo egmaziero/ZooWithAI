{
 "cells": [
  {
   "cell_type": "markdown",
   "id": "2f0504a2-7686-4e1e-81f7-a0af58075f8f",
   "metadata": {},
   "source": [
    "# PRO"
   ]
  },
  {
   "cell_type": "code",
   "execution_count": 75,
   "id": "b6e6cd56-8674-4365-90c9-09cf3e94ef67",
   "metadata": {},
   "outputs": [],
   "source": [
    "import pandas as pd\n",
    "import numpy as np\n",
    "from sklearn.metrics import accuracy_score"
   ]
  },
  {
   "cell_type": "code",
   "execution_count": 76,
   "id": "ff176bbe-2c74-4d23-a056-220122d2e243",
   "metadata": {},
   "outputs": [],
   "source": [
    "# Função para imprimir e salvar matriz de confusão\n",
    "def imprimeMatrizDeConfusão(y_test, preds, model, salvarFigura = False):\n",
    "    from sklearn.metrics import confusion_matrix\n",
    "    from sklearn.metrics import ConfusionMatrixDisplay\n",
    "    import matplotlib.pyplot as plt\n",
    "\n",
    "    cm = confusion_matrix(y_test, preds, normalize='true')\n",
    "    disp = ConfusionMatrixDisplay(confusion_matrix=cm, display_labels=model.classes_)\n",
    "    disp.plot(values_format= '.2%', xticks_rotation=60, colorbar=False)\n",
    "    disp.ax_.set_title(\"Matriz de confusão normalizada sobre as condições verdadeiras\")\n",
    "    if(salvarFigura):\n",
    "        plt.savefig(input('Nome da figura a ser salva:' ) + '.png')\n",
    "    plt.show()"
   ]
  },
  {
   "cell_type": "code",
   "execution_count": 77,
   "id": "ad6f64dd-93ae-43e3-80a2-2be2fcde49be",
   "metadata": {},
   "outputs": [],
   "source": [
    "def treinar_e_roportar(models, X_train, y_train, X_test, y_test):\n",
    "    for model in models:\n",
    "        print(model)\n",
    "        if(model == xgb_model):\n",
    "            y_train = enc.transform(y_train.array.reshape(-1, 1))\n",
    "            y_test = enc.transform(y_test.array.reshape(-1, 1))\n",
    "        model.fit(X_train, y_train)\n",
    "        preds = model.predict(X_test)\n",
    "        print('Acurácia teste: ', accuracy_score(y_test, preds)*100)\n",
    "        print(classification_report(y_test, preds, digits=3))\n",
    "        imprimeMatrizDeConfusão(y_test, preds, model)\n",
    "        preds = model.predict(X_train)\n",
    "        print('Acurácia treino: ', accuracy_score(y_train, preds)*100)\n",
    "        print(classification_report(y_train, preds, digits=3))   "
   ]
  },
  {
   "cell_type": "code",
   "execution_count": 78,
   "id": "832ff9f6-0f13-4e74-9e24-df99b143f4f6",
   "metadata": {},
   "outputs": [],
   "source": [
    "# Função do Bresolin\n",
    "\n",
    "def metrics(curr_path, outdir, path_inference, cfgname, task, nclass, thr, proc):\n",
    "    '''\n",
    "    Get all metrics and save in text file\n",
    "    '''    \n",
    "    pred = pd.read_table(os.path.join(curr_path, outdir, path_inference, cfgname.replace('.cfg', '.pred')), header = None, sep = ' ').to_numpy()\n",
    "    if task == 'class':\n",
    "        y_obs = pred[:,0].astype(int)\n",
    "        y_pred = (pred[:,1] > thr).astype('int')\n",
    "        cm_mat = confusion_matrix(y_obs, y_pred)\n",
    "       \n",
    "        if cm_mat.shape[0] != cm_mat.shape[1]:\n",
    "            sys.exit('Error: Number of true and predicted classes are different.\\\n",
    "                     Please contact the developer: tgbresolin@gmail.com!!!\\n')\n",
    "        elif cm_mat.shape[0] == 1:\n",
    "            sys.exit('Error: Number of true classes are equal 1.\\\n",
    "                     Please contact the developer: tgbresolin@gmail.com!!!\\n')\n",
    "        elif cm_mat.shape[1] == 1:\n",
    "            sys.exit('Error: Number of predicted classes are equal 1.\\\n",
    "                     Please contact the developer: tgbresolin@gmail.com!!!\\n')  \n",
    "        metrics = []\n",
    "       \n",
    "        if nclass == 2:\n",
    "            tp = cm_mat[1,1]\n",
    "            tn = cm_mat[0,0]\n",
    "            fp = cm_mat[0,1]\n",
    "            fn = cm_mat[1,0]\n",
    "            acc = round(((tp + tn) / (tp + tn + fp + fn)), 2) * 100\n",
    "            err = 100 - acc\n",
    "            sen = round((tp / (tp + fn)), 2) * 100\n",
    "            spe = round((tn / (tn + fp)), 2) * 100\n",
    "            ppv = round((tp / (tp + fp)), 2) * 100\n",
    "            npv = round((tn / (tn + fn)), 2) * 100\n",
    "            metrics = pd.DataFrame(data = {'ACC': [acc], 'ERR': [err], 'SEN': [sen],\n",
    "                                           'SPE': [spe], 'PPV': [ppv], 'NPV': [npv]})\n",
    "        # else: for more than 2 two classes\n",
    "    else:\n",
    "        stats = np.load(os.path.join(curr_path, outdir, 'data/train/stats.npy'), mmap_mode = 'r')\n",
    "        pred = backTransform(pred, stats, proc)\n",
    "        x = pred[:,1]\n",
    "        y = pred[:,0]\n",
    "        mse = (1/ len(x)) * np.sum((y - x)**2)\n",
    "        rmse = mt.sqrt(mse)\n",
    "       \n",
    "        x = x.reshape((-1, 1))\n",
    "        model = LinearRegression().fit(x, y)\n",
    "        r2 = model.score(x, y)\n",
    "        slope = model.coef_[0]\n",
    "        metrics = pd.DataFrame(data = {'R2': [r2], 'Slope': [slope], 'MSE': [mse], 'RMSE': [rmse]})\n",
    "    metrics.to_csv(os.path.join(curr_path, outdir, path_inference, cfgname.replace('.cfg','.stat')), sep = ' ', header = True, mode = 'w', decimal = '.', index = False)"
   ]
  },
  {
   "cell_type": "markdown",
   "id": "3db0af9f-4fd4-45b2-be4e-97233646c6a4",
   "metadata": {
    "tags": []
   },
   "source": [
    "## Leave One Group Out"
   ]
  },
  {
   "cell_type": "code",
   "execution_count": 79,
   "id": "f2e04a7d-1f15-4a51-ba3a-e37367ca400c",
   "metadata": {},
   "outputs": [],
   "source": [
    "from sklearn.model_selection import LeaveOneGroupOut\n",
    "from lightgbm import LGBMClassifier\n",
    "from sklearn.neighbors import KNeighborsClassifier\n",
    "from xgboost import XGBClassifier\n",
    "from sklearn.neural_network import MLPClassifier\n",
    "from sklearn.ensemble import RandomForestClassifier\n",
    "from sklearn.model_selection import cross_validate\n",
    "from sklearn.preprocessing import OrdinalEncoder\n",
    "from sklearn.metrics import accuracy_score, confusion_matrix, classification_report"
   ]
  },
  {
   "cell_type": "code",
   "execution_count": 94,
   "id": "e3bebae9-6f89-4e97-b457-0bcabe51edd3",
   "metadata": {},
   "outputs": [],
   "source": [
    "# Modelos PRO\n",
    "lgb_model = LGBMClassifier(learning_rate=0.1, num_leaves=512, min_child_samples=1, subsample=1.0, \n",
    "                           colsample_bytree=0.662, random_state=0, subsample_freq=1, n_estimators=100, n_jobs=-1)\n",
    "\n",
    "rf_model = RandomForestClassifier(n_estimators=200, max_features='sqrt', max_depth=None, \n",
    "                                  criterion='entropy', min_samples_split=10, min_samples_leaf=2 , bootstrap=True, random_state=0, n_jobs=-1)\n",
    "\n",
    "knn_model = KNeighborsClassifier(n_neighbors=37, weights='distance', leaf_size=20, p=1, n_jobs=-1)\n",
    "\n",
    "xgb_model = XGBClassifier(learning_rate=0.1, max_depth=16, min_child_weight=1, gamma=0.0, colsample_bytree=0.5370264280766771, use_label_encoder=False, random_state=0, n_jobs=-1)\n",
    "\n",
    "rn_model = MLPClassifier(hidden_layer_sizes=(20,30,30,20), activation=\"tanh\", learning_rate=\"adaptive\", random_state=0)\n",
    "\n",
    "models = [lgb_model, rf_model, knn_model, rn_model, xgb_model]"
   ]
  },
  {
   "cell_type": "code",
   "execution_count": 95,
   "id": "5d9e89d9-98e1-4bf7-babb-fd00e59b79c2",
   "metadata": {},
   "outputs": [],
   "source": [
    "models=[rn_model]"
   ]
  },
  {
   "cell_type": "code",
   "execution_count": 96,
   "id": "6169414b-6355-4f35-b611-370562857856",
   "metadata": {},
   "outputs": [],
   "source": [
    "caminho_dados_lazaro = 'Datasets/Lazaro/dados_pre_processados_lazaro.csv'"
   ]
  },
  {
   "cell_type": "code",
   "execution_count": 97,
   "id": "479a20b4-f68d-4797-84ea-f822c47f8f56",
   "metadata": {},
   "outputs": [],
   "source": [
    "df = pd.read_csv(caminho_dados_lazaro)"
   ]
  },
  {
   "cell_type": "code",
   "execution_count": 98,
   "id": "3f3e479d-cfd7-49fa-bcc9-8b67bedf7c40",
   "metadata": {},
   "outputs": [],
   "source": [
    "# Remove as linhas com o sensor 434138\n",
    "df = df[df.SensorID != 434138]"
   ]
  },
  {
   "cell_type": "code",
   "execution_count": 99,
   "id": "30a781ab-9d25-4cf2-9c48-cfa1942d0ad8",
   "metadata": {
    "tags": []
   },
   "outputs": [
    {
     "data": {
      "text/plain": [
       "Index(['Piquete', 'Altura real', 'Altura esperada', 'Animal', 'SensorID',\n",
       "       'Sensor Name', 'Date', 'X', 'Y', 'Z', 'Comportamento', 'Season_fall',\n",
       "       'Season_spring', 'Season_summer', 'magn', 'sma', 'ent', 'pit', 'rol',\n",
       "       'icl'],\n",
       "      dtype='object')"
      ]
     },
     "execution_count": 99,
     "metadata": {},
     "output_type": "execute_result"
    }
   ],
   "source": [
    "df.columns"
   ]
  },
  {
   "cell_type": "markdown",
   "id": "04f5dd30-af7c-4e85-a114-9019b19b2a85",
   "metadata": {
    "tags": []
   },
   "source": [
    "#### Divisão entre variáveis preditoras(X) e variáveis de resposta(y)"
   ]
  },
  {
   "cell_type": "code",
   "execution_count": 100,
   "id": "8feebfdd-cfce-45cf-b6d6-9f84cd17d564",
   "metadata": {
    "tags": []
   },
   "outputs": [
    {
     "data": {
      "text/plain": [
       "OrdinalEncoder()"
      ]
     },
     "execution_count": 100,
     "metadata": {},
     "output_type": "execute_result"
    }
   ],
   "source": [
    "y = df.Comportamento\n",
    "X = df[['X', 'Y' ,'Z', 'Season_fall', 'Season_spring', 'Season_summer', 'magn', 'sma', 'ent', 'pit', 'rol', 'icl']]\n",
    "\n",
    "enc = OrdinalEncoder()\n",
    "enc.fit(y.array.reshape(-1, 1))"
   ]
  },
  {
   "cell_type": "code",
   "execution_count": 10,
   "id": "14fa159a-78ef-44de-92b0-6fdcce256b3a",
   "metadata": {},
   "outputs": [],
   "source": [
    "# Conjunto de dados PNP: Pastejando x Não Pastejando\n",
    "y = y.replace(to_replace=['Ocio', 'Ruminando'], value='Não Pastejando')"
   ]
  },
  {
   "cell_type": "code",
   "execution_count": 101,
   "id": "ad043ff1-292d-4b33-bded-5819e3d77fff",
   "metadata": {},
   "outputs": [],
   "source": [
    "# Para reescalar os dados\n",
    "from sklearn.preprocessing import StandardScaler\n",
    "\n",
    "X_season = X[['Season_fall', 'Season_spring', 'Season_summer']]\n",
    "\n",
    "X = X.drop(['Season_fall', 'Season_spring', 'Season_summer'], axis=1)\n",
    "\n",
    "columns = X.columns\n",
    "index= X.index\n",
    "\n",
    "sc = StandardScaler()\n",
    "X = sc.fit_transform(X)\n",
    "\n",
    "X = pd.DataFrame(X, columns=columns, index=index)\n",
    "\n",
    "X = pd.concat([X, X_season], axis=1)"
   ]
  },
  {
   "cell_type": "markdown",
   "id": "03d58048-c01e-4f97-9108-571b721176ce",
   "metadata": {
    "tags": []
   },
   "source": [
    "#### Leave Fall Out"
   ]
  },
  {
   "cell_type": "code",
   "execution_count": 47,
   "id": "3ed08250-2087-4ddf-bdaa-3f3b2b964185",
   "metadata": {},
   "outputs": [],
   "source": [
    "df_test = df[df.Season_fall == 1]"
   ]
  },
  {
   "cell_type": "code",
   "execution_count": 48,
   "id": "886b47ee-5d41-4ac5-8b3d-f26eb6788be0",
   "metadata": {},
   "outputs": [],
   "source": [
    "df_train = df[df.Season_fall == 0]"
   ]
  },
  {
   "cell_type": "code",
   "execution_count": 49,
   "id": "5b7a0f30-8aa4-4941-aca7-ebf89235e425",
   "metadata": {},
   "outputs": [],
   "source": [
    "X_train = df_train[['X', 'Y' ,'Z', 'Season_fall', 'Season_spring', 'Season_summer', 'magn', 'sma', 'ent', 'pit', 'rol', 'icl']]\n",
    "y_train = df_train.Comportamento\n",
    "X_test = df_test[['X', 'Y' ,'Z', 'Season_fall', 'Season_spring', 'Season_summer', 'magn', 'sma', 'ent', 'pit', 'rol', 'icl']]\n",
    "y_test = df_test.Comportamento"
   ]
  },
  {
   "cell_type": "code",
   "execution_count": 37,
   "id": "d16e4ca4-9091-439d-88f9-9a30101fe705",
   "metadata": {},
   "outputs": [
    {
     "name": "stdout",
     "output_type": "stream",
     "text": [
      "MLPClassifier(activation='tanh', hidden_layer_sizes=(20, 30, 30, 20),\n",
      "              learning_rate='adaptive', random_state=0)\n"
     ]
    },
    {
     "name": "stderr",
     "output_type": "stream",
     "text": [
      "/home/caio/anaconda3/lib/python3.9/site-packages/sklearn/neural_network/_multilayer_perceptron.py:692: ConvergenceWarning: Stochastic Optimizer: Maximum iterations (200) reached and the optimization hasn't converged yet.\n",
      "  warnings.warn(\n"
     ]
    },
    {
     "name": "stdout",
     "output_type": "stream",
     "text": [
      "Acurácia teste:  56.36885408929101\n",
      "              precision    recall  f1-score   support\n",
      "\n",
      "        Ocio      0.267     0.076     0.118     41581\n",
      "  Pastejando      0.601     0.895     0.719    146629\n",
      "   Ruminando      0.274     0.076     0.119     58153\n",
      "\n",
      "    accuracy                          0.564    246363\n",
      "   macro avg      0.381     0.349     0.319    246363\n",
      "weighted avg      0.468     0.564     0.476    246363\n",
      "\n"
     ]
    },
    {
     "data": {
      "image/png": "[encoded data removed]",
      "text/plain": [
       "<Figure size 432x288 with 1 Axes>"
      ]
     },
     "metadata": {
      "needs_background": "light"
     },
     "output_type": "display_data"
    },
    {
     "name": "stdout",
     "output_type": "stream",
     "text": [
      "Acurácia treino:  66.66869926022834\n",
      "              precision    recall  f1-score   support\n",
      "\n",
      "        Ocio      0.559     0.281     0.374     81676\n",
      "  Pastejando      0.706     0.860     0.775    185883\n",
      "   Ruminando      0.619     0.620     0.619     93228\n",
      "\n",
      "    accuracy                          0.667    360787\n",
      "   macro avg      0.628     0.587     0.589    360787\n",
      "weighted avg      0.650     0.667     0.644    360787\n",
      "\n"
     ]
    }
   ],
   "source": [
    "treinar_e_roportar(models, X_train, y_train, X_test, y_test)   "
   ]
  },
  {
   "cell_type": "markdown",
   "id": "ae039637-cfb5-4193-a879-1ff53e78869f",
   "metadata": {
    "tags": []
   },
   "source": [
    "#### Leave Height Out 10 cm"
   ]
  },
  {
   "cell_type": "code",
   "execution_count": 38,
   "id": "be79c6bb-4446-4b0e-805e-46c2440ebb29",
   "metadata": {},
   "outputs": [],
   "source": [
    "df_test = df[df['Altura esperada'] == 10.0]"
   ]
  },
  {
   "cell_type": "code",
   "execution_count": 39,
   "id": "9f34eb87-ca16-40bb-b203-96999ecdf3ff",
   "metadata": {},
   "outputs": [],
   "source": [
    "df_train = df[df['Altura esperada'] != 10.0]"
   ]
  },
  {
   "cell_type": "code",
   "execution_count": 40,
   "id": "4e8864b7-a6ec-47f5-8025-152e8bd38e74",
   "metadata": {},
   "outputs": [],
   "source": [
    "X_train = df_train[['X', 'Y' ,'Z', 'Season_fall', 'Season_spring', 'Season_summer', 'magn', 'sma', 'ent', 'pit', 'rol', 'icl']]\n",
    "y_train = df_train.Comportamento\n",
    "X_test = df_test[['X', 'Y' ,'Z', 'Season_fall', 'Season_spring', 'Season_summer', 'magn', 'sma', 'ent', 'pit', 'rol', 'icl']]\n",
    "y_test = df_test.Comportamento"
   ]
  },
  {
   "cell_type": "code",
   "execution_count": 41,
   "id": "0a3c86c8-4757-4bca-9758-45eac0609893",
   "metadata": {},
   "outputs": [
    {
     "name": "stdout",
     "output_type": "stream",
     "text": [
      "MLPClassifier(activation='tanh', hidden_layer_sizes=(20, 30, 30, 20),\n",
      "              learning_rate='adaptive', random_state=0)\n",
      "Acurácia teste:  50.8109530976856\n",
      "              precision    recall  f1-score   support\n",
      "\n",
      "        Ocio      0.292     0.081     0.127     40651\n",
      "  Pastejando      0.582     0.805     0.676     83076\n",
      "   Ruminando      0.231     0.208     0.219     24432\n",
      "\n",
      "    accuracy                          0.508    148159\n",
      "   macro avg      0.369     0.365     0.341    148159\n",
      "weighted avg      0.445     0.508     0.450    148159\n",
      "\n"
     ]
    },
    {
     "data": {
      "image/png": "[encoded data removed]",
      "text/plain": [
       "<Figure size 432x288 with 1 Axes>"
      ]
     },
     "metadata": {
      "needs_background": "light"
     },
     "output_type": "display_data"
    },
    {
     "name": "stdout",
     "output_type": "stream",
     "text": [
      "Acurácia treino:  70.99333102391986\n",
      "              precision    recall  f1-score   support\n",
      "\n",
      "        Ocio      0.541     0.257     0.348     82606\n",
      "  Pastejando      0.767     0.864     0.813    249436\n",
      "   Ruminando      0.643     0.701     0.671    126949\n",
      "\n",
      "    accuracy                          0.710    458991\n",
      "   macro avg      0.650     0.607     0.610    458991\n",
      "weighted avg      0.692     0.710     0.690    458991\n",
      "\n"
     ]
    }
   ],
   "source": [
    "treinar_e_roportar(models, X_train, y_train, X_test, y_test) "
   ]
  },
  {
   "cell_type": "markdown",
   "id": "af9e8625-ab56-41f5-bb9a-fb855b40fbbb",
   "metadata": {
    "tags": []
   },
   "source": [
    "#### Leave Animals Out"
   ]
  },
  {
   "cell_type": "code",
   "execution_count": 102,
   "id": "a2f7461c-5fd4-4706-8dce-551224208705",
   "metadata": {},
   "outputs": [
    {
     "data": {
      "text/plain": [
       "95     119449\n",
       "81     113724\n",
       "84     110268\n",
       "93      98043\n",
       "21      58809\n",
       "22      58734\n",
       "90      47549\n",
       "105       574\n",
       "Name: Animal, dtype: int64"
      ]
     },
     "execution_count": 102,
     "metadata": {},
     "output_type": "execute_result"
    }
   ],
   "source": [
    "df.Animal.value_counts()"
   ]
  },
  {
   "cell_type": "code",
   "execution_count": 103,
   "id": "1b23d19c-7d40-443e-86fa-9cd94494392b",
   "metadata": {},
   "outputs": [],
   "source": [
    "df_test = df.loc[df['Animal'].isin([84, 93])]"
   ]
  },
  {
   "cell_type": "code",
   "execution_count": 104,
   "id": "703927c5-0478-46d7-9b77-1187008a2801",
   "metadata": {},
   "outputs": [
    {
     "data": {
      "text/plain": [
       "84    110268\n",
       "93     98043\n",
       "Name: Animal, dtype: int64"
      ]
     },
     "execution_count": 104,
     "metadata": {},
     "output_type": "execute_result"
    }
   ],
   "source": [
    "df_test.Animal.value_counts()"
   ]
  },
  {
   "cell_type": "code",
   "execution_count": 105,
   "id": "a2c91bf1-a175-485e-99c2-fd054f7bf2fa",
   "metadata": {},
   "outputs": [],
   "source": [
    "df_train = df.loc[~df['Animal'].isin([84, 93])]"
   ]
  },
  {
   "cell_type": "code",
   "execution_count": 106,
   "id": "7795e841-ec63-4ca8-abe5-9f477387a661",
   "metadata": {},
   "outputs": [
    {
     "data": {
      "text/plain": [
       "95     119449\n",
       "81     113724\n",
       "21      58809\n",
       "22      58734\n",
       "90      47549\n",
       "105       574\n",
       "Name: Animal, dtype: int64"
      ]
     },
     "execution_count": 106,
     "metadata": {},
     "output_type": "execute_result"
    }
   ],
   "source": [
    "df_train.Animal.value_counts()"
   ]
  },
  {
   "cell_type": "code",
   "execution_count": 107,
   "id": "efab2afa-c713-45cb-b746-6c70384d7a6f",
   "metadata": {},
   "outputs": [],
   "source": [
    "X_train = df_train[['X', 'Y' ,'Z', 'Season_fall', 'Season_spring', 'Season_summer', 'magn', 'sma', 'ent', 'pit', 'rol', 'icl']]\n",
    "y_train = df_train.Comportamento\n",
    "X_test = df_test[['X', 'Y' ,'Z', 'Season_fall', 'Season_spring', 'Season_summer', 'magn', 'sma', 'ent', 'pit', 'rol', 'icl']]\n",
    "y_test = df_test.Comportamento"
   ]
  },
  {
   "cell_type": "code",
   "execution_count": 93,
   "id": "10aae80c-db5b-4382-8734-9800f4367ae6",
   "metadata": {},
   "outputs": [
    {
     "name": "stdout",
     "output_type": "stream",
     "text": [
      "LGBMClassifier(colsample_bytree=0.662, min_child_samples=1, num_leaves=512,\n",
      "               random_state=0, subsample_freq=1)\n",
      "Acurácia teste:  52.925673632213375\n",
      "              precision    recall  f1-score   support\n",
      "\n",
      "        Ocio      0.286     0.148     0.195     37531\n",
      "  Pastejando      0.590     0.842     0.694    114197\n",
      "   Ruminando      0.328     0.151     0.206     56583\n",
      "\n",
      "    accuracy                          0.529    208311\n",
      "   macro avg      0.401     0.380     0.365    208311\n",
      "weighted avg      0.464     0.529     0.472    208311\n",
      "\n"
     ]
    },
    {
     "data": {
      "image/png": "[encoded data removed]",
      "text/plain": [
       "<Figure size 432x288 with 1 Axes>"
      ]
     },
     "metadata": {
      "needs_background": "light"
     },
     "output_type": "display_data"
    },
    {
     "name": "stdout",
     "output_type": "stream",
     "text": [
      "Acurácia treino:  79.1229042295262\n",
      "              precision    recall  f1-score   support\n",
      "\n",
      "        Ocio      0.770     0.513     0.616     85726\n",
      "  Pastejando      0.806     0.927     0.862    218315\n",
      "   Ruminando      0.762     0.731     0.746     94798\n",
      "\n",
      "    accuracy                          0.791    398839\n",
      "   macro avg      0.780     0.723     0.741    398839\n",
      "weighted avg      0.788     0.791     0.782    398839\n",
      "\n",
      "RandomForestClassifier(criterion='entropy', max_features='sqrt',\n",
      "                       min_samples_leaf=2, min_samples_split=10,\n",
      "                       n_estimators=200, n_jobs=-1, random_state=0)\n",
      "Acurácia teste:  52.07406233948279\n",
      "              precision    recall  f1-score   support\n",
      "\n",
      "        Ocio      0.264     0.142     0.185     37531\n",
      "  Pastejando      0.585     0.835     0.688    114197\n",
      "   Ruminando      0.312     0.138     0.191     56583\n",
      "\n",
      "    accuracy                          0.521    208311\n",
      "   macro avg      0.387     0.372     0.355    208311\n",
      "weighted avg      0.453     0.521     0.462    208311\n",
      "\n"
     ]
    },
    {
     "data": {
      "image/png": "[encoded data removed]",
      "text/plain": [
       "<Figure size 432x288 with 1 Axes>"
      ]
     },
     "metadata": {
      "needs_background": "light"
     },
     "output_type": "display_data"
    },
    {
     "name": "stdout",
     "output_type": "stream",
     "text": [
      "Acurácia treino:  89.7580226607729\n",
      "              precision    recall  f1-score   support\n",
      "\n",
      "        Ocio      0.926     0.762     0.836     85726\n",
      "  Pastejando      0.890     0.969     0.928    218315\n",
      "   Ruminando      0.895     0.857     0.875     94798\n",
      "\n",
      "    accuracy                          0.898    398839\n",
      "   macro avg      0.904     0.862     0.880    398839\n",
      "weighted avg      0.899     0.898     0.896    398839\n",
      "\n",
      "KNeighborsClassifier(leaf_size=20, n_jobs=-1, n_neighbors=37, p=1,\n",
      "                     weights='distance')\n",
      "Acurácia teste:  48.917723980010656\n",
      "              precision    recall  f1-score   support\n",
      "\n",
      "        Ocio      0.225     0.130     0.165     37531\n",
      "  Pastejando      0.569     0.763     0.652    114197\n",
      "   Ruminando      0.294     0.175     0.219     56583\n",
      "\n",
      "    accuracy                          0.489    208311\n",
      "   macro avg      0.363     0.356     0.345    208311\n",
      "weighted avg      0.433     0.489     0.447    208311\n",
      "\n"
     ]
    },
    {
     "data": {
      "image/png": "[encoded data removed]",
      "text/plain": [
       "<Figure size 432x288 with 1 Axes>"
      ]
     },
     "metadata": {
      "needs_background": "light"
     },
     "output_type": "display_data"
    },
    {
     "name": "stdout",
     "output_type": "stream",
     "text": [
      "Acurácia treino:  99.9882157963489\n",
      "              precision    recall  f1-score   support\n",
      "\n",
      "        Ocio      1.000     1.000     1.000     85726\n",
      "  Pastejando      1.000     1.000     1.000    218315\n",
      "   Ruminando      1.000     1.000     1.000     94798\n",
      "\n",
      "    accuracy                          1.000    398839\n",
      "   macro avg      1.000     1.000     1.000    398839\n",
      "weighted avg      1.000     1.000     1.000    398839\n",
      "\n",
      "XGBClassifier(base_score=None, booster=None, colsample_bylevel=None,\n",
      "              colsample_bynode=None, colsample_bytree=0.5370264280766771,\n",
      "              enable_categorical=False, gamma=0.0, gpu_id=None,\n",
      "              importance_type=None, interaction_constraints=None,\n",
      "              learning_rate=0.1, max_delta_step=None, max_depth=16,\n",
      "              min_child_weight=1, missing=nan, monotone_constraints=None,\n",
      "              n_estimators=100, n_jobs=-1, num_parallel_tree=None,\n",
      "              predictor=None, random_state=0, reg_alpha=None, reg_lambda=None,\n",
      "              scale_pos_weight=None, subsample=None, tree_method=None,\n",
      "              use_label_encoder=False, validate_parameters=None,\n",
      "              verbosity=None)\n",
      "[15:36:30] WARNING: ../src/learner.cc:1115: Starting in XGBoost 1.3.0, the default evaluation metric used with the objective 'multi:softprob' was changed from 'merror' to 'mlogloss'. Explicitly set eval_metric if you'd like to restore the old behavior.\n",
      "Acurácia teste:  52.90023090475299\n",
      "              precision    recall  f1-score   support\n",
      "\n",
      "         0.0      0.281     0.141     0.188     37531\n",
      "         1.0      0.588     0.846     0.694    114197\n",
      "         2.0      0.328     0.146     0.202     56583\n",
      "\n",
      "    accuracy                          0.529    208311\n",
      "   macro avg      0.399     0.378     0.361    208311\n",
      "weighted avg      0.462     0.529     0.469    208311\n",
      "\n"
     ]
    },
    {
     "data": {
      "image/png": "[encoded data removed]",
      "text/plain": [
       "<Figure size 432x288 with 1 Axes>"
      ]
     },
     "metadata": {
      "needs_background": "light"
     },
     "output_type": "display_data"
    },
    {
     "name": "stdout",
     "output_type": "stream",
     "text": [
      "Acurácia treino:  92.85225366626634\n",
      "              precision    recall  f1-score   support\n",
      "\n",
      "         0.0      0.956     0.812     0.878     85726\n",
      "         1.0      0.927     0.976     0.951    218315\n",
      "         2.0      0.911     0.923     0.917     94798\n",
      "\n",
      "    accuracy                          0.929    398839\n",
      "   macro avg      0.932     0.904     0.916    398839\n",
      "weighted avg      0.930     0.929     0.927    398839\n",
      "\n",
      "MLPClassifier(activation='tanh', hidden_layer_sizes=(20, 30, 30, 20),\n",
      "              learning_rate='adaptive', random_state=0)\n"
     ]
    },
    {
     "name": "stderr",
     "output_type": "stream",
     "text": [
      "/home/caio/anaconda3/lib/python3.9/site-packages/sklearn/neural_network/_multilayer_perceptron.py:1109: DataConversionWarning: A column-vector y was passed when a 1d array was expected. Please change the shape of y to (n_samples, ), for example using ravel().\n",
      "  y = column_or_1d(y, warn=True)\n"
     ]
    },
    {
     "name": "stdout",
     "output_type": "stream",
     "text": [
      "Acurácia teste:  49.49042537360005\n",
      "              precision    recall  f1-score   support\n",
      "\n",
      "         0.0      0.262     0.126     0.170     37531\n",
      "         1.0      0.561     0.798     0.659    114197\n",
      "         2.0      0.260     0.127     0.171     56583\n",
      "\n",
      "    accuracy                          0.495    208311\n",
      "   macro avg      0.361     0.351     0.333    208311\n",
      "weighted avg      0.425     0.495     0.438    208311\n",
      "\n"
     ]
    },
    {
     "data": {
      "image/png": "[encoded data removed]",
      "text/plain": [
       "<Figure size 432x288 with 1 Axes>"
      ]
     },
     "metadata": {
      "needs_background": "light"
     },
     "output_type": "display_data"
    },
    {
     "name": "stdout",
     "output_type": "stream",
     "text": [
      "Acurácia treino:  69.9129222568505\n",
      "              precision    recall  f1-score   support\n",
      "\n",
      "         0.0      0.566     0.309     0.400     85726\n",
      "         1.0      0.746     0.881     0.808    218315\n",
      "         2.0      0.636     0.634     0.635     94798\n",
      "\n",
      "    accuracy                          0.699    398839\n",
      "   macro avg      0.650     0.608     0.614    398839\n",
      "weighted avg      0.681     0.699     0.679    398839\n",
      "\n"
     ]
    }
   ],
   "source": [
    "treinar_e_roportar(models, X_train, y_train, X_test, y_test)"
   ]
  },
  {
   "cell_type": "code",
   "execution_count": null,
   "id": "7a2a6dc6-9816-4a6f-808e-d6f2898554d3",
   "metadata": {},
   "outputs": [],
   "source": []
  }
 ],
 "metadata": {
  "kernelspec": {
   "display_name": "Python 3 (ipykernel)",
   "language": "python",
   "name": "python3"
  },
  "language_info": {
   "codemirror_mode": {
    "name": "ipython",
    "version": 3
   },
   "file_extension": ".py",
   "mimetype": "text/x-python",
   "name": "python",
   "nbconvert_exporter": "python",
   "pygments_lexer": "ipython3",
   "version": "3.9.7"
  }
 },
 "nbformat": 4,
 "nbformat_minor": 5
}
